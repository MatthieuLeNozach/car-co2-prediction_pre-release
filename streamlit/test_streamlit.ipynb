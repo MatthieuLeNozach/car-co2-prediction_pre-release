{
 "cells": [
  {
   "cell_type": "code",
   "execution_count": 2,
   "metadata": {},
   "outputs": [],
   "source": [
    "import streamlit as st\n",
    "import pandas as pd\n",
    "import numpy as np\n",
    "import matplotlib.pyplot as plt\n",
    "import seaborn as sns\n",
    "import intro\n",
    "import dataviz\n",
    "import model\n",
    "import demo\n",
    "import conclusion\n",
    "import exemple\n",
    "import accueil"
   ]
  },
  {
   "cell_type": "code",
   "execution_count": 3,
   "metadata": {},
   "outputs": [],
   "source": [
    "# Definition des chemins et noms \n",
    "file_path = './data/'     \n",
    "file_name_no_dummies = \"c02_non_dummies_reduit_2e5.pkl\"      # pour affichage avant dummies         \n",
    "file_name_preprocessed = \"c02_reduit_2e5.pkl\"               # apres Nbook preprocess"
   ]
  },
  {
   "cell_type": "code",
   "execution_count": 4,
   "metadata": {},
   "outputs": [],
   "source": [
    "def load_data(file_name):\n",
    "    data = pd.read_pickle(file_path + file_name)\n",
    "    return data"
   ]
  },
  {
   "cell_type": "code",
   "execution_count": 7,
   "metadata": {},
   "outputs": [],
   "source": [
    "\n",
    "df = load_data(file_name = file_name_preprocessed)\n",
    "df_no_dum = load_data(file_name = file_name_no_dummies)"
   ]
  },
  {
   "cell_type": "code",
   "execution_count": 11,
   "metadata": {},
   "outputs": [
    {
     "data": {
      "text/plain": [
       "['Pool',\n",
       " 'CategoryOf',\n",
       " 'MassRunningOrder',\n",
       " 'Co2',\n",
       " 'FuelType',\n",
       " 'EngineCapacity',\n",
       " 'EnginePower',\n",
       " 'InnovativeTechnology',\n",
       " 'InnovativeEmissionsReductionWltp',\n",
       " 'ElectricRange',\n",
       " 'Co2Grade',\n",
       " 'Toutes']"
      ]
     },
     "execution_count": 11,
     "metadata": {},
     "output_type": "execute_result"
    }
   ],
   "source": [
    "list(df_no_dum.columns)+['Toutes']"
   ]
  }
 ],
 "metadata": {
  "kernelspec": {
   "display_name": "env_ML",
   "language": "python",
   "name": "python3"
  },
  "language_info": {
   "codemirror_mode": {
    "name": "ipython",
    "version": 3
   },
   "file_extension": ".py",
   "mimetype": "text/x-python",
   "name": "python",
   "nbconvert_exporter": "python",
   "pygments_lexer": "ipython3",
   "version": "3.9.18"
  }
 },
 "nbformat": 4,
 "nbformat_minor": 2
}

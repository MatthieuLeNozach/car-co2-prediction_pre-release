{
 "cells": [
  {
   "cell_type": "code",
   "execution_count": 1,
   "metadata": {},
   "outputs": [
    {
     "name": "stdout",
     "output_type": "stream",
     "text": [
      "Warning: Your Kaggle API key is readable by other users on this system! To fix this, you can run 'chmod 600 /home/mln/.kaggle/kaggle.json'\n"
     ]
    },
    {
     "data": {
      "text/plain": [
       "<module 'auto_co2' from '/home/mln/GIT/car-co2-prediction_pre-release/src/auto_co2/__init__.py'>"
      ]
     },
     "execution_count": 1,
     "metadata": {},
     "output_type": "execute_result"
    }
   ],
   "source": [
    "import pandas as pd\n",
    "import kaggle\n",
    "import auto_co2 as co2\n",
    "import importlib\n",
    "importlib.reload(co2)"
   ]
  },
  {
   "cell_type": "code",
   "execution_count": null,
   "metadata": {},
   "outputs": [],
   "source": [
    "\n",
    "\n",
    "auth_file_path = '/home/mln/.kaggle/kaggle.json'\n",
    "filename = 'test.csv'  # replace with the actual name of the csv file in the zip\n",
    "\n",
    "df = co2.download_and_load_co2_data(auth_file_path)\n",
    "df.head()"
   ]
  },
  {
   "cell_type": "markdown",
   "metadata": {},
   "source": [
    "df = co2.data.load_co2_data()\n",
    "df = co2.data.convert_dtypes(df)"
   ]
  },
  {
   "cell_type": "markdown",
   "metadata": {},
   "source": [
    "sample = df.sample(1000)\n",
    "sample.to_csv('data/sample.csv', index=False)"
   ]
  },
  {
   "cell_type": "code",
   "execution_count": 2,
   "metadata": {},
   "outputs": [],
   "source": [
    "df = pd.read_csv('data/sample.csv')"
   ]
  },
  {
   "cell_type": "markdown",
   "metadata": {},
   "source": [
    "df = co2.data.select_countries(df, ['DK', 'NL', 'LU', 'BE'])"
   ]
  },
  {
   "cell_type": "code",
   "execution_count": 3,
   "metadata": {},
   "outputs": [
    {
     "data": {
      "text/html": [
       "<style type=\"text/css\">\n",
       "#T_73755 th {\n",
       "  background-color: steelblue;\n",
       "  color: white;\n",
       "}\n",
       "#T_73755 tr:nth-of-type(odd) {\n",
       "  background-color: aliceblue;\n",
       "}\n",
       "#T_73755 tr:nth-of-type(even) {\n",
       "  background-color: white;\n",
       "}\n",
       "</style>\n",
       "<table id=\"T_73755\">\n",
       "  <thead>\n",
       "    <tr>\n",
       "      <th class=\"blank level0\" >&nbsp;</th>\n",
       "      <th id=\"T_73755_level0_col0\" class=\"col_heading level0 col0\" >ID</th>\n",
       "      <th id=\"T_73755_level0_col1\" class=\"col_heading level0 col1\" >Country</th>\n",
       "      <th id=\"T_73755_level0_col2\" class=\"col_heading level0 col2\" >VehicleFamilyIdentification</th>\n",
       "      <th id=\"T_73755_level0_col3\" class=\"col_heading level0 col3\" >Pool</th>\n",
       "      <th id=\"T_73755_level0_col4\" class=\"col_heading level0 col4\" >ManufacturerName</th>\n",
       "      <th id=\"T_73755_level0_col5\" class=\"col_heading level0 col5\" >ManufNameOem</th>\n",
       "      <th id=\"T_73755_level0_col6\" class=\"col_heading level0 col6\" >ManufNameMS</th>\n",
       "      <th id=\"T_73755_level0_col7\" class=\"col_heading level0 col7\" >TypeApprovalNumber</th>\n",
       "      <th id=\"T_73755_level0_col8\" class=\"col_heading level0 col8\" >Type</th>\n",
       "      <th id=\"T_73755_level0_col9\" class=\"col_heading level0 col9\" >Variant</th>\n",
       "      <th id=\"T_73755_level0_col10\" class=\"col_heading level0 col10\" >Version</th>\n",
       "      <th id=\"T_73755_level0_col11\" class=\"col_heading level0 col11\" >Make</th>\n",
       "      <th id=\"T_73755_level0_col12\" class=\"col_heading level0 col12\" >CommercialName</th>\n",
       "      <th id=\"T_73755_level0_col13\" class=\"col_heading level0 col13\" >VehicleCategory</th>\n",
       "      <th id=\"T_73755_level0_col14\" class=\"col_heading level0 col14\" >CategoryOf</th>\n",
       "      <th id=\"T_73755_level0_col15\" class=\"col_heading level0 col15\" >TotalNewRegistrations</th>\n",
       "      <th id=\"T_73755_level0_col16\" class=\"col_heading level0 col16\" >MassRunningOrder</th>\n",
       "      <th id=\"T_73755_level0_col17\" class=\"col_heading level0 col17\" >WltpTestMass</th>\n",
       "      <th id=\"T_73755_level0_col18\" class=\"col_heading level0 col18\" >Co2EmissionsNedc</th>\n",
       "      <th id=\"T_73755_level0_col19\" class=\"col_heading level0 col19\" >Co2EmissionsWltp</th>\n",
       "      <th id=\"T_73755_level0_col20\" class=\"col_heading level0 col20\" >BaseWheel</th>\n",
       "      <th id=\"T_73755_level0_col21\" class=\"col_heading level0 col21\" >AxleWidthSteering</th>\n",
       "      <th id=\"T_73755_level0_col22\" class=\"col_heading level0 col22\" >AxleWidthOther</th>\n",
       "      <th id=\"T_73755_level0_col23\" class=\"col_heading level0 col23\" >FuelType</th>\n",
       "      <th id=\"T_73755_level0_col24\" class=\"col_heading level0 col24\" >FuelMode</th>\n",
       "      <th id=\"T_73755_level0_col25\" class=\"col_heading level0 col25\" >EngineCapacity</th>\n",
       "      <th id=\"T_73755_level0_col26\" class=\"col_heading level0 col26\" >EnginePower</th>\n",
       "      <th id=\"T_73755_level0_col27\" class=\"col_heading level0 col27\" >ElectricConsumption</th>\n",
       "      <th id=\"T_73755_level0_col28\" class=\"col_heading level0 col28\" >InnovativeTechnology</th>\n",
       "      <th id=\"T_73755_level0_col29\" class=\"col_heading level0 col29\" >InnovativeEmissionsReduction</th>\n",
       "      <th id=\"T_73755_level0_col30\" class=\"col_heading level0 col30\" >InnovativeEmissionsReductionWltp</th>\n",
       "      <th id=\"T_73755_level0_col31\" class=\"col_heading level0 col31\" >DeviationFactor</th>\n",
       "      <th id=\"T_73755_level0_col32\" class=\"col_heading level0 col32\" >VerificationFactor</th>\n",
       "      <th id=\"T_73755_level0_col33\" class=\"col_heading level0 col33\" >Status</th>\n",
       "      <th id=\"T_73755_level0_col34\" class=\"col_heading level0 col34\" >RegistrationYear</th>\n",
       "      <th id=\"T_73755_level0_col35\" class=\"col_heading level0 col35\" >RegistrationDate</th>\n",
       "      <th id=\"T_73755_level0_col36\" class=\"col_heading level0 col36\" >FuelConsumption</th>\n",
       "      <th id=\"T_73755_level0_col37\" class=\"col_heading level0 col37\" >ElectricRange</th>\n",
       "    </tr>\n",
       "  </thead>\n",
       "  <tbody>\n",
       "    <tr>\n",
       "      <th id=\"T_73755_level0_row0\" class=\"row_heading level0 row0\" >0</th>\n",
       "      <td id=\"T_73755_row0_col0\" class=\"data row0 col0\" >57524960</td>\n",
       "      <td id=\"T_73755_row0_col1\" class=\"data row0 col1\" >NL</td>\n",
       "      <td id=\"T_73755_row0_col2\" class=\"data row0 col2\" >IP-2019_536L4D-YV1-1</td>\n",
       "      <td id=\"T_73755_row0_col3\" class=\"data row0 col3\" >nan</td>\n",
       "      <td id=\"T_73755_row0_col4\" class=\"data row0 col4\" >VOLVO</td>\n",
       "      <td id=\"T_73755_row0_col5\" class=\"data row0 col5\" >VOLVO CAR CORPORATION</td>\n",
       "      <td id=\"T_73755_row0_col6\" class=\"data row0 col6\" >nan</td>\n",
       "      <td id=\"T_73755_row0_col7\" class=\"data row0 col7\" >E9*2007/46*3146*12</td>\n",
       "      <td id=\"T_73755_row0_col8\" class=\"data row0 col8\" >X</td>\n",
       "      <td id=\"T_73755_row0_col9\" class=\"data row0 col9\" >XZL4</td>\n",
       "      <td id=\"T_73755_row0_col10\" class=\"data row0 col10\" >XZL4VD0?</td>\n",
       "      <td id=\"T_73755_row0_col11\" class=\"data row0 col11\" >VOLVO</td>\n",
       "      <td id=\"T_73755_row0_col12\" class=\"data row0 col12\" >XC40</td>\n",
       "      <td id=\"T_73755_row0_col13\" class=\"data row0 col13\" >M1</td>\n",
       "      <td id=\"T_73755_row0_col14\" class=\"data row0 col14\" >M1</td>\n",
       "      <td id=\"T_73755_row0_col15\" class=\"data row0 col15\" >1</td>\n",
       "      <td id=\"T_73755_row0_col16\" class=\"data row0 col16\" >1625.000</td>\n",
       "      <td id=\"T_73755_row0_col17\" class=\"data row0 col17\" >1770.000</td>\n",
       "      <td id=\"T_73755_row0_col18\" class=\"data row0 col18\" >nan</td>\n",
       "      <td id=\"T_73755_row0_col19\" class=\"data row0 col19\" >168.000</td>\n",
       "      <td id=\"T_73755_row0_col20\" class=\"data row0 col20\" >2700.000</td>\n",
       "      <td id=\"T_73755_row0_col21\" class=\"data row0 col21\" >1600.000</td>\n",
       "      <td id=\"T_73755_row0_col22\" class=\"data row0 col22\" >1630.000</td>\n",
       "      <td id=\"T_73755_row0_col23\" class=\"data row0 col23\" >PETROL</td>\n",
       "      <td id=\"T_73755_row0_col24\" class=\"data row0 col24\" >M</td>\n",
       "      <td id=\"T_73755_row0_col25\" class=\"data row0 col25\" >1477.000</td>\n",
       "      <td id=\"T_73755_row0_col26\" class=\"data row0 col26\" >95.000</td>\n",
       "      <td id=\"T_73755_row0_col27\" class=\"data row0 col27\" >nan</td>\n",
       "      <td id=\"T_73755_row0_col28\" class=\"data row0 col28\" >nan</td>\n",
       "      <td id=\"T_73755_row0_col29\" class=\"data row0 col29\" >nan</td>\n",
       "      <td id=\"T_73755_row0_col30\" class=\"data row0 col30\" >nan</td>\n",
       "      <td id=\"T_73755_row0_col31\" class=\"data row0 col31\" >nan</td>\n",
       "      <td id=\"T_73755_row0_col32\" class=\"data row0 col32\" >nan</td>\n",
       "      <td id=\"T_73755_row0_col33\" class=\"data row0 col33\" >P</td>\n",
       "      <td id=\"T_73755_row0_col34\" class=\"data row0 col34\" >2021</td>\n",
       "      <td id=\"T_73755_row0_col35\" class=\"data row0 col35\" >nan</td>\n",
       "      <td id=\"T_73755_row0_col36\" class=\"data row0 col36\" >nan</td>\n",
       "      <td id=\"T_73755_row0_col37\" class=\"data row0 col37\" >nan</td>\n",
       "    </tr>\n",
       "    <tr>\n",
       "      <th id=\"T_73755_level0_row1\" class=\"row_heading level0 row1\" >1</th>\n",
       "      <td id=\"T_73755_row1_col0\" class=\"data row1 col0\" >57353112</td>\n",
       "      <td id=\"T_73755_row1_col1\" class=\"data row1 col1\" >NL</td>\n",
       "      <td id=\"T_73755_row1_col2\" class=\"data row1 col2\" >IP-HNP____MB6F2427-VF3-0</td>\n",
       "      <td id=\"T_73755_row1_col3\" class=\"data row1 col3\" >STELLANTIS</td>\n",
       "      <td id=\"T_73755_row1_col4\" class=\"data row1 col4\" >AUTOMOBILES PEUGEOT</td>\n",
       "      <td id=\"T_73755_row1_col5\" class=\"data row1 col5\" >AUTOMOBILES PEUGEOT</td>\n",
       "      <td id=\"T_73755_row1_col6\" class=\"data row1 col6\" >nan</td>\n",
       "      <td id=\"T_73755_row1_col7\" class=\"data row1 col7\" >E2*2007/46*0405*31</td>\n",
       "      <td id=\"T_73755_row1_col8\" class=\"data row1 col8\" >L</td>\n",
       "      <td id=\"T_73755_row1_col9\" class=\"data row1 col9\" >P</td>\n",
       "      <td id=\"T_73755_row1_col10\" class=\"data row1 col10\" >HNPJ-C12A00</td>\n",
       "      <td id=\"T_73755_row1_col11\" class=\"data row1 col11\" >PEUGEOT</td>\n",
       "      <td id=\"T_73755_row1_col12\" class=\"data row1 col12\" >308</td>\n",
       "      <td id=\"T_73755_row1_col13\" class=\"data row1 col13\" >M1</td>\n",
       "      <td id=\"T_73755_row1_col14\" class=\"data row1 col14\" >M1</td>\n",
       "      <td id=\"T_73755_row1_col15\" class=\"data row1 col15\" >1</td>\n",
       "      <td id=\"T_73755_row1_col16\" class=\"data row1 col16\" >1278.000</td>\n",
       "      <td id=\"T_73755_row1_col17\" class=\"data row1 col17\" >1423.000</td>\n",
       "      <td id=\"T_73755_row1_col18\" class=\"data row1 col18\" >nan</td>\n",
       "      <td id=\"T_73755_row1_col19\" class=\"data row1 col19\" >124.000</td>\n",
       "      <td id=\"T_73755_row1_col20\" class=\"data row1 col20\" >2620.000</td>\n",
       "      <td id=\"T_73755_row1_col21\" class=\"data row1 col21\" >1560.000</td>\n",
       "      <td id=\"T_73755_row1_col22\" class=\"data row1 col22\" >1560.000</td>\n",
       "      <td id=\"T_73755_row1_col23\" class=\"data row1 col23\" >PETROL</td>\n",
       "      <td id=\"T_73755_row1_col24\" class=\"data row1 col24\" >M</td>\n",
       "      <td id=\"T_73755_row1_col25\" class=\"data row1 col25\" >1199.000</td>\n",
       "      <td id=\"T_73755_row1_col26\" class=\"data row1 col26\" >81.000</td>\n",
       "      <td id=\"T_73755_row1_col27\" class=\"data row1 col27\" >nan</td>\n",
       "      <td id=\"T_73755_row1_col28\" class=\"data row1 col28\" >e2 29</td>\n",
       "      <td id=\"T_73755_row1_col29\" class=\"data row1 col29\" >nan</td>\n",
       "      <td id=\"T_73755_row1_col30\" class=\"data row1 col30\" >1.300</td>\n",
       "      <td id=\"T_73755_row1_col31\" class=\"data row1 col31\" >nan</td>\n",
       "      <td id=\"T_73755_row1_col32\" class=\"data row1 col32\" >nan</td>\n",
       "      <td id=\"T_73755_row1_col33\" class=\"data row1 col33\" >P</td>\n",
       "      <td id=\"T_73755_row1_col34\" class=\"data row1 col34\" >2021</td>\n",
       "      <td id=\"T_73755_row1_col35\" class=\"data row1 col35\" >nan</td>\n",
       "      <td id=\"T_73755_row1_col36\" class=\"data row1 col36\" >nan</td>\n",
       "      <td id=\"T_73755_row1_col37\" class=\"data row1 col37\" >nan</td>\n",
       "    </tr>\n",
       "    <tr>\n",
       "      <th id=\"T_73755_level0_row2\" class=\"row_heading level0 row2\" >2</th>\n",
       "      <td id=\"T_73755_row2_col0\" class=\"data row2 col0\" >57435744</td>\n",
       "      <td id=\"T_73755_row2_col1\" class=\"data row2 col1\" >NL</td>\n",
       "      <td id=\"T_73755_row2_col2\" class=\"data row2 col2\" >IP-MQB37WZ_A2_0575-WAU-1</td>\n",
       "      <td id=\"T_73755_row2_col3\" class=\"data row2 col3\" >VW-SAIC</td>\n",
       "      <td id=\"T_73755_row2_col4\" class=\"data row2 col4\" >AUDI AG</td>\n",
       "      <td id=\"T_73755_row2_col5\" class=\"data row2 col5\" >AUDI AG</td>\n",
       "      <td id=\"T_73755_row2_col6\" class=\"data row2 col6\" >nan</td>\n",
       "      <td id=\"T_73755_row2_col7\" class=\"data row2 col7\" >E1*2007/46*2060*12</td>\n",
       "      <td id=\"T_73755_row2_col8\" class=\"data row2 col8\" >GY</td>\n",
       "      <td id=\"T_73755_row2_col9\" class=\"data row2 col9\" >LDFYAF1</td>\n",
       "      <td id=\"T_73755_row2_col10\" class=\"data row2 col10\" >FD7FD7CW002RT011B174BIAEM1MLN1B20</td>\n",
       "      <td id=\"T_73755_row2_col11\" class=\"data row2 col11\" >AUDI</td>\n",
       "      <td id=\"T_73755_row2_col12\" class=\"data row2 col12\" >A3 LIMOUSINE</td>\n",
       "      <td id=\"T_73755_row2_col13\" class=\"data row2 col13\" >M1</td>\n",
       "      <td id=\"T_73755_row2_col14\" class=\"data row2 col14\" >M1</td>\n",
       "      <td id=\"T_73755_row2_col15\" class=\"data row2 col15\" >1</td>\n",
       "      <td id=\"T_73755_row2_col16\" class=\"data row2 col16\" >1395.000</td>\n",
       "      <td id=\"T_73755_row2_col17\" class=\"data row2 col17\" >1505.000</td>\n",
       "      <td id=\"T_73755_row2_col18\" class=\"data row2 col18\" >nan</td>\n",
       "      <td id=\"T_73755_row2_col19\" class=\"data row2 col19\" >127.000</td>\n",
       "      <td id=\"T_73755_row2_col20\" class=\"data row2 col20\" >2620.000</td>\n",
       "      <td id=\"T_73755_row2_col21\" class=\"data row2 col21\" >1540.000</td>\n",
       "      <td id=\"T_73755_row2_col22\" class=\"data row2 col22\" >1530.000</td>\n",
       "      <td id=\"T_73755_row2_col23\" class=\"data row2 col23\" >PETROL</td>\n",
       "      <td id=\"T_73755_row2_col24\" class=\"data row2 col24\" >H</td>\n",
       "      <td id=\"T_73755_row2_col25\" class=\"data row2 col25\" >1498.000</td>\n",
       "      <td id=\"T_73755_row2_col26\" class=\"data row2 col26\" >110.000</td>\n",
       "      <td id=\"T_73755_row2_col27\" class=\"data row2 col27\" >nan</td>\n",
       "      <td id=\"T_73755_row2_col28\" class=\"data row2 col28\" >nan</td>\n",
       "      <td id=\"T_73755_row2_col29\" class=\"data row2 col29\" >nan</td>\n",
       "      <td id=\"T_73755_row2_col30\" class=\"data row2 col30\" >nan</td>\n",
       "      <td id=\"T_73755_row2_col31\" class=\"data row2 col31\" >nan</td>\n",
       "      <td id=\"T_73755_row2_col32\" class=\"data row2 col32\" >nan</td>\n",
       "      <td id=\"T_73755_row2_col33\" class=\"data row2 col33\" >P</td>\n",
       "      <td id=\"T_73755_row2_col34\" class=\"data row2 col34\" >2021</td>\n",
       "      <td id=\"T_73755_row2_col35\" class=\"data row2 col35\" >nan</td>\n",
       "      <td id=\"T_73755_row2_col36\" class=\"data row2 col36\" >nan</td>\n",
       "      <td id=\"T_73755_row2_col37\" class=\"data row2 col37\" >nan</td>\n",
       "    </tr>\n",
       "    <tr>\n",
       "      <th id=\"T_73755_level0_row3\" class=\"row_heading level0 row3\" >3</th>\n",
       "      <td id=\"T_73755_row3_col0\" class=\"data row3 col0\" >57249792</td>\n",
       "      <td id=\"T_73755_row3_col1\" class=\"data row3 col1\" >NL</td>\n",
       "      <td id=\"T_73755_row3_col2\" class=\"data row3 col2\" >IP-050045-KNA-01</td>\n",
       "      <td id=\"T_73755_row3_col3\" class=\"data row3 col3\" >KIA</td>\n",
       "      <td id=\"T_73755_row3_col4\" class=\"data row3 col4\" >KIA</td>\n",
       "      <td id=\"T_73755_row3_col5\" class=\"data row3 col5\" >KIA CORPORATION</td>\n",
       "      <td id=\"T_73755_row3_col6\" class=\"data row3 col6\" >nan</td>\n",
       "      <td id=\"T_73755_row3_col7\" class=\"data row3 col7\" >E5*2007/46*1078*03</td>\n",
       "      <td id=\"T_73755_row3_col8\" class=\"data row3 col8\" >JA</td>\n",
       "      <td id=\"T_73755_row3_col9\" class=\"data row3 col9\" >F4P71</td>\n",
       "      <td id=\"T_73755_row3_col10\" class=\"data row3 col10\" >M53DZ1</td>\n",
       "      <td id=\"T_73755_row3_col11\" class=\"data row3 col11\" >KIA</td>\n",
       "      <td id=\"T_73755_row3_col12\" class=\"data row3 col12\" >PICANTO</td>\n",
       "      <td id=\"T_73755_row3_col13\" class=\"data row3 col13\" >M1</td>\n",
       "      <td id=\"T_73755_row3_col14\" class=\"data row3 col14\" >M1</td>\n",
       "      <td id=\"T_73755_row3_col15\" class=\"data row3 col15\" >1</td>\n",
       "      <td id=\"T_73755_row3_col16\" class=\"data row3 col16\" >974.000</td>\n",
       "      <td id=\"T_73755_row3_col17\" class=\"data row3 col17\" >1090.000</td>\n",
       "      <td id=\"T_73755_row3_col18\" class=\"data row3 col18\" >nan</td>\n",
       "      <td id=\"T_73755_row3_col19\" class=\"data row3 col19\" >110.000</td>\n",
       "      <td id=\"T_73755_row3_col20\" class=\"data row3 col20\" >2400.000</td>\n",
       "      <td id=\"T_73755_row3_col21\" class=\"data row3 col21\" >1390.000</td>\n",
       "      <td id=\"T_73755_row3_col22\" class=\"data row3 col22\" >1400.000</td>\n",
       "      <td id=\"T_73755_row3_col23\" class=\"data row3 col23\" >PETROL</td>\n",
       "      <td id=\"T_73755_row3_col24\" class=\"data row3 col24\" >M</td>\n",
       "      <td id=\"T_73755_row3_col25\" class=\"data row3 col25\" >998.000</td>\n",
       "      <td id=\"T_73755_row3_col26\" class=\"data row3 col26\" >49.000</td>\n",
       "      <td id=\"T_73755_row3_col27\" class=\"data row3 col27\" >nan</td>\n",
       "      <td id=\"T_73755_row3_col28\" class=\"data row3 col28\" >nan</td>\n",
       "      <td id=\"T_73755_row3_col29\" class=\"data row3 col29\" >nan</td>\n",
       "      <td id=\"T_73755_row3_col30\" class=\"data row3 col30\" >nan</td>\n",
       "      <td id=\"T_73755_row3_col31\" class=\"data row3 col31\" >nan</td>\n",
       "      <td id=\"T_73755_row3_col32\" class=\"data row3 col32\" >nan</td>\n",
       "      <td id=\"T_73755_row3_col33\" class=\"data row3 col33\" >P</td>\n",
       "      <td id=\"T_73755_row3_col34\" class=\"data row3 col34\" >2021</td>\n",
       "      <td id=\"T_73755_row3_col35\" class=\"data row3 col35\" >nan</td>\n",
       "      <td id=\"T_73755_row3_col36\" class=\"data row3 col36\" >nan</td>\n",
       "      <td id=\"T_73755_row3_col37\" class=\"data row3 col37\" >nan</td>\n",
       "    </tr>\n",
       "    <tr>\n",
       "      <th id=\"T_73755_level0_row4\" class=\"row_heading level0 row4\" >4</th>\n",
       "      <td id=\"T_73755_row4_col0\" class=\"data row4 col0\" >56560176</td>\n",
       "      <td id=\"T_73755_row4_col1\" class=\"data row4 col1\" >BE</td>\n",
       "      <td id=\"T_73755_row4_col2\" class=\"data row4 col2\" >IP-JBA1M6PJT4A_000-VF1-1</td>\n",
       "      <td id=\"T_73755_row4_col3\" class=\"data row4 col3\" >RENAULT-NISSAN-MITSUBISHI</td>\n",
       "      <td id=\"T_73755_row4_col4\" class=\"data row4 col4\" >RENAULT</td>\n",
       "      <td id=\"T_73755_row4_col5\" class=\"data row4 col5\" >RENAULT SAS</td>\n",
       "      <td id=\"T_73755_row4_col6\" class=\"data row4 col6\" >nan</td>\n",
       "      <td id=\"T_73755_row4_col7\" class=\"data row4 col7\" >E2*2007/46*0684*11</td>\n",
       "      <td id=\"T_73755_row4_col8\" class=\"data row4 col8\" >RJB</td>\n",
       "      <td id=\"T_73755_row4_col9\" class=\"data row4 col9\" >HE2</td>\n",
       "      <td id=\"T_73755_row4_col10\" class=\"data row4 col10\" >M66UA1AA5200</td>\n",
       "      <td id=\"T_73755_row4_col11\" class=\"data row4 col11\" >RENAULT</td>\n",
       "      <td id=\"T_73755_row4_col12\" class=\"data row4 col12\" >CAPTUR</td>\n",
       "      <td id=\"T_73755_row4_col13\" class=\"data row4 col13\" >M1</td>\n",
       "      <td id=\"T_73755_row4_col14\" class=\"data row4 col14\" >M1</td>\n",
       "      <td id=\"T_73755_row4_col15\" class=\"data row4 col15\" >1</td>\n",
       "      <td id=\"T_73755_row4_col16\" class=\"data row4 col16\" >1280.000</td>\n",
       "      <td id=\"T_73755_row4_col17\" class=\"data row4 col17\" >1385.000</td>\n",
       "      <td id=\"T_73755_row4_col18\" class=\"data row4 col18\" >nan</td>\n",
       "      <td id=\"T_73755_row4_col19\" class=\"data row4 col19\" >133.000</td>\n",
       "      <td id=\"T_73755_row4_col20\" class=\"data row4 col20\" >2639.000</td>\n",
       "      <td id=\"T_73755_row4_col21\" class=\"data row4 col21\" >1554.000</td>\n",
       "      <td id=\"T_73755_row4_col22\" class=\"data row4 col22\" >1541.000</td>\n",
       "      <td id=\"T_73755_row4_col23\" class=\"data row4 col23\" >PETROL</td>\n",
       "      <td id=\"T_73755_row4_col24\" class=\"data row4 col24\" >M</td>\n",
       "      <td id=\"T_73755_row4_col25\" class=\"data row4 col25\" >999.000</td>\n",
       "      <td id=\"T_73755_row4_col26\" class=\"data row4 col26\" >67.000</td>\n",
       "      <td id=\"T_73755_row4_col27\" class=\"data row4 col27\" >nan</td>\n",
       "      <td id=\"T_73755_row4_col28\" class=\"data row4 col28\" >e9 28 29</td>\n",
       "      <td id=\"T_73755_row4_col29\" class=\"data row4 col29\" >nan</td>\n",
       "      <td id=\"T_73755_row4_col30\" class=\"data row4 col30\" >2.600</td>\n",
       "      <td id=\"T_73755_row4_col31\" class=\"data row4 col31\" >nan</td>\n",
       "      <td id=\"T_73755_row4_col32\" class=\"data row4 col32\" >nan</td>\n",
       "      <td id=\"T_73755_row4_col33\" class=\"data row4 col33\" >P</td>\n",
       "      <td id=\"T_73755_row4_col34\" class=\"data row4 col34\" >2021</td>\n",
       "      <td id=\"T_73755_row4_col35\" class=\"data row4 col35\" >2021-10-12</td>\n",
       "      <td id=\"T_73755_row4_col36\" class=\"data row4 col36\" >5.300</td>\n",
       "      <td id=\"T_73755_row4_col37\" class=\"data row4 col37\" >nan</td>\n",
       "    </tr>\n",
       "    <tr>\n",
       "      <th id=\"T_73755_level0_row5\" class=\"row_heading level0 row5\" >5</th>\n",
       "      <td id=\"T_73755_row5_col0\" class=\"data row5 col0\" >57418304</td>\n",
       "      <td id=\"T_73755_row5_col1\" class=\"data row5 col1\" >NL</td>\n",
       "      <td id=\"T_73755_row5_col2\" class=\"data row5 col2\" >IP-2018_1437-WDB-1</td>\n",
       "      <td id=\"T_73755_row5_col3\" class=\"data row5 col3\" >MERCEDES-BENZ</td>\n",
       "      <td id=\"T_73755_row5_col4\" class=\"data row5 col4\" >MERCEDES-BENZ AG</td>\n",
       "      <td id=\"T_73755_row5_col5\" class=\"data row5 col5\" >MERCEDES-BENZ AG</td>\n",
       "      <td id=\"T_73755_row5_col6\" class=\"data row5 col6\" >nan</td>\n",
       "      <td id=\"T_73755_row5_col7\" class=\"data row5 col7\" >E1*2007/46*1829*13</td>\n",
       "      <td id=\"T_73755_row5_col8\" class=\"data row5 col8\" >F2A</td>\n",
       "      <td id=\"T_73755_row5_col9\" class=\"data row5 col9\" >X0H9T2</td>\n",
       "      <td id=\"T_73755_row5_col10\" class=\"data row5 col10\" >FZAA151A</td>\n",
       "      <td id=\"T_73755_row5_col11\" class=\"data row5 col11\" >MERCEDES-BENZ</td>\n",
       "      <td id=\"T_73755_row5_col12\" class=\"data row5 col12\" >A 180</td>\n",
       "      <td id=\"T_73755_row5_col13\" class=\"data row5 col13\" >M1</td>\n",
       "      <td id=\"T_73755_row5_col14\" class=\"data row5 col14\" >M1</td>\n",
       "      <td id=\"T_73755_row5_col15\" class=\"data row5 col15\" >1</td>\n",
       "      <td id=\"T_73755_row5_col16\" class=\"data row5 col16\" >1380.000</td>\n",
       "      <td id=\"T_73755_row5_col17\" class=\"data row5 col17\" >1494.000</td>\n",
       "      <td id=\"T_73755_row5_col18\" class=\"data row5 col18\" >nan</td>\n",
       "      <td id=\"T_73755_row5_col19\" class=\"data row5 col19\" >135.000</td>\n",
       "      <td id=\"T_73755_row5_col20\" class=\"data row5 col20\" >2730.000</td>\n",
       "      <td id=\"T_73755_row5_col21\" class=\"data row5 col21\" >1570.000</td>\n",
       "      <td id=\"T_73755_row5_col22\" class=\"data row5 col22\" >1560.000</td>\n",
       "      <td id=\"T_73755_row5_col23\" class=\"data row5 col23\" >PETROL</td>\n",
       "      <td id=\"T_73755_row5_col24\" class=\"data row5 col24\" >M</td>\n",
       "      <td id=\"T_73755_row5_col25\" class=\"data row5 col25\" >1332.000</td>\n",
       "      <td id=\"T_73755_row5_col26\" class=\"data row5 col26\" >100.000</td>\n",
       "      <td id=\"T_73755_row5_col27\" class=\"data row5 col27\" >nan</td>\n",
       "      <td id=\"T_73755_row5_col28\" class=\"data row5 col28\" >e1 29</td>\n",
       "      <td id=\"T_73755_row5_col29\" class=\"data row5 col29\" >nan</td>\n",
       "      <td id=\"T_73755_row5_col30\" class=\"data row5 col30\" >1.200</td>\n",
       "      <td id=\"T_73755_row5_col31\" class=\"data row5 col31\" >nan</td>\n",
       "      <td id=\"T_73755_row5_col32\" class=\"data row5 col32\" >nan</td>\n",
       "      <td id=\"T_73755_row5_col33\" class=\"data row5 col33\" >P</td>\n",
       "      <td id=\"T_73755_row5_col34\" class=\"data row5 col34\" >2021</td>\n",
       "      <td id=\"T_73755_row5_col35\" class=\"data row5 col35\" >nan</td>\n",
       "      <td id=\"T_73755_row5_col36\" class=\"data row5 col36\" >nan</td>\n",
       "      <td id=\"T_73755_row5_col37\" class=\"data row5 col37\" >nan</td>\n",
       "    </tr>\n",
       "    <tr>\n",
       "      <th id=\"T_73755_level0_row6\" class=\"row_heading level0 row6\" >6</th>\n",
       "      <td id=\"T_73755_row6_col0\" class=\"data row6 col0\" >57368688</td>\n",
       "      <td id=\"T_73755_row6_col1\" class=\"data row6 col1\" >NL</td>\n",
       "      <td id=\"T_73755_row6_col2\" class=\"data row6 col2\" >IP-HNP____AT6_1433-VF7-0</td>\n",
       "      <td id=\"T_73755_row6_col3\" class=\"data row6 col3\" >STELLANTIS</td>\n",
       "      <td id=\"T_73755_row6_col4\" class=\"data row6 col4\" >AUTOMOBILES CITROEN</td>\n",
       "      <td id=\"T_73755_row6_col5\" class=\"data row6 col5\" >AUTOMOBILES CITROEN</td>\n",
       "      <td id=\"T_73755_row6_col6\" class=\"data row6 col6\" >nan</td>\n",
       "      <td id=\"T_73755_row6_col7\" class=\"data row6 col7\" >E2*2007/46*0003*65</td>\n",
       "      <td id=\"T_73755_row6_col8\" class=\"data row6 col8\" >S</td>\n",
       "      <td id=\"T_73755_row6_col9\" class=\"data row6 col9\" >XHNP</td>\n",
       "      <td id=\"T_73755_row6_col10\" class=\"data row6 col10\" >Y/AAXS</td>\n",
       "      <td id=\"T_73755_row6_col11\" class=\"data row6 col11\" >CITROEN</td>\n",
       "      <td id=\"T_73755_row6_col12\" class=\"data row6 col12\" >C3</td>\n",
       "      <td id=\"T_73755_row6_col13\" class=\"data row6 col13\" >M1</td>\n",
       "      <td id=\"T_73755_row6_col14\" class=\"data row6 col14\" >M1</td>\n",
       "      <td id=\"T_73755_row6_col15\" class=\"data row6 col15\" >1</td>\n",
       "      <td id=\"T_73755_row6_col16\" class=\"data row6 col16\" >1165.000</td>\n",
       "      <td id=\"T_73755_row6_col17\" class=\"data row6 col17\" >1312.000</td>\n",
       "      <td id=\"T_73755_row6_col18\" class=\"data row6 col18\" >nan</td>\n",
       "      <td id=\"T_73755_row6_col19\" class=\"data row6 col19\" >135.000</td>\n",
       "      <td id=\"T_73755_row6_col20\" class=\"data row6 col20\" >2540.000</td>\n",
       "      <td id=\"T_73755_row6_col21\" class=\"data row6 col21\" >1480.000</td>\n",
       "      <td id=\"T_73755_row6_col22\" class=\"data row6 col22\" >1480.000</td>\n",
       "      <td id=\"T_73755_row6_col23\" class=\"data row6 col23\" >PETROL</td>\n",
       "      <td id=\"T_73755_row6_col24\" class=\"data row6 col24\" >M</td>\n",
       "      <td id=\"T_73755_row6_col25\" class=\"data row6 col25\" >1199.000</td>\n",
       "      <td id=\"T_73755_row6_col26\" class=\"data row6 col26\" >81.000</td>\n",
       "      <td id=\"T_73755_row6_col27\" class=\"data row6 col27\" >nan</td>\n",
       "      <td id=\"T_73755_row6_col28\" class=\"data row6 col28\" >e2 28 29</td>\n",
       "      <td id=\"T_73755_row6_col29\" class=\"data row6 col29\" >nan</td>\n",
       "      <td id=\"T_73755_row6_col30\" class=\"data row6 col30\" >2.000</td>\n",
       "      <td id=\"T_73755_row6_col31\" class=\"data row6 col31\" >nan</td>\n",
       "      <td id=\"T_73755_row6_col32\" class=\"data row6 col32\" >nan</td>\n",
       "      <td id=\"T_73755_row6_col33\" class=\"data row6 col33\" >P</td>\n",
       "      <td id=\"T_73755_row6_col34\" class=\"data row6 col34\" >2021</td>\n",
       "      <td id=\"T_73755_row6_col35\" class=\"data row6 col35\" >nan</td>\n",
       "      <td id=\"T_73755_row6_col36\" class=\"data row6 col36\" >nan</td>\n",
       "      <td id=\"T_73755_row6_col37\" class=\"data row6 col37\" >nan</td>\n",
       "    </tr>\n",
       "    <tr>\n",
       "      <th id=\"T_73755_level0_row7\" class=\"row_heading level0 row7\" >7</th>\n",
       "      <td id=\"T_73755_row7_col0\" class=\"data row7 col0\" >57334652</td>\n",
       "      <td id=\"T_73755_row7_col1\" class=\"data row7 col1\" >NL</td>\n",
       "      <td id=\"T_73755_row7_col2\" class=\"data row7 col2\" >IP-JFB1MTGJT4A_000-UU1-0</td>\n",
       "      <td id=\"T_73755_row7_col3\" class=\"data row7 col3\" >RENAULT-NISSAN-MITSUBISHI</td>\n",
       "      <td id=\"T_73755_row7_col4\" class=\"data row7 col4\" >DACIA</td>\n",
       "      <td id=\"T_73755_row7_col5\" class=\"data row7 col5\" >AUTOMOBILE DACIA SA</td>\n",
       "      <td id=\"T_73755_row7_col6\" class=\"data row7 col6\" >nan</td>\n",
       "      <td id=\"T_73755_row7_col7\" class=\"data row7 col7\" >E19*2007/46*0026*04</td>\n",
       "      <td id=\"T_73755_row7_col8\" class=\"data row7 col8\" >DJF</td>\n",
       "      <td id=\"T_73755_row7_col9\" class=\"data row7 col9\" >BEV</td>\n",
       "      <td id=\"T_73755_row7_col10\" class=\"data row7 col10\" >MT6UA35M5200</td>\n",
       "      <td id=\"T_73755_row7_col11\" class=\"data row7 col11\" >DACIA</td>\n",
       "      <td id=\"T_73755_row7_col12\" class=\"data row7 col12\" >SANDERO</td>\n",
       "      <td id=\"T_73755_row7_col13\" class=\"data row7 col13\" >M1</td>\n",
       "      <td id=\"T_73755_row7_col14\" class=\"data row7 col14\" >M1</td>\n",
       "      <td id=\"T_73755_row7_col15\" class=\"data row7 col15\" >1</td>\n",
       "      <td id=\"T_73755_row7_col16\" class=\"data row7 col16\" >1229.000</td>\n",
       "      <td id=\"T_73755_row7_col17\" class=\"data row7 col17\" >1309.000</td>\n",
       "      <td id=\"T_73755_row7_col18\" class=\"data row7 col18\" >nan</td>\n",
       "      <td id=\"T_73755_row7_col19\" class=\"data row7 col19\" >115.000</td>\n",
       "      <td id=\"T_73755_row7_col20\" class=\"data row7 col20\" >2600.000</td>\n",
       "      <td id=\"T_73755_row7_col21\" class=\"data row7 col21\" >1520.000</td>\n",
       "      <td id=\"T_73755_row7_col22\" class=\"data row7 col22\" >1520.000</td>\n",
       "      <td id=\"T_73755_row7_col23\" class=\"data row7 col23\" >LPG</td>\n",
       "      <td id=\"T_73755_row7_col24\" class=\"data row7 col24\" >B</td>\n",
       "      <td id=\"T_73755_row7_col25\" class=\"data row7 col25\" >999.000</td>\n",
       "      <td id=\"T_73755_row7_col26\" class=\"data row7 col26\" >74.000</td>\n",
       "      <td id=\"T_73755_row7_col27\" class=\"data row7 col27\" >nan</td>\n",
       "      <td id=\"T_73755_row7_col28\" class=\"data row7 col28\" >nan</td>\n",
       "      <td id=\"T_73755_row7_col29\" class=\"data row7 col29\" >nan</td>\n",
       "      <td id=\"T_73755_row7_col30\" class=\"data row7 col30\" >nan</td>\n",
       "      <td id=\"T_73755_row7_col31\" class=\"data row7 col31\" >nan</td>\n",
       "      <td id=\"T_73755_row7_col32\" class=\"data row7 col32\" >nan</td>\n",
       "      <td id=\"T_73755_row7_col33\" class=\"data row7 col33\" >P</td>\n",
       "      <td id=\"T_73755_row7_col34\" class=\"data row7 col34\" >2021</td>\n",
       "      <td id=\"T_73755_row7_col35\" class=\"data row7 col35\" >nan</td>\n",
       "      <td id=\"T_73755_row7_col36\" class=\"data row7 col36\" >nan</td>\n",
       "      <td id=\"T_73755_row7_col37\" class=\"data row7 col37\" >nan</td>\n",
       "    </tr>\n",
       "    <tr>\n",
       "      <th id=\"T_73755_level0_row8\" class=\"row_heading level0 row8\" >8</th>\n",
       "      <td id=\"T_73755_row8_col0\" class=\"data row8 col0\" >44992612</td>\n",
       "      <td id=\"T_73755_row8_col1\" class=\"data row8 col1\" >LU</td>\n",
       "      <td id=\"T_73755_row8_col2\" class=\"data row8 col2\" >IP-09_1950-5YJ-1</td>\n",
       "      <td id=\"T_73755_row8_col3\" class=\"data row8 col3\" >TESLA</td>\n",
       "      <td id=\"T_73755_row8_col4\" class=\"data row8 col4\" >TESLA</td>\n",
       "      <td id=\"T_73755_row8_col5\" class=\"data row8 col5\" >TESLA INC</td>\n",
       "      <td id=\"T_73755_row8_col6\" class=\"data row8 col6\" >nan</td>\n",
       "      <td id=\"T_73755_row8_col7\" class=\"data row8 col7\" >E4*2007/46*1293*15</td>\n",
       "      <td id=\"T_73755_row8_col8\" class=\"data row8 col8\" >003</td>\n",
       "      <td id=\"T_73755_row8_col9\" class=\"data row8 col9\" >E5D</td>\n",
       "      <td id=\"T_73755_row8_col10\" class=\"data row8 col10\" >BGB1S5T1</td>\n",
       "      <td id=\"T_73755_row8_col11\" class=\"data row8 col11\" >TESLA</td>\n",
       "      <td id=\"T_73755_row8_col12\" class=\"data row8 col12\" >MODEL 3</td>\n",
       "      <td id=\"T_73755_row8_col13\" class=\"data row8 col13\" >M1</td>\n",
       "      <td id=\"T_73755_row8_col14\" class=\"data row8 col14\" >M1</td>\n",
       "      <td id=\"T_73755_row8_col15\" class=\"data row8 col15\" >1</td>\n",
       "      <td id=\"T_73755_row8_col16\" class=\"data row8 col16\" >1919.000</td>\n",
       "      <td id=\"T_73755_row8_col17\" class=\"data row8 col17\" >2258.000</td>\n",
       "      <td id=\"T_73755_row8_col18\" class=\"data row8 col18\" >0.000</td>\n",
       "      <td id=\"T_73755_row8_col19\" class=\"data row8 col19\" >0.000</td>\n",
       "      <td id=\"T_73755_row8_col20\" class=\"data row8 col20\" >2875.000</td>\n",
       "      <td id=\"T_73755_row8_col21\" class=\"data row8 col21\" >1580.000</td>\n",
       "      <td id=\"T_73755_row8_col22\" class=\"data row8 col22\" >1580.000</td>\n",
       "      <td id=\"T_73755_row8_col23\" class=\"data row8 col23\" >ELECTRIC</td>\n",
       "      <td id=\"T_73755_row8_col24\" class=\"data row8 col24\" >E</td>\n",
       "      <td id=\"T_73755_row8_col25\" class=\"data row8 col25\" >nan</td>\n",
       "      <td id=\"T_73755_row8_col26\" class=\"data row8 col26\" >153.000</td>\n",
       "      <td id=\"T_73755_row8_col27\" class=\"data row8 col27\" >148.000</td>\n",
       "      <td id=\"T_73755_row8_col28\" class=\"data row8 col28\" >nan</td>\n",
       "      <td id=\"T_73755_row8_col29\" class=\"data row8 col29\" >nan</td>\n",
       "      <td id=\"T_73755_row8_col30\" class=\"data row8 col30\" >nan</td>\n",
       "      <td id=\"T_73755_row8_col31\" class=\"data row8 col31\" >nan</td>\n",
       "      <td id=\"T_73755_row8_col32\" class=\"data row8 col32\" >nan</td>\n",
       "      <td id=\"T_73755_row8_col33\" class=\"data row8 col33\" >P</td>\n",
       "      <td id=\"T_73755_row8_col34\" class=\"data row8 col34\" >2021</td>\n",
       "      <td id=\"T_73755_row8_col35\" class=\"data row8 col35\" >nan</td>\n",
       "      <td id=\"T_73755_row8_col36\" class=\"data row8 col36\" >nan</td>\n",
       "      <td id=\"T_73755_row8_col37\" class=\"data row8 col37\" >580.000</td>\n",
       "    </tr>\n",
       "    <tr>\n",
       "      <th id=\"T_73755_level0_row9\" class=\"row_heading level0 row9\" >9</th>\n",
       "      <td id=\"T_73755_row9_col0\" class=\"data row9 col0\" >57430368</td>\n",
       "      <td id=\"T_73755_row9_col1\" class=\"data row9 col1\" >NL</td>\n",
       "      <td id=\"T_73755_row9_col2\" class=\"data row9 col2\" >IP-MEB31AZ_A0_0957-WAU-1</td>\n",
       "      <td id=\"T_73755_row9_col3\" class=\"data row9 col3\" >VW-SAIC</td>\n",
       "      <td id=\"T_73755_row9_col4\" class=\"data row9 col4\" >AUDI AG</td>\n",
       "      <td id=\"T_73755_row9_col5\" class=\"data row9 col5\" >AUDI AG</td>\n",
       "      <td id=\"T_73755_row9_col6\" class=\"data row9 col6\" >nan</td>\n",
       "      <td id=\"T_73755_row9_col7\" class=\"data row9 col7\" >E1*2018/858*00006*02</td>\n",
       "      <td id=\"T_73755_row9_col8\" class=\"data row9 col8\" >FZ</td>\n",
       "      <td id=\"T_73755_row9_col9\" class=\"data row9 col9\" >XBL1EH1</td>\n",
       "      <td id=\"T_73755_row9_col10\" class=\"data row9 col10\" >HE1HE1G1Z01RT011A190GAAEM0O</td>\n",
       "      <td id=\"T_73755_row9_col11\" class=\"data row9 col11\" >AUDI</td>\n",
       "      <td id=\"T_73755_row9_col12\" class=\"data row9 col12\" >Q4 35 E-TRON</td>\n",
       "      <td id=\"T_73755_row9_col13\" class=\"data row9 col13\" >M1</td>\n",
       "      <td id=\"T_73755_row9_col14\" class=\"data row9 col14\" >M1</td>\n",
       "      <td id=\"T_73755_row9_col15\" class=\"data row9 col15\" >1</td>\n",
       "      <td id=\"T_73755_row9_col16\" class=\"data row9 col16\" >1965.000</td>\n",
       "      <td id=\"T_73755_row9_col17\" class=\"data row9 col17\" >2062.000</td>\n",
       "      <td id=\"T_73755_row9_col18\" class=\"data row9 col18\" >0.000</td>\n",
       "      <td id=\"T_73755_row9_col19\" class=\"data row9 col19\" >0.000</td>\n",
       "      <td id=\"T_73755_row9_col20\" class=\"data row9 col20\" >2770.000</td>\n",
       "      <td id=\"T_73755_row9_col21\" class=\"data row9 col21\" >1590.000</td>\n",
       "      <td id=\"T_73755_row9_col22\" class=\"data row9 col22\" >1570.000</td>\n",
       "      <td id=\"T_73755_row9_col23\" class=\"data row9 col23\" >ELECTRIC</td>\n",
       "      <td id=\"T_73755_row9_col24\" class=\"data row9 col24\" >E</td>\n",
       "      <td id=\"T_73755_row9_col25\" class=\"data row9 col25\" >nan</td>\n",
       "      <td id=\"T_73755_row9_col26\" class=\"data row9 col26\" >125.000</td>\n",
       "      <td id=\"T_73755_row9_col27\" class=\"data row9 col27\" >174.000</td>\n",
       "      <td id=\"T_73755_row9_col28\" class=\"data row9 col28\" >nan</td>\n",
       "      <td id=\"T_73755_row9_col29\" class=\"data row9 col29\" >nan</td>\n",
       "      <td id=\"T_73755_row9_col30\" class=\"data row9 col30\" >nan</td>\n",
       "      <td id=\"T_73755_row9_col31\" class=\"data row9 col31\" >nan</td>\n",
       "      <td id=\"T_73755_row9_col32\" class=\"data row9 col32\" >nan</td>\n",
       "      <td id=\"T_73755_row9_col33\" class=\"data row9 col33\" >P</td>\n",
       "      <td id=\"T_73755_row9_col34\" class=\"data row9 col34\" >2021</td>\n",
       "      <td id=\"T_73755_row9_col35\" class=\"data row9 col35\" >nan</td>\n",
       "      <td id=\"T_73755_row9_col36\" class=\"data row9 col36\" >nan</td>\n",
       "      <td id=\"T_73755_row9_col37\" class=\"data row9 col37\" >335.000</td>\n",
       "    </tr>\n",
       "  </tbody>\n",
       "</table>\n"
      ],
      "text/plain": [
       "<pandas.io.formats.style.Styler at 0x7f9c8436fa30>"
      ]
     },
     "metadata": {},
     "output_type": "display_data"
    }
   ],
   "source": [
    "df = co2.data.rename_columns(df)\n",
    "co2.styles.displayer(df, 10)"
   ]
  },
  {
   "cell_type": "code",
   "execution_count": 4,
   "metadata": {},
   "outputs": [
    {
     "data": {
      "text/html": [
       "<style type=\"text/css\">\n",
       "#T_a6266 th {\n",
       "  background-color: steelblue;\n",
       "  color: white;\n",
       "}\n",
       "#T_a6266 tr:nth-of-type(odd) {\n",
       "  background-color: aliceblue;\n",
       "}\n",
       "#T_a6266 tr:nth-of-type(even) {\n",
       "  background-color: white;\n",
       "}\n",
       "#T_a6266_row0_col1, #T_a6266_row1_col1, #T_a6266_row2_col1, #T_a6266_row3_col1 {\n",
       "  width: 10em;\n",
       "  background: linear-gradient(90deg, lightcoral 100.0%, transparent 100.0%);\n",
       "}\n",
       "#T_a6266_row4_col1 {\n",
       "  width: 10em;\n",
       "  background: linear-gradient(90deg, lightcoral 79.4%, transparent 79.4%);\n",
       "}\n",
       "#T_a6266_row5_col1 {\n",
       "  width: 10em;\n",
       "  background: linear-gradient(90deg, lightcoral 78.3%, transparent 78.3%);\n",
       "}\n",
       "#T_a6266_row6_col1 {\n",
       "  width: 10em;\n",
       "  background: linear-gradient(90deg, lightcoral 69.9%, transparent 69.9%);\n",
       "}\n",
       "#T_a6266_row7_col1 {\n",
       "  width: 10em;\n",
       "  background: linear-gradient(90deg, lightcoral 65.8%, transparent 65.8%);\n",
       "}\n",
       "#T_a6266_row8_col1 {\n",
       "  width: 10em;\n",
       "  background: linear-gradient(90deg, lightcoral 63.1%, transparent 63.1%);\n",
       "}\n",
       "#T_a6266_row9_col1 {\n",
       "  width: 10em;\n",
       "  background: linear-gradient(90deg, lightcoral 61.4%, transparent 61.4%);\n",
       "}\n",
       "#T_a6266_row10_col1 {\n",
       "  width: 10em;\n",
       "  background: linear-gradient(90deg, lightcoral 59.3%, transparent 59.3%);\n",
       "}\n",
       "#T_a6266_row11_col1 {\n",
       "  width: 10em;\n",
       "  background: linear-gradient(90deg, lightcoral 21.9%, transparent 21.9%);\n",
       "}\n",
       "#T_a6266_row12_col1 {\n",
       "  width: 10em;\n",
       "  background: linear-gradient(90deg, lightcoral 13.0%, transparent 13.0%);\n",
       "}\n",
       "#T_a6266_row13_col1, #T_a6266_row14_col1 {\n",
       "  width: 10em;\n",
       "  background: linear-gradient(90deg, lightcoral 9.7%, transparent 9.7%);\n",
       "}\n",
       "#T_a6266_row15_col1 {\n",
       "  width: 10em;\n",
       "  background: linear-gradient(90deg, lightcoral 4.4%, transparent 4.4%);\n",
       "}\n",
       "#T_a6266_row16_col1 {\n",
       "  width: 10em;\n",
       "  background: linear-gradient(90deg, lightcoral 4.0%, transparent 4.0%);\n",
       "}\n",
       "#T_a6266_row17_col1 {\n",
       "  width: 10em;\n",
       "  background: linear-gradient(90deg, lightcoral 0.3%, transparent 0.3%);\n",
       "}\n",
       "#T_a6266_row18_col1, #T_a6266_row19_col1, #T_a6266_row20_col1 {\n",
       "  width: 10em;\n",
       "  background: linear-gradient(90deg, lightcoral 0.2%, transparent 0.2%);\n",
       "}\n",
       "#T_a6266_row21_col1, #T_a6266_row22_col1, #T_a6266_row23_col1, #T_a6266_row24_col1, #T_a6266_row25_col1, #T_a6266_row26_col1, #T_a6266_row27_col1, #T_a6266_row28_col1, #T_a6266_row29_col1, #T_a6266_row30_col1, #T_a6266_row31_col1, #T_a6266_row32_col1, #T_a6266_row33_col1, #T_a6266_row34_col1, #T_a6266_row35_col1, #T_a6266_row36_col1, #T_a6266_row37_col1 {\n",
       "  width: 10em;\n",
       "}\n",
       "</style>\n",
       "<table id=\"T_a6266\">\n",
       "  <thead>\n",
       "    <tr>\n",
       "      <th class=\"blank level0\" >&nbsp;</th>\n",
       "      <th id=\"T_a6266_level0_col0\" class=\"col_heading level0 col0\" >Colonne</th>\n",
       "      <th id=\"T_a6266_level0_col1\" class=\"col_heading level0 col1\" >Valeurs manquantes (%)</th>\n",
       "    </tr>\n",
       "  </thead>\n",
       "  <tbody>\n",
       "    <tr>\n",
       "      <th id=\"T_a6266_level0_row0\" class=\"row_heading level0 row0\" >0</th>\n",
       "      <td id=\"T_a6266_row0_col0\" class=\"data row0 col0\" >VerificationFactor</td>\n",
       "      <td id=\"T_a6266_row0_col1\" class=\"data row0 col1\" >100.00%</td>\n",
       "    </tr>\n",
       "    <tr>\n",
       "      <th id=\"T_a6266_level0_row1\" class=\"row_heading level0 row1\" >1</th>\n",
       "      <td id=\"T_a6266_row1_col0\" class=\"data row1 col0\" >ManufNameMS</td>\n",
       "      <td id=\"T_a6266_row1_col1\" class=\"data row1 col1\" >100.00%</td>\n",
       "    </tr>\n",
       "    <tr>\n",
       "      <th id=\"T_a6266_level0_row2\" class=\"row_heading level0 row2\" >2</th>\n",
       "      <td id=\"T_a6266_row2_col0\" class=\"data row2 col0\" >InnovativeEmissionsReduction</td>\n",
       "      <td id=\"T_a6266_row2_col1\" class=\"data row2 col1\" >100.00%</td>\n",
       "    </tr>\n",
       "    <tr>\n",
       "      <th id=\"T_a6266_level0_row3\" class=\"row_heading level0 row3\" >3</th>\n",
       "      <td id=\"T_a6266_row3_col0\" class=\"data row3 col0\" >DeviationFactor</td>\n",
       "      <td id=\"T_a6266_row3_col1\" class=\"data row3 col1\" >100.00%</td>\n",
       "    </tr>\n",
       "    <tr>\n",
       "      <th id=\"T_a6266_level0_row4\" class=\"row_heading level0 row4\" >4</th>\n",
       "      <td id=\"T_a6266_row4_col0\" class=\"data row4 col0\" >ElectricConsumption</td>\n",
       "      <td id=\"T_a6266_row4_col1\" class=\"data row4 col1\" >79.40%</td>\n",
       "    </tr>\n",
       "    <tr>\n",
       "      <th id=\"T_a6266_level0_row5\" class=\"row_heading level0 row5\" >5</th>\n",
       "      <td id=\"T_a6266_row5_col0\" class=\"data row5 col0\" >ElectricRange</td>\n",
       "      <td id=\"T_a6266_row5_col1\" class=\"data row5 col1\" >78.30%</td>\n",
       "    </tr>\n",
       "    <tr>\n",
       "      <th id=\"T_a6266_level0_row6\" class=\"row_heading level0 row6\" >6</th>\n",
       "      <td id=\"T_a6266_row6_col0\" class=\"data row6 col0\" >FuelConsumption</td>\n",
       "      <td id=\"T_a6266_row6_col1\" class=\"data row6 col1\" >69.90%</td>\n",
       "    </tr>\n",
       "    <tr>\n",
       "      <th id=\"T_a6266_level0_row7\" class=\"row_heading level0 row7\" >7</th>\n",
       "      <td id=\"T_a6266_row7_col0\" class=\"data row7 col0\" >InnovativeEmissionsReductionWltp</td>\n",
       "      <td id=\"T_a6266_row7_col1\" class=\"data row7 col1\" >65.80%</td>\n",
       "    </tr>\n",
       "    <tr>\n",
       "      <th id=\"T_a6266_level0_row8\" class=\"row_heading level0 row8\" >8</th>\n",
       "      <td id=\"T_a6266_row8_col0\" class=\"data row8 col0\" >InnovativeTechnology</td>\n",
       "      <td id=\"T_a6266_row8_col1\" class=\"data row8 col1\" >63.10%</td>\n",
       "    </tr>\n",
       "    <tr>\n",
       "      <th id=\"T_a6266_level0_row9\" class=\"row_heading level0 row9\" >9</th>\n",
       "      <td id=\"T_a6266_row9_col0\" class=\"data row9 col0\" >Co2EmissionsNedc</td>\n",
       "      <td id=\"T_a6266_row9_col1\" class=\"data row9 col1\" >61.40%</td>\n",
       "    </tr>\n",
       "    <tr>\n",
       "      <th id=\"T_a6266_level0_row10\" class=\"row_heading level0 row10\" >10</th>\n",
       "      <td id=\"T_a6266_row10_col0\" class=\"data row10 col0\" >RegistrationDate</td>\n",
       "      <td id=\"T_a6266_row10_col1\" class=\"data row10 col1\" >59.30%</td>\n",
       "    </tr>\n",
       "    <tr>\n",
       "      <th id=\"T_a6266_level0_row11\" class=\"row_heading level0 row11\" >11</th>\n",
       "      <td id=\"T_a6266_row11_col0\" class=\"data row11 col0\" >VehicleFamilyIdentification</td>\n",
       "      <td id=\"T_a6266_row11_col1\" class=\"data row11 col1\" >21.90%</td>\n",
       "    </tr>\n",
       "    <tr>\n",
       "      <th id=\"T_a6266_level0_row12\" class=\"row_heading level0 row12\" >12</th>\n",
       "      <td id=\"T_a6266_row12_col0\" class=\"data row12 col0\" >EngineCapacity</td>\n",
       "      <td id=\"T_a6266_row12_col1\" class=\"data row12 col1\" >13.00%</td>\n",
       "    </tr>\n",
       "    <tr>\n",
       "      <th id=\"T_a6266_level0_row13\" class=\"row_heading level0 row13\" >13</th>\n",
       "      <td id=\"T_a6266_row13_col0\" class=\"data row13 col0\" >AxleWidthSteering</td>\n",
       "      <td id=\"T_a6266_row13_col1\" class=\"data row13 col1\" >9.70%</td>\n",
       "    </tr>\n",
       "    <tr>\n",
       "      <th id=\"T_a6266_level0_row14\" class=\"row_heading level0 row14\" >14</th>\n",
       "      <td id=\"T_a6266_row14_col0\" class=\"data row14 col0\" >AxleWidthOther</td>\n",
       "      <td id=\"T_a6266_row14_col1\" class=\"data row14 col1\" >9.70%</td>\n",
       "    </tr>\n",
       "    <tr>\n",
       "      <th id=\"T_a6266_level0_row15\" class=\"row_heading level0 row15\" >15</th>\n",
       "      <td id=\"T_a6266_row15_col0\" class=\"data row15 col0\" >Pool</td>\n",
       "      <td id=\"T_a6266_row15_col1\" class=\"data row15 col1\" >4.40%</td>\n",
       "    </tr>\n",
       "    <tr>\n",
       "      <th id=\"T_a6266_level0_row16\" class=\"row_heading level0 row16\" >16</th>\n",
       "      <td id=\"T_a6266_row16_col0\" class=\"data row16 col0\" >EnginePower</td>\n",
       "      <td id=\"T_a6266_row16_col1\" class=\"data row16 col1\" >4.00%</td>\n",
       "    </tr>\n",
       "    <tr>\n",
       "      <th id=\"T_a6266_level0_row17\" class=\"row_heading level0 row17\" >17</th>\n",
       "      <td id=\"T_a6266_row17_col0\" class=\"data row17 col0\" >WltpTestMass</td>\n",
       "      <td id=\"T_a6266_row17_col1\" class=\"data row17 col1\" >0.30%</td>\n",
       "    </tr>\n",
       "    <tr>\n",
       "      <th id=\"T_a6266_level0_row18\" class=\"row_heading level0 row18\" >18</th>\n",
       "      <td id=\"T_a6266_row18_col0\" class=\"data row18 col0\" >Variant</td>\n",
       "      <td id=\"T_a6266_row18_col1\" class=\"data row18 col1\" >0.20%</td>\n",
       "    </tr>\n",
       "    <tr>\n",
       "      <th id=\"T_a6266_level0_row19\" class=\"row_heading level0 row19\" >19</th>\n",
       "      <td id=\"T_a6266_row19_col0\" class=\"data row19 col0\" >Version</td>\n",
       "      <td id=\"T_a6266_row19_col1\" class=\"data row19 col1\" >0.20%</td>\n",
       "    </tr>\n",
       "    <tr>\n",
       "      <th id=\"T_a6266_level0_row20\" class=\"row_heading level0 row20\" >20</th>\n",
       "      <td id=\"T_a6266_row20_col0\" class=\"data row20 col0\" >Co2EmissionsWltp</td>\n",
       "      <td id=\"T_a6266_row20_col1\" class=\"data row20 col1\" >0.20%</td>\n",
       "    </tr>\n",
       "    <tr>\n",
       "      <th id=\"T_a6266_level0_row21\" class=\"row_heading level0 row21\" >21</th>\n",
       "      <td id=\"T_a6266_row21_col0\" class=\"data row21 col0\" >Country</td>\n",
       "      <td id=\"T_a6266_row21_col1\" class=\"data row21 col1\" >0.00%</td>\n",
       "    </tr>\n",
       "    <tr>\n",
       "      <th id=\"T_a6266_level0_row22\" class=\"row_heading level0 row22\" >22</th>\n",
       "      <td id=\"T_a6266_row22_col0\" class=\"data row22 col0\" >ManufNameOem</td>\n",
       "      <td id=\"T_a6266_row22_col1\" class=\"data row22 col1\" >0.00%</td>\n",
       "    </tr>\n",
       "    <tr>\n",
       "      <th id=\"T_a6266_level0_row23\" class=\"row_heading level0 row23\" >23</th>\n",
       "      <td id=\"T_a6266_row23_col0\" class=\"data row23 col0\" >ManufacturerName</td>\n",
       "      <td id=\"T_a6266_row23_col1\" class=\"data row23 col1\" >0.00%</td>\n",
       "    </tr>\n",
       "    <tr>\n",
       "      <th id=\"T_a6266_level0_row24\" class=\"row_heading level0 row24\" >24</th>\n",
       "      <td id=\"T_a6266_row24_col0\" class=\"data row24 col0\" >ID</td>\n",
       "      <td id=\"T_a6266_row24_col1\" class=\"data row24 col1\" >0.00%</td>\n",
       "    </tr>\n",
       "    <tr>\n",
       "      <th id=\"T_a6266_level0_row25\" class=\"row_heading level0 row25\" >25</th>\n",
       "      <td id=\"T_a6266_row25_col0\" class=\"data row25 col0\" >BaseWheel</td>\n",
       "      <td id=\"T_a6266_row25_col1\" class=\"data row25 col1\" >0.00%</td>\n",
       "    </tr>\n",
       "    <tr>\n",
       "      <th id=\"T_a6266_level0_row26\" class=\"row_heading level0 row26\" >26</th>\n",
       "      <td id=\"T_a6266_row26_col0\" class=\"data row26 col0\" >Type</td>\n",
       "      <td id=\"T_a6266_row26_col1\" class=\"data row26 col1\" >0.00%</td>\n",
       "    </tr>\n",
       "    <tr>\n",
       "      <th id=\"T_a6266_level0_row27\" class=\"row_heading level0 row27\" >27</th>\n",
       "      <td id=\"T_a6266_row27_col0\" class=\"data row27 col0\" >Make</td>\n",
       "      <td id=\"T_a6266_row27_col1\" class=\"data row27 col1\" >0.00%</td>\n",
       "    </tr>\n",
       "    <tr>\n",
       "      <th id=\"T_a6266_level0_row28\" class=\"row_heading level0 row28\" >28</th>\n",
       "      <td id=\"T_a6266_row28_col0\" class=\"data row28 col0\" >CommercialName</td>\n",
       "      <td id=\"T_a6266_row28_col1\" class=\"data row28 col1\" >0.00%</td>\n",
       "    </tr>\n",
       "    <tr>\n",
       "      <th id=\"T_a6266_level0_row29\" class=\"row_heading level0 row29\" >29</th>\n",
       "      <td id=\"T_a6266_row29_col0\" class=\"data row29 col0\" >VehicleCategory</td>\n",
       "      <td id=\"T_a6266_row29_col1\" class=\"data row29 col1\" >0.00%</td>\n",
       "    </tr>\n",
       "    <tr>\n",
       "      <th id=\"T_a6266_level0_row30\" class=\"row_heading level0 row30\" >30</th>\n",
       "      <td id=\"T_a6266_row30_col0\" class=\"data row30 col0\" >TypeApprovalNumber</td>\n",
       "      <td id=\"T_a6266_row30_col1\" class=\"data row30 col1\" >0.00%</td>\n",
       "    </tr>\n",
       "    <tr>\n",
       "      <th id=\"T_a6266_level0_row31\" class=\"row_heading level0 row31\" >31</th>\n",
       "      <td id=\"T_a6266_row31_col0\" class=\"data row31 col0\" >CategoryOf</td>\n",
       "      <td id=\"T_a6266_row31_col1\" class=\"data row31 col1\" >0.00%</td>\n",
       "    </tr>\n",
       "    <tr>\n",
       "      <th id=\"T_a6266_level0_row32\" class=\"row_heading level0 row32\" >32</th>\n",
       "      <td id=\"T_a6266_row32_col0\" class=\"data row32 col0\" >TotalNewRegistrations</td>\n",
       "      <td id=\"T_a6266_row32_col1\" class=\"data row32 col1\" >0.00%</td>\n",
       "    </tr>\n",
       "    <tr>\n",
       "      <th id=\"T_a6266_level0_row33\" class=\"row_heading level0 row33\" >33</th>\n",
       "      <td id=\"T_a6266_row33_col0\" class=\"data row33 col0\" >MassRunningOrder</td>\n",
       "      <td id=\"T_a6266_row33_col1\" class=\"data row33 col1\" >0.00%</td>\n",
       "    </tr>\n",
       "    <tr>\n",
       "      <th id=\"T_a6266_level0_row34\" class=\"row_heading level0 row34\" >34</th>\n",
       "      <td id=\"T_a6266_row34_col0\" class=\"data row34 col0\" >FuelType</td>\n",
       "      <td id=\"T_a6266_row34_col1\" class=\"data row34 col1\" >0.00%</td>\n",
       "    </tr>\n",
       "    <tr>\n",
       "      <th id=\"T_a6266_level0_row35\" class=\"row_heading level0 row35\" >35</th>\n",
       "      <td id=\"T_a6266_row35_col0\" class=\"data row35 col0\" >FuelMode</td>\n",
       "      <td id=\"T_a6266_row35_col1\" class=\"data row35 col1\" >0.00%</td>\n",
       "    </tr>\n",
       "    <tr>\n",
       "      <th id=\"T_a6266_level0_row36\" class=\"row_heading level0 row36\" >36</th>\n",
       "      <td id=\"T_a6266_row36_col0\" class=\"data row36 col0\" >Status</td>\n",
       "      <td id=\"T_a6266_row36_col1\" class=\"data row36 col1\" >0.00%</td>\n",
       "    </tr>\n",
       "    <tr>\n",
       "      <th id=\"T_a6266_level0_row37\" class=\"row_heading level0 row37\" >37</th>\n",
       "      <td id=\"T_a6266_row37_col0\" class=\"data row37 col0\" >RegistrationYear</td>\n",
       "      <td id=\"T_a6266_row37_col1\" class=\"data row37 col1\" >0.00%</td>\n",
       "    </tr>\n",
       "  </tbody>\n",
       "</table>\n"
      ],
      "text/plain": [
       "<pandas.io.formats.style.Styler at 0x7f9c842fddf0>"
      ]
     },
     "execution_count": 4,
     "metadata": {},
     "output_type": "execute_result"
    }
   ],
   "source": [
    "co2.styles.display_na(df)"
   ]
  },
  {
   "cell_type": "code",
   "execution_count": 5,
   "metadata": {},
   "outputs": [
    {
     "data": {
      "text/html": [
       "<style type=\"text/css\">\n",
       "#T_e0612 th {\n",
       "  background-color: steelblue;\n",
       "  color: white;\n",
       "}\n",
       "#T_e0612 tr:nth-of-type(odd) {\n",
       "  background-color: aliceblue;\n",
       "}\n",
       "#T_e0612 tr:nth-of-type(even) {\n",
       "  background-color: white;\n",
       "}\n",
       "</style>\n",
       "<table id=\"T_e0612\">\n",
       "  <thead>\n",
       "    <tr>\n",
       "      <th class=\"blank level0\" >&nbsp;</th>\n",
       "      <th id=\"T_e0612_level0_col0\" class=\"col_heading level0 col0\" >Colonne</th>\n",
       "      <th id=\"T_e0612_level0_col1\" class=\"col_heading level0 col1\" >count</th>\n",
       "      <th id=\"T_e0612_level0_col2\" class=\"col_heading level0 col2\" >mean</th>\n",
       "      <th id=\"T_e0612_level0_col3\" class=\"col_heading level0 col3\" >std</th>\n",
       "      <th id=\"T_e0612_level0_col4\" class=\"col_heading level0 col4\" >min</th>\n",
       "      <th id=\"T_e0612_level0_col5\" class=\"col_heading level0 col5\" >25%</th>\n",
       "      <th id=\"T_e0612_level0_col6\" class=\"col_heading level0 col6\" >50%</th>\n",
       "      <th id=\"T_e0612_level0_col7\" class=\"col_heading level0 col7\" >75%</th>\n",
       "      <th id=\"T_e0612_level0_col8\" class=\"col_heading level0 col8\" >max</th>\n",
       "    </tr>\n",
       "  </thead>\n",
       "  <tbody>\n",
       "    <tr>\n",
       "      <th id=\"T_e0612_level0_row0\" class=\"row_heading level0 row0\" >0</th>\n",
       "      <td id=\"T_e0612_row0_col0\" class=\"data row0 col0\" >ID</td>\n",
       "      <td id=\"T_e0612_row0_col1\" class=\"data row0 col1\" >1000.000</td>\n",
       "      <td id=\"T_e0612_row0_col2\" class=\"data row0 col2\" >53215423.644</td>\n",
       "      <td id=\"T_e0612_row0_col3\" class=\"data row0 col3\" >6731030.278</td>\n",
       "      <td id=\"T_e0612_row0_col4\" class=\"data row0 col4\" >40328060.000</td>\n",
       "      <td id=\"T_e0612_row0_col5\" class=\"data row0 col5\" >56399619.000</td>\n",
       "      <td id=\"T_e0612_row0_col6\" class=\"data row0 col6\" >56627730.000</td>\n",
       "      <td id=\"T_e0612_row0_col7\" class=\"data row0 col7\" >57326010.000</td>\n",
       "      <td id=\"T_e0612_row0_col8\" class=\"data row0 col8\" >57532772.000</td>\n",
       "    </tr>\n",
       "    <tr>\n",
       "      <th id=\"T_e0612_level0_row1\" class=\"row_heading level0 row1\" >1</th>\n",
       "      <td id=\"T_e0612_row1_col0\" class=\"data row1 col0\" >ManufNameMS</td>\n",
       "      <td id=\"T_e0612_row1_col1\" class=\"data row1 col1\" >0.000</td>\n",
       "      <td id=\"T_e0612_row1_col2\" class=\"data row1 col2\" >nan</td>\n",
       "      <td id=\"T_e0612_row1_col3\" class=\"data row1 col3\" >nan</td>\n",
       "      <td id=\"T_e0612_row1_col4\" class=\"data row1 col4\" >nan</td>\n",
       "      <td id=\"T_e0612_row1_col5\" class=\"data row1 col5\" >nan</td>\n",
       "      <td id=\"T_e0612_row1_col6\" class=\"data row1 col6\" >nan</td>\n",
       "      <td id=\"T_e0612_row1_col7\" class=\"data row1 col7\" >nan</td>\n",
       "      <td id=\"T_e0612_row1_col8\" class=\"data row1 col8\" >nan</td>\n",
       "    </tr>\n",
       "    <tr>\n",
       "      <th id=\"T_e0612_level0_row2\" class=\"row_heading level0 row2\" >2</th>\n",
       "      <td id=\"T_e0612_row2_col0\" class=\"data row2 col0\" >TotalNewRegistrations</td>\n",
       "      <td id=\"T_e0612_row2_col1\" class=\"data row2 col1\" >1000.000</td>\n",
       "      <td id=\"T_e0612_row2_col2\" class=\"data row2 col2\" >1.000</td>\n",
       "      <td id=\"T_e0612_row2_col3\" class=\"data row2 col3\" >0.000</td>\n",
       "      <td id=\"T_e0612_row2_col4\" class=\"data row2 col4\" >1.000</td>\n",
       "      <td id=\"T_e0612_row2_col5\" class=\"data row2 col5\" >1.000</td>\n",
       "      <td id=\"T_e0612_row2_col6\" class=\"data row2 col6\" >1.000</td>\n",
       "      <td id=\"T_e0612_row2_col7\" class=\"data row2 col7\" >1.000</td>\n",
       "      <td id=\"T_e0612_row2_col8\" class=\"data row2 col8\" >1.000</td>\n",
       "    </tr>\n",
       "    <tr>\n",
       "      <th id=\"T_e0612_level0_row3\" class=\"row_heading level0 row3\" >3</th>\n",
       "      <td id=\"T_e0612_row3_col0\" class=\"data row3 col0\" >MassRunningOrder</td>\n",
       "      <td id=\"T_e0612_row3_col1\" class=\"data row3 col1\" >1000.000</td>\n",
       "      <td id=\"T_e0612_row3_col2\" class=\"data row3 col2\" >1516.165</td>\n",
       "      <td id=\"T_e0612_row3_col3\" class=\"data row3 col3\" >355.227</td>\n",
       "      <td id=\"T_e0612_row3_col4\" class=\"data row3 col4\" >915.000</td>\n",
       "      <td id=\"T_e0612_row3_col5\" class=\"data row3 col5\" >1256.250</td>\n",
       "      <td id=\"T_e0612_row3_col6\" class=\"data row3 col6\" >1451.000</td>\n",
       "      <td id=\"T_e0612_row3_col7\" class=\"data row3 col7\" >1760.000</td>\n",
       "      <td id=\"T_e0612_row3_col8\" class=\"data row3 col8\" >2690.000</td>\n",
       "    </tr>\n",
       "    <tr>\n",
       "      <th id=\"T_e0612_level0_row4\" class=\"row_heading level0 row4\" >4</th>\n",
       "      <td id=\"T_e0612_row4_col0\" class=\"data row4 col0\" >WltpTestMass</td>\n",
       "      <td id=\"T_e0612_row4_col1\" class=\"data row4 col1\" >997.000</td>\n",
       "      <td id=\"T_e0612_row4_col2\" class=\"data row4 col2\" >1636.216</td>\n",
       "      <td id=\"T_e0612_row4_col3\" class=\"data row4 col3\" >367.798</td>\n",
       "      <td id=\"T_e0612_row4_col4\" class=\"data row4 col4\" >993.000</td>\n",
       "      <td id=\"T_e0612_row4_col5\" class=\"data row4 col5\" >1360.000</td>\n",
       "      <td id=\"T_e0612_row4_col6\" class=\"data row4 col6\" >1573.000</td>\n",
       "      <td id=\"T_e0612_row4_col7\" class=\"data row4 col7\" >1896.000</td>\n",
       "      <td id=\"T_e0612_row4_col8\" class=\"data row4 col8\" >3019.000</td>\n",
       "    </tr>\n",
       "    <tr>\n",
       "      <th id=\"T_e0612_level0_row5\" class=\"row_heading level0 row5\" >5</th>\n",
       "      <td id=\"T_e0612_row5_col0\" class=\"data row5 col0\" >Co2EmissionsNedc</td>\n",
       "      <td id=\"T_e0612_row5_col1\" class=\"data row5 col1\" >386.000</td>\n",
       "      <td id=\"T_e0612_row5_col2\" class=\"data row5 col2\" >52.316</td>\n",
       "      <td id=\"T_e0612_row5_col3\" class=\"data row5 col3\" >50.671</td>\n",
       "      <td id=\"T_e0612_row5_col4\" class=\"data row5 col4\" >0.000</td>\n",
       "      <td id=\"T_e0612_row5_col5\" class=\"data row5 col5\" >0.000</td>\n",
       "      <td id=\"T_e0612_row5_col6\" class=\"data row5 col6\" >36.000</td>\n",
       "      <td id=\"T_e0612_row5_col7\" class=\"data row5 col7\" >106.000</td>\n",
       "      <td id=\"T_e0612_row5_col8\" class=\"data row5 col8\" >225.000</td>\n",
       "    </tr>\n",
       "    <tr>\n",
       "      <th id=\"T_e0612_level0_row6\" class=\"row_heading level0 row6\" >6</th>\n",
       "      <td id=\"T_e0612_row6_col0\" class=\"data row6 col0\" >Co2EmissionsWltp</td>\n",
       "      <td id=\"T_e0612_row6_col1\" class=\"data row6 col1\" >998.000</td>\n",
       "      <td id=\"T_e0612_row6_col2\" class=\"data row6 col2\" >103.664</td>\n",
       "      <td id=\"T_e0612_row6_col3\" class=\"data row6 col3\" >54.939</td>\n",
       "      <td id=\"T_e0612_row6_col4\" class=\"data row6 col4\" >0.000</td>\n",
       "      <td id=\"T_e0612_row6_col5\" class=\"data row6 col5\" >56.000</td>\n",
       "      <td id=\"T_e0612_row6_col6\" class=\"data row6 col6\" >122.000</td>\n",
       "      <td id=\"T_e0612_row6_col7\" class=\"data row6 col7\" >138.000</td>\n",
       "      <td id=\"T_e0612_row6_col8\" class=\"data row6 col8\" >296.000</td>\n",
       "    </tr>\n",
       "    <tr>\n",
       "      <th id=\"T_e0612_level0_row7\" class=\"row_heading level0 row7\" >7</th>\n",
       "      <td id=\"T_e0612_row7_col0\" class=\"data row7 col0\" >BaseWheel</td>\n",
       "      <td id=\"T_e0612_row7_col1\" class=\"data row7 col1\" >1000.000</td>\n",
       "      <td id=\"T_e0612_row7_col2\" class=\"data row7 col2\" >2671.300</td>\n",
       "      <td id=\"T_e0612_row7_col3\" class=\"data row7 col3\" >159.378</td>\n",
       "      <td id=\"T_e0612_row7_col4\" class=\"data row7 col4\" >2300.000</td>\n",
       "      <td id=\"T_e0612_row7_col5\" class=\"data row7 col5\" >2577.500</td>\n",
       "      <td id=\"T_e0612_row7_col6\" class=\"data row7 col6\" >2670.000</td>\n",
       "      <td id=\"T_e0612_row7_col7\" class=\"data row7 col7\" >2770.000</td>\n",
       "      <td id=\"T_e0612_row7_col8\" class=\"data row7 col8\" >4395.000</td>\n",
       "    </tr>\n",
       "    <tr>\n",
       "      <th id=\"T_e0612_level0_row8\" class=\"row_heading level0 row8\" >8</th>\n",
       "      <td id=\"T_e0612_row8_col0\" class=\"data row8 col0\" >AxleWidthSteering</td>\n",
       "      <td id=\"T_e0612_row8_col1\" class=\"data row8 col1\" >903.000</td>\n",
       "      <td id=\"T_e0612_row8_col2\" class=\"data row8 col2\" >1553.004</td>\n",
       "      <td id=\"T_e0612_row8_col3\" class=\"data row8 col3\" >57.062</td>\n",
       "      <td id=\"T_e0612_row8_col4\" class=\"data row8 col4\" >1385.000</td>\n",
       "      <td id=\"T_e0612_row8_col5\" class=\"data row8 col5\" >1520.000</td>\n",
       "      <td id=\"T_e0612_row8_col6\" class=\"data row8 col6\" >1560.000</td>\n",
       "      <td id=\"T_e0612_row8_col7\" class=\"data row8 col7\" >1590.000</td>\n",
       "      <td id=\"T_e0612_row8_col8\" class=\"data row8 col8\" >1750.000</td>\n",
       "    </tr>\n",
       "    <tr>\n",
       "      <th id=\"T_e0612_level0_row9\" class=\"row_heading level0 row9\" >9</th>\n",
       "      <td id=\"T_e0612_row9_col0\" class=\"data row9 col0\" >AxleWidthOther</td>\n",
       "      <td id=\"T_e0612_row9_col1\" class=\"data row9 col1\" >903.000</td>\n",
       "      <td id=\"T_e0612_row9_col2\" class=\"data row9 col2\" >1552.161</td>\n",
       "      <td id=\"T_e0612_row9_col3\" class=\"data row9 col3\" >61.348</td>\n",
       "      <td id=\"T_e0612_row9_col4\" class=\"data row9 col4\" >1365.000</td>\n",
       "      <td id=\"T_e0612_row9_col5\" class=\"data row9 col5\" >1518.000</td>\n",
       "      <td id=\"T_e0612_row9_col6\" class=\"data row9 col6\" >1560.000</td>\n",
       "      <td id=\"T_e0612_row9_col7\" class=\"data row9 col7\" >1590.000</td>\n",
       "      <td id=\"T_e0612_row9_col8\" class=\"data row9 col8\" >1732.000</td>\n",
       "    </tr>\n",
       "    <tr>\n",
       "      <th id=\"T_e0612_level0_row10\" class=\"row_heading level0 row10\" >10</th>\n",
       "      <td id=\"T_e0612_row10_col0\" class=\"data row10 col0\" >EngineCapacity</td>\n",
       "      <td id=\"T_e0612_row10_col1\" class=\"data row10 col1\" >870.000</td>\n",
       "      <td id=\"T_e0612_row10_col2\" class=\"data row10 col2\" >1476.595</td>\n",
       "      <td id=\"T_e0612_row10_col3\" class=\"data row10 col3\" >447.475</td>\n",
       "      <td id=\"T_e0612_row10_col4\" class=\"data row10 col4\" >998.000</td>\n",
       "      <td id=\"T_e0612_row10_col5\" class=\"data row10 col5\" >999.000</td>\n",
       "      <td id=\"T_e0612_row10_col6\" class=\"data row10 col6\" >1477.000</td>\n",
       "      <td id=\"T_e0612_row10_col7\" class=\"data row10 col7\" >1798.000</td>\n",
       "      <td id=\"T_e0612_row10_col8\" class=\"data row10 col8\" >3996.000</td>\n",
       "    </tr>\n",
       "    <tr>\n",
       "      <th id=\"T_e0612_level0_row11\" class=\"row_heading level0 row11\" >11</th>\n",
       "      <td id=\"T_e0612_row11_col0\" class=\"data row11 col0\" >EnginePower</td>\n",
       "      <td id=\"T_e0612_row11_col1\" class=\"data row11 col1\" >960.000</td>\n",
       "      <td id=\"T_e0612_row11_col2\" class=\"data row11 col2\" >107.414</td>\n",
       "      <td id=\"T_e0612_row11_col3\" class=\"data row11 col3\" >48.962</td>\n",
       "      <td id=\"T_e0612_row11_col4\" class=\"data row11 col4\" >33.000</td>\n",
       "      <td id=\"T_e0612_row11_col5\" class=\"data row11 col5\" >74.000</td>\n",
       "      <td id=\"T_e0612_row11_col6\" class=\"data row11 col6\" >98.000</td>\n",
       "      <td id=\"T_e0612_row11_col7\" class=\"data row11 col7\" >120.000</td>\n",
       "      <td id=\"T_e0612_row11_col8\" class=\"data row11 col8\" >441.000</td>\n",
       "    </tr>\n",
       "    <tr>\n",
       "      <th id=\"T_e0612_level0_row12\" class=\"row_heading level0 row12\" >12</th>\n",
       "      <td id=\"T_e0612_row12_col0\" class=\"data row12 col0\" >ElectricConsumption</td>\n",
       "      <td id=\"T_e0612_row12_col1\" class=\"data row12 col1\" >206.000</td>\n",
       "      <td id=\"T_e0612_row12_col2\" class=\"data row12 col2\" >172.403</td>\n",
       "      <td id=\"T_e0612_row12_col3\" class=\"data row12 col3\" >28.104</td>\n",
       "      <td id=\"T_e0612_row12_col4\" class=\"data row12 col4\" >116.000</td>\n",
       "      <td id=\"T_e0612_row12_col5\" class=\"data row12 col5\" >158.000</td>\n",
       "      <td id=\"T_e0612_row12_col6\" class=\"data row12 col6\" >168.000</td>\n",
       "      <td id=\"T_e0612_row12_col7\" class=\"data row12 col7\" >179.000</td>\n",
       "      <td id=\"T_e0612_row12_col8\" class=\"data row12 col8\" >373.000</td>\n",
       "    </tr>\n",
       "    <tr>\n",
       "      <th id=\"T_e0612_level0_row13\" class=\"row_heading level0 row13\" >13</th>\n",
       "      <td id=\"T_e0612_row13_col0\" class=\"data row13 col0\" >InnovativeEmissionsReduction</td>\n",
       "      <td id=\"T_e0612_row13_col1\" class=\"data row13 col1\" >0.000</td>\n",
       "      <td id=\"T_e0612_row13_col2\" class=\"data row13 col2\" >nan</td>\n",
       "      <td id=\"T_e0612_row13_col3\" class=\"data row13 col3\" >nan</td>\n",
       "      <td id=\"T_e0612_row13_col4\" class=\"data row13 col4\" >nan</td>\n",
       "      <td id=\"T_e0612_row13_col5\" class=\"data row13 col5\" >nan</td>\n",
       "      <td id=\"T_e0612_row13_col6\" class=\"data row13 col6\" >nan</td>\n",
       "      <td id=\"T_e0612_row13_col7\" class=\"data row13 col7\" >nan</td>\n",
       "      <td id=\"T_e0612_row13_col8\" class=\"data row13 col8\" >nan</td>\n",
       "    </tr>\n",
       "    <tr>\n",
       "      <th id=\"T_e0612_level0_row14\" class=\"row_heading level0 row14\" >14</th>\n",
       "      <td id=\"T_e0612_row14_col0\" class=\"data row14 col0\" >InnovativeEmissionsReductionWltp</td>\n",
       "      <td id=\"T_e0612_row14_col1\" class=\"data row14 col1\" >342.000</td>\n",
       "      <td id=\"T_e0612_row14_col2\" class=\"data row14 col2\" >1.668</td>\n",
       "      <td id=\"T_e0612_row14_col3\" class=\"data row14 col3\" >0.615</td>\n",
       "      <td id=\"T_e0612_row14_col4\" class=\"data row14 col4\" >0.600</td>\n",
       "      <td id=\"T_e0612_row14_col5\" class=\"data row14 col5\" >1.100</td>\n",
       "      <td id=\"T_e0612_row14_col6\" class=\"data row14 col6\" >1.800</td>\n",
       "      <td id=\"T_e0612_row14_col7\" class=\"data row14 col7\" >2.100</td>\n",
       "      <td id=\"T_e0612_row14_col8\" class=\"data row14 col8\" >4.300</td>\n",
       "    </tr>\n",
       "    <tr>\n",
       "      <th id=\"T_e0612_level0_row15\" class=\"row_heading level0 row15\" >15</th>\n",
       "      <td id=\"T_e0612_row15_col0\" class=\"data row15 col0\" >DeviationFactor</td>\n",
       "      <td id=\"T_e0612_row15_col1\" class=\"data row15 col1\" >0.000</td>\n",
       "      <td id=\"T_e0612_row15_col2\" class=\"data row15 col2\" >nan</td>\n",
       "      <td id=\"T_e0612_row15_col3\" class=\"data row15 col3\" >nan</td>\n",
       "      <td id=\"T_e0612_row15_col4\" class=\"data row15 col4\" >nan</td>\n",
       "      <td id=\"T_e0612_row15_col5\" class=\"data row15 col5\" >nan</td>\n",
       "      <td id=\"T_e0612_row15_col6\" class=\"data row15 col6\" >nan</td>\n",
       "      <td id=\"T_e0612_row15_col7\" class=\"data row15 col7\" >nan</td>\n",
       "      <td id=\"T_e0612_row15_col8\" class=\"data row15 col8\" >nan</td>\n",
       "    </tr>\n",
       "    <tr>\n",
       "      <th id=\"T_e0612_level0_row16\" class=\"row_heading level0 row16\" >16</th>\n",
       "      <td id=\"T_e0612_row16_col0\" class=\"data row16 col0\" >VerificationFactor</td>\n",
       "      <td id=\"T_e0612_row16_col1\" class=\"data row16 col1\" >0.000</td>\n",
       "      <td id=\"T_e0612_row16_col2\" class=\"data row16 col2\" >nan</td>\n",
       "      <td id=\"T_e0612_row16_col3\" class=\"data row16 col3\" >nan</td>\n",
       "      <td id=\"T_e0612_row16_col4\" class=\"data row16 col4\" >nan</td>\n",
       "      <td id=\"T_e0612_row16_col5\" class=\"data row16 col5\" >nan</td>\n",
       "      <td id=\"T_e0612_row16_col6\" class=\"data row16 col6\" >nan</td>\n",
       "      <td id=\"T_e0612_row16_col7\" class=\"data row16 col7\" >nan</td>\n",
       "      <td id=\"T_e0612_row16_col8\" class=\"data row16 col8\" >nan</td>\n",
       "    </tr>\n",
       "    <tr>\n",
       "      <th id=\"T_e0612_level0_row17\" class=\"row_heading level0 row17\" >17</th>\n",
       "      <td id=\"T_e0612_row17_col0\" class=\"data row17 col0\" >RegistrationYear</td>\n",
       "      <td id=\"T_e0612_row17_col1\" class=\"data row17 col1\" >1000.000</td>\n",
       "      <td id=\"T_e0612_row17_col2\" class=\"data row17 col2\" >2021.000</td>\n",
       "      <td id=\"T_e0612_row17_col3\" class=\"data row17 col3\" >0.000</td>\n",
       "      <td id=\"T_e0612_row17_col4\" class=\"data row17 col4\" >2021.000</td>\n",
       "      <td id=\"T_e0612_row17_col5\" class=\"data row17 col5\" >2021.000</td>\n",
       "      <td id=\"T_e0612_row17_col6\" class=\"data row17 col6\" >2021.000</td>\n",
       "      <td id=\"T_e0612_row17_col7\" class=\"data row17 col7\" >2021.000</td>\n",
       "      <td id=\"T_e0612_row17_col8\" class=\"data row17 col8\" >2021.000</td>\n",
       "    </tr>\n",
       "    <tr>\n",
       "      <th id=\"T_e0612_level0_row18\" class=\"row_heading level0 row18\" >18</th>\n",
       "      <td id=\"T_e0612_row18_col0\" class=\"data row18 col0\" >FuelConsumption</td>\n",
       "      <td id=\"T_e0612_row18_col1\" class=\"data row18 col1\" >301.000</td>\n",
       "      <td id=\"T_e0612_row18_col2\" class=\"data row18 col2\" >4.913</td>\n",
       "      <td id=\"T_e0612_row18_col3\" class=\"data row18 col3\" >0.953</td>\n",
       "      <td id=\"T_e0612_row18_col4\" class=\"data row18 col4\" >1.700</td>\n",
       "      <td id=\"T_e0612_row18_col5\" class=\"data row18 col5\" >4.300</td>\n",
       "      <td id=\"T_e0612_row18_col6\" class=\"data row18 col6\" >4.800</td>\n",
       "      <td id=\"T_e0612_row18_col7\" class=\"data row18 col7\" >5.300</td>\n",
       "      <td id=\"T_e0612_row18_col8\" class=\"data row18 col8\" >11.600</td>\n",
       "    </tr>\n",
       "    <tr>\n",
       "      <th id=\"T_e0612_level0_row19\" class=\"row_heading level0 row19\" >19</th>\n",
       "      <td id=\"T_e0612_row19_col0\" class=\"data row19 col0\" >ElectricRange</td>\n",
       "      <td id=\"T_e0612_row19_col1\" class=\"data row19 col1\" >217.000</td>\n",
       "      <td id=\"T_e0612_row19_col2\" class=\"data row19 col2\" >256.249</td>\n",
       "      <td id=\"T_e0612_row19_col3\" class=\"data row19 col3\" >198.666</td>\n",
       "      <td id=\"T_e0612_row19_col4\" class=\"data row19 col4\" >39.000</td>\n",
       "      <td id=\"T_e0612_row19_col5\" class=\"data row19 col5\" >57.000</td>\n",
       "      <td id=\"T_e0612_row19_col6\" class=\"data row19 col6\" >256.000</td>\n",
       "      <td id=\"T_e0612_row19_col7\" class=\"data row19 col7\" >442.000</td>\n",
       "      <td id=\"T_e0612_row19_col8\" class=\"data row19 col8\" >614.000</td>\n",
       "    </tr>\n",
       "  </tbody>\n",
       "</table>\n"
      ],
      "text/plain": [
       "<pandas.io.formats.style.Styler at 0x7f9c84375100>"
      ]
     },
     "metadata": {},
     "output_type": "display_data"
    }
   ],
   "source": [
    "co2.styles.display_describe(df)"
   ]
  },
  {
   "cell_type": "code",
   "execution_count": 6,
   "metadata": {},
   "outputs": [
    {
     "name": "stdout",
     "output_type": "stream",
     "text": [
      "<class 'pandas.core.frame.DataFrame'>\n",
      "RangeIndex: 1000 entries, 0 to 999\n",
      "Data columns (total 38 columns):\n",
      " #   Column                            Non-Null Count  Dtype  \n",
      "---  ------                            --------------  -----  \n",
      " 0   ID                                1000 non-null   int64  \n",
      " 1   Country                           1000 non-null   object \n",
      " 2   VehicleFamilyIdentification       781 non-null    object \n",
      " 3   Pool                              956 non-null    object \n",
      " 4   ManufacturerName                  1000 non-null   object \n",
      " 5   ManufNameOem                      1000 non-null   object \n",
      " 6   ManufNameMS                       0 non-null      float64\n",
      " 7   TypeApprovalNumber                1000 non-null   object \n",
      " 8   Type                              1000 non-null   object \n",
      " 9   Variant                           998 non-null    object \n",
      " 10  Version                           998 non-null    object \n",
      " 11  Make                              1000 non-null   object \n",
      " 12  CommercialName                    1000 non-null   object \n",
      " 13  VehicleCategory                   1000 non-null   object \n",
      " 14  CategoryOf                        1000 non-null   object \n",
      " 15  TotalNewRegistrations             1000 non-null   int64  \n",
      " 16  MassRunningOrder                  1000 non-null   float64\n",
      " 17  WltpTestMass                      997 non-null    float64\n",
      " 18  Co2EmissionsNedc                  386 non-null    float64\n",
      " 19  Co2EmissionsWltp                  998 non-null    float64\n",
      " 20  BaseWheel                         1000 non-null   float64\n",
      " 21  AxleWidthSteering                 903 non-null    float64\n",
      " 22  AxleWidthOther                    903 non-null    float64\n",
      " 23  FuelType                          1000 non-null   object \n",
      " 24  FuelMode                          1000 non-null   object \n",
      " 25  EngineCapacity                    870 non-null    float64\n",
      " 26  EnginePower                       960 non-null    float64\n",
      " 27  ElectricConsumption               206 non-null    float64\n",
      " 28  InnovativeTechnology              369 non-null    object \n",
      " 29  InnovativeEmissionsReduction      0 non-null      float64\n",
      " 30  InnovativeEmissionsReductionWltp  342 non-null    float64\n",
      " 31  DeviationFactor                   0 non-null      float64\n",
      " 32  VerificationFactor                0 non-null      float64\n",
      " 33  Status                            1000 non-null   object \n",
      " 34  RegistrationYear                  1000 non-null   int64  \n",
      " 35  RegistrationDate                  407 non-null    object \n",
      " 36  FuelConsumption                   301 non-null    float64\n",
      " 37  ElectricRange                     217 non-null    float64\n",
      "dtypes: float64(17), int64(3), object(18)\n",
      "memory usage: 297.0+ KB\n"
     ]
    }
   ],
   "source": [
    "df.info()"
   ]
  },
  {
   "cell_type": "code",
   "execution_count": 7,
   "metadata": {},
   "outputs": [
    {
     "data": {
      "text/html": [
       "<style type=\"text/css\">\n",
       "#T_50187 th {\n",
       "  background-color: steelblue;\n",
       "  color: white;\n",
       "}\n",
       "#T_50187 tr:nth-of-type(odd) {\n",
       "  background-color: aliceblue;\n",
       "}\n",
       "#T_50187 tr:nth-of-type(even) {\n",
       "  background-color: white;\n",
       "}\n",
       "</style>\n",
       "<table id=\"T_50187\">\n",
       "  <thead>\n",
       "    <tr>\n",
       "      <th class=\"blank level0\" >&nbsp;</th>\n",
       "      <th id=\"T_50187_level0_col0\" class=\"col_heading level0 col0\" >Column</th>\n",
       "      <th id=\"T_50187_level0_col1\" class=\"col_heading level0 col1\" >Non-Null Count</th>\n",
       "      <th id=\"T_50187_level0_col2\" class=\"col_heading level0 col2\" >Dtype</th>\n",
       "    </tr>\n",
       "  </thead>\n",
       "  <tbody>\n",
       "    <tr>\n",
       "      <th id=\"T_50187_level0_row0\" class=\"row_heading level0 row0\" >0</th>\n",
       "      <td id=\"T_50187_row0_col0\" class=\"data row0 col0\" >ID</td>\n",
       "      <td id=\"T_50187_row0_col1\" class=\"data row0 col1\" >1000 non-null</td>\n",
       "      <td id=\"T_50187_row0_col2\" class=\"data row0 col2\" >int64</td>\n",
       "    </tr>\n",
       "    <tr>\n",
       "      <th id=\"T_50187_level0_row1\" class=\"row_heading level0 row1\" >1</th>\n",
       "      <td id=\"T_50187_row1_col0\" class=\"data row1 col0\" >Country</td>\n",
       "      <td id=\"T_50187_row1_col1\" class=\"data row1 col1\" >1000 non-null</td>\n",
       "      <td id=\"T_50187_row1_col2\" class=\"data row1 col2\" >object</td>\n",
       "    </tr>\n",
       "    <tr>\n",
       "      <th id=\"T_50187_level0_row2\" class=\"row_heading level0 row2\" >2</th>\n",
       "      <td id=\"T_50187_row2_col0\" class=\"data row2 col0\" >VehicleFamilyIdentification</td>\n",
       "      <td id=\"T_50187_row2_col1\" class=\"data row2 col1\" >781 non-null</td>\n",
       "      <td id=\"T_50187_row2_col2\" class=\"data row2 col2\" >object</td>\n",
       "    </tr>\n",
       "    <tr>\n",
       "      <th id=\"T_50187_level0_row3\" class=\"row_heading level0 row3\" >3</th>\n",
       "      <td id=\"T_50187_row3_col0\" class=\"data row3 col0\" >Pool</td>\n",
       "      <td id=\"T_50187_row3_col1\" class=\"data row3 col1\" >956 non-null</td>\n",
       "      <td id=\"T_50187_row3_col2\" class=\"data row3 col2\" >object</td>\n",
       "    </tr>\n",
       "    <tr>\n",
       "      <th id=\"T_50187_level0_row4\" class=\"row_heading level0 row4\" >4</th>\n",
       "      <td id=\"T_50187_row4_col0\" class=\"data row4 col0\" >ManufacturerName</td>\n",
       "      <td id=\"T_50187_row4_col1\" class=\"data row4 col1\" >1000 non-null</td>\n",
       "      <td id=\"T_50187_row4_col2\" class=\"data row4 col2\" >object</td>\n",
       "    </tr>\n",
       "    <tr>\n",
       "      <th id=\"T_50187_level0_row5\" class=\"row_heading level0 row5\" >5</th>\n",
       "      <td id=\"T_50187_row5_col0\" class=\"data row5 col0\" >ManufNameOem</td>\n",
       "      <td id=\"T_50187_row5_col1\" class=\"data row5 col1\" >1000 non-null</td>\n",
       "      <td id=\"T_50187_row5_col2\" class=\"data row5 col2\" >object</td>\n",
       "    </tr>\n",
       "    <tr>\n",
       "      <th id=\"T_50187_level0_row6\" class=\"row_heading level0 row6\" >6</th>\n",
       "      <td id=\"T_50187_row6_col0\" class=\"data row6 col0\" >ManufNameMS</td>\n",
       "      <td id=\"T_50187_row6_col1\" class=\"data row6 col1\" >0 non-null</td>\n",
       "      <td id=\"T_50187_row6_col2\" class=\"data row6 col2\" >float64</td>\n",
       "    </tr>\n",
       "    <tr>\n",
       "      <th id=\"T_50187_level0_row7\" class=\"row_heading level0 row7\" >7</th>\n",
       "      <td id=\"T_50187_row7_col0\" class=\"data row7 col0\" >TypeApprovalNumber</td>\n",
       "      <td id=\"T_50187_row7_col1\" class=\"data row7 col1\" >1000 non-null</td>\n",
       "      <td id=\"T_50187_row7_col2\" class=\"data row7 col2\" >object</td>\n",
       "    </tr>\n",
       "    <tr>\n",
       "      <th id=\"T_50187_level0_row8\" class=\"row_heading level0 row8\" >8</th>\n",
       "      <td id=\"T_50187_row8_col0\" class=\"data row8 col0\" >Type</td>\n",
       "      <td id=\"T_50187_row8_col1\" class=\"data row8 col1\" >1000 non-null</td>\n",
       "      <td id=\"T_50187_row8_col2\" class=\"data row8 col2\" >object</td>\n",
       "    </tr>\n",
       "    <tr>\n",
       "      <th id=\"T_50187_level0_row9\" class=\"row_heading level0 row9\" >9</th>\n",
       "      <td id=\"T_50187_row9_col0\" class=\"data row9 col0\" >Variant</td>\n",
       "      <td id=\"T_50187_row9_col1\" class=\"data row9 col1\" >998 non-null</td>\n",
       "      <td id=\"T_50187_row9_col2\" class=\"data row9 col2\" >object</td>\n",
       "    </tr>\n",
       "    <tr>\n",
       "      <th id=\"T_50187_level0_row10\" class=\"row_heading level0 row10\" >10</th>\n",
       "      <td id=\"T_50187_row10_col0\" class=\"data row10 col0\" >Version</td>\n",
       "      <td id=\"T_50187_row10_col1\" class=\"data row10 col1\" >998 non-null</td>\n",
       "      <td id=\"T_50187_row10_col2\" class=\"data row10 col2\" >object</td>\n",
       "    </tr>\n",
       "    <tr>\n",
       "      <th id=\"T_50187_level0_row11\" class=\"row_heading level0 row11\" >11</th>\n",
       "      <td id=\"T_50187_row11_col0\" class=\"data row11 col0\" >Make</td>\n",
       "      <td id=\"T_50187_row11_col1\" class=\"data row11 col1\" >1000 non-null</td>\n",
       "      <td id=\"T_50187_row11_col2\" class=\"data row11 col2\" >object</td>\n",
       "    </tr>\n",
       "    <tr>\n",
       "      <th id=\"T_50187_level0_row12\" class=\"row_heading level0 row12\" >12</th>\n",
       "      <td id=\"T_50187_row12_col0\" class=\"data row12 col0\" >CommercialName</td>\n",
       "      <td id=\"T_50187_row12_col1\" class=\"data row12 col1\" >1000 non-null</td>\n",
       "      <td id=\"T_50187_row12_col2\" class=\"data row12 col2\" >object</td>\n",
       "    </tr>\n",
       "    <tr>\n",
       "      <th id=\"T_50187_level0_row13\" class=\"row_heading level0 row13\" >13</th>\n",
       "      <td id=\"T_50187_row13_col0\" class=\"data row13 col0\" >VehicleCategory</td>\n",
       "      <td id=\"T_50187_row13_col1\" class=\"data row13 col1\" >1000 non-null</td>\n",
       "      <td id=\"T_50187_row13_col2\" class=\"data row13 col2\" >object</td>\n",
       "    </tr>\n",
       "    <tr>\n",
       "      <th id=\"T_50187_level0_row14\" class=\"row_heading level0 row14\" >14</th>\n",
       "      <td id=\"T_50187_row14_col0\" class=\"data row14 col0\" >CategoryOf</td>\n",
       "      <td id=\"T_50187_row14_col1\" class=\"data row14 col1\" >1000 non-null</td>\n",
       "      <td id=\"T_50187_row14_col2\" class=\"data row14 col2\" >object</td>\n",
       "    </tr>\n",
       "    <tr>\n",
       "      <th id=\"T_50187_level0_row15\" class=\"row_heading level0 row15\" >15</th>\n",
       "      <td id=\"T_50187_row15_col0\" class=\"data row15 col0\" >TotalNewRegistrations</td>\n",
       "      <td id=\"T_50187_row15_col1\" class=\"data row15 col1\" >1000 non-null</td>\n",
       "      <td id=\"T_50187_row15_col2\" class=\"data row15 col2\" >int64</td>\n",
       "    </tr>\n",
       "    <tr>\n",
       "      <th id=\"T_50187_level0_row16\" class=\"row_heading level0 row16\" >16</th>\n",
       "      <td id=\"T_50187_row16_col0\" class=\"data row16 col0\" >MassRunningOrder</td>\n",
       "      <td id=\"T_50187_row16_col1\" class=\"data row16 col1\" >1000 non-null</td>\n",
       "      <td id=\"T_50187_row16_col2\" class=\"data row16 col2\" >float64</td>\n",
       "    </tr>\n",
       "    <tr>\n",
       "      <th id=\"T_50187_level0_row17\" class=\"row_heading level0 row17\" >17</th>\n",
       "      <td id=\"T_50187_row17_col0\" class=\"data row17 col0\" >WltpTestMass</td>\n",
       "      <td id=\"T_50187_row17_col1\" class=\"data row17 col1\" >997 non-null</td>\n",
       "      <td id=\"T_50187_row17_col2\" class=\"data row17 col2\" >float64</td>\n",
       "    </tr>\n",
       "    <tr>\n",
       "      <th id=\"T_50187_level0_row18\" class=\"row_heading level0 row18\" >18</th>\n",
       "      <td id=\"T_50187_row18_col0\" class=\"data row18 col0\" >Co2EmissionsNedc</td>\n",
       "      <td id=\"T_50187_row18_col1\" class=\"data row18 col1\" >386 non-null</td>\n",
       "      <td id=\"T_50187_row18_col2\" class=\"data row18 col2\" >float64</td>\n",
       "    </tr>\n",
       "    <tr>\n",
       "      <th id=\"T_50187_level0_row19\" class=\"row_heading level0 row19\" >19</th>\n",
       "      <td id=\"T_50187_row19_col0\" class=\"data row19 col0\" >Co2EmissionsWltp</td>\n",
       "      <td id=\"T_50187_row19_col1\" class=\"data row19 col1\" >998 non-null</td>\n",
       "      <td id=\"T_50187_row19_col2\" class=\"data row19 col2\" >float64</td>\n",
       "    </tr>\n",
       "    <tr>\n",
       "      <th id=\"T_50187_level0_row20\" class=\"row_heading level0 row20\" >20</th>\n",
       "      <td id=\"T_50187_row20_col0\" class=\"data row20 col0\" >BaseWheel</td>\n",
       "      <td id=\"T_50187_row20_col1\" class=\"data row20 col1\" >1000 non-null</td>\n",
       "      <td id=\"T_50187_row20_col2\" class=\"data row20 col2\" >float64</td>\n",
       "    </tr>\n",
       "    <tr>\n",
       "      <th id=\"T_50187_level0_row21\" class=\"row_heading level0 row21\" >21</th>\n",
       "      <td id=\"T_50187_row21_col0\" class=\"data row21 col0\" >AxleWidthSteering</td>\n",
       "      <td id=\"T_50187_row21_col1\" class=\"data row21 col1\" >903 non-null</td>\n",
       "      <td id=\"T_50187_row21_col2\" class=\"data row21 col2\" >float64</td>\n",
       "    </tr>\n",
       "    <tr>\n",
       "      <th id=\"T_50187_level0_row22\" class=\"row_heading level0 row22\" >22</th>\n",
       "      <td id=\"T_50187_row22_col0\" class=\"data row22 col0\" >AxleWidthOther</td>\n",
       "      <td id=\"T_50187_row22_col1\" class=\"data row22 col1\" >903 non-null</td>\n",
       "      <td id=\"T_50187_row22_col2\" class=\"data row22 col2\" >float64</td>\n",
       "    </tr>\n",
       "    <tr>\n",
       "      <th id=\"T_50187_level0_row23\" class=\"row_heading level0 row23\" >23</th>\n",
       "      <td id=\"T_50187_row23_col0\" class=\"data row23 col0\" >FuelType</td>\n",
       "      <td id=\"T_50187_row23_col1\" class=\"data row23 col1\" >1000 non-null</td>\n",
       "      <td id=\"T_50187_row23_col2\" class=\"data row23 col2\" >object</td>\n",
       "    </tr>\n",
       "    <tr>\n",
       "      <th id=\"T_50187_level0_row24\" class=\"row_heading level0 row24\" >24</th>\n",
       "      <td id=\"T_50187_row24_col0\" class=\"data row24 col0\" >FuelMode</td>\n",
       "      <td id=\"T_50187_row24_col1\" class=\"data row24 col1\" >1000 non-null</td>\n",
       "      <td id=\"T_50187_row24_col2\" class=\"data row24 col2\" >object</td>\n",
       "    </tr>\n",
       "    <tr>\n",
       "      <th id=\"T_50187_level0_row25\" class=\"row_heading level0 row25\" >25</th>\n",
       "      <td id=\"T_50187_row25_col0\" class=\"data row25 col0\" >EngineCapacity</td>\n",
       "      <td id=\"T_50187_row25_col1\" class=\"data row25 col1\" >870 non-null</td>\n",
       "      <td id=\"T_50187_row25_col2\" class=\"data row25 col2\" >float64</td>\n",
       "    </tr>\n",
       "    <tr>\n",
       "      <th id=\"T_50187_level0_row26\" class=\"row_heading level0 row26\" >26</th>\n",
       "      <td id=\"T_50187_row26_col0\" class=\"data row26 col0\" >EnginePower</td>\n",
       "      <td id=\"T_50187_row26_col1\" class=\"data row26 col1\" >960 non-null</td>\n",
       "      <td id=\"T_50187_row26_col2\" class=\"data row26 col2\" >float64</td>\n",
       "    </tr>\n",
       "    <tr>\n",
       "      <th id=\"T_50187_level0_row27\" class=\"row_heading level0 row27\" >27</th>\n",
       "      <td id=\"T_50187_row27_col0\" class=\"data row27 col0\" >ElectricConsumption</td>\n",
       "      <td id=\"T_50187_row27_col1\" class=\"data row27 col1\" >206 non-null</td>\n",
       "      <td id=\"T_50187_row27_col2\" class=\"data row27 col2\" >float64</td>\n",
       "    </tr>\n",
       "    <tr>\n",
       "      <th id=\"T_50187_level0_row28\" class=\"row_heading level0 row28\" >28</th>\n",
       "      <td id=\"T_50187_row28_col0\" class=\"data row28 col0\" >InnovativeTechnology</td>\n",
       "      <td id=\"T_50187_row28_col1\" class=\"data row28 col1\" >369 non-null</td>\n",
       "      <td id=\"T_50187_row28_col2\" class=\"data row28 col2\" >object</td>\n",
       "    </tr>\n",
       "    <tr>\n",
       "      <th id=\"T_50187_level0_row29\" class=\"row_heading level0 row29\" >29</th>\n",
       "      <td id=\"T_50187_row29_col0\" class=\"data row29 col0\" >InnovativeEmissionsReduction</td>\n",
       "      <td id=\"T_50187_row29_col1\" class=\"data row29 col1\" >0 non-null</td>\n",
       "      <td id=\"T_50187_row29_col2\" class=\"data row29 col2\" >float64</td>\n",
       "    </tr>\n",
       "    <tr>\n",
       "      <th id=\"T_50187_level0_row30\" class=\"row_heading level0 row30\" >30</th>\n",
       "      <td id=\"T_50187_row30_col0\" class=\"data row30 col0\" >InnovativeEmissionsReductionWltp</td>\n",
       "      <td id=\"T_50187_row30_col1\" class=\"data row30 col1\" >342 non-null</td>\n",
       "      <td id=\"T_50187_row30_col2\" class=\"data row30 col2\" >float64</td>\n",
       "    </tr>\n",
       "    <tr>\n",
       "      <th id=\"T_50187_level0_row31\" class=\"row_heading level0 row31\" >31</th>\n",
       "      <td id=\"T_50187_row31_col0\" class=\"data row31 col0\" >DeviationFactor</td>\n",
       "      <td id=\"T_50187_row31_col1\" class=\"data row31 col1\" >0 non-null</td>\n",
       "      <td id=\"T_50187_row31_col2\" class=\"data row31 col2\" >float64</td>\n",
       "    </tr>\n",
       "    <tr>\n",
       "      <th id=\"T_50187_level0_row32\" class=\"row_heading level0 row32\" >32</th>\n",
       "      <td id=\"T_50187_row32_col0\" class=\"data row32 col0\" >VerificationFactor</td>\n",
       "      <td id=\"T_50187_row32_col1\" class=\"data row32 col1\" >0 non-null</td>\n",
       "      <td id=\"T_50187_row32_col2\" class=\"data row32 col2\" >float64</td>\n",
       "    </tr>\n",
       "    <tr>\n",
       "      <th id=\"T_50187_level0_row33\" class=\"row_heading level0 row33\" >33</th>\n",
       "      <td id=\"T_50187_row33_col0\" class=\"data row33 col0\" >Status</td>\n",
       "      <td id=\"T_50187_row33_col1\" class=\"data row33 col1\" >1000 non-null</td>\n",
       "      <td id=\"T_50187_row33_col2\" class=\"data row33 col2\" >object</td>\n",
       "    </tr>\n",
       "    <tr>\n",
       "      <th id=\"T_50187_level0_row34\" class=\"row_heading level0 row34\" >34</th>\n",
       "      <td id=\"T_50187_row34_col0\" class=\"data row34 col0\" >RegistrationYear</td>\n",
       "      <td id=\"T_50187_row34_col1\" class=\"data row34 col1\" >1000 non-null</td>\n",
       "      <td id=\"T_50187_row34_col2\" class=\"data row34 col2\" >int64</td>\n",
       "    </tr>\n",
       "    <tr>\n",
       "      <th id=\"T_50187_level0_row35\" class=\"row_heading level0 row35\" >35</th>\n",
       "      <td id=\"T_50187_row35_col0\" class=\"data row35 col0\" >RegistrationDate</td>\n",
       "      <td id=\"T_50187_row35_col1\" class=\"data row35 col1\" >407 non-null</td>\n",
       "      <td id=\"T_50187_row35_col2\" class=\"data row35 col2\" >object</td>\n",
       "    </tr>\n",
       "    <tr>\n",
       "      <th id=\"T_50187_level0_row36\" class=\"row_heading level0 row36\" >36</th>\n",
       "      <td id=\"T_50187_row36_col0\" class=\"data row36 col0\" >FuelConsumption</td>\n",
       "      <td id=\"T_50187_row36_col1\" class=\"data row36 col1\" >301 non-null</td>\n",
       "      <td id=\"T_50187_row36_col2\" class=\"data row36 col2\" >float64</td>\n",
       "    </tr>\n",
       "    <tr>\n",
       "      <th id=\"T_50187_level0_row37\" class=\"row_heading level0 row37\" >37</th>\n",
       "      <td id=\"T_50187_row37_col0\" class=\"data row37 col0\" >ElectricRange</td>\n",
       "      <td id=\"T_50187_row37_col1\" class=\"data row37 col1\" >217 non-null</td>\n",
       "      <td id=\"T_50187_row37_col2\" class=\"data row37 col2\" >float64</td>\n",
       "    </tr>\n",
       "  </tbody>\n",
       "</table>\n"
      ],
      "text/plain": [
       "<pandas.io.formats.style.Styler at 0x7f9c842fdd30>"
      ]
     },
     "metadata": {},
     "output_type": "display_data"
    },
    {
     "data": {
      "text/html": [
       "<style type=\"text/css\">\n",
       "#T_b6da9 th {\n",
       "  background-color: steelblue;\n",
       "  color: white;\n",
       "}\n",
       "#T_b6da9 tr:nth-of-type(odd) {\n",
       "  background-color: aliceblue;\n",
       "}\n",
       "#T_b6da9 tr:nth-of-type(even) {\n",
       "  background-color: white;\n",
       "}\n",
       "</style>\n",
       "<table id=\"T_b6da9\">\n",
       "  <thead>\n",
       "    <tr>\n",
       "      <th class=\"blank level0\" >&nbsp;</th>\n",
       "      <th id=\"T_b6da9_level0_col0\" class=\"col_heading level0 col0\" >Info</th>\n",
       "    </tr>\n",
       "  </thead>\n",
       "  <tbody>\n",
       "    <tr>\n",
       "      <th id=\"T_b6da9_level0_row0\" class=\"row_heading level0 row0\" >0</th>\n",
       "      <td id=\"T_b6da9_row0_col0\" class=\"data row0 col0\" >RangeIndex: 1000 entries, 0 to 999</td>\n",
       "    </tr>\n",
       "    <tr>\n",
       "      <th id=\"T_b6da9_level0_row1\" class=\"row_heading level0 row1\" >1</th>\n",
       "      <td id=\"T_b6da9_row1_col0\" class=\"data row1 col0\" >Data columns (total 38 columns):</td>\n",
       "    </tr>\n",
       "    <tr>\n",
       "      <th id=\"T_b6da9_level0_row2\" class=\"row_heading level0 row2\" >2</th>\n",
       "      <td id=\"T_b6da9_row2_col0\" class=\"data row2 col0\" > 37  ElectricRange                     217 non-null    float64</td>\n",
       "    </tr>\n",
       "    <tr>\n",
       "      <th id=\"T_b6da9_level0_row3\" class=\"row_heading level0 row3\" >3</th>\n",
       "      <td id=\"T_b6da9_row3_col0\" class=\"data row3 col0\" >dtypes: float64(17), int64(3), object(18)</td>\n",
       "    </tr>\n",
       "    <tr>\n",
       "      <th id=\"T_b6da9_level0_row4\" class=\"row_heading level0 row4\" >4</th>\n",
       "      <td id=\"T_b6da9_row4_col0\" class=\"data row4 col0\" >memory usage: 297.0+ KB</td>\n",
       "    </tr>\n",
       "  </tbody>\n",
       "</table>\n"
      ],
      "text/plain": [
       "<pandas.io.formats.style.Styler at 0x7f9c842fd550>"
      ]
     },
     "metadata": {},
     "output_type": "display_data"
    }
   ],
   "source": [
    "df = co2.data.convert_dtypes(df)\n",
    "co2.styles.display_info(df)"
   ]
  },
  {
   "cell_type": "code",
   "execution_count": 8,
   "metadata": {},
   "outputs": [
    {
     "data": {
      "text/plain": [
       "Index(['ID', 'Country', 'VehicleFamilyIdentification', 'Pool',\n",
       "       'ManufacturerName', 'ManufNameOem', 'ManufNameMS', 'TypeApprovalNumber',\n",
       "       'Type', 'Variant', 'Version', 'Make', 'CommercialName',\n",
       "       'VehicleCategory', 'CategoryOf', 'TotalNewRegistrations',\n",
       "       'MassRunningOrder', 'WltpTestMass', 'Co2EmissionsNedc',\n",
       "       'Co2EmissionsWltp', 'BaseWheel', 'AxleWidthSteering', 'AxleWidthOther',\n",
       "       'FuelType', 'FuelMode', 'EngineCapacity', 'EnginePower',\n",
       "       'ElectricConsumption', 'InnovativeTechnology',\n",
       "       'InnovativeEmissionsReduction', 'InnovativeEmissionsReductionWltp',\n",
       "       'DeviationFactor', 'VerificationFactor', 'Status', 'RegistrationYear',\n",
       "       'RegistrationDate', 'FuelConsumption', 'ElectricRange'],\n",
       "      dtype='object')"
      ]
     },
     "execution_count": 8,
     "metadata": {},
     "output_type": "execute_result"
    }
   ],
   "source": [
    "df.columns"
   ]
  },
  {
   "cell_type": "code",
   "execution_count": 9,
   "metadata": {},
   "outputs": [
    {
     "data": {
      "text/html": [
       "<style type=\"text/css\">\n",
       "#T_518d7 th {\n",
       "  background-color: steelblue;\n",
       "  color: white;\n",
       "}\n",
       "#T_518d7 tr:nth-of-type(odd) {\n",
       "  background-color: aliceblue;\n",
       "}\n",
       "#T_518d7 tr:nth-of-type(even) {\n",
       "  background-color: white;\n",
       "}\n",
       "</style>\n",
       "<table id=\"T_518d7\">\n",
       "  <thead>\n",
       "    <tr>\n",
       "      <th class=\"blank level0\" >&nbsp;</th>\n",
       "      <th id=\"T_518d7_level0_col0\" class=\"col_heading level0 col0\" >ID</th>\n",
       "      <th id=\"T_518d7_level0_col1\" class=\"col_heading level0 col1\" >Country</th>\n",
       "      <th id=\"T_518d7_level0_col2\" class=\"col_heading level0 col2\" >Pool</th>\n",
       "      <th id=\"T_518d7_level0_col3\" class=\"col_heading level0 col3\" >ManufacturerName</th>\n",
       "      <th id=\"T_518d7_level0_col4\" class=\"col_heading level0 col4\" >ManufNameOem</th>\n",
       "      <th id=\"T_518d7_level0_col5\" class=\"col_heading level0 col5\" >Make</th>\n",
       "      <th id=\"T_518d7_level0_col6\" class=\"col_heading level0 col6\" >CategoryOf</th>\n",
       "      <th id=\"T_518d7_level0_col7\" class=\"col_heading level0 col7\" >MassRunningOrder</th>\n",
       "      <th id=\"T_518d7_level0_col8\" class=\"col_heading level0 col8\" >WltpTestMass</th>\n",
       "      <th id=\"T_518d7_level0_col9\" class=\"col_heading level0 col9\" >Co2EmissionsWltp</th>\n",
       "      <th id=\"T_518d7_level0_col10\" class=\"col_heading level0 col10\" >BaseWheel</th>\n",
       "      <th id=\"T_518d7_level0_col11\" class=\"col_heading level0 col11\" >AxleWidthSteering</th>\n",
       "      <th id=\"T_518d7_level0_col12\" class=\"col_heading level0 col12\" >FuelType</th>\n",
       "      <th id=\"T_518d7_level0_col13\" class=\"col_heading level0 col13\" >FuelMode</th>\n",
       "      <th id=\"T_518d7_level0_col14\" class=\"col_heading level0 col14\" >EngineCapacity</th>\n",
       "      <th id=\"T_518d7_level0_col15\" class=\"col_heading level0 col15\" >EnginePower</th>\n",
       "      <th id=\"T_518d7_level0_col16\" class=\"col_heading level0 col16\" >ElectricConsumption</th>\n",
       "      <th id=\"T_518d7_level0_col17\" class=\"col_heading level0 col17\" >InnovativeTechnology</th>\n",
       "      <th id=\"T_518d7_level0_col18\" class=\"col_heading level0 col18\" >InnovativeEmissionsReductionWltp</th>\n",
       "      <th id=\"T_518d7_level0_col19\" class=\"col_heading level0 col19\" >RegistrationDate</th>\n",
       "      <th id=\"T_518d7_level0_col20\" class=\"col_heading level0 col20\" >FuelConsumption</th>\n",
       "      <th id=\"T_518d7_level0_col21\" class=\"col_heading level0 col21\" >ElectricRange</th>\n",
       "    </tr>\n",
       "  </thead>\n",
       "  <tbody>\n",
       "    <tr>\n",
       "      <th id=\"T_518d7_level0_row0\" class=\"row_heading level0 row0\" >0</th>\n",
       "      <td id=\"T_518d7_row0_col0\" class=\"data row0 col0\" >57524960</td>\n",
       "      <td id=\"T_518d7_row0_col1\" class=\"data row0 col1\" >NL</td>\n",
       "      <td id=\"T_518d7_row0_col2\" class=\"data row0 col2\" >nan</td>\n",
       "      <td id=\"T_518d7_row0_col3\" class=\"data row0 col3\" >VOLVO</td>\n",
       "      <td id=\"T_518d7_row0_col4\" class=\"data row0 col4\" >VOLVO CAR CORPORATION</td>\n",
       "      <td id=\"T_518d7_row0_col5\" class=\"data row0 col5\" >VOLVO</td>\n",
       "      <td id=\"T_518d7_row0_col6\" class=\"data row0 col6\" >M1</td>\n",
       "      <td id=\"T_518d7_row0_col7\" class=\"data row0 col7\" >1625.000</td>\n",
       "      <td id=\"T_518d7_row0_col8\" class=\"data row0 col8\" >1770.000</td>\n",
       "      <td id=\"T_518d7_row0_col9\" class=\"data row0 col9\" >168.000</td>\n",
       "      <td id=\"T_518d7_row0_col10\" class=\"data row0 col10\" >2700.000</td>\n",
       "      <td id=\"T_518d7_row0_col11\" class=\"data row0 col11\" >1600.000</td>\n",
       "      <td id=\"T_518d7_row0_col12\" class=\"data row0 col12\" >PETROL</td>\n",
       "      <td id=\"T_518d7_row0_col13\" class=\"data row0 col13\" >M</td>\n",
       "      <td id=\"T_518d7_row0_col14\" class=\"data row0 col14\" >1477.000</td>\n",
       "      <td id=\"T_518d7_row0_col15\" class=\"data row0 col15\" >95.000</td>\n",
       "      <td id=\"T_518d7_row0_col16\" class=\"data row0 col16\" >nan</td>\n",
       "      <td id=\"T_518d7_row0_col17\" class=\"data row0 col17\" >nan</td>\n",
       "      <td id=\"T_518d7_row0_col18\" class=\"data row0 col18\" >nan</td>\n",
       "      <td id=\"T_518d7_row0_col19\" class=\"data row0 col19\" >nan</td>\n",
       "      <td id=\"T_518d7_row0_col20\" class=\"data row0 col20\" >nan</td>\n",
       "      <td id=\"T_518d7_row0_col21\" class=\"data row0 col21\" >nan</td>\n",
       "    </tr>\n",
       "    <tr>\n",
       "      <th id=\"T_518d7_level0_row1\" class=\"row_heading level0 row1\" >1</th>\n",
       "      <td id=\"T_518d7_row1_col0\" class=\"data row1 col0\" >57353112</td>\n",
       "      <td id=\"T_518d7_row1_col1\" class=\"data row1 col1\" >NL</td>\n",
       "      <td id=\"T_518d7_row1_col2\" class=\"data row1 col2\" >STELLANTIS</td>\n",
       "      <td id=\"T_518d7_row1_col3\" class=\"data row1 col3\" >AUTOMOBILES PEUGEOT</td>\n",
       "      <td id=\"T_518d7_row1_col4\" class=\"data row1 col4\" >AUTOMOBILES PEUGEOT</td>\n",
       "      <td id=\"T_518d7_row1_col5\" class=\"data row1 col5\" >PEUGEOT</td>\n",
       "      <td id=\"T_518d7_row1_col6\" class=\"data row1 col6\" >M1</td>\n",
       "      <td id=\"T_518d7_row1_col7\" class=\"data row1 col7\" >1278.000</td>\n",
       "      <td id=\"T_518d7_row1_col8\" class=\"data row1 col8\" >1423.000</td>\n",
       "      <td id=\"T_518d7_row1_col9\" class=\"data row1 col9\" >124.000</td>\n",
       "      <td id=\"T_518d7_row1_col10\" class=\"data row1 col10\" >2620.000</td>\n",
       "      <td id=\"T_518d7_row1_col11\" class=\"data row1 col11\" >1560.000</td>\n",
       "      <td id=\"T_518d7_row1_col12\" class=\"data row1 col12\" >PETROL</td>\n",
       "      <td id=\"T_518d7_row1_col13\" class=\"data row1 col13\" >M</td>\n",
       "      <td id=\"T_518d7_row1_col14\" class=\"data row1 col14\" >1199.000</td>\n",
       "      <td id=\"T_518d7_row1_col15\" class=\"data row1 col15\" >81.000</td>\n",
       "      <td id=\"T_518d7_row1_col16\" class=\"data row1 col16\" >nan</td>\n",
       "      <td id=\"T_518d7_row1_col17\" class=\"data row1 col17\" >e2 29</td>\n",
       "      <td id=\"T_518d7_row1_col18\" class=\"data row1 col18\" >1.300</td>\n",
       "      <td id=\"T_518d7_row1_col19\" class=\"data row1 col19\" >nan</td>\n",
       "      <td id=\"T_518d7_row1_col20\" class=\"data row1 col20\" >nan</td>\n",
       "      <td id=\"T_518d7_row1_col21\" class=\"data row1 col21\" >nan</td>\n",
       "    </tr>\n",
       "    <tr>\n",
       "      <th id=\"T_518d7_level0_row2\" class=\"row_heading level0 row2\" >2</th>\n",
       "      <td id=\"T_518d7_row2_col0\" class=\"data row2 col0\" >57435744</td>\n",
       "      <td id=\"T_518d7_row2_col1\" class=\"data row2 col1\" >NL</td>\n",
       "      <td id=\"T_518d7_row2_col2\" class=\"data row2 col2\" >VW-SAIC</td>\n",
       "      <td id=\"T_518d7_row2_col3\" class=\"data row2 col3\" >AUDI AG</td>\n",
       "      <td id=\"T_518d7_row2_col4\" class=\"data row2 col4\" >AUDI AG</td>\n",
       "      <td id=\"T_518d7_row2_col5\" class=\"data row2 col5\" >AUDI</td>\n",
       "      <td id=\"T_518d7_row2_col6\" class=\"data row2 col6\" >M1</td>\n",
       "      <td id=\"T_518d7_row2_col7\" class=\"data row2 col7\" >1395.000</td>\n",
       "      <td id=\"T_518d7_row2_col8\" class=\"data row2 col8\" >1505.000</td>\n",
       "      <td id=\"T_518d7_row2_col9\" class=\"data row2 col9\" >127.000</td>\n",
       "      <td id=\"T_518d7_row2_col10\" class=\"data row2 col10\" >2620.000</td>\n",
       "      <td id=\"T_518d7_row2_col11\" class=\"data row2 col11\" >1540.000</td>\n",
       "      <td id=\"T_518d7_row2_col12\" class=\"data row2 col12\" >PETROL</td>\n",
       "      <td id=\"T_518d7_row2_col13\" class=\"data row2 col13\" >H</td>\n",
       "      <td id=\"T_518d7_row2_col14\" class=\"data row2 col14\" >1498.000</td>\n",
       "      <td id=\"T_518d7_row2_col15\" class=\"data row2 col15\" >110.000</td>\n",
       "      <td id=\"T_518d7_row2_col16\" class=\"data row2 col16\" >nan</td>\n",
       "      <td id=\"T_518d7_row2_col17\" class=\"data row2 col17\" >nan</td>\n",
       "      <td id=\"T_518d7_row2_col18\" class=\"data row2 col18\" >nan</td>\n",
       "      <td id=\"T_518d7_row2_col19\" class=\"data row2 col19\" >nan</td>\n",
       "      <td id=\"T_518d7_row2_col20\" class=\"data row2 col20\" >nan</td>\n",
       "      <td id=\"T_518d7_row2_col21\" class=\"data row2 col21\" >nan</td>\n",
       "    </tr>\n",
       "    <tr>\n",
       "      <th id=\"T_518d7_level0_row3\" class=\"row_heading level0 row3\" >3</th>\n",
       "      <td id=\"T_518d7_row3_col0\" class=\"data row3 col0\" >57249792</td>\n",
       "      <td id=\"T_518d7_row3_col1\" class=\"data row3 col1\" >NL</td>\n",
       "      <td id=\"T_518d7_row3_col2\" class=\"data row3 col2\" >KIA</td>\n",
       "      <td id=\"T_518d7_row3_col3\" class=\"data row3 col3\" >KIA</td>\n",
       "      <td id=\"T_518d7_row3_col4\" class=\"data row3 col4\" >KIA CORPORATION</td>\n",
       "      <td id=\"T_518d7_row3_col5\" class=\"data row3 col5\" >KIA</td>\n",
       "      <td id=\"T_518d7_row3_col6\" class=\"data row3 col6\" >M1</td>\n",
       "      <td id=\"T_518d7_row3_col7\" class=\"data row3 col7\" >974.000</td>\n",
       "      <td id=\"T_518d7_row3_col8\" class=\"data row3 col8\" >1090.000</td>\n",
       "      <td id=\"T_518d7_row3_col9\" class=\"data row3 col9\" >110.000</td>\n",
       "      <td id=\"T_518d7_row3_col10\" class=\"data row3 col10\" >2400.000</td>\n",
       "      <td id=\"T_518d7_row3_col11\" class=\"data row3 col11\" >1390.000</td>\n",
       "      <td id=\"T_518d7_row3_col12\" class=\"data row3 col12\" >PETROL</td>\n",
       "      <td id=\"T_518d7_row3_col13\" class=\"data row3 col13\" >M</td>\n",
       "      <td id=\"T_518d7_row3_col14\" class=\"data row3 col14\" >998.000</td>\n",
       "      <td id=\"T_518d7_row3_col15\" class=\"data row3 col15\" >49.000</td>\n",
       "      <td id=\"T_518d7_row3_col16\" class=\"data row3 col16\" >nan</td>\n",
       "      <td id=\"T_518d7_row3_col17\" class=\"data row3 col17\" >nan</td>\n",
       "      <td id=\"T_518d7_row3_col18\" class=\"data row3 col18\" >nan</td>\n",
       "      <td id=\"T_518d7_row3_col19\" class=\"data row3 col19\" >nan</td>\n",
       "      <td id=\"T_518d7_row3_col20\" class=\"data row3 col20\" >nan</td>\n",
       "      <td id=\"T_518d7_row3_col21\" class=\"data row3 col21\" >nan</td>\n",
       "    </tr>\n",
       "    <tr>\n",
       "      <th id=\"T_518d7_level0_row4\" class=\"row_heading level0 row4\" >4</th>\n",
       "      <td id=\"T_518d7_row4_col0\" class=\"data row4 col0\" >56560176</td>\n",
       "      <td id=\"T_518d7_row4_col1\" class=\"data row4 col1\" >BE</td>\n",
       "      <td id=\"T_518d7_row4_col2\" class=\"data row4 col2\" >RENAULT-NISSAN-MITSUBISHI</td>\n",
       "      <td id=\"T_518d7_row4_col3\" class=\"data row4 col3\" >RENAULT</td>\n",
       "      <td id=\"T_518d7_row4_col4\" class=\"data row4 col4\" >RENAULT SAS</td>\n",
       "      <td id=\"T_518d7_row4_col5\" class=\"data row4 col5\" >RENAULT</td>\n",
       "      <td id=\"T_518d7_row4_col6\" class=\"data row4 col6\" >M1</td>\n",
       "      <td id=\"T_518d7_row4_col7\" class=\"data row4 col7\" >1280.000</td>\n",
       "      <td id=\"T_518d7_row4_col8\" class=\"data row4 col8\" >1385.000</td>\n",
       "      <td id=\"T_518d7_row4_col9\" class=\"data row4 col9\" >133.000</td>\n",
       "      <td id=\"T_518d7_row4_col10\" class=\"data row4 col10\" >2639.000</td>\n",
       "      <td id=\"T_518d7_row4_col11\" class=\"data row4 col11\" >1554.000</td>\n",
       "      <td id=\"T_518d7_row4_col12\" class=\"data row4 col12\" >PETROL</td>\n",
       "      <td id=\"T_518d7_row4_col13\" class=\"data row4 col13\" >M</td>\n",
       "      <td id=\"T_518d7_row4_col14\" class=\"data row4 col14\" >999.000</td>\n",
       "      <td id=\"T_518d7_row4_col15\" class=\"data row4 col15\" >67.000</td>\n",
       "      <td id=\"T_518d7_row4_col16\" class=\"data row4 col16\" >nan</td>\n",
       "      <td id=\"T_518d7_row4_col17\" class=\"data row4 col17\" >e9 28 29</td>\n",
       "      <td id=\"T_518d7_row4_col18\" class=\"data row4 col18\" >2.600</td>\n",
       "      <td id=\"T_518d7_row4_col19\" class=\"data row4 col19\" >2021-10-12</td>\n",
       "      <td id=\"T_518d7_row4_col20\" class=\"data row4 col20\" >5.300</td>\n",
       "      <td id=\"T_518d7_row4_col21\" class=\"data row4 col21\" >nan</td>\n",
       "    </tr>\n",
       "  </tbody>\n",
       "</table>\n"
      ],
      "text/plain": [
       "<pandas.io.formats.style.Styler at 0x7f9c84356c70>"
      ]
     },
     "metadata": {},
     "output_type": "display_data"
    }
   ],
   "source": [
    "df = co2.data.drop_irrelevant_columns(df)\n",
    "co2.styles.displayer(df)"
   ]
  },
  {
   "cell_type": "code",
   "execution_count": 10,
   "metadata": {},
   "outputs": [
    {
     "data": {
      "text/plain": [
       "Pool\n",
       "VW-SAIC                       254\n",
       "STELLANTIS                    205\n",
       "RENAULT-NISSAN-MITSUBISHI      90\n",
       "MAZDA-SUBARU-SUZUKI-TOYOTA     87\n",
       "BMW                            82\n",
       "KIA                            67\n",
       "MERCEDES-BENZ                  62\n",
       "FORD                           48\n",
       "HYUNDAI                        37\n",
       "TESLA                          24\n",
       "Name: count, dtype: int64"
      ]
     },
     "execution_count": 10,
     "metadata": {},
     "output_type": "execute_result"
    }
   ],
   "source": [
    "df['Pool'].value_counts()"
   ]
  },
  {
   "cell_type": "code",
   "execution_count": 11,
   "metadata": {},
   "outputs": [
    {
     "data": {
      "text/plain": [
       "0"
      ]
     },
     "execution_count": 11,
     "metadata": {},
     "output_type": "execute_result"
    }
   ],
   "source": [
    "df['Make'].isna().sum()"
   ]
  },
  {
   "cell_type": "code",
   "execution_count": 12,
   "metadata": {},
   "outputs": [],
   "source": [
    "df = df.dropna(subset='Pool')\n",
    "def conditional_column_update(df, condition_column, condition_value, target_column, target_value):\n",
    "    df.loc[df[condition_column] == condition_value, target_column] = target_value\n",
    "    return df"
   ]
  },
  {
   "cell_type": "markdown",
   "metadata": {},
   "source": []
  },
  {
   "cell_type": "code",
   "execution_count": 13,
   "metadata": {},
   "outputs": [
    {
     "data": {
      "text/html": [
       "<style type=\"text/css\">\n",
       "#T_fd9d5 th {\n",
       "  background-color: steelblue;\n",
       "  color: white;\n",
       "}\n",
       "#T_fd9d5 tr:nth-of-type(odd) {\n",
       "  background-color: aliceblue;\n",
       "}\n",
       "#T_fd9d5 tr:nth-of-type(even) {\n",
       "  background-color: white;\n",
       "}\n",
       "</style>\n",
       "<table id=\"T_fd9d5\">\n",
       "  <thead>\n",
       "    <tr>\n",
       "      <th class=\"blank level0\" >&nbsp;</th>\n",
       "      <th id=\"T_fd9d5_level0_col0\" class=\"col_heading level0 col0\" >ID</th>\n",
       "      <th id=\"T_fd9d5_level0_col1\" class=\"col_heading level0 col1\" >Country</th>\n",
       "      <th id=\"T_fd9d5_level0_col2\" class=\"col_heading level0 col2\" >Pool</th>\n",
       "      <th id=\"T_fd9d5_level0_col3\" class=\"col_heading level0 col3\" >ManufacturerName</th>\n",
       "      <th id=\"T_fd9d5_level0_col4\" class=\"col_heading level0 col4\" >ManufNameOem</th>\n",
       "      <th id=\"T_fd9d5_level0_col5\" class=\"col_heading level0 col5\" >Make</th>\n",
       "      <th id=\"T_fd9d5_level0_col6\" class=\"col_heading level0 col6\" >CategoryOf</th>\n",
       "      <th id=\"T_fd9d5_level0_col7\" class=\"col_heading level0 col7\" >MassRunningOrder</th>\n",
       "      <th id=\"T_fd9d5_level0_col8\" class=\"col_heading level0 col8\" >WltpTestMass</th>\n",
       "      <th id=\"T_fd9d5_level0_col9\" class=\"col_heading level0 col9\" >Co2EmissionsWltp</th>\n",
       "      <th id=\"T_fd9d5_level0_col10\" class=\"col_heading level0 col10\" >BaseWheel</th>\n",
       "      <th id=\"T_fd9d5_level0_col11\" class=\"col_heading level0 col11\" >AxleWidthSteering</th>\n",
       "      <th id=\"T_fd9d5_level0_col12\" class=\"col_heading level0 col12\" >FuelType</th>\n",
       "      <th id=\"T_fd9d5_level0_col13\" class=\"col_heading level0 col13\" >FuelMode</th>\n",
       "      <th id=\"T_fd9d5_level0_col14\" class=\"col_heading level0 col14\" >EngineCapacity</th>\n",
       "      <th id=\"T_fd9d5_level0_col15\" class=\"col_heading level0 col15\" >EnginePower</th>\n",
       "      <th id=\"T_fd9d5_level0_col16\" class=\"col_heading level0 col16\" >ElectricConsumption</th>\n",
       "      <th id=\"T_fd9d5_level0_col17\" class=\"col_heading level0 col17\" >InnovativeTechnology</th>\n",
       "      <th id=\"T_fd9d5_level0_col18\" class=\"col_heading level0 col18\" >InnovativeEmissionsReductionWltp</th>\n",
       "      <th id=\"T_fd9d5_level0_col19\" class=\"col_heading level0 col19\" >RegistrationDate</th>\n",
       "      <th id=\"T_fd9d5_level0_col20\" class=\"col_heading level0 col20\" >FuelConsumption</th>\n",
       "      <th id=\"T_fd9d5_level0_col21\" class=\"col_heading level0 col21\" >ElectricRange</th>\n",
       "    </tr>\n",
       "  </thead>\n",
       "  <tbody>\n",
       "    <tr>\n",
       "      <th id=\"T_fd9d5_level0_row0\" class=\"row_heading level0 row0\" >1</th>\n",
       "      <td id=\"T_fd9d5_row0_col0\" class=\"data row0 col0\" >57353112</td>\n",
       "      <td id=\"T_fd9d5_row0_col1\" class=\"data row0 col1\" >NL</td>\n",
       "      <td id=\"T_fd9d5_row0_col2\" class=\"data row0 col2\" >STELLANTIS</td>\n",
       "      <td id=\"T_fd9d5_row0_col3\" class=\"data row0 col3\" >AUTOMOBILES PEUGEOT</td>\n",
       "      <td id=\"T_fd9d5_row0_col4\" class=\"data row0 col4\" >AUTOMOBILES PEUGEOT</td>\n",
       "      <td id=\"T_fd9d5_row0_col5\" class=\"data row0 col5\" >PEUGEOT</td>\n",
       "      <td id=\"T_fd9d5_row0_col6\" class=\"data row0 col6\" >M1</td>\n",
       "      <td id=\"T_fd9d5_row0_col7\" class=\"data row0 col7\" >1278.000</td>\n",
       "      <td id=\"T_fd9d5_row0_col8\" class=\"data row0 col8\" >1423.000</td>\n",
       "      <td id=\"T_fd9d5_row0_col9\" class=\"data row0 col9\" >124.000</td>\n",
       "      <td id=\"T_fd9d5_row0_col10\" class=\"data row0 col10\" >2620.000</td>\n",
       "      <td id=\"T_fd9d5_row0_col11\" class=\"data row0 col11\" >1560.000</td>\n",
       "      <td id=\"T_fd9d5_row0_col12\" class=\"data row0 col12\" >PETROL</td>\n",
       "      <td id=\"T_fd9d5_row0_col13\" class=\"data row0 col13\" >M</td>\n",
       "      <td id=\"T_fd9d5_row0_col14\" class=\"data row0 col14\" >1199.000</td>\n",
       "      <td id=\"T_fd9d5_row0_col15\" class=\"data row0 col15\" >81.000</td>\n",
       "      <td id=\"T_fd9d5_row0_col16\" class=\"data row0 col16\" >nan</td>\n",
       "      <td id=\"T_fd9d5_row0_col17\" class=\"data row0 col17\" >e2 29</td>\n",
       "      <td id=\"T_fd9d5_row0_col18\" class=\"data row0 col18\" >1.300</td>\n",
       "      <td id=\"T_fd9d5_row0_col19\" class=\"data row0 col19\" >nan</td>\n",
       "      <td id=\"T_fd9d5_row0_col20\" class=\"data row0 col20\" >nan</td>\n",
       "      <td id=\"T_fd9d5_row0_col21\" class=\"data row0 col21\" >nan</td>\n",
       "    </tr>\n",
       "    <tr>\n",
       "      <th id=\"T_fd9d5_level0_row1\" class=\"row_heading level0 row1\" >2</th>\n",
       "      <td id=\"T_fd9d5_row1_col0\" class=\"data row1 col0\" >57435744</td>\n",
       "      <td id=\"T_fd9d5_row1_col1\" class=\"data row1 col1\" >NL</td>\n",
       "      <td id=\"T_fd9d5_row1_col2\" class=\"data row1 col2\" >VW-SAIC</td>\n",
       "      <td id=\"T_fd9d5_row1_col3\" class=\"data row1 col3\" >AUDI AG</td>\n",
       "      <td id=\"T_fd9d5_row1_col4\" class=\"data row1 col4\" >AUDI AG</td>\n",
       "      <td id=\"T_fd9d5_row1_col5\" class=\"data row1 col5\" >AUDI</td>\n",
       "      <td id=\"T_fd9d5_row1_col6\" class=\"data row1 col6\" >M1</td>\n",
       "      <td id=\"T_fd9d5_row1_col7\" class=\"data row1 col7\" >1395.000</td>\n",
       "      <td id=\"T_fd9d5_row1_col8\" class=\"data row1 col8\" >1505.000</td>\n",
       "      <td id=\"T_fd9d5_row1_col9\" class=\"data row1 col9\" >127.000</td>\n",
       "      <td id=\"T_fd9d5_row1_col10\" class=\"data row1 col10\" >2620.000</td>\n",
       "      <td id=\"T_fd9d5_row1_col11\" class=\"data row1 col11\" >1540.000</td>\n",
       "      <td id=\"T_fd9d5_row1_col12\" class=\"data row1 col12\" >PETROL</td>\n",
       "      <td id=\"T_fd9d5_row1_col13\" class=\"data row1 col13\" >H</td>\n",
       "      <td id=\"T_fd9d5_row1_col14\" class=\"data row1 col14\" >1498.000</td>\n",
       "      <td id=\"T_fd9d5_row1_col15\" class=\"data row1 col15\" >110.000</td>\n",
       "      <td id=\"T_fd9d5_row1_col16\" class=\"data row1 col16\" >nan</td>\n",
       "      <td id=\"T_fd9d5_row1_col17\" class=\"data row1 col17\" >nan</td>\n",
       "      <td id=\"T_fd9d5_row1_col18\" class=\"data row1 col18\" >nan</td>\n",
       "      <td id=\"T_fd9d5_row1_col19\" class=\"data row1 col19\" >nan</td>\n",
       "      <td id=\"T_fd9d5_row1_col20\" class=\"data row1 col20\" >nan</td>\n",
       "      <td id=\"T_fd9d5_row1_col21\" class=\"data row1 col21\" >nan</td>\n",
       "    </tr>\n",
       "    <tr>\n",
       "      <th id=\"T_fd9d5_level0_row2\" class=\"row_heading level0 row2\" >3</th>\n",
       "      <td id=\"T_fd9d5_row2_col0\" class=\"data row2 col0\" >57249792</td>\n",
       "      <td id=\"T_fd9d5_row2_col1\" class=\"data row2 col1\" >NL</td>\n",
       "      <td id=\"T_fd9d5_row2_col2\" class=\"data row2 col2\" >KIA</td>\n",
       "      <td id=\"T_fd9d5_row2_col3\" class=\"data row2 col3\" >KIA</td>\n",
       "      <td id=\"T_fd9d5_row2_col4\" class=\"data row2 col4\" >KIA CORPORATION</td>\n",
       "      <td id=\"T_fd9d5_row2_col5\" class=\"data row2 col5\" >KIA</td>\n",
       "      <td id=\"T_fd9d5_row2_col6\" class=\"data row2 col6\" >M1</td>\n",
       "      <td id=\"T_fd9d5_row2_col7\" class=\"data row2 col7\" >974.000</td>\n",
       "      <td id=\"T_fd9d5_row2_col8\" class=\"data row2 col8\" >1090.000</td>\n",
       "      <td id=\"T_fd9d5_row2_col9\" class=\"data row2 col9\" >110.000</td>\n",
       "      <td id=\"T_fd9d5_row2_col10\" class=\"data row2 col10\" >2400.000</td>\n",
       "      <td id=\"T_fd9d5_row2_col11\" class=\"data row2 col11\" >1390.000</td>\n",
       "      <td id=\"T_fd9d5_row2_col12\" class=\"data row2 col12\" >PETROL</td>\n",
       "      <td id=\"T_fd9d5_row2_col13\" class=\"data row2 col13\" >M</td>\n",
       "      <td id=\"T_fd9d5_row2_col14\" class=\"data row2 col14\" >998.000</td>\n",
       "      <td id=\"T_fd9d5_row2_col15\" class=\"data row2 col15\" >49.000</td>\n",
       "      <td id=\"T_fd9d5_row2_col16\" class=\"data row2 col16\" >nan</td>\n",
       "      <td id=\"T_fd9d5_row2_col17\" class=\"data row2 col17\" >nan</td>\n",
       "      <td id=\"T_fd9d5_row2_col18\" class=\"data row2 col18\" >nan</td>\n",
       "      <td id=\"T_fd9d5_row2_col19\" class=\"data row2 col19\" >nan</td>\n",
       "      <td id=\"T_fd9d5_row2_col20\" class=\"data row2 col20\" >nan</td>\n",
       "      <td id=\"T_fd9d5_row2_col21\" class=\"data row2 col21\" >nan</td>\n",
       "    </tr>\n",
       "    <tr>\n",
       "      <th id=\"T_fd9d5_level0_row3\" class=\"row_heading level0 row3\" >4</th>\n",
       "      <td id=\"T_fd9d5_row3_col0\" class=\"data row3 col0\" >56560176</td>\n",
       "      <td id=\"T_fd9d5_row3_col1\" class=\"data row3 col1\" >BE</td>\n",
       "      <td id=\"T_fd9d5_row3_col2\" class=\"data row3 col2\" >RENAULT-NISSAN-MITSUBISHI</td>\n",
       "      <td id=\"T_fd9d5_row3_col3\" class=\"data row3 col3\" >RENAULT</td>\n",
       "      <td id=\"T_fd9d5_row3_col4\" class=\"data row3 col4\" >RENAULT SAS</td>\n",
       "      <td id=\"T_fd9d5_row3_col5\" class=\"data row3 col5\" >RENAULT</td>\n",
       "      <td id=\"T_fd9d5_row3_col6\" class=\"data row3 col6\" >M1</td>\n",
       "      <td id=\"T_fd9d5_row3_col7\" class=\"data row3 col7\" >1280.000</td>\n",
       "      <td id=\"T_fd9d5_row3_col8\" class=\"data row3 col8\" >1385.000</td>\n",
       "      <td id=\"T_fd9d5_row3_col9\" class=\"data row3 col9\" >133.000</td>\n",
       "      <td id=\"T_fd9d5_row3_col10\" class=\"data row3 col10\" >2639.000</td>\n",
       "      <td id=\"T_fd9d5_row3_col11\" class=\"data row3 col11\" >1554.000</td>\n",
       "      <td id=\"T_fd9d5_row3_col12\" class=\"data row3 col12\" >PETROL</td>\n",
       "      <td id=\"T_fd9d5_row3_col13\" class=\"data row3 col13\" >M</td>\n",
       "      <td id=\"T_fd9d5_row3_col14\" class=\"data row3 col14\" >999.000</td>\n",
       "      <td id=\"T_fd9d5_row3_col15\" class=\"data row3 col15\" >67.000</td>\n",
       "      <td id=\"T_fd9d5_row3_col16\" class=\"data row3 col16\" >nan</td>\n",
       "      <td id=\"T_fd9d5_row3_col17\" class=\"data row3 col17\" >e9 28 29</td>\n",
       "      <td id=\"T_fd9d5_row3_col18\" class=\"data row3 col18\" >2.600</td>\n",
       "      <td id=\"T_fd9d5_row3_col19\" class=\"data row3 col19\" >2021-10-12</td>\n",
       "      <td id=\"T_fd9d5_row3_col20\" class=\"data row3 col20\" >5.300</td>\n",
       "      <td id=\"T_fd9d5_row3_col21\" class=\"data row3 col21\" >nan</td>\n",
       "    </tr>\n",
       "    <tr>\n",
       "      <th id=\"T_fd9d5_level0_row4\" class=\"row_heading level0 row4\" >5</th>\n",
       "      <td id=\"T_fd9d5_row4_col0\" class=\"data row4 col0\" >57418304</td>\n",
       "      <td id=\"T_fd9d5_row4_col1\" class=\"data row4 col1\" >NL</td>\n",
       "      <td id=\"T_fd9d5_row4_col2\" class=\"data row4 col2\" >MERCEDES-BENZ</td>\n",
       "      <td id=\"T_fd9d5_row4_col3\" class=\"data row4 col3\" >MERCEDES-BENZ AG</td>\n",
       "      <td id=\"T_fd9d5_row4_col4\" class=\"data row4 col4\" >MERCEDES-BENZ AG</td>\n",
       "      <td id=\"T_fd9d5_row4_col5\" class=\"data row4 col5\" >MERCEDES-BENZ</td>\n",
       "      <td id=\"T_fd9d5_row4_col6\" class=\"data row4 col6\" >M1</td>\n",
       "      <td id=\"T_fd9d5_row4_col7\" class=\"data row4 col7\" >1380.000</td>\n",
       "      <td id=\"T_fd9d5_row4_col8\" class=\"data row4 col8\" >1494.000</td>\n",
       "      <td id=\"T_fd9d5_row4_col9\" class=\"data row4 col9\" >135.000</td>\n",
       "      <td id=\"T_fd9d5_row4_col10\" class=\"data row4 col10\" >2730.000</td>\n",
       "      <td id=\"T_fd9d5_row4_col11\" class=\"data row4 col11\" >1570.000</td>\n",
       "      <td id=\"T_fd9d5_row4_col12\" class=\"data row4 col12\" >PETROL</td>\n",
       "      <td id=\"T_fd9d5_row4_col13\" class=\"data row4 col13\" >M</td>\n",
       "      <td id=\"T_fd9d5_row4_col14\" class=\"data row4 col14\" >1332.000</td>\n",
       "      <td id=\"T_fd9d5_row4_col15\" class=\"data row4 col15\" >100.000</td>\n",
       "      <td id=\"T_fd9d5_row4_col16\" class=\"data row4 col16\" >nan</td>\n",
       "      <td id=\"T_fd9d5_row4_col17\" class=\"data row4 col17\" >e1 29</td>\n",
       "      <td id=\"T_fd9d5_row4_col18\" class=\"data row4 col18\" >1.200</td>\n",
       "      <td id=\"T_fd9d5_row4_col19\" class=\"data row4 col19\" >nan</td>\n",
       "      <td id=\"T_fd9d5_row4_col20\" class=\"data row4 col20\" >nan</td>\n",
       "      <td id=\"T_fd9d5_row4_col21\" class=\"data row4 col21\" >nan</td>\n",
       "    </tr>\n",
       "  </tbody>\n",
       "</table>\n"
      ],
      "text/plain": [
       "<pandas.io.formats.style.Styler at 0x7f9c3201a2e0>"
      ]
     },
     "metadata": {},
     "output_type": "display_data"
    }
   ],
   "source": [
    "co2.styles.displayer(df)"
   ]
  },
  {
   "cell_type": "code",
   "execution_count": 14,
   "metadata": {},
   "outputs": [
    {
     "data": {
      "text/plain": [
       "array([], dtype=object)"
      ]
     },
     "execution_count": 14,
     "metadata": {},
     "output_type": "execute_result"
    }
   ],
   "source": [
    "df.loc[(df['Pool'] == 'Tesla'), 'Make'].unique()"
   ]
  },
  {
   "cell_type": "code",
   "execution_count": 15,
   "metadata": {},
   "outputs": [],
   "source": [
    "from auto_co2.data import clean_manufacturer_columns\n",
    "makers = co2.agg.Manufacturers(clean_manufacturer_columns(df))"
   ]
  },
  {
   "cell_type": "code",
   "execution_count": 16,
   "metadata": {},
   "outputs": [
    {
     "data": {
      "text/html": [
       "<style type=\"text/css\">\n",
       "#T_a195a th {\n",
       "  background-color: steelblue;\n",
       "  color: white;\n",
       "}\n",
       "#T_a195a tr:nth-of-type(odd) {\n",
       "  background-color: aliceblue;\n",
       "}\n",
       "#T_a195a tr:nth-of-type(even) {\n",
       "  background-color: white;\n",
       "}\n",
       "</style>\n",
       "<table id=\"T_a195a\">\n",
       "  <thead>\n",
       "    <tr>\n",
       "      <th class=\"blank\" >&nbsp;</th>\n",
       "      <th class=\"blank level0\" >&nbsp;</th>\n",
       "      <th id=\"T_a195a_level0_col0\" class=\"col_heading level0 col0\" >Count</th>\n",
       "      <th id=\"T_a195a_level0_col1\" class=\"col_heading level0 col1\" >MarketShare(%)</th>\n",
       "      <th id=\"T_a195a_level0_col2\" class=\"col_heading level0 col2\" >FuelType</th>\n",
       "      <th id=\"T_a195a_level0_col3\" class=\"col_heading level0 col3\" >FuelConsumption</th>\n",
       "      <th id=\"T_a195a_level0_col4\" class=\"col_heading level0 col4\" >EnginePower</th>\n",
       "      <th id=\"T_a195a_level0_col5\" class=\"col_heading level0 col5\" >Co2EmissionsWltp</th>\n",
       "      <th id=\"T_a195a_level0_col6\" class=\"col_heading level0 col6\" >MassRunningOrder</th>\n",
       "      <th id=\"T_a195a_level0_col7\" class=\"col_heading level0 col7\" >BaseWheel</th>\n",
       "      <th id=\"T_a195a_level0_col8\" class=\"col_heading level0 col8\" >AxleWidthSteering</th>\n",
       "    </tr>\n",
       "    <tr>\n",
       "      <th class=\"index_name level0\" >Pool</th>\n",
       "      <th class=\"index_name level1\" >Make</th>\n",
       "      <th class=\"blank col0\" >&nbsp;</th>\n",
       "      <th class=\"blank col1\" >&nbsp;</th>\n",
       "      <th class=\"blank col2\" >&nbsp;</th>\n",
       "      <th class=\"blank col3\" >&nbsp;</th>\n",
       "      <th class=\"blank col4\" >&nbsp;</th>\n",
       "      <th class=\"blank col5\" >&nbsp;</th>\n",
       "      <th class=\"blank col6\" >&nbsp;</th>\n",
       "      <th class=\"blank col7\" >&nbsp;</th>\n",
       "      <th class=\"blank col8\" >&nbsp;</th>\n",
       "    </tr>\n",
       "  </thead>\n",
       "  <tbody>\n",
       "    <tr>\n",
       "      <th id=\"T_a195a_level0_row0\" class=\"row_heading level0 row0\" rowspan=\"2\">BMW</th>\n",
       "      <th id=\"T_a195a_level1_row0\" class=\"row_heading level1 row0\" >BMW</th>\n",
       "      <td id=\"T_a195a_row0_col0\" class=\"data row0 col0\" >68</td>\n",
       "      <td id=\"T_a195a_row0_col1\" class=\"data row0 col1\" >7.110</td>\n",
       "      <td id=\"T_a195a_row0_col2\" class=\"data row0 col2\" >PETROL/ELECTRIC</td>\n",
       "      <td id=\"T_a195a_row0_col3\" class=\"data row0 col3\" >4.513</td>\n",
       "      <td id=\"T_a195a_row0_col4\" class=\"data row0 col4\" >132.162</td>\n",
       "      <td id=\"T_a195a_row0_col5\" class=\"data row0 col5\" >94.485</td>\n",
       "      <td id=\"T_a195a_row0_col6\" class=\"data row0 col6\" >1768.235</td>\n",
       "      <td id=\"T_a195a_row0_col7\" class=\"data row0 col7\" >2804.191</td>\n",
       "      <td id=\"T_a195a_row0_col8\" class=\"data row0 col8\" >1585.838</td>\n",
       "    </tr>\n",
       "    <tr>\n",
       "      <th id=\"T_a195a_level1_row1\" class=\"row_heading level1 row1\" >MINI</th>\n",
       "      <td id=\"T_a195a_row1_col0\" class=\"data row1 col0\" >14</td>\n",
       "      <td id=\"T_a195a_row1_col1\" class=\"data row1 col1\" >1.460</td>\n",
       "      <td id=\"T_a195a_row1_col2\" class=\"data row1 col2\" >PETROL</td>\n",
       "      <td id=\"T_a195a_row1_col3\" class=\"data row1 col3\" >5.500</td>\n",
       "      <td id=\"T_a195a_row1_col4\" class=\"data row1 col4\" >108.500</td>\n",
       "      <td id=\"T_a195a_row1_col5\" class=\"data row1 col5\" >128.929</td>\n",
       "      <td id=\"T_a195a_row1_col6\" class=\"data row1 col6\" >1366.786</td>\n",
       "      <td id=\"T_a195a_row1_col7\" class=\"data row1 col7\" >2561.571</td>\n",
       "      <td id=\"T_a195a_row1_col8\" class=\"data row1 col8\" >1517.143</td>\n",
       "    </tr>\n",
       "    <tr>\n",
       "      <th id=\"T_a195a_level0_row2\" class=\"row_heading level0 row2\" >FORD</th>\n",
       "      <th id=\"T_a195a_level1_row2\" class=\"row_heading level1 row2\" >FORD</th>\n",
       "      <td id=\"T_a195a_row2_col0\" class=\"data row2 col0\" >48</td>\n",
       "      <td id=\"T_a195a_row2_col1\" class=\"data row2 col1\" >5.020</td>\n",
       "      <td id=\"T_a195a_row2_col2\" class=\"data row2 col2\" >PETROL</td>\n",
       "      <td id=\"T_a195a_row2_col3\" class=\"data row2 col3\" >4.908</td>\n",
       "      <td id=\"T_a195a_row2_col4\" class=\"data row2 col4\" >138.789</td>\n",
       "      <td id=\"T_a195a_row2_col5\" class=\"data row2 col5\" >80.792</td>\n",
       "      <td id=\"T_a195a_row2_col6\" class=\"data row2 col6\" >1668.646</td>\n",
       "      <td id=\"T_a195a_row2_col7\" class=\"data row2 col7\" >2732.375</td>\n",
       "      <td id=\"T_a195a_row2_col8\" class=\"data row2 col8\" >1577.458</td>\n",
       "    </tr>\n",
       "    <tr>\n",
       "      <th id=\"T_a195a_level0_row3\" class=\"row_heading level0 row3\" >HONDA-GROUP</th>\n",
       "      <th id=\"T_a195a_level1_row3\" class=\"row_heading level1 row3\" >HONDA</th>\n",
       "      <td id=\"T_a195a_row3_col0\" class=\"data row3 col0\" >1</td>\n",
       "      <td id=\"T_a195a_row3_col1\" class=\"data row3 col1\" >0.100</td>\n",
       "      <td id=\"T_a195a_row3_col2\" class=\"data row3 col2\" >PETROL</td>\n",
       "      <td id=\"T_a195a_row3_col3\" class=\"data row3 col3\" >nan</td>\n",
       "      <td id=\"T_a195a_row3_col4\" class=\"data row3 col4\" >72.000</td>\n",
       "      <td id=\"T_a195a_row3_col5\" class=\"data row3 col5\" >109.000</td>\n",
       "      <td id=\"T_a195a_row3_col6\" class=\"data row3 col6\" >1327.000</td>\n",
       "      <td id=\"T_a195a_row3_col7\" class=\"data row3 col7\" >2520.000</td>\n",
       "      <td id=\"T_a195a_row3_col8\" class=\"data row3 col8\" >1500.000</td>\n",
       "    </tr>\n",
       "    <tr>\n",
       "      <th id=\"T_a195a_level0_row4\" class=\"row_heading level0 row4\" >HYUNDAI</th>\n",
       "      <th id=\"T_a195a_level1_row4\" class=\"row_heading level1 row4\" >HYUNDAI</th>\n",
       "      <td id=\"T_a195a_row4_col0\" class=\"data row4 col0\" >37</td>\n",
       "      <td id=\"T_a195a_row4_col1\" class=\"data row4 col1\" >3.870</td>\n",
       "      <td id=\"T_a195a_row4_col2\" class=\"data row4 col2\" >PETROL</td>\n",
       "      <td id=\"T_a195a_row4_col3\" class=\"data row4 col3\" >5.089</td>\n",
       "      <td id=\"T_a195a_row4_col4\" class=\"data row4 col4\" >90.393</td>\n",
       "      <td id=\"T_a195a_row4_col5\" class=\"data row4 col5\" >106.583</td>\n",
       "      <td id=\"T_a195a_row4_col6\" class=\"data row4 col6\" >1401.838</td>\n",
       "      <td id=\"T_a195a_row4_col7\" class=\"data row4 col7\" >2602.162</td>\n",
       "      <td id=\"T_a195a_row4_col8\" class=\"data row4 col8\" >1556.838</td>\n",
       "    </tr>\n",
       "    <tr>\n",
       "      <th id=\"T_a195a_level0_row5\" class=\"row_heading level0 row5\" >KIA</th>\n",
       "      <th id=\"T_a195a_level1_row5\" class=\"row_heading level1 row5\" >KIA</th>\n",
       "      <td id=\"T_a195a_row5_col0\" class=\"data row5 col0\" >67</td>\n",
       "      <td id=\"T_a195a_row5_col1\" class=\"data row5 col1\" >7.010</td>\n",
       "      <td id=\"T_a195a_row5_col2\" class=\"data row5 col2\" >PETROL</td>\n",
       "      <td id=\"T_a195a_row5_col3\" class=\"data row5 col3\" >5.025</td>\n",
       "      <td id=\"T_a195a_row5_col4\" class=\"data row5 col4\" >93.640</td>\n",
       "      <td id=\"T_a195a_row5_col5\" class=\"data row5 col5\" >101.060</td>\n",
       "      <td id=\"T_a195a_row5_col6\" class=\"data row5 col6\" >1366.522</td>\n",
       "      <td id=\"T_a195a_row5_col7\" class=\"data row5 col7\" >2604.104</td>\n",
       "      <td id=\"T_a195a_row5_col8\" class=\"data row5 col8\" >1523.284</td>\n",
       "    </tr>\n",
       "    <tr>\n",
       "      <th id=\"T_a195a_level0_row6\" class=\"row_heading level0 row6\" rowspan=\"4\">MAZDA-SUBARU-SUZUKI-TOYOTA</th>\n",
       "      <th id=\"T_a195a_level1_row6\" class=\"row_heading level1 row6\" >LEXUS</th>\n",
       "      <td id=\"T_a195a_row6_col0\" class=\"data row6 col0\" >2</td>\n",
       "      <td id=\"T_a195a_row6_col1\" class=\"data row6 col1\" >0.210</td>\n",
       "      <td id=\"T_a195a_row6_col2\" class=\"data row6 col2\" >PETROL</td>\n",
       "      <td id=\"T_a195a_row6_col3\" class=\"data row6 col3\" >4.400</td>\n",
       "      <td id=\"T_a195a_row6_col4\" class=\"data row6 col4\" >102.000</td>\n",
       "      <td id=\"T_a195a_row6_col5\" class=\"data row6 col5\" >121.500</td>\n",
       "      <td id=\"T_a195a_row6_col6\" class=\"data row6 col6\" >1620.000</td>\n",
       "      <td id=\"T_a195a_row6_col7\" class=\"data row6 col7\" >2735.000</td>\n",
       "      <td id=\"T_a195a_row6_col8\" class=\"data row6 col8\" >1557.500</td>\n",
       "    </tr>\n",
       "    <tr>\n",
       "      <th id=\"T_a195a_level1_row7\" class=\"row_heading level1 row7\" >MAZDA</th>\n",
       "      <td id=\"T_a195a_row7_col0\" class=\"data row7 col0\" >13</td>\n",
       "      <td id=\"T_a195a_row7_col1\" class=\"data row7 col1\" >1.360</td>\n",
       "      <td id=\"T_a195a_row7_col2\" class=\"data row7 col2\" >PETROL</td>\n",
       "      <td id=\"T_a195a_row7_col3\" class=\"data row7 col3\" >5.717</td>\n",
       "      <td id=\"T_a195a_row7_col4\" class=\"data row7 col4\" >109.923</td>\n",
       "      <td id=\"T_a195a_row7_col5\" class=\"data row7 col5\" >133.462</td>\n",
       "      <td id=\"T_a195a_row7_col6\" class=\"data row7 col6\" >1504.000</td>\n",
       "      <td id=\"T_a195a_row7_col7\" class=\"data row7 col7\" >2806.154</td>\n",
       "      <td id=\"T_a195a_row7_col8\" class=\"data row7 col8\" >1572.692</td>\n",
       "    </tr>\n",
       "    <tr>\n",
       "      <th id=\"T_a195a_level1_row8\" class=\"row_heading level1 row8\" >SUZUKI</th>\n",
       "      <td id=\"T_a195a_row8_col0\" class=\"data row8 col0\" >12</td>\n",
       "      <td id=\"T_a195a_row8_col1\" class=\"data row8 col1\" >1.260</td>\n",
       "      <td id=\"T_a195a_row8_col2\" class=\"data row8 col2\" >PETROL</td>\n",
       "      <td id=\"T_a195a_row8_col3\" class=\"data row8 col3\" >4.600</td>\n",
       "      <td id=\"T_a195a_row8_col4\" class=\"data row8 col4\" >76.000</td>\n",
       "      <td id=\"T_a195a_row8_col5\" class=\"data row8 col5\" >118.000</td>\n",
       "      <td id=\"T_a195a_row8_col6\" class=\"data row8 col6\" >1072.917</td>\n",
       "      <td id=\"T_a195a_row8_col7\" class=\"data row8 col7\" >2476.250</td>\n",
       "      <td id=\"T_a195a_row8_col8\" class=\"data row8 col8\" >1511.250</td>\n",
       "    </tr>\n",
       "    <tr>\n",
       "      <th id=\"T_a195a_level1_row9\" class=\"row_heading level1 row9\" >TOYOTA</th>\n",
       "      <td id=\"T_a195a_row9_col0\" class=\"data row9 col0\" >60</td>\n",
       "      <td id=\"T_a195a_row9_col1\" class=\"data row9 col1\" >6.280</td>\n",
       "      <td id=\"T_a195a_row9_col2\" class=\"data row9 col2\" >PETROL</td>\n",
       "      <td id=\"T_a195a_row9_col3\" class=\"data row9 col3\" >4.077</td>\n",
       "      <td id=\"T_a195a_row9_col4\" class=\"data row9 col4\" >82.517</td>\n",
       "      <td id=\"T_a195a_row9_col5\" class=\"data row9 col5\" >103.317</td>\n",
       "      <td id=\"T_a195a_row9_col6\" class=\"data row9 col6\" >1388.583</td>\n",
       "      <td id=\"T_a195a_row9_col7\" class=\"data row9 col7\" >2610.667</td>\n",
       "      <td id=\"T_a195a_row9_col8\" class=\"data row9 col8\" >1534.517</td>\n",
       "    </tr>\n",
       "    <tr>\n",
       "      <th id=\"T_a195a_level0_row10\" class=\"row_heading level0 row10\" >MERCEDES-BENZ</th>\n",
       "      <th id=\"T_a195a_level1_row10\" class=\"row_heading level1 row10\" >MERCEDES-BENZ</th>\n",
       "      <td id=\"T_a195a_row10_col0\" class=\"data row10 col0\" >62</td>\n",
       "      <td id=\"T_a195a_row10_col1\" class=\"data row10 col1\" >6.490</td>\n",
       "      <td id=\"T_a195a_row10_col2\" class=\"data row10 col2\" >DIESEL</td>\n",
       "      <td id=\"T_a195a_row10_col3\" class=\"data row10 col3\" >5.295</td>\n",
       "      <td id=\"T_a195a_row10_col4\" class=\"data row10 col4\" >126.887</td>\n",
       "      <td id=\"T_a195a_row10_col5\" class=\"data row10 col5\" >107.629</td>\n",
       "      <td id=\"T_a195a_row10_col6\" class=\"data row10 col6\" >1747.903</td>\n",
       "      <td id=\"T_a195a_row10_col7\" class=\"data row10 col7\" >2802.871</td>\n",
       "      <td id=\"T_a195a_row10_col8\" class=\"data row10 col8\" >1607.194</td>\n",
       "    </tr>\n",
       "    <tr>\n",
       "      <th id=\"T_a195a_level0_row11\" class=\"row_heading level0 row11\" rowspan=\"4\">RENAULT-NISSAN-MITSUBISHI</th>\n",
       "      <th id=\"T_a195a_level1_row11\" class=\"row_heading level1 row11\" >DACIA</th>\n",
       "      <td id=\"T_a195a_row11_col0\" class=\"data row11 col0\" >24</td>\n",
       "      <td id=\"T_a195a_row11_col1\" class=\"data row11 col1\" >2.510</td>\n",
       "      <td id=\"T_a195a_row11_col2\" class=\"data row11 col2\" >PETROL</td>\n",
       "      <td id=\"T_a195a_row11_col3\" class=\"data row11 col3\" >4.978</td>\n",
       "      <td id=\"T_a195a_row11_col4\" class=\"data row11 col4\" >72.792</td>\n",
       "      <td id=\"T_a195a_row11_col5\" class=\"data row11 col5\" >126.625</td>\n",
       "      <td id=\"T_a195a_row11_col6\" class=\"data row11 col6\" >1262.125</td>\n",
       "      <td id=\"T_a195a_row11_col7\" class=\"data row11 col7\" >2632.750</td>\n",
       "      <td id=\"T_a195a_row11_col8\" class=\"data row11 col8\" >1530.417</td>\n",
       "    </tr>\n",
       "    <tr>\n",
       "      <th id=\"T_a195a_level1_row12\" class=\"row_heading level1 row12\" >MITSUBISHI</th>\n",
       "      <td id=\"T_a195a_row12_col0\" class=\"data row12 col0\" >3</td>\n",
       "      <td id=\"T_a195a_row12_col1\" class=\"data row12 col1\" >0.310</td>\n",
       "      <td id=\"T_a195a_row12_col2\" class=\"data row12 col2\" >PETROL/ELECTRIC</td>\n",
       "      <td id=\"T_a195a_row12_col3\" class=\"data row12 col3\" >nan</td>\n",
       "      <td id=\"T_a195a_row12_col4\" class=\"data row12 col4\" >83.333</td>\n",
       "      <td id=\"T_a195a_row12_col5\" class=\"data row12 col5\" >68.000</td>\n",
       "      <td id=\"T_a195a_row12_col6\" class=\"data row12 col6\" >1626.667</td>\n",
       "      <td id=\"T_a195a_row12_col7\" class=\"data row12 col7\" >2596.667</td>\n",
       "      <td id=\"T_a195a_row12_col8\" class=\"data row12 col8\" >1503.333</td>\n",
       "    </tr>\n",
       "    <tr>\n",
       "      <th id=\"T_a195a_level1_row13\" class=\"row_heading level1 row13\" >NISSAN</th>\n",
       "      <td id=\"T_a195a_row13_col0\" class=\"data row13 col0\" >20</td>\n",
       "      <td id=\"T_a195a_row13_col1\" class=\"data row13 col1\" >2.090</td>\n",
       "      <td id=\"T_a195a_row13_col2\" class=\"data row13 col2\" >PETROL</td>\n",
       "      <td id=\"T_a195a_row13_col3\" class=\"data row13 col3\" >5.000</td>\n",
       "      <td id=\"T_a195a_row13_col4\" class=\"data row13 col4\" >99.950</td>\n",
       "      <td id=\"T_a195a_row13_col5\" class=\"data row13 col5\" >135.800</td>\n",
       "      <td id=\"T_a195a_row13_col6\" class=\"data row13 col6\" >1350.650</td>\n",
       "      <td id=\"T_a195a_row13_col7\" class=\"data row13 col7\" >2624.850</td>\n",
       "      <td id=\"T_a195a_row13_col8\" class=\"data row13 col8\" >1551.250</td>\n",
       "    </tr>\n",
       "    <tr>\n",
       "      <th id=\"T_a195a_level1_row14\" class=\"row_heading level1 row14\" >RENAULT</th>\n",
       "      <td id=\"T_a195a_row14_col0\" class=\"data row14 col0\" >43</td>\n",
       "      <td id=\"T_a195a_row14_col1\" class=\"data row14 col1\" >4.500</td>\n",
       "      <td id=\"T_a195a_row14_col2\" class=\"data row14 col2\" >PETROL</td>\n",
       "      <td id=\"T_a195a_row14_col3\" class=\"data row14 col3\" >4.895</td>\n",
       "      <td id=\"T_a195a_row14_col4\" class=\"data row14 col4\" >78.581</td>\n",
       "      <td id=\"T_a195a_row14_col5\" class=\"data row14 col5\" >99.837</td>\n",
       "      <td id=\"T_a195a_row14_col6\" class=\"data row14 col6\" >1399.535</td>\n",
       "      <td id=\"T_a195a_row14_col7\" class=\"data row14 col7\" >2642.302</td>\n",
       "      <td id=\"T_a195a_row14_col8\" class=\"data row14 col8\" >1541.326</td>\n",
       "    </tr>\n",
       "    <tr>\n",
       "      <th id=\"T_a195a_level0_row15\" class=\"row_heading level0 row15\" rowspan=\"7\">STELLANTIS</th>\n",
       "      <th id=\"T_a195a_level1_row15\" class=\"row_heading level1 row15\" >ALFA ROMEO</th>\n",
       "      <td id=\"T_a195a_row15_col0\" class=\"data row15 col0\" >2</td>\n",
       "      <td id=\"T_a195a_row15_col1\" class=\"data row15 col1\" >0.210</td>\n",
       "      <td id=\"T_a195a_row15_col2\" class=\"data row15 col2\" >DIESEL</td>\n",
       "      <td id=\"T_a195a_row15_col3\" class=\"data row15 col3\" >4.700</td>\n",
       "      <td id=\"T_a195a_row15_col4\" class=\"data row15 col4\" >133.000</td>\n",
       "      <td id=\"T_a195a_row15_col5\" class=\"data row15 col5\" >165.500</td>\n",
       "      <td id=\"T_a195a_row15_col6\" class=\"data row15 col6\" >1662.500</td>\n",
       "      <td id=\"T_a195a_row15_col7\" class=\"data row15 col7\" >2819.000</td>\n",
       "      <td id=\"T_a195a_row15_col8\" class=\"data row15 col8\" >1599.000</td>\n",
       "    </tr>\n",
       "    <tr>\n",
       "      <th id=\"T_a195a_level1_row16\" class=\"row_heading level1 row16\" >CITROEN</th>\n",
       "      <td id=\"T_a195a_row16_col0\" class=\"data row16 col0\" >48</td>\n",
       "      <td id=\"T_a195a_row16_col1\" class=\"data row16 col1\" >5.020</td>\n",
       "      <td id=\"T_a195a_row16_col2\" class=\"data row16 col2\" >PETROL</td>\n",
       "      <td id=\"T_a195a_row16_col3\" class=\"data row16 col3\" >4.364</td>\n",
       "      <td id=\"T_a195a_row16_col4\" class=\"data row16 col4\" >80.500</td>\n",
       "      <td id=\"T_a195a_row16_col5\" class=\"data row16 col5\" >112.417</td>\n",
       "      <td id=\"T_a195a_row16_col6\" class=\"data row16 col6\" >1277.000</td>\n",
       "      <td id=\"T_a195a_row16_col7\" class=\"data row16 col7\" >2631.375</td>\n",
       "      <td id=\"T_a195a_row16_col8\" class=\"data row16 col8\" >1523.729</td>\n",
       "    </tr>\n",
       "    <tr>\n",
       "      <th id=\"T_a195a_level1_row17\" class=\"row_heading level1 row17\" >DS</th>\n",
       "      <td id=\"T_a195a_row17_col0\" class=\"data row17 col0\" >4</td>\n",
       "      <td id=\"T_a195a_row17_col1\" class=\"data row17 col1\" >0.420</td>\n",
       "      <td id=\"T_a195a_row17_col2\" class=\"data row17 col2\" >DIESEL</td>\n",
       "      <td id=\"T_a195a_row17_col3\" class=\"data row17 col3\" >3.933</td>\n",
       "      <td id=\"T_a195a_row17_col4\" class=\"data row17 col4\" >105.250</td>\n",
       "      <td id=\"T_a195a_row17_col5\" class=\"data row17 col5\" >113.000</td>\n",
       "      <td id=\"T_a195a_row17_col6\" class=\"data row17 col6\" >1622.000</td>\n",
       "      <td id=\"T_a195a_row17_col7\" class=\"data row17 col7\" >2738.000</td>\n",
       "      <td id=\"T_a195a_row17_col8\" class=\"data row17 col8\" >1637.000</td>\n",
       "    </tr>\n",
       "    <tr>\n",
       "      <th id=\"T_a195a_level1_row18\" class=\"row_heading level1 row18\" >FIAT</th>\n",
       "      <td id=\"T_a195a_row18_col0\" class=\"data row18 col0\" >14</td>\n",
       "      <td id=\"T_a195a_row18_col1\" class=\"data row18 col1\" >1.460</td>\n",
       "      <td id=\"T_a195a_row18_col2\" class=\"data row18 col2\" >PETROL</td>\n",
       "      <td id=\"T_a195a_row18_col3\" class=\"data row18 col3\" >5.450</td>\n",
       "      <td id=\"T_a195a_row18_col4\" class=\"data row18 col4\" >77.200</td>\n",
       "      <td id=\"T_a195a_row18_col5\" class=\"data row18 col5\" >128.214</td>\n",
       "      <td id=\"T_a195a_row18_col6\" class=\"data row18 col6\" >1146.643</td>\n",
       "      <td id=\"T_a195a_row18_col7\" class=\"data row18 col7\" >2362.714</td>\n",
       "      <td id=\"T_a195a_row18_col8\" class=\"data row18 col8\" >1441.571</td>\n",
       "    </tr>\n",
       "    <tr>\n",
       "      <th id=\"T_a195a_level1_row19\" class=\"row_heading level1 row19\" >JEEP</th>\n",
       "      <td id=\"T_a195a_row19_col0\" class=\"data row19 col0\" >8</td>\n",
       "      <td id=\"T_a195a_row19_col1\" class=\"data row19 col1\" >0.840</td>\n",
       "      <td id=\"T_a195a_row19_col2\" class=\"data row19 col2\" >PETROL</td>\n",
       "      <td id=\"T_a195a_row19_col3\" class=\"data row19 col3\" >5.767</td>\n",
       "      <td id=\"T_a195a_row19_col4\" class=\"data row19 col4\" >120.500</td>\n",
       "      <td id=\"T_a195a_row19_col5\" class=\"data row19 col5\" >128.125</td>\n",
       "      <td id=\"T_a195a_row19_col6\" class=\"data row19 col6\" >1765.500</td>\n",
       "      <td id=\"T_a195a_row19_col7\" class=\"data row19 col7\" >2676.250</td>\n",
       "      <td id=\"T_a195a_row19_col8\" class=\"data row19 col8\" >1560.125</td>\n",
       "    </tr>\n",
       "    <tr>\n",
       "      <th id=\"T_a195a_level1_row20\" class=\"row_heading level1 row20\" >OPEL</th>\n",
       "      <td id=\"T_a195a_row20_col0\" class=\"data row20 col0\" >48</td>\n",
       "      <td id=\"T_a195a_row20_col1\" class=\"data row20 col1\" >5.020</td>\n",
       "      <td id=\"T_a195a_row20_col2\" class=\"data row20 col2\" >PETROL</td>\n",
       "      <td id=\"T_a195a_row20_col3\" class=\"data row20 col3\" >4.517</td>\n",
       "      <td id=\"T_a195a_row20_col4\" class=\"data row20 col4\" >79.750</td>\n",
       "      <td id=\"T_a195a_row20_col5\" class=\"data row20 col5\" >111.312</td>\n",
       "      <td id=\"T_a195a_row20_col6\" class=\"data row20 col6\" >1276.729</td>\n",
       "      <td id=\"T_a195a_row20_col7\" class=\"data row20 col7\" >2595.021</td>\n",
       "      <td id=\"T_a195a_row20_col8\" class=\"data row20 col8\" >1520.312</td>\n",
       "    </tr>\n",
       "    <tr>\n",
       "      <th id=\"T_a195a_level1_row21\" class=\"row_heading level1 row21\" >PEUGEOT</th>\n",
       "      <td id=\"T_a195a_row21_col0\" class=\"data row21 col0\" >81</td>\n",
       "      <td id=\"T_a195a_row21_col1\" class=\"data row21 col1\" >8.470</td>\n",
       "      <td id=\"T_a195a_row21_col2\" class=\"data row21 col2\" >PETROL</td>\n",
       "      <td id=\"T_a195a_row21_col3\" class=\"data row21 col3\" >4.321</td>\n",
       "      <td id=\"T_a195a_row21_col4\" class=\"data row21 col4\" >91.432</td>\n",
       "      <td id=\"T_a195a_row21_col5\" class=\"data row21 col5\" >102.012</td>\n",
       "      <td id=\"T_a195a_row21_col6\" class=\"data row21 col6\" >1358.679</td>\n",
       "      <td id=\"T_a195a_row21_col7\" class=\"data row21 col7\" >2610.556</td>\n",
       "      <td id=\"T_a195a_row21_col8\" class=\"data row21 col8\" >1541.716</td>\n",
       "    </tr>\n",
       "    <tr>\n",
       "      <th id=\"T_a195a_level0_row22\" class=\"row_heading level0 row22\" rowspan=\"2\">TATA-MOTORS</th>\n",
       "      <th id=\"T_a195a_level1_row22\" class=\"row_heading level1 row22\" >JAGUAR</th>\n",
       "      <td id=\"T_a195a_row22_col0\" class=\"data row22 col0\" >3</td>\n",
       "      <td id=\"T_a195a_row22_col1\" class=\"data row22 col1\" >0.310</td>\n",
       "      <td id=\"T_a195a_row22_col2\" class=\"data row22 col2\" >DIESEL</td>\n",
       "      <td id=\"T_a195a_row22_col3\" class=\"data row22 col3\" >5.733</td>\n",
       "      <td id=\"T_a195a_row22_col4\" class=\"data row22 col4\" >141.333</td>\n",
       "      <td id=\"T_a195a_row22_col5\" class=\"data row22 col5\" >172.333</td>\n",
       "      <td id=\"T_a195a_row22_col6\" class=\"data row22 col6\" >1823.667</td>\n",
       "      <td id=\"T_a195a_row22_col7\" class=\"data row22 col7\" >2732.333</td>\n",
       "      <td id=\"T_a195a_row22_col8\" class=\"data row22 col8\" >1620.667</td>\n",
       "    </tr>\n",
       "    <tr>\n",
       "      <th id=\"T_a195a_level1_row23\" class=\"row_heading level1 row23\" >LAND ROVER</th>\n",
       "      <td id=\"T_a195a_row23_col0\" class=\"data row23 col0\" >6</td>\n",
       "      <td id=\"T_a195a_row23_col1\" class=\"data row23 col1\" >0.630</td>\n",
       "      <td id=\"T_a195a_row23_col2\" class=\"data row23 col2\" >DIESEL</td>\n",
       "      <td id=\"T_a195a_row23_col3\" class=\"data row23 col3\" >6.600</td>\n",
       "      <td id=\"T_a195a_row23_col4\" class=\"data row23 col4\" >162.333</td>\n",
       "      <td id=\"T_a195a_row23_col5\" class=\"data row23 col5\" >155.000</td>\n",
       "      <td id=\"T_a195a_row23_col6\" class=\"data row23 col6\" >2199.667</td>\n",
       "      <td id=\"T_a195a_row23_col7\" class=\"data row23 col7\" >2818.833</td>\n",
       "      <td id=\"T_a195a_row23_col8\" class=\"data row23 col8\" >1650.833</td>\n",
       "    </tr>\n",
       "    <tr>\n",
       "      <th id=\"T_a195a_level0_row24\" class=\"row_heading level0 row24\" rowspan=\"2\">TESLA</th>\n",
       "      <th id=\"T_a195a_level1_row24\" class=\"row_heading level1 row24\" >LAND ROVER</th>\n",
       "      <td id=\"T_a195a_row24_col0\" class=\"data row24 col0\" >1</td>\n",
       "      <td id=\"T_a195a_row24_col1\" class=\"data row24 col1\" >0.100</td>\n",
       "      <td id=\"T_a195a_row24_col2\" class=\"data row24 col2\" >PETROL/ELECTRIC</td>\n",
       "      <td id=\"T_a195a_row24_col3\" class=\"data row24 col3\" >nan</td>\n",
       "      <td id=\"T_a195a_row24_col4\" class=\"data row24 col4\" >147.000</td>\n",
       "      <td id=\"T_a195a_row24_col5\" class=\"data row24 col5\" >44.000</td>\n",
       "      <td id=\"T_a195a_row24_col6\" class=\"data row24 col6\" >2229.000</td>\n",
       "      <td id=\"T_a195a_row24_col7\" class=\"data row24 col7\" >2741.000</td>\n",
       "      <td id=\"T_a195a_row24_col8\" class=\"data row24 col8\" >1625.000</td>\n",
       "    </tr>\n",
       "    <tr>\n",
       "      <th id=\"T_a195a_level1_row25\" class=\"row_heading level1 row25\" >TESLA</th>\n",
       "      <td id=\"T_a195a_row25_col0\" class=\"data row25 col0\" >13</td>\n",
       "      <td id=\"T_a195a_row25_col1\" class=\"data row25 col1\" >1.360</td>\n",
       "      <td id=\"T_a195a_row25_col2\" class=\"data row25 col2\" >ELECTRIC</td>\n",
       "      <td id=\"T_a195a_row25_col3\" class=\"data row25 col3\" >nan</td>\n",
       "      <td id=\"T_a195a_row25_col4\" class=\"data row25 col4\" >244.462</td>\n",
       "      <td id=\"T_a195a_row25_col5\" class=\"data row25 col5\" >0.000</td>\n",
       "      <td id=\"T_a195a_row25_col6\" class=\"data row25 col6\" >1912.846</td>\n",
       "      <td id=\"T_a195a_row25_col7\" class=\"data row25 col7\" >2878.846</td>\n",
       "      <td id=\"T_a195a_row25_col8\" class=\"data row25 col8\" >1593.231</td>\n",
       "    </tr>\n",
       "    <tr>\n",
       "      <th id=\"T_a195a_level0_row26\" class=\"row_heading level0 row26\" rowspan=\"9\">VW-SAIC</th>\n",
       "      <th id=\"T_a195a_level1_row26\" class=\"row_heading level1 row26\" >AIWAYS</th>\n",
       "      <td id=\"T_a195a_row26_col0\" class=\"data row26 col0\" >1</td>\n",
       "      <td id=\"T_a195a_row26_col1\" class=\"data row26 col1\" >0.100</td>\n",
       "      <td id=\"T_a195a_row26_col2\" class=\"data row26 col2\" >ELECTRIC</td>\n",
       "      <td id=\"T_a195a_row26_col3\" class=\"data row26 col3\" >nan</td>\n",
       "      <td id=\"T_a195a_row26_col4\" class=\"data row26 col4\" >150.000</td>\n",
       "      <td id=\"T_a195a_row26_col5\" class=\"data row26 col5\" >0.000</td>\n",
       "      <td id=\"T_a195a_row26_col6\" class=\"data row26 col6\" >1845.000</td>\n",
       "      <td id=\"T_a195a_row26_col7\" class=\"data row26 col7\" >2800.000</td>\n",
       "      <td id=\"T_a195a_row26_col8\" class=\"data row26 col8\" >1592.000</td>\n",
       "    </tr>\n",
       "    <tr>\n",
       "      <th id=\"T_a195a_level1_row27\" class=\"row_heading level1 row27\" >AUDI</th>\n",
       "      <td id=\"T_a195a_row27_col0\" class=\"data row27 col0\" >64</td>\n",
       "      <td id=\"T_a195a_row27_col1\" class=\"data row27 col1\" >6.690</td>\n",
       "      <td id=\"T_a195a_row27_col2\" class=\"data row27 col2\" >PETROL</td>\n",
       "      <td id=\"T_a195a_row27_col3\" class=\"data row27 col3\" >5.289</td>\n",
       "      <td id=\"T_a195a_row27_col4\" class=\"data row27 col4\" >134.969</td>\n",
       "      <td id=\"T_a195a_row27_col5\" class=\"data row27 col5\" >111.703</td>\n",
       "      <td id=\"T_a195a_row27_col6\" class=\"data row27 col6\" >1678.906</td>\n",
       "      <td id=\"T_a195a_row27_col7\" class=\"data row27 col7\" >2712.625</td>\n",
       "      <td id=\"T_a195a_row27_col8\" class=\"data row27 col8\" >1566.205</td>\n",
       "    </tr>\n",
       "    <tr>\n",
       "      <th id=\"T_a195a_level1_row28\" class=\"row_heading level1 row28\" >CUPRA</th>\n",
       "      <td id=\"T_a195a_row28_col0\" class=\"data row28 col0\" >1</td>\n",
       "      <td id=\"T_a195a_row28_col1\" class=\"data row28 col1\" >0.100</td>\n",
       "      <td id=\"T_a195a_row28_col2\" class=\"data row28 col2\" >PETROL</td>\n",
       "      <td id=\"T_a195a_row28_col3\" class=\"data row28 col3\" >5.600</td>\n",
       "      <td id=\"T_a195a_row28_col4\" class=\"data row28 col4\" >110.000</td>\n",
       "      <td id=\"T_a195a_row28_col5\" class=\"data row28 col5\" >154.000</td>\n",
       "      <td id=\"T_a195a_row28_col6\" class=\"data row28 col6\" >1452.000</td>\n",
       "      <td id=\"T_a195a_row28_col7\" class=\"data row28 col7\" >2679.000</td>\n",
       "      <td id=\"T_a195a_row28_col8\" class=\"data row28 col8\" >nan</td>\n",
       "    </tr>\n",
       "    <tr>\n",
       "      <th id=\"T_a195a_level1_row29\" class=\"row_heading level1 row29\" >LYNK&CO</th>\n",
       "      <td id=\"T_a195a_row29_col0\" class=\"data row29 col0\" >2</td>\n",
       "      <td id=\"T_a195a_row29_col1\" class=\"data row29 col1\" >0.210</td>\n",
       "      <td id=\"T_a195a_row29_col2\" class=\"data row29 col2\" >PETROL</td>\n",
       "      <td id=\"T_a195a_row29_col3\" class=\"data row29 col3\" >nan</td>\n",
       "      <td id=\"T_a195a_row29_col4\" class=\"data row29 col4\" >118.500</td>\n",
       "      <td id=\"T_a195a_row29_col5\" class=\"data row29 col5\" >88.500</td>\n",
       "      <td id=\"T_a195a_row29_col6\" class=\"data row29 col6\" >1884.000</td>\n",
       "      <td id=\"T_a195a_row29_col7\" class=\"data row29 col7\" >2732.000</td>\n",
       "      <td id=\"T_a195a_row29_col8\" class=\"data row29 col8\" >1599.000</td>\n",
       "    </tr>\n",
       "    <tr>\n",
       "      <th id=\"T_a195a_level1_row30\" class=\"row_heading level1 row30\" >MG</th>\n",
       "      <td id=\"T_a195a_row30_col0\" class=\"data row30 col0\" >2</td>\n",
       "      <td id=\"T_a195a_row30_col1\" class=\"data row30 col1\" >0.210</td>\n",
       "      <td id=\"T_a195a_row30_col2\" class=\"data row30 col2\" >PETROL/ELECTRIC</td>\n",
       "      <td id=\"T_a195a_row30_col3\" class=\"data row30 col3\" >nan</td>\n",
       "      <td id=\"T_a195a_row30_col4\" class=\"data row30 col4\" >119.000</td>\n",
       "      <td id=\"T_a195a_row30_col5\" class=\"data row30 col5\" >43.000</td>\n",
       "      <td id=\"T_a195a_row30_col6\" class=\"data row30 col6\" >1831.000</td>\n",
       "      <td id=\"T_a195a_row30_col7\" class=\"data row30 col7\" >2721.000</td>\n",
       "      <td id=\"T_a195a_row30_col8\" class=\"data row30 col8\" >1572.000</td>\n",
       "    </tr>\n",
       "    <tr>\n",
       "      <th id=\"T_a195a_level1_row31\" class=\"row_heading level1 row31\" >PORSCHE</th>\n",
       "      <td id=\"T_a195a_row31_col0\" class=\"data row31 col0\" >3</td>\n",
       "      <td id=\"T_a195a_row31_col1\" class=\"data row31 col1\" >0.310</td>\n",
       "      <td id=\"T_a195a_row31_col2\" class=\"data row31 col2\" >ELECTRIC</td>\n",
       "      <td id=\"T_a195a_row31_col3\" class=\"data row31 col3\" >nan</td>\n",
       "      <td id=\"T_a195a_row31_col4\" class=\"data row31 col4\" >287.000</td>\n",
       "      <td id=\"T_a195a_row31_col5\" class=\"data row31 col5\" >106.333</td>\n",
       "      <td id=\"T_a195a_row31_col6\" class=\"data row31 col6\" >2133.333</td>\n",
       "      <td id=\"T_a195a_row31_col7\" class=\"data row31 col7\" >2749.667</td>\n",
       "      <td id=\"T_a195a_row31_col8\" class=\"data row31 col8\" >1595.000</td>\n",
       "    </tr>\n",
       "    <tr>\n",
       "      <th id=\"T_a195a_level1_row32\" class=\"row_heading level1 row32\" >SEAT</th>\n",
       "      <td id=\"T_a195a_row32_col0\" class=\"data row32 col0\" >27</td>\n",
       "      <td id=\"T_a195a_row32_col1\" class=\"data row32 col1\" >2.820</td>\n",
       "      <td id=\"T_a195a_row32_col2\" class=\"data row32 col2\" >PETROL</td>\n",
       "      <td id=\"T_a195a_row32_col3\" class=\"data row32 col3\" >4.978</td>\n",
       "      <td id=\"T_a195a_row32_col4\" class=\"data row32 col4\" >93.926</td>\n",
       "      <td id=\"T_a195a_row32_col5\" class=\"data row32 col5\" >101.038</td>\n",
       "      <td id=\"T_a195a_row32_col6\" class=\"data row32 col6\" >1395.741</td>\n",
       "      <td id=\"T_a195a_row32_col7\" class=\"data row32 col7\" >2601.444</td>\n",
       "      <td id=\"T_a195a_row32_col8\" class=\"data row32 col8\" >1510.118</td>\n",
       "    </tr>\n",
       "    <tr>\n",
       "      <th id=\"T_a195a_level1_row33\" class=\"row_heading level1 row33\" >SKODA</th>\n",
       "      <td id=\"T_a195a_row33_col0\" class=\"data row33 col0\" >54</td>\n",
       "      <td id=\"T_a195a_row33_col1\" class=\"data row33 col1\" >5.650</td>\n",
       "      <td id=\"T_a195a_row33_col2\" class=\"data row33 col2\" >PETROL</td>\n",
       "      <td id=\"T_a195a_row33_col3\" class=\"data row33 col3\" >4.980</td>\n",
       "      <td id=\"T_a195a_row33_col4\" class=\"data row33 col4\" >106.926</td>\n",
       "      <td id=\"T_a195a_row33_col5\" class=\"data row33 col5\" >98.259</td>\n",
       "      <td id=\"T_a195a_row33_col6\" class=\"data row33 col6\" >1583.352</td>\n",
       "      <td id=\"T_a195a_row33_col7\" class=\"data row33 col7\" >2698.278</td>\n",
       "      <td id=\"T_a195a_row33_col8\" class=\"data row33 col8\" >1559.355</td>\n",
       "    </tr>\n",
       "    <tr>\n",
       "      <th id=\"T_a195a_level1_row34\" class=\"row_heading level1 row34\" >VOLKSWAGEN</th>\n",
       "      <td id=\"T_a195a_row34_col0\" class=\"data row34 col0\" >100</td>\n",
       "      <td id=\"T_a195a_row34_col1\" class=\"data row34 col1\" >10.460</td>\n",
       "      <td id=\"T_a195a_row34_col2\" class=\"data row34 col2\" >PETROL</td>\n",
       "      <td id=\"T_a195a_row34_col3\" class=\"data row34 col3\" >4.869</td>\n",
       "      <td id=\"T_a195a_row34_col4\" class=\"data row34 col4\" >97.970</td>\n",
       "      <td id=\"T_a195a_row34_col5\" class=\"data row34 col5\" >105.260</td>\n",
       "      <td id=\"T_a195a_row34_col6\" class=\"data row34 col6\" >1509.650</td>\n",
       "      <td id=\"T_a195a_row34_col7\" class=\"data row34 col7\" >2642.880</td>\n",
       "      <td id=\"T_a195a_row34_col8\" class=\"data row34 col8\" >1534.812</td>\n",
       "    </tr>\n",
       "  </tbody>\n",
       "</table>\n"
      ],
      "text/plain": [
       "<pandas.io.formats.style.Styler at 0x7f9c8436f8e0>"
      ]
     },
     "metadata": {},
     "output_type": "display_data"
    }
   ],
   "source": [
    "makers.display()"
   ]
  },
  {
   "cell_type": "code",
   "execution_count": 17,
   "metadata": {},
   "outputs": [],
   "source": [
    "#coutry_stats = agg.get_country_stats()\n",
    "#display(coutry_stats)\n",
    "country_stats = {\n",
    " 'IE': {'population': 5123536, 'gdp_per_capita': 103296.79936336935},\n",
    " 'HU': {'population': 9603634, 'gdp_per_capita': 18.935334502543515},\n",
    " 'ES': {'population': 47415750, 'gdp_per_capita': 30103.513733200467},\n",
    " 'BE': {'population': 11584008, 'gdp_per_capita': 51785.18523122567},\n",
    " 'LU': {'population': 660809, 'gdp_per_capita': 129396.30639715864},\n",
    " 'FI': {'population': 5563970, 'gdp_per_capita': 53269.09118201572},\n",
    " 'SE': {'population': 10548336, 'gdp_per_capita': 60375.042698298574},\n",
    " 'DK': {'population': 5827463, 'gdp_per_capita': 68349.34391930074},\n",
    " 'PL': {'population': 38382576, 'gdp_per_capita': 17929.40124589345},\n",
    " 'LT': {'population': 2860002, 'gdp_per_capita': 24592.39504308039},\n",
    " 'IT': {'population': 58850717, 'gdp_per_capita': 35927.442598770715},\n",
    " 'AT': {'population': 8979894, 'gdp_per_capita': 53493.772186286384},\n",
    " 'GR': {'population': 10482487, 'gdp_per_capita': 20898.272753975274},\n",
    " 'PT': {'population': 10347892, 'gdp_per_capita': 24544.40455804912},\n",
    " 'FR': {'population': 67749632, 'gdp_per_capita': 43658.97897812936},\n",
    " 'GB': {'population': 67326569, 'gdp_per_capita': 46378.1296493068},\n",
    " 'DE': {'population': 83149300, 'gdp_per_capita': 51232.36048676297},\n",
    " 'EE': {'population': 1373101, 'gdp_per_capita': 27748.00466899376},\n",
    " 'LV': {'population': 1883008, 'gdp_per_capita': 21855.4104193928},\n",
    " 'CZ': {'population': 10827529, 'gdp_per_capita': 23152.189202171612},\n",
    " 'SK': {'population': 5449270, 'gdp_per_capita': 21774.768346769382},\n",
    " 'SI': {'population': 2066880, 'gdp_per_capita': 30053.882187161325},\n",
    " 'RO': {'population': 19053815, 'gdp_per_capita': 15811.089953586723},\n",
    " 'BG': {'population': 7000039, 'gdp_per_capita': 12719.986046649168},\n",
    " 'HR': {'population': 3871833, 'gdp_per_capita': 18328.426475263783},\n",
    " 'CY': {'population': 1141166, 'gdp_per_capita': 24921.04806925548},\n",
    " 'MT': {'population': 465292, 'gdp_per_capita': 38180.90578604403},\n",
    " 'NL': {'population': 17100715, 'gdp_per_capita': 48569.46734975701}}\n",
    "\n"
   ]
  },
  {
   "cell_type": "code",
   "execution_count": 18,
   "metadata": {},
   "outputs": [
    {
     "data": {
      "text/html": [
       "<style type=\"text/css\">\n",
       "#T_b61fb th {\n",
       "  background-color: steelblue;\n",
       "  color: white;\n",
       "}\n",
       "#T_b61fb tr:nth-of-type(odd) {\n",
       "  background-color: aliceblue;\n",
       "}\n",
       "#T_b61fb tr:nth-of-type(even) {\n",
       "  background-color: white;\n",
       "}\n",
       "</style>\n",
       "<table id=\"T_b61fb\">\n",
       "  <thead>\n",
       "    <tr>\n",
       "      <th class=\"blank level0\" >&nbsp;</th>\n",
       "      <th id=\"T_b61fb_level0_col0\" class=\"col_heading level0 col0\" >Country</th>\n",
       "      <th id=\"T_b61fb_level0_col1\" class=\"col_heading level0 col1\" >population</th>\n",
       "      <th id=\"T_b61fb_level0_col2\" class=\"col_heading level0 col2\" >gdp_per_capita</th>\n",
       "      <th id=\"T_b61fb_level0_col3\" class=\"col_heading level0 col3\" >Count</th>\n",
       "      <th id=\"T_b61fb_level0_col4\" class=\"col_heading level0 col4\" >Make</th>\n",
       "      <th id=\"T_b61fb_level0_col5\" class=\"col_heading level0 col5\" >FuelType</th>\n",
       "      <th id=\"T_b61fb_level0_col6\" class=\"col_heading level0 col6\" >FuelConsumption</th>\n",
       "      <th id=\"T_b61fb_level0_col7\" class=\"col_heading level0 col7\" >EnginePower</th>\n",
       "      <th id=\"T_b61fb_level0_col8\" class=\"col_heading level0 col8\" >Co2EmissionsWltp</th>\n",
       "      <th id=\"T_b61fb_level0_col9\" class=\"col_heading level0 col9\" >MassRunningOrder</th>\n",
       "      <th id=\"T_b61fb_level0_col10\" class=\"col_heading level0 col10\" >BaseWheel</th>\n",
       "      <th id=\"T_b61fb_level0_col11\" class=\"col_heading level0 col11\" >AxleWidthSteering</th>\n",
       "    </tr>\n",
       "  </thead>\n",
       "  <tbody>\n",
       "    <tr>\n",
       "      <th id=\"T_b61fb_level0_row0\" class=\"row_heading level0 row0\" >0</th>\n",
       "      <td id=\"T_b61fb_row0_col0\" class=\"data row0 col0\" >BE</td>\n",
       "      <td id=\"T_b61fb_row0_col1\" class=\"data row0 col1\" >11584008.000</td>\n",
       "      <td id=\"T_b61fb_row0_col2\" class=\"data row0 col2\" >51785.185</td>\n",
       "      <td id=\"T_b61fb_row0_col3\" class=\"data row0 col3\" >391</td>\n",
       "      <td id=\"T_b61fb_row0_col4\" class=\"data row0 col4\" >BMW</td>\n",
       "      <td id=\"T_b61fb_row0_col5\" class=\"data row0 col5\" >PETROL</td>\n",
       "      <td id=\"T_b61fb_row0_col6\" class=\"data row0 col6\" >4.902</td>\n",
       "      <td id=\"T_b61fb_row0_col7\" class=\"data row0 col7\" >105.248</td>\n",
       "      <td id=\"T_b61fb_row0_col8\" class=\"data row0 col8\" >119.369</td>\n",
       "      <td id=\"T_b61fb_row0_col9\" class=\"data row0 col9\" >1498.194</td>\n",
       "      <td id=\"T_b61fb_row0_col10\" class=\"data row0 col10\" >2682.826</td>\n",
       "      <td id=\"T_b61fb_row0_col11\" class=\"data row0 col11\" >1558.201</td>\n",
       "    </tr>\n",
       "    <tr>\n",
       "      <th id=\"T_b61fb_level0_row1\" class=\"row_heading level0 row1\" >1</th>\n",
       "      <td id=\"T_b61fb_row1_col0\" class=\"data row1 col0\" >DK</td>\n",
       "      <td id=\"T_b61fb_row1_col1\" class=\"data row1 col1\" >5827463.000</td>\n",
       "      <td id=\"T_b61fb_row1_col2\" class=\"data row1 col2\" >68349.344</td>\n",
       "      <td id=\"T_b61fb_row1_col3\" class=\"data row1 col3\" >193</td>\n",
       "      <td id=\"T_b61fb_row1_col4\" class=\"data row1 col4\" >VOLKSWAGEN</td>\n",
       "      <td id=\"T_b61fb_row1_col5\" class=\"data row1 col5\" >PETROL</td>\n",
       "      <td id=\"T_b61fb_row1_col6\" class=\"data row1 col6\" >nan</td>\n",
       "      <td id=\"T_b61fb_row1_col7\" class=\"data row1 col7\" >110.052</td>\n",
       "      <td id=\"T_b61fb_row1_col8\" class=\"data row1 col8\" >92.453</td>\n",
       "      <td id=\"T_b61fb_row1_col9\" class=\"data row1 col9\" >1554.637</td>\n",
       "      <td id=\"T_b61fb_row1_col10\" class=\"data row1 col10\" >2664.990</td>\n",
       "      <td id=\"T_b61fb_row1_col11\" class=\"data row1 col11\" >1552.000</td>\n",
       "    </tr>\n",
       "    <tr>\n",
       "      <th id=\"T_b61fb_level0_row2\" class=\"row_heading level0 row2\" >2</th>\n",
       "      <td id=\"T_b61fb_row2_col0\" class=\"data row2 col0\" >LU</td>\n",
       "      <td id=\"T_b61fb_row2_col1\" class=\"data row2 col1\" >660809.000</td>\n",
       "      <td id=\"T_b61fb_row2_col2\" class=\"data row2 col2\" >129396.306</td>\n",
       "      <td id=\"T_b61fb_row2_col3\" class=\"data row2 col3\" >37</td>\n",
       "      <td id=\"T_b61fb_row2_col4\" class=\"data row2 col4\" >VOLKSWAGEN</td>\n",
       "      <td id=\"T_b61fb_row2_col5\" class=\"data row2 col5\" >PETROL</td>\n",
       "      <td id=\"T_b61fb_row2_col6\" class=\"data row2 col6\" >nan</td>\n",
       "      <td id=\"T_b61fb_row2_col7\" class=\"data row2 col7\" >118.162</td>\n",
       "      <td id=\"T_b61fb_row2_col8\" class=\"data row2 col8\" >117.595</td>\n",
       "      <td id=\"T_b61fb_row2_col9\" class=\"data row2 col9\" >1510.297</td>\n",
       "      <td id=\"T_b61fb_row2_col10\" class=\"data row2 col10\" >2719.054</td>\n",
       "      <td id=\"T_b61fb_row2_col11\" class=\"data row2 col11\" >1561.676</td>\n",
       "    </tr>\n",
       "    <tr>\n",
       "      <th id=\"T_b61fb_level0_row3\" class=\"row_heading level0 row3\" >3</th>\n",
       "      <td id=\"T_b61fb_row3_col0\" class=\"data row3 col0\" >NL</td>\n",
       "      <td id=\"T_b61fb_row3_col1\" class=\"data row3 col1\" >17100715.000</td>\n",
       "      <td id=\"T_b61fb_row3_col2\" class=\"data row3 col2\" >48569.467</td>\n",
       "      <td id=\"T_b61fb_row3_col3\" class=\"data row3 col3\" >335</td>\n",
       "      <td id=\"T_b61fb_row3_col4\" class=\"data row3 col4\" >VOLKSWAGEN</td>\n",
       "      <td id=\"T_b61fb_row3_col5\" class=\"data row3 col5\" >PETROL</td>\n",
       "      <td id=\"T_b61fb_row3_col6\" class=\"data row3 col6\" >nan</td>\n",
       "      <td id=\"T_b61fb_row3_col7\" class=\"data row3 col7\" >100.997</td>\n",
       "      <td id=\"T_b61fb_row3_col8\" class=\"data row3 col8\" >92.916</td>\n",
       "      <td id=\"T_b61fb_row3_col9\" class=\"data row3 col9\" >1460.696</td>\n",
       "      <td id=\"T_b61fb_row3_col10\" class=\"data row3 col10\" >2636.925</td>\n",
       "      <td id=\"T_b61fb_row3_col11\" class=\"data row3 col11\" >1539.821</td>\n",
       "    </tr>\n",
       "  </tbody>\n",
       "</table>\n"
      ],
      "text/plain": [
       "<pandas.io.formats.style.Styler at 0x7f9c320393d0>"
      ]
     },
     "metadata": {},
     "output_type": "display_data"
    }
   ],
   "source": [
    "countries = co2.agg.Countries(df, country_stats)  \n",
    "countries.display()"
   ]
  },
  {
   "cell_type": "code",
   "execution_count": 19,
   "metadata": {},
   "outputs": [
    {
     "data": {
      "application/vnd.plotly.v1+json": {
       "config": {
        "plotlyServerURL": "https://plot.ly"
       },
       "data": [
        {
         "alignmentgroup": "True",
         "hovertemplate": "Country=%{x}<br>Co2EmissionsWltp=%{marker.color}<extra></extra>",
         "legendgroup": "",
         "marker": {
          "color": [
           119.36923076923077,
           117.5945945945946,
           92.91641791044776,
           92.453125
          ],
          "coloraxis": "coloraxis",
          "pattern": {
           "shape": ""
          }
         },
         "name": "",
         "offsetgroup": "",
         "orientation": "v",
         "showlegend": false,
         "textposition": "auto",
         "type": "bar",
         "x": [
          "BE",
          "LU",
          "NL",
          "DK"
         ],
         "xaxis": "x",
         "y": [
          119.36923076923077,
          117.5945945945946,
          92.91641791044776,
          92.453125
         ],
         "yaxis": "y"
        }
       ],
       "layout": {
        "barmode": "relative",
        "coloraxis": {
         "colorbar": {
          "title": {
           "text": "Co2EmissionsWltp"
          }
         },
         "colorscale": [
          [
           0,
           "rgb(247,251,255)"
          ],
          [
           0.125,
           "rgb(222,235,247)"
          ],
          [
           0.25,
           "rgb(198,219,239)"
          ],
          [
           0.375,
           "rgb(158,202,225)"
          ],
          [
           0.5,
           "rgb(107,174,214)"
          ],
          [
           0.625,
           "rgb(66,146,198)"
          ],
          [
           0.75,
           "rgb(33,113,181)"
          ],
          [
           0.875,
           "rgb(8,81,156)"
          ],
          [
           1,
           "rgb(8,48,107)"
          ]
         ]
        },
        "legend": {
         "tracegroupgap": 0
        },
        "margin": {
         "t": 60
        },
        "template": {
         "data": {
          "bar": [
           {
            "error_x": {
             "color": "#2a3f5f"
            },
            "error_y": {
             "color": "#2a3f5f"
            },
            "marker": {
             "line": {
              "color": "#E5ECF6",
              "width": 0.5
             },
             "pattern": {
              "fillmode": "overlay",
              "size": 10,
              "solidity": 0.2
             }
            },
            "type": "bar"
           }
          ],
          "barpolar": [
           {
            "marker": {
             "line": {
              "color": "#E5ECF6",
              "width": 0.5
             },
             "pattern": {
              "fillmode": "overlay",
              "size": 10,
              "solidity": 0.2
             }
            },
            "type": "barpolar"
           }
          ],
          "carpet": [
           {
            "aaxis": {
             "endlinecolor": "#2a3f5f",
             "gridcolor": "white",
             "linecolor": "white",
             "minorgridcolor": "white",
             "startlinecolor": "#2a3f5f"
            },
            "baxis": {
             "endlinecolor": "#2a3f5f",
             "gridcolor": "white",
             "linecolor": "white",
             "minorgridcolor": "white",
             "startlinecolor": "#2a3f5f"
            },
            "type": "carpet"
           }
          ],
          "choropleth": [
           {
            "colorbar": {
             "outlinewidth": 0,
             "ticks": ""
            },
            "type": "choropleth"
           }
          ],
          "contour": [
           {
            "colorbar": {
             "outlinewidth": 0,
             "ticks": ""
            },
            "colorscale": [
             [
              0,
              "#0d0887"
             ],
             [
              0.1111111111111111,
              "#46039f"
             ],
             [
              0.2222222222222222,
              "#7201a8"
             ],
             [
              0.3333333333333333,
              "#9c179e"
             ],
             [
              0.4444444444444444,
              "#bd3786"
             ],
             [
              0.5555555555555556,
              "#d8576b"
             ],
             [
              0.6666666666666666,
              "#ed7953"
             ],
             [
              0.7777777777777778,
              "#fb9f3a"
             ],
             [
              0.8888888888888888,
              "#fdca26"
             ],
             [
              1,
              "#f0f921"
             ]
            ],
            "type": "contour"
           }
          ],
          "contourcarpet": [
           {
            "colorbar": {
             "outlinewidth": 0,
             "ticks": ""
            },
            "type": "contourcarpet"
           }
          ],
          "heatmap": [
           {
            "colorbar": {
             "outlinewidth": 0,
             "ticks": ""
            },
            "colorscale": [
             [
              0,
              "#0d0887"
             ],
             [
              0.1111111111111111,
              "#46039f"
             ],
             [
              0.2222222222222222,
              "#7201a8"
             ],
             [
              0.3333333333333333,
              "#9c179e"
             ],
             [
              0.4444444444444444,
              "#bd3786"
             ],
             [
              0.5555555555555556,
              "#d8576b"
             ],
             [
              0.6666666666666666,
              "#ed7953"
             ],
             [
              0.7777777777777778,
              "#fb9f3a"
             ],
             [
              0.8888888888888888,
              "#fdca26"
             ],
             [
              1,
              "#f0f921"
             ]
            ],
            "type": "heatmap"
           }
          ],
          "heatmapgl": [
           {
            "colorbar": {
             "outlinewidth": 0,
             "ticks": ""
            },
            "colorscale": [
             [
              0,
              "#0d0887"
             ],
             [
              0.1111111111111111,
              "#46039f"
             ],
             [
              0.2222222222222222,
              "#7201a8"
             ],
             [
              0.3333333333333333,
              "#9c179e"
             ],
             [
              0.4444444444444444,
              "#bd3786"
             ],
             [
              0.5555555555555556,
              "#d8576b"
             ],
             [
              0.6666666666666666,
              "#ed7953"
             ],
             [
              0.7777777777777778,
              "#fb9f3a"
             ],
             [
              0.8888888888888888,
              "#fdca26"
             ],
             [
              1,
              "#f0f921"
             ]
            ],
            "type": "heatmapgl"
           }
          ],
          "histogram": [
           {
            "marker": {
             "pattern": {
              "fillmode": "overlay",
              "size": 10,
              "solidity": 0.2
             }
            },
            "type": "histogram"
           }
          ],
          "histogram2d": [
           {
            "colorbar": {
             "outlinewidth": 0,
             "ticks": ""
            },
            "colorscale": [
             [
              0,
              "#0d0887"
             ],
             [
              0.1111111111111111,
              "#46039f"
             ],
             [
              0.2222222222222222,
              "#7201a8"
             ],
             [
              0.3333333333333333,
              "#9c179e"
             ],
             [
              0.4444444444444444,
              "#bd3786"
             ],
             [
              0.5555555555555556,
              "#d8576b"
             ],
             [
              0.6666666666666666,
              "#ed7953"
             ],
             [
              0.7777777777777778,
              "#fb9f3a"
             ],
             [
              0.8888888888888888,
              "#fdca26"
             ],
             [
              1,
              "#f0f921"
             ]
            ],
            "type": "histogram2d"
           }
          ],
          "histogram2dcontour": [
           {
            "colorbar": {
             "outlinewidth": 0,
             "ticks": ""
            },
            "colorscale": [
             [
              0,
              "#0d0887"
             ],
             [
              0.1111111111111111,
              "#46039f"
             ],
             [
              0.2222222222222222,
              "#7201a8"
             ],
             [
              0.3333333333333333,
              "#9c179e"
             ],
             [
              0.4444444444444444,
              "#bd3786"
             ],
             [
              0.5555555555555556,
              "#d8576b"
             ],
             [
              0.6666666666666666,
              "#ed7953"
             ],
             [
              0.7777777777777778,
              "#fb9f3a"
             ],
             [
              0.8888888888888888,
              "#fdca26"
             ],
             [
              1,
              "#f0f921"
             ]
            ],
            "type": "histogram2dcontour"
           }
          ],
          "mesh3d": [
           {
            "colorbar": {
             "outlinewidth": 0,
             "ticks": ""
            },
            "type": "mesh3d"
           }
          ],
          "parcoords": [
           {
            "line": {
             "colorbar": {
              "outlinewidth": 0,
              "ticks": ""
             }
            },
            "type": "parcoords"
           }
          ],
          "pie": [
           {
            "automargin": true,
            "type": "pie"
           }
          ],
          "scatter": [
           {
            "fillpattern": {
             "fillmode": "overlay",
             "size": 10,
             "solidity": 0.2
            },
            "type": "scatter"
           }
          ],
          "scatter3d": [
           {
            "line": {
             "colorbar": {
              "outlinewidth": 0,
              "ticks": ""
             }
            },
            "marker": {
             "colorbar": {
              "outlinewidth": 0,
              "ticks": ""
             }
            },
            "type": "scatter3d"
           }
          ],
          "scattercarpet": [
           {
            "marker": {
             "colorbar": {
              "outlinewidth": 0,
              "ticks": ""
             }
            },
            "type": "scattercarpet"
           }
          ],
          "scattergeo": [
           {
            "marker": {
             "colorbar": {
              "outlinewidth": 0,
              "ticks": ""
             }
            },
            "type": "scattergeo"
           }
          ],
          "scattergl": [
           {
            "marker": {
             "colorbar": {
              "outlinewidth": 0,
              "ticks": ""
             }
            },
            "type": "scattergl"
           }
          ],
          "scattermapbox": [
           {
            "marker": {
             "colorbar": {
              "outlinewidth": 0,
              "ticks": ""
             }
            },
            "type": "scattermapbox"
           }
          ],
          "scatterpolar": [
           {
            "marker": {
             "colorbar": {
              "outlinewidth": 0,
              "ticks": ""
             }
            },
            "type": "scatterpolar"
           }
          ],
          "scatterpolargl": [
           {
            "marker": {
             "colorbar": {
              "outlinewidth": 0,
              "ticks": ""
             }
            },
            "type": "scatterpolargl"
           }
          ],
          "scatterternary": [
           {
            "marker": {
             "colorbar": {
              "outlinewidth": 0,
              "ticks": ""
             }
            },
            "type": "scatterternary"
           }
          ],
          "surface": [
           {
            "colorbar": {
             "outlinewidth": 0,
             "ticks": ""
            },
            "colorscale": [
             [
              0,
              "#0d0887"
             ],
             [
              0.1111111111111111,
              "#46039f"
             ],
             [
              0.2222222222222222,
              "#7201a8"
             ],
             [
              0.3333333333333333,
              "#9c179e"
             ],
             [
              0.4444444444444444,
              "#bd3786"
             ],
             [
              0.5555555555555556,
              "#d8576b"
             ],
             [
              0.6666666666666666,
              "#ed7953"
             ],
             [
              0.7777777777777778,
              "#fb9f3a"
             ],
             [
              0.8888888888888888,
              "#fdca26"
             ],
             [
              1,
              "#f0f921"
             ]
            ],
            "type": "surface"
           }
          ],
          "table": [
           {
            "cells": {
             "fill": {
              "color": "#EBF0F8"
             },
             "line": {
              "color": "white"
             }
            },
            "header": {
             "fill": {
              "color": "#C8D4E3"
             },
             "line": {
              "color": "white"
             }
            },
            "type": "table"
           }
          ]
         },
         "layout": {
          "annotationdefaults": {
           "arrowcolor": "#2a3f5f",
           "arrowhead": 0,
           "arrowwidth": 1
          },
          "autotypenumbers": "strict",
          "coloraxis": {
           "colorbar": {
            "outlinewidth": 0,
            "ticks": ""
           }
          },
          "colorscale": {
           "diverging": [
            [
             0,
             "#8e0152"
            ],
            [
             0.1,
             "#c51b7d"
            ],
            [
             0.2,
             "#de77ae"
            ],
            [
             0.3,
             "#f1b6da"
            ],
            [
             0.4,
             "#fde0ef"
            ],
            [
             0.5,
             "#f7f7f7"
            ],
            [
             0.6,
             "#e6f5d0"
            ],
            [
             0.7,
             "#b8e186"
            ],
            [
             0.8,
             "#7fbc41"
            ],
            [
             0.9,
             "#4d9221"
            ],
            [
             1,
             "#276419"
            ]
           ],
           "sequential": [
            [
             0,
             "#0d0887"
            ],
            [
             0.1111111111111111,
             "#46039f"
            ],
            [
             0.2222222222222222,
             "#7201a8"
            ],
            [
             0.3333333333333333,
             "#9c179e"
            ],
            [
             0.4444444444444444,
             "#bd3786"
            ],
            [
             0.5555555555555556,
             "#d8576b"
            ],
            [
             0.6666666666666666,
             "#ed7953"
            ],
            [
             0.7777777777777778,
             "#fb9f3a"
            ],
            [
             0.8888888888888888,
             "#fdca26"
            ],
            [
             1,
             "#f0f921"
            ]
           ],
           "sequentialminus": [
            [
             0,
             "#0d0887"
            ],
            [
             0.1111111111111111,
             "#46039f"
            ],
            [
             0.2222222222222222,
             "#7201a8"
            ],
            [
             0.3333333333333333,
             "#9c179e"
            ],
            [
             0.4444444444444444,
             "#bd3786"
            ],
            [
             0.5555555555555556,
             "#d8576b"
            ],
            [
             0.6666666666666666,
             "#ed7953"
            ],
            [
             0.7777777777777778,
             "#fb9f3a"
            ],
            [
             0.8888888888888888,
             "#fdca26"
            ],
            [
             1,
             "#f0f921"
            ]
           ]
          },
          "colorway": [
           "#636efa",
           "#EF553B",
           "#00cc96",
           "#ab63fa",
           "#FFA15A",
           "#19d3f3",
           "#FF6692",
           "#B6E880",
           "#FF97FF",
           "#FECB52"
          ],
          "font": {
           "color": "#2a3f5f"
          },
          "geo": {
           "bgcolor": "white",
           "lakecolor": "white",
           "landcolor": "#E5ECF6",
           "showlakes": true,
           "showland": true,
           "subunitcolor": "white"
          },
          "hoverlabel": {
           "align": "left"
          },
          "hovermode": "closest",
          "mapbox": {
           "style": "light"
          },
          "paper_bgcolor": "white",
          "plot_bgcolor": "#E5ECF6",
          "polar": {
           "angularaxis": {
            "gridcolor": "white",
            "linecolor": "white",
            "ticks": ""
           },
           "bgcolor": "#E5ECF6",
           "radialaxis": {
            "gridcolor": "white",
            "linecolor": "white",
            "ticks": ""
           }
          },
          "scene": {
           "xaxis": {
            "backgroundcolor": "#E5ECF6",
            "gridcolor": "white",
            "gridwidth": 2,
            "linecolor": "white",
            "showbackground": true,
            "ticks": "",
            "zerolinecolor": "white"
           },
           "yaxis": {
            "backgroundcolor": "#E5ECF6",
            "gridcolor": "white",
            "gridwidth": 2,
            "linecolor": "white",
            "showbackground": true,
            "ticks": "",
            "zerolinecolor": "white"
           },
           "zaxis": {
            "backgroundcolor": "#E5ECF6",
            "gridcolor": "white",
            "gridwidth": 2,
            "linecolor": "white",
            "showbackground": true,
            "ticks": "",
            "zerolinecolor": "white"
           }
          },
          "shapedefaults": {
           "line": {
            "color": "#2a3f5f"
           }
          },
          "ternary": {
           "aaxis": {
            "gridcolor": "white",
            "linecolor": "white",
            "ticks": ""
           },
           "baxis": {
            "gridcolor": "white",
            "linecolor": "white",
            "ticks": ""
           },
           "bgcolor": "#E5ECF6",
           "caxis": {
            "gridcolor": "white",
            "linecolor": "white",
            "ticks": ""
           }
          },
          "title": {
           "x": 0.05
          },
          "xaxis": {
           "automargin": true,
           "gridcolor": "white",
           "linecolor": "white",
           "ticks": "",
           "title": {
            "standoff": 15
           },
           "zerolinecolor": "white",
           "zerolinewidth": 2
          },
          "yaxis": {
           "automargin": true,
           "gridcolor": "white",
           "linecolor": "white",
           "ticks": "",
           "title": {
            "standoff": 15
           },
           "zerolinecolor": "white",
           "zerolinewidth": 2
          }
         }
        },
        "title": {
         "text": "Quel pays achète les véhicules les plus polluants? (CO2)",
         "x": 0.3
        },
        "xaxis": {
         "anchor": "y",
         "domain": [
          0,
          1
         ],
         "title": {
          "text": "Country"
         }
        },
        "yaxis": {
         "anchor": "x",
         "domain": [
          0,
          1
         ],
         "title": {
          "text": "Co2EmissionsWltp"
         }
        }
       }
      }
     },
     "metadata": {},
     "output_type": "display_data"
    },
    {
     "data": {
      "application/vnd.plotly.v1+json": {
       "config": {
        "plotlyServerURL": "https://plot.ly"
       },
       "data": [
        {
         "alignmentgroup": "True",
         "hovertemplate": "Country=%{x}<br>EnginePower=%{marker.color}<extra></extra>",
         "legendgroup": "",
         "marker": {
          "color": [
           118.16216216216216,
           110.05181347150258,
           105.24786324786325,
           100.99701492537314
          ],
          "coloraxis": "coloraxis",
          "pattern": {
           "shape": ""
          }
         },
         "name": "",
         "offsetgroup": "",
         "orientation": "v",
         "showlegend": false,
         "textposition": "auto",
         "type": "bar",
         "x": [
          "LU",
          "DK",
          "BE",
          "NL"
         ],
         "xaxis": "x",
         "y": [
          118.16216216216216,
          110.05181347150258,
          105.24786324786325,
          100.99701492537314
         ],
         "yaxis": "y"
        }
       ],
       "layout": {
        "barmode": "relative",
        "coloraxis": {
         "colorbar": {
          "title": {
           "text": "EnginePower"
          }
         },
         "colorscale": [
          [
           0,
           "rgb(247,252,245)"
          ],
          [
           0.125,
           "rgb(229,245,224)"
          ],
          [
           0.25,
           "rgb(199,233,192)"
          ],
          [
           0.375,
           "rgb(161,217,155)"
          ],
          [
           0.5,
           "rgb(116,196,118)"
          ],
          [
           0.625,
           "rgb(65,171,93)"
          ],
          [
           0.75,
           "rgb(35,139,69)"
          ],
          [
           0.875,
           "rgb(0,109,44)"
          ],
          [
           1,
           "rgb(0,68,27)"
          ]
         ]
        },
        "legend": {
         "tracegroupgap": 0
        },
        "margin": {
         "t": 60
        },
        "template": {
         "data": {
          "bar": [
           {
            "error_x": {
             "color": "#2a3f5f"
            },
            "error_y": {
             "color": "#2a3f5f"
            },
            "marker": {
             "line": {
              "color": "#E5ECF6",
              "width": 0.5
             },
             "pattern": {
              "fillmode": "overlay",
              "size": 10,
              "solidity": 0.2
             }
            },
            "type": "bar"
           }
          ],
          "barpolar": [
           {
            "marker": {
             "line": {
              "color": "#E5ECF6",
              "width": 0.5
             },
             "pattern": {
              "fillmode": "overlay",
              "size": 10,
              "solidity": 0.2
             }
            },
            "type": "barpolar"
           }
          ],
          "carpet": [
           {
            "aaxis": {
             "endlinecolor": "#2a3f5f",
             "gridcolor": "white",
             "linecolor": "white",
             "minorgridcolor": "white",
             "startlinecolor": "#2a3f5f"
            },
            "baxis": {
             "endlinecolor": "#2a3f5f",
             "gridcolor": "white",
             "linecolor": "white",
             "minorgridcolor": "white",
             "startlinecolor": "#2a3f5f"
            },
            "type": "carpet"
           }
          ],
          "choropleth": [
           {
            "colorbar": {
             "outlinewidth": 0,
             "ticks": ""
            },
            "type": "choropleth"
           }
          ],
          "contour": [
           {
            "colorbar": {
             "outlinewidth": 0,
             "ticks": ""
            },
            "colorscale": [
             [
              0,
              "#0d0887"
             ],
             [
              0.1111111111111111,
              "#46039f"
             ],
             [
              0.2222222222222222,
              "#7201a8"
             ],
             [
              0.3333333333333333,
              "#9c179e"
             ],
             [
              0.4444444444444444,
              "#bd3786"
             ],
             [
              0.5555555555555556,
              "#d8576b"
             ],
             [
              0.6666666666666666,
              "#ed7953"
             ],
             [
              0.7777777777777778,
              "#fb9f3a"
             ],
             [
              0.8888888888888888,
              "#fdca26"
             ],
             [
              1,
              "#f0f921"
             ]
            ],
            "type": "contour"
           }
          ],
          "contourcarpet": [
           {
            "colorbar": {
             "outlinewidth": 0,
             "ticks": ""
            },
            "type": "contourcarpet"
           }
          ],
          "heatmap": [
           {
            "colorbar": {
             "outlinewidth": 0,
             "ticks": ""
            },
            "colorscale": [
             [
              0,
              "#0d0887"
             ],
             [
              0.1111111111111111,
              "#46039f"
             ],
             [
              0.2222222222222222,
              "#7201a8"
             ],
             [
              0.3333333333333333,
              "#9c179e"
             ],
             [
              0.4444444444444444,
              "#bd3786"
             ],
             [
              0.5555555555555556,
              "#d8576b"
             ],
             [
              0.6666666666666666,
              "#ed7953"
             ],
             [
              0.7777777777777778,
              "#fb9f3a"
             ],
             [
              0.8888888888888888,
              "#fdca26"
             ],
             [
              1,
              "#f0f921"
             ]
            ],
            "type": "heatmap"
           }
          ],
          "heatmapgl": [
           {
            "colorbar": {
             "outlinewidth": 0,
             "ticks": ""
            },
            "colorscale": [
             [
              0,
              "#0d0887"
             ],
             [
              0.1111111111111111,
              "#46039f"
             ],
             [
              0.2222222222222222,
              "#7201a8"
             ],
             [
              0.3333333333333333,
              "#9c179e"
             ],
             [
              0.4444444444444444,
              "#bd3786"
             ],
             [
              0.5555555555555556,
              "#d8576b"
             ],
             [
              0.6666666666666666,
              "#ed7953"
             ],
             [
              0.7777777777777778,
              "#fb9f3a"
             ],
             [
              0.8888888888888888,
              "#fdca26"
             ],
             [
              1,
              "#f0f921"
             ]
            ],
            "type": "heatmapgl"
           }
          ],
          "histogram": [
           {
            "marker": {
             "pattern": {
              "fillmode": "overlay",
              "size": 10,
              "solidity": 0.2
             }
            },
            "type": "histogram"
           }
          ],
          "histogram2d": [
           {
            "colorbar": {
             "outlinewidth": 0,
             "ticks": ""
            },
            "colorscale": [
             [
              0,
              "#0d0887"
             ],
             [
              0.1111111111111111,
              "#46039f"
             ],
             [
              0.2222222222222222,
              "#7201a8"
             ],
             [
              0.3333333333333333,
              "#9c179e"
             ],
             [
              0.4444444444444444,
              "#bd3786"
             ],
             [
              0.5555555555555556,
              "#d8576b"
             ],
             [
              0.6666666666666666,
              "#ed7953"
             ],
             [
              0.7777777777777778,
              "#fb9f3a"
             ],
             [
              0.8888888888888888,
              "#fdca26"
             ],
             [
              1,
              "#f0f921"
             ]
            ],
            "type": "histogram2d"
           }
          ],
          "histogram2dcontour": [
           {
            "colorbar": {
             "outlinewidth": 0,
             "ticks": ""
            },
            "colorscale": [
             [
              0,
              "#0d0887"
             ],
             [
              0.1111111111111111,
              "#46039f"
             ],
             [
              0.2222222222222222,
              "#7201a8"
             ],
             [
              0.3333333333333333,
              "#9c179e"
             ],
             [
              0.4444444444444444,
              "#bd3786"
             ],
             [
              0.5555555555555556,
              "#d8576b"
             ],
             [
              0.6666666666666666,
              "#ed7953"
             ],
             [
              0.7777777777777778,
              "#fb9f3a"
             ],
             [
              0.8888888888888888,
              "#fdca26"
             ],
             [
              1,
              "#f0f921"
             ]
            ],
            "type": "histogram2dcontour"
           }
          ],
          "mesh3d": [
           {
            "colorbar": {
             "outlinewidth": 0,
             "ticks": ""
            },
            "type": "mesh3d"
           }
          ],
          "parcoords": [
           {
            "line": {
             "colorbar": {
              "outlinewidth": 0,
              "ticks": ""
             }
            },
            "type": "parcoords"
           }
          ],
          "pie": [
           {
            "automargin": true,
            "type": "pie"
           }
          ],
          "scatter": [
           {
            "fillpattern": {
             "fillmode": "overlay",
             "size": 10,
             "solidity": 0.2
            },
            "type": "scatter"
           }
          ],
          "scatter3d": [
           {
            "line": {
             "colorbar": {
              "outlinewidth": 0,
              "ticks": ""
             }
            },
            "marker": {
             "colorbar": {
              "outlinewidth": 0,
              "ticks": ""
             }
            },
            "type": "scatter3d"
           }
          ],
          "scattercarpet": [
           {
            "marker": {
             "colorbar": {
              "outlinewidth": 0,
              "ticks": ""
             }
            },
            "type": "scattercarpet"
           }
          ],
          "scattergeo": [
           {
            "marker": {
             "colorbar": {
              "outlinewidth": 0,
              "ticks": ""
             }
            },
            "type": "scattergeo"
           }
          ],
          "scattergl": [
           {
            "marker": {
             "colorbar": {
              "outlinewidth": 0,
              "ticks": ""
             }
            },
            "type": "scattergl"
           }
          ],
          "scattermapbox": [
           {
            "marker": {
             "colorbar": {
              "outlinewidth": 0,
              "ticks": ""
             }
            },
            "type": "scattermapbox"
           }
          ],
          "scatterpolar": [
           {
            "marker": {
             "colorbar": {
              "outlinewidth": 0,
              "ticks": ""
             }
            },
            "type": "scatterpolar"
           }
          ],
          "scatterpolargl": [
           {
            "marker": {
             "colorbar": {
              "outlinewidth": 0,
              "ticks": ""
             }
            },
            "type": "scatterpolargl"
           }
          ],
          "scatterternary": [
           {
            "marker": {
             "colorbar": {
              "outlinewidth": 0,
              "ticks": ""
             }
            },
            "type": "scatterternary"
           }
          ],
          "surface": [
           {
            "colorbar": {
             "outlinewidth": 0,
             "ticks": ""
            },
            "colorscale": [
             [
              0,
              "#0d0887"
             ],
             [
              0.1111111111111111,
              "#46039f"
             ],
             [
              0.2222222222222222,
              "#7201a8"
             ],
             [
              0.3333333333333333,
              "#9c179e"
             ],
             [
              0.4444444444444444,
              "#bd3786"
             ],
             [
              0.5555555555555556,
              "#d8576b"
             ],
             [
              0.6666666666666666,
              "#ed7953"
             ],
             [
              0.7777777777777778,
              "#fb9f3a"
             ],
             [
              0.8888888888888888,
              "#fdca26"
             ],
             [
              1,
              "#f0f921"
             ]
            ],
            "type": "surface"
           }
          ],
          "table": [
           {
            "cells": {
             "fill": {
              "color": "#EBF0F8"
             },
             "line": {
              "color": "white"
             }
            },
            "header": {
             "fill": {
              "color": "#C8D4E3"
             },
             "line": {
              "color": "white"
             }
            },
            "type": "table"
           }
          ]
         },
         "layout": {
          "annotationdefaults": {
           "arrowcolor": "#2a3f5f",
           "arrowhead": 0,
           "arrowwidth": 1
          },
          "autotypenumbers": "strict",
          "coloraxis": {
           "colorbar": {
            "outlinewidth": 0,
            "ticks": ""
           }
          },
          "colorscale": {
           "diverging": [
            [
             0,
             "#8e0152"
            ],
            [
             0.1,
             "#c51b7d"
            ],
            [
             0.2,
             "#de77ae"
            ],
            [
             0.3,
             "#f1b6da"
            ],
            [
             0.4,
             "#fde0ef"
            ],
            [
             0.5,
             "#f7f7f7"
            ],
            [
             0.6,
             "#e6f5d0"
            ],
            [
             0.7,
             "#b8e186"
            ],
            [
             0.8,
             "#7fbc41"
            ],
            [
             0.9,
             "#4d9221"
            ],
            [
             1,
             "#276419"
            ]
           ],
           "sequential": [
            [
             0,
             "#0d0887"
            ],
            [
             0.1111111111111111,
             "#46039f"
            ],
            [
             0.2222222222222222,
             "#7201a8"
            ],
            [
             0.3333333333333333,
             "#9c179e"
            ],
            [
             0.4444444444444444,
             "#bd3786"
            ],
            [
             0.5555555555555556,
             "#d8576b"
            ],
            [
             0.6666666666666666,
             "#ed7953"
            ],
            [
             0.7777777777777778,
             "#fb9f3a"
            ],
            [
             0.8888888888888888,
             "#fdca26"
            ],
            [
             1,
             "#f0f921"
            ]
           ],
           "sequentialminus": [
            [
             0,
             "#0d0887"
            ],
            [
             0.1111111111111111,
             "#46039f"
            ],
            [
             0.2222222222222222,
             "#7201a8"
            ],
            [
             0.3333333333333333,
             "#9c179e"
            ],
            [
             0.4444444444444444,
             "#bd3786"
            ],
            [
             0.5555555555555556,
             "#d8576b"
            ],
            [
             0.6666666666666666,
             "#ed7953"
            ],
            [
             0.7777777777777778,
             "#fb9f3a"
            ],
            [
             0.8888888888888888,
             "#fdca26"
            ],
            [
             1,
             "#f0f921"
            ]
           ]
          },
          "colorway": [
           "#636efa",
           "#EF553B",
           "#00cc96",
           "#ab63fa",
           "#FFA15A",
           "#19d3f3",
           "#FF6692",
           "#B6E880",
           "#FF97FF",
           "#FECB52"
          ],
          "font": {
           "color": "#2a3f5f"
          },
          "geo": {
           "bgcolor": "white",
           "lakecolor": "white",
           "landcolor": "#E5ECF6",
           "showlakes": true,
           "showland": true,
           "subunitcolor": "white"
          },
          "hoverlabel": {
           "align": "left"
          },
          "hovermode": "closest",
          "mapbox": {
           "style": "light"
          },
          "paper_bgcolor": "white",
          "plot_bgcolor": "#E5ECF6",
          "polar": {
           "angularaxis": {
            "gridcolor": "white",
            "linecolor": "white",
            "ticks": ""
           },
           "bgcolor": "#E5ECF6",
           "radialaxis": {
            "gridcolor": "white",
            "linecolor": "white",
            "ticks": ""
           }
          },
          "scene": {
           "xaxis": {
            "backgroundcolor": "#E5ECF6",
            "gridcolor": "white",
            "gridwidth": 2,
            "linecolor": "white",
            "showbackground": true,
            "ticks": "",
            "zerolinecolor": "white"
           },
           "yaxis": {
            "backgroundcolor": "#E5ECF6",
            "gridcolor": "white",
            "gridwidth": 2,
            "linecolor": "white",
            "showbackground": true,
            "ticks": "",
            "zerolinecolor": "white"
           },
           "zaxis": {
            "backgroundcolor": "#E5ECF6",
            "gridcolor": "white",
            "gridwidth": 2,
            "linecolor": "white",
            "showbackground": true,
            "ticks": "",
            "zerolinecolor": "white"
           }
          },
          "shapedefaults": {
           "line": {
            "color": "#2a3f5f"
           }
          },
          "ternary": {
           "aaxis": {
            "gridcolor": "white",
            "linecolor": "white",
            "ticks": ""
           },
           "baxis": {
            "gridcolor": "white",
            "linecolor": "white",
            "ticks": ""
           },
           "bgcolor": "#E5ECF6",
           "caxis": {
            "gridcolor": "white",
            "linecolor": "white",
            "ticks": ""
           }
          },
          "title": {
           "x": 0.05
          },
          "xaxis": {
           "automargin": true,
           "gridcolor": "white",
           "linecolor": "white",
           "ticks": "",
           "title": {
            "standoff": 15
           },
           "zerolinecolor": "white",
           "zerolinewidth": 2
          },
          "yaxis": {
           "automargin": true,
           "gridcolor": "white",
           "linecolor": "white",
           "ticks": "",
           "title": {
            "standoff": 15
           },
           "zerolinecolor": "white",
           "zerolinewidth": 2
          }
         }
        },
        "title": {
         "text": "Quel pays achète les véhicules les plus puissants? (KWh)",
         "x": 0.3
        },
        "xaxis": {
         "anchor": "y",
         "domain": [
          0,
          1
         ],
         "title": {
          "text": "Country"
         }
        },
        "yaxis": {
         "anchor": "x",
         "domain": [
          0,
          1
         ],
         "title": {
          "text": "EnginePower"
         }
        }
       }
      }
     },
     "metadata": {},
     "output_type": "display_data"
    },
    {
     "data": {
      "application/vnd.plotly.v1+json": {
       "config": {
        "plotlyServerURL": "https://plot.ly"
       },
       "data": [
        {
         "alignmentgroup": "True",
         "hovertemplate": "Country=%{x}<br>MassRunningOrder=%{marker.color}<extra></extra>",
         "legendgroup": "",
         "marker": {
          "color": [
           1554.6373056994819,
           1510.2972972972973,
           1498.1943734015344,
           1460.6955223880598
          ],
          "coloraxis": "coloraxis",
          "pattern": {
           "shape": ""
          }
         },
         "name": "",
         "offsetgroup": "",
         "orientation": "v",
         "showlegend": false,
         "textposition": "auto",
         "type": "bar",
         "x": [
          "DK",
          "LU",
          "BE",
          "NL"
         ],
         "xaxis": "x",
         "y": [
          1554.6373056994819,
          1510.2972972972973,
          1498.1943734015344,
          1460.6955223880598
         ],
         "yaxis": "y"
        }
       ],
       "layout": {
        "barmode": "relative",
        "coloraxis": {
         "colorbar": {
          "title": {
           "text": "MassRunningOrder"
          }
         },
         "colorscale": [
          [
           0,
           "rgb(255,245,240)"
          ],
          [
           0.125,
           "rgb(254,224,210)"
          ],
          [
           0.25,
           "rgb(252,187,161)"
          ],
          [
           0.375,
           "rgb(252,146,114)"
          ],
          [
           0.5,
           "rgb(251,106,74)"
          ],
          [
           0.625,
           "rgb(239,59,44)"
          ],
          [
           0.75,
           "rgb(203,24,29)"
          ],
          [
           0.875,
           "rgb(165,15,21)"
          ],
          [
           1,
           "rgb(103,0,13)"
          ]
         ]
        },
        "legend": {
         "tracegroupgap": 0
        },
        "margin": {
         "t": 60
        },
        "template": {
         "data": {
          "bar": [
           {
            "error_x": {
             "color": "#2a3f5f"
            },
            "error_y": {
             "color": "#2a3f5f"
            },
            "marker": {
             "line": {
              "color": "#E5ECF6",
              "width": 0.5
             },
             "pattern": {
              "fillmode": "overlay",
              "size": 10,
              "solidity": 0.2
             }
            },
            "type": "bar"
           }
          ],
          "barpolar": [
           {
            "marker": {
             "line": {
              "color": "#E5ECF6",
              "width": 0.5
             },
             "pattern": {
              "fillmode": "overlay",
              "size": 10,
              "solidity": 0.2
             }
            },
            "type": "barpolar"
           }
          ],
          "carpet": [
           {
            "aaxis": {
             "endlinecolor": "#2a3f5f",
             "gridcolor": "white",
             "linecolor": "white",
             "minorgridcolor": "white",
             "startlinecolor": "#2a3f5f"
            },
            "baxis": {
             "endlinecolor": "#2a3f5f",
             "gridcolor": "white",
             "linecolor": "white",
             "minorgridcolor": "white",
             "startlinecolor": "#2a3f5f"
            },
            "type": "carpet"
           }
          ],
          "choropleth": [
           {
            "colorbar": {
             "outlinewidth": 0,
             "ticks": ""
            },
            "type": "choropleth"
           }
          ],
          "contour": [
           {
            "colorbar": {
             "outlinewidth": 0,
             "ticks": ""
            },
            "colorscale": [
             [
              0,
              "#0d0887"
             ],
             [
              0.1111111111111111,
              "#46039f"
             ],
             [
              0.2222222222222222,
              "#7201a8"
             ],
             [
              0.3333333333333333,
              "#9c179e"
             ],
             [
              0.4444444444444444,
              "#bd3786"
             ],
             [
              0.5555555555555556,
              "#d8576b"
             ],
             [
              0.6666666666666666,
              "#ed7953"
             ],
             [
              0.7777777777777778,
              "#fb9f3a"
             ],
             [
              0.8888888888888888,
              "#fdca26"
             ],
             [
              1,
              "#f0f921"
             ]
            ],
            "type": "contour"
           }
          ],
          "contourcarpet": [
           {
            "colorbar": {
             "outlinewidth": 0,
             "ticks": ""
            },
            "type": "contourcarpet"
           }
          ],
          "heatmap": [
           {
            "colorbar": {
             "outlinewidth": 0,
             "ticks": ""
            },
            "colorscale": [
             [
              0,
              "#0d0887"
             ],
             [
              0.1111111111111111,
              "#46039f"
             ],
             [
              0.2222222222222222,
              "#7201a8"
             ],
             [
              0.3333333333333333,
              "#9c179e"
             ],
             [
              0.4444444444444444,
              "#bd3786"
             ],
             [
              0.5555555555555556,
              "#d8576b"
             ],
             [
              0.6666666666666666,
              "#ed7953"
             ],
             [
              0.7777777777777778,
              "#fb9f3a"
             ],
             [
              0.8888888888888888,
              "#fdca26"
             ],
             [
              1,
              "#f0f921"
             ]
            ],
            "type": "heatmap"
           }
          ],
          "heatmapgl": [
           {
            "colorbar": {
             "outlinewidth": 0,
             "ticks": ""
            },
            "colorscale": [
             [
              0,
              "#0d0887"
             ],
             [
              0.1111111111111111,
              "#46039f"
             ],
             [
              0.2222222222222222,
              "#7201a8"
             ],
             [
              0.3333333333333333,
              "#9c179e"
             ],
             [
              0.4444444444444444,
              "#bd3786"
             ],
             [
              0.5555555555555556,
              "#d8576b"
             ],
             [
              0.6666666666666666,
              "#ed7953"
             ],
             [
              0.7777777777777778,
              "#fb9f3a"
             ],
             [
              0.8888888888888888,
              "#fdca26"
             ],
             [
              1,
              "#f0f921"
             ]
            ],
            "type": "heatmapgl"
           }
          ],
          "histogram": [
           {
            "marker": {
             "pattern": {
              "fillmode": "overlay",
              "size": 10,
              "solidity": 0.2
             }
            },
            "type": "histogram"
           }
          ],
          "histogram2d": [
           {
            "colorbar": {
             "outlinewidth": 0,
             "ticks": ""
            },
            "colorscale": [
             [
              0,
              "#0d0887"
             ],
             [
              0.1111111111111111,
              "#46039f"
             ],
             [
              0.2222222222222222,
              "#7201a8"
             ],
             [
              0.3333333333333333,
              "#9c179e"
             ],
             [
              0.4444444444444444,
              "#bd3786"
             ],
             [
              0.5555555555555556,
              "#d8576b"
             ],
             [
              0.6666666666666666,
              "#ed7953"
             ],
             [
              0.7777777777777778,
              "#fb9f3a"
             ],
             [
              0.8888888888888888,
              "#fdca26"
             ],
             [
              1,
              "#f0f921"
             ]
            ],
            "type": "histogram2d"
           }
          ],
          "histogram2dcontour": [
           {
            "colorbar": {
             "outlinewidth": 0,
             "ticks": ""
            },
            "colorscale": [
             [
              0,
              "#0d0887"
             ],
             [
              0.1111111111111111,
              "#46039f"
             ],
             [
              0.2222222222222222,
              "#7201a8"
             ],
             [
              0.3333333333333333,
              "#9c179e"
             ],
             [
              0.4444444444444444,
              "#bd3786"
             ],
             [
              0.5555555555555556,
              "#d8576b"
             ],
             [
              0.6666666666666666,
              "#ed7953"
             ],
             [
              0.7777777777777778,
              "#fb9f3a"
             ],
             [
              0.8888888888888888,
              "#fdca26"
             ],
             [
              1,
              "#f0f921"
             ]
            ],
            "type": "histogram2dcontour"
           }
          ],
          "mesh3d": [
           {
            "colorbar": {
             "outlinewidth": 0,
             "ticks": ""
            },
            "type": "mesh3d"
           }
          ],
          "parcoords": [
           {
            "line": {
             "colorbar": {
              "outlinewidth": 0,
              "ticks": ""
             }
            },
            "type": "parcoords"
           }
          ],
          "pie": [
           {
            "automargin": true,
            "type": "pie"
           }
          ],
          "scatter": [
           {
            "fillpattern": {
             "fillmode": "overlay",
             "size": 10,
             "solidity": 0.2
            },
            "type": "scatter"
           }
          ],
          "scatter3d": [
           {
            "line": {
             "colorbar": {
              "outlinewidth": 0,
              "ticks": ""
             }
            },
            "marker": {
             "colorbar": {
              "outlinewidth": 0,
              "ticks": ""
             }
            },
            "type": "scatter3d"
           }
          ],
          "scattercarpet": [
           {
            "marker": {
             "colorbar": {
              "outlinewidth": 0,
              "ticks": ""
             }
            },
            "type": "scattercarpet"
           }
          ],
          "scattergeo": [
           {
            "marker": {
             "colorbar": {
              "outlinewidth": 0,
              "ticks": ""
             }
            },
            "type": "scattergeo"
           }
          ],
          "scattergl": [
           {
            "marker": {
             "colorbar": {
              "outlinewidth": 0,
              "ticks": ""
             }
            },
            "type": "scattergl"
           }
          ],
          "scattermapbox": [
           {
            "marker": {
             "colorbar": {
              "outlinewidth": 0,
              "ticks": ""
             }
            },
            "type": "scattermapbox"
           }
          ],
          "scatterpolar": [
           {
            "marker": {
             "colorbar": {
              "outlinewidth": 0,
              "ticks": ""
             }
            },
            "type": "scatterpolar"
           }
          ],
          "scatterpolargl": [
           {
            "marker": {
             "colorbar": {
              "outlinewidth": 0,
              "ticks": ""
             }
            },
            "type": "scatterpolargl"
           }
          ],
          "scatterternary": [
           {
            "marker": {
             "colorbar": {
              "outlinewidth": 0,
              "ticks": ""
             }
            },
            "type": "scatterternary"
           }
          ],
          "surface": [
           {
            "colorbar": {
             "outlinewidth": 0,
             "ticks": ""
            },
            "colorscale": [
             [
              0,
              "#0d0887"
             ],
             [
              0.1111111111111111,
              "#46039f"
             ],
             [
              0.2222222222222222,
              "#7201a8"
             ],
             [
              0.3333333333333333,
              "#9c179e"
             ],
             [
              0.4444444444444444,
              "#bd3786"
             ],
             [
              0.5555555555555556,
              "#d8576b"
             ],
             [
              0.6666666666666666,
              "#ed7953"
             ],
             [
              0.7777777777777778,
              "#fb9f3a"
             ],
             [
              0.8888888888888888,
              "#fdca26"
             ],
             [
              1,
              "#f0f921"
             ]
            ],
            "type": "surface"
           }
          ],
          "table": [
           {
            "cells": {
             "fill": {
              "color": "#EBF0F8"
             },
             "line": {
              "color": "white"
             }
            },
            "header": {
             "fill": {
              "color": "#C8D4E3"
             },
             "line": {
              "color": "white"
             }
            },
            "type": "table"
           }
          ]
         },
         "layout": {
          "annotationdefaults": {
           "arrowcolor": "#2a3f5f",
           "arrowhead": 0,
           "arrowwidth": 1
          },
          "autotypenumbers": "strict",
          "coloraxis": {
           "colorbar": {
            "outlinewidth": 0,
            "ticks": ""
           }
          },
          "colorscale": {
           "diverging": [
            [
             0,
             "#8e0152"
            ],
            [
             0.1,
             "#c51b7d"
            ],
            [
             0.2,
             "#de77ae"
            ],
            [
             0.3,
             "#f1b6da"
            ],
            [
             0.4,
             "#fde0ef"
            ],
            [
             0.5,
             "#f7f7f7"
            ],
            [
             0.6,
             "#e6f5d0"
            ],
            [
             0.7,
             "#b8e186"
            ],
            [
             0.8,
             "#7fbc41"
            ],
            [
             0.9,
             "#4d9221"
            ],
            [
             1,
             "#276419"
            ]
           ],
           "sequential": [
            [
             0,
             "#0d0887"
            ],
            [
             0.1111111111111111,
             "#46039f"
            ],
            [
             0.2222222222222222,
             "#7201a8"
            ],
            [
             0.3333333333333333,
             "#9c179e"
            ],
            [
             0.4444444444444444,
             "#bd3786"
            ],
            [
             0.5555555555555556,
             "#d8576b"
            ],
            [
             0.6666666666666666,
             "#ed7953"
            ],
            [
             0.7777777777777778,
             "#fb9f3a"
            ],
            [
             0.8888888888888888,
             "#fdca26"
            ],
            [
             1,
             "#f0f921"
            ]
           ],
           "sequentialminus": [
            [
             0,
             "#0d0887"
            ],
            [
             0.1111111111111111,
             "#46039f"
            ],
            [
             0.2222222222222222,
             "#7201a8"
            ],
            [
             0.3333333333333333,
             "#9c179e"
            ],
            [
             0.4444444444444444,
             "#bd3786"
            ],
            [
             0.5555555555555556,
             "#d8576b"
            ],
            [
             0.6666666666666666,
             "#ed7953"
            ],
            [
             0.7777777777777778,
             "#fb9f3a"
            ],
            [
             0.8888888888888888,
             "#fdca26"
            ],
            [
             1,
             "#f0f921"
            ]
           ]
          },
          "colorway": [
           "#636efa",
           "#EF553B",
           "#00cc96",
           "#ab63fa",
           "#FFA15A",
           "#19d3f3",
           "#FF6692",
           "#B6E880",
           "#FF97FF",
           "#FECB52"
          ],
          "font": {
           "color": "#2a3f5f"
          },
          "geo": {
           "bgcolor": "white",
           "lakecolor": "white",
           "landcolor": "#E5ECF6",
           "showlakes": true,
           "showland": true,
           "subunitcolor": "white"
          },
          "hoverlabel": {
           "align": "left"
          },
          "hovermode": "closest",
          "mapbox": {
           "style": "light"
          },
          "paper_bgcolor": "white",
          "plot_bgcolor": "#E5ECF6",
          "polar": {
           "angularaxis": {
            "gridcolor": "white",
            "linecolor": "white",
            "ticks": ""
           },
           "bgcolor": "#E5ECF6",
           "radialaxis": {
            "gridcolor": "white",
            "linecolor": "white",
            "ticks": ""
           }
          },
          "scene": {
           "xaxis": {
            "backgroundcolor": "#E5ECF6",
            "gridcolor": "white",
            "gridwidth": 2,
            "linecolor": "white",
            "showbackground": true,
            "ticks": "",
            "zerolinecolor": "white"
           },
           "yaxis": {
            "backgroundcolor": "#E5ECF6",
            "gridcolor": "white",
            "gridwidth": 2,
            "linecolor": "white",
            "showbackground": true,
            "ticks": "",
            "zerolinecolor": "white"
           },
           "zaxis": {
            "backgroundcolor": "#E5ECF6",
            "gridcolor": "white",
            "gridwidth": 2,
            "linecolor": "white",
            "showbackground": true,
            "ticks": "",
            "zerolinecolor": "white"
           }
          },
          "shapedefaults": {
           "line": {
            "color": "#2a3f5f"
           }
          },
          "ternary": {
           "aaxis": {
            "gridcolor": "white",
            "linecolor": "white",
            "ticks": ""
           },
           "baxis": {
            "gridcolor": "white",
            "linecolor": "white",
            "ticks": ""
           },
           "bgcolor": "#E5ECF6",
           "caxis": {
            "gridcolor": "white",
            "linecolor": "white",
            "ticks": ""
           }
          },
          "title": {
           "x": 0.05
          },
          "xaxis": {
           "automargin": true,
           "gridcolor": "white",
           "linecolor": "white",
           "ticks": "",
           "title": {
            "standoff": 15
           },
           "zerolinecolor": "white",
           "zerolinewidth": 2
          },
          "yaxis": {
           "automargin": true,
           "gridcolor": "white",
           "linecolor": "white",
           "ticks": "",
           "title": {
            "standoff": 15
           },
           "zerolinecolor": "white",
           "zerolinewidth": 2
          }
         }
        },
        "title": {
         "text": "Quel pays achète les véhicules les plus lourds? (Kg)",
         "x": 0.3
        },
        "xaxis": {
         "anchor": "y",
         "domain": [
          0,
          1
         ],
         "title": {
          "text": "Country"
         }
        },
        "yaxis": {
         "anchor": "x",
         "domain": [
          0,
          1
         ],
         "title": {
          "text": "MassRunningOrder"
         }
        }
       }
      }
     },
     "metadata": {},
     "output_type": "display_data"
    }
   ],
   "source": [
    "\n",
    "co2.viz.countrywise_viz(countries)"
   ]
  },
  {
   "cell_type": "code",
   "execution_count": 20,
   "metadata": {},
   "outputs": [
    {
     "data": {
      "application/vnd.plotly.v1+json": {
       "config": {
        "plotlyServerURL": "https://plot.ly"
       },
       "data": [
        {
         "alignmentgroup": "True",
         "hovertemplate": "Month=%{x}<br>counts=%{marker.color}<extra></extra>",
         "legendgroup": "",
         "marker": {
          "color": [
           31,
           27,
           45,
           37,
           38,
           43,
           25,
           33,
           33,
           32,
           21,
           26
          ],
          "coloraxis": "coloraxis",
          "pattern": {
           "shape": ""
          }
         },
         "name": "",
         "offsetgroup": "",
         "orientation": "v",
         "showlegend": false,
         "textposition": "auto",
         "type": "bar",
         "x": [
          1,
          2,
          3,
          4,
          5,
          6,
          7,
          8,
          9,
          10,
          11,
          12
         ],
         "xaxis": "x",
         "y": [
          31,
          27,
          45,
          37,
          38,
          43,
          25,
          33,
          33,
          32,
          21,
          26
         ],
         "yaxis": "y"
        }
       ],
       "layout": {
        "barmode": "relative",
        "coloraxis": {
         "colorbar": {
          "title": {
           "text": "counts"
          }
         },
         "colorscale": [
          [
           0,
           "rgb(252,251,253)"
          ],
          [
           0.125,
           "rgb(239,237,245)"
          ],
          [
           0.25,
           "rgb(218,218,235)"
          ],
          [
           0.375,
           "rgb(188,189,220)"
          ],
          [
           0.5,
           "rgb(158,154,200)"
          ],
          [
           0.625,
           "rgb(128,125,186)"
          ],
          [
           0.75,
           "rgb(106,81,163)"
          ],
          [
           0.875,
           "rgb(84,39,143)"
          ],
          [
           1,
           "rgb(63,0,125)"
          ]
         ]
        },
        "legend": {
         "tracegroupgap": 0
        },
        "margin": {
         "t": 60
        },
        "showlegend": false,
        "template": {
         "data": {
          "bar": [
           {
            "error_x": {
             "color": "#2a3f5f"
            },
            "error_y": {
             "color": "#2a3f5f"
            },
            "marker": {
             "line": {
              "color": "#E5ECF6",
              "width": 0.5
             },
             "pattern": {
              "fillmode": "overlay",
              "size": 10,
              "solidity": 0.2
             }
            },
            "type": "bar"
           }
          ],
          "barpolar": [
           {
            "marker": {
             "line": {
              "color": "#E5ECF6",
              "width": 0.5
             },
             "pattern": {
              "fillmode": "overlay",
              "size": 10,
              "solidity": 0.2
             }
            },
            "type": "barpolar"
           }
          ],
          "carpet": [
           {
            "aaxis": {
             "endlinecolor": "#2a3f5f",
             "gridcolor": "white",
             "linecolor": "white",
             "minorgridcolor": "white",
             "startlinecolor": "#2a3f5f"
            },
            "baxis": {
             "endlinecolor": "#2a3f5f",
             "gridcolor": "white",
             "linecolor": "white",
             "minorgridcolor": "white",
             "startlinecolor": "#2a3f5f"
            },
            "type": "carpet"
           }
          ],
          "choropleth": [
           {
            "colorbar": {
             "outlinewidth": 0,
             "ticks": ""
            },
            "type": "choropleth"
           }
          ],
          "contour": [
           {
            "colorbar": {
             "outlinewidth": 0,
             "ticks": ""
            },
            "colorscale": [
             [
              0,
              "#0d0887"
             ],
             [
              0.1111111111111111,
              "#46039f"
             ],
             [
              0.2222222222222222,
              "#7201a8"
             ],
             [
              0.3333333333333333,
              "#9c179e"
             ],
             [
              0.4444444444444444,
              "#bd3786"
             ],
             [
              0.5555555555555556,
              "#d8576b"
             ],
             [
              0.6666666666666666,
              "#ed7953"
             ],
             [
              0.7777777777777778,
              "#fb9f3a"
             ],
             [
              0.8888888888888888,
              "#fdca26"
             ],
             [
              1,
              "#f0f921"
             ]
            ],
            "type": "contour"
           }
          ],
          "contourcarpet": [
           {
            "colorbar": {
             "outlinewidth": 0,
             "ticks": ""
            },
            "type": "contourcarpet"
           }
          ],
          "heatmap": [
           {
            "colorbar": {
             "outlinewidth": 0,
             "ticks": ""
            },
            "colorscale": [
             [
              0,
              "#0d0887"
             ],
             [
              0.1111111111111111,
              "#46039f"
             ],
             [
              0.2222222222222222,
              "#7201a8"
             ],
             [
              0.3333333333333333,
              "#9c179e"
             ],
             [
              0.4444444444444444,
              "#bd3786"
             ],
             [
              0.5555555555555556,
              "#d8576b"
             ],
             [
              0.6666666666666666,
              "#ed7953"
             ],
             [
              0.7777777777777778,
              "#fb9f3a"
             ],
             [
              0.8888888888888888,
              "#fdca26"
             ],
             [
              1,
              "#f0f921"
             ]
            ],
            "type": "heatmap"
           }
          ],
          "heatmapgl": [
           {
            "colorbar": {
             "outlinewidth": 0,
             "ticks": ""
            },
            "colorscale": [
             [
              0,
              "#0d0887"
             ],
             [
              0.1111111111111111,
              "#46039f"
             ],
             [
              0.2222222222222222,
              "#7201a8"
             ],
             [
              0.3333333333333333,
              "#9c179e"
             ],
             [
              0.4444444444444444,
              "#bd3786"
             ],
             [
              0.5555555555555556,
              "#d8576b"
             ],
             [
              0.6666666666666666,
              "#ed7953"
             ],
             [
              0.7777777777777778,
              "#fb9f3a"
             ],
             [
              0.8888888888888888,
              "#fdca26"
             ],
             [
              1,
              "#f0f921"
             ]
            ],
            "type": "heatmapgl"
           }
          ],
          "histogram": [
           {
            "marker": {
             "pattern": {
              "fillmode": "overlay",
              "size": 10,
              "solidity": 0.2
             }
            },
            "type": "histogram"
           }
          ],
          "histogram2d": [
           {
            "colorbar": {
             "outlinewidth": 0,
             "ticks": ""
            },
            "colorscale": [
             [
              0,
              "#0d0887"
             ],
             [
              0.1111111111111111,
              "#46039f"
             ],
             [
              0.2222222222222222,
              "#7201a8"
             ],
             [
              0.3333333333333333,
              "#9c179e"
             ],
             [
              0.4444444444444444,
              "#bd3786"
             ],
             [
              0.5555555555555556,
              "#d8576b"
             ],
             [
              0.6666666666666666,
              "#ed7953"
             ],
             [
              0.7777777777777778,
              "#fb9f3a"
             ],
             [
              0.8888888888888888,
              "#fdca26"
             ],
             [
              1,
              "#f0f921"
             ]
            ],
            "type": "histogram2d"
           }
          ],
          "histogram2dcontour": [
           {
            "colorbar": {
             "outlinewidth": 0,
             "ticks": ""
            },
            "colorscale": [
             [
              0,
              "#0d0887"
             ],
             [
              0.1111111111111111,
              "#46039f"
             ],
             [
              0.2222222222222222,
              "#7201a8"
             ],
             [
              0.3333333333333333,
              "#9c179e"
             ],
             [
              0.4444444444444444,
              "#bd3786"
             ],
             [
              0.5555555555555556,
              "#d8576b"
             ],
             [
              0.6666666666666666,
              "#ed7953"
             ],
             [
              0.7777777777777778,
              "#fb9f3a"
             ],
             [
              0.8888888888888888,
              "#fdca26"
             ],
             [
              1,
              "#f0f921"
             ]
            ],
            "type": "histogram2dcontour"
           }
          ],
          "mesh3d": [
           {
            "colorbar": {
             "outlinewidth": 0,
             "ticks": ""
            },
            "type": "mesh3d"
           }
          ],
          "parcoords": [
           {
            "line": {
             "colorbar": {
              "outlinewidth": 0,
              "ticks": ""
             }
            },
            "type": "parcoords"
           }
          ],
          "pie": [
           {
            "automargin": true,
            "type": "pie"
           }
          ],
          "scatter": [
           {
            "fillpattern": {
             "fillmode": "overlay",
             "size": 10,
             "solidity": 0.2
            },
            "type": "scatter"
           }
          ],
          "scatter3d": [
           {
            "line": {
             "colorbar": {
              "outlinewidth": 0,
              "ticks": ""
             }
            },
            "marker": {
             "colorbar": {
              "outlinewidth": 0,
              "ticks": ""
             }
            },
            "type": "scatter3d"
           }
          ],
          "scattercarpet": [
           {
            "marker": {
             "colorbar": {
              "outlinewidth": 0,
              "ticks": ""
             }
            },
            "type": "scattercarpet"
           }
          ],
          "scattergeo": [
           {
            "marker": {
             "colorbar": {
              "outlinewidth": 0,
              "ticks": ""
             }
            },
            "type": "scattergeo"
           }
          ],
          "scattergl": [
           {
            "marker": {
             "colorbar": {
              "outlinewidth": 0,
              "ticks": ""
             }
            },
            "type": "scattergl"
           }
          ],
          "scattermapbox": [
           {
            "marker": {
             "colorbar": {
              "outlinewidth": 0,
              "ticks": ""
             }
            },
            "type": "scattermapbox"
           }
          ],
          "scatterpolar": [
           {
            "marker": {
             "colorbar": {
              "outlinewidth": 0,
              "ticks": ""
             }
            },
            "type": "scatterpolar"
           }
          ],
          "scatterpolargl": [
           {
            "marker": {
             "colorbar": {
              "outlinewidth": 0,
              "ticks": ""
             }
            },
            "type": "scatterpolargl"
           }
          ],
          "scatterternary": [
           {
            "marker": {
             "colorbar": {
              "outlinewidth": 0,
              "ticks": ""
             }
            },
            "type": "scatterternary"
           }
          ],
          "surface": [
           {
            "colorbar": {
             "outlinewidth": 0,
             "ticks": ""
            },
            "colorscale": [
             [
              0,
              "#0d0887"
             ],
             [
              0.1111111111111111,
              "#46039f"
             ],
             [
              0.2222222222222222,
              "#7201a8"
             ],
             [
              0.3333333333333333,
              "#9c179e"
             ],
             [
              0.4444444444444444,
              "#bd3786"
             ],
             [
              0.5555555555555556,
              "#d8576b"
             ],
             [
              0.6666666666666666,
              "#ed7953"
             ],
             [
              0.7777777777777778,
              "#fb9f3a"
             ],
             [
              0.8888888888888888,
              "#fdca26"
             ],
             [
              1,
              "#f0f921"
             ]
            ],
            "type": "surface"
           }
          ],
          "table": [
           {
            "cells": {
             "fill": {
              "color": "#EBF0F8"
             },
             "line": {
              "color": "white"
             }
            },
            "header": {
             "fill": {
              "color": "#C8D4E3"
             },
             "line": {
              "color": "white"
             }
            },
            "type": "table"
           }
          ]
         },
         "layout": {
          "annotationdefaults": {
           "arrowcolor": "#2a3f5f",
           "arrowhead": 0,
           "arrowwidth": 1
          },
          "autotypenumbers": "strict",
          "coloraxis": {
           "colorbar": {
            "outlinewidth": 0,
            "ticks": ""
           }
          },
          "colorscale": {
           "diverging": [
            [
             0,
             "#8e0152"
            ],
            [
             0.1,
             "#c51b7d"
            ],
            [
             0.2,
             "#de77ae"
            ],
            [
             0.3,
             "#f1b6da"
            ],
            [
             0.4,
             "#fde0ef"
            ],
            [
             0.5,
             "#f7f7f7"
            ],
            [
             0.6,
             "#e6f5d0"
            ],
            [
             0.7,
             "#b8e186"
            ],
            [
             0.8,
             "#7fbc41"
            ],
            [
             0.9,
             "#4d9221"
            ],
            [
             1,
             "#276419"
            ]
           ],
           "sequential": [
            [
             0,
             "#0d0887"
            ],
            [
             0.1111111111111111,
             "#46039f"
            ],
            [
             0.2222222222222222,
             "#7201a8"
            ],
            [
             0.3333333333333333,
             "#9c179e"
            ],
            [
             0.4444444444444444,
             "#bd3786"
            ],
            [
             0.5555555555555556,
             "#d8576b"
            ],
            [
             0.6666666666666666,
             "#ed7953"
            ],
            [
             0.7777777777777778,
             "#fb9f3a"
            ],
            [
             0.8888888888888888,
             "#fdca26"
            ],
            [
             1,
             "#f0f921"
            ]
           ],
           "sequentialminus": [
            [
             0,
             "#0d0887"
            ],
            [
             0.1111111111111111,
             "#46039f"
            ],
            [
             0.2222222222222222,
             "#7201a8"
            ],
            [
             0.3333333333333333,
             "#9c179e"
            ],
            [
             0.4444444444444444,
             "#bd3786"
            ],
            [
             0.5555555555555556,
             "#d8576b"
            ],
            [
             0.6666666666666666,
             "#ed7953"
            ],
            [
             0.7777777777777778,
             "#fb9f3a"
            ],
            [
             0.8888888888888888,
             "#fdca26"
            ],
            [
             1,
             "#f0f921"
            ]
           ]
          },
          "colorway": [
           "#636efa",
           "#EF553B",
           "#00cc96",
           "#ab63fa",
           "#FFA15A",
           "#19d3f3",
           "#FF6692",
           "#B6E880",
           "#FF97FF",
           "#FECB52"
          ],
          "font": {
           "color": "#2a3f5f"
          },
          "geo": {
           "bgcolor": "white",
           "lakecolor": "white",
           "landcolor": "#E5ECF6",
           "showlakes": true,
           "showland": true,
           "subunitcolor": "white"
          },
          "hoverlabel": {
           "align": "left"
          },
          "hovermode": "closest",
          "mapbox": {
           "style": "light"
          },
          "paper_bgcolor": "white",
          "plot_bgcolor": "#E5ECF6",
          "polar": {
           "angularaxis": {
            "gridcolor": "white",
            "linecolor": "white",
            "ticks": ""
           },
           "bgcolor": "#E5ECF6",
           "radialaxis": {
            "gridcolor": "white",
            "linecolor": "white",
            "ticks": ""
           }
          },
          "scene": {
           "xaxis": {
            "backgroundcolor": "#E5ECF6",
            "gridcolor": "white",
            "gridwidth": 2,
            "linecolor": "white",
            "showbackground": true,
            "ticks": "",
            "zerolinecolor": "white"
           },
           "yaxis": {
            "backgroundcolor": "#E5ECF6",
            "gridcolor": "white",
            "gridwidth": 2,
            "linecolor": "white",
            "showbackground": true,
            "ticks": "",
            "zerolinecolor": "white"
           },
           "zaxis": {
            "backgroundcolor": "#E5ECF6",
            "gridcolor": "white",
            "gridwidth": 2,
            "linecolor": "white",
            "showbackground": true,
            "ticks": "",
            "zerolinecolor": "white"
           }
          },
          "shapedefaults": {
           "line": {
            "color": "#2a3f5f"
           }
          },
          "ternary": {
           "aaxis": {
            "gridcolor": "white",
            "linecolor": "white",
            "ticks": ""
           },
           "baxis": {
            "gridcolor": "white",
            "linecolor": "white",
            "ticks": ""
           },
           "bgcolor": "#E5ECF6",
           "caxis": {
            "gridcolor": "white",
            "linecolor": "white",
            "ticks": ""
           }
          },
          "title": {
           "x": 0.05
          },
          "xaxis": {
           "automargin": true,
           "gridcolor": "white",
           "linecolor": "white",
           "ticks": "",
           "title": {
            "standoff": 15
           },
           "zerolinecolor": "white",
           "zerolinewidth": 2
          },
          "yaxis": {
           "automargin": true,
           "gridcolor": "white",
           "linecolor": "white",
           "ticks": "",
           "title": {
            "standoff": 15
           },
           "zerolinecolor": "white",
           "zerolinewidth": 2
          }
         }
        },
        "title": {
         "text": "Nombre d'immatriculations par mois",
         "x": 0.5,
         "xanchor": "center",
         "y": 0.9,
         "yanchor": "top"
        },
        "xaxis": {
         "anchor": "y",
         "domain": [
          0,
          1
         ],
         "ticktext": [
          "Janvier",
          "Février",
          "Mars",
          "Avril",
          "Mai",
          "Juin",
          "Juil.",
          "Août",
          "Sept.",
          "Oct.",
          "Nov.",
          "Déc."
         ],
         "tickvals": [
          1,
          2,
          3,
          4,
          5,
          6,
          7,
          8,
          9,
          10,
          11,
          12
         ],
         "title": {
          "text": "Mois"
         }
        },
        "yaxis": {
         "anchor": "x",
         "domain": [
          0,
          1
         ],
         "title": {
          "text": "Nombre d'immatriculations"
         }
        }
       }
      }
     },
     "metadata": {},
     "output_type": "display_data"
    }
   ],
   "source": [
    "co2.viz.plot_registrations_per_month(df, filename=\"my_plot\", format='json')\n"
   ]
  },
  {
   "cell_type": "code",
   "execution_count": 21,
   "metadata": {},
   "outputs": [
    {
     "data": {
      "application/vnd.plotly.v1+json": {
       "config": {
        "plotlyServerURL": "https://plot.ly"
       },
       "data": [
        {
         "alignmentgroup": "True",
         "hovertemplate": "Month=%{x}<br>counts=%{marker.color}<extra></extra>",
         "legendgroup": "",
         "marker": {
          "color": [
           69,
           90,
           87,
           70,
           83,
           112,
           62,
           62,
           86,
           82,
           76,
           101
          ],
          "coloraxis": "coloraxis",
          "pattern": {
           "shape": ""
          }
         },
         "name": "",
         "offsetgroup": "",
         "orientation": "v",
         "showlegend": false,
         "textposition": "auto",
         "type": "bar",
         "x": [
          1,
          2,
          3,
          4,
          5,
          6,
          7,
          8,
          9,
          10,
          11,
          12
         ],
         "xaxis": "x",
         "y": [
          69,
          90,
          87,
          70,
          83,
          112,
          62,
          62,
          86,
          82,
          76,
          101
         ],
         "yaxis": "y"
        }
       ],
       "layout": {
        "barmode": "relative",
        "coloraxis": {
         "colorbar": {
          "title": {
           "text": "counts"
          }
         },
         "colorscale": [
          [
           0,
           "rgb(252,251,253)"
          ],
          [
           0.125,
           "rgb(239,237,245)"
          ],
          [
           0.25,
           "rgb(218,218,235)"
          ],
          [
           0.375,
           "rgb(188,189,220)"
          ],
          [
           0.5,
           "rgb(158,154,200)"
          ],
          [
           0.625,
           "rgb(128,125,186)"
          ],
          [
           0.75,
           "rgb(106,81,163)"
          ],
          [
           0.875,
           "rgb(84,39,143)"
          ],
          [
           1,
           "rgb(63,0,125)"
          ]
         ]
        },
        "legend": {
         "tracegroupgap": 0
        },
        "margin": {
         "t": 60
        },
        "showlegend": false,
        "template": {
         "data": {
          "bar": [
           {
            "error_x": {
             "color": "#2a3f5f"
            },
            "error_y": {
             "color": "#2a3f5f"
            },
            "marker": {
             "line": {
              "color": "#E5ECF6",
              "width": 0.5
             },
             "pattern": {
              "fillmode": "overlay",
              "size": 10,
              "solidity": 0.2
             }
            },
            "type": "bar"
           }
          ],
          "barpolar": [
           {
            "marker": {
             "line": {
              "color": "#E5ECF6",
              "width": 0.5
             },
             "pattern": {
              "fillmode": "overlay",
              "size": 10,
              "solidity": 0.2
             }
            },
            "type": "barpolar"
           }
          ],
          "carpet": [
           {
            "aaxis": {
             "endlinecolor": "#2a3f5f",
             "gridcolor": "white",
             "linecolor": "white",
             "minorgridcolor": "white",
             "startlinecolor": "#2a3f5f"
            },
            "baxis": {
             "endlinecolor": "#2a3f5f",
             "gridcolor": "white",
             "linecolor": "white",
             "minorgridcolor": "white",
             "startlinecolor": "#2a3f5f"
            },
            "type": "carpet"
           }
          ],
          "choropleth": [
           {
            "colorbar": {
             "outlinewidth": 0,
             "ticks": ""
            },
            "type": "choropleth"
           }
          ],
          "contour": [
           {
            "colorbar": {
             "outlinewidth": 0,
             "ticks": ""
            },
            "colorscale": [
             [
              0,
              "#0d0887"
             ],
             [
              0.1111111111111111,
              "#46039f"
             ],
             [
              0.2222222222222222,
              "#7201a8"
             ],
             [
              0.3333333333333333,
              "#9c179e"
             ],
             [
              0.4444444444444444,
              "#bd3786"
             ],
             [
              0.5555555555555556,
              "#d8576b"
             ],
             [
              0.6666666666666666,
              "#ed7953"
             ],
             [
              0.7777777777777778,
              "#fb9f3a"
             ],
             [
              0.8888888888888888,
              "#fdca26"
             ],
             [
              1,
              "#f0f921"
             ]
            ],
            "type": "contour"
           }
          ],
          "contourcarpet": [
           {
            "colorbar": {
             "outlinewidth": 0,
             "ticks": ""
            },
            "type": "contourcarpet"
           }
          ],
          "heatmap": [
           {
            "colorbar": {
             "outlinewidth": 0,
             "ticks": ""
            },
            "colorscale": [
             [
              0,
              "#0d0887"
             ],
             [
              0.1111111111111111,
              "#46039f"
             ],
             [
              0.2222222222222222,
              "#7201a8"
             ],
             [
              0.3333333333333333,
              "#9c179e"
             ],
             [
              0.4444444444444444,
              "#bd3786"
             ],
             [
              0.5555555555555556,
              "#d8576b"
             ],
             [
              0.6666666666666666,
              "#ed7953"
             ],
             [
              0.7777777777777778,
              "#fb9f3a"
             ],
             [
              0.8888888888888888,
              "#fdca26"
             ],
             [
              1,
              "#f0f921"
             ]
            ],
            "type": "heatmap"
           }
          ],
          "heatmapgl": [
           {
            "colorbar": {
             "outlinewidth": 0,
             "ticks": ""
            },
            "colorscale": [
             [
              0,
              "#0d0887"
             ],
             [
              0.1111111111111111,
              "#46039f"
             ],
             [
              0.2222222222222222,
              "#7201a8"
             ],
             [
              0.3333333333333333,
              "#9c179e"
             ],
             [
              0.4444444444444444,
              "#bd3786"
             ],
             [
              0.5555555555555556,
              "#d8576b"
             ],
             [
              0.6666666666666666,
              "#ed7953"
             ],
             [
              0.7777777777777778,
              "#fb9f3a"
             ],
             [
              0.8888888888888888,
              "#fdca26"
             ],
             [
              1,
              "#f0f921"
             ]
            ],
            "type": "heatmapgl"
           }
          ],
          "histogram": [
           {
            "marker": {
             "pattern": {
              "fillmode": "overlay",
              "size": 10,
              "solidity": 0.2
             }
            },
            "type": "histogram"
           }
          ],
          "histogram2d": [
           {
            "colorbar": {
             "outlinewidth": 0,
             "ticks": ""
            },
            "colorscale": [
             [
              0,
              "#0d0887"
             ],
             [
              0.1111111111111111,
              "#46039f"
             ],
             [
              0.2222222222222222,
              "#7201a8"
             ],
             [
              0.3333333333333333,
              "#9c179e"
             ],
             [
              0.4444444444444444,
              "#bd3786"
             ],
             [
              0.5555555555555556,
              "#d8576b"
             ],
             [
              0.6666666666666666,
              "#ed7953"
             ],
             [
              0.7777777777777778,
              "#fb9f3a"
             ],
             [
              0.8888888888888888,
              "#fdca26"
             ],
             [
              1,
              "#f0f921"
             ]
            ],
            "type": "histogram2d"
           }
          ],
          "histogram2dcontour": [
           {
            "colorbar": {
             "outlinewidth": 0,
             "ticks": ""
            },
            "colorscale": [
             [
              0,
              "#0d0887"
             ],
             [
              0.1111111111111111,
              "#46039f"
             ],
             [
              0.2222222222222222,
              "#7201a8"
             ],
             [
              0.3333333333333333,
              "#9c179e"
             ],
             [
              0.4444444444444444,
              "#bd3786"
             ],
             [
              0.5555555555555556,
              "#d8576b"
             ],
             [
              0.6666666666666666,
              "#ed7953"
             ],
             [
              0.7777777777777778,
              "#fb9f3a"
             ],
             [
              0.8888888888888888,
              "#fdca26"
             ],
             [
              1,
              "#f0f921"
             ]
            ],
            "type": "histogram2dcontour"
           }
          ],
          "mesh3d": [
           {
            "colorbar": {
             "outlinewidth": 0,
             "ticks": ""
            },
            "type": "mesh3d"
           }
          ],
          "parcoords": [
           {
            "line": {
             "colorbar": {
              "outlinewidth": 0,
              "ticks": ""
             }
            },
            "type": "parcoords"
           }
          ],
          "pie": [
           {
            "automargin": true,
            "type": "pie"
           }
          ],
          "scatter": [
           {
            "fillpattern": {
             "fillmode": "overlay",
             "size": 10,
             "solidity": 0.2
            },
            "type": "scatter"
           }
          ],
          "scatter3d": [
           {
            "line": {
             "colorbar": {
              "outlinewidth": 0,
              "ticks": ""
             }
            },
            "marker": {
             "colorbar": {
              "outlinewidth": 0,
              "ticks": ""
             }
            },
            "type": "scatter3d"
           }
          ],
          "scattercarpet": [
           {
            "marker": {
             "colorbar": {
              "outlinewidth": 0,
              "ticks": ""
             }
            },
            "type": "scattercarpet"
           }
          ],
          "scattergeo": [
           {
            "marker": {
             "colorbar": {
              "outlinewidth": 0,
              "ticks": ""
             }
            },
            "type": "scattergeo"
           }
          ],
          "scattergl": [
           {
            "marker": {
             "colorbar": {
              "outlinewidth": 0,
              "ticks": ""
             }
            },
            "type": "scattergl"
           }
          ],
          "scattermapbox": [
           {
            "marker": {
             "colorbar": {
              "outlinewidth": 0,
              "ticks": ""
             }
            },
            "type": "scattermapbox"
           }
          ],
          "scatterpolar": [
           {
            "marker": {
             "colorbar": {
              "outlinewidth": 0,
              "ticks": ""
             }
            },
            "type": "scatterpolar"
           }
          ],
          "scatterpolargl": [
           {
            "marker": {
             "colorbar": {
              "outlinewidth": 0,
              "ticks": ""
             }
            },
            "type": "scatterpolargl"
           }
          ],
          "scatterternary": [
           {
            "marker": {
             "colorbar": {
              "outlinewidth": 0,
              "ticks": ""
             }
            },
            "type": "scatterternary"
           }
          ],
          "surface": [
           {
            "colorbar": {
             "outlinewidth": 0,
             "ticks": ""
            },
            "colorscale": [
             [
              0,
              "#0d0887"
             ],
             [
              0.1111111111111111,
              "#46039f"
             ],
             [
              0.2222222222222222,
              "#7201a8"
             ],
             [
              0.3333333333333333,
              "#9c179e"
             ],
             [
              0.4444444444444444,
              "#bd3786"
             ],
             [
              0.5555555555555556,
              "#d8576b"
             ],
             [
              0.6666666666666666,
              "#ed7953"
             ],
             [
              0.7777777777777778,
              "#fb9f3a"
             ],
             [
              0.8888888888888888,
              "#fdca26"
             ],
             [
              1,
              "#f0f921"
             ]
            ],
            "type": "surface"
           }
          ],
          "table": [
           {
            "cells": {
             "fill": {
              "color": "#EBF0F8"
             },
             "line": {
              "color": "white"
             }
            },
            "header": {
             "fill": {
              "color": "#C8D4E3"
             },
             "line": {
              "color": "white"
             }
            },
            "type": "table"
           }
          ]
         },
         "layout": {
          "annotationdefaults": {
           "arrowcolor": "#2a3f5f",
           "arrowhead": 0,
           "arrowwidth": 1
          },
          "autotypenumbers": "strict",
          "coloraxis": {
           "colorbar": {
            "outlinewidth": 0,
            "ticks": ""
           }
          },
          "colorscale": {
           "diverging": [
            [
             0,
             "#8e0152"
            ],
            [
             0.1,
             "#c51b7d"
            ],
            [
             0.2,
             "#de77ae"
            ],
            [
             0.3,
             "#f1b6da"
            ],
            [
             0.4,
             "#fde0ef"
            ],
            [
             0.5,
             "#f7f7f7"
            ],
            [
             0.6,
             "#e6f5d0"
            ],
            [
             0.7,
             "#b8e186"
            ],
            [
             0.8,
             "#7fbc41"
            ],
            [
             0.9,
             "#4d9221"
            ],
            [
             1,
             "#276419"
            ]
           ],
           "sequential": [
            [
             0,
             "#0d0887"
            ],
            [
             0.1111111111111111,
             "#46039f"
            ],
            [
             0.2222222222222222,
             "#7201a8"
            ],
            [
             0.3333333333333333,
             "#9c179e"
            ],
            [
             0.4444444444444444,
             "#bd3786"
            ],
            [
             0.5555555555555556,
             "#d8576b"
            ],
            [
             0.6666666666666666,
             "#ed7953"
            ],
            [
             0.7777777777777778,
             "#fb9f3a"
            ],
            [
             0.8888888888888888,
             "#fdca26"
            ],
            [
             1,
             "#f0f921"
            ]
           ],
           "sequentialminus": [
            [
             0,
             "#0d0887"
            ],
            [
             0.1111111111111111,
             "#46039f"
            ],
            [
             0.2222222222222222,
             "#7201a8"
            ],
            [
             0.3333333333333333,
             "#9c179e"
            ],
            [
             0.4444444444444444,
             "#bd3786"
            ],
            [
             0.5555555555555556,
             "#d8576b"
            ],
            [
             0.6666666666666666,
             "#ed7953"
            ],
            [
             0.7777777777777778,
             "#fb9f3a"
            ],
            [
             0.8888888888888888,
             "#fdca26"
            ],
            [
             1,
             "#f0f921"
            ]
           ]
          },
          "colorway": [
           "#636efa",
           "#EF553B",
           "#00cc96",
           "#ab63fa",
           "#FFA15A",
           "#19d3f3",
           "#FF6692",
           "#B6E880",
           "#FF97FF",
           "#FECB52"
          ],
          "font": {
           "color": "#2a3f5f"
          },
          "geo": {
           "bgcolor": "white",
           "lakecolor": "white",
           "landcolor": "#E5ECF6",
           "showlakes": true,
           "showland": true,
           "subunitcolor": "white"
          },
          "hoverlabel": {
           "align": "left"
          },
          "hovermode": "closest",
          "mapbox": {
           "style": "light"
          },
          "paper_bgcolor": "white",
          "plot_bgcolor": "#E5ECF6",
          "polar": {
           "angularaxis": {
            "gridcolor": "white",
            "linecolor": "white",
            "ticks": ""
           },
           "bgcolor": "#E5ECF6",
           "radialaxis": {
            "gridcolor": "white",
            "linecolor": "white",
            "ticks": ""
           }
          },
          "scene": {
           "xaxis": {
            "backgroundcolor": "#E5ECF6",
            "gridcolor": "white",
            "gridwidth": 2,
            "linecolor": "white",
            "showbackground": true,
            "ticks": "",
            "zerolinecolor": "white"
           },
           "yaxis": {
            "backgroundcolor": "#E5ECF6",
            "gridcolor": "white",
            "gridwidth": 2,
            "linecolor": "white",
            "showbackground": true,
            "ticks": "",
            "zerolinecolor": "white"
           },
           "zaxis": {
            "backgroundcolor": "#E5ECF6",
            "gridcolor": "white",
            "gridwidth": 2,
            "linecolor": "white",
            "showbackground": true,
            "ticks": "",
            "zerolinecolor": "white"
           }
          },
          "shapedefaults": {
           "line": {
            "color": "#2a3f5f"
           }
          },
          "ternary": {
           "aaxis": {
            "gridcolor": "white",
            "linecolor": "white",
            "ticks": ""
           },
           "baxis": {
            "gridcolor": "white",
            "linecolor": "white",
            "ticks": ""
           },
           "bgcolor": "#E5ECF6",
           "caxis": {
            "gridcolor": "white",
            "linecolor": "white",
            "ticks": ""
           }
          },
          "title": {
           "x": 0.05
          },
          "xaxis": {
           "automargin": true,
           "gridcolor": "white",
           "linecolor": "white",
           "ticks": "",
           "title": {
            "standoff": 15
           },
           "zerolinecolor": "white",
           "zerolinewidth": 2
          },
          "yaxis": {
           "automargin": true,
           "gridcolor": "white",
           "linecolor": "white",
           "ticks": "",
           "title": {
            "standoff": 15
           },
           "zerolinecolor": "white",
           "zerolinewidth": 2
          }
         }
        },
        "title": {
         "text": "Nombre d'immatriculations par mois",
         "x": 0.5,
         "xanchor": "center",
         "y": 0.9,
         "yanchor": "top"
        },
        "xaxis": {
         "anchor": "y",
         "domain": [
          0,
          1
         ],
         "ticktext": [
          "Janvier",
          "Février",
          "Mars",
          "Avril",
          "Mai",
          "Juin",
          "Juil.",
          "Août",
          "Sept.",
          "Oct.",
          "Nov.",
          "Déc."
         ],
         "tickvals": [
          1,
          2,
          3,
          4,
          5,
          6,
          7,
          8,
          9,
          10,
          11,
          12
         ],
         "title": {
          "text": "Mois"
         }
        },
        "yaxis": {
         "anchor": "x",
         "domain": [
          0,
          1
         ],
         "title": {
          "text": "Nombre d'immatriculations"
         }
        }
       }
      }
     },
     "metadata": {},
     "output_type": "display_data"
    }
   ],
   "source": [
    "co2.viz.load_plotly_json('my_plot.json')   "
   ]
  },
  {
   "cell_type": "code",
   "execution_count": 22,
   "metadata": {},
   "outputs": [
    {
     "data": {
      "application/vnd.plotly.v1+json": {
       "config": {
        "plotlyServerURL": "https://plot.ly"
       },
       "data": [
        {
         "alignmentgroup": "True",
         "hovertemplate": "Month=%{x}<br>counts=%{marker.color}<extra></extra>",
         "legendgroup": "",
         "marker": {
          "color": [
           31,
           27,
           45,
           37,
           38,
           43,
           25,
           33,
           33,
           32,
           21,
           26
          ],
          "coloraxis": "coloraxis",
          "pattern": {
           "shape": ""
          }
         },
         "name": "",
         "offsetgroup": "",
         "orientation": "v",
         "showlegend": false,
         "textposition": "auto",
         "type": "bar",
         "x": [
          1,
          2,
          3,
          4,
          5,
          6,
          7,
          8,
          9,
          10,
          11,
          12
         ],
         "xaxis": "x",
         "y": [
          31,
          27,
          45,
          37,
          38,
          43,
          25,
          33,
          33,
          32,
          21,
          26
         ],
         "yaxis": "y"
        }
       ],
       "layout": {
        "barmode": "relative",
        "coloraxis": {
         "colorbar": {
          "title": {
           "text": "counts"
          }
         },
         "colorscale": [
          [
           0,
           "rgb(252,251,253)"
          ],
          [
           0.125,
           "rgb(239,237,245)"
          ],
          [
           0.25,
           "rgb(218,218,235)"
          ],
          [
           0.375,
           "rgb(188,189,220)"
          ],
          [
           0.5,
           "rgb(158,154,200)"
          ],
          [
           0.625,
           "rgb(128,125,186)"
          ],
          [
           0.75,
           "rgb(106,81,163)"
          ],
          [
           0.875,
           "rgb(84,39,143)"
          ],
          [
           1,
           "rgb(63,0,125)"
          ]
         ]
        },
        "legend": {
         "tracegroupgap": 0
        },
        "margin": {
         "t": 60
        },
        "showlegend": false,
        "template": {
         "data": {
          "bar": [
           {
            "error_x": {
             "color": "#2a3f5f"
            },
            "error_y": {
             "color": "#2a3f5f"
            },
            "marker": {
             "line": {
              "color": "#E5ECF6",
              "width": 0.5
             },
             "pattern": {
              "fillmode": "overlay",
              "size": 10,
              "solidity": 0.2
             }
            },
            "type": "bar"
           }
          ],
          "barpolar": [
           {
            "marker": {
             "line": {
              "color": "#E5ECF6",
              "width": 0.5
             },
             "pattern": {
              "fillmode": "overlay",
              "size": 10,
              "solidity": 0.2
             }
            },
            "type": "barpolar"
           }
          ],
          "carpet": [
           {
            "aaxis": {
             "endlinecolor": "#2a3f5f",
             "gridcolor": "white",
             "linecolor": "white",
             "minorgridcolor": "white",
             "startlinecolor": "#2a3f5f"
            },
            "baxis": {
             "endlinecolor": "#2a3f5f",
             "gridcolor": "white",
             "linecolor": "white",
             "minorgridcolor": "white",
             "startlinecolor": "#2a3f5f"
            },
            "type": "carpet"
           }
          ],
          "choropleth": [
           {
            "colorbar": {
             "outlinewidth": 0,
             "ticks": ""
            },
            "type": "choropleth"
           }
          ],
          "contour": [
           {
            "colorbar": {
             "outlinewidth": 0,
             "ticks": ""
            },
            "colorscale": [
             [
              0,
              "#0d0887"
             ],
             [
              0.1111111111111111,
              "#46039f"
             ],
             [
              0.2222222222222222,
              "#7201a8"
             ],
             [
              0.3333333333333333,
              "#9c179e"
             ],
             [
              0.4444444444444444,
              "#bd3786"
             ],
             [
              0.5555555555555556,
              "#d8576b"
             ],
             [
              0.6666666666666666,
              "#ed7953"
             ],
             [
              0.7777777777777778,
              "#fb9f3a"
             ],
             [
              0.8888888888888888,
              "#fdca26"
             ],
             [
              1,
              "#f0f921"
             ]
            ],
            "type": "contour"
           }
          ],
          "contourcarpet": [
           {
            "colorbar": {
             "outlinewidth": 0,
             "ticks": ""
            },
            "type": "contourcarpet"
           }
          ],
          "heatmap": [
           {
            "colorbar": {
             "outlinewidth": 0,
             "ticks": ""
            },
            "colorscale": [
             [
              0,
              "#0d0887"
             ],
             [
              0.1111111111111111,
              "#46039f"
             ],
             [
              0.2222222222222222,
              "#7201a8"
             ],
             [
              0.3333333333333333,
              "#9c179e"
             ],
             [
              0.4444444444444444,
              "#bd3786"
             ],
             [
              0.5555555555555556,
              "#d8576b"
             ],
             [
              0.6666666666666666,
              "#ed7953"
             ],
             [
              0.7777777777777778,
              "#fb9f3a"
             ],
             [
              0.8888888888888888,
              "#fdca26"
             ],
             [
              1,
              "#f0f921"
             ]
            ],
            "type": "heatmap"
           }
          ],
          "heatmapgl": [
           {
            "colorbar": {
             "outlinewidth": 0,
             "ticks": ""
            },
            "colorscale": [
             [
              0,
              "#0d0887"
             ],
             [
              0.1111111111111111,
              "#46039f"
             ],
             [
              0.2222222222222222,
              "#7201a8"
             ],
             [
              0.3333333333333333,
              "#9c179e"
             ],
             [
              0.4444444444444444,
              "#bd3786"
             ],
             [
              0.5555555555555556,
              "#d8576b"
             ],
             [
              0.6666666666666666,
              "#ed7953"
             ],
             [
              0.7777777777777778,
              "#fb9f3a"
             ],
             [
              0.8888888888888888,
              "#fdca26"
             ],
             [
              1,
              "#f0f921"
             ]
            ],
            "type": "heatmapgl"
           }
          ],
          "histogram": [
           {
            "marker": {
             "pattern": {
              "fillmode": "overlay",
              "size": 10,
              "solidity": 0.2
             }
            },
            "type": "histogram"
           }
          ],
          "histogram2d": [
           {
            "colorbar": {
             "outlinewidth": 0,
             "ticks": ""
            },
            "colorscale": [
             [
              0,
              "#0d0887"
             ],
             [
              0.1111111111111111,
              "#46039f"
             ],
             [
              0.2222222222222222,
              "#7201a8"
             ],
             [
              0.3333333333333333,
              "#9c179e"
             ],
             [
              0.4444444444444444,
              "#bd3786"
             ],
             [
              0.5555555555555556,
              "#d8576b"
             ],
             [
              0.6666666666666666,
              "#ed7953"
             ],
             [
              0.7777777777777778,
              "#fb9f3a"
             ],
             [
              0.8888888888888888,
              "#fdca26"
             ],
             [
              1,
              "#f0f921"
             ]
            ],
            "type": "histogram2d"
           }
          ],
          "histogram2dcontour": [
           {
            "colorbar": {
             "outlinewidth": 0,
             "ticks": ""
            },
            "colorscale": [
             [
              0,
              "#0d0887"
             ],
             [
              0.1111111111111111,
              "#46039f"
             ],
             [
              0.2222222222222222,
              "#7201a8"
             ],
             [
              0.3333333333333333,
              "#9c179e"
             ],
             [
              0.4444444444444444,
              "#bd3786"
             ],
             [
              0.5555555555555556,
              "#d8576b"
             ],
             [
              0.6666666666666666,
              "#ed7953"
             ],
             [
              0.7777777777777778,
              "#fb9f3a"
             ],
             [
              0.8888888888888888,
              "#fdca26"
             ],
             [
              1,
              "#f0f921"
             ]
            ],
            "type": "histogram2dcontour"
           }
          ],
          "mesh3d": [
           {
            "colorbar": {
             "outlinewidth": 0,
             "ticks": ""
            },
            "type": "mesh3d"
           }
          ],
          "parcoords": [
           {
            "line": {
             "colorbar": {
              "outlinewidth": 0,
              "ticks": ""
             }
            },
            "type": "parcoords"
           }
          ],
          "pie": [
           {
            "automargin": true,
            "type": "pie"
           }
          ],
          "scatter": [
           {
            "fillpattern": {
             "fillmode": "overlay",
             "size": 10,
             "solidity": 0.2
            },
            "type": "scatter"
           }
          ],
          "scatter3d": [
           {
            "line": {
             "colorbar": {
              "outlinewidth": 0,
              "ticks": ""
             }
            },
            "marker": {
             "colorbar": {
              "outlinewidth": 0,
              "ticks": ""
             }
            },
            "type": "scatter3d"
           }
          ],
          "scattercarpet": [
           {
            "marker": {
             "colorbar": {
              "outlinewidth": 0,
              "ticks": ""
             }
            },
            "type": "scattercarpet"
           }
          ],
          "scattergeo": [
           {
            "marker": {
             "colorbar": {
              "outlinewidth": 0,
              "ticks": ""
             }
            },
            "type": "scattergeo"
           }
          ],
          "scattergl": [
           {
            "marker": {
             "colorbar": {
              "outlinewidth": 0,
              "ticks": ""
             }
            },
            "type": "scattergl"
           }
          ],
          "scattermapbox": [
           {
            "marker": {
             "colorbar": {
              "outlinewidth": 0,
              "ticks": ""
             }
            },
            "type": "scattermapbox"
           }
          ],
          "scatterpolar": [
           {
            "marker": {
             "colorbar": {
              "outlinewidth": 0,
              "ticks": ""
             }
            },
            "type": "scatterpolar"
           }
          ],
          "scatterpolargl": [
           {
            "marker": {
             "colorbar": {
              "outlinewidth": 0,
              "ticks": ""
             }
            },
            "type": "scatterpolargl"
           }
          ],
          "scatterternary": [
           {
            "marker": {
             "colorbar": {
              "outlinewidth": 0,
              "ticks": ""
             }
            },
            "type": "scatterternary"
           }
          ],
          "surface": [
           {
            "colorbar": {
             "outlinewidth": 0,
             "ticks": ""
            },
            "colorscale": [
             [
              0,
              "#0d0887"
             ],
             [
              0.1111111111111111,
              "#46039f"
             ],
             [
              0.2222222222222222,
              "#7201a8"
             ],
             [
              0.3333333333333333,
              "#9c179e"
             ],
             [
              0.4444444444444444,
              "#bd3786"
             ],
             [
              0.5555555555555556,
              "#d8576b"
             ],
             [
              0.6666666666666666,
              "#ed7953"
             ],
             [
              0.7777777777777778,
              "#fb9f3a"
             ],
             [
              0.8888888888888888,
              "#fdca26"
             ],
             [
              1,
              "#f0f921"
             ]
            ],
            "type": "surface"
           }
          ],
          "table": [
           {
            "cells": {
             "fill": {
              "color": "#EBF0F8"
             },
             "line": {
              "color": "white"
             }
            },
            "header": {
             "fill": {
              "color": "#C8D4E3"
             },
             "line": {
              "color": "white"
             }
            },
            "type": "table"
           }
          ]
         },
         "layout": {
          "annotationdefaults": {
           "arrowcolor": "#2a3f5f",
           "arrowhead": 0,
           "arrowwidth": 1
          },
          "autotypenumbers": "strict",
          "coloraxis": {
           "colorbar": {
            "outlinewidth": 0,
            "ticks": ""
           }
          },
          "colorscale": {
           "diverging": [
            [
             0,
             "#8e0152"
            ],
            [
             0.1,
             "#c51b7d"
            ],
            [
             0.2,
             "#de77ae"
            ],
            [
             0.3,
             "#f1b6da"
            ],
            [
             0.4,
             "#fde0ef"
            ],
            [
             0.5,
             "#f7f7f7"
            ],
            [
             0.6,
             "#e6f5d0"
            ],
            [
             0.7,
             "#b8e186"
            ],
            [
             0.8,
             "#7fbc41"
            ],
            [
             0.9,
             "#4d9221"
            ],
            [
             1,
             "#276419"
            ]
           ],
           "sequential": [
            [
             0,
             "#0d0887"
            ],
            [
             0.1111111111111111,
             "#46039f"
            ],
            [
             0.2222222222222222,
             "#7201a8"
            ],
            [
             0.3333333333333333,
             "#9c179e"
            ],
            [
             0.4444444444444444,
             "#bd3786"
            ],
            [
             0.5555555555555556,
             "#d8576b"
            ],
            [
             0.6666666666666666,
             "#ed7953"
            ],
            [
             0.7777777777777778,
             "#fb9f3a"
            ],
            [
             0.8888888888888888,
             "#fdca26"
            ],
            [
             1,
             "#f0f921"
            ]
           ],
           "sequentialminus": [
            [
             0,
             "#0d0887"
            ],
            [
             0.1111111111111111,
             "#46039f"
            ],
            [
             0.2222222222222222,
             "#7201a8"
            ],
            [
             0.3333333333333333,
             "#9c179e"
            ],
            [
             0.4444444444444444,
             "#bd3786"
            ],
            [
             0.5555555555555556,
             "#d8576b"
            ],
            [
             0.6666666666666666,
             "#ed7953"
            ],
            [
             0.7777777777777778,
             "#fb9f3a"
            ],
            [
             0.8888888888888888,
             "#fdca26"
            ],
            [
             1,
             "#f0f921"
            ]
           ]
          },
          "colorway": [
           "#636efa",
           "#EF553B",
           "#00cc96",
           "#ab63fa",
           "#FFA15A",
           "#19d3f3",
           "#FF6692",
           "#B6E880",
           "#FF97FF",
           "#FECB52"
          ],
          "font": {
           "color": "#2a3f5f"
          },
          "geo": {
           "bgcolor": "white",
           "lakecolor": "white",
           "landcolor": "#E5ECF6",
           "showlakes": true,
           "showland": true,
           "subunitcolor": "white"
          },
          "hoverlabel": {
           "align": "left"
          },
          "hovermode": "closest",
          "mapbox": {
           "style": "light"
          },
          "paper_bgcolor": "white",
          "plot_bgcolor": "#E5ECF6",
          "polar": {
           "angularaxis": {
            "gridcolor": "white",
            "linecolor": "white",
            "ticks": ""
           },
           "bgcolor": "#E5ECF6",
           "radialaxis": {
            "gridcolor": "white",
            "linecolor": "white",
            "ticks": ""
           }
          },
          "scene": {
           "xaxis": {
            "backgroundcolor": "#E5ECF6",
            "gridcolor": "white",
            "gridwidth": 2,
            "linecolor": "white",
            "showbackground": true,
            "ticks": "",
            "zerolinecolor": "white"
           },
           "yaxis": {
            "backgroundcolor": "#E5ECF6",
            "gridcolor": "white",
            "gridwidth": 2,
            "linecolor": "white",
            "showbackground": true,
            "ticks": "",
            "zerolinecolor": "white"
           },
           "zaxis": {
            "backgroundcolor": "#E5ECF6",
            "gridcolor": "white",
            "gridwidth": 2,
            "linecolor": "white",
            "showbackground": true,
            "ticks": "",
            "zerolinecolor": "white"
           }
          },
          "shapedefaults": {
           "line": {
            "color": "#2a3f5f"
           }
          },
          "ternary": {
           "aaxis": {
            "gridcolor": "white",
            "linecolor": "white",
            "ticks": ""
           },
           "baxis": {
            "gridcolor": "white",
            "linecolor": "white",
            "ticks": ""
           },
           "bgcolor": "#E5ECF6",
           "caxis": {
            "gridcolor": "white",
            "linecolor": "white",
            "ticks": ""
           }
          },
          "title": {
           "x": 0.05
          },
          "xaxis": {
           "automargin": true,
           "gridcolor": "white",
           "linecolor": "white",
           "ticks": "",
           "title": {
            "standoff": 15
           },
           "zerolinecolor": "white",
           "zerolinewidth": 2
          },
          "yaxis": {
           "automargin": true,
           "gridcolor": "white",
           "linecolor": "white",
           "ticks": "",
           "title": {
            "standoff": 15
           },
           "zerolinecolor": "white",
           "zerolinewidth": 2
          }
         }
        },
        "title": {
         "text": "Nombre d'immatriculations par mois",
         "x": 0.5,
         "xanchor": "center",
         "y": 0.9,
         "yanchor": "top"
        },
        "xaxis": {
         "anchor": "y",
         "domain": [
          0,
          1
         ],
         "ticktext": [
          "Janvier",
          "Février",
          "Mars",
          "Avril",
          "Mai",
          "Juin",
          "Juil.",
          "Août",
          "Sept.",
          "Oct.",
          "Nov.",
          "Déc."
         ],
         "tickvals": [
          1,
          2,
          3,
          4,
          5,
          6,
          7,
          8,
          9,
          10,
          11,
          12
         ],
         "title": {
          "text": "Mois"
         }
        },
        "yaxis": {
         "anchor": "x",
         "domain": [
          0,
          1
         ],
         "title": {
          "text": "Nombre d'immatriculations"
         }
        }
       }
      }
     },
     "metadata": {},
     "output_type": "display_data"
    }
   ],
   "source": [
    "co2.viz.plot_registrations_per_month(df)"
   ]
  },
  {
   "cell_type": "code",
   "execution_count": 23,
   "metadata": {},
   "outputs": [
    {
     "data": {
      "image/png": "[encoded data removed]",
      "text/plain": [
       "<IPython.core.display.Image object>"
      ]
     },
     "metadata": {},
     "output_type": "display_data"
    }
   ],
   "source": [
    "co2.viz.plot_fueltype_distribution(df, interactive=False, filename=None, format='html')"
   ]
  },
  {
   "cell_type": "code",
   "execution_count": 24,
   "metadata": {},
   "outputs": [
    {
     "data": {
      "application/vnd.plotly.v1+json": {
       "config": {
        "plotlyServerURL": "https://plot.ly"
       },
       "data": [
        {
         "colorscale": [
          [
           0,
           "rgb(5,48,97)"
          ],
          [
           0.1,
           "rgb(33,102,172)"
          ],
          [
           0.2,
           "rgb(67,147,195)"
          ],
          [
           0.3,
           "rgb(146,197,222)"
          ],
          [
           0.4,
           "rgb(209,229,240)"
          ],
          [
           0.5,
           "rgb(247,247,247)"
          ],
          [
           0.6,
           "rgb(253,219,199)"
          ],
          [
           0.7,
           "rgb(244,165,130)"
          ],
          [
           0.8,
           "rgb(214,96,77)"
          ],
          [
           0.9,
           "rgb(178,24,43)"
          ],
          [
           1,
           "rgb(103,0,31)"
          ]
         ],
         "type": "heatmap",
         "x": [
          "MassRunningOrder",
          "WltpTestMass",
          "Co2EmissionsWltp",
          "BaseWheel",
          "AxleWidthSteering",
          "EngineCapacity",
          "EnginePower",
          "ElectricConsumption",
          "InnovativeEmissionsReductionWltp",
          "ElectricRange"
         ],
         "y": [
          "MassRunningOrder",
          "WltpTestMass",
          "Co2EmissionsWltp",
          "BaseWheel",
          "AxleWidthSteering",
          "EngineCapacity",
          "EnginePower",
          "ElectricConsumption",
          "InnovativeEmissionsReductionWltp",
          "ElectricRange"
         ],
         "z": [
          [
           1,
           0.9908193233768768,
           -0.46021178431953585,
           0.7553049562720537,
           0.7953109137615338,
           0.760505678415131,
           0.7616128572727429,
           0.5406948577172577,
           -0.12846360525787354,
           0.20702350459523067
          ],
          [
           0.9908193233768768,
           1,
           -0.43038220415315137,
           0.772916748291714,
           0.8133185951047939,
           0.7606027081896958,
           0.7566778556705994,
           0.580146517788877,
           -0.13127487420866965,
           0.16699609520790942
          ],
          [
           -0.46021178431953585,
           -0.43038220415315137,
           1,
           -0.14772117089551656,
           -0.10510589531137267,
           -0.06657575983920748,
           -0.27324964771361,
           0.14414470898375972,
           0.08222419232992566,
           -0.8825982568183423
          ],
          [
           0.7553049562720537,
           0.772916748291714,
           -0.14772117089551656,
           1,
           0.802401698498993,
           0.6140965139563899,
           0.6144474708581854,
           0.44013631837373,
           -0.0697452553470203,
           0.2252275639848717
          ],
          [
           0.7953109137615338,
           0.8133185951047939,
           -0.10510589531137267,
           0.802401698498993,
           1,
           0.6124503969074768,
           0.6379255730657982,
           0.4033409179132506,
           -0.006541345652314622,
           -0.034732600780016394
          ],
          [
           0.760505678415131,
           0.7606027081896958,
           -0.06657575983920748,
           0.6140965139563899,
           0.6124503969074768,
           1,
           0.7521851468561728,
           0.021769494846289105,
           -0.27609902627552546,
           0.08682567244739918
          ],
          [
           0.7616128572727429,
           0.7566778556705994,
           -0.27324964771361,
           0.6144474708581854,
           0.6379255730657982,
           0.7521851468561728,
           1,
           0.26859590732916294,
           -0.05049631853377251,
           0.47098208166467503
          ],
          [
           0.5406948577172577,
           0.580146517788877,
           0.14414470898375972,
           0.44013631837373,
           0.4033409179132506,
           0.021769494846289105,
           0.26859590732916294,
           1,
           null,
           -0.04238548447056083
          ],
          [
           -0.12846360525787354,
           -0.13127487420866965,
           0.08222419232992566,
           -0.0697452553470203,
           -0.006541345652314622,
           -0.27609902627552546,
           -0.05049631853377251,
           null,
           1,
           null
          ],
          [
           0.20702350459523067,
           0.16699609520790942,
           -0.8825982568183423,
           0.2252275639848717,
           -0.034732600780016394,
           0.08682567244739918,
           0.47098208166467503,
           -0.04238548447056083,
           null,
           1
          ]
         ]
        }
       ],
       "layout": {
        "annotations": [
         {
          "font": {
           "color": "white",
           "size": 16
          },
          "showarrow": false,
          "text": "1.0",
          "x": "MassRunningOrder",
          "y": "MassRunningOrder"
         },
         {
          "font": {
           "color": "white",
           "size": 16
          },
          "showarrow": false,
          "text": "0.99",
          "x": "WltpTestMass",
          "y": "MassRunningOrder"
         },
         {
          "font": {
           "color": "black",
           "size": 16
          },
          "showarrow": false,
          "text": "-0.46",
          "x": "Co2EmissionsWltp",
          "y": "MassRunningOrder"
         },
         {
          "font": {
           "color": "white",
           "size": 16
          },
          "showarrow": false,
          "text": "0.76",
          "x": "BaseWheel",
          "y": "MassRunningOrder"
         },
         {
          "font": {
           "color": "white",
           "size": 16
          },
          "showarrow": false,
          "text": "0.8",
          "x": "AxleWidthSteering",
          "y": "MassRunningOrder"
         },
         {
          "font": {
           "color": "white",
           "size": 16
          },
          "showarrow": false,
          "text": "0.76",
          "x": "EngineCapacity",
          "y": "MassRunningOrder"
         },
         {
          "font": {
           "color": "white",
           "size": 16
          },
          "showarrow": false,
          "text": "0.76",
          "x": "EnginePower",
          "y": "MassRunningOrder"
         },
         {
          "font": {
           "color": "white",
           "size": 16
          },
          "showarrow": false,
          "text": "0.54",
          "x": "ElectricConsumption",
          "y": "MassRunningOrder"
         },
         {
          "font": {
           "color": "black",
           "size": 16
          },
          "showarrow": false,
          "text": "-0.13",
          "x": "InnovativeEmissionsReductionWltp",
          "y": "MassRunningOrder"
         },
         {
          "font": {
           "color": "black",
           "size": 16
          },
          "showarrow": false,
          "text": "0.21",
          "x": "ElectricRange",
          "y": "MassRunningOrder"
         },
         {
          "font": {
           "color": "white",
           "size": 16
          },
          "showarrow": false,
          "text": "0.99",
          "x": "MassRunningOrder",
          "y": "WltpTestMass"
         },
         {
          "font": {
           "color": "white",
           "size": 16
          },
          "showarrow": false,
          "text": "1.0",
          "x": "WltpTestMass",
          "y": "WltpTestMass"
         },
         {
          "font": {
           "color": "black",
           "size": 16
          },
          "showarrow": false,
          "text": "-0.43",
          "x": "Co2EmissionsWltp",
          "y": "WltpTestMass"
         },
         {
          "font": {
           "color": "white",
           "size": 16
          },
          "showarrow": false,
          "text": "0.77",
          "x": "BaseWheel",
          "y": "WltpTestMass"
         },
         {
          "font": {
           "color": "white",
           "size": 16
          },
          "showarrow": false,
          "text": "0.81",
          "x": "AxleWidthSteering",
          "y": "WltpTestMass"
         },
         {
          "font": {
           "color": "white",
           "size": 16
          },
          "showarrow": false,
          "text": "0.76",
          "x": "EngineCapacity",
          "y": "WltpTestMass"
         },
         {
          "font": {
           "color": "white",
           "size": 16
          },
          "showarrow": false,
          "text": "0.76",
          "x": "EnginePower",
          "y": "WltpTestMass"
         },
         {
          "font": {
           "color": "white",
           "size": 16
          },
          "showarrow": false,
          "text": "0.58",
          "x": "ElectricConsumption",
          "y": "WltpTestMass"
         },
         {
          "font": {
           "color": "black",
           "size": 16
          },
          "showarrow": false,
          "text": "-0.13",
          "x": "InnovativeEmissionsReductionWltp",
          "y": "WltpTestMass"
         },
         {
          "font": {
           "color": "black",
           "size": 16
          },
          "showarrow": false,
          "text": "0.17",
          "x": "ElectricRange",
          "y": "WltpTestMass"
         },
         {
          "font": {
           "color": "black",
           "size": 16
          },
          "showarrow": false,
          "text": "-0.46",
          "x": "MassRunningOrder",
          "y": "Co2EmissionsWltp"
         },
         {
          "font": {
           "color": "black",
           "size": 16
          },
          "showarrow": false,
          "text": "-0.43",
          "x": "WltpTestMass",
          "y": "Co2EmissionsWltp"
         },
         {
          "font": {
           "color": "white",
           "size": 16
          },
          "showarrow": false,
          "text": "1.0",
          "x": "Co2EmissionsWltp",
          "y": "Co2EmissionsWltp"
         },
         {
          "font": {
           "color": "black",
           "size": 16
          },
          "showarrow": false,
          "text": "-0.15",
          "x": "BaseWheel",
          "y": "Co2EmissionsWltp"
         },
         {
          "font": {
           "color": "black",
           "size": 16
          },
          "showarrow": false,
          "text": "-0.11",
          "x": "AxleWidthSteering",
          "y": "Co2EmissionsWltp"
         },
         {
          "font": {
           "color": "black",
           "size": 16
          },
          "showarrow": false,
          "text": "-0.07",
          "x": "EngineCapacity",
          "y": "Co2EmissionsWltp"
         },
         {
          "font": {
           "color": "black",
           "size": 16
          },
          "showarrow": false,
          "text": "-0.27",
          "x": "EnginePower",
          "y": "Co2EmissionsWltp"
         },
         {
          "font": {
           "color": "black",
           "size": 16
          },
          "showarrow": false,
          "text": "0.14",
          "x": "ElectricConsumption",
          "y": "Co2EmissionsWltp"
         },
         {
          "font": {
           "color": "black",
           "size": 16
          },
          "showarrow": false,
          "text": "0.08",
          "x": "InnovativeEmissionsReductionWltp",
          "y": "Co2EmissionsWltp"
         },
         {
          "font": {
           "color": "white",
           "size": 16
          },
          "showarrow": false,
          "text": "-0.88",
          "x": "ElectricRange",
          "y": "Co2EmissionsWltp"
         },
         {
          "font": {
           "color": "white",
           "size": 16
          },
          "showarrow": false,
          "text": "0.76",
          "x": "MassRunningOrder",
          "y": "BaseWheel"
         },
         {
          "font": {
           "color": "white",
           "size": 16
          },
          "showarrow": false,
          "text": "0.77",
          "x": "WltpTestMass",
          "y": "BaseWheel"
         },
         {
          "font": {
           "color": "black",
           "size": 16
          },
          "showarrow": false,
          "text": "-0.15",
          "x": "Co2EmissionsWltp",
          "y": "BaseWheel"
         },
         {
          "font": {
           "color": "white",
           "size": 16
          },
          "showarrow": false,
          "text": "1.0",
          "x": "BaseWheel",
          "y": "BaseWheel"
         },
         {
          "font": {
           "color": "white",
           "size": 16
          },
          "showarrow": false,
          "text": "0.8",
          "x": "AxleWidthSteering",
          "y": "BaseWheel"
         },
         {
          "font": {
           "color": "white",
           "size": 16
          },
          "showarrow": false,
          "text": "0.61",
          "x": "EngineCapacity",
          "y": "BaseWheel"
         },
         {
          "font": {
           "color": "white",
           "size": 16
          },
          "showarrow": false,
          "text": "0.61",
          "x": "EnginePower",
          "y": "BaseWheel"
         },
         {
          "font": {
           "color": "black",
           "size": 16
          },
          "showarrow": false,
          "text": "0.44",
          "x": "ElectricConsumption",
          "y": "BaseWheel"
         },
         {
          "font": {
           "color": "black",
           "size": 16
          },
          "showarrow": false,
          "text": "-0.07",
          "x": "InnovativeEmissionsReductionWltp",
          "y": "BaseWheel"
         },
         {
          "font": {
           "color": "black",
           "size": 16
          },
          "showarrow": false,
          "text": "0.23",
          "x": "ElectricRange",
          "y": "BaseWheel"
         },
         {
          "font": {
           "color": "white",
           "size": 16
          },
          "showarrow": false,
          "text": "0.8",
          "x": "MassRunningOrder",
          "y": "AxleWidthSteering"
         },
         {
          "font": {
           "color": "white",
           "size": 16
          },
          "showarrow": false,
          "text": "0.81",
          "x": "WltpTestMass",
          "y": "AxleWidthSteering"
         },
         {
          "font": {
           "color": "black",
           "size": 16
          },
          "showarrow": false,
          "text": "-0.11",
          "x": "Co2EmissionsWltp",
          "y": "AxleWidthSteering"
         },
         {
          "font": {
           "color": "white",
           "size": 16
          },
          "showarrow": false,
          "text": "0.8",
          "x": "BaseWheel",
          "y": "AxleWidthSteering"
         },
         {
          "font": {
           "color": "white",
           "size": 16
          },
          "showarrow": false,
          "text": "1.0",
          "x": "AxleWidthSteering",
          "y": "AxleWidthSteering"
         },
         {
          "font": {
           "color": "white",
           "size": 16
          },
          "showarrow": false,
          "text": "0.61",
          "x": "EngineCapacity",
          "y": "AxleWidthSteering"
         },
         {
          "font": {
           "color": "white",
           "size": 16
          },
          "showarrow": false,
          "text": "0.64",
          "x": "EnginePower",
          "y": "AxleWidthSteering"
         },
         {
          "font": {
           "color": "black",
           "size": 16
          },
          "showarrow": false,
          "text": "0.4",
          "x": "ElectricConsumption",
          "y": "AxleWidthSteering"
         },
         {
          "font": {
           "color": "black",
           "size": 16
          },
          "showarrow": false,
          "text": "-0.01",
          "x": "InnovativeEmissionsReductionWltp",
          "y": "AxleWidthSteering"
         },
         {
          "font": {
           "color": "black",
           "size": 16
          },
          "showarrow": false,
          "text": "-0.03",
          "x": "ElectricRange",
          "y": "AxleWidthSteering"
         },
         {
          "font": {
           "color": "white",
           "size": 16
          },
          "showarrow": false,
          "text": "0.76",
          "x": "MassRunningOrder",
          "y": "EngineCapacity"
         },
         {
          "font": {
           "color": "white",
           "size": 16
          },
          "showarrow": false,
          "text": "0.76",
          "x": "WltpTestMass",
          "y": "EngineCapacity"
         },
         {
          "font": {
           "color": "black",
           "size": 16
          },
          "showarrow": false,
          "text": "-0.07",
          "x": "Co2EmissionsWltp",
          "y": "EngineCapacity"
         },
         {
          "font": {
           "color": "white",
           "size": 16
          },
          "showarrow": false,
          "text": "0.61",
          "x": "BaseWheel",
          "y": "EngineCapacity"
         },
         {
          "font": {
           "color": "white",
           "size": 16
          },
          "showarrow": false,
          "text": "0.61",
          "x": "AxleWidthSteering",
          "y": "EngineCapacity"
         },
         {
          "font": {
           "color": "white",
           "size": 16
          },
          "showarrow": false,
          "text": "1.0",
          "x": "EngineCapacity",
          "y": "EngineCapacity"
         },
         {
          "font": {
           "color": "white",
           "size": 16
          },
          "showarrow": false,
          "text": "0.75",
          "x": "EnginePower",
          "y": "EngineCapacity"
         },
         {
          "font": {
           "color": "black",
           "size": 16
          },
          "showarrow": false,
          "text": "0.02",
          "x": "ElectricConsumption",
          "y": "EngineCapacity"
         },
         {
          "font": {
           "color": "black",
           "size": 16
          },
          "showarrow": false,
          "text": "-0.28",
          "x": "InnovativeEmissionsReductionWltp",
          "y": "EngineCapacity"
         },
         {
          "font": {
           "color": "black",
           "size": 16
          },
          "showarrow": false,
          "text": "0.09",
          "x": "ElectricRange",
          "y": "EngineCapacity"
         },
         {
          "font": {
           "color": "white",
           "size": 16
          },
          "showarrow": false,
          "text": "0.76",
          "x": "MassRunningOrder",
          "y": "EnginePower"
         },
         {
          "font": {
           "color": "white",
           "size": 16
          },
          "showarrow": false,
          "text": "0.76",
          "x": "WltpTestMass",
          "y": "EnginePower"
         },
         {
          "font": {
           "color": "black",
           "size": 16
          },
          "showarrow": false,
          "text": "-0.27",
          "x": "Co2EmissionsWltp",
          "y": "EnginePower"
         },
         {
          "font": {
           "color": "white",
           "size": 16
          },
          "showarrow": false,
          "text": "0.61",
          "x": "BaseWheel",
          "y": "EnginePower"
         },
         {
          "font": {
           "color": "white",
           "size": 16
          },
          "showarrow": false,
          "text": "0.64",
          "x": "AxleWidthSteering",
          "y": "EnginePower"
         },
         {
          "font": {
           "color": "white",
           "size": 16
          },
          "showarrow": false,
          "text": "0.75",
          "x": "EngineCapacity",
          "y": "EnginePower"
         },
         {
          "font": {
           "color": "white",
           "size": 16
          },
          "showarrow": false,
          "text": "1.0",
          "x": "EnginePower",
          "y": "EnginePower"
         },
         {
          "font": {
           "color": "black",
           "size": 16
          },
          "showarrow": false,
          "text": "0.27",
          "x": "ElectricConsumption",
          "y": "EnginePower"
         },
         {
          "font": {
           "color": "black",
           "size": 16
          },
          "showarrow": false,
          "text": "-0.05",
          "x": "InnovativeEmissionsReductionWltp",
          "y": "EnginePower"
         },
         {
          "font": {
           "color": "black",
           "size": 16
          },
          "showarrow": false,
          "text": "0.47",
          "x": "ElectricRange",
          "y": "EnginePower"
         },
         {
          "font": {
           "color": "white",
           "size": 16
          },
          "showarrow": false,
          "text": "0.54",
          "x": "MassRunningOrder",
          "y": "ElectricConsumption"
         },
         {
          "font": {
           "color": "white",
           "size": 16
          },
          "showarrow": false,
          "text": "0.58",
          "x": "WltpTestMass",
          "y": "ElectricConsumption"
         },
         {
          "font": {
           "color": "black",
           "size": 16
          },
          "showarrow": false,
          "text": "0.14",
          "x": "Co2EmissionsWltp",
          "y": "ElectricConsumption"
         },
         {
          "font": {
           "color": "black",
           "size": 16
          },
          "showarrow": false,
          "text": "0.44",
          "x": "BaseWheel",
          "y": "ElectricConsumption"
         },
         {
          "font": {
           "color": "black",
           "size": 16
          },
          "showarrow": false,
          "text": "0.4",
          "x": "AxleWidthSteering",
          "y": "ElectricConsumption"
         },
         {
          "font": {
           "color": "black",
           "size": 16
          },
          "showarrow": false,
          "text": "0.02",
          "x": "EngineCapacity",
          "y": "ElectricConsumption"
         },
         {
          "font": {
           "color": "black",
           "size": 16
          },
          "showarrow": false,
          "text": "0.27",
          "x": "EnginePower",
          "y": "ElectricConsumption"
         },
         {
          "font": {
           "color": "white",
           "size": 16
          },
          "showarrow": false,
          "text": "1.0",
          "x": "ElectricConsumption",
          "y": "ElectricConsumption"
         },
         {
          "font": {
           "color": "black",
           "size": 16
          },
          "showarrow": false,
          "text": "nan",
          "x": "InnovativeEmissionsReductionWltp",
          "y": "ElectricConsumption"
         },
         {
          "font": {
           "color": "black",
           "size": 16
          },
          "showarrow": false,
          "text": "-0.04",
          "x": "ElectricRange",
          "y": "ElectricConsumption"
         },
         {
          "font": {
           "color": "black",
           "size": 16
          },
          "showarrow": false,
          "text": "-0.13",
          "x": "MassRunningOrder",
          "y": "InnovativeEmissionsReductionWltp"
         },
         {
          "font": {
           "color": "black",
           "size": 16
          },
          "showarrow": false,
          "text": "-0.13",
          "x": "WltpTestMass",
          "y": "InnovativeEmissionsReductionWltp"
         },
         {
          "font": {
           "color": "black",
           "size": 16
          },
          "showarrow": false,
          "text": "0.08",
          "x": "Co2EmissionsWltp",
          "y": "InnovativeEmissionsReductionWltp"
         },
         {
          "font": {
           "color": "black",
           "size": 16
          },
          "showarrow": false,
          "text": "-0.07",
          "x": "BaseWheel",
          "y": "InnovativeEmissionsReductionWltp"
         },
         {
          "font": {
           "color": "black",
           "size": 16
          },
          "showarrow": false,
          "text": "-0.01",
          "x": "AxleWidthSteering",
          "y": "InnovativeEmissionsReductionWltp"
         },
         {
          "font": {
           "color": "black",
           "size": 16
          },
          "showarrow": false,
          "text": "-0.28",
          "x": "EngineCapacity",
          "y": "InnovativeEmissionsReductionWltp"
         },
         {
          "font": {
           "color": "black",
           "size": 16
          },
          "showarrow": false,
          "text": "-0.05",
          "x": "EnginePower",
          "y": "InnovativeEmissionsReductionWltp"
         },
         {
          "font": {
           "color": "black",
           "size": 16
          },
          "showarrow": false,
          "text": "nan",
          "x": "ElectricConsumption",
          "y": "InnovativeEmissionsReductionWltp"
         },
         {
          "font": {
           "color": "white",
           "size": 16
          },
          "showarrow": false,
          "text": "1.0",
          "x": "InnovativeEmissionsReductionWltp",
          "y": "InnovativeEmissionsReductionWltp"
         },
         {
          "font": {
           "color": "black",
           "size": 16
          },
          "showarrow": false,
          "text": "nan",
          "x": "ElectricRange",
          "y": "InnovativeEmissionsReductionWltp"
         },
         {
          "font": {
           "color": "black",
           "size": 16
          },
          "showarrow": false,
          "text": "0.21",
          "x": "MassRunningOrder",
          "y": "ElectricRange"
         },
         {
          "font": {
           "color": "black",
           "size": 16
          },
          "showarrow": false,
          "text": "0.17",
          "x": "WltpTestMass",
          "y": "ElectricRange"
         },
         {
          "font": {
           "color": "white",
           "size": 16
          },
          "showarrow": false,
          "text": "-0.88",
          "x": "Co2EmissionsWltp",
          "y": "ElectricRange"
         },
         {
          "font": {
           "color": "black",
           "size": 16
          },
          "showarrow": false,
          "text": "0.23",
          "x": "BaseWheel",
          "y": "ElectricRange"
         },
         {
          "font": {
           "color": "black",
           "size": 16
          },
          "showarrow": false,
          "text": "-0.03",
          "x": "AxleWidthSteering",
          "y": "ElectricRange"
         },
         {
          "font": {
           "color": "black",
           "size": 16
          },
          "showarrow": false,
          "text": "0.09",
          "x": "EngineCapacity",
          "y": "ElectricRange"
         },
         {
          "font": {
           "color": "black",
           "size": 16
          },
          "showarrow": false,
          "text": "0.47",
          "x": "EnginePower",
          "y": "ElectricRange"
         },
         {
          "font": {
           "color": "black",
           "size": 16
          },
          "showarrow": false,
          "text": "-0.04",
          "x": "ElectricConsumption",
          "y": "ElectricRange"
         },
         {
          "font": {
           "color": "black",
           "size": 16
          },
          "showarrow": false,
          "text": "nan",
          "x": "InnovativeEmissionsReductionWltp",
          "y": "ElectricRange"
         },
         {
          "font": {
           "color": "white",
           "size": 16
          },
          "showarrow": false,
          "text": "1.0",
          "x": "ElectricRange",
          "y": "ElectricRange"
         }
        ],
        "autosize": false,
        "height": 850,
        "template": {
         "data": {
          "bar": [
           {
            "error_x": {
             "color": "#2a3f5f"
            },
            "error_y": {
             "color": "#2a3f5f"
            },
            "marker": {
             "line": {
              "color": "#E5ECF6",
              "width": 0.5
             },
             "pattern": {
              "fillmode": "overlay",
              "size": 10,
              "solidity": 0.2
             }
            },
            "type": "bar"
           }
          ],
          "barpolar": [
           {
            "marker": {
             "line": {
              "color": "#E5ECF6",
              "width": 0.5
             },
             "pattern": {
              "fillmode": "overlay",
              "size": 10,
              "solidity": 0.2
             }
            },
            "type": "barpolar"
           }
          ],
          "carpet": [
           {
            "aaxis": {
             "endlinecolor": "#2a3f5f",
             "gridcolor": "white",
             "linecolor": "white",
             "minorgridcolor": "white",
             "startlinecolor": "#2a3f5f"
            },
            "baxis": {
             "endlinecolor": "#2a3f5f",
             "gridcolor": "white",
             "linecolor": "white",
             "minorgridcolor": "white",
             "startlinecolor": "#2a3f5f"
            },
            "type": "carpet"
           }
          ],
          "choropleth": [
           {
            "colorbar": {
             "outlinewidth": 0,
             "ticks": ""
            },
            "type": "choropleth"
           }
          ],
          "contour": [
           {
            "colorbar": {
             "outlinewidth": 0,
             "ticks": ""
            },
            "colorscale": [
             [
              0,
              "#0d0887"
             ],
             [
              0.1111111111111111,
              "#46039f"
             ],
             [
              0.2222222222222222,
              "#7201a8"
             ],
             [
              0.3333333333333333,
              "#9c179e"
             ],
             [
              0.4444444444444444,
              "#bd3786"
             ],
             [
              0.5555555555555556,
              "#d8576b"
             ],
             [
              0.6666666666666666,
              "#ed7953"
             ],
             [
              0.7777777777777778,
              "#fb9f3a"
             ],
             [
              0.8888888888888888,
              "#fdca26"
             ],
             [
              1,
              "#f0f921"
             ]
            ],
            "type": "contour"
           }
          ],
          "contourcarpet": [
           {
            "colorbar": {
             "outlinewidth": 0,
             "ticks": ""
            },
            "type": "contourcarpet"
           }
          ],
          "heatmap": [
           {
            "colorbar": {
             "outlinewidth": 0,
             "ticks": ""
            },
            "colorscale": [
             [
              0,
              "#0d0887"
             ],
             [
              0.1111111111111111,
              "#46039f"
             ],
             [
              0.2222222222222222,
              "#7201a8"
             ],
             [
              0.3333333333333333,
              "#9c179e"
             ],
             [
              0.4444444444444444,
              "#bd3786"
             ],
             [
              0.5555555555555556,
              "#d8576b"
             ],
             [
              0.6666666666666666,
              "#ed7953"
             ],
             [
              0.7777777777777778,
              "#fb9f3a"
             ],
             [
              0.8888888888888888,
              "#fdca26"
             ],
             [
              1,
              "#f0f921"
             ]
            ],
            "type": "heatmap"
           }
          ],
          "heatmapgl": [
           {
            "colorbar": {
             "outlinewidth": 0,
             "ticks": ""
            },
            "colorscale": [
             [
              0,
              "#0d0887"
             ],
             [
              0.1111111111111111,
              "#46039f"
             ],
             [
              0.2222222222222222,
              "#7201a8"
             ],
             [
              0.3333333333333333,
              "#9c179e"
             ],
             [
              0.4444444444444444,
              "#bd3786"
             ],
             [
              0.5555555555555556,
              "#d8576b"
             ],
             [
              0.6666666666666666,
              "#ed7953"
             ],
             [
              0.7777777777777778,
              "#fb9f3a"
             ],
             [
              0.8888888888888888,
              "#fdca26"
             ],
             [
              1,
              "#f0f921"
             ]
            ],
            "type": "heatmapgl"
           }
          ],
          "histogram": [
           {
            "marker": {
             "pattern": {
              "fillmode": "overlay",
              "size": 10,
              "solidity": 0.2
             }
            },
            "type": "histogram"
           }
          ],
          "histogram2d": [
           {
            "colorbar": {
             "outlinewidth": 0,
             "ticks": ""
            },
            "colorscale": [
             [
              0,
              "#0d0887"
             ],
             [
              0.1111111111111111,
              "#46039f"
             ],
             [
              0.2222222222222222,
              "#7201a8"
             ],
             [
              0.3333333333333333,
              "#9c179e"
             ],
             [
              0.4444444444444444,
              "#bd3786"
             ],
             [
              0.5555555555555556,
              "#d8576b"
             ],
             [
              0.6666666666666666,
              "#ed7953"
             ],
             [
              0.7777777777777778,
              "#fb9f3a"
             ],
             [
              0.8888888888888888,
              "#fdca26"
             ],
             [
              1,
              "#f0f921"
             ]
            ],
            "type": "histogram2d"
           }
          ],
          "histogram2dcontour": [
           {
            "colorbar": {
             "outlinewidth": 0,
             "ticks": ""
            },
            "colorscale": [
             [
              0,
              "#0d0887"
             ],
             [
              0.1111111111111111,
              "#46039f"
             ],
             [
              0.2222222222222222,
              "#7201a8"
             ],
             [
              0.3333333333333333,
              "#9c179e"
             ],
             [
              0.4444444444444444,
              "#bd3786"
             ],
             [
              0.5555555555555556,
              "#d8576b"
             ],
             [
              0.6666666666666666,
              "#ed7953"
             ],
             [
              0.7777777777777778,
              "#fb9f3a"
             ],
             [
              0.8888888888888888,
              "#fdca26"
             ],
             [
              1,
              "#f0f921"
             ]
            ],
            "type": "histogram2dcontour"
           }
          ],
          "mesh3d": [
           {
            "colorbar": {
             "outlinewidth": 0,
             "ticks": ""
            },
            "type": "mesh3d"
           }
          ],
          "parcoords": [
           {
            "line": {
             "colorbar": {
              "outlinewidth": 0,
              "ticks": ""
             }
            },
            "type": "parcoords"
           }
          ],
          "pie": [
           {
            "automargin": true,
            "type": "pie"
           }
          ],
          "scatter": [
           {
            "fillpattern": {
             "fillmode": "overlay",
             "size": 10,
             "solidity": 0.2
            },
            "type": "scatter"
           }
          ],
          "scatter3d": [
           {
            "line": {
             "colorbar": {
              "outlinewidth": 0,
              "ticks": ""
             }
            },
            "marker": {
             "colorbar": {
              "outlinewidth": 0,
              "ticks": ""
             }
            },
            "type": "scatter3d"
           }
          ],
          "scattercarpet": [
           {
            "marker": {
             "colorbar": {
              "outlinewidth": 0,
              "ticks": ""
             }
            },
            "type": "scattercarpet"
           }
          ],
          "scattergeo": [
           {
            "marker": {
             "colorbar": {
              "outlinewidth": 0,
              "ticks": ""
             }
            },
            "type": "scattergeo"
           }
          ],
          "scattergl": [
           {
            "marker": {
             "colorbar": {
              "outlinewidth": 0,
              "ticks": ""
             }
            },
            "type": "scattergl"
           }
          ],
          "scattermapbox": [
           {
            "marker": {
             "colorbar": {
              "outlinewidth": 0,
              "ticks": ""
             }
            },
            "type": "scattermapbox"
           }
          ],
          "scatterpolar": [
           {
            "marker": {
             "colorbar": {
              "outlinewidth": 0,
              "ticks": ""
             }
            },
            "type": "scatterpolar"
           }
          ],
          "scatterpolargl": [
           {
            "marker": {
             "colorbar": {
              "outlinewidth": 0,
              "ticks": ""
             }
            },
            "type": "scatterpolargl"
           }
          ],
          "scatterternary": [
           {
            "marker": {
             "colorbar": {
              "outlinewidth": 0,
              "ticks": ""
             }
            },
            "type": "scatterternary"
           }
          ],
          "surface": [
           {
            "colorbar": {
             "outlinewidth": 0,
             "ticks": ""
            },
            "colorscale": [
             [
              0,
              "#0d0887"
             ],
             [
              0.1111111111111111,
              "#46039f"
             ],
             [
              0.2222222222222222,
              "#7201a8"
             ],
             [
              0.3333333333333333,
              "#9c179e"
             ],
             [
              0.4444444444444444,
              "#bd3786"
             ],
             [
              0.5555555555555556,
              "#d8576b"
             ],
             [
              0.6666666666666666,
              "#ed7953"
             ],
             [
              0.7777777777777778,
              "#fb9f3a"
             ],
             [
              0.8888888888888888,
              "#fdca26"
             ],
             [
              1,
              "#f0f921"
             ]
            ],
            "type": "surface"
           }
          ],
          "table": [
           {
            "cells": {
             "fill": {
              "color": "#EBF0F8"
             },
             "line": {
              "color": "white"
             }
            },
            "header": {
             "fill": {
              "color": "#C8D4E3"
             },
             "line": {
              "color": "white"
             }
            },
            "type": "table"
           }
          ]
         },
         "layout": {
          "annotationdefaults": {
           "arrowcolor": "#2a3f5f",
           "arrowhead": 0,
           "arrowwidth": 1
          },
          "autotypenumbers": "strict",
          "coloraxis": {
           "colorbar": {
            "outlinewidth": 0,
            "ticks": ""
           }
          },
          "colorscale": {
           "diverging": [
            [
             0,
             "#8e0152"
            ],
            [
             0.1,
             "#c51b7d"
            ],
            [
             0.2,
             "#de77ae"
            ],
            [
             0.3,
             "#f1b6da"
            ],
            [
             0.4,
             "#fde0ef"
            ],
            [
             0.5,
             "#f7f7f7"
            ],
            [
             0.6,
             "#e6f5d0"
            ],
            [
             0.7,
             "#b8e186"
            ],
            [
             0.8,
             "#7fbc41"
            ],
            [
             0.9,
             "#4d9221"
            ],
            [
             1,
             "#276419"
            ]
           ],
           "sequential": [
            [
             0,
             "#0d0887"
            ],
            [
             0.1111111111111111,
             "#46039f"
            ],
            [
             0.2222222222222222,
             "#7201a8"
            ],
            [
             0.3333333333333333,
             "#9c179e"
            ],
            [
             0.4444444444444444,
             "#bd3786"
            ],
            [
             0.5555555555555556,
             "#d8576b"
            ],
            [
             0.6666666666666666,
             "#ed7953"
            ],
            [
             0.7777777777777778,
             "#fb9f3a"
            ],
            [
             0.8888888888888888,
             "#fdca26"
            ],
            [
             1,
             "#f0f921"
            ]
           ],
           "sequentialminus": [
            [
             0,
             "#0d0887"
            ],
            [
             0.1111111111111111,
             "#46039f"
            ],
            [
             0.2222222222222222,
             "#7201a8"
            ],
            [
             0.3333333333333333,
             "#9c179e"
            ],
            [
             0.4444444444444444,
             "#bd3786"
            ],
            [
             0.5555555555555556,
             "#d8576b"
            ],
            [
             0.6666666666666666,
             "#ed7953"
            ],
            [
             0.7777777777777778,
             "#fb9f3a"
            ],
            [
             0.8888888888888888,
             "#fdca26"
            ],
            [
             1,
             "#f0f921"
            ]
           ]
          },
          "colorway": [
           "#636efa",
           "#EF553B",
           "#00cc96",
           "#ab63fa",
           "#FFA15A",
           "#19d3f3",
           "#FF6692",
           "#B6E880",
           "#FF97FF",
           "#FECB52"
          ],
          "font": {
           "color": "#2a3f5f"
          },
          "geo": {
           "bgcolor": "white",
           "lakecolor": "white",
           "landcolor": "#E5ECF6",
           "showlakes": true,
           "showland": true,
           "subunitcolor": "white"
          },
          "hoverlabel": {
           "align": "left"
          },
          "hovermode": "closest",
          "mapbox": {
           "style": "light"
          },
          "paper_bgcolor": "white",
          "plot_bgcolor": "#E5ECF6",
          "polar": {
           "angularaxis": {
            "gridcolor": "white",
            "linecolor": "white",
            "ticks": ""
           },
           "bgcolor": "#E5ECF6",
           "radialaxis": {
            "gridcolor": "white",
            "linecolor": "white",
            "ticks": ""
           }
          },
          "scene": {
           "xaxis": {
            "backgroundcolor": "#E5ECF6",
            "gridcolor": "white",
            "gridwidth": 2,
            "linecolor": "white",
            "showbackground": true,
            "ticks": "",
            "zerolinecolor": "white"
           },
           "yaxis": {
            "backgroundcolor": "#E5ECF6",
            "gridcolor": "white",
            "gridwidth": 2,
            "linecolor": "white",
            "showbackground": true,
            "ticks": "",
            "zerolinecolor": "white"
           },
           "zaxis": {
            "backgroundcolor": "#E5ECF6",
            "gridcolor": "white",
            "gridwidth": 2,
            "linecolor": "white",
            "showbackground": true,
            "ticks": "",
            "zerolinecolor": "white"
           }
          },
          "shapedefaults": {
           "line": {
            "color": "#2a3f5f"
           }
          },
          "ternary": {
           "aaxis": {
            "gridcolor": "white",
            "linecolor": "white",
            "ticks": ""
           },
           "baxis": {
            "gridcolor": "white",
            "linecolor": "white",
            "ticks": ""
           },
           "bgcolor": "#E5ECF6",
           "caxis": {
            "gridcolor": "white",
            "linecolor": "white",
            "ticks": ""
           }
          },
          "title": {
           "x": 0.05
          },
          "xaxis": {
           "automargin": true,
           "gridcolor": "white",
           "linecolor": "white",
           "ticks": "",
           "title": {
            "standoff": 15
           },
           "zerolinecolor": "white",
           "zerolinewidth": 2
          },
          "yaxis": {
           "automargin": true,
           "gridcolor": "white",
           "linecolor": "white",
           "ticks": "",
           "title": {
            "standoff": 15
           },
           "zerolinecolor": "white",
           "zerolinewidth": 2
          }
         }
        },
        "title": {
         "font": {
          "size": 24
         },
         "text": "Corrélation des variables quantitatives",
         "x": 0.55
        },
        "width": 1000,
        "xaxis": {
         "autorange": "reversed",
         "tickfont": {
          "size": 14
         }
        },
        "yaxis": {
         "tickfont": {
          "size": 14
         }
        }
       }
      }
     },
     "metadata": {},
     "output_type": "display_data"
    }
   ],
   "source": [
    "co2.viz.plot_heatmap(df.drop(columns=['ID', 'FuelConsumption', 'Month']))"
   ]
  },
  {
   "cell_type": "code",
   "execution_count": 25,
   "metadata": {},
   "outputs": [],
   "source": [
    "def column_remover(df, columns=None):\n",
    "    columns_to_drop = ['Country', 'Type', 'Variant', 'Version', 'Make', 'CommercialName', 'VehicleCategory',\n",
    "                        'TotalNewRegistrations', 'Co2EmissionsNedc', 'WltpTestMass','FuelMode', \n",
    "                        'ElectricConsumption', 'InnovativeEmissionsReduction', 'DeviationFactor', \n",
    "                        'VerificationFactor', 'Status','RegistrationYear', 'RegistrationDate',\n",
    "                        'Pool', 'CategoryOf']\n",
    "    if columns is None:\n",
    "        df = df.drop(columns=[col for col in columns_to_drop if col in df.columns])\n",
    "    else:\n",
    "        df = df.drop(columns=[col for col in columns if col in df.columns])\n",
    "    \n",
    "    return df\n",
    "\n",
    "\n",
    "def correct_fueltype(df):\n",
    "    df.loc[df['FuelType'] == 'petrol/electric', 'FuelType'] = 'PETROL/ELECTRIC'\n",
    "    df.loc[df['FuelType'] == 'E85', 'FuelType'] = 'ETHANOL'\n",
    "    df.loc[df['FuelType'] == 'NG-BIOMETHANE', 'FuelType'] = 'NATURALGAS'\n",
    "    return df\n",
    "\n",
    "def remove_fueltype(df, keep_fossil=False):\n",
    "    if keep_fossil:\n",
    "        df = df.drop(columns=['FuelType'])\n",
    "    else:\n",
    "        df.drop(df.loc[df['FuelType'].isin(['HYDROGEN', 'ELECTRIC', 'UNKNOWN'])].index, inplace=True)\n",
    "    return df\n",
    "\n",
    "def standardize_innovtech(df, drop=True):\n",
    "    if drop:\n",
    "        df = df.drop(columns=['InnovativeTechnology'])\n",
    "    else:\n",
    "        df['InnovativeTechnology'].fillna(0, inplace=True)\n",
    "        df.loc[df['InnovativeTechnology'] != 0, 'InnovativeTechnology'] = 1\n",
    "        df['InnovativeTechnology'] = df['InnovativeTechnology'].astype(int)\n",
    "    return df\n",
    "    \n",
    "    \n",
    "def drop_residual_incomplete_rows(df):\n",
    "    rows_t0 = len(df)\n",
    "    for col in df.columns:\n",
    "        if df[col].isna().mean() <= 0.05:\n",
    "            df = df[df[col].notna()]\n",
    "\n",
    "    rows_t1 = len(df)\n",
    "    print(f\"Number of rows dropped:{rows_t0 - rows_t1}\")\n",
    "    return df\n",
    "    \n",
    "    \n",
    "def ml_preprocessing(df):\n",
    "    df = column_remover(df)\n",
    "    df = remove_fueltype(df)\n",
    "    df = standardize_innovtech(df)\n",
    "    df = drop_residual_incomplete_rows(df)\n",
    "    return df\n",
    "\n",
    "\n",
    "    "
   ]
  },
  {
   "cell_type": "code",
   "execution_count": 26,
   "metadata": {},
   "outputs": [
    {
     "name": "stdout",
     "output_type": "stream",
     "text": [
      "Number of rows dropped:42\n"
     ]
    },
    {
     "data": {
      "text/html": [
       "<style type=\"text/css\">\n",
       "#T_67a49 th {\n",
       "  background-color: steelblue;\n",
       "  color: white;\n",
       "}\n",
       "#T_67a49 tr:nth-of-type(odd) {\n",
       "  background-color: aliceblue;\n",
       "}\n",
       "#T_67a49 tr:nth-of-type(even) {\n",
       "  background-color: white;\n",
       "}\n",
       "</style>\n",
       "<table id=\"T_67a49\">\n",
       "  <thead>\n",
       "    <tr>\n",
       "      <th class=\"blank level0\" >&nbsp;</th>\n",
       "      <th id=\"T_67a49_level0_col0\" class=\"col_heading level0 col0\" >ID</th>\n",
       "      <th id=\"T_67a49_level0_col1\" class=\"col_heading level0 col1\" >ManufacturerName</th>\n",
       "      <th id=\"T_67a49_level0_col2\" class=\"col_heading level0 col2\" >ManufNameOem</th>\n",
       "      <th id=\"T_67a49_level0_col3\" class=\"col_heading level0 col3\" >MassRunningOrder</th>\n",
       "      <th id=\"T_67a49_level0_col4\" class=\"col_heading level0 col4\" >Co2EmissionsWltp</th>\n",
       "      <th id=\"T_67a49_level0_col5\" class=\"col_heading level0 col5\" >BaseWheel</th>\n",
       "      <th id=\"T_67a49_level0_col6\" class=\"col_heading level0 col6\" >AxleWidthSteering</th>\n",
       "      <th id=\"T_67a49_level0_col7\" class=\"col_heading level0 col7\" >FuelType</th>\n",
       "      <th id=\"T_67a49_level0_col8\" class=\"col_heading level0 col8\" >EngineCapacity</th>\n",
       "      <th id=\"T_67a49_level0_col9\" class=\"col_heading level0 col9\" >EnginePower</th>\n",
       "      <th id=\"T_67a49_level0_col10\" class=\"col_heading level0 col10\" >InnovativeEmissionsReductionWltp</th>\n",
       "      <th id=\"T_67a49_level0_col11\" class=\"col_heading level0 col11\" >FuelConsumption</th>\n",
       "      <th id=\"T_67a49_level0_col12\" class=\"col_heading level0 col12\" >ElectricRange</th>\n",
       "      <th id=\"T_67a49_level0_col13\" class=\"col_heading level0 col13\" >Month</th>\n",
       "    </tr>\n",
       "  </thead>\n",
       "  <tbody>\n",
       "    <tr>\n",
       "      <th id=\"T_67a49_level0_row0\" class=\"row_heading level0 row0\" >1</th>\n",
       "      <td id=\"T_67a49_row0_col0\" class=\"data row0 col0\" >57353112</td>\n",
       "      <td id=\"T_67a49_row0_col1\" class=\"data row0 col1\" >AUTOMOBILES PEUGEOT</td>\n",
       "      <td id=\"T_67a49_row0_col2\" class=\"data row0 col2\" >AUTOMOBILES PEUGEOT</td>\n",
       "      <td id=\"T_67a49_row0_col3\" class=\"data row0 col3\" >1278.000</td>\n",
       "      <td id=\"T_67a49_row0_col4\" class=\"data row0 col4\" >124.000</td>\n",
       "      <td id=\"T_67a49_row0_col5\" class=\"data row0 col5\" >2620.000</td>\n",
       "      <td id=\"T_67a49_row0_col6\" class=\"data row0 col6\" >1560.000</td>\n",
       "      <td id=\"T_67a49_row0_col7\" class=\"data row0 col7\" >PETROL</td>\n",
       "      <td id=\"T_67a49_row0_col8\" class=\"data row0 col8\" >1199.000</td>\n",
       "      <td id=\"T_67a49_row0_col9\" class=\"data row0 col9\" >81.000</td>\n",
       "      <td id=\"T_67a49_row0_col10\" class=\"data row0 col10\" >1.300</td>\n",
       "      <td id=\"T_67a49_row0_col11\" class=\"data row0 col11\" >nan</td>\n",
       "      <td id=\"T_67a49_row0_col12\" class=\"data row0 col12\" >nan</td>\n",
       "      <td id=\"T_67a49_row0_col13\" class=\"data row0 col13\" >nan</td>\n",
       "    </tr>\n",
       "    <tr>\n",
       "      <th id=\"T_67a49_level0_row1\" class=\"row_heading level0 row1\" >2</th>\n",
       "      <td id=\"T_67a49_row1_col0\" class=\"data row1 col0\" >57435744</td>\n",
       "      <td id=\"T_67a49_row1_col1\" class=\"data row1 col1\" >AUDI AG</td>\n",
       "      <td id=\"T_67a49_row1_col2\" class=\"data row1 col2\" >AUDI AG</td>\n",
       "      <td id=\"T_67a49_row1_col3\" class=\"data row1 col3\" >1395.000</td>\n",
       "      <td id=\"T_67a49_row1_col4\" class=\"data row1 col4\" >127.000</td>\n",
       "      <td id=\"T_67a49_row1_col5\" class=\"data row1 col5\" >2620.000</td>\n",
       "      <td id=\"T_67a49_row1_col6\" class=\"data row1 col6\" >1540.000</td>\n",
       "      <td id=\"T_67a49_row1_col7\" class=\"data row1 col7\" >PETROL</td>\n",
       "      <td id=\"T_67a49_row1_col8\" class=\"data row1 col8\" >1498.000</td>\n",
       "      <td id=\"T_67a49_row1_col9\" class=\"data row1 col9\" >110.000</td>\n",
       "      <td id=\"T_67a49_row1_col10\" class=\"data row1 col10\" >nan</td>\n",
       "      <td id=\"T_67a49_row1_col11\" class=\"data row1 col11\" >nan</td>\n",
       "      <td id=\"T_67a49_row1_col12\" class=\"data row1 col12\" >nan</td>\n",
       "      <td id=\"T_67a49_row1_col13\" class=\"data row1 col13\" >nan</td>\n",
       "    </tr>\n",
       "    <tr>\n",
       "      <th id=\"T_67a49_level0_row2\" class=\"row_heading level0 row2\" >3</th>\n",
       "      <td id=\"T_67a49_row2_col0\" class=\"data row2 col0\" >57249792</td>\n",
       "      <td id=\"T_67a49_row2_col1\" class=\"data row2 col1\" >KIA</td>\n",
       "      <td id=\"T_67a49_row2_col2\" class=\"data row2 col2\" >KIA CORPORATION</td>\n",
       "      <td id=\"T_67a49_row2_col3\" class=\"data row2 col3\" >974.000</td>\n",
       "      <td id=\"T_67a49_row2_col4\" class=\"data row2 col4\" >110.000</td>\n",
       "      <td id=\"T_67a49_row2_col5\" class=\"data row2 col5\" >2400.000</td>\n",
       "      <td id=\"T_67a49_row2_col6\" class=\"data row2 col6\" >1390.000</td>\n",
       "      <td id=\"T_67a49_row2_col7\" class=\"data row2 col7\" >PETROL</td>\n",
       "      <td id=\"T_67a49_row2_col8\" class=\"data row2 col8\" >998.000</td>\n",
       "      <td id=\"T_67a49_row2_col9\" class=\"data row2 col9\" >49.000</td>\n",
       "      <td id=\"T_67a49_row2_col10\" class=\"data row2 col10\" >nan</td>\n",
       "      <td id=\"T_67a49_row2_col11\" class=\"data row2 col11\" >nan</td>\n",
       "      <td id=\"T_67a49_row2_col12\" class=\"data row2 col12\" >nan</td>\n",
       "      <td id=\"T_67a49_row2_col13\" class=\"data row2 col13\" >nan</td>\n",
       "    </tr>\n",
       "    <tr>\n",
       "      <th id=\"T_67a49_level0_row3\" class=\"row_heading level0 row3\" >4</th>\n",
       "      <td id=\"T_67a49_row3_col0\" class=\"data row3 col0\" >56560176</td>\n",
       "      <td id=\"T_67a49_row3_col1\" class=\"data row3 col1\" >RENAULT</td>\n",
       "      <td id=\"T_67a49_row3_col2\" class=\"data row3 col2\" >RENAULT SAS</td>\n",
       "      <td id=\"T_67a49_row3_col3\" class=\"data row3 col3\" >1280.000</td>\n",
       "      <td id=\"T_67a49_row3_col4\" class=\"data row3 col4\" >133.000</td>\n",
       "      <td id=\"T_67a49_row3_col5\" class=\"data row3 col5\" >2639.000</td>\n",
       "      <td id=\"T_67a49_row3_col6\" class=\"data row3 col6\" >1554.000</td>\n",
       "      <td id=\"T_67a49_row3_col7\" class=\"data row3 col7\" >PETROL</td>\n",
       "      <td id=\"T_67a49_row3_col8\" class=\"data row3 col8\" >999.000</td>\n",
       "      <td id=\"T_67a49_row3_col9\" class=\"data row3 col9\" >67.000</td>\n",
       "      <td id=\"T_67a49_row3_col10\" class=\"data row3 col10\" >2.600</td>\n",
       "      <td id=\"T_67a49_row3_col11\" class=\"data row3 col11\" >5.300</td>\n",
       "      <td id=\"T_67a49_row3_col12\" class=\"data row3 col12\" >nan</td>\n",
       "      <td id=\"T_67a49_row3_col13\" class=\"data row3 col13\" >10.000</td>\n",
       "    </tr>\n",
       "    <tr>\n",
       "      <th id=\"T_67a49_level0_row4\" class=\"row_heading level0 row4\" >5</th>\n",
       "      <td id=\"T_67a49_row4_col0\" class=\"data row4 col0\" >57418304</td>\n",
       "      <td id=\"T_67a49_row4_col1\" class=\"data row4 col1\" >MERCEDES-BENZ AG</td>\n",
       "      <td id=\"T_67a49_row4_col2\" class=\"data row4 col2\" >MERCEDES-BENZ AG</td>\n",
       "      <td id=\"T_67a49_row4_col3\" class=\"data row4 col3\" >1380.000</td>\n",
       "      <td id=\"T_67a49_row4_col4\" class=\"data row4 col4\" >135.000</td>\n",
       "      <td id=\"T_67a49_row4_col5\" class=\"data row4 col5\" >2730.000</td>\n",
       "      <td id=\"T_67a49_row4_col6\" class=\"data row4 col6\" >1570.000</td>\n",
       "      <td id=\"T_67a49_row4_col7\" class=\"data row4 col7\" >PETROL</td>\n",
       "      <td id=\"T_67a49_row4_col8\" class=\"data row4 col8\" >1332.000</td>\n",
       "      <td id=\"T_67a49_row4_col9\" class=\"data row4 col9\" >100.000</td>\n",
       "      <td id=\"T_67a49_row4_col10\" class=\"data row4 col10\" >1.200</td>\n",
       "      <td id=\"T_67a49_row4_col11\" class=\"data row4 col11\" >nan</td>\n",
       "      <td id=\"T_67a49_row4_col12\" class=\"data row4 col12\" >nan</td>\n",
       "      <td id=\"T_67a49_row4_col13\" class=\"data row4 col13\" >nan</td>\n",
       "    </tr>\n",
       "  </tbody>\n",
       "</table>\n"
      ],
      "text/plain": [
       "<pandas.io.formats.style.Styler at 0x7f9c32017250>"
      ]
     },
     "metadata": {},
     "output_type": "display_data"
    }
   ],
   "source": [
    "df = ml_preprocessing(df)\n",
    "co2.styles.displayer(df, 5)"
   ]
  },
  {
   "cell_type": "code",
   "execution_count": 27,
   "metadata": {},
   "outputs": [
    {
     "data": {
      "text/html": [
       "<style type=\"text/css\">\n",
       "#T_e9c53 th {\n",
       "  background-color: steelblue;\n",
       "  color: white;\n",
       "}\n",
       "#T_e9c53 tr:nth-of-type(odd) {\n",
       "  background-color: aliceblue;\n",
       "}\n",
       "#T_e9c53 tr:nth-of-type(even) {\n",
       "  background-color: white;\n",
       "}\n",
       "#T_e9c53_row0_col1 {\n",
       "  width: 10em;\n",
       "  background: linear-gradient(90deg, lightcoral 100.0%, transparent 100.0%);\n",
       "}\n",
       "#T_e9c53_row1_col1 {\n",
       "  width: 10em;\n",
       "  background: linear-gradient(90deg, lightcoral 74.9%, transparent 74.9%);\n",
       "}\n",
       "#T_e9c53_row2_col1 {\n",
       "  width: 10em;\n",
       "  background: linear-gradient(90deg, lightcoral 64.9%, transparent 64.9%);\n",
       "}\n",
       "#T_e9c53_row3_col1 {\n",
       "  width: 10em;\n",
       "  background: linear-gradient(90deg, lightcoral 64.8%, transparent 64.8%);\n",
       "}\n",
       "#T_e9c53_row4_col1 {\n",
       "  width: 10em;\n",
       "  background: linear-gradient(90deg, lightcoral 12.5%, transparent 12.5%);\n",
       "}\n",
       "#T_e9c53_row5_col1, #T_e9c53_row6_col1, #T_e9c53_row7_col1, #T_e9c53_row8_col1, #T_e9c53_row9_col1, #T_e9c53_row10_col1, #T_e9c53_row11_col1, #T_e9c53_row12_col1, #T_e9c53_row13_col1 {\n",
       "  width: 10em;\n",
       "}\n",
       "</style>\n",
       "<table id=\"T_e9c53\">\n",
       "  <thead>\n",
       "    <tr>\n",
       "      <th class=\"blank level0\" >&nbsp;</th>\n",
       "      <th id=\"T_e9c53_level0_col0\" class=\"col_heading level0 col0\" >Colonne</th>\n",
       "      <th id=\"T_e9c53_level0_col1\" class=\"col_heading level0 col1\" >Valeurs manquantes (%)</th>\n",
       "    </tr>\n",
       "  </thead>\n",
       "  <tbody>\n",
       "    <tr>\n",
       "      <th id=\"T_e9c53_level0_row0\" class=\"row_heading level0 row0\" >0</th>\n",
       "      <td id=\"T_e9c53_row0_col0\" class=\"data row0 col0\" >ElectricRange</td>\n",
       "      <td id=\"T_e9c53_row0_col1\" class=\"data row0 col1\" >89.42%</td>\n",
       "    </tr>\n",
       "    <tr>\n",
       "      <th id=\"T_e9c53_level0_row1\" class=\"row_heading level0 row1\" >1</th>\n",
       "      <td id=\"T_e9c53_row1_col0\" class=\"data row1 col0\" >FuelConsumption</td>\n",
       "      <td id=\"T_e9c53_row1_col1\" class=\"data row1 col1\" >67.00%</td>\n",
       "    </tr>\n",
       "    <tr>\n",
       "      <th id=\"T_e9c53_level0_row2\" class=\"row_heading level0 row2\" >2</th>\n",
       "      <td id=\"T_e9c53_row2_col0\" class=\"data row2 col0\" >Month</td>\n",
       "      <td id=\"T_e9c53_row2_col1\" class=\"data row2 col1\" >58.06%</td>\n",
       "    </tr>\n",
       "    <tr>\n",
       "      <th id=\"T_e9c53_level0_row3\" class=\"row_heading level0 row3\" >3</th>\n",
       "      <td id=\"T_e9c53_row3_col0\" class=\"data row3 col0\" >InnovativeEmissionsReductionWltp</td>\n",
       "      <td id=\"T_e9c53_row3_col1\" class=\"data row3 col1\" >57.93%</td>\n",
       "    </tr>\n",
       "    <tr>\n",
       "      <th id=\"T_e9c53_level0_row4\" class=\"row_heading level0 row4\" >4</th>\n",
       "      <td id=\"T_e9c53_row4_col0\" class=\"data row4 col0\" >AxleWidthSteering</td>\n",
       "      <td id=\"T_e9c53_row4_col1\" class=\"data row4 col1\" >11.21%</td>\n",
       "    </tr>\n",
       "    <tr>\n",
       "      <th id=\"T_e9c53_level0_row5\" class=\"row_heading level0 row5\" >5</th>\n",
       "      <td id=\"T_e9c53_row5_col0\" class=\"data row5 col0\" >ID</td>\n",
       "      <td id=\"T_e9c53_row5_col1\" class=\"data row5 col1\" >0.00%</td>\n",
       "    </tr>\n",
       "    <tr>\n",
       "      <th id=\"T_e9c53_level0_row6\" class=\"row_heading level0 row6\" >6</th>\n",
       "      <td id=\"T_e9c53_row6_col0\" class=\"data row6 col0\" >BaseWheel</td>\n",
       "      <td id=\"T_e9c53_row6_col1\" class=\"data row6 col1\" >0.00%</td>\n",
       "    </tr>\n",
       "    <tr>\n",
       "      <th id=\"T_e9c53_level0_row7\" class=\"row_heading level0 row7\" >7</th>\n",
       "      <td id=\"T_e9c53_row7_col0\" class=\"data row7 col0\" >Co2EmissionsWltp</td>\n",
       "      <td id=\"T_e9c53_row7_col1\" class=\"data row7 col1\" >0.00%</td>\n",
       "    </tr>\n",
       "    <tr>\n",
       "      <th id=\"T_e9c53_level0_row8\" class=\"row_heading level0 row8\" >8</th>\n",
       "      <td id=\"T_e9c53_row8_col0\" class=\"data row8 col0\" >MassRunningOrder</td>\n",
       "      <td id=\"T_e9c53_row8_col1\" class=\"data row8 col1\" >0.00%</td>\n",
       "    </tr>\n",
       "    <tr>\n",
       "      <th id=\"T_e9c53_level0_row9\" class=\"row_heading level0 row9\" >9</th>\n",
       "      <td id=\"T_e9c53_row9_col0\" class=\"data row9 col0\" >ManufNameOem</td>\n",
       "      <td id=\"T_e9c53_row9_col1\" class=\"data row9 col1\" >0.00%</td>\n",
       "    </tr>\n",
       "    <tr>\n",
       "      <th id=\"T_e9c53_level0_row10\" class=\"row_heading level0 row10\" >10</th>\n",
       "      <td id=\"T_e9c53_row10_col0\" class=\"data row10 col0\" >ManufacturerName</td>\n",
       "      <td id=\"T_e9c53_row10_col1\" class=\"data row10 col1\" >0.00%</td>\n",
       "    </tr>\n",
       "    <tr>\n",
       "      <th id=\"T_e9c53_level0_row11\" class=\"row_heading level0 row11\" >11</th>\n",
       "      <td id=\"T_e9c53_row11_col0\" class=\"data row11 col0\" >EnginePower</td>\n",
       "      <td id=\"T_e9c53_row11_col1\" class=\"data row11 col1\" >0.00%</td>\n",
       "    </tr>\n",
       "    <tr>\n",
       "      <th id=\"T_e9c53_level0_row12\" class=\"row_heading level0 row12\" >12</th>\n",
       "      <td id=\"T_e9c53_row12_col0\" class=\"data row12 col0\" >FuelType</td>\n",
       "      <td id=\"T_e9c53_row12_col1\" class=\"data row12 col1\" >0.00%</td>\n",
       "    </tr>\n",
       "    <tr>\n",
       "      <th id=\"T_e9c53_level0_row13\" class=\"row_heading level0 row13\" >13</th>\n",
       "      <td id=\"T_e9c53_row13_col0\" class=\"data row13 col0\" >EngineCapacity</td>\n",
       "      <td id=\"T_e9c53_row13_col1\" class=\"data row13 col1\" >0.00%</td>\n",
       "    </tr>\n",
       "  </tbody>\n",
       "</table>\n"
      ],
      "text/plain": [
       "<pandas.io.formats.style.Styler at 0x7f9c18d076a0>"
      ]
     },
     "execution_count": 27,
     "metadata": {},
     "output_type": "execute_result"
    }
   ],
   "source": [
    "co2.styles.display_na(df)"
   ]
  },
  {
   "cell_type": "code",
   "execution_count": 28,
   "metadata": {},
   "outputs": [
    {
     "ename": "ValueError",
     "evalue": "Cannot take a larger sample than population when 'replace=False'",
     "output_type": "error",
     "traceback": [
      "\u001b[0;31m---------------------------------------------------------------------------\u001b[0m",
      "\u001b[0;31mValueError\u001b[0m                                Traceback (most recent call last)",
      "Cell \u001b[0;32mIn[28], line 1\u001b[0m\n\u001b[0;32m----> 1\u001b[0m \u001b[43mco2\u001b[49m\u001b[38;5;241;43m.\u001b[39;49m\u001b[43mviz\u001b[49m\u001b[38;5;241;43m.\u001b[39;49m\u001b[43mplot_qqplots\u001b[49m\u001b[43m(\u001b[49m\u001b[43mdf\u001b[49m\u001b[43m,\u001b[49m\u001b[43m \u001b[49m\u001b[43minteractive\u001b[49m\u001b[38;5;241;43m=\u001b[39;49m\u001b[38;5;28;43;01mFalse\u001b[39;49;00m\u001b[43m)\u001b[49m\n",
      "File \u001b[0;32m~/GIT/car-co2-prediction_pre-release/src/auto_co2/viz.py:278\u001b[0m, in \u001b[0;36mplot_qqplots\u001b[0;34m(df, interactive, filename, format)\u001b[0m\n\u001b[1;32m    277\u001b[0m \u001b[38;5;28;01mdef\u001b[39;00m \u001b[38;5;21mplot_qqplots\u001b[39m(df:pd\u001b[38;5;241m.\u001b[39mDataFrame, interactive\u001b[38;5;241m=\u001b[39m\u001b[38;5;28;01mTrue\u001b[39;00m, filename\u001b[38;5;241m=\u001b[39m\u001b[38;5;28;01mNone\u001b[39;00m, \u001b[38;5;28mformat\u001b[39m\u001b[38;5;241m=\u001b[39m\u001b[38;5;124m'\u001b[39m\u001b[38;5;124mhtml\u001b[39m\u001b[38;5;124m'\u001b[39m):\n\u001b[0;32m--> 278\u001b[0m     df_sample \u001b[38;5;241m=\u001b[39m \u001b[43mdf\u001b[49m\u001b[38;5;241;43m.\u001b[39;49m\u001b[43mselect_dtypes\u001b[49m\u001b[43m(\u001b[49m\u001b[43minclude\u001b[49m\u001b[38;5;241;43m=\u001b[39;49m\u001b[43m[\u001b[49m\u001b[43mnp\u001b[49m\u001b[38;5;241;43m.\u001b[39;49m\u001b[43mnumber\u001b[49m\u001b[43m]\u001b[49m\u001b[43m)\u001b[49m\u001b[38;5;241;43m.\u001b[39;49m\u001b[43msample\u001b[49m\u001b[43m(\u001b[49m\u001b[43mn\u001b[49m\u001b[38;5;241;43m=\u001b[39;49m\u001b[38;5;241;43m10000\u001b[39;49m\u001b[43m,\u001b[49m\u001b[43m \u001b[49m\u001b[43mrandom_state\u001b[49m\u001b[38;5;241;43m=\u001b[39;49m\u001b[38;5;241;43m1\u001b[39;49m\u001b[43m)\u001b[49m\n\u001b[1;32m    280\u001b[0m     \u001b[38;5;66;03m# Create a subplot with 2 rows and 2 columns\u001b[39;00m\n\u001b[1;32m    281\u001b[0m     fig \u001b[38;5;241m=\u001b[39m make_subplots(rows\u001b[38;5;241m=\u001b[39m\u001b[38;5;241m4\u001b[39m, cols\u001b[38;5;241m=\u001b[39m\u001b[38;5;241m2\u001b[39m)\n",
      "File \u001b[0;32m~/miniconda3/envs/co2/lib/python3.9/site-packages/pandas/core/generic.py:6029\u001b[0m, in \u001b[0;36mNDFrame.sample\u001b[0;34m(self, n, frac, replace, weights, random_state, axis, ignore_index)\u001b[0m\n\u001b[1;32m   6026\u001b[0m \u001b[38;5;28;01mif\u001b[39;00m weights \u001b[38;5;129;01mis\u001b[39;00m \u001b[38;5;129;01mnot\u001b[39;00m \u001b[38;5;28;01mNone\u001b[39;00m:\n\u001b[1;32m   6027\u001b[0m     weights \u001b[38;5;241m=\u001b[39m sample\u001b[38;5;241m.\u001b[39mpreprocess_weights(\u001b[38;5;28mself\u001b[39m, weights, axis)\n\u001b[0;32m-> 6029\u001b[0m sampled_indices \u001b[38;5;241m=\u001b[39m \u001b[43msample\u001b[49m\u001b[38;5;241;43m.\u001b[39;49m\u001b[43msample\u001b[49m\u001b[43m(\u001b[49m\u001b[43mobj_len\u001b[49m\u001b[43m,\u001b[49m\u001b[43m \u001b[49m\u001b[43msize\u001b[49m\u001b[43m,\u001b[49m\u001b[43m \u001b[49m\u001b[43mreplace\u001b[49m\u001b[43m,\u001b[49m\u001b[43m \u001b[49m\u001b[43mweights\u001b[49m\u001b[43m,\u001b[49m\u001b[43m \u001b[49m\u001b[43mrs\u001b[49m\u001b[43m)\u001b[49m\n\u001b[1;32m   6030\u001b[0m result \u001b[38;5;241m=\u001b[39m \u001b[38;5;28mself\u001b[39m\u001b[38;5;241m.\u001b[39mtake(sampled_indices, axis\u001b[38;5;241m=\u001b[39maxis)\n\u001b[1;32m   6032\u001b[0m \u001b[38;5;28;01mif\u001b[39;00m ignore_index:\n",
      "File \u001b[0;32m~/miniconda3/envs/co2/lib/python3.9/site-packages/pandas/core/sample.py:152\u001b[0m, in \u001b[0;36msample\u001b[0;34m(obj_len, size, replace, weights, random_state)\u001b[0m\n\u001b[1;32m    149\u001b[0m     \u001b[38;5;28;01melse\u001b[39;00m:\n\u001b[1;32m    150\u001b[0m         \u001b[38;5;28;01mraise\u001b[39;00m \u001b[38;5;167;01mValueError\u001b[39;00m(\u001b[38;5;124m\"\u001b[39m\u001b[38;5;124mInvalid weights: weights sum to zero\u001b[39m\u001b[38;5;124m\"\u001b[39m)\n\u001b[0;32m--> 152\u001b[0m \u001b[38;5;28;01mreturn\u001b[39;00m \u001b[43mrandom_state\u001b[49m\u001b[38;5;241;43m.\u001b[39;49m\u001b[43mchoice\u001b[49m\u001b[43m(\u001b[49m\u001b[43mobj_len\u001b[49m\u001b[43m,\u001b[49m\u001b[43m \u001b[49m\u001b[43msize\u001b[49m\u001b[38;5;241;43m=\u001b[39;49m\u001b[43msize\u001b[49m\u001b[43m,\u001b[49m\u001b[43m \u001b[49m\u001b[43mreplace\u001b[49m\u001b[38;5;241;43m=\u001b[39;49m\u001b[43mreplace\u001b[49m\u001b[43m,\u001b[49m\u001b[43m \u001b[49m\u001b[43mp\u001b[49m\u001b[38;5;241;43m=\u001b[39;49m\u001b[43mweights\u001b[49m\u001b[43m)\u001b[49m\u001b[38;5;241m.\u001b[39mastype(\n\u001b[1;32m    153\u001b[0m     np\u001b[38;5;241m.\u001b[39mintp, copy\u001b[38;5;241m=\u001b[39m\u001b[38;5;28;01mFalse\u001b[39;00m\n\u001b[1;32m    154\u001b[0m )\n",
      "File \u001b[0;32mnumpy/random/mtrand.pyx:1001\u001b[0m, in \u001b[0;36mnumpy.random.mtrand.RandomState.choice\u001b[0;34m()\u001b[0m\n",
      "\u001b[0;31mValueError\u001b[0m: Cannot take a larger sample than population when 'replace=False'"
     ]
    }
   ],
   "source": [
    "co2.viz.plot_qqplots(df, interactive=False)"
   ]
  },
  {
   "cell_type": "code",
   "execution_count": null,
   "metadata": {},
   "outputs": [
    {
     "data": {
      "image/png": "[encoded data removed]",
      "text/plain": [
       "<Figure size 1500x1500 with 9 Axes>"
      ]
     },
     "metadata": {},
     "output_type": "display_data"
    }
   ],
   "source": [
    "import statsmodels.api as sm\n",
    "import matplotlib.pyplot as plt\n",
    "import seaborn as sns\n",
    "#sm.dislot(echantillon, fit=True, line='45')\n",
    "fig, axes = plt.subplots(3,3, figsize=(15,15))\n",
    "axes = axes.flatten()\n",
    "\n",
    "for i, col in enumerate(['MassRunningOrder', 'Co2EmissionsWltp', 'EngineCapacity', 'EnginePower', 'InnovativeEmissionsReductionWltp', 'FuelConsumption', 'ElectricRange']):\n",
    "  ax = axes[i]\n",
    "  sns.histplot(x=df[col], bins=40, color='b',alpha=0.5, ax=ax)\n",
    "  ax.set_title(col)\n",
    "# plt.xlim(0, 250)"
   ]
  },
  {
   "cell_type": "code",
   "execution_count": null,
   "metadata": {},
   "outputs": [
    {
     "data": {
      "image/png": "[encoded data removed]",
      "text/plain": [
       "<IPython.core.display.Image object>"
      ]
     },
     "metadata": {},
     "output_type": "display_data"
    }
   ],
   "source": [
    "co2.viz.plot_feature_distributions(df, interactive=False)"
   ]
  },
  {
   "cell_type": "markdown",
   "metadata": {},
   "source": []
  },
  {
   "cell_type": "code",
   "execution_count": null,
   "metadata": {},
   "outputs": [],
   "source": [
    "def electricrange_discretization(df, to_dummies=False):\n",
    "    df['ElectricRange'].fillna(0, inplace=True)\n",
    "\n",
    "    bins = [-float('inf'),0,50,100,150,300]\n",
    "    labels = ['NO_RANGE', '0to50', '50to100', '100to150', '150+']\n",
    "    df['ElectricRange'] = pd.cut(df['ElectricRange'], bins=bins, labels=labels)\n",
    "\n",
    "    if to_dummies:\n",
    "        df = df.join(pd.get_dummies(data=df['ElectricRange'], dtype=int, prefix='ElecRange'))\n",
    "        df.drop('ElectricRange', axis=1, inplace=True)\n",
    "    \n",
    "    return df"
   ]
  }
 ],
 "metadata": {
  "kernelspec": {
   "display_name": "co2",
   "language": "python",
   "name": "python3"
  },
  "language_info": {
   "codemirror_mode": {
    "name": "ipython",
    "version": 3
   },
   "file_extension": ".py",
   "mimetype": "text/x-python",
   "name": "python",
   "nbconvert_exporter": "python",
   "pygments_lexer": "ipython3",
   "version": "3.9.18"
  }
 },
 "nbformat": 4,
 "nbformat_minor": 2
}

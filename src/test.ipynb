{
 "cells": [
  {
   "cell_type": "code",
   "execution_count": 1,
   "metadata": {},
   "outputs": [
    {
     "name": "stdout",
     "output_type": "stream",
     "text": [
      "Warning: Your Kaggle API key is readable by other users on this system! To fix this, you can run 'chmod 600 /home/mln/.kaggle/kaggle.json'\n"
     ]
    },
    {
     "data": {
      "text/plain": [
       "<module 'auto_co2' from '/home/mln/GIT/car-co2-prediction_pre-release/src/auto_co2/__init__.py'>"
      ]
     },
     "execution_count": 1,
     "metadata": {},
     "output_type": "execute_result"
    }
   ],
   "source": [
    "import pandas as pd\n",
    "import kaggle\n",
    "import auto_co2 as co2\n",
    "import importlib\n",
    "importlib.reload(co2)"
   ]
  },
  {
   "cell_type": "markdown",
   "metadata": {},
   "source": [
    "\n",
    "\n",
    "auth_file_path = '/home/mln/.kaggle/kaggle.json'\n",
    "filename = 'test.csv'  # replace with the actual name of the csv file in the zip\n",
    "\n",
    "df = co2.download_and_load_co2_data(auth_file_path)\n",
    "df.head()"
   ]
  },
  {
   "cell_type": "markdown",
   "metadata": {},
   "source": [
    "sample = df.sample(1000)\n",
    "sample.to_csv('data/sample.csv', index=False)"
   ]
  },
  {
   "cell_type": "markdown",
   "metadata": {},
   "source": [
    "df = co2.data.load_co2_data()"
   ]
  },
  {
   "cell_type": "code",
   "execution_count": 2,
   "metadata": {},
   "outputs": [],
   "source": [
    "df = pd.read_csv('data/sample.csv')"
   ]
  },
  {
   "cell_type": "code",
   "execution_count": 3,
   "metadata": {},
   "outputs": [],
   "source": [
    "df = co2.data.select_countries(df, ['FR'])"
   ]
  },
  {
   "cell_type": "code",
   "execution_count": 4,
   "metadata": {},
   "outputs": [
    {
     "data": {
      "text/html": [
       "<style type=\"text/css\">\n",
       "#T_5b7d0 th {\n",
       "  background-color: steelblue;\n",
       "  color: white;\n",
       "}\n",
       "#T_5b7d0 tr:nth-of-type(odd) {\n",
       "  background-color: aliceblue;\n",
       "}\n",
       "#T_5b7d0 tr:nth-of-type(even) {\n",
       "  background-color: white;\n",
       "}\n",
       "</style>\n",
       "<table id=\"T_5b7d0\">\n",
       "  <thead>\n",
       "    <tr>\n",
       "      <th class=\"blank level0\" >&nbsp;</th>\n",
       "      <th id=\"T_5b7d0_level0_col0\" class=\"col_heading level0 col0\" >ID</th>\n",
       "      <th id=\"T_5b7d0_level0_col1\" class=\"col_heading level0 col1\" >Country</th>\n",
       "      <th id=\"T_5b7d0_level0_col2\" class=\"col_heading level0 col2\" >VehicleFamilyIdentification</th>\n",
       "      <th id=\"T_5b7d0_level0_col3\" class=\"col_heading level0 col3\" >Pool</th>\n",
       "      <th id=\"T_5b7d0_level0_col4\" class=\"col_heading level0 col4\" >ManufacturerName</th>\n",
       "      <th id=\"T_5b7d0_level0_col5\" class=\"col_heading level0 col5\" >ManufNameOem</th>\n",
       "      <th id=\"T_5b7d0_level0_col6\" class=\"col_heading level0 col6\" >ManufNameMS</th>\n",
       "      <th id=\"T_5b7d0_level0_col7\" class=\"col_heading level0 col7\" >TypeApprovalNumber</th>\n",
       "      <th id=\"T_5b7d0_level0_col8\" class=\"col_heading level0 col8\" >Type</th>\n",
       "      <th id=\"T_5b7d0_level0_col9\" class=\"col_heading level0 col9\" >Variant</th>\n",
       "      <th id=\"T_5b7d0_level0_col10\" class=\"col_heading level0 col10\" >Version</th>\n",
       "      <th id=\"T_5b7d0_level0_col11\" class=\"col_heading level0 col11\" >Make</th>\n",
       "      <th id=\"T_5b7d0_level0_col12\" class=\"col_heading level0 col12\" >CommercialName</th>\n",
       "      <th id=\"T_5b7d0_level0_col13\" class=\"col_heading level0 col13\" >VehicleCategory</th>\n",
       "      <th id=\"T_5b7d0_level0_col14\" class=\"col_heading level0 col14\" >CategoryOf</th>\n",
       "      <th id=\"T_5b7d0_level0_col15\" class=\"col_heading level0 col15\" >TotalNewRegistrations</th>\n",
       "      <th id=\"T_5b7d0_level0_col16\" class=\"col_heading level0 col16\" >MassRunningOrder</th>\n",
       "      <th id=\"T_5b7d0_level0_col17\" class=\"col_heading level0 col17\" >WltpTestMass</th>\n",
       "      <th id=\"T_5b7d0_level0_col18\" class=\"col_heading level0 col18\" >Co2EmissionsNedc</th>\n",
       "      <th id=\"T_5b7d0_level0_col19\" class=\"col_heading level0 col19\" >Co2EmissionsWltp</th>\n",
       "      <th id=\"T_5b7d0_level0_col20\" class=\"col_heading level0 col20\" >BaseWheel</th>\n",
       "      <th id=\"T_5b7d0_level0_col21\" class=\"col_heading level0 col21\" >AxleWidthSteering</th>\n",
       "      <th id=\"T_5b7d0_level0_col22\" class=\"col_heading level0 col22\" >AxleWidthOther</th>\n",
       "      <th id=\"T_5b7d0_level0_col23\" class=\"col_heading level0 col23\" >FuelType</th>\n",
       "      <th id=\"T_5b7d0_level0_col24\" class=\"col_heading level0 col24\" >FuelMode</th>\n",
       "      <th id=\"T_5b7d0_level0_col25\" class=\"col_heading level0 col25\" >EngineCapacity</th>\n",
       "      <th id=\"T_5b7d0_level0_col26\" class=\"col_heading level0 col26\" >EnginePower</th>\n",
       "      <th id=\"T_5b7d0_level0_col27\" class=\"col_heading level0 col27\" >ElectricConsumption</th>\n",
       "      <th id=\"T_5b7d0_level0_col28\" class=\"col_heading level0 col28\" >InnovativeTechnology</th>\n",
       "      <th id=\"T_5b7d0_level0_col29\" class=\"col_heading level0 col29\" >InnovativeEmissionsReduction</th>\n",
       "      <th id=\"T_5b7d0_level0_col30\" class=\"col_heading level0 col30\" >InnovativeEmissionsReductionWltp</th>\n",
       "      <th id=\"T_5b7d0_level0_col31\" class=\"col_heading level0 col31\" >DeviationFactor</th>\n",
       "      <th id=\"T_5b7d0_level0_col32\" class=\"col_heading level0 col32\" >VerificationFactor</th>\n",
       "      <th id=\"T_5b7d0_level0_col33\" class=\"col_heading level0 col33\" >Status</th>\n",
       "      <th id=\"T_5b7d0_level0_col34\" class=\"col_heading level0 col34\" >RegistrationYear</th>\n",
       "      <th id=\"T_5b7d0_level0_col35\" class=\"col_heading level0 col35\" >RegistrationDate</th>\n",
       "      <th id=\"T_5b7d0_level0_col36\" class=\"col_heading level0 col36\" >FuelConsumption</th>\n",
       "      <th id=\"T_5b7d0_level0_col37\" class=\"col_heading level0 col37\" >ElectricRange</th>\n",
       "    </tr>\n",
       "  </thead>\n",
       "  <tbody>\n",
       "    <tr>\n",
       "      <th id=\"T_5b7d0_level0_row0\" class=\"row_heading level0 row0\" >0</th>\n",
       "      <td id=\"T_5b7d0_row0_col0\" class=\"data row0 col0\" >54928154</td>\n",
       "      <td id=\"T_5b7d0_row0_col1\" class=\"data row0 col1\" >FR</td>\n",
       "      <td id=\"T_5b7d0_row0_col2\" class=\"data row0 col2\" >IP-ZKX____REDU5761-VR3-0</td>\n",
       "      <td id=\"T_5b7d0_row0_col3\" class=\"data row0 col3\" >STELLANTIS</td>\n",
       "      <td id=\"T_5b7d0_row0_col4\" class=\"data row0 col4\" >PSA</td>\n",
       "      <td id=\"T_5b7d0_row0_col5\" class=\"data row0 col5\" >PSA AUTOMOBILES SA</td>\n",
       "      <td id=\"T_5b7d0_row0_col6\" class=\"data row0 col6\" >nan</td>\n",
       "      <td id=\"T_5b7d0_row0_col7\" class=\"data row0 col7\" >E2*2007/46*0639*12</td>\n",
       "      <td id=\"T_5b7d0_row0_col8\" class=\"data row0 col8\" >U</td>\n",
       "      <td id=\"T_5b7d0_row0_col9\" class=\"data row0 col9\" >H</td>\n",
       "      <td id=\"T_5b7d0_row0_col10\" class=\"data row0 col10\" >ZKXZ-J0A000</td>\n",
       "      <td id=\"T_5b7d0_row0_col11\" class=\"data row0 col11\" >PEUGEOT</td>\n",
       "      <td id=\"T_5b7d0_row0_col12\" class=\"data row0 col12\" >208</td>\n",
       "      <td id=\"T_5b7d0_row0_col13\" class=\"data row0 col13\" >M1</td>\n",
       "      <td id=\"T_5b7d0_row0_col14\" class=\"data row0 col14\" >M1</td>\n",
       "      <td id=\"T_5b7d0_row0_col15\" class=\"data row0 col15\" >1</td>\n",
       "      <td id=\"T_5b7d0_row0_col16\" class=\"data row0 col16\" >1530.000</td>\n",
       "      <td id=\"T_5b7d0_row0_col17\" class=\"data row0 col17\" >1613.000</td>\n",
       "      <td id=\"T_5b7d0_row0_col18\" class=\"data row0 col18\" >0.000</td>\n",
       "      <td id=\"T_5b7d0_row0_col19\" class=\"data row0 col19\" >0.000</td>\n",
       "      <td id=\"T_5b7d0_row0_col20\" class=\"data row0 col20\" >2540.000</td>\n",
       "      <td id=\"T_5b7d0_row0_col21\" class=\"data row0 col21\" >1500.000</td>\n",
       "      <td id=\"T_5b7d0_row0_col22\" class=\"data row0 col22\" >1500.000</td>\n",
       "      <td id=\"T_5b7d0_row0_col23\" class=\"data row0 col23\" >ELECTRIC</td>\n",
       "      <td id=\"T_5b7d0_row0_col24\" class=\"data row0 col24\" >E</td>\n",
       "      <td id=\"T_5b7d0_row0_col25\" class=\"data row0 col25\" >nan</td>\n",
       "      <td id=\"T_5b7d0_row0_col26\" class=\"data row0 col26\" >57.000</td>\n",
       "      <td id=\"T_5b7d0_row0_col27\" class=\"data row0 col27\" >163.000</td>\n",
       "      <td id=\"T_5b7d0_row0_col28\" class=\"data row0 col28\" >nan</td>\n",
       "      <td id=\"T_5b7d0_row0_col29\" class=\"data row0 col29\" >nan</td>\n",
       "      <td id=\"T_5b7d0_row0_col30\" class=\"data row0 col30\" >nan</td>\n",
       "      <td id=\"T_5b7d0_row0_col31\" class=\"data row0 col31\" >nan</td>\n",
       "      <td id=\"T_5b7d0_row0_col32\" class=\"data row0 col32\" >nan</td>\n",
       "      <td id=\"T_5b7d0_row0_col33\" class=\"data row0 col33\" >P</td>\n",
       "      <td id=\"T_5b7d0_row0_col34\" class=\"data row0 col34\" >2021</td>\n",
       "      <td id=\"T_5b7d0_row0_col35\" class=\"data row0 col35\" >2021-07-02</td>\n",
       "      <td id=\"T_5b7d0_row0_col36\" class=\"data row0 col36\" >nan</td>\n",
       "      <td id=\"T_5b7d0_row0_col37\" class=\"data row0 col37\" >340.000</td>\n",
       "    </tr>\n",
       "    <tr>\n",
       "      <th id=\"T_5b7d0_level0_row1\" class=\"row_heading level0 row1\" >1</th>\n",
       "      <td id=\"T_5b7d0_row1_col0\" class=\"data row1 col0\" >55417591</td>\n",
       "      <td id=\"T_5b7d0_row1_col1\" class=\"data row1 col1\" >FR</td>\n",
       "      <td id=\"T_5b7d0_row1_col2\" class=\"data row1 col2\" >IP-MQB37AZ_B0_0913-WVW-1</td>\n",
       "      <td id=\"T_5b7d0_row1_col3\" class=\"data row1 col3\" >VW-SAIC</td>\n",
       "      <td id=\"T_5b7d0_row1_col4\" class=\"data row1 col4\" >VOLKSWAGEN</td>\n",
       "      <td id=\"T_5b7d0_row1_col5\" class=\"data row1 col5\" >VOLKSWAGEN AG</td>\n",
       "      <td id=\"T_5b7d0_row1_col6\" class=\"data row1 col6\" >nan</td>\n",
       "      <td id=\"T_5b7d0_row1_col7\" class=\"data row1 col7\" >E1*2001/116*0450*59</td>\n",
       "      <td id=\"T_5b7d0_row1_col8\" class=\"data row1 col8\" >5N</td>\n",
       "      <td id=\"T_5b7d0_row1_col9\" class=\"data row1 col9\" >ACDGEAX0</td>\n",
       "      <td id=\"T_5b7d0_row1_col10\" class=\"data row1 col10\" >FD6FD6DD002N5T6NVR24BI1BSB0M10S</td>\n",
       "      <td id=\"T_5b7d0_row1_col11\" class=\"data row1 col11\" >VOLKSWAGEN</td>\n",
       "      <td id=\"T_5b7d0_row1_col12\" class=\"data row1 col12\" >TIGUAN</td>\n",
       "      <td id=\"T_5b7d0_row1_col13\" class=\"data row1 col13\" >M1</td>\n",
       "      <td id=\"T_5b7d0_row1_col14\" class=\"data row1 col14\" >M1</td>\n",
       "      <td id=\"T_5b7d0_row1_col15\" class=\"data row1 col15\" >1</td>\n",
       "      <td id=\"T_5b7d0_row1_col16\" class=\"data row1 col16\" >1819.000</td>\n",
       "      <td id=\"T_5b7d0_row1_col17\" class=\"data row1 col17\" >2027.000</td>\n",
       "      <td id=\"T_5b7d0_row1_col18\" class=\"data row1 col18\" >nan</td>\n",
       "      <td id=\"T_5b7d0_row1_col19\" class=\"data row1 col19\" >43.000</td>\n",
       "      <td id=\"T_5b7d0_row1_col20\" class=\"data row1 col20\" >2680.000</td>\n",
       "      <td id=\"T_5b7d0_row1_col21\" class=\"data row1 col21\" >1576.000</td>\n",
       "      <td id=\"T_5b7d0_row1_col22\" class=\"data row1 col22\" >1567.000</td>\n",
       "      <td id=\"T_5b7d0_row1_col23\" class=\"data row1 col23\" >PETROL/ELECTRIC</td>\n",
       "      <td id=\"T_5b7d0_row1_col24\" class=\"data row1 col24\" >P</td>\n",
       "      <td id=\"T_5b7d0_row1_col25\" class=\"data row1 col25\" >1395.000</td>\n",
       "      <td id=\"T_5b7d0_row1_col26\" class=\"data row1 col26\" >110.000</td>\n",
       "      <td id=\"T_5b7d0_row1_col27\" class=\"data row1 col27\" >169.000</td>\n",
       "      <td id=\"T_5b7d0_row1_col28\" class=\"data row1 col28\" >nan</td>\n",
       "      <td id=\"T_5b7d0_row1_col29\" class=\"data row1 col29\" >nan</td>\n",
       "      <td id=\"T_5b7d0_row1_col30\" class=\"data row1 col30\" >nan</td>\n",
       "      <td id=\"T_5b7d0_row1_col31\" class=\"data row1 col31\" >nan</td>\n",
       "      <td id=\"T_5b7d0_row1_col32\" class=\"data row1 col32\" >nan</td>\n",
       "      <td id=\"T_5b7d0_row1_col33\" class=\"data row1 col33\" >P</td>\n",
       "      <td id=\"T_5b7d0_row1_col34\" class=\"data row1 col34\" >2021</td>\n",
       "      <td id=\"T_5b7d0_row1_col35\" class=\"data row1 col35\" >2021-11-25</td>\n",
       "      <td id=\"T_5b7d0_row1_col36\" class=\"data row1 col36\" >1.800</td>\n",
       "      <td id=\"T_5b7d0_row1_col37\" class=\"data row1 col37\" >47.000</td>\n",
       "    </tr>\n",
       "    <tr>\n",
       "      <th id=\"T_5b7d0_level0_row2\" class=\"row_heading level0 row2\" >2</th>\n",
       "      <td id=\"T_5b7d0_row2_col0\" class=\"data row2 col0\" >54605071</td>\n",
       "      <td id=\"T_5b7d0_row2_col1\" class=\"data row2 col1\" >FR</td>\n",
       "      <td id=\"T_5b7d0_row2_col2\" class=\"data row2 col2\" >IP-YHZ____ATN83143-VF3-0</td>\n",
       "      <td id=\"T_5b7d0_row2_col3\" class=\"data row2 col3\" >STELLANTIS</td>\n",
       "      <td id=\"T_5b7d0_row2_col4\" class=\"data row2 col4\" >AUTOMOBILES PEUGEOT</td>\n",
       "      <td id=\"T_5b7d0_row2_col5\" class=\"data row2 col5\" >AUTOMOBILES PEUGEOT</td>\n",
       "      <td id=\"T_5b7d0_row2_col6\" class=\"data row2 col6\" >nan</td>\n",
       "      <td id=\"T_5b7d0_row2_col7\" class=\"data row2 col7\" >E2*2007/46*0534*18</td>\n",
       "      <td id=\"T_5b7d0_row2_col8\" class=\"data row2 col8\" >M</td>\n",
       "      <td id=\"T_5b7d0_row2_col9\" class=\"data row2 col9\" >C</td>\n",
       "      <td id=\"T_5b7d0_row2_col10\" class=\"data row2 col10\" >YHZU-C2PF00</td>\n",
       "      <td id=\"T_5b7d0_row2_col11\" class=\"data row2 col11\" >PEUGEOT</td>\n",
       "      <td id=\"T_5b7d0_row2_col12\" class=\"data row2 col12\" >3008</td>\n",
       "      <td id=\"T_5b7d0_row2_col13\" class=\"data row2 col13\" >M1</td>\n",
       "      <td id=\"T_5b7d0_row2_col14\" class=\"data row2 col14\" >M1</td>\n",
       "      <td id=\"T_5b7d0_row2_col15\" class=\"data row2 col15\" >1</td>\n",
       "      <td id=\"T_5b7d0_row2_col16\" class=\"data row2 col16\" >1504.000</td>\n",
       "      <td id=\"T_5b7d0_row2_col17\" class=\"data row2 col17\" >1590.000</td>\n",
       "      <td id=\"T_5b7d0_row2_col18\" class=\"data row2 col18\" >nan</td>\n",
       "      <td id=\"T_5b7d0_row2_col19\" class=\"data row2 col19\" >135.000</td>\n",
       "      <td id=\"T_5b7d0_row2_col20\" class=\"data row2 col20\" >2675.000</td>\n",
       "      <td id=\"T_5b7d0_row2_col21\" class=\"data row2 col21\" >1601.000</td>\n",
       "      <td id=\"T_5b7d0_row2_col22\" class=\"data row2 col22\" >1610.000</td>\n",
       "      <td id=\"T_5b7d0_row2_col23\" class=\"data row2 col23\" >DIESEL</td>\n",
       "      <td id=\"T_5b7d0_row2_col24\" class=\"data row2 col24\" >M</td>\n",
       "      <td id=\"T_5b7d0_row2_col25\" class=\"data row2 col25\" >1499.000</td>\n",
       "      <td id=\"T_5b7d0_row2_col26\" class=\"data row2 col26\" >96.000</td>\n",
       "      <td id=\"T_5b7d0_row2_col27\" class=\"data row2 col27\" >nan</td>\n",
       "      <td id=\"T_5b7d0_row2_col28\" class=\"data row2 col28\" >e2 28 29</td>\n",
       "      <td id=\"T_5b7d0_row2_col29\" class=\"data row2 col29\" >nan</td>\n",
       "      <td id=\"T_5b7d0_row2_col30\" class=\"data row2 col30\" >1.600</td>\n",
       "      <td id=\"T_5b7d0_row2_col31\" class=\"data row2 col31\" >nan</td>\n",
       "      <td id=\"T_5b7d0_row2_col32\" class=\"data row2 col32\" >nan</td>\n",
       "      <td id=\"T_5b7d0_row2_col33\" class=\"data row2 col33\" >P</td>\n",
       "      <td id=\"T_5b7d0_row2_col34\" class=\"data row2 col34\" >2021</td>\n",
       "      <td id=\"T_5b7d0_row2_col35\" class=\"data row2 col35\" >2021-09-22</td>\n",
       "      <td id=\"T_5b7d0_row2_col36\" class=\"data row2 col36\" >5.100</td>\n",
       "      <td id=\"T_5b7d0_row2_col37\" class=\"data row2 col37\" >nan</td>\n",
       "    </tr>\n",
       "    <tr>\n",
       "      <th id=\"T_5b7d0_level0_row3\" class=\"row_heading level0 row3\" >3</th>\n",
       "      <td id=\"T_5b7d0_row3_col0\" class=\"data row3 col0\" >54710048</td>\n",
       "      <td id=\"T_5b7d0_row3_col1\" class=\"data row3 col1\" >FR</td>\n",
       "      <td id=\"T_5b7d0_row3_col2\" class=\"data row3 col2\" >IP-HMR____MA5_1315-VF7-0</td>\n",
       "      <td id=\"T_5b7d0_row3_col3\" class=\"data row3 col3\" >STELLANTIS</td>\n",
       "      <td id=\"T_5b7d0_row3_col4\" class=\"data row3 col4\" >AUTOMOBILES CITROEN</td>\n",
       "      <td id=\"T_5b7d0_row3_col5\" class=\"data row3 col5\" >AUTOMOBILES CITROEN</td>\n",
       "      <td id=\"T_5b7d0_row3_col6\" class=\"data row3 col6\" >nan</td>\n",
       "      <td id=\"T_5b7d0_row3_col7\" class=\"data row3 col7\" >E2*2007/46*0003*63</td>\n",
       "      <td id=\"T_5b7d0_row3_col8\" class=\"data row3 col8\" >S</td>\n",
       "      <td id=\"T_5b7d0_row3_col9\" class=\"data row3 col9\" >XHMR</td>\n",
       "      <td id=\"T_5b7d0_row3_col10\" class=\"data row3 col10\" >V/AAXS</td>\n",
       "      <td id=\"T_5b7d0_row3_col11\" class=\"data row3 col11\" >CITROEN</td>\n",
       "      <td id=\"T_5b7d0_row3_col12\" class=\"data row3 col12\" >C3</td>\n",
       "      <td id=\"T_5b7d0_row3_col13\" class=\"data row3 col13\" >M1</td>\n",
       "      <td id=\"T_5b7d0_row3_col14\" class=\"data row3 col14\" >M1</td>\n",
       "      <td id=\"T_5b7d0_row3_col15\" class=\"data row3 col15\" >1</td>\n",
       "      <td id=\"T_5b7d0_row3_col16\" class=\"data row3 col16\" >1055.000</td>\n",
       "      <td id=\"T_5b7d0_row3_col17\" class=\"data row3 col17\" >1189.000</td>\n",
       "      <td id=\"T_5b7d0_row3_col18\" class=\"data row3 col18\" >nan</td>\n",
       "      <td id=\"T_5b7d0_row3_col19\" class=\"data row3 col19\" >123.000</td>\n",
       "      <td id=\"T_5b7d0_row3_col20\" class=\"data row3 col20\" >2539.000</td>\n",
       "      <td id=\"T_5b7d0_row3_col21\" class=\"data row3 col21\" >1483.000</td>\n",
       "      <td id=\"T_5b7d0_row3_col22\" class=\"data row3 col22\" >1480.000</td>\n",
       "      <td id=\"T_5b7d0_row3_col23\" class=\"data row3 col23\" >PETROL</td>\n",
       "      <td id=\"T_5b7d0_row3_col24\" class=\"data row3 col24\" >M</td>\n",
       "      <td id=\"T_5b7d0_row3_col25\" class=\"data row3 col25\" >1199.000</td>\n",
       "      <td id=\"T_5b7d0_row3_col26\" class=\"data row3 col26\" >61.000</td>\n",
       "      <td id=\"T_5b7d0_row3_col27\" class=\"data row3 col27\" >nan</td>\n",
       "      <td id=\"T_5b7d0_row3_col28\" class=\"data row3 col28\" >nan</td>\n",
       "      <td id=\"T_5b7d0_row3_col29\" class=\"data row3 col29\" >nan</td>\n",
       "      <td id=\"T_5b7d0_row3_col30\" class=\"data row3 col30\" >nan</td>\n",
       "      <td id=\"T_5b7d0_row3_col31\" class=\"data row3 col31\" >nan</td>\n",
       "      <td id=\"T_5b7d0_row3_col32\" class=\"data row3 col32\" >nan</td>\n",
       "      <td id=\"T_5b7d0_row3_col33\" class=\"data row3 col33\" >P</td>\n",
       "      <td id=\"T_5b7d0_row3_col34\" class=\"data row3 col34\" >2021</td>\n",
       "      <td id=\"T_5b7d0_row3_col35\" class=\"data row3 col35\" >2021-01-25</td>\n",
       "      <td id=\"T_5b7d0_row3_col36\" class=\"data row3 col36\" >nan</td>\n",
       "      <td id=\"T_5b7d0_row3_col37\" class=\"data row3 col37\" >nan</td>\n",
       "    </tr>\n",
       "    <tr>\n",
       "      <th id=\"T_5b7d0_level0_row4\" class=\"row_heading level0 row4\" >4</th>\n",
       "      <td id=\"T_5b7d0_row4_col0\" class=\"data row4 col0\" >54265414</td>\n",
       "      <td id=\"T_5b7d0_row4_col1\" class=\"data row4 col1\" >FR</td>\n",
       "      <td id=\"T_5b7d0_row4_col2\" class=\"data row4 col2\" >IP-JDA1MTGJT4B_000-VF1-1</td>\n",
       "      <td id=\"T_5b7d0_row4_col3\" class=\"data row4 col3\" >RENAULT-NISSAN-MITSUBISHI</td>\n",
       "      <td id=\"T_5b7d0_row4_col4\" class=\"data row4 col4\" >RENAULT</td>\n",
       "      <td id=\"T_5b7d0_row4_col5\" class=\"data row4 col5\" >RENAULT SAS</td>\n",
       "      <td id=\"T_5b7d0_row4_col6\" class=\"data row4 col6\" >nan</td>\n",
       "      <td id=\"T_5b7d0_row4_col7\" class=\"data row4 col7\" >E2*2001/116*0323*64</td>\n",
       "      <td id=\"T_5b7d0_row4_col8\" class=\"data row4 col8\" >SR</td>\n",
       "      <td id=\"T_5b7d0_row4_col9\" class=\"data row4 col9\" >DHE2</td>\n",
       "      <td id=\"T_5b7d0_row4_col10\" class=\"data row4 col10\" >MT6UB290M0EG</td>\n",
       "      <td id=\"T_5b7d0_row4_col11\" class=\"data row4 col11\" >DACIA</td>\n",
       "      <td id=\"T_5b7d0_row4_col12\" class=\"data row4 col12\" >DUSTER</td>\n",
       "      <td id=\"T_5b7d0_row4_col13\" class=\"data row4 col13\" >M1</td>\n",
       "      <td id=\"T_5b7d0_row4_col14\" class=\"data row4 col14\" >M1</td>\n",
       "      <td id=\"T_5b7d0_row4_col15\" class=\"data row4 col15\" >1</td>\n",
       "      <td id=\"T_5b7d0_row4_col16\" class=\"data row4 col16\" >1371.000</td>\n",
       "      <td id=\"T_5b7d0_row4_col17\" class=\"data row4 col17\" >1457.000</td>\n",
       "      <td id=\"T_5b7d0_row4_col18\" class=\"data row4 col18\" >nan</td>\n",
       "      <td id=\"T_5b7d0_row4_col19\" class=\"data row4 col19\" >127.000</td>\n",
       "      <td id=\"T_5b7d0_row4_col20\" class=\"data row4 col20\" >2673.000</td>\n",
       "      <td id=\"T_5b7d0_row4_col21\" class=\"data row4 col21\" >1563.000</td>\n",
       "      <td id=\"T_5b7d0_row4_col22\" class=\"data row4 col22\" >1570.000</td>\n",
       "      <td id=\"T_5b7d0_row4_col23\" class=\"data row4 col23\" >LPG</td>\n",
       "      <td id=\"T_5b7d0_row4_col24\" class=\"data row4 col24\" >B</td>\n",
       "      <td id=\"T_5b7d0_row4_col25\" class=\"data row4 col25\" >999.000</td>\n",
       "      <td id=\"T_5b7d0_row4_col26\" class=\"data row4 col26\" >74.000</td>\n",
       "      <td id=\"T_5b7d0_row4_col27\" class=\"data row4 col27\" >nan</td>\n",
       "      <td id=\"T_5b7d0_row4_col28\" class=\"data row4 col28\" >e9 37</td>\n",
       "      <td id=\"T_5b7d0_row4_col29\" class=\"data row4 col29\" >nan</td>\n",
       "      <td id=\"T_5b7d0_row4_col30\" class=\"data row4 col30\" >0.800</td>\n",
       "      <td id=\"T_5b7d0_row4_col31\" class=\"data row4 col31\" >nan</td>\n",
       "      <td id=\"T_5b7d0_row4_col32\" class=\"data row4 col32\" >nan</td>\n",
       "      <td id=\"T_5b7d0_row4_col33\" class=\"data row4 col33\" >P</td>\n",
       "      <td id=\"T_5b7d0_row4_col34\" class=\"data row4 col34\" >2021</td>\n",
       "      <td id=\"T_5b7d0_row4_col35\" class=\"data row4 col35\" >2021-09-15</td>\n",
       "      <td id=\"T_5b7d0_row4_col36\" class=\"data row4 col36\" >7.000</td>\n",
       "      <td id=\"T_5b7d0_row4_col37\" class=\"data row4 col37\" >nan</td>\n",
       "    </tr>\n",
       "    <tr>\n",
       "      <th id=\"T_5b7d0_level0_row5\" class=\"row_heading level0 row5\" >5</th>\n",
       "      <td id=\"T_5b7d0_row5_col0\" class=\"data row5 col0\" >54187320</td>\n",
       "      <td id=\"T_5b7d0_row5_col1\" class=\"data row5 col1\" >FR</td>\n",
       "      <td id=\"T_5b7d0_row5_col2\" class=\"data row5 col2\" >IP-JFB1M6PJT4A_000-UU1-0</td>\n",
       "      <td id=\"T_5b7d0_row5_col3\" class=\"data row5 col3\" >RENAULT-NISSAN-MITSUBISHI</td>\n",
       "      <td id=\"T_5b7d0_row5_col4\" class=\"data row5 col4\" >DACIA</td>\n",
       "      <td id=\"T_5b7d0_row5_col5\" class=\"data row5 col5\" >AUTOMOBILE DACIA SA</td>\n",
       "      <td id=\"T_5b7d0_row5_col6\" class=\"data row5 col6\" >nan</td>\n",
       "      <td id=\"T_5b7d0_row5_col7\" class=\"data row5 col7\" >E19*2007/46*0026*05</td>\n",
       "      <td id=\"T_5b7d0_row5_col8\" class=\"data row5 col8\" >DJF</td>\n",
       "      <td id=\"T_5b7d0_row5_col9\" class=\"data row5 col9\" >BEV</td>\n",
       "      <td id=\"T_5b7d0_row5_col10\" class=\"data row5 col10\" >M66UA23M5200</td>\n",
       "      <td id=\"T_5b7d0_row5_col11\" class=\"data row5 col11\" >DACIA</td>\n",
       "      <td id=\"T_5b7d0_row5_col12\" class=\"data row5 col12\" >SANDERO</td>\n",
       "      <td id=\"T_5b7d0_row5_col13\" class=\"data row5 col13\" >M1</td>\n",
       "      <td id=\"T_5b7d0_row5_col14\" class=\"data row5 col14\" >M1</td>\n",
       "      <td id=\"T_5b7d0_row5_col15\" class=\"data row5 col15\" >1</td>\n",
       "      <td id=\"T_5b7d0_row5_col16\" class=\"data row5 col16\" >1171.000</td>\n",
       "      <td id=\"T_5b7d0_row5_col17\" class=\"data row5 col17\" >1269.000</td>\n",
       "      <td id=\"T_5b7d0_row5_col18\" class=\"data row5 col18\" >nan</td>\n",
       "      <td id=\"T_5b7d0_row5_col19\" class=\"data row5 col19\" >128.000</td>\n",
       "      <td id=\"T_5b7d0_row5_col20\" class=\"data row5 col20\" >2604.000</td>\n",
       "      <td id=\"T_5b7d0_row5_col21\" class=\"data row5 col21\" >1520.000</td>\n",
       "      <td id=\"T_5b7d0_row5_col22\" class=\"data row5 col22\" >1520.000</td>\n",
       "      <td id=\"T_5b7d0_row5_col23\" class=\"data row5 col23\" >PETROL</td>\n",
       "      <td id=\"T_5b7d0_row5_col24\" class=\"data row5 col24\" >M</td>\n",
       "      <td id=\"T_5b7d0_row5_col25\" class=\"data row5 col25\" >999.000</td>\n",
       "      <td id=\"T_5b7d0_row5_col26\" class=\"data row5 col26\" >67.000</td>\n",
       "      <td id=\"T_5b7d0_row5_col27\" class=\"data row5 col27\" >nan</td>\n",
       "      <td id=\"T_5b7d0_row5_col28\" class=\"data row5 col28\" >e19 29 37</td>\n",
       "      <td id=\"T_5b7d0_row5_col29\" class=\"data row5 col29\" >nan</td>\n",
       "      <td id=\"T_5b7d0_row5_col30\" class=\"data row5 col30\" >1.800</td>\n",
       "      <td id=\"T_5b7d0_row5_col31\" class=\"data row5 col31\" >nan</td>\n",
       "      <td id=\"T_5b7d0_row5_col32\" class=\"data row5 col32\" >nan</td>\n",
       "      <td id=\"T_5b7d0_row5_col33\" class=\"data row5 col33\" >P</td>\n",
       "      <td id=\"T_5b7d0_row5_col34\" class=\"data row5 col34\" >2021</td>\n",
       "      <td id=\"T_5b7d0_row5_col35\" class=\"data row5 col35\" >2021-11-08</td>\n",
       "      <td id=\"T_5b7d0_row5_col36\" class=\"data row5 col36\" >5.600</td>\n",
       "      <td id=\"T_5b7d0_row5_col37\" class=\"data row5 col37\" >nan</td>\n",
       "    </tr>\n",
       "    <tr>\n",
       "      <th id=\"T_5b7d0_level0_row6\" class=\"row_heading level0 row6\" >6</th>\n",
       "      <td id=\"T_5b7d0_row6_col0\" class=\"data row6 col0\" >55069558</td>\n",
       "      <td id=\"T_5b7d0_row6_col1\" class=\"data row6 col1\" >FR</td>\n",
       "      <td id=\"T_5b7d0_row6_col2\" class=\"data row6 col2\" >IP-HNN____ATN8544C-VR3-0</td>\n",
       "      <td id=\"T_5b7d0_row6_col3\" class=\"data row6 col3\" >STELLANTIS</td>\n",
       "      <td id=\"T_5b7d0_row6_col4\" class=\"data row6 col4\" >PSA</td>\n",
       "      <td id=\"T_5b7d0_row6_col5\" class=\"data row6 col5\" >PSA AUTOMOBILES SA</td>\n",
       "      <td id=\"T_5b7d0_row6_col6\" class=\"data row6 col6\" >nan</td>\n",
       "      <td id=\"T_5b7d0_row6_col7\" class=\"data row6 col7\" >E9*2007/46*6816*04</td>\n",
       "      <td id=\"T_5b7d0_row6_col8\" class=\"data row6 col8\" >B</td>\n",
       "      <td id=\"T_5b7d0_row6_col9\" class=\"data row6 col9\" >A</td>\n",
       "      <td id=\"T_5b7d0_row6_col10\" class=\"data row6 col10\" >HNNB-A1AH00</td>\n",
       "      <td id=\"T_5b7d0_row6_col11\" class=\"data row6 col11\" >CITROEN</td>\n",
       "      <td id=\"T_5b7d0_row6_col12\" class=\"data row6 col12\" >C4</td>\n",
       "      <td id=\"T_5b7d0_row6_col13\" class=\"data row6 col13\" >M1</td>\n",
       "      <td id=\"T_5b7d0_row6_col14\" class=\"data row6 col14\" >M1</td>\n",
       "      <td id=\"T_5b7d0_row6_col15\" class=\"data row6 col15\" >1</td>\n",
       "      <td id=\"T_5b7d0_row6_col16\" class=\"data row6 col16\" >1374.000</td>\n",
       "      <td id=\"T_5b7d0_row6_col17\" class=\"data row6 col17\" >1479.000</td>\n",
       "      <td id=\"T_5b7d0_row6_col18\" class=\"data row6 col18\" >nan</td>\n",
       "      <td id=\"T_5b7d0_row6_col19\" class=\"data row6 col19\" >134.000</td>\n",
       "      <td id=\"T_5b7d0_row6_col20\" class=\"data row6 col20\" >2670.000</td>\n",
       "      <td id=\"T_5b7d0_row6_col21\" class=\"data row6 col21\" >1560.000</td>\n",
       "      <td id=\"T_5b7d0_row6_col22\" class=\"data row6 col22\" >1560.000</td>\n",
       "      <td id=\"T_5b7d0_row6_col23\" class=\"data row6 col23\" >PETROL</td>\n",
       "      <td id=\"T_5b7d0_row6_col24\" class=\"data row6 col24\" >M</td>\n",
       "      <td id=\"T_5b7d0_row6_col25\" class=\"data row6 col25\" >1199.000</td>\n",
       "      <td id=\"T_5b7d0_row6_col26\" class=\"data row6 col26\" >114.000</td>\n",
       "      <td id=\"T_5b7d0_row6_col27\" class=\"data row6 col27\" >nan</td>\n",
       "      <td id=\"T_5b7d0_row6_col28\" class=\"data row6 col28\" >e2 28 29</td>\n",
       "      <td id=\"T_5b7d0_row6_col29\" class=\"data row6 col29\" >nan</td>\n",
       "      <td id=\"T_5b7d0_row6_col30\" class=\"data row6 col30\" >2.100</td>\n",
       "      <td id=\"T_5b7d0_row6_col31\" class=\"data row6 col31\" >nan</td>\n",
       "      <td id=\"T_5b7d0_row6_col32\" class=\"data row6 col32\" >nan</td>\n",
       "      <td id=\"T_5b7d0_row6_col33\" class=\"data row6 col33\" >P</td>\n",
       "      <td id=\"T_5b7d0_row6_col34\" class=\"data row6 col34\" >2021</td>\n",
       "      <td id=\"T_5b7d0_row6_col35\" class=\"data row6 col35\" >2021-04-22</td>\n",
       "      <td id=\"T_5b7d0_row6_col36\" class=\"data row6 col36\" >5.900</td>\n",
       "      <td id=\"T_5b7d0_row6_col37\" class=\"data row6 col37\" >nan</td>\n",
       "    </tr>\n",
       "    <tr>\n",
       "      <th id=\"T_5b7d0_level0_row7\" class=\"row_heading level0 row7\" >7</th>\n",
       "      <td id=\"T_5b7d0_row7_col0\" class=\"data row7 col0\" >54539293</td>\n",
       "      <td id=\"T_5b7d0_row7_col1\" class=\"data row7 col1\" >FR</td>\n",
       "      <td id=\"T_5b7d0_row7_col2\" class=\"data row7 col2\" >IP-YHZ____ML6_2123-VF3-0</td>\n",
       "      <td id=\"T_5b7d0_row7_col3\" class=\"data row7 col3\" >STELLANTIS</td>\n",
       "      <td id=\"T_5b7d0_row7_col4\" class=\"data row7 col4\" >AUTOMOBILES PEUGEOT</td>\n",
       "      <td id=\"T_5b7d0_row7_col5\" class=\"data row7 col5\" >AUTOMOBILES PEUGEOT</td>\n",
       "      <td id=\"T_5b7d0_row7_col6\" class=\"data row7 col6\" >nan</td>\n",
       "      <td id=\"T_5b7d0_row7_col7\" class=\"data row7 col7\" >E2*2007/46*0405*29</td>\n",
       "      <td id=\"T_5b7d0_row7_col8\" class=\"data row7 col8\" >L</td>\n",
       "      <td id=\"T_5b7d0_row7_col9\" class=\"data row7 col9\" >B</td>\n",
       "      <td id=\"T_5b7d0_row7_col10\" class=\"data row7 col10\" >YHZJ-C22100</td>\n",
       "      <td id=\"T_5b7d0_row7_col11\" class=\"data row7 col11\" >PEUGEOT</td>\n",
       "      <td id=\"T_5b7d0_row7_col12\" class=\"data row7 col12\" >308</td>\n",
       "      <td id=\"T_5b7d0_row7_col13\" class=\"data row7 col13\" >M1</td>\n",
       "      <td id=\"T_5b7d0_row7_col14\" class=\"data row7 col14\" >M1</td>\n",
       "      <td id=\"T_5b7d0_row7_col15\" class=\"data row7 col15\" >1</td>\n",
       "      <td id=\"T_5b7d0_row7_col16\" class=\"data row7 col16\" >1395.000</td>\n",
       "      <td id=\"T_5b7d0_row7_col17\" class=\"data row7 col17\" >1512.000</td>\n",
       "      <td id=\"T_5b7d0_row7_col18\" class=\"data row7 col18\" >nan</td>\n",
       "      <td id=\"T_5b7d0_row7_col19\" class=\"data row7 col19\" >121.000</td>\n",
       "      <td id=\"T_5b7d0_row7_col20\" class=\"data row7 col20\" >2620.000</td>\n",
       "      <td id=\"T_5b7d0_row7_col21\" class=\"data row7 col21\" >1563.000</td>\n",
       "      <td id=\"T_5b7d0_row7_col22\" class=\"data row7 col22\" >1557.000</td>\n",
       "      <td id=\"T_5b7d0_row7_col23\" class=\"data row7 col23\" >DIESEL</td>\n",
       "      <td id=\"T_5b7d0_row7_col24\" class=\"data row7 col24\" >M</td>\n",
       "      <td id=\"T_5b7d0_row7_col25\" class=\"data row7 col25\" >1499.000</td>\n",
       "      <td id=\"T_5b7d0_row7_col26\" class=\"data row7 col26\" >96.000</td>\n",
       "      <td id=\"T_5b7d0_row7_col27\" class=\"data row7 col27\" >nan</td>\n",
       "      <td id=\"T_5b7d0_row7_col28\" class=\"data row7 col28\" >e2 29</td>\n",
       "      <td id=\"T_5b7d0_row7_col29\" class=\"data row7 col29\" >nan</td>\n",
       "      <td id=\"T_5b7d0_row7_col30\" class=\"data row7 col30\" >0.700</td>\n",
       "      <td id=\"T_5b7d0_row7_col31\" class=\"data row7 col31\" >nan</td>\n",
       "      <td id=\"T_5b7d0_row7_col32\" class=\"data row7 col32\" >nan</td>\n",
       "      <td id=\"T_5b7d0_row7_col33\" class=\"data row7 col33\" >P</td>\n",
       "      <td id=\"T_5b7d0_row7_col34\" class=\"data row7 col34\" >2021</td>\n",
       "      <td id=\"T_5b7d0_row7_col35\" class=\"data row7 col35\" >2021-02-16</td>\n",
       "      <td id=\"T_5b7d0_row7_col36\" class=\"data row7 col36\" >4.600</td>\n",
       "      <td id=\"T_5b7d0_row7_col37\" class=\"data row7 col37\" >nan</td>\n",
       "    </tr>\n",
       "    <tr>\n",
       "      <th id=\"T_5b7d0_level0_row8\" class=\"row_heading level0 row8\" >8</th>\n",
       "      <td id=\"T_5b7d0_row8_col0\" class=\"data row8 col0\" >55565121</td>\n",
       "      <td id=\"T_5b7d0_row8_col1\" class=\"data row8 col1\" >FR</td>\n",
       "      <td id=\"T_5b7d0_row8_col2\" class=\"data row8 col2\" >IP-03_FA1_0234-ZFA-1</td>\n",
       "      <td id=\"T_5b7d0_row8_col3\" class=\"data row8 col3\" >STELLANTIS</td>\n",
       "      <td id=\"T_5b7d0_row8_col4\" class=\"data row8 col4\" >FIAT GROUP</td>\n",
       "      <td id=\"T_5b7d0_row8_col5\" class=\"data row8 col5\" >FCA ITALY SPA</td>\n",
       "      <td id=\"T_5b7d0_row8_col6\" class=\"data row8 col6\" >nan</td>\n",
       "      <td id=\"T_5b7d0_row8_col7\" class=\"data row8 col7\" >E3*2018/858*00001*02</td>\n",
       "      <td id=\"T_5b7d0_row8_col8\" class=\"data row8 col8\" >FA1</td>\n",
       "      <td id=\"T_5b7d0_row8_col9\" class=\"data row8 col9\" >0AEA0000A0</td>\n",
       "      <td id=\"T_5b7d0_row8_col10\" class=\"data row8 col10\" >1D2A0</td>\n",
       "      <td id=\"T_5b7d0_row8_col11\" class=\"data row8 col11\" >FIAT</td>\n",
       "      <td id=\"T_5b7d0_row8_col12\" class=\"data row8 col12\" >500</td>\n",
       "      <td id=\"T_5b7d0_row8_col13\" class=\"data row8 col13\" >M1</td>\n",
       "      <td id=\"T_5b7d0_row8_col14\" class=\"data row8 col14\" >M1</td>\n",
       "      <td id=\"T_5b7d0_row8_col15\" class=\"data row8 col15\" >1</td>\n",
       "      <td id=\"T_5b7d0_row8_col16\" class=\"data row8 col16\" >1365.000</td>\n",
       "      <td id=\"T_5b7d0_row8_col17\" class=\"data row8 col17\" >1460.000</td>\n",
       "      <td id=\"T_5b7d0_row8_col18\" class=\"data row8 col18\" >0.000</td>\n",
       "      <td id=\"T_5b7d0_row8_col19\" class=\"data row8 col19\" >0.000</td>\n",
       "      <td id=\"T_5b7d0_row8_col20\" class=\"data row8 col20\" >2322.000</td>\n",
       "      <td id=\"T_5b7d0_row8_col21\" class=\"data row8 col21\" >1470.000</td>\n",
       "      <td id=\"T_5b7d0_row8_col22\" class=\"data row8 col22\" >1460.000</td>\n",
       "      <td id=\"T_5b7d0_row8_col23\" class=\"data row8 col23\" >ELECTRIC</td>\n",
       "      <td id=\"T_5b7d0_row8_col24\" class=\"data row8 col24\" >E</td>\n",
       "      <td id=\"T_5b7d0_row8_col25\" class=\"data row8 col25\" >nan</td>\n",
       "      <td id=\"T_5b7d0_row8_col26\" class=\"data row8 col26\" >43.000</td>\n",
       "      <td id=\"T_5b7d0_row8_col27\" class=\"data row8 col27\" >142.000</td>\n",
       "      <td id=\"T_5b7d0_row8_col28\" class=\"data row8 col28\" >nan</td>\n",
       "      <td id=\"T_5b7d0_row8_col29\" class=\"data row8 col29\" >nan</td>\n",
       "      <td id=\"T_5b7d0_row8_col30\" class=\"data row8 col30\" >nan</td>\n",
       "      <td id=\"T_5b7d0_row8_col31\" class=\"data row8 col31\" >nan</td>\n",
       "      <td id=\"T_5b7d0_row8_col32\" class=\"data row8 col32\" >nan</td>\n",
       "      <td id=\"T_5b7d0_row8_col33\" class=\"data row8 col33\" >P</td>\n",
       "      <td id=\"T_5b7d0_row8_col34\" class=\"data row8 col34\" >2021</td>\n",
       "      <td id=\"T_5b7d0_row8_col35\" class=\"data row8 col35\" >2021-03-30</td>\n",
       "      <td id=\"T_5b7d0_row8_col36\" class=\"data row8 col36\" >nan</td>\n",
       "      <td id=\"T_5b7d0_row8_col37\" class=\"data row8 col37\" >317.000</td>\n",
       "    </tr>\n",
       "    <tr>\n",
       "      <th id=\"T_5b7d0_level0_row9\" class=\"row_heading level0 row9\" >9</th>\n",
       "      <td id=\"T_5b7d0_row9_col0\" class=\"data row9 col0\" >54247772</td>\n",
       "      <td id=\"T_5b7d0_row9_col1\" class=\"data row9 col1\" >FR</td>\n",
       "      <td id=\"T_5b7d0_row9_col2\" class=\"data row9 col2\" >IP-07A1MKPJE3A_001-VF1-1</td>\n",
       "      <td id=\"T_5b7d0_row9_col3\" class=\"data row9 col3\" >RENAULT-NISSAN-MITSUBISHI</td>\n",
       "      <td id=\"T_5b7d0_row9_col4\" class=\"data row9 col4\" >RENAULT</td>\n",
       "      <td id=\"T_5b7d0_row9_col5\" class=\"data row9 col5\" >RENAULT SAS</td>\n",
       "      <td id=\"T_5b7d0_row9_col6\" class=\"data row9 col6\" >nan</td>\n",
       "      <td id=\"T_5b7d0_row9_col7\" class=\"data row9 col7\" >E2*2007/46*0457*18</td>\n",
       "      <td id=\"T_5b7d0_row9_col8\" class=\"data row9 col8\" >AH</td>\n",
       "      <td id=\"T_5b7d0_row9_col9\" class=\"data row9 col9\" >2BE2</td>\n",
       "      <td id=\"T_5b7d0_row9_col10\" class=\"data row9 col10\" >MK5UA1L12000</td>\n",
       "      <td id=\"T_5b7d0_row9_col11\" class=\"data row9 col11\" >RENAULT</td>\n",
       "      <td id=\"T_5b7d0_row9_col12\" class=\"data row9 col12\" >TWINGO</td>\n",
       "      <td id=\"T_5b7d0_row9_col13\" class=\"data row9 col13\" >M1</td>\n",
       "      <td id=\"T_5b7d0_row9_col14\" class=\"data row9 col14\" >M1</td>\n",
       "      <td id=\"T_5b7d0_row9_col15\" class=\"data row9 col15\" >1</td>\n",
       "      <td id=\"T_5b7d0_row9_col16\" class=\"data row9 col16\" >993.000</td>\n",
       "      <td id=\"T_5b7d0_row9_col17\" class=\"data row9 col17\" >1080.000</td>\n",
       "      <td id=\"T_5b7d0_row9_col18\" class=\"data row9 col18\" >nan</td>\n",
       "      <td id=\"T_5b7d0_row9_col19\" class=\"data row9 col19\" >117.000</td>\n",
       "      <td id=\"T_5b7d0_row9_col20\" class=\"data row9 col20\" >2492.000</td>\n",
       "      <td id=\"T_5b7d0_row9_col21\" class=\"data row9 col21\" >1431.000</td>\n",
       "      <td id=\"T_5b7d0_row9_col22\" class=\"data row9 col22\" >1443.000</td>\n",
       "      <td id=\"T_5b7d0_row9_col23\" class=\"data row9 col23\" >PETROL</td>\n",
       "      <td id=\"T_5b7d0_row9_col24\" class=\"data row9 col24\" >M</td>\n",
       "      <td id=\"T_5b7d0_row9_col25\" class=\"data row9 col25\" >999.000</td>\n",
       "      <td id=\"T_5b7d0_row9_col26\" class=\"data row9 col26\" >48.000</td>\n",
       "      <td id=\"T_5b7d0_row9_col27\" class=\"data row9 col27\" >nan</td>\n",
       "      <td id=\"T_5b7d0_row9_col28\" class=\"data row9 col28\" >e9 29</td>\n",
       "      <td id=\"T_5b7d0_row9_col29\" class=\"data row9 col29\" >nan</td>\n",
       "      <td id=\"T_5b7d0_row9_col30\" class=\"data row9 col30\" >1.000</td>\n",
       "      <td id=\"T_5b7d0_row9_col31\" class=\"data row9 col31\" >nan</td>\n",
       "      <td id=\"T_5b7d0_row9_col32\" class=\"data row9 col32\" >nan</td>\n",
       "      <td id=\"T_5b7d0_row9_col33\" class=\"data row9 col33\" >P</td>\n",
       "      <td id=\"T_5b7d0_row9_col34\" class=\"data row9 col34\" >2021</td>\n",
       "      <td id=\"T_5b7d0_row9_col35\" class=\"data row9 col35\" >2021-01-18</td>\n",
       "      <td id=\"T_5b7d0_row9_col36\" class=\"data row9 col36\" >5.200</td>\n",
       "      <td id=\"T_5b7d0_row9_col37\" class=\"data row9 col37\" >nan</td>\n",
       "    </tr>\n",
       "  </tbody>\n",
       "</table>\n"
      ],
      "text/plain": [
       "<pandas.io.formats.style.Styler at 0x7fa19323fd90>"
      ]
     },
     "metadata": {},
     "output_type": "display_data"
    }
   ],
   "source": [
    "import auto_co2 as co2\n",
    "df = co2.data.rename_columns(df)\n",
    "co2.styles.displayer(df, 10)"
   ]
  },
  {
   "cell_type": "code",
   "execution_count": 5,
   "metadata": {},
   "outputs": [
    {
     "data": {
      "text/html": [
       "<style type=\"text/css\">\n",
       "#T_b346b th {\n",
       "  background-color: steelblue;\n",
       "  color: white;\n",
       "}\n",
       "#T_b346b tr:nth-of-type(odd) {\n",
       "  background-color: aliceblue;\n",
       "}\n",
       "#T_b346b tr:nth-of-type(even) {\n",
       "  background-color: white;\n",
       "}\n",
       "#T_b346b_row0_col1, #T_b346b_row1_col1, #T_b346b_row2_col1, #T_b346b_row3_col1 {\n",
       "  width: 10em;\n",
       "  background: linear-gradient(90deg, lightcoral 100.0%, transparent 100.0%);\n",
       "}\n",
       "#T_b346b_row4_col1 {\n",
       "  width: 10em;\n",
       "  background: linear-gradient(90deg, lightcoral 89.6%, transparent 89.6%);\n",
       "}\n",
       "#T_b346b_row5_col1, #T_b346b_row6_col1 {\n",
       "  width: 10em;\n",
       "  background: linear-gradient(90deg, lightcoral 81.4%, transparent 81.4%);\n",
       "}\n",
       "#T_b346b_row7_col1, #T_b346b_row8_col1 {\n",
       "  width: 10em;\n",
       "  background: linear-gradient(90deg, lightcoral 37.3%, transparent 37.3%);\n",
       "}\n",
       "#T_b346b_row9_col1 {\n",
       "  width: 10em;\n",
       "  background: linear-gradient(90deg, lightcoral 23.0%, transparent 23.0%);\n",
       "}\n",
       "#T_b346b_row10_col1 {\n",
       "  width: 10em;\n",
       "  background: linear-gradient(90deg, lightcoral 10.4%, transparent 10.4%);\n",
       "}\n",
       "#T_b346b_row11_col1 {\n",
       "  width: 10em;\n",
       "  background: linear-gradient(90deg, lightcoral 2.0%, transparent 2.0%);\n",
       "}\n",
       "#T_b346b_row12_col1, #T_b346b_row13_col1, #T_b346b_row14_col1, #T_b346b_row15_col1, #T_b346b_row16_col1, #T_b346b_row17_col1, #T_b346b_row18_col1, #T_b346b_row19_col1, #T_b346b_row20_col1, #T_b346b_row21_col1, #T_b346b_row22_col1, #T_b346b_row23_col1, #T_b346b_row24_col1, #T_b346b_row25_col1, #T_b346b_row26_col1, #T_b346b_row27_col1, #T_b346b_row28_col1, #T_b346b_row29_col1, #T_b346b_row30_col1, #T_b346b_row31_col1, #T_b346b_row32_col1, #T_b346b_row33_col1, #T_b346b_row34_col1, #T_b346b_row35_col1, #T_b346b_row36_col1, #T_b346b_row37_col1 {\n",
       "  width: 10em;\n",
       "}\n",
       "</style>\n",
       "<table id=\"T_b346b\">\n",
       "  <thead>\n",
       "    <tr>\n",
       "      <th class=\"blank level0\" >&nbsp;</th>\n",
       "      <th id=\"T_b346b_level0_col0\" class=\"col_heading level0 col0\" >Colonne</th>\n",
       "      <th id=\"T_b346b_level0_col1\" class=\"col_heading level0 col1\" >Valeurs manquantes (%)</th>\n",
       "    </tr>\n",
       "  </thead>\n",
       "  <tbody>\n",
       "    <tr>\n",
       "      <th id=\"T_b346b_level0_row0\" class=\"row_heading level0 row0\" >0</th>\n",
       "      <td id=\"T_b346b_row0_col0\" class=\"data row0 col0\" >VerificationFactor</td>\n",
       "      <td id=\"T_b346b_row0_col1\" class=\"data row0 col1\" >100.00%</td>\n",
       "    </tr>\n",
       "    <tr>\n",
       "      <th id=\"T_b346b_level0_row1\" class=\"row_heading level0 row1\" >1</th>\n",
       "      <td id=\"T_b346b_row1_col0\" class=\"data row1 col0\" >ManufNameMS</td>\n",
       "      <td id=\"T_b346b_row1_col1\" class=\"data row1 col1\" >100.00%</td>\n",
       "    </tr>\n",
       "    <tr>\n",
       "      <th id=\"T_b346b_level0_row2\" class=\"row_heading level0 row2\" >2</th>\n",
       "      <td id=\"T_b346b_row2_col0\" class=\"data row2 col0\" >InnovativeEmissionsReduction</td>\n",
       "      <td id=\"T_b346b_row2_col1\" class=\"data row2 col1\" >100.00%</td>\n",
       "    </tr>\n",
       "    <tr>\n",
       "      <th id=\"T_b346b_level0_row3\" class=\"row_heading level0 row3\" >3</th>\n",
       "      <td id=\"T_b346b_row3_col0\" class=\"data row3 col0\" >DeviationFactor</td>\n",
       "      <td id=\"T_b346b_row3_col1\" class=\"data row3 col1\" >100.00%</td>\n",
       "    </tr>\n",
       "    <tr>\n",
       "      <th id=\"T_b346b_level0_row4\" class=\"row_heading level0 row4\" >4</th>\n",
       "      <td id=\"T_b346b_row4_col0\" class=\"data row4 col0\" >Co2EmissionsNedc</td>\n",
       "      <td id=\"T_b346b_row4_col1\" class=\"data row4 col1\" >89.60%</td>\n",
       "    </tr>\n",
       "    <tr>\n",
       "      <th id=\"T_b346b_level0_row5\" class=\"row_heading level0 row5\" >5</th>\n",
       "      <td id=\"T_b346b_row5_col0\" class=\"data row5 col0\" >ElectricConsumption</td>\n",
       "      <td id=\"T_b346b_row5_col1\" class=\"data row5 col1\" >81.40%</td>\n",
       "    </tr>\n",
       "    <tr>\n",
       "      <th id=\"T_b346b_level0_row6\" class=\"row_heading level0 row6\" >6</th>\n",
       "      <td id=\"T_b346b_row6_col0\" class=\"data row6 col0\" >ElectricRange</td>\n",
       "      <td id=\"T_b346b_row6_col1\" class=\"data row6 col1\" >81.40%</td>\n",
       "    </tr>\n",
       "    <tr>\n",
       "      <th id=\"T_b346b_level0_row7\" class=\"row_heading level0 row7\" >7</th>\n",
       "      <td id=\"T_b346b_row7_col0\" class=\"data row7 col0\" >InnovativeEmissionsReductionWltp</td>\n",
       "      <td id=\"T_b346b_row7_col1\" class=\"data row7 col1\" >37.30%</td>\n",
       "    </tr>\n",
       "    <tr>\n",
       "      <th id=\"T_b346b_level0_row8\" class=\"row_heading level0 row8\" >8</th>\n",
       "      <td id=\"T_b346b_row8_col0\" class=\"data row8 col0\" >InnovativeTechnology</td>\n",
       "      <td id=\"T_b346b_row8_col1\" class=\"data row8 col1\" >37.30%</td>\n",
       "    </tr>\n",
       "    <tr>\n",
       "      <th id=\"T_b346b_level0_row9\" class=\"row_heading level0 row9\" >9</th>\n",
       "      <td id=\"T_b346b_row9_col0\" class=\"data row9 col0\" >FuelConsumption</td>\n",
       "      <td id=\"T_b346b_row9_col1\" class=\"data row9 col1\" >23.00%</td>\n",
       "    </tr>\n",
       "    <tr>\n",
       "      <th id=\"T_b346b_level0_row10\" class=\"row_heading level0 row10\" >10</th>\n",
       "      <td id=\"T_b346b_row10_col0\" class=\"data row10 col0\" >EngineCapacity</td>\n",
       "      <td id=\"T_b346b_row10_col1\" class=\"data row10 col1\" >10.40%</td>\n",
       "    </tr>\n",
       "    <tr>\n",
       "      <th id=\"T_b346b_level0_row11\" class=\"row_heading level0 row11\" >11</th>\n",
       "      <td id=\"T_b346b_row11_col0\" class=\"data row11 col0\" >Pool</td>\n",
       "      <td id=\"T_b346b_row11_col1\" class=\"data row11 col1\" >2.00%</td>\n",
       "    </tr>\n",
       "    <tr>\n",
       "      <th id=\"T_b346b_level0_row12\" class=\"row_heading level0 row12\" >12</th>\n",
       "      <td id=\"T_b346b_row12_col0\" class=\"data row12 col0\" >ID</td>\n",
       "      <td id=\"T_b346b_row12_col1\" class=\"data row12 col1\" >0.00%</td>\n",
       "    </tr>\n",
       "    <tr>\n",
       "      <th id=\"T_b346b_level0_row13\" class=\"row_heading level0 row13\" >13</th>\n",
       "      <td id=\"T_b346b_row13_col0\" class=\"data row13 col0\" >Country</td>\n",
       "      <td id=\"T_b346b_row13_col1\" class=\"data row13 col1\" >0.00%</td>\n",
       "    </tr>\n",
       "    <tr>\n",
       "      <th id=\"T_b346b_level0_row14\" class=\"row_heading level0 row14\" >14</th>\n",
       "      <td id=\"T_b346b_row14_col0\" class=\"data row14 col0\" >ManufNameOem</td>\n",
       "      <td id=\"T_b346b_row14_col1\" class=\"data row14 col1\" >0.00%</td>\n",
       "    </tr>\n",
       "    <tr>\n",
       "      <th id=\"T_b346b_level0_row15\" class=\"row_heading level0 row15\" >15</th>\n",
       "      <td id=\"T_b346b_row15_col0\" class=\"data row15 col0\" >ManufacturerName</td>\n",
       "      <td id=\"T_b346b_row15_col1\" class=\"data row15 col1\" >0.00%</td>\n",
       "    </tr>\n",
       "    <tr>\n",
       "      <th id=\"T_b346b_level0_row16\" class=\"row_heading level0 row16\" >16</th>\n",
       "      <td id=\"T_b346b_row16_col0\" class=\"data row16 col0\" >VehicleFamilyIdentification</td>\n",
       "      <td id=\"T_b346b_row16_col1\" class=\"data row16 col1\" >0.00%</td>\n",
       "    </tr>\n",
       "    <tr>\n",
       "      <th id=\"T_b346b_level0_row17\" class=\"row_heading level0 row17\" >17</th>\n",
       "      <td id=\"T_b346b_row17_col0\" class=\"data row17 col0\" >Type</td>\n",
       "      <td id=\"T_b346b_row17_col1\" class=\"data row17 col1\" >0.00%</td>\n",
       "    </tr>\n",
       "    <tr>\n",
       "      <th id=\"T_b346b_level0_row18\" class=\"row_heading level0 row18\" >18</th>\n",
       "      <td id=\"T_b346b_row18_col0\" class=\"data row18 col0\" >Version</td>\n",
       "      <td id=\"T_b346b_row18_col1\" class=\"data row18 col1\" >0.00%</td>\n",
       "    </tr>\n",
       "    <tr>\n",
       "      <th id=\"T_b346b_level0_row19\" class=\"row_heading level0 row19\" >19</th>\n",
       "      <td id=\"T_b346b_row19_col0\" class=\"data row19 col0\" >Make</td>\n",
       "      <td id=\"T_b346b_row19_col1\" class=\"data row19 col1\" >0.00%</td>\n",
       "    </tr>\n",
       "    <tr>\n",
       "      <th id=\"T_b346b_level0_row20\" class=\"row_heading level0 row20\" >20</th>\n",
       "      <td id=\"T_b346b_row20_col0\" class=\"data row20 col0\" >CommercialName</td>\n",
       "      <td id=\"T_b346b_row20_col1\" class=\"data row20 col1\" >0.00%</td>\n",
       "    </tr>\n",
       "    <tr>\n",
       "      <th id=\"T_b346b_level0_row21\" class=\"row_heading level0 row21\" >21</th>\n",
       "      <td id=\"T_b346b_row21_col0\" class=\"data row21 col0\" >TypeApprovalNumber</td>\n",
       "      <td id=\"T_b346b_row21_col1\" class=\"data row21 col1\" >0.00%</td>\n",
       "    </tr>\n",
       "    <tr>\n",
       "      <th id=\"T_b346b_level0_row22\" class=\"row_heading level0 row22\" >22</th>\n",
       "      <td id=\"T_b346b_row22_col0\" class=\"data row22 col0\" >AxleWidthSteering</td>\n",
       "      <td id=\"T_b346b_row22_col1\" class=\"data row22 col1\" >0.00%</td>\n",
       "    </tr>\n",
       "    <tr>\n",
       "      <th id=\"T_b346b_level0_row23\" class=\"row_heading level0 row23\" >23</th>\n",
       "      <td id=\"T_b346b_row23_col0\" class=\"data row23 col0\" >BaseWheel</td>\n",
       "      <td id=\"T_b346b_row23_col1\" class=\"data row23 col1\" >0.00%</td>\n",
       "    </tr>\n",
       "    <tr>\n",
       "      <th id=\"T_b346b_level0_row24\" class=\"row_heading level0 row24\" >24</th>\n",
       "      <td id=\"T_b346b_row24_col0\" class=\"data row24 col0\" >Co2EmissionsWltp</td>\n",
       "      <td id=\"T_b346b_row24_col1\" class=\"data row24 col1\" >0.00%</td>\n",
       "    </tr>\n",
       "    <tr>\n",
       "      <th id=\"T_b346b_level0_row25\" class=\"row_heading level0 row25\" >25</th>\n",
       "      <td id=\"T_b346b_row25_col0\" class=\"data row25 col0\" >WltpTestMass</td>\n",
       "      <td id=\"T_b346b_row25_col1\" class=\"data row25 col1\" >0.00%</td>\n",
       "    </tr>\n",
       "    <tr>\n",
       "      <th id=\"T_b346b_level0_row26\" class=\"row_heading level0 row26\" >26</th>\n",
       "      <td id=\"T_b346b_row26_col0\" class=\"data row26 col0\" >TotalNewRegistrations</td>\n",
       "      <td id=\"T_b346b_row26_col1\" class=\"data row26 col1\" >0.00%</td>\n",
       "    </tr>\n",
       "    <tr>\n",
       "      <th id=\"T_b346b_level0_row27\" class=\"row_heading level0 row27\" >27</th>\n",
       "      <td id=\"T_b346b_row27_col0\" class=\"data row27 col0\" >MassRunningOrder</td>\n",
       "      <td id=\"T_b346b_row27_col1\" class=\"data row27 col1\" >0.00%</td>\n",
       "    </tr>\n",
       "    <tr>\n",
       "      <th id=\"T_b346b_level0_row28\" class=\"row_heading level0 row28\" >28</th>\n",
       "      <td id=\"T_b346b_row28_col0\" class=\"data row28 col0\" >CategoryOf</td>\n",
       "      <td id=\"T_b346b_row28_col1\" class=\"data row28 col1\" >0.00%</td>\n",
       "    </tr>\n",
       "    <tr>\n",
       "      <th id=\"T_b346b_level0_row29\" class=\"row_heading level0 row29\" >29</th>\n",
       "      <td id=\"T_b346b_row29_col0\" class=\"data row29 col0\" >VehicleCategory</td>\n",
       "      <td id=\"T_b346b_row29_col1\" class=\"data row29 col1\" >0.00%</td>\n",
       "    </tr>\n",
       "    <tr>\n",
       "      <th id=\"T_b346b_level0_row30\" class=\"row_heading level0 row30\" >30</th>\n",
       "      <td id=\"T_b346b_row30_col0\" class=\"data row30 col0\" >Variant</td>\n",
       "      <td id=\"T_b346b_row30_col1\" class=\"data row30 col1\" >0.00%</td>\n",
       "    </tr>\n",
       "    <tr>\n",
       "      <th id=\"T_b346b_level0_row31\" class=\"row_heading level0 row31\" >31</th>\n",
       "      <td id=\"T_b346b_row31_col0\" class=\"data row31 col0\" >AxleWidthOther</td>\n",
       "      <td id=\"T_b346b_row31_col1\" class=\"data row31 col1\" >0.00%</td>\n",
       "    </tr>\n",
       "    <tr>\n",
       "      <th id=\"T_b346b_level0_row32\" class=\"row_heading level0 row32\" >32</th>\n",
       "      <td id=\"T_b346b_row32_col0\" class=\"data row32 col0\" >FuelType</td>\n",
       "      <td id=\"T_b346b_row32_col1\" class=\"data row32 col1\" >0.00%</td>\n",
       "    </tr>\n",
       "    <tr>\n",
       "      <th id=\"T_b346b_level0_row33\" class=\"row_heading level0 row33\" >33</th>\n",
       "      <td id=\"T_b346b_row33_col0\" class=\"data row33 col0\" >FuelMode</td>\n",
       "      <td id=\"T_b346b_row33_col1\" class=\"data row33 col1\" >0.00%</td>\n",
       "    </tr>\n",
       "    <tr>\n",
       "      <th id=\"T_b346b_level0_row34\" class=\"row_heading level0 row34\" >34</th>\n",
       "      <td id=\"T_b346b_row34_col0\" class=\"data row34 col0\" >EnginePower</td>\n",
       "      <td id=\"T_b346b_row34_col1\" class=\"data row34 col1\" >0.00%</td>\n",
       "    </tr>\n",
       "    <tr>\n",
       "      <th id=\"T_b346b_level0_row35\" class=\"row_heading level0 row35\" >35</th>\n",
       "      <td id=\"T_b346b_row35_col0\" class=\"data row35 col0\" >Status</td>\n",
       "      <td id=\"T_b346b_row35_col1\" class=\"data row35 col1\" >0.00%</td>\n",
       "    </tr>\n",
       "    <tr>\n",
       "      <th id=\"T_b346b_level0_row36\" class=\"row_heading level0 row36\" >36</th>\n",
       "      <td id=\"T_b346b_row36_col0\" class=\"data row36 col0\" >RegistrationDate</td>\n",
       "      <td id=\"T_b346b_row36_col1\" class=\"data row36 col1\" >0.00%</td>\n",
       "    </tr>\n",
       "    <tr>\n",
       "      <th id=\"T_b346b_level0_row37\" class=\"row_heading level0 row37\" >37</th>\n",
       "      <td id=\"T_b346b_row37_col0\" class=\"data row37 col0\" >RegistrationYear</td>\n",
       "      <td id=\"T_b346b_row37_col1\" class=\"data row37 col1\" >0.00%</td>\n",
       "    </tr>\n",
       "  </tbody>\n",
       "</table>\n"
      ],
      "text/plain": [
       "<pandas.io.formats.style.Styler at 0x7fa19323ff40>"
      ]
     },
     "execution_count": 5,
     "metadata": {},
     "output_type": "execute_result"
    }
   ],
   "source": [
    "co2.styles.display_na(df)"
   ]
  },
  {
   "cell_type": "code",
   "execution_count": 6,
   "metadata": {},
   "outputs": [
    {
     "data": {
      "text/html": [
       "<style type=\"text/css\">\n",
       "#T_87570 th {\n",
       "  background-color: steelblue;\n",
       "  color: white;\n",
       "}\n",
       "#T_87570 tr:nth-of-type(odd) {\n",
       "  background-color: aliceblue;\n",
       "}\n",
       "#T_87570 tr:nth-of-type(even) {\n",
       "  background-color: white;\n",
       "}\n",
       "</style>\n",
       "<table id=\"T_87570\">\n",
       "  <thead>\n",
       "    <tr>\n",
       "      <th class=\"blank level0\" >&nbsp;</th>\n",
       "      <th id=\"T_87570_level0_col0\" class=\"col_heading level0 col0\" >Colonne</th>\n",
       "      <th id=\"T_87570_level0_col1\" class=\"col_heading level0 col1\" >count</th>\n",
       "      <th id=\"T_87570_level0_col2\" class=\"col_heading level0 col2\" >mean</th>\n",
       "      <th id=\"T_87570_level0_col3\" class=\"col_heading level0 col3\" >std</th>\n",
       "      <th id=\"T_87570_level0_col4\" class=\"col_heading level0 col4\" >min</th>\n",
       "      <th id=\"T_87570_level0_col5\" class=\"col_heading level0 col5\" >25%</th>\n",
       "      <th id=\"T_87570_level0_col6\" class=\"col_heading level0 col6\" >50%</th>\n",
       "      <th id=\"T_87570_level0_col7\" class=\"col_heading level0 col7\" >75%</th>\n",
       "      <th id=\"T_87570_level0_col8\" class=\"col_heading level0 col8\" >max</th>\n",
       "    </tr>\n",
       "  </thead>\n",
       "  <tbody>\n",
       "    <tr>\n",
       "      <th id=\"T_87570_level0_row0\" class=\"row_heading level0 row0\" >0</th>\n",
       "      <td id=\"T_87570_row0_col0\" class=\"data row0 col0\" >ID</td>\n",
       "      <td id=\"T_87570_row0_col1\" class=\"data row0 col1\" >1000.000</td>\n",
       "      <td id=\"T_87570_row0_col2\" class=\"data row0 col2\" >54693522.569</td>\n",
       "      <td id=\"T_87570_row0_col3\" class=\"data row0 col3\" >521693.911</td>\n",
       "      <td id=\"T_87570_row0_col4\" class=\"data row0 col4\" >53800701.000</td>\n",
       "      <td id=\"T_87570_row0_col5\" class=\"data row0 col5\" >54238092.500</td>\n",
       "      <td id=\"T_87570_row0_col6\" class=\"data row0 col6\" >54697973.500</td>\n",
       "      <td id=\"T_87570_row0_col7\" class=\"data row0 col7\" >55153619.500</td>\n",
       "      <td id=\"T_87570_row0_col8\" class=\"data row0 col8\" >55575136.000</td>\n",
       "    </tr>\n",
       "    <tr>\n",
       "      <th id=\"T_87570_level0_row1\" class=\"row_heading level0 row1\" >1</th>\n",
       "      <td id=\"T_87570_row1_col0\" class=\"data row1 col0\" >ManufNameMS</td>\n",
       "      <td id=\"T_87570_row1_col1\" class=\"data row1 col1\" >0.000</td>\n",
       "      <td id=\"T_87570_row1_col2\" class=\"data row1 col2\" >nan</td>\n",
       "      <td id=\"T_87570_row1_col3\" class=\"data row1 col3\" >nan</td>\n",
       "      <td id=\"T_87570_row1_col4\" class=\"data row1 col4\" >nan</td>\n",
       "      <td id=\"T_87570_row1_col5\" class=\"data row1 col5\" >nan</td>\n",
       "      <td id=\"T_87570_row1_col6\" class=\"data row1 col6\" >nan</td>\n",
       "      <td id=\"T_87570_row1_col7\" class=\"data row1 col7\" >nan</td>\n",
       "      <td id=\"T_87570_row1_col8\" class=\"data row1 col8\" >nan</td>\n",
       "    </tr>\n",
       "    <tr>\n",
       "      <th id=\"T_87570_level0_row2\" class=\"row_heading level0 row2\" >2</th>\n",
       "      <td id=\"T_87570_row2_col0\" class=\"data row2 col0\" >TotalNewRegistrations</td>\n",
       "      <td id=\"T_87570_row2_col1\" class=\"data row2 col1\" >1000.000</td>\n",
       "      <td id=\"T_87570_row2_col2\" class=\"data row2 col2\" >1.000</td>\n",
       "      <td id=\"T_87570_row2_col3\" class=\"data row2 col3\" >0.000</td>\n",
       "      <td id=\"T_87570_row2_col4\" class=\"data row2 col4\" >1.000</td>\n",
       "      <td id=\"T_87570_row2_col5\" class=\"data row2 col5\" >1.000</td>\n",
       "      <td id=\"T_87570_row2_col6\" class=\"data row2 col6\" >1.000</td>\n",
       "      <td id=\"T_87570_row2_col7\" class=\"data row2 col7\" >1.000</td>\n",
       "      <td id=\"T_87570_row2_col8\" class=\"data row2 col8\" >1.000</td>\n",
       "    </tr>\n",
       "    <tr>\n",
       "      <th id=\"T_87570_level0_row3\" class=\"row_heading level0 row3\" >3</th>\n",
       "      <td id=\"T_87570_row3_col0\" class=\"data row3 col0\" >MassRunningOrder</td>\n",
       "      <td id=\"T_87570_row3_col1\" class=\"data row3 col1\" >1000.000</td>\n",
       "      <td id=\"T_87570_row3_col2\" class=\"data row3 col2\" >1397.564</td>\n",
       "      <td id=\"T_87570_row3_col3\" class=\"data row3 col3\" >279.097</td>\n",
       "      <td id=\"T_87570_row3_col4\" class=\"data row3 col4\" >700.000</td>\n",
       "      <td id=\"T_87570_row3_col5\" class=\"data row3 col5\" >1165.000</td>\n",
       "      <td id=\"T_87570_row3_col6\" class=\"data row3 col6\" >1349.000</td>\n",
       "      <td id=\"T_87570_row3_col7\" class=\"data row3 col7\" >1577.000</td>\n",
       "      <td id=\"T_87570_row3_col8\" class=\"data row3 col8\" >2510.000</td>\n",
       "    </tr>\n",
       "    <tr>\n",
       "      <th id=\"T_87570_level0_row4\" class=\"row_heading level0 row4\" >4</th>\n",
       "      <td id=\"T_87570_row4_col0\" class=\"data row4 col0\" >WltpTestMass</td>\n",
       "      <td id=\"T_87570_row4_col1\" class=\"data row4 col1\" >1000.000</td>\n",
       "      <td id=\"T_87570_row4_col2\" class=\"data row4 col2\" >1513.825</td>\n",
       "      <td id=\"T_87570_row4_col3\" class=\"data row4 col3\" >290.845</td>\n",
       "      <td id=\"T_87570_row4_col4\" class=\"data row4 col4\" >748.000</td>\n",
       "      <td id=\"T_87570_row4_col5\" class=\"data row4 col5\" >1280.000</td>\n",
       "      <td id=\"T_87570_row4_col6\" class=\"data row4 col6\" >1459.000</td>\n",
       "      <td id=\"T_87570_row4_col7\" class=\"data row4 col7\" >1687.750</td>\n",
       "      <td id=\"T_87570_row4_col8\" class=\"data row4 col8\" >2704.000</td>\n",
       "    </tr>\n",
       "    <tr>\n",
       "      <th id=\"T_87570_level0_row5\" class=\"row_heading level0 row5\" >5</th>\n",
       "      <td id=\"T_87570_row5_col0\" class=\"data row5 col0\" >Co2EmissionsNedc</td>\n",
       "      <td id=\"T_87570_row5_col1\" class=\"data row5 col1\" >104.000</td>\n",
       "      <td id=\"T_87570_row5_col2\" class=\"data row5 col2\" >0.000</td>\n",
       "      <td id=\"T_87570_row5_col3\" class=\"data row5 col3\" >0.000</td>\n",
       "      <td id=\"T_87570_row5_col4\" class=\"data row5 col4\" >0.000</td>\n",
       "      <td id=\"T_87570_row5_col5\" class=\"data row5 col5\" >0.000</td>\n",
       "      <td id=\"T_87570_row5_col6\" class=\"data row5 col6\" >0.000</td>\n",
       "      <td id=\"T_87570_row5_col7\" class=\"data row5 col7\" >0.000</td>\n",
       "      <td id=\"T_87570_row5_col8\" class=\"data row5 col8\" >0.000</td>\n",
       "    </tr>\n",
       "    <tr>\n",
       "      <th id=\"T_87570_level0_row6\" class=\"row_heading level0 row6\" >6</th>\n",
       "      <td id=\"T_87570_row6_col0\" class=\"data row6 col0\" >Co2EmissionsWltp</td>\n",
       "      <td id=\"T_87570_row6_col1\" class=\"data row6 col1\" >1000.000</td>\n",
       "      <td id=\"T_87570_row6_col2\" class=\"data row6 col2\" >107.668</td>\n",
       "      <td id=\"T_87570_row6_col3\" class=\"data row6 col3\" >46.555</td>\n",
       "      <td id=\"T_87570_row6_col4\" class=\"data row6 col4\" >0.000</td>\n",
       "      <td id=\"T_87570_row6_col5\" class=\"data row6 col5\" >110.000</td>\n",
       "      <td id=\"T_87570_row6_col6\" class=\"data row6 col6\" >122.000</td>\n",
       "      <td id=\"T_87570_row6_col7\" class=\"data row6 col7\" >134.000</td>\n",
       "      <td id=\"T_87570_row6_col8\" class=\"data row6 col8\" >250.000</td>\n",
       "    </tr>\n",
       "    <tr>\n",
       "      <th id=\"T_87570_level0_row7\" class=\"row_heading level0 row7\" >7</th>\n",
       "      <td id=\"T_87570_row7_col0\" class=\"data row7 col0\" >BaseWheel</td>\n",
       "      <td id=\"T_87570_row7_col1\" class=\"data row7 col1\" >1000.000</td>\n",
       "      <td id=\"T_87570_row7_col2\" class=\"data row7 col2\" >2626.416</td>\n",
       "      <td id=\"T_87570_row7_col3\" class=\"data row7 col3\" >129.437</td>\n",
       "      <td id=\"T_87570_row7_col4\" class=\"data row7 col4\" >1873.000</td>\n",
       "      <td id=\"T_87570_row7_col5\" class=\"data row7 col5\" >2551.000</td>\n",
       "      <td id=\"T_87570_row7_col6\" class=\"data row7 col6\" >2605.000</td>\n",
       "      <td id=\"T_87570_row7_col7\" class=\"data row7 col7\" >2677.000</td>\n",
       "      <td id=\"T_87570_row7_col8\" class=\"data row7 col8\" >3275.000</td>\n",
       "    </tr>\n",
       "    <tr>\n",
       "      <th id=\"T_87570_level0_row8\" class=\"row_heading level0 row8\" >8</th>\n",
       "      <td id=\"T_87570_row8_col0\" class=\"data row8 col0\" >AxleWidthSteering</td>\n",
       "      <td id=\"T_87570_row8_col1\" class=\"data row8 col1\" >1000.000</td>\n",
       "      <td id=\"T_87570_row8_col2\" class=\"data row8 col2\" >1538.573</td>\n",
       "      <td id=\"T_87570_row8_col3\" class=\"data row8 col3\" >50.972</td>\n",
       "      <td id=\"T_87570_row8_col4\" class=\"data row8 col4\" >1385.000</td>\n",
       "      <td id=\"T_87570_row8_col5\" class=\"data row8 col5\" >1503.000</td>\n",
       "      <td id=\"T_87570_row8_col6\" class=\"data row8 col6\" >1540.000</td>\n",
       "      <td id=\"T_87570_row8_col7\" class=\"data row8 col7\" >1572.000</td>\n",
       "      <td id=\"T_87570_row8_col8\" class=\"data row8 col8\" >1687.000</td>\n",
       "    </tr>\n",
       "    <tr>\n",
       "      <th id=\"T_87570_level0_row9\" class=\"row_heading level0 row9\" >9</th>\n",
       "      <td id=\"T_87570_row9_col0\" class=\"data row9 col0\" >AxleWidthOther</td>\n",
       "      <td id=\"T_87570_row9_col1\" class=\"data row9 col1\" >1000.000</td>\n",
       "      <td id=\"T_87570_row9_col2\" class=\"data row9 col2\" >1536.499</td>\n",
       "      <td id=\"T_87570_row9_col3\" class=\"data row9 col3\" >55.613</td>\n",
       "      <td id=\"T_87570_row9_col4\" class=\"data row9 col4\" >1365.000</td>\n",
       "      <td id=\"T_87570_row9_col5\" class=\"data row9 col5\" >1494.000</td>\n",
       "      <td id=\"T_87570_row9_col6\" class=\"data row9 col6\" >1538.000</td>\n",
       "      <td id=\"T_87570_row9_col7\" class=\"data row9 col7\" >1574.000</td>\n",
       "      <td id=\"T_87570_row9_col8\" class=\"data row9 col8\" >1698.000</td>\n",
       "    </tr>\n",
       "    <tr>\n",
       "      <th id=\"T_87570_level0_row10\" class=\"row_heading level0 row10\" >10</th>\n",
       "      <td id=\"T_87570_row10_col0\" class=\"data row10 col0\" >EngineCapacity</td>\n",
       "      <td id=\"T_87570_row10_col1\" class=\"data row10 col1\" >896.000</td>\n",
       "      <td id=\"T_87570_row10_col2\" class=\"data row10 col2\" >1401.007</td>\n",
       "      <td id=\"T_87570_row10_col3\" class=\"data row10 col3\" >361.232</td>\n",
       "      <td id=\"T_87570_row10_col4\" class=\"data row10 col4\" >898.000</td>\n",
       "      <td id=\"T_87570_row10_col5\" class=\"data row10 col5\" >1197.000</td>\n",
       "      <td id=\"T_87570_row10_col6\" class=\"data row10 col6\" >1461.000</td>\n",
       "      <td id=\"T_87570_row10_col7\" class=\"data row10 col7\" >1499.000</td>\n",
       "      <td id=\"T_87570_row10_col8\" class=\"data row10 col8\" >3996.000</td>\n",
       "    </tr>\n",
       "    <tr>\n",
       "      <th id=\"T_87570_level0_row11\" class=\"row_heading level0 row11\" >11</th>\n",
       "      <td id=\"T_87570_row11_col0\" class=\"data row11 col0\" >EnginePower</td>\n",
       "      <td id=\"T_87570_row11_col1\" class=\"data row11 col1\" >1000.000</td>\n",
       "      <td id=\"T_87570_row11_col2\" class=\"data row11 col2\" >87.032</td>\n",
       "      <td id=\"T_87570_row11_col3\" class=\"data row11 col3\" >32.905</td>\n",
       "      <td id=\"T_87570_row11_col4\" class=\"data row11 col4\" >18.000</td>\n",
       "      <td id=\"T_87570_row11_col5\" class=\"data row11 col5\" >68.000</td>\n",
       "      <td id=\"T_87570_row11_col6\" class=\"data row11 col6\" >81.000</td>\n",
       "      <td id=\"T_87570_row11_col7\" class=\"data row11 col7\" >100.000</td>\n",
       "      <td id=\"T_87570_row11_col8\" class=\"data row11 col8\" >420.000</td>\n",
       "    </tr>\n",
       "    <tr>\n",
       "      <th id=\"T_87570_level0_row12\" class=\"row_heading level0 row12\" >12</th>\n",
       "      <td id=\"T_87570_row12_col0\" class=\"data row12 col0\" >ElectricConsumption</td>\n",
       "      <td id=\"T_87570_row12_col1\" class=\"data row12 col1\" >186.000</td>\n",
       "      <td id=\"T_87570_row12_col2\" class=\"data row12 col2\" >168.070</td>\n",
       "      <td id=\"T_87570_row12_col3\" class=\"data row12 col3\" >30.469</td>\n",
       "      <td id=\"T_87570_row12_col4\" class=\"data row12 col4\" >132.000</td>\n",
       "      <td id=\"T_87570_row12_col5\" class=\"data row12 col5\" >151.000</td>\n",
       "      <td id=\"T_87570_row12_col6\" class=\"data row12 col6\" >159.000</td>\n",
       "      <td id=\"T_87570_row12_col7\" class=\"data row12 col7\" >173.000</td>\n",
       "      <td id=\"T_87570_row12_col8\" class=\"data row12 col8\" >283.000</td>\n",
       "    </tr>\n",
       "    <tr>\n",
       "      <th id=\"T_87570_level0_row13\" class=\"row_heading level0 row13\" >13</th>\n",
       "      <td id=\"T_87570_row13_col0\" class=\"data row13 col0\" >InnovativeEmissionsReduction</td>\n",
       "      <td id=\"T_87570_row13_col1\" class=\"data row13 col1\" >0.000</td>\n",
       "      <td id=\"T_87570_row13_col2\" class=\"data row13 col2\" >nan</td>\n",
       "      <td id=\"T_87570_row13_col3\" class=\"data row13 col3\" >nan</td>\n",
       "      <td id=\"T_87570_row13_col4\" class=\"data row13 col4\" >nan</td>\n",
       "      <td id=\"T_87570_row13_col5\" class=\"data row13 col5\" >nan</td>\n",
       "      <td id=\"T_87570_row13_col6\" class=\"data row13 col6\" >nan</td>\n",
       "      <td id=\"T_87570_row13_col7\" class=\"data row13 col7\" >nan</td>\n",
       "      <td id=\"T_87570_row13_col8\" class=\"data row13 col8\" >nan</td>\n",
       "    </tr>\n",
       "    <tr>\n",
       "      <th id=\"T_87570_level0_row14\" class=\"row_heading level0 row14\" >14</th>\n",
       "      <td id=\"T_87570_row14_col0\" class=\"data row14 col0\" >InnovativeEmissionsReductionWltp</td>\n",
       "      <td id=\"T_87570_row14_col1\" class=\"data row14 col1\" >627.000</td>\n",
       "      <td id=\"T_87570_row14_col2\" class=\"data row14 col2\" >1.539</td>\n",
       "      <td id=\"T_87570_row14_col3\" class=\"data row14 col3\" >0.479</td>\n",
       "      <td id=\"T_87570_row14_col4\" class=\"data row14 col4\" >0.500</td>\n",
       "      <td id=\"T_87570_row14_col5\" class=\"data row14 col5\" >1.100</td>\n",
       "      <td id=\"T_87570_row14_col6\" class=\"data row14 col6\" >1.700</td>\n",
       "      <td id=\"T_87570_row14_col7\" class=\"data row14 col7\" >2.000</td>\n",
       "      <td id=\"T_87570_row14_col8\" class=\"data row14 col8\" >2.200</td>\n",
       "    </tr>\n",
       "    <tr>\n",
       "      <th id=\"T_87570_level0_row15\" class=\"row_heading level0 row15\" >15</th>\n",
       "      <td id=\"T_87570_row15_col0\" class=\"data row15 col0\" >DeviationFactor</td>\n",
       "      <td id=\"T_87570_row15_col1\" class=\"data row15 col1\" >0.000</td>\n",
       "      <td id=\"T_87570_row15_col2\" class=\"data row15 col2\" >nan</td>\n",
       "      <td id=\"T_87570_row15_col3\" class=\"data row15 col3\" >nan</td>\n",
       "      <td id=\"T_87570_row15_col4\" class=\"data row15 col4\" >nan</td>\n",
       "      <td id=\"T_87570_row15_col5\" class=\"data row15 col5\" >nan</td>\n",
       "      <td id=\"T_87570_row15_col6\" class=\"data row15 col6\" >nan</td>\n",
       "      <td id=\"T_87570_row15_col7\" class=\"data row15 col7\" >nan</td>\n",
       "      <td id=\"T_87570_row15_col8\" class=\"data row15 col8\" >nan</td>\n",
       "    </tr>\n",
       "    <tr>\n",
       "      <th id=\"T_87570_level0_row16\" class=\"row_heading level0 row16\" >16</th>\n",
       "      <td id=\"T_87570_row16_col0\" class=\"data row16 col0\" >VerificationFactor</td>\n",
       "      <td id=\"T_87570_row16_col1\" class=\"data row16 col1\" >0.000</td>\n",
       "      <td id=\"T_87570_row16_col2\" class=\"data row16 col2\" >nan</td>\n",
       "      <td id=\"T_87570_row16_col3\" class=\"data row16 col3\" >nan</td>\n",
       "      <td id=\"T_87570_row16_col4\" class=\"data row16 col4\" >nan</td>\n",
       "      <td id=\"T_87570_row16_col5\" class=\"data row16 col5\" >nan</td>\n",
       "      <td id=\"T_87570_row16_col6\" class=\"data row16 col6\" >nan</td>\n",
       "      <td id=\"T_87570_row16_col7\" class=\"data row16 col7\" >nan</td>\n",
       "      <td id=\"T_87570_row16_col8\" class=\"data row16 col8\" >nan</td>\n",
       "    </tr>\n",
       "    <tr>\n",
       "      <th id=\"T_87570_level0_row17\" class=\"row_heading level0 row17\" >17</th>\n",
       "      <td id=\"T_87570_row17_col0\" class=\"data row17 col0\" >RegistrationYear</td>\n",
       "      <td id=\"T_87570_row17_col1\" class=\"data row17 col1\" >1000.000</td>\n",
       "      <td id=\"T_87570_row17_col2\" class=\"data row17 col2\" >2021.000</td>\n",
       "      <td id=\"T_87570_row17_col3\" class=\"data row17 col3\" >0.000</td>\n",
       "      <td id=\"T_87570_row17_col4\" class=\"data row17 col4\" >2021.000</td>\n",
       "      <td id=\"T_87570_row17_col5\" class=\"data row17 col5\" >2021.000</td>\n",
       "      <td id=\"T_87570_row17_col6\" class=\"data row17 col6\" >2021.000</td>\n",
       "      <td id=\"T_87570_row17_col7\" class=\"data row17 col7\" >2021.000</td>\n",
       "      <td id=\"T_87570_row17_col8\" class=\"data row17 col8\" >2021.000</td>\n",
       "    </tr>\n",
       "    <tr>\n",
       "      <th id=\"T_87570_level0_row18\" class=\"row_heading level0 row18\" >18</th>\n",
       "      <td id=\"T_87570_row18_col0\" class=\"data row18 col0\" >FuelConsumption</td>\n",
       "      <td id=\"T_87570_row18_col1\" class=\"data row18 col1\" >770.000</td>\n",
       "      <td id=\"T_87570_row18_col2\" class=\"data row18 col2\" >5.100</td>\n",
       "      <td id=\"T_87570_row18_col3\" class=\"data row18 col3\" >1.377</td>\n",
       "      <td id=\"T_87570_row18_col4\" class=\"data row18 col4\" >1.000</td>\n",
       "      <td id=\"T_87570_row18_col5\" class=\"data row18 col5\" >4.800</td>\n",
       "      <td id=\"T_87570_row18_col6\" class=\"data row18 col6\" >5.300</td>\n",
       "      <td id=\"T_87570_row18_col7\" class=\"data row18 col7\" >5.900</td>\n",
       "      <td id=\"T_87570_row18_col8\" class=\"data row18 col8\" >10.100</td>\n",
       "    </tr>\n",
       "    <tr>\n",
       "      <th id=\"T_87570_level0_row19\" class=\"row_heading level0 row19\" >19</th>\n",
       "      <td id=\"T_87570_row19_col0\" class=\"data row19 col0\" >ElectricRange</td>\n",
       "      <td id=\"T_87570_row19_col1\" class=\"data row19 col1\" >186.000</td>\n",
       "      <td id=\"T_87570_row19_col2\" class=\"data row19 col2\" >234.882</td>\n",
       "      <td id=\"T_87570_row19_col3\" class=\"data row19 col3\" >175.623</td>\n",
       "      <td id=\"T_87570_row19_col4\" class=\"data row19 col4\" >41.000</td>\n",
       "      <td id=\"T_87570_row19_col5\" class=\"data row19 col5\" >57.000</td>\n",
       "      <td id=\"T_87570_row19_col6\" class=\"data row19 col6\" >229.500</td>\n",
       "      <td id=\"T_87570_row19_col7\" class=\"data row19 col7\" >394.750</td>\n",
       "      <td id=\"T_87570_row19_col8\" class=\"data row19 col8\" >614.000</td>\n",
       "    </tr>\n",
       "  </tbody>\n",
       "</table>\n"
      ],
      "text/plain": [
       "<pandas.io.formats.style.Styler at 0x7fa23c3da1f0>"
      ]
     },
     "metadata": {},
     "output_type": "display_data"
    }
   ],
   "source": [
    "co2.styles.display_describe(df)"
   ]
  },
  {
   "cell_type": "code",
   "execution_count": 7,
   "metadata": {},
   "outputs": [
    {
     "data": {
      "text/html": [
       "<style type=\"text/css\">\n",
       "#T_301d1 th {\n",
       "  background-color: steelblue;\n",
       "  color: white;\n",
       "}\n",
       "#T_301d1 tr:nth-of-type(odd) {\n",
       "  background-color: aliceblue;\n",
       "}\n",
       "#T_301d1 tr:nth-of-type(even) {\n",
       "  background-color: white;\n",
       "}\n",
       "</style>\n",
       "<table id=\"T_301d1\">\n",
       "  <thead>\n",
       "    <tr>\n",
       "      <th class=\"blank level0\" >&nbsp;</th>\n",
       "      <th id=\"T_301d1_level0_col0\" class=\"col_heading level0 col0\" >Column</th>\n",
       "      <th id=\"T_301d1_level0_col1\" class=\"col_heading level0 col1\" >Non-Null Count</th>\n",
       "      <th id=\"T_301d1_level0_col2\" class=\"col_heading level0 col2\" >Dtype</th>\n",
       "    </tr>\n",
       "  </thead>\n",
       "  <tbody>\n",
       "    <tr>\n",
       "      <th id=\"T_301d1_level0_row0\" class=\"row_heading level0 row0\" >0</th>\n",
       "      <td id=\"T_301d1_row0_col0\" class=\"data row0 col0\" >ID</td>\n",
       "      <td id=\"T_301d1_row0_col1\" class=\"data row0 col1\" >1000 non-null</td>\n",
       "      <td id=\"T_301d1_row0_col2\" class=\"data row0 col2\" >int64</td>\n",
       "    </tr>\n",
       "    <tr>\n",
       "      <th id=\"T_301d1_level0_row1\" class=\"row_heading level0 row1\" >1</th>\n",
       "      <td id=\"T_301d1_row1_col0\" class=\"data row1 col0\" >Country</td>\n",
       "      <td id=\"T_301d1_row1_col1\" class=\"data row1 col1\" >1000 non-null</td>\n",
       "      <td id=\"T_301d1_row1_col2\" class=\"data row1 col2\" >object</td>\n",
       "    </tr>\n",
       "    <tr>\n",
       "      <th id=\"T_301d1_level0_row2\" class=\"row_heading level0 row2\" >2</th>\n",
       "      <td id=\"T_301d1_row2_col0\" class=\"data row2 col0\" >VehicleFamilyIdentification</td>\n",
       "      <td id=\"T_301d1_row2_col1\" class=\"data row2 col1\" >1000 non-null</td>\n",
       "      <td id=\"T_301d1_row2_col2\" class=\"data row2 col2\" >object</td>\n",
       "    </tr>\n",
       "    <tr>\n",
       "      <th id=\"T_301d1_level0_row3\" class=\"row_heading level0 row3\" >3</th>\n",
       "      <td id=\"T_301d1_row3_col0\" class=\"data row3 col0\" >Pool</td>\n",
       "      <td id=\"T_301d1_row3_col1\" class=\"data row3 col1\" >980 non-null</td>\n",
       "      <td id=\"T_301d1_row3_col2\" class=\"data row3 col2\" >object</td>\n",
       "    </tr>\n",
       "    <tr>\n",
       "      <th id=\"T_301d1_level0_row4\" class=\"row_heading level0 row4\" >4</th>\n",
       "      <td id=\"T_301d1_row4_col0\" class=\"data row4 col0\" >ManufacturerName</td>\n",
       "      <td id=\"T_301d1_row4_col1\" class=\"data row4 col1\" >1000 non-null</td>\n",
       "      <td id=\"T_301d1_row4_col2\" class=\"data row4 col2\" >object</td>\n",
       "    </tr>\n",
       "    <tr>\n",
       "      <th id=\"T_301d1_level0_row5\" class=\"row_heading level0 row5\" >5</th>\n",
       "      <td id=\"T_301d1_row5_col0\" class=\"data row5 col0\" >ManufNameOem</td>\n",
       "      <td id=\"T_301d1_row5_col1\" class=\"data row5 col1\" >1000 non-null</td>\n",
       "      <td id=\"T_301d1_row5_col2\" class=\"data row5 col2\" >object</td>\n",
       "    </tr>\n",
       "    <tr>\n",
       "      <th id=\"T_301d1_level0_row6\" class=\"row_heading level0 row6\" >6</th>\n",
       "      <td id=\"T_301d1_row6_col0\" class=\"data row6 col0\" >ManufNameMS</td>\n",
       "      <td id=\"T_301d1_row6_col1\" class=\"data row6 col1\" >0 non-null</td>\n",
       "      <td id=\"T_301d1_row6_col2\" class=\"data row6 col2\" >float64</td>\n",
       "    </tr>\n",
       "    <tr>\n",
       "      <th id=\"T_301d1_level0_row7\" class=\"row_heading level0 row7\" >7</th>\n",
       "      <td id=\"T_301d1_row7_col0\" class=\"data row7 col0\" >TypeApprovalNumber</td>\n",
       "      <td id=\"T_301d1_row7_col1\" class=\"data row7 col1\" >1000 non-null</td>\n",
       "      <td id=\"T_301d1_row7_col2\" class=\"data row7 col2\" >object</td>\n",
       "    </tr>\n",
       "    <tr>\n",
       "      <th id=\"T_301d1_level0_row8\" class=\"row_heading level0 row8\" >8</th>\n",
       "      <td id=\"T_301d1_row8_col0\" class=\"data row8 col0\" >Type</td>\n",
       "      <td id=\"T_301d1_row8_col1\" class=\"data row8 col1\" >1000 non-null</td>\n",
       "      <td id=\"T_301d1_row8_col2\" class=\"data row8 col2\" >object</td>\n",
       "    </tr>\n",
       "    <tr>\n",
       "      <th id=\"T_301d1_level0_row9\" class=\"row_heading level0 row9\" >9</th>\n",
       "      <td id=\"T_301d1_row9_col0\" class=\"data row9 col0\" >Variant</td>\n",
       "      <td id=\"T_301d1_row9_col1\" class=\"data row9 col1\" >1000 non-null</td>\n",
       "      <td id=\"T_301d1_row9_col2\" class=\"data row9 col2\" >object</td>\n",
       "    </tr>\n",
       "    <tr>\n",
       "      <th id=\"T_301d1_level0_row10\" class=\"row_heading level0 row10\" >10</th>\n",
       "      <td id=\"T_301d1_row10_col0\" class=\"data row10 col0\" >Version</td>\n",
       "      <td id=\"T_301d1_row10_col1\" class=\"data row10 col1\" >1000 non-null</td>\n",
       "      <td id=\"T_301d1_row10_col2\" class=\"data row10 col2\" >object</td>\n",
       "    </tr>\n",
       "    <tr>\n",
       "      <th id=\"T_301d1_level0_row11\" class=\"row_heading level0 row11\" >11</th>\n",
       "      <td id=\"T_301d1_row11_col0\" class=\"data row11 col0\" >Make</td>\n",
       "      <td id=\"T_301d1_row11_col1\" class=\"data row11 col1\" >1000 non-null</td>\n",
       "      <td id=\"T_301d1_row11_col2\" class=\"data row11 col2\" >object</td>\n",
       "    </tr>\n",
       "    <tr>\n",
       "      <th id=\"T_301d1_level0_row12\" class=\"row_heading level0 row12\" >12</th>\n",
       "      <td id=\"T_301d1_row12_col0\" class=\"data row12 col0\" >CommercialName</td>\n",
       "      <td id=\"T_301d1_row12_col1\" class=\"data row12 col1\" >1000 non-null</td>\n",
       "      <td id=\"T_301d1_row12_col2\" class=\"data row12 col2\" >object</td>\n",
       "    </tr>\n",
       "    <tr>\n",
       "      <th id=\"T_301d1_level0_row13\" class=\"row_heading level0 row13\" >13</th>\n",
       "      <td id=\"T_301d1_row13_col0\" class=\"data row13 col0\" >VehicleCategory</td>\n",
       "      <td id=\"T_301d1_row13_col1\" class=\"data row13 col1\" >1000 non-null</td>\n",
       "      <td id=\"T_301d1_row13_col2\" class=\"data row13 col2\" >object</td>\n",
       "    </tr>\n",
       "    <tr>\n",
       "      <th id=\"T_301d1_level0_row14\" class=\"row_heading level0 row14\" >14</th>\n",
       "      <td id=\"T_301d1_row14_col0\" class=\"data row14 col0\" >CategoryOf</td>\n",
       "      <td id=\"T_301d1_row14_col1\" class=\"data row14 col1\" >1000 non-null</td>\n",
       "      <td id=\"T_301d1_row14_col2\" class=\"data row14 col2\" >object</td>\n",
       "    </tr>\n",
       "    <tr>\n",
       "      <th id=\"T_301d1_level0_row15\" class=\"row_heading level0 row15\" >15</th>\n",
       "      <td id=\"T_301d1_row15_col0\" class=\"data row15 col0\" >TotalNewRegistrations</td>\n",
       "      <td id=\"T_301d1_row15_col1\" class=\"data row15 col1\" >1000 non-null</td>\n",
       "      <td id=\"T_301d1_row15_col2\" class=\"data row15 col2\" >int64</td>\n",
       "    </tr>\n",
       "    <tr>\n",
       "      <th id=\"T_301d1_level0_row16\" class=\"row_heading level0 row16\" >16</th>\n",
       "      <td id=\"T_301d1_row16_col0\" class=\"data row16 col0\" >MassRunningOrder</td>\n",
       "      <td id=\"T_301d1_row16_col1\" class=\"data row16 col1\" >1000 non-null</td>\n",
       "      <td id=\"T_301d1_row16_col2\" class=\"data row16 col2\" >float64</td>\n",
       "    </tr>\n",
       "    <tr>\n",
       "      <th id=\"T_301d1_level0_row17\" class=\"row_heading level0 row17\" >17</th>\n",
       "      <td id=\"T_301d1_row17_col0\" class=\"data row17 col0\" >WltpTestMass</td>\n",
       "      <td id=\"T_301d1_row17_col1\" class=\"data row17 col1\" >1000 non-null</td>\n",
       "      <td id=\"T_301d1_row17_col2\" class=\"data row17 col2\" >float64</td>\n",
       "    </tr>\n",
       "    <tr>\n",
       "      <th id=\"T_301d1_level0_row18\" class=\"row_heading level0 row18\" >18</th>\n",
       "      <td id=\"T_301d1_row18_col0\" class=\"data row18 col0\" >Co2EmissionsNedc</td>\n",
       "      <td id=\"T_301d1_row18_col1\" class=\"data row18 col1\" >104 non-null</td>\n",
       "      <td id=\"T_301d1_row18_col2\" class=\"data row18 col2\" >float64</td>\n",
       "    </tr>\n",
       "    <tr>\n",
       "      <th id=\"T_301d1_level0_row19\" class=\"row_heading level0 row19\" >19</th>\n",
       "      <td id=\"T_301d1_row19_col0\" class=\"data row19 col0\" >Co2EmissionsWltp</td>\n",
       "      <td id=\"T_301d1_row19_col1\" class=\"data row19 col1\" >1000 non-null</td>\n",
       "      <td id=\"T_301d1_row19_col2\" class=\"data row19 col2\" >float64</td>\n",
       "    </tr>\n",
       "    <tr>\n",
       "      <th id=\"T_301d1_level0_row20\" class=\"row_heading level0 row20\" >20</th>\n",
       "      <td id=\"T_301d1_row20_col0\" class=\"data row20 col0\" >BaseWheel</td>\n",
       "      <td id=\"T_301d1_row20_col1\" class=\"data row20 col1\" >1000 non-null</td>\n",
       "      <td id=\"T_301d1_row20_col2\" class=\"data row20 col2\" >float64</td>\n",
       "    </tr>\n",
       "    <tr>\n",
       "      <th id=\"T_301d1_level0_row21\" class=\"row_heading level0 row21\" >21</th>\n",
       "      <td id=\"T_301d1_row21_col0\" class=\"data row21 col0\" >AxleWidthSteering</td>\n",
       "      <td id=\"T_301d1_row21_col1\" class=\"data row21 col1\" >1000 non-null</td>\n",
       "      <td id=\"T_301d1_row21_col2\" class=\"data row21 col2\" >float64</td>\n",
       "    </tr>\n",
       "    <tr>\n",
       "      <th id=\"T_301d1_level0_row22\" class=\"row_heading level0 row22\" >22</th>\n",
       "      <td id=\"T_301d1_row22_col0\" class=\"data row22 col0\" >AxleWidthOther</td>\n",
       "      <td id=\"T_301d1_row22_col1\" class=\"data row22 col1\" >1000 non-null</td>\n",
       "      <td id=\"T_301d1_row22_col2\" class=\"data row22 col2\" >float64</td>\n",
       "    </tr>\n",
       "    <tr>\n",
       "      <th id=\"T_301d1_level0_row23\" class=\"row_heading level0 row23\" >23</th>\n",
       "      <td id=\"T_301d1_row23_col0\" class=\"data row23 col0\" >FuelType</td>\n",
       "      <td id=\"T_301d1_row23_col1\" class=\"data row23 col1\" >1000 non-null</td>\n",
       "      <td id=\"T_301d1_row23_col2\" class=\"data row23 col2\" >object</td>\n",
       "    </tr>\n",
       "    <tr>\n",
       "      <th id=\"T_301d1_level0_row24\" class=\"row_heading level0 row24\" >24</th>\n",
       "      <td id=\"T_301d1_row24_col0\" class=\"data row24 col0\" >FuelMode</td>\n",
       "      <td id=\"T_301d1_row24_col1\" class=\"data row24 col1\" >1000 non-null</td>\n",
       "      <td id=\"T_301d1_row24_col2\" class=\"data row24 col2\" >object</td>\n",
       "    </tr>\n",
       "    <tr>\n",
       "      <th id=\"T_301d1_level0_row25\" class=\"row_heading level0 row25\" >25</th>\n",
       "      <td id=\"T_301d1_row25_col0\" class=\"data row25 col0\" >EngineCapacity</td>\n",
       "      <td id=\"T_301d1_row25_col1\" class=\"data row25 col1\" >896 non-null</td>\n",
       "      <td id=\"T_301d1_row25_col2\" class=\"data row25 col2\" >float64</td>\n",
       "    </tr>\n",
       "    <tr>\n",
       "      <th id=\"T_301d1_level0_row26\" class=\"row_heading level0 row26\" >26</th>\n",
       "      <td id=\"T_301d1_row26_col0\" class=\"data row26 col0\" >EnginePower</td>\n",
       "      <td id=\"T_301d1_row26_col1\" class=\"data row26 col1\" >1000 non-null</td>\n",
       "      <td id=\"T_301d1_row26_col2\" class=\"data row26 col2\" >float64</td>\n",
       "    </tr>\n",
       "    <tr>\n",
       "      <th id=\"T_301d1_level0_row27\" class=\"row_heading level0 row27\" >27</th>\n",
       "      <td id=\"T_301d1_row27_col0\" class=\"data row27 col0\" >ElectricConsumption</td>\n",
       "      <td id=\"T_301d1_row27_col1\" class=\"data row27 col1\" >186 non-null</td>\n",
       "      <td id=\"T_301d1_row27_col2\" class=\"data row27 col2\" >float64</td>\n",
       "    </tr>\n",
       "    <tr>\n",
       "      <th id=\"T_301d1_level0_row28\" class=\"row_heading level0 row28\" >28</th>\n",
       "      <td id=\"T_301d1_row28_col0\" class=\"data row28 col0\" >InnovativeTechnology</td>\n",
       "      <td id=\"T_301d1_row28_col1\" class=\"data row28 col1\" >627 non-null</td>\n",
       "      <td id=\"T_301d1_row28_col2\" class=\"data row28 col2\" >object</td>\n",
       "    </tr>\n",
       "    <tr>\n",
       "      <th id=\"T_301d1_level0_row29\" class=\"row_heading level0 row29\" >29</th>\n",
       "      <td id=\"T_301d1_row29_col0\" class=\"data row29 col0\" >InnovativeEmissionsReduction</td>\n",
       "      <td id=\"T_301d1_row29_col1\" class=\"data row29 col1\" >0 non-null</td>\n",
       "      <td id=\"T_301d1_row29_col2\" class=\"data row29 col2\" >float64</td>\n",
       "    </tr>\n",
       "    <tr>\n",
       "      <th id=\"T_301d1_level0_row30\" class=\"row_heading level0 row30\" >30</th>\n",
       "      <td id=\"T_301d1_row30_col0\" class=\"data row30 col0\" >InnovativeEmissionsReductionWltp</td>\n",
       "      <td id=\"T_301d1_row30_col1\" class=\"data row30 col1\" >627 non-null</td>\n",
       "      <td id=\"T_301d1_row30_col2\" class=\"data row30 col2\" >float64</td>\n",
       "    </tr>\n",
       "    <tr>\n",
       "      <th id=\"T_301d1_level0_row31\" class=\"row_heading level0 row31\" >31</th>\n",
       "      <td id=\"T_301d1_row31_col0\" class=\"data row31 col0\" >DeviationFactor</td>\n",
       "      <td id=\"T_301d1_row31_col1\" class=\"data row31 col1\" >0 non-null</td>\n",
       "      <td id=\"T_301d1_row31_col2\" class=\"data row31 col2\" >float64</td>\n",
       "    </tr>\n",
       "    <tr>\n",
       "      <th id=\"T_301d1_level0_row32\" class=\"row_heading level0 row32\" >32</th>\n",
       "      <td id=\"T_301d1_row32_col0\" class=\"data row32 col0\" >VerificationFactor</td>\n",
       "      <td id=\"T_301d1_row32_col1\" class=\"data row32 col1\" >0 non-null</td>\n",
       "      <td id=\"T_301d1_row32_col2\" class=\"data row32 col2\" >float64</td>\n",
       "    </tr>\n",
       "    <tr>\n",
       "      <th id=\"T_301d1_level0_row33\" class=\"row_heading level0 row33\" >33</th>\n",
       "      <td id=\"T_301d1_row33_col0\" class=\"data row33 col0\" >Status</td>\n",
       "      <td id=\"T_301d1_row33_col1\" class=\"data row33 col1\" >1000 non-null</td>\n",
       "      <td id=\"T_301d1_row33_col2\" class=\"data row33 col2\" >object</td>\n",
       "    </tr>\n",
       "    <tr>\n",
       "      <th id=\"T_301d1_level0_row34\" class=\"row_heading level0 row34\" >34</th>\n",
       "      <td id=\"T_301d1_row34_col0\" class=\"data row34 col0\" >RegistrationYear</td>\n",
       "      <td id=\"T_301d1_row34_col1\" class=\"data row34 col1\" >1000 non-null</td>\n",
       "      <td id=\"T_301d1_row34_col2\" class=\"data row34 col2\" >int64</td>\n",
       "    </tr>\n",
       "    <tr>\n",
       "      <th id=\"T_301d1_level0_row35\" class=\"row_heading level0 row35\" >35</th>\n",
       "      <td id=\"T_301d1_row35_col0\" class=\"data row35 col0\" >RegistrationDate</td>\n",
       "      <td id=\"T_301d1_row35_col1\" class=\"data row35 col1\" >1000 non-null</td>\n",
       "      <td id=\"T_301d1_row35_col2\" class=\"data row35 col2\" >object</td>\n",
       "    </tr>\n",
       "    <tr>\n",
       "      <th id=\"T_301d1_level0_row36\" class=\"row_heading level0 row36\" >36</th>\n",
       "      <td id=\"T_301d1_row36_col0\" class=\"data row36 col0\" >FuelConsumption</td>\n",
       "      <td id=\"T_301d1_row36_col1\" class=\"data row36 col1\" >770 non-null</td>\n",
       "      <td id=\"T_301d1_row36_col2\" class=\"data row36 col2\" >float64</td>\n",
       "    </tr>\n",
       "    <tr>\n",
       "      <th id=\"T_301d1_level0_row37\" class=\"row_heading level0 row37\" >37</th>\n",
       "      <td id=\"T_301d1_row37_col0\" class=\"data row37 col0\" >ElectricRange</td>\n",
       "      <td id=\"T_301d1_row37_col1\" class=\"data row37 col1\" >186 non-null</td>\n",
       "      <td id=\"T_301d1_row37_col2\" class=\"data row37 col2\" >float64</td>\n",
       "    </tr>\n",
       "  </tbody>\n",
       "</table>\n"
      ],
      "text/plain": [
       "<pandas.io.formats.style.Styler at 0x7fa19323fd00>"
      ]
     },
     "metadata": {},
     "output_type": "display_data"
    },
    {
     "data": {
      "text/html": [
       "<style type=\"text/css\">\n",
       "#T_9acec th {\n",
       "  background-color: steelblue;\n",
       "  color: white;\n",
       "}\n",
       "#T_9acec tr:nth-of-type(odd) {\n",
       "  background-color: aliceblue;\n",
       "}\n",
       "#T_9acec tr:nth-of-type(even) {\n",
       "  background-color: white;\n",
       "}\n",
       "</style>\n",
       "<table id=\"T_9acec\">\n",
       "  <thead>\n",
       "    <tr>\n",
       "      <th class=\"blank level0\" >&nbsp;</th>\n",
       "      <th id=\"T_9acec_level0_col0\" class=\"col_heading level0 col0\" >Info</th>\n",
       "    </tr>\n",
       "  </thead>\n",
       "  <tbody>\n",
       "    <tr>\n",
       "      <th id=\"T_9acec_level0_row0\" class=\"row_heading level0 row0\" >0</th>\n",
       "      <td id=\"T_9acec_row0_col0\" class=\"data row0 col0\" >RangeIndex: 1000 entries, 0 to 999</td>\n",
       "    </tr>\n",
       "    <tr>\n",
       "      <th id=\"T_9acec_level0_row1\" class=\"row_heading level0 row1\" >1</th>\n",
       "      <td id=\"T_9acec_row1_col0\" class=\"data row1 col0\" >Data columns (total 38 columns):</td>\n",
       "    </tr>\n",
       "    <tr>\n",
       "      <th id=\"T_9acec_level0_row2\" class=\"row_heading level0 row2\" >2</th>\n",
       "      <td id=\"T_9acec_row2_col0\" class=\"data row2 col0\" > 37  ElectricRange                     186 non-null    float64</td>\n",
       "    </tr>\n",
       "    <tr>\n",
       "      <th id=\"T_9acec_level0_row3\" class=\"row_heading level0 row3\" >3</th>\n",
       "      <td id=\"T_9acec_row3_col0\" class=\"data row3 col0\" >dtypes: float64(17), int64(3), object(18)</td>\n",
       "    </tr>\n",
       "    <tr>\n",
       "      <th id=\"T_9acec_level0_row4\" class=\"row_heading level0 row4\" >4</th>\n",
       "      <td id=\"T_9acec_row4_col0\" class=\"data row4 col0\" >memory usage: 297.0+ KB</td>\n",
       "    </tr>\n",
       "  </tbody>\n",
       "</table>\n"
      ],
      "text/plain": [
       "<pandas.io.formats.style.Styler at 0x7fa19323fc70>"
      ]
     },
     "metadata": {},
     "output_type": "display_data"
    }
   ],
   "source": [
    "df = co2.data.convert_dtypes(df)\n",
    "co2.styles.display_info(df)"
   ]
  },
  {
   "cell_type": "code",
   "execution_count": 8,
   "metadata": {},
   "outputs": [
    {
     "data": {
      "text/plain": [
       "Index(['ID', 'Country', 'VehicleFamilyIdentification', 'Pool',\n",
       "       'ManufacturerName', 'ManufNameOem', 'ManufNameMS', 'TypeApprovalNumber',\n",
       "       'Type', 'Variant', 'Version', 'Make', 'CommercialName',\n",
       "       'VehicleCategory', 'CategoryOf', 'TotalNewRegistrations',\n",
       "       'MassRunningOrder', 'WltpTestMass', 'Co2EmissionsNedc',\n",
       "       'Co2EmissionsWltp', 'BaseWheel', 'AxleWidthSteering', 'AxleWidthOther',\n",
       "       'FuelType', 'FuelMode', 'EngineCapacity', 'EnginePower',\n",
       "       'ElectricConsumption', 'InnovativeTechnology',\n",
       "       'InnovativeEmissionsReduction', 'InnovativeEmissionsReductionWltp',\n",
       "       'DeviationFactor', 'VerificationFactor', 'Status', 'RegistrationYear',\n",
       "       'RegistrationDate', 'FuelConsumption', 'ElectricRange'],\n",
       "      dtype='object')"
      ]
     },
     "execution_count": 8,
     "metadata": {},
     "output_type": "execute_result"
    }
   ],
   "source": [
    "df.columns"
   ]
  },
  {
   "cell_type": "code",
   "execution_count": 9,
   "metadata": {},
   "outputs": [
    {
     "data": {
      "text/html": [
       "<style type=\"text/css\">\n",
       "#T_3e4b8 th {\n",
       "  background-color: steelblue;\n",
       "  color: white;\n",
       "}\n",
       "#T_3e4b8 tr:nth-of-type(odd) {\n",
       "  background-color: aliceblue;\n",
       "}\n",
       "#T_3e4b8 tr:nth-of-type(even) {\n",
       "  background-color: white;\n",
       "}\n",
       "</style>\n",
       "<table id=\"T_3e4b8\">\n",
       "  <thead>\n",
       "    <tr>\n",
       "      <th class=\"blank level0\" >&nbsp;</th>\n",
       "      <th id=\"T_3e4b8_level0_col0\" class=\"col_heading level0 col0\" >ID</th>\n",
       "      <th id=\"T_3e4b8_level0_col1\" class=\"col_heading level0 col1\" >Country</th>\n",
       "      <th id=\"T_3e4b8_level0_col2\" class=\"col_heading level0 col2\" >Pool</th>\n",
       "      <th id=\"T_3e4b8_level0_col3\" class=\"col_heading level0 col3\" >ManufacturerName</th>\n",
       "      <th id=\"T_3e4b8_level0_col4\" class=\"col_heading level0 col4\" >ManufNameOem</th>\n",
       "      <th id=\"T_3e4b8_level0_col5\" class=\"col_heading level0 col5\" >Make</th>\n",
       "      <th id=\"T_3e4b8_level0_col6\" class=\"col_heading level0 col6\" >CategoryOf</th>\n",
       "      <th id=\"T_3e4b8_level0_col7\" class=\"col_heading level0 col7\" >MassRunningOrder</th>\n",
       "      <th id=\"T_3e4b8_level0_col8\" class=\"col_heading level0 col8\" >WltpTestMass</th>\n",
       "      <th id=\"T_3e4b8_level0_col9\" class=\"col_heading level0 col9\" >Co2EmissionsWltp</th>\n",
       "      <th id=\"T_3e4b8_level0_col10\" class=\"col_heading level0 col10\" >BaseWheel</th>\n",
       "      <th id=\"T_3e4b8_level0_col11\" class=\"col_heading level0 col11\" >AxleWidthSteering</th>\n",
       "      <th id=\"T_3e4b8_level0_col12\" class=\"col_heading level0 col12\" >FuelType</th>\n",
       "      <th id=\"T_3e4b8_level0_col13\" class=\"col_heading level0 col13\" >FuelMode</th>\n",
       "      <th id=\"T_3e4b8_level0_col14\" class=\"col_heading level0 col14\" >EngineCapacity</th>\n",
       "      <th id=\"T_3e4b8_level0_col15\" class=\"col_heading level0 col15\" >EnginePower</th>\n",
       "      <th id=\"T_3e4b8_level0_col16\" class=\"col_heading level0 col16\" >ElectricConsumption</th>\n",
       "      <th id=\"T_3e4b8_level0_col17\" class=\"col_heading level0 col17\" >InnovativeTechnology</th>\n",
       "      <th id=\"T_3e4b8_level0_col18\" class=\"col_heading level0 col18\" >InnovativeEmissionsReductionWltp</th>\n",
       "      <th id=\"T_3e4b8_level0_col19\" class=\"col_heading level0 col19\" >RegistrationDate</th>\n",
       "      <th id=\"T_3e4b8_level0_col20\" class=\"col_heading level0 col20\" >FuelConsumption</th>\n",
       "      <th id=\"T_3e4b8_level0_col21\" class=\"col_heading level0 col21\" >ElectricRange</th>\n",
       "    </tr>\n",
       "  </thead>\n",
       "  <tbody>\n",
       "    <tr>\n",
       "      <th id=\"T_3e4b8_level0_row0\" class=\"row_heading level0 row0\" >0</th>\n",
       "      <td id=\"T_3e4b8_row0_col0\" class=\"data row0 col0\" >54928152</td>\n",
       "      <td id=\"T_3e4b8_row0_col1\" class=\"data row0 col1\" >FR</td>\n",
       "      <td id=\"T_3e4b8_row0_col2\" class=\"data row0 col2\" >STELLANTIS</td>\n",
       "      <td id=\"T_3e4b8_row0_col3\" class=\"data row0 col3\" >PSA</td>\n",
       "      <td id=\"T_3e4b8_row0_col4\" class=\"data row0 col4\" >PSA AUTOMOBILES SA</td>\n",
       "      <td id=\"T_3e4b8_row0_col5\" class=\"data row0 col5\" >PEUGEOT</td>\n",
       "      <td id=\"T_3e4b8_row0_col6\" class=\"data row0 col6\" >M1</td>\n",
       "      <td id=\"T_3e4b8_row0_col7\" class=\"data row0 col7\" >1530.000</td>\n",
       "      <td id=\"T_3e4b8_row0_col8\" class=\"data row0 col8\" >1613.000</td>\n",
       "      <td id=\"T_3e4b8_row0_col9\" class=\"data row0 col9\" >0.000</td>\n",
       "      <td id=\"T_3e4b8_row0_col10\" class=\"data row0 col10\" >2540.000</td>\n",
       "      <td id=\"T_3e4b8_row0_col11\" class=\"data row0 col11\" >1500.000</td>\n",
       "      <td id=\"T_3e4b8_row0_col12\" class=\"data row0 col12\" >ELECTRIC</td>\n",
       "      <td id=\"T_3e4b8_row0_col13\" class=\"data row0 col13\" >E</td>\n",
       "      <td id=\"T_3e4b8_row0_col14\" class=\"data row0 col14\" >nan</td>\n",
       "      <td id=\"T_3e4b8_row0_col15\" class=\"data row0 col15\" >57.000</td>\n",
       "      <td id=\"T_3e4b8_row0_col16\" class=\"data row0 col16\" >163.000</td>\n",
       "      <td id=\"T_3e4b8_row0_col17\" class=\"data row0 col17\" >nan</td>\n",
       "      <td id=\"T_3e4b8_row0_col18\" class=\"data row0 col18\" >nan</td>\n",
       "      <td id=\"T_3e4b8_row0_col19\" class=\"data row0 col19\" >2021-07-02</td>\n",
       "      <td id=\"T_3e4b8_row0_col20\" class=\"data row0 col20\" >nan</td>\n",
       "      <td id=\"T_3e4b8_row0_col21\" class=\"data row0 col21\" >340.000</td>\n",
       "    </tr>\n",
       "    <tr>\n",
       "      <th id=\"T_3e4b8_level0_row1\" class=\"row_heading level0 row1\" >1</th>\n",
       "      <td id=\"T_3e4b8_row1_col0\" class=\"data row1 col0\" >55417592</td>\n",
       "      <td id=\"T_3e4b8_row1_col1\" class=\"data row1 col1\" >FR</td>\n",
       "      <td id=\"T_3e4b8_row1_col2\" class=\"data row1 col2\" >VW-SAIC</td>\n",
       "      <td id=\"T_3e4b8_row1_col3\" class=\"data row1 col3\" >VOLKSWAGEN</td>\n",
       "      <td id=\"T_3e4b8_row1_col4\" class=\"data row1 col4\" >VOLKSWAGEN AG</td>\n",
       "      <td id=\"T_3e4b8_row1_col5\" class=\"data row1 col5\" >VOLKSWAGEN</td>\n",
       "      <td id=\"T_3e4b8_row1_col6\" class=\"data row1 col6\" >M1</td>\n",
       "      <td id=\"T_3e4b8_row1_col7\" class=\"data row1 col7\" >1819.000</td>\n",
       "      <td id=\"T_3e4b8_row1_col8\" class=\"data row1 col8\" >2027.000</td>\n",
       "      <td id=\"T_3e4b8_row1_col9\" class=\"data row1 col9\" >43.000</td>\n",
       "      <td id=\"T_3e4b8_row1_col10\" class=\"data row1 col10\" >2680.000</td>\n",
       "      <td id=\"T_3e4b8_row1_col11\" class=\"data row1 col11\" >1576.000</td>\n",
       "      <td id=\"T_3e4b8_row1_col12\" class=\"data row1 col12\" >PETROL/ELECTRIC</td>\n",
       "      <td id=\"T_3e4b8_row1_col13\" class=\"data row1 col13\" >P</td>\n",
       "      <td id=\"T_3e4b8_row1_col14\" class=\"data row1 col14\" >1395.000</td>\n",
       "      <td id=\"T_3e4b8_row1_col15\" class=\"data row1 col15\" >110.000</td>\n",
       "      <td id=\"T_3e4b8_row1_col16\" class=\"data row1 col16\" >169.000</td>\n",
       "      <td id=\"T_3e4b8_row1_col17\" class=\"data row1 col17\" >nan</td>\n",
       "      <td id=\"T_3e4b8_row1_col18\" class=\"data row1 col18\" >nan</td>\n",
       "      <td id=\"T_3e4b8_row1_col19\" class=\"data row1 col19\" >2021-11-25</td>\n",
       "      <td id=\"T_3e4b8_row1_col20\" class=\"data row1 col20\" >1.800</td>\n",
       "      <td id=\"T_3e4b8_row1_col21\" class=\"data row1 col21\" >47.000</td>\n",
       "    </tr>\n",
       "    <tr>\n",
       "      <th id=\"T_3e4b8_level0_row2\" class=\"row_heading level0 row2\" >2</th>\n",
       "      <td id=\"T_3e4b8_row2_col0\" class=\"data row2 col0\" >54605072</td>\n",
       "      <td id=\"T_3e4b8_row2_col1\" class=\"data row2 col1\" >FR</td>\n",
       "      <td id=\"T_3e4b8_row2_col2\" class=\"data row2 col2\" >STELLANTIS</td>\n",
       "      <td id=\"T_3e4b8_row2_col3\" class=\"data row2 col3\" >AUTOMOBILES PEUGEOT</td>\n",
       "      <td id=\"T_3e4b8_row2_col4\" class=\"data row2 col4\" >AUTOMOBILES PEUGEOT</td>\n",
       "      <td id=\"T_3e4b8_row2_col5\" class=\"data row2 col5\" >PEUGEOT</td>\n",
       "      <td id=\"T_3e4b8_row2_col6\" class=\"data row2 col6\" >M1</td>\n",
       "      <td id=\"T_3e4b8_row2_col7\" class=\"data row2 col7\" >1504.000</td>\n",
       "      <td id=\"T_3e4b8_row2_col8\" class=\"data row2 col8\" >1590.000</td>\n",
       "      <td id=\"T_3e4b8_row2_col9\" class=\"data row2 col9\" >135.000</td>\n",
       "      <td id=\"T_3e4b8_row2_col10\" class=\"data row2 col10\" >2675.000</td>\n",
       "      <td id=\"T_3e4b8_row2_col11\" class=\"data row2 col11\" >1601.000</td>\n",
       "      <td id=\"T_3e4b8_row2_col12\" class=\"data row2 col12\" >DIESEL</td>\n",
       "      <td id=\"T_3e4b8_row2_col13\" class=\"data row2 col13\" >M</td>\n",
       "      <td id=\"T_3e4b8_row2_col14\" class=\"data row2 col14\" >1499.000</td>\n",
       "      <td id=\"T_3e4b8_row2_col15\" class=\"data row2 col15\" >96.000</td>\n",
       "      <td id=\"T_3e4b8_row2_col16\" class=\"data row2 col16\" >nan</td>\n",
       "      <td id=\"T_3e4b8_row2_col17\" class=\"data row2 col17\" >e2 28 29</td>\n",
       "      <td id=\"T_3e4b8_row2_col18\" class=\"data row2 col18\" >1.600</td>\n",
       "      <td id=\"T_3e4b8_row2_col19\" class=\"data row2 col19\" >2021-09-22</td>\n",
       "      <td id=\"T_3e4b8_row2_col20\" class=\"data row2 col20\" >5.100</td>\n",
       "      <td id=\"T_3e4b8_row2_col21\" class=\"data row2 col21\" >nan</td>\n",
       "    </tr>\n",
       "    <tr>\n",
       "      <th id=\"T_3e4b8_level0_row3\" class=\"row_heading level0 row3\" >3</th>\n",
       "      <td id=\"T_3e4b8_row3_col0\" class=\"data row3 col0\" >54710048</td>\n",
       "      <td id=\"T_3e4b8_row3_col1\" class=\"data row3 col1\" >FR</td>\n",
       "      <td id=\"T_3e4b8_row3_col2\" class=\"data row3 col2\" >STELLANTIS</td>\n",
       "      <td id=\"T_3e4b8_row3_col3\" class=\"data row3 col3\" >AUTOMOBILES CITROEN</td>\n",
       "      <td id=\"T_3e4b8_row3_col4\" class=\"data row3 col4\" >AUTOMOBILES CITROEN</td>\n",
       "      <td id=\"T_3e4b8_row3_col5\" class=\"data row3 col5\" >CITROEN</td>\n",
       "      <td id=\"T_3e4b8_row3_col6\" class=\"data row3 col6\" >M1</td>\n",
       "      <td id=\"T_3e4b8_row3_col7\" class=\"data row3 col7\" >1055.000</td>\n",
       "      <td id=\"T_3e4b8_row3_col8\" class=\"data row3 col8\" >1189.000</td>\n",
       "      <td id=\"T_3e4b8_row3_col9\" class=\"data row3 col9\" >123.000</td>\n",
       "      <td id=\"T_3e4b8_row3_col10\" class=\"data row3 col10\" >2539.000</td>\n",
       "      <td id=\"T_3e4b8_row3_col11\" class=\"data row3 col11\" >1483.000</td>\n",
       "      <td id=\"T_3e4b8_row3_col12\" class=\"data row3 col12\" >PETROL</td>\n",
       "      <td id=\"T_3e4b8_row3_col13\" class=\"data row3 col13\" >M</td>\n",
       "      <td id=\"T_3e4b8_row3_col14\" class=\"data row3 col14\" >1199.000</td>\n",
       "      <td id=\"T_3e4b8_row3_col15\" class=\"data row3 col15\" >61.000</td>\n",
       "      <td id=\"T_3e4b8_row3_col16\" class=\"data row3 col16\" >nan</td>\n",
       "      <td id=\"T_3e4b8_row3_col17\" class=\"data row3 col17\" >nan</td>\n",
       "      <td id=\"T_3e4b8_row3_col18\" class=\"data row3 col18\" >nan</td>\n",
       "      <td id=\"T_3e4b8_row3_col19\" class=\"data row3 col19\" >2021-01-25</td>\n",
       "      <td id=\"T_3e4b8_row3_col20\" class=\"data row3 col20\" >nan</td>\n",
       "      <td id=\"T_3e4b8_row3_col21\" class=\"data row3 col21\" >nan</td>\n",
       "    </tr>\n",
       "    <tr>\n",
       "      <th id=\"T_3e4b8_level0_row4\" class=\"row_heading level0 row4\" >4</th>\n",
       "      <td id=\"T_3e4b8_row4_col0\" class=\"data row4 col0\" >54265416</td>\n",
       "      <td id=\"T_3e4b8_row4_col1\" class=\"data row4 col1\" >FR</td>\n",
       "      <td id=\"T_3e4b8_row4_col2\" class=\"data row4 col2\" >RENAULT-NISSAN-MITSUBISHI</td>\n",
       "      <td id=\"T_3e4b8_row4_col3\" class=\"data row4 col3\" >RENAULT</td>\n",
       "      <td id=\"T_3e4b8_row4_col4\" class=\"data row4 col4\" >RENAULT SAS</td>\n",
       "      <td id=\"T_3e4b8_row4_col5\" class=\"data row4 col5\" >DACIA</td>\n",
       "      <td id=\"T_3e4b8_row4_col6\" class=\"data row4 col6\" >M1</td>\n",
       "      <td id=\"T_3e4b8_row4_col7\" class=\"data row4 col7\" >1371.000</td>\n",
       "      <td id=\"T_3e4b8_row4_col8\" class=\"data row4 col8\" >1457.000</td>\n",
       "      <td id=\"T_3e4b8_row4_col9\" class=\"data row4 col9\" >127.000</td>\n",
       "      <td id=\"T_3e4b8_row4_col10\" class=\"data row4 col10\" >2673.000</td>\n",
       "      <td id=\"T_3e4b8_row4_col11\" class=\"data row4 col11\" >1563.000</td>\n",
       "      <td id=\"T_3e4b8_row4_col12\" class=\"data row4 col12\" >LPG</td>\n",
       "      <td id=\"T_3e4b8_row4_col13\" class=\"data row4 col13\" >B</td>\n",
       "      <td id=\"T_3e4b8_row4_col14\" class=\"data row4 col14\" >999.000</td>\n",
       "      <td id=\"T_3e4b8_row4_col15\" class=\"data row4 col15\" >74.000</td>\n",
       "      <td id=\"T_3e4b8_row4_col16\" class=\"data row4 col16\" >nan</td>\n",
       "      <td id=\"T_3e4b8_row4_col17\" class=\"data row4 col17\" >e9 37</td>\n",
       "      <td id=\"T_3e4b8_row4_col18\" class=\"data row4 col18\" >0.800</td>\n",
       "      <td id=\"T_3e4b8_row4_col19\" class=\"data row4 col19\" >2021-09-15</td>\n",
       "      <td id=\"T_3e4b8_row4_col20\" class=\"data row4 col20\" >7.000</td>\n",
       "      <td id=\"T_3e4b8_row4_col21\" class=\"data row4 col21\" >nan</td>\n",
       "    </tr>\n",
       "  </tbody>\n",
       "</table>\n"
      ],
      "text/plain": [
       "<pandas.io.formats.style.Styler at 0x7fa1929e7d90>"
      ]
     },
     "metadata": {},
     "output_type": "display_data"
    }
   ],
   "source": [
    "df = co2.data.drop_irrelevant_columns(df)\n",
    "co2.styles.displayer(df)"
   ]
  },
  {
   "cell_type": "code",
   "execution_count": 10,
   "metadata": {},
   "outputs": [
    {
     "data": {
      "text/plain": [
       "Pool\n",
       "STELLANTIS                    344\n",
       "RENAULT-NISSAN-MITSUBISHI     251\n",
       "VW-SAIC                       128\n",
       "MAZDA-SUBARU-SUZUKI-TOYOTA     75\n",
       "BMW                            46\n",
       "MERCEDES-BENZ                  35\n",
       "TESLA                          32\n",
       "HYUNDAI                        25\n",
       "FORD                           23\n",
       "KIA                            21\n",
       "Name: count, dtype: int64"
      ]
     },
     "execution_count": 10,
     "metadata": {},
     "output_type": "execute_result"
    }
   ],
   "source": [
    "df['Pool'].value_counts()"
   ]
  },
  {
   "cell_type": "code",
   "execution_count": 11,
   "metadata": {},
   "outputs": [
    {
     "data": {
      "text/plain": [
       "0"
      ]
     },
     "execution_count": 11,
     "metadata": {},
     "output_type": "execute_result"
    }
   ],
   "source": [
    "df['Make'].isna().sum()"
   ]
  },
  {
   "cell_type": "code",
   "execution_count": 12,
   "metadata": {},
   "outputs": [],
   "source": [
    "df = df.dropna(subset='Pool')\n",
    "def conditional_column_update(df, condition_column, condition_value, target_column, target_value):\n",
    "    df.loc[df[condition_column] == condition_value, target_column] = target_value\n",
    "    return df"
   ]
  },
  {
   "cell_type": "markdown",
   "metadata": {},
   "source": []
  },
  {
   "cell_type": "code",
   "execution_count": 13,
   "metadata": {},
   "outputs": [
    {
     "data": {
      "text/html": [
       "<style type=\"text/css\">\n",
       "#T_f6b0f th {\n",
       "  background-color: steelblue;\n",
       "  color: white;\n",
       "}\n",
       "#T_f6b0f tr:nth-of-type(odd) {\n",
       "  background-color: aliceblue;\n",
       "}\n",
       "#T_f6b0f tr:nth-of-type(even) {\n",
       "  background-color: white;\n",
       "}\n",
       "</style>\n",
       "<table id=\"T_f6b0f\">\n",
       "  <thead>\n",
       "    <tr>\n",
       "      <th class=\"blank level0\" >&nbsp;</th>\n",
       "      <th id=\"T_f6b0f_level0_col0\" class=\"col_heading level0 col0\" >ID</th>\n",
       "      <th id=\"T_f6b0f_level0_col1\" class=\"col_heading level0 col1\" >Country</th>\n",
       "      <th id=\"T_f6b0f_level0_col2\" class=\"col_heading level0 col2\" >Pool</th>\n",
       "      <th id=\"T_f6b0f_level0_col3\" class=\"col_heading level0 col3\" >ManufacturerName</th>\n",
       "      <th id=\"T_f6b0f_level0_col4\" class=\"col_heading level0 col4\" >ManufNameOem</th>\n",
       "      <th id=\"T_f6b0f_level0_col5\" class=\"col_heading level0 col5\" >Make</th>\n",
       "      <th id=\"T_f6b0f_level0_col6\" class=\"col_heading level0 col6\" >CategoryOf</th>\n",
       "      <th id=\"T_f6b0f_level0_col7\" class=\"col_heading level0 col7\" >MassRunningOrder</th>\n",
       "      <th id=\"T_f6b0f_level0_col8\" class=\"col_heading level0 col8\" >WltpTestMass</th>\n",
       "      <th id=\"T_f6b0f_level0_col9\" class=\"col_heading level0 col9\" >Co2EmissionsWltp</th>\n",
       "      <th id=\"T_f6b0f_level0_col10\" class=\"col_heading level0 col10\" >BaseWheel</th>\n",
       "      <th id=\"T_f6b0f_level0_col11\" class=\"col_heading level0 col11\" >AxleWidthSteering</th>\n",
       "      <th id=\"T_f6b0f_level0_col12\" class=\"col_heading level0 col12\" >FuelType</th>\n",
       "      <th id=\"T_f6b0f_level0_col13\" class=\"col_heading level0 col13\" >FuelMode</th>\n",
       "      <th id=\"T_f6b0f_level0_col14\" class=\"col_heading level0 col14\" >EngineCapacity</th>\n",
       "      <th id=\"T_f6b0f_level0_col15\" class=\"col_heading level0 col15\" >EnginePower</th>\n",
       "      <th id=\"T_f6b0f_level0_col16\" class=\"col_heading level0 col16\" >ElectricConsumption</th>\n",
       "      <th id=\"T_f6b0f_level0_col17\" class=\"col_heading level0 col17\" >InnovativeTechnology</th>\n",
       "      <th id=\"T_f6b0f_level0_col18\" class=\"col_heading level0 col18\" >InnovativeEmissionsReductionWltp</th>\n",
       "      <th id=\"T_f6b0f_level0_col19\" class=\"col_heading level0 col19\" >RegistrationDate</th>\n",
       "      <th id=\"T_f6b0f_level0_col20\" class=\"col_heading level0 col20\" >FuelConsumption</th>\n",
       "      <th id=\"T_f6b0f_level0_col21\" class=\"col_heading level0 col21\" >ElectricRange</th>\n",
       "    </tr>\n",
       "  </thead>\n",
       "  <tbody>\n",
       "    <tr>\n",
       "      <th id=\"T_f6b0f_level0_row0\" class=\"row_heading level0 row0\" >0</th>\n",
       "      <td id=\"T_f6b0f_row0_col0\" class=\"data row0 col0\" >54928152</td>\n",
       "      <td id=\"T_f6b0f_row0_col1\" class=\"data row0 col1\" >FR</td>\n",
       "      <td id=\"T_f6b0f_row0_col2\" class=\"data row0 col2\" >STELLANTIS</td>\n",
       "      <td id=\"T_f6b0f_row0_col3\" class=\"data row0 col3\" >PSA</td>\n",
       "      <td id=\"T_f6b0f_row0_col4\" class=\"data row0 col4\" >PSA AUTOMOBILES SA</td>\n",
       "      <td id=\"T_f6b0f_row0_col5\" class=\"data row0 col5\" >PEUGEOT</td>\n",
       "      <td id=\"T_f6b0f_row0_col6\" class=\"data row0 col6\" >M1</td>\n",
       "      <td id=\"T_f6b0f_row0_col7\" class=\"data row0 col7\" >1530.000</td>\n",
       "      <td id=\"T_f6b0f_row0_col8\" class=\"data row0 col8\" >1613.000</td>\n",
       "      <td id=\"T_f6b0f_row0_col9\" class=\"data row0 col9\" >0.000</td>\n",
       "      <td id=\"T_f6b0f_row0_col10\" class=\"data row0 col10\" >2540.000</td>\n",
       "      <td id=\"T_f6b0f_row0_col11\" class=\"data row0 col11\" >1500.000</td>\n",
       "      <td id=\"T_f6b0f_row0_col12\" class=\"data row0 col12\" >ELECTRIC</td>\n",
       "      <td id=\"T_f6b0f_row0_col13\" class=\"data row0 col13\" >E</td>\n",
       "      <td id=\"T_f6b0f_row0_col14\" class=\"data row0 col14\" >nan</td>\n",
       "      <td id=\"T_f6b0f_row0_col15\" class=\"data row0 col15\" >57.000</td>\n",
       "      <td id=\"T_f6b0f_row0_col16\" class=\"data row0 col16\" >163.000</td>\n",
       "      <td id=\"T_f6b0f_row0_col17\" class=\"data row0 col17\" >nan</td>\n",
       "      <td id=\"T_f6b0f_row0_col18\" class=\"data row0 col18\" >nan</td>\n",
       "      <td id=\"T_f6b0f_row0_col19\" class=\"data row0 col19\" >2021-07-02</td>\n",
       "      <td id=\"T_f6b0f_row0_col20\" class=\"data row0 col20\" >nan</td>\n",
       "      <td id=\"T_f6b0f_row0_col21\" class=\"data row0 col21\" >340.000</td>\n",
       "    </tr>\n",
       "    <tr>\n",
       "      <th id=\"T_f6b0f_level0_row1\" class=\"row_heading level0 row1\" >1</th>\n",
       "      <td id=\"T_f6b0f_row1_col0\" class=\"data row1 col0\" >55417592</td>\n",
       "      <td id=\"T_f6b0f_row1_col1\" class=\"data row1 col1\" >FR</td>\n",
       "      <td id=\"T_f6b0f_row1_col2\" class=\"data row1 col2\" >VW-SAIC</td>\n",
       "      <td id=\"T_f6b0f_row1_col3\" class=\"data row1 col3\" >VOLKSWAGEN</td>\n",
       "      <td id=\"T_f6b0f_row1_col4\" class=\"data row1 col4\" >VOLKSWAGEN AG</td>\n",
       "      <td id=\"T_f6b0f_row1_col5\" class=\"data row1 col5\" >VOLKSWAGEN</td>\n",
       "      <td id=\"T_f6b0f_row1_col6\" class=\"data row1 col6\" >M1</td>\n",
       "      <td id=\"T_f6b0f_row1_col7\" class=\"data row1 col7\" >1819.000</td>\n",
       "      <td id=\"T_f6b0f_row1_col8\" class=\"data row1 col8\" >2027.000</td>\n",
       "      <td id=\"T_f6b0f_row1_col9\" class=\"data row1 col9\" >43.000</td>\n",
       "      <td id=\"T_f6b0f_row1_col10\" class=\"data row1 col10\" >2680.000</td>\n",
       "      <td id=\"T_f6b0f_row1_col11\" class=\"data row1 col11\" >1576.000</td>\n",
       "      <td id=\"T_f6b0f_row1_col12\" class=\"data row1 col12\" >PETROL/ELECTRIC</td>\n",
       "      <td id=\"T_f6b0f_row1_col13\" class=\"data row1 col13\" >P</td>\n",
       "      <td id=\"T_f6b0f_row1_col14\" class=\"data row1 col14\" >1395.000</td>\n",
       "      <td id=\"T_f6b0f_row1_col15\" class=\"data row1 col15\" >110.000</td>\n",
       "      <td id=\"T_f6b0f_row1_col16\" class=\"data row1 col16\" >169.000</td>\n",
       "      <td id=\"T_f6b0f_row1_col17\" class=\"data row1 col17\" >nan</td>\n",
       "      <td id=\"T_f6b0f_row1_col18\" class=\"data row1 col18\" >nan</td>\n",
       "      <td id=\"T_f6b0f_row1_col19\" class=\"data row1 col19\" >2021-11-25</td>\n",
       "      <td id=\"T_f6b0f_row1_col20\" class=\"data row1 col20\" >1.800</td>\n",
       "      <td id=\"T_f6b0f_row1_col21\" class=\"data row1 col21\" >47.000</td>\n",
       "    </tr>\n",
       "    <tr>\n",
       "      <th id=\"T_f6b0f_level0_row2\" class=\"row_heading level0 row2\" >2</th>\n",
       "      <td id=\"T_f6b0f_row2_col0\" class=\"data row2 col0\" >54605072</td>\n",
       "      <td id=\"T_f6b0f_row2_col1\" class=\"data row2 col1\" >FR</td>\n",
       "      <td id=\"T_f6b0f_row2_col2\" class=\"data row2 col2\" >STELLANTIS</td>\n",
       "      <td id=\"T_f6b0f_row2_col3\" class=\"data row2 col3\" >AUTOMOBILES PEUGEOT</td>\n",
       "      <td id=\"T_f6b0f_row2_col4\" class=\"data row2 col4\" >AUTOMOBILES PEUGEOT</td>\n",
       "      <td id=\"T_f6b0f_row2_col5\" class=\"data row2 col5\" >PEUGEOT</td>\n",
       "      <td id=\"T_f6b0f_row2_col6\" class=\"data row2 col6\" >M1</td>\n",
       "      <td id=\"T_f6b0f_row2_col7\" class=\"data row2 col7\" >1504.000</td>\n",
       "      <td id=\"T_f6b0f_row2_col8\" class=\"data row2 col8\" >1590.000</td>\n",
       "      <td id=\"T_f6b0f_row2_col9\" class=\"data row2 col9\" >135.000</td>\n",
       "      <td id=\"T_f6b0f_row2_col10\" class=\"data row2 col10\" >2675.000</td>\n",
       "      <td id=\"T_f6b0f_row2_col11\" class=\"data row2 col11\" >1601.000</td>\n",
       "      <td id=\"T_f6b0f_row2_col12\" class=\"data row2 col12\" >DIESEL</td>\n",
       "      <td id=\"T_f6b0f_row2_col13\" class=\"data row2 col13\" >M</td>\n",
       "      <td id=\"T_f6b0f_row2_col14\" class=\"data row2 col14\" >1499.000</td>\n",
       "      <td id=\"T_f6b0f_row2_col15\" class=\"data row2 col15\" >96.000</td>\n",
       "      <td id=\"T_f6b0f_row2_col16\" class=\"data row2 col16\" >nan</td>\n",
       "      <td id=\"T_f6b0f_row2_col17\" class=\"data row2 col17\" >e2 28 29</td>\n",
       "      <td id=\"T_f6b0f_row2_col18\" class=\"data row2 col18\" >1.600</td>\n",
       "      <td id=\"T_f6b0f_row2_col19\" class=\"data row2 col19\" >2021-09-22</td>\n",
       "      <td id=\"T_f6b0f_row2_col20\" class=\"data row2 col20\" >5.100</td>\n",
       "      <td id=\"T_f6b0f_row2_col21\" class=\"data row2 col21\" >nan</td>\n",
       "    </tr>\n",
       "    <tr>\n",
       "      <th id=\"T_f6b0f_level0_row3\" class=\"row_heading level0 row3\" >3</th>\n",
       "      <td id=\"T_f6b0f_row3_col0\" class=\"data row3 col0\" >54710048</td>\n",
       "      <td id=\"T_f6b0f_row3_col1\" class=\"data row3 col1\" >FR</td>\n",
       "      <td id=\"T_f6b0f_row3_col2\" class=\"data row3 col2\" >STELLANTIS</td>\n",
       "      <td id=\"T_f6b0f_row3_col3\" class=\"data row3 col3\" >AUTOMOBILES CITROEN</td>\n",
       "      <td id=\"T_f6b0f_row3_col4\" class=\"data row3 col4\" >AUTOMOBILES CITROEN</td>\n",
       "      <td id=\"T_f6b0f_row3_col5\" class=\"data row3 col5\" >CITROEN</td>\n",
       "      <td id=\"T_f6b0f_row3_col6\" class=\"data row3 col6\" >M1</td>\n",
       "      <td id=\"T_f6b0f_row3_col7\" class=\"data row3 col7\" >1055.000</td>\n",
       "      <td id=\"T_f6b0f_row3_col8\" class=\"data row3 col8\" >1189.000</td>\n",
       "      <td id=\"T_f6b0f_row3_col9\" class=\"data row3 col9\" >123.000</td>\n",
       "      <td id=\"T_f6b0f_row3_col10\" class=\"data row3 col10\" >2539.000</td>\n",
       "      <td id=\"T_f6b0f_row3_col11\" class=\"data row3 col11\" >1483.000</td>\n",
       "      <td id=\"T_f6b0f_row3_col12\" class=\"data row3 col12\" >PETROL</td>\n",
       "      <td id=\"T_f6b0f_row3_col13\" class=\"data row3 col13\" >M</td>\n",
       "      <td id=\"T_f6b0f_row3_col14\" class=\"data row3 col14\" >1199.000</td>\n",
       "      <td id=\"T_f6b0f_row3_col15\" class=\"data row3 col15\" >61.000</td>\n",
       "      <td id=\"T_f6b0f_row3_col16\" class=\"data row3 col16\" >nan</td>\n",
       "      <td id=\"T_f6b0f_row3_col17\" class=\"data row3 col17\" >nan</td>\n",
       "      <td id=\"T_f6b0f_row3_col18\" class=\"data row3 col18\" >nan</td>\n",
       "      <td id=\"T_f6b0f_row3_col19\" class=\"data row3 col19\" >2021-01-25</td>\n",
       "      <td id=\"T_f6b0f_row3_col20\" class=\"data row3 col20\" >nan</td>\n",
       "      <td id=\"T_f6b0f_row3_col21\" class=\"data row3 col21\" >nan</td>\n",
       "    </tr>\n",
       "    <tr>\n",
       "      <th id=\"T_f6b0f_level0_row4\" class=\"row_heading level0 row4\" >4</th>\n",
       "      <td id=\"T_f6b0f_row4_col0\" class=\"data row4 col0\" >54265416</td>\n",
       "      <td id=\"T_f6b0f_row4_col1\" class=\"data row4 col1\" >FR</td>\n",
       "      <td id=\"T_f6b0f_row4_col2\" class=\"data row4 col2\" >RENAULT-NISSAN-MITSUBISHI</td>\n",
       "      <td id=\"T_f6b0f_row4_col3\" class=\"data row4 col3\" >RENAULT</td>\n",
       "      <td id=\"T_f6b0f_row4_col4\" class=\"data row4 col4\" >RENAULT SAS</td>\n",
       "      <td id=\"T_f6b0f_row4_col5\" class=\"data row4 col5\" >DACIA</td>\n",
       "      <td id=\"T_f6b0f_row4_col6\" class=\"data row4 col6\" >M1</td>\n",
       "      <td id=\"T_f6b0f_row4_col7\" class=\"data row4 col7\" >1371.000</td>\n",
       "      <td id=\"T_f6b0f_row4_col8\" class=\"data row4 col8\" >1457.000</td>\n",
       "      <td id=\"T_f6b0f_row4_col9\" class=\"data row4 col9\" >127.000</td>\n",
       "      <td id=\"T_f6b0f_row4_col10\" class=\"data row4 col10\" >2673.000</td>\n",
       "      <td id=\"T_f6b0f_row4_col11\" class=\"data row4 col11\" >1563.000</td>\n",
       "      <td id=\"T_f6b0f_row4_col12\" class=\"data row4 col12\" >LPG</td>\n",
       "      <td id=\"T_f6b0f_row4_col13\" class=\"data row4 col13\" >B</td>\n",
       "      <td id=\"T_f6b0f_row4_col14\" class=\"data row4 col14\" >999.000</td>\n",
       "      <td id=\"T_f6b0f_row4_col15\" class=\"data row4 col15\" >74.000</td>\n",
       "      <td id=\"T_f6b0f_row4_col16\" class=\"data row4 col16\" >nan</td>\n",
       "      <td id=\"T_f6b0f_row4_col17\" class=\"data row4 col17\" >e9 37</td>\n",
       "      <td id=\"T_f6b0f_row4_col18\" class=\"data row4 col18\" >0.800</td>\n",
       "      <td id=\"T_f6b0f_row4_col19\" class=\"data row4 col19\" >2021-09-15</td>\n",
       "      <td id=\"T_f6b0f_row4_col20\" class=\"data row4 col20\" >7.000</td>\n",
       "      <td id=\"T_f6b0f_row4_col21\" class=\"data row4 col21\" >nan</td>\n",
       "    </tr>\n",
       "  </tbody>\n",
       "</table>\n"
      ],
      "text/plain": [
       "<pandas.io.formats.style.Styler at 0x7fa1922b2e50>"
      ]
     },
     "metadata": {},
     "output_type": "display_data"
    }
   ],
   "source": [
    "co2.styles.displayer(df)"
   ]
  },
  {
   "cell_type": "code",
   "execution_count": 14,
   "metadata": {},
   "outputs": [
    {
     "data": {
      "text/plain": [
       "array([], dtype=object)"
      ]
     },
     "execution_count": 14,
     "metadata": {},
     "output_type": "execute_result"
    }
   ],
   "source": [
    "df.loc[(df['Pool'] == 'Tesla'), 'Make'].unique()"
   ]
  },
  {
   "cell_type": "code",
   "execution_count": 15,
   "metadata": {},
   "outputs": [],
   "source": [
    "from auto_co2.data import clean_manufacturer_columns\n",
    "makers = co2.agg.Manufacturers(clean_manufacturer_columns(df))"
   ]
  },
  {
   "cell_type": "code",
   "execution_count": 16,
   "metadata": {},
   "outputs": [
    {
     "data": {
      "text/html": [
       "<style type=\"text/css\">\n",
       "#T_21df7 th {\n",
       "  background-color: steelblue;\n",
       "  color: white;\n",
       "}\n",
       "#T_21df7 tr:nth-of-type(odd) {\n",
       "  background-color: aliceblue;\n",
       "}\n",
       "#T_21df7 tr:nth-of-type(even) {\n",
       "  background-color: white;\n",
       "}\n",
       "</style>\n",
       "<table id=\"T_21df7\">\n",
       "  <thead>\n",
       "    <tr>\n",
       "      <th class=\"blank\" >&nbsp;</th>\n",
       "      <th class=\"blank level0\" >&nbsp;</th>\n",
       "      <th id=\"T_21df7_level0_col0\" class=\"col_heading level0 col0\" >Count</th>\n",
       "      <th id=\"T_21df7_level0_col1\" class=\"col_heading level0 col1\" >MarketShare(%)</th>\n",
       "      <th id=\"T_21df7_level0_col2\" class=\"col_heading level0 col2\" >FuelType</th>\n",
       "      <th id=\"T_21df7_level0_col3\" class=\"col_heading level0 col3\" >FuelConsumption</th>\n",
       "      <th id=\"T_21df7_level0_col4\" class=\"col_heading level0 col4\" >EnginePower</th>\n",
       "      <th id=\"T_21df7_level0_col5\" class=\"col_heading level0 col5\" >Co2EmissionsWltp</th>\n",
       "      <th id=\"T_21df7_level0_col6\" class=\"col_heading level0 col6\" >MassRunningOrder</th>\n",
       "      <th id=\"T_21df7_level0_col7\" class=\"col_heading level0 col7\" >BaseWheel</th>\n",
       "      <th id=\"T_21df7_level0_col8\" class=\"col_heading level0 col8\" >AxleWidthSteering</th>\n",
       "    </tr>\n",
       "    <tr>\n",
       "      <th class=\"index_name level0\" >Pool</th>\n",
       "      <th class=\"index_name level1\" >Make</th>\n",
       "      <th class=\"blank col0\" >&nbsp;</th>\n",
       "      <th class=\"blank col1\" >&nbsp;</th>\n",
       "      <th class=\"blank col2\" >&nbsp;</th>\n",
       "      <th class=\"blank col3\" >&nbsp;</th>\n",
       "      <th class=\"blank col4\" >&nbsp;</th>\n",
       "      <th class=\"blank col5\" >&nbsp;</th>\n",
       "      <th class=\"blank col6\" >&nbsp;</th>\n",
       "      <th class=\"blank col7\" >&nbsp;</th>\n",
       "      <th class=\"blank col8\" >&nbsp;</th>\n",
       "    </tr>\n",
       "  </thead>\n",
       "  <tbody>\n",
       "    <tr>\n",
       "      <th id=\"T_21df7_level0_row0\" class=\"row_heading level0 row0\" rowspan=\"2\">BMW</th>\n",
       "      <th id=\"T_21df7_level1_row0\" class=\"row_heading level1 row0\" >BMW</th>\n",
       "      <td id=\"T_21df7_row0_col0\" class=\"data row0 col0\" >26</td>\n",
       "      <td id=\"T_21df7_row0_col1\" class=\"data row0 col1\" >2.650</td>\n",
       "      <td id=\"T_21df7_row0_col2\" class=\"data row0 col2\" >DIESEL</td>\n",
       "      <td id=\"T_21df7_row0_col3\" class=\"data row0 col3\" >4.539</td>\n",
       "      <td id=\"T_21df7_row0_col4\" class=\"data row0 col4\" >129.038</td>\n",
       "      <td id=\"T_21df7_row0_col5\" class=\"data row0 col5\" >106.962</td>\n",
       "      <td id=\"T_21df7_row0_col6\" class=\"data row0 col6\" >1763.077</td>\n",
       "      <td id=\"T_21df7_row0_col7\" class=\"data row0 col7\" >2756.154</td>\n",
       "      <td id=\"T_21df7_row0_col8\" class=\"data row0 col8\" >1580.962</td>\n",
       "    </tr>\n",
       "    <tr>\n",
       "      <th id=\"T_21df7_level1_row1\" class=\"row_heading level1 row1\" >MINI</th>\n",
       "      <td id=\"T_21df7_row1_col0\" class=\"data row1 col0\" >20</td>\n",
       "      <td id=\"T_21df7_row1_col1\" class=\"data row1 col1\" >2.040</td>\n",
       "      <td id=\"T_21df7_row1_col2\" class=\"data row1 col2\" >PETROL</td>\n",
       "      <td id=\"T_21df7_row1_col3\" class=\"data row1 col3\" >5.594</td>\n",
       "      <td id=\"T_21df7_row1_col4\" class=\"data row1 col4\" >96.250</td>\n",
       "      <td id=\"T_21df7_row1_col5\" class=\"data row1 col5\" >109.250</td>\n",
       "      <td id=\"T_21df7_row1_col6\" class=\"data row1 col6\" >1433.750</td>\n",
       "      <td id=\"T_21df7_row1_col7\" class=\"data row1 col7\" >2577.350</td>\n",
       "      <td id=\"T_21df7_row1_col8\" class=\"data row1 col8\" >1530.250</td>\n",
       "    </tr>\n",
       "    <tr>\n",
       "      <th id=\"T_21df7_level0_row2\" class=\"row_heading level0 row2\" >FORD</th>\n",
       "      <th id=\"T_21df7_level1_row2\" class=\"row_heading level1 row2\" >FORD</th>\n",
       "      <td id=\"T_21df7_row2_col0\" class=\"data row2 col0\" >23</td>\n",
       "      <td id=\"T_21df7_row2_col1\" class=\"data row2 col1\" >2.350</td>\n",
       "      <td id=\"T_21df7_row2_col2\" class=\"data row2 col2\" >PETROL</td>\n",
       "      <td id=\"T_21df7_row2_col3\" class=\"data row2 col3\" >5.324</td>\n",
       "      <td id=\"T_21df7_row2_col4\" class=\"data row2 col4\" >96.130</td>\n",
       "      <td id=\"T_21df7_row2_col5\" class=\"data row2 col5\" >122.609</td>\n",
       "      <td id=\"T_21df7_row2_col6\" class=\"data row2 col6\" >1426.478</td>\n",
       "      <td id=\"T_21df7_row2_col7\" class=\"data row2 col7\" >2625.174</td>\n",
       "      <td id=\"T_21df7_row2_col8\" class=\"data row2 col8\" >1561.696</td>\n",
       "    </tr>\n",
       "    <tr>\n",
       "      <th id=\"T_21df7_level0_row3\" class=\"row_heading level0 row3\" >HONDA-GROUP</th>\n",
       "      <th id=\"T_21df7_level1_row3\" class=\"row_heading level1 row3\" >HONDA</th>\n",
       "      <td id=\"T_21df7_row3_col0\" class=\"data row3 col0\" >5</td>\n",
       "      <td id=\"T_21df7_row3_col1\" class=\"data row3 col1\" >0.510</td>\n",
       "      <td id=\"T_21df7_row3_col2\" class=\"data row3 col2\" >PETROL</td>\n",
       "      <td id=\"T_21df7_row3_col3\" class=\"data row3 col3\" >5.600</td>\n",
       "      <td id=\"T_21df7_row3_col4\" class=\"data row3 col4\" >93.000</td>\n",
       "      <td id=\"T_21df7_row3_col5\" class=\"data row3 col5\" >133.000</td>\n",
       "      <td id=\"T_21df7_row3_col6\" class=\"data row3 col6\" >1531.000</td>\n",
       "      <td id=\"T_21df7_row3_col7\" class=\"data row3 col7\" >2604.600</td>\n",
       "      <td id=\"T_21df7_row3_col8\" class=\"data row3 col8\" >1556.000</td>\n",
       "    </tr>\n",
       "    <tr>\n",
       "      <th id=\"T_21df7_level0_row4\" class=\"row_heading level0 row4\" >HYUNDAI</th>\n",
       "      <th id=\"T_21df7_level1_row4\" class=\"row_heading level1 row4\" >HYUNDAI</th>\n",
       "      <td id=\"T_21df7_row4_col0\" class=\"data row4 col0\" >25</td>\n",
       "      <td id=\"T_21df7_row4_col1\" class=\"data row4 col1\" >2.550</td>\n",
       "      <td id=\"T_21df7_row4_col2\" class=\"data row4 col2\" >PETROL</td>\n",
       "      <td id=\"T_21df7_row4_col3\" class=\"data row4 col3\" >5.472</td>\n",
       "      <td id=\"T_21df7_row4_col4\" class=\"data row4 col4\" >78.800</td>\n",
       "      <td id=\"T_21df7_row4_col5\" class=\"data row4 col5\" >93.720</td>\n",
       "      <td id=\"T_21df7_row4_col6\" class=\"data row4 col6\" >1546.760</td>\n",
       "      <td id=\"T_21df7_row4_col7\" class=\"data row4 col7\" >2647.600</td>\n",
       "      <td id=\"T_21df7_row4_col8\" class=\"data row4 col8\" >1583.720</td>\n",
       "    </tr>\n",
       "    <tr>\n",
       "      <th id=\"T_21df7_level0_row5\" class=\"row_heading level0 row5\" >KIA</th>\n",
       "      <th id=\"T_21df7_level1_row5\" class=\"row_heading level1 row5\" >KIA</th>\n",
       "      <td id=\"T_21df7_row5_col0\" class=\"data row5 col0\" >21</td>\n",
       "      <td id=\"T_21df7_row5_col1\" class=\"data row5 col1\" >2.140</td>\n",
       "      <td id=\"T_21df7_row5_col2\" class=\"data row5 col2\" >PETROL</td>\n",
       "      <td id=\"T_21df7_row5_col3\" class=\"data row5 col3\" >5.360</td>\n",
       "      <td id=\"T_21df7_row5_col4\" class=\"data row5 col4\" >74.762</td>\n",
       "      <td id=\"T_21df7_row5_col5\" class=\"data row5 col5\" >90.048</td>\n",
       "      <td id=\"T_21df7_row5_col6\" class=\"data row5 col6\" >1503.619</td>\n",
       "      <td id=\"T_21df7_row5_col7\" class=\"data row5 col7\" >2645.476</td>\n",
       "      <td id=\"T_21df7_row5_col8\" class=\"data row5 col8\" >1551.095</td>\n",
       "    </tr>\n",
       "    <tr>\n",
       "      <th id=\"T_21df7_level0_row6\" class=\"row_heading level0 row6\" rowspan=\"4\">MAZDA-SUBARU-SUZUKI-TOYOTA</th>\n",
       "      <th id=\"T_21df7_level1_row6\" class=\"row_heading level1 row6\" >LEXUS</th>\n",
       "      <td id=\"T_21df7_row6_col0\" class=\"data row6 col0\" >1</td>\n",
       "      <td id=\"T_21df7_row6_col1\" class=\"data row6 col1\" >0.100</td>\n",
       "      <td id=\"T_21df7_row6_col2\" class=\"data row6 col2\" >PETROL</td>\n",
       "      <td id=\"T_21df7_row6_col3\" class=\"data row6 col3\" >5.600</td>\n",
       "      <td id=\"T_21df7_row6_col4\" class=\"data row6 col4\" >112.000</td>\n",
       "      <td id=\"T_21df7_row6_col5\" class=\"data row6 col5\" >126.000</td>\n",
       "      <td id=\"T_21df7_row6_col6\" class=\"data row6 col6\" >1615.000</td>\n",
       "      <td id=\"T_21df7_row6_col7\" class=\"data row6 col7\" >2640.000</td>\n",
       "      <td id=\"T_21df7_row6_col8\" class=\"data row6 col8\" >1550.000</td>\n",
       "    </tr>\n",
       "    <tr>\n",
       "      <th id=\"T_21df7_level1_row7\" class=\"row_heading level1 row7\" >MAZDA</th>\n",
       "      <td id=\"T_21df7_row7_col0\" class=\"data row7 col0\" >9</td>\n",
       "      <td id=\"T_21df7_row7_col1\" class=\"data row7 col1\" >0.920</td>\n",
       "      <td id=\"T_21df7_row7_col2\" class=\"data row7 col2\" >PETROL</td>\n",
       "      <td id=\"T_21df7_row7_col3\" class=\"data row7 col3\" >6.186</td>\n",
       "      <td id=\"T_21df7_row7_col4\" class=\"data row7 col4\" >115.778</td>\n",
       "      <td id=\"T_21df7_row7_col5\" class=\"data row7 col5\" >143.889</td>\n",
       "      <td id=\"T_21df7_row7_col6\" class=\"data row7 col6\" >1411.778</td>\n",
       "      <td id=\"T_21df7_row7_col7\" class=\"data row7 col7\" >2581.667</td>\n",
       "      <td id=\"T_21df7_row7_col8\" class=\"data row7 col8\" >1548.889</td>\n",
       "    </tr>\n",
       "    <tr>\n",
       "      <th id=\"T_21df7_level1_row8\" class=\"row_heading level1 row8\" >SUZUKI</th>\n",
       "      <td id=\"T_21df7_row8_col0\" class=\"data row8 col0\" >17</td>\n",
       "      <td id=\"T_21df7_row8_col1\" class=\"data row8 col1\" >1.730</td>\n",
       "      <td id=\"T_21df7_row8_col2\" class=\"data row8 col2\" >PETROL</td>\n",
       "      <td id=\"T_21df7_row8_col3\" class=\"data row8 col3\" >5.236</td>\n",
       "      <td id=\"T_21df7_row8_col4\" class=\"data row8 col4\" >73.000</td>\n",
       "      <td id=\"T_21df7_row8_col5\" class=\"data row8 col5\" >120.000</td>\n",
       "      <td id=\"T_21df7_row8_col6\" class=\"data row8 col6\" >1072.647</td>\n",
       "      <td id=\"T_21df7_row8_col7\" class=\"data row8 col7\" >2464.118</td>\n",
       "      <td id=\"T_21df7_row8_col8\" class=\"data row8 col8\" >1508.529</td>\n",
       "    </tr>\n",
       "    <tr>\n",
       "      <th id=\"T_21df7_level1_row9\" class=\"row_heading level1 row9\" >TOYOTA</th>\n",
       "      <td id=\"T_21df7_row9_col0\" class=\"data row9 col0\" >48</td>\n",
       "      <td id=\"T_21df7_row9_col1\" class=\"data row9 col1\" >4.900</td>\n",
       "      <td id=\"T_21df7_row9_col2\" class=\"data row9 col2\" >PETROL</td>\n",
       "      <td id=\"T_21df7_row9_col3\" class=\"data row9 col3\" >4.929</td>\n",
       "      <td id=\"T_21df7_row9_col4\" class=\"data row9 col4\" >78.729</td>\n",
       "      <td id=\"T_21df7_row9_col5\" class=\"data row9 col5\" >111.979</td>\n",
       "      <td id=\"T_21df7_row9_col6\" class=\"data row9 col6\" >1324.104</td>\n",
       "      <td id=\"T_21df7_row9_col7\" class=\"data row9 col7\" >2577.500</td>\n",
       "      <td id=\"T_21df7_row9_col8\" class=\"data row9 col8\" >1524.896</td>\n",
       "    </tr>\n",
       "    <tr>\n",
       "      <th id=\"T_21df7_level0_row10\" class=\"row_heading level0 row10\" rowspan=\"2\">MERCEDES-BENZ</th>\n",
       "      <th id=\"T_21df7_level1_row10\" class=\"row_heading level1 row10\" >MERCEDES BENZ</th>\n",
       "      <td id=\"T_21df7_row10_col0\" class=\"data row10 col0\" >34</td>\n",
       "      <td id=\"T_21df7_row10_col1\" class=\"data row10 col1\" >3.470</td>\n",
       "      <td id=\"T_21df7_row10_col2\" class=\"data row10 col2\" >DIESEL</td>\n",
       "      <td id=\"T_21df7_row10_col3\" class=\"data row10 col3\" >3.685</td>\n",
       "      <td id=\"T_21df7_row10_col4\" class=\"data row10 col4\" >126.471</td>\n",
       "      <td id=\"T_21df7_row10_col5\" class=\"data row10 col5\" >97.000</td>\n",
       "      <td id=\"T_21df7_row10_col6\" class=\"data row10 col6\" >1747.353</td>\n",
       "      <td id=\"T_21df7_row10_col7\" class=\"data row10 col7\" >2792.882</td>\n",
       "      <td id=\"T_21df7_row10_col8\" class=\"data row10 col8\" >1598.118</td>\n",
       "    </tr>\n",
       "    <tr>\n",
       "      <th id=\"T_21df7_level1_row11\" class=\"row_heading level1 row11\" >SMART</th>\n",
       "      <td id=\"T_21df7_row11_col0\" class=\"data row11 col0\" >1</td>\n",
       "      <td id=\"T_21df7_row11_col1\" class=\"data row11 col1\" >0.100</td>\n",
       "      <td id=\"T_21df7_row11_col2\" class=\"data row11 col2\" >ELECTRIC</td>\n",
       "      <td id=\"T_21df7_row11_col3\" class=\"data row11 col3\" >nan</td>\n",
       "      <td id=\"T_21df7_row11_col4\" class=\"data row11 col4\" >41.000</td>\n",
       "      <td id=\"T_21df7_row11_col5\" class=\"data row11 col5\" >0.000</td>\n",
       "      <td id=\"T_21df7_row11_col6\" class=\"data row11 col6\" >1095.000</td>\n",
       "      <td id=\"T_21df7_row11_col7\" class=\"data row11 col7\" >1873.000</td>\n",
       "      <td id=\"T_21df7_row11_col8\" class=\"data row11 col8\" >1471.000</td>\n",
       "    </tr>\n",
       "    <tr>\n",
       "      <th id=\"T_21df7_level0_row12\" class=\"row_heading level0 row12\" rowspan=\"3\">RENAULT-NISSAN-MITSUBISHI</th>\n",
       "      <th id=\"T_21df7_level1_row12\" class=\"row_heading level1 row12\" >DACIA</th>\n",
       "      <td id=\"T_21df7_row12_col0\" class=\"data row12 col0\" >74</td>\n",
       "      <td id=\"T_21df7_row12_col1\" class=\"data row12 col1\" >7.550</td>\n",
       "      <td id=\"T_21df7_row12_col2\" class=\"data row12 col2\" >PETROL</td>\n",
       "      <td id=\"T_21df7_row12_col3\" class=\"data row12 col3\" >6.042</td>\n",
       "      <td id=\"T_21df7_row12_col4\" class=\"data row12 col4\" >70.338</td>\n",
       "      <td id=\"T_21df7_row12_col5\" class=\"data row12 col5\" >119.365</td>\n",
       "      <td id=\"T_21df7_row12_col6\" class=\"data row12 col6\" >1236.095</td>\n",
       "      <td id=\"T_21df7_row12_col7\" class=\"data row12 col7\" >2626.270</td>\n",
       "      <td id=\"T_21df7_row12_col8\" class=\"data row12 col8\" >1524.797</td>\n",
       "    </tr>\n",
       "    <tr>\n",
       "      <th id=\"T_21df7_level1_row13\" class=\"row_heading level1 row13\" >NISSAN</th>\n",
       "      <td id=\"T_21df7_row13_col0\" class=\"data row13 col0\" >20</td>\n",
       "      <td id=\"T_21df7_row13_col1\" class=\"data row13 col1\" >2.040</td>\n",
       "      <td id=\"T_21df7_row13_col2\" class=\"data row13 col2\" >PETROL</td>\n",
       "      <td id=\"T_21df7_row13_col3\" class=\"data row13 col3\" >5.973</td>\n",
       "      <td id=\"T_21df7_row13_col4\" class=\"data row13 col4\" >85.300</td>\n",
       "      <td id=\"T_21df7_row13_col5\" class=\"data row13 col5\" >117.050</td>\n",
       "      <td id=\"T_21df7_row13_col6\" class=\"data row13 col6\" >1351.700</td>\n",
       "      <td id=\"T_21df7_row13_col7\" class=\"data row13 col7\" >2625.900</td>\n",
       "      <td id=\"T_21df7_row13_col8\" class=\"data row13 col8\" >1546.000</td>\n",
       "    </tr>\n",
       "    <tr>\n",
       "      <th id=\"T_21df7_level1_row14\" class=\"row_heading level1 row14\" >RENAULT</th>\n",
       "      <td id=\"T_21df7_row14_col0\" class=\"data row14 col0\" >157</td>\n",
       "      <td id=\"T_21df7_row14_col1\" class=\"data row14 col1\" >16.020</td>\n",
       "      <td id=\"T_21df7_row14_col2\" class=\"data row14 col2\" >PETROL</td>\n",
       "      <td id=\"T_21df7_row14_col3\" class=\"data row14 col3\" >5.156</td>\n",
       "      <td id=\"T_21df7_row14_col4\" class=\"data row14 col4\" >71.331</td>\n",
       "      <td id=\"T_21df7_row14_col5\" class=\"data row14 col5\" >102.287</td>\n",
       "      <td id=\"T_21df7_row14_col6\" class=\"data row14 col6\" >1344.376</td>\n",
       "      <td id=\"T_21df7_row14_col7\" class=\"data row14 col7\" >2616.892</td>\n",
       "      <td id=\"T_21df7_row14_col8\" class=\"data row14 col8\" >1524.917</td>\n",
       "    </tr>\n",
       "    <tr>\n",
       "      <th id=\"T_21df7_level0_row15\" class=\"row_heading level0 row15\" rowspan=\"6\">STELLANTIS</th>\n",
       "      <th id=\"T_21df7_level1_row15\" class=\"row_heading level1 row15\" >CITROEN</th>\n",
       "      <td id=\"T_21df7_row15_col0\" class=\"data row15 col0\" >111</td>\n",
       "      <td id=\"T_21df7_row15_col1\" class=\"data row15 col1\" >11.330</td>\n",
       "      <td id=\"T_21df7_row15_col2\" class=\"data row15 col2\" >PETROL</td>\n",
       "      <td id=\"T_21df7_row15_col3\" class=\"data row15 col3\" >4.942</td>\n",
       "      <td id=\"T_21df7_row15_col4\" class=\"data row15 col4\" >80.712</td>\n",
       "      <td id=\"T_21df7_row15_col5\" class=\"data row15 col5\" >120.550</td>\n",
       "      <td id=\"T_21df7_row15_col6\" class=\"data row15 col6\" >1265.333</td>\n",
       "      <td id=\"T_21df7_row15_col7\" class=\"data row15 col7\" >2608.261</td>\n",
       "      <td id=\"T_21df7_row15_col8\" class=\"data row15 col8\" >1515.279</td>\n",
       "    </tr>\n",
       "    <tr>\n",
       "      <th id=\"T_21df7_level1_row16\" class=\"row_heading level1 row16\" >DS</th>\n",
       "      <td id=\"T_21df7_row16_col0\" class=\"data row16 col0\" >11</td>\n",
       "      <td id=\"T_21df7_row16_col1\" class=\"data row16 col1\" >1.120</td>\n",
       "      <td id=\"T_21df7_row16_col2\" class=\"data row16 col2\" >DIESEL</td>\n",
       "      <td id=\"T_21df7_row16_col3\" class=\"data row16 col3\" >4.191</td>\n",
       "      <td id=\"T_21df7_row16_col4\" class=\"data row16 col4\" >107.818</td>\n",
       "      <td id=\"T_21df7_row16_col5\" class=\"data row16 col5\" >107.182</td>\n",
       "      <td id=\"T_21df7_row16_col6\" class=\"data row16 col6\" >1508.455</td>\n",
       "      <td id=\"T_21df7_row16_col7\" class=\"data row16 col7\" >2656.182</td>\n",
       "      <td id=\"T_21df7_row16_col8\" class=\"data row16 col8\" >1596.545</td>\n",
       "    </tr>\n",
       "    <tr>\n",
       "      <th id=\"T_21df7_level1_row17\" class=\"row_heading level1 row17\" >FIAT</th>\n",
       "      <td id=\"T_21df7_row17_col0\" class=\"data row17 col0\" >29</td>\n",
       "      <td id=\"T_21df7_row17_col1\" class=\"data row17 col1\" >2.960</td>\n",
       "      <td id=\"T_21df7_row17_col2\" class=\"data row17 col2\" >PETROL</td>\n",
       "      <td id=\"T_21df7_row17_col3\" class=\"data row17 col3\" >5.437</td>\n",
       "      <td id=\"T_21df7_row17_col4\" class=\"data row17 col4\" >65.172</td>\n",
       "      <td id=\"T_21df7_row17_col5\" class=\"data row17 col5\" >101.621</td>\n",
       "      <td id=\"T_21df7_row17_col6\" class=\"data row17 col6\" >1223.379</td>\n",
       "      <td id=\"T_21df7_row17_col7\" class=\"data row17 col7\" >2388.414</td>\n",
       "      <td id=\"T_21df7_row17_col8\" class=\"data row17 col8\" >1460.655</td>\n",
       "    </tr>\n",
       "    <tr>\n",
       "      <th id=\"T_21df7_level1_row18\" class=\"row_heading level1 row18\" >JEEP</th>\n",
       "      <td id=\"T_21df7_row18_col0\" class=\"data row18 col0\" >1</td>\n",
       "      <td id=\"T_21df7_row18_col1\" class=\"data row18 col1\" >0.100</td>\n",
       "      <td id=\"T_21df7_row18_col2\" class=\"data row18 col2\" >DIESEL</td>\n",
       "      <td id=\"T_21df7_row18_col3\" class=\"data row18 col3\" >5.100</td>\n",
       "      <td id=\"T_21df7_row18_col4\" class=\"data row18 col4\" >96.000</td>\n",
       "      <td id=\"T_21df7_row18_col5\" class=\"data row18 col5\" >134.000</td>\n",
       "      <td id=\"T_21df7_row18_col6\" class=\"data row18 col6\" >1505.000</td>\n",
       "      <td id=\"T_21df7_row18_col7\" class=\"data row18 col7\" >2570.000</td>\n",
       "      <td id=\"T_21df7_row18_col8\" class=\"data row18 col8\" >1551.000</td>\n",
       "    </tr>\n",
       "    <tr>\n",
       "      <th id=\"T_21df7_level1_row19\" class=\"row_heading level1 row19\" >OPEL</th>\n",
       "      <td id=\"T_21df7_row19_col0\" class=\"data row19 col0\" >24</td>\n",
       "      <td id=\"T_21df7_row19_col1\" class=\"data row19 col1\" >2.450</td>\n",
       "      <td id=\"T_21df7_row19_col2\" class=\"data row19 col2\" >PETROL</td>\n",
       "      <td id=\"T_21df7_row19_col3\" class=\"data row19 col3\" >5.542</td>\n",
       "      <td id=\"T_21df7_row19_col4\" class=\"data row19 col4\" >79.042</td>\n",
       "      <td id=\"T_21df7_row19_col5\" class=\"data row19 col5\" >117.125</td>\n",
       "      <td id=\"T_21df7_row19_col6\" class=\"data row19 col6\" >1260.500</td>\n",
       "      <td id=\"T_21df7_row19_col7\" class=\"data row19 col7\" >2570.250</td>\n",
       "      <td id=\"T_21df7_row19_col8\" class=\"data row19 col8\" >1512.792</td>\n",
       "    </tr>\n",
       "    <tr>\n",
       "      <th id=\"T_21df7_level1_row20\" class=\"row_heading level1 row20\" >PEUGEOT</th>\n",
       "      <td id=\"T_21df7_row20_col0\" class=\"data row20 col0\" >168</td>\n",
       "      <td id=\"T_21df7_row20_col1\" class=\"data row20 col1\" >17.140</td>\n",
       "      <td id=\"T_21df7_row20_col2\" class=\"data row20 col2\" >PETROL</td>\n",
       "      <td id=\"T_21df7_row20_col3\" class=\"data row20 col3\" >4.938</td>\n",
       "      <td id=\"T_21df7_row20_col4\" class=\"data row20 col4\" >87.595</td>\n",
       "      <td id=\"T_21df7_row20_col5\" class=\"data row20 col5\" >109.315</td>\n",
       "      <td id=\"T_21df7_row20_col6\" class=\"data row20 col6\" >1353.673</td>\n",
       "      <td id=\"T_21df7_row20_col7\" class=\"data row20 col7\" >2618.185</td>\n",
       "      <td id=\"T_21df7_row20_col8\" class=\"data row20 col8\" >1543.708</td>\n",
       "    </tr>\n",
       "    <tr>\n",
       "      <th id=\"T_21df7_level0_row21\" class=\"row_heading level0 row21\" rowspan=\"2\">TATA-MOTORS</th>\n",
       "      <th id=\"T_21df7_level1_row21\" class=\"row_heading level1 row21\" >JAGUAR</th>\n",
       "      <td id=\"T_21df7_row21_col0\" class=\"data row21 col0\" >1</td>\n",
       "      <td id=\"T_21df7_row21_col1\" class=\"data row21 col1\" >0.100</td>\n",
       "      <td id=\"T_21df7_row21_col2\" class=\"data row21 col2\" >DIESEL</td>\n",
       "      <td id=\"T_21df7_row21_col3\" class=\"data row21 col3\" >6.600</td>\n",
       "      <td id=\"T_21df7_row21_col4\" class=\"data row21 col4\" >150.000</td>\n",
       "      <td id=\"T_21df7_row21_col5\" class=\"data row21 col5\" >173.000</td>\n",
       "      <td id=\"T_21df7_row21_col6\" class=\"data row21 col6\" >1991.000</td>\n",
       "      <td id=\"T_21df7_row21_col7\" class=\"data row21 col7\" >2874.000</td>\n",
       "      <td id=\"T_21df7_row21_col8\" class=\"data row21 col8\" >1635.000</td>\n",
       "    </tr>\n",
       "    <tr>\n",
       "      <th id=\"T_21df7_level1_row22\" class=\"row_heading level1 row22\" >LAND ROVER</th>\n",
       "      <td id=\"T_21df7_row22_col0\" class=\"data row22 col0\" >3</td>\n",
       "      <td id=\"T_21df7_row22_col1\" class=\"data row22 col1\" >0.310</td>\n",
       "      <td id=\"T_21df7_row22_col2\" class=\"data row22 col2\" >DIESEL</td>\n",
       "      <td id=\"T_21df7_row22_col3\" class=\"data row22 col3\" >5.133</td>\n",
       "      <td id=\"T_21df7_row22_col4\" class=\"data row22 col4\" >139.000</td>\n",
       "      <td id=\"T_21df7_row22_col5\" class=\"data row22 col5\" >132.000</td>\n",
       "      <td id=\"T_21df7_row22_col6\" class=\"data row22 col6\" >2089.000</td>\n",
       "      <td id=\"T_21df7_row22_col7\" class=\"data row22 col7\" >2765.333</td>\n",
       "      <td id=\"T_21df7_row22_col8\" class=\"data row22 col8\" >1630.000</td>\n",
       "    </tr>\n",
       "    <tr>\n",
       "      <th id=\"T_21df7_level0_row23\" class=\"row_heading level0 row23\" >TESLA</th>\n",
       "      <th id=\"T_21df7_level1_row23\" class=\"row_heading level1 row23\" >TESLA</th>\n",
       "      <td id=\"T_21df7_row23_col0\" class=\"data row23 col0\" >23</td>\n",
       "      <td id=\"T_21df7_row23_col1\" class=\"data row23 col1\" >2.350</td>\n",
       "      <td id=\"T_21df7_row23_col2\" class=\"data row23 col2\" >ELECTRIC</td>\n",
       "      <td id=\"T_21df7_row23_col3\" class=\"data row23 col3\" >nan</td>\n",
       "      <td id=\"T_21df7_row23_col4\" class=\"data row23 col4\" >94.783</td>\n",
       "      <td id=\"T_21df7_row23_col5\" class=\"data row23 col5\" >0.000</td>\n",
       "      <td id=\"T_21df7_row23_col6\" class=\"data row23 col6\" >1831.478</td>\n",
       "      <td id=\"T_21df7_row23_col7\" class=\"data row23 col7\" >2876.304</td>\n",
       "      <td id=\"T_21df7_row23_col8\" class=\"data row23 col8\" >1584.870</td>\n",
       "    </tr>\n",
       "    <tr>\n",
       "      <th id=\"T_21df7_level0_row24\" class=\"row_heading level0 row24\" rowspan=\"7\">VW-SAIC</th>\n",
       "      <th id=\"T_21df7_level1_row24\" class=\"row_heading level1 row24\" >AUDI</th>\n",
       "      <td id=\"T_21df7_row24_col0\" class=\"data row24 col0\" >29</td>\n",
       "      <td id=\"T_21df7_row24_col1\" class=\"data row24 col1\" >2.960</td>\n",
       "      <td id=\"T_21df7_row24_col2\" class=\"data row24 col2\" >PETROL</td>\n",
       "      <td id=\"T_21df7_row24_col3\" class=\"data row24 col3\" >4.476</td>\n",
       "      <td id=\"T_21df7_row24_col4\" class=\"data row24 col4\" >110.586</td>\n",
       "      <td id=\"T_21df7_row24_col5\" class=\"data row24 col5\" >112.690</td>\n",
       "      <td id=\"T_21df7_row24_col6\" class=\"data row24 col6\" >1545.690</td>\n",
       "      <td id=\"T_21df7_row24_col7\" class=\"data row24 col7\" >2663.690</td>\n",
       "      <td id=\"T_21df7_row24_col8\" class=\"data row24 col8\" >1557.069</td>\n",
       "    </tr>\n",
       "    <tr>\n",
       "      <th id=\"T_21df7_level1_row25\" class=\"row_heading level1 row25\" >CUPRA</th>\n",
       "      <td id=\"T_21df7_row25_col0\" class=\"data row25 col0\" >3</td>\n",
       "      <td id=\"T_21df7_row25_col1\" class=\"data row25 col1\" >0.310</td>\n",
       "      <td id=\"T_21df7_row25_col2\" class=\"data row25 col2\" >PETROL/ELECTRIC</td>\n",
       "      <td id=\"T_21df7_row25_col3\" class=\"data row25 col3\" >3.267</td>\n",
       "      <td id=\"T_21df7_row25_col4\" class=\"data row25 col4\" >110.000</td>\n",
       "      <td id=\"T_21df7_row25_col5\" class=\"data row25 col5\" >73.667</td>\n",
       "      <td id=\"T_21df7_row25_col6\" class=\"data row25 col6\" >1624.667</td>\n",
       "      <td id=\"T_21df7_row25_col7\" class=\"data row25 col7\" >2679.000</td>\n",
       "      <td id=\"T_21df7_row25_col8\" class=\"data row25 col8\" >1574.667</td>\n",
       "    </tr>\n",
       "    <tr>\n",
       "      <th id=\"T_21df7_level1_row26\" class=\"row_heading level1 row26\" >MG</th>\n",
       "      <td id=\"T_21df7_row26_col0\" class=\"data row26 col0\" >4</td>\n",
       "      <td id=\"T_21df7_row26_col1\" class=\"data row26 col1\" >0.410</td>\n",
       "      <td id=\"T_21df7_row26_col2\" class=\"data row26 col2\" >ELECTRIC</td>\n",
       "      <td id=\"T_21df7_row26_col3\" class=\"data row26 col3\" >1.800</td>\n",
       "      <td id=\"T_21df7_row26_col4\" class=\"data row26 col4\" >93.500</td>\n",
       "      <td id=\"T_21df7_row26_col5\" class=\"data row26 col5\" >21.500</td>\n",
       "      <td id=\"T_21df7_row26_col6\" class=\"data row26 col6\" >1728.500</td>\n",
       "      <td id=\"T_21df7_row26_col7\" class=\"data row26 col7\" >2650.500</td>\n",
       "      <td id=\"T_21df7_row26_col8\" class=\"data row26 col8\" >1550.000</td>\n",
       "    </tr>\n",
       "    <tr>\n",
       "      <th id=\"T_21df7_level1_row27\" class=\"row_heading level1 row27\" >PORSCHE</th>\n",
       "      <td id=\"T_21df7_row27_col0\" class=\"data row27 col0\" >2</td>\n",
       "      <td id=\"T_21df7_row27_col1\" class=\"data row27 col1\" >0.200</td>\n",
       "      <td id=\"T_21df7_row27_col2\" class=\"data row27 col2\" >PETROL/ELECTRIC</td>\n",
       "      <td id=\"T_21df7_row27_col3\" class=\"data row27 col3\" >2.950</td>\n",
       "      <td id=\"T_21df7_row27_col4\" class=\"data row27 col4\" >335.000</td>\n",
       "      <td id=\"T_21df7_row27_col5\" class=\"data row27 col5\" >66.500</td>\n",
       "      <td id=\"T_21df7_row27_col6\" class=\"data row27 col6\" >2435.000</td>\n",
       "      <td id=\"T_21df7_row27_col7\" class=\"data row27 col7\" >2922.500</td>\n",
       "      <td id=\"T_21df7_row27_col8\" class=\"data row27 col8\" >1672.000</td>\n",
       "    </tr>\n",
       "    <tr>\n",
       "      <th id=\"T_21df7_level1_row28\" class=\"row_heading level1 row28\" >SEAT</th>\n",
       "      <td id=\"T_21df7_row28_col0\" class=\"data row28 col0\" >11</td>\n",
       "      <td id=\"T_21df7_row28_col1\" class=\"data row28 col1\" >1.120</td>\n",
       "      <td id=\"T_21df7_row28_col2\" class=\"data row28 col2\" >PETROL</td>\n",
       "      <td id=\"T_21df7_row28_col3\" class=\"data row28 col3\" >5.856</td>\n",
       "      <td id=\"T_21df7_row28_col4\" class=\"data row28 col4\" >82.909</td>\n",
       "      <td id=\"T_21df7_row28_col5\" class=\"data row28 col5\" >131.455</td>\n",
       "      <td id=\"T_21df7_row28_col6\" class=\"data row28 col6\" >1228.909</td>\n",
       "      <td id=\"T_21df7_row28_col7\" class=\"data row28 col7\" >2569.000</td>\n",
       "      <td id=\"T_21df7_row28_col8\" class=\"data row28 col8\" >1521.364</td>\n",
       "    </tr>\n",
       "    <tr>\n",
       "      <th id=\"T_21df7_level1_row29\" class=\"row_heading level1 row29\" >SKODA</th>\n",
       "      <td id=\"T_21df7_row29_col0\" class=\"data row29 col0\" >20</td>\n",
       "      <td id=\"T_21df7_row29_col1\" class=\"data row29 col1\" >2.040</td>\n",
       "      <td id=\"T_21df7_row29_col2\" class=\"data row29 col2\" >PETROL</td>\n",
       "      <td id=\"T_21df7_row29_col3\" class=\"data row29 col3\" >5.636</td>\n",
       "      <td id=\"T_21df7_row29_col4\" class=\"data row29 col4\" >85.400</td>\n",
       "      <td id=\"T_21df7_row29_col5\" class=\"data row29 col5\" >106.900</td>\n",
       "      <td id=\"T_21df7_row29_col6\" class=\"data row29 col6\" >1449.550</td>\n",
       "      <td id=\"T_21df7_row29_col7\" class=\"data row29 col7\" >2637.450</td>\n",
       "      <td id=\"T_21df7_row29_col8\" class=\"data row29 col8\" >1526.150</td>\n",
       "    </tr>\n",
       "    <tr>\n",
       "      <th id=\"T_21df7_level1_row30\" class=\"row_heading level1 row30\" >VOLKSWAGEN</th>\n",
       "      <td id=\"T_21df7_row30_col0\" class=\"data row30 col0\" >59</td>\n",
       "      <td id=\"T_21df7_row30_col1\" class=\"data row30 col1\" >6.020</td>\n",
       "      <td id=\"T_21df7_row30_col2\" class=\"data row30 col2\" >PETROL</td>\n",
       "      <td id=\"T_21df7_row30_col3\" class=\"data row30 col3\" >5.444</td>\n",
       "      <td id=\"T_21df7_row30_col4\" class=\"data row30 col4\" >89.085</td>\n",
       "      <td id=\"T_21df7_row30_col5\" class=\"data row30 col5\" >116.203</td>\n",
       "      <td id=\"T_21df7_row30_col6\" class=\"data row30 col6\" >1415.373</td>\n",
       "      <td id=\"T_21df7_row30_col7\" class=\"data row30 col7\" >2619.678</td>\n",
       "      <td id=\"T_21df7_row30_col8\" class=\"data row30 col8\" >1533.169</td>\n",
       "    </tr>\n",
       "  </tbody>\n",
       "</table>\n"
      ],
      "text/plain": [
       "<pandas.io.formats.style.Styler at 0x7fa19322c880>"
      ]
     },
     "metadata": {},
     "output_type": "display_data"
    }
   ],
   "source": [
    "makers.display()"
   ]
  },
  {
   "cell_type": "code",
   "execution_count": 17,
   "metadata": {},
   "outputs": [],
   "source": [
    "#coutry_stats = agg.get_country_stats()\n",
    "#display(coutry_stats)\n",
    "country_stats = {\n",
    " 'IE': {'population': 5123536, 'gdp_per_capita': 103296.79936336935},\n",
    " 'HU': {'population': 9603634, 'gdp_per_capita': 18.935334502543515},\n",
    " 'ES': {'population': 47415750, 'gdp_per_capita': 30103.513733200467},\n",
    " 'BE': {'population': 11584008, 'gdp_per_capita': 51785.18523122567},\n",
    " 'LU': {'population': 660809, 'gdp_per_capita': 129396.30639715864},\n",
    " 'FI': {'population': 5563970, 'gdp_per_capita': 53269.09118201572},\n",
    " 'SE': {'population': 10548336, 'gdp_per_capita': 60375.042698298574},\n",
    " 'DK': {'population': 5827463, 'gdp_per_capita': 68349.34391930074},\n",
    " 'PL': {'population': 38382576, 'gdp_per_capita': 17929.40124589345},\n",
    " 'LT': {'population': 2860002, 'gdp_per_capita': 24592.39504308039},\n",
    " 'IT': {'population': 58850717, 'gdp_per_capita': 35927.442598770715},\n",
    " 'AT': {'population': 8979894, 'gdp_per_capita': 53493.772186286384},\n",
    " 'GR': {'population': 10482487, 'gdp_per_capita': 20898.272753975274},\n",
    " 'PT': {'population': 10347892, 'gdp_per_capita': 24544.40455804912},\n",
    " 'FR': {'population': 67749632, 'gdp_per_capita': 43658.97897812936},\n",
    " 'GB': {'population': 67326569, 'gdp_per_capita': 46378.1296493068},\n",
    " 'DE': {'population': 83149300, 'gdp_per_capita': 51232.36048676297},\n",
    " 'EE': {'population': 1373101, 'gdp_per_capita': 27748.00466899376},\n",
    " 'LV': {'population': 1883008, 'gdp_per_capita': 21855.4104193928},\n",
    " 'CZ': {'population': 10827529, 'gdp_per_capita': 23152.189202171612},\n",
    " 'SK': {'population': 5449270, 'gdp_per_capita': 21774.768346769382},\n",
    " 'SI': {'population': 2066880, 'gdp_per_capita': 30053.882187161325},\n",
    " 'RO': {'population': 19053815, 'gdp_per_capita': 15811.089953586723},\n",
    " 'BG': {'population': 7000039, 'gdp_per_capita': 12719.986046649168},\n",
    " 'HR': {'population': 3871833, 'gdp_per_capita': 18328.426475263783},\n",
    " 'CY': {'population': 1141166, 'gdp_per_capita': 24921.04806925548},\n",
    " 'MT': {'population': 465292, 'gdp_per_capita': 38180.90578604403},\n",
    " 'NL': {'population': 17100715, 'gdp_per_capita': 48569.46734975701}}\n",
    "\n"
   ]
  },
  {
   "cell_type": "code",
   "execution_count": 18,
   "metadata": {},
   "outputs": [
    {
     "data": {
      "text/html": [
       "<style type=\"text/css\">\n",
       "#T_b909a th {\n",
       "  background-color: steelblue;\n",
       "  color: white;\n",
       "}\n",
       "#T_b909a tr:nth-of-type(odd) {\n",
       "  background-color: aliceblue;\n",
       "}\n",
       "#T_b909a tr:nth-of-type(even) {\n",
       "  background-color: white;\n",
       "}\n",
       "</style>\n",
       "<table id=\"T_b909a\">\n",
       "  <thead>\n",
       "    <tr>\n",
       "      <th class=\"blank level0\" >&nbsp;</th>\n",
       "      <th id=\"T_b909a_level0_col0\" class=\"col_heading level0 col0\" >Country</th>\n",
       "      <th id=\"T_b909a_level0_col1\" class=\"col_heading level0 col1\" >population</th>\n",
       "      <th id=\"T_b909a_level0_col2\" class=\"col_heading level0 col2\" >gdp_per_capita</th>\n",
       "      <th id=\"T_b909a_level0_col3\" class=\"col_heading level0 col3\" >Count</th>\n",
       "      <th id=\"T_b909a_level0_col4\" class=\"col_heading level0 col4\" >Make</th>\n",
       "      <th id=\"T_b909a_level0_col5\" class=\"col_heading level0 col5\" >FuelType</th>\n",
       "      <th id=\"T_b909a_level0_col6\" class=\"col_heading level0 col6\" >FuelConsumption</th>\n",
       "      <th id=\"T_b909a_level0_col7\" class=\"col_heading level0 col7\" >EnginePower</th>\n",
       "      <th id=\"T_b909a_level0_col8\" class=\"col_heading level0 col8\" >Co2EmissionsWltp</th>\n",
       "      <th id=\"T_b909a_level0_col9\" class=\"col_heading level0 col9\" >MassRunningOrder</th>\n",
       "      <th id=\"T_b909a_level0_col10\" class=\"col_heading level0 col10\" >BaseWheel</th>\n",
       "      <th id=\"T_b909a_level0_col11\" class=\"col_heading level0 col11\" >AxleWidthSteering</th>\n",
       "    </tr>\n",
       "  </thead>\n",
       "  <tbody>\n",
       "    <tr>\n",
       "      <th id=\"T_b909a_level0_row0\" class=\"row_heading level0 row0\" >0</th>\n",
       "      <td id=\"T_b909a_row0_col0\" class=\"data row0 col0\" >FR</td>\n",
       "      <td id=\"T_b909a_row0_col1\" class=\"data row0 col1\" >67749632.000</td>\n",
       "      <td id=\"T_b909a_row0_col2\" class=\"data row0 col2\" >43658.979</td>\n",
       "      <td id=\"T_b909a_row0_col3\" class=\"data row0 col3\" >980</td>\n",
       "      <td id=\"T_b909a_row0_col4\" class=\"data row0 col4\" >PEUGEOT</td>\n",
       "      <td id=\"T_b909a_row0_col5\" class=\"data row0 col5\" >PETROL</td>\n",
       "      <td id=\"T_b909a_row0_col6\" class=\"data row0 col6\" >5.114</td>\n",
       "      <td id=\"T_b909a_row0_col7\" class=\"data row0 col7\" >85.785</td>\n",
       "      <td id=\"T_b909a_row0_col8\" class=\"data row0 col8\" >107.741</td>\n",
       "      <td id=\"T_b909a_row0_col9\" class=\"data row0 col9\" >1388.767</td>\n",
       "      <td id=\"T_b909a_row0_col10\" class=\"data row0 col10\" >2623.591</td>\n",
       "      <td id=\"T_b909a_row0_col11\" class=\"data row0 col11\" >1537.053</td>\n",
       "    </tr>\n",
       "  </tbody>\n",
       "</table>\n"
      ],
      "text/plain": [
       "<pandas.io.formats.style.Styler at 0x7fa1922b2dc0>"
      ]
     },
     "metadata": {},
     "output_type": "display_data"
    }
   ],
   "source": [
    "countries = co2.agg.Countries(df, country_stats)  \n",
    "countries.display()"
   ]
  },
  {
   "cell_type": "code",
   "execution_count": 19,
   "metadata": {},
   "outputs": [
    {
     "data": {
      "application/vnd.plotly.v1+json": {
       "config": {
        "plotlyServerURL": "https://plot.ly"
       },
       "data": [
        {
         "alignmentgroup": "True",
         "hovertemplate": "Country=%{x}<br>Co2EmissionsWltp=%{marker.color}<extra></extra>",
         "legendgroup": "",
         "marker": {
          "color": [
           107.7408163265306
          ],
          "coloraxis": "coloraxis",
          "pattern": {
           "shape": ""
          }
         },
         "name": "",
         "offsetgroup": "",
         "orientation": "v",
         "showlegend": false,
         "textposition": "auto",
         "type": "bar",
         "x": [
          "FR"
         ],
         "xaxis": "x",
         "y": [
          107.7408163265306
         ],
         "yaxis": "y"
        }
       ],
       "layout": {
        "barmode": "relative",
        "coloraxis": {
         "colorbar": {
          "title": {
           "text": "Co2EmissionsWltp"
          }
         },
         "colorscale": [
          [
           0,
           "rgb(247,251,255)"
          ],
          [
           0.125,
           "rgb(222,235,247)"
          ],
          [
           0.25,
           "rgb(198,219,239)"
          ],
          [
           0.375,
           "rgb(158,202,225)"
          ],
          [
           0.5,
           "rgb(107,174,214)"
          ],
          [
           0.625,
           "rgb(66,146,198)"
          ],
          [
           0.75,
           "rgb(33,113,181)"
          ],
          [
           0.875,
           "rgb(8,81,156)"
          ],
          [
           1,
           "rgb(8,48,107)"
          ]
         ]
        },
        "legend": {
         "tracegroupgap": 0
        },
        "margin": {
         "t": 60
        },
        "template": {
         "data": {
          "bar": [
           {
            "error_x": {
             "color": "#2a3f5f"
            },
            "error_y": {
             "color": "#2a3f5f"
            },
            "marker": {
             "line": {
              "color": "#E5ECF6",
              "width": 0.5
             },
             "pattern": {
              "fillmode": "overlay",
              "size": 10,
              "solidity": 0.2
             }
            },
            "type": "bar"
           }
          ],
          "barpolar": [
           {
            "marker": {
             "line": {
              "color": "#E5ECF6",
              "width": 0.5
             },
             "pattern": {
              "fillmode": "overlay",
              "size": 10,
              "solidity": 0.2
             }
            },
            "type": "barpolar"
           }
          ],
          "carpet": [
           {
            "aaxis": {
             "endlinecolor": "#2a3f5f",
             "gridcolor": "white",
             "linecolor": "white",
             "minorgridcolor": "white",
             "startlinecolor": "#2a3f5f"
            },
            "baxis": {
             "endlinecolor": "#2a3f5f",
             "gridcolor": "white",
             "linecolor": "white",
             "minorgridcolor": "white",
             "startlinecolor": "#2a3f5f"
            },
            "type": "carpet"
           }
          ],
          "choropleth": [
           {
            "colorbar": {
             "outlinewidth": 0,
             "ticks": ""
            },
            "type": "choropleth"
           }
          ],
          "contour": [
           {
            "colorbar": {
             "outlinewidth": 0,
             "ticks": ""
            },
            "colorscale": [
             [
              0,
              "#0d0887"
             ],
             [
              0.1111111111111111,
              "#46039f"
             ],
             [
              0.2222222222222222,
              "#7201a8"
             ],
             [
              0.3333333333333333,
              "#9c179e"
             ],
             [
              0.4444444444444444,
              "#bd3786"
             ],
             [
              0.5555555555555556,
              "#d8576b"
             ],
             [
              0.6666666666666666,
              "#ed7953"
             ],
             [
              0.7777777777777778,
              "#fb9f3a"
             ],
             [
              0.8888888888888888,
              "#fdca26"
             ],
             [
              1,
              "#f0f921"
             ]
            ],
            "type": "contour"
           }
          ],
          "contourcarpet": [
           {
            "colorbar": {
             "outlinewidth": 0,
             "ticks": ""
            },
            "type": "contourcarpet"
           }
          ],
          "heatmap": [
           {
            "colorbar": {
             "outlinewidth": 0,
             "ticks": ""
            },
            "colorscale": [
             [
              0,
              "#0d0887"
             ],
             [
              0.1111111111111111,
              "#46039f"
             ],
             [
              0.2222222222222222,
              "#7201a8"
             ],
             [
              0.3333333333333333,
              "#9c179e"
             ],
             [
              0.4444444444444444,
              "#bd3786"
             ],
             [
              0.5555555555555556,
              "#d8576b"
             ],
             [
              0.6666666666666666,
              "#ed7953"
             ],
             [
              0.7777777777777778,
              "#fb9f3a"
             ],
             [
              0.8888888888888888,
              "#fdca26"
             ],
             [
              1,
              "#f0f921"
             ]
            ],
            "type": "heatmap"
           }
          ],
          "heatmapgl": [
           {
            "colorbar": {
             "outlinewidth": 0,
             "ticks": ""
            },
            "colorscale": [
             [
              0,
              "#0d0887"
             ],
             [
              0.1111111111111111,
              "#46039f"
             ],
             [
              0.2222222222222222,
              "#7201a8"
             ],
             [
              0.3333333333333333,
              "#9c179e"
             ],
             [
              0.4444444444444444,
              "#bd3786"
             ],
             [
              0.5555555555555556,
              "#d8576b"
             ],
             [
              0.6666666666666666,
              "#ed7953"
             ],
             [
              0.7777777777777778,
              "#fb9f3a"
             ],
             [
              0.8888888888888888,
              "#fdca26"
             ],
             [
              1,
              "#f0f921"
             ]
            ],
            "type": "heatmapgl"
           }
          ],
          "histogram": [
           {
            "marker": {
             "pattern": {
              "fillmode": "overlay",
              "size": 10,
              "solidity": 0.2
             }
            },
            "type": "histogram"
           }
          ],
          "histogram2d": [
           {
            "colorbar": {
             "outlinewidth": 0,
             "ticks": ""
            },
            "colorscale": [
             [
              0,
              "#0d0887"
             ],
             [
              0.1111111111111111,
              "#46039f"
             ],
             [
              0.2222222222222222,
              "#7201a8"
             ],
             [
              0.3333333333333333,
              "#9c179e"
             ],
             [
              0.4444444444444444,
              "#bd3786"
             ],
             [
              0.5555555555555556,
              "#d8576b"
             ],
             [
              0.6666666666666666,
              "#ed7953"
             ],
             [
              0.7777777777777778,
              "#fb9f3a"
             ],
             [
              0.8888888888888888,
              "#fdca26"
             ],
             [
              1,
              "#f0f921"
             ]
            ],
            "type": "histogram2d"
           }
          ],
          "histogram2dcontour": [
           {
            "colorbar": {
             "outlinewidth": 0,
             "ticks": ""
            },
            "colorscale": [
             [
              0,
              "#0d0887"
             ],
             [
              0.1111111111111111,
              "#46039f"
             ],
             [
              0.2222222222222222,
              "#7201a8"
             ],
             [
              0.3333333333333333,
              "#9c179e"
             ],
             [
              0.4444444444444444,
              "#bd3786"
             ],
             [
              0.5555555555555556,
              "#d8576b"
             ],
             [
              0.6666666666666666,
              "#ed7953"
             ],
             [
              0.7777777777777778,
              "#fb9f3a"
             ],
             [
              0.8888888888888888,
              "#fdca26"
             ],
             [
              1,
              "#f0f921"
             ]
            ],
            "type": "histogram2dcontour"
           }
          ],
          "mesh3d": [
           {
            "colorbar": {
             "outlinewidth": 0,
             "ticks": ""
            },
            "type": "mesh3d"
           }
          ],
          "parcoords": [
           {
            "line": {
             "colorbar": {
              "outlinewidth": 0,
              "ticks": ""
             }
            },
            "type": "parcoords"
           }
          ],
          "pie": [
           {
            "automargin": true,
            "type": "pie"
           }
          ],
          "scatter": [
           {
            "fillpattern": {
             "fillmode": "overlay",
             "size": 10,
             "solidity": 0.2
            },
            "type": "scatter"
           }
          ],
          "scatter3d": [
           {
            "line": {
             "colorbar": {
              "outlinewidth": 0,
              "ticks": ""
             }
            },
            "marker": {
             "colorbar": {
              "outlinewidth": 0,
              "ticks": ""
             }
            },
            "type": "scatter3d"
           }
          ],
          "scattercarpet": [
           {
            "marker": {
             "colorbar": {
              "outlinewidth": 0,
              "ticks": ""
             }
            },
            "type": "scattercarpet"
           }
          ],
          "scattergeo": [
           {
            "marker": {
             "colorbar": {
              "outlinewidth": 0,
              "ticks": ""
             }
            },
            "type": "scattergeo"
           }
          ],
          "scattergl": [
           {
            "marker": {
             "colorbar": {
              "outlinewidth": 0,
              "ticks": ""
             }
            },
            "type": "scattergl"
           }
          ],
          "scattermapbox": [
           {
            "marker": {
             "colorbar": {
              "outlinewidth": 0,
              "ticks": ""
             }
            },
            "type": "scattermapbox"
           }
          ],
          "scatterpolar": [
           {
            "marker": {
             "colorbar": {
              "outlinewidth": 0,
              "ticks": ""
             }
            },
            "type": "scatterpolar"
           }
          ],
          "scatterpolargl": [
           {
            "marker": {
             "colorbar": {
              "outlinewidth": 0,
              "ticks": ""
             }
            },
            "type": "scatterpolargl"
           }
          ],
          "scatterternary": [
           {
            "marker": {
             "colorbar": {
              "outlinewidth": 0,
              "ticks": ""
             }
            },
            "type": "scatterternary"
           }
          ],
          "surface": [
           {
            "colorbar": {
             "outlinewidth": 0,
             "ticks": ""
            },
            "colorscale": [
             [
              0,
              "#0d0887"
             ],
             [
              0.1111111111111111,
              "#46039f"
             ],
             [
              0.2222222222222222,
              "#7201a8"
             ],
             [
              0.3333333333333333,
              "#9c179e"
             ],
             [
              0.4444444444444444,
              "#bd3786"
             ],
             [
              0.5555555555555556,
              "#d8576b"
             ],
             [
              0.6666666666666666,
              "#ed7953"
             ],
             [
              0.7777777777777778,
              "#fb9f3a"
             ],
             [
              0.8888888888888888,
              "#fdca26"
             ],
             [
              1,
              "#f0f921"
             ]
            ],
            "type": "surface"
           }
          ],
          "table": [
           {
            "cells": {
             "fill": {
              "color": "#EBF0F8"
             },
             "line": {
              "color": "white"
             }
            },
            "header": {
             "fill": {
              "color": "#C8D4E3"
             },
             "line": {
              "color": "white"
             }
            },
            "type": "table"
           }
          ]
         },
         "layout": {
          "annotationdefaults": {
           "arrowcolor": "#2a3f5f",
           "arrowhead": 0,
           "arrowwidth": 1
          },
          "autotypenumbers": "strict",
          "coloraxis": {
           "colorbar": {
            "outlinewidth": 0,
            "ticks": ""
           }
          },
          "colorscale": {
           "diverging": [
            [
             0,
             "#8e0152"
            ],
            [
             0.1,
             "#c51b7d"
            ],
            [
             0.2,
             "#de77ae"
            ],
            [
             0.3,
             "#f1b6da"
            ],
            [
             0.4,
             "#fde0ef"
            ],
            [
             0.5,
             "#f7f7f7"
            ],
            [
             0.6,
             "#e6f5d0"
            ],
            [
             0.7,
             "#b8e186"
            ],
            [
             0.8,
             "#7fbc41"
            ],
            [
             0.9,
             "#4d9221"
            ],
            [
             1,
             "#276419"
            ]
           ],
           "sequential": [
            [
             0,
             "#0d0887"
            ],
            [
             0.1111111111111111,
             "#46039f"
            ],
            [
             0.2222222222222222,
             "#7201a8"
            ],
            [
             0.3333333333333333,
             "#9c179e"
            ],
            [
             0.4444444444444444,
             "#bd3786"
            ],
            [
             0.5555555555555556,
             "#d8576b"
            ],
            [
             0.6666666666666666,
             "#ed7953"
            ],
            [
             0.7777777777777778,
             "#fb9f3a"
            ],
            [
             0.8888888888888888,
             "#fdca26"
            ],
            [
             1,
             "#f0f921"
            ]
           ],
           "sequentialminus": [
            [
             0,
             "#0d0887"
            ],
            [
             0.1111111111111111,
             "#46039f"
            ],
            [
             0.2222222222222222,
             "#7201a8"
            ],
            [
             0.3333333333333333,
             "#9c179e"
            ],
            [
             0.4444444444444444,
             "#bd3786"
            ],
            [
             0.5555555555555556,
             "#d8576b"
            ],
            [
             0.6666666666666666,
             "#ed7953"
            ],
            [
             0.7777777777777778,
             "#fb9f3a"
            ],
            [
             0.8888888888888888,
             "#fdca26"
            ],
            [
             1,
             "#f0f921"
            ]
           ]
          },
          "colorway": [
           "#636efa",
           "#EF553B",
           "#00cc96",
           "#ab63fa",
           "#FFA15A",
           "#19d3f3",
           "#FF6692",
           "#B6E880",
           "#FF97FF",
           "#FECB52"
          ],
          "font": {
           "color": "#2a3f5f"
          },
          "geo": {
           "bgcolor": "white",
           "lakecolor": "white",
           "landcolor": "#E5ECF6",
           "showlakes": true,
           "showland": true,
           "subunitcolor": "white"
          },
          "hoverlabel": {
           "align": "left"
          },
          "hovermode": "closest",
          "mapbox": {
           "style": "light"
          },
          "paper_bgcolor": "white",
          "plot_bgcolor": "#E5ECF6",
          "polar": {
           "angularaxis": {
            "gridcolor": "white",
            "linecolor": "white",
            "ticks": ""
           },
           "bgcolor": "#E5ECF6",
           "radialaxis": {
            "gridcolor": "white",
            "linecolor": "white",
            "ticks": ""
           }
          },
          "scene": {
           "xaxis": {
            "backgroundcolor": "#E5ECF6",
            "gridcolor": "white",
            "gridwidth": 2,
            "linecolor": "white",
            "showbackground": true,
            "ticks": "",
            "zerolinecolor": "white"
           },
           "yaxis": {
            "backgroundcolor": "#E5ECF6",
            "gridcolor": "white",
            "gridwidth": 2,
            "linecolor": "white",
            "showbackground": true,
            "ticks": "",
            "zerolinecolor": "white"
           },
           "zaxis": {
            "backgroundcolor": "#E5ECF6",
            "gridcolor": "white",
            "gridwidth": 2,
            "linecolor": "white",
            "showbackground": true,
            "ticks": "",
            "zerolinecolor": "white"
           }
          },
          "shapedefaults": {
           "line": {
            "color": "#2a3f5f"
           }
          },
          "ternary": {
           "aaxis": {
            "gridcolor": "white",
            "linecolor": "white",
            "ticks": ""
           },
           "baxis": {
            "gridcolor": "white",
            "linecolor": "white",
            "ticks": ""
           },
           "bgcolor": "#E5ECF6",
           "caxis": {
            "gridcolor": "white",
            "linecolor": "white",
            "ticks": ""
           }
          },
          "title": {
           "x": 0.05
          },
          "xaxis": {
           "automargin": true,
           "gridcolor": "white",
           "linecolor": "white",
           "ticks": "",
           "title": {
            "standoff": 15
           },
           "zerolinecolor": "white",
           "zerolinewidth": 2
          },
          "yaxis": {
           "automargin": true,
           "gridcolor": "white",
           "linecolor": "white",
           "ticks": "",
           "title": {
            "standoff": 15
           },
           "zerolinecolor": "white",
           "zerolinewidth": 2
          }
         }
        },
        "title": {
         "text": "Quel pays achète les véhicules les plus polluants? (CO2)",
         "x": 0.3
        },
        "xaxis": {
         "anchor": "y",
         "domain": [
          0,
          1
         ],
         "title": {
          "text": "Country"
         }
        },
        "yaxis": {
         "anchor": "x",
         "domain": [
          0,
          1
         ],
         "title": {
          "text": "Co2EmissionsWltp"
         }
        }
       }
      }
     },
     "metadata": {},
     "output_type": "display_data"
    },
    {
     "data": {
      "application/vnd.plotly.v1+json": {
       "config": {
        "plotlyServerURL": "https://plot.ly"
       },
       "data": [
        {
         "alignmentgroup": "True",
         "hovertemplate": "Country=%{x}<br>EnginePower=%{marker.color}<extra></extra>",
         "legendgroup": "",
         "marker": {
          "color": [
           85.78469387755102
          ],
          "coloraxis": "coloraxis",
          "pattern": {
           "shape": ""
          }
         },
         "name": "",
         "offsetgroup": "",
         "orientation": "v",
         "showlegend": false,
         "textposition": "auto",
         "type": "bar",
         "x": [
          "FR"
         ],
         "xaxis": "x",
         "y": [
          85.78469387755102
         ],
         "yaxis": "y"
        }
       ],
       "layout": {
        "barmode": "relative",
        "coloraxis": {
         "colorbar": {
          "title": {
           "text": "EnginePower"
          }
         },
         "colorscale": [
          [
           0,
           "rgb(247,252,245)"
          ],
          [
           0.125,
           "rgb(229,245,224)"
          ],
          [
           0.25,
           "rgb(199,233,192)"
          ],
          [
           0.375,
           "rgb(161,217,155)"
          ],
          [
           0.5,
           "rgb(116,196,118)"
          ],
          [
           0.625,
           "rgb(65,171,93)"
          ],
          [
           0.75,
           "rgb(35,139,69)"
          ],
          [
           0.875,
           "rgb(0,109,44)"
          ],
          [
           1,
           "rgb(0,68,27)"
          ]
         ]
        },
        "legend": {
         "tracegroupgap": 0
        },
        "margin": {
         "t": 60
        },
        "template": {
         "data": {
          "bar": [
           {
            "error_x": {
             "color": "#2a3f5f"
            },
            "error_y": {
             "color": "#2a3f5f"
            },
            "marker": {
             "line": {
              "color": "#E5ECF6",
              "width": 0.5
             },
             "pattern": {
              "fillmode": "overlay",
              "size": 10,
              "solidity": 0.2
             }
            },
            "type": "bar"
           }
          ],
          "barpolar": [
           {
            "marker": {
             "line": {
              "color": "#E5ECF6",
              "width": 0.5
             },
             "pattern": {
              "fillmode": "overlay",
              "size": 10,
              "solidity": 0.2
             }
            },
            "type": "barpolar"
           }
          ],
          "carpet": [
           {
            "aaxis": {
             "endlinecolor": "#2a3f5f",
             "gridcolor": "white",
             "linecolor": "white",
             "minorgridcolor": "white",
             "startlinecolor": "#2a3f5f"
            },
            "baxis": {
             "endlinecolor": "#2a3f5f",
             "gridcolor": "white",
             "linecolor": "white",
             "minorgridcolor": "white",
             "startlinecolor": "#2a3f5f"
            },
            "type": "carpet"
           }
          ],
          "choropleth": [
           {
            "colorbar": {
             "outlinewidth": 0,
             "ticks": ""
            },
            "type": "choropleth"
           }
          ],
          "contour": [
           {
            "colorbar": {
             "outlinewidth": 0,
             "ticks": ""
            },
            "colorscale": [
             [
              0,
              "#0d0887"
             ],
             [
              0.1111111111111111,
              "#46039f"
             ],
             [
              0.2222222222222222,
              "#7201a8"
             ],
             [
              0.3333333333333333,
              "#9c179e"
             ],
             [
              0.4444444444444444,
              "#bd3786"
             ],
             [
              0.5555555555555556,
              "#d8576b"
             ],
             [
              0.6666666666666666,
              "#ed7953"
             ],
             [
              0.7777777777777778,
              "#fb9f3a"
             ],
             [
              0.8888888888888888,
              "#fdca26"
             ],
             [
              1,
              "#f0f921"
             ]
            ],
            "type": "contour"
           }
          ],
          "contourcarpet": [
           {
            "colorbar": {
             "outlinewidth": 0,
             "ticks": ""
            },
            "type": "contourcarpet"
           }
          ],
          "heatmap": [
           {
            "colorbar": {
             "outlinewidth": 0,
             "ticks": ""
            },
            "colorscale": [
             [
              0,
              "#0d0887"
             ],
             [
              0.1111111111111111,
              "#46039f"
             ],
             [
              0.2222222222222222,
              "#7201a8"
             ],
             [
              0.3333333333333333,
              "#9c179e"
             ],
             [
              0.4444444444444444,
              "#bd3786"
             ],
             [
              0.5555555555555556,
              "#d8576b"
             ],
             [
              0.6666666666666666,
              "#ed7953"
             ],
             [
              0.7777777777777778,
              "#fb9f3a"
             ],
             [
              0.8888888888888888,
              "#fdca26"
             ],
             [
              1,
              "#f0f921"
             ]
            ],
            "type": "heatmap"
           }
          ],
          "heatmapgl": [
           {
            "colorbar": {
             "outlinewidth": 0,
             "ticks": ""
            },
            "colorscale": [
             [
              0,
              "#0d0887"
             ],
             [
              0.1111111111111111,
              "#46039f"
             ],
             [
              0.2222222222222222,
              "#7201a8"
             ],
             [
              0.3333333333333333,
              "#9c179e"
             ],
             [
              0.4444444444444444,
              "#bd3786"
             ],
             [
              0.5555555555555556,
              "#d8576b"
             ],
             [
              0.6666666666666666,
              "#ed7953"
             ],
             [
              0.7777777777777778,
              "#fb9f3a"
             ],
             [
              0.8888888888888888,
              "#fdca26"
             ],
             [
              1,
              "#f0f921"
             ]
            ],
            "type": "heatmapgl"
           }
          ],
          "histogram": [
           {
            "marker": {
             "pattern": {
              "fillmode": "overlay",
              "size": 10,
              "solidity": 0.2
             }
            },
            "type": "histogram"
           }
          ],
          "histogram2d": [
           {
            "colorbar": {
             "outlinewidth": 0,
             "ticks": ""
            },
            "colorscale": [
             [
              0,
              "#0d0887"
             ],
             [
              0.1111111111111111,
              "#46039f"
             ],
             [
              0.2222222222222222,
              "#7201a8"
             ],
             [
              0.3333333333333333,
              "#9c179e"
             ],
             [
              0.4444444444444444,
              "#bd3786"
             ],
             [
              0.5555555555555556,
              "#d8576b"
             ],
             [
              0.6666666666666666,
              "#ed7953"
             ],
             [
              0.7777777777777778,
              "#fb9f3a"
             ],
             [
              0.8888888888888888,
              "#fdca26"
             ],
             [
              1,
              "#f0f921"
             ]
            ],
            "type": "histogram2d"
           }
          ],
          "histogram2dcontour": [
           {
            "colorbar": {
             "outlinewidth": 0,
             "ticks": ""
            },
            "colorscale": [
             [
              0,
              "#0d0887"
             ],
             [
              0.1111111111111111,
              "#46039f"
             ],
             [
              0.2222222222222222,
              "#7201a8"
             ],
             [
              0.3333333333333333,
              "#9c179e"
             ],
             [
              0.4444444444444444,
              "#bd3786"
             ],
             [
              0.5555555555555556,
              "#d8576b"
             ],
             [
              0.6666666666666666,
              "#ed7953"
             ],
             [
              0.7777777777777778,
              "#fb9f3a"
             ],
             [
              0.8888888888888888,
              "#fdca26"
             ],
             [
              1,
              "#f0f921"
             ]
            ],
            "type": "histogram2dcontour"
           }
          ],
          "mesh3d": [
           {
            "colorbar": {
             "outlinewidth": 0,
             "ticks": ""
            },
            "type": "mesh3d"
           }
          ],
          "parcoords": [
           {
            "line": {
             "colorbar": {
              "outlinewidth": 0,
              "ticks": ""
             }
            },
            "type": "parcoords"
           }
          ],
          "pie": [
           {
            "automargin": true,
            "type": "pie"
           }
          ],
          "scatter": [
           {
            "fillpattern": {
             "fillmode": "overlay",
             "size": 10,
             "solidity": 0.2
            },
            "type": "scatter"
           }
          ],
          "scatter3d": [
           {
            "line": {
             "colorbar": {
              "outlinewidth": 0,
              "ticks": ""
             }
            },
            "marker": {
             "colorbar": {
              "outlinewidth": 0,
              "ticks": ""
             }
            },
            "type": "scatter3d"
           }
          ],
          "scattercarpet": [
           {
            "marker": {
             "colorbar": {
              "outlinewidth": 0,
              "ticks": ""
             }
            },
            "type": "scattercarpet"
           }
          ],
          "scattergeo": [
           {
            "marker": {
             "colorbar": {
              "outlinewidth": 0,
              "ticks": ""
             }
            },
            "type": "scattergeo"
           }
          ],
          "scattergl": [
           {
            "marker": {
             "colorbar": {
              "outlinewidth": 0,
              "ticks": ""
             }
            },
            "type": "scattergl"
           }
          ],
          "scattermapbox": [
           {
            "marker": {
             "colorbar": {
              "outlinewidth": 0,
              "ticks": ""
             }
            },
            "type": "scattermapbox"
           }
          ],
          "scatterpolar": [
           {
            "marker": {
             "colorbar": {
              "outlinewidth": 0,
              "ticks": ""
             }
            },
            "type": "scatterpolar"
           }
          ],
          "scatterpolargl": [
           {
            "marker": {
             "colorbar": {
              "outlinewidth": 0,
              "ticks": ""
             }
            },
            "type": "scatterpolargl"
           }
          ],
          "scatterternary": [
           {
            "marker": {
             "colorbar": {
              "outlinewidth": 0,
              "ticks": ""
             }
            },
            "type": "scatterternary"
           }
          ],
          "surface": [
           {
            "colorbar": {
             "outlinewidth": 0,
             "ticks": ""
            },
            "colorscale": [
             [
              0,
              "#0d0887"
             ],
             [
              0.1111111111111111,
              "#46039f"
             ],
             [
              0.2222222222222222,
              "#7201a8"
             ],
             [
              0.3333333333333333,
              "#9c179e"
             ],
             [
              0.4444444444444444,
              "#bd3786"
             ],
             [
              0.5555555555555556,
              "#d8576b"
             ],
             [
              0.6666666666666666,
              "#ed7953"
             ],
             [
              0.7777777777777778,
              "#fb9f3a"
             ],
             [
              0.8888888888888888,
              "#fdca26"
             ],
             [
              1,
              "#f0f921"
             ]
            ],
            "type": "surface"
           }
          ],
          "table": [
           {
            "cells": {
             "fill": {
              "color": "#EBF0F8"
             },
             "line": {
              "color": "white"
             }
            },
            "header": {
             "fill": {
              "color": "#C8D4E3"
             },
             "line": {
              "color": "white"
             }
            },
            "type": "table"
           }
          ]
         },
         "layout": {
          "annotationdefaults": {
           "arrowcolor": "#2a3f5f",
           "arrowhead": 0,
           "arrowwidth": 1
          },
          "autotypenumbers": "strict",
          "coloraxis": {
           "colorbar": {
            "outlinewidth": 0,
            "ticks": ""
           }
          },
          "colorscale": {
           "diverging": [
            [
             0,
             "#8e0152"
            ],
            [
             0.1,
             "#c51b7d"
            ],
            [
             0.2,
             "#de77ae"
            ],
            [
             0.3,
             "#f1b6da"
            ],
            [
             0.4,
             "#fde0ef"
            ],
            [
             0.5,
             "#f7f7f7"
            ],
            [
             0.6,
             "#e6f5d0"
            ],
            [
             0.7,
             "#b8e186"
            ],
            [
             0.8,
             "#7fbc41"
            ],
            [
             0.9,
             "#4d9221"
            ],
            [
             1,
             "#276419"
            ]
           ],
           "sequential": [
            [
             0,
             "#0d0887"
            ],
            [
             0.1111111111111111,
             "#46039f"
            ],
            [
             0.2222222222222222,
             "#7201a8"
            ],
            [
             0.3333333333333333,
             "#9c179e"
            ],
            [
             0.4444444444444444,
             "#bd3786"
            ],
            [
             0.5555555555555556,
             "#d8576b"
            ],
            [
             0.6666666666666666,
             "#ed7953"
            ],
            [
             0.7777777777777778,
             "#fb9f3a"
            ],
            [
             0.8888888888888888,
             "#fdca26"
            ],
            [
             1,
             "#f0f921"
            ]
           ],
           "sequentialminus": [
            [
             0,
             "#0d0887"
            ],
            [
             0.1111111111111111,
             "#46039f"
            ],
            [
             0.2222222222222222,
             "#7201a8"
            ],
            [
             0.3333333333333333,
             "#9c179e"
            ],
            [
             0.4444444444444444,
             "#bd3786"
            ],
            [
             0.5555555555555556,
             "#d8576b"
            ],
            [
             0.6666666666666666,
             "#ed7953"
            ],
            [
             0.7777777777777778,
             "#fb9f3a"
            ],
            [
             0.8888888888888888,
             "#fdca26"
            ],
            [
             1,
             "#f0f921"
            ]
           ]
          },
          "colorway": [
           "#636efa",
           "#EF553B",
           "#00cc96",
           "#ab63fa",
           "#FFA15A",
           "#19d3f3",
           "#FF6692",
           "#B6E880",
           "#FF97FF",
           "#FECB52"
          ],
          "font": {
           "color": "#2a3f5f"
          },
          "geo": {
           "bgcolor": "white",
           "lakecolor": "white",
           "landcolor": "#E5ECF6",
           "showlakes": true,
           "showland": true,
           "subunitcolor": "white"
          },
          "hoverlabel": {
           "align": "left"
          },
          "hovermode": "closest",
          "mapbox": {
           "style": "light"
          },
          "paper_bgcolor": "white",
          "plot_bgcolor": "#E5ECF6",
          "polar": {
           "angularaxis": {
            "gridcolor": "white",
            "linecolor": "white",
            "ticks": ""
           },
           "bgcolor": "#E5ECF6",
           "radialaxis": {
            "gridcolor": "white",
            "linecolor": "white",
            "ticks": ""
           }
          },
          "scene": {
           "xaxis": {
            "backgroundcolor": "#E5ECF6",
            "gridcolor": "white",
            "gridwidth": 2,
            "linecolor": "white",
            "showbackground": true,
            "ticks": "",
            "zerolinecolor": "white"
           },
           "yaxis": {
            "backgroundcolor": "#E5ECF6",
            "gridcolor": "white",
            "gridwidth": 2,
            "linecolor": "white",
            "showbackground": true,
            "ticks": "",
            "zerolinecolor": "white"
           },
           "zaxis": {
            "backgroundcolor": "#E5ECF6",
            "gridcolor": "white",
            "gridwidth": 2,
            "linecolor": "white",
            "showbackground": true,
            "ticks": "",
            "zerolinecolor": "white"
           }
          },
          "shapedefaults": {
           "line": {
            "color": "#2a3f5f"
           }
          },
          "ternary": {
           "aaxis": {
            "gridcolor": "white",
            "linecolor": "white",
            "ticks": ""
           },
           "baxis": {
            "gridcolor": "white",
            "linecolor": "white",
            "ticks": ""
           },
           "bgcolor": "#E5ECF6",
           "caxis": {
            "gridcolor": "white",
            "linecolor": "white",
            "ticks": ""
           }
          },
          "title": {
           "x": 0.05
          },
          "xaxis": {
           "automargin": true,
           "gridcolor": "white",
           "linecolor": "white",
           "ticks": "",
           "title": {
            "standoff": 15
           },
           "zerolinecolor": "white",
           "zerolinewidth": 2
          },
          "yaxis": {
           "automargin": true,
           "gridcolor": "white",
           "linecolor": "white",
           "ticks": "",
           "title": {
            "standoff": 15
           },
           "zerolinecolor": "white",
           "zerolinewidth": 2
          }
         }
        },
        "title": {
         "text": "Quel pays achète les véhicules les plus puissants? (KWh)",
         "x": 0.3
        },
        "xaxis": {
         "anchor": "y",
         "domain": [
          0,
          1
         ],
         "title": {
          "text": "Country"
         }
        },
        "yaxis": {
         "anchor": "x",
         "domain": [
          0,
          1
         ],
         "title": {
          "text": "EnginePower"
         }
        }
       }
      }
     },
     "metadata": {},
     "output_type": "display_data"
    },
    {
     "data": {
      "application/vnd.plotly.v1+json": {
       "config": {
        "plotlyServerURL": "https://plot.ly"
       },
       "data": [
        {
         "alignmentgroup": "True",
         "hovertemplate": "Country=%{x}<br>MassRunningOrder=%{marker.color}<extra></extra>",
         "legendgroup": "",
         "marker": {
          "color": [
           1388.7673469387755
          ],
          "coloraxis": "coloraxis",
          "pattern": {
           "shape": ""
          }
         },
         "name": "",
         "offsetgroup": "",
         "orientation": "v",
         "showlegend": false,
         "textposition": "auto",
         "type": "bar",
         "x": [
          "FR"
         ],
         "xaxis": "x",
         "y": [
          1388.7673469387755
         ],
         "yaxis": "y"
        }
       ],
       "layout": {
        "barmode": "relative",
        "coloraxis": {
         "colorbar": {
          "title": {
           "text": "MassRunningOrder"
          }
         },
         "colorscale": [
          [
           0,
           "rgb(255,245,240)"
          ],
          [
           0.125,
           "rgb(254,224,210)"
          ],
          [
           0.25,
           "rgb(252,187,161)"
          ],
          [
           0.375,
           "rgb(252,146,114)"
          ],
          [
           0.5,
           "rgb(251,106,74)"
          ],
          [
           0.625,
           "rgb(239,59,44)"
          ],
          [
           0.75,
           "rgb(203,24,29)"
          ],
          [
           0.875,
           "rgb(165,15,21)"
          ],
          [
           1,
           "rgb(103,0,13)"
          ]
         ]
        },
        "legend": {
         "tracegroupgap": 0
        },
        "margin": {
         "t": 60
        },
        "template": {
         "data": {
          "bar": [
           {
            "error_x": {
             "color": "#2a3f5f"
            },
            "error_y": {
             "color": "#2a3f5f"
            },
            "marker": {
             "line": {
              "color": "#E5ECF6",
              "width": 0.5
             },
             "pattern": {
              "fillmode": "overlay",
              "size": 10,
              "solidity": 0.2
             }
            },
            "type": "bar"
           }
          ],
          "barpolar": [
           {
            "marker": {
             "line": {
              "color": "#E5ECF6",
              "width": 0.5
             },
             "pattern": {
              "fillmode": "overlay",
              "size": 10,
              "solidity": 0.2
             }
            },
            "type": "barpolar"
           }
          ],
          "carpet": [
           {
            "aaxis": {
             "endlinecolor": "#2a3f5f",
             "gridcolor": "white",
             "linecolor": "white",
             "minorgridcolor": "white",
             "startlinecolor": "#2a3f5f"
            },
            "baxis": {
             "endlinecolor": "#2a3f5f",
             "gridcolor": "white",
             "linecolor": "white",
             "minorgridcolor": "white",
             "startlinecolor": "#2a3f5f"
            },
            "type": "carpet"
           }
          ],
          "choropleth": [
           {
            "colorbar": {
             "outlinewidth": 0,
             "ticks": ""
            },
            "type": "choropleth"
           }
          ],
          "contour": [
           {
            "colorbar": {
             "outlinewidth": 0,
             "ticks": ""
            },
            "colorscale": [
             [
              0,
              "#0d0887"
             ],
             [
              0.1111111111111111,
              "#46039f"
             ],
             [
              0.2222222222222222,
              "#7201a8"
             ],
             [
              0.3333333333333333,
              "#9c179e"
             ],
             [
              0.4444444444444444,
              "#bd3786"
             ],
             [
              0.5555555555555556,
              "#d8576b"
             ],
             [
              0.6666666666666666,
              "#ed7953"
             ],
             [
              0.7777777777777778,
              "#fb9f3a"
             ],
             [
              0.8888888888888888,
              "#fdca26"
             ],
             [
              1,
              "#f0f921"
             ]
            ],
            "type": "contour"
           }
          ],
          "contourcarpet": [
           {
            "colorbar": {
             "outlinewidth": 0,
             "ticks": ""
            },
            "type": "contourcarpet"
           }
          ],
          "heatmap": [
           {
            "colorbar": {
             "outlinewidth": 0,
             "ticks": ""
            },
            "colorscale": [
             [
              0,
              "#0d0887"
             ],
             [
              0.1111111111111111,
              "#46039f"
             ],
             [
              0.2222222222222222,
              "#7201a8"
             ],
             [
              0.3333333333333333,
              "#9c179e"
             ],
             [
              0.4444444444444444,
              "#bd3786"
             ],
             [
              0.5555555555555556,
              "#d8576b"
             ],
             [
              0.6666666666666666,
              "#ed7953"
             ],
             [
              0.7777777777777778,
              "#fb9f3a"
             ],
             [
              0.8888888888888888,
              "#fdca26"
             ],
             [
              1,
              "#f0f921"
             ]
            ],
            "type": "heatmap"
           }
          ],
          "heatmapgl": [
           {
            "colorbar": {
             "outlinewidth": 0,
             "ticks": ""
            },
            "colorscale": [
             [
              0,
              "#0d0887"
             ],
             [
              0.1111111111111111,
              "#46039f"
             ],
             [
              0.2222222222222222,
              "#7201a8"
             ],
             [
              0.3333333333333333,
              "#9c179e"
             ],
             [
              0.4444444444444444,
              "#bd3786"
             ],
             [
              0.5555555555555556,
              "#d8576b"
             ],
             [
              0.6666666666666666,
              "#ed7953"
             ],
             [
              0.7777777777777778,
              "#fb9f3a"
             ],
             [
              0.8888888888888888,
              "#fdca26"
             ],
             [
              1,
              "#f0f921"
             ]
            ],
            "type": "heatmapgl"
           }
          ],
          "histogram": [
           {
            "marker": {
             "pattern": {
              "fillmode": "overlay",
              "size": 10,
              "solidity": 0.2
             }
            },
            "type": "histogram"
           }
          ],
          "histogram2d": [
           {
            "colorbar": {
             "outlinewidth": 0,
             "ticks": ""
            },
            "colorscale": [
             [
              0,
              "#0d0887"
             ],
             [
              0.1111111111111111,
              "#46039f"
             ],
             [
              0.2222222222222222,
              "#7201a8"
             ],
             [
              0.3333333333333333,
              "#9c179e"
             ],
             [
              0.4444444444444444,
              "#bd3786"
             ],
             [
              0.5555555555555556,
              "#d8576b"
             ],
             [
              0.6666666666666666,
              "#ed7953"
             ],
             [
              0.7777777777777778,
              "#fb9f3a"
             ],
             [
              0.8888888888888888,
              "#fdca26"
             ],
             [
              1,
              "#f0f921"
             ]
            ],
            "type": "histogram2d"
           }
          ],
          "histogram2dcontour": [
           {
            "colorbar": {
             "outlinewidth": 0,
             "ticks": ""
            },
            "colorscale": [
             [
              0,
              "#0d0887"
             ],
             [
              0.1111111111111111,
              "#46039f"
             ],
             [
              0.2222222222222222,
              "#7201a8"
             ],
             [
              0.3333333333333333,
              "#9c179e"
             ],
             [
              0.4444444444444444,
              "#bd3786"
             ],
             [
              0.5555555555555556,
              "#d8576b"
             ],
             [
              0.6666666666666666,
              "#ed7953"
             ],
             [
              0.7777777777777778,
              "#fb9f3a"
             ],
             [
              0.8888888888888888,
              "#fdca26"
             ],
             [
              1,
              "#f0f921"
             ]
            ],
            "type": "histogram2dcontour"
           }
          ],
          "mesh3d": [
           {
            "colorbar": {
             "outlinewidth": 0,
             "ticks": ""
            },
            "type": "mesh3d"
           }
          ],
          "parcoords": [
           {
            "line": {
             "colorbar": {
              "outlinewidth": 0,
              "ticks": ""
             }
            },
            "type": "parcoords"
           }
          ],
          "pie": [
           {
            "automargin": true,
            "type": "pie"
           }
          ],
          "scatter": [
           {
            "fillpattern": {
             "fillmode": "overlay",
             "size": 10,
             "solidity": 0.2
            },
            "type": "scatter"
           }
          ],
          "scatter3d": [
           {
            "line": {
             "colorbar": {
              "outlinewidth": 0,
              "ticks": ""
             }
            },
            "marker": {
             "colorbar": {
              "outlinewidth": 0,
              "ticks": ""
             }
            },
            "type": "scatter3d"
           }
          ],
          "scattercarpet": [
           {
            "marker": {
             "colorbar": {
              "outlinewidth": 0,
              "ticks": ""
             }
            },
            "type": "scattercarpet"
           }
          ],
          "scattergeo": [
           {
            "marker": {
             "colorbar": {
              "outlinewidth": 0,
              "ticks": ""
             }
            },
            "type": "scattergeo"
           }
          ],
          "scattergl": [
           {
            "marker": {
             "colorbar": {
              "outlinewidth": 0,
              "ticks": ""
             }
            },
            "type": "scattergl"
           }
          ],
          "scattermapbox": [
           {
            "marker": {
             "colorbar": {
              "outlinewidth": 0,
              "ticks": ""
             }
            },
            "type": "scattermapbox"
           }
          ],
          "scatterpolar": [
           {
            "marker": {
             "colorbar": {
              "outlinewidth": 0,
              "ticks": ""
             }
            },
            "type": "scatterpolar"
           }
          ],
          "scatterpolargl": [
           {
            "marker": {
             "colorbar": {
              "outlinewidth": 0,
              "ticks": ""
             }
            },
            "type": "scatterpolargl"
           }
          ],
          "scatterternary": [
           {
            "marker": {
             "colorbar": {
              "outlinewidth": 0,
              "ticks": ""
             }
            },
            "type": "scatterternary"
           }
          ],
          "surface": [
           {
            "colorbar": {
             "outlinewidth": 0,
             "ticks": ""
            },
            "colorscale": [
             [
              0,
              "#0d0887"
             ],
             [
              0.1111111111111111,
              "#46039f"
             ],
             [
              0.2222222222222222,
              "#7201a8"
             ],
             [
              0.3333333333333333,
              "#9c179e"
             ],
             [
              0.4444444444444444,
              "#bd3786"
             ],
             [
              0.5555555555555556,
              "#d8576b"
             ],
             [
              0.6666666666666666,
              "#ed7953"
             ],
             [
              0.7777777777777778,
              "#fb9f3a"
             ],
             [
              0.8888888888888888,
              "#fdca26"
             ],
             [
              1,
              "#f0f921"
             ]
            ],
            "type": "surface"
           }
          ],
          "table": [
           {
            "cells": {
             "fill": {
              "color": "#EBF0F8"
             },
             "line": {
              "color": "white"
             }
            },
            "header": {
             "fill": {
              "color": "#C8D4E3"
             },
             "line": {
              "color": "white"
             }
            },
            "type": "table"
           }
          ]
         },
         "layout": {
          "annotationdefaults": {
           "arrowcolor": "#2a3f5f",
           "arrowhead": 0,
           "arrowwidth": 1
          },
          "autotypenumbers": "strict",
          "coloraxis": {
           "colorbar": {
            "outlinewidth": 0,
            "ticks": ""
           }
          },
          "colorscale": {
           "diverging": [
            [
             0,
             "#8e0152"
            ],
            [
             0.1,
             "#c51b7d"
            ],
            [
             0.2,
             "#de77ae"
            ],
            [
             0.3,
             "#f1b6da"
            ],
            [
             0.4,
             "#fde0ef"
            ],
            [
             0.5,
             "#f7f7f7"
            ],
            [
             0.6,
             "#e6f5d0"
            ],
            [
             0.7,
             "#b8e186"
            ],
            [
             0.8,
             "#7fbc41"
            ],
            [
             0.9,
             "#4d9221"
            ],
            [
             1,
             "#276419"
            ]
           ],
           "sequential": [
            [
             0,
             "#0d0887"
            ],
            [
             0.1111111111111111,
             "#46039f"
            ],
            [
             0.2222222222222222,
             "#7201a8"
            ],
            [
             0.3333333333333333,
             "#9c179e"
            ],
            [
             0.4444444444444444,
             "#bd3786"
            ],
            [
             0.5555555555555556,
             "#d8576b"
            ],
            [
             0.6666666666666666,
             "#ed7953"
            ],
            [
             0.7777777777777778,
             "#fb9f3a"
            ],
            [
             0.8888888888888888,
             "#fdca26"
            ],
            [
             1,
             "#f0f921"
            ]
           ],
           "sequentialminus": [
            [
             0,
             "#0d0887"
            ],
            [
             0.1111111111111111,
             "#46039f"
            ],
            [
             0.2222222222222222,
             "#7201a8"
            ],
            [
             0.3333333333333333,
             "#9c179e"
            ],
            [
             0.4444444444444444,
             "#bd3786"
            ],
            [
             0.5555555555555556,
             "#d8576b"
            ],
            [
             0.6666666666666666,
             "#ed7953"
            ],
            [
             0.7777777777777778,
             "#fb9f3a"
            ],
            [
             0.8888888888888888,
             "#fdca26"
            ],
            [
             1,
             "#f0f921"
            ]
           ]
          },
          "colorway": [
           "#636efa",
           "#EF553B",
           "#00cc96",
           "#ab63fa",
           "#FFA15A",
           "#19d3f3",
           "#FF6692",
           "#B6E880",
           "#FF97FF",
           "#FECB52"
          ],
          "font": {
           "color": "#2a3f5f"
          },
          "geo": {
           "bgcolor": "white",
           "lakecolor": "white",
           "landcolor": "#E5ECF6",
           "showlakes": true,
           "showland": true,
           "subunitcolor": "white"
          },
          "hoverlabel": {
           "align": "left"
          },
          "hovermode": "closest",
          "mapbox": {
           "style": "light"
          },
          "paper_bgcolor": "white",
          "plot_bgcolor": "#E5ECF6",
          "polar": {
           "angularaxis": {
            "gridcolor": "white",
            "linecolor": "white",
            "ticks": ""
           },
           "bgcolor": "#E5ECF6",
           "radialaxis": {
            "gridcolor": "white",
            "linecolor": "white",
            "ticks": ""
           }
          },
          "scene": {
           "xaxis": {
            "backgroundcolor": "#E5ECF6",
            "gridcolor": "white",
            "gridwidth": 2,
            "linecolor": "white",
            "showbackground": true,
            "ticks": "",
            "zerolinecolor": "white"
           },
           "yaxis": {
            "backgroundcolor": "#E5ECF6",
            "gridcolor": "white",
            "gridwidth": 2,
            "linecolor": "white",
            "showbackground": true,
            "ticks": "",
            "zerolinecolor": "white"
           },
           "zaxis": {
            "backgroundcolor": "#E5ECF6",
            "gridcolor": "white",
            "gridwidth": 2,
            "linecolor": "white",
            "showbackground": true,
            "ticks": "",
            "zerolinecolor": "white"
           }
          },
          "shapedefaults": {
           "line": {
            "color": "#2a3f5f"
           }
          },
          "ternary": {
           "aaxis": {
            "gridcolor": "white",
            "linecolor": "white",
            "ticks": ""
           },
           "baxis": {
            "gridcolor": "white",
            "linecolor": "white",
            "ticks": ""
           },
           "bgcolor": "#E5ECF6",
           "caxis": {
            "gridcolor": "white",
            "linecolor": "white",
            "ticks": ""
           }
          },
          "title": {
           "x": 0.05
          },
          "xaxis": {
           "automargin": true,
           "gridcolor": "white",
           "linecolor": "white",
           "ticks": "",
           "title": {
            "standoff": 15
           },
           "zerolinecolor": "white",
           "zerolinewidth": 2
          },
          "yaxis": {
           "automargin": true,
           "gridcolor": "white",
           "linecolor": "white",
           "ticks": "",
           "title": {
            "standoff": 15
           },
           "zerolinecolor": "white",
           "zerolinewidth": 2
          }
         }
        },
        "title": {
         "text": "Quel pays achète les véhicules les plus lourds? (Kg)",
         "x": 0.3
        },
        "xaxis": {
         "anchor": "y",
         "domain": [
          0,
          1
         ],
         "title": {
          "text": "Country"
         }
        },
        "yaxis": {
         "anchor": "x",
         "domain": [
          0,
          1
         ],
         "title": {
          "text": "MassRunningOrder"
         }
        }
       }
      }
     },
     "metadata": {},
     "output_type": "display_data"
    }
   ],
   "source": [
    "\n",
    "co2.viz.countrywise_viz(countries)"
   ]
  },
  {
   "cell_type": "code",
   "execution_count": 20,
   "metadata": {},
   "outputs": [
    {
     "data": {
      "application/vnd.plotly.v1+json": {
       "config": {
        "plotlyServerURL": "https://plot.ly"
       },
       "data": [
        {
         "alignmentgroup": "True",
         "hovertemplate": "Month=%{x}<br>counts=%{marker.color}<extra></extra>",
         "legendgroup": "",
         "marker": {
          "color": [
           69,
           90,
           87,
           70,
           83,
           112,
           62,
           62,
           86,
           82,
           76,
           101
          ],
          "coloraxis": "coloraxis",
          "pattern": {
           "shape": ""
          }
         },
         "name": "",
         "offsetgroup": "",
         "orientation": "v",
         "showlegend": false,
         "textposition": "auto",
         "type": "bar",
         "x": [
          1,
          2,
          3,
          4,
          5,
          6,
          7,
          8,
          9,
          10,
          11,
          12
         ],
         "xaxis": "x",
         "y": [
          69,
          90,
          87,
          70,
          83,
          112,
          62,
          62,
          86,
          82,
          76,
          101
         ],
         "yaxis": "y"
        }
       ],
       "layout": {
        "barmode": "relative",
        "coloraxis": {
         "colorbar": {
          "title": {
           "text": "counts"
          }
         },
         "colorscale": [
          [
           0,
           "rgb(252,251,253)"
          ],
          [
           0.125,
           "rgb(239,237,245)"
          ],
          [
           0.25,
           "rgb(218,218,235)"
          ],
          [
           0.375,
           "rgb(188,189,220)"
          ],
          [
           0.5,
           "rgb(158,154,200)"
          ],
          [
           0.625,
           "rgb(128,125,186)"
          ],
          [
           0.75,
           "rgb(106,81,163)"
          ],
          [
           0.875,
           "rgb(84,39,143)"
          ],
          [
           1,
           "rgb(63,0,125)"
          ]
         ]
        },
        "legend": {
         "tracegroupgap": 0
        },
        "margin": {
         "t": 60
        },
        "showlegend": false,
        "template": {
         "data": {
          "bar": [
           {
            "error_x": {
             "color": "#2a3f5f"
            },
            "error_y": {
             "color": "#2a3f5f"
            },
            "marker": {
             "line": {
              "color": "#E5ECF6",
              "width": 0.5
             },
             "pattern": {
              "fillmode": "overlay",
              "size": 10,
              "solidity": 0.2
             }
            },
            "type": "bar"
           }
          ],
          "barpolar": [
           {
            "marker": {
             "line": {
              "color": "#E5ECF6",
              "width": 0.5
             },
             "pattern": {
              "fillmode": "overlay",
              "size": 10,
              "solidity": 0.2
             }
            },
            "type": "barpolar"
           }
          ],
          "carpet": [
           {
            "aaxis": {
             "endlinecolor": "#2a3f5f",
             "gridcolor": "white",
             "linecolor": "white",
             "minorgridcolor": "white",
             "startlinecolor": "#2a3f5f"
            },
            "baxis": {
             "endlinecolor": "#2a3f5f",
             "gridcolor": "white",
             "linecolor": "white",
             "minorgridcolor": "white",
             "startlinecolor": "#2a3f5f"
            },
            "type": "carpet"
           }
          ],
          "choropleth": [
           {
            "colorbar": {
             "outlinewidth": 0,
             "ticks": ""
            },
            "type": "choropleth"
           }
          ],
          "contour": [
           {
            "colorbar": {
             "outlinewidth": 0,
             "ticks": ""
            },
            "colorscale": [
             [
              0,
              "#0d0887"
             ],
             [
              0.1111111111111111,
              "#46039f"
             ],
             [
              0.2222222222222222,
              "#7201a8"
             ],
             [
              0.3333333333333333,
              "#9c179e"
             ],
             [
              0.4444444444444444,
              "#bd3786"
             ],
             [
              0.5555555555555556,
              "#d8576b"
             ],
             [
              0.6666666666666666,
              "#ed7953"
             ],
             [
              0.7777777777777778,
              "#fb9f3a"
             ],
             [
              0.8888888888888888,
              "#fdca26"
             ],
             [
              1,
              "#f0f921"
             ]
            ],
            "type": "contour"
           }
          ],
          "contourcarpet": [
           {
            "colorbar": {
             "outlinewidth": 0,
             "ticks": ""
            },
            "type": "contourcarpet"
           }
          ],
          "heatmap": [
           {
            "colorbar": {
             "outlinewidth": 0,
             "ticks": ""
            },
            "colorscale": [
             [
              0,
              "#0d0887"
             ],
             [
              0.1111111111111111,
              "#46039f"
             ],
             [
              0.2222222222222222,
              "#7201a8"
             ],
             [
              0.3333333333333333,
              "#9c179e"
             ],
             [
              0.4444444444444444,
              "#bd3786"
             ],
             [
              0.5555555555555556,
              "#d8576b"
             ],
             [
              0.6666666666666666,
              "#ed7953"
             ],
             [
              0.7777777777777778,
              "#fb9f3a"
             ],
             [
              0.8888888888888888,
              "#fdca26"
             ],
             [
              1,
              "#f0f921"
             ]
            ],
            "type": "heatmap"
           }
          ],
          "heatmapgl": [
           {
            "colorbar": {
             "outlinewidth": 0,
             "ticks": ""
            },
            "colorscale": [
             [
              0,
              "#0d0887"
             ],
             [
              0.1111111111111111,
              "#46039f"
             ],
             [
              0.2222222222222222,
              "#7201a8"
             ],
             [
              0.3333333333333333,
              "#9c179e"
             ],
             [
              0.4444444444444444,
              "#bd3786"
             ],
             [
              0.5555555555555556,
              "#d8576b"
             ],
             [
              0.6666666666666666,
              "#ed7953"
             ],
             [
              0.7777777777777778,
              "#fb9f3a"
             ],
             [
              0.8888888888888888,
              "#fdca26"
             ],
             [
              1,
              "#f0f921"
             ]
            ],
            "type": "heatmapgl"
           }
          ],
          "histogram": [
           {
            "marker": {
             "pattern": {
              "fillmode": "overlay",
              "size": 10,
              "solidity": 0.2
             }
            },
            "type": "histogram"
           }
          ],
          "histogram2d": [
           {
            "colorbar": {
             "outlinewidth": 0,
             "ticks": ""
            },
            "colorscale": [
             [
              0,
              "#0d0887"
             ],
             [
              0.1111111111111111,
              "#46039f"
             ],
             [
              0.2222222222222222,
              "#7201a8"
             ],
             [
              0.3333333333333333,
              "#9c179e"
             ],
             [
              0.4444444444444444,
              "#bd3786"
             ],
             [
              0.5555555555555556,
              "#d8576b"
             ],
             [
              0.6666666666666666,
              "#ed7953"
             ],
             [
              0.7777777777777778,
              "#fb9f3a"
             ],
             [
              0.8888888888888888,
              "#fdca26"
             ],
             [
              1,
              "#f0f921"
             ]
            ],
            "type": "histogram2d"
           }
          ],
          "histogram2dcontour": [
           {
            "colorbar": {
             "outlinewidth": 0,
             "ticks": ""
            },
            "colorscale": [
             [
              0,
              "#0d0887"
             ],
             [
              0.1111111111111111,
              "#46039f"
             ],
             [
              0.2222222222222222,
              "#7201a8"
             ],
             [
              0.3333333333333333,
              "#9c179e"
             ],
             [
              0.4444444444444444,
              "#bd3786"
             ],
             [
              0.5555555555555556,
              "#d8576b"
             ],
             [
              0.6666666666666666,
              "#ed7953"
             ],
             [
              0.7777777777777778,
              "#fb9f3a"
             ],
             [
              0.8888888888888888,
              "#fdca26"
             ],
             [
              1,
              "#f0f921"
             ]
            ],
            "type": "histogram2dcontour"
           }
          ],
          "mesh3d": [
           {
            "colorbar": {
             "outlinewidth": 0,
             "ticks": ""
            },
            "type": "mesh3d"
           }
          ],
          "parcoords": [
           {
            "line": {
             "colorbar": {
              "outlinewidth": 0,
              "ticks": ""
             }
            },
            "type": "parcoords"
           }
          ],
          "pie": [
           {
            "automargin": true,
            "type": "pie"
           }
          ],
          "scatter": [
           {
            "fillpattern": {
             "fillmode": "overlay",
             "size": 10,
             "solidity": 0.2
            },
            "type": "scatter"
           }
          ],
          "scatter3d": [
           {
            "line": {
             "colorbar": {
              "outlinewidth": 0,
              "ticks": ""
             }
            },
            "marker": {
             "colorbar": {
              "outlinewidth": 0,
              "ticks": ""
             }
            },
            "type": "scatter3d"
           }
          ],
          "scattercarpet": [
           {
            "marker": {
             "colorbar": {
              "outlinewidth": 0,
              "ticks": ""
             }
            },
            "type": "scattercarpet"
           }
          ],
          "scattergeo": [
           {
            "marker": {
             "colorbar": {
              "outlinewidth": 0,
              "ticks": ""
             }
            },
            "type": "scattergeo"
           }
          ],
          "scattergl": [
           {
            "marker": {
             "colorbar": {
              "outlinewidth": 0,
              "ticks": ""
             }
            },
            "type": "scattergl"
           }
          ],
          "scattermapbox": [
           {
            "marker": {
             "colorbar": {
              "outlinewidth": 0,
              "ticks": ""
             }
            },
            "type": "scattermapbox"
           }
          ],
          "scatterpolar": [
           {
            "marker": {
             "colorbar": {
              "outlinewidth": 0,
              "ticks": ""
             }
            },
            "type": "scatterpolar"
           }
          ],
          "scatterpolargl": [
           {
            "marker": {
             "colorbar": {
              "outlinewidth": 0,
              "ticks": ""
             }
            },
            "type": "scatterpolargl"
           }
          ],
          "scatterternary": [
           {
            "marker": {
             "colorbar": {
              "outlinewidth": 0,
              "ticks": ""
             }
            },
            "type": "scatterternary"
           }
          ],
          "surface": [
           {
            "colorbar": {
             "outlinewidth": 0,
             "ticks": ""
            },
            "colorscale": [
             [
              0,
              "#0d0887"
             ],
             [
              0.1111111111111111,
              "#46039f"
             ],
             [
              0.2222222222222222,
              "#7201a8"
             ],
             [
              0.3333333333333333,
              "#9c179e"
             ],
             [
              0.4444444444444444,
              "#bd3786"
             ],
             [
              0.5555555555555556,
              "#d8576b"
             ],
             [
              0.6666666666666666,
              "#ed7953"
             ],
             [
              0.7777777777777778,
              "#fb9f3a"
             ],
             [
              0.8888888888888888,
              "#fdca26"
             ],
             [
              1,
              "#f0f921"
             ]
            ],
            "type": "surface"
           }
          ],
          "table": [
           {
            "cells": {
             "fill": {
              "color": "#EBF0F8"
             },
             "line": {
              "color": "white"
             }
            },
            "header": {
             "fill": {
              "color": "#C8D4E3"
             },
             "line": {
              "color": "white"
             }
            },
            "type": "table"
           }
          ]
         },
         "layout": {
          "annotationdefaults": {
           "arrowcolor": "#2a3f5f",
           "arrowhead": 0,
           "arrowwidth": 1
          },
          "autotypenumbers": "strict",
          "coloraxis": {
           "colorbar": {
            "outlinewidth": 0,
            "ticks": ""
           }
          },
          "colorscale": {
           "diverging": [
            [
             0,
             "#8e0152"
            ],
            [
             0.1,
             "#c51b7d"
            ],
            [
             0.2,
             "#de77ae"
            ],
            [
             0.3,
             "#f1b6da"
            ],
            [
             0.4,
             "#fde0ef"
            ],
            [
             0.5,
             "#f7f7f7"
            ],
            [
             0.6,
             "#e6f5d0"
            ],
            [
             0.7,
             "#b8e186"
            ],
            [
             0.8,
             "#7fbc41"
            ],
            [
             0.9,
             "#4d9221"
            ],
            [
             1,
             "#276419"
            ]
           ],
           "sequential": [
            [
             0,
             "#0d0887"
            ],
            [
             0.1111111111111111,
             "#46039f"
            ],
            [
             0.2222222222222222,
             "#7201a8"
            ],
            [
             0.3333333333333333,
             "#9c179e"
            ],
            [
             0.4444444444444444,
             "#bd3786"
            ],
            [
             0.5555555555555556,
             "#d8576b"
            ],
            [
             0.6666666666666666,
             "#ed7953"
            ],
            [
             0.7777777777777778,
             "#fb9f3a"
            ],
            [
             0.8888888888888888,
             "#fdca26"
            ],
            [
             1,
             "#f0f921"
            ]
           ],
           "sequentialminus": [
            [
             0,
             "#0d0887"
            ],
            [
             0.1111111111111111,
             "#46039f"
            ],
            [
             0.2222222222222222,
             "#7201a8"
            ],
            [
             0.3333333333333333,
             "#9c179e"
            ],
            [
             0.4444444444444444,
             "#bd3786"
            ],
            [
             0.5555555555555556,
             "#d8576b"
            ],
            [
             0.6666666666666666,
             "#ed7953"
            ],
            [
             0.7777777777777778,
             "#fb9f3a"
            ],
            [
             0.8888888888888888,
             "#fdca26"
            ],
            [
             1,
             "#f0f921"
            ]
           ]
          },
          "colorway": [
           "#636efa",
           "#EF553B",
           "#00cc96",
           "#ab63fa",
           "#FFA15A",
           "#19d3f3",
           "#FF6692",
           "#B6E880",
           "#FF97FF",
           "#FECB52"
          ],
          "font": {
           "color": "#2a3f5f"
          },
          "geo": {
           "bgcolor": "white",
           "lakecolor": "white",
           "landcolor": "#E5ECF6",
           "showlakes": true,
           "showland": true,
           "subunitcolor": "white"
          },
          "hoverlabel": {
           "align": "left"
          },
          "hovermode": "closest",
          "mapbox": {
           "style": "light"
          },
          "paper_bgcolor": "white",
          "plot_bgcolor": "#E5ECF6",
          "polar": {
           "angularaxis": {
            "gridcolor": "white",
            "linecolor": "white",
            "ticks": ""
           },
           "bgcolor": "#E5ECF6",
           "radialaxis": {
            "gridcolor": "white",
            "linecolor": "white",
            "ticks": ""
           }
          },
          "scene": {
           "xaxis": {
            "backgroundcolor": "#E5ECF6",
            "gridcolor": "white",
            "gridwidth": 2,
            "linecolor": "white",
            "showbackground": true,
            "ticks": "",
            "zerolinecolor": "white"
           },
           "yaxis": {
            "backgroundcolor": "#E5ECF6",
            "gridcolor": "white",
            "gridwidth": 2,
            "linecolor": "white",
            "showbackground": true,
            "ticks": "",
            "zerolinecolor": "white"
           },
           "zaxis": {
            "backgroundcolor": "#E5ECF6",
            "gridcolor": "white",
            "gridwidth": 2,
            "linecolor": "white",
            "showbackground": true,
            "ticks": "",
            "zerolinecolor": "white"
           }
          },
          "shapedefaults": {
           "line": {
            "color": "#2a3f5f"
           }
          },
          "ternary": {
           "aaxis": {
            "gridcolor": "white",
            "linecolor": "white",
            "ticks": ""
           },
           "baxis": {
            "gridcolor": "white",
            "linecolor": "white",
            "ticks": ""
           },
           "bgcolor": "#E5ECF6",
           "caxis": {
            "gridcolor": "white",
            "linecolor": "white",
            "ticks": ""
           }
          },
          "title": {
           "x": 0.05
          },
          "xaxis": {
           "automargin": true,
           "gridcolor": "white",
           "linecolor": "white",
           "ticks": "",
           "title": {
            "standoff": 15
           },
           "zerolinecolor": "white",
           "zerolinewidth": 2
          },
          "yaxis": {
           "automargin": true,
           "gridcolor": "white",
           "linecolor": "white",
           "ticks": "",
           "title": {
            "standoff": 15
           },
           "zerolinecolor": "white",
           "zerolinewidth": 2
          }
         }
        },
        "title": {
         "text": "Nombre d'immatriculations par mois",
         "x": 0.5,
         "xanchor": "center",
         "y": 0.9,
         "yanchor": "top"
        },
        "xaxis": {
         "anchor": "y",
         "domain": [
          0,
          1
         ],
         "ticktext": [
          "Janvier",
          "Février",
          "Mars",
          "Avril",
          "Mai",
          "Juin",
          "Juil.",
          "Août",
          "Sept.",
          "Oct.",
          "Nov.",
          "Déc."
         ],
         "tickvals": [
          1,
          2,
          3,
          4,
          5,
          6,
          7,
          8,
          9,
          10,
          11,
          12
         ],
         "title": {
          "text": "Mois"
         }
        },
        "yaxis": {
         "anchor": "x",
         "domain": [
          0,
          1
         ],
         "title": {
          "text": "Nombre d'immatriculations"
         }
        }
       }
      }
     },
     "metadata": {},
     "output_type": "display_data"
    }
   ],
   "source": [
    "co2.viz.plot_registrations_per_month(df, filename=\"my_plot\", format='json')\n"
   ]
  },
  {
   "cell_type": "code",
   "execution_count": 21,
   "metadata": {},
   "outputs": [
    {
     "data": {
      "application/vnd.plotly.v1+json": {
       "config": {
        "plotlyServerURL": "https://plot.ly"
       },
       "data": [
        {
         "alignmentgroup": "True",
         "hovertemplate": "Month=%{x}<br>counts=%{marker.color}<extra></extra>",
         "legendgroup": "",
         "marker": {
          "color": [
           69,
           90,
           87,
           70,
           83,
           112,
           62,
           62,
           86,
           82,
           76,
           101
          ],
          "coloraxis": "coloraxis",
          "pattern": {
           "shape": ""
          }
         },
         "name": "",
         "offsetgroup": "",
         "orientation": "v",
         "showlegend": false,
         "textposition": "auto",
         "type": "bar",
         "x": [
          1,
          2,
          3,
          4,
          5,
          6,
          7,
          8,
          9,
          10,
          11,
          12
         ],
         "xaxis": "x",
         "y": [
          69,
          90,
          87,
          70,
          83,
          112,
          62,
          62,
          86,
          82,
          76,
          101
         ],
         "yaxis": "y"
        }
       ],
       "layout": {
        "barmode": "relative",
        "coloraxis": {
         "colorbar": {
          "title": {
           "text": "counts"
          }
         },
         "colorscale": [
          [
           0,
           "rgb(252,251,253)"
          ],
          [
           0.125,
           "rgb(239,237,245)"
          ],
          [
           0.25,
           "rgb(218,218,235)"
          ],
          [
           0.375,
           "rgb(188,189,220)"
          ],
          [
           0.5,
           "rgb(158,154,200)"
          ],
          [
           0.625,
           "rgb(128,125,186)"
          ],
          [
           0.75,
           "rgb(106,81,163)"
          ],
          [
           0.875,
           "rgb(84,39,143)"
          ],
          [
           1,
           "rgb(63,0,125)"
          ]
         ]
        },
        "legend": {
         "tracegroupgap": 0
        },
        "margin": {
         "t": 60
        },
        "showlegend": false,
        "template": {
         "data": {
          "bar": [
           {
            "error_x": {
             "color": "#2a3f5f"
            },
            "error_y": {
             "color": "#2a3f5f"
            },
            "marker": {
             "line": {
              "color": "#E5ECF6",
              "width": 0.5
             },
             "pattern": {
              "fillmode": "overlay",
              "size": 10,
              "solidity": 0.2
             }
            },
            "type": "bar"
           }
          ],
          "barpolar": [
           {
            "marker": {
             "line": {
              "color": "#E5ECF6",
              "width": 0.5
             },
             "pattern": {
              "fillmode": "overlay",
              "size": 10,
              "solidity": 0.2
             }
            },
            "type": "barpolar"
           }
          ],
          "carpet": [
           {
            "aaxis": {
             "endlinecolor": "#2a3f5f",
             "gridcolor": "white",
             "linecolor": "white",
             "minorgridcolor": "white",
             "startlinecolor": "#2a3f5f"
            },
            "baxis": {
             "endlinecolor": "#2a3f5f",
             "gridcolor": "white",
             "linecolor": "white",
             "minorgridcolor": "white",
             "startlinecolor": "#2a3f5f"
            },
            "type": "carpet"
           }
          ],
          "choropleth": [
           {
            "colorbar": {
             "outlinewidth": 0,
             "ticks": ""
            },
            "type": "choropleth"
           }
          ],
          "contour": [
           {
            "colorbar": {
             "outlinewidth": 0,
             "ticks": ""
            },
            "colorscale": [
             [
              0,
              "#0d0887"
             ],
             [
              0.1111111111111111,
              "#46039f"
             ],
             [
              0.2222222222222222,
              "#7201a8"
             ],
             [
              0.3333333333333333,
              "#9c179e"
             ],
             [
              0.4444444444444444,
              "#bd3786"
             ],
             [
              0.5555555555555556,
              "#d8576b"
             ],
             [
              0.6666666666666666,
              "#ed7953"
             ],
             [
              0.7777777777777778,
              "#fb9f3a"
             ],
             [
              0.8888888888888888,
              "#fdca26"
             ],
             [
              1,
              "#f0f921"
             ]
            ],
            "type": "contour"
           }
          ],
          "contourcarpet": [
           {
            "colorbar": {
             "outlinewidth": 0,
             "ticks": ""
            },
            "type": "contourcarpet"
           }
          ],
          "heatmap": [
           {
            "colorbar": {
             "outlinewidth": 0,
             "ticks": ""
            },
            "colorscale": [
             [
              0,
              "#0d0887"
             ],
             [
              0.1111111111111111,
              "#46039f"
             ],
             [
              0.2222222222222222,
              "#7201a8"
             ],
             [
              0.3333333333333333,
              "#9c179e"
             ],
             [
              0.4444444444444444,
              "#bd3786"
             ],
             [
              0.5555555555555556,
              "#d8576b"
             ],
             [
              0.6666666666666666,
              "#ed7953"
             ],
             [
              0.7777777777777778,
              "#fb9f3a"
             ],
             [
              0.8888888888888888,
              "#fdca26"
             ],
             [
              1,
              "#f0f921"
             ]
            ],
            "type": "heatmap"
           }
          ],
          "heatmapgl": [
           {
            "colorbar": {
             "outlinewidth": 0,
             "ticks": ""
            },
            "colorscale": [
             [
              0,
              "#0d0887"
             ],
             [
              0.1111111111111111,
              "#46039f"
             ],
             [
              0.2222222222222222,
              "#7201a8"
             ],
             [
              0.3333333333333333,
              "#9c179e"
             ],
             [
              0.4444444444444444,
              "#bd3786"
             ],
             [
              0.5555555555555556,
              "#d8576b"
             ],
             [
              0.6666666666666666,
              "#ed7953"
             ],
             [
              0.7777777777777778,
              "#fb9f3a"
             ],
             [
              0.8888888888888888,
              "#fdca26"
             ],
             [
              1,
              "#f0f921"
             ]
            ],
            "type": "heatmapgl"
           }
          ],
          "histogram": [
           {
            "marker": {
             "pattern": {
              "fillmode": "overlay",
              "size": 10,
              "solidity": 0.2
             }
            },
            "type": "histogram"
           }
          ],
          "histogram2d": [
           {
            "colorbar": {
             "outlinewidth": 0,
             "ticks": ""
            },
            "colorscale": [
             [
              0,
              "#0d0887"
             ],
             [
              0.1111111111111111,
              "#46039f"
             ],
             [
              0.2222222222222222,
              "#7201a8"
             ],
             [
              0.3333333333333333,
              "#9c179e"
             ],
             [
              0.4444444444444444,
              "#bd3786"
             ],
             [
              0.5555555555555556,
              "#d8576b"
             ],
             [
              0.6666666666666666,
              "#ed7953"
             ],
             [
              0.7777777777777778,
              "#fb9f3a"
             ],
             [
              0.8888888888888888,
              "#fdca26"
             ],
             [
              1,
              "#f0f921"
             ]
            ],
            "type": "histogram2d"
           }
          ],
          "histogram2dcontour": [
           {
            "colorbar": {
             "outlinewidth": 0,
             "ticks": ""
            },
            "colorscale": [
             [
              0,
              "#0d0887"
             ],
             [
              0.1111111111111111,
              "#46039f"
             ],
             [
              0.2222222222222222,
              "#7201a8"
             ],
             [
              0.3333333333333333,
              "#9c179e"
             ],
             [
              0.4444444444444444,
              "#bd3786"
             ],
             [
              0.5555555555555556,
              "#d8576b"
             ],
             [
              0.6666666666666666,
              "#ed7953"
             ],
             [
              0.7777777777777778,
              "#fb9f3a"
             ],
             [
              0.8888888888888888,
              "#fdca26"
             ],
             [
              1,
              "#f0f921"
             ]
            ],
            "type": "histogram2dcontour"
           }
          ],
          "mesh3d": [
           {
            "colorbar": {
             "outlinewidth": 0,
             "ticks": ""
            },
            "type": "mesh3d"
           }
          ],
          "parcoords": [
           {
            "line": {
             "colorbar": {
              "outlinewidth": 0,
              "ticks": ""
             }
            },
            "type": "parcoords"
           }
          ],
          "pie": [
           {
            "automargin": true,
            "type": "pie"
           }
          ],
          "scatter": [
           {
            "fillpattern": {
             "fillmode": "overlay",
             "size": 10,
             "solidity": 0.2
            },
            "type": "scatter"
           }
          ],
          "scatter3d": [
           {
            "line": {
             "colorbar": {
              "outlinewidth": 0,
              "ticks": ""
             }
            },
            "marker": {
             "colorbar": {
              "outlinewidth": 0,
              "ticks": ""
             }
            },
            "type": "scatter3d"
           }
          ],
          "scattercarpet": [
           {
            "marker": {
             "colorbar": {
              "outlinewidth": 0,
              "ticks": ""
             }
            },
            "type": "scattercarpet"
           }
          ],
          "scattergeo": [
           {
            "marker": {
             "colorbar": {
              "outlinewidth": 0,
              "ticks": ""
             }
            },
            "type": "scattergeo"
           }
          ],
          "scattergl": [
           {
            "marker": {
             "colorbar": {
              "outlinewidth": 0,
              "ticks": ""
             }
            },
            "type": "scattergl"
           }
          ],
          "scattermapbox": [
           {
            "marker": {
             "colorbar": {
              "outlinewidth": 0,
              "ticks": ""
             }
            },
            "type": "scattermapbox"
           }
          ],
          "scatterpolar": [
           {
            "marker": {
             "colorbar": {
              "outlinewidth": 0,
              "ticks": ""
             }
            },
            "type": "scatterpolar"
           }
          ],
          "scatterpolargl": [
           {
            "marker": {
             "colorbar": {
              "outlinewidth": 0,
              "ticks": ""
             }
            },
            "type": "scatterpolargl"
           }
          ],
          "scatterternary": [
           {
            "marker": {
             "colorbar": {
              "outlinewidth": 0,
              "ticks": ""
             }
            },
            "type": "scatterternary"
           }
          ],
          "surface": [
           {
            "colorbar": {
             "outlinewidth": 0,
             "ticks": ""
            },
            "colorscale": [
             [
              0,
              "#0d0887"
             ],
             [
              0.1111111111111111,
              "#46039f"
             ],
             [
              0.2222222222222222,
              "#7201a8"
             ],
             [
              0.3333333333333333,
              "#9c179e"
             ],
             [
              0.4444444444444444,
              "#bd3786"
             ],
             [
              0.5555555555555556,
              "#d8576b"
             ],
             [
              0.6666666666666666,
              "#ed7953"
             ],
             [
              0.7777777777777778,
              "#fb9f3a"
             ],
             [
              0.8888888888888888,
              "#fdca26"
             ],
             [
              1,
              "#f0f921"
             ]
            ],
            "type": "surface"
           }
          ],
          "table": [
           {
            "cells": {
             "fill": {
              "color": "#EBF0F8"
             },
             "line": {
              "color": "white"
             }
            },
            "header": {
             "fill": {
              "color": "#C8D4E3"
             },
             "line": {
              "color": "white"
             }
            },
            "type": "table"
           }
          ]
         },
         "layout": {
          "annotationdefaults": {
           "arrowcolor": "#2a3f5f",
           "arrowhead": 0,
           "arrowwidth": 1
          },
          "autotypenumbers": "strict",
          "coloraxis": {
           "colorbar": {
            "outlinewidth": 0,
            "ticks": ""
           }
          },
          "colorscale": {
           "diverging": [
            [
             0,
             "#8e0152"
            ],
            [
             0.1,
             "#c51b7d"
            ],
            [
             0.2,
             "#de77ae"
            ],
            [
             0.3,
             "#f1b6da"
            ],
            [
             0.4,
             "#fde0ef"
            ],
            [
             0.5,
             "#f7f7f7"
            ],
            [
             0.6,
             "#e6f5d0"
            ],
            [
             0.7,
             "#b8e186"
            ],
            [
             0.8,
             "#7fbc41"
            ],
            [
             0.9,
             "#4d9221"
            ],
            [
             1,
             "#276419"
            ]
           ],
           "sequential": [
            [
             0,
             "#0d0887"
            ],
            [
             0.1111111111111111,
             "#46039f"
            ],
            [
             0.2222222222222222,
             "#7201a8"
            ],
            [
             0.3333333333333333,
             "#9c179e"
            ],
            [
             0.4444444444444444,
             "#bd3786"
            ],
            [
             0.5555555555555556,
             "#d8576b"
            ],
            [
             0.6666666666666666,
             "#ed7953"
            ],
            [
             0.7777777777777778,
             "#fb9f3a"
            ],
            [
             0.8888888888888888,
             "#fdca26"
            ],
            [
             1,
             "#f0f921"
            ]
           ],
           "sequentialminus": [
            [
             0,
             "#0d0887"
            ],
            [
             0.1111111111111111,
             "#46039f"
            ],
            [
             0.2222222222222222,
             "#7201a8"
            ],
            [
             0.3333333333333333,
             "#9c179e"
            ],
            [
             0.4444444444444444,
             "#bd3786"
            ],
            [
             0.5555555555555556,
             "#d8576b"
            ],
            [
             0.6666666666666666,
             "#ed7953"
            ],
            [
             0.7777777777777778,
             "#fb9f3a"
            ],
            [
             0.8888888888888888,
             "#fdca26"
            ],
            [
             1,
             "#f0f921"
            ]
           ]
          },
          "colorway": [
           "#636efa",
           "#EF553B",
           "#00cc96",
           "#ab63fa",
           "#FFA15A",
           "#19d3f3",
           "#FF6692",
           "#B6E880",
           "#FF97FF",
           "#FECB52"
          ],
          "font": {
           "color": "#2a3f5f"
          },
          "geo": {
           "bgcolor": "white",
           "lakecolor": "white",
           "landcolor": "#E5ECF6",
           "showlakes": true,
           "showland": true,
           "subunitcolor": "white"
          },
          "hoverlabel": {
           "align": "left"
          },
          "hovermode": "closest",
          "mapbox": {
           "style": "light"
          },
          "paper_bgcolor": "white",
          "plot_bgcolor": "#E5ECF6",
          "polar": {
           "angularaxis": {
            "gridcolor": "white",
            "linecolor": "white",
            "ticks": ""
           },
           "bgcolor": "#E5ECF6",
           "radialaxis": {
            "gridcolor": "white",
            "linecolor": "white",
            "ticks": ""
           }
          },
          "scene": {
           "xaxis": {
            "backgroundcolor": "#E5ECF6",
            "gridcolor": "white",
            "gridwidth": 2,
            "linecolor": "white",
            "showbackground": true,
            "ticks": "",
            "zerolinecolor": "white"
           },
           "yaxis": {
            "backgroundcolor": "#E5ECF6",
            "gridcolor": "white",
            "gridwidth": 2,
            "linecolor": "white",
            "showbackground": true,
            "ticks": "",
            "zerolinecolor": "white"
           },
           "zaxis": {
            "backgroundcolor": "#E5ECF6",
            "gridcolor": "white",
            "gridwidth": 2,
            "linecolor": "white",
            "showbackground": true,
            "ticks": "",
            "zerolinecolor": "white"
           }
          },
          "shapedefaults": {
           "line": {
            "color": "#2a3f5f"
           }
          },
          "ternary": {
           "aaxis": {
            "gridcolor": "white",
            "linecolor": "white",
            "ticks": ""
           },
           "baxis": {
            "gridcolor": "white",
            "linecolor": "white",
            "ticks": ""
           },
           "bgcolor": "#E5ECF6",
           "caxis": {
            "gridcolor": "white",
            "linecolor": "white",
            "ticks": ""
           }
          },
          "title": {
           "x": 0.05
          },
          "xaxis": {
           "automargin": true,
           "gridcolor": "white",
           "linecolor": "white",
           "ticks": "",
           "title": {
            "standoff": 15
           },
           "zerolinecolor": "white",
           "zerolinewidth": 2
          },
          "yaxis": {
           "automargin": true,
           "gridcolor": "white",
           "linecolor": "white",
           "ticks": "",
           "title": {
            "standoff": 15
           },
           "zerolinecolor": "white",
           "zerolinewidth": 2
          }
         }
        },
        "title": {
         "text": "Nombre d'immatriculations par mois",
         "x": 0.5,
         "xanchor": "center",
         "y": 0.9,
         "yanchor": "top"
        },
        "xaxis": {
         "anchor": "y",
         "domain": [
          0,
          1
         ],
         "ticktext": [
          "Janvier",
          "Février",
          "Mars",
          "Avril",
          "Mai",
          "Juin",
          "Juil.",
          "Août",
          "Sept.",
          "Oct.",
          "Nov.",
          "Déc."
         ],
         "tickvals": [
          1,
          2,
          3,
          4,
          5,
          6,
          7,
          8,
          9,
          10,
          11,
          12
         ],
         "title": {
          "text": "Mois"
         }
        },
        "yaxis": {
         "anchor": "x",
         "domain": [
          0,
          1
         ],
         "title": {
          "text": "Nombre d'immatriculations"
         }
        }
       }
      }
     },
     "metadata": {},
     "output_type": "display_data"
    }
   ],
   "source": [
    "co2.viz.load_plotly_json('my_plot.json')   "
   ]
  },
  {
   "cell_type": "code",
   "execution_count": 22,
   "metadata": {},
   "outputs": [
    {
     "data": {
      "application/vnd.plotly.v1+json": {
       "config": {
        "plotlyServerURL": "https://plot.ly"
       },
       "data": [
        {
         "alignmentgroup": "True",
         "hovertemplate": "Month=%{x}<br>counts=%{marker.color}<extra></extra>",
         "legendgroup": "",
         "marker": {
          "color": [
           69,
           90,
           87,
           70,
           83,
           112,
           62,
           62,
           86,
           82,
           76,
           101
          ],
          "coloraxis": "coloraxis",
          "pattern": {
           "shape": ""
          }
         },
         "name": "",
         "offsetgroup": "",
         "orientation": "v",
         "showlegend": false,
         "textposition": "auto",
         "type": "bar",
         "x": [
          1,
          2,
          3,
          4,
          5,
          6,
          7,
          8,
          9,
          10,
          11,
          12
         ],
         "xaxis": "x",
         "y": [
          69,
          90,
          87,
          70,
          83,
          112,
          62,
          62,
          86,
          82,
          76,
          101
         ],
         "yaxis": "y"
        }
       ],
       "layout": {
        "barmode": "relative",
        "coloraxis": {
         "colorbar": {
          "title": {
           "text": "counts"
          }
         },
         "colorscale": [
          [
           0,
           "rgb(252,251,253)"
          ],
          [
           0.125,
           "rgb(239,237,245)"
          ],
          [
           0.25,
           "rgb(218,218,235)"
          ],
          [
           0.375,
           "rgb(188,189,220)"
          ],
          [
           0.5,
           "rgb(158,154,200)"
          ],
          [
           0.625,
           "rgb(128,125,186)"
          ],
          [
           0.75,
           "rgb(106,81,163)"
          ],
          [
           0.875,
           "rgb(84,39,143)"
          ],
          [
           1,
           "rgb(63,0,125)"
          ]
         ]
        },
        "legend": {
         "tracegroupgap": 0
        },
        "margin": {
         "t": 60
        },
        "showlegend": false,
        "template": {
         "data": {
          "bar": [
           {
            "error_x": {
             "color": "#2a3f5f"
            },
            "error_y": {
             "color": "#2a3f5f"
            },
            "marker": {
             "line": {
              "color": "#E5ECF6",
              "width": 0.5
             },
             "pattern": {
              "fillmode": "overlay",
              "size": 10,
              "solidity": 0.2
             }
            },
            "type": "bar"
           }
          ],
          "barpolar": [
           {
            "marker": {
             "line": {
              "color": "#E5ECF6",
              "width": 0.5
             },
             "pattern": {
              "fillmode": "overlay",
              "size": 10,
              "solidity": 0.2
             }
            },
            "type": "barpolar"
           }
          ],
          "carpet": [
           {
            "aaxis": {
             "endlinecolor": "#2a3f5f",
             "gridcolor": "white",
             "linecolor": "white",
             "minorgridcolor": "white",
             "startlinecolor": "#2a3f5f"
            },
            "baxis": {
             "endlinecolor": "#2a3f5f",
             "gridcolor": "white",
             "linecolor": "white",
             "minorgridcolor": "white",
             "startlinecolor": "#2a3f5f"
            },
            "type": "carpet"
           }
          ],
          "choropleth": [
           {
            "colorbar": {
             "outlinewidth": 0,
             "ticks": ""
            },
            "type": "choropleth"
           }
          ],
          "contour": [
           {
            "colorbar": {
             "outlinewidth": 0,
             "ticks": ""
            },
            "colorscale": [
             [
              0,
              "#0d0887"
             ],
             [
              0.1111111111111111,
              "#46039f"
             ],
             [
              0.2222222222222222,
              "#7201a8"
             ],
             [
              0.3333333333333333,
              "#9c179e"
             ],
             [
              0.4444444444444444,
              "#bd3786"
             ],
             [
              0.5555555555555556,
              "#d8576b"
             ],
             [
              0.6666666666666666,
              "#ed7953"
             ],
             [
              0.7777777777777778,
              "#fb9f3a"
             ],
             [
              0.8888888888888888,
              "#fdca26"
             ],
             [
              1,
              "#f0f921"
             ]
            ],
            "type": "contour"
           }
          ],
          "contourcarpet": [
           {
            "colorbar": {
             "outlinewidth": 0,
             "ticks": ""
            },
            "type": "contourcarpet"
           }
          ],
          "heatmap": [
           {
            "colorbar": {
             "outlinewidth": 0,
             "ticks": ""
            },
            "colorscale": [
             [
              0,
              "#0d0887"
             ],
             [
              0.1111111111111111,
              "#46039f"
             ],
             [
              0.2222222222222222,
              "#7201a8"
             ],
             [
              0.3333333333333333,
              "#9c179e"
             ],
             [
              0.4444444444444444,
              "#bd3786"
             ],
             [
              0.5555555555555556,
              "#d8576b"
             ],
             [
              0.6666666666666666,
              "#ed7953"
             ],
             [
              0.7777777777777778,
              "#fb9f3a"
             ],
             [
              0.8888888888888888,
              "#fdca26"
             ],
             [
              1,
              "#f0f921"
             ]
            ],
            "type": "heatmap"
           }
          ],
          "heatmapgl": [
           {
            "colorbar": {
             "outlinewidth": 0,
             "ticks": ""
            },
            "colorscale": [
             [
              0,
              "#0d0887"
             ],
             [
              0.1111111111111111,
              "#46039f"
             ],
             [
              0.2222222222222222,
              "#7201a8"
             ],
             [
              0.3333333333333333,
              "#9c179e"
             ],
             [
              0.4444444444444444,
              "#bd3786"
             ],
             [
              0.5555555555555556,
              "#d8576b"
             ],
             [
              0.6666666666666666,
              "#ed7953"
             ],
             [
              0.7777777777777778,
              "#fb9f3a"
             ],
             [
              0.8888888888888888,
              "#fdca26"
             ],
             [
              1,
              "#f0f921"
             ]
            ],
            "type": "heatmapgl"
           }
          ],
          "histogram": [
           {
            "marker": {
             "pattern": {
              "fillmode": "overlay",
              "size": 10,
              "solidity": 0.2
             }
            },
            "type": "histogram"
           }
          ],
          "histogram2d": [
           {
            "colorbar": {
             "outlinewidth": 0,
             "ticks": ""
            },
            "colorscale": [
             [
              0,
              "#0d0887"
             ],
             [
              0.1111111111111111,
              "#46039f"
             ],
             [
              0.2222222222222222,
              "#7201a8"
             ],
             [
              0.3333333333333333,
              "#9c179e"
             ],
             [
              0.4444444444444444,
              "#bd3786"
             ],
             [
              0.5555555555555556,
              "#d8576b"
             ],
             [
              0.6666666666666666,
              "#ed7953"
             ],
             [
              0.7777777777777778,
              "#fb9f3a"
             ],
             [
              0.8888888888888888,
              "#fdca26"
             ],
             [
              1,
              "#f0f921"
             ]
            ],
            "type": "histogram2d"
           }
          ],
          "histogram2dcontour": [
           {
            "colorbar": {
             "outlinewidth": 0,
             "ticks": ""
            },
            "colorscale": [
             [
              0,
              "#0d0887"
             ],
             [
              0.1111111111111111,
              "#46039f"
             ],
             [
              0.2222222222222222,
              "#7201a8"
             ],
             [
              0.3333333333333333,
              "#9c179e"
             ],
             [
              0.4444444444444444,
              "#bd3786"
             ],
             [
              0.5555555555555556,
              "#d8576b"
             ],
             [
              0.6666666666666666,
              "#ed7953"
             ],
             [
              0.7777777777777778,
              "#fb9f3a"
             ],
             [
              0.8888888888888888,
              "#fdca26"
             ],
             [
              1,
              "#f0f921"
             ]
            ],
            "type": "histogram2dcontour"
           }
          ],
          "mesh3d": [
           {
            "colorbar": {
             "outlinewidth": 0,
             "ticks": ""
            },
            "type": "mesh3d"
           }
          ],
          "parcoords": [
           {
            "line": {
             "colorbar": {
              "outlinewidth": 0,
              "ticks": ""
             }
            },
            "type": "parcoords"
           }
          ],
          "pie": [
           {
            "automargin": true,
            "type": "pie"
           }
          ],
          "scatter": [
           {
            "fillpattern": {
             "fillmode": "overlay",
             "size": 10,
             "solidity": 0.2
            },
            "type": "scatter"
           }
          ],
          "scatter3d": [
           {
            "line": {
             "colorbar": {
              "outlinewidth": 0,
              "ticks": ""
             }
            },
            "marker": {
             "colorbar": {
              "outlinewidth": 0,
              "ticks": ""
             }
            },
            "type": "scatter3d"
           }
          ],
          "scattercarpet": [
           {
            "marker": {
             "colorbar": {
              "outlinewidth": 0,
              "ticks": ""
             }
            },
            "type": "scattercarpet"
           }
          ],
          "scattergeo": [
           {
            "marker": {
             "colorbar": {
              "outlinewidth": 0,
              "ticks": ""
             }
            },
            "type": "scattergeo"
           }
          ],
          "scattergl": [
           {
            "marker": {
             "colorbar": {
              "outlinewidth": 0,
              "ticks": ""
             }
            },
            "type": "scattergl"
           }
          ],
          "scattermapbox": [
           {
            "marker": {
             "colorbar": {
              "outlinewidth": 0,
              "ticks": ""
             }
            },
            "type": "scattermapbox"
           }
          ],
          "scatterpolar": [
           {
            "marker": {
             "colorbar": {
              "outlinewidth": 0,
              "ticks": ""
             }
            },
            "type": "scatterpolar"
           }
          ],
          "scatterpolargl": [
           {
            "marker": {
             "colorbar": {
              "outlinewidth": 0,
              "ticks": ""
             }
            },
            "type": "scatterpolargl"
           }
          ],
          "scatterternary": [
           {
            "marker": {
             "colorbar": {
              "outlinewidth": 0,
              "ticks": ""
             }
            },
            "type": "scatterternary"
           }
          ],
          "surface": [
           {
            "colorbar": {
             "outlinewidth": 0,
             "ticks": ""
            },
            "colorscale": [
             [
              0,
              "#0d0887"
             ],
             [
              0.1111111111111111,
              "#46039f"
             ],
             [
              0.2222222222222222,
              "#7201a8"
             ],
             [
              0.3333333333333333,
              "#9c179e"
             ],
             [
              0.4444444444444444,
              "#bd3786"
             ],
             [
              0.5555555555555556,
              "#d8576b"
             ],
             [
              0.6666666666666666,
              "#ed7953"
             ],
             [
              0.7777777777777778,
              "#fb9f3a"
             ],
             [
              0.8888888888888888,
              "#fdca26"
             ],
             [
              1,
              "#f0f921"
             ]
            ],
            "type": "surface"
           }
          ],
          "table": [
           {
            "cells": {
             "fill": {
              "color": "#EBF0F8"
             },
             "line": {
              "color": "white"
             }
            },
            "header": {
             "fill": {
              "color": "#C8D4E3"
             },
             "line": {
              "color": "white"
             }
            },
            "type": "table"
           }
          ]
         },
         "layout": {
          "annotationdefaults": {
           "arrowcolor": "#2a3f5f",
           "arrowhead": 0,
           "arrowwidth": 1
          },
          "autotypenumbers": "strict",
          "coloraxis": {
           "colorbar": {
            "outlinewidth": 0,
            "ticks": ""
           }
          },
          "colorscale": {
           "diverging": [
            [
             0,
             "#8e0152"
            ],
            [
             0.1,
             "#c51b7d"
            ],
            [
             0.2,
             "#de77ae"
            ],
            [
             0.3,
             "#f1b6da"
            ],
            [
             0.4,
             "#fde0ef"
            ],
            [
             0.5,
             "#f7f7f7"
            ],
            [
             0.6,
             "#e6f5d0"
            ],
            [
             0.7,
             "#b8e186"
            ],
            [
             0.8,
             "#7fbc41"
            ],
            [
             0.9,
             "#4d9221"
            ],
            [
             1,
             "#276419"
            ]
           ],
           "sequential": [
            [
             0,
             "#0d0887"
            ],
            [
             0.1111111111111111,
             "#46039f"
            ],
            [
             0.2222222222222222,
             "#7201a8"
            ],
            [
             0.3333333333333333,
             "#9c179e"
            ],
            [
             0.4444444444444444,
             "#bd3786"
            ],
            [
             0.5555555555555556,
             "#d8576b"
            ],
            [
             0.6666666666666666,
             "#ed7953"
            ],
            [
             0.7777777777777778,
             "#fb9f3a"
            ],
            [
             0.8888888888888888,
             "#fdca26"
            ],
            [
             1,
             "#f0f921"
            ]
           ],
           "sequentialminus": [
            [
             0,
             "#0d0887"
            ],
            [
             0.1111111111111111,
             "#46039f"
            ],
            [
             0.2222222222222222,
             "#7201a8"
            ],
            [
             0.3333333333333333,
             "#9c179e"
            ],
            [
             0.4444444444444444,
             "#bd3786"
            ],
            [
             0.5555555555555556,
             "#d8576b"
            ],
            [
             0.6666666666666666,
             "#ed7953"
            ],
            [
             0.7777777777777778,
             "#fb9f3a"
            ],
            [
             0.8888888888888888,
             "#fdca26"
            ],
            [
             1,
             "#f0f921"
            ]
           ]
          },
          "colorway": [
           "#636efa",
           "#EF553B",
           "#00cc96",
           "#ab63fa",
           "#FFA15A",
           "#19d3f3",
           "#FF6692",
           "#B6E880",
           "#FF97FF",
           "#FECB52"
          ],
          "font": {
           "color": "#2a3f5f"
          },
          "geo": {
           "bgcolor": "white",
           "lakecolor": "white",
           "landcolor": "#E5ECF6",
           "showlakes": true,
           "showland": true,
           "subunitcolor": "white"
          },
          "hoverlabel": {
           "align": "left"
          },
          "hovermode": "closest",
          "mapbox": {
           "style": "light"
          },
          "paper_bgcolor": "white",
          "plot_bgcolor": "#E5ECF6",
          "polar": {
           "angularaxis": {
            "gridcolor": "white",
            "linecolor": "white",
            "ticks": ""
           },
           "bgcolor": "#E5ECF6",
           "radialaxis": {
            "gridcolor": "white",
            "linecolor": "white",
            "ticks": ""
           }
          },
          "scene": {
           "xaxis": {
            "backgroundcolor": "#E5ECF6",
            "gridcolor": "white",
            "gridwidth": 2,
            "linecolor": "white",
            "showbackground": true,
            "ticks": "",
            "zerolinecolor": "white"
           },
           "yaxis": {
            "backgroundcolor": "#E5ECF6",
            "gridcolor": "white",
            "gridwidth": 2,
            "linecolor": "white",
            "showbackground": true,
            "ticks": "",
            "zerolinecolor": "white"
           },
           "zaxis": {
            "backgroundcolor": "#E5ECF6",
            "gridcolor": "white",
            "gridwidth": 2,
            "linecolor": "white",
            "showbackground": true,
            "ticks": "",
            "zerolinecolor": "white"
           }
          },
          "shapedefaults": {
           "line": {
            "color": "#2a3f5f"
           }
          },
          "ternary": {
           "aaxis": {
            "gridcolor": "white",
            "linecolor": "white",
            "ticks": ""
           },
           "baxis": {
            "gridcolor": "white",
            "linecolor": "white",
            "ticks": ""
           },
           "bgcolor": "#E5ECF6",
           "caxis": {
            "gridcolor": "white",
            "linecolor": "white",
            "ticks": ""
           }
          },
          "title": {
           "x": 0.05
          },
          "xaxis": {
           "automargin": true,
           "gridcolor": "white",
           "linecolor": "white",
           "ticks": "",
           "title": {
            "standoff": 15
           },
           "zerolinecolor": "white",
           "zerolinewidth": 2
          },
          "yaxis": {
           "automargin": true,
           "gridcolor": "white",
           "linecolor": "white",
           "ticks": "",
           "title": {
            "standoff": 15
           },
           "zerolinecolor": "white",
           "zerolinewidth": 2
          }
         }
        },
        "title": {
         "text": "Nombre d'immatriculations par mois",
         "x": 0.5,
         "xanchor": "center",
         "y": 0.9,
         "yanchor": "top"
        },
        "xaxis": {
         "anchor": "y",
         "domain": [
          0,
          1
         ],
         "ticktext": [
          "Janvier",
          "Février",
          "Mars",
          "Avril",
          "Mai",
          "Juin",
          "Juil.",
          "Août",
          "Sept.",
          "Oct.",
          "Nov.",
          "Déc."
         ],
         "tickvals": [
          1,
          2,
          3,
          4,
          5,
          6,
          7,
          8,
          9,
          10,
          11,
          12
         ],
         "title": {
          "text": "Mois"
         }
        },
        "yaxis": {
         "anchor": "x",
         "domain": [
          0,
          1
         ],
         "title": {
          "text": "Nombre d'immatriculations"
         }
        }
       }
      }
     },
     "metadata": {},
     "output_type": "display_data"
    }
   ],
   "source": [
    "co2.viz.plot_registrations_per_month(df)"
   ]
  },
  {
   "cell_type": "code",
   "execution_count": 23,
   "metadata": {},
   "outputs": [
    {
     "data": {
      "application/vnd.plotly.v1+json": {
       "config": {
        "plotlyServerURL": "https://plot.ly"
       },
       "data": [
        {
         "boxpoints": "outliers",
         "name": "ELECTRIC",
         "type": "box",
         "x": [
          0,
          0,
          0,
          0,
          0,
          0,
          0,
          0,
          0,
          0,
          0,
          0,
          0,
          0,
          0,
          0,
          0,
          0,
          0,
          0,
          0,
          0,
          0,
          0,
          0,
          0,
          0,
          0,
          0,
          0,
          0,
          0,
          0,
          0,
          0,
          0,
          0,
          0,
          0,
          0,
          0,
          0,
          0,
          0,
          0,
          0,
          0,
          0,
          0,
          0,
          0,
          0,
          0,
          0,
          0,
          0,
          0,
          0,
          0,
          0,
          0,
          0,
          0,
          0,
          0,
          0,
          0,
          0,
          0,
          0,
          0,
          0,
          0,
          0,
          0,
          0,
          0,
          0,
          0,
          0,
          0,
          0,
          0,
          0,
          0,
          0,
          0,
          0,
          0,
          0,
          0,
          0,
          0,
          0,
          0,
          0,
          0,
          0,
          0,
          0,
          0,
          0,
          0
         ]
        },
        {
         "boxpoints": "outliers",
         "name": "PETROL/ELECTRIC",
         "type": "box",
         "x": [
          43,
          31,
          36,
          37,
          40,
          30,
          44,
          32,
          45,
          28,
          42,
          32,
          38,
          22,
          45,
          41,
          29,
          30,
          49,
          32,
          31,
          42,
          63,
          41,
          43,
          36,
          43,
          31,
          32,
          31,
          43,
          33,
          22,
          42,
          33,
          32,
          31,
          29,
          24,
          51,
          25,
          33,
          31,
          32,
          29,
          31,
          41,
          35,
          31,
          43,
          32,
          34,
          70,
          32,
          29,
          32,
          41,
          31,
          31,
          34,
          32,
          33,
          31,
          38,
          34,
          31
         ]
        },
        {
         "boxpoints": "outliers",
         "name": "DIESEL",
         "type": "box",
         "x": [
          135,
          121,
          153,
          151,
          110,
          127,
          127,
          144,
          111,
          123,
          145,
          122,
          138,
          137,
          123,
          155,
          127,
          147,
          143,
          138,
          122,
          111,
          134,
          136,
          127,
          112,
          129,
          110,
          126,
          111,
          120,
          134,
          127,
          123,
          132,
          107,
          126,
          111,
          156,
          117,
          147,
          112,
          119,
          111,
          126,
          145,
          132,
          120,
          129,
          141,
          146,
          127,
          136,
          120,
          123,
          117,
          137,
          128,
          129,
          106,
          125,
          134,
          124,
          133,
          119,
          138,
          132,
          147,
          133,
          111,
          127,
          127,
          112,
          141,
          143,
          111,
          135,
          146,
          140,
          124,
          155,
          149,
          137,
          106,
          108,
          106,
          146,
          141,
          111,
          110,
          122,
          141,
          125,
          129,
          138,
          136,
          136,
          108,
          119,
          134,
          150,
          121,
          163,
          158,
          107,
          139,
          121,
          125,
          146,
          167,
          139,
          112,
          176,
          130,
          111,
          139,
          127,
          149,
          167,
          143,
          168,
          111,
          141,
          150,
          138,
          141,
          173,
          117,
          121,
          155,
          106,
          111,
          124,
          111,
          128,
          126,
          129,
          125,
          121,
          136,
          123,
          126,
          127,
          167,
          134,
          125,
          142,
          138,
          129,
          129,
          157,
          125,
          131,
          155,
          117,
          111,
          169,
          134,
          122,
          135,
          130,
          145,
          132,
          155,
          118,
          106,
          121,
          140,
          121,
          134,
          131,
          143,
          118,
          111,
          145,
          115,
          127,
          155,
          250,
          124,
          134,
          140,
          179,
          109,
          136,
          138,
          133,
          167,
          133,
          142,
          137,
          125,
          132,
          130,
          116,
          152,
          134,
          180,
          109,
          136,
          120,
          133,
          140,
          153,
          140,
          140,
          135,
          136,
          191,
          124,
          127,
          105,
          138,
          142,
          138,
          111,
          121,
          105,
          106,
          158,
          107,
          106,
          140,
          121,
          172,
          143,
          133,
          117,
          135,
          133,
          122,
          125,
          110,
          131,
          121,
          118,
          137,
          125,
          132,
          111,
          126,
          129,
          106,
          127,
          140,
          165,
          126,
          126,
          131,
          128,
          111,
          111
         ]
        },
        {
         "boxpoints": "outliers",
         "name": "PETROL",
         "type": "box",
         "x": [
          123,
          128,
          134,
          117,
          147,
          106,
          114,
          133,
          112,
          151,
          141,
          119,
          119,
          125,
          120,
          99,
          118,
          117,
          110,
          130,
          157,
          113,
          128,
          119,
          144,
          122,
          147,
          127,
          139,
          136,
          121,
          125,
          146,
          121,
          139,
          139,
          121,
          142,
          133,
          117,
          151,
          147,
          146,
          133,
          118,
          118,
          106,
          99,
          134,
          87,
          123,
          119,
          119,
          120,
          130,
          142,
          122,
          133,
          148,
          134,
          120,
          124,
          110,
          113,
          99,
          118,
          118,
          135,
          119,
          133,
          156,
          122,
          118,
          118,
          125,
          124,
          131,
          134,
          118,
          134,
          140,
          130,
          142,
          119,
          115,
          130,
          121,
          133,
          114,
          120,
          172,
          127,
          131,
          132,
          123,
          155,
          123,
          132,
          132,
          230,
          117,
          122,
          129,
          99,
          134,
          92,
          123,
          116,
          143,
          136,
          119,
          122,
          138,
          142,
          118,
          121,
          133,
          129,
          148,
          134,
          103,
          136,
          118,
          127,
          111,
          120,
          123,
          148,
          106,
          106,
          137,
          134,
          103,
          150,
          145,
          113,
          139,
          113,
          132,
          127,
          98,
          136,
          118,
          118,
          135,
          112,
          149,
          127,
          142,
          162,
          118,
          112,
          120,
          122,
          110,
          138,
          110,
          132,
          102,
          115,
          123,
          127,
          97,
          117,
          123,
          113,
          121,
          118,
          120,
          117,
          125,
          127,
          121,
          118,
          112,
          130,
          148,
          138,
          143,
          135,
          156,
          118,
          124,
          123,
          130,
          148,
          121,
          145,
          121,
          113,
          137,
          114,
          126,
          138,
          135,
          144,
          113,
          97,
          166,
          136,
          134,
          157,
          122,
          134,
          122,
          145,
          106,
          124,
          128,
          145,
          157,
          118,
          117,
          146,
          133,
          131,
          119,
          117,
          118,
          135,
          149,
          126,
          123,
          118,
          99,
          118,
          111,
          117,
          127,
          129,
          125,
          117,
          135,
          108,
          110,
          117,
          158,
          117,
          122,
          120,
          112,
          125,
          112,
          132,
          136,
          118,
          137,
          87,
          126,
          126,
          157,
          135,
          117,
          136,
          120,
          157,
          135,
          126,
          122,
          123,
          129,
          128,
          135,
          144,
          158,
          141,
          141,
          146,
          121,
          127,
          133,
          121,
          132,
          135,
          113,
          103,
          146,
          113,
          127,
          137,
          132,
          133,
          117,
          137,
          98,
          127,
          123,
          143,
          110,
          106,
          134,
          120,
          154,
          127,
          117,
          159,
          123,
          133,
          123,
          126,
          142,
          123,
          127,
          119,
          127,
          127,
          142,
          154,
          121,
          117,
          118,
          129,
          149,
          123,
          125,
          156,
          136,
          126,
          127,
          118,
          131,
          134,
          142,
          123,
          119,
          121,
          134,
          141,
          127,
          128,
          98,
          124,
          121,
          117,
          126,
          121,
          141,
          145,
          130,
          124,
          87,
          87,
          140,
          156,
          133,
          135,
          123,
          129,
          131,
          122,
          142,
          102,
          134,
          119,
          119,
          117,
          120,
          141,
          143,
          98,
          136,
          128,
          111,
          156,
          129,
          122,
          116,
          118,
          124,
          119,
          122,
          141,
          129,
          118,
          122,
          118,
          160,
          135,
          139,
          134,
          137,
          128,
          112,
          110,
          118,
          155,
          125,
          158,
          137,
          124,
          127,
          118,
          106,
          121,
          115,
          123,
          147,
          119,
          143,
          118,
          102,
          120,
          139,
          113,
          113,
          135,
          135,
          136,
          109,
          155,
          149,
          161,
          139,
          119,
          135,
          113,
          122,
          121,
          126,
          123,
          128,
          148,
          119,
          146,
          127,
          112,
          134,
          98,
          121,
          122,
          119,
          123,
          98,
          125,
          117,
          118,
          148,
          122,
          123,
          146,
          119,
          127,
          118,
          118,
          107,
          120,
          125,
          118,
          136,
          121,
          137,
          119,
          124,
          123,
          127,
          124,
          99,
          117,
          120,
          135,
          121,
          140,
          117,
          133,
          98,
          118,
          116,
          125,
          127,
          133,
          128,
          109,
          110,
          128,
          124,
          141,
          129,
          118,
          136,
          135,
          135,
          121,
          118,
          119,
          111,
          146,
          126,
          118,
          117,
          125,
          154,
          132,
          126,
          88,
          136,
          128,
          127,
          123,
          136,
          133,
          123,
          101,
          126,
          115,
          99,
          146,
          122,
          134,
          146,
          148,
          110,
          137,
          124,
          113,
          157,
          127,
          129,
          121,
          138,
          129,
          153,
          124,
          92,
          122
         ]
        },
        {
         "boxpoints": "outliers",
         "name": "LPG",
         "type": "box",
         "x": [
          127,
          114,
          114,
          115,
          115,
          120,
          120,
          109,
          119,
          115,
          115,
          114,
          109,
          127,
          114,
          120,
          115,
          109,
          115,
          109,
          114,
          115,
          115
         ]
        },
        {
         "boxpoints": "outliers",
         "name": "DIESEL/ELECTRIC",
         "type": "box",
         "x": [
          54,
          48,
          54,
          51,
          48,
          34,
          50
         ]
        },
        {
         "boxpoints": "outliers",
         "name": "E85",
         "type": "box",
         "x": [
          122,
          126,
          126,
          119,
          127
         ]
        }
       ],
       "layout": {
        "annotations": [
         {
          "font": {
           "size": 12
          },
          "showarrow": false,
          "text": "Data Source: European Environment Agency, 2021",
          "x": 0,
          "xref": "paper",
          "y": 0,
          "yref": "paper"
         }
        ],
        "autosize": false,
        "height": 800,
        "hovermode": "x",
        "template": {
         "data": {
          "bar": [
           {
            "error_x": {
             "color": "#2a3f5f"
            },
            "error_y": {
             "color": "#2a3f5f"
            },
            "marker": {
             "line": {
              "color": "#E5ECF6",
              "width": 0.5
             },
             "pattern": {
              "fillmode": "overlay",
              "size": 10,
              "solidity": 0.2
             }
            },
            "type": "bar"
           }
          ],
          "barpolar": [
           {
            "marker": {
             "line": {
              "color": "#E5ECF6",
              "width": 0.5
             },
             "pattern": {
              "fillmode": "overlay",
              "size": 10,
              "solidity": 0.2
             }
            },
            "type": "barpolar"
           }
          ],
          "carpet": [
           {
            "aaxis": {
             "endlinecolor": "#2a3f5f",
             "gridcolor": "white",
             "linecolor": "white",
             "minorgridcolor": "white",
             "startlinecolor": "#2a3f5f"
            },
            "baxis": {
             "endlinecolor": "#2a3f5f",
             "gridcolor": "white",
             "linecolor": "white",
             "minorgridcolor": "white",
             "startlinecolor": "#2a3f5f"
            },
            "type": "carpet"
           }
          ],
          "choropleth": [
           {
            "colorbar": {
             "outlinewidth": 0,
             "ticks": ""
            },
            "type": "choropleth"
           }
          ],
          "contour": [
           {
            "colorbar": {
             "outlinewidth": 0,
             "ticks": ""
            },
            "colorscale": [
             [
              0,
              "#0d0887"
             ],
             [
              0.1111111111111111,
              "#46039f"
             ],
             [
              0.2222222222222222,
              "#7201a8"
             ],
             [
              0.3333333333333333,
              "#9c179e"
             ],
             [
              0.4444444444444444,
              "#bd3786"
             ],
             [
              0.5555555555555556,
              "#d8576b"
             ],
             [
              0.6666666666666666,
              "#ed7953"
             ],
             [
              0.7777777777777778,
              "#fb9f3a"
             ],
             [
              0.8888888888888888,
              "#fdca26"
             ],
             [
              1,
              "#f0f921"
             ]
            ],
            "type": "contour"
           }
          ],
          "contourcarpet": [
           {
            "colorbar": {
             "outlinewidth": 0,
             "ticks": ""
            },
            "type": "contourcarpet"
           }
          ],
          "heatmap": [
           {
            "colorbar": {
             "outlinewidth": 0,
             "ticks": ""
            },
            "colorscale": [
             [
              0,
              "#0d0887"
             ],
             [
              0.1111111111111111,
              "#46039f"
             ],
             [
              0.2222222222222222,
              "#7201a8"
             ],
             [
              0.3333333333333333,
              "#9c179e"
             ],
             [
              0.4444444444444444,
              "#bd3786"
             ],
             [
              0.5555555555555556,
              "#d8576b"
             ],
             [
              0.6666666666666666,
              "#ed7953"
             ],
             [
              0.7777777777777778,
              "#fb9f3a"
             ],
             [
              0.8888888888888888,
              "#fdca26"
             ],
             [
              1,
              "#f0f921"
             ]
            ],
            "type": "heatmap"
           }
          ],
          "heatmapgl": [
           {
            "colorbar": {
             "outlinewidth": 0,
             "ticks": ""
            },
            "colorscale": [
             [
              0,
              "#0d0887"
             ],
             [
              0.1111111111111111,
              "#46039f"
             ],
             [
              0.2222222222222222,
              "#7201a8"
             ],
             [
              0.3333333333333333,
              "#9c179e"
             ],
             [
              0.4444444444444444,
              "#bd3786"
             ],
             [
              0.5555555555555556,
              "#d8576b"
             ],
             [
              0.6666666666666666,
              "#ed7953"
             ],
             [
              0.7777777777777778,
              "#fb9f3a"
             ],
             [
              0.8888888888888888,
              "#fdca26"
             ],
             [
              1,
              "#f0f921"
             ]
            ],
            "type": "heatmapgl"
           }
          ],
          "histogram": [
           {
            "marker": {
             "pattern": {
              "fillmode": "overlay",
              "size": 10,
              "solidity": 0.2
             }
            },
            "type": "histogram"
           }
          ],
          "histogram2d": [
           {
            "colorbar": {
             "outlinewidth": 0,
             "ticks": ""
            },
            "colorscale": [
             [
              0,
              "#0d0887"
             ],
             [
              0.1111111111111111,
              "#46039f"
             ],
             [
              0.2222222222222222,
              "#7201a8"
             ],
             [
              0.3333333333333333,
              "#9c179e"
             ],
             [
              0.4444444444444444,
              "#bd3786"
             ],
             [
              0.5555555555555556,
              "#d8576b"
             ],
             [
              0.6666666666666666,
              "#ed7953"
             ],
             [
              0.7777777777777778,
              "#fb9f3a"
             ],
             [
              0.8888888888888888,
              "#fdca26"
             ],
             [
              1,
              "#f0f921"
             ]
            ],
            "type": "histogram2d"
           }
          ],
          "histogram2dcontour": [
           {
            "colorbar": {
             "outlinewidth": 0,
             "ticks": ""
            },
            "colorscale": [
             [
              0,
              "#0d0887"
             ],
             [
              0.1111111111111111,
              "#46039f"
             ],
             [
              0.2222222222222222,
              "#7201a8"
             ],
             [
              0.3333333333333333,
              "#9c179e"
             ],
             [
              0.4444444444444444,
              "#bd3786"
             ],
             [
              0.5555555555555556,
              "#d8576b"
             ],
             [
              0.6666666666666666,
              "#ed7953"
             ],
             [
              0.7777777777777778,
              "#fb9f3a"
             ],
             [
              0.8888888888888888,
              "#fdca26"
             ],
             [
              1,
              "#f0f921"
             ]
            ],
            "type": "histogram2dcontour"
           }
          ],
          "mesh3d": [
           {
            "colorbar": {
             "outlinewidth": 0,
             "ticks": ""
            },
            "type": "mesh3d"
           }
          ],
          "parcoords": [
           {
            "line": {
             "colorbar": {
              "outlinewidth": 0,
              "ticks": ""
             }
            },
            "type": "parcoords"
           }
          ],
          "pie": [
           {
            "automargin": true,
            "type": "pie"
           }
          ],
          "scatter": [
           {
            "fillpattern": {
             "fillmode": "overlay",
             "size": 10,
             "solidity": 0.2
            },
            "type": "scatter"
           }
          ],
          "scatter3d": [
           {
            "line": {
             "colorbar": {
              "outlinewidth": 0,
              "ticks": ""
             }
            },
            "marker": {
             "colorbar": {
              "outlinewidth": 0,
              "ticks": ""
             }
            },
            "type": "scatter3d"
           }
          ],
          "scattercarpet": [
           {
            "marker": {
             "colorbar": {
              "outlinewidth": 0,
              "ticks": ""
             }
            },
            "type": "scattercarpet"
           }
          ],
          "scattergeo": [
           {
            "marker": {
             "colorbar": {
              "outlinewidth": 0,
              "ticks": ""
             }
            },
            "type": "scattergeo"
           }
          ],
          "scattergl": [
           {
            "marker": {
             "colorbar": {
              "outlinewidth": 0,
              "ticks": ""
             }
            },
            "type": "scattergl"
           }
          ],
          "scattermapbox": [
           {
            "marker": {
             "colorbar": {
              "outlinewidth": 0,
              "ticks": ""
             }
            },
            "type": "scattermapbox"
           }
          ],
          "scatterpolar": [
           {
            "marker": {
             "colorbar": {
              "outlinewidth": 0,
              "ticks": ""
             }
            },
            "type": "scatterpolar"
           }
          ],
          "scatterpolargl": [
           {
            "marker": {
             "colorbar": {
              "outlinewidth": 0,
              "ticks": ""
             }
            },
            "type": "scatterpolargl"
           }
          ],
          "scatterternary": [
           {
            "marker": {
             "colorbar": {
              "outlinewidth": 0,
              "ticks": ""
             }
            },
            "type": "scatterternary"
           }
          ],
          "surface": [
           {
            "colorbar": {
             "outlinewidth": 0,
             "ticks": ""
            },
            "colorscale": [
             [
              0,
              "#0d0887"
             ],
             [
              0.1111111111111111,
              "#46039f"
             ],
             [
              0.2222222222222222,
              "#7201a8"
             ],
             [
              0.3333333333333333,
              "#9c179e"
             ],
             [
              0.4444444444444444,
              "#bd3786"
             ],
             [
              0.5555555555555556,
              "#d8576b"
             ],
             [
              0.6666666666666666,
              "#ed7953"
             ],
             [
              0.7777777777777778,
              "#fb9f3a"
             ],
             [
              0.8888888888888888,
              "#fdca26"
             ],
             [
              1,
              "#f0f921"
             ]
            ],
            "type": "surface"
           }
          ],
          "table": [
           {
            "cells": {
             "fill": {
              "color": "#EBF0F8"
             },
             "line": {
              "color": "white"
             }
            },
            "header": {
             "fill": {
              "color": "#C8D4E3"
             },
             "line": {
              "color": "white"
             }
            },
            "type": "table"
           }
          ]
         },
         "layout": {
          "annotationdefaults": {
           "arrowcolor": "#2a3f5f",
           "arrowhead": 0,
           "arrowwidth": 1
          },
          "autotypenumbers": "strict",
          "coloraxis": {
           "colorbar": {
            "outlinewidth": 0,
            "ticks": ""
           }
          },
          "colorscale": {
           "diverging": [
            [
             0,
             "#8e0152"
            ],
            [
             0.1,
             "#c51b7d"
            ],
            [
             0.2,
             "#de77ae"
            ],
            [
             0.3,
             "#f1b6da"
            ],
            [
             0.4,
             "#fde0ef"
            ],
            [
             0.5,
             "#f7f7f7"
            ],
            [
             0.6,
             "#e6f5d0"
            ],
            [
             0.7,
             "#b8e186"
            ],
            [
             0.8,
             "#7fbc41"
            ],
            [
             0.9,
             "#4d9221"
            ],
            [
             1,
             "#276419"
            ]
           ],
           "sequential": [
            [
             0,
             "#0d0887"
            ],
            [
             0.1111111111111111,
             "#46039f"
            ],
            [
             0.2222222222222222,
             "#7201a8"
            ],
            [
             0.3333333333333333,
             "#9c179e"
            ],
            [
             0.4444444444444444,
             "#bd3786"
            ],
            [
             0.5555555555555556,
             "#d8576b"
            ],
            [
             0.6666666666666666,
             "#ed7953"
            ],
            [
             0.7777777777777778,
             "#fb9f3a"
            ],
            [
             0.8888888888888888,
             "#fdca26"
            ],
            [
             1,
             "#f0f921"
            ]
           ],
           "sequentialminus": [
            [
             0,
             "#0d0887"
            ],
            [
             0.1111111111111111,
             "#46039f"
            ],
            [
             0.2222222222222222,
             "#7201a8"
            ],
            [
             0.3333333333333333,
             "#9c179e"
            ],
            [
             0.4444444444444444,
             "#bd3786"
            ],
            [
             0.5555555555555556,
             "#d8576b"
            ],
            [
             0.6666666666666666,
             "#ed7953"
            ],
            [
             0.7777777777777778,
             "#fb9f3a"
            ],
            [
             0.8888888888888888,
             "#fdca26"
            ],
            [
             1,
             "#f0f921"
            ]
           ]
          },
          "colorway": [
           "#636efa",
           "#EF553B",
           "#00cc96",
           "#ab63fa",
           "#FFA15A",
           "#19d3f3",
           "#FF6692",
           "#B6E880",
           "#FF97FF",
           "#FECB52"
          ],
          "font": {
           "color": "#2a3f5f"
          },
          "geo": {
           "bgcolor": "white",
           "lakecolor": "white",
           "landcolor": "#E5ECF6",
           "showlakes": true,
           "showland": true,
           "subunitcolor": "white"
          },
          "hoverlabel": {
           "align": "left"
          },
          "hovermode": "closest",
          "mapbox": {
           "style": "light"
          },
          "paper_bgcolor": "white",
          "plot_bgcolor": "#E5ECF6",
          "polar": {
           "angularaxis": {
            "gridcolor": "white",
            "linecolor": "white",
            "ticks": ""
           },
           "bgcolor": "#E5ECF6",
           "radialaxis": {
            "gridcolor": "white",
            "linecolor": "white",
            "ticks": ""
           }
          },
          "scene": {
           "xaxis": {
            "backgroundcolor": "#E5ECF6",
            "gridcolor": "white",
            "gridwidth": 2,
            "linecolor": "white",
            "showbackground": true,
            "ticks": "",
            "zerolinecolor": "white"
           },
           "yaxis": {
            "backgroundcolor": "#E5ECF6",
            "gridcolor": "white",
            "gridwidth": 2,
            "linecolor": "white",
            "showbackground": true,
            "ticks": "",
            "zerolinecolor": "white"
           },
           "zaxis": {
            "backgroundcolor": "#E5ECF6",
            "gridcolor": "white",
            "gridwidth": 2,
            "linecolor": "white",
            "showbackground": true,
            "ticks": "",
            "zerolinecolor": "white"
           }
          },
          "shapedefaults": {
           "line": {
            "color": "#2a3f5f"
           }
          },
          "ternary": {
           "aaxis": {
            "gridcolor": "white",
            "linecolor": "white",
            "ticks": ""
           },
           "baxis": {
            "gridcolor": "white",
            "linecolor": "white",
            "ticks": ""
           },
           "bgcolor": "#E5ECF6",
           "caxis": {
            "gridcolor": "white",
            "linecolor": "white",
            "ticks": ""
           }
          },
          "title": {
           "x": 0.05
          },
          "xaxis": {
           "automargin": true,
           "gridcolor": "white",
           "linecolor": "white",
           "ticks": "",
           "title": {
            "standoff": 15
           },
           "zerolinecolor": "white",
           "zerolinewidth": 2
          },
          "yaxis": {
           "automargin": true,
           "gridcolor": "white",
           "linecolor": "white",
           "ticks": "",
           "title": {
            "standoff": 15
           },
           "zerolinecolor": "white",
           "zerolinewidth": 2
          }
         }
        },
        "width": 1400,
        "xaxis": {
         "title": {
          "text": "Co2EmissionsWltp"
         }
        },
        "yaxis": {
         "tickangle": 45,
         "title": {
          "text": "FuelType"
         }
        }
       }
      }
     },
     "metadata": {},
     "output_type": "display_data"
    }
   ],
   "source": [
    "co2.viz.plot_fueltype_distribution(df, filename=\"my_plot\", format='html')"
   ]
  },
  {
   "cell_type": "code",
   "execution_count": 24,
   "metadata": {},
   "outputs": [
    {
     "data": {
      "application/vnd.plotly.v1+json": {
       "config": {
        "plotlyServerURL": "https://plot.ly"
       },
       "data": [
        {
         "colorscale": [
          [
           0,
           "rgb(5,48,97)"
          ],
          [
           0.1,
           "rgb(33,102,172)"
          ],
          [
           0.2,
           "rgb(67,147,195)"
          ],
          [
           0.3,
           "rgb(146,197,222)"
          ],
          [
           0.4,
           "rgb(209,229,240)"
          ],
          [
           0.5,
           "rgb(247,247,247)"
          ],
          [
           0.6,
           "rgb(253,219,199)"
          ],
          [
           0.7,
           "rgb(244,165,130)"
          ],
          [
           0.8,
           "rgb(214,96,77)"
          ],
          [
           0.9,
           "rgb(178,24,43)"
          ],
          [
           1,
           "rgb(103,0,31)"
          ]
         ],
         "type": "heatmap",
         "x": [
          "MassRunningOrder",
          "WltpTestMass",
          "Co2EmissionsWltp",
          "BaseWheel",
          "AxleWidthSteering",
          "EngineCapacity",
          "EnginePower",
          "ElectricConsumption",
          "InnovativeEmissionsReductionWltp",
          "ElectricRange"
         ],
         "y": [
          "MassRunningOrder",
          "WltpTestMass",
          "Co2EmissionsWltp",
          "BaseWheel",
          "AxleWidthSteering",
          "EngineCapacity",
          "EnginePower",
          "ElectricConsumption",
          "InnovativeEmissionsReductionWltp",
          "ElectricRange"
         ],
         "z": [
          [
           1,
           0.9940812491168011,
           -0.3926254259788363,
           0.7590317208420008,
           0.7889242390263703,
           0.7304662536860295,
           0.6078889665230989,
           0.47166090102155983,
           -0.2927321470235963,
           -0.17646497809003814
          ],
          [
           0.9940812491168011,
           1,
           -0.3512719003032985,
           0.7747707945145843,
           0.8018300631247482,
           0.7304802005754378,
           0.6174596537546778,
           0.498669088598458,
           -0.2889013197398406,
           -0.21088177830650578
          ],
          [
           -0.3926254259788363,
           -0.3512719003032985,
           1,
           -0.0651098676685256,
           0.036229486621601484,
           -0.03068592511659612,
           0.200944023636927,
           0.44595328885503965,
           0.08903756835415622,
           -0.8719670468418534
          ],
          [
           0.7590317208420008,
           0.7747707945145843,
           -0.0651098676685256,
           1,
           0.814574872650068,
           0.531971868644226,
           0.5345663098758384,
           0.318169376088617,
           -0.20695907639056182,
           0.016730017351971594
          ],
          [
           0.7889242390263703,
           0.8018300631247482,
           0.036229486621601484,
           0.814574872650068,
           1,
           0.5623999406989996,
           0.647405578270081,
           0.3270369162380816,
           -0.138667482685805,
           -0.2897164602509647
          ],
          [
           0.7304662536860295,
           0.7304802005754378,
           -0.03068592511659612,
           0.531971868644226,
           0.5623999406989996,
           1,
           0.7249270938646715,
           0.4186826544733716,
           -0.3225755822146012,
           -0.10105509056119945
          ],
          [
           0.6078889665230989,
           0.6174596537546778,
           0.200944023636927,
           0.5345663098758384,
           0.647405578270081,
           0.7249270938646715,
           1,
           0.4243552414740137,
           -0.037765106544921274,
           -0.5489752045472617
          ],
          [
           0.47166090102155983,
           0.498669088598458,
           0.44595328885503965,
           0.318169376088617,
           0.3270369162380816,
           0.4186826544733716,
           0.4243552414740137,
           1,
           null,
           -0.33071149976511915
          ],
          [
           -0.2927321470235963,
           -0.2889013197398406,
           0.08903756835415622,
           -0.20695907639056182,
           -0.138667482685805,
           -0.3225755822146012,
           -0.037765106544921274,
           null,
           1,
           null
          ],
          [
           -0.17646497809003814,
           -0.21088177830650578,
           -0.8719670468418534,
           0.016730017351971594,
           -0.2897164602509647,
           -0.10105509056119945,
           -0.5489752045472617,
           -0.33071149976511915,
           null,
           1
          ]
         ]
        }
       ],
       "layout": {
        "annotations": [
         {
          "font": {
           "color": "white",
           "size": 16
          },
          "showarrow": false,
          "text": "1.0",
          "x": "MassRunningOrder",
          "y": "MassRunningOrder"
         },
         {
          "font": {
           "color": "white",
           "size": 16
          },
          "showarrow": false,
          "text": "0.99",
          "x": "WltpTestMass",
          "y": "MassRunningOrder"
         },
         {
          "font": {
           "color": "black",
           "size": 16
          },
          "showarrow": false,
          "text": "-0.39",
          "x": "Co2EmissionsWltp",
          "y": "MassRunningOrder"
         },
         {
          "font": {
           "color": "white",
           "size": 16
          },
          "showarrow": false,
          "text": "0.76",
          "x": "BaseWheel",
          "y": "MassRunningOrder"
         },
         {
          "font": {
           "color": "white",
           "size": 16
          },
          "showarrow": false,
          "text": "0.79",
          "x": "AxleWidthSteering",
          "y": "MassRunningOrder"
         },
         {
          "font": {
           "color": "white",
           "size": 16
          },
          "showarrow": false,
          "text": "0.73",
          "x": "EngineCapacity",
          "y": "MassRunningOrder"
         },
         {
          "font": {
           "color": "white",
           "size": 16
          },
          "showarrow": false,
          "text": "0.61",
          "x": "EnginePower",
          "y": "MassRunningOrder"
         },
         {
          "font": {
           "color": "black",
           "size": 16
          },
          "showarrow": false,
          "text": "0.47",
          "x": "ElectricConsumption",
          "y": "MassRunningOrder"
         },
         {
          "font": {
           "color": "black",
           "size": 16
          },
          "showarrow": false,
          "text": "-0.29",
          "x": "InnovativeEmissionsReductionWltp",
          "y": "MassRunningOrder"
         },
         {
          "font": {
           "color": "black",
           "size": 16
          },
          "showarrow": false,
          "text": "-0.18",
          "x": "ElectricRange",
          "y": "MassRunningOrder"
         },
         {
          "font": {
           "color": "white",
           "size": 16
          },
          "showarrow": false,
          "text": "0.99",
          "x": "MassRunningOrder",
          "y": "WltpTestMass"
         },
         {
          "font": {
           "color": "white",
           "size": 16
          },
          "showarrow": false,
          "text": "1.0",
          "x": "WltpTestMass",
          "y": "WltpTestMass"
         },
         {
          "font": {
           "color": "black",
           "size": 16
          },
          "showarrow": false,
          "text": "-0.35",
          "x": "Co2EmissionsWltp",
          "y": "WltpTestMass"
         },
         {
          "font": {
           "color": "white",
           "size": 16
          },
          "showarrow": false,
          "text": "0.77",
          "x": "BaseWheel",
          "y": "WltpTestMass"
         },
         {
          "font": {
           "color": "white",
           "size": 16
          },
          "showarrow": false,
          "text": "0.8",
          "x": "AxleWidthSteering",
          "y": "WltpTestMass"
         },
         {
          "font": {
           "color": "white",
           "size": 16
          },
          "showarrow": false,
          "text": "0.73",
          "x": "EngineCapacity",
          "y": "WltpTestMass"
         },
         {
          "font": {
           "color": "white",
           "size": 16
          },
          "showarrow": false,
          "text": "0.62",
          "x": "EnginePower",
          "y": "WltpTestMass"
         },
         {
          "font": {
           "color": "black",
           "size": 16
          },
          "showarrow": false,
          "text": "0.5",
          "x": "ElectricConsumption",
          "y": "WltpTestMass"
         },
         {
          "font": {
           "color": "black",
           "size": 16
          },
          "showarrow": false,
          "text": "-0.29",
          "x": "InnovativeEmissionsReductionWltp",
          "y": "WltpTestMass"
         },
         {
          "font": {
           "color": "black",
           "size": 16
          },
          "showarrow": false,
          "text": "-0.21",
          "x": "ElectricRange",
          "y": "WltpTestMass"
         },
         {
          "font": {
           "color": "black",
           "size": 16
          },
          "showarrow": false,
          "text": "-0.39",
          "x": "MassRunningOrder",
          "y": "Co2EmissionsWltp"
         },
         {
          "font": {
           "color": "black",
           "size": 16
          },
          "showarrow": false,
          "text": "-0.35",
          "x": "WltpTestMass",
          "y": "Co2EmissionsWltp"
         },
         {
          "font": {
           "color": "white",
           "size": 16
          },
          "showarrow": false,
          "text": "1.0",
          "x": "Co2EmissionsWltp",
          "y": "Co2EmissionsWltp"
         },
         {
          "font": {
           "color": "black",
           "size": 16
          },
          "showarrow": false,
          "text": "-0.07",
          "x": "BaseWheel",
          "y": "Co2EmissionsWltp"
         },
         {
          "font": {
           "color": "black",
           "size": 16
          },
          "showarrow": false,
          "text": "0.04",
          "x": "AxleWidthSteering",
          "y": "Co2EmissionsWltp"
         },
         {
          "font": {
           "color": "black",
           "size": 16
          },
          "showarrow": false,
          "text": "-0.03",
          "x": "EngineCapacity",
          "y": "Co2EmissionsWltp"
         },
         {
          "font": {
           "color": "black",
           "size": 16
          },
          "showarrow": false,
          "text": "0.2",
          "x": "EnginePower",
          "y": "Co2EmissionsWltp"
         },
         {
          "font": {
           "color": "black",
           "size": 16
          },
          "showarrow": false,
          "text": "0.45",
          "x": "ElectricConsumption",
          "y": "Co2EmissionsWltp"
         },
         {
          "font": {
           "color": "black",
           "size": 16
          },
          "showarrow": false,
          "text": "0.09",
          "x": "InnovativeEmissionsReductionWltp",
          "y": "Co2EmissionsWltp"
         },
         {
          "font": {
           "color": "white",
           "size": 16
          },
          "showarrow": false,
          "text": "-0.87",
          "x": "ElectricRange",
          "y": "Co2EmissionsWltp"
         },
         {
          "font": {
           "color": "white",
           "size": 16
          },
          "showarrow": false,
          "text": "0.76",
          "x": "MassRunningOrder",
          "y": "BaseWheel"
         },
         {
          "font": {
           "color": "white",
           "size": 16
          },
          "showarrow": false,
          "text": "0.77",
          "x": "WltpTestMass",
          "y": "BaseWheel"
         },
         {
          "font": {
           "color": "black",
           "size": 16
          },
          "showarrow": false,
          "text": "-0.07",
          "x": "Co2EmissionsWltp",
          "y": "BaseWheel"
         },
         {
          "font": {
           "color": "white",
           "size": 16
          },
          "showarrow": false,
          "text": "1.0",
          "x": "BaseWheel",
          "y": "BaseWheel"
         },
         {
          "font": {
           "color": "white",
           "size": 16
          },
          "showarrow": false,
          "text": "0.81",
          "x": "AxleWidthSteering",
          "y": "BaseWheel"
         },
         {
          "font": {
           "color": "white",
           "size": 16
          },
          "showarrow": false,
          "text": "0.53",
          "x": "EngineCapacity",
          "y": "BaseWheel"
         },
         {
          "font": {
           "color": "white",
           "size": 16
          },
          "showarrow": false,
          "text": "0.53",
          "x": "EnginePower",
          "y": "BaseWheel"
         },
         {
          "font": {
           "color": "black",
           "size": 16
          },
          "showarrow": false,
          "text": "0.32",
          "x": "ElectricConsumption",
          "y": "BaseWheel"
         },
         {
          "font": {
           "color": "black",
           "size": 16
          },
          "showarrow": false,
          "text": "-0.21",
          "x": "InnovativeEmissionsReductionWltp",
          "y": "BaseWheel"
         },
         {
          "font": {
           "color": "black",
           "size": 16
          },
          "showarrow": false,
          "text": "0.02",
          "x": "ElectricRange",
          "y": "BaseWheel"
         },
         {
          "font": {
           "color": "white",
           "size": 16
          },
          "showarrow": false,
          "text": "0.79",
          "x": "MassRunningOrder",
          "y": "AxleWidthSteering"
         },
         {
          "font": {
           "color": "white",
           "size": 16
          },
          "showarrow": false,
          "text": "0.8",
          "x": "WltpTestMass",
          "y": "AxleWidthSteering"
         },
         {
          "font": {
           "color": "black",
           "size": 16
          },
          "showarrow": false,
          "text": "0.04",
          "x": "Co2EmissionsWltp",
          "y": "AxleWidthSteering"
         },
         {
          "font": {
           "color": "white",
           "size": 16
          },
          "showarrow": false,
          "text": "0.81",
          "x": "BaseWheel",
          "y": "AxleWidthSteering"
         },
         {
          "font": {
           "color": "white",
           "size": 16
          },
          "showarrow": false,
          "text": "1.0",
          "x": "AxleWidthSteering",
          "y": "AxleWidthSteering"
         },
         {
          "font": {
           "color": "white",
           "size": 16
          },
          "showarrow": false,
          "text": "0.56",
          "x": "EngineCapacity",
          "y": "AxleWidthSteering"
         },
         {
          "font": {
           "color": "white",
           "size": 16
          },
          "showarrow": false,
          "text": "0.65",
          "x": "EnginePower",
          "y": "AxleWidthSteering"
         },
         {
          "font": {
           "color": "black",
           "size": 16
          },
          "showarrow": false,
          "text": "0.33",
          "x": "ElectricConsumption",
          "y": "AxleWidthSteering"
         },
         {
          "font": {
           "color": "black",
           "size": 16
          },
          "showarrow": false,
          "text": "-0.14",
          "x": "InnovativeEmissionsReductionWltp",
          "y": "AxleWidthSteering"
         },
         {
          "font": {
           "color": "black",
           "size": 16
          },
          "showarrow": false,
          "text": "-0.29",
          "x": "ElectricRange",
          "y": "AxleWidthSteering"
         },
         {
          "font": {
           "color": "white",
           "size": 16
          },
          "showarrow": false,
          "text": "0.73",
          "x": "MassRunningOrder",
          "y": "EngineCapacity"
         },
         {
          "font": {
           "color": "white",
           "size": 16
          },
          "showarrow": false,
          "text": "0.73",
          "x": "WltpTestMass",
          "y": "EngineCapacity"
         },
         {
          "font": {
           "color": "black",
           "size": 16
          },
          "showarrow": false,
          "text": "-0.03",
          "x": "Co2EmissionsWltp",
          "y": "EngineCapacity"
         },
         {
          "font": {
           "color": "white",
           "size": 16
          },
          "showarrow": false,
          "text": "0.53",
          "x": "BaseWheel",
          "y": "EngineCapacity"
         },
         {
          "font": {
           "color": "white",
           "size": 16
          },
          "showarrow": false,
          "text": "0.56",
          "x": "AxleWidthSteering",
          "y": "EngineCapacity"
         },
         {
          "font": {
           "color": "white",
           "size": 16
          },
          "showarrow": false,
          "text": "1.0",
          "x": "EngineCapacity",
          "y": "EngineCapacity"
         },
         {
          "font": {
           "color": "white",
           "size": 16
          },
          "showarrow": false,
          "text": "0.72",
          "x": "EnginePower",
          "y": "EngineCapacity"
         },
         {
          "font": {
           "color": "black",
           "size": 16
          },
          "showarrow": false,
          "text": "0.42",
          "x": "ElectricConsumption",
          "y": "EngineCapacity"
         },
         {
          "font": {
           "color": "black",
           "size": 16
          },
          "showarrow": false,
          "text": "-0.32",
          "x": "InnovativeEmissionsReductionWltp",
          "y": "EngineCapacity"
         },
         {
          "font": {
           "color": "black",
           "size": 16
          },
          "showarrow": false,
          "text": "-0.1",
          "x": "ElectricRange",
          "y": "EngineCapacity"
         },
         {
          "font": {
           "color": "white",
           "size": 16
          },
          "showarrow": false,
          "text": "0.61",
          "x": "MassRunningOrder",
          "y": "EnginePower"
         },
         {
          "font": {
           "color": "white",
           "size": 16
          },
          "showarrow": false,
          "text": "0.62",
          "x": "WltpTestMass",
          "y": "EnginePower"
         },
         {
          "font": {
           "color": "black",
           "size": 16
          },
          "showarrow": false,
          "text": "0.2",
          "x": "Co2EmissionsWltp",
          "y": "EnginePower"
         },
         {
          "font": {
           "color": "white",
           "size": 16
          },
          "showarrow": false,
          "text": "0.53",
          "x": "BaseWheel",
          "y": "EnginePower"
         },
         {
          "font": {
           "color": "white",
           "size": 16
          },
          "showarrow": false,
          "text": "0.65",
          "x": "AxleWidthSteering",
          "y": "EnginePower"
         },
         {
          "font": {
           "color": "white",
           "size": 16
          },
          "showarrow": false,
          "text": "0.72",
          "x": "EngineCapacity",
          "y": "EnginePower"
         },
         {
          "font": {
           "color": "white",
           "size": 16
          },
          "showarrow": false,
          "text": "1.0",
          "x": "EnginePower",
          "y": "EnginePower"
         },
         {
          "font": {
           "color": "black",
           "size": 16
          },
          "showarrow": false,
          "text": "0.42",
          "x": "ElectricConsumption",
          "y": "EnginePower"
         },
         {
          "font": {
           "color": "black",
           "size": 16
          },
          "showarrow": false,
          "text": "-0.04",
          "x": "InnovativeEmissionsReductionWltp",
          "y": "EnginePower"
         },
         {
          "font": {
           "color": "white",
           "size": 16
          },
          "showarrow": false,
          "text": "-0.55",
          "x": "ElectricRange",
          "y": "EnginePower"
         },
         {
          "font": {
           "color": "black",
           "size": 16
          },
          "showarrow": false,
          "text": "0.47",
          "x": "MassRunningOrder",
          "y": "ElectricConsumption"
         },
         {
          "font": {
           "color": "black",
           "size": 16
          },
          "showarrow": false,
          "text": "0.5",
          "x": "WltpTestMass",
          "y": "ElectricConsumption"
         },
         {
          "font": {
           "color": "black",
           "size": 16
          },
          "showarrow": false,
          "text": "0.45",
          "x": "Co2EmissionsWltp",
          "y": "ElectricConsumption"
         },
         {
          "font": {
           "color": "black",
           "size": 16
          },
          "showarrow": false,
          "text": "0.32",
          "x": "BaseWheel",
          "y": "ElectricConsumption"
         },
         {
          "font": {
           "color": "black",
           "size": 16
          },
          "showarrow": false,
          "text": "0.33",
          "x": "AxleWidthSteering",
          "y": "ElectricConsumption"
         },
         {
          "font": {
           "color": "black",
           "size": 16
          },
          "showarrow": false,
          "text": "0.42",
          "x": "EngineCapacity",
          "y": "ElectricConsumption"
         },
         {
          "font": {
           "color": "black",
           "size": 16
          },
          "showarrow": false,
          "text": "0.42",
          "x": "EnginePower",
          "y": "ElectricConsumption"
         },
         {
          "font": {
           "color": "white",
           "size": 16
          },
          "showarrow": false,
          "text": "1.0",
          "x": "ElectricConsumption",
          "y": "ElectricConsumption"
         },
         {
          "font": {
           "color": "black",
           "size": 16
          },
          "showarrow": false,
          "text": "nan",
          "x": "InnovativeEmissionsReductionWltp",
          "y": "ElectricConsumption"
         },
         {
          "font": {
           "color": "black",
           "size": 16
          },
          "showarrow": false,
          "text": "-0.33",
          "x": "ElectricRange",
          "y": "ElectricConsumption"
         },
         {
          "font": {
           "color": "black",
           "size": 16
          },
          "showarrow": false,
          "text": "-0.29",
          "x": "MassRunningOrder",
          "y": "InnovativeEmissionsReductionWltp"
         },
         {
          "font": {
           "color": "black",
           "size": 16
          },
          "showarrow": false,
          "text": "-0.29",
          "x": "WltpTestMass",
          "y": "InnovativeEmissionsReductionWltp"
         },
         {
          "font": {
           "color": "black",
           "size": 16
          },
          "showarrow": false,
          "text": "0.09",
          "x": "Co2EmissionsWltp",
          "y": "InnovativeEmissionsReductionWltp"
         },
         {
          "font": {
           "color": "black",
           "size": 16
          },
          "showarrow": false,
          "text": "-0.21",
          "x": "BaseWheel",
          "y": "InnovativeEmissionsReductionWltp"
         },
         {
          "font": {
           "color": "black",
           "size": 16
          },
          "showarrow": false,
          "text": "-0.14",
          "x": "AxleWidthSteering",
          "y": "InnovativeEmissionsReductionWltp"
         },
         {
          "font": {
           "color": "black",
           "size": 16
          },
          "showarrow": false,
          "text": "-0.32",
          "x": "EngineCapacity",
          "y": "InnovativeEmissionsReductionWltp"
         },
         {
          "font": {
           "color": "black",
           "size": 16
          },
          "showarrow": false,
          "text": "-0.04",
          "x": "EnginePower",
          "y": "InnovativeEmissionsReductionWltp"
         },
         {
          "font": {
           "color": "black",
           "size": 16
          },
          "showarrow": false,
          "text": "nan",
          "x": "ElectricConsumption",
          "y": "InnovativeEmissionsReductionWltp"
         },
         {
          "font": {
           "color": "white",
           "size": 16
          },
          "showarrow": false,
          "text": "1.0",
          "x": "InnovativeEmissionsReductionWltp",
          "y": "InnovativeEmissionsReductionWltp"
         },
         {
          "font": {
           "color": "black",
           "size": 16
          },
          "showarrow": false,
          "text": "nan",
          "x": "ElectricRange",
          "y": "InnovativeEmissionsReductionWltp"
         },
         {
          "font": {
           "color": "black",
           "size": 16
          },
          "showarrow": false,
          "text": "-0.18",
          "x": "MassRunningOrder",
          "y": "ElectricRange"
         },
         {
          "font": {
           "color": "black",
           "size": 16
          },
          "showarrow": false,
          "text": "-0.21",
          "x": "WltpTestMass",
          "y": "ElectricRange"
         },
         {
          "font": {
           "color": "white",
           "size": 16
          },
          "showarrow": false,
          "text": "-0.87",
          "x": "Co2EmissionsWltp",
          "y": "ElectricRange"
         },
         {
          "font": {
           "color": "black",
           "size": 16
          },
          "showarrow": false,
          "text": "0.02",
          "x": "BaseWheel",
          "y": "ElectricRange"
         },
         {
          "font": {
           "color": "black",
           "size": 16
          },
          "showarrow": false,
          "text": "-0.29",
          "x": "AxleWidthSteering",
          "y": "ElectricRange"
         },
         {
          "font": {
           "color": "black",
           "size": 16
          },
          "showarrow": false,
          "text": "-0.1",
          "x": "EngineCapacity",
          "y": "ElectricRange"
         },
         {
          "font": {
           "color": "white",
           "size": 16
          },
          "showarrow": false,
          "text": "-0.55",
          "x": "EnginePower",
          "y": "ElectricRange"
         },
         {
          "font": {
           "color": "black",
           "size": 16
          },
          "showarrow": false,
          "text": "-0.33",
          "x": "ElectricConsumption",
          "y": "ElectricRange"
         },
         {
          "font": {
           "color": "black",
           "size": 16
          },
          "showarrow": false,
          "text": "nan",
          "x": "InnovativeEmissionsReductionWltp",
          "y": "ElectricRange"
         },
         {
          "font": {
           "color": "white",
           "size": 16
          },
          "showarrow": false,
          "text": "1.0",
          "x": "ElectricRange",
          "y": "ElectricRange"
         }
        ],
        "autosize": false,
        "height": 850,
        "template": {
         "data": {
          "bar": [
           {
            "error_x": {
             "color": "#2a3f5f"
            },
            "error_y": {
             "color": "#2a3f5f"
            },
            "marker": {
             "line": {
              "color": "#E5ECF6",
              "width": 0.5
             },
             "pattern": {
              "fillmode": "overlay",
              "size": 10,
              "solidity": 0.2
             }
            },
            "type": "bar"
           }
          ],
          "barpolar": [
           {
            "marker": {
             "line": {
              "color": "#E5ECF6",
              "width": 0.5
             },
             "pattern": {
              "fillmode": "overlay",
              "size": 10,
              "solidity": 0.2
             }
            },
            "type": "barpolar"
           }
          ],
          "carpet": [
           {
            "aaxis": {
             "endlinecolor": "#2a3f5f",
             "gridcolor": "white",
             "linecolor": "white",
             "minorgridcolor": "white",
             "startlinecolor": "#2a3f5f"
            },
            "baxis": {
             "endlinecolor": "#2a3f5f",
             "gridcolor": "white",
             "linecolor": "white",
             "minorgridcolor": "white",
             "startlinecolor": "#2a3f5f"
            },
            "type": "carpet"
           }
          ],
          "choropleth": [
           {
            "colorbar": {
             "outlinewidth": 0,
             "ticks": ""
            },
            "type": "choropleth"
           }
          ],
          "contour": [
           {
            "colorbar": {
             "outlinewidth": 0,
             "ticks": ""
            },
            "colorscale": [
             [
              0,
              "#0d0887"
             ],
             [
              0.1111111111111111,
              "#46039f"
             ],
             [
              0.2222222222222222,
              "#7201a8"
             ],
             [
              0.3333333333333333,
              "#9c179e"
             ],
             [
              0.4444444444444444,
              "#bd3786"
             ],
             [
              0.5555555555555556,
              "#d8576b"
             ],
             [
              0.6666666666666666,
              "#ed7953"
             ],
             [
              0.7777777777777778,
              "#fb9f3a"
             ],
             [
              0.8888888888888888,
              "#fdca26"
             ],
             [
              1,
              "#f0f921"
             ]
            ],
            "type": "contour"
           }
          ],
          "contourcarpet": [
           {
            "colorbar": {
             "outlinewidth": 0,
             "ticks": ""
            },
            "type": "contourcarpet"
           }
          ],
          "heatmap": [
           {
            "colorbar": {
             "outlinewidth": 0,
             "ticks": ""
            },
            "colorscale": [
             [
              0,
              "#0d0887"
             ],
             [
              0.1111111111111111,
              "#46039f"
             ],
             [
              0.2222222222222222,
              "#7201a8"
             ],
             [
              0.3333333333333333,
              "#9c179e"
             ],
             [
              0.4444444444444444,
              "#bd3786"
             ],
             [
              0.5555555555555556,
              "#d8576b"
             ],
             [
              0.6666666666666666,
              "#ed7953"
             ],
             [
              0.7777777777777778,
              "#fb9f3a"
             ],
             [
              0.8888888888888888,
              "#fdca26"
             ],
             [
              1,
              "#f0f921"
             ]
            ],
            "type": "heatmap"
           }
          ],
          "heatmapgl": [
           {
            "colorbar": {
             "outlinewidth": 0,
             "ticks": ""
            },
            "colorscale": [
             [
              0,
              "#0d0887"
             ],
             [
              0.1111111111111111,
              "#46039f"
             ],
             [
              0.2222222222222222,
              "#7201a8"
             ],
             [
              0.3333333333333333,
              "#9c179e"
             ],
             [
              0.4444444444444444,
              "#bd3786"
             ],
             [
              0.5555555555555556,
              "#d8576b"
             ],
             [
              0.6666666666666666,
              "#ed7953"
             ],
             [
              0.7777777777777778,
              "#fb9f3a"
             ],
             [
              0.8888888888888888,
              "#fdca26"
             ],
             [
              1,
              "#f0f921"
             ]
            ],
            "type": "heatmapgl"
           }
          ],
          "histogram": [
           {
            "marker": {
             "pattern": {
              "fillmode": "overlay",
              "size": 10,
              "solidity": 0.2
             }
            },
            "type": "histogram"
           }
          ],
          "histogram2d": [
           {
            "colorbar": {
             "outlinewidth": 0,
             "ticks": ""
            },
            "colorscale": [
             [
              0,
              "#0d0887"
             ],
             [
              0.1111111111111111,
              "#46039f"
             ],
             [
              0.2222222222222222,
              "#7201a8"
             ],
             [
              0.3333333333333333,
              "#9c179e"
             ],
             [
              0.4444444444444444,
              "#bd3786"
             ],
             [
              0.5555555555555556,
              "#d8576b"
             ],
             [
              0.6666666666666666,
              "#ed7953"
             ],
             [
              0.7777777777777778,
              "#fb9f3a"
             ],
             [
              0.8888888888888888,
              "#fdca26"
             ],
             [
              1,
              "#f0f921"
             ]
            ],
            "type": "histogram2d"
           }
          ],
          "histogram2dcontour": [
           {
            "colorbar": {
             "outlinewidth": 0,
             "ticks": ""
            },
            "colorscale": [
             [
              0,
              "#0d0887"
             ],
             [
              0.1111111111111111,
              "#46039f"
             ],
             [
              0.2222222222222222,
              "#7201a8"
             ],
             [
              0.3333333333333333,
              "#9c179e"
             ],
             [
              0.4444444444444444,
              "#bd3786"
             ],
             [
              0.5555555555555556,
              "#d8576b"
             ],
             [
              0.6666666666666666,
              "#ed7953"
             ],
             [
              0.7777777777777778,
              "#fb9f3a"
             ],
             [
              0.8888888888888888,
              "#fdca26"
             ],
             [
              1,
              "#f0f921"
             ]
            ],
            "type": "histogram2dcontour"
           }
          ],
          "mesh3d": [
           {
            "colorbar": {
             "outlinewidth": 0,
             "ticks": ""
            },
            "type": "mesh3d"
           }
          ],
          "parcoords": [
           {
            "line": {
             "colorbar": {
              "outlinewidth": 0,
              "ticks": ""
             }
            },
            "type": "parcoords"
           }
          ],
          "pie": [
           {
            "automargin": true,
            "type": "pie"
           }
          ],
          "scatter": [
           {
            "fillpattern": {
             "fillmode": "overlay",
             "size": 10,
             "solidity": 0.2
            },
            "type": "scatter"
           }
          ],
          "scatter3d": [
           {
            "line": {
             "colorbar": {
              "outlinewidth": 0,
              "ticks": ""
             }
            },
            "marker": {
             "colorbar": {
              "outlinewidth": 0,
              "ticks": ""
             }
            },
            "type": "scatter3d"
           }
          ],
          "scattercarpet": [
           {
            "marker": {
             "colorbar": {
              "outlinewidth": 0,
              "ticks": ""
             }
            },
            "type": "scattercarpet"
           }
          ],
          "scattergeo": [
           {
            "marker": {
             "colorbar": {
              "outlinewidth": 0,
              "ticks": ""
             }
            },
            "type": "scattergeo"
           }
          ],
          "scattergl": [
           {
            "marker": {
             "colorbar": {
              "outlinewidth": 0,
              "ticks": ""
             }
            },
            "type": "scattergl"
           }
          ],
          "scattermapbox": [
           {
            "marker": {
             "colorbar": {
              "outlinewidth": 0,
              "ticks": ""
             }
            },
            "type": "scattermapbox"
           }
          ],
          "scatterpolar": [
           {
            "marker": {
             "colorbar": {
              "outlinewidth": 0,
              "ticks": ""
             }
            },
            "type": "scatterpolar"
           }
          ],
          "scatterpolargl": [
           {
            "marker": {
             "colorbar": {
              "outlinewidth": 0,
              "ticks": ""
             }
            },
            "type": "scatterpolargl"
           }
          ],
          "scatterternary": [
           {
            "marker": {
             "colorbar": {
              "outlinewidth": 0,
              "ticks": ""
             }
            },
            "type": "scatterternary"
           }
          ],
          "surface": [
           {
            "colorbar": {
             "outlinewidth": 0,
             "ticks": ""
            },
            "colorscale": [
             [
              0,
              "#0d0887"
             ],
             [
              0.1111111111111111,
              "#46039f"
             ],
             [
              0.2222222222222222,
              "#7201a8"
             ],
             [
              0.3333333333333333,
              "#9c179e"
             ],
             [
              0.4444444444444444,
              "#bd3786"
             ],
             [
              0.5555555555555556,
              "#d8576b"
             ],
             [
              0.6666666666666666,
              "#ed7953"
             ],
             [
              0.7777777777777778,
              "#fb9f3a"
             ],
             [
              0.8888888888888888,
              "#fdca26"
             ],
             [
              1,
              "#f0f921"
             ]
            ],
            "type": "surface"
           }
          ],
          "table": [
           {
            "cells": {
             "fill": {
              "color": "#EBF0F8"
             },
             "line": {
              "color": "white"
             }
            },
            "header": {
             "fill": {
              "color": "#C8D4E3"
             },
             "line": {
              "color": "white"
             }
            },
            "type": "table"
           }
          ]
         },
         "layout": {
          "annotationdefaults": {
           "arrowcolor": "#2a3f5f",
           "arrowhead": 0,
           "arrowwidth": 1
          },
          "autotypenumbers": "strict",
          "coloraxis": {
           "colorbar": {
            "outlinewidth": 0,
            "ticks": ""
           }
          },
          "colorscale": {
           "diverging": [
            [
             0,
             "#8e0152"
            ],
            [
             0.1,
             "#c51b7d"
            ],
            [
             0.2,
             "#de77ae"
            ],
            [
             0.3,
             "#f1b6da"
            ],
            [
             0.4,
             "#fde0ef"
            ],
            [
             0.5,
             "#f7f7f7"
            ],
            [
             0.6,
             "#e6f5d0"
            ],
            [
             0.7,
             "#b8e186"
            ],
            [
             0.8,
             "#7fbc41"
            ],
            [
             0.9,
             "#4d9221"
            ],
            [
             1,
             "#276419"
            ]
           ],
           "sequential": [
            [
             0,
             "#0d0887"
            ],
            [
             0.1111111111111111,
             "#46039f"
            ],
            [
             0.2222222222222222,
             "#7201a8"
            ],
            [
             0.3333333333333333,
             "#9c179e"
            ],
            [
             0.4444444444444444,
             "#bd3786"
            ],
            [
             0.5555555555555556,
             "#d8576b"
            ],
            [
             0.6666666666666666,
             "#ed7953"
            ],
            [
             0.7777777777777778,
             "#fb9f3a"
            ],
            [
             0.8888888888888888,
             "#fdca26"
            ],
            [
             1,
             "#f0f921"
            ]
           ],
           "sequentialminus": [
            [
             0,
             "#0d0887"
            ],
            [
             0.1111111111111111,
             "#46039f"
            ],
            [
             0.2222222222222222,
             "#7201a8"
            ],
            [
             0.3333333333333333,
             "#9c179e"
            ],
            [
             0.4444444444444444,
             "#bd3786"
            ],
            [
             0.5555555555555556,
             "#d8576b"
            ],
            [
             0.6666666666666666,
             "#ed7953"
            ],
            [
             0.7777777777777778,
             "#fb9f3a"
            ],
            [
             0.8888888888888888,
             "#fdca26"
            ],
            [
             1,
             "#f0f921"
            ]
           ]
          },
          "colorway": [
           "#636efa",
           "#EF553B",
           "#00cc96",
           "#ab63fa",
           "#FFA15A",
           "#19d3f3",
           "#FF6692",
           "#B6E880",
           "#FF97FF",
           "#FECB52"
          ],
          "font": {
           "color": "#2a3f5f"
          },
          "geo": {
           "bgcolor": "white",
           "lakecolor": "white",
           "landcolor": "#E5ECF6",
           "showlakes": true,
           "showland": true,
           "subunitcolor": "white"
          },
          "hoverlabel": {
           "align": "left"
          },
          "hovermode": "closest",
          "mapbox": {
           "style": "light"
          },
          "paper_bgcolor": "white",
          "plot_bgcolor": "#E5ECF6",
          "polar": {
           "angularaxis": {
            "gridcolor": "white",
            "linecolor": "white",
            "ticks": ""
           },
           "bgcolor": "#E5ECF6",
           "radialaxis": {
            "gridcolor": "white",
            "linecolor": "white",
            "ticks": ""
           }
          },
          "scene": {
           "xaxis": {
            "backgroundcolor": "#E5ECF6",
            "gridcolor": "white",
            "gridwidth": 2,
            "linecolor": "white",
            "showbackground": true,
            "ticks": "",
            "zerolinecolor": "white"
           },
           "yaxis": {
            "backgroundcolor": "#E5ECF6",
            "gridcolor": "white",
            "gridwidth": 2,
            "linecolor": "white",
            "showbackground": true,
            "ticks": "",
            "zerolinecolor": "white"
           },
           "zaxis": {
            "backgroundcolor": "#E5ECF6",
            "gridcolor": "white",
            "gridwidth": 2,
            "linecolor": "white",
            "showbackground": true,
            "ticks": "",
            "zerolinecolor": "white"
           }
          },
          "shapedefaults": {
           "line": {
            "color": "#2a3f5f"
           }
          },
          "ternary": {
           "aaxis": {
            "gridcolor": "white",
            "linecolor": "white",
            "ticks": ""
           },
           "baxis": {
            "gridcolor": "white",
            "linecolor": "white",
            "ticks": ""
           },
           "bgcolor": "#E5ECF6",
           "caxis": {
            "gridcolor": "white",
            "linecolor": "white",
            "ticks": ""
           }
          },
          "title": {
           "x": 0.05
          },
          "xaxis": {
           "automargin": true,
           "gridcolor": "white",
           "linecolor": "white",
           "ticks": "",
           "title": {
            "standoff": 15
           },
           "zerolinecolor": "white",
           "zerolinewidth": 2
          },
          "yaxis": {
           "automargin": true,
           "gridcolor": "white",
           "linecolor": "white",
           "ticks": "",
           "title": {
            "standoff": 15
           },
           "zerolinecolor": "white",
           "zerolinewidth": 2
          }
         }
        },
        "title": {
         "font": {
          "size": 24
         },
         "text": "Corrélation des variables quantitatives",
         "x": 0.55
        },
        "width": 1000,
        "xaxis": {
         "autorange": "reversed",
         "tickfont": {
          "size": 14
         }
        },
        "yaxis": {
         "tickfont": {
          "size": 14
         }
        }
       }
      }
     },
     "metadata": {},
     "output_type": "display_data"
    }
   ],
   "source": [
    "co2.viz.plot_heatmap(df.drop(columns=['ID', 'FuelConsumption', 'Month']))"
   ]
  },
  {
   "cell_type": "code",
   "execution_count": 25,
   "metadata": {},
   "outputs": [],
   "source": [
    "def column_remover(df, columns=None):\n",
    "    columns_to_drop = ['Country', 'Type', 'Variant', 'Version', 'Make', 'CommercialName', 'VehicleCategory',\n",
    "                        'TotalNewRegistrations', 'Co2EmissionsNedc', 'WltpTestMass','FuelMode', \n",
    "                        'ElectricConsumption', 'InnovativeEmissionsReduction', 'DeviationFactor', \n",
    "                        'VerificationFactor', 'Status','RegistrationYear', 'RegistrationDate',\n",
    "                        'Pool', 'CategoryOf']\n",
    "    if columns is None:\n",
    "        df = df.drop(columns=[col for col in columns_to_drop if col in df.columns])\n",
    "    else:\n",
    "        df = df.drop(columns=[col for col in columns if col in df.columns])\n",
    "    \n",
    "    return df\n",
    "\n",
    "\n",
    "def correct_fueltype(df):\n",
    "    df.loc[df['FuelType'] == 'petrol/electric', 'FuelType'] = 'PETROL/ELECTRIC'\n",
    "    df.loc[df['FuelType'] == 'E85', 'FuelType'] = 'ETHANOL'\n",
    "    df.loc[df['FuelType'] == 'NG-BIOMETHANE', 'FuelType'] = 'NATURALGAS'\n",
    "    return df\n",
    "\n",
    "def remove_fueltype(df, keep_fossil=False):\n",
    "    if keep_fossil:\n",
    "        df = df.drop(columns=['FuelType'])\n",
    "    else:\n",
    "        df.drop(df.loc[df['FuelType'].isin(['HYDROGEN', 'ELECTRIC', 'UNKNOWN'])].index, inplace=True)\n",
    "    return df\n",
    "\n",
    "def standardize_innovtech(df, drop=True):\n",
    "    if drop:\n",
    "        df = df.drop(columns=['InnovativeTechnology'])\n",
    "    else:\n",
    "        df['InnovativeTechnology'].fillna(0, inplace=True)\n",
    "        df.loc[df['InnovativeTechnology'] != 0, 'InnovativeTechnology'] = 1\n",
    "        df['InnovativeTechnology'] = df['InnovativeTechnology'].astype(int)\n",
    "    return df\n",
    "    \n",
    "    \n",
    "def drop_residual_incomplete_rows(df):\n",
    "    for col in df.columns:\n",
    "        if df[col].isna().mean() <= 0.05:\n",
    "            df = df[df[col].notna()]\n",
    "    return df\n",
    "    \n",
    "    \n",
    "def ml_preprocessing(df):\n",
    "    df = column_remover(df)\n",
    "    df = remove_fueltype(df)\n",
    "    df = standardize_innovtech(df)\n",
    "    df = drop_residual_incomplete_rows(df)\n",
    "    return df\n",
    "\n",
    "\n",
    "    "
   ]
  },
  {
   "cell_type": "code",
   "execution_count": 26,
   "metadata": {},
   "outputs": [
    {
     "data": {
      "text/html": [
       "<style type=\"text/css\">\n",
       "#T_5b4cd th {\n",
       "  background-color: steelblue;\n",
       "  color: white;\n",
       "}\n",
       "#T_5b4cd tr:nth-of-type(odd) {\n",
       "  background-color: aliceblue;\n",
       "}\n",
       "#T_5b4cd tr:nth-of-type(even) {\n",
       "  background-color: white;\n",
       "}\n",
       "</style>\n",
       "<table id=\"T_5b4cd\">\n",
       "  <thead>\n",
       "    <tr>\n",
       "      <th class=\"blank level0\" >&nbsp;</th>\n",
       "      <th id=\"T_5b4cd_level0_col0\" class=\"col_heading level0 col0\" >ID</th>\n",
       "      <th id=\"T_5b4cd_level0_col1\" class=\"col_heading level0 col1\" >ManufacturerName</th>\n",
       "      <th id=\"T_5b4cd_level0_col2\" class=\"col_heading level0 col2\" >ManufNameOem</th>\n",
       "      <th id=\"T_5b4cd_level0_col3\" class=\"col_heading level0 col3\" >MassRunningOrder</th>\n",
       "      <th id=\"T_5b4cd_level0_col4\" class=\"col_heading level0 col4\" >Co2EmissionsWltp</th>\n",
       "      <th id=\"T_5b4cd_level0_col5\" class=\"col_heading level0 col5\" >BaseWheel</th>\n",
       "      <th id=\"T_5b4cd_level0_col6\" class=\"col_heading level0 col6\" >AxleWidthSteering</th>\n",
       "      <th id=\"T_5b4cd_level0_col7\" class=\"col_heading level0 col7\" >FuelType</th>\n",
       "      <th id=\"T_5b4cd_level0_col8\" class=\"col_heading level0 col8\" >EngineCapacity</th>\n",
       "      <th id=\"T_5b4cd_level0_col9\" class=\"col_heading level0 col9\" >EnginePower</th>\n",
       "      <th id=\"T_5b4cd_level0_col10\" class=\"col_heading level0 col10\" >InnovativeEmissionsReductionWltp</th>\n",
       "      <th id=\"T_5b4cd_level0_col11\" class=\"col_heading level0 col11\" >FuelConsumption</th>\n",
       "      <th id=\"T_5b4cd_level0_col12\" class=\"col_heading level0 col12\" >ElectricRange</th>\n",
       "      <th id=\"T_5b4cd_level0_col13\" class=\"col_heading level0 col13\" >Month</th>\n",
       "    </tr>\n",
       "  </thead>\n",
       "  <tbody>\n",
       "    <tr>\n",
       "      <th id=\"T_5b4cd_level0_row0\" class=\"row_heading level0 row0\" >1</th>\n",
       "      <td id=\"T_5b4cd_row0_col0\" class=\"data row0 col0\" >55417592</td>\n",
       "      <td id=\"T_5b4cd_row0_col1\" class=\"data row0 col1\" >VOLKSWAGEN</td>\n",
       "      <td id=\"T_5b4cd_row0_col2\" class=\"data row0 col2\" >VOLKSWAGEN AG</td>\n",
       "      <td id=\"T_5b4cd_row0_col3\" class=\"data row0 col3\" >1819.000</td>\n",
       "      <td id=\"T_5b4cd_row0_col4\" class=\"data row0 col4\" >43.000</td>\n",
       "      <td id=\"T_5b4cd_row0_col5\" class=\"data row0 col5\" >2680.000</td>\n",
       "      <td id=\"T_5b4cd_row0_col6\" class=\"data row0 col6\" >1576.000</td>\n",
       "      <td id=\"T_5b4cd_row0_col7\" class=\"data row0 col7\" >PETROL/ELECTRIC</td>\n",
       "      <td id=\"T_5b4cd_row0_col8\" class=\"data row0 col8\" >1395.000</td>\n",
       "      <td id=\"T_5b4cd_row0_col9\" class=\"data row0 col9\" >110.000</td>\n",
       "      <td id=\"T_5b4cd_row0_col10\" class=\"data row0 col10\" >nan</td>\n",
       "      <td id=\"T_5b4cd_row0_col11\" class=\"data row0 col11\" >1.800</td>\n",
       "      <td id=\"T_5b4cd_row0_col12\" class=\"data row0 col12\" >47.000</td>\n",
       "      <td id=\"T_5b4cd_row0_col13\" class=\"data row0 col13\" >11</td>\n",
       "    </tr>\n",
       "    <tr>\n",
       "      <th id=\"T_5b4cd_level0_row1\" class=\"row_heading level0 row1\" >2</th>\n",
       "      <td id=\"T_5b4cd_row1_col0\" class=\"data row1 col0\" >54605072</td>\n",
       "      <td id=\"T_5b4cd_row1_col1\" class=\"data row1 col1\" >AUTOMOBILES PEUGEOT</td>\n",
       "      <td id=\"T_5b4cd_row1_col2\" class=\"data row1 col2\" >AUTOMOBILES PEUGEOT</td>\n",
       "      <td id=\"T_5b4cd_row1_col3\" class=\"data row1 col3\" >1504.000</td>\n",
       "      <td id=\"T_5b4cd_row1_col4\" class=\"data row1 col4\" >135.000</td>\n",
       "      <td id=\"T_5b4cd_row1_col5\" class=\"data row1 col5\" >2675.000</td>\n",
       "      <td id=\"T_5b4cd_row1_col6\" class=\"data row1 col6\" >1601.000</td>\n",
       "      <td id=\"T_5b4cd_row1_col7\" class=\"data row1 col7\" >DIESEL</td>\n",
       "      <td id=\"T_5b4cd_row1_col8\" class=\"data row1 col8\" >1499.000</td>\n",
       "      <td id=\"T_5b4cd_row1_col9\" class=\"data row1 col9\" >96.000</td>\n",
       "      <td id=\"T_5b4cd_row1_col10\" class=\"data row1 col10\" >1.600</td>\n",
       "      <td id=\"T_5b4cd_row1_col11\" class=\"data row1 col11\" >5.100</td>\n",
       "      <td id=\"T_5b4cd_row1_col12\" class=\"data row1 col12\" >nan</td>\n",
       "      <td id=\"T_5b4cd_row1_col13\" class=\"data row1 col13\" >9</td>\n",
       "    </tr>\n",
       "    <tr>\n",
       "      <th id=\"T_5b4cd_level0_row2\" class=\"row_heading level0 row2\" >3</th>\n",
       "      <td id=\"T_5b4cd_row2_col0\" class=\"data row2 col0\" >54710048</td>\n",
       "      <td id=\"T_5b4cd_row2_col1\" class=\"data row2 col1\" >AUTOMOBILES CITROEN</td>\n",
       "      <td id=\"T_5b4cd_row2_col2\" class=\"data row2 col2\" >AUTOMOBILES CITROEN</td>\n",
       "      <td id=\"T_5b4cd_row2_col3\" class=\"data row2 col3\" >1055.000</td>\n",
       "      <td id=\"T_5b4cd_row2_col4\" class=\"data row2 col4\" >123.000</td>\n",
       "      <td id=\"T_5b4cd_row2_col5\" class=\"data row2 col5\" >2539.000</td>\n",
       "      <td id=\"T_5b4cd_row2_col6\" class=\"data row2 col6\" >1483.000</td>\n",
       "      <td id=\"T_5b4cd_row2_col7\" class=\"data row2 col7\" >PETROL</td>\n",
       "      <td id=\"T_5b4cd_row2_col8\" class=\"data row2 col8\" >1199.000</td>\n",
       "      <td id=\"T_5b4cd_row2_col9\" class=\"data row2 col9\" >61.000</td>\n",
       "      <td id=\"T_5b4cd_row2_col10\" class=\"data row2 col10\" >nan</td>\n",
       "      <td id=\"T_5b4cd_row2_col11\" class=\"data row2 col11\" >nan</td>\n",
       "      <td id=\"T_5b4cd_row2_col12\" class=\"data row2 col12\" >nan</td>\n",
       "      <td id=\"T_5b4cd_row2_col13\" class=\"data row2 col13\" >1</td>\n",
       "    </tr>\n",
       "    <tr>\n",
       "      <th id=\"T_5b4cd_level0_row3\" class=\"row_heading level0 row3\" >4</th>\n",
       "      <td id=\"T_5b4cd_row3_col0\" class=\"data row3 col0\" >54265416</td>\n",
       "      <td id=\"T_5b4cd_row3_col1\" class=\"data row3 col1\" >RENAULT</td>\n",
       "      <td id=\"T_5b4cd_row3_col2\" class=\"data row3 col2\" >RENAULT SAS</td>\n",
       "      <td id=\"T_5b4cd_row3_col3\" class=\"data row3 col3\" >1371.000</td>\n",
       "      <td id=\"T_5b4cd_row3_col4\" class=\"data row3 col4\" >127.000</td>\n",
       "      <td id=\"T_5b4cd_row3_col5\" class=\"data row3 col5\" >2673.000</td>\n",
       "      <td id=\"T_5b4cd_row3_col6\" class=\"data row3 col6\" >1563.000</td>\n",
       "      <td id=\"T_5b4cd_row3_col7\" class=\"data row3 col7\" >LPG</td>\n",
       "      <td id=\"T_5b4cd_row3_col8\" class=\"data row3 col8\" >999.000</td>\n",
       "      <td id=\"T_5b4cd_row3_col9\" class=\"data row3 col9\" >74.000</td>\n",
       "      <td id=\"T_5b4cd_row3_col10\" class=\"data row3 col10\" >0.800</td>\n",
       "      <td id=\"T_5b4cd_row3_col11\" class=\"data row3 col11\" >7.000</td>\n",
       "      <td id=\"T_5b4cd_row3_col12\" class=\"data row3 col12\" >nan</td>\n",
       "      <td id=\"T_5b4cd_row3_col13\" class=\"data row3 col13\" >9</td>\n",
       "    </tr>\n",
       "    <tr>\n",
       "      <th id=\"T_5b4cd_level0_row4\" class=\"row_heading level0 row4\" >5</th>\n",
       "      <td id=\"T_5b4cd_row4_col0\" class=\"data row4 col0\" >54187320</td>\n",
       "      <td id=\"T_5b4cd_row4_col1\" class=\"data row4 col1\" >DACIA</td>\n",
       "      <td id=\"T_5b4cd_row4_col2\" class=\"data row4 col2\" >AUTOMOBILE DACIA SA</td>\n",
       "      <td id=\"T_5b4cd_row4_col3\" class=\"data row4 col3\" >1171.000</td>\n",
       "      <td id=\"T_5b4cd_row4_col4\" class=\"data row4 col4\" >128.000</td>\n",
       "      <td id=\"T_5b4cd_row4_col5\" class=\"data row4 col5\" >2604.000</td>\n",
       "      <td id=\"T_5b4cd_row4_col6\" class=\"data row4 col6\" >1520.000</td>\n",
       "      <td id=\"T_5b4cd_row4_col7\" class=\"data row4 col7\" >PETROL</td>\n",
       "      <td id=\"T_5b4cd_row4_col8\" class=\"data row4 col8\" >999.000</td>\n",
       "      <td id=\"T_5b4cd_row4_col9\" class=\"data row4 col9\" >67.000</td>\n",
       "      <td id=\"T_5b4cd_row4_col10\" class=\"data row4 col10\" >1.800</td>\n",
       "      <td id=\"T_5b4cd_row4_col11\" class=\"data row4 col11\" >5.600</td>\n",
       "      <td id=\"T_5b4cd_row4_col12\" class=\"data row4 col12\" >nan</td>\n",
       "      <td id=\"T_5b4cd_row4_col13\" class=\"data row4 col13\" >11</td>\n",
       "    </tr>\n",
       "  </tbody>\n",
       "</table>\n"
      ],
      "text/plain": [
       "<pandas.io.formats.style.Styler at 0x7fa23c3da220>"
      ]
     },
     "metadata": {},
     "output_type": "display_data"
    }
   ],
   "source": [
    "df = ml_preprocessing(df)\n",
    "co2.styles.displayer(df, 5)"
   ]
  },
  {
   "cell_type": "code",
   "execution_count": 27,
   "metadata": {},
   "outputs": [
    {
     "data": {
      "text/html": [
       "<style type=\"text/css\">\n",
       "#T_6bdc2 th {\n",
       "  background-color: steelblue;\n",
       "  color: white;\n",
       "}\n",
       "#T_6bdc2 tr:nth-of-type(odd) {\n",
       "  background-color: aliceblue;\n",
       "}\n",
       "#T_6bdc2 tr:nth-of-type(even) {\n",
       "  background-color: white;\n",
       "}\n",
       "#T_6bdc2_row0_col1 {\n",
       "  width: 10em;\n",
       "  background: linear-gradient(90deg, lightcoral 100.0%, transparent 100.0%);\n",
       "}\n",
       "#T_6bdc2_row1_col1 {\n",
       "  width: 10em;\n",
       "  background: linear-gradient(90deg, lightcoral 31.7%, transparent 31.7%);\n",
       "}\n",
       "#T_6bdc2_row2_col1 {\n",
       "  width: 10em;\n",
       "  background: linear-gradient(90deg, lightcoral 15.3%, transparent 15.3%);\n",
       "}\n",
       "#T_6bdc2_row3_col1, #T_6bdc2_row4_col1, #T_6bdc2_row5_col1, #T_6bdc2_row6_col1, #T_6bdc2_row7_col1, #T_6bdc2_row8_col1, #T_6bdc2_row9_col1, #T_6bdc2_row10_col1, #T_6bdc2_row11_col1, #T_6bdc2_row12_col1, #T_6bdc2_row13_col1 {\n",
       "  width: 10em;\n",
       "}\n",
       "</style>\n",
       "<table id=\"T_6bdc2\">\n",
       "  <thead>\n",
       "    <tr>\n",
       "      <th class=\"blank level0\" >&nbsp;</th>\n",
       "      <th id=\"T_6bdc2_level0_col0\" class=\"col_heading level0 col0\" >Colonne</th>\n",
       "      <th id=\"T_6bdc2_level0_col1\" class=\"col_heading level0 col1\" >Valeurs manquantes (%)</th>\n",
       "    </tr>\n",
       "  </thead>\n",
       "  <tbody>\n",
       "    <tr>\n",
       "      <th id=\"T_6bdc2_level0_row0\" class=\"row_heading level0 row0\" >0</th>\n",
       "      <td id=\"T_6bdc2_row0_col0\" class=\"data row0 col0\" >ElectricRange</td>\n",
       "      <td id=\"T_6bdc2_row0_col1\" class=\"data row0 col1\" >91.68%</td>\n",
       "    </tr>\n",
       "    <tr>\n",
       "      <th id=\"T_6bdc2_level0_row1\" class=\"row_heading level0 row1\" >1</th>\n",
       "      <td id=\"T_6bdc2_row1_col0\" class=\"data row1 col0\" >InnovativeEmissionsReductionWltp</td>\n",
       "      <td id=\"T_6bdc2_row1_col1\" class=\"data row1 col1\" >29.08%</td>\n",
       "    </tr>\n",
       "    <tr>\n",
       "      <th id=\"T_6bdc2_level0_row2\" class=\"row_heading level0 row2\" >2</th>\n",
       "      <td id=\"T_6bdc2_row2_col0\" class=\"data row2 col0\" >FuelConsumption</td>\n",
       "      <td id=\"T_6bdc2_row2_col1\" class=\"data row2 col1\" >14.03%</td>\n",
       "    </tr>\n",
       "    <tr>\n",
       "      <th id=\"T_6bdc2_level0_row3\" class=\"row_heading level0 row3\" >3</th>\n",
       "      <td id=\"T_6bdc2_row3_col0\" class=\"data row3 col0\" >ManufNameOem</td>\n",
       "      <td id=\"T_6bdc2_row3_col1\" class=\"data row3 col1\" >0.00%</td>\n",
       "    </tr>\n",
       "    <tr>\n",
       "      <th id=\"T_6bdc2_level0_row4\" class=\"row_heading level0 row4\" >4</th>\n",
       "      <td id=\"T_6bdc2_row4_col0\" class=\"data row4 col0\" >ID</td>\n",
       "      <td id=\"T_6bdc2_row4_col1\" class=\"data row4 col1\" >0.00%</td>\n",
       "    </tr>\n",
       "    <tr>\n",
       "      <th id=\"T_6bdc2_level0_row5\" class=\"row_heading level0 row5\" >5</th>\n",
       "      <td id=\"T_6bdc2_row5_col0\" class=\"data row5 col0\" >ManufacturerName</td>\n",
       "      <td id=\"T_6bdc2_row5_col1\" class=\"data row5 col1\" >0.00%</td>\n",
       "    </tr>\n",
       "    <tr>\n",
       "      <th id=\"T_6bdc2_level0_row6\" class=\"row_heading level0 row6\" >6</th>\n",
       "      <td id=\"T_6bdc2_row6_col0\" class=\"data row6 col0\" >BaseWheel</td>\n",
       "      <td id=\"T_6bdc2_row6_col1\" class=\"data row6 col1\" >0.00%</td>\n",
       "    </tr>\n",
       "    <tr>\n",
       "      <th id=\"T_6bdc2_level0_row7\" class=\"row_heading level0 row7\" >7</th>\n",
       "      <td id=\"T_6bdc2_row7_col0\" class=\"data row7 col0\" >Co2EmissionsWltp</td>\n",
       "      <td id=\"T_6bdc2_row7_col1\" class=\"data row7 col1\" >0.00%</td>\n",
       "    </tr>\n",
       "    <tr>\n",
       "      <th id=\"T_6bdc2_level0_row8\" class=\"row_heading level0 row8\" >8</th>\n",
       "      <td id=\"T_6bdc2_row8_col0\" class=\"data row8 col0\" >MassRunningOrder</td>\n",
       "      <td id=\"T_6bdc2_row8_col1\" class=\"data row8 col1\" >0.00%</td>\n",
       "    </tr>\n",
       "    <tr>\n",
       "      <th id=\"T_6bdc2_level0_row9\" class=\"row_heading level0 row9\" >9</th>\n",
       "      <td id=\"T_6bdc2_row9_col0\" class=\"data row9 col0\" >AxleWidthSteering</td>\n",
       "      <td id=\"T_6bdc2_row9_col1\" class=\"data row9 col1\" >0.00%</td>\n",
       "    </tr>\n",
       "    <tr>\n",
       "      <th id=\"T_6bdc2_level0_row10\" class=\"row_heading level0 row10\" >10</th>\n",
       "      <td id=\"T_6bdc2_row10_col0\" class=\"data row10 col0\" >EnginePower</td>\n",
       "      <td id=\"T_6bdc2_row10_col1\" class=\"data row10 col1\" >0.00%</td>\n",
       "    </tr>\n",
       "    <tr>\n",
       "      <th id=\"T_6bdc2_level0_row11\" class=\"row_heading level0 row11\" >11</th>\n",
       "      <td id=\"T_6bdc2_row11_col0\" class=\"data row11 col0\" >EngineCapacity</td>\n",
       "      <td id=\"T_6bdc2_row11_col1\" class=\"data row11 col1\" >0.00%</td>\n",
       "    </tr>\n",
       "    <tr>\n",
       "      <th id=\"T_6bdc2_level0_row12\" class=\"row_heading level0 row12\" >12</th>\n",
       "      <td id=\"T_6bdc2_row12_col0\" class=\"data row12 col0\" >FuelType</td>\n",
       "      <td id=\"T_6bdc2_row12_col1\" class=\"data row12 col1\" >0.00%</td>\n",
       "    </tr>\n",
       "    <tr>\n",
       "      <th id=\"T_6bdc2_level0_row13\" class=\"row_heading level0 row13\" >13</th>\n",
       "      <td id=\"T_6bdc2_row13_col0\" class=\"data row13 col0\" >Month</td>\n",
       "      <td id=\"T_6bdc2_row13_col1\" class=\"data row13 col1\" >0.00%</td>\n",
       "    </tr>\n",
       "  </tbody>\n",
       "</table>\n"
      ],
      "text/plain": [
       "<pandas.io.formats.style.Styler at 0x7fa19217d040>"
      ]
     },
     "execution_count": 27,
     "metadata": {},
     "output_type": "execute_result"
    }
   ],
   "source": [
    "co2.styles.display_na(df)"
   ]
  }
 ],
 "metadata": {
  "kernelspec": {
   "display_name": "co2",
   "language": "python",
   "name": "python3"
  },
  "language_info": {
   "codemirror_mode": {
    "name": "ipython",
    "version": 3
   },
   "file_extension": ".py",
   "mimetype": "text/x-python",
   "name": "python",
   "nbconvert_exporter": "python",
   "pygments_lexer": "ipython3",
   "version": "3.9.18"
  }
 },
 "nbformat": 4,
 "nbformat_minor": 2
}

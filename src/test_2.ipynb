{
 "cells": [
  {
   "cell_type": "code",
   "execution_count": 1,
   "metadata": {},
   "outputs": [
    {
     "name": "stdout",
     "output_type": "stream",
     "text": [
      "Warning: Your Kaggle API key is readable by other users on this system! To fix this, you can run 'chmod 600 /home/mln/.kaggle/kaggle.json'\n"
     ]
    },
    {
     "data": {
      "text/plain": [
       "<module 'auto_co2' from '/home/mln/GIT/car-co2-prediction_pre-release/src/auto_co2/__init__.py'>"
      ]
     },
     "execution_count": 1,
     "metadata": {},
     "output_type": "execute_result"
    }
   ],
   "source": [
    "import pandas as pd\n",
    "import kaggle\n",
    "import auto_co2 as co2\n",
    "import importlib\n",
    "import warnings\n",
    "warnings.filterwarnings('ignore', 'SettingWithCopyWarning')\n",
    "importlib.reload(co2)"
   ]
  },
  {
   "cell_type": "markdown",
   "metadata": {},
   "source": [
    "df = pd.read_csv('data/sample.csv')\n",
    "df = co2.data.dataviz_preprocessing(df)"
   ]
  },
  {
   "cell_type": "markdown",
   "metadata": {},
   "source": [
    "df = pd.read_csv('data/sample.csv')\n",
    "df.head()"
   ]
  },
  {
   "cell_type": "markdown",
   "metadata": {},
   "source": [
    "df = co2.data.load_co2_data()\n",
    "co2.styles.displayer(df)\n",
    "\n"
   ]
  },
  {
   "cell_type": "markdown",
   "metadata": {},
   "source": [
    "auth_file_path = '/home/mln/.kaggle/kaggle.json'\n",
    "filename = 'test.csv'  # replace with the actual name of the csv file in the zip\n",
    "\n",
    "df = co2.data.download_and_load_co2_data(auth_file_path)\n",
    "df = df.sample(1000)"
   ]
  },
  {
   "cell_type": "markdown",
   "metadata": {},
   "source": [
    "df = co2.data.load_co2_data()\n",
    "df = df.sample(5000)"
   ]
  },
  {
   "cell_type": "markdown",
   "metadata": {},
   "source": [
    "co2.data.save_processed_data(df, classification=False, filepath='../data/sample')"
   ]
  },
  {
   "cell_type": "code",
   "execution_count": 2,
   "metadata": {},
   "outputs": [
    {
     "data": {
      "text/plain": [
       "Index(['ID', 'Country', 'VehicleFamilyIdentification', 'Pool',\n",
       "       'ManufacturerName', 'ManufNameOem', 'ManufNameMS', 'TypeApprovalNumber',\n",
       "       'Type', 'Variant', 'Version', 'Make', 'CommercialName',\n",
       "       'VehicleCategory', 'CategoryOf', 'TotalNewRegistrations',\n",
       "       'MassRunningOrder', 'WltpTestMass', 'Co2EmissionsNedc',\n",
       "       'Co2EmissionsWltp', 'BaseWheel', 'AxleWidthSteering', 'AxleWidthOther',\n",
       "       'FuelType', 'FuelMode', 'EngineCapacity', 'EnginePower',\n",
       "       'ElectricConsumption', 'InnovativeTechnology',\n",
       "       'InnovativeEmissionsReduction', 'InnovativeEmissionsReductionWltp',\n",
       "       'DeviationFactor', 'VerificationFactor', 'Status', 'RegistrationYear',\n",
       "       'RegistrationDate', 'FuelConsumption', 'ElectricRange'],\n",
       "      dtype='object')"
      ]
     },
     "execution_count": 2,
     "metadata": {},
     "output_type": "execute_result"
    }
   ],
   "source": [
    "df = pd.read_pickle('../data/sample/co2_regression_20240112-151326.pkl')\n",
    "df = co2.data.rename_columns(df)\n",
    "df.columns"
   ]
  },
  {
   "cell_type": "code",
   "execution_count": 3,
   "metadata": {},
   "outputs": [
    {
     "name": "stdout",
     "output_type": "stream",
     "text": [
      "Incomplete rows dropped:251\n",
      "TOTAL NUMBER OF ROWS DROPPED:251\n",
      "<class 'pandas.core.frame.DataFrame'>\n",
      "Index: 4749 entries, 9871943 to 7877195\n",
      "Data columns (total 8 columns):\n",
      " #   Column                Non-Null Count  Dtype  \n",
      "---  ------                --------------  -----  \n",
      " 0   Pool                  4749 non-null   object \n",
      " 1   MassRunningOrder      4749 non-null   float64\n",
      " 2   Co2EmissionsWltp      4749 non-null   float64\n",
      " 3   BaseWheel             4749 non-null   float64\n",
      " 4   FuelType              4749 non-null   object \n",
      " 5   EnginePower           4749 non-null   float64\n",
      " 6   InnovativeTechnology  4749 non-null   int64  \n",
      " 7   ElectricRange         620 non-null    float64\n",
      "dtypes: float64(5), int64(1), object(2)\n",
      "memory usage: 333.9+ KB\n",
      "None\n",
      "<class 'pandas.core.frame.DataFrame'>\n",
      "Index: 4749 entries, 9871943 to 7877195\n",
      "Data columns (total 29 columns):\n",
      " #   Column                           Non-Null Count  Dtype  \n",
      "---  ------                           --------------  -----  \n",
      " 0   MassRunningOrder                 4749 non-null   float64\n",
      " 1   Co2EmissionsWltp                 4749 non-null   float64\n",
      " 2   BaseWheel                        4749 non-null   float64\n",
      " 3   EnginePower                      4749 non-null   float64\n",
      " 4   InnovativeTechnology             4749 non-null   int64  \n",
      " 5   ElecRange_NO_RANGE               4749 non-null   int64  \n",
      " 6   ElecRange_0to50                  4749 non-null   int64  \n",
      " 7   ElecRange_50to100                4749 non-null   int64  \n",
      " 8   ElecRange_100to150               4749 non-null   int64  \n",
      " 9   ElecRange_150+                   4749 non-null   int64  \n",
      " 10  Pool_BMW                         4749 non-null   int64  \n",
      " 11  Pool_FORD                        4749 non-null   int64  \n",
      " 12  Pool_HYUNDAI                     4749 non-null   int64  \n",
      " 13  Pool_KIA                         4749 non-null   int64  \n",
      " 14  Pool_MAZDA-SUBARU-SUZUKI-TOYOTA  4749 non-null   int64  \n",
      " 15  Pool_MERCEDES-BENZ               4749 non-null   int64  \n",
      " 16  Pool_RENAULT-NISSAN-MITSUBISHI   4749 non-null   int64  \n",
      " 17  Pool_STELLANTIS                  4749 non-null   int64  \n",
      " 18  Pool_TESLA                       4749 non-null   int64  \n",
      " 19  Pool_VW-SAIC                     4749 non-null   int64  \n",
      " 20  FuelType_DIESEL                  4749 non-null   int64  \n",
      " 21  FuelType_DIESEL/ELECTRIC         4749 non-null   int64  \n",
      " 22  FuelType_E85                     4749 non-null   int64  \n",
      " 23  FuelType_ELECTRIC                4749 non-null   int64  \n",
      " 24  FuelType_LPG                     4749 non-null   int64  \n",
      " 25  FuelType_NG                      4749 non-null   int64  \n",
      " 26  FuelType_NG-BIOMETHANE           4749 non-null   int64  \n",
      " 27  FuelType_PETROL                  4749 non-null   int64  \n",
      " 28  FuelType_PETROL/ELECTRIC         4749 non-null   int64  \n",
      "dtypes: float64(4), int64(25)\n",
      "memory usage: 1.2 MB\n",
      "None\n"
     ]
    }
   ],
   "source": [
    "df = co2.data.ml_preprocessing(df,\n",
    "                               rem_axlewidth=True,\n",
    "                               rem_fuel_consumption=True,\n",
    "                               rem_engine_capacity=True)\n",
    "print(df.info())\n",
    "df = co2.data.dummify_all_features(df)\n",
    "print(df.info())\n"
   ]
  },
  {
   "cell_type": "code",
   "execution_count": null,
   "metadata": {},
   "outputs": [],
   "source": []
  },
  {
   "cell_type": "code",
   "execution_count": 4,
   "metadata": {},
   "outputs": [
    {
     "name": "stdout",
     "output_type": "stream",
     "text": [
      "Data saved to ../data/processed//co2_classification_20240112-161106\n"
     ]
    }
   ],
   "source": [
    "co2.data.save_processed_data(df, classification=True, pickle=True, filepath='../data/processed/')"
   ]
  },
  {
   "cell_type": "code",
   "execution_count": 5,
   "metadata": {},
   "outputs": [
    {
     "data": {
      "text/plain": [
       "Co2Grade\n",
       "C    1659\n",
       "B    1015\n",
       "A     862\n",
       "D     734\n",
       "E     365\n",
       "F      85\n",
       "G      29\n",
       "Name: count, dtype: int64"
      ]
     },
     "execution_count": 5,
     "metadata": {},
     "output_type": "execute_result"
    }
   ],
   "source": [
    "df = co2.data.co2_grade_discretization(df)\n",
    "df['Co2Grade'].value_counts()"
   ]
  },
  {
   "cell_type": "code",
   "execution_count": 6,
   "metadata": {},
   "outputs": [
    {
     "data": {
      "text/plain": [
       "count    4749.000000\n",
       "mean      116.114972\n",
       "std        51.568603\n",
       "min         0.000000\n",
       "25%       112.000000\n",
       "50%       126.000000\n",
       "75%       141.000000\n",
       "max       373.000000\n",
       "Name: Co2EmissionsWltp, dtype: float64"
      ]
     },
     "execution_count": 6,
     "metadata": {},
     "output_type": "execute_result"
    }
   ],
   "source": [
    "df['Co2EmissionsWltp'].describe()"
   ]
  },
  {
   "cell_type": "code",
   "execution_count": 7,
   "metadata": {},
   "outputs": [
    {
     "name": "stdout",
     "output_type": "stream",
     "text": [
      "<class 'pandas.core.frame.DataFrame'>\n",
      "Index: 4749 entries, 9871943 to 7877195\n",
      "Data columns (total 30 columns):\n",
      " #   Column                           Non-Null Count  Dtype   \n",
      "---  ------                           --------------  -----   \n",
      " 0   MassRunningOrder                 4749 non-null   float64 \n",
      " 1   Co2EmissionsWltp                 4749 non-null   float64 \n",
      " 2   BaseWheel                        4749 non-null   float64 \n",
      " 3   EnginePower                      4749 non-null   float64 \n",
      " 4   InnovativeTechnology             4749 non-null   int64   \n",
      " 5   ElecRange_NO_RANGE               4749 non-null   int64   \n",
      " 6   ElecRange_0to50                  4749 non-null   int64   \n",
      " 7   ElecRange_50to100                4749 non-null   int64   \n",
      " 8   ElecRange_100to150               4749 non-null   int64   \n",
      " 9   ElecRange_150+                   4749 non-null   int64   \n",
      " 10  Pool_BMW                         4749 non-null   int64   \n",
      " 11  Pool_FORD                        4749 non-null   int64   \n",
      " 12  Pool_HYUNDAI                     4749 non-null   int64   \n",
      " 13  Pool_KIA                         4749 non-null   int64   \n",
      " 14  Pool_MAZDA-SUBARU-SUZUKI-TOYOTA  4749 non-null   int64   \n",
      " 15  Pool_MERCEDES-BENZ               4749 non-null   int64   \n",
      " 16  Pool_RENAULT-NISSAN-MITSUBISHI   4749 non-null   int64   \n",
      " 17  Pool_STELLANTIS                  4749 non-null   int64   \n",
      " 18  Pool_TESLA                       4749 non-null   int64   \n",
      " 19  Pool_VW-SAIC                     4749 non-null   int64   \n",
      " 20  FuelType_DIESEL                  4749 non-null   int64   \n",
      " 21  FuelType_DIESEL/ELECTRIC         4749 non-null   int64   \n",
      " 22  FuelType_E85                     4749 non-null   int64   \n",
      " 23  FuelType_ELECTRIC                4749 non-null   int64   \n",
      " 24  FuelType_LPG                     4749 non-null   int64   \n",
      " 25  FuelType_NG                      4749 non-null   int64   \n",
      " 26  FuelType_NG-BIOMETHANE           4749 non-null   int64   \n",
      " 27  FuelType_PETROL                  4749 non-null   int64   \n",
      " 28  FuelType_PETROL/ELECTRIC         4749 non-null   int64   \n",
      " 29  Co2Grade                         4749 non-null   category\n",
      "dtypes: category(1), float64(4), int64(25)\n",
      "memory usage: 1.2 MB\n"
     ]
    }
   ],
   "source": [
    "df.info()"
   ]
  },
  {
   "cell_type": "code",
   "execution_count": 8,
   "metadata": {},
   "outputs": [
    {
     "data": {
      "text/plain": [
       "0"
      ]
     },
     "execution_count": 8,
     "metadata": {},
     "output_type": "execute_result"
    }
   ],
   "source": [
    "df['Co2Grade'].isna().sum()"
   ]
  },
  {
   "cell_type": "code",
   "execution_count": 9,
   "metadata": {},
   "outputs": [
    {
     "name": "stderr",
     "output_type": "stream",
     "text": [
      "/home/mln/miniconda3/envs/co2/lib/python3.9/site-packages/pandas/io/formats/style.py:4052: RuntimeWarning: invalid value encountered in scalar divide\n",
      "  end = (x - left) / (right - left)\n"
     ]
    },
    {
     "data": {
      "text/html": [
       "<style type=\"text/css\">\n",
       "#T_693be th {\n",
       "  background-color: steelblue;\n",
       "  color: white;\n",
       "}\n",
       "#T_693be tr:nth-of-type(odd) {\n",
       "  background-color: aliceblue;\n",
       "}\n",
       "#T_693be tr:nth-of-type(even) {\n",
       "  background-color: white;\n",
       "}\n",
       "#T_693be_row0_col1, #T_693be_row1_col1, #T_693be_row2_col1, #T_693be_row3_col1, #T_693be_row4_col1, #T_693be_row5_col1, #T_693be_row6_col1, #T_693be_row7_col1, #T_693be_row8_col1, #T_693be_row9_col1, #T_693be_row10_col1, #T_693be_row11_col1, #T_693be_row12_col1, #T_693be_row13_col1, #T_693be_row14_col1, #T_693be_row15_col1, #T_693be_row16_col1, #T_693be_row17_col1, #T_693be_row18_col1, #T_693be_row19_col1, #T_693be_row20_col1, #T_693be_row21_col1, #T_693be_row22_col1, #T_693be_row23_col1, #T_693be_row24_col1, #T_693be_row25_col1, #T_693be_row26_col1, #T_693be_row27_col1, #T_693be_row28_col1, #T_693be_row29_col1 {\n",
       "  width: 10em;\n",
       "}\n",
       "</style>\n",
       "<table id=\"T_693be\">\n",
       "  <thead>\n",
       "    <tr>\n",
       "      <th class=\"blank level0\" >&nbsp;</th>\n",
       "      <th id=\"T_693be_level0_col0\" class=\"col_heading level0 col0\" >Colonne</th>\n",
       "      <th id=\"T_693be_level0_col1\" class=\"col_heading level0 col1\" >Valeurs manquantes (%)</th>\n",
       "    </tr>\n",
       "  </thead>\n",
       "  <tbody>\n",
       "    <tr>\n",
       "      <th id=\"T_693be_level0_row0\" class=\"row_heading level0 row0\" >0</th>\n",
       "      <td id=\"T_693be_row0_col0\" class=\"data row0 col0\" >MassRunningOrder</td>\n",
       "      <td id=\"T_693be_row0_col1\" class=\"data row0 col1\" >0.00%</td>\n",
       "    </tr>\n",
       "    <tr>\n",
       "      <th id=\"T_693be_level0_row1\" class=\"row_heading level0 row1\" >1</th>\n",
       "      <td id=\"T_693be_row1_col0\" class=\"data row1 col0\" >Co2EmissionsWltp</td>\n",
       "      <td id=\"T_693be_row1_col1\" class=\"data row1 col1\" >0.00%</td>\n",
       "    </tr>\n",
       "    <tr>\n",
       "      <th id=\"T_693be_level0_row2\" class=\"row_heading level0 row2\" >2</th>\n",
       "      <td id=\"T_693be_row2_col0\" class=\"data row2 col0\" >BaseWheel</td>\n",
       "      <td id=\"T_693be_row2_col1\" class=\"data row2 col1\" >0.00%</td>\n",
       "    </tr>\n",
       "    <tr>\n",
       "      <th id=\"T_693be_level0_row3\" class=\"row_heading level0 row3\" >3</th>\n",
       "      <td id=\"T_693be_row3_col0\" class=\"data row3 col0\" >EnginePower</td>\n",
       "      <td id=\"T_693be_row3_col1\" class=\"data row3 col1\" >0.00%</td>\n",
       "    </tr>\n",
       "    <tr>\n",
       "      <th id=\"T_693be_level0_row4\" class=\"row_heading level0 row4\" >4</th>\n",
       "      <td id=\"T_693be_row4_col0\" class=\"data row4 col0\" >InnovativeTechnology</td>\n",
       "      <td id=\"T_693be_row4_col1\" class=\"data row4 col1\" >0.00%</td>\n",
       "    </tr>\n",
       "    <tr>\n",
       "      <th id=\"T_693be_level0_row5\" class=\"row_heading level0 row5\" >5</th>\n",
       "      <td id=\"T_693be_row5_col0\" class=\"data row5 col0\" >ElecRange_NO_RANGE</td>\n",
       "      <td id=\"T_693be_row5_col1\" class=\"data row5 col1\" >0.00%</td>\n",
       "    </tr>\n",
       "    <tr>\n",
       "      <th id=\"T_693be_level0_row6\" class=\"row_heading level0 row6\" >6</th>\n",
       "      <td id=\"T_693be_row6_col0\" class=\"data row6 col0\" >ElecRange_0to50</td>\n",
       "      <td id=\"T_693be_row6_col1\" class=\"data row6 col1\" >0.00%</td>\n",
       "    </tr>\n",
       "    <tr>\n",
       "      <th id=\"T_693be_level0_row7\" class=\"row_heading level0 row7\" >7</th>\n",
       "      <td id=\"T_693be_row7_col0\" class=\"data row7 col0\" >ElecRange_50to100</td>\n",
       "      <td id=\"T_693be_row7_col1\" class=\"data row7 col1\" >0.00%</td>\n",
       "    </tr>\n",
       "    <tr>\n",
       "      <th id=\"T_693be_level0_row8\" class=\"row_heading level0 row8\" >8</th>\n",
       "      <td id=\"T_693be_row8_col0\" class=\"data row8 col0\" >ElecRange_100to150</td>\n",
       "      <td id=\"T_693be_row8_col1\" class=\"data row8 col1\" >0.00%</td>\n",
       "    </tr>\n",
       "    <tr>\n",
       "      <th id=\"T_693be_level0_row9\" class=\"row_heading level0 row9\" >9</th>\n",
       "      <td id=\"T_693be_row9_col0\" class=\"data row9 col0\" >ElecRange_150+</td>\n",
       "      <td id=\"T_693be_row9_col1\" class=\"data row9 col1\" >0.00%</td>\n",
       "    </tr>\n",
       "    <tr>\n",
       "      <th id=\"T_693be_level0_row10\" class=\"row_heading level0 row10\" >10</th>\n",
       "      <td id=\"T_693be_row10_col0\" class=\"data row10 col0\" >Pool_BMW</td>\n",
       "      <td id=\"T_693be_row10_col1\" class=\"data row10 col1\" >0.00%</td>\n",
       "    </tr>\n",
       "    <tr>\n",
       "      <th id=\"T_693be_level0_row11\" class=\"row_heading level0 row11\" >11</th>\n",
       "      <td id=\"T_693be_row11_col0\" class=\"data row11 col0\" >Pool_FORD</td>\n",
       "      <td id=\"T_693be_row11_col1\" class=\"data row11 col1\" >0.00%</td>\n",
       "    </tr>\n",
       "    <tr>\n",
       "      <th id=\"T_693be_level0_row12\" class=\"row_heading level0 row12\" >12</th>\n",
       "      <td id=\"T_693be_row12_col0\" class=\"data row12 col0\" >Pool_HYUNDAI</td>\n",
       "      <td id=\"T_693be_row12_col1\" class=\"data row12 col1\" >0.00%</td>\n",
       "    </tr>\n",
       "    <tr>\n",
       "      <th id=\"T_693be_level0_row13\" class=\"row_heading level0 row13\" >13</th>\n",
       "      <td id=\"T_693be_row13_col0\" class=\"data row13 col0\" >Pool_KIA</td>\n",
       "      <td id=\"T_693be_row13_col1\" class=\"data row13 col1\" >0.00%</td>\n",
       "    </tr>\n",
       "    <tr>\n",
       "      <th id=\"T_693be_level0_row14\" class=\"row_heading level0 row14\" >14</th>\n",
       "      <td id=\"T_693be_row14_col0\" class=\"data row14 col0\" >Pool_MAZDA-SUBARU-SUZUKI-TOYOTA</td>\n",
       "      <td id=\"T_693be_row14_col1\" class=\"data row14 col1\" >0.00%</td>\n",
       "    </tr>\n",
       "    <tr>\n",
       "      <th id=\"T_693be_level0_row15\" class=\"row_heading level0 row15\" >15</th>\n",
       "      <td id=\"T_693be_row15_col0\" class=\"data row15 col0\" >Pool_MERCEDES-BENZ</td>\n",
       "      <td id=\"T_693be_row15_col1\" class=\"data row15 col1\" >0.00%</td>\n",
       "    </tr>\n",
       "    <tr>\n",
       "      <th id=\"T_693be_level0_row16\" class=\"row_heading level0 row16\" >16</th>\n",
       "      <td id=\"T_693be_row16_col0\" class=\"data row16 col0\" >Pool_RENAULT-NISSAN-MITSUBISHI</td>\n",
       "      <td id=\"T_693be_row16_col1\" class=\"data row16 col1\" >0.00%</td>\n",
       "    </tr>\n",
       "    <tr>\n",
       "      <th id=\"T_693be_level0_row17\" class=\"row_heading level0 row17\" >17</th>\n",
       "      <td id=\"T_693be_row17_col0\" class=\"data row17 col0\" >Pool_STELLANTIS</td>\n",
       "      <td id=\"T_693be_row17_col1\" class=\"data row17 col1\" >0.00%</td>\n",
       "    </tr>\n",
       "    <tr>\n",
       "      <th id=\"T_693be_level0_row18\" class=\"row_heading level0 row18\" >18</th>\n",
       "      <td id=\"T_693be_row18_col0\" class=\"data row18 col0\" >Pool_TESLA</td>\n",
       "      <td id=\"T_693be_row18_col1\" class=\"data row18 col1\" >0.00%</td>\n",
       "    </tr>\n",
       "    <tr>\n",
       "      <th id=\"T_693be_level0_row19\" class=\"row_heading level0 row19\" >19</th>\n",
       "      <td id=\"T_693be_row19_col0\" class=\"data row19 col0\" >Pool_VW-SAIC</td>\n",
       "      <td id=\"T_693be_row19_col1\" class=\"data row19 col1\" >0.00%</td>\n",
       "    </tr>\n",
       "    <tr>\n",
       "      <th id=\"T_693be_level0_row20\" class=\"row_heading level0 row20\" >20</th>\n",
       "      <td id=\"T_693be_row20_col0\" class=\"data row20 col0\" >FuelType_DIESEL</td>\n",
       "      <td id=\"T_693be_row20_col1\" class=\"data row20 col1\" >0.00%</td>\n",
       "    </tr>\n",
       "    <tr>\n",
       "      <th id=\"T_693be_level0_row21\" class=\"row_heading level0 row21\" >21</th>\n",
       "      <td id=\"T_693be_row21_col0\" class=\"data row21 col0\" >FuelType_DIESEL/ELECTRIC</td>\n",
       "      <td id=\"T_693be_row21_col1\" class=\"data row21 col1\" >0.00%</td>\n",
       "    </tr>\n",
       "    <tr>\n",
       "      <th id=\"T_693be_level0_row22\" class=\"row_heading level0 row22\" >22</th>\n",
       "      <td id=\"T_693be_row22_col0\" class=\"data row22 col0\" >FuelType_E85</td>\n",
       "      <td id=\"T_693be_row22_col1\" class=\"data row22 col1\" >0.00%</td>\n",
       "    </tr>\n",
       "    <tr>\n",
       "      <th id=\"T_693be_level0_row23\" class=\"row_heading level0 row23\" >23</th>\n",
       "      <td id=\"T_693be_row23_col0\" class=\"data row23 col0\" >FuelType_ELECTRIC</td>\n",
       "      <td id=\"T_693be_row23_col1\" class=\"data row23 col1\" >0.00%</td>\n",
       "    </tr>\n",
       "    <tr>\n",
       "      <th id=\"T_693be_level0_row24\" class=\"row_heading level0 row24\" >24</th>\n",
       "      <td id=\"T_693be_row24_col0\" class=\"data row24 col0\" >FuelType_LPG</td>\n",
       "      <td id=\"T_693be_row24_col1\" class=\"data row24 col1\" >0.00%</td>\n",
       "    </tr>\n",
       "    <tr>\n",
       "      <th id=\"T_693be_level0_row25\" class=\"row_heading level0 row25\" >25</th>\n",
       "      <td id=\"T_693be_row25_col0\" class=\"data row25 col0\" >FuelType_NG</td>\n",
       "      <td id=\"T_693be_row25_col1\" class=\"data row25 col1\" >0.00%</td>\n",
       "    </tr>\n",
       "    <tr>\n",
       "      <th id=\"T_693be_level0_row26\" class=\"row_heading level0 row26\" >26</th>\n",
       "      <td id=\"T_693be_row26_col0\" class=\"data row26 col0\" >FuelType_NG-BIOMETHANE</td>\n",
       "      <td id=\"T_693be_row26_col1\" class=\"data row26 col1\" >0.00%</td>\n",
       "    </tr>\n",
       "    <tr>\n",
       "      <th id=\"T_693be_level0_row27\" class=\"row_heading level0 row27\" >27</th>\n",
       "      <td id=\"T_693be_row27_col0\" class=\"data row27 col0\" >FuelType_PETROL</td>\n",
       "      <td id=\"T_693be_row27_col1\" class=\"data row27 col1\" >0.00%</td>\n",
       "    </tr>\n",
       "    <tr>\n",
       "      <th id=\"T_693be_level0_row28\" class=\"row_heading level0 row28\" >28</th>\n",
       "      <td id=\"T_693be_row28_col0\" class=\"data row28 col0\" >FuelType_PETROL/ELECTRIC</td>\n",
       "      <td id=\"T_693be_row28_col1\" class=\"data row28 col1\" >0.00%</td>\n",
       "    </tr>\n",
       "    <tr>\n",
       "      <th id=\"T_693be_level0_row29\" class=\"row_heading level0 row29\" >29</th>\n",
       "      <td id=\"T_693be_row29_col0\" class=\"data row29 col0\" >Co2Grade</td>\n",
       "      <td id=\"T_693be_row29_col1\" class=\"data row29 col1\" >0.00%</td>\n",
       "    </tr>\n",
       "  </tbody>\n",
       "</table>\n"
      ],
      "text/plain": [
       "<pandas.io.formats.style.Styler at 0x7fe4ccd09970>"
      ]
     },
     "execution_count": 9,
     "metadata": {},
     "output_type": "execute_result"
    }
   ],
   "source": [
    "co2.styles.display_na(df)"
   ]
  },
  {
   "cell_type": "code",
   "execution_count": 10,
   "metadata": {},
   "outputs": [
    {
     "data": {
      "text/html": [
       "<style type=\"text/css\">\n",
       "#T_a0d65 th {\n",
       "  background-color: steelblue;\n",
       "  color: white;\n",
       "}\n",
       "#T_a0d65 tr:nth-of-type(odd) {\n",
       "  background-color: aliceblue;\n",
       "}\n",
       "#T_a0d65 tr:nth-of-type(even) {\n",
       "  background-color: white;\n",
       "}\n",
       "</style>\n",
       "<table id=\"T_a0d65\">\n",
       "  <thead>\n",
       "    <tr>\n",
       "      <th class=\"blank level0\" >&nbsp;</th>\n",
       "      <th id=\"T_a0d65_level0_col0\" class=\"col_heading level0 col0\" >MassRunningOrder</th>\n",
       "      <th id=\"T_a0d65_level0_col1\" class=\"col_heading level0 col1\" >Co2EmissionsWltp</th>\n",
       "      <th id=\"T_a0d65_level0_col2\" class=\"col_heading level0 col2\" >BaseWheel</th>\n",
       "      <th id=\"T_a0d65_level0_col3\" class=\"col_heading level0 col3\" >EnginePower</th>\n",
       "      <th id=\"T_a0d65_level0_col4\" class=\"col_heading level0 col4\" >InnovativeTechnology</th>\n",
       "      <th id=\"T_a0d65_level0_col5\" class=\"col_heading level0 col5\" >ElecRange_NO_RANGE</th>\n",
       "      <th id=\"T_a0d65_level0_col6\" class=\"col_heading level0 col6\" >ElecRange_0to50</th>\n",
       "      <th id=\"T_a0d65_level0_col7\" class=\"col_heading level0 col7\" >ElecRange_50to100</th>\n",
       "      <th id=\"T_a0d65_level0_col8\" class=\"col_heading level0 col8\" >ElecRange_100to150</th>\n",
       "      <th id=\"T_a0d65_level0_col9\" class=\"col_heading level0 col9\" >ElecRange_150+</th>\n",
       "      <th id=\"T_a0d65_level0_col10\" class=\"col_heading level0 col10\" >Pool_BMW</th>\n",
       "      <th id=\"T_a0d65_level0_col11\" class=\"col_heading level0 col11\" >Pool_FORD</th>\n",
       "      <th id=\"T_a0d65_level0_col12\" class=\"col_heading level0 col12\" >Pool_HYUNDAI</th>\n",
       "      <th id=\"T_a0d65_level0_col13\" class=\"col_heading level0 col13\" >Pool_KIA</th>\n",
       "      <th id=\"T_a0d65_level0_col14\" class=\"col_heading level0 col14\" >Pool_MAZDA-SUBARU-SUZUKI-TOYOTA</th>\n",
       "      <th id=\"T_a0d65_level0_col15\" class=\"col_heading level0 col15\" >Pool_MERCEDES-BENZ</th>\n",
       "      <th id=\"T_a0d65_level0_col16\" class=\"col_heading level0 col16\" >Pool_RENAULT-NISSAN-MITSUBISHI</th>\n",
       "      <th id=\"T_a0d65_level0_col17\" class=\"col_heading level0 col17\" >Pool_STELLANTIS</th>\n",
       "      <th id=\"T_a0d65_level0_col18\" class=\"col_heading level0 col18\" >Pool_TESLA</th>\n",
       "      <th id=\"T_a0d65_level0_col19\" class=\"col_heading level0 col19\" >Pool_VW-SAIC</th>\n",
       "      <th id=\"T_a0d65_level0_col20\" class=\"col_heading level0 col20\" >FuelType_DIESEL</th>\n",
       "      <th id=\"T_a0d65_level0_col21\" class=\"col_heading level0 col21\" >FuelType_DIESEL/ELECTRIC</th>\n",
       "      <th id=\"T_a0d65_level0_col22\" class=\"col_heading level0 col22\" >FuelType_E85</th>\n",
       "      <th id=\"T_a0d65_level0_col23\" class=\"col_heading level0 col23\" >FuelType_ELECTRIC</th>\n",
       "      <th id=\"T_a0d65_level0_col24\" class=\"col_heading level0 col24\" >FuelType_LPG</th>\n",
       "      <th id=\"T_a0d65_level0_col25\" class=\"col_heading level0 col25\" >FuelType_NG</th>\n",
       "      <th id=\"T_a0d65_level0_col26\" class=\"col_heading level0 col26\" >FuelType_NG-BIOMETHANE</th>\n",
       "      <th id=\"T_a0d65_level0_col27\" class=\"col_heading level0 col27\" >FuelType_PETROL</th>\n",
       "      <th id=\"T_a0d65_level0_col28\" class=\"col_heading level0 col28\" >FuelType_PETROL/ELECTRIC</th>\n",
       "      <th id=\"T_a0d65_level0_col29\" class=\"col_heading level0 col29\" >Co2Grade</th>\n",
       "    </tr>\n",
       "  </thead>\n",
       "  <tbody>\n",
       "    <tr>\n",
       "      <th id=\"T_a0d65_level0_row0\" class=\"row_heading level0 row0\" >9871943</th>\n",
       "      <td id=\"T_a0d65_row0_col0\" class=\"data row0 col0\" >1615.000</td>\n",
       "      <td id=\"T_a0d65_row0_col1\" class=\"data row0 col1\" >134.000</td>\n",
       "      <td id=\"T_a0d65_row0_col2\" class=\"data row0 col2\" >2829.000</td>\n",
       "      <td id=\"T_a0d65_row0_col3\" class=\"data row0 col3\" >128.000</td>\n",
       "      <td id=\"T_a0d65_row0_col4\" class=\"data row0 col4\" >1</td>\n",
       "      <td id=\"T_a0d65_row0_col5\" class=\"data row0 col5\" >1</td>\n",
       "      <td id=\"T_a0d65_row0_col6\" class=\"data row0 col6\" >0</td>\n",
       "      <td id=\"T_a0d65_row0_col7\" class=\"data row0 col7\" >0</td>\n",
       "      <td id=\"T_a0d65_row0_col8\" class=\"data row0 col8\" >0</td>\n",
       "      <td id=\"T_a0d65_row0_col9\" class=\"data row0 col9\" >0</td>\n",
       "      <td id=\"T_a0d65_row0_col10\" class=\"data row0 col10\" >0</td>\n",
       "      <td id=\"T_a0d65_row0_col11\" class=\"data row0 col11\" >0</td>\n",
       "      <td id=\"T_a0d65_row0_col12\" class=\"data row0 col12\" >0</td>\n",
       "      <td id=\"T_a0d65_row0_col13\" class=\"data row0 col13\" >0</td>\n",
       "      <td id=\"T_a0d65_row0_col14\" class=\"data row0 col14\" >0</td>\n",
       "      <td id=\"T_a0d65_row0_col15\" class=\"data row0 col15\" >0</td>\n",
       "      <td id=\"T_a0d65_row0_col16\" class=\"data row0 col16\" >0</td>\n",
       "      <td id=\"T_a0d65_row0_col17\" class=\"data row0 col17\" >1</td>\n",
       "      <td id=\"T_a0d65_row0_col18\" class=\"data row0 col18\" >0</td>\n",
       "      <td id=\"T_a0d65_row0_col19\" class=\"data row0 col19\" >0</td>\n",
       "      <td id=\"T_a0d65_row0_col20\" class=\"data row0 col20\" >1</td>\n",
       "      <td id=\"T_a0d65_row0_col21\" class=\"data row0 col21\" >0</td>\n",
       "      <td id=\"T_a0d65_row0_col22\" class=\"data row0 col22\" >0</td>\n",
       "      <td id=\"T_a0d65_row0_col23\" class=\"data row0 col23\" >0</td>\n",
       "      <td id=\"T_a0d65_row0_col24\" class=\"data row0 col24\" >0</td>\n",
       "      <td id=\"T_a0d65_row0_col25\" class=\"data row0 col25\" >0</td>\n",
       "      <td id=\"T_a0d65_row0_col26\" class=\"data row0 col26\" >0</td>\n",
       "      <td id=\"T_a0d65_row0_col27\" class=\"data row0 col27\" >0</td>\n",
       "      <td id=\"T_a0d65_row0_col28\" class=\"data row0 col28\" >0</td>\n",
       "      <td id=\"T_a0d65_row0_col29\" class=\"data row0 col29\" >C</td>\n",
       "    </tr>\n",
       "    <tr>\n",
       "      <th id=\"T_a0d65_level0_row1\" class=\"row_heading level0 row1\" >4969321</th>\n",
       "      <td id=\"T_a0d65_row1_col0\" class=\"data row1 col0\" >1313.000</td>\n",
       "      <td id=\"T_a0d65_row1_col1\" class=\"data row1 col1\" >120.000</td>\n",
       "      <td id=\"T_a0d65_row1_col2\" class=\"data row1 col2\" >2667.000</td>\n",
       "      <td id=\"T_a0d65_row1_col3\" class=\"data row1 col3\" >81.000</td>\n",
       "      <td id=\"T_a0d65_row1_col4\" class=\"data row1 col4\" >1</td>\n",
       "      <td id=\"T_a0d65_row1_col5\" class=\"data row1 col5\" >1</td>\n",
       "      <td id=\"T_a0d65_row1_col6\" class=\"data row1 col6\" >0</td>\n",
       "      <td id=\"T_a0d65_row1_col7\" class=\"data row1 col7\" >0</td>\n",
       "      <td id=\"T_a0d65_row1_col8\" class=\"data row1 col8\" >0</td>\n",
       "      <td id=\"T_a0d65_row1_col9\" class=\"data row1 col9\" >0</td>\n",
       "      <td id=\"T_a0d65_row1_col10\" class=\"data row1 col10\" >0</td>\n",
       "      <td id=\"T_a0d65_row1_col11\" class=\"data row1 col11\" >0</td>\n",
       "      <td id=\"T_a0d65_row1_col12\" class=\"data row1 col12\" >0</td>\n",
       "      <td id=\"T_a0d65_row1_col13\" class=\"data row1 col13\" >0</td>\n",
       "      <td id=\"T_a0d65_row1_col14\" class=\"data row1 col14\" >0</td>\n",
       "      <td id=\"T_a0d65_row1_col15\" class=\"data row1 col15\" >0</td>\n",
       "      <td id=\"T_a0d65_row1_col16\" class=\"data row1 col16\" >0</td>\n",
       "      <td id=\"T_a0d65_row1_col17\" class=\"data row1 col17\" >0</td>\n",
       "      <td id=\"T_a0d65_row1_col18\" class=\"data row1 col18\" >0</td>\n",
       "      <td id=\"T_a0d65_row1_col19\" class=\"data row1 col19\" >1</td>\n",
       "      <td id=\"T_a0d65_row1_col20\" class=\"data row1 col20\" >0</td>\n",
       "      <td id=\"T_a0d65_row1_col21\" class=\"data row1 col21\" >0</td>\n",
       "      <td id=\"T_a0d65_row1_col22\" class=\"data row1 col22\" >0</td>\n",
       "      <td id=\"T_a0d65_row1_col23\" class=\"data row1 col23\" >0</td>\n",
       "      <td id=\"T_a0d65_row1_col24\" class=\"data row1 col24\" >0</td>\n",
       "      <td id=\"T_a0d65_row1_col25\" class=\"data row1 col25\" >0</td>\n",
       "      <td id=\"T_a0d65_row1_col26\" class=\"data row1 col26\" >0</td>\n",
       "      <td id=\"T_a0d65_row1_col27\" class=\"data row1 col27\" >1</td>\n",
       "      <td id=\"T_a0d65_row1_col28\" class=\"data row1 col28\" >0</td>\n",
       "      <td id=\"T_a0d65_row1_col29\" class=\"data row1 col29\" >B</td>\n",
       "    </tr>\n",
       "    <tr>\n",
       "      <th id=\"T_a0d65_level0_row2\" class=\"row_heading level0 row2\" >2183213</th>\n",
       "      <td id=\"T_a0d65_row2_col0\" class=\"data row2 col0\" >1475.000</td>\n",
       "      <td id=\"T_a0d65_row2_col1\" class=\"data row2 col1\" >126.000</td>\n",
       "      <td id=\"T_a0d65_row2_col2\" class=\"data row2 col2\" >2612.000</td>\n",
       "      <td id=\"T_a0d65_row2_col3\" class=\"data row2 col3\" >70.000</td>\n",
       "      <td id=\"T_a0d65_row2_col4\" class=\"data row2 col4\" >0</td>\n",
       "      <td id=\"T_a0d65_row2_col5\" class=\"data row2 col5\" >1</td>\n",
       "      <td id=\"T_a0d65_row2_col6\" class=\"data row2 col6\" >0</td>\n",
       "      <td id=\"T_a0d65_row2_col7\" class=\"data row2 col7\" >0</td>\n",
       "      <td id=\"T_a0d65_row2_col8\" class=\"data row2 col8\" >0</td>\n",
       "      <td id=\"T_a0d65_row2_col9\" class=\"data row2 col9\" >0</td>\n",
       "      <td id=\"T_a0d65_row2_col10\" class=\"data row2 col10\" >0</td>\n",
       "      <td id=\"T_a0d65_row2_col11\" class=\"data row2 col11\" >0</td>\n",
       "      <td id=\"T_a0d65_row2_col12\" class=\"data row2 col12\" >0</td>\n",
       "      <td id=\"T_a0d65_row2_col13\" class=\"data row2 col13\" >0</td>\n",
       "      <td id=\"T_a0d65_row2_col14\" class=\"data row2 col14\" >0</td>\n",
       "      <td id=\"T_a0d65_row2_col15\" class=\"data row2 col15\" >0</td>\n",
       "      <td id=\"T_a0d65_row2_col16\" class=\"data row2 col16\" >0</td>\n",
       "      <td id=\"T_a0d65_row2_col17\" class=\"data row2 col17\" >1</td>\n",
       "      <td id=\"T_a0d65_row2_col18\" class=\"data row2 col18\" >0</td>\n",
       "      <td id=\"T_a0d65_row2_col19\" class=\"data row2 col19\" >0</td>\n",
       "      <td id=\"T_a0d65_row2_col20\" class=\"data row2 col20\" >1</td>\n",
       "      <td id=\"T_a0d65_row2_col21\" class=\"data row2 col21\" >0</td>\n",
       "      <td id=\"T_a0d65_row2_col22\" class=\"data row2 col22\" >0</td>\n",
       "      <td id=\"T_a0d65_row2_col23\" class=\"data row2 col23\" >0</td>\n",
       "      <td id=\"T_a0d65_row2_col24\" class=\"data row2 col24\" >0</td>\n",
       "      <td id=\"T_a0d65_row2_col25\" class=\"data row2 col25\" >0</td>\n",
       "      <td id=\"T_a0d65_row2_col26\" class=\"data row2 col26\" >0</td>\n",
       "      <td id=\"T_a0d65_row2_col27\" class=\"data row2 col27\" >0</td>\n",
       "      <td id=\"T_a0d65_row2_col28\" class=\"data row2 col28\" >0</td>\n",
       "      <td id=\"T_a0d65_row2_col29\" class=\"data row2 col29\" >C</td>\n",
       "    </tr>\n",
       "    <tr>\n",
       "      <th id=\"T_a0d65_level0_row3\" class=\"row_heading level0 row3\" >17946</th>\n",
       "      <td id=\"T_a0d65_row3_col0\" class=\"data row3 col0\" >1601.000</td>\n",
       "      <td id=\"T_a0d65_row3_col1\" class=\"data row3 col1\" >148.000</td>\n",
       "      <td id=\"T_a0d65_row3_col2\" class=\"data row3 col2\" >2629.000</td>\n",
       "      <td id=\"T_a0d65_row3_col3\" class=\"data row3 col3\" >110.000</td>\n",
       "      <td id=\"T_a0d65_row3_col4\" class=\"data row3 col4\" >1</td>\n",
       "      <td id=\"T_a0d65_row3_col5\" class=\"data row3 col5\" >1</td>\n",
       "      <td id=\"T_a0d65_row3_col6\" class=\"data row3 col6\" >0</td>\n",
       "      <td id=\"T_a0d65_row3_col7\" class=\"data row3 col7\" >0</td>\n",
       "      <td id=\"T_a0d65_row3_col8\" class=\"data row3 col8\" >0</td>\n",
       "      <td id=\"T_a0d65_row3_col9\" class=\"data row3 col9\" >0</td>\n",
       "      <td id=\"T_a0d65_row3_col10\" class=\"data row3 col10\" >0</td>\n",
       "      <td id=\"T_a0d65_row3_col11\" class=\"data row3 col11\" >0</td>\n",
       "      <td id=\"T_a0d65_row3_col12\" class=\"data row3 col12\" >0</td>\n",
       "      <td id=\"T_a0d65_row3_col13\" class=\"data row3 col13\" >0</td>\n",
       "      <td id=\"T_a0d65_row3_col14\" class=\"data row3 col14\" >0</td>\n",
       "      <td id=\"T_a0d65_row3_col15\" class=\"data row3 col15\" >0</td>\n",
       "      <td id=\"T_a0d65_row3_col16\" class=\"data row3 col16\" >0</td>\n",
       "      <td id=\"T_a0d65_row3_col17\" class=\"data row3 col17\" >0</td>\n",
       "      <td id=\"T_a0d65_row3_col18\" class=\"data row3 col18\" >0</td>\n",
       "      <td id=\"T_a0d65_row3_col19\" class=\"data row3 col19\" >1</td>\n",
       "      <td id=\"T_a0d65_row3_col20\" class=\"data row3 col20\" >1</td>\n",
       "      <td id=\"T_a0d65_row3_col21\" class=\"data row3 col21\" >0</td>\n",
       "      <td id=\"T_a0d65_row3_col22\" class=\"data row3 col22\" >0</td>\n",
       "      <td id=\"T_a0d65_row3_col23\" class=\"data row3 col23\" >0</td>\n",
       "      <td id=\"T_a0d65_row3_col24\" class=\"data row3 col24\" >0</td>\n",
       "      <td id=\"T_a0d65_row3_col25\" class=\"data row3 col25\" >0</td>\n",
       "      <td id=\"T_a0d65_row3_col26\" class=\"data row3 col26\" >0</td>\n",
       "      <td id=\"T_a0d65_row3_col27\" class=\"data row3 col27\" >0</td>\n",
       "      <td id=\"T_a0d65_row3_col28\" class=\"data row3 col28\" >0</td>\n",
       "      <td id=\"T_a0d65_row3_col29\" class=\"data row3 col29\" >D</td>\n",
       "    </tr>\n",
       "    <tr>\n",
       "      <th id=\"T_a0d65_level0_row4\" class=\"row_heading level0 row4\" >5989334</th>\n",
       "      <td id=\"T_a0d65_row4_col0\" class=\"data row4 col0\" >1248.000</td>\n",
       "      <td id=\"T_a0d65_row4_col1\" class=\"data row4 col1\" >0.000</td>\n",
       "      <td id=\"T_a0d65_row4_col2\" class=\"data row4 col2\" >2417.000</td>\n",
       "      <td id=\"T_a0d65_row4_col3\" class=\"data row4 col3\" >61.000</td>\n",
       "      <td id=\"T_a0d65_row4_col4\" class=\"data row4 col4\" >0</td>\n",
       "      <td id=\"T_a0d65_row4_col5\" class=\"data row4 col5\" >1</td>\n",
       "      <td id=\"T_a0d65_row4_col6\" class=\"data row4 col6\" >0</td>\n",
       "      <td id=\"T_a0d65_row4_col7\" class=\"data row4 col7\" >0</td>\n",
       "      <td id=\"T_a0d65_row4_col8\" class=\"data row4 col8\" >0</td>\n",
       "      <td id=\"T_a0d65_row4_col9\" class=\"data row4 col9\" >0</td>\n",
       "      <td id=\"T_a0d65_row4_col10\" class=\"data row4 col10\" >0</td>\n",
       "      <td id=\"T_a0d65_row4_col11\" class=\"data row4 col11\" >0</td>\n",
       "      <td id=\"T_a0d65_row4_col12\" class=\"data row4 col12\" >0</td>\n",
       "      <td id=\"T_a0d65_row4_col13\" class=\"data row4 col13\" >0</td>\n",
       "      <td id=\"T_a0d65_row4_col14\" class=\"data row4 col14\" >0</td>\n",
       "      <td id=\"T_a0d65_row4_col15\" class=\"data row4 col15\" >0</td>\n",
       "      <td id=\"T_a0d65_row4_col16\" class=\"data row4 col16\" >0</td>\n",
       "      <td id=\"T_a0d65_row4_col17\" class=\"data row4 col17\" >0</td>\n",
       "      <td id=\"T_a0d65_row4_col18\" class=\"data row4 col18\" >0</td>\n",
       "      <td id=\"T_a0d65_row4_col19\" class=\"data row4 col19\" >1</td>\n",
       "      <td id=\"T_a0d65_row4_col20\" class=\"data row4 col20\" >0</td>\n",
       "      <td id=\"T_a0d65_row4_col21\" class=\"data row4 col21\" >0</td>\n",
       "      <td id=\"T_a0d65_row4_col22\" class=\"data row4 col22\" >0</td>\n",
       "      <td id=\"T_a0d65_row4_col23\" class=\"data row4 col23\" >1</td>\n",
       "      <td id=\"T_a0d65_row4_col24\" class=\"data row4 col24\" >0</td>\n",
       "      <td id=\"T_a0d65_row4_col25\" class=\"data row4 col25\" >0</td>\n",
       "      <td id=\"T_a0d65_row4_col26\" class=\"data row4 col26\" >0</td>\n",
       "      <td id=\"T_a0d65_row4_col27\" class=\"data row4 col27\" >0</td>\n",
       "      <td id=\"T_a0d65_row4_col28\" class=\"data row4 col28\" >0</td>\n",
       "      <td id=\"T_a0d65_row4_col29\" class=\"data row4 col29\" >A</td>\n",
       "    </tr>\n",
       "  </tbody>\n",
       "</table>\n"
      ],
      "text/plain": [
       "<pandas.io.formats.style.Styler at 0x7fe51404f910>"
      ]
     },
     "metadata": {},
     "output_type": "display_data"
    }
   ],
   "source": [
    "co2.styles.displayer(df)"
   ]
  },
  {
   "cell_type": "code",
   "execution_count": 11,
   "metadata": {},
   "outputs": [
    {
     "data": {
      "text/plain": [
       "InnovativeTechnology\n",
       "0    2441\n",
       "1    2308\n",
       "Name: count, dtype: int64"
      ]
     },
     "execution_count": 11,
     "metadata": {},
     "output_type": "execute_result"
    }
   ],
   "source": [
    "df['InnovativeTechnology'].value_counts()"
   ]
  },
  {
   "cell_type": "code",
   "execution_count": 12,
   "metadata": {},
   "outputs": [
    {
     "data": {
      "application/vnd.plotly.v1+json": {
       "config": {
        "plotlyServerURL": "https://plot.ly"
       },
       "data": [
        {
         "colorscale": [
          [
           0,
           "rgb(5,48,97)"
          ],
          [
           0.1,
           "rgb(33,102,172)"
          ],
          [
           0.2,
           "rgb(67,147,195)"
          ],
          [
           0.3,
           "rgb(146,197,222)"
          ],
          [
           0.4,
           "rgb(209,229,240)"
          ],
          [
           0.5,
           "rgb(247,247,247)"
          ],
          [
           0.6,
           "rgb(253,219,199)"
          ],
          [
           0.7,
           "rgb(244,165,130)"
          ],
          [
           0.8,
           "rgb(214,96,77)"
          ],
          [
           0.9,
           "rgb(178,24,43)"
          ],
          [
           1,
           "rgb(103,0,31)"
          ]
         ],
         "type": "heatmap",
         "x": [
          "MassRunningOrder",
          "Co2EmissionsWltp",
          "BaseWheel",
          "EnginePower",
          "InnovativeTechnology",
          "ElecRange_NO_RANGE",
          "ElecRange_0to50",
          "ElecRange_50to100",
          "ElecRange_100to150",
          "ElecRange_150+",
          "Pool_BMW",
          "Pool_FORD",
          "Pool_HYUNDAI",
          "Pool_KIA",
          "Pool_MAZDA-SUBARU-SUZUKI-TOYOTA",
          "Pool_MERCEDES-BENZ",
          "Pool_RENAULT-NISSAN-MITSUBISHI",
          "Pool_STELLANTIS",
          "Pool_TESLA",
          "Pool_VW-SAIC",
          "FuelType_DIESEL",
          "FuelType_DIESEL/ELECTRIC",
          "FuelType_E85",
          "FuelType_ELECTRIC",
          "FuelType_LPG",
          "FuelType_NG",
          "FuelType_NG-BIOMETHANE",
          "FuelType_PETROL",
          "FuelType_PETROL/ELECTRIC"
         ],
         "y": [
          "MassRunningOrder",
          "Co2EmissionsWltp",
          "BaseWheel",
          "EnginePower",
          "InnovativeTechnology",
          "ElecRange_NO_RANGE",
          "ElecRange_0to50",
          "ElecRange_50to100",
          "ElecRange_100to150",
          "ElecRange_150+",
          "Pool_BMW",
          "Pool_FORD",
          "Pool_HYUNDAI",
          "Pool_KIA",
          "Pool_MAZDA-SUBARU-SUZUKI-TOYOTA",
          "Pool_MERCEDES-BENZ",
          "Pool_RENAULT-NISSAN-MITSUBISHI",
          "Pool_STELLANTIS",
          "Pool_TESLA",
          "Pool_VW-SAIC",
          "FuelType_DIESEL",
          "FuelType_DIESEL/ELECTRIC",
          "FuelType_E85",
          "FuelType_ELECTRIC",
          "FuelType_LPG",
          "FuelType_NG",
          "FuelType_NG-BIOMETHANE",
          "FuelType_PETROL",
          "FuelType_PETROL/ELECTRIC"
         ],
         "z": [
          [
           1,
           -0.10137549893224795,
           0.8012753714216998,
           0.6846198903891594,
           -0.21908561303852536,
           -0.4216365408658419,
           0.2219844714892174,
           0.2756183159849436,
           -0.018842679572959275,
           -0.05132051691338783,
           0.21819571322532028,
           0.06888313779055691,
           -0.020316862059158346,
           -0.04300340550745956,
           -0.0902745196135587,
           0.24702662570329148,
           -0.17196031225592487,
           -0.2504575111376926,
           0.22015902981310187,
           0.08581361469965594,
           0.2545951889018365,
           0.16340390447844938,
           0.01991028185221157,
           0.264300724835961,
           -0.10070872649855266,
           -0.026266010086171396,
           -0.027253830692945246,
           -0.5418719909342053,
           0.35571093554397193
          ],
          [
           -0.10137549893224795,
           1,
           0.13424703325216583,
           0.24291351957517646,
           0.34865665789938055,
           0.7157908116771107,
           -0.1487960186160377,
           -0.33588578903558736,
           -0.09021320884947207,
           -0.2734325434758628,
           0.021779159760412017,
           0.02640329179773995,
           -0.002663459619587319,
           -0.020881448675682757,
           0.003578041503905888,
           0.005614250619455862,
           -0.035657902905432054,
           -0.0024284936108564755,
           -0.14704108091749385,
           0.0668515742516731,
           0.2906259755820277,
           -0.09933167911276712,
           0.026705622160715623,
           -0.7276751200023204,
           0.013142637728990802,
           -0.010039248894217766,
           -0.002590835651798537,
           0.38305446393199644,
           -0.3794117705206527
          ],
          [
           0.8012753714216998,
           0.13424703325216583,
           1,
           0.5599936971306132,
           -0.015675683586744076,
           -0.12099096646189052,
           0.10436312945630179,
           0.11607561322226585,
           -0.11688800990937076,
           -0.1565748353793256,
           0.17667827097948607,
           0.06691652439835405,
           -0.022966238652233722,
           -0.04398201068534402,
           -0.07911100803670708,
           0.20708256435444483,
           -0.056703637250141346,
           -0.24558251947801146,
           0.15798934908590645,
           0.05485940404853869,
           0.3500100596848897,
           0.09879642994544205,
           0.0025462558907719097,
           0.032262611724698714,
           -0.04594336382187643,
           -0.019484704339557565,
           -0.05074006081660412,
           -0.3912375795930314,
           0.15424019465942918
          ],
          [
           0.6846198903891594,
           0.24291351957517646,
           0.5599936971306132,
           1,
           -0.08013874748898311,
           -0.14057611555523217,
           0.0904579388105056,
           0.13799983813847547,
           -0.03359312286979613,
           -0.09772067829931595,
           0.2363549240544231,
           0.03260409868193573,
           -0.02995684712225071,
           -0.041965960033113654,
           -0.07691237577816028,
           0.2064974258360336,
           -0.2031601838254024,
           -0.20885593866947982,
           0.19682200097382374,
           0.10185847081231439,
           0.12467462957247699,
           0.060928409621541745,
           0.01385778848746539,
           0.0025371219875159542,
           -0.09885414004191088,
           -0.03307163082292481,
           -0.02588781054290786,
           -0.164834359937469,
           0.1653097970942796
          ],
          [
           -0.21908561303852536,
           0.34865665789938055,
           -0.015675683586744076,
           -0.08013874748898311,
           1,
           0.3767969822110753,
           -0.13742603010371982,
           -0.20706002128096024,
           -0.039943307927871353,
           -0.11806893106085885,
           -0.02221870473494592,
           0.0768860186429162,
           -0.10991574334601213,
           -0.07843104336325302,
           0.000980257166254537,
           -0.06704274226937468,
           0.07388961156917181,
           0.03219236830781229,
           -0.09711261198002631,
           0.04638143023521178,
           0.12619491076487294,
           -0.06783456930023284,
           -0.014111677974473049,
           -0.3142121361491858,
           -0.01379109957815887,
           -0.03493188948115511,
           -0.018576957869647612,
           0.22911044025039912,
           -0.2609320888457336
          ],
          [
           -0.4216365408658419,
           0.7157908116771107,
           -0.12099096646189052,
           -0.14057611555523217,
           0.3767969822110753,
           1,
           -0.3647216845986733,
           -0.5495267506281902,
           -0.10600750487299752,
           -0.31334892962257893,
           -0.033059590834953995,
           0.004248718639825058,
           0.007741950326891356,
           -0.032434729258017894,
           0.09598658784330531,
           -0.15821394188832275,
           0.03346491164493804,
           0.062222729380556945,
           -0.13485159855160045,
           0.014398948036008307,
           0.215398448318903,
           -0.18002949201496812,
           0.005623646951465177,
           -0.5583429938233825,
           0.05994728524571616,
           0.024559506364186925,
           0.012580157120962353,
           0.4424869882934595,
           -0.5826405347368022
          ],
          [
           0.2219844714892174,
           -0.1487960186160377,
           0.10436312945630179,
           0.0904579388105056,
           -0.13742603010371982,
           -0.3647216845986733,
           1,
           -0.03009519975226754,
           -0.005805571850224436,
           -0.017160763544942066,
           0.039903491216731576,
           -0.014727739192017787,
           -0.029245279815398005,
           0.060286053977597315,
           -0.045218529586563035,
           0.145565726738676,
           -0.02623668968210533,
           -0.01683878052982136,
           -0.006200033779847159,
           -0.03869122432825707,
           -0.07856048493081055,
           0.3403786865291284,
           -0.002051065989726583,
           -0.045669255433742735,
           -0.021864074861934767,
           -0.008957384534058092,
           -0.004588256097673384,
           -0.15923664575935526,
           0.4234673192707423
          ],
          [
           0.2756183159849436,
           -0.33588578903558736,
           0.11607561322226585,
           0.13799983813847547,
           -0.20706002128096024,
           -0.5495267506281902,
           -0.03009519975226754,
           1,
           -0.008747264473465095,
           -0.025856150120406,
           0.009310738539884771,
           0.0217066472469172,
           -0.012807822167194775,
           -0.004116965735145906,
           -0.02895369098359856,
           0.11153791101495052,
           -0.06489877806854634,
           -0.046382239431138485,
           0.025056864598275826,
           0.03882629058037405,
           -0.11836720939504047,
           0.08937278471803312,
           -0.0030903444359187886,
           -0.0688099408449725,
           -0.03294263687005956,
           -0.013496105729343939,
           -0.006913132865074496,
           -0.2424582054938084,
           0.760503699389112
          ],
          [
           -0.018842679572959275,
           -0.09021320884947207,
           -0.11688800990937076,
           -0.03359312286979613,
           -0.039943307927871353,
           -0.10600750487299752,
           -0.005805571850224436,
           -0.008747264473465095,
           1,
           -0.00498782990409949,
           -0.011764635491506362,
           -0.008658112478014686,
           -0.008500232570362106,
           -0.008680471571285653,
           -0.01314290786074855,
           0.1699954920725609,
           -0.01654693644748718,
           -0.02191256212869035,
           -0.007079875979911727,
           -0.024339123311427957,
           -0.022833852059802224,
           -0.0028656759254727894,
           -0.0005961487816114615,
           0.10957260212466201,
           -0.0063548621328082455,
           -0.002603491990579966,
           -0.0013335910673034838,
           -0.04717450282213364,
           0.00948970869508383
          ],
          [
           -0.05132051691338783,
           -0.2734325434758628,
           -0.1565748353793256,
           -0.09772067829931595,
           -0.11806893106085885,
           -0.31334892962257893,
           -0.017160763544942066,
           -0.025856150120406,
           -0.00498782990409949,
           1,
           0.03170930283221883,
           -0.025592624605098778,
           -0.025125945381480382,
           -0.02565871613278976,
           -0.032786148788639266,
           0.05544398317201281,
           0.09325831425873642,
           -0.0520587579005496,
           -0.020927495301618398,
           -0.007741454596580452,
           -0.06749487322309272,
           -0.008470687853354295,
           -0.0017621637528168997,
           0.3757618420085483,
           -0.018784417665524616,
           -0.00769569503127687,
           -0.003941978768337418,
           -0.1394437118626902,
           -0.032583302265152395
          ],
          [
           0.21819571322532028,
           0.021779159760412017,
           0.17667827097948607,
           0.2363549240544231,
           -0.02221870473494592,
           -0.033059590834953995,
           0.039903491216731576,
           0.009310738539884771,
           -0.011764635491506362,
           0.03170930283221883,
           1,
           -0.060364508321039345,
           -0.05926376690385156,
           -0.06052039630184741,
           -0.09163257845602961,
           -0.06920557332476075,
           -0.11536552399941635,
           -0.1527747580447149,
           -0.049361016455552624,
           -0.169692784124743,
           0.09558507765398432,
           -0.019979541578821206,
           -0.004156359504400238,
           -0.008256651188980724,
           -0.04430620750989846,
           -0.018151590699265172,
           -0.009297819736521166,
           -0.11043749722051521,
           0.10429990694176416
          ],
          [
           0.06888313779055691,
           0.02640329179773995,
           0.06691652439835405,
           0.03260409868193573,
           0.0768860186429162,
           0.004248718639825058,
           -0.014727739192017787,
           0.0217066472469172,
           -0.008658112478014686,
           -0.025592624605098778,
           -0.060364508321039345,
           1,
           -0.04361481153367145,
           -0.04453962035404523,
           -0.06743644301564596,
           -0.05093142395987255,
           -0.08490256103499232,
           -0.11243366102652316,
           -0.03632694211476919,
           -0.12488438020202342,
           0.0425524271135163,
           -0.014703823027368333,
           -0.0030588476892585135,
           -0.028880348364130618,
           -0.025700717864834882,
           -0.013358553611166812,
           -0.006842674312963186,
           -0.01661845897307208,
           0.018471107108292813
          ],
          [
           -0.020316862059158346,
           -0.002663459619587319,
           -0.022966238652233722,
           -0.02995684712225071,
           -0.10991574334601213,
           0.007741950326891356,
           -0.029245279815398005,
           -0.012807822167194775,
           -0.008500232570362106,
           -0.025125945381480382,
           -0.05926376690385156,
           -0.04361481153367145,
           1,
           -0.04372744435538093,
           -0.06620674550100103,
           -0.05000269399340239,
           -0.08335437041842167,
           -0.1103834432608161,
           -0.03566452357020241,
           -0.12260712468430919,
           -0.06504604704084258,
           -0.014435700127879996,
           -0.0030030698748757787,
           0.009297412082449118,
           -0.01796504672629473,
           -0.013114961579317042,
           -0.006717898758086676,
           0.07305207994548012,
           -0.025853391675546514
          ],
          [
           -0.04300340550745956,
           -0.020881448675682757,
           -0.04398201068534402,
           -0.041965960033113654,
           -0.07843104336325302,
           -0.032434729258017894,
           0.060286053977597315,
           -0.004116965735145906,
           -0.008680471571285653,
           -0.02565871613278976,
           -0.06052039630184741,
           -0.04453962035404523,
           -0.04372744435538093,
           1,
           -0.067610593873939,
           -0.051062951525682236,
           -0.08512181717031533,
           -0.11272401469426137,
           -0.03642075441959353,
           -0.12520688715860406,
           -0.05863128994609297,
           -0.014741794831424168,
           -0.003066746993057034,
           -0.007801847200741773,
           0.015538170213579517,
           -0.013393051331878455,
           -0.0068603451382815706,
           0.03477275590582003,
           0.038941008088017696
          ],
          [
           -0.0902745196135587,
           0.003578041503905888,
           -0.07911100803670708,
           -0.07691237577816028,
           0.000980257166254537,
           0.09598658784330531,
           -0.045218529586563035,
           -0.02895369098359856,
           -0.01314290786074855,
           -0.032786148788639266,
           -0.09163257845602961,
           -0.06743644301564596,
           -0.06620674550100103,
           -0.067610593873939,
           1,
           -0.07731327284336835,
           -0.12888103956352814,
           -0.17067290949043762,
           -0.05514384968889137,
           -0.18957294749978176,
           -0.15393001957643115,
           -0.02232022184282907,
           -0.004643293032063561,
           -0.0984287924064284,
           -0.0398929386309923,
           -0.020278119475839063,
           -0.010387095137046241,
           0.23172408127218097,
           -0.04528022596570397
          ],
          [
           0.24702662570329148,
           0.005614250619455862,
           0.20708256435444483,
           0.2064974258360336,
           -0.06704274226937468,
           -0.15821394188832275,
           0.145565726738676,
           0.11153791101495052,
           0.1699954920725609,
           0.05544398317201281,
           -0.06920557332476075,
           -0.05093142395987255,
           -0.05000269399340239,
           -0.051062951525682236,
           -0.07731327284336835,
           1,
           -0.09733750139929821,
           -0.12890084237844013,
           -0.04164743366776926,
           -0.14317511020256393,
           0.10024335899338449,
           0.2886984475233419,
           -0.003506850530818825,
           0.013330379380500433,
           -0.037382533238562346,
           -0.015315064881065753,
           -0.007844861360995778,
           -0.16390502926786157,
           0.08622026180674312
          ],
          [
           -0.17196031225592487,
           -0.035657902905432054,
           -0.056703637250141346,
           -0.2031601838254024,
           0.07388961156917181,
           0.03346491164493804,
           -0.02623668968210533,
           -0.06489877806854634,
           -0.01654693644748718,
           0.09325831425873642,
           -0.11536552399941635,
           -0.08490256103499232,
           -0.08335437041842167,
           -0.08512181717031533,
           -0.12888103956352814,
           -0.09733750139929821,
           1,
           -0.21487739369156278,
           -0.06942617158543345,
           -0.2386725637642155,
           -0.06509988475941884,
           -0.028101185539778577,
           -0.005845911386024124,
           0.027650813623952285,
           0.31166679478954434,
           -0.02553017625904225,
           0.005656995895526341,
           -0.011141824511723167,
           -0.07411358092752034
          ],
          [
           -0.2504575111376926,
           -0.0024284936108564755,
           -0.24558251947801146,
           -0.20885593866947982,
           0.03219236830781229,
           0.062222729380556945,
           -0.01683878052982136,
           -0.046382239431138485,
           -0.02191256212869035,
           -0.0520587579005496,
           -0.1527747580447149,
           -0.11243366102652316,
           -0.1103834432608161,
           -0.11272401469426137,
           -0.17067290949043762,
           -0.12890084237844013,
           -0.21487739369156278,
           1,
           -0.09193878897467787,
           -0.31606620346278075,
           0.05573450726852254,
           -0.037213473079106635,
           -0.007741547618291899,
           -0.03892894713630469,
           -0.06238684577262941,
           -0.033808770294614536,
           0.04522414288606363,
           0.029357884893587025,
           -0.05604059830922558
          ],
          [
           0.22015902981310187,
           -0.14704108091749385,
           0.15798934908590645,
           0.19682200097382374,
           -0.09711261198002631,
           -0.13485159855160045,
           -0.006200033779847159,
           0.025056864598275826,
           -0.007079875979911727,
           -0.020927495301618398,
           -0.049361016455552624,
           -0.03632694211476919,
           -0.03566452357020241,
           -0.03642075441959353,
           -0.05514384968889137,
           -0.04164743366776926,
           -0.06942617158543345,
           -0.09193878897467787,
           1,
           -0.1021199396408403,
           -0.042478957098614996,
           -0.012023549443216324,
           0.08420328029798314,
           0.25818580832247945,
           -0.02666316814802996,
           -0.010923501291790714,
           -0.005595363380843433,
           -0.11410360712816789,
           0.014059161546679182
          ],
          [
           0.08581361469965594,
           0.0668515742516731,
           0.05485940404853869,
           0.10185847081231439,
           0.04638143023521178,
           0.014398948036008307,
           -0.03869122432825707,
           0.03882629058037405,
           -0.024339123311427957,
           -0.007741454596580452,
           -0.169692784124743,
           -0.12488438020202342,
           -0.12260712468430919,
           -0.12520688715860406,
           -0.18957294749978176,
           -0.14317511020256393,
           -0.2386725637642155,
           -0.31606620346278075,
           -0.1021199396408403,
           1,
           0.04377449224792075,
           -0.041334432039463576,
           -0.00859883390159076,
           -0.007663810124910673,
           -0.09166235952007852,
           0.10696736925432085,
           -0.019235681484394408,
           -0.018264818548918437,
           0.013637552718033288
          ],
          [
           0.2545951889018365,
           0.2906259755820277,
           0.3500100596848897,
           0.12467462957247699,
           0.12619491076487294,
           0.215398448318903,
           -0.07856048493081055,
           -0.11836720939504047,
           -0.022833852059802224,
           -0.06749487322309272,
           0.09558507765398432,
           0.0425524271135163,
           -0.06504604704084258,
           -0.05863128994609297,
           -0.15393001957643115,
           0.10024335899338449,
           -0.06509988475941884,
           0.05573450726852254,
           -0.042478957098614996,
           0.04377449224792075,
           1,
           -0.038778073231664524,
           -0.008067032599466971,
           -0.17962141355895672,
           -0.08599343246480708,
           -0.03523022340780012,
           -0.01804603640254817,
           -0.6383612008752321,
           -0.14916352759560134
          ],
          [
           0.16340390447844938,
           -0.09933167911276712,
           0.09879642994544205,
           0.060928409621541745,
           -0.06783456930023284,
           -0.18002949201496812,
           0.3403786865291284,
           0.08937278471803312,
           -0.0028656759254727894,
           -0.008470687853354295,
           -0.019979541578821206,
           -0.014703823027368333,
           -0.014435700127879996,
           -0.014741794831424168,
           -0.02232022184282907,
           0.2886984475233419,
           -0.028101185539778577,
           -0.037213473079106635,
           -0.012023549443216324,
           -0.041334432039463576,
           -0.038778073231664524,
           1,
           -0.001012422303943802,
           -0.022542703665907698,
           -0.010792279310462657,
           -0.004421435454882942,
           -0.0022647992959553324,
           -0.08011509929700027,
           -0.018720202306198797
          ],
          [
           0.01991028185221157,
           0.026705622160715623,
           0.0025462558907719097,
           0.01385778848746539,
           -0.014111677974473049,
           0.005623646951465177,
           -0.002051065989726583,
           -0.0030903444359187886,
           -0.0005961487816114615,
           -0.0017621637528168997,
           -0.004156359504400238,
           -0.0030588476892585135,
           -0.0030030698748757787,
           -0.003066746993057034,
           -0.004643293032063561,
           -0.003506850530818825,
           -0.005845911386024124,
           -0.007741547618291899,
           0.08420328029798314,
           -0.00859883390159076,
           -0.008067032599466971,
           -0.001012422303943802,
           1,
           -0.004689576097981801,
           -0.0022451262212008177,
           -0.0009197946411080365,
           -0.0004711479511262291,
           -0.016666406138268468,
           -0.0038943781804354903
          ],
          [
           0.264300724835961,
           -0.7276751200023204,
           0.032262611724698714,
           0.0025371219875159542,
           -0.3142121361491858,
           -0.5583429938233825,
           -0.045669255433742735,
           -0.0688099408449725,
           0.10957260212466201,
           0.3757618420085483,
           -0.008256651188980724,
           -0.028880348364130618,
           0.009297412082449118,
           -0.007801847200741773,
           -0.0984287924064284,
           0.013330379380500433,
           0.027650813623952285,
           -0.03892894713630469,
           0.25818580832247945,
           -0.007663810124910673,
           -0.17962141355895672,
           -0.022542703665907698,
           -0.004689576097981801,
           1,
           -0.0499902213729762,
           -0.02048024618503391,
           -0.010490630840179175,
           -0.37109598760035284,
           -0.08671264248382932
          ],
          [
           -0.10070872649855266,
           0.013142637728990802,
           -0.04594336382187643,
           -0.09885414004191088,
           -0.01379109957815887,
           0.05994728524571616,
           -0.021864074861934767,
           -0.03294263687005956,
           -0.0063548621328082455,
           -0.018784417665524616,
           -0.04430620750989846,
           -0.025700717864834882,
           -0.01796504672629473,
           0.015538170213579517,
           -0.0398929386309923,
           -0.037382533238562346,
           0.31166679478954434,
           -0.06238684577262941,
           -0.02666316814802996,
           -0.09166235952007852,
           -0.08599343246480708,
           -0.010792279310462657,
           -0.0022451262212008177,
           -0.0499902213729762,
           1,
           -0.00980488145750656,
           -0.00502237086766978,
           -0.1776615444416237,
           -0.04151352345766183
          ],
          [
           -0.026266010086171396,
           -0.010039248894217766,
           -0.019484704339557565,
           -0.03307163082292481,
           -0.03493188948115511,
           0.024559506364186925,
           -0.008957384534058092,
           -0.013496105729343939,
           -0.002603491990579966,
           -0.00769569503127687,
           -0.018151590699265172,
           -0.013358553611166812,
           -0.013114961579317042,
           -0.013393051331878455,
           -0.020278119475839063,
           -0.015315064881065753,
           -0.02553017625904225,
           -0.033808770294614536,
           -0.010923501291790714,
           0.10696736925432085,
           -0.03523022340780012,
           -0.004421435454882942,
           -0.0009197946411080365,
           -0.02048024618503391,
           -0.00980488145750656,
           1,
           -0.0020575902441997123,
           -0.07278527815731453,
           -0.017007469802498322
          ],
          [
           -0.027253830692945246,
           -0.002590835651798537,
           -0.05074006081660412,
           -0.02588781054290786,
           -0.018576957869647612,
           0.012580157120962353,
           -0.004588256097673384,
           -0.006913132865074496,
           -0.0013335910673034838,
           -0.003941978768337418,
           -0.009297819736521166,
           -0.006842674312963186,
           -0.006717898758086676,
           -0.0068603451382815706,
           -0.010387095137046241,
           -0.007844861360995778,
           0.005656995895526341,
           0.04522414288606363,
           -0.005595363380843433,
           -0.019235681484394408,
           -0.01804603640254817,
           -0.0022647992959553324,
           -0.0004711479511262291,
           -0.010490630840179175,
           -0.00502237086766978,
           -0.0020575902441997123,
           1,
           -0.03728292506103386,
           -0.008711764771357359
          ],
          [
           -0.5418719909342053,
           0.38305446393199644,
           -0.3912375795930314,
           -0.164834359937469,
           0.22911044025039912,
           0.4424869882934595,
           -0.15923664575935526,
           -0.2424582054938084,
           -0.04717450282213364,
           -0.1394437118626902,
           -0.11043749722051521,
           -0.01661845897307208,
           0.07305207994548012,
           0.03477275590582003,
           0.23172408127218097,
           -0.16390502926786157,
           -0.011141824511723167,
           0.029357884893587025,
           -0.11410360712816789,
           -0.018264818548918437,
           -0.6383612008752321,
           -0.08011509929700027,
           -0.016666406138268468,
           -0.37109598760035284,
           -0.1776615444416237,
           -0.07278527815731453,
           -0.03728292506103386,
           1,
           -0.3081703093761341
          ],
          [
           0.35571093554397193,
           -0.3794117705206527,
           0.15424019465942918,
           0.1653097970942796,
           -0.2609320888457336,
           -0.5826405347368022,
           0.4234673192707423,
           0.760503699389112,
           0.00948970869508383,
           -0.032583302265152395,
           0.10429990694176416,
           0.018471107108292813,
           -0.025853391675546514,
           0.038941008088017696,
           -0.04528022596570397,
           0.08622026180674312,
           -0.07411358092752034,
           -0.05604059830922558,
           0.014059161546679182,
           0.013637552718033288,
           -0.14916352759560134,
           -0.018720202306198797,
           -0.0038943781804354903,
           -0.08671264248382932,
           -0.04151352345766183,
           -0.017007469802498322,
           -0.008711764771357359,
           -0.3081703093761341,
           1
          ]
         ]
        }
       ],
       "layout": {
        "annotations": [
         {
          "font": {
           "color": "white",
           "size": 16
          },
          "showarrow": false,
          "text": "1.0",
          "x": "MassRunningOrder",
          "y": "MassRunningOrder"
         },
         {
          "font": {
           "color": "black",
           "size": 16
          },
          "showarrow": false,
          "text": "-0.1",
          "x": "Co2EmissionsWltp",
          "y": "MassRunningOrder"
         },
         {
          "font": {
           "color": "white",
           "size": 16
          },
          "showarrow": false,
          "text": "0.8",
          "x": "BaseWheel",
          "y": "MassRunningOrder"
         },
         {
          "font": {
           "color": "white",
           "size": 16
          },
          "showarrow": false,
          "text": "0.68",
          "x": "EnginePower",
          "y": "MassRunningOrder"
         },
         {
          "font": {
           "color": "black",
           "size": 16
          },
          "showarrow": false,
          "text": "-0.22",
          "x": "InnovativeTechnology",
          "y": "MassRunningOrder"
         },
         {
          "font": {
           "color": "black",
           "size": 16
          },
          "showarrow": false,
          "text": "-0.42",
          "x": "ElecRange_NO_RANGE",
          "y": "MassRunningOrder"
         },
         {
          "font": {
           "color": "black",
           "size": 16
          },
          "showarrow": false,
          "text": "0.22",
          "x": "ElecRange_0to50",
          "y": "MassRunningOrder"
         },
         {
          "font": {
           "color": "black",
           "size": 16
          },
          "showarrow": false,
          "text": "0.28",
          "x": "ElecRange_50to100",
          "y": "MassRunningOrder"
         },
         {
          "font": {
           "color": "black",
           "size": 16
          },
          "showarrow": false,
          "text": "-0.02",
          "x": "ElecRange_100to150",
          "y": "MassRunningOrder"
         },
         {
          "font": {
           "color": "black",
           "size": 16
          },
          "showarrow": false,
          "text": "-0.05",
          "x": "ElecRange_150+",
          "y": "MassRunningOrder"
         },
         {
          "font": {
           "color": "black",
           "size": 16
          },
          "showarrow": false,
          "text": "0.22",
          "x": "Pool_BMW",
          "y": "MassRunningOrder"
         },
         {
          "font": {
           "color": "black",
           "size": 16
          },
          "showarrow": false,
          "text": "0.07",
          "x": "Pool_FORD",
          "y": "MassRunningOrder"
         },
         {
          "font": {
           "color": "black",
           "size": 16
          },
          "showarrow": false,
          "text": "-0.02",
          "x": "Pool_HYUNDAI",
          "y": "MassRunningOrder"
         },
         {
          "font": {
           "color": "black",
           "size": 16
          },
          "showarrow": false,
          "text": "-0.04",
          "x": "Pool_KIA",
          "y": "MassRunningOrder"
         },
         {
          "font": {
           "color": "black",
           "size": 16
          },
          "showarrow": false,
          "text": "-0.09",
          "x": "Pool_MAZDA-SUBARU-SUZUKI-TOYOTA",
          "y": "MassRunningOrder"
         },
         {
          "font": {
           "color": "black",
           "size": 16
          },
          "showarrow": false,
          "text": "0.25",
          "x": "Pool_MERCEDES-BENZ",
          "y": "MassRunningOrder"
         },
         {
          "font": {
           "color": "black",
           "size": 16
          },
          "showarrow": false,
          "text": "-0.17",
          "x": "Pool_RENAULT-NISSAN-MITSUBISHI",
          "y": "MassRunningOrder"
         },
         {
          "font": {
           "color": "black",
           "size": 16
          },
          "showarrow": false,
          "text": "-0.25",
          "x": "Pool_STELLANTIS",
          "y": "MassRunningOrder"
         },
         {
          "font": {
           "color": "black",
           "size": 16
          },
          "showarrow": false,
          "text": "0.22",
          "x": "Pool_TESLA",
          "y": "MassRunningOrder"
         },
         {
          "font": {
           "color": "black",
           "size": 16
          },
          "showarrow": false,
          "text": "0.09",
          "x": "Pool_VW-SAIC",
          "y": "MassRunningOrder"
         },
         {
          "font": {
           "color": "black",
           "size": 16
          },
          "showarrow": false,
          "text": "0.25",
          "x": "FuelType_DIESEL",
          "y": "MassRunningOrder"
         },
         {
          "font": {
           "color": "black",
           "size": 16
          },
          "showarrow": false,
          "text": "0.16",
          "x": "FuelType_DIESEL/ELECTRIC",
          "y": "MassRunningOrder"
         },
         {
          "font": {
           "color": "black",
           "size": 16
          },
          "showarrow": false,
          "text": "0.02",
          "x": "FuelType_E85",
          "y": "MassRunningOrder"
         },
         {
          "font": {
           "color": "black",
           "size": 16
          },
          "showarrow": false,
          "text": "0.26",
          "x": "FuelType_ELECTRIC",
          "y": "MassRunningOrder"
         },
         {
          "font": {
           "color": "black",
           "size": 16
          },
          "showarrow": false,
          "text": "-0.1",
          "x": "FuelType_LPG",
          "y": "MassRunningOrder"
         },
         {
          "font": {
           "color": "black",
           "size": 16
          },
          "showarrow": false,
          "text": "-0.03",
          "x": "FuelType_NG",
          "y": "MassRunningOrder"
         },
         {
          "font": {
           "color": "black",
           "size": 16
          },
          "showarrow": false,
          "text": "-0.03",
          "x": "FuelType_NG-BIOMETHANE",
          "y": "MassRunningOrder"
         },
         {
          "font": {
           "color": "white",
           "size": 16
          },
          "showarrow": false,
          "text": "-0.54",
          "x": "FuelType_PETROL",
          "y": "MassRunningOrder"
         },
         {
          "font": {
           "color": "black",
           "size": 16
          },
          "showarrow": false,
          "text": "0.36",
          "x": "FuelType_PETROL/ELECTRIC",
          "y": "MassRunningOrder"
         },
         {
          "font": {
           "color": "black",
           "size": 16
          },
          "showarrow": false,
          "text": "-0.1",
          "x": "MassRunningOrder",
          "y": "Co2EmissionsWltp"
         },
         {
          "font": {
           "color": "white",
           "size": 16
          },
          "showarrow": false,
          "text": "1.0",
          "x": "Co2EmissionsWltp",
          "y": "Co2EmissionsWltp"
         },
         {
          "font": {
           "color": "black",
           "size": 16
          },
          "showarrow": false,
          "text": "0.13",
          "x": "BaseWheel",
          "y": "Co2EmissionsWltp"
         },
         {
          "font": {
           "color": "black",
           "size": 16
          },
          "showarrow": false,
          "text": "0.24",
          "x": "EnginePower",
          "y": "Co2EmissionsWltp"
         },
         {
          "font": {
           "color": "black",
           "size": 16
          },
          "showarrow": false,
          "text": "0.35",
          "x": "InnovativeTechnology",
          "y": "Co2EmissionsWltp"
         },
         {
          "font": {
           "color": "white",
           "size": 16
          },
          "showarrow": false,
          "text": "0.72",
          "x": "ElecRange_NO_RANGE",
          "y": "Co2EmissionsWltp"
         },
         {
          "font": {
           "color": "black",
           "size": 16
          },
          "showarrow": false,
          "text": "-0.15",
          "x": "ElecRange_0to50",
          "y": "Co2EmissionsWltp"
         },
         {
          "font": {
           "color": "black",
           "size": 16
          },
          "showarrow": false,
          "text": "-0.34",
          "x": "ElecRange_50to100",
          "y": "Co2EmissionsWltp"
         },
         {
          "font": {
           "color": "black",
           "size": 16
          },
          "showarrow": false,
          "text": "-0.09",
          "x": "ElecRange_100to150",
          "y": "Co2EmissionsWltp"
         },
         {
          "font": {
           "color": "black",
           "size": 16
          },
          "showarrow": false,
          "text": "-0.27",
          "x": "ElecRange_150+",
          "y": "Co2EmissionsWltp"
         },
         {
          "font": {
           "color": "black",
           "size": 16
          },
          "showarrow": false,
          "text": "0.02",
          "x": "Pool_BMW",
          "y": "Co2EmissionsWltp"
         },
         {
          "font": {
           "color": "black",
           "size": 16
          },
          "showarrow": false,
          "text": "0.03",
          "x": "Pool_FORD",
          "y": "Co2EmissionsWltp"
         },
         {
          "font": {
           "color": "black",
           "size": 16
          },
          "showarrow": false,
          "text": "-0.0",
          "x": "Pool_HYUNDAI",
          "y": "Co2EmissionsWltp"
         },
         {
          "font": {
           "color": "black",
           "size": 16
          },
          "showarrow": false,
          "text": "-0.02",
          "x": "Pool_KIA",
          "y": "Co2EmissionsWltp"
         },
         {
          "font": {
           "color": "black",
           "size": 16
          },
          "showarrow": false,
          "text": "0.0",
          "x": "Pool_MAZDA-SUBARU-SUZUKI-TOYOTA",
          "y": "Co2EmissionsWltp"
         },
         {
          "font": {
           "color": "black",
           "size": 16
          },
          "showarrow": false,
          "text": "0.01",
          "x": "Pool_MERCEDES-BENZ",
          "y": "Co2EmissionsWltp"
         },
         {
          "font": {
           "color": "black",
           "size": 16
          },
          "showarrow": false,
          "text": "-0.04",
          "x": "Pool_RENAULT-NISSAN-MITSUBISHI",
          "y": "Co2EmissionsWltp"
         },
         {
          "font": {
           "color": "black",
           "size": 16
          },
          "showarrow": false,
          "text": "-0.0",
          "x": "Pool_STELLANTIS",
          "y": "Co2EmissionsWltp"
         },
         {
          "font": {
           "color": "black",
           "size": 16
          },
          "showarrow": false,
          "text": "-0.15",
          "x": "Pool_TESLA",
          "y": "Co2EmissionsWltp"
         },
         {
          "font": {
           "color": "black",
           "size": 16
          },
          "showarrow": false,
          "text": "0.07",
          "x": "Pool_VW-SAIC",
          "y": "Co2EmissionsWltp"
         },
         {
          "font": {
           "color": "black",
           "size": 16
          },
          "showarrow": false,
          "text": "0.29",
          "x": "FuelType_DIESEL",
          "y": "Co2EmissionsWltp"
         },
         {
          "font": {
           "color": "black",
           "size": 16
          },
          "showarrow": false,
          "text": "-0.1",
          "x": "FuelType_DIESEL/ELECTRIC",
          "y": "Co2EmissionsWltp"
         },
         {
          "font": {
           "color": "black",
           "size": 16
          },
          "showarrow": false,
          "text": "0.03",
          "x": "FuelType_E85",
          "y": "Co2EmissionsWltp"
         },
         {
          "font": {
           "color": "white",
           "size": 16
          },
          "showarrow": false,
          "text": "-0.73",
          "x": "FuelType_ELECTRIC",
          "y": "Co2EmissionsWltp"
         },
         {
          "font": {
           "color": "black",
           "size": 16
          },
          "showarrow": false,
          "text": "0.01",
          "x": "FuelType_LPG",
          "y": "Co2EmissionsWltp"
         },
         {
          "font": {
           "color": "black",
           "size": 16
          },
          "showarrow": false,
          "text": "-0.01",
          "x": "FuelType_NG",
          "y": "Co2EmissionsWltp"
         },
         {
          "font": {
           "color": "black",
           "size": 16
          },
          "showarrow": false,
          "text": "-0.0",
          "x": "FuelType_NG-BIOMETHANE",
          "y": "Co2EmissionsWltp"
         },
         {
          "font": {
           "color": "black",
           "size": 16
          },
          "showarrow": false,
          "text": "0.38",
          "x": "FuelType_PETROL",
          "y": "Co2EmissionsWltp"
         },
         {
          "font": {
           "color": "black",
           "size": 16
          },
          "showarrow": false,
          "text": "-0.38",
          "x": "FuelType_PETROL/ELECTRIC",
          "y": "Co2EmissionsWltp"
         },
         {
          "font": {
           "color": "white",
           "size": 16
          },
          "showarrow": false,
          "text": "0.8",
          "x": "MassRunningOrder",
          "y": "BaseWheel"
         },
         {
          "font": {
           "color": "black",
           "size": 16
          },
          "showarrow": false,
          "text": "0.13",
          "x": "Co2EmissionsWltp",
          "y": "BaseWheel"
         },
         {
          "font": {
           "color": "white",
           "size": 16
          },
          "showarrow": false,
          "text": "1.0",
          "x": "BaseWheel",
          "y": "BaseWheel"
         },
         {
          "font": {
           "color": "white",
           "size": 16
          },
          "showarrow": false,
          "text": "0.56",
          "x": "EnginePower",
          "y": "BaseWheel"
         },
         {
          "font": {
           "color": "black",
           "size": 16
          },
          "showarrow": false,
          "text": "-0.02",
          "x": "InnovativeTechnology",
          "y": "BaseWheel"
         },
         {
          "font": {
           "color": "black",
           "size": 16
          },
          "showarrow": false,
          "text": "-0.12",
          "x": "ElecRange_NO_RANGE",
          "y": "BaseWheel"
         },
         {
          "font": {
           "color": "black",
           "size": 16
          },
          "showarrow": false,
          "text": "0.1",
          "x": "ElecRange_0to50",
          "y": "BaseWheel"
         },
         {
          "font": {
           "color": "black",
           "size": 16
          },
          "showarrow": false,
          "text": "0.12",
          "x": "ElecRange_50to100",
          "y": "BaseWheel"
         },
         {
          "font": {
           "color": "black",
           "size": 16
          },
          "showarrow": false,
          "text": "-0.12",
          "x": "ElecRange_100to150",
          "y": "BaseWheel"
         },
         {
          "font": {
           "color": "black",
           "size": 16
          },
          "showarrow": false,
          "text": "-0.16",
          "x": "ElecRange_150+",
          "y": "BaseWheel"
         },
         {
          "font": {
           "color": "black",
           "size": 16
          },
          "showarrow": false,
          "text": "0.18",
          "x": "Pool_BMW",
          "y": "BaseWheel"
         },
         {
          "font": {
           "color": "black",
           "size": 16
          },
          "showarrow": false,
          "text": "0.07",
          "x": "Pool_FORD",
          "y": "BaseWheel"
         },
         {
          "font": {
           "color": "black",
           "size": 16
          },
          "showarrow": false,
          "text": "-0.02",
          "x": "Pool_HYUNDAI",
          "y": "BaseWheel"
         },
         {
          "font": {
           "color": "black",
           "size": 16
          },
          "showarrow": false,
          "text": "-0.04",
          "x": "Pool_KIA",
          "y": "BaseWheel"
         },
         {
          "font": {
           "color": "black",
           "size": 16
          },
          "showarrow": false,
          "text": "-0.08",
          "x": "Pool_MAZDA-SUBARU-SUZUKI-TOYOTA",
          "y": "BaseWheel"
         },
         {
          "font": {
           "color": "black",
           "size": 16
          },
          "showarrow": false,
          "text": "0.21",
          "x": "Pool_MERCEDES-BENZ",
          "y": "BaseWheel"
         },
         {
          "font": {
           "color": "black",
           "size": 16
          },
          "showarrow": false,
          "text": "-0.06",
          "x": "Pool_RENAULT-NISSAN-MITSUBISHI",
          "y": "BaseWheel"
         },
         {
          "font": {
           "color": "black",
           "size": 16
          },
          "showarrow": false,
          "text": "-0.25",
          "x": "Pool_STELLANTIS",
          "y": "BaseWheel"
         },
         {
          "font": {
           "color": "black",
           "size": 16
          },
          "showarrow": false,
          "text": "0.16",
          "x": "Pool_TESLA",
          "y": "BaseWheel"
         },
         {
          "font": {
           "color": "black",
           "size": 16
          },
          "showarrow": false,
          "text": "0.05",
          "x": "Pool_VW-SAIC",
          "y": "BaseWheel"
         },
         {
          "font": {
           "color": "black",
           "size": 16
          },
          "showarrow": false,
          "text": "0.35",
          "x": "FuelType_DIESEL",
          "y": "BaseWheel"
         },
         {
          "font": {
           "color": "black",
           "size": 16
          },
          "showarrow": false,
          "text": "0.1",
          "x": "FuelType_DIESEL/ELECTRIC",
          "y": "BaseWheel"
         },
         {
          "font": {
           "color": "black",
           "size": 16
          },
          "showarrow": false,
          "text": "0.0",
          "x": "FuelType_E85",
          "y": "BaseWheel"
         },
         {
          "font": {
           "color": "black",
           "size": 16
          },
          "showarrow": false,
          "text": "0.03",
          "x": "FuelType_ELECTRIC",
          "y": "BaseWheel"
         },
         {
          "font": {
           "color": "black",
           "size": 16
          },
          "showarrow": false,
          "text": "-0.05",
          "x": "FuelType_LPG",
          "y": "BaseWheel"
         },
         {
          "font": {
           "color": "black",
           "size": 16
          },
          "showarrow": false,
          "text": "-0.02",
          "x": "FuelType_NG",
          "y": "BaseWheel"
         },
         {
          "font": {
           "color": "black",
           "size": 16
          },
          "showarrow": false,
          "text": "-0.05",
          "x": "FuelType_NG-BIOMETHANE",
          "y": "BaseWheel"
         },
         {
          "font": {
           "color": "black",
           "size": 16
          },
          "showarrow": false,
          "text": "-0.39",
          "x": "FuelType_PETROL",
          "y": "BaseWheel"
         },
         {
          "font": {
           "color": "black",
           "size": 16
          },
          "showarrow": false,
          "text": "0.15",
          "x": "FuelType_PETROL/ELECTRIC",
          "y": "BaseWheel"
         },
         {
          "font": {
           "color": "white",
           "size": 16
          },
          "showarrow": false,
          "text": "0.68",
          "x": "MassRunningOrder",
          "y": "EnginePower"
         },
         {
          "font": {
           "color": "black",
           "size": 16
          },
          "showarrow": false,
          "text": "0.24",
          "x": "Co2EmissionsWltp",
          "y": "EnginePower"
         },
         {
          "font": {
           "color": "white",
           "size": 16
          },
          "showarrow": false,
          "text": "0.56",
          "x": "BaseWheel",
          "y": "EnginePower"
         },
         {
          "font": {
           "color": "white",
           "size": 16
          },
          "showarrow": false,
          "text": "1.0",
          "x": "EnginePower",
          "y": "EnginePower"
         },
         {
          "font": {
           "color": "black",
           "size": 16
          },
          "showarrow": false,
          "text": "-0.08",
          "x": "InnovativeTechnology",
          "y": "EnginePower"
         },
         {
          "font": {
           "color": "black",
           "size": 16
          },
          "showarrow": false,
          "text": "-0.14",
          "x": "ElecRange_NO_RANGE",
          "y": "EnginePower"
         },
         {
          "font": {
           "color": "black",
           "size": 16
          },
          "showarrow": false,
          "text": "0.09",
          "x": "ElecRange_0to50",
          "y": "EnginePower"
         },
         {
          "font": {
           "color": "black",
           "size": 16
          },
          "showarrow": false,
          "text": "0.14",
          "x": "ElecRange_50to100",
          "y": "EnginePower"
         },
         {
          "font": {
           "color": "black",
           "size": 16
          },
          "showarrow": false,
          "text": "-0.03",
          "x": "ElecRange_100to150",
          "y": "EnginePower"
         },
         {
          "font": {
           "color": "black",
           "size": 16
          },
          "showarrow": false,
          "text": "-0.1",
          "x": "ElecRange_150+",
          "y": "EnginePower"
         },
         {
          "font": {
           "color": "black",
           "size": 16
          },
          "showarrow": false,
          "text": "0.24",
          "x": "Pool_BMW",
          "y": "EnginePower"
         },
         {
          "font": {
           "color": "black",
           "size": 16
          },
          "showarrow": false,
          "text": "0.03",
          "x": "Pool_FORD",
          "y": "EnginePower"
         },
         {
          "font": {
           "color": "black",
           "size": 16
          },
          "showarrow": false,
          "text": "-0.03",
          "x": "Pool_HYUNDAI",
          "y": "EnginePower"
         },
         {
          "font": {
           "color": "black",
           "size": 16
          },
          "showarrow": false,
          "text": "-0.04",
          "x": "Pool_KIA",
          "y": "EnginePower"
         },
         {
          "font": {
           "color": "black",
           "size": 16
          },
          "showarrow": false,
          "text": "-0.08",
          "x": "Pool_MAZDA-SUBARU-SUZUKI-TOYOTA",
          "y": "EnginePower"
         },
         {
          "font": {
           "color": "black",
           "size": 16
          },
          "showarrow": false,
          "text": "0.21",
          "x": "Pool_MERCEDES-BENZ",
          "y": "EnginePower"
         },
         {
          "font": {
           "color": "black",
           "size": 16
          },
          "showarrow": false,
          "text": "-0.2",
          "x": "Pool_RENAULT-NISSAN-MITSUBISHI",
          "y": "EnginePower"
         },
         {
          "font": {
           "color": "black",
           "size": 16
          },
          "showarrow": false,
          "text": "-0.21",
          "x": "Pool_STELLANTIS",
          "y": "EnginePower"
         },
         {
          "font": {
           "color": "black",
           "size": 16
          },
          "showarrow": false,
          "text": "0.2",
          "x": "Pool_TESLA",
          "y": "EnginePower"
         },
         {
          "font": {
           "color": "black",
           "size": 16
          },
          "showarrow": false,
          "text": "0.1",
          "x": "Pool_VW-SAIC",
          "y": "EnginePower"
         },
         {
          "font": {
           "color": "black",
           "size": 16
          },
          "showarrow": false,
          "text": "0.12",
          "x": "FuelType_DIESEL",
          "y": "EnginePower"
         },
         {
          "font": {
           "color": "black",
           "size": 16
          },
          "showarrow": false,
          "text": "0.06",
          "x": "FuelType_DIESEL/ELECTRIC",
          "y": "EnginePower"
         },
         {
          "font": {
           "color": "black",
           "size": 16
          },
          "showarrow": false,
          "text": "0.01",
          "x": "FuelType_E85",
          "y": "EnginePower"
         },
         {
          "font": {
           "color": "black",
           "size": 16
          },
          "showarrow": false,
          "text": "0.0",
          "x": "FuelType_ELECTRIC",
          "y": "EnginePower"
         },
         {
          "font": {
           "color": "black",
           "size": 16
          },
          "showarrow": false,
          "text": "-0.1",
          "x": "FuelType_LPG",
          "y": "EnginePower"
         },
         {
          "font": {
           "color": "black",
           "size": 16
          },
          "showarrow": false,
          "text": "-0.03",
          "x": "FuelType_NG",
          "y": "EnginePower"
         },
         {
          "font": {
           "color": "black",
           "size": 16
          },
          "showarrow": false,
          "text": "-0.03",
          "x": "FuelType_NG-BIOMETHANE",
          "y": "EnginePower"
         },
         {
          "font": {
           "color": "black",
           "size": 16
          },
          "showarrow": false,
          "text": "-0.16",
          "x": "FuelType_PETROL",
          "y": "EnginePower"
         },
         {
          "font": {
           "color": "black",
           "size": 16
          },
          "showarrow": false,
          "text": "0.17",
          "x": "FuelType_PETROL/ELECTRIC",
          "y": "EnginePower"
         },
         {
          "font": {
           "color": "black",
           "size": 16
          },
          "showarrow": false,
          "text": "-0.22",
          "x": "MassRunningOrder",
          "y": "InnovativeTechnology"
         },
         {
          "font": {
           "color": "black",
           "size": 16
          },
          "showarrow": false,
          "text": "0.35",
          "x": "Co2EmissionsWltp",
          "y": "InnovativeTechnology"
         },
         {
          "font": {
           "color": "black",
           "size": 16
          },
          "showarrow": false,
          "text": "-0.02",
          "x": "BaseWheel",
          "y": "InnovativeTechnology"
         },
         {
          "font": {
           "color": "black",
           "size": 16
          },
          "showarrow": false,
          "text": "-0.08",
          "x": "EnginePower",
          "y": "InnovativeTechnology"
         },
         {
          "font": {
           "color": "white",
           "size": 16
          },
          "showarrow": false,
          "text": "1.0",
          "x": "InnovativeTechnology",
          "y": "InnovativeTechnology"
         },
         {
          "font": {
           "color": "black",
           "size": 16
          },
          "showarrow": false,
          "text": "0.38",
          "x": "ElecRange_NO_RANGE",
          "y": "InnovativeTechnology"
         },
         {
          "font": {
           "color": "black",
           "size": 16
          },
          "showarrow": false,
          "text": "-0.14",
          "x": "ElecRange_0to50",
          "y": "InnovativeTechnology"
         },
         {
          "font": {
           "color": "black",
           "size": 16
          },
          "showarrow": false,
          "text": "-0.21",
          "x": "ElecRange_50to100",
          "y": "InnovativeTechnology"
         },
         {
          "font": {
           "color": "black",
           "size": 16
          },
          "showarrow": false,
          "text": "-0.04",
          "x": "ElecRange_100to150",
          "y": "InnovativeTechnology"
         },
         {
          "font": {
           "color": "black",
           "size": 16
          },
          "showarrow": false,
          "text": "-0.12",
          "x": "ElecRange_150+",
          "y": "InnovativeTechnology"
         },
         {
          "font": {
           "color": "black",
           "size": 16
          },
          "showarrow": false,
          "text": "-0.02",
          "x": "Pool_BMW",
          "y": "InnovativeTechnology"
         },
         {
          "font": {
           "color": "black",
           "size": 16
          },
          "showarrow": false,
          "text": "0.08",
          "x": "Pool_FORD",
          "y": "InnovativeTechnology"
         },
         {
          "font": {
           "color": "black",
           "size": 16
          },
          "showarrow": false,
          "text": "-0.11",
          "x": "Pool_HYUNDAI",
          "y": "InnovativeTechnology"
         },
         {
          "font": {
           "color": "black",
           "size": 16
          },
          "showarrow": false,
          "text": "-0.08",
          "x": "Pool_KIA",
          "y": "InnovativeTechnology"
         },
         {
          "font": {
           "color": "black",
           "size": 16
          },
          "showarrow": false,
          "text": "0.0",
          "x": "Pool_MAZDA-SUBARU-SUZUKI-TOYOTA",
          "y": "InnovativeTechnology"
         },
         {
          "font": {
           "color": "black",
           "size": 16
          },
          "showarrow": false,
          "text": "-0.07",
          "x": "Pool_MERCEDES-BENZ",
          "y": "InnovativeTechnology"
         },
         {
          "font": {
           "color": "black",
           "size": 16
          },
          "showarrow": false,
          "text": "0.07",
          "x": "Pool_RENAULT-NISSAN-MITSUBISHI",
          "y": "InnovativeTechnology"
         },
         {
          "font": {
           "color": "black",
           "size": 16
          },
          "showarrow": false,
          "text": "0.03",
          "x": "Pool_STELLANTIS",
          "y": "InnovativeTechnology"
         },
         {
          "font": {
           "color": "black",
           "size": 16
          },
          "showarrow": false,
          "text": "-0.1",
          "x": "Pool_TESLA",
          "y": "InnovativeTechnology"
         },
         {
          "font": {
           "color": "black",
           "size": 16
          },
          "showarrow": false,
          "text": "0.05",
          "x": "Pool_VW-SAIC",
          "y": "InnovativeTechnology"
         },
         {
          "font": {
           "color": "black",
           "size": 16
          },
          "showarrow": false,
          "text": "0.13",
          "x": "FuelType_DIESEL",
          "y": "InnovativeTechnology"
         },
         {
          "font": {
           "color": "black",
           "size": 16
          },
          "showarrow": false,
          "text": "-0.07",
          "x": "FuelType_DIESEL/ELECTRIC",
          "y": "InnovativeTechnology"
         },
         {
          "font": {
           "color": "black",
           "size": 16
          },
          "showarrow": false,
          "text": "-0.01",
          "x": "FuelType_E85",
          "y": "InnovativeTechnology"
         },
         {
          "font": {
           "color": "black",
           "size": 16
          },
          "showarrow": false,
          "text": "-0.31",
          "x": "FuelType_ELECTRIC",
          "y": "InnovativeTechnology"
         },
         {
          "font": {
           "color": "black",
           "size": 16
          },
          "showarrow": false,
          "text": "-0.01",
          "x": "FuelType_LPG",
          "y": "InnovativeTechnology"
         },
         {
          "font": {
           "color": "black",
           "size": 16
          },
          "showarrow": false,
          "text": "-0.03",
          "x": "FuelType_NG",
          "y": "InnovativeTechnology"
         },
         {
          "font": {
           "color": "black",
           "size": 16
          },
          "showarrow": false,
          "text": "-0.02",
          "x": "FuelType_NG-BIOMETHANE",
          "y": "InnovativeTechnology"
         },
         {
          "font": {
           "color": "black",
           "size": 16
          },
          "showarrow": false,
          "text": "0.23",
          "x": "FuelType_PETROL",
          "y": "InnovativeTechnology"
         },
         {
          "font": {
           "color": "black",
           "size": 16
          },
          "showarrow": false,
          "text": "-0.26",
          "x": "FuelType_PETROL/ELECTRIC",
          "y": "InnovativeTechnology"
         },
         {
          "font": {
           "color": "black",
           "size": 16
          },
          "showarrow": false,
          "text": "-0.42",
          "x": "MassRunningOrder",
          "y": "ElecRange_NO_RANGE"
         },
         {
          "font": {
           "color": "white",
           "size": 16
          },
          "showarrow": false,
          "text": "0.72",
          "x": "Co2EmissionsWltp",
          "y": "ElecRange_NO_RANGE"
         },
         {
          "font": {
           "color": "black",
           "size": 16
          },
          "showarrow": false,
          "text": "-0.12",
          "x": "BaseWheel",
          "y": "ElecRange_NO_RANGE"
         },
         {
          "font": {
           "color": "black",
           "size": 16
          },
          "showarrow": false,
          "text": "-0.14",
          "x": "EnginePower",
          "y": "ElecRange_NO_RANGE"
         },
         {
          "font": {
           "color": "black",
           "size": 16
          },
          "showarrow": false,
          "text": "0.38",
          "x": "InnovativeTechnology",
          "y": "ElecRange_NO_RANGE"
         },
         {
          "font": {
           "color": "white",
           "size": 16
          },
          "showarrow": false,
          "text": "1.0",
          "x": "ElecRange_NO_RANGE",
          "y": "ElecRange_NO_RANGE"
         },
         {
          "font": {
           "color": "black",
           "size": 16
          },
          "showarrow": false,
          "text": "-0.36",
          "x": "ElecRange_0to50",
          "y": "ElecRange_NO_RANGE"
         },
         {
          "font": {
           "color": "white",
           "size": 16
          },
          "showarrow": false,
          "text": "-0.55",
          "x": "ElecRange_50to100",
          "y": "ElecRange_NO_RANGE"
         },
         {
          "font": {
           "color": "black",
           "size": 16
          },
          "showarrow": false,
          "text": "-0.11",
          "x": "ElecRange_100to150",
          "y": "ElecRange_NO_RANGE"
         },
         {
          "font": {
           "color": "black",
           "size": 16
          },
          "showarrow": false,
          "text": "-0.31",
          "x": "ElecRange_150+",
          "y": "ElecRange_NO_RANGE"
         },
         {
          "font": {
           "color": "black",
           "size": 16
          },
          "showarrow": false,
          "text": "-0.03",
          "x": "Pool_BMW",
          "y": "ElecRange_NO_RANGE"
         },
         {
          "font": {
           "color": "black",
           "size": 16
          },
          "showarrow": false,
          "text": "0.0",
          "x": "Pool_FORD",
          "y": "ElecRange_NO_RANGE"
         },
         {
          "font": {
           "color": "black",
           "size": 16
          },
          "showarrow": false,
          "text": "0.01",
          "x": "Pool_HYUNDAI",
          "y": "ElecRange_NO_RANGE"
         },
         {
          "font": {
           "color": "black",
           "size": 16
          },
          "showarrow": false,
          "text": "-0.03",
          "x": "Pool_KIA",
          "y": "ElecRange_NO_RANGE"
         },
         {
          "font": {
           "color": "black",
           "size": 16
          },
          "showarrow": false,
          "text": "0.1",
          "x": "Pool_MAZDA-SUBARU-SUZUKI-TOYOTA",
          "y": "ElecRange_NO_RANGE"
         },
         {
          "font": {
           "color": "black",
           "size": 16
          },
          "showarrow": false,
          "text": "-0.16",
          "x": "Pool_MERCEDES-BENZ",
          "y": "ElecRange_NO_RANGE"
         },
         {
          "font": {
           "color": "black",
           "size": 16
          },
          "showarrow": false,
          "text": "0.03",
          "x": "Pool_RENAULT-NISSAN-MITSUBISHI",
          "y": "ElecRange_NO_RANGE"
         },
         {
          "font": {
           "color": "black",
           "size": 16
          },
          "showarrow": false,
          "text": "0.06",
          "x": "Pool_STELLANTIS",
          "y": "ElecRange_NO_RANGE"
         },
         {
          "font": {
           "color": "black",
           "size": 16
          },
          "showarrow": false,
          "text": "-0.13",
          "x": "Pool_TESLA",
          "y": "ElecRange_NO_RANGE"
         },
         {
          "font": {
           "color": "black",
           "size": 16
          },
          "showarrow": false,
          "text": "0.01",
          "x": "Pool_VW-SAIC",
          "y": "ElecRange_NO_RANGE"
         },
         {
          "font": {
           "color": "black",
           "size": 16
          },
          "showarrow": false,
          "text": "0.22",
          "x": "FuelType_DIESEL",
          "y": "ElecRange_NO_RANGE"
         },
         {
          "font": {
           "color": "black",
           "size": 16
          },
          "showarrow": false,
          "text": "-0.18",
          "x": "FuelType_DIESEL/ELECTRIC",
          "y": "ElecRange_NO_RANGE"
         },
         {
          "font": {
           "color": "black",
           "size": 16
          },
          "showarrow": false,
          "text": "0.01",
          "x": "FuelType_E85",
          "y": "ElecRange_NO_RANGE"
         },
         {
          "font": {
           "color": "white",
           "size": 16
          },
          "showarrow": false,
          "text": "-0.56",
          "x": "FuelType_ELECTRIC",
          "y": "ElecRange_NO_RANGE"
         },
         {
          "font": {
           "color": "black",
           "size": 16
          },
          "showarrow": false,
          "text": "0.06",
          "x": "FuelType_LPG",
          "y": "ElecRange_NO_RANGE"
         },
         {
          "font": {
           "color": "black",
           "size": 16
          },
          "showarrow": false,
          "text": "0.02",
          "x": "FuelType_NG",
          "y": "ElecRange_NO_RANGE"
         },
         {
          "font": {
           "color": "black",
           "size": 16
          },
          "showarrow": false,
          "text": "0.01",
          "x": "FuelType_NG-BIOMETHANE",
          "y": "ElecRange_NO_RANGE"
         },
         {
          "font": {
           "color": "black",
           "size": 16
          },
          "showarrow": false,
          "text": "0.44",
          "x": "FuelType_PETROL",
          "y": "ElecRange_NO_RANGE"
         },
         {
          "font": {
           "color": "white",
           "size": 16
          },
          "showarrow": false,
          "text": "-0.58",
          "x": "FuelType_PETROL/ELECTRIC",
          "y": "ElecRange_NO_RANGE"
         },
         {
          "font": {
           "color": "black",
           "size": 16
          },
          "showarrow": false,
          "text": "0.22",
          "x": "MassRunningOrder",
          "y": "ElecRange_0to50"
         },
         {
          "font": {
           "color": "black",
           "size": 16
          },
          "showarrow": false,
          "text": "-0.15",
          "x": "Co2EmissionsWltp",
          "y": "ElecRange_0to50"
         },
         {
          "font": {
           "color": "black",
           "size": 16
          },
          "showarrow": false,
          "text": "0.1",
          "x": "BaseWheel",
          "y": "ElecRange_0to50"
         },
         {
          "font": {
           "color": "black",
           "size": 16
          },
          "showarrow": false,
          "text": "0.09",
          "x": "EnginePower",
          "y": "ElecRange_0to50"
         },
         {
          "font": {
           "color": "black",
           "size": 16
          },
          "showarrow": false,
          "text": "-0.14",
          "x": "InnovativeTechnology",
          "y": "ElecRange_0to50"
         },
         {
          "font": {
           "color": "black",
           "size": 16
          },
          "showarrow": false,
          "text": "-0.36",
          "x": "ElecRange_NO_RANGE",
          "y": "ElecRange_0to50"
         },
         {
          "font": {
           "color": "white",
           "size": 16
          },
          "showarrow": false,
          "text": "1.0",
          "x": "ElecRange_0to50",
          "y": "ElecRange_0to50"
         },
         {
          "font": {
           "color": "black",
           "size": 16
          },
          "showarrow": false,
          "text": "-0.03",
          "x": "ElecRange_50to100",
          "y": "ElecRange_0to50"
         },
         {
          "font": {
           "color": "black",
           "size": 16
          },
          "showarrow": false,
          "text": "-0.01",
          "x": "ElecRange_100to150",
          "y": "ElecRange_0to50"
         },
         {
          "font": {
           "color": "black",
           "size": 16
          },
          "showarrow": false,
          "text": "-0.02",
          "x": "ElecRange_150+",
          "y": "ElecRange_0to50"
         },
         {
          "font": {
           "color": "black",
           "size": 16
          },
          "showarrow": false,
          "text": "0.04",
          "x": "Pool_BMW",
          "y": "ElecRange_0to50"
         },
         {
          "font": {
           "color": "black",
           "size": 16
          },
          "showarrow": false,
          "text": "-0.01",
          "x": "Pool_FORD",
          "y": "ElecRange_0to50"
         },
         {
          "font": {
           "color": "black",
           "size": 16
          },
          "showarrow": false,
          "text": "-0.03",
          "x": "Pool_HYUNDAI",
          "y": "ElecRange_0to50"
         },
         {
          "font": {
           "color": "black",
           "size": 16
          },
          "showarrow": false,
          "text": "0.06",
          "x": "Pool_KIA",
          "y": "ElecRange_0to50"
         },
         {
          "font": {
           "color": "black",
           "size": 16
          },
          "showarrow": false,
          "text": "-0.05",
          "x": "Pool_MAZDA-SUBARU-SUZUKI-TOYOTA",
          "y": "ElecRange_0to50"
         },
         {
          "font": {
           "color": "black",
           "size": 16
          },
          "showarrow": false,
          "text": "0.15",
          "x": "Pool_MERCEDES-BENZ",
          "y": "ElecRange_0to50"
         },
         {
          "font": {
           "color": "black",
           "size": 16
          },
          "showarrow": false,
          "text": "-0.03",
          "x": "Pool_RENAULT-NISSAN-MITSUBISHI",
          "y": "ElecRange_0to50"
         },
         {
          "font": {
           "color": "black",
           "size": 16
          },
          "showarrow": false,
          "text": "-0.02",
          "x": "Pool_STELLANTIS",
          "y": "ElecRange_0to50"
         },
         {
          "font": {
           "color": "black",
           "size": 16
          },
          "showarrow": false,
          "text": "-0.01",
          "x": "Pool_TESLA",
          "y": "ElecRange_0to50"
         },
         {
          "font": {
           "color": "black",
           "size": 16
          },
          "showarrow": false,
          "text": "-0.04",
          "x": "Pool_VW-SAIC",
          "y": "ElecRange_0to50"
         },
         {
          "font": {
           "color": "black",
           "size": 16
          },
          "showarrow": false,
          "text": "-0.08",
          "x": "FuelType_DIESEL",
          "y": "ElecRange_0to50"
         },
         {
          "font": {
           "color": "black",
           "size": 16
          },
          "showarrow": false,
          "text": "0.34",
          "x": "FuelType_DIESEL/ELECTRIC",
          "y": "ElecRange_0to50"
         },
         {
          "font": {
           "color": "black",
           "size": 16
          },
          "showarrow": false,
          "text": "-0.0",
          "x": "FuelType_E85",
          "y": "ElecRange_0to50"
         },
         {
          "font": {
           "color": "black",
           "size": 16
          },
          "showarrow": false,
          "text": "-0.05",
          "x": "FuelType_ELECTRIC",
          "y": "ElecRange_0to50"
         },
         {
          "font": {
           "color": "black",
           "size": 16
          },
          "showarrow": false,
          "text": "-0.02",
          "x": "FuelType_LPG",
          "y": "ElecRange_0to50"
         },
         {
          "font": {
           "color": "black",
           "size": 16
          },
          "showarrow": false,
          "text": "-0.01",
          "x": "FuelType_NG",
          "y": "ElecRange_0to50"
         },
         {
          "font": {
           "color": "black",
           "size": 16
          },
          "showarrow": false,
          "text": "-0.0",
          "x": "FuelType_NG-BIOMETHANE",
          "y": "ElecRange_0to50"
         },
         {
          "font": {
           "color": "black",
           "size": 16
          },
          "showarrow": false,
          "text": "-0.16",
          "x": "FuelType_PETROL",
          "y": "ElecRange_0to50"
         },
         {
          "font": {
           "color": "black",
           "size": 16
          },
          "showarrow": false,
          "text": "0.42",
          "x": "FuelType_PETROL/ELECTRIC",
          "y": "ElecRange_0to50"
         },
         {
          "font": {
           "color": "black",
           "size": 16
          },
          "showarrow": false,
          "text": "0.28",
          "x": "MassRunningOrder",
          "y": "ElecRange_50to100"
         },
         {
          "font": {
           "color": "black",
           "size": 16
          },
          "showarrow": false,
          "text": "-0.34",
          "x": "Co2EmissionsWltp",
          "y": "ElecRange_50to100"
         },
         {
          "font": {
           "color": "black",
           "size": 16
          },
          "showarrow": false,
          "text": "0.12",
          "x": "BaseWheel",
          "y": "ElecRange_50to100"
         },
         {
          "font": {
           "color": "black",
           "size": 16
          },
          "showarrow": false,
          "text": "0.14",
          "x": "EnginePower",
          "y": "ElecRange_50to100"
         },
         {
          "font": {
           "color": "black",
           "size": 16
          },
          "showarrow": false,
          "text": "-0.21",
          "x": "InnovativeTechnology",
          "y": "ElecRange_50to100"
         },
         {
          "font": {
           "color": "white",
           "size": 16
          },
          "showarrow": false,
          "text": "-0.55",
          "x": "ElecRange_NO_RANGE",
          "y": "ElecRange_50to100"
         },
         {
          "font": {
           "color": "black",
           "size": 16
          },
          "showarrow": false,
          "text": "-0.03",
          "x": "ElecRange_0to50",
          "y": "ElecRange_50to100"
         },
         {
          "font": {
           "color": "white",
           "size": 16
          },
          "showarrow": false,
          "text": "1.0",
          "x": "ElecRange_50to100",
          "y": "ElecRange_50to100"
         },
         {
          "font": {
           "color": "black",
           "size": 16
          },
          "showarrow": false,
          "text": "-0.01",
          "x": "ElecRange_100to150",
          "y": "ElecRange_50to100"
         },
         {
          "font": {
           "color": "black",
           "size": 16
          },
          "showarrow": false,
          "text": "-0.03",
          "x": "ElecRange_150+",
          "y": "ElecRange_50to100"
         },
         {
          "font": {
           "color": "black",
           "size": 16
          },
          "showarrow": false,
          "text": "0.01",
          "x": "Pool_BMW",
          "y": "ElecRange_50to100"
         },
         {
          "font": {
           "color": "black",
           "size": 16
          },
          "showarrow": false,
          "text": "0.02",
          "x": "Pool_FORD",
          "y": "ElecRange_50to100"
         },
         {
          "font": {
           "color": "black",
           "size": 16
          },
          "showarrow": false,
          "text": "-0.01",
          "x": "Pool_HYUNDAI",
          "y": "ElecRange_50to100"
         },
         {
          "font": {
           "color": "black",
           "size": 16
          },
          "showarrow": false,
          "text": "-0.0",
          "x": "Pool_KIA",
          "y": "ElecRange_50to100"
         },
         {
          "font": {
           "color": "black",
           "size": 16
          },
          "showarrow": false,
          "text": "-0.03",
          "x": "Pool_MAZDA-SUBARU-SUZUKI-TOYOTA",
          "y": "ElecRange_50to100"
         },
         {
          "font": {
           "color": "black",
           "size": 16
          },
          "showarrow": false,
          "text": "0.11",
          "x": "Pool_MERCEDES-BENZ",
          "y": "ElecRange_50to100"
         },
         {
          "font": {
           "color": "black",
           "size": 16
          },
          "showarrow": false,
          "text": "-0.06",
          "x": "Pool_RENAULT-NISSAN-MITSUBISHI",
          "y": "ElecRange_50to100"
         },
         {
          "font": {
           "color": "black",
           "size": 16
          },
          "showarrow": false,
          "text": "-0.05",
          "x": "Pool_STELLANTIS",
          "y": "ElecRange_50to100"
         },
         {
          "font": {
           "color": "black",
           "size": 16
          },
          "showarrow": false,
          "text": "0.03",
          "x": "Pool_TESLA",
          "y": "ElecRange_50to100"
         },
         {
          "font": {
           "color": "black",
           "size": 16
          },
          "showarrow": false,
          "text": "0.04",
          "x": "Pool_VW-SAIC",
          "y": "ElecRange_50to100"
         },
         {
          "font": {
           "color": "black",
           "size": 16
          },
          "showarrow": false,
          "text": "-0.12",
          "x": "FuelType_DIESEL",
          "y": "ElecRange_50to100"
         },
         {
          "font": {
           "color": "black",
           "size": 16
          },
          "showarrow": false,
          "text": "0.09",
          "x": "FuelType_DIESEL/ELECTRIC",
          "y": "ElecRange_50to100"
         },
         {
          "font": {
           "color": "black",
           "size": 16
          },
          "showarrow": false,
          "text": "-0.0",
          "x": "FuelType_E85",
          "y": "ElecRange_50to100"
         },
         {
          "font": {
           "color": "black",
           "size": 16
          },
          "showarrow": false,
          "text": "-0.07",
          "x": "FuelType_ELECTRIC",
          "y": "ElecRange_50to100"
         },
         {
          "font": {
           "color": "black",
           "size": 16
          },
          "showarrow": false,
          "text": "-0.03",
          "x": "FuelType_LPG",
          "y": "ElecRange_50to100"
         },
         {
          "font": {
           "color": "black",
           "size": 16
          },
          "showarrow": false,
          "text": "-0.01",
          "x": "FuelType_NG",
          "y": "ElecRange_50to100"
         },
         {
          "font": {
           "color": "black",
           "size": 16
          },
          "showarrow": false,
          "text": "-0.01",
          "x": "FuelType_NG-BIOMETHANE",
          "y": "ElecRange_50to100"
         },
         {
          "font": {
           "color": "black",
           "size": 16
          },
          "showarrow": false,
          "text": "-0.24",
          "x": "FuelType_PETROL",
          "y": "ElecRange_50to100"
         },
         {
          "font": {
           "color": "white",
           "size": 16
          },
          "showarrow": false,
          "text": "0.76",
          "x": "FuelType_PETROL/ELECTRIC",
          "y": "ElecRange_50to100"
         },
         {
          "font": {
           "color": "black",
           "size": 16
          },
          "showarrow": false,
          "text": "-0.02",
          "x": "MassRunningOrder",
          "y": "ElecRange_100to150"
         },
         {
          "font": {
           "color": "black",
           "size": 16
          },
          "showarrow": false,
          "text": "-0.09",
          "x": "Co2EmissionsWltp",
          "y": "ElecRange_100to150"
         },
         {
          "font": {
           "color": "black",
           "size": 16
          },
          "showarrow": false,
          "text": "-0.12",
          "x": "BaseWheel",
          "y": "ElecRange_100to150"
         },
         {
          "font": {
           "color": "black",
           "size": 16
          },
          "showarrow": false,
          "text": "-0.03",
          "x": "EnginePower",
          "y": "ElecRange_100to150"
         },
         {
          "font": {
           "color": "black",
           "size": 16
          },
          "showarrow": false,
          "text": "-0.04",
          "x": "InnovativeTechnology",
          "y": "ElecRange_100to150"
         },
         {
          "font": {
           "color": "black",
           "size": 16
          },
          "showarrow": false,
          "text": "-0.11",
          "x": "ElecRange_NO_RANGE",
          "y": "ElecRange_100to150"
         },
         {
          "font": {
           "color": "black",
           "size": 16
          },
          "showarrow": false,
          "text": "-0.01",
          "x": "ElecRange_0to50",
          "y": "ElecRange_100to150"
         },
         {
          "font": {
           "color": "black",
           "size": 16
          },
          "showarrow": false,
          "text": "-0.01",
          "x": "ElecRange_50to100",
          "y": "ElecRange_100to150"
         },
         {
          "font": {
           "color": "white",
           "size": 16
          },
          "showarrow": false,
          "text": "1.0",
          "x": "ElecRange_100to150",
          "y": "ElecRange_100to150"
         },
         {
          "font": {
           "color": "black",
           "size": 16
          },
          "showarrow": false,
          "text": "-0.0",
          "x": "ElecRange_150+",
          "y": "ElecRange_100to150"
         },
         {
          "font": {
           "color": "black",
           "size": 16
          },
          "showarrow": false,
          "text": "-0.01",
          "x": "Pool_BMW",
          "y": "ElecRange_100to150"
         },
         {
          "font": {
           "color": "black",
           "size": 16
          },
          "showarrow": false,
          "text": "-0.01",
          "x": "Pool_FORD",
          "y": "ElecRange_100to150"
         },
         {
          "font": {
           "color": "black",
           "size": 16
          },
          "showarrow": false,
          "text": "-0.01",
          "x": "Pool_HYUNDAI",
          "y": "ElecRange_100to150"
         },
         {
          "font": {
           "color": "black",
           "size": 16
          },
          "showarrow": false,
          "text": "-0.01",
          "x": "Pool_KIA",
          "y": "ElecRange_100to150"
         },
         {
          "font": {
           "color": "black",
           "size": 16
          },
          "showarrow": false,
          "text": "-0.01",
          "x": "Pool_MAZDA-SUBARU-SUZUKI-TOYOTA",
          "y": "ElecRange_100to150"
         },
         {
          "font": {
           "color": "black",
           "size": 16
          },
          "showarrow": false,
          "text": "0.17",
          "x": "Pool_MERCEDES-BENZ",
          "y": "ElecRange_100to150"
         },
         {
          "font": {
           "color": "black",
           "size": 16
          },
          "showarrow": false,
          "text": "-0.02",
          "x": "Pool_RENAULT-NISSAN-MITSUBISHI",
          "y": "ElecRange_100to150"
         },
         {
          "font": {
           "color": "black",
           "size": 16
          },
          "showarrow": false,
          "text": "-0.02",
          "x": "Pool_STELLANTIS",
          "y": "ElecRange_100to150"
         },
         {
          "font": {
           "color": "black",
           "size": 16
          },
          "showarrow": false,
          "text": "-0.01",
          "x": "Pool_TESLA",
          "y": "ElecRange_100to150"
         },
         {
          "font": {
           "color": "black",
           "size": 16
          },
          "showarrow": false,
          "text": "-0.02",
          "x": "Pool_VW-SAIC",
          "y": "ElecRange_100to150"
         },
         {
          "font": {
           "color": "black",
           "size": 16
          },
          "showarrow": false,
          "text": "-0.02",
          "x": "FuelType_DIESEL",
          "y": "ElecRange_100to150"
         },
         {
          "font": {
           "color": "black",
           "size": 16
          },
          "showarrow": false,
          "text": "-0.0",
          "x": "FuelType_DIESEL/ELECTRIC",
          "y": "ElecRange_100to150"
         },
         {
          "font": {
           "color": "black",
           "size": 16
          },
          "showarrow": false,
          "text": "-0.0",
          "x": "FuelType_E85",
          "y": "ElecRange_100to150"
         },
         {
          "font": {
           "color": "black",
           "size": 16
          },
          "showarrow": false,
          "text": "0.11",
          "x": "FuelType_ELECTRIC",
          "y": "ElecRange_100to150"
         },
         {
          "font": {
           "color": "black",
           "size": 16
          },
          "showarrow": false,
          "text": "-0.01",
          "x": "FuelType_LPG",
          "y": "ElecRange_100to150"
         },
         {
          "font": {
           "color": "black",
           "size": 16
          },
          "showarrow": false,
          "text": "-0.0",
          "x": "FuelType_NG",
          "y": "ElecRange_100to150"
         },
         {
          "font": {
           "color": "black",
           "size": 16
          },
          "showarrow": false,
          "text": "-0.0",
          "x": "FuelType_NG-BIOMETHANE",
          "y": "ElecRange_100to150"
         },
         {
          "font": {
           "color": "black",
           "size": 16
          },
          "showarrow": false,
          "text": "-0.05",
          "x": "FuelType_PETROL",
          "y": "ElecRange_100to150"
         },
         {
          "font": {
           "color": "black",
           "size": 16
          },
          "showarrow": false,
          "text": "0.01",
          "x": "FuelType_PETROL/ELECTRIC",
          "y": "ElecRange_100to150"
         },
         {
          "font": {
           "color": "black",
           "size": 16
          },
          "showarrow": false,
          "text": "-0.05",
          "x": "MassRunningOrder",
          "y": "ElecRange_150+"
         },
         {
          "font": {
           "color": "black",
           "size": 16
          },
          "showarrow": false,
          "text": "-0.27",
          "x": "Co2EmissionsWltp",
          "y": "ElecRange_150+"
         },
         {
          "font": {
           "color": "black",
           "size": 16
          },
          "showarrow": false,
          "text": "-0.16",
          "x": "BaseWheel",
          "y": "ElecRange_150+"
         },
         {
          "font": {
           "color": "black",
           "size": 16
          },
          "showarrow": false,
          "text": "-0.1",
          "x": "EnginePower",
          "y": "ElecRange_150+"
         },
         {
          "font": {
           "color": "black",
           "size": 16
          },
          "showarrow": false,
          "text": "-0.12",
          "x": "InnovativeTechnology",
          "y": "ElecRange_150+"
         },
         {
          "font": {
           "color": "black",
           "size": 16
          },
          "showarrow": false,
          "text": "-0.31",
          "x": "ElecRange_NO_RANGE",
          "y": "ElecRange_150+"
         },
         {
          "font": {
           "color": "black",
           "size": 16
          },
          "showarrow": false,
          "text": "-0.02",
          "x": "ElecRange_0to50",
          "y": "ElecRange_150+"
         },
         {
          "font": {
           "color": "black",
           "size": 16
          },
          "showarrow": false,
          "text": "-0.03",
          "x": "ElecRange_50to100",
          "y": "ElecRange_150+"
         },
         {
          "font": {
           "color": "black",
           "size": 16
          },
          "showarrow": false,
          "text": "-0.0",
          "x": "ElecRange_100to150",
          "y": "ElecRange_150+"
         },
         {
          "font": {
           "color": "white",
           "size": 16
          },
          "showarrow": false,
          "text": "1.0",
          "x": "ElecRange_150+",
          "y": "ElecRange_150+"
         },
         {
          "font": {
           "color": "black",
           "size": 16
          },
          "showarrow": false,
          "text": "0.03",
          "x": "Pool_BMW",
          "y": "ElecRange_150+"
         },
         {
          "font": {
           "color": "black",
           "size": 16
          },
          "showarrow": false,
          "text": "-0.03",
          "x": "Pool_FORD",
          "y": "ElecRange_150+"
         },
         {
          "font": {
           "color": "black",
           "size": 16
          },
          "showarrow": false,
          "text": "-0.03",
          "x": "Pool_HYUNDAI",
          "y": "ElecRange_150+"
         },
         {
          "font": {
           "color": "black",
           "size": 16
          },
          "showarrow": false,
          "text": "-0.03",
          "x": "Pool_KIA",
          "y": "ElecRange_150+"
         },
         {
          "font": {
           "color": "black",
           "size": 16
          },
          "showarrow": false,
          "text": "-0.03",
          "x": "Pool_MAZDA-SUBARU-SUZUKI-TOYOTA",
          "y": "ElecRange_150+"
         },
         {
          "font": {
           "color": "black",
           "size": 16
          },
          "showarrow": false,
          "text": "0.06",
          "x": "Pool_MERCEDES-BENZ",
          "y": "ElecRange_150+"
         },
         {
          "font": {
           "color": "black",
           "size": 16
          },
          "showarrow": false,
          "text": "0.09",
          "x": "Pool_RENAULT-NISSAN-MITSUBISHI",
          "y": "ElecRange_150+"
         },
         {
          "font": {
           "color": "black",
           "size": 16
          },
          "showarrow": false,
          "text": "-0.05",
          "x": "Pool_STELLANTIS",
          "y": "ElecRange_150+"
         },
         {
          "font": {
           "color": "black",
           "size": 16
          },
          "showarrow": false,
          "text": "-0.02",
          "x": "Pool_TESLA",
          "y": "ElecRange_150+"
         },
         {
          "font": {
           "color": "black",
           "size": 16
          },
          "showarrow": false,
          "text": "-0.01",
          "x": "Pool_VW-SAIC",
          "y": "ElecRange_150+"
         },
         {
          "font": {
           "color": "black",
           "size": 16
          },
          "showarrow": false,
          "text": "-0.07",
          "x": "FuelType_DIESEL",
          "y": "ElecRange_150+"
         },
         {
          "font": {
           "color": "black",
           "size": 16
          },
          "showarrow": false,
          "text": "-0.01",
          "x": "FuelType_DIESEL/ELECTRIC",
          "y": "ElecRange_150+"
         },
         {
          "font": {
           "color": "black",
           "size": 16
          },
          "showarrow": false,
          "text": "-0.0",
          "x": "FuelType_E85",
          "y": "ElecRange_150+"
         },
         {
          "font": {
           "color": "black",
           "size": 16
          },
          "showarrow": false,
          "text": "0.38",
          "x": "FuelType_ELECTRIC",
          "y": "ElecRange_150+"
         },
         {
          "font": {
           "color": "black",
           "size": 16
          },
          "showarrow": false,
          "text": "-0.02",
          "x": "FuelType_LPG",
          "y": "ElecRange_150+"
         },
         {
          "font": {
           "color": "black",
           "size": 16
          },
          "showarrow": false,
          "text": "-0.01",
          "x": "FuelType_NG",
          "y": "ElecRange_150+"
         },
         {
          "font": {
           "color": "black",
           "size": 16
          },
          "showarrow": false,
          "text": "-0.0",
          "x": "FuelType_NG-BIOMETHANE",
          "y": "ElecRange_150+"
         },
         {
          "font": {
           "color": "black",
           "size": 16
          },
          "showarrow": false,
          "text": "-0.14",
          "x": "FuelType_PETROL",
          "y": "ElecRange_150+"
         },
         {
          "font": {
           "color": "black",
           "size": 16
          },
          "showarrow": false,
          "text": "-0.03",
          "x": "FuelType_PETROL/ELECTRIC",
          "y": "ElecRange_150+"
         },
         {
          "font": {
           "color": "black",
           "size": 16
          },
          "showarrow": false,
          "text": "0.22",
          "x": "MassRunningOrder",
          "y": "Pool_BMW"
         },
         {
          "font": {
           "color": "black",
           "size": 16
          },
          "showarrow": false,
          "text": "0.02",
          "x": "Co2EmissionsWltp",
          "y": "Pool_BMW"
         },
         {
          "font": {
           "color": "black",
           "size": 16
          },
          "showarrow": false,
          "text": "0.18",
          "x": "BaseWheel",
          "y": "Pool_BMW"
         },
         {
          "font": {
           "color": "black",
           "size": 16
          },
          "showarrow": false,
          "text": "0.24",
          "x": "EnginePower",
          "y": "Pool_BMW"
         },
         {
          "font": {
           "color": "black",
           "size": 16
          },
          "showarrow": false,
          "text": "-0.02",
          "x": "InnovativeTechnology",
          "y": "Pool_BMW"
         },
         {
          "font": {
           "color": "black",
           "size": 16
          },
          "showarrow": false,
          "text": "-0.03",
          "x": "ElecRange_NO_RANGE",
          "y": "Pool_BMW"
         },
         {
          "font": {
           "color": "black",
           "size": 16
          },
          "showarrow": false,
          "text": "0.04",
          "x": "ElecRange_0to50",
          "y": "Pool_BMW"
         },
         {
          "font": {
           "color": "black",
           "size": 16
          },
          "showarrow": false,
          "text": "0.01",
          "x": "ElecRange_50to100",
          "y": "Pool_BMW"
         },
         {
          "font": {
           "color": "black",
           "size": 16
          },
          "showarrow": false,
          "text": "-0.01",
          "x": "ElecRange_100to150",
          "y": "Pool_BMW"
         },
         {
          "font": {
           "color": "black",
           "size": 16
          },
          "showarrow": false,
          "text": "0.03",
          "x": "ElecRange_150+",
          "y": "Pool_BMW"
         },
         {
          "font": {
           "color": "white",
           "size": 16
          },
          "showarrow": false,
          "text": "1.0",
          "x": "Pool_BMW",
          "y": "Pool_BMW"
         },
         {
          "font": {
           "color": "black",
           "size": 16
          },
          "showarrow": false,
          "text": "-0.06",
          "x": "Pool_FORD",
          "y": "Pool_BMW"
         },
         {
          "font": {
           "color": "black",
           "size": 16
          },
          "showarrow": false,
          "text": "-0.06",
          "x": "Pool_HYUNDAI",
          "y": "Pool_BMW"
         },
         {
          "font": {
           "color": "black",
           "size": 16
          },
          "showarrow": false,
          "text": "-0.06",
          "x": "Pool_KIA",
          "y": "Pool_BMW"
         },
         {
          "font": {
           "color": "black",
           "size": 16
          },
          "showarrow": false,
          "text": "-0.09",
          "x": "Pool_MAZDA-SUBARU-SUZUKI-TOYOTA",
          "y": "Pool_BMW"
         },
         {
          "font": {
           "color": "black",
           "size": 16
          },
          "showarrow": false,
          "text": "-0.07",
          "x": "Pool_MERCEDES-BENZ",
          "y": "Pool_BMW"
         },
         {
          "font": {
           "color": "black",
           "size": 16
          },
          "showarrow": false,
          "text": "-0.12",
          "x": "Pool_RENAULT-NISSAN-MITSUBISHI",
          "y": "Pool_BMW"
         },
         {
          "font": {
           "color": "black",
           "size": 16
          },
          "showarrow": false,
          "text": "-0.15",
          "x": "Pool_STELLANTIS",
          "y": "Pool_BMW"
         },
         {
          "font": {
           "color": "black",
           "size": 16
          },
          "showarrow": false,
          "text": "-0.05",
          "x": "Pool_TESLA",
          "y": "Pool_BMW"
         },
         {
          "font": {
           "color": "black",
           "size": 16
          },
          "showarrow": false,
          "text": "-0.17",
          "x": "Pool_VW-SAIC",
          "y": "Pool_BMW"
         },
         {
          "font": {
           "color": "black",
           "size": 16
          },
          "showarrow": false,
          "text": "0.1",
          "x": "FuelType_DIESEL",
          "y": "Pool_BMW"
         },
         {
          "font": {
           "color": "black",
           "size": 16
          },
          "showarrow": false,
          "text": "-0.02",
          "x": "FuelType_DIESEL/ELECTRIC",
          "y": "Pool_BMW"
         },
         {
          "font": {
           "color": "black",
           "size": 16
          },
          "showarrow": false,
          "text": "-0.0",
          "x": "FuelType_E85",
          "y": "Pool_BMW"
         },
         {
          "font": {
           "color": "black",
           "size": 16
          },
          "showarrow": false,
          "text": "-0.01",
          "x": "FuelType_ELECTRIC",
          "y": "Pool_BMW"
         },
         {
          "font": {
           "color": "black",
           "size": 16
          },
          "showarrow": false,
          "text": "-0.04",
          "x": "FuelType_LPG",
          "y": "Pool_BMW"
         },
         {
          "font": {
           "color": "black",
           "size": 16
          },
          "showarrow": false,
          "text": "-0.02",
          "x": "FuelType_NG",
          "y": "Pool_BMW"
         },
         {
          "font": {
           "color": "black",
           "size": 16
          },
          "showarrow": false,
          "text": "-0.01",
          "x": "FuelType_NG-BIOMETHANE",
          "y": "Pool_BMW"
         },
         {
          "font": {
           "color": "black",
           "size": 16
          },
          "showarrow": false,
          "text": "-0.11",
          "x": "FuelType_PETROL",
          "y": "Pool_BMW"
         },
         {
          "font": {
           "color": "black",
           "size": 16
          },
          "showarrow": false,
          "text": "0.1",
          "x": "FuelType_PETROL/ELECTRIC",
          "y": "Pool_BMW"
         },
         {
          "font": {
           "color": "black",
           "size": 16
          },
          "showarrow": false,
          "text": "0.07",
          "x": "MassRunningOrder",
          "y": "Pool_FORD"
         },
         {
          "font": {
           "color": "black",
           "size": 16
          },
          "showarrow": false,
          "text": "0.03",
          "x": "Co2EmissionsWltp",
          "y": "Pool_FORD"
         },
         {
          "font": {
           "color": "black",
           "size": 16
          },
          "showarrow": false,
          "text": "0.07",
          "x": "BaseWheel",
          "y": "Pool_FORD"
         },
         {
          "font": {
           "color": "black",
           "size": 16
          },
          "showarrow": false,
          "text": "0.03",
          "x": "EnginePower",
          "y": "Pool_FORD"
         },
         {
          "font": {
           "color": "black",
           "size": 16
          },
          "showarrow": false,
          "text": "0.08",
          "x": "InnovativeTechnology",
          "y": "Pool_FORD"
         },
         {
          "font": {
           "color": "black",
           "size": 16
          },
          "showarrow": false,
          "text": "0.0",
          "x": "ElecRange_NO_RANGE",
          "y": "Pool_FORD"
         },
         {
          "font": {
           "color": "black",
           "size": 16
          },
          "showarrow": false,
          "text": "-0.01",
          "x": "ElecRange_0to50",
          "y": "Pool_FORD"
         },
         {
          "font": {
           "color": "black",
           "size": 16
          },
          "showarrow": false,
          "text": "0.02",
          "x": "ElecRange_50to100",
          "y": "Pool_FORD"
         },
         {
          "font": {
           "color": "black",
           "size": 16
          },
          "showarrow": false,
          "text": "-0.01",
          "x": "ElecRange_100to150",
          "y": "Pool_FORD"
         },
         {
          "font": {
           "color": "black",
           "size": 16
          },
          "showarrow": false,
          "text": "-0.03",
          "x": "ElecRange_150+",
          "y": "Pool_FORD"
         },
         {
          "font": {
           "color": "black",
           "size": 16
          },
          "showarrow": false,
          "text": "-0.06",
          "x": "Pool_BMW",
          "y": "Pool_FORD"
         },
         {
          "font": {
           "color": "white",
           "size": 16
          },
          "showarrow": false,
          "text": "1.0",
          "x": "Pool_FORD",
          "y": "Pool_FORD"
         },
         {
          "font": {
           "color": "black",
           "size": 16
          },
          "showarrow": false,
          "text": "-0.04",
          "x": "Pool_HYUNDAI",
          "y": "Pool_FORD"
         },
         {
          "font": {
           "color": "black",
           "size": 16
          },
          "showarrow": false,
          "text": "-0.04",
          "x": "Pool_KIA",
          "y": "Pool_FORD"
         },
         {
          "font": {
           "color": "black",
           "size": 16
          },
          "showarrow": false,
          "text": "-0.07",
          "x": "Pool_MAZDA-SUBARU-SUZUKI-TOYOTA",
          "y": "Pool_FORD"
         },
         {
          "font": {
           "color": "black",
           "size": 16
          },
          "showarrow": false,
          "text": "-0.05",
          "x": "Pool_MERCEDES-BENZ",
          "y": "Pool_FORD"
         },
         {
          "font": {
           "color": "black",
           "size": 16
          },
          "showarrow": false,
          "text": "-0.08",
          "x": "Pool_RENAULT-NISSAN-MITSUBISHI",
          "y": "Pool_FORD"
         },
         {
          "font": {
           "color": "black",
           "size": 16
          },
          "showarrow": false,
          "text": "-0.11",
          "x": "Pool_STELLANTIS",
          "y": "Pool_FORD"
         },
         {
          "font": {
           "color": "black",
           "size": 16
          },
          "showarrow": false,
          "text": "-0.04",
          "x": "Pool_TESLA",
          "y": "Pool_FORD"
         },
         {
          "font": {
           "color": "black",
           "size": 16
          },
          "showarrow": false,
          "text": "-0.12",
          "x": "Pool_VW-SAIC",
          "y": "Pool_FORD"
         },
         {
          "font": {
           "color": "black",
           "size": 16
          },
          "showarrow": false,
          "text": "0.04",
          "x": "FuelType_DIESEL",
          "y": "Pool_FORD"
         },
         {
          "font": {
           "color": "black",
           "size": 16
          },
          "showarrow": false,
          "text": "-0.01",
          "x": "FuelType_DIESEL/ELECTRIC",
          "y": "Pool_FORD"
         },
         {
          "font": {
           "color": "black",
           "size": 16
          },
          "showarrow": false,
          "text": "-0.0",
          "x": "FuelType_E85",
          "y": "Pool_FORD"
         },
         {
          "font": {
           "color": "black",
           "size": 16
          },
          "showarrow": false,
          "text": "-0.03",
          "x": "FuelType_ELECTRIC",
          "y": "Pool_FORD"
         },
         {
          "font": {
           "color": "black",
           "size": 16
          },
          "showarrow": false,
          "text": "-0.03",
          "x": "FuelType_LPG",
          "y": "Pool_FORD"
         },
         {
          "font": {
           "color": "black",
           "size": 16
          },
          "showarrow": false,
          "text": "-0.01",
          "x": "FuelType_NG",
          "y": "Pool_FORD"
         },
         {
          "font": {
           "color": "black",
           "size": 16
          },
          "showarrow": false,
          "text": "-0.01",
          "x": "FuelType_NG-BIOMETHANE",
          "y": "Pool_FORD"
         },
         {
          "font": {
           "color": "black",
           "size": 16
          },
          "showarrow": false,
          "text": "-0.02",
          "x": "FuelType_PETROL",
          "y": "Pool_FORD"
         },
         {
          "font": {
           "color": "black",
           "size": 16
          },
          "showarrow": false,
          "text": "0.02",
          "x": "FuelType_PETROL/ELECTRIC",
          "y": "Pool_FORD"
         },
         {
          "font": {
           "color": "black",
           "size": 16
          },
          "showarrow": false,
          "text": "-0.02",
          "x": "MassRunningOrder",
          "y": "Pool_HYUNDAI"
         },
         {
          "font": {
           "color": "black",
           "size": 16
          },
          "showarrow": false,
          "text": "-0.0",
          "x": "Co2EmissionsWltp",
          "y": "Pool_HYUNDAI"
         },
         {
          "font": {
           "color": "black",
           "size": 16
          },
          "showarrow": false,
          "text": "-0.02",
          "x": "BaseWheel",
          "y": "Pool_HYUNDAI"
         },
         {
          "font": {
           "color": "black",
           "size": 16
          },
          "showarrow": false,
          "text": "-0.03",
          "x": "EnginePower",
          "y": "Pool_HYUNDAI"
         },
         {
          "font": {
           "color": "black",
           "size": 16
          },
          "showarrow": false,
          "text": "-0.11",
          "x": "InnovativeTechnology",
          "y": "Pool_HYUNDAI"
         },
         {
          "font": {
           "color": "black",
           "size": 16
          },
          "showarrow": false,
          "text": "0.01",
          "x": "ElecRange_NO_RANGE",
          "y": "Pool_HYUNDAI"
         },
         {
          "font": {
           "color": "black",
           "size": 16
          },
          "showarrow": false,
          "text": "-0.03",
          "x": "ElecRange_0to50",
          "y": "Pool_HYUNDAI"
         },
         {
          "font": {
           "color": "black",
           "size": 16
          },
          "showarrow": false,
          "text": "-0.01",
          "x": "ElecRange_50to100",
          "y": "Pool_HYUNDAI"
         },
         {
          "font": {
           "color": "black",
           "size": 16
          },
          "showarrow": false,
          "text": "-0.01",
          "x": "ElecRange_100to150",
          "y": "Pool_HYUNDAI"
         },
         {
          "font": {
           "color": "black",
           "size": 16
          },
          "showarrow": false,
          "text": "-0.03",
          "x": "ElecRange_150+",
          "y": "Pool_HYUNDAI"
         },
         {
          "font": {
           "color": "black",
           "size": 16
          },
          "showarrow": false,
          "text": "-0.06",
          "x": "Pool_BMW",
          "y": "Pool_HYUNDAI"
         },
         {
          "font": {
           "color": "black",
           "size": 16
          },
          "showarrow": false,
          "text": "-0.04",
          "x": "Pool_FORD",
          "y": "Pool_HYUNDAI"
         },
         {
          "font": {
           "color": "white",
           "size": 16
          },
          "showarrow": false,
          "text": "1.0",
          "x": "Pool_HYUNDAI",
          "y": "Pool_HYUNDAI"
         },
         {
          "font": {
           "color": "black",
           "size": 16
          },
          "showarrow": false,
          "text": "-0.04",
          "x": "Pool_KIA",
          "y": "Pool_HYUNDAI"
         },
         {
          "font": {
           "color": "black",
           "size": 16
          },
          "showarrow": false,
          "text": "-0.07",
          "x": "Pool_MAZDA-SUBARU-SUZUKI-TOYOTA",
          "y": "Pool_HYUNDAI"
         },
         {
          "font": {
           "color": "black",
           "size": 16
          },
          "showarrow": false,
          "text": "-0.05",
          "x": "Pool_MERCEDES-BENZ",
          "y": "Pool_HYUNDAI"
         },
         {
          "font": {
           "color": "black",
           "size": 16
          },
          "showarrow": false,
          "text": "-0.08",
          "x": "Pool_RENAULT-NISSAN-MITSUBISHI",
          "y": "Pool_HYUNDAI"
         },
         {
          "font": {
           "color": "black",
           "size": 16
          },
          "showarrow": false,
          "text": "-0.11",
          "x": "Pool_STELLANTIS",
          "y": "Pool_HYUNDAI"
         },
         {
          "font": {
           "color": "black",
           "size": 16
          },
          "showarrow": false,
          "text": "-0.04",
          "x": "Pool_TESLA",
          "y": "Pool_HYUNDAI"
         },
         {
          "font": {
           "color": "black",
           "size": 16
          },
          "showarrow": false,
          "text": "-0.12",
          "x": "Pool_VW-SAIC",
          "y": "Pool_HYUNDAI"
         },
         {
          "font": {
           "color": "black",
           "size": 16
          },
          "showarrow": false,
          "text": "-0.07",
          "x": "FuelType_DIESEL",
          "y": "Pool_HYUNDAI"
         },
         {
          "font": {
           "color": "black",
           "size": 16
          },
          "showarrow": false,
          "text": "-0.01",
          "x": "FuelType_DIESEL/ELECTRIC",
          "y": "Pool_HYUNDAI"
         },
         {
          "font": {
           "color": "black",
           "size": 16
          },
          "showarrow": false,
          "text": "-0.0",
          "x": "FuelType_E85",
          "y": "Pool_HYUNDAI"
         },
         {
          "font": {
           "color": "black",
           "size": 16
          },
          "showarrow": false,
          "text": "0.01",
          "x": "FuelType_ELECTRIC",
          "y": "Pool_HYUNDAI"
         },
         {
          "font": {
           "color": "black",
           "size": 16
          },
          "showarrow": false,
          "text": "-0.02",
          "x": "FuelType_LPG",
          "y": "Pool_HYUNDAI"
         },
         {
          "font": {
           "color": "black",
           "size": 16
          },
          "showarrow": false,
          "text": "-0.01",
          "x": "FuelType_NG",
          "y": "Pool_HYUNDAI"
         },
         {
          "font": {
           "color": "black",
           "size": 16
          },
          "showarrow": false,
          "text": "-0.01",
          "x": "FuelType_NG-BIOMETHANE",
          "y": "Pool_HYUNDAI"
         },
         {
          "font": {
           "color": "black",
           "size": 16
          },
          "showarrow": false,
          "text": "0.07",
          "x": "FuelType_PETROL",
          "y": "Pool_HYUNDAI"
         },
         {
          "font": {
           "color": "black",
           "size": 16
          },
          "showarrow": false,
          "text": "-0.03",
          "x": "FuelType_PETROL/ELECTRIC",
          "y": "Pool_HYUNDAI"
         },
         {
          "font": {
           "color": "black",
           "size": 16
          },
          "showarrow": false,
          "text": "-0.04",
          "x": "MassRunningOrder",
          "y": "Pool_KIA"
         },
         {
          "font": {
           "color": "black",
           "size": 16
          },
          "showarrow": false,
          "text": "-0.02",
          "x": "Co2EmissionsWltp",
          "y": "Pool_KIA"
         },
         {
          "font": {
           "color": "black",
           "size": 16
          },
          "showarrow": false,
          "text": "-0.04",
          "x": "BaseWheel",
          "y": "Pool_KIA"
         },
         {
          "font": {
           "color": "black",
           "size": 16
          },
          "showarrow": false,
          "text": "-0.04",
          "x": "EnginePower",
          "y": "Pool_KIA"
         },
         {
          "font": {
           "color": "black",
           "size": 16
          },
          "showarrow": false,
          "text": "-0.08",
          "x": "InnovativeTechnology",
          "y": "Pool_KIA"
         },
         {
          "font": {
           "color": "black",
           "size": 16
          },
          "showarrow": false,
          "text": "-0.03",
          "x": "ElecRange_NO_RANGE",
          "y": "Pool_KIA"
         },
         {
          "font": {
           "color": "black",
           "size": 16
          },
          "showarrow": false,
          "text": "0.06",
          "x": "ElecRange_0to50",
          "y": "Pool_KIA"
         },
         {
          "font": {
           "color": "black",
           "size": 16
          },
          "showarrow": false,
          "text": "-0.0",
          "x": "ElecRange_50to100",
          "y": "Pool_KIA"
         },
         {
          "font": {
           "color": "black",
           "size": 16
          },
          "showarrow": false,
          "text": "-0.01",
          "x": "ElecRange_100to150",
          "y": "Pool_KIA"
         },
         {
          "font": {
           "color": "black",
           "size": 16
          },
          "showarrow": false,
          "text": "-0.03",
          "x": "ElecRange_150+",
          "y": "Pool_KIA"
         },
         {
          "font": {
           "color": "black",
           "size": 16
          },
          "showarrow": false,
          "text": "-0.06",
          "x": "Pool_BMW",
          "y": "Pool_KIA"
         },
         {
          "font": {
           "color": "black",
           "size": 16
          },
          "showarrow": false,
          "text": "-0.04",
          "x": "Pool_FORD",
          "y": "Pool_KIA"
         },
         {
          "font": {
           "color": "black",
           "size": 16
          },
          "showarrow": false,
          "text": "-0.04",
          "x": "Pool_HYUNDAI",
          "y": "Pool_KIA"
         },
         {
          "font": {
           "color": "white",
           "size": 16
          },
          "showarrow": false,
          "text": "1.0",
          "x": "Pool_KIA",
          "y": "Pool_KIA"
         },
         {
          "font": {
           "color": "black",
           "size": 16
          },
          "showarrow": false,
          "text": "-0.07",
          "x": "Pool_MAZDA-SUBARU-SUZUKI-TOYOTA",
          "y": "Pool_KIA"
         },
         {
          "font": {
           "color": "black",
           "size": 16
          },
          "showarrow": false,
          "text": "-0.05",
          "x": "Pool_MERCEDES-BENZ",
          "y": "Pool_KIA"
         },
         {
          "font": {
           "color": "black",
           "size": 16
          },
          "showarrow": false,
          "text": "-0.09",
          "x": "Pool_RENAULT-NISSAN-MITSUBISHI",
          "y": "Pool_KIA"
         },
         {
          "font": {
           "color": "black",
           "size": 16
          },
          "showarrow": false,
          "text": "-0.11",
          "x": "Pool_STELLANTIS",
          "y": "Pool_KIA"
         },
         {
          "font": {
           "color": "black",
           "size": 16
          },
          "showarrow": false,
          "text": "-0.04",
          "x": "Pool_TESLA",
          "y": "Pool_KIA"
         },
         {
          "font": {
           "color": "black",
           "size": 16
          },
          "showarrow": false,
          "text": "-0.13",
          "x": "Pool_VW-SAIC",
          "y": "Pool_KIA"
         },
         {
          "font": {
           "color": "black",
           "size": 16
          },
          "showarrow": false,
          "text": "-0.06",
          "x": "FuelType_DIESEL",
          "y": "Pool_KIA"
         },
         {
          "font": {
           "color": "black",
           "size": 16
          },
          "showarrow": false,
          "text": "-0.01",
          "x": "FuelType_DIESEL/ELECTRIC",
          "y": "Pool_KIA"
         },
         {
          "font": {
           "color": "black",
           "size": 16
          },
          "showarrow": false,
          "text": "-0.0",
          "x": "FuelType_E85",
          "y": "Pool_KIA"
         },
         {
          "font": {
           "color": "black",
           "size": 16
          },
          "showarrow": false,
          "text": "-0.01",
          "x": "FuelType_ELECTRIC",
          "y": "Pool_KIA"
         },
         {
          "font": {
           "color": "black",
           "size": 16
          },
          "showarrow": false,
          "text": "0.02",
          "x": "FuelType_LPG",
          "y": "Pool_KIA"
         },
         {
          "font": {
           "color": "black",
           "size": 16
          },
          "showarrow": false,
          "text": "-0.01",
          "x": "FuelType_NG",
          "y": "Pool_KIA"
         },
         {
          "font": {
           "color": "black",
           "size": 16
          },
          "showarrow": false,
          "text": "-0.01",
          "x": "FuelType_NG-BIOMETHANE",
          "y": "Pool_KIA"
         },
         {
          "font": {
           "color": "black",
           "size": 16
          },
          "showarrow": false,
          "text": "0.03",
          "x": "FuelType_PETROL",
          "y": "Pool_KIA"
         },
         {
          "font": {
           "color": "black",
           "size": 16
          },
          "showarrow": false,
          "text": "0.04",
          "x": "FuelType_PETROL/ELECTRIC",
          "y": "Pool_KIA"
         },
         {
          "font": {
           "color": "black",
           "size": 16
          },
          "showarrow": false,
          "text": "-0.09",
          "x": "MassRunningOrder",
          "y": "Pool_MAZDA-SUBARU-SUZUKI-TOYOTA"
         },
         {
          "font": {
           "color": "black",
           "size": 16
          },
          "showarrow": false,
          "text": "0.0",
          "x": "Co2EmissionsWltp",
          "y": "Pool_MAZDA-SUBARU-SUZUKI-TOYOTA"
         },
         {
          "font": {
           "color": "black",
           "size": 16
          },
          "showarrow": false,
          "text": "-0.08",
          "x": "BaseWheel",
          "y": "Pool_MAZDA-SUBARU-SUZUKI-TOYOTA"
         },
         {
          "font": {
           "color": "black",
           "size": 16
          },
          "showarrow": false,
          "text": "-0.08",
          "x": "EnginePower",
          "y": "Pool_MAZDA-SUBARU-SUZUKI-TOYOTA"
         },
         {
          "font": {
           "color": "black",
           "size": 16
          },
          "showarrow": false,
          "text": "0.0",
          "x": "InnovativeTechnology",
          "y": "Pool_MAZDA-SUBARU-SUZUKI-TOYOTA"
         },
         {
          "font": {
           "color": "black",
           "size": 16
          },
          "showarrow": false,
          "text": "0.1",
          "x": "ElecRange_NO_RANGE",
          "y": "Pool_MAZDA-SUBARU-SUZUKI-TOYOTA"
         },
         {
          "font": {
           "color": "black",
           "size": 16
          },
          "showarrow": false,
          "text": "-0.05",
          "x": "ElecRange_0to50",
          "y": "Pool_MAZDA-SUBARU-SUZUKI-TOYOTA"
         },
         {
          "font": {
           "color": "black",
           "size": 16
          },
          "showarrow": false,
          "text": "-0.03",
          "x": "ElecRange_50to100",
          "y": "Pool_MAZDA-SUBARU-SUZUKI-TOYOTA"
         },
         {
          "font": {
           "color": "black",
           "size": 16
          },
          "showarrow": false,
          "text": "-0.01",
          "x": "ElecRange_100to150",
          "y": "Pool_MAZDA-SUBARU-SUZUKI-TOYOTA"
         },
         {
          "font": {
           "color": "black",
           "size": 16
          },
          "showarrow": false,
          "text": "-0.03",
          "x": "ElecRange_150+",
          "y": "Pool_MAZDA-SUBARU-SUZUKI-TOYOTA"
         },
         {
          "font": {
           "color": "black",
           "size": 16
          },
          "showarrow": false,
          "text": "-0.09",
          "x": "Pool_BMW",
          "y": "Pool_MAZDA-SUBARU-SUZUKI-TOYOTA"
         },
         {
          "font": {
           "color": "black",
           "size": 16
          },
          "showarrow": false,
          "text": "-0.07",
          "x": "Pool_FORD",
          "y": "Pool_MAZDA-SUBARU-SUZUKI-TOYOTA"
         },
         {
          "font": {
           "color": "black",
           "size": 16
          },
          "showarrow": false,
          "text": "-0.07",
          "x": "Pool_HYUNDAI",
          "y": "Pool_MAZDA-SUBARU-SUZUKI-TOYOTA"
         },
         {
          "font": {
           "color": "black",
           "size": 16
          },
          "showarrow": false,
          "text": "-0.07",
          "x": "Pool_KIA",
          "y": "Pool_MAZDA-SUBARU-SUZUKI-TOYOTA"
         },
         {
          "font": {
           "color": "white",
           "size": 16
          },
          "showarrow": false,
          "text": "1.0",
          "x": "Pool_MAZDA-SUBARU-SUZUKI-TOYOTA",
          "y": "Pool_MAZDA-SUBARU-SUZUKI-TOYOTA"
         },
         {
          "font": {
           "color": "black",
           "size": 16
          },
          "showarrow": false,
          "text": "-0.08",
          "x": "Pool_MERCEDES-BENZ",
          "y": "Pool_MAZDA-SUBARU-SUZUKI-TOYOTA"
         },
         {
          "font": {
           "color": "black",
           "size": 16
          },
          "showarrow": false,
          "text": "-0.13",
          "x": "Pool_RENAULT-NISSAN-MITSUBISHI",
          "y": "Pool_MAZDA-SUBARU-SUZUKI-TOYOTA"
         },
         {
          "font": {
           "color": "black",
           "size": 16
          },
          "showarrow": false,
          "text": "-0.17",
          "x": "Pool_STELLANTIS",
          "y": "Pool_MAZDA-SUBARU-SUZUKI-TOYOTA"
         },
         {
          "font": {
           "color": "black",
           "size": 16
          },
          "showarrow": false,
          "text": "-0.06",
          "x": "Pool_TESLA",
          "y": "Pool_MAZDA-SUBARU-SUZUKI-TOYOTA"
         },
         {
          "font": {
           "color": "black",
           "size": 16
          },
          "showarrow": false,
          "text": "-0.19",
          "x": "Pool_VW-SAIC",
          "y": "Pool_MAZDA-SUBARU-SUZUKI-TOYOTA"
         },
         {
          "font": {
           "color": "black",
           "size": 16
          },
          "showarrow": false,
          "text": "-0.15",
          "x": "FuelType_DIESEL",
          "y": "Pool_MAZDA-SUBARU-SUZUKI-TOYOTA"
         },
         {
          "font": {
           "color": "black",
           "size": 16
          },
          "showarrow": false,
          "text": "-0.02",
          "x": "FuelType_DIESEL/ELECTRIC",
          "y": "Pool_MAZDA-SUBARU-SUZUKI-TOYOTA"
         },
         {
          "font": {
           "color": "black",
           "size": 16
          },
          "showarrow": false,
          "text": "-0.0",
          "x": "FuelType_E85",
          "y": "Pool_MAZDA-SUBARU-SUZUKI-TOYOTA"
         },
         {
          "font": {
           "color": "black",
           "size": 16
          },
          "showarrow": false,
          "text": "-0.1",
          "x": "FuelType_ELECTRIC",
          "y": "Pool_MAZDA-SUBARU-SUZUKI-TOYOTA"
         },
         {
          "font": {
           "color": "black",
           "size": 16
          },
          "showarrow": false,
          "text": "-0.04",
          "x": "FuelType_LPG",
          "y": "Pool_MAZDA-SUBARU-SUZUKI-TOYOTA"
         },
         {
          "font": {
           "color": "black",
           "size": 16
          },
          "showarrow": false,
          "text": "-0.02",
          "x": "FuelType_NG",
          "y": "Pool_MAZDA-SUBARU-SUZUKI-TOYOTA"
         },
         {
          "font": {
           "color": "black",
           "size": 16
          },
          "showarrow": false,
          "text": "-0.01",
          "x": "FuelType_NG-BIOMETHANE",
          "y": "Pool_MAZDA-SUBARU-SUZUKI-TOYOTA"
         },
         {
          "font": {
           "color": "black",
           "size": 16
          },
          "showarrow": false,
          "text": "0.23",
          "x": "FuelType_PETROL",
          "y": "Pool_MAZDA-SUBARU-SUZUKI-TOYOTA"
         },
         {
          "font": {
           "color": "black",
           "size": 16
          },
          "showarrow": false,
          "text": "-0.05",
          "x": "FuelType_PETROL/ELECTRIC",
          "y": "Pool_MAZDA-SUBARU-SUZUKI-TOYOTA"
         },
         {
          "font": {
           "color": "black",
           "size": 16
          },
          "showarrow": false,
          "text": "0.25",
          "x": "MassRunningOrder",
          "y": "Pool_MERCEDES-BENZ"
         },
         {
          "font": {
           "color": "black",
           "size": 16
          },
          "showarrow": false,
          "text": "0.01",
          "x": "Co2EmissionsWltp",
          "y": "Pool_MERCEDES-BENZ"
         },
         {
          "font": {
           "color": "black",
           "size": 16
          },
          "showarrow": false,
          "text": "0.21",
          "x": "BaseWheel",
          "y": "Pool_MERCEDES-BENZ"
         },
         {
          "font": {
           "color": "black",
           "size": 16
          },
          "showarrow": false,
          "text": "0.21",
          "x": "EnginePower",
          "y": "Pool_MERCEDES-BENZ"
         },
         {
          "font": {
           "color": "black",
           "size": 16
          },
          "showarrow": false,
          "text": "-0.07",
          "x": "InnovativeTechnology",
          "y": "Pool_MERCEDES-BENZ"
         },
         {
          "font": {
           "color": "black",
           "size": 16
          },
          "showarrow": false,
          "text": "-0.16",
          "x": "ElecRange_NO_RANGE",
          "y": "Pool_MERCEDES-BENZ"
         },
         {
          "font": {
           "color": "black",
           "size": 16
          },
          "showarrow": false,
          "text": "0.15",
          "x": "ElecRange_0to50",
          "y": "Pool_MERCEDES-BENZ"
         },
         {
          "font": {
           "color": "black",
           "size": 16
          },
          "showarrow": false,
          "text": "0.11",
          "x": "ElecRange_50to100",
          "y": "Pool_MERCEDES-BENZ"
         },
         {
          "font": {
           "color": "black",
           "size": 16
          },
          "showarrow": false,
          "text": "0.17",
          "x": "ElecRange_100to150",
          "y": "Pool_MERCEDES-BENZ"
         },
         {
          "font": {
           "color": "black",
           "size": 16
          },
          "showarrow": false,
          "text": "0.06",
          "x": "ElecRange_150+",
          "y": "Pool_MERCEDES-BENZ"
         },
         {
          "font": {
           "color": "black",
           "size": 16
          },
          "showarrow": false,
          "text": "-0.07",
          "x": "Pool_BMW",
          "y": "Pool_MERCEDES-BENZ"
         },
         {
          "font": {
           "color": "black",
           "size": 16
          },
          "showarrow": false,
          "text": "-0.05",
          "x": "Pool_FORD",
          "y": "Pool_MERCEDES-BENZ"
         },
         {
          "font": {
           "color": "black",
           "size": 16
          },
          "showarrow": false,
          "text": "-0.05",
          "x": "Pool_HYUNDAI",
          "y": "Pool_MERCEDES-BENZ"
         },
         {
          "font": {
           "color": "black",
           "size": 16
          },
          "showarrow": false,
          "text": "-0.05",
          "x": "Pool_KIA",
          "y": "Pool_MERCEDES-BENZ"
         },
         {
          "font": {
           "color": "black",
           "size": 16
          },
          "showarrow": false,
          "text": "-0.08",
          "x": "Pool_MAZDA-SUBARU-SUZUKI-TOYOTA",
          "y": "Pool_MERCEDES-BENZ"
         },
         {
          "font": {
           "color": "white",
           "size": 16
          },
          "showarrow": false,
          "text": "1.0",
          "x": "Pool_MERCEDES-BENZ",
          "y": "Pool_MERCEDES-BENZ"
         },
         {
          "font": {
           "color": "black",
           "size": 16
          },
          "showarrow": false,
          "text": "-0.1",
          "x": "Pool_RENAULT-NISSAN-MITSUBISHI",
          "y": "Pool_MERCEDES-BENZ"
         },
         {
          "font": {
           "color": "black",
           "size": 16
          },
          "showarrow": false,
          "text": "-0.13",
          "x": "Pool_STELLANTIS",
          "y": "Pool_MERCEDES-BENZ"
         },
         {
          "font": {
           "color": "black",
           "size": 16
          },
          "showarrow": false,
          "text": "-0.04",
          "x": "Pool_TESLA",
          "y": "Pool_MERCEDES-BENZ"
         },
         {
          "font": {
           "color": "black",
           "size": 16
          },
          "showarrow": false,
          "text": "-0.14",
          "x": "Pool_VW-SAIC",
          "y": "Pool_MERCEDES-BENZ"
         },
         {
          "font": {
           "color": "black",
           "size": 16
          },
          "showarrow": false,
          "text": "0.1",
          "x": "FuelType_DIESEL",
          "y": "Pool_MERCEDES-BENZ"
         },
         {
          "font": {
           "color": "black",
           "size": 16
          },
          "showarrow": false,
          "text": "0.29",
          "x": "FuelType_DIESEL/ELECTRIC",
          "y": "Pool_MERCEDES-BENZ"
         },
         {
          "font": {
           "color": "black",
           "size": 16
          },
          "showarrow": false,
          "text": "-0.0",
          "x": "FuelType_E85",
          "y": "Pool_MERCEDES-BENZ"
         },
         {
          "font": {
           "color": "black",
           "size": 16
          },
          "showarrow": false,
          "text": "0.01",
          "x": "FuelType_ELECTRIC",
          "y": "Pool_MERCEDES-BENZ"
         },
         {
          "font": {
           "color": "black",
           "size": 16
          },
          "showarrow": false,
          "text": "-0.04",
          "x": "FuelType_LPG",
          "y": "Pool_MERCEDES-BENZ"
         },
         {
          "font": {
           "color": "black",
           "size": 16
          },
          "showarrow": false,
          "text": "-0.02",
          "x": "FuelType_NG",
          "y": "Pool_MERCEDES-BENZ"
         },
         {
          "font": {
           "color": "black",
           "size": 16
          },
          "showarrow": false,
          "text": "-0.01",
          "x": "FuelType_NG-BIOMETHANE",
          "y": "Pool_MERCEDES-BENZ"
         },
         {
          "font": {
           "color": "black",
           "size": 16
          },
          "showarrow": false,
          "text": "-0.16",
          "x": "FuelType_PETROL",
          "y": "Pool_MERCEDES-BENZ"
         },
         {
          "font": {
           "color": "black",
           "size": 16
          },
          "showarrow": false,
          "text": "0.09",
          "x": "FuelType_PETROL/ELECTRIC",
          "y": "Pool_MERCEDES-BENZ"
         },
         {
          "font": {
           "color": "black",
           "size": 16
          },
          "showarrow": false,
          "text": "-0.17",
          "x": "MassRunningOrder",
          "y": "Pool_RENAULT-NISSAN-MITSUBISHI"
         },
         {
          "font": {
           "color": "black",
           "size": 16
          },
          "showarrow": false,
          "text": "-0.04",
          "x": "Co2EmissionsWltp",
          "y": "Pool_RENAULT-NISSAN-MITSUBISHI"
         },
         {
          "font": {
           "color": "black",
           "size": 16
          },
          "showarrow": false,
          "text": "-0.06",
          "x": "BaseWheel",
          "y": "Pool_RENAULT-NISSAN-MITSUBISHI"
         },
         {
          "font": {
           "color": "black",
           "size": 16
          },
          "showarrow": false,
          "text": "-0.2",
          "x": "EnginePower",
          "y": "Pool_RENAULT-NISSAN-MITSUBISHI"
         },
         {
          "font": {
           "color": "black",
           "size": 16
          },
          "showarrow": false,
          "text": "0.07",
          "x": "InnovativeTechnology",
          "y": "Pool_RENAULT-NISSAN-MITSUBISHI"
         },
         {
          "font": {
           "color": "black",
           "size": 16
          },
          "showarrow": false,
          "text": "0.03",
          "x": "ElecRange_NO_RANGE",
          "y": "Pool_RENAULT-NISSAN-MITSUBISHI"
         },
         {
          "font": {
           "color": "black",
           "size": 16
          },
          "showarrow": false,
          "text": "-0.03",
          "x": "ElecRange_0to50",
          "y": "Pool_RENAULT-NISSAN-MITSUBISHI"
         },
         {
          "font": {
           "color": "black",
           "size": 16
          },
          "showarrow": false,
          "text": "-0.06",
          "x": "ElecRange_50to100",
          "y": "Pool_RENAULT-NISSAN-MITSUBISHI"
         },
         {
          "font": {
           "color": "black",
           "size": 16
          },
          "showarrow": false,
          "text": "-0.02",
          "x": "ElecRange_100to150",
          "y": "Pool_RENAULT-NISSAN-MITSUBISHI"
         },
         {
          "font": {
           "color": "black",
           "size": 16
          },
          "showarrow": false,
          "text": "0.09",
          "x": "ElecRange_150+",
          "y": "Pool_RENAULT-NISSAN-MITSUBISHI"
         },
         {
          "font": {
           "color": "black",
           "size": 16
          },
          "showarrow": false,
          "text": "-0.12",
          "x": "Pool_BMW",
          "y": "Pool_RENAULT-NISSAN-MITSUBISHI"
         },
         {
          "font": {
           "color": "black",
           "size": 16
          },
          "showarrow": false,
          "text": "-0.08",
          "x": "Pool_FORD",
          "y": "Pool_RENAULT-NISSAN-MITSUBISHI"
         },
         {
          "font": {
           "color": "black",
           "size": 16
          },
          "showarrow": false,
          "text": "-0.08",
          "x": "Pool_HYUNDAI",
          "y": "Pool_RENAULT-NISSAN-MITSUBISHI"
         },
         {
          "font": {
           "color": "black",
           "size": 16
          },
          "showarrow": false,
          "text": "-0.09",
          "x": "Pool_KIA",
          "y": "Pool_RENAULT-NISSAN-MITSUBISHI"
         },
         {
          "font": {
           "color": "black",
           "size": 16
          },
          "showarrow": false,
          "text": "-0.13",
          "x": "Pool_MAZDA-SUBARU-SUZUKI-TOYOTA",
          "y": "Pool_RENAULT-NISSAN-MITSUBISHI"
         },
         {
          "font": {
           "color": "black",
           "size": 16
          },
          "showarrow": false,
          "text": "-0.1",
          "x": "Pool_MERCEDES-BENZ",
          "y": "Pool_RENAULT-NISSAN-MITSUBISHI"
         },
         {
          "font": {
           "color": "white",
           "size": 16
          },
          "showarrow": false,
          "text": "1.0",
          "x": "Pool_RENAULT-NISSAN-MITSUBISHI",
          "y": "Pool_RENAULT-NISSAN-MITSUBISHI"
         },
         {
          "font": {
           "color": "black",
           "size": 16
          },
          "showarrow": false,
          "text": "-0.21",
          "x": "Pool_STELLANTIS",
          "y": "Pool_RENAULT-NISSAN-MITSUBISHI"
         },
         {
          "font": {
           "color": "black",
           "size": 16
          },
          "showarrow": false,
          "text": "-0.07",
          "x": "Pool_TESLA",
          "y": "Pool_RENAULT-NISSAN-MITSUBISHI"
         },
         {
          "font": {
           "color": "black",
           "size": 16
          },
          "showarrow": false,
          "text": "-0.24",
          "x": "Pool_VW-SAIC",
          "y": "Pool_RENAULT-NISSAN-MITSUBISHI"
         },
         {
          "font": {
           "color": "black",
           "size": 16
          },
          "showarrow": false,
          "text": "-0.07",
          "x": "FuelType_DIESEL",
          "y": "Pool_RENAULT-NISSAN-MITSUBISHI"
         },
         {
          "font": {
           "color": "black",
           "size": 16
          },
          "showarrow": false,
          "text": "-0.03",
          "x": "FuelType_DIESEL/ELECTRIC",
          "y": "Pool_RENAULT-NISSAN-MITSUBISHI"
         },
         {
          "font": {
           "color": "black",
           "size": 16
          },
          "showarrow": false,
          "text": "-0.01",
          "x": "FuelType_E85",
          "y": "Pool_RENAULT-NISSAN-MITSUBISHI"
         },
         {
          "font": {
           "color": "black",
           "size": 16
          },
          "showarrow": false,
          "text": "0.03",
          "x": "FuelType_ELECTRIC",
          "y": "Pool_RENAULT-NISSAN-MITSUBISHI"
         },
         {
          "font": {
           "color": "black",
           "size": 16
          },
          "showarrow": false,
          "text": "0.31",
          "x": "FuelType_LPG",
          "y": "Pool_RENAULT-NISSAN-MITSUBISHI"
         },
         {
          "font": {
           "color": "black",
           "size": 16
          },
          "showarrow": false,
          "text": "-0.03",
          "x": "FuelType_NG",
          "y": "Pool_RENAULT-NISSAN-MITSUBISHI"
         },
         {
          "font": {
           "color": "black",
           "size": 16
          },
          "showarrow": false,
          "text": "0.01",
          "x": "FuelType_NG-BIOMETHANE",
          "y": "Pool_RENAULT-NISSAN-MITSUBISHI"
         },
         {
          "font": {
           "color": "black",
           "size": 16
          },
          "showarrow": false,
          "text": "-0.01",
          "x": "FuelType_PETROL",
          "y": "Pool_RENAULT-NISSAN-MITSUBISHI"
         },
         {
          "font": {
           "color": "black",
           "size": 16
          },
          "showarrow": false,
          "text": "-0.07",
          "x": "FuelType_PETROL/ELECTRIC",
          "y": "Pool_RENAULT-NISSAN-MITSUBISHI"
         },
         {
          "font": {
           "color": "black",
           "size": 16
          },
          "showarrow": false,
          "text": "-0.25",
          "x": "MassRunningOrder",
          "y": "Pool_STELLANTIS"
         },
         {
          "font": {
           "color": "black",
           "size": 16
          },
          "showarrow": false,
          "text": "-0.0",
          "x": "Co2EmissionsWltp",
          "y": "Pool_STELLANTIS"
         },
         {
          "font": {
           "color": "black",
           "size": 16
          },
          "showarrow": false,
          "text": "-0.25",
          "x": "BaseWheel",
          "y": "Pool_STELLANTIS"
         },
         {
          "font": {
           "color": "black",
           "size": 16
          },
          "showarrow": false,
          "text": "-0.21",
          "x": "EnginePower",
          "y": "Pool_STELLANTIS"
         },
         {
          "font": {
           "color": "black",
           "size": 16
          },
          "showarrow": false,
          "text": "0.03",
          "x": "InnovativeTechnology",
          "y": "Pool_STELLANTIS"
         },
         {
          "font": {
           "color": "black",
           "size": 16
          },
          "showarrow": false,
          "text": "0.06",
          "x": "ElecRange_NO_RANGE",
          "y": "Pool_STELLANTIS"
         },
         {
          "font": {
           "color": "black",
           "size": 16
          },
          "showarrow": false,
          "text": "-0.02",
          "x": "ElecRange_0to50",
          "y": "Pool_STELLANTIS"
         },
         {
          "font": {
           "color": "black",
           "size": 16
          },
          "showarrow": false,
          "text": "-0.05",
          "x": "ElecRange_50to100",
          "y": "Pool_STELLANTIS"
         },
         {
          "font": {
           "color": "black",
           "size": 16
          },
          "showarrow": false,
          "text": "-0.02",
          "x": "ElecRange_100to150",
          "y": "Pool_STELLANTIS"
         },
         {
          "font": {
           "color": "black",
           "size": 16
          },
          "showarrow": false,
          "text": "-0.05",
          "x": "ElecRange_150+",
          "y": "Pool_STELLANTIS"
         },
         {
          "font": {
           "color": "black",
           "size": 16
          },
          "showarrow": false,
          "text": "-0.15",
          "x": "Pool_BMW",
          "y": "Pool_STELLANTIS"
         },
         {
          "font": {
           "color": "black",
           "size": 16
          },
          "showarrow": false,
          "text": "-0.11",
          "x": "Pool_FORD",
          "y": "Pool_STELLANTIS"
         },
         {
          "font": {
           "color": "black",
           "size": 16
          },
          "showarrow": false,
          "text": "-0.11",
          "x": "Pool_HYUNDAI",
          "y": "Pool_STELLANTIS"
         },
         {
          "font": {
           "color": "black",
           "size": 16
          },
          "showarrow": false,
          "text": "-0.11",
          "x": "Pool_KIA",
          "y": "Pool_STELLANTIS"
         },
         {
          "font": {
           "color": "black",
           "size": 16
          },
          "showarrow": false,
          "text": "-0.17",
          "x": "Pool_MAZDA-SUBARU-SUZUKI-TOYOTA",
          "y": "Pool_STELLANTIS"
         },
         {
          "font": {
           "color": "black",
           "size": 16
          },
          "showarrow": false,
          "text": "-0.13",
          "x": "Pool_MERCEDES-BENZ",
          "y": "Pool_STELLANTIS"
         },
         {
          "font": {
           "color": "black",
           "size": 16
          },
          "showarrow": false,
          "text": "-0.21",
          "x": "Pool_RENAULT-NISSAN-MITSUBISHI",
          "y": "Pool_STELLANTIS"
         },
         {
          "font": {
           "color": "white",
           "size": 16
          },
          "showarrow": false,
          "text": "1.0",
          "x": "Pool_STELLANTIS",
          "y": "Pool_STELLANTIS"
         },
         {
          "font": {
           "color": "black",
           "size": 16
          },
          "showarrow": false,
          "text": "-0.09",
          "x": "Pool_TESLA",
          "y": "Pool_STELLANTIS"
         },
         {
          "font": {
           "color": "black",
           "size": 16
          },
          "showarrow": false,
          "text": "-0.32",
          "x": "Pool_VW-SAIC",
          "y": "Pool_STELLANTIS"
         },
         {
          "font": {
           "color": "black",
           "size": 16
          },
          "showarrow": false,
          "text": "0.06",
          "x": "FuelType_DIESEL",
          "y": "Pool_STELLANTIS"
         },
         {
          "font": {
           "color": "black",
           "size": 16
          },
          "showarrow": false,
          "text": "-0.04",
          "x": "FuelType_DIESEL/ELECTRIC",
          "y": "Pool_STELLANTIS"
         },
         {
          "font": {
           "color": "black",
           "size": 16
          },
          "showarrow": false,
          "text": "-0.01",
          "x": "FuelType_E85",
          "y": "Pool_STELLANTIS"
         },
         {
          "font": {
           "color": "black",
           "size": 16
          },
          "showarrow": false,
          "text": "-0.04",
          "x": "FuelType_ELECTRIC",
          "y": "Pool_STELLANTIS"
         },
         {
          "font": {
           "color": "black",
           "size": 16
          },
          "showarrow": false,
          "text": "-0.06",
          "x": "FuelType_LPG",
          "y": "Pool_STELLANTIS"
         },
         {
          "font": {
           "color": "black",
           "size": 16
          },
          "showarrow": false,
          "text": "-0.03",
          "x": "FuelType_NG",
          "y": "Pool_STELLANTIS"
         },
         {
          "font": {
           "color": "black",
           "size": 16
          },
          "showarrow": false,
          "text": "0.05",
          "x": "FuelType_NG-BIOMETHANE",
          "y": "Pool_STELLANTIS"
         },
         {
          "font": {
           "color": "black",
           "size": 16
          },
          "showarrow": false,
          "text": "0.03",
          "x": "FuelType_PETROL",
          "y": "Pool_STELLANTIS"
         },
         {
          "font": {
           "color": "black",
           "size": 16
          },
          "showarrow": false,
          "text": "-0.06",
          "x": "FuelType_PETROL/ELECTRIC",
          "y": "Pool_STELLANTIS"
         },
         {
          "font": {
           "color": "black",
           "size": 16
          },
          "showarrow": false,
          "text": "0.22",
          "x": "MassRunningOrder",
          "y": "Pool_TESLA"
         },
         {
          "font": {
           "color": "black",
           "size": 16
          },
          "showarrow": false,
          "text": "-0.15",
          "x": "Co2EmissionsWltp",
          "y": "Pool_TESLA"
         },
         {
          "font": {
           "color": "black",
           "size": 16
          },
          "showarrow": false,
          "text": "0.16",
          "x": "BaseWheel",
          "y": "Pool_TESLA"
         },
         {
          "font": {
           "color": "black",
           "size": 16
          },
          "showarrow": false,
          "text": "0.2",
          "x": "EnginePower",
          "y": "Pool_TESLA"
         },
         {
          "font": {
           "color": "black",
           "size": 16
          },
          "showarrow": false,
          "text": "-0.1",
          "x": "InnovativeTechnology",
          "y": "Pool_TESLA"
         },
         {
          "font": {
           "color": "black",
           "size": 16
          },
          "showarrow": false,
          "text": "-0.13",
          "x": "ElecRange_NO_RANGE",
          "y": "Pool_TESLA"
         },
         {
          "font": {
           "color": "black",
           "size": 16
          },
          "showarrow": false,
          "text": "-0.01",
          "x": "ElecRange_0to50",
          "y": "Pool_TESLA"
         },
         {
          "font": {
           "color": "black",
           "size": 16
          },
          "showarrow": false,
          "text": "0.03",
          "x": "ElecRange_50to100",
          "y": "Pool_TESLA"
         },
         {
          "font": {
           "color": "black",
           "size": 16
          },
          "showarrow": false,
          "text": "-0.01",
          "x": "ElecRange_100to150",
          "y": "Pool_TESLA"
         },
         {
          "font": {
           "color": "black",
           "size": 16
          },
          "showarrow": false,
          "text": "-0.02",
          "x": "ElecRange_150+",
          "y": "Pool_TESLA"
         },
         {
          "font": {
           "color": "black",
           "size": 16
          },
          "showarrow": false,
          "text": "-0.05",
          "x": "Pool_BMW",
          "y": "Pool_TESLA"
         },
         {
          "font": {
           "color": "black",
           "size": 16
          },
          "showarrow": false,
          "text": "-0.04",
          "x": "Pool_FORD",
          "y": "Pool_TESLA"
         },
         {
          "font": {
           "color": "black",
           "size": 16
          },
          "showarrow": false,
          "text": "-0.04",
          "x": "Pool_HYUNDAI",
          "y": "Pool_TESLA"
         },
         {
          "font": {
           "color": "black",
           "size": 16
          },
          "showarrow": false,
          "text": "-0.04",
          "x": "Pool_KIA",
          "y": "Pool_TESLA"
         },
         {
          "font": {
           "color": "black",
           "size": 16
          },
          "showarrow": false,
          "text": "-0.06",
          "x": "Pool_MAZDA-SUBARU-SUZUKI-TOYOTA",
          "y": "Pool_TESLA"
         },
         {
          "font": {
           "color": "black",
           "size": 16
          },
          "showarrow": false,
          "text": "-0.04",
          "x": "Pool_MERCEDES-BENZ",
          "y": "Pool_TESLA"
         },
         {
          "font": {
           "color": "black",
           "size": 16
          },
          "showarrow": false,
          "text": "-0.07",
          "x": "Pool_RENAULT-NISSAN-MITSUBISHI",
          "y": "Pool_TESLA"
         },
         {
          "font": {
           "color": "black",
           "size": 16
          },
          "showarrow": false,
          "text": "-0.09",
          "x": "Pool_STELLANTIS",
          "y": "Pool_TESLA"
         },
         {
          "font": {
           "color": "white",
           "size": 16
          },
          "showarrow": false,
          "text": "1.0",
          "x": "Pool_TESLA",
          "y": "Pool_TESLA"
         },
         {
          "font": {
           "color": "black",
           "size": 16
          },
          "showarrow": false,
          "text": "-0.1",
          "x": "Pool_VW-SAIC",
          "y": "Pool_TESLA"
         },
         {
          "font": {
           "color": "black",
           "size": 16
          },
          "showarrow": false,
          "text": "-0.04",
          "x": "FuelType_DIESEL",
          "y": "Pool_TESLA"
         },
         {
          "font": {
           "color": "black",
           "size": 16
          },
          "showarrow": false,
          "text": "-0.01",
          "x": "FuelType_DIESEL/ELECTRIC",
          "y": "Pool_TESLA"
         },
         {
          "font": {
           "color": "black",
           "size": 16
          },
          "showarrow": false,
          "text": "0.08",
          "x": "FuelType_E85",
          "y": "Pool_TESLA"
         },
         {
          "font": {
           "color": "black",
           "size": 16
          },
          "showarrow": false,
          "text": "0.26",
          "x": "FuelType_ELECTRIC",
          "y": "Pool_TESLA"
         },
         {
          "font": {
           "color": "black",
           "size": 16
          },
          "showarrow": false,
          "text": "-0.03",
          "x": "FuelType_LPG",
          "y": "Pool_TESLA"
         },
         {
          "font": {
           "color": "black",
           "size": 16
          },
          "showarrow": false,
          "text": "-0.01",
          "x": "FuelType_NG",
          "y": "Pool_TESLA"
         },
         {
          "font": {
           "color": "black",
           "size": 16
          },
          "showarrow": false,
          "text": "-0.01",
          "x": "FuelType_NG-BIOMETHANE",
          "y": "Pool_TESLA"
         },
         {
          "font": {
           "color": "black",
           "size": 16
          },
          "showarrow": false,
          "text": "-0.11",
          "x": "FuelType_PETROL",
          "y": "Pool_TESLA"
         },
         {
          "font": {
           "color": "black",
           "size": 16
          },
          "showarrow": false,
          "text": "0.01",
          "x": "FuelType_PETROL/ELECTRIC",
          "y": "Pool_TESLA"
         },
         {
          "font": {
           "color": "black",
           "size": 16
          },
          "showarrow": false,
          "text": "0.09",
          "x": "MassRunningOrder",
          "y": "Pool_VW-SAIC"
         },
         {
          "font": {
           "color": "black",
           "size": 16
          },
          "showarrow": false,
          "text": "0.07",
          "x": "Co2EmissionsWltp",
          "y": "Pool_VW-SAIC"
         },
         {
          "font": {
           "color": "black",
           "size": 16
          },
          "showarrow": false,
          "text": "0.05",
          "x": "BaseWheel",
          "y": "Pool_VW-SAIC"
         },
         {
          "font": {
           "color": "black",
           "size": 16
          },
          "showarrow": false,
          "text": "0.1",
          "x": "EnginePower",
          "y": "Pool_VW-SAIC"
         },
         {
          "font": {
           "color": "black",
           "size": 16
          },
          "showarrow": false,
          "text": "0.05",
          "x": "InnovativeTechnology",
          "y": "Pool_VW-SAIC"
         },
         {
          "font": {
           "color": "black",
           "size": 16
          },
          "showarrow": false,
          "text": "0.01",
          "x": "ElecRange_NO_RANGE",
          "y": "Pool_VW-SAIC"
         },
         {
          "font": {
           "color": "black",
           "size": 16
          },
          "showarrow": false,
          "text": "-0.04",
          "x": "ElecRange_0to50",
          "y": "Pool_VW-SAIC"
         },
         {
          "font": {
           "color": "black",
           "size": 16
          },
          "showarrow": false,
          "text": "0.04",
          "x": "ElecRange_50to100",
          "y": "Pool_VW-SAIC"
         },
         {
          "font": {
           "color": "black",
           "size": 16
          },
          "showarrow": false,
          "text": "-0.02",
          "x": "ElecRange_100to150",
          "y": "Pool_VW-SAIC"
         },
         {
          "font": {
           "color": "black",
           "size": 16
          },
          "showarrow": false,
          "text": "-0.01",
          "x": "ElecRange_150+",
          "y": "Pool_VW-SAIC"
         },
         {
          "font": {
           "color": "black",
           "size": 16
          },
          "showarrow": false,
          "text": "-0.17",
          "x": "Pool_BMW",
          "y": "Pool_VW-SAIC"
         },
         {
          "font": {
           "color": "black",
           "size": 16
          },
          "showarrow": false,
          "text": "-0.12",
          "x": "Pool_FORD",
          "y": "Pool_VW-SAIC"
         },
         {
          "font": {
           "color": "black",
           "size": 16
          },
          "showarrow": false,
          "text": "-0.12",
          "x": "Pool_HYUNDAI",
          "y": "Pool_VW-SAIC"
         },
         {
          "font": {
           "color": "black",
           "size": 16
          },
          "showarrow": false,
          "text": "-0.13",
          "x": "Pool_KIA",
          "y": "Pool_VW-SAIC"
         },
         {
          "font": {
           "color": "black",
           "size": 16
          },
          "showarrow": false,
          "text": "-0.19",
          "x": "Pool_MAZDA-SUBARU-SUZUKI-TOYOTA",
          "y": "Pool_VW-SAIC"
         },
         {
          "font": {
           "color": "black",
           "size": 16
          },
          "showarrow": false,
          "text": "-0.14",
          "x": "Pool_MERCEDES-BENZ",
          "y": "Pool_VW-SAIC"
         },
         {
          "font": {
           "color": "black",
           "size": 16
          },
          "showarrow": false,
          "text": "-0.24",
          "x": "Pool_RENAULT-NISSAN-MITSUBISHI",
          "y": "Pool_VW-SAIC"
         },
         {
          "font": {
           "color": "black",
           "size": 16
          },
          "showarrow": false,
          "text": "-0.32",
          "x": "Pool_STELLANTIS",
          "y": "Pool_VW-SAIC"
         },
         {
          "font": {
           "color": "black",
           "size": 16
          },
          "showarrow": false,
          "text": "-0.1",
          "x": "Pool_TESLA",
          "y": "Pool_VW-SAIC"
         },
         {
          "font": {
           "color": "white",
           "size": 16
          },
          "showarrow": false,
          "text": "1.0",
          "x": "Pool_VW-SAIC",
          "y": "Pool_VW-SAIC"
         },
         {
          "font": {
           "color": "black",
           "size": 16
          },
          "showarrow": false,
          "text": "0.04",
          "x": "FuelType_DIESEL",
          "y": "Pool_VW-SAIC"
         },
         {
          "font": {
           "color": "black",
           "size": 16
          },
          "showarrow": false,
          "text": "-0.04",
          "x": "FuelType_DIESEL/ELECTRIC",
          "y": "Pool_VW-SAIC"
         },
         {
          "font": {
           "color": "black",
           "size": 16
          },
          "showarrow": false,
          "text": "-0.01",
          "x": "FuelType_E85",
          "y": "Pool_VW-SAIC"
         },
         {
          "font": {
           "color": "black",
           "size": 16
          },
          "showarrow": false,
          "text": "-0.01",
          "x": "FuelType_ELECTRIC",
          "y": "Pool_VW-SAIC"
         },
         {
          "font": {
           "color": "black",
           "size": 16
          },
          "showarrow": false,
          "text": "-0.09",
          "x": "FuelType_LPG",
          "y": "Pool_VW-SAIC"
         },
         {
          "font": {
           "color": "black",
           "size": 16
          },
          "showarrow": false,
          "text": "0.11",
          "x": "FuelType_NG",
          "y": "Pool_VW-SAIC"
         },
         {
          "font": {
           "color": "black",
           "size": 16
          },
          "showarrow": false,
          "text": "-0.02",
          "x": "FuelType_NG-BIOMETHANE",
          "y": "Pool_VW-SAIC"
         },
         {
          "font": {
           "color": "black",
           "size": 16
          },
          "showarrow": false,
          "text": "-0.02",
          "x": "FuelType_PETROL",
          "y": "Pool_VW-SAIC"
         },
         {
          "font": {
           "color": "black",
           "size": 16
          },
          "showarrow": false,
          "text": "0.01",
          "x": "FuelType_PETROL/ELECTRIC",
          "y": "Pool_VW-SAIC"
         },
         {
          "font": {
           "color": "black",
           "size": 16
          },
          "showarrow": false,
          "text": "0.25",
          "x": "MassRunningOrder",
          "y": "FuelType_DIESEL"
         },
         {
          "font": {
           "color": "black",
           "size": 16
          },
          "showarrow": false,
          "text": "0.29",
          "x": "Co2EmissionsWltp",
          "y": "FuelType_DIESEL"
         },
         {
          "font": {
           "color": "black",
           "size": 16
          },
          "showarrow": false,
          "text": "0.35",
          "x": "BaseWheel",
          "y": "FuelType_DIESEL"
         },
         {
          "font": {
           "color": "black",
           "size": 16
          },
          "showarrow": false,
          "text": "0.12",
          "x": "EnginePower",
          "y": "FuelType_DIESEL"
         },
         {
          "font": {
           "color": "black",
           "size": 16
          },
          "showarrow": false,
          "text": "0.13",
          "x": "InnovativeTechnology",
          "y": "FuelType_DIESEL"
         },
         {
          "font": {
           "color": "black",
           "size": 16
          },
          "showarrow": false,
          "text": "0.22",
          "x": "ElecRange_NO_RANGE",
          "y": "FuelType_DIESEL"
         },
         {
          "font": {
           "color": "black",
           "size": 16
          },
          "showarrow": false,
          "text": "-0.08",
          "x": "ElecRange_0to50",
          "y": "FuelType_DIESEL"
         },
         {
          "font": {
           "color": "black",
           "size": 16
          },
          "showarrow": false,
          "text": "-0.12",
          "x": "ElecRange_50to100",
          "y": "FuelType_DIESEL"
         },
         {
          "font": {
           "color": "black",
           "size": 16
          },
          "showarrow": false,
          "text": "-0.02",
          "x": "ElecRange_100to150",
          "y": "FuelType_DIESEL"
         },
         {
          "font": {
           "color": "black",
           "size": 16
          },
          "showarrow": false,
          "text": "-0.07",
          "x": "ElecRange_150+",
          "y": "FuelType_DIESEL"
         },
         {
          "font": {
           "color": "black",
           "size": 16
          },
          "showarrow": false,
          "text": "0.1",
          "x": "Pool_BMW",
          "y": "FuelType_DIESEL"
         },
         {
          "font": {
           "color": "black",
           "size": 16
          },
          "showarrow": false,
          "text": "0.04",
          "x": "Pool_FORD",
          "y": "FuelType_DIESEL"
         },
         {
          "font": {
           "color": "black",
           "size": 16
          },
          "showarrow": false,
          "text": "-0.07",
          "x": "Pool_HYUNDAI",
          "y": "FuelType_DIESEL"
         },
         {
          "font": {
           "color": "black",
           "size": 16
          },
          "showarrow": false,
          "text": "-0.06",
          "x": "Pool_KIA",
          "y": "FuelType_DIESEL"
         },
         {
          "font": {
           "color": "black",
           "size": 16
          },
          "showarrow": false,
          "text": "-0.15",
          "x": "Pool_MAZDA-SUBARU-SUZUKI-TOYOTA",
          "y": "FuelType_DIESEL"
         },
         {
          "font": {
           "color": "black",
           "size": 16
          },
          "showarrow": false,
          "text": "0.1",
          "x": "Pool_MERCEDES-BENZ",
          "y": "FuelType_DIESEL"
         },
         {
          "font": {
           "color": "black",
           "size": 16
          },
          "showarrow": false,
          "text": "-0.07",
          "x": "Pool_RENAULT-NISSAN-MITSUBISHI",
          "y": "FuelType_DIESEL"
         },
         {
          "font": {
           "color": "black",
           "size": 16
          },
          "showarrow": false,
          "text": "0.06",
          "x": "Pool_STELLANTIS",
          "y": "FuelType_DIESEL"
         },
         {
          "font": {
           "color": "black",
           "size": 16
          },
          "showarrow": false,
          "text": "-0.04",
          "x": "Pool_TESLA",
          "y": "FuelType_DIESEL"
         },
         {
          "font": {
           "color": "black",
           "size": 16
          },
          "showarrow": false,
          "text": "0.04",
          "x": "Pool_VW-SAIC",
          "y": "FuelType_DIESEL"
         },
         {
          "font": {
           "color": "white",
           "size": 16
          },
          "showarrow": false,
          "text": "1.0",
          "x": "FuelType_DIESEL",
          "y": "FuelType_DIESEL"
         },
         {
          "font": {
           "color": "black",
           "size": 16
          },
          "showarrow": false,
          "text": "-0.04",
          "x": "FuelType_DIESEL/ELECTRIC",
          "y": "FuelType_DIESEL"
         },
         {
          "font": {
           "color": "black",
           "size": 16
          },
          "showarrow": false,
          "text": "-0.01",
          "x": "FuelType_E85",
          "y": "FuelType_DIESEL"
         },
         {
          "font": {
           "color": "black",
           "size": 16
          },
          "showarrow": false,
          "text": "-0.18",
          "x": "FuelType_ELECTRIC",
          "y": "FuelType_DIESEL"
         },
         {
          "font": {
           "color": "black",
           "size": 16
          },
          "showarrow": false,
          "text": "-0.09",
          "x": "FuelType_LPG",
          "y": "FuelType_DIESEL"
         },
         {
          "font": {
           "color": "black",
           "size": 16
          },
          "showarrow": false,
          "text": "-0.04",
          "x": "FuelType_NG",
          "y": "FuelType_DIESEL"
         },
         {
          "font": {
           "color": "black",
           "size": 16
          },
          "showarrow": false,
          "text": "-0.02",
          "x": "FuelType_NG-BIOMETHANE",
          "y": "FuelType_DIESEL"
         },
         {
          "font": {
           "color": "white",
           "size": 16
          },
          "showarrow": false,
          "text": "-0.64",
          "x": "FuelType_PETROL",
          "y": "FuelType_DIESEL"
         },
         {
          "font": {
           "color": "black",
           "size": 16
          },
          "showarrow": false,
          "text": "-0.15",
          "x": "FuelType_PETROL/ELECTRIC",
          "y": "FuelType_DIESEL"
         },
         {
          "font": {
           "color": "black",
           "size": 16
          },
          "showarrow": false,
          "text": "0.16",
          "x": "MassRunningOrder",
          "y": "FuelType_DIESEL/ELECTRIC"
         },
         {
          "font": {
           "color": "black",
           "size": 16
          },
          "showarrow": false,
          "text": "-0.1",
          "x": "Co2EmissionsWltp",
          "y": "FuelType_DIESEL/ELECTRIC"
         },
         {
          "font": {
           "color": "black",
           "size": 16
          },
          "showarrow": false,
          "text": "0.1",
          "x": "BaseWheel",
          "y": "FuelType_DIESEL/ELECTRIC"
         },
         {
          "font": {
           "color": "black",
           "size": 16
          },
          "showarrow": false,
          "text": "0.06",
          "x": "EnginePower",
          "y": "FuelType_DIESEL/ELECTRIC"
         },
         {
          "font": {
           "color": "black",
           "size": 16
          },
          "showarrow": false,
          "text": "-0.07",
          "x": "InnovativeTechnology",
          "y": "FuelType_DIESEL/ELECTRIC"
         },
         {
          "font": {
           "color": "black",
           "size": 16
          },
          "showarrow": false,
          "text": "-0.18",
          "x": "ElecRange_NO_RANGE",
          "y": "FuelType_DIESEL/ELECTRIC"
         },
         {
          "font": {
           "color": "black",
           "size": 16
          },
          "showarrow": false,
          "text": "0.34",
          "x": "ElecRange_0to50",
          "y": "FuelType_DIESEL/ELECTRIC"
         },
         {
          "font": {
           "color": "black",
           "size": 16
          },
          "showarrow": false,
          "text": "0.09",
          "x": "ElecRange_50to100",
          "y": "FuelType_DIESEL/ELECTRIC"
         },
         {
          "font": {
           "color": "black",
           "size": 16
          },
          "showarrow": false,
          "text": "-0.0",
          "x": "ElecRange_100to150",
          "y": "FuelType_DIESEL/ELECTRIC"
         },
         {
          "font": {
           "color": "black",
           "size": 16
          },
          "showarrow": false,
          "text": "-0.01",
          "x": "ElecRange_150+",
          "y": "FuelType_DIESEL/ELECTRIC"
         },
         {
          "font": {
           "color": "black",
           "size": 16
          },
          "showarrow": false,
          "text": "-0.02",
          "x": "Pool_BMW",
          "y": "FuelType_DIESEL/ELECTRIC"
         },
         {
          "font": {
           "color": "black",
           "size": 16
          },
          "showarrow": false,
          "text": "-0.01",
          "x": "Pool_FORD",
          "y": "FuelType_DIESEL/ELECTRIC"
         },
         {
          "font": {
           "color": "black",
           "size": 16
          },
          "showarrow": false,
          "text": "-0.01",
          "x": "Pool_HYUNDAI",
          "y": "FuelType_DIESEL/ELECTRIC"
         },
         {
          "font": {
           "color": "black",
           "size": 16
          },
          "showarrow": false,
          "text": "-0.01",
          "x": "Pool_KIA",
          "y": "FuelType_DIESEL/ELECTRIC"
         },
         {
          "font": {
           "color": "black",
           "size": 16
          },
          "showarrow": false,
          "text": "-0.02",
          "x": "Pool_MAZDA-SUBARU-SUZUKI-TOYOTA",
          "y": "FuelType_DIESEL/ELECTRIC"
         },
         {
          "font": {
           "color": "black",
           "size": 16
          },
          "showarrow": false,
          "text": "0.29",
          "x": "Pool_MERCEDES-BENZ",
          "y": "FuelType_DIESEL/ELECTRIC"
         },
         {
          "font": {
           "color": "black",
           "size": 16
          },
          "showarrow": false,
          "text": "-0.03",
          "x": "Pool_RENAULT-NISSAN-MITSUBISHI",
          "y": "FuelType_DIESEL/ELECTRIC"
         },
         {
          "font": {
           "color": "black",
           "size": 16
          },
          "showarrow": false,
          "text": "-0.04",
          "x": "Pool_STELLANTIS",
          "y": "FuelType_DIESEL/ELECTRIC"
         },
         {
          "font": {
           "color": "black",
           "size": 16
          },
          "showarrow": false,
          "text": "-0.01",
          "x": "Pool_TESLA",
          "y": "FuelType_DIESEL/ELECTRIC"
         },
         {
          "font": {
           "color": "black",
           "size": 16
          },
          "showarrow": false,
          "text": "-0.04",
          "x": "Pool_VW-SAIC",
          "y": "FuelType_DIESEL/ELECTRIC"
         },
         {
          "font": {
           "color": "black",
           "size": 16
          },
          "showarrow": false,
          "text": "-0.04",
          "x": "FuelType_DIESEL",
          "y": "FuelType_DIESEL/ELECTRIC"
         },
         {
          "font": {
           "color": "white",
           "size": 16
          },
          "showarrow": false,
          "text": "1.0",
          "x": "FuelType_DIESEL/ELECTRIC",
          "y": "FuelType_DIESEL/ELECTRIC"
         },
         {
          "font": {
           "color": "black",
           "size": 16
          },
          "showarrow": false,
          "text": "-0.0",
          "x": "FuelType_E85",
          "y": "FuelType_DIESEL/ELECTRIC"
         },
         {
          "font": {
           "color": "black",
           "size": 16
          },
          "showarrow": false,
          "text": "-0.02",
          "x": "FuelType_ELECTRIC",
          "y": "FuelType_DIESEL/ELECTRIC"
         },
         {
          "font": {
           "color": "black",
           "size": 16
          },
          "showarrow": false,
          "text": "-0.01",
          "x": "FuelType_LPG",
          "y": "FuelType_DIESEL/ELECTRIC"
         },
         {
          "font": {
           "color": "black",
           "size": 16
          },
          "showarrow": false,
          "text": "-0.0",
          "x": "FuelType_NG",
          "y": "FuelType_DIESEL/ELECTRIC"
         },
         {
          "font": {
           "color": "black",
           "size": 16
          },
          "showarrow": false,
          "text": "-0.0",
          "x": "FuelType_NG-BIOMETHANE",
          "y": "FuelType_DIESEL/ELECTRIC"
         },
         {
          "font": {
           "color": "black",
           "size": 16
          },
          "showarrow": false,
          "text": "-0.08",
          "x": "FuelType_PETROL",
          "y": "FuelType_DIESEL/ELECTRIC"
         },
         {
          "font": {
           "color": "black",
           "size": 16
          },
          "showarrow": false,
          "text": "-0.02",
          "x": "FuelType_PETROL/ELECTRIC",
          "y": "FuelType_DIESEL/ELECTRIC"
         },
         {
          "font": {
           "color": "black",
           "size": 16
          },
          "showarrow": false,
          "text": "0.02",
          "x": "MassRunningOrder",
          "y": "FuelType_E85"
         },
         {
          "font": {
           "color": "black",
           "size": 16
          },
          "showarrow": false,
          "text": "0.03",
          "x": "Co2EmissionsWltp",
          "y": "FuelType_E85"
         },
         {
          "font": {
           "color": "black",
           "size": 16
          },
          "showarrow": false,
          "text": "0.0",
          "x": "BaseWheel",
          "y": "FuelType_E85"
         },
         {
          "font": {
           "color": "black",
           "size": 16
          },
          "showarrow": false,
          "text": "0.01",
          "x": "EnginePower",
          "y": "FuelType_E85"
         },
         {
          "font": {
           "color": "black",
           "size": 16
          },
          "showarrow": false,
          "text": "-0.01",
          "x": "InnovativeTechnology",
          "y": "FuelType_E85"
         },
         {
          "font": {
           "color": "black",
           "size": 16
          },
          "showarrow": false,
          "text": "0.01",
          "x": "ElecRange_NO_RANGE",
          "y": "FuelType_E85"
         },
         {
          "font": {
           "color": "black",
           "size": 16
          },
          "showarrow": false,
          "text": "-0.0",
          "x": "ElecRange_0to50",
          "y": "FuelType_E85"
         },
         {
          "font": {
           "color": "black",
           "size": 16
          },
          "showarrow": false,
          "text": "-0.0",
          "x": "ElecRange_50to100",
          "y": "FuelType_E85"
         },
         {
          "font": {
           "color": "black",
           "size": 16
          },
          "showarrow": false,
          "text": "-0.0",
          "x": "ElecRange_100to150",
          "y": "FuelType_E85"
         },
         {
          "font": {
           "color": "black",
           "size": 16
          },
          "showarrow": false,
          "text": "-0.0",
          "x": "ElecRange_150+",
          "y": "FuelType_E85"
         },
         {
          "font": {
           "color": "black",
           "size": 16
          },
          "showarrow": false,
          "text": "-0.0",
          "x": "Pool_BMW",
          "y": "FuelType_E85"
         },
         {
          "font": {
           "color": "black",
           "size": 16
          },
          "showarrow": false,
          "text": "-0.0",
          "x": "Pool_FORD",
          "y": "FuelType_E85"
         },
         {
          "font": {
           "color": "black",
           "size": 16
          },
          "showarrow": false,
          "text": "-0.0",
          "x": "Pool_HYUNDAI",
          "y": "FuelType_E85"
         },
         {
          "font": {
           "color": "black",
           "size": 16
          },
          "showarrow": false,
          "text": "-0.0",
          "x": "Pool_KIA",
          "y": "FuelType_E85"
         },
         {
          "font": {
           "color": "black",
           "size": 16
          },
          "showarrow": false,
          "text": "-0.0",
          "x": "Pool_MAZDA-SUBARU-SUZUKI-TOYOTA",
          "y": "FuelType_E85"
         },
         {
          "font": {
           "color": "black",
           "size": 16
          },
          "showarrow": false,
          "text": "-0.0",
          "x": "Pool_MERCEDES-BENZ",
          "y": "FuelType_E85"
         },
         {
          "font": {
           "color": "black",
           "size": 16
          },
          "showarrow": false,
          "text": "-0.01",
          "x": "Pool_RENAULT-NISSAN-MITSUBISHI",
          "y": "FuelType_E85"
         },
         {
          "font": {
           "color": "black",
           "size": 16
          },
          "showarrow": false,
          "text": "-0.01",
          "x": "Pool_STELLANTIS",
          "y": "FuelType_E85"
         },
         {
          "font": {
           "color": "black",
           "size": 16
          },
          "showarrow": false,
          "text": "0.08",
          "x": "Pool_TESLA",
          "y": "FuelType_E85"
         },
         {
          "font": {
           "color": "black",
           "size": 16
          },
          "showarrow": false,
          "text": "-0.01",
          "x": "Pool_VW-SAIC",
          "y": "FuelType_E85"
         },
         {
          "font": {
           "color": "black",
           "size": 16
          },
          "showarrow": false,
          "text": "-0.01",
          "x": "FuelType_DIESEL",
          "y": "FuelType_E85"
         },
         {
          "font": {
           "color": "black",
           "size": 16
          },
          "showarrow": false,
          "text": "-0.0",
          "x": "FuelType_DIESEL/ELECTRIC",
          "y": "FuelType_E85"
         },
         {
          "font": {
           "color": "white",
           "size": 16
          },
          "showarrow": false,
          "text": "1.0",
          "x": "FuelType_E85",
          "y": "FuelType_E85"
         },
         {
          "font": {
           "color": "black",
           "size": 16
          },
          "showarrow": false,
          "text": "-0.0",
          "x": "FuelType_ELECTRIC",
          "y": "FuelType_E85"
         },
         {
          "font": {
           "color": "black",
           "size": 16
          },
          "showarrow": false,
          "text": "-0.0",
          "x": "FuelType_LPG",
          "y": "FuelType_E85"
         },
         {
          "font": {
           "color": "black",
           "size": 16
          },
          "showarrow": false,
          "text": "-0.0",
          "x": "FuelType_NG",
          "y": "FuelType_E85"
         },
         {
          "font": {
           "color": "black",
           "size": 16
          },
          "showarrow": false,
          "text": "-0.0",
          "x": "FuelType_NG-BIOMETHANE",
          "y": "FuelType_E85"
         },
         {
          "font": {
           "color": "black",
           "size": 16
          },
          "showarrow": false,
          "text": "-0.02",
          "x": "FuelType_PETROL",
          "y": "FuelType_E85"
         },
         {
          "font": {
           "color": "black",
           "size": 16
          },
          "showarrow": false,
          "text": "-0.0",
          "x": "FuelType_PETROL/ELECTRIC",
          "y": "FuelType_E85"
         },
         {
          "font": {
           "color": "black",
           "size": 16
          },
          "showarrow": false,
          "text": "0.26",
          "x": "MassRunningOrder",
          "y": "FuelType_ELECTRIC"
         },
         {
          "font": {
           "color": "white",
           "size": 16
          },
          "showarrow": false,
          "text": "-0.73",
          "x": "Co2EmissionsWltp",
          "y": "FuelType_ELECTRIC"
         },
         {
          "font": {
           "color": "black",
           "size": 16
          },
          "showarrow": false,
          "text": "0.03",
          "x": "BaseWheel",
          "y": "FuelType_ELECTRIC"
         },
         {
          "font": {
           "color": "black",
           "size": 16
          },
          "showarrow": false,
          "text": "0.0",
          "x": "EnginePower",
          "y": "FuelType_ELECTRIC"
         },
         {
          "font": {
           "color": "black",
           "size": 16
          },
          "showarrow": false,
          "text": "-0.31",
          "x": "InnovativeTechnology",
          "y": "FuelType_ELECTRIC"
         },
         {
          "font": {
           "color": "white",
           "size": 16
          },
          "showarrow": false,
          "text": "-0.56",
          "x": "ElecRange_NO_RANGE",
          "y": "FuelType_ELECTRIC"
         },
         {
          "font": {
           "color": "black",
           "size": 16
          },
          "showarrow": false,
          "text": "-0.05",
          "x": "ElecRange_0to50",
          "y": "FuelType_ELECTRIC"
         },
         {
          "font": {
           "color": "black",
           "size": 16
          },
          "showarrow": false,
          "text": "-0.07",
          "x": "ElecRange_50to100",
          "y": "FuelType_ELECTRIC"
         },
         {
          "font": {
           "color": "black",
           "size": 16
          },
          "showarrow": false,
          "text": "0.11",
          "x": "ElecRange_100to150",
          "y": "FuelType_ELECTRIC"
         },
         {
          "font": {
           "color": "black",
           "size": 16
          },
          "showarrow": false,
          "text": "0.38",
          "x": "ElecRange_150+",
          "y": "FuelType_ELECTRIC"
         },
         {
          "font": {
           "color": "black",
           "size": 16
          },
          "showarrow": false,
          "text": "-0.01",
          "x": "Pool_BMW",
          "y": "FuelType_ELECTRIC"
         },
         {
          "font": {
           "color": "black",
           "size": 16
          },
          "showarrow": false,
          "text": "-0.03",
          "x": "Pool_FORD",
          "y": "FuelType_ELECTRIC"
         },
         {
          "font": {
           "color": "black",
           "size": 16
          },
          "showarrow": false,
          "text": "0.01",
          "x": "Pool_HYUNDAI",
          "y": "FuelType_ELECTRIC"
         },
         {
          "font": {
           "color": "black",
           "size": 16
          },
          "showarrow": false,
          "text": "-0.01",
          "x": "Pool_KIA",
          "y": "FuelType_ELECTRIC"
         },
         {
          "font": {
           "color": "black",
           "size": 16
          },
          "showarrow": false,
          "text": "-0.1",
          "x": "Pool_MAZDA-SUBARU-SUZUKI-TOYOTA",
          "y": "FuelType_ELECTRIC"
         },
         {
          "font": {
           "color": "black",
           "size": 16
          },
          "showarrow": false,
          "text": "0.01",
          "x": "Pool_MERCEDES-BENZ",
          "y": "FuelType_ELECTRIC"
         },
         {
          "font": {
           "color": "black",
           "size": 16
          },
          "showarrow": false,
          "text": "0.03",
          "x": "Pool_RENAULT-NISSAN-MITSUBISHI",
          "y": "FuelType_ELECTRIC"
         },
         {
          "font": {
           "color": "black",
           "size": 16
          },
          "showarrow": false,
          "text": "-0.04",
          "x": "Pool_STELLANTIS",
          "y": "FuelType_ELECTRIC"
         },
         {
          "font": {
           "color": "black",
           "size": 16
          },
          "showarrow": false,
          "text": "0.26",
          "x": "Pool_TESLA",
          "y": "FuelType_ELECTRIC"
         },
         {
          "font": {
           "color": "black",
           "size": 16
          },
          "showarrow": false,
          "text": "-0.01",
          "x": "Pool_VW-SAIC",
          "y": "FuelType_ELECTRIC"
         },
         {
          "font": {
           "color": "black",
           "size": 16
          },
          "showarrow": false,
          "text": "-0.18",
          "x": "FuelType_DIESEL",
          "y": "FuelType_ELECTRIC"
         },
         {
          "font": {
           "color": "black",
           "size": 16
          },
          "showarrow": false,
          "text": "-0.02",
          "x": "FuelType_DIESEL/ELECTRIC",
          "y": "FuelType_ELECTRIC"
         },
         {
          "font": {
           "color": "black",
           "size": 16
          },
          "showarrow": false,
          "text": "-0.0",
          "x": "FuelType_E85",
          "y": "FuelType_ELECTRIC"
         },
         {
          "font": {
           "color": "white",
           "size": 16
          },
          "showarrow": false,
          "text": "1.0",
          "x": "FuelType_ELECTRIC",
          "y": "FuelType_ELECTRIC"
         },
         {
          "font": {
           "color": "black",
           "size": 16
          },
          "showarrow": false,
          "text": "-0.05",
          "x": "FuelType_LPG",
          "y": "FuelType_ELECTRIC"
         },
         {
          "font": {
           "color": "black",
           "size": 16
          },
          "showarrow": false,
          "text": "-0.02",
          "x": "FuelType_NG",
          "y": "FuelType_ELECTRIC"
         },
         {
          "font": {
           "color": "black",
           "size": 16
          },
          "showarrow": false,
          "text": "-0.01",
          "x": "FuelType_NG-BIOMETHANE",
          "y": "FuelType_ELECTRIC"
         },
         {
          "font": {
           "color": "black",
           "size": 16
          },
          "showarrow": false,
          "text": "-0.37",
          "x": "FuelType_PETROL",
          "y": "FuelType_ELECTRIC"
         },
         {
          "font": {
           "color": "black",
           "size": 16
          },
          "showarrow": false,
          "text": "-0.09",
          "x": "FuelType_PETROL/ELECTRIC",
          "y": "FuelType_ELECTRIC"
         },
         {
          "font": {
           "color": "black",
           "size": 16
          },
          "showarrow": false,
          "text": "-0.1",
          "x": "MassRunningOrder",
          "y": "FuelType_LPG"
         },
         {
          "font": {
           "color": "black",
           "size": 16
          },
          "showarrow": false,
          "text": "0.01",
          "x": "Co2EmissionsWltp",
          "y": "FuelType_LPG"
         },
         {
          "font": {
           "color": "black",
           "size": 16
          },
          "showarrow": false,
          "text": "-0.05",
          "x": "BaseWheel",
          "y": "FuelType_LPG"
         },
         {
          "font": {
           "color": "black",
           "size": 16
          },
          "showarrow": false,
          "text": "-0.1",
          "x": "EnginePower",
          "y": "FuelType_LPG"
         },
         {
          "font": {
           "color": "black",
           "size": 16
          },
          "showarrow": false,
          "text": "-0.01",
          "x": "InnovativeTechnology",
          "y": "FuelType_LPG"
         },
         {
          "font": {
           "color": "black",
           "size": 16
          },
          "showarrow": false,
          "text": "0.06",
          "x": "ElecRange_NO_RANGE",
          "y": "FuelType_LPG"
         },
         {
          "font": {
           "color": "black",
           "size": 16
          },
          "showarrow": false,
          "text": "-0.02",
          "x": "ElecRange_0to50",
          "y": "FuelType_LPG"
         },
         {
          "font": {
           "color": "black",
           "size": 16
          },
          "showarrow": false,
          "text": "-0.03",
          "x": "ElecRange_50to100",
          "y": "FuelType_LPG"
         },
         {
          "font": {
           "color": "black",
           "size": 16
          },
          "showarrow": false,
          "text": "-0.01",
          "x": "ElecRange_100to150",
          "y": "FuelType_LPG"
         },
         {
          "font": {
           "color": "black",
           "size": 16
          },
          "showarrow": false,
          "text": "-0.02",
          "x": "ElecRange_150+",
          "y": "FuelType_LPG"
         },
         {
          "font": {
           "color": "black",
           "size": 16
          },
          "showarrow": false,
          "text": "-0.04",
          "x": "Pool_BMW",
          "y": "FuelType_LPG"
         },
         {
          "font": {
           "color": "black",
           "size": 16
          },
          "showarrow": false,
          "text": "-0.03",
          "x": "Pool_FORD",
          "y": "FuelType_LPG"
         },
         {
          "font": {
           "color": "black",
           "size": 16
          },
          "showarrow": false,
          "text": "-0.02",
          "x": "Pool_HYUNDAI",
          "y": "FuelType_LPG"
         },
         {
          "font": {
           "color": "black",
           "size": 16
          },
          "showarrow": false,
          "text": "0.02",
          "x": "Pool_KIA",
          "y": "FuelType_LPG"
         },
         {
          "font": {
           "color": "black",
           "size": 16
          },
          "showarrow": false,
          "text": "-0.04",
          "x": "Pool_MAZDA-SUBARU-SUZUKI-TOYOTA",
          "y": "FuelType_LPG"
         },
         {
          "font": {
           "color": "black",
           "size": 16
          },
          "showarrow": false,
          "text": "-0.04",
          "x": "Pool_MERCEDES-BENZ",
          "y": "FuelType_LPG"
         },
         {
          "font": {
           "color": "black",
           "size": 16
          },
          "showarrow": false,
          "text": "0.31",
          "x": "Pool_RENAULT-NISSAN-MITSUBISHI",
          "y": "FuelType_LPG"
         },
         {
          "font": {
           "color": "black",
           "size": 16
          },
          "showarrow": false,
          "text": "-0.06",
          "x": "Pool_STELLANTIS",
          "y": "FuelType_LPG"
         },
         {
          "font": {
           "color": "black",
           "size": 16
          },
          "showarrow": false,
          "text": "-0.03",
          "x": "Pool_TESLA",
          "y": "FuelType_LPG"
         },
         {
          "font": {
           "color": "black",
           "size": 16
          },
          "showarrow": false,
          "text": "-0.09",
          "x": "Pool_VW-SAIC",
          "y": "FuelType_LPG"
         },
         {
          "font": {
           "color": "black",
           "size": 16
          },
          "showarrow": false,
          "text": "-0.09",
          "x": "FuelType_DIESEL",
          "y": "FuelType_LPG"
         },
         {
          "font": {
           "color": "black",
           "size": 16
          },
          "showarrow": false,
          "text": "-0.01",
          "x": "FuelType_DIESEL/ELECTRIC",
          "y": "FuelType_LPG"
         },
         {
          "font": {
           "color": "black",
           "size": 16
          },
          "showarrow": false,
          "text": "-0.0",
          "x": "FuelType_E85",
          "y": "FuelType_LPG"
         },
         {
          "font": {
           "color": "black",
           "size": 16
          },
          "showarrow": false,
          "text": "-0.05",
          "x": "FuelType_ELECTRIC",
          "y": "FuelType_LPG"
         },
         {
          "font": {
           "color": "white",
           "size": 16
          },
          "showarrow": false,
          "text": "1.0",
          "x": "FuelType_LPG",
          "y": "FuelType_LPG"
         },
         {
          "font": {
           "color": "black",
           "size": 16
          },
          "showarrow": false,
          "text": "-0.01",
          "x": "FuelType_NG",
          "y": "FuelType_LPG"
         },
         {
          "font": {
           "color": "black",
           "size": 16
          },
          "showarrow": false,
          "text": "-0.01",
          "x": "FuelType_NG-BIOMETHANE",
          "y": "FuelType_LPG"
         },
         {
          "font": {
           "color": "black",
           "size": 16
          },
          "showarrow": false,
          "text": "-0.18",
          "x": "FuelType_PETROL",
          "y": "FuelType_LPG"
         },
         {
          "font": {
           "color": "black",
           "size": 16
          },
          "showarrow": false,
          "text": "-0.04",
          "x": "FuelType_PETROL/ELECTRIC",
          "y": "FuelType_LPG"
         },
         {
          "font": {
           "color": "black",
           "size": 16
          },
          "showarrow": false,
          "text": "-0.03",
          "x": "MassRunningOrder",
          "y": "FuelType_NG"
         },
         {
          "font": {
           "color": "black",
           "size": 16
          },
          "showarrow": false,
          "text": "-0.01",
          "x": "Co2EmissionsWltp",
          "y": "FuelType_NG"
         },
         {
          "font": {
           "color": "black",
           "size": 16
          },
          "showarrow": false,
          "text": "-0.02",
          "x": "BaseWheel",
          "y": "FuelType_NG"
         },
         {
          "font": {
           "color": "black",
           "size": 16
          },
          "showarrow": false,
          "text": "-0.03",
          "x": "EnginePower",
          "y": "FuelType_NG"
         },
         {
          "font": {
           "color": "black",
           "size": 16
          },
          "showarrow": false,
          "text": "-0.03",
          "x": "InnovativeTechnology",
          "y": "FuelType_NG"
         },
         {
          "font": {
           "color": "black",
           "size": 16
          },
          "showarrow": false,
          "text": "0.02",
          "x": "ElecRange_NO_RANGE",
          "y": "FuelType_NG"
         },
         {
          "font": {
           "color": "black",
           "size": 16
          },
          "showarrow": false,
          "text": "-0.01",
          "x": "ElecRange_0to50",
          "y": "FuelType_NG"
         },
         {
          "font": {
           "color": "black",
           "size": 16
          },
          "showarrow": false,
          "text": "-0.01",
          "x": "ElecRange_50to100",
          "y": "FuelType_NG"
         },
         {
          "font": {
           "color": "black",
           "size": 16
          },
          "showarrow": false,
          "text": "-0.0",
          "x": "ElecRange_100to150",
          "y": "FuelType_NG"
         },
         {
          "font": {
           "color": "black",
           "size": 16
          },
          "showarrow": false,
          "text": "-0.01",
          "x": "ElecRange_150+",
          "y": "FuelType_NG"
         },
         {
          "font": {
           "color": "black",
           "size": 16
          },
          "showarrow": false,
          "text": "-0.02",
          "x": "Pool_BMW",
          "y": "FuelType_NG"
         },
         {
          "font": {
           "color": "black",
           "size": 16
          },
          "showarrow": false,
          "text": "-0.01",
          "x": "Pool_FORD",
          "y": "FuelType_NG"
         },
         {
          "font": {
           "color": "black",
           "size": 16
          },
          "showarrow": false,
          "text": "-0.01",
          "x": "Pool_HYUNDAI",
          "y": "FuelType_NG"
         },
         {
          "font": {
           "color": "black",
           "size": 16
          },
          "showarrow": false,
          "text": "-0.01",
          "x": "Pool_KIA",
          "y": "FuelType_NG"
         },
         {
          "font": {
           "color": "black",
           "size": 16
          },
          "showarrow": false,
          "text": "-0.02",
          "x": "Pool_MAZDA-SUBARU-SUZUKI-TOYOTA",
          "y": "FuelType_NG"
         },
         {
          "font": {
           "color": "black",
           "size": 16
          },
          "showarrow": false,
          "text": "-0.02",
          "x": "Pool_MERCEDES-BENZ",
          "y": "FuelType_NG"
         },
         {
          "font": {
           "color": "black",
           "size": 16
          },
          "showarrow": false,
          "text": "-0.03",
          "x": "Pool_RENAULT-NISSAN-MITSUBISHI",
          "y": "FuelType_NG"
         },
         {
          "font": {
           "color": "black",
           "size": 16
          },
          "showarrow": false,
          "text": "-0.03",
          "x": "Pool_STELLANTIS",
          "y": "FuelType_NG"
         },
         {
          "font": {
           "color": "black",
           "size": 16
          },
          "showarrow": false,
          "text": "-0.01",
          "x": "Pool_TESLA",
          "y": "FuelType_NG"
         },
         {
          "font": {
           "color": "black",
           "size": 16
          },
          "showarrow": false,
          "text": "0.11",
          "x": "Pool_VW-SAIC",
          "y": "FuelType_NG"
         },
         {
          "font": {
           "color": "black",
           "size": 16
          },
          "showarrow": false,
          "text": "-0.04",
          "x": "FuelType_DIESEL",
          "y": "FuelType_NG"
         },
         {
          "font": {
           "color": "black",
           "size": 16
          },
          "showarrow": false,
          "text": "-0.0",
          "x": "FuelType_DIESEL/ELECTRIC",
          "y": "FuelType_NG"
         },
         {
          "font": {
           "color": "black",
           "size": 16
          },
          "showarrow": false,
          "text": "-0.0",
          "x": "FuelType_E85",
          "y": "FuelType_NG"
         },
         {
          "font": {
           "color": "black",
           "size": 16
          },
          "showarrow": false,
          "text": "-0.02",
          "x": "FuelType_ELECTRIC",
          "y": "FuelType_NG"
         },
         {
          "font": {
           "color": "black",
           "size": 16
          },
          "showarrow": false,
          "text": "-0.01",
          "x": "FuelType_LPG",
          "y": "FuelType_NG"
         },
         {
          "font": {
           "color": "white",
           "size": 16
          },
          "showarrow": false,
          "text": "1.0",
          "x": "FuelType_NG",
          "y": "FuelType_NG"
         },
         {
          "font": {
           "color": "black",
           "size": 16
          },
          "showarrow": false,
          "text": "-0.0",
          "x": "FuelType_NG-BIOMETHANE",
          "y": "FuelType_NG"
         },
         {
          "font": {
           "color": "black",
           "size": 16
          },
          "showarrow": false,
          "text": "-0.07",
          "x": "FuelType_PETROL",
          "y": "FuelType_NG"
         },
         {
          "font": {
           "color": "black",
           "size": 16
          },
          "showarrow": false,
          "text": "-0.02",
          "x": "FuelType_PETROL/ELECTRIC",
          "y": "FuelType_NG"
         },
         {
          "font": {
           "color": "black",
           "size": 16
          },
          "showarrow": false,
          "text": "-0.03",
          "x": "MassRunningOrder",
          "y": "FuelType_NG-BIOMETHANE"
         },
         {
          "font": {
           "color": "black",
           "size": 16
          },
          "showarrow": false,
          "text": "-0.0",
          "x": "Co2EmissionsWltp",
          "y": "FuelType_NG-BIOMETHANE"
         },
         {
          "font": {
           "color": "black",
           "size": 16
          },
          "showarrow": false,
          "text": "-0.05",
          "x": "BaseWheel",
          "y": "FuelType_NG-BIOMETHANE"
         },
         {
          "font": {
           "color": "black",
           "size": 16
          },
          "showarrow": false,
          "text": "-0.03",
          "x": "EnginePower",
          "y": "FuelType_NG-BIOMETHANE"
         },
         {
          "font": {
           "color": "black",
           "size": 16
          },
          "showarrow": false,
          "text": "-0.02",
          "x": "InnovativeTechnology",
          "y": "FuelType_NG-BIOMETHANE"
         },
         {
          "font": {
           "color": "black",
           "size": 16
          },
          "showarrow": false,
          "text": "0.01",
          "x": "ElecRange_NO_RANGE",
          "y": "FuelType_NG-BIOMETHANE"
         },
         {
          "font": {
           "color": "black",
           "size": 16
          },
          "showarrow": false,
          "text": "-0.0",
          "x": "ElecRange_0to50",
          "y": "FuelType_NG-BIOMETHANE"
         },
         {
          "font": {
           "color": "black",
           "size": 16
          },
          "showarrow": false,
          "text": "-0.01",
          "x": "ElecRange_50to100",
          "y": "FuelType_NG-BIOMETHANE"
         },
         {
          "font": {
           "color": "black",
           "size": 16
          },
          "showarrow": false,
          "text": "-0.0",
          "x": "ElecRange_100to150",
          "y": "FuelType_NG-BIOMETHANE"
         },
         {
          "font": {
           "color": "black",
           "size": 16
          },
          "showarrow": false,
          "text": "-0.0",
          "x": "ElecRange_150+",
          "y": "FuelType_NG-BIOMETHANE"
         },
         {
          "font": {
           "color": "black",
           "size": 16
          },
          "showarrow": false,
          "text": "-0.01",
          "x": "Pool_BMW",
          "y": "FuelType_NG-BIOMETHANE"
         },
         {
          "font": {
           "color": "black",
           "size": 16
          },
          "showarrow": false,
          "text": "-0.01",
          "x": "Pool_FORD",
          "y": "FuelType_NG-BIOMETHANE"
         },
         {
          "font": {
           "color": "black",
           "size": 16
          },
          "showarrow": false,
          "text": "-0.01",
          "x": "Pool_HYUNDAI",
          "y": "FuelType_NG-BIOMETHANE"
         },
         {
          "font": {
           "color": "black",
           "size": 16
          },
          "showarrow": false,
          "text": "-0.01",
          "x": "Pool_KIA",
          "y": "FuelType_NG-BIOMETHANE"
         },
         {
          "font": {
           "color": "black",
           "size": 16
          },
          "showarrow": false,
          "text": "-0.01",
          "x": "Pool_MAZDA-SUBARU-SUZUKI-TOYOTA",
          "y": "FuelType_NG-BIOMETHANE"
         },
         {
          "font": {
           "color": "black",
           "size": 16
          },
          "showarrow": false,
          "text": "-0.01",
          "x": "Pool_MERCEDES-BENZ",
          "y": "FuelType_NG-BIOMETHANE"
         },
         {
          "font": {
           "color": "black",
           "size": 16
          },
          "showarrow": false,
          "text": "0.01",
          "x": "Pool_RENAULT-NISSAN-MITSUBISHI",
          "y": "FuelType_NG-BIOMETHANE"
         },
         {
          "font": {
           "color": "black",
           "size": 16
          },
          "showarrow": false,
          "text": "0.05",
          "x": "Pool_STELLANTIS",
          "y": "FuelType_NG-BIOMETHANE"
         },
         {
          "font": {
           "color": "black",
           "size": 16
          },
          "showarrow": false,
          "text": "-0.01",
          "x": "Pool_TESLA",
          "y": "FuelType_NG-BIOMETHANE"
         },
         {
          "font": {
           "color": "black",
           "size": 16
          },
          "showarrow": false,
          "text": "-0.02",
          "x": "Pool_VW-SAIC",
          "y": "FuelType_NG-BIOMETHANE"
         },
         {
          "font": {
           "color": "black",
           "size": 16
          },
          "showarrow": false,
          "text": "-0.02",
          "x": "FuelType_DIESEL",
          "y": "FuelType_NG-BIOMETHANE"
         },
         {
          "font": {
           "color": "black",
           "size": 16
          },
          "showarrow": false,
          "text": "-0.0",
          "x": "FuelType_DIESEL/ELECTRIC",
          "y": "FuelType_NG-BIOMETHANE"
         },
         {
          "font": {
           "color": "black",
           "size": 16
          },
          "showarrow": false,
          "text": "-0.0",
          "x": "FuelType_E85",
          "y": "FuelType_NG-BIOMETHANE"
         },
         {
          "font": {
           "color": "black",
           "size": 16
          },
          "showarrow": false,
          "text": "-0.01",
          "x": "FuelType_ELECTRIC",
          "y": "FuelType_NG-BIOMETHANE"
         },
         {
          "font": {
           "color": "black",
           "size": 16
          },
          "showarrow": false,
          "text": "-0.01",
          "x": "FuelType_LPG",
          "y": "FuelType_NG-BIOMETHANE"
         },
         {
          "font": {
           "color": "black",
           "size": 16
          },
          "showarrow": false,
          "text": "-0.0",
          "x": "FuelType_NG",
          "y": "FuelType_NG-BIOMETHANE"
         },
         {
          "font": {
           "color": "white",
           "size": 16
          },
          "showarrow": false,
          "text": "1.0",
          "x": "FuelType_NG-BIOMETHANE",
          "y": "FuelType_NG-BIOMETHANE"
         },
         {
          "font": {
           "color": "black",
           "size": 16
          },
          "showarrow": false,
          "text": "-0.04",
          "x": "FuelType_PETROL",
          "y": "FuelType_NG-BIOMETHANE"
         },
         {
          "font": {
           "color": "black",
           "size": 16
          },
          "showarrow": false,
          "text": "-0.01",
          "x": "FuelType_PETROL/ELECTRIC",
          "y": "FuelType_NG-BIOMETHANE"
         },
         {
          "font": {
           "color": "white",
           "size": 16
          },
          "showarrow": false,
          "text": "-0.54",
          "x": "MassRunningOrder",
          "y": "FuelType_PETROL"
         },
         {
          "font": {
           "color": "black",
           "size": 16
          },
          "showarrow": false,
          "text": "0.38",
          "x": "Co2EmissionsWltp",
          "y": "FuelType_PETROL"
         },
         {
          "font": {
           "color": "black",
           "size": 16
          },
          "showarrow": false,
          "text": "-0.39",
          "x": "BaseWheel",
          "y": "FuelType_PETROL"
         },
         {
          "font": {
           "color": "black",
           "size": 16
          },
          "showarrow": false,
          "text": "-0.16",
          "x": "EnginePower",
          "y": "FuelType_PETROL"
         },
         {
          "font": {
           "color": "black",
           "size": 16
          },
          "showarrow": false,
          "text": "0.23",
          "x": "InnovativeTechnology",
          "y": "FuelType_PETROL"
         },
         {
          "font": {
           "color": "black",
           "size": 16
          },
          "showarrow": false,
          "text": "0.44",
          "x": "ElecRange_NO_RANGE",
          "y": "FuelType_PETROL"
         },
         {
          "font": {
           "color": "black",
           "size": 16
          },
          "showarrow": false,
          "text": "-0.16",
          "x": "ElecRange_0to50",
          "y": "FuelType_PETROL"
         },
         {
          "font": {
           "color": "black",
           "size": 16
          },
          "showarrow": false,
          "text": "-0.24",
          "x": "ElecRange_50to100",
          "y": "FuelType_PETROL"
         },
         {
          "font": {
           "color": "black",
           "size": 16
          },
          "showarrow": false,
          "text": "-0.05",
          "x": "ElecRange_100to150",
          "y": "FuelType_PETROL"
         },
         {
          "font": {
           "color": "black",
           "size": 16
          },
          "showarrow": false,
          "text": "-0.14",
          "x": "ElecRange_150+",
          "y": "FuelType_PETROL"
         },
         {
          "font": {
           "color": "black",
           "size": 16
          },
          "showarrow": false,
          "text": "-0.11",
          "x": "Pool_BMW",
          "y": "FuelType_PETROL"
         },
         {
          "font": {
           "color": "black",
           "size": 16
          },
          "showarrow": false,
          "text": "-0.02",
          "x": "Pool_FORD",
          "y": "FuelType_PETROL"
         },
         {
          "font": {
           "color": "black",
           "size": 16
          },
          "showarrow": false,
          "text": "0.07",
          "x": "Pool_HYUNDAI",
          "y": "FuelType_PETROL"
         },
         {
          "font": {
           "color": "black",
           "size": 16
          },
          "showarrow": false,
          "text": "0.03",
          "x": "Pool_KIA",
          "y": "FuelType_PETROL"
         },
         {
          "font": {
           "color": "black",
           "size": 16
          },
          "showarrow": false,
          "text": "0.23",
          "x": "Pool_MAZDA-SUBARU-SUZUKI-TOYOTA",
          "y": "FuelType_PETROL"
         },
         {
          "font": {
           "color": "black",
           "size": 16
          },
          "showarrow": false,
          "text": "-0.16",
          "x": "Pool_MERCEDES-BENZ",
          "y": "FuelType_PETROL"
         },
         {
          "font": {
           "color": "black",
           "size": 16
          },
          "showarrow": false,
          "text": "-0.01",
          "x": "Pool_RENAULT-NISSAN-MITSUBISHI",
          "y": "FuelType_PETROL"
         },
         {
          "font": {
           "color": "black",
           "size": 16
          },
          "showarrow": false,
          "text": "0.03",
          "x": "Pool_STELLANTIS",
          "y": "FuelType_PETROL"
         },
         {
          "font": {
           "color": "black",
           "size": 16
          },
          "showarrow": false,
          "text": "-0.11",
          "x": "Pool_TESLA",
          "y": "FuelType_PETROL"
         },
         {
          "font": {
           "color": "black",
           "size": 16
          },
          "showarrow": false,
          "text": "-0.02",
          "x": "Pool_VW-SAIC",
          "y": "FuelType_PETROL"
         },
         {
          "font": {
           "color": "white",
           "size": 16
          },
          "showarrow": false,
          "text": "-0.64",
          "x": "FuelType_DIESEL",
          "y": "FuelType_PETROL"
         },
         {
          "font": {
           "color": "black",
           "size": 16
          },
          "showarrow": false,
          "text": "-0.08",
          "x": "FuelType_DIESEL/ELECTRIC",
          "y": "FuelType_PETROL"
         },
         {
          "font": {
           "color": "black",
           "size": 16
          },
          "showarrow": false,
          "text": "-0.02",
          "x": "FuelType_E85",
          "y": "FuelType_PETROL"
         },
         {
          "font": {
           "color": "black",
           "size": 16
          },
          "showarrow": false,
          "text": "-0.37",
          "x": "FuelType_ELECTRIC",
          "y": "FuelType_PETROL"
         },
         {
          "font": {
           "color": "black",
           "size": 16
          },
          "showarrow": false,
          "text": "-0.18",
          "x": "FuelType_LPG",
          "y": "FuelType_PETROL"
         },
         {
          "font": {
           "color": "black",
           "size": 16
          },
          "showarrow": false,
          "text": "-0.07",
          "x": "FuelType_NG",
          "y": "FuelType_PETROL"
         },
         {
          "font": {
           "color": "black",
           "size": 16
          },
          "showarrow": false,
          "text": "-0.04",
          "x": "FuelType_NG-BIOMETHANE",
          "y": "FuelType_PETROL"
         },
         {
          "font": {
           "color": "white",
           "size": 16
          },
          "showarrow": false,
          "text": "1.0",
          "x": "FuelType_PETROL",
          "y": "FuelType_PETROL"
         },
         {
          "font": {
           "color": "black",
           "size": 16
          },
          "showarrow": false,
          "text": "-0.31",
          "x": "FuelType_PETROL/ELECTRIC",
          "y": "FuelType_PETROL"
         },
         {
          "font": {
           "color": "black",
           "size": 16
          },
          "showarrow": false,
          "text": "0.36",
          "x": "MassRunningOrder",
          "y": "FuelType_PETROL/ELECTRIC"
         },
         {
          "font": {
           "color": "black",
           "size": 16
          },
          "showarrow": false,
          "text": "-0.38",
          "x": "Co2EmissionsWltp",
          "y": "FuelType_PETROL/ELECTRIC"
         },
         {
          "font": {
           "color": "black",
           "size": 16
          },
          "showarrow": false,
          "text": "0.15",
          "x": "BaseWheel",
          "y": "FuelType_PETROL/ELECTRIC"
         },
         {
          "font": {
           "color": "black",
           "size": 16
          },
          "showarrow": false,
          "text": "0.17",
          "x": "EnginePower",
          "y": "FuelType_PETROL/ELECTRIC"
         },
         {
          "font": {
           "color": "black",
           "size": 16
          },
          "showarrow": false,
          "text": "-0.26",
          "x": "InnovativeTechnology",
          "y": "FuelType_PETROL/ELECTRIC"
         },
         {
          "font": {
           "color": "white",
           "size": 16
          },
          "showarrow": false,
          "text": "-0.58",
          "x": "ElecRange_NO_RANGE",
          "y": "FuelType_PETROL/ELECTRIC"
         },
         {
          "font": {
           "color": "black",
           "size": 16
          },
          "showarrow": false,
          "text": "0.42",
          "x": "ElecRange_0to50",
          "y": "FuelType_PETROL/ELECTRIC"
         },
         {
          "font": {
           "color": "white",
           "size": 16
          },
          "showarrow": false,
          "text": "0.76",
          "x": "ElecRange_50to100",
          "y": "FuelType_PETROL/ELECTRIC"
         },
         {
          "font": {
           "color": "black",
           "size": 16
          },
          "showarrow": false,
          "text": "0.01",
          "x": "ElecRange_100to150",
          "y": "FuelType_PETROL/ELECTRIC"
         },
         {
          "font": {
           "color": "black",
           "size": 16
          },
          "showarrow": false,
          "text": "-0.03",
          "x": "ElecRange_150+",
          "y": "FuelType_PETROL/ELECTRIC"
         },
         {
          "font": {
           "color": "black",
           "size": 16
          },
          "showarrow": false,
          "text": "0.1",
          "x": "Pool_BMW",
          "y": "FuelType_PETROL/ELECTRIC"
         },
         {
          "font": {
           "color": "black",
           "size": 16
          },
          "showarrow": false,
          "text": "0.02",
          "x": "Pool_FORD",
          "y": "FuelType_PETROL/ELECTRIC"
         },
         {
          "font": {
           "color": "black",
           "size": 16
          },
          "showarrow": false,
          "text": "-0.03",
          "x": "Pool_HYUNDAI",
          "y": "FuelType_PETROL/ELECTRIC"
         },
         {
          "font": {
           "color": "black",
           "size": 16
          },
          "showarrow": false,
          "text": "0.04",
          "x": "Pool_KIA",
          "y": "FuelType_PETROL/ELECTRIC"
         },
         {
          "font": {
           "color": "black",
           "size": 16
          },
          "showarrow": false,
          "text": "-0.05",
          "x": "Pool_MAZDA-SUBARU-SUZUKI-TOYOTA",
          "y": "FuelType_PETROL/ELECTRIC"
         },
         {
          "font": {
           "color": "black",
           "size": 16
          },
          "showarrow": false,
          "text": "0.09",
          "x": "Pool_MERCEDES-BENZ",
          "y": "FuelType_PETROL/ELECTRIC"
         },
         {
          "font": {
           "color": "black",
           "size": 16
          },
          "showarrow": false,
          "text": "-0.07",
          "x": "Pool_RENAULT-NISSAN-MITSUBISHI",
          "y": "FuelType_PETROL/ELECTRIC"
         },
         {
          "font": {
           "color": "black",
           "size": 16
          },
          "showarrow": false,
          "text": "-0.06",
          "x": "Pool_STELLANTIS",
          "y": "FuelType_PETROL/ELECTRIC"
         },
         {
          "font": {
           "color": "black",
           "size": 16
          },
          "showarrow": false,
          "text": "0.01",
          "x": "Pool_TESLA",
          "y": "FuelType_PETROL/ELECTRIC"
         },
         {
          "font": {
           "color": "black",
           "size": 16
          },
          "showarrow": false,
          "text": "0.01",
          "x": "Pool_VW-SAIC",
          "y": "FuelType_PETROL/ELECTRIC"
         },
         {
          "font": {
           "color": "black",
           "size": 16
          },
          "showarrow": false,
          "text": "-0.15",
          "x": "FuelType_DIESEL",
          "y": "FuelType_PETROL/ELECTRIC"
         },
         {
          "font": {
           "color": "black",
           "size": 16
          },
          "showarrow": false,
          "text": "-0.02",
          "x": "FuelType_DIESEL/ELECTRIC",
          "y": "FuelType_PETROL/ELECTRIC"
         },
         {
          "font": {
           "color": "black",
           "size": 16
          },
          "showarrow": false,
          "text": "-0.0",
          "x": "FuelType_E85",
          "y": "FuelType_PETROL/ELECTRIC"
         },
         {
          "font": {
           "color": "black",
           "size": 16
          },
          "showarrow": false,
          "text": "-0.09",
          "x": "FuelType_ELECTRIC",
          "y": "FuelType_PETROL/ELECTRIC"
         },
         {
          "font": {
           "color": "black",
           "size": 16
          },
          "showarrow": false,
          "text": "-0.04",
          "x": "FuelType_LPG",
          "y": "FuelType_PETROL/ELECTRIC"
         },
         {
          "font": {
           "color": "black",
           "size": 16
          },
          "showarrow": false,
          "text": "-0.02",
          "x": "FuelType_NG",
          "y": "FuelType_PETROL/ELECTRIC"
         },
         {
          "font": {
           "color": "black",
           "size": 16
          },
          "showarrow": false,
          "text": "-0.01",
          "x": "FuelType_NG-BIOMETHANE",
          "y": "FuelType_PETROL/ELECTRIC"
         },
         {
          "font": {
           "color": "black",
           "size": 16
          },
          "showarrow": false,
          "text": "-0.31",
          "x": "FuelType_PETROL",
          "y": "FuelType_PETROL/ELECTRIC"
         },
         {
          "font": {
           "color": "white",
           "size": 16
          },
          "showarrow": false,
          "text": "1.0",
          "x": "FuelType_PETROL/ELECTRIC",
          "y": "FuelType_PETROL/ELECTRIC"
         }
        ],
        "autosize": false,
        "height": 850,
        "template": {
         "data": {
          "bar": [
           {
            "error_x": {
             "color": "#2a3f5f"
            },
            "error_y": {
             "color": "#2a3f5f"
            },
            "marker": {
             "line": {
              "color": "#E5ECF6",
              "width": 0.5
             },
             "pattern": {
              "fillmode": "overlay",
              "size": 10,
              "solidity": 0.2
             }
            },
            "type": "bar"
           }
          ],
          "barpolar": [
           {
            "marker": {
             "line": {
              "color": "#E5ECF6",
              "width": 0.5
             },
             "pattern": {
              "fillmode": "overlay",
              "size": 10,
              "solidity": 0.2
             }
            },
            "type": "barpolar"
           }
          ],
          "carpet": [
           {
            "aaxis": {
             "endlinecolor": "#2a3f5f",
             "gridcolor": "white",
             "linecolor": "white",
             "minorgridcolor": "white",
             "startlinecolor": "#2a3f5f"
            },
            "baxis": {
             "endlinecolor": "#2a3f5f",
             "gridcolor": "white",
             "linecolor": "white",
             "minorgridcolor": "white",
             "startlinecolor": "#2a3f5f"
            },
            "type": "carpet"
           }
          ],
          "choropleth": [
           {
            "colorbar": {
             "outlinewidth": 0,
             "ticks": ""
            },
            "type": "choropleth"
           }
          ],
          "contour": [
           {
            "colorbar": {
             "outlinewidth": 0,
             "ticks": ""
            },
            "colorscale": [
             [
              0,
              "#0d0887"
             ],
             [
              0.1111111111111111,
              "#46039f"
             ],
             [
              0.2222222222222222,
              "#7201a8"
             ],
             [
              0.3333333333333333,
              "#9c179e"
             ],
             [
              0.4444444444444444,
              "#bd3786"
             ],
             [
              0.5555555555555556,
              "#d8576b"
             ],
             [
              0.6666666666666666,
              "#ed7953"
             ],
             [
              0.7777777777777778,
              "#fb9f3a"
             ],
             [
              0.8888888888888888,
              "#fdca26"
             ],
             [
              1,
              "#f0f921"
             ]
            ],
            "type": "contour"
           }
          ],
          "contourcarpet": [
           {
            "colorbar": {
             "outlinewidth": 0,
             "ticks": ""
            },
            "type": "contourcarpet"
           }
          ],
          "heatmap": [
           {
            "colorbar": {
             "outlinewidth": 0,
             "ticks": ""
            },
            "colorscale": [
             [
              0,
              "#0d0887"
             ],
             [
              0.1111111111111111,
              "#46039f"
             ],
             [
              0.2222222222222222,
              "#7201a8"
             ],
             [
              0.3333333333333333,
              "#9c179e"
             ],
             [
              0.4444444444444444,
              "#bd3786"
             ],
             [
              0.5555555555555556,
              "#d8576b"
             ],
             [
              0.6666666666666666,
              "#ed7953"
             ],
             [
              0.7777777777777778,
              "#fb9f3a"
             ],
             [
              0.8888888888888888,
              "#fdca26"
             ],
             [
              1,
              "#f0f921"
             ]
            ],
            "type": "heatmap"
           }
          ],
          "heatmapgl": [
           {
            "colorbar": {
             "outlinewidth": 0,
             "ticks": ""
            },
            "colorscale": [
             [
              0,
              "#0d0887"
             ],
             [
              0.1111111111111111,
              "#46039f"
             ],
             [
              0.2222222222222222,
              "#7201a8"
             ],
             [
              0.3333333333333333,
              "#9c179e"
             ],
             [
              0.4444444444444444,
              "#bd3786"
             ],
             [
              0.5555555555555556,
              "#d8576b"
             ],
             [
              0.6666666666666666,
              "#ed7953"
             ],
             [
              0.7777777777777778,
              "#fb9f3a"
             ],
             [
              0.8888888888888888,
              "#fdca26"
             ],
             [
              1,
              "#f0f921"
             ]
            ],
            "type": "heatmapgl"
           }
          ],
          "histogram": [
           {
            "marker": {
             "pattern": {
              "fillmode": "overlay",
              "size": 10,
              "solidity": 0.2
             }
            },
            "type": "histogram"
           }
          ],
          "histogram2d": [
           {
            "colorbar": {
             "outlinewidth": 0,
             "ticks": ""
            },
            "colorscale": [
             [
              0,
              "#0d0887"
             ],
             [
              0.1111111111111111,
              "#46039f"
             ],
             [
              0.2222222222222222,
              "#7201a8"
             ],
             [
              0.3333333333333333,
              "#9c179e"
             ],
             [
              0.4444444444444444,
              "#bd3786"
             ],
             [
              0.5555555555555556,
              "#d8576b"
             ],
             [
              0.6666666666666666,
              "#ed7953"
             ],
             [
              0.7777777777777778,
              "#fb9f3a"
             ],
             [
              0.8888888888888888,
              "#fdca26"
             ],
             [
              1,
              "#f0f921"
             ]
            ],
            "type": "histogram2d"
           }
          ],
          "histogram2dcontour": [
           {
            "colorbar": {
             "outlinewidth": 0,
             "ticks": ""
            },
            "colorscale": [
             [
              0,
              "#0d0887"
             ],
             [
              0.1111111111111111,
              "#46039f"
             ],
             [
              0.2222222222222222,
              "#7201a8"
             ],
             [
              0.3333333333333333,
              "#9c179e"
             ],
             [
              0.4444444444444444,
              "#bd3786"
             ],
             [
              0.5555555555555556,
              "#d8576b"
             ],
             [
              0.6666666666666666,
              "#ed7953"
             ],
             [
              0.7777777777777778,
              "#fb9f3a"
             ],
             [
              0.8888888888888888,
              "#fdca26"
             ],
             [
              1,
              "#f0f921"
             ]
            ],
            "type": "histogram2dcontour"
           }
          ],
          "mesh3d": [
           {
            "colorbar": {
             "outlinewidth": 0,
             "ticks": ""
            },
            "type": "mesh3d"
           }
          ],
          "parcoords": [
           {
            "line": {
             "colorbar": {
              "outlinewidth": 0,
              "ticks": ""
             }
            },
            "type": "parcoords"
           }
          ],
          "pie": [
           {
            "automargin": true,
            "type": "pie"
           }
          ],
          "scatter": [
           {
            "fillpattern": {
             "fillmode": "overlay",
             "size": 10,
             "solidity": 0.2
            },
            "type": "scatter"
           }
          ],
          "scatter3d": [
           {
            "line": {
             "colorbar": {
              "outlinewidth": 0,
              "ticks": ""
             }
            },
            "marker": {
             "colorbar": {
              "outlinewidth": 0,
              "ticks": ""
             }
            },
            "type": "scatter3d"
           }
          ],
          "scattercarpet": [
           {
            "marker": {
             "colorbar": {
              "outlinewidth": 0,
              "ticks": ""
             }
            },
            "type": "scattercarpet"
           }
          ],
          "scattergeo": [
           {
            "marker": {
             "colorbar": {
              "outlinewidth": 0,
              "ticks": ""
             }
            },
            "type": "scattergeo"
           }
          ],
          "scattergl": [
           {
            "marker": {
             "colorbar": {
              "outlinewidth": 0,
              "ticks": ""
             }
            },
            "type": "scattergl"
           }
          ],
          "scattermapbox": [
           {
            "marker": {
             "colorbar": {
              "outlinewidth": 0,
              "ticks": ""
             }
            },
            "type": "scattermapbox"
           }
          ],
          "scatterpolar": [
           {
            "marker": {
             "colorbar": {
              "outlinewidth": 0,
              "ticks": ""
             }
            },
            "type": "scatterpolar"
           }
          ],
          "scatterpolargl": [
           {
            "marker": {
             "colorbar": {
              "outlinewidth": 0,
              "ticks": ""
             }
            },
            "type": "scatterpolargl"
           }
          ],
          "scatterternary": [
           {
            "marker": {
             "colorbar": {
              "outlinewidth": 0,
              "ticks": ""
             }
            },
            "type": "scatterternary"
           }
          ],
          "surface": [
           {
            "colorbar": {
             "outlinewidth": 0,
             "ticks": ""
            },
            "colorscale": [
             [
              0,
              "#0d0887"
             ],
             [
              0.1111111111111111,
              "#46039f"
             ],
             [
              0.2222222222222222,
              "#7201a8"
             ],
             [
              0.3333333333333333,
              "#9c179e"
             ],
             [
              0.4444444444444444,
              "#bd3786"
             ],
             [
              0.5555555555555556,
              "#d8576b"
             ],
             [
              0.6666666666666666,
              "#ed7953"
             ],
             [
              0.7777777777777778,
              "#fb9f3a"
             ],
             [
              0.8888888888888888,
              "#fdca26"
             ],
             [
              1,
              "#f0f921"
             ]
            ],
            "type": "surface"
           }
          ],
          "table": [
           {
            "cells": {
             "fill": {
              "color": "#EBF0F8"
             },
             "line": {
              "color": "white"
             }
            },
            "header": {
             "fill": {
              "color": "#C8D4E3"
             },
             "line": {
              "color": "white"
             }
            },
            "type": "table"
           }
          ]
         },
         "layout": {
          "annotationdefaults": {
           "arrowcolor": "#2a3f5f",
           "arrowhead": 0,
           "arrowwidth": 1
          },
          "autotypenumbers": "strict",
          "coloraxis": {
           "colorbar": {
            "outlinewidth": 0,
            "ticks": ""
           }
          },
          "colorscale": {
           "diverging": [
            [
             0,
             "#8e0152"
            ],
            [
             0.1,
             "#c51b7d"
            ],
            [
             0.2,
             "#de77ae"
            ],
            [
             0.3,
             "#f1b6da"
            ],
            [
             0.4,
             "#fde0ef"
            ],
            [
             0.5,
             "#f7f7f7"
            ],
            [
             0.6,
             "#e6f5d0"
            ],
            [
             0.7,
             "#b8e186"
            ],
            [
             0.8,
             "#7fbc41"
            ],
            [
             0.9,
             "#4d9221"
            ],
            [
             1,
             "#276419"
            ]
           ],
           "sequential": [
            [
             0,
             "#0d0887"
            ],
            [
             0.1111111111111111,
             "#46039f"
            ],
            [
             0.2222222222222222,
             "#7201a8"
            ],
            [
             0.3333333333333333,
             "#9c179e"
            ],
            [
             0.4444444444444444,
             "#bd3786"
            ],
            [
             0.5555555555555556,
             "#d8576b"
            ],
            [
             0.6666666666666666,
             "#ed7953"
            ],
            [
             0.7777777777777778,
             "#fb9f3a"
            ],
            [
             0.8888888888888888,
             "#fdca26"
            ],
            [
             1,
             "#f0f921"
            ]
           ],
           "sequentialminus": [
            [
             0,
             "#0d0887"
            ],
            [
             0.1111111111111111,
             "#46039f"
            ],
            [
             0.2222222222222222,
             "#7201a8"
            ],
            [
             0.3333333333333333,
             "#9c179e"
            ],
            [
             0.4444444444444444,
             "#bd3786"
            ],
            [
             0.5555555555555556,
             "#d8576b"
            ],
            [
             0.6666666666666666,
             "#ed7953"
            ],
            [
             0.7777777777777778,
             "#fb9f3a"
            ],
            [
             0.8888888888888888,
             "#fdca26"
            ],
            [
             1,
             "#f0f921"
            ]
           ]
          },
          "colorway": [
           "#636efa",
           "#EF553B",
           "#00cc96",
           "#ab63fa",
           "#FFA15A",
           "#19d3f3",
           "#FF6692",
           "#B6E880",
           "#FF97FF",
           "#FECB52"
          ],
          "font": {
           "color": "#2a3f5f"
          },
          "geo": {
           "bgcolor": "white",
           "lakecolor": "white",
           "landcolor": "#E5ECF6",
           "showlakes": true,
           "showland": true,
           "subunitcolor": "white"
          },
          "hoverlabel": {
           "align": "left"
          },
          "hovermode": "closest",
          "mapbox": {
           "style": "light"
          },
          "paper_bgcolor": "white",
          "plot_bgcolor": "#E5ECF6",
          "polar": {
           "angularaxis": {
            "gridcolor": "white",
            "linecolor": "white",
            "ticks": ""
           },
           "bgcolor": "#E5ECF6",
           "radialaxis": {
            "gridcolor": "white",
            "linecolor": "white",
            "ticks": ""
           }
          },
          "scene": {
           "xaxis": {
            "backgroundcolor": "#E5ECF6",
            "gridcolor": "white",
            "gridwidth": 2,
            "linecolor": "white",
            "showbackground": true,
            "ticks": "",
            "zerolinecolor": "white"
           },
           "yaxis": {
            "backgroundcolor": "#E5ECF6",
            "gridcolor": "white",
            "gridwidth": 2,
            "linecolor": "white",
            "showbackground": true,
            "ticks": "",
            "zerolinecolor": "white"
           },
           "zaxis": {
            "backgroundcolor": "#E5ECF6",
            "gridcolor": "white",
            "gridwidth": 2,
            "linecolor": "white",
            "showbackground": true,
            "ticks": "",
            "zerolinecolor": "white"
           }
          },
          "shapedefaults": {
           "line": {
            "color": "#2a3f5f"
           }
          },
          "ternary": {
           "aaxis": {
            "gridcolor": "white",
            "linecolor": "white",
            "ticks": ""
           },
           "baxis": {
            "gridcolor": "white",
            "linecolor": "white",
            "ticks": ""
           },
           "bgcolor": "#E5ECF6",
           "caxis": {
            "gridcolor": "white",
            "linecolor": "white",
            "ticks": ""
           }
          },
          "title": {
           "x": 0.05
          },
          "xaxis": {
           "automargin": true,
           "gridcolor": "white",
           "linecolor": "white",
           "ticks": "",
           "title": {
            "standoff": 15
           },
           "zerolinecolor": "white",
           "zerolinewidth": 2
          },
          "yaxis": {
           "automargin": true,
           "gridcolor": "white",
           "linecolor": "white",
           "ticks": "",
           "title": {
            "standoff": 15
           },
           "zerolinecolor": "white",
           "zerolinewidth": 2
          }
         }
        },
        "title": {
         "font": {
          "size": 24
         },
         "text": "Corrélation des variables quantitatives",
         "x": 0.55
        },
        "width": 1000,
        "xaxis": {
         "autorange": "reversed",
         "tickfont": {
          "size": 14
         }
        },
        "yaxis": {
         "tickfont": {
          "size": 14
         }
        }
       }
      }
     },
     "metadata": {},
     "output_type": "display_data"
    }
   ],
   "source": [
    "co2.viz.plot_correlation_heatmap(df)"
   ]
  },
  {
   "cell_type": "code",
   "execution_count": 13,
   "metadata": {},
   "outputs": [
    {
     "ename": "KeyError",
     "evalue": "'Pool'",
     "output_type": "error",
     "traceback": [
      "\u001b[0;31m---------------------------------------------------------------------------\u001b[0m",
      "\u001b[0;31mKeyError\u001b[0m                                  Traceback (most recent call last)",
      "File \u001b[0;32m~/miniconda3/envs/co2/lib/python3.9/site-packages/pandas/core/indexes/base.py:3791\u001b[0m, in \u001b[0;36mIndex.get_loc\u001b[0;34m(self, key)\u001b[0m\n\u001b[1;32m   3790\u001b[0m \u001b[38;5;28;01mtry\u001b[39;00m:\n\u001b[0;32m-> 3791\u001b[0m     \u001b[38;5;28;01mreturn\u001b[39;00m \u001b[38;5;28;43mself\u001b[39;49m\u001b[38;5;241;43m.\u001b[39;49m\u001b[43m_engine\u001b[49m\u001b[38;5;241;43m.\u001b[39;49m\u001b[43mget_loc\u001b[49m\u001b[43m(\u001b[49m\u001b[43mcasted_key\u001b[49m\u001b[43m)\u001b[49m\n\u001b[1;32m   3792\u001b[0m \u001b[38;5;28;01mexcept\u001b[39;00m \u001b[38;5;167;01mKeyError\u001b[39;00m \u001b[38;5;28;01mas\u001b[39;00m err:\n",
      "File \u001b[0;32mindex.pyx:152\u001b[0m, in \u001b[0;36mpandas._libs.index.IndexEngine.get_loc\u001b[0;34m()\u001b[0m\n",
      "File \u001b[0;32mindex.pyx:181\u001b[0m, in \u001b[0;36mpandas._libs.index.IndexEngine.get_loc\u001b[0;34m()\u001b[0m\n",
      "File \u001b[0;32mpandas/_libs/hashtable_class_helper.pxi:7080\u001b[0m, in \u001b[0;36mpandas._libs.hashtable.PyObjectHashTable.get_item\u001b[0;34m()\u001b[0m\n",
      "File \u001b[0;32mpandas/_libs/hashtable_class_helper.pxi:7088\u001b[0m, in \u001b[0;36mpandas._libs.hashtable.PyObjectHashTable.get_item\u001b[0;34m()\u001b[0m\n",
      "\u001b[0;31mKeyError\u001b[0m: 'Pool'",
      "\nThe above exception was the direct cause of the following exception:\n",
      "\u001b[0;31mKeyError\u001b[0m                                  Traceback (most recent call last)",
      "Cell \u001b[0;32mIn[13], line 7\u001b[0m\n\u001b[1;32m      4\u001b[0m     df\u001b[38;5;241m.\u001b[39mdrop(columns\u001b[38;5;241m=\u001b[39mdf[column], inplace\u001b[38;5;241m=\u001b[39m\u001b[38;5;28;01mTrue\u001b[39;00m)\n\u001b[1;32m      5\u001b[0m     \u001b[38;5;28;01mreturn\u001b[39;00m df\n\u001b[0;32m----> 7\u001b[0m dft \u001b[38;5;241m=\u001b[39m pd\u001b[38;5;241m.\u001b[39mget_dummies(data \u001b[38;5;241m=\u001b[39m \u001b[43mdf\u001b[49m\u001b[43m[\u001b[49m\u001b[38;5;124;43m'\u001b[39;49m\u001b[38;5;124;43mPool\u001b[39;49m\u001b[38;5;124;43m'\u001b[39;49m\u001b[43m]\u001b[49m, dtype\u001b[38;5;241m=\u001b[39m\u001b[38;5;28mint\u001b[39m, prefix\u001b[38;5;241m=\u001b[39m\u001b[38;5;124m'\u001b[39m\u001b[38;5;124mPool\u001b[39m\u001b[38;5;124m'\u001b[39m)\n\u001b[1;32m      8\u001b[0m df \u001b[38;5;241m=\u001b[39m df\u001b[38;5;241m.\u001b[39mjoin(dft)\n\u001b[1;32m      9\u001b[0m df\u001b[38;5;241m.\u001b[39mdrop(\u001b[38;5;124m'\u001b[39m\u001b[38;5;124mPool\u001b[39m\u001b[38;5;124m'\u001b[39m, axis \u001b[38;5;241m=\u001b[39m \u001b[38;5;241m1\u001b[39m, inplace\u001b[38;5;241m=\u001b[39m\u001b[38;5;28;01mTrue\u001b[39;00m)\n",
      "File \u001b[0;32m~/miniconda3/envs/co2/lib/python3.9/site-packages/pandas/core/frame.py:3893\u001b[0m, in \u001b[0;36mDataFrame.__getitem__\u001b[0;34m(self, key)\u001b[0m\n\u001b[1;32m   3891\u001b[0m \u001b[38;5;28;01mif\u001b[39;00m \u001b[38;5;28mself\u001b[39m\u001b[38;5;241m.\u001b[39mcolumns\u001b[38;5;241m.\u001b[39mnlevels \u001b[38;5;241m>\u001b[39m \u001b[38;5;241m1\u001b[39m:\n\u001b[1;32m   3892\u001b[0m     \u001b[38;5;28;01mreturn\u001b[39;00m \u001b[38;5;28mself\u001b[39m\u001b[38;5;241m.\u001b[39m_getitem_multilevel(key)\n\u001b[0;32m-> 3893\u001b[0m indexer \u001b[38;5;241m=\u001b[39m \u001b[38;5;28;43mself\u001b[39;49m\u001b[38;5;241;43m.\u001b[39;49m\u001b[43mcolumns\u001b[49m\u001b[38;5;241;43m.\u001b[39;49m\u001b[43mget_loc\u001b[49m\u001b[43m(\u001b[49m\u001b[43mkey\u001b[49m\u001b[43m)\u001b[49m\n\u001b[1;32m   3894\u001b[0m \u001b[38;5;28;01mif\u001b[39;00m is_integer(indexer):\n\u001b[1;32m   3895\u001b[0m     indexer \u001b[38;5;241m=\u001b[39m [indexer]\n",
      "File \u001b[0;32m~/miniconda3/envs/co2/lib/python3.9/site-packages/pandas/core/indexes/base.py:3798\u001b[0m, in \u001b[0;36mIndex.get_loc\u001b[0;34m(self, key)\u001b[0m\n\u001b[1;32m   3793\u001b[0m     \u001b[38;5;28;01mif\u001b[39;00m \u001b[38;5;28misinstance\u001b[39m(casted_key, \u001b[38;5;28mslice\u001b[39m) \u001b[38;5;129;01mor\u001b[39;00m (\n\u001b[1;32m   3794\u001b[0m         \u001b[38;5;28misinstance\u001b[39m(casted_key, abc\u001b[38;5;241m.\u001b[39mIterable)\n\u001b[1;32m   3795\u001b[0m         \u001b[38;5;129;01mand\u001b[39;00m \u001b[38;5;28many\u001b[39m(\u001b[38;5;28misinstance\u001b[39m(x, \u001b[38;5;28mslice\u001b[39m) \u001b[38;5;28;01mfor\u001b[39;00m x \u001b[38;5;129;01min\u001b[39;00m casted_key)\n\u001b[1;32m   3796\u001b[0m     ):\n\u001b[1;32m   3797\u001b[0m         \u001b[38;5;28;01mraise\u001b[39;00m InvalidIndexError(key)\n\u001b[0;32m-> 3798\u001b[0m     \u001b[38;5;28;01mraise\u001b[39;00m \u001b[38;5;167;01mKeyError\u001b[39;00m(key) \u001b[38;5;28;01mfrom\u001b[39;00m \u001b[38;5;21;01merr\u001b[39;00m\n\u001b[1;32m   3799\u001b[0m \u001b[38;5;28;01mexcept\u001b[39;00m \u001b[38;5;167;01mTypeError\u001b[39;00m:\n\u001b[1;32m   3800\u001b[0m     \u001b[38;5;66;03m# If we have a listlike key, _check_indexing_error will raise\u001b[39;00m\n\u001b[1;32m   3801\u001b[0m     \u001b[38;5;66;03m#  InvalidIndexError. Otherwise we fall through and re-raise\u001b[39;00m\n\u001b[1;32m   3802\u001b[0m     \u001b[38;5;66;03m#  the TypeError.\u001b[39;00m\n\u001b[1;32m   3803\u001b[0m     \u001b[38;5;28mself\u001b[39m\u001b[38;5;241m.\u001b[39m_check_indexing_error(key)\n",
      "\u001b[0;31mKeyError\u001b[0m: 'Pool'"
     ]
    }
   ],
   "source": [
    "def dummification(df, column):\n",
    "    dummies = pd.get_dummies(data=df[column], dtype=int, prefix=f\"{column}\")\n",
    "    df = df.join(dummies)\n",
    "    df.drop(columns=df[column], inplace=True)\n",
    "    return df\n",
    "\n",
    "dft = pd.get_dummies(data = df['Pool'], dtype=int, prefix='Pool')\n",
    "df = df.join(dft)\n",
    "df.drop('Pool', axis = 1, inplace=True)\n",
    "\n",
    "# Colonne  'FuelType'\n",
    "dft = pd.get_dummies(data = df['FuelType'], dtype=int, prefix='Fuel')\n",
    "df = df.join(dft)\n",
    "df.drop('FuelType', axis = 1, inplace=True)\n",
    "\n",
    "df = df.join(pd.get_dummies(data=df['CategoryOf'], dtype=int, prefix='Category'))\n",
    "df.drop('CategoryOf', axis=1, inplace=True)\n",
    "# Traitement de la colonne 'CategoryOf'  -->  m1 ou m1g\n",
    "display(df.head())\n"
   ]
  }
 ],
 "metadata": {
  "kernelspec": {
   "display_name": "co2",
   "language": "python",
   "name": "python3"
  },
  "language_info": {
   "codemirror_mode": {
    "name": "ipython",
    "version": 3
   },
   "file_extension": ".py",
   "mimetype": "text/x-python",
   "name": "python",
   "nbconvert_exporter": "python",
   "pygments_lexer": "ipython3",
   "version": "3.9.18"
  }
 },
 "nbformat": 4,
 "nbformat_minor": 2
}

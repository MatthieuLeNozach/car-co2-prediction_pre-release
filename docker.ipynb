{
 "cells": [
  {
   "cell_type": "code",
   "execution_count": 3,
   "metadata": {},
   "outputs": [
    {
     "data": {
      "text/plain": [
       "<Popen: returncode: None args: ['python', 'app/data_fetching.py', '/home/mln...>"
      ]
     },
     "execution_count": 3,
     "metadata": {},
     "output_type": "execute_result"
    },
    {
     "name": "stdout",
     "output_type": "stream",
     "text": [
      "Warning: Your Kaggle API key is readable by other users on this system! To fix this, you can run 'chmod 600 /home/mln/.kaggle/kaggle.json'\n"
     ]
    },
    {
     "name": "stderr",
     "output_type": "stream",
     "text": [
      "2024-01-16 17:58:43.598097: I tensorflow/core/util/port.cc:113] oneDNN custom operations are on. You may see slightly different numerical results due to floating-point round-off errors from different computation orders. To turn them off, set the environment variable `TF_ENABLE_ONEDNN_OPTS=0`.\n",
      "2024-01-16 17:58:43.613991: I tensorflow/core/platform/cpu_feature_guard.cc:182] This TensorFlow binary is optimized to use available CPU instructions in performance-critical operations.\n",
      "To enable the following instructions: SSE4.1 SSE4.2 AVX AVX2 AVX512F AVX512_VNNI AVX512_BF16 FMA, in other operations, rebuild TensorFlow with the appropriate compiler flags.\n"
     ]
    },
    {
     "name": "stdout",
     "output_type": "stream",
     "text": [
      "File ../data/raw/automobile-co2-emissions-eu-2021.zip already exists.\n"
     ]
    }
   ],
   "source": [
    "import subprocess\n",
    "\n",
    "kaggle_path = \"/home/mln/.kaggle/kaggle.json\"\n",
    "subprocess.Popen(['python', 'app/data_fetching.py', kaggle_path])"
   ]
  },
  {
   "cell_type": "code",
   "execution_count": 14,
   "metadata": {},
   "outputs": [
    {
     "ename": "AttributeError",
     "evalue": "'CompletedProcess' object has no attribute 'communicate'",
     "output_type": "error",
     "traceback": [
      "\u001b[0;31m---------------------------------------------------------------------------\u001b[0m",
      "\u001b[0;31mAttributeError\u001b[0m                            Traceback (most recent call last)",
      "Cell \u001b[0;32mIn[14], line 5\u001b[0m\n\u001b[1;32m      2\u001b[0m process \u001b[38;5;241m=\u001b[39m subprocess\u001b[38;5;241m.\u001b[39mrun([\u001b[38;5;124m'\u001b[39m\u001b[38;5;124mpython\u001b[39m\u001b[38;5;124m'\u001b[39m, \u001b[38;5;124m'\u001b[39m\u001b[38;5;124m-u\u001b[39m\u001b[38;5;124m'\u001b[39m, \u001b[38;5;124m'\u001b[39m\u001b[38;5;124mapp_cli.py\u001b[39m\u001b[38;5;124m'\u001b[39m], stdin\u001b[38;5;241m=\u001b[39msubprocess\u001b[38;5;241m.\u001b[39mPIPE, stdout\u001b[38;5;241m=\u001b[39msubprocess\u001b[38;5;241m.\u001b[39mPIPE, text\u001b[38;5;241m=\u001b[39m\u001b[38;5;28;01mTrue\u001b[39;00m)\n\u001b[1;32m      4\u001b[0m \u001b[38;5;66;03m# Simulate user input by writing to the processes stdin\u001b[39;00m\n\u001b[0;32m----> 5\u001b[0m stdout, stderr \u001b[38;5;241m=\u001b[39m \u001b[43mprocess\u001b[49m\u001b[38;5;241;43m.\u001b[39;49m\u001b[43mcommunicate\u001b[49m(\u001b[38;5;124m'\u001b[39m\u001b[38;5;124mfetch_data\u001b[39m\u001b[38;5;130;01m\\n\u001b[39;00m\u001b[38;5;124m/home/mln/.kaggle/kaggle.json\u001b[39m\u001b[38;5;130;01m\\n\u001b[39;00m\u001b[38;5;124m'\u001b[39m)\n\u001b[1;32m      6\u001b[0m \u001b[38;5;28mprint\u001b[39m(stdout)\n\u001b[1;32m      7\u001b[0m \u001b[38;5;28mprint\u001b[39m(stderr)\n",
      "\u001b[0;31mAttributeError\u001b[0m: 'CompletedProcess' object has no attribute 'communicate'"
     ]
    }
   ],
   "source": [
    "# Create a Popen object\n",
    "process = subprocess.run(['python', '-u', 'app_cli.py'], stdin=subprocess.PIPE, stdout=subprocess.PIPE, text=True)\n",
    "\n",
    "# Simulate user input by writing to the processes stdin\n",
    "stdout, stderr = process.communicate('fetch_data\\n/home/mln/.kaggle/kaggle.json\\n')\n",
    "print(stdout)\n",
    "print(stderr)\n",
    "print(process.returncode)"
   ]
  },
  {
   "cell_type": "code",
   "execution_count": 17,
   "metadata": {},
   "outputs": [
    {
     "name": "stdout",
     "output_type": "stream",
     "text": [
      "\n",
      "\n",
      "0\n"
     ]
    }
   ],
   "source": [
    "import subprocess\n",
    "\n",
    "# Create a CompletedProcess object\n",
    "process = subprocess.run(['python', '-u', 'app_cli.py'], input='fetch_data\\n/home/mln/.kaggle/kaggle.json\\n', text=True, stdout=subprocess.PIPE, stderr=subprocess.PIPE)\n",
    "\n",
    "# stdout and stderr are attributes of the CompletedProcess object\n",
    "print(process.stdout)\n",
    "print(process.stderr)\n",
    "print(process.returncode)"
   ]
  },
  {
   "cell_type": "code",
   "execution_count": 16,
   "metadata": {},
   "outputs": [
    {
     "name": "stdout",
     "output_type": "stream",
     "text": [
      "app\n",
      "app_cli.py\n",
      "build\n",
      "data\n",
      "Dockerfile\n",
      "docker.ipynb\n",
      "environment0.yml\n",
      "environment.yml\n",
      "models\n",
      "notebooks\n",
      "output\n",
      "README.md\n",
      "references\n",
      "requirements.txt\n",
      "setup.py\n",
      "src\n",
      "temp\n"
     ]
    }
   ],
   "source": [
    "import subprocess\n",
    "return_code = subprocess.call(['ls'])\n",
    "output = subprocess.check_output(['ls'], text=True)"
   ]
  },
  {
   "cell_type": "markdown",
   "metadata": {},
   "source": [
    "/home/mln/.kaggle/kaggle.json"
   ]
  }
 ],
 "metadata": {
  "kernelspec": {
   "display_name": "co2",
   "language": "python",
   "name": "python3"
  },
  "language_info": {
   "codemirror_mode": {
    "name": "ipython",
    "version": 3
   },
   "file_extension": ".py",
   "mimetype": "text/x-python",
   "name": "python",
   "nbconvert_exporter": "python",
   "pygments_lexer": "ipython3",
   "version": "3.9.18"
  }
 },
 "nbformat": 4,
 "nbformat_minor": 2
}

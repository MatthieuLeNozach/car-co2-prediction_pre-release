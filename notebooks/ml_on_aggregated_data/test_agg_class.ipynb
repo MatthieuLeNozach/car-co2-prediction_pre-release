{
 "cells": [
  {
   "cell_type": "code",
   "execution_count": 1,
   "metadata": {},
   "outputs": [
    {
     "name": "stdout",
     "output_type": "stream",
     "text": [
      "Warning: Your Kaggle API key is readable by other users on this system! To fix this, you can run 'chmod 600 /home/mln/.kaggle/kaggle.json'\n"
     ]
    },
    {
     "name": "stderr",
     "output_type": "stream",
     "text": [
      "2024-01-15 18:56:51.446901: I tensorflow/core/util/port.cc:113] oneDNN custom operations are on. You may see slightly different numerical results due to floating-point round-off errors from different computation orders. To turn them off, set the environment variable `TF_ENABLE_ONEDNN_OPTS=0`.\n",
      "2024-01-15 18:56:51.464139: I tensorflow/core/platform/cpu_feature_guard.cc:182] This TensorFlow binary is optimized to use available CPU instructions in performance-critical operations.\n",
      "To enable the following instructions: SSE4.1 SSE4.2 AVX AVX2 AVX512F AVX512_VNNI AVX512_BF16 FMA, in other operations, rebuild TensorFlow with the appropriate compiler flags.\n"
     ]
    },
    {
     "data": {
      "text/plain": [
       "<module 'auto_co2' from '/home/mln/GIT/car-co2-prediction_pre-release/notebooks/../src/auto_co2/__init__.py'>"
      ]
     },
     "execution_count": 1,
     "metadata": {},
     "output_type": "execute_result"
    }
   ],
   "source": [
    "import sys\n",
    "sys.path.insert(0, '../../src/')\n",
    "\n",
    "import pandas as pd\n",
    "import kaggle\n",
    "import auto_co2 as co2\n",
    "import importlib\n",
    "importlib.reload(co2)"
   ]
  },
  {
   "cell_type": "code",
   "execution_count": 2,
   "metadata": {},
   "outputs": [
    {
     "name": "stdout",
     "output_type": "stream",
     "text": [
      "Incomplete rows dropped:473981\n"
     ]
    },
    {
     "data": {
      "text/html": [
       "<style type=\"text/css\">\n",
       "#T_9f3b1 th {\n",
       "  background-color: steelblue;\n",
       "  color: white;\n",
       "}\n",
       "#T_9f3b1 tr:nth-of-type(odd) {\n",
       "  background-color: aliceblue;\n",
       "}\n",
       "#T_9f3b1 tr:nth-of-type(even) {\n",
       "  background-color: white;\n",
       "}\n",
       "</style>\n",
       "<table id=\"T_9f3b1\">\n",
       "  <caption><h2>APERCU DU JEU DE DONNEES</h2></caption>\n",
       "  <thead>\n",
       "    <tr>\n",
       "      <th class=\"blank level0\" >&nbsp;</th>\n",
       "      <th id=\"T_9f3b1_level0_col0\" class=\"col_heading level0 col0\" >Pool</th>\n",
       "      <th id=\"T_9f3b1_level0_col1\" class=\"col_heading level0 col1\" >Make</th>\n",
       "      <th id=\"T_9f3b1_level0_col2\" class=\"col_heading level0 col2\" >CommercialName</th>\n",
       "      <th id=\"T_9f3b1_level0_col3\" class=\"col_heading level0 col3\" >CategoryOf</th>\n",
       "      <th id=\"T_9f3b1_level0_col4\" class=\"col_heading level0 col4\" >MassRunningOrder</th>\n",
       "      <th id=\"T_9f3b1_level0_col5\" class=\"col_heading level0 col5\" >Co2EmissionsWltp</th>\n",
       "      <th id=\"T_9f3b1_level0_col6\" class=\"col_heading level0 col6\" >BaseWheel</th>\n",
       "      <th id=\"T_9f3b1_level0_col7\" class=\"col_heading level0 col7\" >FuelType</th>\n",
       "      <th id=\"T_9f3b1_level0_col8\" class=\"col_heading level0 col8\" >EnginePower</th>\n",
       "      <th id=\"T_9f3b1_level0_col9\" class=\"col_heading level0 col9\" >ElectricConsumption</th>\n",
       "      <th id=\"T_9f3b1_level0_col10\" class=\"col_heading level0 col10\" >InnovativeTechnology</th>\n",
       "      <th id=\"T_9f3b1_level0_col11\" class=\"col_heading level0 col11\" >InnovativeEmissionsReductionWltp</th>\n",
       "      <th id=\"T_9f3b1_level0_col12\" class=\"col_heading level0 col12\" >ElectricRange</th>\n",
       "      <th id=\"T_9f3b1_level0_col13\" class=\"col_heading level0 col13\" >Co2Grade</th>\n",
       "    </tr>\n",
       "  </thead>\n",
       "  <tbody>\n",
       "    <tr>\n",
       "      <th id=\"T_9f3b1_level0_row0\" class=\"row_heading level0 row0\" >0</th>\n",
       "      <td id=\"T_9f3b1_row0_col0\" class=\"data row0 col0\" >VW-SAIC</td>\n",
       "      <td id=\"T_9f3b1_row0_col1\" class=\"data row0 col1\" >SEAT</td>\n",
       "      <td id=\"T_9f3b1_row0_col2\" class=\"data row0 col2\" >LEON</td>\n",
       "      <td id=\"T_9f3b1_row0_col3\" class=\"data row0 col3\" >M1</td>\n",
       "      <td id=\"T_9f3b1_row0_col4\" class=\"data row0 col4\" >1448.000</td>\n",
       "      <td id=\"T_9f3b1_row0_col5\" class=\"data row0 col5\" >118.000</td>\n",
       "      <td id=\"T_9f3b1_row0_col6\" class=\"data row0 col6\" >2669.000</td>\n",
       "      <td id=\"T_9f3b1_row0_col7\" class=\"data row0 col7\" >DIESEL</td>\n",
       "      <td id=\"T_9f3b1_row0_col8\" class=\"data row0 col8\" >110.000</td>\n",
       "      <td id=\"T_9f3b1_row0_col9\" class=\"data row0 col9\" >0.000</td>\n",
       "      <td id=\"T_9f3b1_row0_col10\" class=\"data row0 col10\" >1</td>\n",
       "      <td id=\"T_9f3b1_row0_col11\" class=\"data row0 col11\" >1.700</td>\n",
       "      <td id=\"T_9f3b1_row0_col12\" class=\"data row0 col12\" >0.000</td>\n",
       "      <td id=\"T_9f3b1_row0_col13\" class=\"data row0 col13\" >B</td>\n",
       "    </tr>\n",
       "    <tr>\n",
       "      <th id=\"T_9f3b1_level0_row1\" class=\"row_heading level0 row1\" >1</th>\n",
       "      <td id=\"T_9f3b1_row1_col0\" class=\"data row1 col0\" >VW-SAIC</td>\n",
       "      <td id=\"T_9f3b1_row1_col1\" class=\"data row1 col1\" >VOLKSWAGEN</td>\n",
       "      <td id=\"T_9f3b1_row1_col2\" class=\"data row1 col2\" >T-ROC</td>\n",
       "      <td id=\"T_9f3b1_row1_col3\" class=\"data row1 col3\" >M1</td>\n",
       "      <td id=\"T_9f3b1_row1_col4\" class=\"data row1 col4\" >1294.000</td>\n",
       "      <td id=\"T_9f3b1_row1_col5\" class=\"data row1 col5\" >137.000</td>\n",
       "      <td id=\"T_9f3b1_row1_col6\" class=\"data row1 col6\" >2590.000</td>\n",
       "      <td id=\"T_9f3b1_row1_col7\" class=\"data row1 col7\" >PETROL</td>\n",
       "      <td id=\"T_9f3b1_row1_col8\" class=\"data row1 col8\" >81.000</td>\n",
       "      <td id=\"T_9f3b1_row1_col9\" class=\"data row1 col9\" >0.000</td>\n",
       "      <td id=\"T_9f3b1_row1_col10\" class=\"data row1 col10\" >1</td>\n",
       "      <td id=\"T_9f3b1_row1_col11\" class=\"data row1 col11\" >0.000</td>\n",
       "      <td id=\"T_9f3b1_row1_col12\" class=\"data row1 col12\" >0.000</td>\n",
       "      <td id=\"T_9f3b1_row1_col13\" class=\"data row1 col13\" >C</td>\n",
       "    </tr>\n",
       "    <tr>\n",
       "      <th id=\"T_9f3b1_level0_row2\" class=\"row_heading level0 row2\" >2</th>\n",
       "      <td id=\"T_9f3b1_row2_col0\" class=\"data row2 col0\" >FORD</td>\n",
       "      <td id=\"T_9f3b1_row2_col1\" class=\"data row2 col1\" >FORD</td>\n",
       "      <td id=\"T_9f3b1_row2_col2\" class=\"data row2 col2\" >KUGA</td>\n",
       "      <td id=\"T_9f3b1_row2_col3\" class=\"data row2 col3\" >M1</td>\n",
       "      <td id=\"T_9f3b1_row2_col4\" class=\"data row2 col4\" >1687.000</td>\n",
       "      <td id=\"T_9f3b1_row2_col5\" class=\"data row2 col5\" >135.000</td>\n",
       "      <td id=\"T_9f3b1_row2_col6\" class=\"data row2 col6\" >2710.000</td>\n",
       "      <td id=\"T_9f3b1_row2_col7\" class=\"data row2 col7\" >DIESEL</td>\n",
       "      <td id=\"T_9f3b1_row2_col8\" class=\"data row2 col8\" >110.000</td>\n",
       "      <td id=\"T_9f3b1_row2_col9\" class=\"data row2 col9\" >0.000</td>\n",
       "      <td id=\"T_9f3b1_row2_col10\" class=\"data row2 col10\" >0</td>\n",
       "      <td id=\"T_9f3b1_row2_col11\" class=\"data row2 col11\" >0.000</td>\n",
       "      <td id=\"T_9f3b1_row2_col12\" class=\"data row2 col12\" >0.000</td>\n",
       "      <td id=\"T_9f3b1_row2_col13\" class=\"data row2 col13\" >C</td>\n",
       "    </tr>\n",
       "    <tr>\n",
       "      <th id=\"T_9f3b1_level0_row3\" class=\"row_heading level0 row3\" >3</th>\n",
       "      <td id=\"T_9f3b1_row3_col0\" class=\"data row3 col0\" >VW-SAIC</td>\n",
       "      <td id=\"T_9f3b1_row3_col1\" class=\"data row3 col1\" >VOLKSWAGEN</td>\n",
       "      <td id=\"T_9f3b1_row3_col2\" class=\"data row3 col2\" >T-ROC</td>\n",
       "      <td id=\"T_9f3b1_row3_col3\" class=\"data row3 col3\" >M1</td>\n",
       "      <td id=\"T_9f3b1_row3_col4\" class=\"data row3 col4\" >1294.000</td>\n",
       "      <td id=\"T_9f3b1_row3_col5\" class=\"data row3 col5\" >137.000</td>\n",
       "      <td id=\"T_9f3b1_row3_col6\" class=\"data row3 col6\" >2590.000</td>\n",
       "      <td id=\"T_9f3b1_row3_col7\" class=\"data row3 col7\" >PETROL</td>\n",
       "      <td id=\"T_9f3b1_row3_col8\" class=\"data row3 col8\" >81.000</td>\n",
       "      <td id=\"T_9f3b1_row3_col9\" class=\"data row3 col9\" >0.000</td>\n",
       "      <td id=\"T_9f3b1_row3_col10\" class=\"data row3 col10\" >1</td>\n",
       "      <td id=\"T_9f3b1_row3_col11\" class=\"data row3 col11\" >0.000</td>\n",
       "      <td id=\"T_9f3b1_row3_col12\" class=\"data row3 col12\" >0.000</td>\n",
       "      <td id=\"T_9f3b1_row3_col13\" class=\"data row3 col13\" >C</td>\n",
       "    </tr>\n",
       "    <tr>\n",
       "      <th id=\"T_9f3b1_level0_row4\" class=\"row_heading level0 row4\" >4</th>\n",
       "      <td id=\"T_9f3b1_row4_col0\" class=\"data row4 col0\" >STELLANTIS</td>\n",
       "      <td id=\"T_9f3b1_row4_col1\" class=\"data row4 col1\" >OPEL</td>\n",
       "      <td id=\"T_9f3b1_row4_col2\" class=\"data row4 col2\" >GRANDLAND</td>\n",
       "      <td id=\"T_9f3b1_row4_col3\" class=\"data row4 col3\" >M1</td>\n",
       "      <td id=\"T_9f3b1_row4_col4\" class=\"data row4 col4\" >1395.000</td>\n",
       "      <td id=\"T_9f3b1_row4_col5\" class=\"data row4 col5\" >140.000</td>\n",
       "      <td id=\"T_9f3b1_row4_col6\" class=\"data row4 col6\" >2675.000</td>\n",
       "      <td id=\"T_9f3b1_row4_col7\" class=\"data row4 col7\" >PETROL</td>\n",
       "      <td id=\"T_9f3b1_row4_col8\" class=\"data row4 col8\" >96.000</td>\n",
       "      <td id=\"T_9f3b1_row4_col9\" class=\"data row4 col9\" >0.000</td>\n",
       "      <td id=\"T_9f3b1_row4_col10\" class=\"data row4 col10\" >0</td>\n",
       "      <td id=\"T_9f3b1_row4_col11\" class=\"data row4 col11\" >2.100</td>\n",
       "      <td id=\"T_9f3b1_row4_col12\" class=\"data row4 col12\" >0.000</td>\n",
       "      <td id=\"T_9f3b1_row4_col13\" class=\"data row4 col13\" >C</td>\n",
       "    </tr>\n",
       "  </tbody>\n",
       "</table>\n"
      ],
      "text/plain": [
       "<pandas.io.formats.style.Styler at 0x7f8369cd90d0>"
      ]
     },
     "metadata": {},
     "output_type": "display_data"
    },
    {
     "name": "stdout",
     "output_type": "stream",
     "text": [
      "<class 'pandas.io.formats.style.Styler'>\n"
     ]
    },
    {
     "data": {
      "text/html": [
       "<style type=\"text/css\">\n",
       "#T_4a2ce th {\n",
       "  background-color: steelblue;\n",
       "  color: white;\n",
       "}\n",
       "#T_4a2ce tr:nth-of-type(odd) {\n",
       "  background-color: aliceblue;\n",
       "}\n",
       "#T_4a2ce tr:nth-of-type(even) {\n",
       "  background-color: white;\n",
       "}\n",
       "</style>\n",
       "<table id=\"T_4a2ce\">\n",
       "  <caption><h2>DONNEES</h2></caption>\n",
       "  <thead>\n",
       "    <tr>\n",
       "      <th class=\"blank level0\" >&nbsp;</th>\n",
       "      <th id=\"T_4a2ce_level0_col0\" class=\"col_heading level0 col0\" >Column</th>\n",
       "      <th id=\"T_4a2ce_level0_col1\" class=\"col_heading level0 col1\" >Non-Null Count</th>\n",
       "    </tr>\n",
       "  </thead>\n",
       "  <tbody>\n",
       "    <tr>\n",
       "      <th id=\"T_4a2ce_level0_row0\" class=\"row_heading level0 row0\" >0</th>\n",
       "      <td id=\"T_4a2ce_row0_col0\" class=\"data row0 col0\" >Pool</td>\n",
       "      <td id=\"T_4a2ce_row0_col1\" class=\"data row0 col1\" >object</td>\n",
       "    </tr>\n",
       "    <tr>\n",
       "      <th id=\"T_4a2ce_level0_row1\" class=\"row_heading level0 row1\" >1</th>\n",
       "      <td id=\"T_4a2ce_row1_col0\" class=\"data row1 col0\" >Make</td>\n",
       "      <td id=\"T_4a2ce_row1_col1\" class=\"data row1 col1\" >object</td>\n",
       "    </tr>\n",
       "    <tr>\n",
       "      <th id=\"T_4a2ce_level0_row2\" class=\"row_heading level0 row2\" >2</th>\n",
       "      <td id=\"T_4a2ce_row2_col0\" class=\"data row2 col0\" >CommercialName</td>\n",
       "      <td id=\"T_4a2ce_row2_col1\" class=\"data row2 col1\" >object</td>\n",
       "    </tr>\n",
       "    <tr>\n",
       "      <th id=\"T_4a2ce_level0_row3\" class=\"row_heading level0 row3\" >3</th>\n",
       "      <td id=\"T_4a2ce_row3_col0\" class=\"data row3 col0\" >CategoryOf</td>\n",
       "      <td id=\"T_4a2ce_row3_col1\" class=\"data row3 col1\" >object</td>\n",
       "    </tr>\n",
       "    <tr>\n",
       "      <th id=\"T_4a2ce_level0_row4\" class=\"row_heading level0 row4\" >4</th>\n",
       "      <td id=\"T_4a2ce_row4_col0\" class=\"data row4 col0\" >MassRunningOrder</td>\n",
       "      <td id=\"T_4a2ce_row4_col1\" class=\"data row4 col1\" >float64</td>\n",
       "    </tr>\n",
       "    <tr>\n",
       "      <th id=\"T_4a2ce_level0_row5\" class=\"row_heading level0 row5\" >5</th>\n",
       "      <td id=\"T_4a2ce_row5_col0\" class=\"data row5 col0\" >Co2EmissionsWltp</td>\n",
       "      <td id=\"T_4a2ce_row5_col1\" class=\"data row5 col1\" >float64</td>\n",
       "    </tr>\n",
       "    <tr>\n",
       "      <th id=\"T_4a2ce_level0_row6\" class=\"row_heading level0 row6\" >6</th>\n",
       "      <td id=\"T_4a2ce_row6_col0\" class=\"data row6 col0\" >BaseWheel</td>\n",
       "      <td id=\"T_4a2ce_row6_col1\" class=\"data row6 col1\" >float64</td>\n",
       "    </tr>\n",
       "    <tr>\n",
       "      <th id=\"T_4a2ce_level0_row7\" class=\"row_heading level0 row7\" >7</th>\n",
       "      <td id=\"T_4a2ce_row7_col0\" class=\"data row7 col0\" >FuelType</td>\n",
       "      <td id=\"T_4a2ce_row7_col1\" class=\"data row7 col1\" >object</td>\n",
       "    </tr>\n",
       "    <tr>\n",
       "      <th id=\"T_4a2ce_level0_row8\" class=\"row_heading level0 row8\" >8</th>\n",
       "      <td id=\"T_4a2ce_row8_col0\" class=\"data row8 col0\" >EnginePower</td>\n",
       "      <td id=\"T_4a2ce_row8_col1\" class=\"data row8 col1\" >float64</td>\n",
       "    </tr>\n",
       "    <tr>\n",
       "      <th id=\"T_4a2ce_level0_row9\" class=\"row_heading level0 row9\" >9</th>\n",
       "      <td id=\"T_4a2ce_row9_col0\" class=\"data row9 col0\" >ElectricConsumption</td>\n",
       "      <td id=\"T_4a2ce_row9_col1\" class=\"data row9 col1\" >float64</td>\n",
       "    </tr>\n",
       "    <tr>\n",
       "      <th id=\"T_4a2ce_level0_row10\" class=\"row_heading level0 row10\" >10</th>\n",
       "      <td id=\"T_4a2ce_row10_col0\" class=\"data row10 col0\" >InnovativeTechnology</td>\n",
       "      <td id=\"T_4a2ce_row10_col1\" class=\"data row10 col1\" >int64</td>\n",
       "    </tr>\n",
       "    <tr>\n",
       "      <th id=\"T_4a2ce_level0_row11\" class=\"row_heading level0 row11\" >11</th>\n",
       "      <td id=\"T_4a2ce_row11_col0\" class=\"data row11 col0\" >InnovativeEmissionsReductionWltp</td>\n",
       "      <td id=\"T_4a2ce_row11_col1\" class=\"data row11 col1\" >float64</td>\n",
       "    </tr>\n",
       "    <tr>\n",
       "      <th id=\"T_4a2ce_level0_row12\" class=\"row_heading level0 row12\" >12</th>\n",
       "      <td id=\"T_4a2ce_row12_col0\" class=\"data row12 col0\" >ElectricRange</td>\n",
       "      <td id=\"T_4a2ce_row12_col1\" class=\"data row12 col1\" >float64</td>\n",
       "    </tr>\n",
       "    <tr>\n",
       "      <th id=\"T_4a2ce_level0_row13\" class=\"row_heading level0 row13\" >13</th>\n",
       "      <td id=\"T_4a2ce_row13_col0\" class=\"data row13 col0\" >Co2Grade</td>\n",
       "      <td id=\"T_4a2ce_row13_col1\" class=\"data row13 col1\" >category</td>\n",
       "    </tr>\n",
       "  </tbody>\n",
       "</table>\n"
      ],
      "text/plain": [
       "<pandas.io.formats.style.Styler at 0x7f8369c233d0>"
      ]
     },
     "metadata": {},
     "output_type": "display_data"
    },
    {
     "name": "stdout",
     "output_type": "stream",
     "text": [
      "<class 'pandas.io.formats.style.Styler'>\n"
     ]
    },
    {
     "data": {
      "text/html": [
       "<style type=\"text/css\">\n",
       "#T_eedeb th {\n",
       "  background-color: steelblue;\n",
       "  color: white;\n",
       "}\n",
       "#T_eedeb tr:nth-of-type(odd) {\n",
       "  background-color: aliceblue;\n",
       "}\n",
       "#T_eedeb tr:nth-of-type(even) {\n",
       "  background-color: white;\n",
       "}\n",
       "</style>\n",
       "<table id=\"T_eedeb\">\n",
       "  <caption><h2>DONNEES</h2></caption>\n",
       "  <thead>\n",
       "    <tr>\n",
       "      <th class=\"blank level0\" >&nbsp;</th>\n",
       "      <th id=\"T_eedeb_level0_col0\" class=\"col_heading level0 col0\" >Info</th>\n",
       "    </tr>\n",
       "  </thead>\n",
       "  <tbody>\n",
       "    <tr>\n",
       "      <th id=\"T_eedeb_level0_row0\" class=\"row_heading level0 row0\" >0</th>\n",
       "      <td id=\"T_eedeb_row0_col0\" class=\"data row0 col0\" >Index: 9446127 entries, 0 to 9920107</td>\n",
       "    </tr>\n",
       "    <tr>\n",
       "      <th id=\"T_eedeb_level0_row1\" class=\"row_heading level0 row1\" >1</th>\n",
       "      <td id=\"T_eedeb_row1_col0\" class=\"data row1 col0\" >Data columns (total 14 columns):</td>\n",
       "    </tr>\n",
       "    <tr>\n",
       "      <th id=\"T_eedeb_level0_row2\" class=\"row_heading level0 row2\" >2</th>\n",
       "      <td id=\"T_eedeb_row2_col0\" class=\"data row2 col0\" > 13  Co2Grade                          category</td>\n",
       "    </tr>\n",
       "    <tr>\n",
       "      <th id=\"T_eedeb_level0_row3\" class=\"row_heading level0 row3\" >3</th>\n",
       "      <td id=\"T_eedeb_row3_col0\" class=\"data row3 col0\" >dtypes: category(1), float64(7), int64(1), object(5)</td>\n",
       "    </tr>\n",
       "    <tr>\n",
       "      <th id=\"T_eedeb_level0_row4\" class=\"row_heading level0 row4\" >4</th>\n",
       "      <td id=\"T_eedeb_row4_col0\" class=\"data row4 col0\" >memory usage: 1018.0+ MB</td>\n",
       "    </tr>\n",
       "  </tbody>\n",
       "</table>\n"
      ],
      "text/plain": [
       "<pandas.io.formats.style.Styler at 0x7f8369c23e50>"
      ]
     },
     "metadata": {},
     "output_type": "display_data"
    },
    {
     "name": "stdout",
     "output_type": "stream",
     "text": [
      "<class 'pandas.io.formats.style.Styler'>\n"
     ]
    },
    {
     "name": "stderr",
     "output_type": "stream",
     "text": [
      "/home/mln/miniconda3/envs/co2/lib/python3.9/site-packages/pandas/io/formats/style.py:4052: RuntimeWarning: invalid value encountered in scalar divide\n",
      "  end = (x - left) / (right - left)\n",
      "/home/mln/miniconda3/envs/co2/lib/python3.9/site-packages/pandas/io/formats/style.py:4052: RuntimeWarning: invalid value encountered in scalar divide\n",
      "  end = (x - left) / (right - left)\n"
     ]
    },
    {
     "data": {
      "text/html": [
       "<style type=\"text/css\">\n",
       "#T_96b3a th {\n",
       "  background-color: steelblue;\n",
       "  color: white;\n",
       "}\n",
       "#T_96b3a tr:nth-of-type(odd) {\n",
       "  background-color: aliceblue;\n",
       "}\n",
       "#T_96b3a tr:nth-of-type(even) {\n",
       "  background-color: white;\n",
       "}\n",
       "#T_96b3a_row0_col1, #T_96b3a_row1_col1, #T_96b3a_row2_col1, #T_96b3a_row3_col1, #T_96b3a_row4_col1, #T_96b3a_row5_col1, #T_96b3a_row6_col1, #T_96b3a_row7_col1, #T_96b3a_row8_col1, #T_96b3a_row9_col1, #T_96b3a_row10_col1, #T_96b3a_row11_col1, #T_96b3a_row12_col1, #T_96b3a_row13_col1 {\n",
       "  width: 10em;\n",
       "}\n",
       "</style>\n",
       "<table id=\"T_96b3a\">\n",
       "  <caption><h2>PART DE VALEURS MANQUANTES DANS LE JEU DE DONNEES</h2></caption>\n",
       "  <thead>\n",
       "    <tr>\n",
       "      <th class=\"blank level0\" >&nbsp;</th>\n",
       "      <th id=\"T_96b3a_level0_col0\" class=\"col_heading level0 col0\" >Colonne</th>\n",
       "      <th id=\"T_96b3a_level0_col1\" class=\"col_heading level0 col1\" >Valeurs manquantes (%)</th>\n",
       "    </tr>\n",
       "  </thead>\n",
       "  <tbody>\n",
       "    <tr>\n",
       "      <th id=\"T_96b3a_level0_row0\" class=\"row_heading level0 row0\" >0</th>\n",
       "      <td id=\"T_96b3a_row0_col0\" class=\"data row0 col0\" >Pool</td>\n",
       "      <td id=\"T_96b3a_row0_col1\" class=\"data row0 col1\" >0.00%</td>\n",
       "    </tr>\n",
       "    <tr>\n",
       "      <th id=\"T_96b3a_level0_row1\" class=\"row_heading level0 row1\" >1</th>\n",
       "      <td id=\"T_96b3a_row1_col0\" class=\"data row1 col0\" >Make</td>\n",
       "      <td id=\"T_96b3a_row1_col1\" class=\"data row1 col1\" >0.00%</td>\n",
       "    </tr>\n",
       "    <tr>\n",
       "      <th id=\"T_96b3a_level0_row2\" class=\"row_heading level0 row2\" >2</th>\n",
       "      <td id=\"T_96b3a_row2_col0\" class=\"data row2 col0\" >CommercialName</td>\n",
       "      <td id=\"T_96b3a_row2_col1\" class=\"data row2 col1\" >0.00%</td>\n",
       "    </tr>\n",
       "    <tr>\n",
       "      <th id=\"T_96b3a_level0_row3\" class=\"row_heading level0 row3\" >3</th>\n",
       "      <td id=\"T_96b3a_row3_col0\" class=\"data row3 col0\" >CategoryOf</td>\n",
       "      <td id=\"T_96b3a_row3_col1\" class=\"data row3 col1\" >0.00%</td>\n",
       "    </tr>\n",
       "    <tr>\n",
       "      <th id=\"T_96b3a_level0_row4\" class=\"row_heading level0 row4\" >4</th>\n",
       "      <td id=\"T_96b3a_row4_col0\" class=\"data row4 col0\" >MassRunningOrder</td>\n",
       "      <td id=\"T_96b3a_row4_col1\" class=\"data row4 col1\" >0.00%</td>\n",
       "    </tr>\n",
       "    <tr>\n",
       "      <th id=\"T_96b3a_level0_row5\" class=\"row_heading level0 row5\" >5</th>\n",
       "      <td id=\"T_96b3a_row5_col0\" class=\"data row5 col0\" >Co2EmissionsWltp</td>\n",
       "      <td id=\"T_96b3a_row5_col1\" class=\"data row5 col1\" >0.00%</td>\n",
       "    </tr>\n",
       "    <tr>\n",
       "      <th id=\"T_96b3a_level0_row6\" class=\"row_heading level0 row6\" >6</th>\n",
       "      <td id=\"T_96b3a_row6_col0\" class=\"data row6 col0\" >BaseWheel</td>\n",
       "      <td id=\"T_96b3a_row6_col1\" class=\"data row6 col1\" >0.00%</td>\n",
       "    </tr>\n",
       "    <tr>\n",
       "      <th id=\"T_96b3a_level0_row7\" class=\"row_heading level0 row7\" >7</th>\n",
       "      <td id=\"T_96b3a_row7_col0\" class=\"data row7 col0\" >FuelType</td>\n",
       "      <td id=\"T_96b3a_row7_col1\" class=\"data row7 col1\" >0.00%</td>\n",
       "    </tr>\n",
       "    <tr>\n",
       "      <th id=\"T_96b3a_level0_row8\" class=\"row_heading level0 row8\" >8</th>\n",
       "      <td id=\"T_96b3a_row8_col0\" class=\"data row8 col0\" >EnginePower</td>\n",
       "      <td id=\"T_96b3a_row8_col1\" class=\"data row8 col1\" >0.00%</td>\n",
       "    </tr>\n",
       "    <tr>\n",
       "      <th id=\"T_96b3a_level0_row9\" class=\"row_heading level0 row9\" >9</th>\n",
       "      <td id=\"T_96b3a_row9_col0\" class=\"data row9 col0\" >ElectricConsumption</td>\n",
       "      <td id=\"T_96b3a_row9_col1\" class=\"data row9 col1\" >0.00%</td>\n",
       "    </tr>\n",
       "    <tr>\n",
       "      <th id=\"T_96b3a_level0_row10\" class=\"row_heading level0 row10\" >10</th>\n",
       "      <td id=\"T_96b3a_row10_col0\" class=\"data row10 col0\" >InnovativeTechnology</td>\n",
       "      <td id=\"T_96b3a_row10_col1\" class=\"data row10 col1\" >0.00%</td>\n",
       "    </tr>\n",
       "    <tr>\n",
       "      <th id=\"T_96b3a_level0_row11\" class=\"row_heading level0 row11\" >11</th>\n",
       "      <td id=\"T_96b3a_row11_col0\" class=\"data row11 col0\" >InnovativeEmissionsReductionWltp</td>\n",
       "      <td id=\"T_96b3a_row11_col1\" class=\"data row11 col1\" >0.00%</td>\n",
       "    </tr>\n",
       "    <tr>\n",
       "      <th id=\"T_96b3a_level0_row12\" class=\"row_heading level0 row12\" >12</th>\n",
       "      <td id=\"T_96b3a_row12_col0\" class=\"data row12 col0\" >ElectricRange</td>\n",
       "      <td id=\"T_96b3a_row12_col1\" class=\"data row12 col1\" >0.00%</td>\n",
       "    </tr>\n",
       "    <tr>\n",
       "      <th id=\"T_96b3a_level0_row13\" class=\"row_heading level0 row13\" >13</th>\n",
       "      <td id=\"T_96b3a_row13_col0\" class=\"data row13 col0\" >Co2Grade</td>\n",
       "      <td id=\"T_96b3a_row13_col1\" class=\"data row13 col1\" >0.00%</td>\n",
       "    </tr>\n",
       "  </tbody>\n",
       "</table>\n"
      ],
      "text/plain": [
       "<pandas.io.formats.style.Styler at 0x7f84bc1a1ee0>"
      ]
     },
     "metadata": {},
     "output_type": "display_data"
    },
    {
     "name": "stdout",
     "output_type": "stream",
     "text": [
      "<class 'pandas.io.formats.style.Styler'>\n"
     ]
    }
   ],
   "source": [
    "#auth_file_path = ''\n",
    "#df = co2.data.download_and_load_co2_data()\n",
    "df = co2.data.load_co2_data()\n",
    "df = co2.data.dataviz_preprocess(df)\n",
    "df['ElectricRange'] = df['ElectricRange'].fillna(0)\n",
    "df['InnovativeEmissionsReductionWltp'] = df['InnovativeEmissionsReductionWltp'].fillna(0)\n",
    "df['ElectricConsumption'] = df['ElectricConsumption'].fillna(0)\n",
    "df = co2.data.standardize_innovtech(df)\n",
    "df = df.drop(columns=['ID', 'Country', 'ManufacturerName', 'WltpTestMass', 'FuelConsumption', 'RegistrationDate', 'AxleWidthSteering', 'ManufNameOem', 'FuelMode', 'EngineCapacity', 'AxleWidthSteering'])\n",
    "\n",
    "\n",
    "co2.styles.displayer(df, title='APERCU DU JEU DE DONNEES', save=True)\n",
    "co2.styles.display_info(df, title='DONNEES', save=True) \n",
    "co2.styles.display_na(df, title='PART DE VALEURS MANQUANTES DANS LE JEU DE DONNEES', save=True)   \n"
   ]
  },
  {
   "cell_type": "markdown",
   "metadata": {},
   "source": [
    "df['Count'] = df.groupby(list(df.columns)).transform('count')\n",
    "display(df)\n",
    "\n",
    "df_grouped = df.groupby(['CommercialName', 'FuelType', 'CategoryOf', 'InnovativeTechnology'])\\\n",
    "    .agg({\n",
    "            'CommercialName': 'count',\n",
    "            'Co2EmissionsWltp': 'mean',\n",
    "            'EnginePower': 'mean',\n",
    "            'ElectricConsumption': 'mean',\n",
    "            #'InnovativeTechnology': 'mean',\n",
    "            'InnovativeEmissionsReductionWltp': 'mean',\n",
    "            'ElectricRange': 'mean',\n",
    "            'MassRunningOrder': 'mean',\n",
    "            'BaseWheel': 'mean',\n",
    "            }).reset_index()\n",
    "\n",
    "df_grouped['Share'] = df_grouped['Count'] / df_grouped['Count'].sum()\n",
    "df_grouped.sort_values(by='Share', ascending=False)\n"
   ]
  },
  {
   "cell_type": "code",
   "execution_count": 3,
   "metadata": {},
   "outputs": [
    {
     "name": "stdout",
     "output_type": "stream",
     "text": [
      "<class 'pandas.core.frame.DataFrame'>\n",
      "Index: 9446127 entries, 0 to 9920107\n",
      "Data columns (total 14 columns):\n",
      " #   Column                            Dtype   \n",
      "---  ------                            -----   \n",
      " 0   Pool                              object  \n",
      " 1   Make                              object  \n",
      " 2   CommercialName                    object  \n",
      " 3   CategoryOf                        object  \n",
      " 4   MassRunningOrder                  float64 \n",
      " 5   Co2EmissionsWltp                  float64 \n",
      " 6   BaseWheel                         float64 \n",
      " 7   FuelType                          object  \n",
      " 8   EnginePower                       float64 \n",
      " 9   ElectricConsumption               float64 \n",
      " 10  InnovativeTechnology              int64   \n",
      " 11  InnovativeEmissionsReductionWltp  float64 \n",
      " 12  ElectricRange                     float64 \n",
      " 13  Co2Grade                          category\n",
      "dtypes: category(1), float64(7), int64(1), object(5)\n",
      "memory usage: 1018.0+ MB\n"
     ]
    }
   ],
   "source": [
    "df.info()"
   ]
  },
  {
   "cell_type": "code",
   "execution_count": 4,
   "metadata": {},
   "outputs": [
    {
     "data": {
      "text/html": [
       "<div>\n",
       "<style scoped>\n",
       "    .dataframe tbody tr th:only-of-type {\n",
       "        vertical-align: middle;\n",
       "    }\n",
       "\n",
       "    .dataframe tbody tr th {\n",
       "        vertical-align: top;\n",
       "    }\n",
       "\n",
       "    .dataframe thead th {\n",
       "        text-align: right;\n",
       "    }\n",
       "</style>\n",
       "<table border=\"1\" class=\"dataframe\">\n",
       "  <thead>\n",
       "    <tr style=\"text-align: right;\">\n",
       "      <th></th>\n",
       "      <th>CommercialName</th>\n",
       "      <th>FuelType</th>\n",
       "      <th>CategoryOf</th>\n",
       "      <th>InnovativeTechnology</th>\n",
       "      <th>Pool</th>\n",
       "      <th>Co2EmissionsWltp</th>\n",
       "      <th>EnginePower</th>\n",
       "      <th>ElectricConsumption</th>\n",
       "      <th>InnovativeEmissionsReductionWltp</th>\n",
       "      <th>ElectricRange</th>\n",
       "      <th>MassRunningOrder</th>\n",
       "      <th>BaseWheel</th>\n",
       "      <th>Count</th>\n",
       "      <th>Share</th>\n",
       "    </tr>\n",
       "  </thead>\n",
       "  <tbody>\n",
       "    <tr>\n",
       "      <th>9415</th>\n",
       "      <td>taycan 4s</td>\n",
       "      <td>ELECTRIC</td>\n",
       "      <td>M1</td>\n",
       "      <td>0</td>\n",
       "      <td>VW-SAIC</td>\n",
       "      <td>0.000000</td>\n",
       "      <td>360.000000</td>\n",
       "      <td>0.0</td>\n",
       "      <td>0.000000</td>\n",
       "      <td>276.0</td>\n",
       "      <td>2303.333333</td>\n",
       "      <td>2901.333333</td>\n",
       "      <td>1</td>\n",
       "      <td>0.000106</td>\n",
       "    </tr>\n",
       "    <tr>\n",
       "      <th>0</th>\n",
       "      <td>---</td>\n",
       "      <td>PETROL</td>\n",
       "      <td>M1</td>\n",
       "      <td>0</td>\n",
       "      <td>STELLANTIS</td>\n",
       "      <td>132.000000</td>\n",
       "      <td>96.000000</td>\n",
       "      <td>0.0</td>\n",
       "      <td>0.000000</td>\n",
       "      <td>0.0</td>\n",
       "      <td>1323.000000</td>\n",
       "      <td>2605.000000</td>\n",
       "      <td>1</td>\n",
       "      <td>0.000106</td>\n",
       "    </tr>\n",
       "    <tr>\n",
       "      <th>1</th>\n",
       "      <td>108</td>\n",
       "      <td>PETROL</td>\n",
       "      <td>M1</td>\n",
       "      <td>0</td>\n",
       "      <td>STELLANTIS</td>\n",
       "      <td>110.441662</td>\n",
       "      <td>53.000000</td>\n",
       "      <td>0.0</td>\n",
       "      <td>0.000000</td>\n",
       "      <td>0.0</td>\n",
       "      <td>921.120371</td>\n",
       "      <td>2340.000000</td>\n",
       "      <td>1</td>\n",
       "      <td>0.000106</td>\n",
       "    </tr>\n",
       "    <tr>\n",
       "      <th>2</th>\n",
       "      <td>116 / / D</td>\n",
       "      <td>DIESEL</td>\n",
       "      <td>M1</td>\n",
       "      <td>0</td>\n",
       "      <td>BMW</td>\n",
       "      <td>120.000000</td>\n",
       "      <td>85.000000</td>\n",
       "      <td>0.0</td>\n",
       "      <td>0.000000</td>\n",
       "      <td>0.0</td>\n",
       "      <td>1450.000000</td>\n",
       "      <td>2670.000000</td>\n",
       "      <td>1</td>\n",
       "      <td>0.000106</td>\n",
       "    </tr>\n",
       "    <tr>\n",
       "      <th>3</th>\n",
       "      <td>116 / / D</td>\n",
       "      <td>DIESEL</td>\n",
       "      <td>M1</td>\n",
       "      <td>1</td>\n",
       "      <td>BMW</td>\n",
       "      <td>119.500000</td>\n",
       "      <td>85.000000</td>\n",
       "      <td>0.0</td>\n",
       "      <td>1.725000</td>\n",
       "      <td>0.0</td>\n",
       "      <td>1450.000000</td>\n",
       "      <td>2670.000000</td>\n",
       "      <td>1</td>\n",
       "      <td>0.000106</td>\n",
       "    </tr>\n",
       "    <tr>\n",
       "      <th>...</th>\n",
       "      <td>...</td>\n",
       "      <td>...</td>\n",
       "      <td>...</td>\n",
       "      <td>...</td>\n",
       "      <td>...</td>\n",
       "      <td>...</td>\n",
       "      <td>...</td>\n",
       "      <td>...</td>\n",
       "      <td>...</td>\n",
       "      <td>...</td>\n",
       "      <td>...</td>\n",
       "      <td>...</td>\n",
       "      <td>...</td>\n",
       "      <td>...</td>\n",
       "    </tr>\n",
       "    <tr>\n",
       "      <th>11</th>\n",
       "      <td>116D 5-TÜRER F40 B37</td>\n",
       "      <td>DIESEL</td>\n",
       "      <td>M1</td>\n",
       "      <td>0</td>\n",
       "      <td>BMW</td>\n",
       "      <td>121.833333</td>\n",
       "      <td>85.000000</td>\n",
       "      <td>0.0</td>\n",
       "      <td>0.000000</td>\n",
       "      <td>0.0</td>\n",
       "      <td>1454.444444</td>\n",
       "      <td>2670.000000</td>\n",
       "      <td>1</td>\n",
       "      <td>0.000106</td>\n",
       "    </tr>\n",
       "    <tr>\n",
       "      <th>12</th>\n",
       "      <td>116D 5-TÜRER F40 B37</td>\n",
       "      <td>DIESEL</td>\n",
       "      <td>M1</td>\n",
       "      <td>1</td>\n",
       "      <td>BMW</td>\n",
       "      <td>120.924051</td>\n",
       "      <td>85.000000</td>\n",
       "      <td>0.0</td>\n",
       "      <td>1.817300</td>\n",
       "      <td>0.0</td>\n",
       "      <td>1454.472574</td>\n",
       "      <td>2670.000000</td>\n",
       "      <td>1</td>\n",
       "      <td>0.000106</td>\n",
       "    </tr>\n",
       "    <tr>\n",
       "      <th>13</th>\n",
       "      <td>116I</td>\n",
       "      <td>PETROL</td>\n",
       "      <td>M1</td>\n",
       "      <td>0</td>\n",
       "      <td>BMW</td>\n",
       "      <td>133.725146</td>\n",
       "      <td>80.000000</td>\n",
       "      <td>0.0</td>\n",
       "      <td>1.678363</td>\n",
       "      <td>0.0</td>\n",
       "      <td>1410.614035</td>\n",
       "      <td>2670.000000</td>\n",
       "      <td>1</td>\n",
       "      <td>0.000106</td>\n",
       "    </tr>\n",
       "    <tr>\n",
       "      <th>14</th>\n",
       "      <td>116I</td>\n",
       "      <td>PETROL</td>\n",
       "      <td>M1</td>\n",
       "      <td>1</td>\n",
       "      <td>BMW</td>\n",
       "      <td>132.952381</td>\n",
       "      <td>80.373719</td>\n",
       "      <td>0.0</td>\n",
       "      <td>1.887432</td>\n",
       "      <td>0.0</td>\n",
       "      <td>1403.714587</td>\n",
       "      <td>2670.000000</td>\n",
       "      <td>1</td>\n",
       "      <td>0.000106</td>\n",
       "    </tr>\n",
       "    <tr>\n",
       "      <th>15</th>\n",
       "      <td>116I</td>\n",
       "      <td>PETROL/ELECTRIC</td>\n",
       "      <td>M1</td>\n",
       "      <td>0</td>\n",
       "      <td>BMW</td>\n",
       "      <td>40.500000</td>\n",
       "      <td>92.000000</td>\n",
       "      <td>0.0</td>\n",
       "      <td>0.000000</td>\n",
       "      <td>0.0</td>\n",
       "      <td>1820.000000</td>\n",
       "      <td>2670.000000</td>\n",
       "      <td>1</td>\n",
       "      <td>0.000106</td>\n",
       "    </tr>\n",
       "  </tbody>\n",
       "</table>\n",
       "<p>9416 rows × 14 columns</p>\n",
       "</div>"
      ],
      "text/plain": [
       "            CommercialName         FuelType CategoryOf  InnovativeTechnology  \\\n",
       "9415             taycan 4s         ELECTRIC         M1                     0   \n",
       "0                      ---           PETROL         M1                     0   \n",
       "1                      108           PETROL         M1                     0   \n",
       "2                116 / / D           DIESEL         M1                     0   \n",
       "3                116 / / D           DIESEL         M1                     1   \n",
       "...                    ...              ...        ...                   ...   \n",
       "11    116D 5-TÜRER F40 B37           DIESEL         M1                     0   \n",
       "12    116D 5-TÜRER F40 B37           DIESEL         M1                     1   \n",
       "13                    116I           PETROL         M1                     0   \n",
       "14                    116I           PETROL         M1                     1   \n",
       "15                    116I  PETROL/ELECTRIC         M1                     0   \n",
       "\n",
       "            Pool  Co2EmissionsWltp  EnginePower  ElectricConsumption  \\\n",
       "9415     VW-SAIC          0.000000   360.000000                  0.0   \n",
       "0     STELLANTIS        132.000000    96.000000                  0.0   \n",
       "1     STELLANTIS        110.441662    53.000000                  0.0   \n",
       "2            BMW        120.000000    85.000000                  0.0   \n",
       "3            BMW        119.500000    85.000000                  0.0   \n",
       "...          ...               ...          ...                  ...   \n",
       "11           BMW        121.833333    85.000000                  0.0   \n",
       "12           BMW        120.924051    85.000000                  0.0   \n",
       "13           BMW        133.725146    80.000000                  0.0   \n",
       "14           BMW        132.952381    80.373719                  0.0   \n",
       "15           BMW         40.500000    92.000000                  0.0   \n",
       "\n",
       "      InnovativeEmissionsReductionWltp  ElectricRange  MassRunningOrder  \\\n",
       "9415                          0.000000          276.0       2303.333333   \n",
       "0                             0.000000            0.0       1323.000000   \n",
       "1                             0.000000            0.0        921.120371   \n",
       "2                             0.000000            0.0       1450.000000   \n",
       "3                             1.725000            0.0       1450.000000   \n",
       "...                                ...            ...               ...   \n",
       "11                            0.000000            0.0       1454.444444   \n",
       "12                            1.817300            0.0       1454.472574   \n",
       "13                            1.678363            0.0       1410.614035   \n",
       "14                            1.887432            0.0       1403.714587   \n",
       "15                            0.000000            0.0       1820.000000   \n",
       "\n",
       "        BaseWheel  Count     Share  \n",
       "9415  2901.333333      1  0.000106  \n",
       "0     2605.000000      1  0.000106  \n",
       "1     2340.000000      1  0.000106  \n",
       "2     2670.000000      1  0.000106  \n",
       "3     2670.000000      1  0.000106  \n",
       "...           ...    ...       ...  \n",
       "11    2670.000000      1  0.000106  \n",
       "12    2670.000000      1  0.000106  \n",
       "13    2670.000000      1  0.000106  \n",
       "14    2670.000000      1  0.000106  \n",
       "15    2670.000000      1  0.000106  \n",
       "\n",
       "[9416 rows x 14 columns]"
      ]
     },
     "execution_count": 4,
     "metadata": {},
     "output_type": "execute_result"
    }
   ],
   "source": [
    "# Group by the specified columns and compute the mean for the other columns\n",
    "df = df.groupby(['CommercialName', 'FuelType', 'CategoryOf', 'InnovativeTechnology']).agg({\n",
    "    'Pool': lambda x: x.mode()[0],\n",
    "    'Co2EmissionsWltp': 'mean',\n",
    "    'EnginePower': 'mean',\n",
    "    'ElectricConsumption': 'mean',\n",
    "    'InnovativeEmissionsReductionWltp': 'mean',\n",
    "    'ElectricRange': 'mean',\n",
    "    'MassRunningOrder': 'mean',\n",
    "    'BaseWheel': 'mean'\n",
    "}).reset_index()\n",
    "\n",
    "# Add a 'Count' column that counts the number of rows in each group\n",
    "df['Count'] = df.groupby(['CommercialName', 'FuelType', 'CategoryOf', 'InnovativeTechnology']).size().values\n",
    "df['Share'] = df['Count'] / df['Count'].sum()\n",
    "df.sort_values(by=['Count'], ascending=False)"
   ]
  },
  {
   "cell_type": "markdown",
   "metadata": {},
   "source": [
    "\n",
    "# Inspection des features\n",
    "co2.styles.display_info(df, title='DONNEES NETTOYEES', save=True) \n",
    "co2.styles.display_describe(df, title='STATISTIQUES DESCRIPTIVES', save=True)\n",
    "\n",
    "co2.viz.plot_correlation_heatmap(df, interactive=False, save=True)\n",
    "co2.viz.plot_feature_distributions(df, interactive=False, save=True)\n",
    "co2.viz.plot_qqplots(df, interactive=False, save=True)\n",
    "\n",
    "# One-hot encoding des variables catégorielles\n",
    "\n",
    "\n",
    "\n",
    "# Sauvegarde du jeu de données prêt à l'emploi pour la régression\n",
    "#co2.data.save_processed_data(df, classification=True, pickle=False)"
   ]
  },
  {
   "cell_type": "code",
   "execution_count": 5,
   "metadata": {},
   "outputs": [
    {
     "data": {
      "text/html": [
       "<div>\n",
       "<style scoped>\n",
       "    .dataframe tbody tr th:only-of-type {\n",
       "        vertical-align: middle;\n",
       "    }\n",
       "\n",
       "    .dataframe tbody tr th {\n",
       "        vertical-align: top;\n",
       "    }\n",
       "\n",
       "    .dataframe thead th {\n",
       "        text-align: right;\n",
       "    }\n",
       "</style>\n",
       "<table border=\"1\" class=\"dataframe\">\n",
       "  <thead>\n",
       "    <tr style=\"text-align: right;\">\n",
       "      <th></th>\n",
       "      <th>CommercialName</th>\n",
       "      <th>FuelType</th>\n",
       "      <th>CategoryOf</th>\n",
       "      <th>InnovativeTechnology</th>\n",
       "      <th>Pool</th>\n",
       "      <th>Co2EmissionsWltp</th>\n",
       "      <th>EnginePower</th>\n",
       "      <th>ElectricConsumption</th>\n",
       "      <th>InnovativeEmissionsReductionWltp</th>\n",
       "      <th>ElectricRange</th>\n",
       "      <th>MassRunningOrder</th>\n",
       "      <th>BaseWheel</th>\n",
       "      <th>Count</th>\n",
       "      <th>Share</th>\n",
       "    </tr>\n",
       "  </thead>\n",
       "  <tbody>\n",
       "    <tr>\n",
       "      <th>0</th>\n",
       "      <td>---</td>\n",
       "      <td>PETROL</td>\n",
       "      <td>M1</td>\n",
       "      <td>0</td>\n",
       "      <td>STELLANTIS</td>\n",
       "      <td>132.000000</td>\n",
       "      <td>96.0</td>\n",
       "      <td>0.0</td>\n",
       "      <td>0.000</td>\n",
       "      <td>0.0</td>\n",
       "      <td>1323.000000</td>\n",
       "      <td>2605.0</td>\n",
       "      <td>1</td>\n",
       "      <td>0.000106</td>\n",
       "    </tr>\n",
       "    <tr>\n",
       "      <th>1</th>\n",
       "      <td>108</td>\n",
       "      <td>PETROL</td>\n",
       "      <td>M1</td>\n",
       "      <td>0</td>\n",
       "      <td>STELLANTIS</td>\n",
       "      <td>110.441662</td>\n",
       "      <td>53.0</td>\n",
       "      <td>0.0</td>\n",
       "      <td>0.000</td>\n",
       "      <td>0.0</td>\n",
       "      <td>921.120371</td>\n",
       "      <td>2340.0</td>\n",
       "      <td>1</td>\n",
       "      <td>0.000106</td>\n",
       "    </tr>\n",
       "    <tr>\n",
       "      <th>2</th>\n",
       "      <td>116 / / D</td>\n",
       "      <td>DIESEL</td>\n",
       "      <td>M1</td>\n",
       "      <td>0</td>\n",
       "      <td>BMW</td>\n",
       "      <td>120.000000</td>\n",
       "      <td>85.0</td>\n",
       "      <td>0.0</td>\n",
       "      <td>0.000</td>\n",
       "      <td>0.0</td>\n",
       "      <td>1450.000000</td>\n",
       "      <td>2670.0</td>\n",
       "      <td>1</td>\n",
       "      <td>0.000106</td>\n",
       "    </tr>\n",
       "    <tr>\n",
       "      <th>3</th>\n",
       "      <td>116 / / D</td>\n",
       "      <td>DIESEL</td>\n",
       "      <td>M1</td>\n",
       "      <td>1</td>\n",
       "      <td>BMW</td>\n",
       "      <td>119.500000</td>\n",
       "      <td>85.0</td>\n",
       "      <td>0.0</td>\n",
       "      <td>1.725</td>\n",
       "      <td>0.0</td>\n",
       "      <td>1450.000000</td>\n",
       "      <td>2670.0</td>\n",
       "      <td>1</td>\n",
       "      <td>0.000106</td>\n",
       "    </tr>\n",
       "    <tr>\n",
       "      <th>4</th>\n",
       "      <td>116 / / D AUT.</td>\n",
       "      <td>DIESEL</td>\n",
       "      <td>M1</td>\n",
       "      <td>0</td>\n",
       "      <td>BMW</td>\n",
       "      <td>121.000000</td>\n",
       "      <td>85.0</td>\n",
       "      <td>0.0</td>\n",
       "      <td>0.000</td>\n",
       "      <td>0.0</td>\n",
       "      <td>1460.000000</td>\n",
       "      <td>2670.0</td>\n",
       "      <td>1</td>\n",
       "      <td>0.000106</td>\n",
       "    </tr>\n",
       "  </tbody>\n",
       "</table>\n",
       "</div>"
      ],
      "text/plain": [
       "   CommercialName FuelType CategoryOf  InnovativeTechnology        Pool  \\\n",
       "0             ---   PETROL         M1                     0  STELLANTIS   \n",
       "1             108   PETROL         M1                     0  STELLANTIS   \n",
       "2       116 / / D   DIESEL         M1                     0         BMW   \n",
       "3       116 / / D   DIESEL         M1                     1         BMW   \n",
       "4  116 / / D AUT.   DIESEL         M1                     0         BMW   \n",
       "\n",
       "   Co2EmissionsWltp  EnginePower  ElectricConsumption  \\\n",
       "0        132.000000         96.0                  0.0   \n",
       "1        110.441662         53.0                  0.0   \n",
       "2        120.000000         85.0                  0.0   \n",
       "3        119.500000         85.0                  0.0   \n",
       "4        121.000000         85.0                  0.0   \n",
       "\n",
       "   InnovativeEmissionsReductionWltp  ElectricRange  MassRunningOrder  \\\n",
       "0                             0.000            0.0       1323.000000   \n",
       "1                             0.000            0.0        921.120371   \n",
       "2                             0.000            0.0       1450.000000   \n",
       "3                             1.725            0.0       1450.000000   \n",
       "4                             0.000            0.0       1460.000000   \n",
       "\n",
       "   BaseWheel  Count     Share  \n",
       "0     2605.0      1  0.000106  \n",
       "1     2340.0      1  0.000106  \n",
       "2     2670.0      1  0.000106  \n",
       "3     2670.0      1  0.000106  \n",
       "4     2670.0      1  0.000106  "
      ]
     },
     "execution_count": 5,
     "metadata": {},
     "output_type": "execute_result"
    }
   ],
   "source": [
    "df.head()"
   ]
  },
  {
   "cell_type": "code",
   "execution_count": 6,
   "metadata": {},
   "outputs": [],
   "source": [
    "#df = df.drop(columns=['CommercialName'])\n",
    "df = co2.data.dummify_all_categoricals(df, dummy_columns=['Pool', 'FuelType', 'CategoryOf']\n",
    "                                       , should_discretize_electricrange=False)"
   ]
  },
  {
   "cell_type": "code",
   "execution_count": 7,
   "metadata": {},
   "outputs": [],
   "source": [
    "import sys\n",
    "sys.path.insert(0, '../src/')\n",
    "\n",
    "import numpy as np\n",
    "import pandas as pd\n",
    "import matplotlib.pyplot as plt\n",
    "import seaborn as sns\n",
    "import itertools\n",
    "import shap\n",
    "import warnings\n",
    "import pickle\n",
    "import xgboost as xgb\n",
    "from sklearn.preprocessing import LabelEncoder\n",
    "from sklearn.metrics import classification_report, confusion_matrix\n",
    "from sklearn.model_selection import train_test_split, cross_validate, KFold\n",
    "from sklearn.tree import DecisionTreeClassifier, plot_tree\n",
    "from sklearn.ensemble import RandomForestClassifier\n",
    "from sklearn.decomposition import PCA\n",
    "\n",
    "import auto_co2 as co2\n",
    "\n",
    "%matplotlib inline\n",
    "warnings.simplefilter(action='ignore', category=FutureWarning)\n",
    "\n",
    "\n"
   ]
  },
  {
   "cell_type": "code",
   "execution_count": 8,
   "metadata": {},
   "outputs": [],
   "source": [
    "# Assign the 'Co2EmissionsWltp' column to the variable 'target'\n",
    "df = co2.data.discretize_co2(df)\n",
    "target = df['Co2Grade']\n",
    "\n",
    "# Drop the 'Co2EmissionsWltp' column from the DataFrame 'data'\n",
    "data = df.drop(columns=['Co2EmissionsWltp', 'Co2Grade', 'CommercialName', 'Share'])\n",
    "\n",
    "# Split the data into training and testing sets\n",
    "X_train, X_test, y_train, y_test = train_test_split(data, target, test_size=.2, random_state=42)"
   ]
  },
  {
   "cell_type": "code",
   "execution_count": 9,
   "metadata": {},
   "outputs": [
    {
     "data": {
      "text/html": [
       "<div>\n",
       "<style scoped>\n",
       "    .dataframe tbody tr th:only-of-type {\n",
       "        vertical-align: middle;\n",
       "    }\n",
       "\n",
       "    .dataframe tbody tr th {\n",
       "        vertical-align: top;\n",
       "    }\n",
       "\n",
       "    .dataframe thead th {\n",
       "        text-align: right;\n",
       "    }\n",
       "</style>\n",
       "<table border=\"1\" class=\"dataframe\">\n",
       "  <thead>\n",
       "    <tr style=\"text-align: right;\">\n",
       "      <th></th>\n",
       "      <th>CommercialName</th>\n",
       "      <th>InnovativeTechnology</th>\n",
       "      <th>Co2EmissionsWltp</th>\n",
       "      <th>EnginePower</th>\n",
       "      <th>ElectricConsumption</th>\n",
       "      <th>InnovativeEmissionsReductionWltp</th>\n",
       "      <th>ElectricRange</th>\n",
       "      <th>MassRunningOrder</th>\n",
       "      <th>BaseWheel</th>\n",
       "      <th>Count</th>\n",
       "      <th>...</th>\n",
       "      <th>FuelType_LPG</th>\n",
       "      <th>FuelType_NATURALGAS</th>\n",
       "      <th>FuelType_NG</th>\n",
       "      <th>FuelType_PETROL</th>\n",
       "      <th>FuelType_PETROL/ELECTRIC</th>\n",
       "      <th>FuelType_UNKNOWN</th>\n",
       "      <th>CategoryOf_M1</th>\n",
       "      <th>CategoryOf_M1G</th>\n",
       "      <th>CategoryOf_m1</th>\n",
       "      <th>Co2Grade</th>\n",
       "    </tr>\n",
       "  </thead>\n",
       "  <tbody>\n",
       "    <tr>\n",
       "      <th>0</th>\n",
       "      <td>---</td>\n",
       "      <td>0</td>\n",
       "      <td>132.000000</td>\n",
       "      <td>96.0</td>\n",
       "      <td>0.0</td>\n",
       "      <td>0.000</td>\n",
       "      <td>0.0</td>\n",
       "      <td>1323.000000</td>\n",
       "      <td>2605.0</td>\n",
       "      <td>1</td>\n",
       "      <td>...</td>\n",
       "      <td>0</td>\n",
       "      <td>0</td>\n",
       "      <td>0</td>\n",
       "      <td>1</td>\n",
       "      <td>0</td>\n",
       "      <td>0</td>\n",
       "      <td>1</td>\n",
       "      <td>0</td>\n",
       "      <td>0</td>\n",
       "      <td>C</td>\n",
       "    </tr>\n",
       "    <tr>\n",
       "      <th>1</th>\n",
       "      <td>108</td>\n",
       "      <td>0</td>\n",
       "      <td>110.441662</td>\n",
       "      <td>53.0</td>\n",
       "      <td>0.0</td>\n",
       "      <td>0.000</td>\n",
       "      <td>0.0</td>\n",
       "      <td>921.120371</td>\n",
       "      <td>2340.0</td>\n",
       "      <td>1</td>\n",
       "      <td>...</td>\n",
       "      <td>0</td>\n",
       "      <td>0</td>\n",
       "      <td>0</td>\n",
       "      <td>1</td>\n",
       "      <td>0</td>\n",
       "      <td>0</td>\n",
       "      <td>1</td>\n",
       "      <td>0</td>\n",
       "      <td>0</td>\n",
       "      <td>B</td>\n",
       "    </tr>\n",
       "    <tr>\n",
       "      <th>2</th>\n",
       "      <td>116 / / D</td>\n",
       "      <td>0</td>\n",
       "      <td>120.000000</td>\n",
       "      <td>85.0</td>\n",
       "      <td>0.0</td>\n",
       "      <td>0.000</td>\n",
       "      <td>0.0</td>\n",
       "      <td>1450.000000</td>\n",
       "      <td>2670.0</td>\n",
       "      <td>1</td>\n",
       "      <td>...</td>\n",
       "      <td>0</td>\n",
       "      <td>0</td>\n",
       "      <td>0</td>\n",
       "      <td>0</td>\n",
       "      <td>0</td>\n",
       "      <td>0</td>\n",
       "      <td>1</td>\n",
       "      <td>0</td>\n",
       "      <td>0</td>\n",
       "      <td>B</td>\n",
       "    </tr>\n",
       "    <tr>\n",
       "      <th>3</th>\n",
       "      <td>116 / / D</td>\n",
       "      <td>1</td>\n",
       "      <td>119.500000</td>\n",
       "      <td>85.0</td>\n",
       "      <td>0.0</td>\n",
       "      <td>1.725</td>\n",
       "      <td>0.0</td>\n",
       "      <td>1450.000000</td>\n",
       "      <td>2670.0</td>\n",
       "      <td>1</td>\n",
       "      <td>...</td>\n",
       "      <td>0</td>\n",
       "      <td>0</td>\n",
       "      <td>0</td>\n",
       "      <td>0</td>\n",
       "      <td>0</td>\n",
       "      <td>0</td>\n",
       "      <td>1</td>\n",
       "      <td>0</td>\n",
       "      <td>0</td>\n",
       "      <td>B</td>\n",
       "    </tr>\n",
       "    <tr>\n",
       "      <th>4</th>\n",
       "      <td>116 / / D AUT.</td>\n",
       "      <td>0</td>\n",
       "      <td>121.000000</td>\n",
       "      <td>85.0</td>\n",
       "      <td>0.0</td>\n",
       "      <td>0.000</td>\n",
       "      <td>0.0</td>\n",
       "      <td>1460.000000</td>\n",
       "      <td>2670.0</td>\n",
       "      <td>1</td>\n",
       "      <td>...</td>\n",
       "      <td>0</td>\n",
       "      <td>0</td>\n",
       "      <td>0</td>\n",
       "      <td>0</td>\n",
       "      <td>0</td>\n",
       "      <td>0</td>\n",
       "      <td>1</td>\n",
       "      <td>0</td>\n",
       "      <td>0</td>\n",
       "      <td>C</td>\n",
       "    </tr>\n",
       "  </tbody>\n",
       "</table>\n",
       "<p>5 rows × 38 columns</p>\n",
       "</div>"
      ],
      "text/plain": [
       "   CommercialName  InnovativeTechnology  Co2EmissionsWltp  EnginePower  \\\n",
       "0             ---                     0        132.000000         96.0   \n",
       "1             108                     0        110.441662         53.0   \n",
       "2       116 / / D                     0        120.000000         85.0   \n",
       "3       116 / / D                     1        119.500000         85.0   \n",
       "4  116 / / D AUT.                     0        121.000000         85.0   \n",
       "\n",
       "   ElectricConsumption  InnovativeEmissionsReductionWltp  ElectricRange  \\\n",
       "0                  0.0                             0.000            0.0   \n",
       "1                  0.0                             0.000            0.0   \n",
       "2                  0.0                             0.000            0.0   \n",
       "3                  0.0                             1.725            0.0   \n",
       "4                  0.0                             0.000            0.0   \n",
       "\n",
       "   MassRunningOrder  BaseWheel  Count  ...  FuelType_LPG  FuelType_NATURALGAS  \\\n",
       "0       1323.000000     2605.0      1  ...             0                    0   \n",
       "1        921.120371     2340.0      1  ...             0                    0   \n",
       "2       1450.000000     2670.0      1  ...             0                    0   \n",
       "3       1450.000000     2670.0      1  ...             0                    0   \n",
       "4       1460.000000     2670.0      1  ...             0                    0   \n",
       "\n",
       "   FuelType_NG  FuelType_PETROL  FuelType_PETROL/ELECTRIC  FuelType_UNKNOWN  \\\n",
       "0            0                1                         0                 0   \n",
       "1            0                1                         0                 0   \n",
       "2            0                0                         0                 0   \n",
       "3            0                0                         0                 0   \n",
       "4            0                0                         0                 0   \n",
       "\n",
       "   CategoryOf_M1  CategoryOf_M1G  CategoryOf_m1  Co2Grade  \n",
       "0              1               0              0         C  \n",
       "1              1               0              0         B  \n",
       "2              1               0              0         B  \n",
       "3              1               0              0         B  \n",
       "4              1               0              0         C  \n",
       "\n",
       "[5 rows x 38 columns]"
      ]
     },
     "execution_count": 9,
     "metadata": {},
     "output_type": "execute_result"
    }
   ],
   "source": [
    "df.head()"
   ]
  },
  {
   "cell_type": "code",
   "execution_count": 10,
   "metadata": {},
   "outputs": [
    {
     "data": {
      "application/vnd.plotly.v1+json": {
       "config": {
        "plotlyServerURL": "https://plot.ly"
       },
       "data": [
        {
         "colorscale": [
          [
           0,
           "rgb(247,251,255)"
          ],
          [
           0.125,
           "rgb(222,235,247)"
          ],
          [
           0.25,
           "rgb(198,219,239)"
          ],
          [
           0.375,
           "rgb(158,202,225)"
          ],
          [
           0.5,
           "rgb(107,174,214)"
          ],
          [
           0.625,
           "rgb(66,146,198)"
          ],
          [
           0.75,
           "rgb(33,113,181)"
          ],
          [
           0.875,
           "rgb(8,81,156)"
          ],
          [
           1,
           "rgb(8,48,107)"
          ]
         ],
         "type": "heatmap",
         "x": [
          0,
          1,
          2,
          3,
          4,
          5,
          6
         ],
         "y": [
          0,
          1,
          2,
          3,
          4,
          5,
          6
         ],
         "z": [
          [
           230,
           1,
           4,
           3,
           4,
           0,
           0
          ],
          [
           4,
           82,
           34,
           8,
           2,
           0,
           0
          ],
          [
           4,
           27,
           331,
           51,
           4,
           0,
           0
          ],
          [
           5,
           6,
           56,
           268,
           33,
           1,
           0
          ],
          [
           3,
           0,
           3,
           34,
           331,
           25,
           1
          ],
          [
           3,
           0,
           2,
           3,
           16,
           169,
           12
          ],
          [
           0,
           0,
           0,
           2,
           3,
           5,
           114
          ]
         ]
        }
       ],
       "layout": {
        "annotations": [
         {
          "font": {
           "color": "white",
           "size": 16
          },
          "showarrow": false,
          "text": "230",
          "x": 0,
          "y": 0
         },
         {
          "font": {
           "color": "black",
           "size": 16
          },
          "showarrow": false,
          "text": "1",
          "x": 1,
          "y": 0
         },
         {
          "font": {
           "color": "black",
           "size": 16
          },
          "showarrow": false,
          "text": "4",
          "x": 2,
          "y": 0
         },
         {
          "font": {
           "color": "black",
           "size": 16
          },
          "showarrow": false,
          "text": "3",
          "x": 3,
          "y": 0
         },
         {
          "font": {
           "color": "black",
           "size": 16
          },
          "showarrow": false,
          "text": "4",
          "x": 4,
          "y": 0
         },
         {
          "font": {
           "color": "black",
           "size": 16
          },
          "showarrow": false,
          "text": "0",
          "x": 5,
          "y": 0
         },
         {
          "font": {
           "color": "black",
           "size": 16
          },
          "showarrow": false,
          "text": "0",
          "x": 6,
          "y": 0
         },
         {
          "font": {
           "color": "black",
           "size": 16
          },
          "showarrow": false,
          "text": "4",
          "x": 0,
          "y": 1
         },
         {
          "font": {
           "color": "black",
           "size": 16
          },
          "showarrow": false,
          "text": "82",
          "x": 1,
          "y": 1
         },
         {
          "font": {
           "color": "black",
           "size": 16
          },
          "showarrow": false,
          "text": "34",
          "x": 2,
          "y": 1
         },
         {
          "font": {
           "color": "black",
           "size": 16
          },
          "showarrow": false,
          "text": "8",
          "x": 3,
          "y": 1
         },
         {
          "font": {
           "color": "black",
           "size": 16
          },
          "showarrow": false,
          "text": "2",
          "x": 4,
          "y": 1
         },
         {
          "font": {
           "color": "black",
           "size": 16
          },
          "showarrow": false,
          "text": "0",
          "x": 5,
          "y": 1
         },
         {
          "font": {
           "color": "black",
           "size": 16
          },
          "showarrow": false,
          "text": "0",
          "x": 6,
          "y": 1
         },
         {
          "font": {
           "color": "black",
           "size": 16
          },
          "showarrow": false,
          "text": "4",
          "x": 0,
          "y": 2
         },
         {
          "font": {
           "color": "black",
           "size": 16
          },
          "showarrow": false,
          "text": "27",
          "x": 1,
          "y": 2
         },
         {
          "font": {
           "color": "white",
           "size": 16
          },
          "showarrow": false,
          "text": "331",
          "x": 2,
          "y": 2
         },
         {
          "font": {
           "color": "black",
           "size": 16
          },
          "showarrow": false,
          "text": "51",
          "x": 3,
          "y": 2
         },
         {
          "font": {
           "color": "black",
           "size": 16
          },
          "showarrow": false,
          "text": "4",
          "x": 4,
          "y": 2
         },
         {
          "font": {
           "color": "black",
           "size": 16
          },
          "showarrow": false,
          "text": "0",
          "x": 5,
          "y": 2
         },
         {
          "font": {
           "color": "black",
           "size": 16
          },
          "showarrow": false,
          "text": "0",
          "x": 6,
          "y": 2
         },
         {
          "font": {
           "color": "black",
           "size": 16
          },
          "showarrow": false,
          "text": "5",
          "x": 0,
          "y": 3
         },
         {
          "font": {
           "color": "black",
           "size": 16
          },
          "showarrow": false,
          "text": "6",
          "x": 1,
          "y": 3
         },
         {
          "font": {
           "color": "black",
           "size": 16
          },
          "showarrow": false,
          "text": "56",
          "x": 2,
          "y": 3
         },
         {
          "font": {
           "color": "white",
           "size": 16
          },
          "showarrow": false,
          "text": "268",
          "x": 3,
          "y": 3
         },
         {
          "font": {
           "color": "black",
           "size": 16
          },
          "showarrow": false,
          "text": "33",
          "x": 4,
          "y": 3
         },
         {
          "font": {
           "color": "black",
           "size": 16
          },
          "showarrow": false,
          "text": "1",
          "x": 5,
          "y": 3
         },
         {
          "font": {
           "color": "black",
           "size": 16
          },
          "showarrow": false,
          "text": "0",
          "x": 6,
          "y": 3
         },
         {
          "font": {
           "color": "black",
           "size": 16
          },
          "showarrow": false,
          "text": "3",
          "x": 0,
          "y": 4
         },
         {
          "font": {
           "color": "black",
           "size": 16
          },
          "showarrow": false,
          "text": "0",
          "x": 1,
          "y": 4
         },
         {
          "font": {
           "color": "black",
           "size": 16
          },
          "showarrow": false,
          "text": "3",
          "x": 2,
          "y": 4
         },
         {
          "font": {
           "color": "black",
           "size": 16
          },
          "showarrow": false,
          "text": "34",
          "x": 3,
          "y": 4
         },
         {
          "font": {
           "color": "white",
           "size": 16
          },
          "showarrow": false,
          "text": "331",
          "x": 4,
          "y": 4
         },
         {
          "font": {
           "color": "black",
           "size": 16
          },
          "showarrow": false,
          "text": "25",
          "x": 5,
          "y": 4
         },
         {
          "font": {
           "color": "black",
           "size": 16
          },
          "showarrow": false,
          "text": "1",
          "x": 6,
          "y": 4
         },
         {
          "font": {
           "color": "black",
           "size": 16
          },
          "showarrow": false,
          "text": "3",
          "x": 0,
          "y": 5
         },
         {
          "font": {
           "color": "black",
           "size": 16
          },
          "showarrow": false,
          "text": "0",
          "x": 1,
          "y": 5
         },
         {
          "font": {
           "color": "black",
           "size": 16
          },
          "showarrow": false,
          "text": "2",
          "x": 2,
          "y": 5
         },
         {
          "font": {
           "color": "black",
           "size": 16
          },
          "showarrow": false,
          "text": "3",
          "x": 3,
          "y": 5
         },
         {
          "font": {
           "color": "black",
           "size": 16
          },
          "showarrow": false,
          "text": "16",
          "x": 4,
          "y": 5
         },
         {
          "font": {
           "color": "white",
           "size": 16
          },
          "showarrow": false,
          "text": "169",
          "x": 5,
          "y": 5
         },
         {
          "font": {
           "color": "black",
           "size": 16
          },
          "showarrow": false,
          "text": "12",
          "x": 6,
          "y": 5
         },
         {
          "font": {
           "color": "black",
           "size": 16
          },
          "showarrow": false,
          "text": "0",
          "x": 0,
          "y": 6
         },
         {
          "font": {
           "color": "black",
           "size": 16
          },
          "showarrow": false,
          "text": "0",
          "x": 1,
          "y": 6
         },
         {
          "font": {
           "color": "black",
           "size": 16
          },
          "showarrow": false,
          "text": "0",
          "x": 2,
          "y": 6
         },
         {
          "font": {
           "color": "black",
           "size": 16
          },
          "showarrow": false,
          "text": "2",
          "x": 3,
          "y": 6
         },
         {
          "font": {
           "color": "black",
           "size": 16
          },
          "showarrow": false,
          "text": "3",
          "x": 4,
          "y": 6
         },
         {
          "font": {
           "color": "black",
           "size": 16
          },
          "showarrow": false,
          "text": "5",
          "x": 5,
          "y": 6
         },
         {
          "font": {
           "color": "black",
           "size": 16
          },
          "showarrow": false,
          "text": "114",
          "x": 6,
          "y": 6
         }
        ],
        "autosize": false,
        "height": 600,
        "template": {
         "data": {
          "bar": [
           {
            "error_x": {
             "color": "#2a3f5f"
            },
            "error_y": {
             "color": "#2a3f5f"
            },
            "marker": {
             "line": {
              "color": "#E5ECF6",
              "width": 0.5
             },
             "pattern": {
              "fillmode": "overlay",
              "size": 10,
              "solidity": 0.2
             }
            },
            "type": "bar"
           }
          ],
          "barpolar": [
           {
            "marker": {
             "line": {
              "color": "#E5ECF6",
              "width": 0.5
             },
             "pattern": {
              "fillmode": "overlay",
              "size": 10,
              "solidity": 0.2
             }
            },
            "type": "barpolar"
           }
          ],
          "carpet": [
           {
            "aaxis": {
             "endlinecolor": "#2a3f5f",
             "gridcolor": "white",
             "linecolor": "white",
             "minorgridcolor": "white",
             "startlinecolor": "#2a3f5f"
            },
            "baxis": {
             "endlinecolor": "#2a3f5f",
             "gridcolor": "white",
             "linecolor": "white",
             "minorgridcolor": "white",
             "startlinecolor": "#2a3f5f"
            },
            "type": "carpet"
           }
          ],
          "choropleth": [
           {
            "colorbar": {
             "outlinewidth": 0,
             "ticks": ""
            },
            "type": "choropleth"
           }
          ],
          "contour": [
           {
            "colorbar": {
             "outlinewidth": 0,
             "ticks": ""
            },
            "colorscale": [
             [
              0,
              "#0d0887"
             ],
             [
              0.1111111111111111,
              "#46039f"
             ],
             [
              0.2222222222222222,
              "#7201a8"
             ],
             [
              0.3333333333333333,
              "#9c179e"
             ],
             [
              0.4444444444444444,
              "#bd3786"
             ],
             [
              0.5555555555555556,
              "#d8576b"
             ],
             [
              0.6666666666666666,
              "#ed7953"
             ],
             [
              0.7777777777777778,
              "#fb9f3a"
             ],
             [
              0.8888888888888888,
              "#fdca26"
             ],
             [
              1,
              "#f0f921"
             ]
            ],
            "type": "contour"
           }
          ],
          "contourcarpet": [
           {
            "colorbar": {
             "outlinewidth": 0,
             "ticks": ""
            },
            "type": "contourcarpet"
           }
          ],
          "heatmap": [
           {
            "colorbar": {
             "outlinewidth": 0,
             "ticks": ""
            },
            "colorscale": [
             [
              0,
              "#0d0887"
             ],
             [
              0.1111111111111111,
              "#46039f"
             ],
             [
              0.2222222222222222,
              "#7201a8"
             ],
             [
              0.3333333333333333,
              "#9c179e"
             ],
             [
              0.4444444444444444,
              "#bd3786"
             ],
             [
              0.5555555555555556,
              "#d8576b"
             ],
             [
              0.6666666666666666,
              "#ed7953"
             ],
             [
              0.7777777777777778,
              "#fb9f3a"
             ],
             [
              0.8888888888888888,
              "#fdca26"
             ],
             [
              1,
              "#f0f921"
             ]
            ],
            "type": "heatmap"
           }
          ],
          "heatmapgl": [
           {
            "colorbar": {
             "outlinewidth": 0,
             "ticks": ""
            },
            "colorscale": [
             [
              0,
              "#0d0887"
             ],
             [
              0.1111111111111111,
              "#46039f"
             ],
             [
              0.2222222222222222,
              "#7201a8"
             ],
             [
              0.3333333333333333,
              "#9c179e"
             ],
             [
              0.4444444444444444,
              "#bd3786"
             ],
             [
              0.5555555555555556,
              "#d8576b"
             ],
             [
              0.6666666666666666,
              "#ed7953"
             ],
             [
              0.7777777777777778,
              "#fb9f3a"
             ],
             [
              0.8888888888888888,
              "#fdca26"
             ],
             [
              1,
              "#f0f921"
             ]
            ],
            "type": "heatmapgl"
           }
          ],
          "histogram": [
           {
            "marker": {
             "pattern": {
              "fillmode": "overlay",
              "size": 10,
              "solidity": 0.2
             }
            },
            "type": "histogram"
           }
          ],
          "histogram2d": [
           {
            "colorbar": {
             "outlinewidth": 0,
             "ticks": ""
            },
            "colorscale": [
             [
              0,
              "#0d0887"
             ],
             [
              0.1111111111111111,
              "#46039f"
             ],
             [
              0.2222222222222222,
              "#7201a8"
             ],
             [
              0.3333333333333333,
              "#9c179e"
             ],
             [
              0.4444444444444444,
              "#bd3786"
             ],
             [
              0.5555555555555556,
              "#d8576b"
             ],
             [
              0.6666666666666666,
              "#ed7953"
             ],
             [
              0.7777777777777778,
              "#fb9f3a"
             ],
             [
              0.8888888888888888,
              "#fdca26"
             ],
             [
              1,
              "#f0f921"
             ]
            ],
            "type": "histogram2d"
           }
          ],
          "histogram2dcontour": [
           {
            "colorbar": {
             "outlinewidth": 0,
             "ticks": ""
            },
            "colorscale": [
             [
              0,
              "#0d0887"
             ],
             [
              0.1111111111111111,
              "#46039f"
             ],
             [
              0.2222222222222222,
              "#7201a8"
             ],
             [
              0.3333333333333333,
              "#9c179e"
             ],
             [
              0.4444444444444444,
              "#bd3786"
             ],
             [
              0.5555555555555556,
              "#d8576b"
             ],
             [
              0.6666666666666666,
              "#ed7953"
             ],
             [
              0.7777777777777778,
              "#fb9f3a"
             ],
             [
              0.8888888888888888,
              "#fdca26"
             ],
             [
              1,
              "#f0f921"
             ]
            ],
            "type": "histogram2dcontour"
           }
          ],
          "mesh3d": [
           {
            "colorbar": {
             "outlinewidth": 0,
             "ticks": ""
            },
            "type": "mesh3d"
           }
          ],
          "parcoords": [
           {
            "line": {
             "colorbar": {
              "outlinewidth": 0,
              "ticks": ""
             }
            },
            "type": "parcoords"
           }
          ],
          "pie": [
           {
            "automargin": true,
            "type": "pie"
           }
          ],
          "scatter": [
           {
            "fillpattern": {
             "fillmode": "overlay",
             "size": 10,
             "solidity": 0.2
            },
            "type": "scatter"
           }
          ],
          "scatter3d": [
           {
            "line": {
             "colorbar": {
              "outlinewidth": 0,
              "ticks": ""
             }
            },
            "marker": {
             "colorbar": {
              "outlinewidth": 0,
              "ticks": ""
             }
            },
            "type": "scatter3d"
           }
          ],
          "scattercarpet": [
           {
            "marker": {
             "colorbar": {
              "outlinewidth": 0,
              "ticks": ""
             }
            },
            "type": "scattercarpet"
           }
          ],
          "scattergeo": [
           {
            "marker": {
             "colorbar": {
              "outlinewidth": 0,
              "ticks": ""
             }
            },
            "type": "scattergeo"
           }
          ],
          "scattergl": [
           {
            "marker": {
             "colorbar": {
              "outlinewidth": 0,
              "ticks": ""
             }
            },
            "type": "scattergl"
           }
          ],
          "scattermapbox": [
           {
            "marker": {
             "colorbar": {
              "outlinewidth": 0,
              "ticks": ""
             }
            },
            "type": "scattermapbox"
           }
          ],
          "scatterpolar": [
           {
            "marker": {
             "colorbar": {
              "outlinewidth": 0,
              "ticks": ""
             }
            },
            "type": "scatterpolar"
           }
          ],
          "scatterpolargl": [
           {
            "marker": {
             "colorbar": {
              "outlinewidth": 0,
              "ticks": ""
             }
            },
            "type": "scatterpolargl"
           }
          ],
          "scatterternary": [
           {
            "marker": {
             "colorbar": {
              "outlinewidth": 0,
              "ticks": ""
             }
            },
            "type": "scatterternary"
           }
          ],
          "surface": [
           {
            "colorbar": {
             "outlinewidth": 0,
             "ticks": ""
            },
            "colorscale": [
             [
              0,
              "#0d0887"
             ],
             [
              0.1111111111111111,
              "#46039f"
             ],
             [
              0.2222222222222222,
              "#7201a8"
             ],
             [
              0.3333333333333333,
              "#9c179e"
             ],
             [
              0.4444444444444444,
              "#bd3786"
             ],
             [
              0.5555555555555556,
              "#d8576b"
             ],
             [
              0.6666666666666666,
              "#ed7953"
             ],
             [
              0.7777777777777778,
              "#fb9f3a"
             ],
             [
              0.8888888888888888,
              "#fdca26"
             ],
             [
              1,
              "#f0f921"
             ]
            ],
            "type": "surface"
           }
          ],
          "table": [
           {
            "cells": {
             "fill": {
              "color": "#EBF0F8"
             },
             "line": {
              "color": "white"
             }
            },
            "header": {
             "fill": {
              "color": "#C8D4E3"
             },
             "line": {
              "color": "white"
             }
            },
            "type": "table"
           }
          ]
         },
         "layout": {
          "annotationdefaults": {
           "arrowcolor": "#2a3f5f",
           "arrowhead": 0,
           "arrowwidth": 1
          },
          "autotypenumbers": "strict",
          "coloraxis": {
           "colorbar": {
            "outlinewidth": 0,
            "ticks": ""
           }
          },
          "colorscale": {
           "diverging": [
            [
             0,
             "#8e0152"
            ],
            [
             0.1,
             "#c51b7d"
            ],
            [
             0.2,
             "#de77ae"
            ],
            [
             0.3,
             "#f1b6da"
            ],
            [
             0.4,
             "#fde0ef"
            ],
            [
             0.5,
             "#f7f7f7"
            ],
            [
             0.6,
             "#e6f5d0"
            ],
            [
             0.7,
             "#b8e186"
            ],
            [
             0.8,
             "#7fbc41"
            ],
            [
             0.9,
             "#4d9221"
            ],
            [
             1,
             "#276419"
            ]
           ],
           "sequential": [
            [
             0,
             "#0d0887"
            ],
            [
             0.1111111111111111,
             "#46039f"
            ],
            [
             0.2222222222222222,
             "#7201a8"
            ],
            [
             0.3333333333333333,
             "#9c179e"
            ],
            [
             0.4444444444444444,
             "#bd3786"
            ],
            [
             0.5555555555555556,
             "#d8576b"
            ],
            [
             0.6666666666666666,
             "#ed7953"
            ],
            [
             0.7777777777777778,
             "#fb9f3a"
            ],
            [
             0.8888888888888888,
             "#fdca26"
            ],
            [
             1,
             "#f0f921"
            ]
           ],
           "sequentialminus": [
            [
             0,
             "#0d0887"
            ],
            [
             0.1111111111111111,
             "#46039f"
            ],
            [
             0.2222222222222222,
             "#7201a8"
            ],
            [
             0.3333333333333333,
             "#9c179e"
            ],
            [
             0.4444444444444444,
             "#bd3786"
            ],
            [
             0.5555555555555556,
             "#d8576b"
            ],
            [
             0.6666666666666666,
             "#ed7953"
            ],
            [
             0.7777777777777778,
             "#fb9f3a"
            ],
            [
             0.8888888888888888,
             "#fdca26"
            ],
            [
             1,
             "#f0f921"
            ]
           ]
          },
          "colorway": [
           "#636efa",
           "#EF553B",
           "#00cc96",
           "#ab63fa",
           "#FFA15A",
           "#19d3f3",
           "#FF6692",
           "#B6E880",
           "#FF97FF",
           "#FECB52"
          ],
          "font": {
           "color": "#2a3f5f"
          },
          "geo": {
           "bgcolor": "white",
           "lakecolor": "white",
           "landcolor": "#E5ECF6",
           "showlakes": true,
           "showland": true,
           "subunitcolor": "white"
          },
          "hoverlabel": {
           "align": "left"
          },
          "hovermode": "closest",
          "mapbox": {
           "style": "light"
          },
          "paper_bgcolor": "white",
          "plot_bgcolor": "#E5ECF6",
          "polar": {
           "angularaxis": {
            "gridcolor": "white",
            "linecolor": "white",
            "ticks": ""
           },
           "bgcolor": "#E5ECF6",
           "radialaxis": {
            "gridcolor": "white",
            "linecolor": "white",
            "ticks": ""
           }
          },
          "scene": {
           "xaxis": {
            "backgroundcolor": "#E5ECF6",
            "gridcolor": "white",
            "gridwidth": 2,
            "linecolor": "white",
            "showbackground": true,
            "ticks": "",
            "zerolinecolor": "white"
           },
           "yaxis": {
            "backgroundcolor": "#E5ECF6",
            "gridcolor": "white",
            "gridwidth": 2,
            "linecolor": "white",
            "showbackground": true,
            "ticks": "",
            "zerolinecolor": "white"
           },
           "zaxis": {
            "backgroundcolor": "#E5ECF6",
            "gridcolor": "white",
            "gridwidth": 2,
            "linecolor": "white",
            "showbackground": true,
            "ticks": "",
            "zerolinecolor": "white"
           }
          },
          "shapedefaults": {
           "line": {
            "color": "#2a3f5f"
           }
          },
          "ternary": {
           "aaxis": {
            "gridcolor": "white",
            "linecolor": "white",
            "ticks": ""
           },
           "baxis": {
            "gridcolor": "white",
            "linecolor": "white",
            "ticks": ""
           },
           "bgcolor": "#E5ECF6",
           "caxis": {
            "gridcolor": "white",
            "linecolor": "white",
            "ticks": ""
           }
          },
          "title": {
           "x": 0.05
          },
          "xaxis": {
           "automargin": true,
           "gridcolor": "white",
           "linecolor": "white",
           "ticks": "",
           "title": {
            "standoff": 15
           },
           "zerolinecolor": "white",
           "zerolinewidth": 2
          },
          "yaxis": {
           "automargin": true,
           "gridcolor": "white",
           "linecolor": "white",
           "ticks": "",
           "title": {
            "standoff": 15
           },
           "zerolinecolor": "white",
           "zerolinewidth": 2
          }
         }
        },
        "title": {
         "font": {
          "size": 24
         },
         "text": "Matrice de confusion : Decision Tree",
         "x": 0.5
        },
        "width": 600,
        "xaxis": {
         "tickfont": {
          "size": 14
         },
         "title": {
          "text": "Labels prédits"
         }
        },
        "yaxis": {
         "tickfont": {
          "size": 14
         },
         "title": {
          "text": "Vrais labels"
         }
        }
       }
      }
     },
     "metadata": {},
     "output_type": "display_data"
    },
    {
     "data": {
      "text/html": [
       "<style type=\"text/css\">\n",
       "#T_be6a7 th {\n",
       "  background-color: steelblue;\n",
       "  color: white;\n",
       "}\n",
       "#T_be6a7 tr:nth-of-type(odd) {\n",
       "  background-color: aliceblue;\n",
       "}\n",
       "#T_be6a7 tr:nth-of-type(even) {\n",
       "  background-color: white;\n",
       "}\n",
       "</style>\n",
       "<table id=\"T_be6a7\">\n",
       "  <thead>\n",
       "    <tr>\n",
       "      <th class=\"blank level0\" >&nbsp;</th>\n",
       "      <th id=\"T_be6a7_level0_col0\" class=\"col_heading level0 col0\" >precision</th>\n",
       "      <th id=\"T_be6a7_level0_col1\" class=\"col_heading level0 col1\" >recall</th>\n",
       "      <th id=\"T_be6a7_level0_col2\" class=\"col_heading level0 col2\" >f1-score</th>\n",
       "      <th id=\"T_be6a7_level0_col3\" class=\"col_heading level0 col3\" >support</th>\n",
       "    </tr>\n",
       "  </thead>\n",
       "  <tbody>\n",
       "    <tr>\n",
       "      <th id=\"T_be6a7_level0_row0\" class=\"row_heading level0 row0\" >A</th>\n",
       "      <td id=\"T_be6a7_row0_col0\" class=\"data row0 col0\" >0.924</td>\n",
       "      <td id=\"T_be6a7_row0_col1\" class=\"data row0 col1\" >0.950</td>\n",
       "      <td id=\"T_be6a7_row0_col2\" class=\"data row0 col2\" >0.937</td>\n",
       "      <td id=\"T_be6a7_row0_col3\" class=\"data row0 col3\" >242.000</td>\n",
       "    </tr>\n",
       "    <tr>\n",
       "      <th id=\"T_be6a7_level0_row1\" class=\"row_heading level0 row1\" >B</th>\n",
       "      <td id=\"T_be6a7_row1_col0\" class=\"data row1 col0\" >0.707</td>\n",
       "      <td id=\"T_be6a7_row1_col1\" class=\"data row1 col1\" >0.631</td>\n",
       "      <td id=\"T_be6a7_row1_col2\" class=\"data row1 col2\" >0.667</td>\n",
       "      <td id=\"T_be6a7_row1_col3\" class=\"data row1 col3\" >130.000</td>\n",
       "    </tr>\n",
       "    <tr>\n",
       "      <th id=\"T_be6a7_level0_row2\" class=\"row_heading level0 row2\" >C</th>\n",
       "      <td id=\"T_be6a7_row2_col0\" class=\"data row2 col0\" >0.770</td>\n",
       "      <td id=\"T_be6a7_row2_col1\" class=\"data row2 col1\" >0.794</td>\n",
       "      <td id=\"T_be6a7_row2_col2\" class=\"data row2 col2\" >0.782</td>\n",
       "      <td id=\"T_be6a7_row2_col3\" class=\"data row2 col3\" >417.000</td>\n",
       "    </tr>\n",
       "    <tr>\n",
       "      <th id=\"T_be6a7_level0_row3\" class=\"row_heading level0 row3\" >D</th>\n",
       "      <td id=\"T_be6a7_row3_col0\" class=\"data row3 col0\" >0.726</td>\n",
       "      <td id=\"T_be6a7_row3_col1\" class=\"data row3 col1\" >0.726</td>\n",
       "      <td id=\"T_be6a7_row3_col2\" class=\"data row3 col2\" >0.726</td>\n",
       "      <td id=\"T_be6a7_row3_col3\" class=\"data row3 col3\" >369.000</td>\n",
       "    </tr>\n",
       "    <tr>\n",
       "      <th id=\"T_be6a7_level0_row4\" class=\"row_heading level0 row4\" >E</th>\n",
       "      <td id=\"T_be6a7_row4_col0\" class=\"data row4 col0\" >0.842</td>\n",
       "      <td id=\"T_be6a7_row4_col1\" class=\"data row4 col1\" >0.834</td>\n",
       "      <td id=\"T_be6a7_row4_col2\" class=\"data row4 col2\" >0.838</td>\n",
       "      <td id=\"T_be6a7_row4_col3\" class=\"data row4 col3\" >397.000</td>\n",
       "    </tr>\n",
       "    <tr>\n",
       "      <th id=\"T_be6a7_level0_row5\" class=\"row_heading level0 row5\" >F</th>\n",
       "      <td id=\"T_be6a7_row5_col0\" class=\"data row5 col0\" >0.845</td>\n",
       "      <td id=\"T_be6a7_row5_col1\" class=\"data row5 col1\" >0.824</td>\n",
       "      <td id=\"T_be6a7_row5_col2\" class=\"data row5 col2\" >0.835</td>\n",
       "      <td id=\"T_be6a7_row5_col3\" class=\"data row5 col3\" >205.000</td>\n",
       "    </tr>\n",
       "    <tr>\n",
       "      <th id=\"T_be6a7_level0_row6\" class=\"row_heading level0 row6\" >G</th>\n",
       "      <td id=\"T_be6a7_row6_col0\" class=\"data row6 col0\" >0.898</td>\n",
       "      <td id=\"T_be6a7_row6_col1\" class=\"data row6 col1\" >0.919</td>\n",
       "      <td id=\"T_be6a7_row6_col2\" class=\"data row6 col2\" >0.908</td>\n",
       "      <td id=\"T_be6a7_row6_col3\" class=\"data row6 col3\" >124.000</td>\n",
       "    </tr>\n",
       "    <tr>\n",
       "      <th id=\"T_be6a7_level0_row7\" class=\"row_heading level0 row7\" >accuracy</th>\n",
       "      <td id=\"T_be6a7_row7_col0\" class=\"data row7 col0\" >0.809</td>\n",
       "      <td id=\"T_be6a7_row7_col1\" class=\"data row7 col1\" >0.809</td>\n",
       "      <td id=\"T_be6a7_row7_col2\" class=\"data row7 col2\" >0.809</td>\n",
       "      <td id=\"T_be6a7_row7_col3\" class=\"data row7 col3\" >0.809</td>\n",
       "    </tr>\n",
       "    <tr>\n",
       "      <th id=\"T_be6a7_level0_row8\" class=\"row_heading level0 row8\" >macro avg</th>\n",
       "      <td id=\"T_be6a7_row8_col0\" class=\"data row8 col0\" >0.816</td>\n",
       "      <td id=\"T_be6a7_row8_col1\" class=\"data row8 col1\" >0.811</td>\n",
       "      <td id=\"T_be6a7_row8_col2\" class=\"data row8 col2\" >0.813</td>\n",
       "      <td id=\"T_be6a7_row8_col3\" class=\"data row8 col3\" >1884.000</td>\n",
       "    </tr>\n",
       "    <tr>\n",
       "      <th id=\"T_be6a7_level0_row9\" class=\"row_heading level0 row9\" >weighted avg</th>\n",
       "      <td id=\"T_be6a7_row9_col0\" class=\"data row9 col0\" >0.809</td>\n",
       "      <td id=\"T_be6a7_row9_col1\" class=\"data row9 col1\" >0.809</td>\n",
       "      <td id=\"T_be6a7_row9_col2\" class=\"data row9 col2\" >0.809</td>\n",
       "      <td id=\"T_be6a7_row9_col3\" class=\"data row9 col3\" >1884.000</td>\n",
       "    </tr>\n",
       "  </tbody>\n",
       "</table>\n"
      ],
      "text/plain": [
       "<pandas.io.formats.style.Styler at 0x7f8291743460>"
      ]
     },
     "metadata": {},
     "output_type": "display_data"
    },
    {
     "name": "stdout",
     "output_type": "stream",
     "text": [
      "<class 'pandas.io.formats.style.Styler'>\n",
      "CPU times: user 103 ms, sys: 19.7 ms, total: 123 ms\n",
      "Wall time: 468 ms\n"
     ]
    }
   ],
   "source": [
    "%%time\n",
    "dtc = DecisionTreeClassifier(criterion='gini', max_depth=20)\n",
    "dtc.fit(X_train, y_train)\n",
    "dtc_pred = dtc.predict(X_test)\n",
    "\n",
    "co2.viz.plot_confusion_matrix(y_test, dtc_pred, classes=dtc.classes_, title=': Decision Tree', save=True, format='png')\n",
    "co2.styles.display_classification_report(y_test, dtc_pred)\n"
   ]
  },
  {
   "cell_type": "code",
   "execution_count": 11,
   "metadata": {},
   "outputs": [
    {
     "data": {
      "application/vnd.plotly.v1+json": {
       "config": {
        "plotlyServerURL": "https://plot.ly"
       },
       "data": [
        {
         "colorscale": [
          [
           0,
           "rgb(247,252,245)"
          ],
          [
           0.125,
           "rgb(229,245,224)"
          ],
          [
           0.25,
           "rgb(199,233,192)"
          ],
          [
           0.375,
           "rgb(161,217,155)"
          ],
          [
           0.5,
           "rgb(116,196,118)"
          ],
          [
           0.625,
           "rgb(65,171,93)"
          ],
          [
           0.75,
           "rgb(35,139,69)"
          ],
          [
           0.875,
           "rgb(0,109,44)"
          ],
          [
           1,
           "rgb(0,68,27)"
          ]
         ],
         "type": "heatmap",
         "x": [
          0,
          1,
          2,
          3,
          4,
          5,
          6
         ],
         "y": [
          0,
          1,
          2,
          3,
          4,
          5,
          6
         ],
         "z": [
          [
           235,
           3,
           2,
           1,
           1,
           0,
           0
          ],
          [
           4,
           88,
           33,
           1,
           4,
           0,
           0
          ],
          [
           0,
           19,
           358,
           38,
           1,
           1,
           0
          ],
          [
           4,
           0,
           49,
           293,
           23,
           0,
           0
          ],
          [
           1,
           0,
           5,
           30,
           348,
           13,
           0
          ],
          [
           4,
           0,
           0,
           1,
           12,
           177,
           11
          ],
          [
           1,
           0,
           0,
           0,
           0,
           7,
           116
          ]
         ]
        }
       ],
       "layout": {
        "annotations": [
         {
          "font": {
           "color": "white",
           "size": 16
          },
          "showarrow": false,
          "text": "235",
          "x": 0,
          "y": 0
         },
         {
          "font": {
           "color": "black",
           "size": 16
          },
          "showarrow": false,
          "text": "3",
          "x": 1,
          "y": 0
         },
         {
          "font": {
           "color": "black",
           "size": 16
          },
          "showarrow": false,
          "text": "2",
          "x": 2,
          "y": 0
         },
         {
          "font": {
           "color": "black",
           "size": 16
          },
          "showarrow": false,
          "text": "1",
          "x": 3,
          "y": 0
         },
         {
          "font": {
           "color": "black",
           "size": 16
          },
          "showarrow": false,
          "text": "1",
          "x": 4,
          "y": 0
         },
         {
          "font": {
           "color": "black",
           "size": 16
          },
          "showarrow": false,
          "text": "0",
          "x": 5,
          "y": 0
         },
         {
          "font": {
           "color": "black",
           "size": 16
          },
          "showarrow": false,
          "text": "0",
          "x": 6,
          "y": 0
         },
         {
          "font": {
           "color": "black",
           "size": 16
          },
          "showarrow": false,
          "text": "4",
          "x": 0,
          "y": 1
         },
         {
          "font": {
           "color": "black",
           "size": 16
          },
          "showarrow": false,
          "text": "88",
          "x": 1,
          "y": 1
         },
         {
          "font": {
           "color": "black",
           "size": 16
          },
          "showarrow": false,
          "text": "33",
          "x": 2,
          "y": 1
         },
         {
          "font": {
           "color": "black",
           "size": 16
          },
          "showarrow": false,
          "text": "1",
          "x": 3,
          "y": 1
         },
         {
          "font": {
           "color": "black",
           "size": 16
          },
          "showarrow": false,
          "text": "4",
          "x": 4,
          "y": 1
         },
         {
          "font": {
           "color": "black",
           "size": 16
          },
          "showarrow": false,
          "text": "0",
          "x": 5,
          "y": 1
         },
         {
          "font": {
           "color": "black",
           "size": 16
          },
          "showarrow": false,
          "text": "0",
          "x": 6,
          "y": 1
         },
         {
          "font": {
           "color": "black",
           "size": 16
          },
          "showarrow": false,
          "text": "0",
          "x": 0,
          "y": 2
         },
         {
          "font": {
           "color": "black",
           "size": 16
          },
          "showarrow": false,
          "text": "19",
          "x": 1,
          "y": 2
         },
         {
          "font": {
           "color": "white",
           "size": 16
          },
          "showarrow": false,
          "text": "358",
          "x": 2,
          "y": 2
         },
         {
          "font": {
           "color": "black",
           "size": 16
          },
          "showarrow": false,
          "text": "38",
          "x": 3,
          "y": 2
         },
         {
          "font": {
           "color": "black",
           "size": 16
          },
          "showarrow": false,
          "text": "1",
          "x": 4,
          "y": 2
         },
         {
          "font": {
           "color": "black",
           "size": 16
          },
          "showarrow": false,
          "text": "1",
          "x": 5,
          "y": 2
         },
         {
          "font": {
           "color": "black",
           "size": 16
          },
          "showarrow": false,
          "text": "0",
          "x": 6,
          "y": 2
         },
         {
          "font": {
           "color": "black",
           "size": 16
          },
          "showarrow": false,
          "text": "4",
          "x": 0,
          "y": 3
         },
         {
          "font": {
           "color": "black",
           "size": 16
          },
          "showarrow": false,
          "text": "0",
          "x": 1,
          "y": 3
         },
         {
          "font": {
           "color": "black",
           "size": 16
          },
          "showarrow": false,
          "text": "49",
          "x": 2,
          "y": 3
         },
         {
          "font": {
           "color": "white",
           "size": 16
          },
          "showarrow": false,
          "text": "293",
          "x": 3,
          "y": 3
         },
         {
          "font": {
           "color": "black",
           "size": 16
          },
          "showarrow": false,
          "text": "23",
          "x": 4,
          "y": 3
         },
         {
          "font": {
           "color": "black",
           "size": 16
          },
          "showarrow": false,
          "text": "0",
          "x": 5,
          "y": 3
         },
         {
          "font": {
           "color": "black",
           "size": 16
          },
          "showarrow": false,
          "text": "0",
          "x": 6,
          "y": 3
         },
         {
          "font": {
           "color": "black",
           "size": 16
          },
          "showarrow": false,
          "text": "1",
          "x": 0,
          "y": 4
         },
         {
          "font": {
           "color": "black",
           "size": 16
          },
          "showarrow": false,
          "text": "0",
          "x": 1,
          "y": 4
         },
         {
          "font": {
           "color": "black",
           "size": 16
          },
          "showarrow": false,
          "text": "5",
          "x": 2,
          "y": 4
         },
         {
          "font": {
           "color": "black",
           "size": 16
          },
          "showarrow": false,
          "text": "30",
          "x": 3,
          "y": 4
         },
         {
          "font": {
           "color": "white",
           "size": 16
          },
          "showarrow": false,
          "text": "348",
          "x": 4,
          "y": 4
         },
         {
          "font": {
           "color": "black",
           "size": 16
          },
          "showarrow": false,
          "text": "13",
          "x": 5,
          "y": 4
         },
         {
          "font": {
           "color": "black",
           "size": 16
          },
          "showarrow": false,
          "text": "0",
          "x": 6,
          "y": 4
         },
         {
          "font": {
           "color": "black",
           "size": 16
          },
          "showarrow": false,
          "text": "4",
          "x": 0,
          "y": 5
         },
         {
          "font": {
           "color": "black",
           "size": 16
          },
          "showarrow": false,
          "text": "0",
          "x": 1,
          "y": 5
         },
         {
          "font": {
           "color": "black",
           "size": 16
          },
          "showarrow": false,
          "text": "0",
          "x": 2,
          "y": 5
         },
         {
          "font": {
           "color": "black",
           "size": 16
          },
          "showarrow": false,
          "text": "1",
          "x": 3,
          "y": 5
         },
         {
          "font": {
           "color": "black",
           "size": 16
          },
          "showarrow": false,
          "text": "12",
          "x": 4,
          "y": 5
         },
         {
          "font": {
           "color": "black",
           "size": 16
          },
          "showarrow": false,
          "text": "177",
          "x": 5,
          "y": 5
         },
         {
          "font": {
           "color": "black",
           "size": 16
          },
          "showarrow": false,
          "text": "11",
          "x": 6,
          "y": 5
         },
         {
          "font": {
           "color": "black",
           "size": 16
          },
          "showarrow": false,
          "text": "1",
          "x": 0,
          "y": 6
         },
         {
          "font": {
           "color": "black",
           "size": 16
          },
          "showarrow": false,
          "text": "0",
          "x": 1,
          "y": 6
         },
         {
          "font": {
           "color": "black",
           "size": 16
          },
          "showarrow": false,
          "text": "0",
          "x": 2,
          "y": 6
         },
         {
          "font": {
           "color": "black",
           "size": 16
          },
          "showarrow": false,
          "text": "0",
          "x": 3,
          "y": 6
         },
         {
          "font": {
           "color": "black",
           "size": 16
          },
          "showarrow": false,
          "text": "0",
          "x": 4,
          "y": 6
         },
         {
          "font": {
           "color": "black",
           "size": 16
          },
          "showarrow": false,
          "text": "7",
          "x": 5,
          "y": 6
         },
         {
          "font": {
           "color": "black",
           "size": 16
          },
          "showarrow": false,
          "text": "116",
          "x": 6,
          "y": 6
         }
        ],
        "autosize": false,
        "height": 600,
        "template": {
         "data": {
          "bar": [
           {
            "error_x": {
             "color": "#2a3f5f"
            },
            "error_y": {
             "color": "#2a3f5f"
            },
            "marker": {
             "line": {
              "color": "#E5ECF6",
              "width": 0.5
             },
             "pattern": {
              "fillmode": "overlay",
              "size": 10,
              "solidity": 0.2
             }
            },
            "type": "bar"
           }
          ],
          "barpolar": [
           {
            "marker": {
             "line": {
              "color": "#E5ECF6",
              "width": 0.5
             },
             "pattern": {
              "fillmode": "overlay",
              "size": 10,
              "solidity": 0.2
             }
            },
            "type": "barpolar"
           }
          ],
          "carpet": [
           {
            "aaxis": {
             "endlinecolor": "#2a3f5f",
             "gridcolor": "white",
             "linecolor": "white",
             "minorgridcolor": "white",
             "startlinecolor": "#2a3f5f"
            },
            "baxis": {
             "endlinecolor": "#2a3f5f",
             "gridcolor": "white",
             "linecolor": "white",
             "minorgridcolor": "white",
             "startlinecolor": "#2a3f5f"
            },
            "type": "carpet"
           }
          ],
          "choropleth": [
           {
            "colorbar": {
             "outlinewidth": 0,
             "ticks": ""
            },
            "type": "choropleth"
           }
          ],
          "contour": [
           {
            "colorbar": {
             "outlinewidth": 0,
             "ticks": ""
            },
            "colorscale": [
             [
              0,
              "#0d0887"
             ],
             [
              0.1111111111111111,
              "#46039f"
             ],
             [
              0.2222222222222222,
              "#7201a8"
             ],
             [
              0.3333333333333333,
              "#9c179e"
             ],
             [
              0.4444444444444444,
              "#bd3786"
             ],
             [
              0.5555555555555556,
              "#d8576b"
             ],
             [
              0.6666666666666666,
              "#ed7953"
             ],
             [
              0.7777777777777778,
              "#fb9f3a"
             ],
             [
              0.8888888888888888,
              "#fdca26"
             ],
             [
              1,
              "#f0f921"
             ]
            ],
            "type": "contour"
           }
          ],
          "contourcarpet": [
           {
            "colorbar": {
             "outlinewidth": 0,
             "ticks": ""
            },
            "type": "contourcarpet"
           }
          ],
          "heatmap": [
           {
            "colorbar": {
             "outlinewidth": 0,
             "ticks": ""
            },
            "colorscale": [
             [
              0,
              "#0d0887"
             ],
             [
              0.1111111111111111,
              "#46039f"
             ],
             [
              0.2222222222222222,
              "#7201a8"
             ],
             [
              0.3333333333333333,
              "#9c179e"
             ],
             [
              0.4444444444444444,
              "#bd3786"
             ],
             [
              0.5555555555555556,
              "#d8576b"
             ],
             [
              0.6666666666666666,
              "#ed7953"
             ],
             [
              0.7777777777777778,
              "#fb9f3a"
             ],
             [
              0.8888888888888888,
              "#fdca26"
             ],
             [
              1,
              "#f0f921"
             ]
            ],
            "type": "heatmap"
           }
          ],
          "heatmapgl": [
           {
            "colorbar": {
             "outlinewidth": 0,
             "ticks": ""
            },
            "colorscale": [
             [
              0,
              "#0d0887"
             ],
             [
              0.1111111111111111,
              "#46039f"
             ],
             [
              0.2222222222222222,
              "#7201a8"
             ],
             [
              0.3333333333333333,
              "#9c179e"
             ],
             [
              0.4444444444444444,
              "#bd3786"
             ],
             [
              0.5555555555555556,
              "#d8576b"
             ],
             [
              0.6666666666666666,
              "#ed7953"
             ],
             [
              0.7777777777777778,
              "#fb9f3a"
             ],
             [
              0.8888888888888888,
              "#fdca26"
             ],
             [
              1,
              "#f0f921"
             ]
            ],
            "type": "heatmapgl"
           }
          ],
          "histogram": [
           {
            "marker": {
             "pattern": {
              "fillmode": "overlay",
              "size": 10,
              "solidity": 0.2
             }
            },
            "type": "histogram"
           }
          ],
          "histogram2d": [
           {
            "colorbar": {
             "outlinewidth": 0,
             "ticks": ""
            },
            "colorscale": [
             [
              0,
              "#0d0887"
             ],
             [
              0.1111111111111111,
              "#46039f"
             ],
             [
              0.2222222222222222,
              "#7201a8"
             ],
             [
              0.3333333333333333,
              "#9c179e"
             ],
             [
              0.4444444444444444,
              "#bd3786"
             ],
             [
              0.5555555555555556,
              "#d8576b"
             ],
             [
              0.6666666666666666,
              "#ed7953"
             ],
             [
              0.7777777777777778,
              "#fb9f3a"
             ],
             [
              0.8888888888888888,
              "#fdca26"
             ],
             [
              1,
              "#f0f921"
             ]
            ],
            "type": "histogram2d"
           }
          ],
          "histogram2dcontour": [
           {
            "colorbar": {
             "outlinewidth": 0,
             "ticks": ""
            },
            "colorscale": [
             [
              0,
              "#0d0887"
             ],
             [
              0.1111111111111111,
              "#46039f"
             ],
             [
              0.2222222222222222,
              "#7201a8"
             ],
             [
              0.3333333333333333,
              "#9c179e"
             ],
             [
              0.4444444444444444,
              "#bd3786"
             ],
             [
              0.5555555555555556,
              "#d8576b"
             ],
             [
              0.6666666666666666,
              "#ed7953"
             ],
             [
              0.7777777777777778,
              "#fb9f3a"
             ],
             [
              0.8888888888888888,
              "#fdca26"
             ],
             [
              1,
              "#f0f921"
             ]
            ],
            "type": "histogram2dcontour"
           }
          ],
          "mesh3d": [
           {
            "colorbar": {
             "outlinewidth": 0,
             "ticks": ""
            },
            "type": "mesh3d"
           }
          ],
          "parcoords": [
           {
            "line": {
             "colorbar": {
              "outlinewidth": 0,
              "ticks": ""
             }
            },
            "type": "parcoords"
           }
          ],
          "pie": [
           {
            "automargin": true,
            "type": "pie"
           }
          ],
          "scatter": [
           {
            "fillpattern": {
             "fillmode": "overlay",
             "size": 10,
             "solidity": 0.2
            },
            "type": "scatter"
           }
          ],
          "scatter3d": [
           {
            "line": {
             "colorbar": {
              "outlinewidth": 0,
              "ticks": ""
             }
            },
            "marker": {
             "colorbar": {
              "outlinewidth": 0,
              "ticks": ""
             }
            },
            "type": "scatter3d"
           }
          ],
          "scattercarpet": [
           {
            "marker": {
             "colorbar": {
              "outlinewidth": 0,
              "ticks": ""
             }
            },
            "type": "scattercarpet"
           }
          ],
          "scattergeo": [
           {
            "marker": {
             "colorbar": {
              "outlinewidth": 0,
              "ticks": ""
             }
            },
            "type": "scattergeo"
           }
          ],
          "scattergl": [
           {
            "marker": {
             "colorbar": {
              "outlinewidth": 0,
              "ticks": ""
             }
            },
            "type": "scattergl"
           }
          ],
          "scattermapbox": [
           {
            "marker": {
             "colorbar": {
              "outlinewidth": 0,
              "ticks": ""
             }
            },
            "type": "scattermapbox"
           }
          ],
          "scatterpolar": [
           {
            "marker": {
             "colorbar": {
              "outlinewidth": 0,
              "ticks": ""
             }
            },
            "type": "scatterpolar"
           }
          ],
          "scatterpolargl": [
           {
            "marker": {
             "colorbar": {
              "outlinewidth": 0,
              "ticks": ""
             }
            },
            "type": "scatterpolargl"
           }
          ],
          "scatterternary": [
           {
            "marker": {
             "colorbar": {
              "outlinewidth": 0,
              "ticks": ""
             }
            },
            "type": "scatterternary"
           }
          ],
          "surface": [
           {
            "colorbar": {
             "outlinewidth": 0,
             "ticks": ""
            },
            "colorscale": [
             [
              0,
              "#0d0887"
             ],
             [
              0.1111111111111111,
              "#46039f"
             ],
             [
              0.2222222222222222,
              "#7201a8"
             ],
             [
              0.3333333333333333,
              "#9c179e"
             ],
             [
              0.4444444444444444,
              "#bd3786"
             ],
             [
              0.5555555555555556,
              "#d8576b"
             ],
             [
              0.6666666666666666,
              "#ed7953"
             ],
             [
              0.7777777777777778,
              "#fb9f3a"
             ],
             [
              0.8888888888888888,
              "#fdca26"
             ],
             [
              1,
              "#f0f921"
             ]
            ],
            "type": "surface"
           }
          ],
          "table": [
           {
            "cells": {
             "fill": {
              "color": "#EBF0F8"
             },
             "line": {
              "color": "white"
             }
            },
            "header": {
             "fill": {
              "color": "#C8D4E3"
             },
             "line": {
              "color": "white"
             }
            },
            "type": "table"
           }
          ]
         },
         "layout": {
          "annotationdefaults": {
           "arrowcolor": "#2a3f5f",
           "arrowhead": 0,
           "arrowwidth": 1
          },
          "autotypenumbers": "strict",
          "coloraxis": {
           "colorbar": {
            "outlinewidth": 0,
            "ticks": ""
           }
          },
          "colorscale": {
           "diverging": [
            [
             0,
             "#8e0152"
            ],
            [
             0.1,
             "#c51b7d"
            ],
            [
             0.2,
             "#de77ae"
            ],
            [
             0.3,
             "#f1b6da"
            ],
            [
             0.4,
             "#fde0ef"
            ],
            [
             0.5,
             "#f7f7f7"
            ],
            [
             0.6,
             "#e6f5d0"
            ],
            [
             0.7,
             "#b8e186"
            ],
            [
             0.8,
             "#7fbc41"
            ],
            [
             0.9,
             "#4d9221"
            ],
            [
             1,
             "#276419"
            ]
           ],
           "sequential": [
            [
             0,
             "#0d0887"
            ],
            [
             0.1111111111111111,
             "#46039f"
            ],
            [
             0.2222222222222222,
             "#7201a8"
            ],
            [
             0.3333333333333333,
             "#9c179e"
            ],
            [
             0.4444444444444444,
             "#bd3786"
            ],
            [
             0.5555555555555556,
             "#d8576b"
            ],
            [
             0.6666666666666666,
             "#ed7953"
            ],
            [
             0.7777777777777778,
             "#fb9f3a"
            ],
            [
             0.8888888888888888,
             "#fdca26"
            ],
            [
             1,
             "#f0f921"
            ]
           ],
           "sequentialminus": [
            [
             0,
             "#0d0887"
            ],
            [
             0.1111111111111111,
             "#46039f"
            ],
            [
             0.2222222222222222,
             "#7201a8"
            ],
            [
             0.3333333333333333,
             "#9c179e"
            ],
            [
             0.4444444444444444,
             "#bd3786"
            ],
            [
             0.5555555555555556,
             "#d8576b"
            ],
            [
             0.6666666666666666,
             "#ed7953"
            ],
            [
             0.7777777777777778,
             "#fb9f3a"
            ],
            [
             0.8888888888888888,
             "#fdca26"
            ],
            [
             1,
             "#f0f921"
            ]
           ]
          },
          "colorway": [
           "#636efa",
           "#EF553B",
           "#00cc96",
           "#ab63fa",
           "#FFA15A",
           "#19d3f3",
           "#FF6692",
           "#B6E880",
           "#FF97FF",
           "#FECB52"
          ],
          "font": {
           "color": "#2a3f5f"
          },
          "geo": {
           "bgcolor": "white",
           "lakecolor": "white",
           "landcolor": "#E5ECF6",
           "showlakes": true,
           "showland": true,
           "subunitcolor": "white"
          },
          "hoverlabel": {
           "align": "left"
          },
          "hovermode": "closest",
          "mapbox": {
           "style": "light"
          },
          "paper_bgcolor": "white",
          "plot_bgcolor": "#E5ECF6",
          "polar": {
           "angularaxis": {
            "gridcolor": "white",
            "linecolor": "white",
            "ticks": ""
           },
           "bgcolor": "#E5ECF6",
           "radialaxis": {
            "gridcolor": "white",
            "linecolor": "white",
            "ticks": ""
           }
          },
          "scene": {
           "xaxis": {
            "backgroundcolor": "#E5ECF6",
            "gridcolor": "white",
            "gridwidth": 2,
            "linecolor": "white",
            "showbackground": true,
            "ticks": "",
            "zerolinecolor": "white"
           },
           "yaxis": {
            "backgroundcolor": "#E5ECF6",
            "gridcolor": "white",
            "gridwidth": 2,
            "linecolor": "white",
            "showbackground": true,
            "ticks": "",
            "zerolinecolor": "white"
           },
           "zaxis": {
            "backgroundcolor": "#E5ECF6",
            "gridcolor": "white",
            "gridwidth": 2,
            "linecolor": "white",
            "showbackground": true,
            "ticks": "",
            "zerolinecolor": "white"
           }
          },
          "shapedefaults": {
           "line": {
            "color": "#2a3f5f"
           }
          },
          "ternary": {
           "aaxis": {
            "gridcolor": "white",
            "linecolor": "white",
            "ticks": ""
           },
           "baxis": {
            "gridcolor": "white",
            "linecolor": "white",
            "ticks": ""
           },
           "bgcolor": "#E5ECF6",
           "caxis": {
            "gridcolor": "white",
            "linecolor": "white",
            "ticks": ""
           }
          },
          "title": {
           "x": 0.05
          },
          "xaxis": {
           "automargin": true,
           "gridcolor": "white",
           "linecolor": "white",
           "ticks": "",
           "title": {
            "standoff": 15
           },
           "zerolinecolor": "white",
           "zerolinewidth": 2
          },
          "yaxis": {
           "automargin": true,
           "gridcolor": "white",
           "linecolor": "white",
           "ticks": "",
           "title": {
            "standoff": 15
           },
           "zerolinecolor": "white",
           "zerolinewidth": 2
          }
         }
        },
        "title": {
         "font": {
          "size": 24
         },
         "text": "Matrice de confusion : Random Forest",
         "x": 0.5
        },
        "width": 600,
        "xaxis": {
         "tickfont": {
          "size": 14
         },
         "title": {
          "text": "Labels prédits"
         }
        },
        "yaxis": {
         "tickfont": {
          "size": 14
         },
         "title": {
          "text": "Vrais labels"
         }
        }
       }
      }
     },
     "metadata": {},
     "output_type": "display_data"
    },
    {
     "data": {
      "text/html": [
       "<style type=\"text/css\">\n",
       "#T_e9565 th {\n",
       "  background-color: steelblue;\n",
       "  color: white;\n",
       "}\n",
       "#T_e9565 tr:nth-of-type(odd) {\n",
       "  background-color: aliceblue;\n",
       "}\n",
       "#T_e9565 tr:nth-of-type(even) {\n",
       "  background-color: white;\n",
       "}\n",
       "</style>\n",
       "<table id=\"T_e9565\">\n",
       "  <thead>\n",
       "    <tr>\n",
       "      <th class=\"blank level0\" >&nbsp;</th>\n",
       "      <th id=\"T_e9565_level0_col0\" class=\"col_heading level0 col0\" >precision</th>\n",
       "      <th id=\"T_e9565_level0_col1\" class=\"col_heading level0 col1\" >recall</th>\n",
       "      <th id=\"T_e9565_level0_col2\" class=\"col_heading level0 col2\" >f1-score</th>\n",
       "      <th id=\"T_e9565_level0_col3\" class=\"col_heading level0 col3\" >support</th>\n",
       "    </tr>\n",
       "  </thead>\n",
       "  <tbody>\n",
       "    <tr>\n",
       "      <th id=\"T_e9565_level0_row0\" class=\"row_heading level0 row0\" >A</th>\n",
       "      <td id=\"T_e9565_row0_col0\" class=\"data row0 col0\" >0.944</td>\n",
       "      <td id=\"T_e9565_row0_col1\" class=\"data row0 col1\" >0.971</td>\n",
       "      <td id=\"T_e9565_row0_col2\" class=\"data row0 col2\" >0.957</td>\n",
       "      <td id=\"T_e9565_row0_col3\" class=\"data row0 col3\" >242.000</td>\n",
       "    </tr>\n",
       "    <tr>\n",
       "      <th id=\"T_e9565_level0_row1\" class=\"row_heading level0 row1\" >B</th>\n",
       "      <td id=\"T_e9565_row1_col0\" class=\"data row1 col0\" >0.800</td>\n",
       "      <td id=\"T_e9565_row1_col1\" class=\"data row1 col1\" >0.677</td>\n",
       "      <td id=\"T_e9565_row1_col2\" class=\"data row1 col2\" >0.733</td>\n",
       "      <td id=\"T_e9565_row1_col3\" class=\"data row1 col3\" >130.000</td>\n",
       "    </tr>\n",
       "    <tr>\n",
       "      <th id=\"T_e9565_level0_row2\" class=\"row_heading level0 row2\" >C</th>\n",
       "      <td id=\"T_e9565_row2_col0\" class=\"data row2 col0\" >0.801</td>\n",
       "      <td id=\"T_e9565_row2_col1\" class=\"data row2 col1\" >0.859</td>\n",
       "      <td id=\"T_e9565_row2_col2\" class=\"data row2 col2\" >0.829</td>\n",
       "      <td id=\"T_e9565_row2_col3\" class=\"data row2 col3\" >417.000</td>\n",
       "    </tr>\n",
       "    <tr>\n",
       "      <th id=\"T_e9565_level0_row3\" class=\"row_heading level0 row3\" >D</th>\n",
       "      <td id=\"T_e9565_row3_col0\" class=\"data row3 col0\" >0.805</td>\n",
       "      <td id=\"T_e9565_row3_col1\" class=\"data row3 col1\" >0.794</td>\n",
       "      <td id=\"T_e9565_row3_col2\" class=\"data row3 col2\" >0.799</td>\n",
       "      <td id=\"T_e9565_row3_col3\" class=\"data row3 col3\" >369.000</td>\n",
       "    </tr>\n",
       "    <tr>\n",
       "      <th id=\"T_e9565_level0_row4\" class=\"row_heading level0 row4\" >E</th>\n",
       "      <td id=\"T_e9565_row4_col0\" class=\"data row4 col0\" >0.895</td>\n",
       "      <td id=\"T_e9565_row4_col1\" class=\"data row4 col1\" >0.877</td>\n",
       "      <td id=\"T_e9565_row4_col2\" class=\"data row4 col2\" >0.885</td>\n",
       "      <td id=\"T_e9565_row4_col3\" class=\"data row4 col3\" >397.000</td>\n",
       "    </tr>\n",
       "    <tr>\n",
       "      <th id=\"T_e9565_level0_row5\" class=\"row_heading level0 row5\" >F</th>\n",
       "      <td id=\"T_e9565_row5_col0\" class=\"data row5 col0\" >0.894</td>\n",
       "      <td id=\"T_e9565_row5_col1\" class=\"data row5 col1\" >0.863</td>\n",
       "      <td id=\"T_e9565_row5_col2\" class=\"data row5 col2\" >0.878</td>\n",
       "      <td id=\"T_e9565_row5_col3\" class=\"data row5 col3\" >205.000</td>\n",
       "    </tr>\n",
       "    <tr>\n",
       "      <th id=\"T_e9565_level0_row6\" class=\"row_heading level0 row6\" >G</th>\n",
       "      <td id=\"T_e9565_row6_col0\" class=\"data row6 col0\" >0.913</td>\n",
       "      <td id=\"T_e9565_row6_col1\" class=\"data row6 col1\" >0.935</td>\n",
       "      <td id=\"T_e9565_row6_col2\" class=\"data row6 col2\" >0.924</td>\n",
       "      <td id=\"T_e9565_row6_col3\" class=\"data row6 col3\" >124.000</td>\n",
       "    </tr>\n",
       "    <tr>\n",
       "      <th id=\"T_e9565_level0_row7\" class=\"row_heading level0 row7\" >accuracy</th>\n",
       "      <td id=\"T_e9565_row7_col0\" class=\"data row7 col0\" >0.857</td>\n",
       "      <td id=\"T_e9565_row7_col1\" class=\"data row7 col1\" >0.857</td>\n",
       "      <td id=\"T_e9565_row7_col2\" class=\"data row7 col2\" >0.857</td>\n",
       "      <td id=\"T_e9565_row7_col3\" class=\"data row7 col3\" >0.857</td>\n",
       "    </tr>\n",
       "    <tr>\n",
       "      <th id=\"T_e9565_level0_row8\" class=\"row_heading level0 row8\" >macro avg</th>\n",
       "      <td id=\"T_e9565_row8_col0\" class=\"data row8 col0\" >0.865</td>\n",
       "      <td id=\"T_e9565_row8_col1\" class=\"data row8 col1\" >0.854</td>\n",
       "      <td id=\"T_e9565_row8_col2\" class=\"data row8 col2\" >0.858</td>\n",
       "      <td id=\"T_e9565_row8_col3\" class=\"data row8 col3\" >1884.000</td>\n",
       "    </tr>\n",
       "    <tr>\n",
       "      <th id=\"T_e9565_level0_row9\" class=\"row_heading level0 row9\" >weighted avg</th>\n",
       "      <td id=\"T_e9565_row9_col0\" class=\"data row9 col0\" >0.857</td>\n",
       "      <td id=\"T_e9565_row9_col1\" class=\"data row9 col1\" >0.857</td>\n",
       "      <td id=\"T_e9565_row9_col2\" class=\"data row9 col2\" >0.857</td>\n",
       "      <td id=\"T_e9565_row9_col3\" class=\"data row9 col3\" >1884.000</td>\n",
       "    </tr>\n",
       "  </tbody>\n",
       "</table>\n"
      ],
      "text/plain": [
       "<pandas.io.formats.style.Styler at 0x7f8369c23730>"
      ]
     },
     "metadata": {},
     "output_type": "display_data"
    },
    {
     "name": "stdout",
     "output_type": "stream",
     "text": [
      "<class 'pandas.io.formats.style.Styler'>\n"
     ]
    }
   ],
   "source": [
    "rfc = RandomForestClassifier(n_estimators=200, criterion='entropy', n_jobs=-1, random_state=42)\n",
    "rfc.fit(X_train, y_train)\n",
    "rfc_pred = rfc.predict(X_test)\n",
    "\n",
    "co2.viz.plot_confusion_matrix(y_test, rfc_pred, palette='Greens', classes=dtc.classes_, title=': Random Forest', save=True, format='png')\n",
    "co2.styles.display_classification_report(y_test, rfc_pred)"
   ]
  },
  {
   "cell_type": "code",
   "execution_count": 12,
   "metadata": {},
   "outputs": [
    {
     "name": "stdout",
     "output_type": "stream",
     "text": [
      "[0]\tvalidation_0-merror:0.26479\tvalidation_0-mlogloss:1.46744\tvalidation_1-merror:0.29263\tvalidation_1-mlogloss:1.48441\n",
      "[1]\tvalidation_0-merror:0.24871\tvalidation_0-mlogloss:1.22332\tvalidation_1-merror:0.27257\tvalidation_1-mlogloss:1.25145\n",
      "[2]\tvalidation_0-merror:0.23499\tvalidation_0-mlogloss:1.06155\tvalidation_1-merror:0.26018\tvalidation_1-mlogloss:1.09956\n",
      "[3]\tvalidation_0-merror:0.22570\tvalidation_0-mlogloss:0.94597\tvalidation_1-merror:0.25546\tvalidation_1-mlogloss:0.99001\n",
      "[4]\tvalidation_0-merror:0.22024\tvalidation_0-mlogloss:0.85829\tvalidation_1-merror:0.25310\tvalidation_1-mlogloss:0.90768\n",
      "[5]\tvalidation_0-merror:0.21567\tvalidation_0-mlogloss:0.79147\tvalidation_1-merror:0.25251\tvalidation_1-mlogloss:0.84720\n",
      "[6]\tvalidation_0-merror:0.20490\tvalidation_0-mlogloss:0.73050\tvalidation_1-merror:0.23422\tvalidation_1-mlogloss:0.79163\n",
      "[7]\tvalidation_0-merror:0.19900\tvalidation_0-mlogloss:0.68911\tvalidation_1-merror:0.23186\tvalidation_1-mlogloss:0.75518\n",
      "[8]\tvalidation_0-merror:0.19133\tvalidation_0-mlogloss:0.64332\tvalidation_1-merror:0.22714\tvalidation_1-mlogloss:0.71725\n",
      "[9]\tvalidation_0-merror:0.17436\tvalidation_0-mlogloss:0.60255\tvalidation_1-merror:0.21711\tvalidation_1-mlogloss:0.68240\n",
      "[10]\tvalidation_0-merror:0.16758\tvalidation_0-mlogloss:0.56959\tvalidation_1-merror:0.21416\tvalidation_1-mlogloss:0.65423\n",
      "[11]\tvalidation_0-merror:0.16064\tvalidation_0-mlogloss:0.53883\tvalidation_1-merror:0.21534\tvalidation_1-mlogloss:0.62978\n",
      "[12]\tvalidation_0-merror:0.15548\tvalidation_0-mlogloss:0.51684\tvalidation_1-merror:0.21062\tvalidation_1-mlogloss:0.61354\n",
      "[13]\tvalidation_0-merror:0.14751\tvalidation_0-mlogloss:0.49407\tvalidation_1-merror:0.20826\tvalidation_1-mlogloss:0.59606\n",
      "[14]\tvalidation_0-merror:0.14265\tvalidation_0-mlogloss:0.47477\tvalidation_1-merror:0.19823\tvalidation_1-mlogloss:0.58160\n",
      "[15]\tvalidation_0-merror:0.14088\tvalidation_0-mlogloss:0.46006\tvalidation_1-merror:0.19410\tvalidation_1-mlogloss:0.57037\n",
      "[16]\tvalidation_0-merror:0.13822\tvalidation_0-mlogloss:0.44442\tvalidation_1-merror:0.19528\tvalidation_1-mlogloss:0.55936\n",
      "[17]\tvalidation_0-merror:0.13291\tvalidation_0-mlogloss:0.43260\tvalidation_1-merror:0.18938\tvalidation_1-mlogloss:0.54942\n",
      "[18]\tvalidation_0-merror:0.13217\tvalidation_0-mlogloss:0.42458\tvalidation_1-merror:0.18525\tvalidation_1-mlogloss:0.54356\n",
      "[19]\tvalidation_0-merror:0.12922\tvalidation_0-mlogloss:0.41135\tvalidation_1-merror:0.18761\tvalidation_1-mlogloss:0.53518\n",
      "[20]\tvalidation_0-merror:0.12362\tvalidation_0-mlogloss:0.40052\tvalidation_1-merror:0.18289\tvalidation_1-mlogloss:0.52888\n",
      "[21]\tvalidation_0-merror:0.12332\tvalidation_0-mlogloss:0.39413\tvalidation_1-merror:0.18466\tvalidation_1-mlogloss:0.52472\n",
      "[22]\tvalidation_0-merror:0.12126\tvalidation_0-mlogloss:0.38390\tvalidation_1-merror:0.18525\tvalidation_1-mlogloss:0.51976\n",
      "[23]\tvalidation_0-merror:0.11580\tvalidation_0-mlogloss:0.37220\tvalidation_1-merror:0.17994\tvalidation_1-mlogloss:0.51302\n",
      "[24]\tvalidation_0-merror:0.11491\tvalidation_0-mlogloss:0.36289\tvalidation_1-merror:0.18112\tvalidation_1-mlogloss:0.50825\n",
      "[25]\tvalidation_0-merror:0.11152\tvalidation_0-mlogloss:0.35606\tvalidation_1-merror:0.17758\tvalidation_1-mlogloss:0.50700\n",
      "[26]\tvalidation_0-merror:0.11005\tvalidation_0-mlogloss:0.35045\tvalidation_1-merror:0.17640\tvalidation_1-mlogloss:0.50440\n",
      "[27]\tvalidation_0-merror:0.10636\tvalidation_0-mlogloss:0.34127\tvalidation_1-merror:0.17463\tvalidation_1-mlogloss:0.49971\n",
      "[28]\tvalidation_0-merror:0.10385\tvalidation_0-mlogloss:0.33422\tvalidation_1-merror:0.17227\tvalidation_1-mlogloss:0.49566\n",
      "[29]\tvalidation_0-merror:0.10090\tvalidation_0-mlogloss:0.32783\tvalidation_1-merror:0.17050\tvalidation_1-mlogloss:0.49380\n",
      "[30]\tvalidation_0-merror:0.09898\tvalidation_0-mlogloss:0.32235\tvalidation_1-merror:0.16991\tvalidation_1-mlogloss:0.49132\n",
      "[31]\tvalidation_0-merror:0.09751\tvalidation_0-mlogloss:0.31479\tvalidation_1-merror:0.17050\tvalidation_1-mlogloss:0.48668\n",
      "[32]\tvalidation_0-merror:0.09279\tvalidation_0-mlogloss:0.30690\tvalidation_1-merror:0.16932\tvalidation_1-mlogloss:0.48284\n",
      "[33]\tvalidation_0-merror:0.09161\tvalidation_0-mlogloss:0.30265\tvalidation_1-merror:0.16814\tvalidation_1-mlogloss:0.48055\n",
      "[34]\tvalidation_0-merror:0.09013\tvalidation_0-mlogloss:0.29774\tvalidation_1-merror:0.16755\tvalidation_1-mlogloss:0.47954\n",
      "[35]\tvalidation_0-merror:0.08925\tvalidation_0-mlogloss:0.29428\tvalidation_1-merror:0.16932\tvalidation_1-mlogloss:0.47771\n",
      "[36]\tvalidation_0-merror:0.08762\tvalidation_0-mlogloss:0.28803\tvalidation_1-merror:0.16814\tvalidation_1-mlogloss:0.47458\n",
      "[37]\tvalidation_0-merror:0.08408\tvalidation_0-mlogloss:0.28293\tvalidation_1-merror:0.16873\tvalidation_1-mlogloss:0.47253\n",
      "[38]\tvalidation_0-merror:0.08320\tvalidation_0-mlogloss:0.27868\tvalidation_1-merror:0.16755\tvalidation_1-mlogloss:0.47104\n",
      "[39]\tvalidation_0-merror:0.08025\tvalidation_0-mlogloss:0.27383\tvalidation_1-merror:0.16696\tvalidation_1-mlogloss:0.46921\n",
      "[40]\tvalidation_0-merror:0.07877\tvalidation_0-mlogloss:0.27025\tvalidation_1-merror:0.16873\tvalidation_1-mlogloss:0.46706\n",
      "[41]\tvalidation_0-merror:0.07730\tvalidation_0-mlogloss:0.26751\tvalidation_1-merror:0.16755\tvalidation_1-mlogloss:0.46517\n",
      "[42]\tvalidation_0-merror:0.07715\tvalidation_0-mlogloss:0.26536\tvalidation_1-merror:0.16519\tvalidation_1-mlogloss:0.46431\n",
      "[43]\tvalidation_0-merror:0.07700\tvalidation_0-mlogloss:0.26310\tvalidation_1-merror:0.16637\tvalidation_1-mlogloss:0.46376\n",
      "[44]\tvalidation_0-merror:0.07479\tvalidation_0-mlogloss:0.25948\tvalidation_1-merror:0.16637\tvalidation_1-mlogloss:0.46223\n",
      "[45]\tvalidation_0-merror:0.07258\tvalidation_0-mlogloss:0.25512\tvalidation_1-merror:0.16460\tvalidation_1-mlogloss:0.46062\n",
      "[46]\tvalidation_0-merror:0.07258\tvalidation_0-mlogloss:0.25250\tvalidation_1-merror:0.16578\tvalidation_1-mlogloss:0.45940\n",
      "[47]\tvalidation_0-merror:0.07199\tvalidation_0-mlogloss:0.24944\tvalidation_1-merror:0.16401\tvalidation_1-mlogloss:0.45776\n",
      "[48]\tvalidation_0-merror:0.07051\tvalidation_0-mlogloss:0.24409\tvalidation_1-merror:0.16165\tvalidation_1-mlogloss:0.45553\n",
      "[49]\tvalidation_0-merror:0.06977\tvalidation_0-mlogloss:0.24190\tvalidation_1-merror:0.16106\tvalidation_1-mlogloss:0.45598\n",
      "[50]\tvalidation_0-merror:0.06859\tvalidation_0-mlogloss:0.23884\tvalidation_1-merror:0.16165\tvalidation_1-mlogloss:0.45458\n",
      "[51]\tvalidation_0-merror:0.06653\tvalidation_0-mlogloss:0.23547\tvalidation_1-merror:0.16106\tvalidation_1-mlogloss:0.45324\n",
      "[52]\tvalidation_0-merror:0.06461\tvalidation_0-mlogloss:0.23051\tvalidation_1-merror:0.16165\tvalidation_1-mlogloss:0.45158\n",
      "[53]\tvalidation_0-merror:0.06373\tvalidation_0-mlogloss:0.22813\tvalidation_1-merror:0.16106\tvalidation_1-mlogloss:0.45153\n",
      "[54]\tvalidation_0-merror:0.06240\tvalidation_0-mlogloss:0.22486\tvalidation_1-merror:0.16224\tvalidation_1-mlogloss:0.45102\n",
      "[55]\tvalidation_0-merror:0.05974\tvalidation_0-mlogloss:0.22242\tvalidation_1-merror:0.16401\tvalidation_1-mlogloss:0.45079\n",
      "[56]\tvalidation_0-merror:0.05930\tvalidation_0-mlogloss:0.21854\tvalidation_1-merror:0.16401\tvalidation_1-mlogloss:0.45003\n",
      "[57]\tvalidation_0-merror:0.05738\tvalidation_0-mlogloss:0.21612\tvalidation_1-merror:0.16460\tvalidation_1-mlogloss:0.45042\n",
      "[58]\tvalidation_0-merror:0.05635\tvalidation_0-mlogloss:0.21311\tvalidation_1-merror:0.16283\tvalidation_1-mlogloss:0.44934\n",
      "[59]\tvalidation_0-merror:0.05517\tvalidation_0-mlogloss:0.20893\tvalidation_1-merror:0.16106\tvalidation_1-mlogloss:0.44737\n",
      "[60]\tvalidation_0-merror:0.05370\tvalidation_0-mlogloss:0.20514\tvalidation_1-merror:0.16165\tvalidation_1-mlogloss:0.44671\n",
      "[61]\tvalidation_0-merror:0.05355\tvalidation_0-mlogloss:0.20306\tvalidation_1-merror:0.16047\tvalidation_1-mlogloss:0.44651\n",
      "[62]\tvalidation_0-merror:0.05281\tvalidation_0-mlogloss:0.20046\tvalidation_1-merror:0.16047\tvalidation_1-mlogloss:0.44588\n",
      "[63]\tvalidation_0-merror:0.05163\tvalidation_0-mlogloss:0.19803\tvalidation_1-merror:0.16224\tvalidation_1-mlogloss:0.44617\n",
      "[64]\tvalidation_0-merror:0.05148\tvalidation_0-mlogloss:0.19630\tvalidation_1-merror:0.16165\tvalidation_1-mlogloss:0.44581\n",
      "[65]\tvalidation_0-merror:0.05015\tvalidation_0-mlogloss:0.19300\tvalidation_1-merror:0.16165\tvalidation_1-mlogloss:0.44612\n",
      "[66]\tvalidation_0-merror:0.04897\tvalidation_0-mlogloss:0.19084\tvalidation_1-merror:0.15811\tvalidation_1-mlogloss:0.44597\n",
      "[67]\tvalidation_0-merror:0.04779\tvalidation_0-mlogloss:0.18850\tvalidation_1-merror:0.15811\tvalidation_1-mlogloss:0.44610\n",
      "[68]\tvalidation_0-merror:0.04588\tvalidation_0-mlogloss:0.18695\tvalidation_1-merror:0.15929\tvalidation_1-mlogloss:0.44583\n",
      "[69]\tvalidation_0-merror:0.04514\tvalidation_0-mlogloss:0.18529\tvalidation_1-merror:0.15870\tvalidation_1-mlogloss:0.44491\n",
      "[70]\tvalidation_0-merror:0.04337\tvalidation_0-mlogloss:0.18238\tvalidation_1-merror:0.15929\tvalidation_1-mlogloss:0.44512\n",
      "[71]\tvalidation_0-merror:0.04234\tvalidation_0-mlogloss:0.18055\tvalidation_1-merror:0.16047\tvalidation_1-mlogloss:0.44466\n",
      "[72]\tvalidation_0-merror:0.04175\tvalidation_0-mlogloss:0.17896\tvalidation_1-merror:0.15929\tvalidation_1-mlogloss:0.44451\n",
      "[73]\tvalidation_0-merror:0.04101\tvalidation_0-mlogloss:0.17662\tvalidation_1-merror:0.15929\tvalidation_1-mlogloss:0.44398\n",
      "[74]\tvalidation_0-merror:0.04071\tvalidation_0-mlogloss:0.17439\tvalidation_1-merror:0.15870\tvalidation_1-mlogloss:0.44283\n",
      "[75]\tvalidation_0-merror:0.04042\tvalidation_0-mlogloss:0.17137\tvalidation_1-merror:0.16047\tvalidation_1-mlogloss:0.44252\n",
      "[76]\tvalidation_0-merror:0.04012\tvalidation_0-mlogloss:0.16970\tvalidation_1-merror:0.16106\tvalidation_1-mlogloss:0.44198\n",
      "[77]\tvalidation_0-merror:0.03968\tvalidation_0-mlogloss:0.16853\tvalidation_1-merror:0.16106\tvalidation_1-mlogloss:0.44212\n",
      "[78]\tvalidation_0-merror:0.03894\tvalidation_0-mlogloss:0.16708\tvalidation_1-merror:0.16106\tvalidation_1-mlogloss:0.44270\n",
      "[79]\tvalidation_0-merror:0.03835\tvalidation_0-mlogloss:0.16619\tvalidation_1-merror:0.16106\tvalidation_1-mlogloss:0.44327\n",
      "[80]\tvalidation_0-merror:0.03791\tvalidation_0-mlogloss:0.16454\tvalidation_1-merror:0.16224\tvalidation_1-mlogloss:0.44303\n",
      "[81]\tvalidation_0-merror:0.03747\tvalidation_0-mlogloss:0.16296\tvalidation_1-merror:0.16283\tvalidation_1-mlogloss:0.44238\n",
      "[82]\tvalidation_0-merror:0.03747\tvalidation_0-mlogloss:0.16183\tvalidation_1-merror:0.16283\tvalidation_1-mlogloss:0.44244\n",
      "[83]\tvalidation_0-merror:0.03688\tvalidation_0-mlogloss:0.16076\tvalidation_1-merror:0.16165\tvalidation_1-mlogloss:0.44186\n",
      "[84]\tvalidation_0-merror:0.03658\tvalidation_0-mlogloss:0.15880\tvalidation_1-merror:0.15929\tvalidation_1-mlogloss:0.44177\n",
      "[85]\tvalidation_0-merror:0.03540\tvalidation_0-mlogloss:0.15664\tvalidation_1-merror:0.16224\tvalidation_1-mlogloss:0.44305\n",
      "[86]\tvalidation_0-merror:0.03496\tvalidation_0-mlogloss:0.15450\tvalidation_1-merror:0.16165\tvalidation_1-mlogloss:0.44293\n",
      "[87]\tvalidation_0-merror:0.03393\tvalidation_0-mlogloss:0.15326\tvalidation_1-merror:0.16165\tvalidation_1-mlogloss:0.44324\n",
      "[88]\tvalidation_0-merror:0.03363\tvalidation_0-mlogloss:0.15191\tvalidation_1-merror:0.16106\tvalidation_1-mlogloss:0.44395\n",
      "[89]\tvalidation_0-merror:0.03275\tvalidation_0-mlogloss:0.15040\tvalidation_1-merror:0.16047\tvalidation_1-mlogloss:0.44375\n",
      "[90]\tvalidation_0-merror:0.03216\tvalidation_0-mlogloss:0.14914\tvalidation_1-merror:0.16047\tvalidation_1-mlogloss:0.44335\n",
      "[91]\tvalidation_0-merror:0.03157\tvalidation_0-mlogloss:0.14757\tvalidation_1-merror:0.15988\tvalidation_1-mlogloss:0.44309\n",
      "[92]\tvalidation_0-merror:0.03098\tvalidation_0-mlogloss:0.14566\tvalidation_1-merror:0.15929\tvalidation_1-mlogloss:0.44342\n",
      "[93]\tvalidation_0-merror:0.03024\tvalidation_0-mlogloss:0.14487\tvalidation_1-merror:0.15929\tvalidation_1-mlogloss:0.44347\n",
      "[94]\tvalidation_0-merror:0.02965\tvalidation_0-mlogloss:0.14266\tvalidation_1-merror:0.16047\tvalidation_1-mlogloss:0.44417\n",
      "[95]\tvalidation_0-merror:0.02921\tvalidation_0-mlogloss:0.14132\tvalidation_1-merror:0.16224\tvalidation_1-mlogloss:0.44460\n",
      "[96]\tvalidation_0-merror:0.02906\tvalidation_0-mlogloss:0.14047\tvalidation_1-merror:0.16165\tvalidation_1-mlogloss:0.44449\n",
      "[97]\tvalidation_0-merror:0.02877\tvalidation_0-mlogloss:0.13847\tvalidation_1-merror:0.16047\tvalidation_1-mlogloss:0.44493\n",
      "[98]\tvalidation_0-merror:0.02818\tvalidation_0-mlogloss:0.13694\tvalidation_1-merror:0.16047\tvalidation_1-mlogloss:0.44434\n",
      "[99]\tvalidation_0-merror:0.02759\tvalidation_0-mlogloss:0.13532\tvalidation_1-merror:0.16106\tvalidation_1-mlogloss:0.44472\n",
      "[100]\tvalidation_0-merror:0.02759\tvalidation_0-mlogloss:0.13378\tvalidation_1-merror:0.16224\tvalidation_1-mlogloss:0.44495\n",
      "[101]\tvalidation_0-merror:0.02729\tvalidation_0-mlogloss:0.13270\tvalidation_1-merror:0.16224\tvalidation_1-mlogloss:0.44554\n",
      "[102]\tvalidation_0-merror:0.02714\tvalidation_0-mlogloss:0.13101\tvalidation_1-merror:0.16224\tvalidation_1-mlogloss:0.44618\n",
      "[103]\tvalidation_0-merror:0.02655\tvalidation_0-mlogloss:0.12951\tvalidation_1-merror:0.16224\tvalidation_1-mlogloss:0.44648\n",
      "[104]\tvalidation_0-merror:0.02611\tvalidation_0-mlogloss:0.12853\tvalidation_1-merror:0.16106\tvalidation_1-mlogloss:0.44631\n"
     ]
    },
    {
     "data": {
      "text/html": [
       "<style>#sk-container-id-1 {color: black;}#sk-container-id-1 pre{padding: 0;}#sk-container-id-1 div.sk-toggleable {background-color: white;}#sk-container-id-1 label.sk-toggleable__label {cursor: pointer;display: block;width: 100%;margin-bottom: 0;padding: 0.3em;box-sizing: border-box;text-align: center;}#sk-container-id-1 label.sk-toggleable__label-arrow:before {content: \"▸\";float: left;margin-right: 0.25em;color: #696969;}#sk-container-id-1 label.sk-toggleable__label-arrow:hover:before {color: black;}#sk-container-id-1 div.sk-estimator:hover label.sk-toggleable__label-arrow:before {color: black;}#sk-container-id-1 div.sk-toggleable__content {max-height: 0;max-width: 0;overflow: hidden;text-align: left;background-color: #f0f8ff;}#sk-container-id-1 div.sk-toggleable__content pre {margin: 0.2em;color: black;border-radius: 0.25em;background-color: #f0f8ff;}#sk-container-id-1 input.sk-toggleable__control:checked~div.sk-toggleable__content {max-height: 200px;max-width: 100%;overflow: auto;}#sk-container-id-1 input.sk-toggleable__control:checked~label.sk-toggleable__label-arrow:before {content: \"▾\";}#sk-container-id-1 div.sk-estimator input.sk-toggleable__control:checked~label.sk-toggleable__label {background-color: #d4ebff;}#sk-container-id-1 div.sk-label input.sk-toggleable__control:checked~label.sk-toggleable__label {background-color: #d4ebff;}#sk-container-id-1 input.sk-hidden--visually {border: 0;clip: rect(1px 1px 1px 1px);clip: rect(1px, 1px, 1px, 1px);height: 1px;margin: -1px;overflow: hidden;padding: 0;position: absolute;width: 1px;}#sk-container-id-1 div.sk-estimator {font-family: monospace;background-color: #f0f8ff;border: 1px dotted black;border-radius: 0.25em;box-sizing: border-box;margin-bottom: 0.5em;}#sk-container-id-1 div.sk-estimator:hover {background-color: #d4ebff;}#sk-container-id-1 div.sk-parallel-item::after {content: \"\";width: 100%;border-bottom: 1px solid gray;flex-grow: 1;}#sk-container-id-1 div.sk-label:hover label.sk-toggleable__label {background-color: #d4ebff;}#sk-container-id-1 div.sk-serial::before {content: \"\";position: absolute;border-left: 1px solid gray;box-sizing: border-box;top: 0;bottom: 0;left: 50%;z-index: 0;}#sk-container-id-1 div.sk-serial {display: flex;flex-direction: column;align-items: center;background-color: white;padding-right: 0.2em;padding-left: 0.2em;position: relative;}#sk-container-id-1 div.sk-item {position: relative;z-index: 1;}#sk-container-id-1 div.sk-parallel {display: flex;align-items: stretch;justify-content: center;background-color: white;position: relative;}#sk-container-id-1 div.sk-item::before, #sk-container-id-1 div.sk-parallel-item::before {content: \"\";position: absolute;border-left: 1px solid gray;box-sizing: border-box;top: 0;bottom: 0;left: 50%;z-index: -1;}#sk-container-id-1 div.sk-parallel-item {display: flex;flex-direction: column;z-index: 1;position: relative;background-color: white;}#sk-container-id-1 div.sk-parallel-item:first-child::after {align-self: flex-end;width: 50%;}#sk-container-id-1 div.sk-parallel-item:last-child::after {align-self: flex-start;width: 50%;}#sk-container-id-1 div.sk-parallel-item:only-child::after {width: 0;}#sk-container-id-1 div.sk-dashed-wrapped {border: 1px dashed gray;margin: 0 0.4em 0.5em 0.4em;box-sizing: border-box;padding-bottom: 0.4em;background-color: white;}#sk-container-id-1 div.sk-label label {font-family: monospace;font-weight: bold;display: inline-block;line-height: 1.2em;}#sk-container-id-1 div.sk-label-container {text-align: center;}#sk-container-id-1 div.sk-container {/* jupyter's `normalize.less` sets `[hidden] { display: none; }` but bootstrap.min.css set `[hidden] { display: none !important; }` so we also need the `!important` here to be able to override the default hidden behavior on the sphinx rendered scikit-learn.org. See: https://github.com/scikit-learn/scikit-learn/issues/21755 */display: inline-block !important;position: relative;}#sk-container-id-1 div.sk-text-repr-fallback {display: none;}</style><div id=\"sk-container-id-1\" class=\"sk-top-container\"><div class=\"sk-text-repr-fallback\"><pre>XGBClassifier(base_score=None, booster=None, callbacks=None,\n",
       "              colsample_bylevel=None, colsample_bynode=None,\n",
       "              colsample_bytree=None, device=None, early_stopping_rounds=20,\n",
       "              enable_categorical=False, eval_metric=[&#x27;merror&#x27;, &#x27;mlogloss&#x27;],\n",
       "              feature_types=None, gamma=None, grow_policy=None,\n",
       "              importance_type=None, interaction_constraints=None,\n",
       "              learning_rate=None, max_bin=None, max_cat_threshold=None,\n",
       "              max_cat_to_onehot=None, max_delta_step=None, max_depth=None,\n",
       "              max_leaves=None, min_child_weight=None, missing=nan,\n",
       "              monotone_constraints=None, multi_strategy=None, n_estimators=600,\n",
       "              n_jobs=-1, num_class=7, num_parallel_tree=None, ...)</pre><b>In a Jupyter environment, please rerun this cell to show the HTML representation or trust the notebook. <br />On GitHub, the HTML representation is unable to render, please try loading this page with nbviewer.org.</b></div><div class=\"sk-container\" hidden><div class=\"sk-item\"><div class=\"sk-estimator sk-toggleable\"><input class=\"sk-toggleable__control sk-hidden--visually\" id=\"sk-estimator-id-1\" type=\"checkbox\" checked><label for=\"sk-estimator-id-1\" class=\"sk-toggleable__label sk-toggleable__label-arrow\">XGBClassifier</label><div class=\"sk-toggleable__content\"><pre>XGBClassifier(base_score=None, booster=None, callbacks=None,\n",
       "              colsample_bylevel=None, colsample_bynode=None,\n",
       "              colsample_bytree=None, device=None, early_stopping_rounds=20,\n",
       "              enable_categorical=False, eval_metric=[&#x27;merror&#x27;, &#x27;mlogloss&#x27;],\n",
       "              feature_types=None, gamma=None, grow_policy=None,\n",
       "              importance_type=None, interaction_constraints=None,\n",
       "              learning_rate=None, max_bin=None, max_cat_threshold=None,\n",
       "              max_cat_to_onehot=None, max_delta_step=None, max_depth=None,\n",
       "              max_leaves=None, min_child_weight=None, missing=nan,\n",
       "              monotone_constraints=None, multi_strategy=None, n_estimators=600,\n",
       "              n_jobs=-1, num_class=7, num_parallel_tree=None, ...)</pre></div></div></div></div></div>"
      ],
      "text/plain": [
       "XGBClassifier(base_score=None, booster=None, callbacks=None,\n",
       "              colsample_bylevel=None, colsample_bynode=None,\n",
       "              colsample_bytree=None, device=None, early_stopping_rounds=20,\n",
       "              enable_categorical=False, eval_metric=['merror', 'mlogloss'],\n",
       "              feature_types=None, gamma=None, grow_policy=None,\n",
       "              importance_type=None, interaction_constraints=None,\n",
       "              learning_rate=None, max_bin=None, max_cat_threshold=None,\n",
       "              max_cat_to_onehot=None, max_delta_step=None, max_depth=None,\n",
       "              max_leaves=None, min_child_weight=None, missing=nan,\n",
       "              monotone_constraints=None, multi_strategy=None, n_estimators=600,\n",
       "              n_jobs=-1, num_class=7, num_parallel_tree=None, ...)"
      ]
     },
     "execution_count": 12,
     "metadata": {},
     "output_type": "execute_result"
    }
   ],
   "source": [
    "encoder = LabelEncoder()\n",
    "target_enc = encoder.fit_transform(target)\n",
    "\n",
    "X_x, X_valid_x, y_x, y_valid_x = train_test_split(data, target_enc, test_size=.1)\n",
    "X_train_x, X_test_x, y_train_x, y_test_x = train_test_split(X_x, y_x, test_size=.2, random_state=42)\n",
    "\n",
    "xgb_clf = xgb.XGBClassifier(objective='multi:softmax', \n",
    "                            n_estimators=600, #400\n",
    "                            num_class=7, \n",
    "                            early_stopping_rounds=20, \n",
    "                            eval_metric=['merror','mlogloss'], \n",
    "                            seed=42,\n",
    "                            n_jobs=-1,\n",
    "                            verbosity=2)\n",
    "xgb_clf.fit(X_train_x, y_train_x, eval_set=[(X_train_x, y_train_x), (X_test_x, y_test_x)])"
   ]
  },
  {
   "cell_type": "code",
   "execution_count": 13,
   "metadata": {},
   "outputs": [
    {
     "data": {
      "application/vnd.plotly.v1+json": {
       "config": {
        "plotlyServerURL": "https://plot.ly"
       },
       "data": [
        {
         "mode": "lines",
         "name": "validation_0",
         "type": "scatter",
         "x": [
          0,
          1,
          2,
          3,
          4,
          5,
          6,
          7,
          8,
          9,
          10,
          11,
          12,
          13,
          14,
          15,
          16,
          17,
          18,
          19,
          20,
          21,
          22,
          23,
          24,
          25,
          26,
          27,
          28,
          29,
          30,
          31,
          32,
          33,
          34,
          35,
          36,
          37,
          38,
          39,
          40,
          41,
          42,
          43,
          44,
          45,
          46,
          47,
          48,
          49,
          50,
          51,
          52,
          53,
          54,
          55,
          56,
          57,
          58,
          59,
          60,
          61,
          62,
          63,
          64,
          65,
          66,
          67,
          68,
          69,
          70,
          71,
          72,
          73,
          74,
          75,
          76,
          77,
          78,
          79,
          80,
          81,
          82,
          83,
          84,
          85,
          86,
          87,
          88,
          89,
          90,
          91,
          92,
          93,
          94,
          95,
          96,
          97,
          98,
          99,
          100,
          101,
          102,
          103,
          104
         ],
         "y": [
          0.26478831686089394,
          0.2487092491517923,
          0.2349904115651276,
          0.22569700545803215,
          0.22023897329989675,
          0.21566602743767518,
          0.20489747750405665,
          0.19899690219796431,
          0.19132615430004427,
          0.17436200029502877,
          0.16757633869302258,
          0.16064316270836407,
          0.15548015931553327,
          0.1475143826523086,
          0.14264640802478243,
          0.14087623543295472,
          0.13822097654521315,
          0.13291045876973004,
          0.1321728868564685,
          0.12922259920342233,
          0.1236170526626346,
          0.12332202389732999,
          0.12125682254019766,
          0.11579879038206226,
          0.1149137040861484,
          0.1115208732851453,
          0.11004572945862222,
          0.1063578698923145,
          0.10385012538722525,
          0.10089983773417908,
          0.09898215075969907,
          0.09750700693317599,
          0.09278654668830211,
          0.09160643162708364,
          0.09013128780056055,
          0.0892462015046467,
          0.08762354329547131,
          0.0840831981118159,
          0.08319811181590205,
          0.08024782416285588,
          0.07877268033633279,
          0.07729753650980971,
          0.0771500221271574,
          0.0770025077445051,
          0.07478979200472045,
          0.07257707626493583,
          0.07257707626493583,
          0.0719870187343266,
          0.07051187490780352,
          0.06977430299454197,
          0.0685941879333235,
          0.06652898657619118,
          0.06461129960171116,
          0.06372621330579732,
          0.06239858386192654,
          0.05974332497418498,
          0.05930078182622806,
          0.05738309485174804,
          0.05635049417318189,
          0.05517037911196342,
          0.05369523528544033,
          0.05354772090278802,
          0.05281014898952648,
          0.05163003392830801,
          0.0514825195456557,
          0.05015489010178492,
          0.04897477504056646,
          0.04779465997934799,
          0.04587697300486798,
          0.04513940109160643,
          0.04336922849977873,
          0.04233662782121256,
          0.04174657029060334,
          0.04100899837734179,
          0.04071396961203717,
          0.04041894084673256,
          0.04012391208142794,
          0.03968136893347101,
          0.03894379702020947,
          0.03835373948960023,
          0.03791119634164331,
          0.03746865319368638,
          0.03746865319368638,
          0.03687859566307715,
          0.03658356689777253,
          0.03540345183655406,
          0.03496090868859714,
          0.03392830801003098,
          0.03363327924472636,
          0.03274819294881251,
          0.03215813541820327,
          0.03156807788759404,
          0.0309780203569848,
          0.03024044844372326,
          0.02965039091311403,
          0.0292078477651571,
          0.0290603333825048,
          0.02876530461720018,
          0.02817524708659094,
          0.02758518955598171,
          0.02758518955598171,
          0.02729016079067709,
          0.02714264640802478,
          0.02655258887741555,
          0.02611004572945862
         ]
        },
        {
         "mode": "lines",
         "name": "validation_1",
         "type": "scatter",
         "x": [
          0,
          1,
          2,
          3,
          4,
          5,
          6,
          7,
          8,
          9,
          10,
          11,
          12,
          13,
          14,
          15,
          16,
          17,
          18,
          19,
          20,
          21,
          22,
          23,
          24,
          25,
          26,
          27,
          28,
          29,
          30,
          31,
          32,
          33,
          34,
          35,
          36,
          37,
          38,
          39,
          40,
          41,
          42,
          43,
          44,
          45,
          46,
          47,
          48,
          49,
          50,
          51,
          52,
          53,
          54,
          55,
          56,
          57,
          58,
          59,
          60,
          61,
          62,
          63,
          64,
          65,
          66,
          67,
          68,
          69,
          70,
          71,
          72,
          73,
          74,
          75,
          76,
          77,
          78,
          79,
          80,
          81,
          82,
          83,
          84,
          85,
          86,
          87,
          88,
          89,
          90,
          91,
          92,
          93,
          94,
          95,
          96,
          97,
          98,
          99,
          100,
          101,
          102,
          103,
          104
         ],
         "y": [
          0.2926253687315634,
          0.27256637168141595,
          0.26017699115044246,
          0.25545722713864305,
          0.25309734513274335,
          0.25250737463126843,
          0.23421828908554573,
          0.23185840707964603,
          0.22713864306784662,
          0.21710914454277286,
          0.21415929203539824,
          0.2153392330383481,
          0.21061946902654868,
          0.20825958702064898,
          0.19823008849557522,
          0.19410029498525075,
          0.1952802359882006,
          0.18938053097345134,
          0.18525073746312684,
          0.18761061946902655,
          0.18289085545722714,
          0.18466076696165193,
          0.18525073746312684,
          0.17994100294985252,
          0.18112094395280237,
          0.1775811209439528,
          0.17640117994100296,
          0.17463126843657817,
          0.17227138643067846,
          0.1705014749262537,
          0.16991150442477876,
          0.1705014749262537,
          0.16932153392330385,
          0.168141592920354,
          0.16755162241887905,
          0.16932153392330385,
          0.168141592920354,
          0.1687315634218289,
          0.16755162241887905,
          0.16696165191740414,
          0.1687315634218289,
          0.16755162241887905,
          0.16519174041297935,
          0.1663716814159292,
          0.1663716814159292,
          0.16460176991150444,
          0.1657817109144543,
          0.1640117994100295,
          0.1616519174041298,
          0.16106194690265488,
          0.1616519174041298,
          0.16106194690265488,
          0.1616519174041298,
          0.16106194690265488,
          0.16224188790560473,
          0.1640117994100295,
          0.1640117994100295,
          0.16460176991150444,
          0.16283185840707964,
          0.16106194690265488,
          0.1616519174041298,
          0.16047197640117994,
          0.16047197640117994,
          0.16224188790560473,
          0.1616519174041298,
          0.1616519174041298,
          0.15811209439528023,
          0.15811209439528023,
          0.1592920353982301,
          0.15870206489675517,
          0.1592920353982301,
          0.16047197640117994,
          0.1592920353982301,
          0.1592920353982301,
          0.15870206489675517,
          0.16047197640117994,
          0.16106194690265488,
          0.16106194690265488,
          0.16106194690265488,
          0.16106194690265488,
          0.16224188790560473,
          0.16283185840707964,
          0.16283185840707964,
          0.1616519174041298,
          0.1592920353982301,
          0.16224188790560473,
          0.1616519174041298,
          0.1616519174041298,
          0.16106194690265488,
          0.16047197640117994,
          0.16047197640117994,
          0.15988200589970503,
          0.1592920353982301,
          0.1592920353982301,
          0.16047197640117994,
          0.16224188790560473,
          0.1616519174041298,
          0.16047197640117994,
          0.16047197640117994,
          0.16106194690265488,
          0.16224188790560473,
          0.16224188790560473,
          0.16224188790560473,
          0.16224188790560473,
          0.16106194690265488
         ]
        }
       ],
       "layout": {
        "template": {
         "data": {
          "bar": [
           {
            "error_x": {
             "color": "#2a3f5f"
            },
            "error_y": {
             "color": "#2a3f5f"
            },
            "marker": {
             "line": {
              "color": "#E5ECF6",
              "width": 0.5
             },
             "pattern": {
              "fillmode": "overlay",
              "size": 10,
              "solidity": 0.2
             }
            },
            "type": "bar"
           }
          ],
          "barpolar": [
           {
            "marker": {
             "line": {
              "color": "#E5ECF6",
              "width": 0.5
             },
             "pattern": {
              "fillmode": "overlay",
              "size": 10,
              "solidity": 0.2
             }
            },
            "type": "barpolar"
           }
          ],
          "carpet": [
           {
            "aaxis": {
             "endlinecolor": "#2a3f5f",
             "gridcolor": "white",
             "linecolor": "white",
             "minorgridcolor": "white",
             "startlinecolor": "#2a3f5f"
            },
            "baxis": {
             "endlinecolor": "#2a3f5f",
             "gridcolor": "white",
             "linecolor": "white",
             "minorgridcolor": "white",
             "startlinecolor": "#2a3f5f"
            },
            "type": "carpet"
           }
          ],
          "choropleth": [
           {
            "colorbar": {
             "outlinewidth": 0,
             "ticks": ""
            },
            "type": "choropleth"
           }
          ],
          "contour": [
           {
            "colorbar": {
             "outlinewidth": 0,
             "ticks": ""
            },
            "colorscale": [
             [
              0,
              "#0d0887"
             ],
             [
              0.1111111111111111,
              "#46039f"
             ],
             [
              0.2222222222222222,
              "#7201a8"
             ],
             [
              0.3333333333333333,
              "#9c179e"
             ],
             [
              0.4444444444444444,
              "#bd3786"
             ],
             [
              0.5555555555555556,
              "#d8576b"
             ],
             [
              0.6666666666666666,
              "#ed7953"
             ],
             [
              0.7777777777777778,
              "#fb9f3a"
             ],
             [
              0.8888888888888888,
              "#fdca26"
             ],
             [
              1,
              "#f0f921"
             ]
            ],
            "type": "contour"
           }
          ],
          "contourcarpet": [
           {
            "colorbar": {
             "outlinewidth": 0,
             "ticks": ""
            },
            "type": "contourcarpet"
           }
          ],
          "heatmap": [
           {
            "colorbar": {
             "outlinewidth": 0,
             "ticks": ""
            },
            "colorscale": [
             [
              0,
              "#0d0887"
             ],
             [
              0.1111111111111111,
              "#46039f"
             ],
             [
              0.2222222222222222,
              "#7201a8"
             ],
             [
              0.3333333333333333,
              "#9c179e"
             ],
             [
              0.4444444444444444,
              "#bd3786"
             ],
             [
              0.5555555555555556,
              "#d8576b"
             ],
             [
              0.6666666666666666,
              "#ed7953"
             ],
             [
              0.7777777777777778,
              "#fb9f3a"
             ],
             [
              0.8888888888888888,
              "#fdca26"
             ],
             [
              1,
              "#f0f921"
             ]
            ],
            "type": "heatmap"
           }
          ],
          "heatmapgl": [
           {
            "colorbar": {
             "outlinewidth": 0,
             "ticks": ""
            },
            "colorscale": [
             [
              0,
              "#0d0887"
             ],
             [
              0.1111111111111111,
              "#46039f"
             ],
             [
              0.2222222222222222,
              "#7201a8"
             ],
             [
              0.3333333333333333,
              "#9c179e"
             ],
             [
              0.4444444444444444,
              "#bd3786"
             ],
             [
              0.5555555555555556,
              "#d8576b"
             ],
             [
              0.6666666666666666,
              "#ed7953"
             ],
             [
              0.7777777777777778,
              "#fb9f3a"
             ],
             [
              0.8888888888888888,
              "#fdca26"
             ],
             [
              1,
              "#f0f921"
             ]
            ],
            "type": "heatmapgl"
           }
          ],
          "histogram": [
           {
            "marker": {
             "pattern": {
              "fillmode": "overlay",
              "size": 10,
              "solidity": 0.2
             }
            },
            "type": "histogram"
           }
          ],
          "histogram2d": [
           {
            "colorbar": {
             "outlinewidth": 0,
             "ticks": ""
            },
            "colorscale": [
             [
              0,
              "#0d0887"
             ],
             [
              0.1111111111111111,
              "#46039f"
             ],
             [
              0.2222222222222222,
              "#7201a8"
             ],
             [
              0.3333333333333333,
              "#9c179e"
             ],
             [
              0.4444444444444444,
              "#bd3786"
             ],
             [
              0.5555555555555556,
              "#d8576b"
             ],
             [
              0.6666666666666666,
              "#ed7953"
             ],
             [
              0.7777777777777778,
              "#fb9f3a"
             ],
             [
              0.8888888888888888,
              "#fdca26"
             ],
             [
              1,
              "#f0f921"
             ]
            ],
            "type": "histogram2d"
           }
          ],
          "histogram2dcontour": [
           {
            "colorbar": {
             "outlinewidth": 0,
             "ticks": ""
            },
            "colorscale": [
             [
              0,
              "#0d0887"
             ],
             [
              0.1111111111111111,
              "#46039f"
             ],
             [
              0.2222222222222222,
              "#7201a8"
             ],
             [
              0.3333333333333333,
              "#9c179e"
             ],
             [
              0.4444444444444444,
              "#bd3786"
             ],
             [
              0.5555555555555556,
              "#d8576b"
             ],
             [
              0.6666666666666666,
              "#ed7953"
             ],
             [
              0.7777777777777778,
              "#fb9f3a"
             ],
             [
              0.8888888888888888,
              "#fdca26"
             ],
             [
              1,
              "#f0f921"
             ]
            ],
            "type": "histogram2dcontour"
           }
          ],
          "mesh3d": [
           {
            "colorbar": {
             "outlinewidth": 0,
             "ticks": ""
            },
            "type": "mesh3d"
           }
          ],
          "parcoords": [
           {
            "line": {
             "colorbar": {
              "outlinewidth": 0,
              "ticks": ""
             }
            },
            "type": "parcoords"
           }
          ],
          "pie": [
           {
            "automargin": true,
            "type": "pie"
           }
          ],
          "scatter": [
           {
            "fillpattern": {
             "fillmode": "overlay",
             "size": 10,
             "solidity": 0.2
            },
            "type": "scatter"
           }
          ],
          "scatter3d": [
           {
            "line": {
             "colorbar": {
              "outlinewidth": 0,
              "ticks": ""
             }
            },
            "marker": {
             "colorbar": {
              "outlinewidth": 0,
              "ticks": ""
             }
            },
            "type": "scatter3d"
           }
          ],
          "scattercarpet": [
           {
            "marker": {
             "colorbar": {
              "outlinewidth": 0,
              "ticks": ""
             }
            },
            "type": "scattercarpet"
           }
          ],
          "scattergeo": [
           {
            "marker": {
             "colorbar": {
              "outlinewidth": 0,
              "ticks": ""
             }
            },
            "type": "scattergeo"
           }
          ],
          "scattergl": [
           {
            "marker": {
             "colorbar": {
              "outlinewidth": 0,
              "ticks": ""
             }
            },
            "type": "scattergl"
           }
          ],
          "scattermapbox": [
           {
            "marker": {
             "colorbar": {
              "outlinewidth": 0,
              "ticks": ""
             }
            },
            "type": "scattermapbox"
           }
          ],
          "scatterpolar": [
           {
            "marker": {
             "colorbar": {
              "outlinewidth": 0,
              "ticks": ""
             }
            },
            "type": "scatterpolar"
           }
          ],
          "scatterpolargl": [
           {
            "marker": {
             "colorbar": {
              "outlinewidth": 0,
              "ticks": ""
             }
            },
            "type": "scatterpolargl"
           }
          ],
          "scatterternary": [
           {
            "marker": {
             "colorbar": {
              "outlinewidth": 0,
              "ticks": ""
             }
            },
            "type": "scatterternary"
           }
          ],
          "surface": [
           {
            "colorbar": {
             "outlinewidth": 0,
             "ticks": ""
            },
            "colorscale": [
             [
              0,
              "#0d0887"
             ],
             [
              0.1111111111111111,
              "#46039f"
             ],
             [
              0.2222222222222222,
              "#7201a8"
             ],
             [
              0.3333333333333333,
              "#9c179e"
             ],
             [
              0.4444444444444444,
              "#bd3786"
             ],
             [
              0.5555555555555556,
              "#d8576b"
             ],
             [
              0.6666666666666666,
              "#ed7953"
             ],
             [
              0.7777777777777778,
              "#fb9f3a"
             ],
             [
              0.8888888888888888,
              "#fdca26"
             ],
             [
              1,
              "#f0f921"
             ]
            ],
            "type": "surface"
           }
          ],
          "table": [
           {
            "cells": {
             "fill": {
              "color": "#EBF0F8"
             },
             "line": {
              "color": "white"
             }
            },
            "header": {
             "fill": {
              "color": "#C8D4E3"
             },
             "line": {
              "color": "white"
             }
            },
            "type": "table"
           }
          ]
         },
         "layout": {
          "annotationdefaults": {
           "arrowcolor": "#2a3f5f",
           "arrowhead": 0,
           "arrowwidth": 1
          },
          "autotypenumbers": "strict",
          "coloraxis": {
           "colorbar": {
            "outlinewidth": 0,
            "ticks": ""
           }
          },
          "colorscale": {
           "diverging": [
            [
             0,
             "#8e0152"
            ],
            [
             0.1,
             "#c51b7d"
            ],
            [
             0.2,
             "#de77ae"
            ],
            [
             0.3,
             "#f1b6da"
            ],
            [
             0.4,
             "#fde0ef"
            ],
            [
             0.5,
             "#f7f7f7"
            ],
            [
             0.6,
             "#e6f5d0"
            ],
            [
             0.7,
             "#b8e186"
            ],
            [
             0.8,
             "#7fbc41"
            ],
            [
             0.9,
             "#4d9221"
            ],
            [
             1,
             "#276419"
            ]
           ],
           "sequential": [
            [
             0,
             "#0d0887"
            ],
            [
             0.1111111111111111,
             "#46039f"
            ],
            [
             0.2222222222222222,
             "#7201a8"
            ],
            [
             0.3333333333333333,
             "#9c179e"
            ],
            [
             0.4444444444444444,
             "#bd3786"
            ],
            [
             0.5555555555555556,
             "#d8576b"
            ],
            [
             0.6666666666666666,
             "#ed7953"
            ],
            [
             0.7777777777777778,
             "#fb9f3a"
            ],
            [
             0.8888888888888888,
             "#fdca26"
            ],
            [
             1,
             "#f0f921"
            ]
           ],
           "sequentialminus": [
            [
             0,
             "#0d0887"
            ],
            [
             0.1111111111111111,
             "#46039f"
            ],
            [
             0.2222222222222222,
             "#7201a8"
            ],
            [
             0.3333333333333333,
             "#9c179e"
            ],
            [
             0.4444444444444444,
             "#bd3786"
            ],
            [
             0.5555555555555556,
             "#d8576b"
            ],
            [
             0.6666666666666666,
             "#ed7953"
            ],
            [
             0.7777777777777778,
             "#fb9f3a"
            ],
            [
             0.8888888888888888,
             "#fdca26"
            ],
            [
             1,
             "#f0f921"
            ]
           ]
          },
          "colorway": [
           "#636efa",
           "#EF553B",
           "#00cc96",
           "#ab63fa",
           "#FFA15A",
           "#19d3f3",
           "#FF6692",
           "#B6E880",
           "#FF97FF",
           "#FECB52"
          ],
          "font": {
           "color": "#2a3f5f"
          },
          "geo": {
           "bgcolor": "white",
           "lakecolor": "white",
           "landcolor": "#E5ECF6",
           "showlakes": true,
           "showland": true,
           "subunitcolor": "white"
          },
          "hoverlabel": {
           "align": "left"
          },
          "hovermode": "closest",
          "mapbox": {
           "style": "light"
          },
          "paper_bgcolor": "white",
          "plot_bgcolor": "#E5ECF6",
          "polar": {
           "angularaxis": {
            "gridcolor": "white",
            "linecolor": "white",
            "ticks": ""
           },
           "bgcolor": "#E5ECF6",
           "radialaxis": {
            "gridcolor": "white",
            "linecolor": "white",
            "ticks": ""
           }
          },
          "scene": {
           "xaxis": {
            "backgroundcolor": "#E5ECF6",
            "gridcolor": "white",
            "gridwidth": 2,
            "linecolor": "white",
            "showbackground": true,
            "ticks": "",
            "zerolinecolor": "white"
           },
           "yaxis": {
            "backgroundcolor": "#E5ECF6",
            "gridcolor": "white",
            "gridwidth": 2,
            "linecolor": "white",
            "showbackground": true,
            "ticks": "",
            "zerolinecolor": "white"
           },
           "zaxis": {
            "backgroundcolor": "#E5ECF6",
            "gridcolor": "white",
            "gridwidth": 2,
            "linecolor": "white",
            "showbackground": true,
            "ticks": "",
            "zerolinecolor": "white"
           }
          },
          "shapedefaults": {
           "line": {
            "color": "#2a3f5f"
           }
          },
          "ternary": {
           "aaxis": {
            "gridcolor": "white",
            "linecolor": "white",
            "ticks": ""
           },
           "baxis": {
            "gridcolor": "white",
            "linecolor": "white",
            "ticks": ""
           },
           "bgcolor": "#E5ECF6",
           "caxis": {
            "gridcolor": "white",
            "linecolor": "white",
            "ticks": ""
           }
          },
          "title": {
           "x": 0.05
          },
          "xaxis": {
           "automargin": true,
           "gridcolor": "white",
           "linecolor": "white",
           "ticks": "",
           "title": {
            "standoff": 15
           },
           "zerolinecolor": "white",
           "zerolinewidth": 2
          },
          "yaxis": {
           "automargin": true,
           "gridcolor": "white",
           "linecolor": "white",
           "ticks": "",
           "title": {
            "standoff": 15
           },
           "zerolinecolor": "white",
           "zerolinewidth": 2
          }
         }
        },
        "title": {
         "text": "XGBoost Classifier: Erreur Moyenne"
        },
        "xaxis": {
         "title": {
          "text": "Epoch"
         }
        },
        "yaxis": {
         "title": {
          "text": "merror"
         }
        }
       }
      }
     },
     "metadata": {},
     "output_type": "display_data"
    },
    {
     "data": {
      "application/vnd.plotly.v1+json": {
       "config": {
        "plotlyServerURL": "https://plot.ly"
       },
       "data": [
        {
         "mode": "lines",
         "name": "validation_0",
         "type": "scatter",
         "x": [
          0,
          1,
          2,
          3,
          4,
          5,
          6,
          7,
          8,
          9,
          10,
          11,
          12,
          13,
          14,
          15,
          16,
          17,
          18,
          19,
          20,
          21,
          22,
          23,
          24,
          25,
          26,
          27,
          28,
          29,
          30,
          31,
          32,
          33,
          34,
          35,
          36,
          37,
          38,
          39,
          40,
          41,
          42,
          43,
          44,
          45,
          46,
          47,
          48,
          49,
          50,
          51,
          52,
          53,
          54,
          55,
          56,
          57,
          58,
          59,
          60,
          61,
          62,
          63,
          64,
          65,
          66,
          67,
          68,
          69,
          70,
          71,
          72,
          73,
          74,
          75,
          76,
          77,
          78,
          79,
          80,
          81,
          82,
          83,
          84,
          85,
          86,
          87,
          88,
          89,
          90,
          91,
          92,
          93,
          94,
          95,
          96,
          97,
          98,
          99,
          100,
          101,
          102,
          103,
          104
         ],
         "y": [
          1.4674398931259074,
          1.2233181914971596,
          1.0615514909813126,
          0.9459693199071688,
          0.8582934585731982,
          0.7914746443172668,
          0.7305048912662482,
          0.6891055300750464,
          0.6433162672382257,
          0.6025530240648369,
          0.5695940211447164,
          0.5388313336365188,
          0.5168379880641788,
          0.4940723502569682,
          0.4747705074286286,
          0.4600579949551409,
          0.4444231769822341,
          0.4325961576527976,
          0.4245792186478581,
          0.41135096754723516,
          0.40052439124111994,
          0.3941304622536262,
          0.3839010968775852,
          0.37220224784773026,
          0.3628858144106617,
          0.35606408211834184,
          0.35045155733190436,
          0.3412699686440068,
          0.3342225698154667,
          0.32783407971358175,
          0.3223511002618346,
          0.3147924495967149,
          0.30689944999135294,
          0.302654206463074,
          0.29773517676665806,
          0.2942770783897122,
          0.28803189154838504,
          0.2829275462654503,
          0.278676099857784,
          0.2738349129439209,
          0.2702462810633755,
          0.2675129221587147,
          0.265358548511031,
          0.2631047845762273,
          0.25947874980825797,
          0.2551211636003036,
          0.2525011147450175,
          0.24944184509355335,
          0.2440903483262189,
          0.24189989230929212,
          0.23884484046991802,
          0.23546971647697246,
          0.23051318210462143,
          0.22813313231433796,
          0.22486418138219708,
          0.22241928853752063,
          0.21854207054582286,
          0.21612054810202844,
          0.21311239178093005,
          0.2089305073575006,
          0.2051438347670146,
          0.20305538391027678,
          0.20045561861710845,
          0.19802566041715078,
          0.19629778185071936,
          0.1929974768353416,
          0.19083795788008606,
          0.1885007735522124,
          0.18695387312897743,
          0.18528979245536667,
          0.18238450910525528,
          0.1805527068461144,
          0.17895610576793958,
          0.17661826736109354,
          0.1743918800851146,
          0.171370384275702,
          0.1696958757605102,
          0.168534675333733,
          0.16707540280192093,
          0.16618795270830553,
          0.16454090747033748,
          0.16295993243280527,
          0.16182604677231344,
          0.1607571649357229,
          0.1588011583028025,
          0.15664042770590766,
          0.1544953077954516,
          0.1532564402667341,
          0.15191357333599767,
          0.15040322897773523,
          0.14913515201778324,
          0.14757469004531493,
          0.1456586766679036,
          0.14486591358791864,
          0.14265864802524217,
          0.14132140791771391,
          0.14047148597934236,
          0.13847196988392368,
          0.13693990910490322,
          0.13531554388059824,
          0.1337758673667947,
          0.13270019600020572,
          0.1310112402274581,
          0.12950747388569414,
          0.12853476299364594
         ]
        },
        {
         "mode": "lines",
         "name": "validation_1",
         "type": "scatter",
         "x": [
          0,
          1,
          2,
          3,
          4,
          5,
          6,
          7,
          8,
          9,
          10,
          11,
          12,
          13,
          14,
          15,
          16,
          17,
          18,
          19,
          20,
          21,
          22,
          23,
          24,
          25,
          26,
          27,
          28,
          29,
          30,
          31,
          32,
          33,
          34,
          35,
          36,
          37,
          38,
          39,
          40,
          41,
          42,
          43,
          44,
          45,
          46,
          47,
          48,
          49,
          50,
          51,
          52,
          53,
          54,
          55,
          56,
          57,
          58,
          59,
          60,
          61,
          62,
          63,
          64,
          65,
          66,
          67,
          68,
          69,
          70,
          71,
          72,
          73,
          74,
          75,
          76,
          77,
          78,
          79,
          80,
          81,
          82,
          83,
          84,
          85,
          86,
          87,
          88,
          89,
          90,
          91,
          92,
          93,
          94,
          95,
          96,
          97,
          98,
          99,
          100,
          101,
          102,
          103,
          104
         ],
         "y": [
          1.4844074140256134,
          1.2514475382183154,
          1.0995572632392951,
          0.9900051072108007,
          0.9076817432336047,
          0.8471973638355205,
          0.7916271910906542,
          0.7551761882538992,
          0.7172495705715675,
          0.6824024617012623,
          0.6542331407335655,
          0.6297799326501413,
          0.6135436116407315,
          0.5960626915163171,
          0.5816038352648857,
          0.5703680443865932,
          0.5593602170991906,
          0.5494217735338836,
          0.5435634369610267,
          0.5351807058841034,
          0.5288779346222898,
          0.5247160655233437,
          0.5197569665121283,
          0.5130190867285044,
          0.5082546560923434,
          0.5070036518554393,
          0.5044022894423911,
          0.49970978186438325,
          0.49565910525330836,
          0.4937981163866538,
          0.49131850130378013,
          0.4866786217918636,
          0.4828401047052681,
          0.480545110919236,
          0.4795387883274335,
          0.47770800936666996,
          0.4745764564510207,
          0.4725260154945621,
          0.4710389963245592,
          0.4692063350717751,
          0.46706442980319474,
          0.465172467070699,
          0.464313073703627,
          0.4637614118588204,
          0.46222574860485993,
          0.4606197086051644,
          0.4593956515099879,
          0.4577622193283586,
          0.455529670166827,
          0.4559756910816542,
          0.45458430737506145,
          0.45324141922729916,
          0.4515826271021853,
          0.451531825200652,
          0.4510241555042632,
          0.4507934252272172,
          0.4500277786554029,
          0.45041564588674865,
          0.44934187683586413,
          0.44736551900067506,
          0.44670931089930543,
          0.44651014345812157,
          0.44588239086822307,
          0.44616831912203064,
          0.44581145711683917,
          0.446118985537837,
          0.445971839506623,
          0.4460956549345173,
          0.4458252741979163,
          0.44491098573314014,
          0.445122581716873,
          0.4446649950934051,
          0.44451283868536173,
          0.4439764538292194,
          0.4428331931460881,
          0.4425244671768406,
          0.44197841235167995,
          0.4421246227612576,
          0.4426964335082305,
          0.4432664359674904,
          0.44302568710929263,
          0.44237882518282007,
          0.44243907146605643,
          0.4418564728692502,
          0.4417739858435431,
          0.443047130811571,
          0.4429292625458423,
          0.44323866545935764,
          0.44394601887549223,
          0.44374503993539155,
          0.4433503240080875,
          0.44308741787279193,
          0.44341681307545844,
          0.44346729918857564,
          0.44416882201668884,
          0.44459617879586977,
          0.44449293343817997,
          0.4449269258618786,
          0.44434436878464567,
          0.44472246932436865,
          0.4449513076037627,
          0.44554455923163544,
          0.4461756504409219,
          0.4464839924880609,
          0.446312555984688
         ]
        }
       ],
       "layout": {
        "template": {
         "data": {
          "bar": [
           {
            "error_x": {
             "color": "#2a3f5f"
            },
            "error_y": {
             "color": "#2a3f5f"
            },
            "marker": {
             "line": {
              "color": "#E5ECF6",
              "width": 0.5
             },
             "pattern": {
              "fillmode": "overlay",
              "size": 10,
              "solidity": 0.2
             }
            },
            "type": "bar"
           }
          ],
          "barpolar": [
           {
            "marker": {
             "line": {
              "color": "#E5ECF6",
              "width": 0.5
             },
             "pattern": {
              "fillmode": "overlay",
              "size": 10,
              "solidity": 0.2
             }
            },
            "type": "barpolar"
           }
          ],
          "carpet": [
           {
            "aaxis": {
             "endlinecolor": "#2a3f5f",
             "gridcolor": "white",
             "linecolor": "white",
             "minorgridcolor": "white",
             "startlinecolor": "#2a3f5f"
            },
            "baxis": {
             "endlinecolor": "#2a3f5f",
             "gridcolor": "white",
             "linecolor": "white",
             "minorgridcolor": "white",
             "startlinecolor": "#2a3f5f"
            },
            "type": "carpet"
           }
          ],
          "choropleth": [
           {
            "colorbar": {
             "outlinewidth": 0,
             "ticks": ""
            },
            "type": "choropleth"
           }
          ],
          "contour": [
           {
            "colorbar": {
             "outlinewidth": 0,
             "ticks": ""
            },
            "colorscale": [
             [
              0,
              "#0d0887"
             ],
             [
              0.1111111111111111,
              "#46039f"
             ],
             [
              0.2222222222222222,
              "#7201a8"
             ],
             [
              0.3333333333333333,
              "#9c179e"
             ],
             [
              0.4444444444444444,
              "#bd3786"
             ],
             [
              0.5555555555555556,
              "#d8576b"
             ],
             [
              0.6666666666666666,
              "#ed7953"
             ],
             [
              0.7777777777777778,
              "#fb9f3a"
             ],
             [
              0.8888888888888888,
              "#fdca26"
             ],
             [
              1,
              "#f0f921"
             ]
            ],
            "type": "contour"
           }
          ],
          "contourcarpet": [
           {
            "colorbar": {
             "outlinewidth": 0,
             "ticks": ""
            },
            "type": "contourcarpet"
           }
          ],
          "heatmap": [
           {
            "colorbar": {
             "outlinewidth": 0,
             "ticks": ""
            },
            "colorscale": [
             [
              0,
              "#0d0887"
             ],
             [
              0.1111111111111111,
              "#46039f"
             ],
             [
              0.2222222222222222,
              "#7201a8"
             ],
             [
              0.3333333333333333,
              "#9c179e"
             ],
             [
              0.4444444444444444,
              "#bd3786"
             ],
             [
              0.5555555555555556,
              "#d8576b"
             ],
             [
              0.6666666666666666,
              "#ed7953"
             ],
             [
              0.7777777777777778,
              "#fb9f3a"
             ],
             [
              0.8888888888888888,
              "#fdca26"
             ],
             [
              1,
              "#f0f921"
             ]
            ],
            "type": "heatmap"
           }
          ],
          "heatmapgl": [
           {
            "colorbar": {
             "outlinewidth": 0,
             "ticks": ""
            },
            "colorscale": [
             [
              0,
              "#0d0887"
             ],
             [
              0.1111111111111111,
              "#46039f"
             ],
             [
              0.2222222222222222,
              "#7201a8"
             ],
             [
              0.3333333333333333,
              "#9c179e"
             ],
             [
              0.4444444444444444,
              "#bd3786"
             ],
             [
              0.5555555555555556,
              "#d8576b"
             ],
             [
              0.6666666666666666,
              "#ed7953"
             ],
             [
              0.7777777777777778,
              "#fb9f3a"
             ],
             [
              0.8888888888888888,
              "#fdca26"
             ],
             [
              1,
              "#f0f921"
             ]
            ],
            "type": "heatmapgl"
           }
          ],
          "histogram": [
           {
            "marker": {
             "pattern": {
              "fillmode": "overlay",
              "size": 10,
              "solidity": 0.2
             }
            },
            "type": "histogram"
           }
          ],
          "histogram2d": [
           {
            "colorbar": {
             "outlinewidth": 0,
             "ticks": ""
            },
            "colorscale": [
             [
              0,
              "#0d0887"
             ],
             [
              0.1111111111111111,
              "#46039f"
             ],
             [
              0.2222222222222222,
              "#7201a8"
             ],
             [
              0.3333333333333333,
              "#9c179e"
             ],
             [
              0.4444444444444444,
              "#bd3786"
             ],
             [
              0.5555555555555556,
              "#d8576b"
             ],
             [
              0.6666666666666666,
              "#ed7953"
             ],
             [
              0.7777777777777778,
              "#fb9f3a"
             ],
             [
              0.8888888888888888,
              "#fdca26"
             ],
             [
              1,
              "#f0f921"
             ]
            ],
            "type": "histogram2d"
           }
          ],
          "histogram2dcontour": [
           {
            "colorbar": {
             "outlinewidth": 0,
             "ticks": ""
            },
            "colorscale": [
             [
              0,
              "#0d0887"
             ],
             [
              0.1111111111111111,
              "#46039f"
             ],
             [
              0.2222222222222222,
              "#7201a8"
             ],
             [
              0.3333333333333333,
              "#9c179e"
             ],
             [
              0.4444444444444444,
              "#bd3786"
             ],
             [
              0.5555555555555556,
              "#d8576b"
             ],
             [
              0.6666666666666666,
              "#ed7953"
             ],
             [
              0.7777777777777778,
              "#fb9f3a"
             ],
             [
              0.8888888888888888,
              "#fdca26"
             ],
             [
              1,
              "#f0f921"
             ]
            ],
            "type": "histogram2dcontour"
           }
          ],
          "mesh3d": [
           {
            "colorbar": {
             "outlinewidth": 0,
             "ticks": ""
            },
            "type": "mesh3d"
           }
          ],
          "parcoords": [
           {
            "line": {
             "colorbar": {
              "outlinewidth": 0,
              "ticks": ""
             }
            },
            "type": "parcoords"
           }
          ],
          "pie": [
           {
            "automargin": true,
            "type": "pie"
           }
          ],
          "scatter": [
           {
            "fillpattern": {
             "fillmode": "overlay",
             "size": 10,
             "solidity": 0.2
            },
            "type": "scatter"
           }
          ],
          "scatter3d": [
           {
            "line": {
             "colorbar": {
              "outlinewidth": 0,
              "ticks": ""
             }
            },
            "marker": {
             "colorbar": {
              "outlinewidth": 0,
              "ticks": ""
             }
            },
            "type": "scatter3d"
           }
          ],
          "scattercarpet": [
           {
            "marker": {
             "colorbar": {
              "outlinewidth": 0,
              "ticks": ""
             }
            },
            "type": "scattercarpet"
           }
          ],
          "scattergeo": [
           {
            "marker": {
             "colorbar": {
              "outlinewidth": 0,
              "ticks": ""
             }
            },
            "type": "scattergeo"
           }
          ],
          "scattergl": [
           {
            "marker": {
             "colorbar": {
              "outlinewidth": 0,
              "ticks": ""
             }
            },
            "type": "scattergl"
           }
          ],
          "scattermapbox": [
           {
            "marker": {
             "colorbar": {
              "outlinewidth": 0,
              "ticks": ""
             }
            },
            "type": "scattermapbox"
           }
          ],
          "scatterpolar": [
           {
            "marker": {
             "colorbar": {
              "outlinewidth": 0,
              "ticks": ""
             }
            },
            "type": "scatterpolar"
           }
          ],
          "scatterpolargl": [
           {
            "marker": {
             "colorbar": {
              "outlinewidth": 0,
              "ticks": ""
             }
            },
            "type": "scatterpolargl"
           }
          ],
          "scatterternary": [
           {
            "marker": {
             "colorbar": {
              "outlinewidth": 0,
              "ticks": ""
             }
            },
            "type": "scatterternary"
           }
          ],
          "surface": [
           {
            "colorbar": {
             "outlinewidth": 0,
             "ticks": ""
            },
            "colorscale": [
             [
              0,
              "#0d0887"
             ],
             [
              0.1111111111111111,
              "#46039f"
             ],
             [
              0.2222222222222222,
              "#7201a8"
             ],
             [
              0.3333333333333333,
              "#9c179e"
             ],
             [
              0.4444444444444444,
              "#bd3786"
             ],
             [
              0.5555555555555556,
              "#d8576b"
             ],
             [
              0.6666666666666666,
              "#ed7953"
             ],
             [
              0.7777777777777778,
              "#fb9f3a"
             ],
             [
              0.8888888888888888,
              "#fdca26"
             ],
             [
              1,
              "#f0f921"
             ]
            ],
            "type": "surface"
           }
          ],
          "table": [
           {
            "cells": {
             "fill": {
              "color": "#EBF0F8"
             },
             "line": {
              "color": "white"
             }
            },
            "header": {
             "fill": {
              "color": "#C8D4E3"
             },
             "line": {
              "color": "white"
             }
            },
            "type": "table"
           }
          ]
         },
         "layout": {
          "annotationdefaults": {
           "arrowcolor": "#2a3f5f",
           "arrowhead": 0,
           "arrowwidth": 1
          },
          "autotypenumbers": "strict",
          "coloraxis": {
           "colorbar": {
            "outlinewidth": 0,
            "ticks": ""
           }
          },
          "colorscale": {
           "diverging": [
            [
             0,
             "#8e0152"
            ],
            [
             0.1,
             "#c51b7d"
            ],
            [
             0.2,
             "#de77ae"
            ],
            [
             0.3,
             "#f1b6da"
            ],
            [
             0.4,
             "#fde0ef"
            ],
            [
             0.5,
             "#f7f7f7"
            ],
            [
             0.6,
             "#e6f5d0"
            ],
            [
             0.7,
             "#b8e186"
            ],
            [
             0.8,
             "#7fbc41"
            ],
            [
             0.9,
             "#4d9221"
            ],
            [
             1,
             "#276419"
            ]
           ],
           "sequential": [
            [
             0,
             "#0d0887"
            ],
            [
             0.1111111111111111,
             "#46039f"
            ],
            [
             0.2222222222222222,
             "#7201a8"
            ],
            [
             0.3333333333333333,
             "#9c179e"
            ],
            [
             0.4444444444444444,
             "#bd3786"
            ],
            [
             0.5555555555555556,
             "#d8576b"
            ],
            [
             0.6666666666666666,
             "#ed7953"
            ],
            [
             0.7777777777777778,
             "#fb9f3a"
            ],
            [
             0.8888888888888888,
             "#fdca26"
            ],
            [
             1,
             "#f0f921"
            ]
           ],
           "sequentialminus": [
            [
             0,
             "#0d0887"
            ],
            [
             0.1111111111111111,
             "#46039f"
            ],
            [
             0.2222222222222222,
             "#7201a8"
            ],
            [
             0.3333333333333333,
             "#9c179e"
            ],
            [
             0.4444444444444444,
             "#bd3786"
            ],
            [
             0.5555555555555556,
             "#d8576b"
            ],
            [
             0.6666666666666666,
             "#ed7953"
            ],
            [
             0.7777777777777778,
             "#fb9f3a"
            ],
            [
             0.8888888888888888,
             "#fdca26"
            ],
            [
             1,
             "#f0f921"
            ]
           ]
          },
          "colorway": [
           "#636efa",
           "#EF553B",
           "#00cc96",
           "#ab63fa",
           "#FFA15A",
           "#19d3f3",
           "#FF6692",
           "#B6E880",
           "#FF97FF",
           "#FECB52"
          ],
          "font": {
           "color": "#2a3f5f"
          },
          "geo": {
           "bgcolor": "white",
           "lakecolor": "white",
           "landcolor": "#E5ECF6",
           "showlakes": true,
           "showland": true,
           "subunitcolor": "white"
          },
          "hoverlabel": {
           "align": "left"
          },
          "hovermode": "closest",
          "mapbox": {
           "style": "light"
          },
          "paper_bgcolor": "white",
          "plot_bgcolor": "#E5ECF6",
          "polar": {
           "angularaxis": {
            "gridcolor": "white",
            "linecolor": "white",
            "ticks": ""
           },
           "bgcolor": "#E5ECF6",
           "radialaxis": {
            "gridcolor": "white",
            "linecolor": "white",
            "ticks": ""
           }
          },
          "scene": {
           "xaxis": {
            "backgroundcolor": "#E5ECF6",
            "gridcolor": "white",
            "gridwidth": 2,
            "linecolor": "white",
            "showbackground": true,
            "ticks": "",
            "zerolinecolor": "white"
           },
           "yaxis": {
            "backgroundcolor": "#E5ECF6",
            "gridcolor": "white",
            "gridwidth": 2,
            "linecolor": "white",
            "showbackground": true,
            "ticks": "",
            "zerolinecolor": "white"
           },
           "zaxis": {
            "backgroundcolor": "#E5ECF6",
            "gridcolor": "white",
            "gridwidth": 2,
            "linecolor": "white",
            "showbackground": true,
            "ticks": "",
            "zerolinecolor": "white"
           }
          },
          "shapedefaults": {
           "line": {
            "color": "#2a3f5f"
           }
          },
          "ternary": {
           "aaxis": {
            "gridcolor": "white",
            "linecolor": "white",
            "ticks": ""
           },
           "baxis": {
            "gridcolor": "white",
            "linecolor": "white",
            "ticks": ""
           },
           "bgcolor": "#E5ECF6",
           "caxis": {
            "gridcolor": "white",
            "linecolor": "white",
            "ticks": ""
           }
          },
          "title": {
           "x": 0.05
          },
          "xaxis": {
           "automargin": true,
           "gridcolor": "white",
           "linecolor": "white",
           "ticks": "",
           "title": {
            "standoff": 15
           },
           "zerolinecolor": "white",
           "zerolinewidth": 2
          },
          "yaxis": {
           "automargin": true,
           "gridcolor": "white",
           "linecolor": "white",
           "ticks": "",
           "title": {
            "standoff": 15
           },
           "zerolinecolor": "white",
           "zerolinewidth": 2
          }
         }
        },
        "title": {
         "text": "XGBoostClassifier: Moyenne LogLoss"
        },
        "xaxis": {
         "title": {
          "text": "Epoch"
         }
        },
        "yaxis": {
         "title": {
          "text": "mlogloss"
         }
        }
       }
      }
     },
     "metadata": {},
     "output_type": "display_data"
    },
    {
     "data": {
      "application/vnd.plotly.v1+json": {
       "config": {
        "plotlyServerURL": "https://plot.ly"
       },
       "data": [
        {
         "colorscale": [
          [
           0,
           "rgb(255,245,240)"
          ],
          [
           0.125,
           "rgb(254,224,210)"
          ],
          [
           0.25,
           "rgb(252,187,161)"
          ],
          [
           0.375,
           "rgb(252,146,114)"
          ],
          [
           0.5,
           "rgb(251,106,74)"
          ],
          [
           0.625,
           "rgb(239,59,44)"
          ],
          [
           0.75,
           "rgb(203,24,29)"
          ],
          [
           0.875,
           "rgb(165,15,21)"
          ],
          [
           1,
           "rgb(103,0,13)"
          ]
         ],
         "type": "heatmap",
         "x": [
          0,
          1,
          2,
          3,
          4,
          5,
          6
         ],
         "y": [
          0,
          1,
          2,
          3,
          4,
          5,
          6
         ],
         "z": [
          [
           220,
           0,
           1,
           1,
           3,
           0,
           2
          ],
          [
           4,
           70,
           26,
           3,
           0,
           0,
           0
          ],
          [
           1,
           15,
           323,
           42,
           3,
           0,
           0
          ],
          [
           2,
           0,
           42,
           257,
           41,
           1,
           0
          ],
          [
           1,
           0,
           5,
           28,
           298,
           12,
           0
          ],
          [
           3,
           0,
           0,
           0,
           20,
           160,
           4
          ],
          [
           2,
           0,
           0,
           0,
           1,
           7,
           97
          ]
         ]
        }
       ],
       "layout": {
        "annotations": [
         {
          "font": {
           "color": "white",
           "size": 16
          },
          "showarrow": false,
          "text": "220",
          "x": 0,
          "y": 0
         },
         {
          "font": {
           "color": "black",
           "size": 16
          },
          "showarrow": false,
          "text": "0",
          "x": 1,
          "y": 0
         },
         {
          "font": {
           "color": "black",
           "size": 16
          },
          "showarrow": false,
          "text": "1",
          "x": 2,
          "y": 0
         },
         {
          "font": {
           "color": "black",
           "size": 16
          },
          "showarrow": false,
          "text": "1",
          "x": 3,
          "y": 0
         },
         {
          "font": {
           "color": "black",
           "size": 16
          },
          "showarrow": false,
          "text": "3",
          "x": 4,
          "y": 0
         },
         {
          "font": {
           "color": "black",
           "size": 16
          },
          "showarrow": false,
          "text": "0",
          "x": 5,
          "y": 0
         },
         {
          "font": {
           "color": "black",
           "size": 16
          },
          "showarrow": false,
          "text": "2",
          "x": 6,
          "y": 0
         },
         {
          "font": {
           "color": "black",
           "size": 16
          },
          "showarrow": false,
          "text": "4",
          "x": 0,
          "y": 1
         },
         {
          "font": {
           "color": "black",
           "size": 16
          },
          "showarrow": false,
          "text": "70",
          "x": 1,
          "y": 1
         },
         {
          "font": {
           "color": "black",
           "size": 16
          },
          "showarrow": false,
          "text": "26",
          "x": 2,
          "y": 1
         },
         {
          "font": {
           "color": "black",
           "size": 16
          },
          "showarrow": false,
          "text": "3",
          "x": 3,
          "y": 1
         },
         {
          "font": {
           "color": "black",
           "size": 16
          },
          "showarrow": false,
          "text": "0",
          "x": 4,
          "y": 1
         },
         {
          "font": {
           "color": "black",
           "size": 16
          },
          "showarrow": false,
          "text": "0",
          "x": 5,
          "y": 1
         },
         {
          "font": {
           "color": "black",
           "size": 16
          },
          "showarrow": false,
          "text": "0",
          "x": 6,
          "y": 1
         },
         {
          "font": {
           "color": "black",
           "size": 16
          },
          "showarrow": false,
          "text": "1",
          "x": 0,
          "y": 2
         },
         {
          "font": {
           "color": "black",
           "size": 16
          },
          "showarrow": false,
          "text": "15",
          "x": 1,
          "y": 2
         },
         {
          "font": {
           "color": "white",
           "size": 16
          },
          "showarrow": false,
          "text": "323",
          "x": 2,
          "y": 2
         },
         {
          "font": {
           "color": "black",
           "size": 16
          },
          "showarrow": false,
          "text": "42",
          "x": 3,
          "y": 2
         },
         {
          "font": {
           "color": "black",
           "size": 16
          },
          "showarrow": false,
          "text": "3",
          "x": 4,
          "y": 2
         },
         {
          "font": {
           "color": "black",
           "size": 16
          },
          "showarrow": false,
          "text": "0",
          "x": 5,
          "y": 2
         },
         {
          "font": {
           "color": "black",
           "size": 16
          },
          "showarrow": false,
          "text": "0",
          "x": 6,
          "y": 2
         },
         {
          "font": {
           "color": "black",
           "size": 16
          },
          "showarrow": false,
          "text": "2",
          "x": 0,
          "y": 3
         },
         {
          "font": {
           "color": "black",
           "size": 16
          },
          "showarrow": false,
          "text": "0",
          "x": 1,
          "y": 3
         },
         {
          "font": {
           "color": "black",
           "size": 16
          },
          "showarrow": false,
          "text": "42",
          "x": 2,
          "y": 3
         },
         {
          "font": {
           "color": "white",
           "size": 16
          },
          "showarrow": false,
          "text": "257",
          "x": 3,
          "y": 3
         },
         {
          "font": {
           "color": "black",
           "size": 16
          },
          "showarrow": false,
          "text": "41",
          "x": 4,
          "y": 3
         },
         {
          "font": {
           "color": "black",
           "size": 16
          },
          "showarrow": false,
          "text": "1",
          "x": 5,
          "y": 3
         },
         {
          "font": {
           "color": "black",
           "size": 16
          },
          "showarrow": false,
          "text": "0",
          "x": 6,
          "y": 3
         },
         {
          "font": {
           "color": "black",
           "size": 16
          },
          "showarrow": false,
          "text": "1",
          "x": 0,
          "y": 4
         },
         {
          "font": {
           "color": "black",
           "size": 16
          },
          "showarrow": false,
          "text": "0",
          "x": 1,
          "y": 4
         },
         {
          "font": {
           "color": "black",
           "size": 16
          },
          "showarrow": false,
          "text": "5",
          "x": 2,
          "y": 4
         },
         {
          "font": {
           "color": "black",
           "size": 16
          },
          "showarrow": false,
          "text": "28",
          "x": 3,
          "y": 4
         },
         {
          "font": {
           "color": "white",
           "size": 16
          },
          "showarrow": false,
          "text": "298",
          "x": 4,
          "y": 4
         },
         {
          "font": {
           "color": "black",
           "size": 16
          },
          "showarrow": false,
          "text": "12",
          "x": 5,
          "y": 4
         },
         {
          "font": {
           "color": "black",
           "size": 16
          },
          "showarrow": false,
          "text": "0",
          "x": 6,
          "y": 4
         },
         {
          "font": {
           "color": "black",
           "size": 16
          },
          "showarrow": false,
          "text": "3",
          "x": 0,
          "y": 5
         },
         {
          "font": {
           "color": "black",
           "size": 16
          },
          "showarrow": false,
          "text": "0",
          "x": 1,
          "y": 5
         },
         {
          "font": {
           "color": "black",
           "size": 16
          },
          "showarrow": false,
          "text": "0",
          "x": 2,
          "y": 5
         },
         {
          "font": {
           "color": "black",
           "size": 16
          },
          "showarrow": false,
          "text": "0",
          "x": 3,
          "y": 5
         },
         {
          "font": {
           "color": "black",
           "size": 16
          },
          "showarrow": false,
          "text": "20",
          "x": 4,
          "y": 5
         },
         {
          "font": {
           "color": "black",
           "size": 16
          },
          "showarrow": false,
          "text": "160",
          "x": 5,
          "y": 5
         },
         {
          "font": {
           "color": "black",
           "size": 16
          },
          "showarrow": false,
          "text": "4",
          "x": 6,
          "y": 5
         },
         {
          "font": {
           "color": "black",
           "size": 16
          },
          "showarrow": false,
          "text": "2",
          "x": 0,
          "y": 6
         },
         {
          "font": {
           "color": "black",
           "size": 16
          },
          "showarrow": false,
          "text": "0",
          "x": 1,
          "y": 6
         },
         {
          "font": {
           "color": "black",
           "size": 16
          },
          "showarrow": false,
          "text": "0",
          "x": 2,
          "y": 6
         },
         {
          "font": {
           "color": "black",
           "size": 16
          },
          "showarrow": false,
          "text": "0",
          "x": 3,
          "y": 6
         },
         {
          "font": {
           "color": "black",
           "size": 16
          },
          "showarrow": false,
          "text": "1",
          "x": 4,
          "y": 6
         },
         {
          "font": {
           "color": "black",
           "size": 16
          },
          "showarrow": false,
          "text": "7",
          "x": 5,
          "y": 6
         },
         {
          "font": {
           "color": "black",
           "size": 16
          },
          "showarrow": false,
          "text": "97",
          "x": 6,
          "y": 6
         }
        ],
        "autosize": false,
        "height": 600,
        "template": {
         "data": {
          "bar": [
           {
            "error_x": {
             "color": "#2a3f5f"
            },
            "error_y": {
             "color": "#2a3f5f"
            },
            "marker": {
             "line": {
              "color": "#E5ECF6",
              "width": 0.5
             },
             "pattern": {
              "fillmode": "overlay",
              "size": 10,
              "solidity": 0.2
             }
            },
            "type": "bar"
           }
          ],
          "barpolar": [
           {
            "marker": {
             "line": {
              "color": "#E5ECF6",
              "width": 0.5
             },
             "pattern": {
              "fillmode": "overlay",
              "size": 10,
              "solidity": 0.2
             }
            },
            "type": "barpolar"
           }
          ],
          "carpet": [
           {
            "aaxis": {
             "endlinecolor": "#2a3f5f",
             "gridcolor": "white",
             "linecolor": "white",
             "minorgridcolor": "white",
             "startlinecolor": "#2a3f5f"
            },
            "baxis": {
             "endlinecolor": "#2a3f5f",
             "gridcolor": "white",
             "linecolor": "white",
             "minorgridcolor": "white",
             "startlinecolor": "#2a3f5f"
            },
            "type": "carpet"
           }
          ],
          "choropleth": [
           {
            "colorbar": {
             "outlinewidth": 0,
             "ticks": ""
            },
            "type": "choropleth"
           }
          ],
          "contour": [
           {
            "colorbar": {
             "outlinewidth": 0,
             "ticks": ""
            },
            "colorscale": [
             [
              0,
              "#0d0887"
             ],
             [
              0.1111111111111111,
              "#46039f"
             ],
             [
              0.2222222222222222,
              "#7201a8"
             ],
             [
              0.3333333333333333,
              "#9c179e"
             ],
             [
              0.4444444444444444,
              "#bd3786"
             ],
             [
              0.5555555555555556,
              "#d8576b"
             ],
             [
              0.6666666666666666,
              "#ed7953"
             ],
             [
              0.7777777777777778,
              "#fb9f3a"
             ],
             [
              0.8888888888888888,
              "#fdca26"
             ],
             [
              1,
              "#f0f921"
             ]
            ],
            "type": "contour"
           }
          ],
          "contourcarpet": [
           {
            "colorbar": {
             "outlinewidth": 0,
             "ticks": ""
            },
            "type": "contourcarpet"
           }
          ],
          "heatmap": [
           {
            "colorbar": {
             "outlinewidth": 0,
             "ticks": ""
            },
            "colorscale": [
             [
              0,
              "#0d0887"
             ],
             [
              0.1111111111111111,
              "#46039f"
             ],
             [
              0.2222222222222222,
              "#7201a8"
             ],
             [
              0.3333333333333333,
              "#9c179e"
             ],
             [
              0.4444444444444444,
              "#bd3786"
             ],
             [
              0.5555555555555556,
              "#d8576b"
             ],
             [
              0.6666666666666666,
              "#ed7953"
             ],
             [
              0.7777777777777778,
              "#fb9f3a"
             ],
             [
              0.8888888888888888,
              "#fdca26"
             ],
             [
              1,
              "#f0f921"
             ]
            ],
            "type": "heatmap"
           }
          ],
          "heatmapgl": [
           {
            "colorbar": {
             "outlinewidth": 0,
             "ticks": ""
            },
            "colorscale": [
             [
              0,
              "#0d0887"
             ],
             [
              0.1111111111111111,
              "#46039f"
             ],
             [
              0.2222222222222222,
              "#7201a8"
             ],
             [
              0.3333333333333333,
              "#9c179e"
             ],
             [
              0.4444444444444444,
              "#bd3786"
             ],
             [
              0.5555555555555556,
              "#d8576b"
             ],
             [
              0.6666666666666666,
              "#ed7953"
             ],
             [
              0.7777777777777778,
              "#fb9f3a"
             ],
             [
              0.8888888888888888,
              "#fdca26"
             ],
             [
              1,
              "#f0f921"
             ]
            ],
            "type": "heatmapgl"
           }
          ],
          "histogram": [
           {
            "marker": {
             "pattern": {
              "fillmode": "overlay",
              "size": 10,
              "solidity": 0.2
             }
            },
            "type": "histogram"
           }
          ],
          "histogram2d": [
           {
            "colorbar": {
             "outlinewidth": 0,
             "ticks": ""
            },
            "colorscale": [
             [
              0,
              "#0d0887"
             ],
             [
              0.1111111111111111,
              "#46039f"
             ],
             [
              0.2222222222222222,
              "#7201a8"
             ],
             [
              0.3333333333333333,
              "#9c179e"
             ],
             [
              0.4444444444444444,
              "#bd3786"
             ],
             [
              0.5555555555555556,
              "#d8576b"
             ],
             [
              0.6666666666666666,
              "#ed7953"
             ],
             [
              0.7777777777777778,
              "#fb9f3a"
             ],
             [
              0.8888888888888888,
              "#fdca26"
             ],
             [
              1,
              "#f0f921"
             ]
            ],
            "type": "histogram2d"
           }
          ],
          "histogram2dcontour": [
           {
            "colorbar": {
             "outlinewidth": 0,
             "ticks": ""
            },
            "colorscale": [
             [
              0,
              "#0d0887"
             ],
             [
              0.1111111111111111,
              "#46039f"
             ],
             [
              0.2222222222222222,
              "#7201a8"
             ],
             [
              0.3333333333333333,
              "#9c179e"
             ],
             [
              0.4444444444444444,
              "#bd3786"
             ],
             [
              0.5555555555555556,
              "#d8576b"
             ],
             [
              0.6666666666666666,
              "#ed7953"
             ],
             [
              0.7777777777777778,
              "#fb9f3a"
             ],
             [
              0.8888888888888888,
              "#fdca26"
             ],
             [
              1,
              "#f0f921"
             ]
            ],
            "type": "histogram2dcontour"
           }
          ],
          "mesh3d": [
           {
            "colorbar": {
             "outlinewidth": 0,
             "ticks": ""
            },
            "type": "mesh3d"
           }
          ],
          "parcoords": [
           {
            "line": {
             "colorbar": {
              "outlinewidth": 0,
              "ticks": ""
             }
            },
            "type": "parcoords"
           }
          ],
          "pie": [
           {
            "automargin": true,
            "type": "pie"
           }
          ],
          "scatter": [
           {
            "fillpattern": {
             "fillmode": "overlay",
             "size": 10,
             "solidity": 0.2
            },
            "type": "scatter"
           }
          ],
          "scatter3d": [
           {
            "line": {
             "colorbar": {
              "outlinewidth": 0,
              "ticks": ""
             }
            },
            "marker": {
             "colorbar": {
              "outlinewidth": 0,
              "ticks": ""
             }
            },
            "type": "scatter3d"
           }
          ],
          "scattercarpet": [
           {
            "marker": {
             "colorbar": {
              "outlinewidth": 0,
              "ticks": ""
             }
            },
            "type": "scattercarpet"
           }
          ],
          "scattergeo": [
           {
            "marker": {
             "colorbar": {
              "outlinewidth": 0,
              "ticks": ""
             }
            },
            "type": "scattergeo"
           }
          ],
          "scattergl": [
           {
            "marker": {
             "colorbar": {
              "outlinewidth": 0,
              "ticks": ""
             }
            },
            "type": "scattergl"
           }
          ],
          "scattermapbox": [
           {
            "marker": {
             "colorbar": {
              "outlinewidth": 0,
              "ticks": ""
             }
            },
            "type": "scattermapbox"
           }
          ],
          "scatterpolar": [
           {
            "marker": {
             "colorbar": {
              "outlinewidth": 0,
              "ticks": ""
             }
            },
            "type": "scatterpolar"
           }
          ],
          "scatterpolargl": [
           {
            "marker": {
             "colorbar": {
              "outlinewidth": 0,
              "ticks": ""
             }
            },
            "type": "scatterpolargl"
           }
          ],
          "scatterternary": [
           {
            "marker": {
             "colorbar": {
              "outlinewidth": 0,
              "ticks": ""
             }
            },
            "type": "scatterternary"
           }
          ],
          "surface": [
           {
            "colorbar": {
             "outlinewidth": 0,
             "ticks": ""
            },
            "colorscale": [
             [
              0,
              "#0d0887"
             ],
             [
              0.1111111111111111,
              "#46039f"
             ],
             [
              0.2222222222222222,
              "#7201a8"
             ],
             [
              0.3333333333333333,
              "#9c179e"
             ],
             [
              0.4444444444444444,
              "#bd3786"
             ],
             [
              0.5555555555555556,
              "#d8576b"
             ],
             [
              0.6666666666666666,
              "#ed7953"
             ],
             [
              0.7777777777777778,
              "#fb9f3a"
             ],
             [
              0.8888888888888888,
              "#fdca26"
             ],
             [
              1,
              "#f0f921"
             ]
            ],
            "type": "surface"
           }
          ],
          "table": [
           {
            "cells": {
             "fill": {
              "color": "#EBF0F8"
             },
             "line": {
              "color": "white"
             }
            },
            "header": {
             "fill": {
              "color": "#C8D4E3"
             },
             "line": {
              "color": "white"
             }
            },
            "type": "table"
           }
          ]
         },
         "layout": {
          "annotationdefaults": {
           "arrowcolor": "#2a3f5f",
           "arrowhead": 0,
           "arrowwidth": 1
          },
          "autotypenumbers": "strict",
          "coloraxis": {
           "colorbar": {
            "outlinewidth": 0,
            "ticks": ""
           }
          },
          "colorscale": {
           "diverging": [
            [
             0,
             "#8e0152"
            ],
            [
             0.1,
             "#c51b7d"
            ],
            [
             0.2,
             "#de77ae"
            ],
            [
             0.3,
             "#f1b6da"
            ],
            [
             0.4,
             "#fde0ef"
            ],
            [
             0.5,
             "#f7f7f7"
            ],
            [
             0.6,
             "#e6f5d0"
            ],
            [
             0.7,
             "#b8e186"
            ],
            [
             0.8,
             "#7fbc41"
            ],
            [
             0.9,
             "#4d9221"
            ],
            [
             1,
             "#276419"
            ]
           ],
           "sequential": [
            [
             0,
             "#0d0887"
            ],
            [
             0.1111111111111111,
             "#46039f"
            ],
            [
             0.2222222222222222,
             "#7201a8"
            ],
            [
             0.3333333333333333,
             "#9c179e"
            ],
            [
             0.4444444444444444,
             "#bd3786"
            ],
            [
             0.5555555555555556,
             "#d8576b"
            ],
            [
             0.6666666666666666,
             "#ed7953"
            ],
            [
             0.7777777777777778,
             "#fb9f3a"
            ],
            [
             0.8888888888888888,
             "#fdca26"
            ],
            [
             1,
             "#f0f921"
            ]
           ],
           "sequentialminus": [
            [
             0,
             "#0d0887"
            ],
            [
             0.1111111111111111,
             "#46039f"
            ],
            [
             0.2222222222222222,
             "#7201a8"
            ],
            [
             0.3333333333333333,
             "#9c179e"
            ],
            [
             0.4444444444444444,
             "#bd3786"
            ],
            [
             0.5555555555555556,
             "#d8576b"
            ],
            [
             0.6666666666666666,
             "#ed7953"
            ],
            [
             0.7777777777777778,
             "#fb9f3a"
            ],
            [
             0.8888888888888888,
             "#fdca26"
            ],
            [
             1,
             "#f0f921"
            ]
           ]
          },
          "colorway": [
           "#636efa",
           "#EF553B",
           "#00cc96",
           "#ab63fa",
           "#FFA15A",
           "#19d3f3",
           "#FF6692",
           "#B6E880",
           "#FF97FF",
           "#FECB52"
          ],
          "font": {
           "color": "#2a3f5f"
          },
          "geo": {
           "bgcolor": "white",
           "lakecolor": "white",
           "landcolor": "#E5ECF6",
           "showlakes": true,
           "showland": true,
           "subunitcolor": "white"
          },
          "hoverlabel": {
           "align": "left"
          },
          "hovermode": "closest",
          "mapbox": {
           "style": "light"
          },
          "paper_bgcolor": "white",
          "plot_bgcolor": "#E5ECF6",
          "polar": {
           "angularaxis": {
            "gridcolor": "white",
            "linecolor": "white",
            "ticks": ""
           },
           "bgcolor": "#E5ECF6",
           "radialaxis": {
            "gridcolor": "white",
            "linecolor": "white",
            "ticks": ""
           }
          },
          "scene": {
           "xaxis": {
            "backgroundcolor": "#E5ECF6",
            "gridcolor": "white",
            "gridwidth": 2,
            "linecolor": "white",
            "showbackground": true,
            "ticks": "",
            "zerolinecolor": "white"
           },
           "yaxis": {
            "backgroundcolor": "#E5ECF6",
            "gridcolor": "white",
            "gridwidth": 2,
            "linecolor": "white",
            "showbackground": true,
            "ticks": "",
            "zerolinecolor": "white"
           },
           "zaxis": {
            "backgroundcolor": "#E5ECF6",
            "gridcolor": "white",
            "gridwidth": 2,
            "linecolor": "white",
            "showbackground": true,
            "ticks": "",
            "zerolinecolor": "white"
           }
          },
          "shapedefaults": {
           "line": {
            "color": "#2a3f5f"
           }
          },
          "ternary": {
           "aaxis": {
            "gridcolor": "white",
            "linecolor": "white",
            "ticks": ""
           },
           "baxis": {
            "gridcolor": "white",
            "linecolor": "white",
            "ticks": ""
           },
           "bgcolor": "#E5ECF6",
           "caxis": {
            "gridcolor": "white",
            "linecolor": "white",
            "ticks": ""
           }
          },
          "title": {
           "x": 0.05
          },
          "xaxis": {
           "automargin": true,
           "gridcolor": "white",
           "linecolor": "white",
           "ticks": "",
           "title": {
            "standoff": 15
           },
           "zerolinecolor": "white",
           "zerolinewidth": 2
          },
          "yaxis": {
           "automargin": true,
           "gridcolor": "white",
           "linecolor": "white",
           "ticks": "",
           "title": {
            "standoff": 15
           },
           "zerolinecolor": "white",
           "zerolinewidth": 2
          }
         }
        },
        "title": {
         "font": {
          "size": 24
         },
         "text": "Matrice de confusion : XGBoost Classifier",
         "x": 0.5
        },
        "width": 600,
        "xaxis": {
         "tickfont": {
          "size": 14
         },
         "title": {
          "text": "Labels prédits"
         }
        },
        "yaxis": {
         "tickfont": {
          "size": 14
         },
         "title": {
          "text": "Vrais labels"
         }
        }
       }
      }
     },
     "metadata": {},
     "output_type": "display_data"
    },
    {
     "data": {
      "text/html": [
       "<style type=\"text/css\">\n",
       "#T_690b4 th {\n",
       "  background-color: steelblue;\n",
       "  color: white;\n",
       "}\n",
       "#T_690b4 tr:nth-of-type(odd) {\n",
       "  background-color: aliceblue;\n",
       "}\n",
       "#T_690b4 tr:nth-of-type(even) {\n",
       "  background-color: white;\n",
       "}\n",
       "</style>\n",
       "<table id=\"T_690b4\">\n",
       "  <thead>\n",
       "    <tr>\n",
       "      <th class=\"blank level0\" >&nbsp;</th>\n",
       "      <th id=\"T_690b4_level0_col0\" class=\"col_heading level0 col0\" >precision</th>\n",
       "      <th id=\"T_690b4_level0_col1\" class=\"col_heading level0 col1\" >recall</th>\n",
       "      <th id=\"T_690b4_level0_col2\" class=\"col_heading level0 col2\" >f1-score</th>\n",
       "      <th id=\"T_690b4_level0_col3\" class=\"col_heading level0 col3\" >support</th>\n",
       "    </tr>\n",
       "  </thead>\n",
       "  <tbody>\n",
       "    <tr>\n",
       "      <th id=\"T_690b4_level0_row0\" class=\"row_heading level0 row0\" >0</th>\n",
       "      <td id=\"T_690b4_row0_col0\" class=\"data row0 col0\" >0.944</td>\n",
       "      <td id=\"T_690b4_row0_col1\" class=\"data row0 col1\" >0.969</td>\n",
       "      <td id=\"T_690b4_row0_col2\" class=\"data row0 col2\" >0.957</td>\n",
       "      <td id=\"T_690b4_row0_col3\" class=\"data row0 col3\" >227.000</td>\n",
       "    </tr>\n",
       "    <tr>\n",
       "      <th id=\"T_690b4_level0_row1\" class=\"row_heading level0 row1\" >1</th>\n",
       "      <td id=\"T_690b4_row1_col0\" class=\"data row1 col0\" >0.824</td>\n",
       "      <td id=\"T_690b4_row1_col1\" class=\"data row1 col1\" >0.680</td>\n",
       "      <td id=\"T_690b4_row1_col2\" class=\"data row1 col2\" >0.745</td>\n",
       "      <td id=\"T_690b4_row1_col3\" class=\"data row1 col3\" >103.000</td>\n",
       "    </tr>\n",
       "    <tr>\n",
       "      <th id=\"T_690b4_level0_row2\" class=\"row_heading level0 row2\" >2</th>\n",
       "      <td id=\"T_690b4_row2_col0\" class=\"data row2 col0\" >0.814</td>\n",
       "      <td id=\"T_690b4_row2_col1\" class=\"data row2 col1\" >0.841</td>\n",
       "      <td id=\"T_690b4_row2_col2\" class=\"data row2 col2\" >0.827</td>\n",
       "      <td id=\"T_690b4_row2_col3\" class=\"data row2 col3\" >384.000</td>\n",
       "    </tr>\n",
       "    <tr>\n",
       "      <th id=\"T_690b4_level0_row3\" class=\"row_heading level0 row3\" >3</th>\n",
       "      <td id=\"T_690b4_row3_col0\" class=\"data row3 col0\" >0.776</td>\n",
       "      <td id=\"T_690b4_row3_col1\" class=\"data row3 col1\" >0.749</td>\n",
       "      <td id=\"T_690b4_row3_col2\" class=\"data row3 col2\" >0.763</td>\n",
       "      <td id=\"T_690b4_row3_col3\" class=\"data row3 col3\" >343.000</td>\n",
       "    </tr>\n",
       "    <tr>\n",
       "      <th id=\"T_690b4_level0_row4\" class=\"row_heading level0 row4\" >4</th>\n",
       "      <td id=\"T_690b4_row4_col0\" class=\"data row4 col0\" >0.814</td>\n",
       "      <td id=\"T_690b4_row4_col1\" class=\"data row4 col1\" >0.866</td>\n",
       "      <td id=\"T_690b4_row4_col2\" class=\"data row4 col2\" >0.839</td>\n",
       "      <td id=\"T_690b4_row4_col3\" class=\"data row4 col3\" >344.000</td>\n",
       "    </tr>\n",
       "    <tr>\n",
       "      <th id=\"T_690b4_level0_row5\" class=\"row_heading level0 row5\" >5</th>\n",
       "      <td id=\"T_690b4_row5_col0\" class=\"data row5 col0\" >0.889</td>\n",
       "      <td id=\"T_690b4_row5_col1\" class=\"data row5 col1\" >0.856</td>\n",
       "      <td id=\"T_690b4_row5_col2\" class=\"data row5 col2\" >0.872</td>\n",
       "      <td id=\"T_690b4_row5_col3\" class=\"data row5 col3\" >187.000</td>\n",
       "    </tr>\n",
       "    <tr>\n",
       "      <th id=\"T_690b4_level0_row6\" class=\"row_heading level0 row6\" >6</th>\n",
       "      <td id=\"T_690b4_row6_col0\" class=\"data row6 col0\" >0.942</td>\n",
       "      <td id=\"T_690b4_row6_col1\" class=\"data row6 col1\" >0.907</td>\n",
       "      <td id=\"T_690b4_row6_col2\" class=\"data row6 col2\" >0.924</td>\n",
       "      <td id=\"T_690b4_row6_col3\" class=\"data row6 col3\" >107.000</td>\n",
       "    </tr>\n",
       "    <tr>\n",
       "      <th id=\"T_690b4_level0_row7\" class=\"row_heading level0 row7\" >accuracy</th>\n",
       "      <td id=\"T_690b4_row7_col0\" class=\"data row7 col0\" >0.841</td>\n",
       "      <td id=\"T_690b4_row7_col1\" class=\"data row7 col1\" >0.841</td>\n",
       "      <td id=\"T_690b4_row7_col2\" class=\"data row7 col2\" >0.841</td>\n",
       "      <td id=\"T_690b4_row7_col3\" class=\"data row7 col3\" >0.841</td>\n",
       "    </tr>\n",
       "    <tr>\n",
       "      <th id=\"T_690b4_level0_row8\" class=\"row_heading level0 row8\" >macro avg</th>\n",
       "      <td id=\"T_690b4_row8_col0\" class=\"data row8 col0\" >0.858</td>\n",
       "      <td id=\"T_690b4_row8_col1\" class=\"data row8 col1\" >0.838</td>\n",
       "      <td id=\"T_690b4_row8_col2\" class=\"data row8 col2\" >0.847</td>\n",
       "      <td id=\"T_690b4_row8_col3\" class=\"data row8 col3\" >1695.000</td>\n",
       "    </tr>\n",
       "    <tr>\n",
       "      <th id=\"T_690b4_level0_row9\" class=\"row_heading level0 row9\" >weighted avg</th>\n",
       "      <td id=\"T_690b4_row9_col0\" class=\"data row9 col0\" >0.841</td>\n",
       "      <td id=\"T_690b4_row9_col1\" class=\"data row9 col1\" >0.841</td>\n",
       "      <td id=\"T_690b4_row9_col2\" class=\"data row9 col2\" >0.840</td>\n",
       "      <td id=\"T_690b4_row9_col3\" class=\"data row9 col3\" >1695.000</td>\n",
       "    </tr>\n",
       "  </tbody>\n",
       "</table>\n"
      ],
      "text/plain": [
       "<pandas.io.formats.style.Styler at 0x7f8290221940>"
      ]
     },
     "metadata": {},
     "output_type": "display_data"
    },
    {
     "name": "stdout",
     "output_type": "stream",
     "text": [
      "<class 'pandas.io.formats.style.Styler'>\n",
      "Model saved at ../models/XGBClassifier_20240115_185750.model\n"
     ]
    },
    {
     "name": "stderr",
     "output_type": "stream",
     "text": [
      "/home/mln/miniconda3/envs/co2/lib/python3.9/site-packages/xgboost/core.py:160: UserWarning:\n",
      "\n",
      "[18:57:50] WARNING: /home/conda/feedstock_root/build_artifacts/xgboost-split_1703076482591/work/src/c_api/c_api.cc:1240: Saving into deprecated binary model format, please consider using `json` or `ubj`. Model format will default to JSON in XGBoost 2.2 if not specified.\n",
      "\n"
     ]
    }
   ],
   "source": [
    "co2.viz.plot_xgboost(results=xgb_clf.evals_result_, metric='merror', title=' Classifier: Erreur Moyenne')\n",
    "co2.viz.plot_xgboost(results=xgb_clf.evals_result_, metric='mlogloss', title='Classifier: Moyenne LogLoss')\n",
    "xgb_pred = xgb_clf.predict(X_test_x)\n",
    "\n",
    "co2.viz.plot_confusion_matrix(y_test_x, xgb_pred, classes=xgb_clf.classes_, palette='Reds', \n",
    "                              title=': XGBoost Classifier', save=True, format='png')\n",
    "co2.styles.display_classification_report(y_test_x, xgb_pred)\n",
    "\n",
    "co2.data.save_model(xgb_clf, model_type='xgb')"
   ]
  },
  {
   "cell_type": "code",
   "execution_count": 15,
   "metadata": {},
   "outputs": [
    {
     "name": "stdout",
     "output_type": "stream",
     "text": [
      "<class 'pandas.core.frame.DataFrame'>\n",
      "RangeIndex: 9416 entries, 0 to 9415\n",
      "Data columns (total 34 columns):\n",
      " #   Column                            Non-Null Count  Dtype  \n",
      "---  ------                            --------------  -----  \n",
      " 0   InnovativeTechnology              9416 non-null   int64  \n",
      " 1   EnginePower                       9416 non-null   float64\n",
      " 2   ElectricConsumption               9416 non-null   float64\n",
      " 3   InnovativeEmissionsReductionWltp  9416 non-null   float64\n",
      " 4   ElectricRange                     9416 non-null   float64\n",
      " 5   MassRunningOrder                  9416 non-null   float64\n",
      " 6   BaseWheel                         9416 non-null   float64\n",
      " 7   Count                             9416 non-null   int64  \n",
      " 8   Pool_BMW                          9416 non-null   int64  \n",
      " 9   Pool_FORD                         9416 non-null   int64  \n",
      " 10  Pool_HONDA-GROUP                  9416 non-null   int64  \n",
      " 11  Pool_HYUNDAI                      9416 non-null   int64  \n",
      " 12  Pool_KIA                          9416 non-null   int64  \n",
      " 13  Pool_MAZDA-SUBARU-SUZUKI-TOYOTA   9416 non-null   int64  \n",
      " 14  Pool_MERCEDES-BENZ                9416 non-null   int64  \n",
      " 15  Pool_RENAULT-NISSAN-MITSUBISHI    9416 non-null   int64  \n",
      " 16  Pool_STELLANTIS                   9416 non-null   int64  \n",
      " 17  Pool_TATA-MOTORS                  9416 non-null   int64  \n",
      " 18  Pool_TESLA                        9416 non-null   int64  \n",
      " 19  Pool_VW-SAIC                      9416 non-null   int64  \n",
      " 20  FuelType_DIESEL                   9416 non-null   int64  \n",
      " 21  FuelType_DIESEL/ELECTRIC          9416 non-null   int64  \n",
      " 22  FuelType_ELECTRIC                 9416 non-null   int64  \n",
      " 23  FuelType_ETHANOL                  9416 non-null   int64  \n",
      " 24  FuelType_HYDROGEN                 9416 non-null   int64  \n",
      " 25  FuelType_LPG                      9416 non-null   int64  \n",
      " 26  FuelType_NATURALGAS               9416 non-null   int64  \n",
      " 27  FuelType_NG                       9416 non-null   int64  \n",
      " 28  FuelType_PETROL                   9416 non-null   int64  \n",
      " 29  FuelType_PETROL/ELECTRIC          9416 non-null   int64  \n",
      " 30  FuelType_UNKNOWN                  9416 non-null   int64  \n",
      " 31  CategoryOf_M1                     9416 non-null   int64  \n",
      " 32  CategoryOf_M1G                    9416 non-null   int64  \n",
      " 33  CategoryOf_m1                     9416 non-null   int64  \n",
      "dtypes: float64(6), int64(28)\n",
      "memory usage: 2.4 MB\n"
     ]
    }
   ],
   "source": [
    "data.info()"
   ]
  }
 ],
 "metadata": {
  "kernelspec": {
   "display_name": "co2",
   "language": "python",
   "name": "python3"
  },
  "language_info": {
   "codemirror_mode": {
    "name": "ipython",
    "version": 3
   },
   "file_extension": ".py",
   "mimetype": "text/x-python",
   "name": "python",
   "nbconvert_exporter": "python",
   "pygments_lexer": "ipython3",
   "version": "3.9.18"
  }
 },
 "nbformat": 4,
 "nbformat_minor": 2
}

{
 "cells": [
  {
   "cell_type": "code",
   "execution_count": 1,
   "metadata": {},
   "outputs": [
    {
     "name": "stdout",
     "output_type": "stream",
     "text": [
      "Warning: Your Kaggle API key is readable by other users on this system! To fix this, you can run 'chmod 600 /home/mln/.kaggle/kaggle.json'\n"
     ]
    },
    {
     "data": {
      "text/plain": [
       "<module 'auto_co2' from '/home/mln/GIT/car-co2-prediction_pre-release/src/auto_co2/__init__.py'>"
      ]
     },
     "execution_count": 1,
     "metadata": {},
     "output_type": "execute_result"
    }
   ],
   "source": [
    "import sys\n",
    "sys.path.append('../src/')\n",
    "import pandas as pd\n",
    "import kaggle\n",
    "import auto_co2 as co2\n",
    "import importlib\n",
    "importlib.reload(co2)"
   ]
  },
  {
   "cell_type": "code",
   "execution_count": 2,
   "metadata": {},
   "outputs": [
    {
     "name": "stdout",
     "output_type": "stream",
     "text": [
      "['/home/mln/GIT/car-co2-prediction_pre-release/notebooks', '/home/mln/miniconda3/envs/co2/lib/python39.zip', '/home/mln/miniconda3/envs/co2/lib/python3.9', '/home/mln/miniconda3/envs/co2/lib/python3.9/lib-dynload', '', '/home/mln/miniconda3/envs/co2/lib/python3.9/site-packages', '/home/mln/GIT/car-co2-prediction_pre-release/src', '../src/']\n"
     ]
    }
   ],
   "source": [
    "print(sys.path) "
   ]
  },
  {
   "cell_type": "code",
   "execution_count": 3,
   "metadata": {},
   "outputs": [],
   "source": [
    "df = pd.read_csv('../data/sample/co2_raw_sample.csv')\n"
   ]
  },
  {
   "cell_type": "code",
   "execution_count": 4,
   "metadata": {},
   "outputs": [
    {
     "name": "stdout",
     "output_type": "stream",
     "text": [
      "['__builtins__', '__cached__', '__doc__', '__file__', '__loader__', '__name__', '__package__', '__spec__', 'clean_manufacturer_columns', 'co2_grade_discretization', 'column_remover', 'conditional_column_update', 'convert_dtypes', 'correct_fueltype', 'dataviz_preprocessing', 'datetime', 'download_and_load_co2_data', 'download_co2_data', 'drop_irrelevant_columns', 'drop_residual_incomplete_rows', 'dummify', 'dummify_all_features', 'electricrange_discretization', 'get_classification_data', 'kaggle', 'load_co2_data', 'ml_preprocessing', 'os', 'pd', 'pickle', 'remove_fueltype', 'rename_columns', 'save_model', 'save_processed_data', 'save_shap_values', 'select_countries', 'standardize_innovtech', 'zipfile']\n"
     ]
    }
   ],
   "source": [
    "from auto_co2 import data\n",
    "print(dir(data))"
   ]
  },
  {
   "cell_type": "code",
   "execution_count": 5,
   "metadata": {},
   "outputs": [],
   "source": [
    "from auto_co2.data import ml_preprocessing\n",
    "#from auto_co2.data import dataviz_preprocessing\n",
    "#df = dataviz_preprocessing(df)\n",
    "df = co2.data.dataviz_preprocessing(df)"
   ]
  },
  {
   "cell_type": "code",
   "execution_count": 6,
   "metadata": {},
   "outputs": [],
   "source": [
    "country_stats = {\n",
    " 'IE': {'population': 5123536, 'gdp_per_capita': 103296.79936336935},\n",
    " 'HU': {'population': 9603634, 'gdp_per_capita': 18.935334502543515},\n",
    " 'ES': {'population': 47415750, 'gdp_per_capita': 30103.513733200467},\n",
    " 'BE': {'population': 11584008, 'gdp_per_capita': 51785.18523122567},\n",
    " 'LU': {'population': 660809, 'gdp_per_capita': 129396.30639715864},\n",
    " 'FI': {'population': 5563970, 'gdp_per_capita': 53269.09118201572},\n",
    " 'SE': {'population': 10548336, 'gdp_per_capita': 60375.042698298574},\n",
    " 'DK': {'population': 5827463, 'gdp_per_capita': 68349.34391930074},\n",
    " 'PL': {'population': 38382576, 'gdp_per_capita': 17929.40124589345},\n",
    " 'LT': {'population': 2860002, 'gdp_per_capita': 24592.39504308039},\n",
    " 'IT': {'population': 58850717, 'gdp_per_capita': 35927.442598770715},\n",
    " 'AT': {'population': 8979894, 'gdp_per_capita': 53493.772186286384},\n",
    " 'GR': {'population': 10482487, 'gdp_per_capita': 20898.272753975274},\n",
    " 'PT': {'population': 10347892, 'gdp_per_capita': 24544.40455804912},\n",
    " 'FR': {'population': 67749632, 'gdp_per_capita': 43658.97897812936},\n",
    " 'GB': {'population': 67326569, 'gdp_per_capita': 46378.1296493068},\n",
    " 'DE': {'population': 83149300, 'gdp_per_capita': 51232.36048676297},\n",
    " 'EE': {'population': 1373101, 'gdp_per_capita': 27748.00466899376},\n",
    " 'LV': {'population': 1883008, 'gdp_per_capita': 21855.4104193928},\n",
    " 'CZ': {'population': 10827529, 'gdp_per_capita': 23152.189202171612},\n",
    " 'SK': {'population': 5449270, 'gdp_per_capita': 21774.768346769382},\n",
    " 'SI': {'population': 2066880, 'gdp_per_capita': 30053.882187161325},\n",
    " 'RO': {'population': 19053815, 'gdp_per_capita': 15811.089953586723},\n",
    " 'BG': {'population': 7000039, 'gdp_per_capita': 12719.986046649168},\n",
    " 'HR': {'population': 3871833, 'gdp_per_capita': 18328.426475263783},\n",
    " 'CY': {'population': 1141166, 'gdp_per_capita': 24921.04806925548},\n",
    " 'MT': {'population': 465292, 'gdp_per_capita': 38180.90578604403},\n",
    " 'NL': {'population': 17100715, 'gdp_per_capita': 48569.46734975701}}"
   ]
  },
  {
   "cell_type": "code",
   "execution_count": null,
   "metadata": {},
   "outputs": [],
   "source": []
  },
  {
   "cell_type": "code",
   "execution_count": 7,
   "metadata": {},
   "outputs": [
    {
     "data": {
      "text/html": [
       "<style type=\"text/css\">\n",
       "#T_16f1e th {\n",
       "  background-color: steelblue;\n",
       "  color: white;\n",
       "}\n",
       "#T_16f1e tr:nth-of-type(odd) {\n",
       "  background-color: aliceblue;\n",
       "}\n",
       "#T_16f1e tr:nth-of-type(even) {\n",
       "  background-color: white;\n",
       "}\n",
       "</style>\n",
       "<table id=\"T_16f1e\">\n",
       "  <thead>\n",
       "    <tr>\n",
       "      <th class=\"blank level0\" >&nbsp;</th>\n",
       "      <th id=\"T_16f1e_level0_col0\" class=\"col_heading level0 col0\" >Country</th>\n",
       "      <th id=\"T_16f1e_level0_col1\" class=\"col_heading level0 col1\" >population</th>\n",
       "      <th id=\"T_16f1e_level0_col2\" class=\"col_heading level0 col2\" >gdp_per_capita</th>\n",
       "      <th id=\"T_16f1e_level0_col3\" class=\"col_heading level0 col3\" >Count</th>\n",
       "      <th id=\"T_16f1e_level0_col4\" class=\"col_heading level0 col4\" >Make</th>\n",
       "      <th id=\"T_16f1e_level0_col5\" class=\"col_heading level0 col5\" >FuelType</th>\n",
       "      <th id=\"T_16f1e_level0_col6\" class=\"col_heading level0 col6\" >FuelConsumption</th>\n",
       "      <th id=\"T_16f1e_level0_col7\" class=\"col_heading level0 col7\" >EnginePower</th>\n",
       "      <th id=\"T_16f1e_level0_col8\" class=\"col_heading level0 col8\" >Co2EmissionsWltp</th>\n",
       "      <th id=\"T_16f1e_level0_col9\" class=\"col_heading level0 col9\" >MassRunningOrder</th>\n",
       "      <th id=\"T_16f1e_level0_col10\" class=\"col_heading level0 col10\" >BaseWheel</th>\n",
       "      <th id=\"T_16f1e_level0_col11\" class=\"col_heading level0 col11\" >AxleWidthSteering</th>\n",
       "    </tr>\n",
       "  </thead>\n",
       "  <tbody>\n",
       "    <tr>\n",
       "      <th id=\"T_16f1e_level0_row0\" class=\"row_heading level0 row0\" >5</th>\n",
       "      <td id=\"T_16f1e_row0_col0\" class=\"data row0 col0\" >DE</td>\n",
       "      <td id=\"T_16f1e_row0_col1\" class=\"data row0 col1\" >83149300.000</td>\n",
       "      <td id=\"T_16f1e_row0_col2\" class=\"data row0 col2\" >51232.360</td>\n",
       "      <td id=\"T_16f1e_row0_col3\" class=\"data row0 col3\" >1248</td>\n",
       "      <td id=\"T_16f1e_row0_col4\" class=\"data row0 col4\" >VOLKSWAGEN</td>\n",
       "      <td id=\"T_16f1e_row0_col5\" class=\"data row0 col5\" >PETROL</td>\n",
       "      <td id=\"T_16f1e_row0_col6\" class=\"data row0 col6\" >6.298</td>\n",
       "      <td id=\"T_16f1e_row0_col7\" class=\"data row0 col7\" >116.161</td>\n",
       "      <td id=\"T_16f1e_row0_col8\" class=\"data row0 col8\" >114.676</td>\n",
       "      <td id=\"T_16f1e_row0_col9\" class=\"data row0 col9\" >1569.635</td>\n",
       "      <td id=\"T_16f1e_row0_col10\" class=\"data row0 col10\" >2686.754</td>\n",
       "      <td id=\"T_16f1e_row0_col11\" class=\"data row0 col11\" >1548.603</td>\n",
       "    </tr>\n",
       "    <tr>\n",
       "      <th id=\"T_16f1e_level0_row1\" class=\"row_heading level0 row1\" >10</th>\n",
       "      <td id=\"T_16f1e_row1_col0\" class=\"data row1 col0\" >FR</td>\n",
       "      <td id=\"T_16f1e_row1_col1\" class=\"data row1 col1\" >67749632.000</td>\n",
       "      <td id=\"T_16f1e_row1_col2\" class=\"data row1 col2\" >43658.979</td>\n",
       "      <td id=\"T_16f1e_row1_col3\" class=\"data row1 col3\" >926</td>\n",
       "      <td id=\"T_16f1e_row1_col4\" class=\"data row1 col4\" >RENAULT</td>\n",
       "      <td id=\"T_16f1e_row1_col5\" class=\"data row1 col5\" >PETROL</td>\n",
       "      <td id=\"T_16f1e_row1_col6\" class=\"data row1 col6\" >5.238</td>\n",
       "      <td id=\"T_16f1e_row1_col7\" class=\"data row1 col7\" >87.067</td>\n",
       "      <td id=\"T_16f1e_row1_col8\" class=\"data row1 col8\" >108.481</td>\n",
       "      <td id=\"T_16f1e_row1_col9\" class=\"data row1 col9\" >1404.463</td>\n",
       "      <td id=\"T_16f1e_row1_col10\" class=\"data row1 col10\" >2634.889</td>\n",
       "      <td id=\"T_16f1e_row1_col11\" class=\"data row1 col11\" >1539.748</td>\n",
       "    </tr>\n",
       "    <tr>\n",
       "      <th id=\"T_16f1e_level0_row2\" class=\"row_heading level0 row2\" >15</th>\n",
       "      <td id=\"T_16f1e_row2_col0\" class=\"data row2 col0\" >IT</td>\n",
       "      <td id=\"T_16f1e_row2_col1\" class=\"data row2 col1\" >58850717.000</td>\n",
       "      <td id=\"T_16f1e_row2_col2\" class=\"data row2 col2\" >35927.443</td>\n",
       "      <td id=\"T_16f1e_row2_col3\" class=\"data row2 col3\" >733</td>\n",
       "      <td id=\"T_16f1e_row2_col4\" class=\"data row2 col4\" >FIAT</td>\n",
       "      <td id=\"T_16f1e_row2_col5\" class=\"data row2 col5\" >PETROL</td>\n",
       "      <td id=\"T_16f1e_row2_col6\" class=\"data row2 col6\" >4.709</td>\n",
       "      <td id=\"T_16f1e_row2_col7\" class=\"data row2 col7\" >83.173</td>\n",
       "      <td id=\"T_16f1e_row2_col8\" class=\"data row2 col8\" >121.253</td>\n",
       "      <td id=\"T_16f1e_row2_col9\" class=\"data row2 col9\" >1367.308</td>\n",
       "      <td id=\"T_16f1e_row2_col10\" class=\"data row2 col10\" >2577.690</td>\n",
       "      <td id=\"T_16f1e_row2_col11\" class=\"data row2 col11\" >nan</td>\n",
       "    </tr>\n",
       "    <tr>\n",
       "      <th id=\"T_16f1e_level0_row3\" class=\"row_heading level0 row3\" >8</th>\n",
       "      <td id=\"T_16f1e_row3_col0\" class=\"data row3 col0\" >ES</td>\n",
       "      <td id=\"T_16f1e_row3_col1\" class=\"data row3 col1\" >47415750.000</td>\n",
       "      <td id=\"T_16f1e_row3_col2\" class=\"data row3 col2\" >30103.514</td>\n",
       "      <td id=\"T_16f1e_row3_col3\" class=\"data row3 col3\" >458</td>\n",
       "      <td id=\"T_16f1e_row3_col4\" class=\"data row3 col4\" >VOLKSWAGEN</td>\n",
       "      <td id=\"T_16f1e_row3_col5\" class=\"data row3 col5\" >PETROL</td>\n",
       "      <td id=\"T_16f1e_row3_col6\" class=\"data row3 col6\" >5.502</td>\n",
       "      <td id=\"T_16f1e_row3_col7\" class=\"data row3 col7\" >93.290</td>\n",
       "      <td id=\"T_16f1e_row3_col8\" class=\"data row3 col8\" >126.851</td>\n",
       "      <td id=\"T_16f1e_row3_col9\" class=\"data row3 col9\" >1418.474</td>\n",
       "      <td id=\"T_16f1e_row3_col10\" class=\"data row3 col10\" >2646.258</td>\n",
       "      <td id=\"T_16f1e_row3_col11\" class=\"data row3 col11\" >1550.943</td>\n",
       "    </tr>\n",
       "    <tr>\n",
       "      <th id=\"T_16f1e_level0_row4\" class=\"row_heading level0 row4\" >21</th>\n",
       "      <td id=\"T_16f1e_row4_col0\" class=\"data row4 col0\" >PL</td>\n",
       "      <td id=\"T_16f1e_row4_col1\" class=\"data row4 col1\" >38382576.000</td>\n",
       "      <td id=\"T_16f1e_row4_col2\" class=\"data row4 col2\" >17929.401</td>\n",
       "      <td id=\"T_16f1e_row4_col3\" class=\"data row4 col3\" >204</td>\n",
       "      <td id=\"T_16f1e_row4_col4\" class=\"data row4 col4\" >TOYOTA</td>\n",
       "      <td id=\"T_16f1e_row4_col5\" class=\"data row4 col5\" >PETROL</td>\n",
       "      <td id=\"T_16f1e_row4_col6\" class=\"data row4 col6\" >4.984</td>\n",
       "      <td id=\"T_16f1e_row4_col7\" class=\"data row4 col7\" >106.475</td>\n",
       "      <td id=\"T_16f1e_row4_col8\" class=\"data row4 col8\" >134.549</td>\n",
       "      <td id=\"T_16f1e_row4_col9\" class=\"data row4 col9\" >1494.196</td>\n",
       "      <td id=\"T_16f1e_row4_col10\" class=\"data row4 col10\" >2679.113</td>\n",
       "      <td id=\"T_16f1e_row4_col11\" class=\"data row4 col11\" >1564.108</td>\n",
       "    </tr>\n",
       "    <tr>\n",
       "      <th id=\"T_16f1e_level0_row5\" class=\"row_heading level0 row5\" >23</th>\n",
       "      <td id=\"T_16f1e_row5_col0\" class=\"data row5 col0\" >RO</td>\n",
       "      <td id=\"T_16f1e_row5_col1\" class=\"data row5 col1\" >19053815.000</td>\n",
       "      <td id=\"T_16f1e_row5_col2\" class=\"data row5 col2\" >15811.090</td>\n",
       "      <td id=\"T_16f1e_row5_col3\" class=\"data row5 col3\" >73</td>\n",
       "      <td id=\"T_16f1e_row5_col4\" class=\"data row5 col4\" >DACIA</td>\n",
       "      <td id=\"T_16f1e_row5_col5\" class=\"data row5 col5\" >PETROL</td>\n",
       "      <td id=\"T_16f1e_row5_col6\" class=\"data row5 col6\" >nan</td>\n",
       "      <td id=\"T_16f1e_row5_col7\" class=\"data row5 col7\" >89.768</td>\n",
       "      <td id=\"T_16f1e_row5_col8\" class=\"data row5 col8\" >122.329</td>\n",
       "      <td id=\"T_16f1e_row5_col9\" class=\"data row5 col9\" >1364.315</td>\n",
       "      <td id=\"T_16f1e_row5_col10\" class=\"data row5 col10\" >2655.918</td>\n",
       "      <td id=\"T_16f1e_row5_col11\" class=\"data row5 col11\" >1540.740</td>\n",
       "    </tr>\n",
       "    <tr>\n",
       "      <th id=\"T_16f1e_level0_row6\" class=\"row_heading level0 row6\" >20</th>\n",
       "      <td id=\"T_16f1e_row6_col0\" class=\"data row6 col0\" >NL</td>\n",
       "      <td id=\"T_16f1e_row6_col1\" class=\"data row6 col1\" >17100715.000</td>\n",
       "      <td id=\"T_16f1e_row6_col2\" class=\"data row6 col2\" >48569.467</td>\n",
       "      <td id=\"T_16f1e_row6_col3\" class=\"data row6 col3\" >156</td>\n",
       "      <td id=\"T_16f1e_row6_col4\" class=\"data row6 col4\" >VOLKSWAGEN</td>\n",
       "      <td id=\"T_16f1e_row6_col5\" class=\"data row6 col5\" >PETROL</td>\n",
       "      <td id=\"T_16f1e_row6_col6\" class=\"data row6 col6\" >nan</td>\n",
       "      <td id=\"T_16f1e_row6_col7\" class=\"data row6 col7\" >104.147</td>\n",
       "      <td id=\"T_16f1e_row6_col8\" class=\"data row6 col8\" >90.705</td>\n",
       "      <td id=\"T_16f1e_row6_col9\" class=\"data row6 col9\" >1500.109</td>\n",
       "      <td id=\"T_16f1e_row6_col10\" class=\"data row6 col10\" >2660.000</td>\n",
       "      <td id=\"T_16f1e_row6_col11\" class=\"data row6 col11\" >1547.179</td>\n",
       "    </tr>\n",
       "    <tr>\n",
       "      <th id=\"T_16f1e_level0_row7\" class=\"row_heading level0 row7\" >1</th>\n",
       "      <td id=\"T_16f1e_row7_col0\" class=\"data row7 col0\" >BE</td>\n",
       "      <td id=\"T_16f1e_row7_col1\" class=\"data row7 col1\" >11584008.000</td>\n",
       "      <td id=\"T_16f1e_row7_col2\" class=\"data row7 col2\" >51785.185</td>\n",
       "      <td id=\"T_16f1e_row7_col3\" class=\"data row7 col3\" >212</td>\n",
       "      <td id=\"T_16f1e_row7_col4\" class=\"data row7 col4\" >BMW</td>\n",
       "      <td id=\"T_16f1e_row7_col5\" class=\"data row7 col5\" >PETROL</td>\n",
       "      <td id=\"T_16f1e_row7_col6\" class=\"data row7 col6\" >5.057</td>\n",
       "      <td id=\"T_16f1e_row7_col7\" class=\"data row7 col7\" >111.397</td>\n",
       "      <td id=\"T_16f1e_row7_col8\" class=\"data row7 col8\" >114.924</td>\n",
       "      <td id=\"T_16f1e_row7_col9\" class=\"data row7 col9\" >1552.811</td>\n",
       "      <td id=\"T_16f1e_row7_col10\" class=\"data row7 col10\" >2686.175</td>\n",
       "      <td id=\"T_16f1e_row7_col11\" class=\"data row7 col11\" >1565.231</td>\n",
       "    </tr>\n",
       "    <tr>\n",
       "      <th id=\"T_16f1e_level0_row8\" class=\"row_heading level0 row8\" >4</th>\n",
       "      <td id=\"T_16f1e_row8_col0\" class=\"data row8 col0\" >CZ</td>\n",
       "      <td id=\"T_16f1e_row8_col1\" class=\"data row8 col1\" >10827529.000</td>\n",
       "      <td id=\"T_16f1e_row8_col2\" class=\"data row8 col2\" >23152.189</td>\n",
       "      <td id=\"T_16f1e_row8_col3\" class=\"data row8 col3\" >116</td>\n",
       "      <td id=\"T_16f1e_row8_col4\" class=\"data row8 col4\" >SKODA</td>\n",
       "      <td id=\"T_16f1e_row8_col5\" class=\"data row8 col5\" >PETROL</td>\n",
       "      <td id=\"T_16f1e_row8_col6\" class=\"data row8 col6\" >6.001</td>\n",
       "      <td id=\"T_16f1e_row8_col7\" class=\"data row8 col7\" >113.310</td>\n",
       "      <td id=\"T_16f1e_row8_col8\" class=\"data row8 col8\" >141.336</td>\n",
       "      <td id=\"T_16f1e_row8_col9\" class=\"data row8 col9\" >1461.069</td>\n",
       "      <td id=\"T_16f1e_row8_col10\" class=\"data row8 col10\" >2672.681</td>\n",
       "      <td id=\"T_16f1e_row8_col11\" class=\"data row8 col11\" >1550.491</td>\n",
       "    </tr>\n",
       "    <tr>\n",
       "      <th id=\"T_16f1e_level0_row9\" class=\"row_heading level0 row9\" >24</th>\n",
       "      <td id=\"T_16f1e_row9_col0\" class=\"data row9 col0\" >SE</td>\n",
       "      <td id=\"T_16f1e_row9_col1\" class=\"data row9 col1\" >10548336.000</td>\n",
       "      <td id=\"T_16f1e_row9_col2\" class=\"data row9 col2\" >60375.043</td>\n",
       "      <td id=\"T_16f1e_row9_col3\" class=\"data row9 col3\" >127</td>\n",
       "      <td id=\"T_16f1e_row9_col4\" class=\"data row9 col4\" >VOLVO</td>\n",
       "      <td id=\"T_16f1e_row9_col5\" class=\"data row9 col5\" >PETROL</td>\n",
       "      <td id=\"T_16f1e_row9_col6\" class=\"data row9 col6\" >nan</td>\n",
       "      <td id=\"T_16f1e_row9_col7\" class=\"data row9 col7\" >134.118</td>\n",
       "      <td id=\"T_16f1e_row9_col8\" class=\"data row9 col8\" >85.606</td>\n",
       "      <td id=\"T_16f1e_row9_col9\" class=\"data row9 col9\" >1667.685</td>\n",
       "      <td id=\"T_16f1e_row9_col10\" class=\"data row9 col10\" >2718.764</td>\n",
       "      <td id=\"T_16f1e_row9_col11\" class=\"data row9 col11\" >1571.835</td>\n",
       "    </tr>\n",
       "    <tr>\n",
       "      <th id=\"T_16f1e_level0_row10\" class=\"row_heading level0 row10\" >11</th>\n",
       "      <td id=\"T_16f1e_row10_col0\" class=\"data row10 col0\" >GR</td>\n",
       "      <td id=\"T_16f1e_row10_col1\" class=\"data row10 col1\" >10482487.000</td>\n",
       "      <td id=\"T_16f1e_row10_col2\" class=\"data row10 col2\" >20898.273</td>\n",
       "      <td id=\"T_16f1e_row10_col3\" class=\"data row10 col3\" >42</td>\n",
       "      <td id=\"T_16f1e_row10_col4\" class=\"data row10 col4\" >TOYOTA</td>\n",
       "      <td id=\"T_16f1e_row10_col5\" class=\"data row10 col5\" >PETROL</td>\n",
       "      <td id=\"T_16f1e_row10_col6\" class=\"data row10 col6\" >nan</td>\n",
       "      <td id=\"T_16f1e_row10_col7\" class=\"data row10 col7\" >89.976</td>\n",
       "      <td id=\"T_16f1e_row10_col8\" class=\"data row10 col8\" >116.500</td>\n",
       "      <td id=\"T_16f1e_row10_col9\" class=\"data row10 col9\" >1343.833</td>\n",
       "      <td id=\"T_16f1e_row10_col10\" class=\"data row10 col10\" >2592.048</td>\n",
       "      <td id=\"T_16f1e_row10_col11\" class=\"data row10 col11\" >1534.738</td>\n",
       "    </tr>\n",
       "    <tr>\n",
       "      <th id=\"T_16f1e_level0_row11\" class=\"row_heading level0 row11\" >22</th>\n",
       "      <td id=\"T_16f1e_row11_col0\" class=\"data row11 col0\" >PT</td>\n",
       "      <td id=\"T_16f1e_row11_col1\" class=\"data row11 col1\" >10347892.000</td>\n",
       "      <td id=\"T_16f1e_row11_col2\" class=\"data row11 col2\" >24544.405</td>\n",
       "      <td id=\"T_16f1e_row11_col3\" class=\"data row11 col3\" >82</td>\n",
       "      <td id=\"T_16f1e_row11_col4\" class=\"data row11 col4\" >MERCEDES-BENZ</td>\n",
       "      <td id=\"T_16f1e_row11_col5\" class=\"data row11 col5\" >PETROL</td>\n",
       "      <td id=\"T_16f1e_row11_col6\" class=\"data row11 col6\" >nan</td>\n",
       "      <td id=\"T_16f1e_row11_col7\" class=\"data row11 col7\" >99.841</td>\n",
       "      <td id=\"T_16f1e_row11_col8\" class=\"data row11 col8\" >109.207</td>\n",
       "      <td id=\"T_16f1e_row11_col9\" class=\"data row11 col9\" >1470.098</td>\n",
       "      <td id=\"T_16f1e_row11_col10\" class=\"data row11 col10\" >2660.646</td>\n",
       "      <td id=\"T_16f1e_row11_col11\" class=\"data row11 col11\" >1558.890</td>\n",
       "    </tr>\n",
       "    <tr>\n",
       "      <th id=\"T_16f1e_level0_row12\" class=\"row_heading level0 row12\" >13</th>\n",
       "      <td id=\"T_16f1e_row12_col0\" class=\"data row12 col0\" >HU</td>\n",
       "      <td id=\"T_16f1e_row12_col1\" class=\"data row12 col1\" >9603634.000</td>\n",
       "      <td id=\"T_16f1e_row12_col2\" class=\"data row12 col2\" >18.935</td>\n",
       "      <td id=\"T_16f1e_row12_col3\" class=\"data row12 col3\" >57</td>\n",
       "      <td id=\"T_16f1e_row12_col4\" class=\"data row12 col4\" >SUZUKI</td>\n",
       "      <td id=\"T_16f1e_row12_col5\" class=\"data row12 col5\" >PETROL</td>\n",
       "      <td id=\"T_16f1e_row12_col6\" class=\"data row12 col6\" >nan</td>\n",
       "      <td id=\"T_16f1e_row12_col7\" class=\"data row12 col7\" >123.386</td>\n",
       "      <td id=\"T_16f1e_row12_col8\" class=\"data row12 col8\" >145.316</td>\n",
       "      <td id=\"T_16f1e_row12_col9\" class=\"data row12 col9\" >1557.263</td>\n",
       "      <td id=\"T_16f1e_row12_col10\" class=\"data row12 col10\" >2694.140</td>\n",
       "      <td id=\"T_16f1e_row12_col11\" class=\"data row12 col11\" >1578.596</td>\n",
       "    </tr>\n",
       "    <tr>\n",
       "      <th id=\"T_16f1e_level0_row13\" class=\"row_heading level0 row13\" >0</th>\n",
       "      <td id=\"T_16f1e_row13_col0\" class=\"data row13 col0\" >AT</td>\n",
       "      <td id=\"T_16f1e_row13_col1\" class=\"data row13 col1\" >8979894.000</td>\n",
       "      <td id=\"T_16f1e_row13_col2\" class=\"data row13 col2\" >53493.772</td>\n",
       "      <td id=\"T_16f1e_row13_col3\" class=\"data row13 col3\" >116</td>\n",
       "      <td id=\"T_16f1e_row13_col4\" class=\"data row13 col4\" >VOLKSWAGEN</td>\n",
       "      <td id=\"T_16f1e_row13_col5\" class=\"data row13 col5\" >PETROL</td>\n",
       "      <td id=\"T_16f1e_row13_col6\" class=\"data row13 col6\" >nan</td>\n",
       "      <td id=\"T_16f1e_row13_col7\" class=\"data row13 col7\" >103.871</td>\n",
       "      <td id=\"T_16f1e_row13_col8\" class=\"data row13 col8\" >121.103</td>\n",
       "      <td id=\"T_16f1e_row13_col9\" class=\"data row13 col9\" >1536.603</td>\n",
       "      <td id=\"T_16f1e_row13_col10\" class=\"data row13 col10\" >2680.595</td>\n",
       "      <td id=\"T_16f1e_row13_col11\" class=\"data row13 col11\" >1553.172</td>\n",
       "    </tr>\n",
       "    <tr>\n",
       "      <th id=\"T_16f1e_level0_row14\" class=\"row_heading level0 row14\" >2</th>\n",
       "      <td id=\"T_16f1e_row14_col0\" class=\"data row14 col0\" >BG</td>\n",
       "      <td id=\"T_16f1e_row14_col1\" class=\"data row14 col1\" >7000039.000</td>\n",
       "      <td id=\"T_16f1e_row14_col2\" class=\"data row14 col2\" >12719.986</td>\n",
       "      <td id=\"T_16f1e_row14_col3\" class=\"data row14 col3\" >17</td>\n",
       "      <td id=\"T_16f1e_row14_col4\" class=\"data row14 col4\" >DACIA</td>\n",
       "      <td id=\"T_16f1e_row14_col5\" class=\"data row14 col5\" >PETROL</td>\n",
       "      <td id=\"T_16f1e_row14_col6\" class=\"data row14 col6\" >2.300</td>\n",
       "      <td id=\"T_16f1e_row14_col7\" class=\"data row14 col7\" >107.000</td>\n",
       "      <td id=\"T_16f1e_row14_col8\" class=\"data row14 col8\" >121.765</td>\n",
       "      <td id=\"T_16f1e_row14_col9\" class=\"data row14 col9\" >1522.529</td>\n",
       "      <td id=\"T_16f1e_row14_col10\" class=\"data row14 col10\" >2734.353</td>\n",
       "      <td id=\"T_16f1e_row14_col11\" class=\"data row14 col11\" >1560.882</td>\n",
       "    </tr>\n",
       "    <tr>\n",
       "      <th id=\"T_16f1e_level0_row15\" class=\"row_heading level0 row15\" >6</th>\n",
       "      <td id=\"T_16f1e_row15_col0\" class=\"data row15 col0\" >DK</td>\n",
       "      <td id=\"T_16f1e_row15_col1\" class=\"data row15 col1\" >5827463.000</td>\n",
       "      <td id=\"T_16f1e_row15_col2\" class=\"data row15 col2\" >68349.344</td>\n",
       "      <td id=\"T_16f1e_row15_col3\" class=\"data row15 col3\" >92</td>\n",
       "      <td id=\"T_16f1e_row15_col4\" class=\"data row15 col4\" >BMW</td>\n",
       "      <td id=\"T_16f1e_row15_col5\" class=\"data row15 col5\" >PETROL</td>\n",
       "      <td id=\"T_16f1e_row15_col6\" class=\"data row15 col6\" >nan</td>\n",
       "      <td id=\"T_16f1e_row15_col7\" class=\"data row15 col7\" >102.196</td>\n",
       "      <td id=\"T_16f1e_row15_col8\" class=\"data row15 col8\" >92.402</td>\n",
       "      <td id=\"T_16f1e_row15_col9\" class=\"data row15 col9\" >1484.424</td>\n",
       "      <td id=\"T_16f1e_row15_col10\" class=\"data row15 col10\" >2632.500</td>\n",
       "      <td id=\"T_16f1e_row15_col11\" class=\"data row15 col11\" >1536.293</td>\n",
       "    </tr>\n",
       "    <tr>\n",
       "      <th id=\"T_16f1e_level0_row16\" class=\"row_heading level0 row16\" >9</th>\n",
       "      <td id=\"T_16f1e_row16_col0\" class=\"data row16 col0\" >FI</td>\n",
       "      <td id=\"T_16f1e_row16_col1\" class=\"data row16 col1\" >5563970.000</td>\n",
       "      <td id=\"T_16f1e_row16_col2\" class=\"data row16 col2\" >53269.091</td>\n",
       "      <td id=\"T_16f1e_row16_col3\" class=\"data row16 col3\" >64</td>\n",
       "      <td id=\"T_16f1e_row16_col4\" class=\"data row16 col4\" >TOYOTA</td>\n",
       "      <td id=\"T_16f1e_row16_col5\" class=\"data row16 col5\" >PETROL</td>\n",
       "      <td id=\"T_16f1e_row16_col6\" class=\"data row16 col6\" >nan</td>\n",
       "      <td id=\"T_16f1e_row16_col7\" class=\"data row16 col7\" >101.452</td>\n",
       "      <td id=\"T_16f1e_row16_col8\" class=\"data row16 col8\" >107.625</td>\n",
       "      <td id=\"T_16f1e_row16_col9\" class=\"data row16 col9\" >1503.859</td>\n",
       "      <td id=\"T_16f1e_row16_col10\" class=\"data row16 col10\" >2676.391</td>\n",
       "      <td id=\"T_16f1e_row16_col11\" class=\"data row16 col11\" >1561.469</td>\n",
       "    </tr>\n",
       "    <tr>\n",
       "      <th id=\"T_16f1e_level0_row17\" class=\"row_heading level0 row17\" >26</th>\n",
       "      <td id=\"T_16f1e_row17_col0\" class=\"data row17 col0\" >SK</td>\n",
       "      <td id=\"T_16f1e_row17_col1\" class=\"data row17 col1\" >5449270.000</td>\n",
       "      <td id=\"T_16f1e_row17_col2\" class=\"data row17 col2\" >21774.768</td>\n",
       "      <td id=\"T_16f1e_row17_col3\" class=\"data row17 col3\" >38</td>\n",
       "      <td id=\"T_16f1e_row17_col4\" class=\"data row17 col4\" >ŠKODA</td>\n",
       "      <td id=\"T_16f1e_row17_col5\" class=\"data row17 col5\" >PETROL</td>\n",
       "      <td id=\"T_16f1e_row17_col6\" class=\"data row17 col6\" >nan</td>\n",
       "      <td id=\"T_16f1e_row17_col7\" class=\"data row17 col7\" >105.395</td>\n",
       "      <td id=\"T_16f1e_row17_col8\" class=\"data row17 col8\" >149.447</td>\n",
       "      <td id=\"T_16f1e_row17_col9\" class=\"data row17 col9\" >1517.605</td>\n",
       "      <td id=\"T_16f1e_row17_col10\" class=\"data row17 col10\" >2729.895</td>\n",
       "      <td id=\"T_16f1e_row17_col11\" class=\"data row17 col11\" >1568.632</td>\n",
       "    </tr>\n",
       "    <tr>\n",
       "      <th id=\"T_16f1e_level0_row18\" class=\"row_heading level0 row18\" >14</th>\n",
       "      <td id=\"T_16f1e_row18_col0\" class=\"data row18 col0\" >IE</td>\n",
       "      <td id=\"T_16f1e_row18_col1\" class=\"data row18 col1\" >5123536.000</td>\n",
       "      <td id=\"T_16f1e_row18_col2\" class=\"data row18 col2\" >103296.799</td>\n",
       "      <td id=\"T_16f1e_row18_col3\" class=\"data row18 col3\" >48</td>\n",
       "      <td id=\"T_16f1e_row18_col4\" class=\"data row18 col4\" >TOYOTA</td>\n",
       "      <td id=\"T_16f1e_row18_col5\" class=\"data row18 col5\" >PETROL</td>\n",
       "      <td id=\"T_16f1e_row18_col6\" class=\"data row18 col6\" >4.144</td>\n",
       "      <td id=\"T_16f1e_row18_col7\" class=\"data row18 col7\" >101.938</td>\n",
       "      <td id=\"T_16f1e_row18_col8\" class=\"data row18 col8\" >111.188</td>\n",
       "      <td id=\"T_16f1e_row18_col9\" class=\"data row18 col9\" >1534.625</td>\n",
       "      <td id=\"T_16f1e_row18_col10\" class=\"data row18 col10\" >2687.458</td>\n",
       "      <td id=\"T_16f1e_row18_col11\" class=\"data row18 col11\" >1567.604</td>\n",
       "    </tr>\n",
       "    <tr>\n",
       "      <th id=\"T_16f1e_level0_row19\" class=\"row_heading level0 row19\" >12</th>\n",
       "      <td id=\"T_16f1e_row19_col0\" class=\"data row19 col0\" >HR</td>\n",
       "      <td id=\"T_16f1e_row19_col1\" class=\"data row19 col1\" >3871833.000</td>\n",
       "      <td id=\"T_16f1e_row19_col2\" class=\"data row19 col2\" >18328.426</td>\n",
       "      <td id=\"T_16f1e_row19_col3\" class=\"data row19 col3\" >24</td>\n",
       "      <td id=\"T_16f1e_row19_col4\" class=\"data row19 col4\" >TOYOTA</td>\n",
       "      <td id=\"T_16f1e_row19_col5\" class=\"data row19 col5\" >PETROL</td>\n",
       "      <td id=\"T_16f1e_row19_col6\" class=\"data row19 col6\" >5.774</td>\n",
       "      <td id=\"T_16f1e_row19_col7\" class=\"data row19 col7\" >96.083</td>\n",
       "      <td id=\"T_16f1e_row19_col8\" class=\"data row19 col8\" >134.083</td>\n",
       "      <td id=\"T_16f1e_row19_col9\" class=\"data row19 col9\" >1437.042</td>\n",
       "      <td id=\"T_16f1e_row19_col10\" class=\"data row19 col10\" >2666.792</td>\n",
       "      <td id=\"T_16f1e_row19_col11\" class=\"data row19 col11\" >1555.208</td>\n",
       "    </tr>\n",
       "    <tr>\n",
       "      <th id=\"T_16f1e_level0_row20\" class=\"row_heading level0 row20\" >16</th>\n",
       "      <td id=\"T_16f1e_row20_col0\" class=\"data row20 col0\" >LT</td>\n",
       "      <td id=\"T_16f1e_row20_col1\" class=\"data row20 col1\" >2860002.000</td>\n",
       "      <td id=\"T_16f1e_row20_col2\" class=\"data row20 col2\" >24592.395</td>\n",
       "      <td id=\"T_16f1e_row20_col3\" class=\"data row20 col3\" >13</td>\n",
       "      <td id=\"T_16f1e_row20_col4\" class=\"data row20 col4\" >FIAT</td>\n",
       "      <td id=\"T_16f1e_row20_col5\" class=\"data row20 col5\" >PETROL</td>\n",
       "      <td id=\"T_16f1e_row20_col6\" class=\"data row20 col6\" >nan</td>\n",
       "      <td id=\"T_16f1e_row20_col7\" class=\"data row20 col7\" >98.692</td>\n",
       "      <td id=\"T_16f1e_row20_col8\" class=\"data row20 col8\" >150.538</td>\n",
       "      <td id=\"T_16f1e_row20_col9\" class=\"data row20 col9\" >1475.000</td>\n",
       "      <td id=\"T_16f1e_row20_col10\" class=\"data row20 col10\" >2597.923</td>\n",
       "      <td id=\"T_16f1e_row20_col11\" class=\"data row20 col11\" >1533.538</td>\n",
       "    </tr>\n",
       "    <tr>\n",
       "      <th id=\"T_16f1e_level0_row21\" class=\"row_heading level0 row21\" >25</th>\n",
       "      <td id=\"T_16f1e_row21_col0\" class=\"data row21 col0\" >SI</td>\n",
       "      <td id=\"T_16f1e_row21_col1\" class=\"data row21 col1\" >2066880.000</td>\n",
       "      <td id=\"T_16f1e_row21_col2\" class=\"data row21 col2\" >30053.882</td>\n",
       "      <td id=\"T_16f1e_row21_col3\" class=\"data row21 col3\" >25</td>\n",
       "      <td id=\"T_16f1e_row21_col4\" class=\"data row21 col4\" >VOLKSWAGEN</td>\n",
       "      <td id=\"T_16f1e_row21_col5\" class=\"data row21 col5\" >PETROL</td>\n",
       "      <td id=\"T_16f1e_row21_col6\" class=\"data row21 col6\" >5.880</td>\n",
       "      <td id=\"T_16f1e_row21_col7\" class=\"data row21 col7\" >91.280</td>\n",
       "      <td id=\"T_16f1e_row21_col8\" class=\"data row21 col8\" >141.040</td>\n",
       "      <td id=\"T_16f1e_row21_col9\" class=\"data row21 col9\" >1440.720</td>\n",
       "      <td id=\"T_16f1e_row21_col10\" class=\"data row21 col10\" >2667.000</td>\n",
       "      <td id=\"T_16f1e_row21_col11\" class=\"data row21 col11\" >1560.480</td>\n",
       "    </tr>\n",
       "    <tr>\n",
       "      <th id=\"T_16f1e_level0_row22\" class=\"row_heading level0 row22\" >18</th>\n",
       "      <td id=\"T_16f1e_row22_col0\" class=\"data row22 col0\" >LV</td>\n",
       "      <td id=\"T_16f1e_row22_col1\" class=\"data row22 col1\" >1883008.000</td>\n",
       "      <td id=\"T_16f1e_row22_col2\" class=\"data row22 col2\" >21855.410</td>\n",
       "      <td id=\"T_16f1e_row22_col3\" class=\"data row22 col3\" >10</td>\n",
       "      <td id=\"T_16f1e_row22_col4\" class=\"data row22 col4\" >HYUNDAI</td>\n",
       "      <td id=\"T_16f1e_row22_col5\" class=\"data row22 col5\" >PETROL</td>\n",
       "      <td id=\"T_16f1e_row22_col6\" class=\"data row22 col6\" >6.267</td>\n",
       "      <td id=\"T_16f1e_row22_col7\" class=\"data row22 col7\" >132.800</td>\n",
       "      <td id=\"T_16f1e_row22_col8\" class=\"data row22 col8\" >133.500</td>\n",
       "      <td id=\"T_16f1e_row22_col9\" class=\"data row22 col9\" >1710.800</td>\n",
       "      <td id=\"T_16f1e_row22_col10\" class=\"data row22 col10\" >2762.700</td>\n",
       "      <td id=\"T_16f1e_row22_col11\" class=\"data row22 col11\" >1594.700</td>\n",
       "    </tr>\n",
       "    <tr>\n",
       "      <th id=\"T_16f1e_level0_row23\" class=\"row_heading level0 row23\" >7</th>\n",
       "      <td id=\"T_16f1e_row23_col0\" class=\"data row23 col0\" >EE</td>\n",
       "      <td id=\"T_16f1e_row23_col1\" class=\"data row23 col1\" >1373101.000</td>\n",
       "      <td id=\"T_16f1e_row23_col2\" class=\"data row23 col2\" >27748.005</td>\n",
       "      <td id=\"T_16f1e_row23_col3\" class=\"data row23 col3\" >8</td>\n",
       "      <td id=\"T_16f1e_row23_col4\" class=\"data row23 col4\" >RENAULT</td>\n",
       "      <td id=\"T_16f1e_row23_col5\" class=\"data row23 col5\" >PETROL</td>\n",
       "      <td id=\"T_16f1e_row23_col6\" class=\"data row23 col6\" >5.588</td>\n",
       "      <td id=\"T_16f1e_row23_col7\" class=\"data row23 col7\" >96.750</td>\n",
       "      <td id=\"T_16f1e_row23_col8\" class=\"data row23 col8\" >129.750</td>\n",
       "      <td id=\"T_16f1e_row23_col9\" class=\"data row23 col9\" >1381.875</td>\n",
       "      <td id=\"T_16f1e_row23_col10\" class=\"data row23 col10\" >2673.000</td>\n",
       "      <td id=\"T_16f1e_row23_col11\" class=\"data row23 col11\" >1560.500</td>\n",
       "    </tr>\n",
       "    <tr>\n",
       "      <th id=\"T_16f1e_level0_row24\" class=\"row_heading level0 row24\" >3</th>\n",
       "      <td id=\"T_16f1e_row24_col0\" class=\"data row24 col0\" >CY</td>\n",
       "      <td id=\"T_16f1e_row24_col1\" class=\"data row24 col1\" >1141166.000</td>\n",
       "      <td id=\"T_16f1e_row24_col2\" class=\"data row24 col2\" >24921.048</td>\n",
       "      <td id=\"T_16f1e_row24_col3\" class=\"data row24 col3\" >8</td>\n",
       "      <td id=\"T_16f1e_row24_col4\" class=\"data row24 col4\" >KIA</td>\n",
       "      <td id=\"T_16f1e_row24_col5\" class=\"data row24 col5\" >PETROL</td>\n",
       "      <td id=\"T_16f1e_row24_col6\" class=\"data row24 col6\" >nan</td>\n",
       "      <td id=\"T_16f1e_row24_col7\" class=\"data row24 col7\" >83.875</td>\n",
       "      <td id=\"T_16f1e_row24_col8\" class=\"data row24 col8\" >134.000</td>\n",
       "      <td id=\"T_16f1e_row24_col9\" class=\"data row24 col9\" >1388.625</td>\n",
       "      <td id=\"T_16f1e_row24_col10\" class=\"data row24 col10\" >2599.125</td>\n",
       "      <td id=\"T_16f1e_row24_col11\" class=\"data row24 col11\" >1526.875</td>\n",
       "    </tr>\n",
       "    <tr>\n",
       "      <th id=\"T_16f1e_level0_row25\" class=\"row_heading level0 row25\" >17</th>\n",
       "      <td id=\"T_16f1e_row25_col0\" class=\"data row25 col0\" >LU</td>\n",
       "      <td id=\"T_16f1e_row25_col1\" class=\"data row25 col1\" >660809.000</td>\n",
       "      <td id=\"T_16f1e_row25_col2\" class=\"data row25 col2\" >129396.306</td>\n",
       "      <td id=\"T_16f1e_row25_col3\" class=\"data row25 col3\" >20</td>\n",
       "      <td id=\"T_16f1e_row25_col4\" class=\"data row25 col4\" >AUDI</td>\n",
       "      <td id=\"T_16f1e_row25_col5\" class=\"data row25 col5\" >PETROL</td>\n",
       "      <td id=\"T_16f1e_row25_col6\" class=\"data row25 col6\" >nan</td>\n",
       "      <td id=\"T_16f1e_row25_col7\" class=\"data row25 col7\" >135.900</td>\n",
       "      <td id=\"T_16f1e_row25_col8\" class=\"data row25 col8\" >118.350</td>\n",
       "      <td id=\"T_16f1e_row25_col9\" class=\"data row25 col9\" >1638.100</td>\n",
       "      <td id=\"T_16f1e_row25_col10\" class=\"data row25 col10\" >2685.700</td>\n",
       "      <td id=\"T_16f1e_row25_col11\" class=\"data row25 col11\" >1574.750</td>\n",
       "    </tr>\n",
       "    <tr>\n",
       "      <th id=\"T_16f1e_level0_row26\" class=\"row_heading level0 row26\" >19</th>\n",
       "      <td id=\"T_16f1e_row26_col0\" class=\"data row26 col0\" >MT</td>\n",
       "      <td id=\"T_16f1e_row26_col1\" class=\"data row26 col1\" >465292.000</td>\n",
       "      <td id=\"T_16f1e_row26_col2\" class=\"data row26 col2\" >38180.906</td>\n",
       "      <td id=\"T_16f1e_row26_col3\" class=\"data row26 col3\" >1</td>\n",
       "      <td id=\"T_16f1e_row26_col4\" class=\"data row26 col4\" >TOYOTA</td>\n",
       "      <td id=\"T_16f1e_row26_col5\" class=\"data row26 col5\" >PETROL</td>\n",
       "      <td id=\"T_16f1e_row26_col6\" class=\"data row26 col6\" >nan</td>\n",
       "      <td id=\"T_16f1e_row26_col7\" class=\"data row26 col7\" >68.000</td>\n",
       "      <td id=\"T_16f1e_row26_col8\" class=\"data row26 col8\" >86.000</td>\n",
       "      <td id=\"T_16f1e_row26_col9\" class=\"data row26 col9\" >1615.000</td>\n",
       "      <td id=\"T_16f1e_row26_col10\" class=\"data row26 col10\" >2560.000</td>\n",
       "      <td id=\"T_16f1e_row26_col11\" class=\"data row26 col11\" >1520.000</td>\n",
       "    </tr>\n",
       "  </tbody>\n",
       "</table>\n"
      ],
      "text/plain": [
       "<pandas.io.formats.style.Styler at 0x7f0a2c3d75e0>"
      ]
     },
     "metadata": {},
     "output_type": "display_data"
    }
   ],
   "source": [
    "from auto_co2.agg import Countries\n",
    "countries = Countries(df, country_stats)\n",
    "countries.display_sorted(by='population')"
   ]
  },
  {
   "cell_type": "code",
   "execution_count": 8,
   "metadata": {},
   "outputs": [
    {
     "data": {
      "application/vnd.plotly.v1+json": {
       "config": {
        "plotlyServerURL": "https://plot.ly"
       },
       "data": [
        {
         "alignmentgroup": "True",
         "hovertemplate": "Country=%{x}<br>Co2EmissionsWltp=%{marker.color}<extra></extra>",
         "legendgroup": "",
         "marker": {
          "color": [
           150.53846153846155,
           149.44736842105263,
           145.31578947368422,
           141.33620689655172,
           141.04,
           134.54901960784315,
           134.08333333333334,
           134,
           133.5,
           129.75,
           126.85077951002228,
           122.32876712328768,
           121.76470588235294,
           121.25287356321839,
           121.10344827586206,
           118.35,
           116.5,
           114.92417061611374,
           114.67604501607717,
           111.1875,
           109.20731707317073,
           108.4805615550756,
           107.625,
           92.40217391304348,
           90.7051282051282,
           86,
           85.60629921259843
          ],
          "coloraxis": "coloraxis",
          "pattern": {
           "shape": ""
          }
         },
         "name": "",
         "offsetgroup": "",
         "orientation": "v",
         "showlegend": false,
         "textposition": "auto",
         "type": "bar",
         "x": [
          "LT",
          "SK",
          "HU",
          "CZ",
          "SI",
          "PL",
          "HR",
          "CY",
          "LV",
          "EE",
          "ES",
          "RO",
          "BG",
          "IT",
          "AT",
          "LU",
          "GR",
          "BE",
          "DE",
          "IE",
          "PT",
          "FR",
          "FI",
          "DK",
          "NL",
          "MT",
          "SE"
         ],
         "xaxis": "x",
         "y": [
          150.53846153846155,
          149.44736842105263,
          145.31578947368422,
          141.33620689655172,
          141.04,
          134.54901960784315,
          134.08333333333334,
          134,
          133.5,
          129.75,
          126.85077951002228,
          122.32876712328768,
          121.76470588235294,
          121.25287356321839,
          121.10344827586206,
          118.35,
          116.5,
          114.92417061611374,
          114.67604501607717,
          111.1875,
          109.20731707317073,
          108.4805615550756,
          107.625,
          92.40217391304348,
          90.7051282051282,
          86,
          85.60629921259843
         ],
         "yaxis": "y"
        }
       ],
       "layout": {
        "barmode": "relative",
        "coloraxis": {
         "colorbar": {
          "title": {
           "text": "Co2EmissionsWltp"
          }
         },
         "colorscale": [
          [
           0,
           "rgb(247,251,255)"
          ],
          [
           0.125,
           "rgb(222,235,247)"
          ],
          [
           0.25,
           "rgb(198,219,239)"
          ],
          [
           0.375,
           "rgb(158,202,225)"
          ],
          [
           0.5,
           "rgb(107,174,214)"
          ],
          [
           0.625,
           "rgb(66,146,198)"
          ],
          [
           0.75,
           "rgb(33,113,181)"
          ],
          [
           0.875,
           "rgb(8,81,156)"
          ],
          [
           1,
           "rgb(8,48,107)"
          ]
         ]
        },
        "legend": {
         "tracegroupgap": 0
        },
        "margin": {
         "t": 60
        },
        "template": {
         "data": {
          "bar": [
           {
            "error_x": {
             "color": "#2a3f5f"
            },
            "error_y": {
             "color": "#2a3f5f"
            },
            "marker": {
             "line": {
              "color": "#E5ECF6",
              "width": 0.5
             },
             "pattern": {
              "fillmode": "overlay",
              "size": 10,
              "solidity": 0.2
             }
            },
            "type": "bar"
           }
          ],
          "barpolar": [
           {
            "marker": {
             "line": {
              "color": "#E5ECF6",
              "width": 0.5
             },
             "pattern": {
              "fillmode": "overlay",
              "size": 10,
              "solidity": 0.2
             }
            },
            "type": "barpolar"
           }
          ],
          "carpet": [
           {
            "aaxis": {
             "endlinecolor": "#2a3f5f",
             "gridcolor": "white",
             "linecolor": "white",
             "minorgridcolor": "white",
             "startlinecolor": "#2a3f5f"
            },
            "baxis": {
             "endlinecolor": "#2a3f5f",
             "gridcolor": "white",
             "linecolor": "white",
             "minorgridcolor": "white",
             "startlinecolor": "#2a3f5f"
            },
            "type": "carpet"
           }
          ],
          "choropleth": [
           {
            "colorbar": {
             "outlinewidth": 0,
             "ticks": ""
            },
            "type": "choropleth"
           }
          ],
          "contour": [
           {
            "colorbar": {
             "outlinewidth": 0,
             "ticks": ""
            },
            "colorscale": [
             [
              0,
              "#0d0887"
             ],
             [
              0.1111111111111111,
              "#46039f"
             ],
             [
              0.2222222222222222,
              "#7201a8"
             ],
             [
              0.3333333333333333,
              "#9c179e"
             ],
             [
              0.4444444444444444,
              "#bd3786"
             ],
             [
              0.5555555555555556,
              "#d8576b"
             ],
             [
              0.6666666666666666,
              "#ed7953"
             ],
             [
              0.7777777777777778,
              "#fb9f3a"
             ],
             [
              0.8888888888888888,
              "#fdca26"
             ],
             [
              1,
              "#f0f921"
             ]
            ],
            "type": "contour"
           }
          ],
          "contourcarpet": [
           {
            "colorbar": {
             "outlinewidth": 0,
             "ticks": ""
            },
            "type": "contourcarpet"
           }
          ],
          "heatmap": [
           {
            "colorbar": {
             "outlinewidth": 0,
             "ticks": ""
            },
            "colorscale": [
             [
              0,
              "#0d0887"
             ],
             [
              0.1111111111111111,
              "#46039f"
             ],
             [
              0.2222222222222222,
              "#7201a8"
             ],
             [
              0.3333333333333333,
              "#9c179e"
             ],
             [
              0.4444444444444444,
              "#bd3786"
             ],
             [
              0.5555555555555556,
              "#d8576b"
             ],
             [
              0.6666666666666666,
              "#ed7953"
             ],
             [
              0.7777777777777778,
              "#fb9f3a"
             ],
             [
              0.8888888888888888,
              "#fdca26"
             ],
             [
              1,
              "#f0f921"
             ]
            ],
            "type": "heatmap"
           }
          ],
          "heatmapgl": [
           {
            "colorbar": {
             "outlinewidth": 0,
             "ticks": ""
            },
            "colorscale": [
             [
              0,
              "#0d0887"
             ],
             [
              0.1111111111111111,
              "#46039f"
             ],
             [
              0.2222222222222222,
              "#7201a8"
             ],
             [
              0.3333333333333333,
              "#9c179e"
             ],
             [
              0.4444444444444444,
              "#bd3786"
             ],
             [
              0.5555555555555556,
              "#d8576b"
             ],
             [
              0.6666666666666666,
              "#ed7953"
             ],
             [
              0.7777777777777778,
              "#fb9f3a"
             ],
             [
              0.8888888888888888,
              "#fdca26"
             ],
             [
              1,
              "#f0f921"
             ]
            ],
            "type": "heatmapgl"
           }
          ],
          "histogram": [
           {
            "marker": {
             "pattern": {
              "fillmode": "overlay",
              "size": 10,
              "solidity": 0.2
             }
            },
            "type": "histogram"
           }
          ],
          "histogram2d": [
           {
            "colorbar": {
             "outlinewidth": 0,
             "ticks": ""
            },
            "colorscale": [
             [
              0,
              "#0d0887"
             ],
             [
              0.1111111111111111,
              "#46039f"
             ],
             [
              0.2222222222222222,
              "#7201a8"
             ],
             [
              0.3333333333333333,
              "#9c179e"
             ],
             [
              0.4444444444444444,
              "#bd3786"
             ],
             [
              0.5555555555555556,
              "#d8576b"
             ],
             [
              0.6666666666666666,
              "#ed7953"
             ],
             [
              0.7777777777777778,
              "#fb9f3a"
             ],
             [
              0.8888888888888888,
              "#fdca26"
             ],
             [
              1,
              "#f0f921"
             ]
            ],
            "type": "histogram2d"
           }
          ],
          "histogram2dcontour": [
           {
            "colorbar": {
             "outlinewidth": 0,
             "ticks": ""
            },
            "colorscale": [
             [
              0,
              "#0d0887"
             ],
             [
              0.1111111111111111,
              "#46039f"
             ],
             [
              0.2222222222222222,
              "#7201a8"
             ],
             [
              0.3333333333333333,
              "#9c179e"
             ],
             [
              0.4444444444444444,
              "#bd3786"
             ],
             [
              0.5555555555555556,
              "#d8576b"
             ],
             [
              0.6666666666666666,
              "#ed7953"
             ],
             [
              0.7777777777777778,
              "#fb9f3a"
             ],
             [
              0.8888888888888888,
              "#fdca26"
             ],
             [
              1,
              "#f0f921"
             ]
            ],
            "type": "histogram2dcontour"
           }
          ],
          "mesh3d": [
           {
            "colorbar": {
             "outlinewidth": 0,
             "ticks": ""
            },
            "type": "mesh3d"
           }
          ],
          "parcoords": [
           {
            "line": {
             "colorbar": {
              "outlinewidth": 0,
              "ticks": ""
             }
            },
            "type": "parcoords"
           }
          ],
          "pie": [
           {
            "automargin": true,
            "type": "pie"
           }
          ],
          "scatter": [
           {
            "fillpattern": {
             "fillmode": "overlay",
             "size": 10,
             "solidity": 0.2
            },
            "type": "scatter"
           }
          ],
          "scatter3d": [
           {
            "line": {
             "colorbar": {
              "outlinewidth": 0,
              "ticks": ""
             }
            },
            "marker": {
             "colorbar": {
              "outlinewidth": 0,
              "ticks": ""
             }
            },
            "type": "scatter3d"
           }
          ],
          "scattercarpet": [
           {
            "marker": {
             "colorbar": {
              "outlinewidth": 0,
              "ticks": ""
             }
            },
            "type": "scattercarpet"
           }
          ],
          "scattergeo": [
           {
            "marker": {
             "colorbar": {
              "outlinewidth": 0,
              "ticks": ""
             }
            },
            "type": "scattergeo"
           }
          ],
          "scattergl": [
           {
            "marker": {
             "colorbar": {
              "outlinewidth": 0,
              "ticks": ""
             }
            },
            "type": "scattergl"
           }
          ],
          "scattermapbox": [
           {
            "marker": {
             "colorbar": {
              "outlinewidth": 0,
              "ticks": ""
             }
            },
            "type": "scattermapbox"
           }
          ],
          "scatterpolar": [
           {
            "marker": {
             "colorbar": {
              "outlinewidth": 0,
              "ticks": ""
             }
            },
            "type": "scatterpolar"
           }
          ],
          "scatterpolargl": [
           {
            "marker": {
             "colorbar": {
              "outlinewidth": 0,
              "ticks": ""
             }
            },
            "type": "scatterpolargl"
           }
          ],
          "scatterternary": [
           {
            "marker": {
             "colorbar": {
              "outlinewidth": 0,
              "ticks": ""
             }
            },
            "type": "scatterternary"
           }
          ],
          "surface": [
           {
            "colorbar": {
             "outlinewidth": 0,
             "ticks": ""
            },
            "colorscale": [
             [
              0,
              "#0d0887"
             ],
             [
              0.1111111111111111,
              "#46039f"
             ],
             [
              0.2222222222222222,
              "#7201a8"
             ],
             [
              0.3333333333333333,
              "#9c179e"
             ],
             [
              0.4444444444444444,
              "#bd3786"
             ],
             [
              0.5555555555555556,
              "#d8576b"
             ],
             [
              0.6666666666666666,
              "#ed7953"
             ],
             [
              0.7777777777777778,
              "#fb9f3a"
             ],
             [
              0.8888888888888888,
              "#fdca26"
             ],
             [
              1,
              "#f0f921"
             ]
            ],
            "type": "surface"
           }
          ],
          "table": [
           {
            "cells": {
             "fill": {
              "color": "#EBF0F8"
             },
             "line": {
              "color": "white"
             }
            },
            "header": {
             "fill": {
              "color": "#C8D4E3"
             },
             "line": {
              "color": "white"
             }
            },
            "type": "table"
           }
          ]
         },
         "layout": {
          "annotationdefaults": {
           "arrowcolor": "#2a3f5f",
           "arrowhead": 0,
           "arrowwidth": 1
          },
          "autotypenumbers": "strict",
          "coloraxis": {
           "colorbar": {
            "outlinewidth": 0,
            "ticks": ""
           }
          },
          "colorscale": {
           "diverging": [
            [
             0,
             "#8e0152"
            ],
            [
             0.1,
             "#c51b7d"
            ],
            [
             0.2,
             "#de77ae"
            ],
            [
             0.3,
             "#f1b6da"
            ],
            [
             0.4,
             "#fde0ef"
            ],
            [
             0.5,
             "#f7f7f7"
            ],
            [
             0.6,
             "#e6f5d0"
            ],
            [
             0.7,
             "#b8e186"
            ],
            [
             0.8,
             "#7fbc41"
            ],
            [
             0.9,
             "#4d9221"
            ],
            [
             1,
             "#276419"
            ]
           ],
           "sequential": [
            [
             0,
             "#0d0887"
            ],
            [
             0.1111111111111111,
             "#46039f"
            ],
            [
             0.2222222222222222,
             "#7201a8"
            ],
            [
             0.3333333333333333,
             "#9c179e"
            ],
            [
             0.4444444444444444,
             "#bd3786"
            ],
            [
             0.5555555555555556,
             "#d8576b"
            ],
            [
             0.6666666666666666,
             "#ed7953"
            ],
            [
             0.7777777777777778,
             "#fb9f3a"
            ],
            [
             0.8888888888888888,
             "#fdca26"
            ],
            [
             1,
             "#f0f921"
            ]
           ],
           "sequentialminus": [
            [
             0,
             "#0d0887"
            ],
            [
             0.1111111111111111,
             "#46039f"
            ],
            [
             0.2222222222222222,
             "#7201a8"
            ],
            [
             0.3333333333333333,
             "#9c179e"
            ],
            [
             0.4444444444444444,
             "#bd3786"
            ],
            [
             0.5555555555555556,
             "#d8576b"
            ],
            [
             0.6666666666666666,
             "#ed7953"
            ],
            [
             0.7777777777777778,
             "#fb9f3a"
            ],
            [
             0.8888888888888888,
             "#fdca26"
            ],
            [
             1,
             "#f0f921"
            ]
           ]
          },
          "colorway": [
           "#636efa",
           "#EF553B",
           "#00cc96",
           "#ab63fa",
           "#FFA15A",
           "#19d3f3",
           "#FF6692",
           "#B6E880",
           "#FF97FF",
           "#FECB52"
          ],
          "font": {
           "color": "#2a3f5f"
          },
          "geo": {
           "bgcolor": "white",
           "lakecolor": "white",
           "landcolor": "#E5ECF6",
           "showlakes": true,
           "showland": true,
           "subunitcolor": "white"
          },
          "hoverlabel": {
           "align": "left"
          },
          "hovermode": "closest",
          "mapbox": {
           "style": "light"
          },
          "paper_bgcolor": "white",
          "plot_bgcolor": "#E5ECF6",
          "polar": {
           "angularaxis": {
            "gridcolor": "white",
            "linecolor": "white",
            "ticks": ""
           },
           "bgcolor": "#E5ECF6",
           "radialaxis": {
            "gridcolor": "white",
            "linecolor": "white",
            "ticks": ""
           }
          },
          "scene": {
           "xaxis": {
            "backgroundcolor": "#E5ECF6",
            "gridcolor": "white",
            "gridwidth": 2,
            "linecolor": "white",
            "showbackground": true,
            "ticks": "",
            "zerolinecolor": "white"
           },
           "yaxis": {
            "backgroundcolor": "#E5ECF6",
            "gridcolor": "white",
            "gridwidth": 2,
            "linecolor": "white",
            "showbackground": true,
            "ticks": "",
            "zerolinecolor": "white"
           },
           "zaxis": {
            "backgroundcolor": "#E5ECF6",
            "gridcolor": "white",
            "gridwidth": 2,
            "linecolor": "white",
            "showbackground": true,
            "ticks": "",
            "zerolinecolor": "white"
           }
          },
          "shapedefaults": {
           "line": {
            "color": "#2a3f5f"
           }
          },
          "ternary": {
           "aaxis": {
            "gridcolor": "white",
            "linecolor": "white",
            "ticks": ""
           },
           "baxis": {
            "gridcolor": "white",
            "linecolor": "white",
            "ticks": ""
           },
           "bgcolor": "#E5ECF6",
           "caxis": {
            "gridcolor": "white",
            "linecolor": "white",
            "ticks": ""
           }
          },
          "title": {
           "x": 0.05
          },
          "xaxis": {
           "automargin": true,
           "gridcolor": "white",
           "linecolor": "white",
           "ticks": "",
           "title": {
            "standoff": 15
           },
           "zerolinecolor": "white",
           "zerolinewidth": 2
          },
          "yaxis": {
           "automargin": true,
           "gridcolor": "white",
           "linecolor": "white",
           "ticks": "",
           "title": {
            "standoff": 15
           },
           "zerolinecolor": "white",
           "zerolinewidth": 2
          }
         }
        },
        "title": {
         "text": "Quel pays achète les véhicules les plus polluants? (CO2)",
         "x": 0.3
        },
        "xaxis": {
         "anchor": "y",
         "domain": [
          0,
          1
         ],
         "title": {
          "text": "Country"
         }
        },
        "yaxis": {
         "anchor": "x",
         "domain": [
          0,
          1
         ],
         "title": {
          "text": "Co2EmissionsWltp"
         }
        }
       }
      }
     },
     "metadata": {},
     "output_type": "display_data"
    },
    {
     "data": {
      "application/vnd.plotly.v1+json": {
       "config": {
        "plotlyServerURL": "https://plot.ly"
       },
       "data": [
        {
         "alignmentgroup": "True",
         "hovertemplate": "Country=%{x}<br>EnginePower=%{marker.color}<extra></extra>",
         "legendgroup": "",
         "marker": {
          "color": [
           135.9,
           134.11811023622047,
           132.8,
           123.3859649122807,
           116.16055419722902,
           113.3103448275862,
           111.39682539682539,
           107,
           106.47524752475248,
           105.39473684210526,
           104.1474358974359,
           103.87068965517241,
           102.19565217391305,
           101.9375,
           101.45161290322581,
           99.84146341463415,
           98.6923076923077,
           96.75,
           96.08333333333333,
           93.29010989010989,
           91.28,
           89.97619047619048,
           89.76811594202898,
           87.0669546436285,
           83.875,
           83.17326057298772,
           68
          ],
          "coloraxis": "coloraxis",
          "pattern": {
           "shape": ""
          }
         },
         "name": "",
         "offsetgroup": "",
         "orientation": "v",
         "showlegend": false,
         "textposition": "auto",
         "type": "bar",
         "x": [
          "LU",
          "SE",
          "LV",
          "HU",
          "DE",
          "CZ",
          "BE",
          "BG",
          "PL",
          "SK",
          "NL",
          "AT",
          "DK",
          "IE",
          "FI",
          "PT",
          "LT",
          "EE",
          "HR",
          "ES",
          "SI",
          "GR",
          "RO",
          "FR",
          "CY",
          "IT",
          "MT"
         ],
         "xaxis": "x",
         "y": [
          135.9,
          134.11811023622047,
          132.8,
          123.3859649122807,
          116.16055419722902,
          113.3103448275862,
          111.39682539682539,
          107,
          106.47524752475248,
          105.39473684210526,
          104.1474358974359,
          103.87068965517241,
          102.19565217391305,
          101.9375,
          101.45161290322581,
          99.84146341463415,
          98.6923076923077,
          96.75,
          96.08333333333333,
          93.29010989010989,
          91.28,
          89.97619047619048,
          89.76811594202898,
          87.0669546436285,
          83.875,
          83.17326057298772,
          68
         ],
         "yaxis": "y"
        }
       ],
       "layout": {
        "barmode": "relative",
        "coloraxis": {
         "colorbar": {
          "title": {
           "text": "EnginePower"
          }
         },
         "colorscale": [
          [
           0,
           "rgb(247,252,245)"
          ],
          [
           0.125,
           "rgb(229,245,224)"
          ],
          [
           0.25,
           "rgb(199,233,192)"
          ],
          [
           0.375,
           "rgb(161,217,155)"
          ],
          [
           0.5,
           "rgb(116,196,118)"
          ],
          [
           0.625,
           "rgb(65,171,93)"
          ],
          [
           0.75,
           "rgb(35,139,69)"
          ],
          [
           0.875,
           "rgb(0,109,44)"
          ],
          [
           1,
           "rgb(0,68,27)"
          ]
         ]
        },
        "legend": {
         "tracegroupgap": 0
        },
        "margin": {
         "t": 60
        },
        "template": {
         "data": {
          "bar": [
           {
            "error_x": {
             "color": "#2a3f5f"
            },
            "error_y": {
             "color": "#2a3f5f"
            },
            "marker": {
             "line": {
              "color": "#E5ECF6",
              "width": 0.5
             },
             "pattern": {
              "fillmode": "overlay",
              "size": 10,
              "solidity": 0.2
             }
            },
            "type": "bar"
           }
          ],
          "barpolar": [
           {
            "marker": {
             "line": {
              "color": "#E5ECF6",
              "width": 0.5
             },
             "pattern": {
              "fillmode": "overlay",
              "size": 10,
              "solidity": 0.2
             }
            },
            "type": "barpolar"
           }
          ],
          "carpet": [
           {
            "aaxis": {
             "endlinecolor": "#2a3f5f",
             "gridcolor": "white",
             "linecolor": "white",
             "minorgridcolor": "white",
             "startlinecolor": "#2a3f5f"
            },
            "baxis": {
             "endlinecolor": "#2a3f5f",
             "gridcolor": "white",
             "linecolor": "white",
             "minorgridcolor": "white",
             "startlinecolor": "#2a3f5f"
            },
            "type": "carpet"
           }
          ],
          "choropleth": [
           {
            "colorbar": {
             "outlinewidth": 0,
             "ticks": ""
            },
            "type": "choropleth"
           }
          ],
          "contour": [
           {
            "colorbar": {
             "outlinewidth": 0,
             "ticks": ""
            },
            "colorscale": [
             [
              0,
              "#0d0887"
             ],
             [
              0.1111111111111111,
              "#46039f"
             ],
             [
              0.2222222222222222,
              "#7201a8"
             ],
             [
              0.3333333333333333,
              "#9c179e"
             ],
             [
              0.4444444444444444,
              "#bd3786"
             ],
             [
              0.5555555555555556,
              "#d8576b"
             ],
             [
              0.6666666666666666,
              "#ed7953"
             ],
             [
              0.7777777777777778,
              "#fb9f3a"
             ],
             [
              0.8888888888888888,
              "#fdca26"
             ],
             [
              1,
              "#f0f921"
             ]
            ],
            "type": "contour"
           }
          ],
          "contourcarpet": [
           {
            "colorbar": {
             "outlinewidth": 0,
             "ticks": ""
            },
            "type": "contourcarpet"
           }
          ],
          "heatmap": [
           {
            "colorbar": {
             "outlinewidth": 0,
             "ticks": ""
            },
            "colorscale": [
             [
              0,
              "#0d0887"
             ],
             [
              0.1111111111111111,
              "#46039f"
             ],
             [
              0.2222222222222222,
              "#7201a8"
             ],
             [
              0.3333333333333333,
              "#9c179e"
             ],
             [
              0.4444444444444444,
              "#bd3786"
             ],
             [
              0.5555555555555556,
              "#d8576b"
             ],
             [
              0.6666666666666666,
              "#ed7953"
             ],
             [
              0.7777777777777778,
              "#fb9f3a"
             ],
             [
              0.8888888888888888,
              "#fdca26"
             ],
             [
              1,
              "#f0f921"
             ]
            ],
            "type": "heatmap"
           }
          ],
          "heatmapgl": [
           {
            "colorbar": {
             "outlinewidth": 0,
             "ticks": ""
            },
            "colorscale": [
             [
              0,
              "#0d0887"
             ],
             [
              0.1111111111111111,
              "#46039f"
             ],
             [
              0.2222222222222222,
              "#7201a8"
             ],
             [
              0.3333333333333333,
              "#9c179e"
             ],
             [
              0.4444444444444444,
              "#bd3786"
             ],
             [
              0.5555555555555556,
              "#d8576b"
             ],
             [
              0.6666666666666666,
              "#ed7953"
             ],
             [
              0.7777777777777778,
              "#fb9f3a"
             ],
             [
              0.8888888888888888,
              "#fdca26"
             ],
             [
              1,
              "#f0f921"
             ]
            ],
            "type": "heatmapgl"
           }
          ],
          "histogram": [
           {
            "marker": {
             "pattern": {
              "fillmode": "overlay",
              "size": 10,
              "solidity": 0.2
             }
            },
            "type": "histogram"
           }
          ],
          "histogram2d": [
           {
            "colorbar": {
             "outlinewidth": 0,
             "ticks": ""
            },
            "colorscale": [
             [
              0,
              "#0d0887"
             ],
             [
              0.1111111111111111,
              "#46039f"
             ],
             [
              0.2222222222222222,
              "#7201a8"
             ],
             [
              0.3333333333333333,
              "#9c179e"
             ],
             [
              0.4444444444444444,
              "#bd3786"
             ],
             [
              0.5555555555555556,
              "#d8576b"
             ],
             [
              0.6666666666666666,
              "#ed7953"
             ],
             [
              0.7777777777777778,
              "#fb9f3a"
             ],
             [
              0.8888888888888888,
              "#fdca26"
             ],
             [
              1,
              "#f0f921"
             ]
            ],
            "type": "histogram2d"
           }
          ],
          "histogram2dcontour": [
           {
            "colorbar": {
             "outlinewidth": 0,
             "ticks": ""
            },
            "colorscale": [
             [
              0,
              "#0d0887"
             ],
             [
              0.1111111111111111,
              "#46039f"
             ],
             [
              0.2222222222222222,
              "#7201a8"
             ],
             [
              0.3333333333333333,
              "#9c179e"
             ],
             [
              0.4444444444444444,
              "#bd3786"
             ],
             [
              0.5555555555555556,
              "#d8576b"
             ],
             [
              0.6666666666666666,
              "#ed7953"
             ],
             [
              0.7777777777777778,
              "#fb9f3a"
             ],
             [
              0.8888888888888888,
              "#fdca26"
             ],
             [
              1,
              "#f0f921"
             ]
            ],
            "type": "histogram2dcontour"
           }
          ],
          "mesh3d": [
           {
            "colorbar": {
             "outlinewidth": 0,
             "ticks": ""
            },
            "type": "mesh3d"
           }
          ],
          "parcoords": [
           {
            "line": {
             "colorbar": {
              "outlinewidth": 0,
              "ticks": ""
             }
            },
            "type": "parcoords"
           }
          ],
          "pie": [
           {
            "automargin": true,
            "type": "pie"
           }
          ],
          "scatter": [
           {
            "fillpattern": {
             "fillmode": "overlay",
             "size": 10,
             "solidity": 0.2
            },
            "type": "scatter"
           }
          ],
          "scatter3d": [
           {
            "line": {
             "colorbar": {
              "outlinewidth": 0,
              "ticks": ""
             }
            },
            "marker": {
             "colorbar": {
              "outlinewidth": 0,
              "ticks": ""
             }
            },
            "type": "scatter3d"
           }
          ],
          "scattercarpet": [
           {
            "marker": {
             "colorbar": {
              "outlinewidth": 0,
              "ticks": ""
             }
            },
            "type": "scattercarpet"
           }
          ],
          "scattergeo": [
           {
            "marker": {
             "colorbar": {
              "outlinewidth": 0,
              "ticks": ""
             }
            },
            "type": "scattergeo"
           }
          ],
          "scattergl": [
           {
            "marker": {
             "colorbar": {
              "outlinewidth": 0,
              "ticks": ""
             }
            },
            "type": "scattergl"
           }
          ],
          "scattermapbox": [
           {
            "marker": {
             "colorbar": {
              "outlinewidth": 0,
              "ticks": ""
             }
            },
            "type": "scattermapbox"
           }
          ],
          "scatterpolar": [
           {
            "marker": {
             "colorbar": {
              "outlinewidth": 0,
              "ticks": ""
             }
            },
            "type": "scatterpolar"
           }
          ],
          "scatterpolargl": [
           {
            "marker": {
             "colorbar": {
              "outlinewidth": 0,
              "ticks": ""
             }
            },
            "type": "scatterpolargl"
           }
          ],
          "scatterternary": [
           {
            "marker": {
             "colorbar": {
              "outlinewidth": 0,
              "ticks": ""
             }
            },
            "type": "scatterternary"
           }
          ],
          "surface": [
           {
            "colorbar": {
             "outlinewidth": 0,
             "ticks": ""
            },
            "colorscale": [
             [
              0,
              "#0d0887"
             ],
             [
              0.1111111111111111,
              "#46039f"
             ],
             [
              0.2222222222222222,
              "#7201a8"
             ],
             [
              0.3333333333333333,
              "#9c179e"
             ],
             [
              0.4444444444444444,
              "#bd3786"
             ],
             [
              0.5555555555555556,
              "#d8576b"
             ],
             [
              0.6666666666666666,
              "#ed7953"
             ],
             [
              0.7777777777777778,
              "#fb9f3a"
             ],
             [
              0.8888888888888888,
              "#fdca26"
             ],
             [
              1,
              "#f0f921"
             ]
            ],
            "type": "surface"
           }
          ],
          "table": [
           {
            "cells": {
             "fill": {
              "color": "#EBF0F8"
             },
             "line": {
              "color": "white"
             }
            },
            "header": {
             "fill": {
              "color": "#C8D4E3"
             },
             "line": {
              "color": "white"
             }
            },
            "type": "table"
           }
          ]
         },
         "layout": {
          "annotationdefaults": {
           "arrowcolor": "#2a3f5f",
           "arrowhead": 0,
           "arrowwidth": 1
          },
          "autotypenumbers": "strict",
          "coloraxis": {
           "colorbar": {
            "outlinewidth": 0,
            "ticks": ""
           }
          },
          "colorscale": {
           "diverging": [
            [
             0,
             "#8e0152"
            ],
            [
             0.1,
             "#c51b7d"
            ],
            [
             0.2,
             "#de77ae"
            ],
            [
             0.3,
             "#f1b6da"
            ],
            [
             0.4,
             "#fde0ef"
            ],
            [
             0.5,
             "#f7f7f7"
            ],
            [
             0.6,
             "#e6f5d0"
            ],
            [
             0.7,
             "#b8e186"
            ],
            [
             0.8,
             "#7fbc41"
            ],
            [
             0.9,
             "#4d9221"
            ],
            [
             1,
             "#276419"
            ]
           ],
           "sequential": [
            [
             0,
             "#0d0887"
            ],
            [
             0.1111111111111111,
             "#46039f"
            ],
            [
             0.2222222222222222,
             "#7201a8"
            ],
            [
             0.3333333333333333,
             "#9c179e"
            ],
            [
             0.4444444444444444,
             "#bd3786"
            ],
            [
             0.5555555555555556,
             "#d8576b"
            ],
            [
             0.6666666666666666,
             "#ed7953"
            ],
            [
             0.7777777777777778,
             "#fb9f3a"
            ],
            [
             0.8888888888888888,
             "#fdca26"
            ],
            [
             1,
             "#f0f921"
            ]
           ],
           "sequentialminus": [
            [
             0,
             "#0d0887"
            ],
            [
             0.1111111111111111,
             "#46039f"
            ],
            [
             0.2222222222222222,
             "#7201a8"
            ],
            [
             0.3333333333333333,
             "#9c179e"
            ],
            [
             0.4444444444444444,
             "#bd3786"
            ],
            [
             0.5555555555555556,
             "#d8576b"
            ],
            [
             0.6666666666666666,
             "#ed7953"
            ],
            [
             0.7777777777777778,
             "#fb9f3a"
            ],
            [
             0.8888888888888888,
             "#fdca26"
            ],
            [
             1,
             "#f0f921"
            ]
           ]
          },
          "colorway": [
           "#636efa",
           "#EF553B",
           "#00cc96",
           "#ab63fa",
           "#FFA15A",
           "#19d3f3",
           "#FF6692",
           "#B6E880",
           "#FF97FF",
           "#FECB52"
          ],
          "font": {
           "color": "#2a3f5f"
          },
          "geo": {
           "bgcolor": "white",
           "lakecolor": "white",
           "landcolor": "#E5ECF6",
           "showlakes": true,
           "showland": true,
           "subunitcolor": "white"
          },
          "hoverlabel": {
           "align": "left"
          },
          "hovermode": "closest",
          "mapbox": {
           "style": "light"
          },
          "paper_bgcolor": "white",
          "plot_bgcolor": "#E5ECF6",
          "polar": {
           "angularaxis": {
            "gridcolor": "white",
            "linecolor": "white",
            "ticks": ""
           },
           "bgcolor": "#E5ECF6",
           "radialaxis": {
            "gridcolor": "white",
            "linecolor": "white",
            "ticks": ""
           }
          },
          "scene": {
           "xaxis": {
            "backgroundcolor": "#E5ECF6",
            "gridcolor": "white",
            "gridwidth": 2,
            "linecolor": "white",
            "showbackground": true,
            "ticks": "",
            "zerolinecolor": "white"
           },
           "yaxis": {
            "backgroundcolor": "#E5ECF6",
            "gridcolor": "white",
            "gridwidth": 2,
            "linecolor": "white",
            "showbackground": true,
            "ticks": "",
            "zerolinecolor": "white"
           },
           "zaxis": {
            "backgroundcolor": "#E5ECF6",
            "gridcolor": "white",
            "gridwidth": 2,
            "linecolor": "white",
            "showbackground": true,
            "ticks": "",
            "zerolinecolor": "white"
           }
          },
          "shapedefaults": {
           "line": {
            "color": "#2a3f5f"
           }
          },
          "ternary": {
           "aaxis": {
            "gridcolor": "white",
            "linecolor": "white",
            "ticks": ""
           },
           "baxis": {
            "gridcolor": "white",
            "linecolor": "white",
            "ticks": ""
           },
           "bgcolor": "#E5ECF6",
           "caxis": {
            "gridcolor": "white",
            "linecolor": "white",
            "ticks": ""
           }
          },
          "title": {
           "x": 0.05
          },
          "xaxis": {
           "automargin": true,
           "gridcolor": "white",
           "linecolor": "white",
           "ticks": "",
           "title": {
            "standoff": 15
           },
           "zerolinecolor": "white",
           "zerolinewidth": 2
          },
          "yaxis": {
           "automargin": true,
           "gridcolor": "white",
           "linecolor": "white",
           "ticks": "",
           "title": {
            "standoff": 15
           },
           "zerolinecolor": "white",
           "zerolinewidth": 2
          }
         }
        },
        "title": {
         "text": "Quel pays achète les véhicules les plus puissants? (KWh)",
         "x": 0.3
        },
        "xaxis": {
         "anchor": "y",
         "domain": [
          0,
          1
         ],
         "title": {
          "text": "Country"
         }
        },
        "yaxis": {
         "anchor": "x",
         "domain": [
          0,
          1
         ],
         "title": {
          "text": "EnginePower"
         }
        }
       }
      }
     },
     "metadata": {},
     "output_type": "display_data"
    },
    {
     "data": {
      "application/vnd.plotly.v1+json": {
       "config": {
        "plotlyServerURL": "https://plot.ly"
       },
       "data": [
        {
         "alignmentgroup": "True",
         "hovertemplate": "Country=%{x}<br>MassRunningOrder=%{marker.color}<extra></extra>",
         "legendgroup": "",
         "marker": {
          "color": [
           1710.8,
           1667.6850393700788,
           1638.1,
           1615,
           1569.6354166666667,
           1557.2631578947369,
           1552.811320754717,
           1536.603448275862,
           1534.625,
           1522.5294117647059,
           1517.6052631578948,
           1503.859375,
           1500.1089743589744,
           1494.1960784313726,
           1484.4239130434783,
           1475,
           1470.0975609756097,
           1461.0689655172414,
           1440.72,
           1437.0416666666667,
           1418.4737991266375,
           1404.463282937365,
           1388.625,
           1381.875,
           1367.3083219645293,
           1364.3150684931506,
           1343.8333333333333
          ],
          "coloraxis": "coloraxis",
          "pattern": {
           "shape": ""
          }
         },
         "name": "",
         "offsetgroup": "",
         "orientation": "v",
         "showlegend": false,
         "textposition": "auto",
         "type": "bar",
         "x": [
          "LV",
          "SE",
          "LU",
          "MT",
          "DE",
          "HU",
          "BE",
          "AT",
          "IE",
          "BG",
          "SK",
          "FI",
          "NL",
          "PL",
          "DK",
          "LT",
          "PT",
          "CZ",
          "SI",
          "HR",
          "ES",
          "FR",
          "CY",
          "EE",
          "IT",
          "RO",
          "GR"
         ],
         "xaxis": "x",
         "y": [
          1710.8,
          1667.6850393700788,
          1638.1,
          1615,
          1569.6354166666667,
          1557.2631578947369,
          1552.811320754717,
          1536.603448275862,
          1534.625,
          1522.5294117647059,
          1517.6052631578948,
          1503.859375,
          1500.1089743589744,
          1494.1960784313726,
          1484.4239130434783,
          1475,
          1470.0975609756097,
          1461.0689655172414,
          1440.72,
          1437.0416666666667,
          1418.4737991266375,
          1404.463282937365,
          1388.625,
          1381.875,
          1367.3083219645293,
          1364.3150684931506,
          1343.8333333333333
         ],
         "yaxis": "y"
        }
       ],
       "layout": {
        "barmode": "relative",
        "coloraxis": {
         "colorbar": {
          "title": {
           "text": "MassRunningOrder"
          }
         },
         "colorscale": [
          [
           0,
           "rgb(255,245,240)"
          ],
          [
           0.125,
           "rgb(254,224,210)"
          ],
          [
           0.25,
           "rgb(252,187,161)"
          ],
          [
           0.375,
           "rgb(252,146,114)"
          ],
          [
           0.5,
           "rgb(251,106,74)"
          ],
          [
           0.625,
           "rgb(239,59,44)"
          ],
          [
           0.75,
           "rgb(203,24,29)"
          ],
          [
           0.875,
           "rgb(165,15,21)"
          ],
          [
           1,
           "rgb(103,0,13)"
          ]
         ]
        },
        "legend": {
         "tracegroupgap": 0
        },
        "margin": {
         "t": 60
        },
        "template": {
         "data": {
          "bar": [
           {
            "error_x": {
             "color": "#2a3f5f"
            },
            "error_y": {
             "color": "#2a3f5f"
            },
            "marker": {
             "line": {
              "color": "#E5ECF6",
              "width": 0.5
             },
             "pattern": {
              "fillmode": "overlay",
              "size": 10,
              "solidity": 0.2
             }
            },
            "type": "bar"
           }
          ],
          "barpolar": [
           {
            "marker": {
             "line": {
              "color": "#E5ECF6",
              "width": 0.5
             },
             "pattern": {
              "fillmode": "overlay",
              "size": 10,
              "solidity": 0.2
             }
            },
            "type": "barpolar"
           }
          ],
          "carpet": [
           {
            "aaxis": {
             "endlinecolor": "#2a3f5f",
             "gridcolor": "white",
             "linecolor": "white",
             "minorgridcolor": "white",
             "startlinecolor": "#2a3f5f"
            },
            "baxis": {
             "endlinecolor": "#2a3f5f",
             "gridcolor": "white",
             "linecolor": "white",
             "minorgridcolor": "white",
             "startlinecolor": "#2a3f5f"
            },
            "type": "carpet"
           }
          ],
          "choropleth": [
           {
            "colorbar": {
             "outlinewidth": 0,
             "ticks": ""
            },
            "type": "choropleth"
           }
          ],
          "contour": [
           {
            "colorbar": {
             "outlinewidth": 0,
             "ticks": ""
            },
            "colorscale": [
             [
              0,
              "#0d0887"
             ],
             [
              0.1111111111111111,
              "#46039f"
             ],
             [
              0.2222222222222222,
              "#7201a8"
             ],
             [
              0.3333333333333333,
              "#9c179e"
             ],
             [
              0.4444444444444444,
              "#bd3786"
             ],
             [
              0.5555555555555556,
              "#d8576b"
             ],
             [
              0.6666666666666666,
              "#ed7953"
             ],
             [
              0.7777777777777778,
              "#fb9f3a"
             ],
             [
              0.8888888888888888,
              "#fdca26"
             ],
             [
              1,
              "#f0f921"
             ]
            ],
            "type": "contour"
           }
          ],
          "contourcarpet": [
           {
            "colorbar": {
             "outlinewidth": 0,
             "ticks": ""
            },
            "type": "contourcarpet"
           }
          ],
          "heatmap": [
           {
            "colorbar": {
             "outlinewidth": 0,
             "ticks": ""
            },
            "colorscale": [
             [
              0,
              "#0d0887"
             ],
             [
              0.1111111111111111,
              "#46039f"
             ],
             [
              0.2222222222222222,
              "#7201a8"
             ],
             [
              0.3333333333333333,
              "#9c179e"
             ],
             [
              0.4444444444444444,
              "#bd3786"
             ],
             [
              0.5555555555555556,
              "#d8576b"
             ],
             [
              0.6666666666666666,
              "#ed7953"
             ],
             [
              0.7777777777777778,
              "#fb9f3a"
             ],
             [
              0.8888888888888888,
              "#fdca26"
             ],
             [
              1,
              "#f0f921"
             ]
            ],
            "type": "heatmap"
           }
          ],
          "heatmapgl": [
           {
            "colorbar": {
             "outlinewidth": 0,
             "ticks": ""
            },
            "colorscale": [
             [
              0,
              "#0d0887"
             ],
             [
              0.1111111111111111,
              "#46039f"
             ],
             [
              0.2222222222222222,
              "#7201a8"
             ],
             [
              0.3333333333333333,
              "#9c179e"
             ],
             [
              0.4444444444444444,
              "#bd3786"
             ],
             [
              0.5555555555555556,
              "#d8576b"
             ],
             [
              0.6666666666666666,
              "#ed7953"
             ],
             [
              0.7777777777777778,
              "#fb9f3a"
             ],
             [
              0.8888888888888888,
              "#fdca26"
             ],
             [
              1,
              "#f0f921"
             ]
            ],
            "type": "heatmapgl"
           }
          ],
          "histogram": [
           {
            "marker": {
             "pattern": {
              "fillmode": "overlay",
              "size": 10,
              "solidity": 0.2
             }
            },
            "type": "histogram"
           }
          ],
          "histogram2d": [
           {
            "colorbar": {
             "outlinewidth": 0,
             "ticks": ""
            },
            "colorscale": [
             [
              0,
              "#0d0887"
             ],
             [
              0.1111111111111111,
              "#46039f"
             ],
             [
              0.2222222222222222,
              "#7201a8"
             ],
             [
              0.3333333333333333,
              "#9c179e"
             ],
             [
              0.4444444444444444,
              "#bd3786"
             ],
             [
              0.5555555555555556,
              "#d8576b"
             ],
             [
              0.6666666666666666,
              "#ed7953"
             ],
             [
              0.7777777777777778,
              "#fb9f3a"
             ],
             [
              0.8888888888888888,
              "#fdca26"
             ],
             [
              1,
              "#f0f921"
             ]
            ],
            "type": "histogram2d"
           }
          ],
          "histogram2dcontour": [
           {
            "colorbar": {
             "outlinewidth": 0,
             "ticks": ""
            },
            "colorscale": [
             [
              0,
              "#0d0887"
             ],
             [
              0.1111111111111111,
              "#46039f"
             ],
             [
              0.2222222222222222,
              "#7201a8"
             ],
             [
              0.3333333333333333,
              "#9c179e"
             ],
             [
              0.4444444444444444,
              "#bd3786"
             ],
             [
              0.5555555555555556,
              "#d8576b"
             ],
             [
              0.6666666666666666,
              "#ed7953"
             ],
             [
              0.7777777777777778,
              "#fb9f3a"
             ],
             [
              0.8888888888888888,
              "#fdca26"
             ],
             [
              1,
              "#f0f921"
             ]
            ],
            "type": "histogram2dcontour"
           }
          ],
          "mesh3d": [
           {
            "colorbar": {
             "outlinewidth": 0,
             "ticks": ""
            },
            "type": "mesh3d"
           }
          ],
          "parcoords": [
           {
            "line": {
             "colorbar": {
              "outlinewidth": 0,
              "ticks": ""
             }
            },
            "type": "parcoords"
           }
          ],
          "pie": [
           {
            "automargin": true,
            "type": "pie"
           }
          ],
          "scatter": [
           {
            "fillpattern": {
             "fillmode": "overlay",
             "size": 10,
             "solidity": 0.2
            },
            "type": "scatter"
           }
          ],
          "scatter3d": [
           {
            "line": {
             "colorbar": {
              "outlinewidth": 0,
              "ticks": ""
             }
            },
            "marker": {
             "colorbar": {
              "outlinewidth": 0,
              "ticks": ""
             }
            },
            "type": "scatter3d"
           }
          ],
          "scattercarpet": [
           {
            "marker": {
             "colorbar": {
              "outlinewidth": 0,
              "ticks": ""
             }
            },
            "type": "scattercarpet"
           }
          ],
          "scattergeo": [
           {
            "marker": {
             "colorbar": {
              "outlinewidth": 0,
              "ticks": ""
             }
            },
            "type": "scattergeo"
           }
          ],
          "scattergl": [
           {
            "marker": {
             "colorbar": {
              "outlinewidth": 0,
              "ticks": ""
             }
            },
            "type": "scattergl"
           }
          ],
          "scattermapbox": [
           {
            "marker": {
             "colorbar": {
              "outlinewidth": 0,
              "ticks": ""
             }
            },
            "type": "scattermapbox"
           }
          ],
          "scatterpolar": [
           {
            "marker": {
             "colorbar": {
              "outlinewidth": 0,
              "ticks": ""
             }
            },
            "type": "scatterpolar"
           }
          ],
          "scatterpolargl": [
           {
            "marker": {
             "colorbar": {
              "outlinewidth": 0,
              "ticks": ""
             }
            },
            "type": "scatterpolargl"
           }
          ],
          "scatterternary": [
           {
            "marker": {
             "colorbar": {
              "outlinewidth": 0,
              "ticks": ""
             }
            },
            "type": "scatterternary"
           }
          ],
          "surface": [
           {
            "colorbar": {
             "outlinewidth": 0,
             "ticks": ""
            },
            "colorscale": [
             [
              0,
              "#0d0887"
             ],
             [
              0.1111111111111111,
              "#46039f"
             ],
             [
              0.2222222222222222,
              "#7201a8"
             ],
             [
              0.3333333333333333,
              "#9c179e"
             ],
             [
              0.4444444444444444,
              "#bd3786"
             ],
             [
              0.5555555555555556,
              "#d8576b"
             ],
             [
              0.6666666666666666,
              "#ed7953"
             ],
             [
              0.7777777777777778,
              "#fb9f3a"
             ],
             [
              0.8888888888888888,
              "#fdca26"
             ],
             [
              1,
              "#f0f921"
             ]
            ],
            "type": "surface"
           }
          ],
          "table": [
           {
            "cells": {
             "fill": {
              "color": "#EBF0F8"
             },
             "line": {
              "color": "white"
             }
            },
            "header": {
             "fill": {
              "color": "#C8D4E3"
             },
             "line": {
              "color": "white"
             }
            },
            "type": "table"
           }
          ]
         },
         "layout": {
          "annotationdefaults": {
           "arrowcolor": "#2a3f5f",
           "arrowhead": 0,
           "arrowwidth": 1
          },
          "autotypenumbers": "strict",
          "coloraxis": {
           "colorbar": {
            "outlinewidth": 0,
            "ticks": ""
           }
          },
          "colorscale": {
           "diverging": [
            [
             0,
             "#8e0152"
            ],
            [
             0.1,
             "#c51b7d"
            ],
            [
             0.2,
             "#de77ae"
            ],
            [
             0.3,
             "#f1b6da"
            ],
            [
             0.4,
             "#fde0ef"
            ],
            [
             0.5,
             "#f7f7f7"
            ],
            [
             0.6,
             "#e6f5d0"
            ],
            [
             0.7,
             "#b8e186"
            ],
            [
             0.8,
             "#7fbc41"
            ],
            [
             0.9,
             "#4d9221"
            ],
            [
             1,
             "#276419"
            ]
           ],
           "sequential": [
            [
             0,
             "#0d0887"
            ],
            [
             0.1111111111111111,
             "#46039f"
            ],
            [
             0.2222222222222222,
             "#7201a8"
            ],
            [
             0.3333333333333333,
             "#9c179e"
            ],
            [
             0.4444444444444444,
             "#bd3786"
            ],
            [
             0.5555555555555556,
             "#d8576b"
            ],
            [
             0.6666666666666666,
             "#ed7953"
            ],
            [
             0.7777777777777778,
             "#fb9f3a"
            ],
            [
             0.8888888888888888,
             "#fdca26"
            ],
            [
             1,
             "#f0f921"
            ]
           ],
           "sequentialminus": [
            [
             0,
             "#0d0887"
            ],
            [
             0.1111111111111111,
             "#46039f"
            ],
            [
             0.2222222222222222,
             "#7201a8"
            ],
            [
             0.3333333333333333,
             "#9c179e"
            ],
            [
             0.4444444444444444,
             "#bd3786"
            ],
            [
             0.5555555555555556,
             "#d8576b"
            ],
            [
             0.6666666666666666,
             "#ed7953"
            ],
            [
             0.7777777777777778,
             "#fb9f3a"
            ],
            [
             0.8888888888888888,
             "#fdca26"
            ],
            [
             1,
             "#f0f921"
            ]
           ]
          },
          "colorway": [
           "#636efa",
           "#EF553B",
           "#00cc96",
           "#ab63fa",
           "#FFA15A",
           "#19d3f3",
           "#FF6692",
           "#B6E880",
           "#FF97FF",
           "#FECB52"
          ],
          "font": {
           "color": "#2a3f5f"
          },
          "geo": {
           "bgcolor": "white",
           "lakecolor": "white",
           "landcolor": "#E5ECF6",
           "showlakes": true,
           "showland": true,
           "subunitcolor": "white"
          },
          "hoverlabel": {
           "align": "left"
          },
          "hovermode": "closest",
          "mapbox": {
           "style": "light"
          },
          "paper_bgcolor": "white",
          "plot_bgcolor": "#E5ECF6",
          "polar": {
           "angularaxis": {
            "gridcolor": "white",
            "linecolor": "white",
            "ticks": ""
           },
           "bgcolor": "#E5ECF6",
           "radialaxis": {
            "gridcolor": "white",
            "linecolor": "white",
            "ticks": ""
           }
          },
          "scene": {
           "xaxis": {
            "backgroundcolor": "#E5ECF6",
            "gridcolor": "white",
            "gridwidth": 2,
            "linecolor": "white",
            "showbackground": true,
            "ticks": "",
            "zerolinecolor": "white"
           },
           "yaxis": {
            "backgroundcolor": "#E5ECF6",
            "gridcolor": "white",
            "gridwidth": 2,
            "linecolor": "white",
            "showbackground": true,
            "ticks": "",
            "zerolinecolor": "white"
           },
           "zaxis": {
            "backgroundcolor": "#E5ECF6",
            "gridcolor": "white",
            "gridwidth": 2,
            "linecolor": "white",
            "showbackground": true,
            "ticks": "",
            "zerolinecolor": "white"
           }
          },
          "shapedefaults": {
           "line": {
            "color": "#2a3f5f"
           }
          },
          "ternary": {
           "aaxis": {
            "gridcolor": "white",
            "linecolor": "white",
            "ticks": ""
           },
           "baxis": {
            "gridcolor": "white",
            "linecolor": "white",
            "ticks": ""
           },
           "bgcolor": "#E5ECF6",
           "caxis": {
            "gridcolor": "white",
            "linecolor": "white",
            "ticks": ""
           }
          },
          "title": {
           "x": 0.05
          },
          "xaxis": {
           "automargin": true,
           "gridcolor": "white",
           "linecolor": "white",
           "ticks": "",
           "title": {
            "standoff": 15
           },
           "zerolinecolor": "white",
           "zerolinewidth": 2
          },
          "yaxis": {
           "automargin": true,
           "gridcolor": "white",
           "linecolor": "white",
           "ticks": "",
           "title": {
            "standoff": 15
           },
           "zerolinecolor": "white",
           "zerolinewidth": 2
          }
         }
        },
        "title": {
         "text": "Quel pays achète les véhicules les plus lourds? (Kg)",
         "x": 0.3
        },
        "xaxis": {
         "anchor": "y",
         "domain": [
          0,
          1
         ],
         "title": {
          "text": "Country"
         }
        },
        "yaxis": {
         "anchor": "x",
         "domain": [
          0,
          1
         ],
         "title": {
          "text": "MassRunningOrder"
         }
        }
       }
      }
     },
     "metadata": {},
     "output_type": "display_data"
    }
   ],
   "source": [
    "co2.viz.countrywise_viz(countries)"
   ]
  },
  {
   "cell_type": "code",
   "execution_count": 9,
   "metadata": {},
   "outputs": [
    {
     "data": {
      "text/html": [
       "<style type=\"text/css\">\n",
       "#T_e1190 th {\n",
       "  background-color: steelblue;\n",
       "  color: white;\n",
       "}\n",
       "#T_e1190 tr:nth-of-type(odd) {\n",
       "  background-color: aliceblue;\n",
       "}\n",
       "#T_e1190 tr:nth-of-type(even) {\n",
       "  background-color: white;\n",
       "}\n",
       "</style>\n",
       "<table id=\"T_e1190\">\n",
       "  <thead>\n",
       "    <tr>\n",
       "      <th class=\"blank\" >&nbsp;</th>\n",
       "      <th class=\"blank level0\" >&nbsp;</th>\n",
       "      <th id=\"T_e1190_level0_col0\" class=\"col_heading level0 col0\" >Count</th>\n",
       "      <th id=\"T_e1190_level0_col1\" class=\"col_heading level0 col1\" >MarketShare(%)</th>\n",
       "      <th id=\"T_e1190_level0_col2\" class=\"col_heading level0 col2\" >FuelType</th>\n",
       "      <th id=\"T_e1190_level0_col3\" class=\"col_heading level0 col3\" >FuelConsumption</th>\n",
       "      <th id=\"T_e1190_level0_col4\" class=\"col_heading level0 col4\" >EnginePower</th>\n",
       "      <th id=\"T_e1190_level0_col5\" class=\"col_heading level0 col5\" >Co2EmissionsWltp</th>\n",
       "      <th id=\"T_e1190_level0_col6\" class=\"col_heading level0 col6\" >MassRunningOrder</th>\n",
       "      <th id=\"T_e1190_level0_col7\" class=\"col_heading level0 col7\" >BaseWheel</th>\n",
       "      <th id=\"T_e1190_level0_col8\" class=\"col_heading level0 col8\" >AxleWidthSteering</th>\n",
       "    </tr>\n",
       "    <tr>\n",
       "      <th class=\"index_name level0\" >Pool</th>\n",
       "      <th class=\"index_name level1\" >Make</th>\n",
       "      <th class=\"blank col0\" >&nbsp;</th>\n",
       "      <th class=\"blank col1\" >&nbsp;</th>\n",
       "      <th class=\"blank col2\" >&nbsp;</th>\n",
       "      <th class=\"blank col3\" >&nbsp;</th>\n",
       "      <th class=\"blank col4\" >&nbsp;</th>\n",
       "      <th class=\"blank col5\" >&nbsp;</th>\n",
       "      <th class=\"blank col6\" >&nbsp;</th>\n",
       "      <th class=\"blank col7\" >&nbsp;</th>\n",
       "      <th class=\"blank col8\" >&nbsp;</th>\n",
       "    </tr>\n",
       "  </thead>\n",
       "  <tbody>\n",
       "    <tr>\n",
       "      <th id=\"T_e1190_level0_row0\" class=\"row_heading level0 row0\" rowspan=\"2\">BMW</th>\n",
       "      <th id=\"T_e1190_level1_row0\" class=\"row_heading level1 row0\" >BMW</th>\n",
       "      <td id=\"T_e1190_row0_col0\" class=\"data row0 col0\" >302</td>\n",
       "      <td id=\"T_e1190_row0_col1\" class=\"data row0 col1\" >6.240</td>\n",
       "      <td id=\"T_e1190_row0_col2\" class=\"data row0 col2\" >DIESEL</td>\n",
       "      <td id=\"T_e1190_row0_col3\" class=\"data row0 col3\" >5.945</td>\n",
       "      <td id=\"T_e1190_row0_col4\" class=\"data row0 col4\" >147.671</td>\n",
       "      <td id=\"T_e1190_row0_col5\" class=\"data row0 col5\" >119.667</td>\n",
       "      <td id=\"T_e1190_row0_col6\" class=\"data row0 col6\" >1775.967</td>\n",
       "      <td id=\"T_e1190_row0_col7\" class=\"data row0 col7\" >2790.344</td>\n",
       "      <td id=\"T_e1190_row0_col8\" class=\"data row0 col8\" >1592.303</td>\n",
       "    </tr>\n",
       "    <tr>\n",
       "      <th id=\"T_e1190_level1_row1\" class=\"row_heading level1 row1\" >MINI</th>\n",
       "      <td id=\"T_e1190_row1_col0\" class=\"data row1 col0\" >61</td>\n",
       "      <td id=\"T_e1190_row1_col1\" class=\"data row1 col1\" >1.260</td>\n",
       "      <td id=\"T_e1190_row1_col2\" class=\"data row1 col2\" >PETROL</td>\n",
       "      <td id=\"T_e1190_row1_col3\" class=\"data row1 col3\" >5.437</td>\n",
       "      <td id=\"T_e1190_row1_col4\" class=\"data row1 col4\" >98.967</td>\n",
       "      <td id=\"T_e1190_row1_col5\" class=\"data row1 col5\" >115.933</td>\n",
       "      <td id=\"T_e1190_row1_col6\" class=\"data row1 col6\" >1411.311</td>\n",
       "      <td id=\"T_e1190_row1_col7\" class=\"data row1 col7\" >2569.639</td>\n",
       "      <td id=\"T_e1190_row1_col8\" class=\"data row1 col8\" >1519.660</td>\n",
       "    </tr>\n",
       "    <tr>\n",
       "      <th id=\"T_e1190_level0_row2\" class=\"row_heading level0 row2\" >FORD</th>\n",
       "      <th id=\"T_e1190_level1_row2\" class=\"row_heading level1 row2\" >FORD</th>\n",
       "      <td id=\"T_e1190_row2_col0\" class=\"data row2 col0\" >213</td>\n",
       "      <td id=\"T_e1190_row2_col1\" class=\"data row2 col1\" >4.400</td>\n",
       "      <td id=\"T_e1190_row2_col2\" class=\"data row2 col2\" >PETROL</td>\n",
       "      <td id=\"T_e1190_row2_col3\" class=\"data row2 col3\" >5.355</td>\n",
       "      <td id=\"T_e1190_row2_col4\" class=\"data row2 col4\" >107.790</td>\n",
       "      <td id=\"T_e1190_row2_col5\" class=\"data row2 col5\" >122.890</td>\n",
       "      <td id=\"T_e1190_row2_col6\" class=\"data row2 col6\" >1573.005</td>\n",
       "      <td id=\"T_e1190_row2_col7\" class=\"data row2 col7\" >2703.643</td>\n",
       "      <td id=\"T_e1190_row2_col8\" class=\"data row2 col8\" >1580.743</td>\n",
       "    </tr>\n",
       "    <tr>\n",
       "      <th id=\"T_e1190_level0_row3\" class=\"row_heading level0 row3\" >HONDA-GROUP</th>\n",
       "      <th id=\"T_e1190_level1_row3\" class=\"row_heading level1 row3\" >HONDA</th>\n",
       "      <td id=\"T_e1190_row3_col0\" class=\"data row3 col0\" >21</td>\n",
       "      <td id=\"T_e1190_row3_col1\" class=\"data row3 col1\" >0.430</td>\n",
       "      <td id=\"T_e1190_row3_col2\" class=\"data row3 col2\" >PETROL</td>\n",
       "      <td id=\"T_e1190_row3_col3\" class=\"data row3 col3\" >5.600</td>\n",
       "      <td id=\"T_e1190_row3_col4\" class=\"data row3 col4\" >88.381</td>\n",
       "      <td id=\"T_e1190_row3_col5\" class=\"data row3 col5\" >125.095</td>\n",
       "      <td id=\"T_e1190_row3_col6\" class=\"data row3 col6\" >1458.762</td>\n",
       "      <td id=\"T_e1190_row3_col7\" class=\"data row3 col7\" >2603.190</td>\n",
       "      <td id=\"T_e1190_row3_col8\" class=\"data row3 col8\" >1542.111</td>\n",
       "    </tr>\n",
       "    <tr>\n",
       "      <th id=\"T_e1190_level0_row4\" class=\"row_heading level0 row4\" >HYUNDAI</th>\n",
       "      <th id=\"T_e1190_level1_row4\" class=\"row_heading level1 row4\" >HYUNDAI</th>\n",
       "      <td id=\"T_e1190_row4_col0\" class=\"data row4 col0\" >213</td>\n",
       "      <td id=\"T_e1190_row4_col1\" class=\"data row4 col1\" >4.400</td>\n",
       "      <td id=\"T_e1190_row4_col2\" class=\"data row4 col2\" >PETROL</td>\n",
       "      <td id=\"T_e1190_row4_col3\" class=\"data row4 col3\" >5.487</td>\n",
       "      <td id=\"T_e1190_row4_col4\" class=\"data row4 col4\" >92.662</td>\n",
       "      <td id=\"T_e1190_row4_col5\" class=\"data row4 col5\" >109.344</td>\n",
       "      <td id=\"T_e1190_row4_col6\" class=\"data row4 col6\" >1444.883</td>\n",
       "      <td id=\"T_e1190_row4_col7\" class=\"data row4 col7\" >2630.188</td>\n",
       "      <td id=\"T_e1190_row4_col8\" class=\"data row4 col8\" >1570.795</td>\n",
       "    </tr>\n",
       "    <tr>\n",
       "      <th id=\"T_e1190_level0_row5\" class=\"row_heading level0 row5\" >KIA</th>\n",
       "      <th id=\"T_e1190_level1_row5\" class=\"row_heading level1 row5\" >KIA</th>\n",
       "      <td id=\"T_e1190_row5_col0\" class=\"data row5 col0\" >216</td>\n",
       "      <td id=\"T_e1190_row5_col1\" class=\"data row5 col1\" >4.460</td>\n",
       "      <td id=\"T_e1190_row5_col2\" class=\"data row5 col2\" >PETROL</td>\n",
       "      <td id=\"T_e1190_row5_col3\" class=\"data row5 col3\" >5.302</td>\n",
       "      <td id=\"T_e1190_row5_col4\" class=\"data row5 col4\" >90.324</td>\n",
       "      <td id=\"T_e1190_row5_col5\" class=\"data row5 col5\" >107.684</td>\n",
       "      <td id=\"T_e1190_row5_col6\" class=\"data row5 col6\" >1409.231</td>\n",
       "      <td id=\"T_e1190_row5_col7\" class=\"data row5 col7\" >2617.037</td>\n",
       "      <td id=\"T_e1190_row5_col8\" class=\"data row5 col8\" >1543.332</td>\n",
       "    </tr>\n",
       "    <tr>\n",
       "      <th id=\"T_e1190_level0_row6\" class=\"row_heading level0 row6\" rowspan=\"4\">MAZDA-SUBARU-SUZUKI-TOYOTA</th>\n",
       "      <th id=\"T_e1190_level1_row6\" class=\"row_heading level1 row6\" >LEXUS</th>\n",
       "      <td id=\"T_e1190_row6_col0\" class=\"data row6 col0\" >13</td>\n",
       "      <td id=\"T_e1190_row6_col1\" class=\"data row6 col1\" >0.270</td>\n",
       "      <td id=\"T_e1190_row6_col2\" class=\"data row6 col2\" >PETROL</td>\n",
       "      <td id=\"T_e1190_row6_col3\" class=\"data row6 col3\" >6.644</td>\n",
       "      <td id=\"T_e1190_row6_col4\" class=\"data row6 col4\" >134.692</td>\n",
       "      <td id=\"T_e1190_row6_col5\" class=\"data row6 col5\" >146.462</td>\n",
       "      <td id=\"T_e1190_row6_col6\" class=\"data row6 col6\" >1795.538</td>\n",
       "      <td id=\"T_e1190_row6_col7\" class=\"data row6 col7\" >2703.077</td>\n",
       "      <td id=\"T_e1190_row6_col8\" class=\"data row6 col8\" >1586.250</td>\n",
       "    </tr>\n",
       "    <tr>\n",
       "      <th id=\"T_e1190_level1_row7\" class=\"row_heading level1 row7\" >MAZDA</th>\n",
       "      <td id=\"T_e1190_row7_col0\" class=\"data row7 col0\" >52</td>\n",
       "      <td id=\"T_e1190_row7_col1\" class=\"data row7 col1\" >1.070</td>\n",
       "      <td id=\"T_e1190_row7_col2\" class=\"data row7 col2\" >PETROL</td>\n",
       "      <td id=\"T_e1190_row7_col3\" class=\"data row7 col3\" >5.692</td>\n",
       "      <td id=\"T_e1190_row7_col4\" class=\"data row7 col4\" >103.692</td>\n",
       "      <td id=\"T_e1190_row7_col5\" class=\"data row7 col5\" >137.519</td>\n",
       "      <td id=\"T_e1190_row7_col6\" class=\"data row7 col6\" >1412.077</td>\n",
       "      <td id=\"T_e1190_row7_col7\" class=\"data row7 col7\" >2651.442</td>\n",
       "      <td id=\"T_e1190_row7_col8\" class=\"data row7 col8\" >1555.698</td>\n",
       "    </tr>\n",
       "    <tr>\n",
       "      <th id=\"T_e1190_level1_row8\" class=\"row_heading level1 row8\" >SUZUKI</th>\n",
       "      <td id=\"T_e1190_row8_col0\" class=\"data row8 col0\" >69</td>\n",
       "      <td id=\"T_e1190_row8_col1\" class=\"data row8 col1\" >1.430</td>\n",
       "      <td id=\"T_e1190_row8_col2\" class=\"data row8 col2\" >PETROL</td>\n",
       "      <td id=\"T_e1190_row8_col3\" class=\"data row8 col3\" >5.085</td>\n",
       "      <td id=\"T_e1190_row8_col4\" class=\"data row8 col4\" >78.377</td>\n",
       "      <td id=\"T_e1190_row8_col5\" class=\"data row8 col5\" >118.783</td>\n",
       "      <td id=\"T_e1190_row8_col6\" class=\"data row8 col6\" >1162.696</td>\n",
       "      <td id=\"T_e1190_row8_col7\" class=\"data row8 col7\" >2489.710</td>\n",
       "      <td id=\"T_e1190_row8_col8\" class=\"data row8 col8\" >1520.088</td>\n",
       "    </tr>\n",
       "    <tr>\n",
       "      <th id=\"T_e1190_level1_row9\" class=\"row_heading level1 row9\" >TOYOTA</th>\n",
       "      <td id=\"T_e1190_row9_col0\" class=\"data row9 col0\" >298</td>\n",
       "      <td id=\"T_e1190_row9_col1\" class=\"data row9 col1\" >6.160</td>\n",
       "      <td id=\"T_e1190_row9_col2\" class=\"data row9 col2\" >PETROL</td>\n",
       "      <td id=\"T_e1190_row9_col3\" class=\"data row9 col3\" >4.441</td>\n",
       "      <td id=\"T_e1190_row9_col4\" class=\"data row9 col4\" >85.218</td>\n",
       "      <td id=\"T_e1190_row9_col5\" class=\"data row9 col5\" >109.218</td>\n",
       "      <td id=\"T_e1190_row9_col6\" class=\"data row9 col6\" >1391.054</td>\n",
       "      <td id=\"T_e1190_row9_col7\" class=\"data row9 col7\" >2622.886</td>\n",
       "      <td id=\"T_e1190_row9_col8\" class=\"data row9 col8\" >1536.506</td>\n",
       "    </tr>\n",
       "    <tr>\n",
       "      <th id=\"T_e1190_level0_row10\" class=\"row_heading level0 row10\" rowspan=\"2\">MERCEDES-BENZ</th>\n",
       "      <th id=\"T_e1190_level1_row10\" class=\"row_heading level1 row10\" >MERCEDES-BENZ</th>\n",
       "      <td id=\"T_e1190_row10_col0\" class=\"data row10 col0\" >248</td>\n",
       "      <td id=\"T_e1190_row10_col1\" class=\"data row10 col1\" >5.130</td>\n",
       "      <td id=\"T_e1190_row10_col2\" class=\"data row10 col2\" >DIESEL</td>\n",
       "      <td id=\"T_e1190_row10_col3\" class=\"data row10 col3\" >6.255</td>\n",
       "      <td id=\"T_e1190_row10_col4\" class=\"data row10 col4\" >148.315</td>\n",
       "      <td id=\"T_e1190_row10_col5\" class=\"data row10 col5\" >125.539</td>\n",
       "      <td id=\"T_e1190_row10_col6\" class=\"data row10 col6\" >1854.984</td>\n",
       "      <td id=\"T_e1190_row10_col7\" class=\"data row10 col7\" >2860.351</td>\n",
       "      <td id=\"T_e1190_row10_col8\" class=\"data row10 col8\" >1612.987</td>\n",
       "    </tr>\n",
       "    <tr>\n",
       "      <th id=\"T_e1190_level1_row11\" class=\"row_heading level1 row11\" >SMART</th>\n",
       "      <td id=\"T_e1190_row11_col0\" class=\"data row11 col0\" >18</td>\n",
       "      <td id=\"T_e1190_row11_col1\" class=\"data row11 col1\" >0.370</td>\n",
       "      <td id=\"T_e1190_row11_col2\" class=\"data row11 col2\" >ELECTRIC</td>\n",
       "      <td id=\"T_e1190_row11_col3\" class=\"data row11 col3\" >nan</td>\n",
       "      <td id=\"T_e1190_row11_col4\" class=\"data row11 col4\" >43.111</td>\n",
       "      <td id=\"T_e1190_row11_col5\" class=\"data row11 col5\" >0.000</td>\n",
       "      <td id=\"T_e1190_row11_col6\" class=\"data row11 col6\" >1113.333</td>\n",
       "      <td id=\"T_e1190_row11_col7\" class=\"data row11 col7\" >1941.778</td>\n",
       "      <td id=\"T_e1190_row11_col8\" class=\"data row11 col8\" >1436.375</td>\n",
       "    </tr>\n",
       "    <tr>\n",
       "      <th id=\"T_e1190_level0_row12\" class=\"row_heading level0 row12\" rowspan=\"4\">RENAULT-NISSAN-MITSUBISHI</th>\n",
       "      <th id=\"T_e1190_level1_row12\" class=\"row_heading level1 row12\" >DACIA</th>\n",
       "      <td id=\"T_e1190_row12_col0\" class=\"data row12 col0\" >216</td>\n",
       "      <td id=\"T_e1190_row12_col1\" class=\"data row12 col1\" >4.460</td>\n",
       "      <td id=\"T_e1190_row12_col2\" class=\"data row12 col2\" >LPG</td>\n",
       "      <td id=\"T_e1190_row12_col3\" class=\"data row12 col3\" >5.751</td>\n",
       "      <td id=\"T_e1190_row12_col4\" class=\"data row12 col4\" >70.933</td>\n",
       "      <td id=\"T_e1190_row12_col5\" class=\"data row12 col5\" >117.507</td>\n",
       "      <td id=\"T_e1190_row12_col6\" class=\"data row12 col6\" >1261.051</td>\n",
       "      <td id=\"T_e1190_row12_col7\" class=\"data row12 col7\" >2631.727</td>\n",
       "      <td id=\"T_e1190_row12_col8\" class=\"data row12 col8\" >1521.711</td>\n",
       "    </tr>\n",
       "    <tr>\n",
       "      <th id=\"T_e1190_level1_row13\" class=\"row_heading level1 row13\" >MITSUBISHI</th>\n",
       "      <td id=\"T_e1190_row13_col0\" class=\"data row13 col0\" >31</td>\n",
       "      <td id=\"T_e1190_row13_col1\" class=\"data row13 col1\" >0.640</td>\n",
       "      <td id=\"T_e1190_row13_col2\" class=\"data row13 col2\" >PETROL</td>\n",
       "      <td id=\"T_e1190_row13_col3\" class=\"data row13 col3\" >4.806</td>\n",
       "      <td id=\"T_e1190_row13_col4\" class=\"data row13 col4\" >70.677</td>\n",
       "      <td id=\"T_e1190_row13_col5\" class=\"data row13 col5\" >112.613</td>\n",
       "      <td id=\"T_e1190_row13_col6\" class=\"data row13 col6\" >1280.161</td>\n",
       "      <td id=\"T_e1190_row13_col7\" class=\"data row13 col7\" >2535.161</td>\n",
       "      <td id=\"T_e1190_row13_col8\" class=\"data row13 col8\" >1468.167</td>\n",
       "    </tr>\n",
       "    <tr>\n",
       "      <th id=\"T_e1190_level1_row14\" class=\"row_heading level1 row14\" >NISSAN</th>\n",
       "      <td id=\"T_e1190_row14_col0\" class=\"data row14 col0\" >88</td>\n",
       "      <td id=\"T_e1190_row14_col1\" class=\"data row14 col1\" >1.820</td>\n",
       "      <td id=\"T_e1190_row14_col2\" class=\"data row14 col2\" >PETROL</td>\n",
       "      <td id=\"T_e1190_row14_col3\" class=\"data row14 col3\" >6.013</td>\n",
       "      <td id=\"T_e1190_row14_col4\" class=\"data row14 col4\" >97.920</td>\n",
       "      <td id=\"T_e1190_row14_col5\" class=\"data row14 col5\" >124.341</td>\n",
       "      <td id=\"T_e1190_row14_col6\" class=\"data row14 col6\" >1387.477</td>\n",
       "      <td id=\"T_e1190_row14_col7\" class=\"data row14 col7\" >2638.375</td>\n",
       "      <td id=\"T_e1190_row14_col8\" class=\"data row14 col8\" >1551.263</td>\n",
       "    </tr>\n",
       "    <tr>\n",
       "      <th id=\"T_e1190_level1_row15\" class=\"row_heading level1 row15\" >RENAULT</th>\n",
       "      <td id=\"T_e1190_row15_col0\" class=\"data row15 col0\" >337</td>\n",
       "      <td id=\"T_e1190_row15_col1\" class=\"data row15 col1\" >6.970</td>\n",
       "      <td id=\"T_e1190_row15_col2\" class=\"data row15 col2\" >PETROL</td>\n",
       "      <td id=\"T_e1190_row15_col3\" class=\"data row15 col3\" >5.214</td>\n",
       "      <td id=\"T_e1190_row15_col4\" class=\"data row15 col4\" >72.641</td>\n",
       "      <td id=\"T_e1190_row15_col5\" class=\"data row15 col5\" >101.967</td>\n",
       "      <td id=\"T_e1190_row15_col6\" class=\"data row15 col6\" >1354.163</td>\n",
       "      <td id=\"T_e1190_row15_col7\" class=\"data row15 col7\" >2626.383</td>\n",
       "      <td id=\"T_e1190_row15_col8\" class=\"data row15 col8\" >1530.314</td>\n",
       "    </tr>\n",
       "    <tr>\n",
       "      <th id=\"T_e1190_level0_row16\" class=\"row_heading level0 row16\" rowspan=\"8\">STELLANTIS</th>\n",
       "      <th id=\"T_e1190_level1_row16\" class=\"row_heading level1 row16\" >ALFA ROMEO</th>\n",
       "      <td id=\"T_e1190_row16_col0\" class=\"data row16 col0\" >10</td>\n",
       "      <td id=\"T_e1190_row16_col1\" class=\"data row16 col1\" >0.210</td>\n",
       "      <td id=\"T_e1190_row16_col2\" class=\"data row16 col2\" >DIESEL</td>\n",
       "      <td id=\"T_e1190_row16_col3\" class=\"data row16 col3\" >6.530</td>\n",
       "      <td id=\"T_e1190_row16_col4\" class=\"data row16 col4\" >191.200</td>\n",
       "      <td id=\"T_e1190_row16_col5\" class=\"data row16 col5\" >169.200</td>\n",
       "      <td id=\"T_e1190_row16_col6\" class=\"data row16 col6\" >1697.500</td>\n",
       "      <td id=\"T_e1190_row16_col7\" class=\"data row16 col7\" >2800.600</td>\n",
       "      <td id=\"T_e1190_row16_col8\" class=\"data row16 col8\" >1572.250</td>\n",
       "    </tr>\n",
       "    <tr>\n",
       "      <th id=\"T_e1190_level1_row17\" class=\"row_heading level1 row17\" >CITROEN</th>\n",
       "      <td id=\"T_e1190_row17_col0\" class=\"data row17 col0\" >224</td>\n",
       "      <td id=\"T_e1190_row17_col1\" class=\"data row17 col1\" >4.630</td>\n",
       "      <td id=\"T_e1190_row17_col2\" class=\"data row17 col2\" >PETROL</td>\n",
       "      <td id=\"T_e1190_row17_col3\" class=\"data row17 col3\" >5.009</td>\n",
       "      <td id=\"T_e1190_row17_col4\" class=\"data row17 col4\" >79.996</td>\n",
       "      <td id=\"T_e1190_row17_col5\" class=\"data row17 col5\" >118.525</td>\n",
       "      <td id=\"T_e1190_row17_col6\" class=\"data row17 col6\" >1284.161</td>\n",
       "      <td id=\"T_e1190_row17_col7\" class=\"data row17 col7\" >2619.826</td>\n",
       "      <td id=\"T_e1190_row17_col8\" class=\"data row17 col8\" >1529.185</td>\n",
       "    </tr>\n",
       "    <tr>\n",
       "      <th id=\"T_e1190_level1_row18\" class=\"row_heading level1 row18\" >DS</th>\n",
       "      <td id=\"T_e1190_row18_col0\" class=\"data row18 col0\" >19</td>\n",
       "      <td id=\"T_e1190_row18_col1\" class=\"data row18 col1\" >0.390</td>\n",
       "      <td id=\"T_e1190_row18_col2\" class=\"data row18 col2\" >DIESEL</td>\n",
       "      <td id=\"T_e1190_row18_col3\" class=\"data row18 col3\" >4.050</td>\n",
       "      <td id=\"T_e1190_row18_col4\" class=\"data row18 col4\" >110.053</td>\n",
       "      <td id=\"T_e1190_row18_col5\" class=\"data row18 col5\" >101.444</td>\n",
       "      <td id=\"T_e1190_row18_col6\" class=\"data row18 col6\" >1600.684</td>\n",
       "      <td id=\"T_e1190_row18_col7\" class=\"data row18 col7\" >2689.421</td>\n",
       "      <td id=\"T_e1190_row18_col8\" class=\"data row18 col8\" >1602.438</td>\n",
       "    </tr>\n",
       "    <tr>\n",
       "      <th id=\"T_e1190_level1_row19\" class=\"row_heading level1 row19\" >FIAT</th>\n",
       "      <td id=\"T_e1190_row19_col0\" class=\"data row19 col0\" >215</td>\n",
       "      <td id=\"T_e1190_row19_col1\" class=\"data row19 col1\" >4.440</td>\n",
       "      <td id=\"T_e1190_row19_col2\" class=\"data row19 col2\" >PETROL</td>\n",
       "      <td id=\"T_e1190_row19_col3\" class=\"data row19 col3\" >5.036</td>\n",
       "      <td id=\"T_e1190_row19_col4\" class=\"data row19 col4\" >62.995</td>\n",
       "      <td id=\"T_e1190_row19_col5\" class=\"data row19 col5\" >116.558</td>\n",
       "      <td id=\"T_e1190_row19_col6\" class=\"data row19 col6\" >1195.516</td>\n",
       "      <td id=\"T_e1190_row19_col7\" class=\"data row19 col7\" >2397.088</td>\n",
       "      <td id=\"T_e1190_row19_col8\" class=\"data row19 col8\" >1472.414</td>\n",
       "    </tr>\n",
       "    <tr>\n",
       "      <th id=\"T_e1190_level1_row20\" class=\"row_heading level1 row20\" >JEEP</th>\n",
       "      <td id=\"T_e1190_row20_col0\" class=\"data row20 col0\" >45</td>\n",
       "      <td id=\"T_e1190_row20_col1\" class=\"data row20 col1\" >0.930</td>\n",
       "      <td id=\"T_e1190_row20_col2\" class=\"data row20 col2\" >DIESEL</td>\n",
       "      <td id=\"T_e1190_row20_col3\" class=\"data row20 col3\" >5.384</td>\n",
       "      <td id=\"T_e1190_row20_col4\" class=\"data row20 col4\" >105.022</td>\n",
       "      <td id=\"T_e1190_row20_col5\" class=\"data row20 col5\" >139.400</td>\n",
       "      <td id=\"T_e1190_row20_col6\" class=\"data row20 col6\" >1658.178</td>\n",
       "      <td id=\"T_e1190_row20_col7\" class=\"data row20 col7\" >2613.467</td>\n",
       "      <td id=\"T_e1190_row20_col8\" class=\"data row20 col8\" >1549.167</td>\n",
       "    </tr>\n",
       "    <tr>\n",
       "      <th id=\"T_e1190_level1_row21\" class=\"row_heading level1 row21\" >LANCIA</th>\n",
       "      <td id=\"T_e1190_row21_col0\" class=\"data row21 col0\" >17</td>\n",
       "      <td id=\"T_e1190_row21_col1\" class=\"data row21 col1\" >0.350</td>\n",
       "      <td id=\"T_e1190_row21_col2\" class=\"data row21 col2\" >PETROL</td>\n",
       "      <td id=\"T_e1190_row21_col3\" class=\"data row21 col3\" >4.163</td>\n",
       "      <td id=\"T_e1190_row21_col4\" class=\"data row21 col4\" >52.529</td>\n",
       "      <td id=\"T_e1190_row21_col5\" class=\"data row21 col5\" >118.824</td>\n",
       "      <td id=\"T_e1190_row21_col6\" class=\"data row21 col6\" >1069.118</td>\n",
       "      <td id=\"T_e1190_row21_col7\" class=\"data row21 col7\" >2390.000</td>\n",
       "      <td id=\"T_e1190_row21_col8\" class=\"data row21 col8\" >nan</td>\n",
       "    </tr>\n",
       "    <tr>\n",
       "      <th id=\"T_e1190_level1_row22\" class=\"row_heading level1 row22\" >OPEL</th>\n",
       "      <td id=\"T_e1190_row22_col0\" class=\"data row22 col0\" >189</td>\n",
       "      <td id=\"T_e1190_row22_col1\" class=\"data row22 col1\" >3.910</td>\n",
       "      <td id=\"T_e1190_row22_col2\" class=\"data row22 col2\" >PETROL</td>\n",
       "      <td id=\"T_e1190_row22_col3\" class=\"data row22 col3\" >5.136</td>\n",
       "      <td id=\"T_e1190_row22_col4\" class=\"data row22 col4\" >83.317</td>\n",
       "      <td id=\"T_e1190_row22_col5\" class=\"data row22 col5\" >112.725</td>\n",
       "      <td id=\"T_e1190_row22_col6\" class=\"data row22 col6\" >1321.079</td>\n",
       "      <td id=\"T_e1190_row22_col7\" class=\"data row22 col7\" >2614.069</td>\n",
       "      <td id=\"T_e1190_row22_col8\" class=\"data row22 col8\" >1527.317</td>\n",
       "    </tr>\n",
       "    <tr>\n",
       "      <th id=\"T_e1190_level1_row23\" class=\"row_heading level1 row23\" >PEUGEOT</th>\n",
       "      <td id=\"T_e1190_row23_col0\" class=\"data row23 col0\" >335</td>\n",
       "      <td id=\"T_e1190_row23_col1\" class=\"data row23 col1\" >6.920</td>\n",
       "      <td id=\"T_e1190_row23_col2\" class=\"data row23 col2\" >PETROL</td>\n",
       "      <td id=\"T_e1190_row23_col3\" class=\"data row23 col3\" >4.907</td>\n",
       "      <td id=\"T_e1190_row23_col4\" class=\"data row23 col4\" >85.230</td>\n",
       "      <td id=\"T_e1190_row23_col5\" class=\"data row23 col5\" >111.859</td>\n",
       "      <td id=\"T_e1190_row23_col6\" class=\"data row23 col6\" >1346.597</td>\n",
       "      <td id=\"T_e1190_row23_col7\" class=\"data row23 col7\" >2620.179</td>\n",
       "      <td id=\"T_e1190_row23_col8\" class=\"data row23 col8\" >1545.186</td>\n",
       "    </tr>\n",
       "    <tr>\n",
       "      <th id=\"T_e1190_level0_row24\" class=\"row_heading level0 row24\" rowspan=\"2\">TATA-MOTORS</th>\n",
       "      <th id=\"T_e1190_level1_row24\" class=\"row_heading level1 row24\" >JAGUAR</th>\n",
       "      <td id=\"T_e1190_row24_col0\" class=\"data row24 col0\" >13</td>\n",
       "      <td id=\"T_e1190_row24_col1\" class=\"data row24 col1\" >0.270</td>\n",
       "      <td id=\"T_e1190_row24_col2\" class=\"data row24 col2\" >DIESEL</td>\n",
       "      <td id=\"T_e1190_row24_col3\" class=\"data row24 col3\" >6.380</td>\n",
       "      <td id=\"T_e1190_row24_col4\" class=\"data row24 col4\" >165.769</td>\n",
       "      <td id=\"T_e1190_row24_col5\" class=\"data row24 col5\" >175.538</td>\n",
       "      <td id=\"T_e1190_row24_col6\" class=\"data row24 col6\" >1940.308</td>\n",
       "      <td id=\"T_e1190_row24_col7\" class=\"data row24 col7\" >2790.615</td>\n",
       "      <td id=\"T_e1190_row24_col8\" class=\"data row24 col8\" >1618.800</td>\n",
       "    </tr>\n",
       "    <tr>\n",
       "      <th id=\"T_e1190_level1_row25\" class=\"row_heading level1 row25\" >LAND ROVER</th>\n",
       "      <td id=\"T_e1190_row25_col0\" class=\"data row25 col0\" >25</td>\n",
       "      <td id=\"T_e1190_row25_col1\" class=\"data row25 col1\" >0.520</td>\n",
       "      <td id=\"T_e1190_row25_col2\" class=\"data row25 col2\" >PETROL/ELECTRIC</td>\n",
       "      <td id=\"T_e1190_row25_col3\" class=\"data row25 col3\" >8.157</td>\n",
       "      <td id=\"T_e1190_row25_col4\" class=\"data row25 col4\" >179.720</td>\n",
       "      <td id=\"T_e1190_row25_col5\" class=\"data row25 col5\" >169.400</td>\n",
       "      <td id=\"T_e1190_row25_col6\" class=\"data row25 col6\" >2234.720</td>\n",
       "      <td id=\"T_e1190_row25_col7\" class=\"data row25 col7\" >2804.600</td>\n",
       "      <td id=\"T_e1190_row25_col8\" class=\"data row25 col8\" >1655.238</td>\n",
       "    </tr>\n",
       "    <tr>\n",
       "      <th id=\"T_e1190_level0_row26\" class=\"row_heading level0 row26\" >TESLA</th>\n",
       "      <th id=\"T_e1190_level1_row26\" class=\"row_heading level1 row26\" >TESLA</th>\n",
       "      <td id=\"T_e1190_row26_col0\" class=\"data row26 col0\" >72</td>\n",
       "      <td id=\"T_e1190_row26_col1\" class=\"data row26 col1\" >1.490</td>\n",
       "      <td id=\"T_e1190_row26_col2\" class=\"data row26 col2\" >ELECTRIC</td>\n",
       "      <td id=\"T_e1190_row26_col3\" class=\"data row26 col3\" >nan</td>\n",
       "      <td id=\"T_e1190_row26_col4\" class=\"data row26 col4\" >169.722</td>\n",
       "      <td id=\"T_e1190_row26_col5\" class=\"data row26 col5\" >0.000</td>\n",
       "      <td id=\"T_e1190_row26_col6\" class=\"data row26 col6\" >1899.500</td>\n",
       "      <td id=\"T_e1190_row26_col7\" class=\"data row26 col7\" >2879.028</td>\n",
       "      <td id=\"T_e1190_row26_col8\" class=\"data row26 col8\" >1591.313</td>\n",
       "    </tr>\n",
       "    <tr>\n",
       "      <th id=\"T_e1190_level0_row27\" class=\"row_heading level0 row27\" rowspan=\"9\">VW-SAIC</th>\n",
       "      <th id=\"T_e1190_level1_row27\" class=\"row_heading level1 row27\" >AUDI</th>\n",
       "      <td id=\"T_e1190_row27_col0\" class=\"data row27 col0\" >212</td>\n",
       "      <td id=\"T_e1190_row27_col1\" class=\"data row27 col1\" >4.380</td>\n",
       "      <td id=\"T_e1190_row27_col2\" class=\"data row27 col2\" >DIESEL</td>\n",
       "      <td id=\"T_e1190_row27_col3\" class=\"data row27 col3\" >5.970</td>\n",
       "      <td id=\"T_e1190_row27_col4\" class=\"data row27 col4\" >135.349</td>\n",
       "      <td id=\"T_e1190_row27_col5\" class=\"data row27 col5\" >117.630</td>\n",
       "      <td id=\"T_e1190_row27_col6\" class=\"data row27 col6\" >1726.453</td>\n",
       "      <td id=\"T_e1190_row27_col7\" class=\"data row27 col7\" >2729.726</td>\n",
       "      <td id=\"T_e1190_row27_col8\" class=\"data row27 col8\" >1576.471</td>\n",
       "    </tr>\n",
       "    <tr>\n",
       "      <th id=\"T_e1190_level1_row28\" class=\"row_heading level1 row28\" >CUPRA</th>\n",
       "      <td id=\"T_e1190_row28_col0\" class=\"data row28 col0\" >31</td>\n",
       "      <td id=\"T_e1190_row28_col1\" class=\"data row28 col1\" >0.640</td>\n",
       "      <td id=\"T_e1190_row28_col2\" class=\"data row28 col2\" >PETROL</td>\n",
       "      <td id=\"T_e1190_row28_col3\" class=\"data row28 col3\" >5.256</td>\n",
       "      <td id=\"T_e1190_row28_col4\" class=\"data row28 col4\" >132.613</td>\n",
       "      <td id=\"T_e1190_row28_col5\" class=\"data row28 col5\" >112.607</td>\n",
       "      <td id=\"T_e1190_row28_col6\" class=\"data row28 col6\" >1603.516</td>\n",
       "      <td id=\"T_e1190_row28_col7\" class=\"data row28 col7\" >2677.355</td>\n",
       "      <td id=\"T_e1190_row28_col8\" class=\"data row28 col8\" >1565.423</td>\n",
       "    </tr>\n",
       "    <tr>\n",
       "      <th id=\"T_e1190_level1_row29\" class=\"row_heading level1 row29\" >MG</th>\n",
       "      <td id=\"T_e1190_row29_col0\" class=\"data row29 col0\" >13</td>\n",
       "      <td id=\"T_e1190_row29_col1\" class=\"data row29 col1\" >0.270</td>\n",
       "      <td id=\"T_e1190_row29_col2\" class=\"data row29 col2\" >ELECTRIC</td>\n",
       "      <td id=\"T_e1190_row29_col3\" class=\"data row29 col3\" >1.800</td>\n",
       "      <td id=\"T_e1190_row29_col4\" class=\"data row29 col4\" >104.692</td>\n",
       "      <td id=\"T_e1190_row29_col5\" class=\"data row29 col5\" >11.727</td>\n",
       "      <td id=\"T_e1190_row29_col6\" class=\"data row29 col6\" >1694.154</td>\n",
       "      <td id=\"T_e1190_row29_col7\" class=\"data row29 col7\" >2634.154</td>\n",
       "      <td id=\"T_e1190_row29_col8\" class=\"data row29 col8\" >1545.077</td>\n",
       "    </tr>\n",
       "    <tr>\n",
       "      <th id=\"T_e1190_level1_row30\" class=\"row_heading level1 row30\" >PORSCHE</th>\n",
       "      <td id=\"T_e1190_row30_col0\" class=\"data row30 col0\" >24</td>\n",
       "      <td id=\"T_e1190_row30_col1\" class=\"data row30 col1\" >0.500</td>\n",
       "      <td id=\"T_e1190_row30_col2\" class=\"data row30 col2\" >PETROL</td>\n",
       "      <td id=\"T_e1190_row30_col3\" class=\"data row30 col3\" >9.915</td>\n",
       "      <td id=\"T_e1190_row30_col4\" class=\"data row30 col4\" >272.348</td>\n",
       "      <td id=\"T_e1190_row30_col5\" class=\"data row30 col5\" >157.708</td>\n",
       "      <td id=\"T_e1190_row30_col6\" class=\"data row30 col6\" >2045.750</td>\n",
       "      <td id=\"T_e1190_row30_col7\" class=\"data row30 col7\" >2758.292</td>\n",
       "      <td id=\"T_e1190_row30_col8\" class=\"data row30 col8\" >1650.714</td>\n",
       "    </tr>\n",
       "    <tr>\n",
       "      <th id=\"T_e1190_level1_row31\" class=\"row_heading level1 row31\" >SEAT</th>\n",
       "      <td id=\"T_e1190_row31_col0\" class=\"data row31 col0\" >157</td>\n",
       "      <td id=\"T_e1190_row31_col1\" class=\"data row31 col1\" >3.250</td>\n",
       "      <td id=\"T_e1190_row31_col2\" class=\"data row31 col2\" >PETROL</td>\n",
       "      <td id=\"T_e1190_row31_col3\" class=\"data row31 col3\" >5.622</td>\n",
       "      <td id=\"T_e1190_row31_col4\" class=\"data row31 col4\" >92.568</td>\n",
       "      <td id=\"T_e1190_row31_col5\" class=\"data row31 col5\" >126.382</td>\n",
       "      <td id=\"T_e1190_row31_col6\" class=\"data row31 col6\" >1342.949</td>\n",
       "      <td id=\"T_e1190_row31_col7\" class=\"data row31 col7\" >2609.834</td>\n",
       "      <td id=\"T_e1190_row31_col8\" class=\"data row31 col8\" >1520.965</td>\n",
       "    </tr>\n",
       "    <tr>\n",
       "      <th id=\"T_e1190_level1_row32\" class=\"row_heading level1 row32\" >SKODA</th>\n",
       "      <td id=\"T_e1190_row32_col0\" class=\"data row32 col0\" >238</td>\n",
       "      <td id=\"T_e1190_row32_col1\" class=\"data row32 col1\" >4.920</td>\n",
       "      <td id=\"T_e1190_row32_col2\" class=\"data row32 col2\" >PETROL</td>\n",
       "      <td id=\"T_e1190_row32_col3\" class=\"data row32 col3\" >5.484</td>\n",
       "      <td id=\"T_e1190_row32_col4\" class=\"data row32 col4\" >100.592</td>\n",
       "      <td id=\"T_e1190_row32_col5\" class=\"data row32 col5\" >124.098</td>\n",
       "      <td id=\"T_e1190_row32_col6\" class=\"data row32 col6\" >1430.378</td>\n",
       "      <td id=\"T_e1190_row32_col7\" class=\"data row32 col7\" >2652.063</td>\n",
       "      <td id=\"T_e1190_row32_col8\" class=\"data row32 col8\" >1528.044</td>\n",
       "    </tr>\n",
       "    <tr>\n",
       "      <th id=\"T_e1190_level1_row33\" class=\"row_heading level1 row33\" >VOLKSWAGEN</th>\n",
       "      <td id=\"T_e1190_row33_col0\" class=\"data row33 col0\" >544</td>\n",
       "      <td id=\"T_e1190_row33_col1\" class=\"data row33 col1\" >11.240</td>\n",
       "      <td id=\"T_e1190_row33_col2\" class=\"data row33 col2\" >PETROL</td>\n",
       "      <td id=\"T_e1190_row33_col3\" class=\"data row33 col3\" >5.790</td>\n",
       "      <td id=\"T_e1190_row33_col4\" class=\"data row33 col4\" >99.015</td>\n",
       "      <td id=\"T_e1190_row33_col5\" class=\"data row33 col5\" >120.532</td>\n",
       "      <td id=\"T_e1190_row33_col6\" class=\"data row33 col6\" >1503.539</td>\n",
       "      <td id=\"T_e1190_row33_col7\" class=\"data row33 col7\" >2664.618</td>\n",
       "      <td id=\"T_e1190_row33_col8\" class=\"data row33 col8\" >1536.788</td>\n",
       "    </tr>\n",
       "    <tr>\n",
       "      <th id=\"T_e1190_level1_row34\" class=\"row_heading level1 row34\" >VOLKSWAGEN  VW</th>\n",
       "      <td id=\"T_e1190_row34_col0\" class=\"data row34 col0\" >13</td>\n",
       "      <td id=\"T_e1190_row34_col1\" class=\"data row34 col1\" >0.270</td>\n",
       "      <td id=\"T_e1190_row34_col2\" class=\"data row34 col2\" >PETROL</td>\n",
       "      <td id=\"T_e1190_row34_col3\" class=\"data row34 col3\" >5.215</td>\n",
       "      <td id=\"T_e1190_row34_col4\" class=\"data row34 col4\" >109.692</td>\n",
       "      <td id=\"T_e1190_row34_col5\" class=\"data row34 col5\" >143.462</td>\n",
       "      <td id=\"T_e1190_row34_col6\" class=\"data row34 col6\" >1445.154</td>\n",
       "      <td id=\"T_e1190_row34_col7\" class=\"data row34 col7\" >2668.385</td>\n",
       "      <td id=\"T_e1190_row34_col8\" class=\"data row34 col8\" >1552.923</td>\n",
       "    </tr>\n",
       "    <tr>\n",
       "      <th id=\"T_e1190_level1_row35\" class=\"row_heading level1 row35\" >ŠKODA</th>\n",
       "      <td id=\"T_e1190_row35_col0\" class=\"data row35 col0\" >16</td>\n",
       "      <td id=\"T_e1190_row35_col1\" class=\"data row35 col1\" >0.330</td>\n",
       "      <td id=\"T_e1190_row35_col2\" class=\"data row35 col2\" >PETROL</td>\n",
       "      <td id=\"T_e1190_row35_col3\" class=\"data row35 col3\" >4.900</td>\n",
       "      <td id=\"T_e1190_row35_col4\" class=\"data row35 col4\" >88.062</td>\n",
       "      <td id=\"T_e1190_row35_col5\" class=\"data row35 col5\" >124.562</td>\n",
       "      <td id=\"T_e1190_row35_col6\" class=\"data row35 col6\" >1340.375</td>\n",
       "      <td id=\"T_e1190_row35_col7\" class=\"data row35 col7\" >2623.188</td>\n",
       "      <td id=\"T_e1190_row35_col8\" class=\"data row35 col8\" >1529.312</td>\n",
       "    </tr>\n",
       "  </tbody>\n",
       "</table>\n"
      ],
      "text/plain": [
       "<pandas.io.formats.style.Styler at 0x7f09ec8079a0>"
      ]
     },
     "metadata": {},
     "output_type": "display_data"
    }
   ],
   "source": [
    "from auto_co2.agg import Manufacturers\n",
    "makers = Manufacturers(df)\n",
    "makers.display()"
   ]
  },
  {
   "cell_type": "code",
   "execution_count": 10,
   "metadata": {},
   "outputs": [
    {
     "data": {
      "application/vnd.plotly.v1+json": {
       "config": {
        "plotlyServerURL": "https://plot.ly"
       },
       "data": [
        {
         "alignmentgroup": "True",
         "hovertemplate": "Month=%{x}<br>counts=%{marker.color}<extra></extra>",
         "legendgroup": "",
         "marker": {
          "color": [
           382,
           353,
           440,
           427,
           402,
           480,
           374,
           280,
           344,
           299,
           344,
           360
          ],
          "coloraxis": "coloraxis",
          "pattern": {
           "shape": ""
          }
         },
         "name": "",
         "offsetgroup": "",
         "orientation": "v",
         "showlegend": false,
         "textposition": "auto",
         "type": "bar",
         "x": [
          1,
          2,
          3,
          4,
          5,
          6,
          7,
          8,
          9,
          10,
          11,
          12
         ],
         "xaxis": "x",
         "y": [
          382,
          353,
          440,
          427,
          402,
          480,
          374,
          280,
          344,
          299,
          344,
          360
         ],
         "yaxis": "y"
        }
       ],
       "layout": {
        "barmode": "relative",
        "coloraxis": {
         "colorbar": {
          "title": {
           "text": "counts"
          }
         },
         "colorscale": [
          [
           0,
           "rgb(252,251,253)"
          ],
          [
           0.125,
           "rgb(239,237,245)"
          ],
          [
           0.25,
           "rgb(218,218,235)"
          ],
          [
           0.375,
           "rgb(188,189,220)"
          ],
          [
           0.5,
           "rgb(158,154,200)"
          ],
          [
           0.625,
           "rgb(128,125,186)"
          ],
          [
           0.75,
           "rgb(106,81,163)"
          ],
          [
           0.875,
           "rgb(84,39,143)"
          ],
          [
           1,
           "rgb(63,0,125)"
          ]
         ]
        },
        "legend": {
         "tracegroupgap": 0
        },
        "margin": {
         "t": 60
        },
        "showlegend": false,
        "template": {
         "data": {
          "bar": [
           {
            "error_x": {
             "color": "#2a3f5f"
            },
            "error_y": {
             "color": "#2a3f5f"
            },
            "marker": {
             "line": {
              "color": "#E5ECF6",
              "width": 0.5
             },
             "pattern": {
              "fillmode": "overlay",
              "size": 10,
              "solidity": 0.2
             }
            },
            "type": "bar"
           }
          ],
          "barpolar": [
           {
            "marker": {
             "line": {
              "color": "#E5ECF6",
              "width": 0.5
             },
             "pattern": {
              "fillmode": "overlay",
              "size": 10,
              "solidity": 0.2
             }
            },
            "type": "barpolar"
           }
          ],
          "carpet": [
           {
            "aaxis": {
             "endlinecolor": "#2a3f5f",
             "gridcolor": "white",
             "linecolor": "white",
             "minorgridcolor": "white",
             "startlinecolor": "#2a3f5f"
            },
            "baxis": {
             "endlinecolor": "#2a3f5f",
             "gridcolor": "white",
             "linecolor": "white",
             "minorgridcolor": "white",
             "startlinecolor": "#2a3f5f"
            },
            "type": "carpet"
           }
          ],
          "choropleth": [
           {
            "colorbar": {
             "outlinewidth": 0,
             "ticks": ""
            },
            "type": "choropleth"
           }
          ],
          "contour": [
           {
            "colorbar": {
             "outlinewidth": 0,
             "ticks": ""
            },
            "colorscale": [
             [
              0,
              "#0d0887"
             ],
             [
              0.1111111111111111,
              "#46039f"
             ],
             [
              0.2222222222222222,
              "#7201a8"
             ],
             [
              0.3333333333333333,
              "#9c179e"
             ],
             [
              0.4444444444444444,
              "#bd3786"
             ],
             [
              0.5555555555555556,
              "#d8576b"
             ],
             [
              0.6666666666666666,
              "#ed7953"
             ],
             [
              0.7777777777777778,
              "#fb9f3a"
             ],
             [
              0.8888888888888888,
              "#fdca26"
             ],
             [
              1,
              "#f0f921"
             ]
            ],
            "type": "contour"
           }
          ],
          "contourcarpet": [
           {
            "colorbar": {
             "outlinewidth": 0,
             "ticks": ""
            },
            "type": "contourcarpet"
           }
          ],
          "heatmap": [
           {
            "colorbar": {
             "outlinewidth": 0,
             "ticks": ""
            },
            "colorscale": [
             [
              0,
              "#0d0887"
             ],
             [
              0.1111111111111111,
              "#46039f"
             ],
             [
              0.2222222222222222,
              "#7201a8"
             ],
             [
              0.3333333333333333,
              "#9c179e"
             ],
             [
              0.4444444444444444,
              "#bd3786"
             ],
             [
              0.5555555555555556,
              "#d8576b"
             ],
             [
              0.6666666666666666,
              "#ed7953"
             ],
             [
              0.7777777777777778,
              "#fb9f3a"
             ],
             [
              0.8888888888888888,
              "#fdca26"
             ],
             [
              1,
              "#f0f921"
             ]
            ],
            "type": "heatmap"
           }
          ],
          "heatmapgl": [
           {
            "colorbar": {
             "outlinewidth": 0,
             "ticks": ""
            },
            "colorscale": [
             [
              0,
              "#0d0887"
             ],
             [
              0.1111111111111111,
              "#46039f"
             ],
             [
              0.2222222222222222,
              "#7201a8"
             ],
             [
              0.3333333333333333,
              "#9c179e"
             ],
             [
              0.4444444444444444,
              "#bd3786"
             ],
             [
              0.5555555555555556,
              "#d8576b"
             ],
             [
              0.6666666666666666,
              "#ed7953"
             ],
             [
              0.7777777777777778,
              "#fb9f3a"
             ],
             [
              0.8888888888888888,
              "#fdca26"
             ],
             [
              1,
              "#f0f921"
             ]
            ],
            "type": "heatmapgl"
           }
          ],
          "histogram": [
           {
            "marker": {
             "pattern": {
              "fillmode": "overlay",
              "size": 10,
              "solidity": 0.2
             }
            },
            "type": "histogram"
           }
          ],
          "histogram2d": [
           {
            "colorbar": {
             "outlinewidth": 0,
             "ticks": ""
            },
            "colorscale": [
             [
              0,
              "#0d0887"
             ],
             [
              0.1111111111111111,
              "#46039f"
             ],
             [
              0.2222222222222222,
              "#7201a8"
             ],
             [
              0.3333333333333333,
              "#9c179e"
             ],
             [
              0.4444444444444444,
              "#bd3786"
             ],
             [
              0.5555555555555556,
              "#d8576b"
             ],
             [
              0.6666666666666666,
              "#ed7953"
             ],
             [
              0.7777777777777778,
              "#fb9f3a"
             ],
             [
              0.8888888888888888,
              "#fdca26"
             ],
             [
              1,
              "#f0f921"
             ]
            ],
            "type": "histogram2d"
           }
          ],
          "histogram2dcontour": [
           {
            "colorbar": {
             "outlinewidth": 0,
             "ticks": ""
            },
            "colorscale": [
             [
              0,
              "#0d0887"
             ],
             [
              0.1111111111111111,
              "#46039f"
             ],
             [
              0.2222222222222222,
              "#7201a8"
             ],
             [
              0.3333333333333333,
              "#9c179e"
             ],
             [
              0.4444444444444444,
              "#bd3786"
             ],
             [
              0.5555555555555556,
              "#d8576b"
             ],
             [
              0.6666666666666666,
              "#ed7953"
             ],
             [
              0.7777777777777778,
              "#fb9f3a"
             ],
             [
              0.8888888888888888,
              "#fdca26"
             ],
             [
              1,
              "#f0f921"
             ]
            ],
            "type": "histogram2dcontour"
           }
          ],
          "mesh3d": [
           {
            "colorbar": {
             "outlinewidth": 0,
             "ticks": ""
            },
            "type": "mesh3d"
           }
          ],
          "parcoords": [
           {
            "line": {
             "colorbar": {
              "outlinewidth": 0,
              "ticks": ""
             }
            },
            "type": "parcoords"
           }
          ],
          "pie": [
           {
            "automargin": true,
            "type": "pie"
           }
          ],
          "scatter": [
           {
            "fillpattern": {
             "fillmode": "overlay",
             "size": 10,
             "solidity": 0.2
            },
            "type": "scatter"
           }
          ],
          "scatter3d": [
           {
            "line": {
             "colorbar": {
              "outlinewidth": 0,
              "ticks": ""
             }
            },
            "marker": {
             "colorbar": {
              "outlinewidth": 0,
              "ticks": ""
             }
            },
            "type": "scatter3d"
           }
          ],
          "scattercarpet": [
           {
            "marker": {
             "colorbar": {
              "outlinewidth": 0,
              "ticks": ""
             }
            },
            "type": "scattercarpet"
           }
          ],
          "scattergeo": [
           {
            "marker": {
             "colorbar": {
              "outlinewidth": 0,
              "ticks": ""
             }
            },
            "type": "scattergeo"
           }
          ],
          "scattergl": [
           {
            "marker": {
             "colorbar": {
              "outlinewidth": 0,
              "ticks": ""
             }
            },
            "type": "scattergl"
           }
          ],
          "scattermapbox": [
           {
            "marker": {
             "colorbar": {
              "outlinewidth": 0,
              "ticks": ""
             }
            },
            "type": "scattermapbox"
           }
          ],
          "scatterpolar": [
           {
            "marker": {
             "colorbar": {
              "outlinewidth": 0,
              "ticks": ""
             }
            },
            "type": "scatterpolar"
           }
          ],
          "scatterpolargl": [
           {
            "marker": {
             "colorbar": {
              "outlinewidth": 0,
              "ticks": ""
             }
            },
            "type": "scatterpolargl"
           }
          ],
          "scatterternary": [
           {
            "marker": {
             "colorbar": {
              "outlinewidth": 0,
              "ticks": ""
             }
            },
            "type": "scatterternary"
           }
          ],
          "surface": [
           {
            "colorbar": {
             "outlinewidth": 0,
             "ticks": ""
            },
            "colorscale": [
             [
              0,
              "#0d0887"
             ],
             [
              0.1111111111111111,
              "#46039f"
             ],
             [
              0.2222222222222222,
              "#7201a8"
             ],
             [
              0.3333333333333333,
              "#9c179e"
             ],
             [
              0.4444444444444444,
              "#bd3786"
             ],
             [
              0.5555555555555556,
              "#d8576b"
             ],
             [
              0.6666666666666666,
              "#ed7953"
             ],
             [
              0.7777777777777778,
              "#fb9f3a"
             ],
             [
              0.8888888888888888,
              "#fdca26"
             ],
             [
              1,
              "#f0f921"
             ]
            ],
            "type": "surface"
           }
          ],
          "table": [
           {
            "cells": {
             "fill": {
              "color": "#EBF0F8"
             },
             "line": {
              "color": "white"
             }
            },
            "header": {
             "fill": {
              "color": "#C8D4E3"
             },
             "line": {
              "color": "white"
             }
            },
            "type": "table"
           }
          ]
         },
         "layout": {
          "annotationdefaults": {
           "arrowcolor": "#2a3f5f",
           "arrowhead": 0,
           "arrowwidth": 1
          },
          "autotypenumbers": "strict",
          "coloraxis": {
           "colorbar": {
            "outlinewidth": 0,
            "ticks": ""
           }
          },
          "colorscale": {
           "diverging": [
            [
             0,
             "#8e0152"
            ],
            [
             0.1,
             "#c51b7d"
            ],
            [
             0.2,
             "#de77ae"
            ],
            [
             0.3,
             "#f1b6da"
            ],
            [
             0.4,
             "#fde0ef"
            ],
            [
             0.5,
             "#f7f7f7"
            ],
            [
             0.6,
             "#e6f5d0"
            ],
            [
             0.7,
             "#b8e186"
            ],
            [
             0.8,
             "#7fbc41"
            ],
            [
             0.9,
             "#4d9221"
            ],
            [
             1,
             "#276419"
            ]
           ],
           "sequential": [
            [
             0,
             "#0d0887"
            ],
            [
             0.1111111111111111,
             "#46039f"
            ],
            [
             0.2222222222222222,
             "#7201a8"
            ],
            [
             0.3333333333333333,
             "#9c179e"
            ],
            [
             0.4444444444444444,
             "#bd3786"
            ],
            [
             0.5555555555555556,
             "#d8576b"
            ],
            [
             0.6666666666666666,
             "#ed7953"
            ],
            [
             0.7777777777777778,
             "#fb9f3a"
            ],
            [
             0.8888888888888888,
             "#fdca26"
            ],
            [
             1,
             "#f0f921"
            ]
           ],
           "sequentialminus": [
            [
             0,
             "#0d0887"
            ],
            [
             0.1111111111111111,
             "#46039f"
            ],
            [
             0.2222222222222222,
             "#7201a8"
            ],
            [
             0.3333333333333333,
             "#9c179e"
            ],
            [
             0.4444444444444444,
             "#bd3786"
            ],
            [
             0.5555555555555556,
             "#d8576b"
            ],
            [
             0.6666666666666666,
             "#ed7953"
            ],
            [
             0.7777777777777778,
             "#fb9f3a"
            ],
            [
             0.8888888888888888,
             "#fdca26"
            ],
            [
             1,
             "#f0f921"
            ]
           ]
          },
          "colorway": [
           "#636efa",
           "#EF553B",
           "#00cc96",
           "#ab63fa",
           "#FFA15A",
           "#19d3f3",
           "#FF6692",
           "#B6E880",
           "#FF97FF",
           "#FECB52"
          ],
          "font": {
           "color": "#2a3f5f"
          },
          "geo": {
           "bgcolor": "white",
           "lakecolor": "white",
           "landcolor": "#E5ECF6",
           "showlakes": true,
           "showland": true,
           "subunitcolor": "white"
          },
          "hoverlabel": {
           "align": "left"
          },
          "hovermode": "closest",
          "mapbox": {
           "style": "light"
          },
          "paper_bgcolor": "white",
          "plot_bgcolor": "#E5ECF6",
          "polar": {
           "angularaxis": {
            "gridcolor": "white",
            "linecolor": "white",
            "ticks": ""
           },
           "bgcolor": "#E5ECF6",
           "radialaxis": {
            "gridcolor": "white",
            "linecolor": "white",
            "ticks": ""
           }
          },
          "scene": {
           "xaxis": {
            "backgroundcolor": "#E5ECF6",
            "gridcolor": "white",
            "gridwidth": 2,
            "linecolor": "white",
            "showbackground": true,
            "ticks": "",
            "zerolinecolor": "white"
           },
           "yaxis": {
            "backgroundcolor": "#E5ECF6",
            "gridcolor": "white",
            "gridwidth": 2,
            "linecolor": "white",
            "showbackground": true,
            "ticks": "",
            "zerolinecolor": "white"
           },
           "zaxis": {
            "backgroundcolor": "#E5ECF6",
            "gridcolor": "white",
            "gridwidth": 2,
            "linecolor": "white",
            "showbackground": true,
            "ticks": "",
            "zerolinecolor": "white"
           }
          },
          "shapedefaults": {
           "line": {
            "color": "#2a3f5f"
           }
          },
          "ternary": {
           "aaxis": {
            "gridcolor": "white",
            "linecolor": "white",
            "ticks": ""
           },
           "baxis": {
            "gridcolor": "white",
            "linecolor": "white",
            "ticks": ""
           },
           "bgcolor": "#E5ECF6",
           "caxis": {
            "gridcolor": "white",
            "linecolor": "white",
            "ticks": ""
           }
          },
          "title": {
           "x": 0.05
          },
          "xaxis": {
           "automargin": true,
           "gridcolor": "white",
           "linecolor": "white",
           "ticks": "",
           "title": {
            "standoff": 15
           },
           "zerolinecolor": "white",
           "zerolinewidth": 2
          },
          "yaxis": {
           "automargin": true,
           "gridcolor": "white",
           "linecolor": "white",
           "ticks": "",
           "title": {
            "standoff": 15
           },
           "zerolinecolor": "white",
           "zerolinewidth": 2
          }
         }
        },
        "title": {
         "text": "Nombre d'immatriculations par mois",
         "x": 0.5,
         "xanchor": "center",
         "y": 0.9,
         "yanchor": "top"
        },
        "xaxis": {
         "anchor": "y",
         "domain": [
          0,
          1
         ],
         "ticktext": [
          "Janvier",
          "Février",
          "Mars",
          "Avril",
          "Mai",
          "Juin",
          "Juil.",
          "Août",
          "Sept.",
          "Oct.",
          "Nov.",
          "Déc."
         ],
         "tickvals": [
          1,
          2,
          3,
          4,
          5,
          6,
          7,
          8,
          9,
          10,
          11,
          12
         ],
         "title": {
          "text": "Mois"
         }
        },
        "yaxis": {
         "anchor": "x",
         "domain": [
          0,
          1
         ],
         "title": {
          "text": "Nombre d'immatriculations"
         }
        }
       }
      }
     },
     "metadata": {},
     "output_type": "display_data"
    }
   ],
   "source": [
    "co2.viz.plot_registrations_per_month(df)"
   ]
  },
  {
   "cell_type": "code",
   "execution_count": 11,
   "metadata": {},
   "outputs": [
    {
     "data": {
      "text/html": [
       "<style type=\"text/css\">\n",
       "#T_c2e8d th {\n",
       "  background-color: steelblue;\n",
       "  color: white;\n",
       "}\n",
       "#T_c2e8d tr:nth-of-type(odd) {\n",
       "  background-color: aliceblue;\n",
       "}\n",
       "#T_c2e8d tr:nth-of-type(even) {\n",
       "  background-color: white;\n",
       "}\n",
       "</style>\n",
       "<table id=\"T_c2e8d\">\n",
       "  <thead>\n",
       "    <tr>\n",
       "      <th class=\"blank level0\" >&nbsp;</th>\n",
       "      <th id=\"T_c2e8d_level0_col0\" class=\"col_heading level0 col0\" >Column</th>\n",
       "      <th id=\"T_c2e8d_level0_col1\" class=\"col_heading level0 col1\" >Non-Null Count</th>\n",
       "      <th id=\"T_c2e8d_level0_col2\" class=\"col_heading level0 col2\" >Dtype</th>\n",
       "    </tr>\n",
       "  </thead>\n",
       "  <tbody>\n",
       "    <tr>\n",
       "      <th id=\"T_c2e8d_level0_row0\" class=\"row_heading level0 row0\" >0</th>\n",
       "      <td id=\"T_c2e8d_row0_col0\" class=\"data row0 col0\" >ID</td>\n",
       "      <td id=\"T_c2e8d_row0_col1\" class=\"data row0 col1\" >5000 non-null</td>\n",
       "      <td id=\"T_c2e8d_row0_col2\" class=\"data row0 col2\" >int64</td>\n",
       "    </tr>\n",
       "    <tr>\n",
       "      <th id=\"T_c2e8d_level0_row1\" class=\"row_heading level0 row1\" >1</th>\n",
       "      <td id=\"T_c2e8d_row1_col0\" class=\"data row1 col0\" >Country</td>\n",
       "      <td id=\"T_c2e8d_row1_col1\" class=\"data row1 col1\" >5000 non-null</td>\n",
       "      <td id=\"T_c2e8d_row1_col2\" class=\"data row1 col2\" >object</td>\n",
       "    </tr>\n",
       "    <tr>\n",
       "      <th id=\"T_c2e8d_level0_row2\" class=\"row_heading level0 row2\" >2</th>\n",
       "      <td id=\"T_c2e8d_row2_col0\" class=\"data row2 col0\" >Pool</td>\n",
       "      <td id=\"T_c2e8d_row2_col1\" class=\"data row2 col1\" >4838 non-null</td>\n",
       "      <td id=\"T_c2e8d_row2_col2\" class=\"data row2 col2\" >object</td>\n",
       "    </tr>\n",
       "    <tr>\n",
       "      <th id=\"T_c2e8d_level0_row3\" class=\"row_heading level0 row3\" >3</th>\n",
       "      <td id=\"T_c2e8d_row3_col0\" class=\"data row3 col0\" >ManufacturerName</td>\n",
       "      <td id=\"T_c2e8d_row3_col1\" class=\"data row3 col1\" >5000 non-null</td>\n",
       "      <td id=\"T_c2e8d_row3_col2\" class=\"data row3 col2\" >object</td>\n",
       "    </tr>\n",
       "    <tr>\n",
       "      <th id=\"T_c2e8d_level0_row4\" class=\"row_heading level0 row4\" >4</th>\n",
       "      <td id=\"T_c2e8d_row4_col0\" class=\"data row4 col0\" >ManufNameOem</td>\n",
       "      <td id=\"T_c2e8d_row4_col1\" class=\"data row4 col1\" >5000 non-null</td>\n",
       "      <td id=\"T_c2e8d_row4_col2\" class=\"data row4 col2\" >object</td>\n",
       "    </tr>\n",
       "    <tr>\n",
       "      <th id=\"T_c2e8d_level0_row5\" class=\"row_heading level0 row5\" >5</th>\n",
       "      <td id=\"T_c2e8d_row5_col0\" class=\"data row5 col0\" >Make</td>\n",
       "      <td id=\"T_c2e8d_row5_col1\" class=\"data row5 col1\" >5000 non-null</td>\n",
       "      <td id=\"T_c2e8d_row5_col2\" class=\"data row5 col2\" >object</td>\n",
       "    </tr>\n",
       "    <tr>\n",
       "      <th id=\"T_c2e8d_level0_row6\" class=\"row_heading level0 row6\" >6</th>\n",
       "      <td id=\"T_c2e8d_row6_col0\" class=\"data row6 col0\" >CategoryOf</td>\n",
       "      <td id=\"T_c2e8d_row6_col1\" class=\"data row6 col1\" >5000 non-null</td>\n",
       "      <td id=\"T_c2e8d_row6_col2\" class=\"data row6 col2\" >object</td>\n",
       "    </tr>\n",
       "    <tr>\n",
       "      <th id=\"T_c2e8d_level0_row7\" class=\"row_heading level0 row7\" >7</th>\n",
       "      <td id=\"T_c2e8d_row7_col0\" class=\"data row7 col0\" >MassRunningOrder</td>\n",
       "      <td id=\"T_c2e8d_row7_col1\" class=\"data row7 col1\" >5000 non-null</td>\n",
       "      <td id=\"T_c2e8d_row7_col2\" class=\"data row7 col2\" >float64</td>\n",
       "    </tr>\n",
       "    <tr>\n",
       "      <th id=\"T_c2e8d_level0_row8\" class=\"row_heading level0 row8\" >8</th>\n",
       "      <td id=\"T_c2e8d_row8_col0\" class=\"data row8 col0\" >WltpTestMass</td>\n",
       "      <td id=\"T_c2e8d_row8_col1\" class=\"data row8 col1\" >4034 non-null</td>\n",
       "      <td id=\"T_c2e8d_row8_col2\" class=\"data row8 col2\" >float64</td>\n",
       "    </tr>\n",
       "    <tr>\n",
       "      <th id=\"T_c2e8d_level0_row9\" class=\"row_heading level0 row9\" >9</th>\n",
       "      <td id=\"T_c2e8d_row9_col0\" class=\"data row9 col0\" >Co2EmissionsWltp</td>\n",
       "      <td id=\"T_c2e8d_row9_col1\" class=\"data row9 col1\" >4949 non-null</td>\n",
       "      <td id=\"T_c2e8d_row9_col2\" class=\"data row9 col2\" >float64</td>\n",
       "    </tr>\n",
       "    <tr>\n",
       "      <th id=\"T_c2e8d_level0_row10\" class=\"row_heading level0 row10\" >10</th>\n",
       "      <td id=\"T_c2e8d_row10_col0\" class=\"data row10 col0\" >BaseWheel</td>\n",
       "      <td id=\"T_c2e8d_row10_col1\" class=\"data row10 col1\" >4990 non-null</td>\n",
       "      <td id=\"T_c2e8d_row10_col2\" class=\"data row10 col2\" >float64</td>\n",
       "    </tr>\n",
       "    <tr>\n",
       "      <th id=\"T_c2e8d_level0_row11\" class=\"row_heading level0 row11\" >11</th>\n",
       "      <td id=\"T_c2e8d_row11_col0\" class=\"data row11 col0\" >AxleWidthSteering</td>\n",
       "      <td id=\"T_c2e8d_row11_col1\" class=\"data row11 col1\" >4214 non-null</td>\n",
       "      <td id=\"T_c2e8d_row11_col2\" class=\"data row11 col2\" >float64</td>\n",
       "    </tr>\n",
       "    <tr>\n",
       "      <th id=\"T_c2e8d_level0_row12\" class=\"row_heading level0 row12\" >12</th>\n",
       "      <td id=\"T_c2e8d_row12_col0\" class=\"data row12 col0\" >FuelType</td>\n",
       "      <td id=\"T_c2e8d_row12_col1\" class=\"data row12 col1\" >5000 non-null</td>\n",
       "      <td id=\"T_c2e8d_row12_col2\" class=\"data row12 col2\" >object</td>\n",
       "    </tr>\n",
       "    <tr>\n",
       "      <th id=\"T_c2e8d_level0_row13\" class=\"row_heading level0 row13\" >13</th>\n",
       "      <td id=\"T_c2e8d_row13_col0\" class=\"data row13 col0\" >FuelMode</td>\n",
       "      <td id=\"T_c2e8d_row13_col1\" class=\"data row13 col1\" >5000 non-null</td>\n",
       "      <td id=\"T_c2e8d_row13_col2\" class=\"data row13 col2\" >object</td>\n",
       "    </tr>\n",
       "    <tr>\n",
       "      <th id=\"T_c2e8d_level0_row14\" class=\"row_heading level0 row14\" >14</th>\n",
       "      <td id=\"T_c2e8d_row14_col0\" class=\"data row14 col0\" >EngineCapacity</td>\n",
       "      <td id=\"T_c2e8d_row14_col1\" class=\"data row14 col1\" >4492 non-null</td>\n",
       "      <td id=\"T_c2e8d_row14_col2\" class=\"data row14 col2\" >float64</td>\n",
       "    </tr>\n",
       "    <tr>\n",
       "      <th id=\"T_c2e8d_level0_row15\" class=\"row_heading level0 row15\" >15</th>\n",
       "      <td id=\"T_c2e8d_row15_col0\" class=\"data row15 col0\" >EnginePower</td>\n",
       "      <td id=\"T_c2e8d_row15_col1\" class=\"data row15 col1\" >4945 non-null</td>\n",
       "      <td id=\"T_c2e8d_row15_col2\" class=\"data row15 col2\" >float64</td>\n",
       "    </tr>\n",
       "    <tr>\n",
       "      <th id=\"T_c2e8d_level0_row16\" class=\"row_heading level0 row16\" >16</th>\n",
       "      <td id=\"T_c2e8d_row16_col0\" class=\"data row16 col0\" >ElectricConsumption</td>\n",
       "      <td id=\"T_c2e8d_row16_col1\" class=\"data row16 col1\" >788 non-null</td>\n",
       "      <td id=\"T_c2e8d_row16_col2\" class=\"data row16 col2\" >float64</td>\n",
       "    </tr>\n",
       "    <tr>\n",
       "      <th id=\"T_c2e8d_level0_row17\" class=\"row_heading level0 row17\" >17</th>\n",
       "      <td id=\"T_c2e8d_row17_col0\" class=\"data row17 col0\" >InnovativeTechnology</td>\n",
       "      <td id=\"T_c2e8d_row17_col1\" class=\"data row17 col1\" >2337 non-null</td>\n",
       "      <td id=\"T_c2e8d_row17_col2\" class=\"data row17 col2\" >object</td>\n",
       "    </tr>\n",
       "    <tr>\n",
       "      <th id=\"T_c2e8d_level0_row18\" class=\"row_heading level0 row18\" >18</th>\n",
       "      <td id=\"T_c2e8d_row18_col0\" class=\"data row18 col0\" >InnovativeEmissionsReductionWltp</td>\n",
       "      <td id=\"T_c2e8d_row18_col1\" class=\"data row18 col1\" >2195 non-null</td>\n",
       "      <td id=\"T_c2e8d_row18_col2\" class=\"data row18 col2\" >float64</td>\n",
       "    </tr>\n",
       "    <tr>\n",
       "      <th id=\"T_c2e8d_level0_row19\" class=\"row_heading level0 row19\" >19</th>\n",
       "      <td id=\"T_c2e8d_row19_col0\" class=\"data row19 col0\" >RegistrationDate</td>\n",
       "      <td id=\"T_c2e8d_row19_col1\" class=\"data row19 col1\" >4485 non-null</td>\n",
       "      <td id=\"T_c2e8d_row19_col2\" class=\"data row19 col2\" >datetime64[ns]</td>\n",
       "    </tr>\n",
       "    <tr>\n",
       "      <th id=\"T_c2e8d_level0_row20\" class=\"row_heading level0 row20\" >20</th>\n",
       "      <td id=\"T_c2e8d_row20_col0\" class=\"data row20 col0\" >FuelConsumption</td>\n",
       "      <td id=\"T_c2e8d_row20_col1\" class=\"data row20 col1\" >2966 non-null</td>\n",
       "      <td id=\"T_c2e8d_row20_col2\" class=\"data row20 col2\" >float64</td>\n",
       "    </tr>\n",
       "    <tr>\n",
       "      <th id=\"T_c2e8d_level0_row21\" class=\"row_heading level0 row21\" >21</th>\n",
       "      <td id=\"T_c2e8d_row21_col0\" class=\"data row21 col0\" >ElectricRange</td>\n",
       "      <td id=\"T_c2e8d_row21_col1\" class=\"data row21 col1\" >727 non-null</td>\n",
       "      <td id=\"T_c2e8d_row21_col2\" class=\"data row21 col2\" >float64</td>\n",
       "    </tr>\n",
       "    <tr>\n",
       "      <th id=\"T_c2e8d_level0_row22\" class=\"row_heading level0 row22\" >22</th>\n",
       "      <td id=\"T_c2e8d_row22_col0\" class=\"data row22 col0\" >Month</td>\n",
       "      <td id=\"T_c2e8d_row22_col1\" class=\"data row22 col1\" >4485 non-null</td>\n",
       "      <td id=\"T_c2e8d_row22_col2\" class=\"data row22 col2\" >float64</td>\n",
       "    </tr>\n",
       "  </tbody>\n",
       "</table>\n"
      ],
      "text/plain": [
       "<pandas.io.formats.style.Styler at 0x7f09c25679a0>"
      ]
     },
     "metadata": {},
     "output_type": "display_data"
    },
    {
     "data": {
      "text/html": [
       "<style type=\"text/css\">\n",
       "#T_04561 th {\n",
       "  background-color: steelblue;\n",
       "  color: white;\n",
       "}\n",
       "#T_04561 tr:nth-of-type(odd) {\n",
       "  background-color: aliceblue;\n",
       "}\n",
       "#T_04561 tr:nth-of-type(even) {\n",
       "  background-color: white;\n",
       "}\n",
       "</style>\n",
       "<table id=\"T_04561\">\n",
       "  <thead>\n",
       "    <tr>\n",
       "      <th class=\"blank level0\" >&nbsp;</th>\n",
       "      <th id=\"T_04561_level0_col0\" class=\"col_heading level0 col0\" >Info</th>\n",
       "    </tr>\n",
       "  </thead>\n",
       "  <tbody>\n",
       "    <tr>\n",
       "      <th id=\"T_04561_level0_row0\" class=\"row_heading level0 row0\" >0</th>\n",
       "      <td id=\"T_04561_row0_col0\" class=\"data row0 col0\" >RangeIndex: 5000 entries, 0 to 4999</td>\n",
       "    </tr>\n",
       "    <tr>\n",
       "      <th id=\"T_04561_level0_row1\" class=\"row_heading level0 row1\" >1</th>\n",
       "      <td id=\"T_04561_row1_col0\" class=\"data row1 col0\" >Data columns (total 23 columns):</td>\n",
       "    </tr>\n",
       "    <tr>\n",
       "      <th id=\"T_04561_level0_row2\" class=\"row_heading level0 row2\" >2</th>\n",
       "      <td id=\"T_04561_row2_col0\" class=\"data row2 col0\" > 22  Month                             4485 non-null   float64       </td>\n",
       "    </tr>\n",
       "    <tr>\n",
       "      <th id=\"T_04561_level0_row3\" class=\"row_heading level0 row3\" >3</th>\n",
       "      <td id=\"T_04561_row3_col0\" class=\"data row3 col0\" >dtypes: datetime64[ns](1), float64(12), int64(1), object(9)</td>\n",
       "    </tr>\n",
       "    <tr>\n",
       "      <th id=\"T_04561_level0_row4\" class=\"row_heading level0 row4\" >4</th>\n",
       "      <td id=\"T_04561_row4_col0\" class=\"data row4 col0\" >memory usage: 898.6+ KB</td>\n",
       "    </tr>\n",
       "  </tbody>\n",
       "</table>\n"
      ],
      "text/plain": [
       "<pandas.io.formats.style.Styler at 0x7f09c2567370>"
      ]
     },
     "metadata": {},
     "output_type": "display_data"
    }
   ],
   "source": [
    "co2.styles.display_info(df)"
   ]
  },
  {
   "cell_type": "code",
   "execution_count": 12,
   "metadata": {},
   "outputs": [
    {
     "data": {
      "text/html": [
       "<style type=\"text/css\">\n",
       "#T_22ef3 th {\n",
       "  background-color: steelblue;\n",
       "  color: white;\n",
       "}\n",
       "#T_22ef3 tr:nth-of-type(odd) {\n",
       "  background-color: aliceblue;\n",
       "}\n",
       "#T_22ef3 tr:nth-of-type(even) {\n",
       "  background-color: white;\n",
       "}\n",
       "#T_22ef3_row0_col1 {\n",
       "  width: 10em;\n",
       "  background: linear-gradient(90deg, lightcoral 100.0%, transparent 100.0%);\n",
       "}\n",
       "#T_22ef3_row1_col1 {\n",
       "  width: 10em;\n",
       "  background: linear-gradient(90deg, lightcoral 98.6%, transparent 98.6%);\n",
       "}\n",
       "#T_22ef3_row2_col1 {\n",
       "  width: 10em;\n",
       "  background: linear-gradient(90deg, lightcoral 65.6%, transparent 65.6%);\n",
       "}\n",
       "#T_22ef3_row3_col1 {\n",
       "  width: 10em;\n",
       "  background: linear-gradient(90deg, lightcoral 62.3%, transparent 62.3%);\n",
       "}\n",
       "#T_22ef3_row4_col1 {\n",
       "  width: 10em;\n",
       "  background: linear-gradient(90deg, lightcoral 47.6%, transparent 47.6%);\n",
       "}\n",
       "#T_22ef3_row5_col1 {\n",
       "  width: 10em;\n",
       "  background: linear-gradient(90deg, lightcoral 22.6%, transparent 22.6%);\n",
       "}\n",
       "#T_22ef3_row6_col1 {\n",
       "  width: 10em;\n",
       "  background: linear-gradient(90deg, lightcoral 18.4%, transparent 18.4%);\n",
       "}\n",
       "#T_22ef3_row7_col1, #T_22ef3_row8_col1 {\n",
       "  width: 10em;\n",
       "  background: linear-gradient(90deg, lightcoral 12.1%, transparent 12.1%);\n",
       "}\n",
       "#T_22ef3_row9_col1 {\n",
       "  width: 10em;\n",
       "  background: linear-gradient(90deg, lightcoral 11.9%, transparent 11.9%);\n",
       "}\n",
       "#T_22ef3_row10_col1 {\n",
       "  width: 10em;\n",
       "  background: linear-gradient(90deg, lightcoral 3.8%, transparent 3.8%);\n",
       "}\n",
       "#T_22ef3_row11_col1 {\n",
       "  width: 10em;\n",
       "  background: linear-gradient(90deg, lightcoral 1.3%, transparent 1.3%);\n",
       "}\n",
       "#T_22ef3_row12_col1 {\n",
       "  width: 10em;\n",
       "  background: linear-gradient(90deg, lightcoral 1.2%, transparent 1.2%);\n",
       "}\n",
       "#T_22ef3_row13_col1 {\n",
       "  width: 10em;\n",
       "  background: linear-gradient(90deg, lightcoral 0.2%, transparent 0.2%);\n",
       "}\n",
       "#T_22ef3_row14_col1, #T_22ef3_row15_col1, #T_22ef3_row16_col1, #T_22ef3_row17_col1, #T_22ef3_row18_col1, #T_22ef3_row19_col1, #T_22ef3_row20_col1, #T_22ef3_row21_col1, #T_22ef3_row22_col1 {\n",
       "  width: 10em;\n",
       "}\n",
       "</style>\n",
       "<table id=\"T_22ef3\">\n",
       "  <thead>\n",
       "    <tr>\n",
       "      <th class=\"blank level0\" >&nbsp;</th>\n",
       "      <th id=\"T_22ef3_level0_col0\" class=\"col_heading level0 col0\" >Colonne</th>\n",
       "      <th id=\"T_22ef3_level0_col1\" class=\"col_heading level0 col1\" >Valeurs manquantes (%)</th>\n",
       "    </tr>\n",
       "  </thead>\n",
       "  <tbody>\n",
       "    <tr>\n",
       "      <th id=\"T_22ef3_level0_row0\" class=\"row_heading level0 row0\" >0</th>\n",
       "      <td id=\"T_22ef3_row0_col0\" class=\"data row0 col0\" >ElectricRange</td>\n",
       "      <td id=\"T_22ef3_row0_col1\" class=\"data row0 col1\" >85.46%</td>\n",
       "    </tr>\n",
       "    <tr>\n",
       "      <th id=\"T_22ef3_level0_row1\" class=\"row_heading level0 row1\" >1</th>\n",
       "      <td id=\"T_22ef3_row1_col0\" class=\"data row1 col0\" >ElectricConsumption</td>\n",
       "      <td id=\"T_22ef3_row1_col1\" class=\"data row1 col1\" >84.24%</td>\n",
       "    </tr>\n",
       "    <tr>\n",
       "      <th id=\"T_22ef3_level0_row2\" class=\"row_heading level0 row2\" >2</th>\n",
       "      <td id=\"T_22ef3_row2_col0\" class=\"data row2 col0\" >InnovativeEmissionsReductionWltp</td>\n",
       "      <td id=\"T_22ef3_row2_col1\" class=\"data row2 col1\" >56.10%</td>\n",
       "    </tr>\n",
       "    <tr>\n",
       "      <th id=\"T_22ef3_level0_row3\" class=\"row_heading level0 row3\" >3</th>\n",
       "      <td id=\"T_22ef3_row3_col0\" class=\"data row3 col0\" >InnovativeTechnology</td>\n",
       "      <td id=\"T_22ef3_row3_col1\" class=\"data row3 col1\" >53.26%</td>\n",
       "    </tr>\n",
       "    <tr>\n",
       "      <th id=\"T_22ef3_level0_row4\" class=\"row_heading level0 row4\" >4</th>\n",
       "      <td id=\"T_22ef3_row4_col0\" class=\"data row4 col0\" >FuelConsumption</td>\n",
       "      <td id=\"T_22ef3_row4_col1\" class=\"data row4 col1\" >40.68%</td>\n",
       "    </tr>\n",
       "    <tr>\n",
       "      <th id=\"T_22ef3_level0_row5\" class=\"row_heading level0 row5\" >5</th>\n",
       "      <td id=\"T_22ef3_row5_col0\" class=\"data row5 col0\" >WltpTestMass</td>\n",
       "      <td id=\"T_22ef3_row5_col1\" class=\"data row5 col1\" >19.32%</td>\n",
       "    </tr>\n",
       "    <tr>\n",
       "      <th id=\"T_22ef3_level0_row6\" class=\"row_heading level0 row6\" >6</th>\n",
       "      <td id=\"T_22ef3_row6_col0\" class=\"data row6 col0\" >AxleWidthSteering</td>\n",
       "      <td id=\"T_22ef3_row6_col1\" class=\"data row6 col1\" >15.72%</td>\n",
       "    </tr>\n",
       "    <tr>\n",
       "      <th id=\"T_22ef3_level0_row7\" class=\"row_heading level0 row7\" >7</th>\n",
       "      <td id=\"T_22ef3_row7_col0\" class=\"data row7 col0\" >Month</td>\n",
       "      <td id=\"T_22ef3_row7_col1\" class=\"data row7 col1\" >10.30%</td>\n",
       "    </tr>\n",
       "    <tr>\n",
       "      <th id=\"T_22ef3_level0_row8\" class=\"row_heading level0 row8\" >8</th>\n",
       "      <td id=\"T_22ef3_row8_col0\" class=\"data row8 col0\" >RegistrationDate</td>\n",
       "      <td id=\"T_22ef3_row8_col1\" class=\"data row8 col1\" >10.30%</td>\n",
       "    </tr>\n",
       "    <tr>\n",
       "      <th id=\"T_22ef3_level0_row9\" class=\"row_heading level0 row9\" >9</th>\n",
       "      <td id=\"T_22ef3_row9_col0\" class=\"data row9 col0\" >EngineCapacity</td>\n",
       "      <td id=\"T_22ef3_row9_col1\" class=\"data row9 col1\" >10.16%</td>\n",
       "    </tr>\n",
       "    <tr>\n",
       "      <th id=\"T_22ef3_level0_row10\" class=\"row_heading level0 row10\" >10</th>\n",
       "      <td id=\"T_22ef3_row10_col0\" class=\"data row10 col0\" >Pool</td>\n",
       "      <td id=\"T_22ef3_row10_col1\" class=\"data row10 col1\" >3.24%</td>\n",
       "    </tr>\n",
       "    <tr>\n",
       "      <th id=\"T_22ef3_level0_row11\" class=\"row_heading level0 row11\" >11</th>\n",
       "      <td id=\"T_22ef3_row11_col0\" class=\"data row11 col0\" >EnginePower</td>\n",
       "      <td id=\"T_22ef3_row11_col1\" class=\"data row11 col1\" >1.10%</td>\n",
       "    </tr>\n",
       "    <tr>\n",
       "      <th id=\"T_22ef3_level0_row12\" class=\"row_heading level0 row12\" >12</th>\n",
       "      <td id=\"T_22ef3_row12_col0\" class=\"data row12 col0\" >Co2EmissionsWltp</td>\n",
       "      <td id=\"T_22ef3_row12_col1\" class=\"data row12 col1\" >1.02%</td>\n",
       "    </tr>\n",
       "    <tr>\n",
       "      <th id=\"T_22ef3_level0_row13\" class=\"row_heading level0 row13\" >13</th>\n",
       "      <td id=\"T_22ef3_row13_col0\" class=\"data row13 col0\" >BaseWheel</td>\n",
       "      <td id=\"T_22ef3_row13_col1\" class=\"data row13 col1\" >0.20%</td>\n",
       "    </tr>\n",
       "    <tr>\n",
       "      <th id=\"T_22ef3_level0_row14\" class=\"row_heading level0 row14\" >14</th>\n",
       "      <td id=\"T_22ef3_row14_col0\" class=\"data row14 col0\" >ID</td>\n",
       "      <td id=\"T_22ef3_row14_col1\" class=\"data row14 col1\" >0.00%</td>\n",
       "    </tr>\n",
       "    <tr>\n",
       "      <th id=\"T_22ef3_level0_row15\" class=\"row_heading level0 row15\" >15</th>\n",
       "      <td id=\"T_22ef3_row15_col0\" class=\"data row15 col0\" >CategoryOf</td>\n",
       "      <td id=\"T_22ef3_row15_col1\" class=\"data row15 col1\" >0.00%</td>\n",
       "    </tr>\n",
       "    <tr>\n",
       "      <th id=\"T_22ef3_level0_row16\" class=\"row_heading level0 row16\" >16</th>\n",
       "      <td id=\"T_22ef3_row16_col0\" class=\"data row16 col0\" >Make</td>\n",
       "      <td id=\"T_22ef3_row16_col1\" class=\"data row16 col1\" >0.00%</td>\n",
       "    </tr>\n",
       "    <tr>\n",
       "      <th id=\"T_22ef3_level0_row17\" class=\"row_heading level0 row17\" >17</th>\n",
       "      <td id=\"T_22ef3_row17_col0\" class=\"data row17 col0\" >ManufNameOem</td>\n",
       "      <td id=\"T_22ef3_row17_col1\" class=\"data row17 col1\" >0.00%</td>\n",
       "    </tr>\n",
       "    <tr>\n",
       "      <th id=\"T_22ef3_level0_row18\" class=\"row_heading level0 row18\" >18</th>\n",
       "      <td id=\"T_22ef3_row18_col0\" class=\"data row18 col0\" >ManufacturerName</td>\n",
       "      <td id=\"T_22ef3_row18_col1\" class=\"data row18 col1\" >0.00%</td>\n",
       "    </tr>\n",
       "    <tr>\n",
       "      <th id=\"T_22ef3_level0_row19\" class=\"row_heading level0 row19\" >19</th>\n",
       "      <td id=\"T_22ef3_row19_col0\" class=\"data row19 col0\" >Country</td>\n",
       "      <td id=\"T_22ef3_row19_col1\" class=\"data row19 col1\" >0.00%</td>\n",
       "    </tr>\n",
       "    <tr>\n",
       "      <th id=\"T_22ef3_level0_row20\" class=\"row_heading level0 row20\" >20</th>\n",
       "      <td id=\"T_22ef3_row20_col0\" class=\"data row20 col0\" >FuelMode</td>\n",
       "      <td id=\"T_22ef3_row20_col1\" class=\"data row20 col1\" >0.00%</td>\n",
       "    </tr>\n",
       "    <tr>\n",
       "      <th id=\"T_22ef3_level0_row21\" class=\"row_heading level0 row21\" >21</th>\n",
       "      <td id=\"T_22ef3_row21_col0\" class=\"data row21 col0\" >MassRunningOrder</td>\n",
       "      <td id=\"T_22ef3_row21_col1\" class=\"data row21 col1\" >0.00%</td>\n",
       "    </tr>\n",
       "    <tr>\n",
       "      <th id=\"T_22ef3_level0_row22\" class=\"row_heading level0 row22\" >22</th>\n",
       "      <td id=\"T_22ef3_row22_col0\" class=\"data row22 col0\" >FuelType</td>\n",
       "      <td id=\"T_22ef3_row22_col1\" class=\"data row22 col1\" >0.00%</td>\n",
       "    </tr>\n",
       "  </tbody>\n",
       "</table>\n"
      ],
      "text/plain": [
       "<pandas.io.formats.style.Styler at 0x7f09ec8079a0>"
      ]
     },
     "execution_count": 12,
     "metadata": {},
     "output_type": "execute_result"
    }
   ],
   "source": [
    "co2.styles.display_na(df)"
   ]
  },
  {
   "cell_type": "code",
   "execution_count": 13,
   "metadata": {},
   "outputs": [
    {
     "data": {
      "text/html": [
       "<style type=\"text/css\">\n",
       "#T_731d6 th {\n",
       "  background-color: steelblue;\n",
       "  color: white;\n",
       "}\n",
       "#T_731d6 tr:nth-of-type(odd) {\n",
       "  background-color: aliceblue;\n",
       "}\n",
       "#T_731d6 tr:nth-of-type(even) {\n",
       "  background-color: white;\n",
       "}\n",
       "</style>\n",
       "<table id=\"T_731d6\">\n",
       "  <thead>\n",
       "    <tr>\n",
       "      <th class=\"blank level0\" >&nbsp;</th>\n",
       "      <th id=\"T_731d6_level0_col0\" class=\"col_heading level0 col0\" >Colonne</th>\n",
       "      <th id=\"T_731d6_level0_col1\" class=\"col_heading level0 col1\" >count</th>\n",
       "      <th id=\"T_731d6_level0_col2\" class=\"col_heading level0 col2\" >mean</th>\n",
       "      <th id=\"T_731d6_level0_col3\" class=\"col_heading level0 col3\" >std</th>\n",
       "      <th id=\"T_731d6_level0_col4\" class=\"col_heading level0 col4\" >min</th>\n",
       "      <th id=\"T_731d6_level0_col5\" class=\"col_heading level0 col5\" >25%</th>\n",
       "      <th id=\"T_731d6_level0_col6\" class=\"col_heading level0 col6\" >50%</th>\n",
       "      <th id=\"T_731d6_level0_col7\" class=\"col_heading level0 col7\" >75%</th>\n",
       "      <th id=\"T_731d6_level0_col8\" class=\"col_heading level0 col8\" >max</th>\n",
       "    </tr>\n",
       "  </thead>\n",
       "  <tbody>\n",
       "    <tr>\n",
       "      <th id=\"T_731d6_level0_row0\" class=\"row_heading level0 row0\" >0</th>\n",
       "      <td id=\"T_731d6_row0_col0\" class=\"data row0 col0\" >ID</td>\n",
       "      <td id=\"T_731d6_row0_col1\" class=\"data row0 col1\" >5000.000000</td>\n",
       "      <td id=\"T_731d6_row0_col2\" class=\"data row0 col2\" >47122714.080200</td>\n",
       "      <td id=\"T_731d6_row0_col3\" class=\"data row0 col3\" >458.000000</td>\n",
       "      <td id=\"T_731d6_row0_col4\" class=\"data row0 col4\" >46640799.000000</td>\n",
       "      <td id=\"T_731d6_row0_col5\" class=\"data row0 col5\" >51717548.000000</td>\n",
       "      <td id=\"T_731d6_row0_col6\" class=\"data row0 col6\" >54894135.000000</td>\n",
       "      <td id=\"T_731d6_row0_col7\" class=\"data row0 col7\" >61299368.000000</td>\n",
       "      <td id=\"T_731d6_row0_col8\" class=\"data row0 col8\" >15403641.486526</td>\n",
       "    </tr>\n",
       "    <tr>\n",
       "      <th id=\"T_731d6_level0_row1\" class=\"row_heading level0 row1\" >1</th>\n",
       "      <td id=\"T_731d6_row1_col0\" class=\"data row1 col0\" >MassRunningOrder</td>\n",
       "      <td id=\"T_731d6_row1_col1\" class=\"data row1 col1\" >5000.000000</td>\n",
       "      <td id=\"T_731d6_row1_col2\" class=\"data row1 col2\" >1483.880600</td>\n",
       "      <td id=\"T_731d6_row1_col3\" class=\"data row1 col3\" >915.000000</td>\n",
       "      <td id=\"T_731d6_row1_col4\" class=\"data row1 col4\" >1243.000000</td>\n",
       "      <td id=\"T_731d6_row1_col5\" class=\"data row1 col5\" >1421.000000</td>\n",
       "      <td id=\"T_731d6_row1_col6\" class=\"data row1 col6\" >1658.000000</td>\n",
       "      <td id=\"T_731d6_row1_col7\" class=\"data row1 col7\" >3298.000000</td>\n",
       "      <td id=\"T_731d6_row1_col8\" class=\"data row1 col8\" >335.908187</td>\n",
       "    </tr>\n",
       "    <tr>\n",
       "      <th id=\"T_731d6_level0_row2\" class=\"row_heading level0 row2\" >2</th>\n",
       "      <td id=\"T_731d6_row2_col0\" class=\"data row2 col0\" >WltpTestMass</td>\n",
       "      <td id=\"T_731d6_row2_col1\" class=\"data row2 col1\" >4034.000000</td>\n",
       "      <td id=\"T_731d6_row2_col2\" class=\"data row2 col2\" >1614.263014</td>\n",
       "      <td id=\"T_731d6_row2_col3\" class=\"data row2 col3\" >978.000000</td>\n",
       "      <td id=\"T_731d6_row2_col4\" class=\"data row2 col4\" >1359.000000</td>\n",
       "      <td id=\"T_731d6_row2_col5\" class=\"data row2 col5\" >1552.000000</td>\n",
       "      <td id=\"T_731d6_row2_col6\" class=\"data row2 col6\" >1793.000000</td>\n",
       "      <td id=\"T_731d6_row2_col7\" class=\"data row2 col7\" >3344.000000</td>\n",
       "      <td id=\"T_731d6_row2_col8\" class=\"data row2 col8\" >358.144636</td>\n",
       "    </tr>\n",
       "    <tr>\n",
       "      <th id=\"T_731d6_level0_row3\" class=\"row_heading level0 row3\" >3</th>\n",
       "      <td id=\"T_731d6_row3_col0\" class=\"data row3 col0\" >Co2EmissionsWltp</td>\n",
       "      <td id=\"T_731d6_row3_col1\" class=\"data row3 col1\" >4949.000000</td>\n",
       "      <td id=\"T_731d6_row3_col2\" class=\"data row3 col2\" >114.908668</td>\n",
       "      <td id=\"T_731d6_row3_col3\" class=\"data row3 col3\" >0.000000</td>\n",
       "      <td id=\"T_731d6_row3_col4\" class=\"data row3 col4\" >111.000000</td>\n",
       "      <td id=\"T_731d6_row3_col5\" class=\"data row3 col5\" >125.000000</td>\n",
       "      <td id=\"T_731d6_row3_col6\" class=\"data row3 col6\" >141.000000</td>\n",
       "      <td id=\"T_731d6_row3_col7\" class=\"data row3 col7\" >373.000000</td>\n",
       "      <td id=\"T_731d6_row3_col8\" class=\"data row3 col8\" >52.866431</td>\n",
       "    </tr>\n",
       "    <tr>\n",
       "      <th id=\"T_731d6_level0_row4\" class=\"row_heading level0 row4\" >4</th>\n",
       "      <td id=\"T_731d6_row4_col0\" class=\"data row4 col0\" >BaseWheel</td>\n",
       "      <td id=\"T_731d6_row4_col1\" class=\"data row4 col1\" >4990.000000</td>\n",
       "      <td id=\"T_731d6_row4_col2\" class=\"data row4 col2\" >2655.320240</td>\n",
       "      <td id=\"T_731d6_row4_col3\" class=\"data row4 col3\" >1873.000000</td>\n",
       "      <td id=\"T_731d6_row4_col4\" class=\"data row4 col4\" >2567.000000</td>\n",
       "      <td id=\"T_731d6_row4_col5\" class=\"data row4 col5\" >2646.000000</td>\n",
       "      <td id=\"T_731d6_row4_col6\" class=\"data row4 col6\" >2720.000000</td>\n",
       "      <td id=\"T_731d6_row4_col7\" class=\"data row4 col7\" >4490.000000</td>\n",
       "      <td id=\"T_731d6_row4_col8\" class=\"data row4 col8\" >169.843876</td>\n",
       "    </tr>\n",
       "    <tr>\n",
       "      <th id=\"T_731d6_level0_row5\" class=\"row_heading level0 row5\" >5</th>\n",
       "      <td id=\"T_731d6_row5_col0\" class=\"data row5 col0\" >AxleWidthSteering</td>\n",
       "      <td id=\"T_731d6_row5_col1\" class=\"data row5 col1\" >4214.000000</td>\n",
       "      <td id=\"T_731d6_row5_col2\" class=\"data row5 col2\" >1551.089464</td>\n",
       "      <td id=\"T_731d6_row5_col3\" class=\"data row5 col3\" >1365.000000</td>\n",
       "      <td id=\"T_731d6_row5_col4\" class=\"data row5 col4\" >1514.000000</td>\n",
       "      <td id=\"T_731d6_row5_col5\" class=\"data row5 col5\" >1558.000000</td>\n",
       "      <td id=\"T_731d6_row5_col6\" class=\"data row5 col6\" >1585.000000</td>\n",
       "      <td id=\"T_731d6_row5_col7\" class=\"data row5 col7\" >2539.000000</td>\n",
       "      <td id=\"T_731d6_row5_col8\" class=\"data row5 col8\" >61.429044</td>\n",
       "    </tr>\n",
       "    <tr>\n",
       "      <th id=\"T_731d6_level0_row6\" class=\"row_heading level0 row6\" >6</th>\n",
       "      <td id=\"T_731d6_row6_col0\" class=\"data row6 col0\" >EngineCapacity</td>\n",
       "      <td id=\"T_731d6_row6_col1\" class=\"data row6 col1\" >4492.000000</td>\n",
       "      <td id=\"T_731d6_row6_col2\" class=\"data row6 col2\" >1518.385129</td>\n",
       "      <td id=\"T_731d6_row6_col3\" class=\"data row6 col3\" >875.000000</td>\n",
       "      <td id=\"T_731d6_row6_col4\" class=\"data row6 col4\" >1084.000000</td>\n",
       "      <td id=\"T_731d6_row6_col5\" class=\"data row6 col5\" >1496.000000</td>\n",
       "      <td id=\"T_731d6_row6_col6\" class=\"data row6 col6\" >1950.000000</td>\n",
       "      <td id=\"T_731d6_row6_col7\" class=\"data row6 col7\" >6749.000000</td>\n",
       "      <td id=\"T_731d6_row6_col8\" class=\"data row6 col8\" >503.034762</td>\n",
       "    </tr>\n",
       "    <tr>\n",
       "      <th id=\"T_731d6_level0_row7\" class=\"row_heading level0 row7\" >7</th>\n",
       "      <td id=\"T_731d6_row7_col0\" class=\"data row7 col0\" >EnginePower</td>\n",
       "      <td id=\"T_731d6_row7_col1\" class=\"data row7 col1\" >4945.000000</td>\n",
       "      <td id=\"T_731d6_row7_col2\" class=\"data row7 col2\" >101.822042</td>\n",
       "      <td id=\"T_731d6_row7_col3\" class=\"data row7 col3\" >10.000000</td>\n",
       "      <td id=\"T_731d6_row7_col4\" class=\"data row7 col4\" >70.000000</td>\n",
       "      <td id=\"T_731d6_row7_col5\" class=\"data row7 col5\" >95.000000</td>\n",
       "      <td id=\"T_731d6_row7_col6\" class=\"data row7 col6\" >112.000000</td>\n",
       "      <td id=\"T_731d6_row7_col7\" class=\"data row7 col7\" >460.000000</td>\n",
       "      <td id=\"T_731d6_row7_col8\" class=\"data row7 col8\" >50.052677</td>\n",
       "    </tr>\n",
       "    <tr>\n",
       "      <th id=\"T_731d6_level0_row8\" class=\"row_heading level0 row8\" >8</th>\n",
       "      <td id=\"T_731d6_row8_col0\" class=\"data row8 col0\" >ElectricConsumption</td>\n",
       "      <td id=\"T_731d6_row8_col1\" class=\"data row8 col1\" >788.000000</td>\n",
       "      <td id=\"T_731d6_row8_col2\" class=\"data row8 col2\" >171.602792</td>\n",
       "      <td id=\"T_731d6_row8_col3\" class=\"data row8 col3\" >45.000000</td>\n",
       "      <td id=\"T_731d6_row8_col4\" class=\"data row8 col4\" >150.000000</td>\n",
       "      <td id=\"T_731d6_row8_col5\" class=\"data row8 col5\" >163.000000</td>\n",
       "      <td id=\"T_731d6_row8_col6\" class=\"data row8 col6\" >180.000000</td>\n",
       "      <td id=\"T_731d6_row8_col7\" class=\"data row8 col7\" >373.000000</td>\n",
       "      <td id=\"T_731d6_row8_col8\" class=\"data row8 col8\" >37.208617</td>\n",
       "    </tr>\n",
       "    <tr>\n",
       "      <th id=\"T_731d6_level0_row9\" class=\"row_heading level0 row9\" >9</th>\n",
       "      <td id=\"T_731d6_row9_col0\" class=\"data row9 col0\" >InnovativeEmissionsReductionWltp</td>\n",
       "      <td id=\"T_731d6_row9_col1\" class=\"data row9 col1\" >2195.000000</td>\n",
       "      <td id=\"T_731d6_row9_col2\" class=\"data row9 col2\" >1.519043</td>\n",
       "      <td id=\"T_731d6_row9_col3\" class=\"data row9 col3\" >0.500000</td>\n",
       "      <td id=\"T_731d6_row9_col4\" class=\"data row9 col4\" >1.000000</td>\n",
       "      <td id=\"T_731d6_row9_col5\" class=\"data row9 col5\" >1.600000</td>\n",
       "      <td id=\"T_731d6_row9_col6\" class=\"data row9 col6\" >1.900000</td>\n",
       "      <td id=\"T_731d6_row9_col7\" class=\"data row9 col7\" >4.300000</td>\n",
       "      <td id=\"T_731d6_row9_col8\" class=\"data row9 col8\" >0.511884</td>\n",
       "    </tr>\n",
       "    <tr>\n",
       "      <th id=\"T_731d6_level0_row10\" class=\"row_heading level0 row10\" >10</th>\n",
       "      <td id=\"T_731d6_row10_col0\" class=\"data row10 col0\" >RegistrationDate</td>\n",
       "      <td id=\"T_731d6_row10_col1\" class=\"data row10 col1\" >4485</td>\n",
       "      <td id=\"T_731d6_row10_col2\" class=\"data row10 col2\" >2021-06-25 20:33:13.846153728</td>\n",
       "      <td id=\"T_731d6_row10_col3\" class=\"data row10 col3\" >2021-01-04 00:00:00</td>\n",
       "      <td id=\"T_731d6_row10_col4\" class=\"data row10 col4\" >2021-03-30 00:00:00</td>\n",
       "      <td id=\"T_731d6_row10_col5\" class=\"data row10 col5\" >2021-06-17 00:00:00</td>\n",
       "      <td id=\"T_731d6_row10_col6\" class=\"data row10 col6\" >2021-09-24 00:00:00</td>\n",
       "      <td id=\"T_731d6_row10_col7\" class=\"data row10 col7\" >2021-12-31 00:00:00</td>\n",
       "      <td id=\"T_731d6_row10_col8\" class=\"data row10 col8\" >nan</td>\n",
       "    </tr>\n",
       "    <tr>\n",
       "      <th id=\"T_731d6_level0_row11\" class=\"row_heading level0 row11\" >11</th>\n",
       "      <td id=\"T_731d6_row11_col0\" class=\"data row11 col0\" >FuelConsumption</td>\n",
       "      <td id=\"T_731d6_row11_col1\" class=\"data row11 col1\" >2966.000000</td>\n",
       "      <td id=\"T_731d6_row11_col2\" class=\"data row11 col2\" >5.457653</td>\n",
       "      <td id=\"T_731d6_row11_col3\" class=\"data row11 col3\" >0.900000</td>\n",
       "      <td id=\"T_731d6_row11_col4\" class=\"data row11 col4\" >4.800000</td>\n",
       "      <td id=\"T_731d6_row11_col5\" class=\"data row11 col5\" >5.300000</td>\n",
       "      <td id=\"T_731d6_row11_col6\" class=\"data row11 col6\" >6.000000</td>\n",
       "      <td id=\"T_731d6_row11_col7\" class=\"data row11 col7\" >47.000000</td>\n",
       "      <td id=\"T_731d6_row11_col8\" class=\"data row11 col8\" >1.646449</td>\n",
       "    </tr>\n",
       "    <tr>\n",
       "      <th id=\"T_731d6_level0_row12\" class=\"row_heading level0 row12\" >12</th>\n",
       "      <td id=\"T_731d6_row12_col0\" class=\"data row12 col0\" >ElectricRange</td>\n",
       "      <td id=\"T_731d6_row12_col1\" class=\"data row12 col1\" >727.000000</td>\n",
       "      <td id=\"T_731d6_row12_col2\" class=\"data row12 col2\" >212.211829</td>\n",
       "      <td id=\"T_731d6_row12_col3\" class=\"data row12 col3\" >23.000000</td>\n",
       "      <td id=\"T_731d6_row12_col4\" class=\"data row12 col4\" >55.000000</td>\n",
       "      <td id=\"T_731d6_row12_col5\" class=\"data row12 col5\" >78.000000</td>\n",
       "      <td id=\"T_731d6_row12_col6\" class=\"data row12 col6\" >391.000000</td>\n",
       "      <td id=\"T_731d6_row12_col7\" class=\"data row12 col7\" >640.000000</td>\n",
       "      <td id=\"T_731d6_row12_col8\" class=\"data row12 col8\" >180.788636</td>\n",
       "    </tr>\n",
       "    <tr>\n",
       "      <th id=\"T_731d6_level0_row13\" class=\"row_heading level0 row13\" >13</th>\n",
       "      <td id=\"T_731d6_row13_col0\" class=\"data row13 col0\" >Month</td>\n",
       "      <td id=\"T_731d6_row13_col1\" class=\"data row13 col1\" >4485.000000</td>\n",
       "      <td id=\"T_731d6_row13_col2\" class=\"data row13 col2\" >6.255072</td>\n",
       "      <td id=\"T_731d6_row13_col3\" class=\"data row13 col3\" >1.000000</td>\n",
       "      <td id=\"T_731d6_row13_col4\" class=\"data row13 col4\" >3.000000</td>\n",
       "      <td id=\"T_731d6_row13_col5\" class=\"data row13 col5\" >6.000000</td>\n",
       "      <td id=\"T_731d6_row13_col6\" class=\"data row13 col6\" >9.000000</td>\n",
       "      <td id=\"T_731d6_row13_col7\" class=\"data row13 col7\" >12.000000</td>\n",
       "      <td id=\"T_731d6_row13_col8\" class=\"data row13 col8\" >3.402464</td>\n",
       "    </tr>\n",
       "  </tbody>\n",
       "</table>\n"
      ],
      "text/plain": [
       "<pandas.io.formats.style.Styler at 0x7f09c25673d0>"
      ]
     },
     "metadata": {},
     "output_type": "display_data"
    }
   ],
   "source": [
    "co2.styles.display_describe(df)"
   ]
  },
  {
   "cell_type": "code",
   "execution_count": 14,
   "metadata": {},
   "outputs": [
    {
     "data": {
      "application/vnd.plotly.v1+json": {
       "config": {
        "plotlyServerURL": "https://plot.ly"
       },
       "data": [
        {
         "boxpoints": "outliers",
         "name": "DIESEL",
         "type": "box",
         "x": [
          134,
          126,
          148,
          123,
          244,
          136,
          152,
          218,
          138,
          140,
          179,
          142,
          182,
          152,
          162,
          152,
          178,
          176,
          115,
          106,
          114,
          137,
          144,
          149,
          138,
          137,
          124,
          123,
          144,
          148,
          129,
          148,
          108,
          111,
          151,
          148,
          132,
          113,
          137,
          123,
          176,
          141,
          125,
          109,
          118,
          138,
          126,
          111,
          215,
          123,
          121,
          152,
          120,
          173,
          110,
          177,
          149,
          114,
          129,
          136,
          122,
          225,
          179,
          134,
          137,
          164,
          233,
          135,
          147,
          122,
          195,
          227,
          128,
          174,
          109,
          149,
          124,
          121,
          133,
          154,
          175,
          140,
          128,
          120,
          139,
          115,
          143,
          172,
          142,
          130,
          121,
          180,
          111,
          119,
          132,
          141,
          157,
          141,
          177,
          168,
          125,
          158,
          127,
          162,
          129,
          201,
          218,
          175,
          166,
          196,
          135,
          132,
          129,
          168,
          164,
          130,
          134,
          173,
          138,
          155,
          106,
          128,
          251,
          167,
          157,
          122,
          145,
          136,
          164,
          186,
          139,
          168,
          141,
          144,
          130,
          119,
          167,
          127,
          168,
          178,
          144,
          137,
          128,
          141,
          142,
          111,
          114,
          138,
          146,
          163,
          142,
          170,
          134,
          150,
          144,
          219,
          130,
          141,
          196,
          179,
          136,
          122,
          155,
          142,
          131,
          124,
          124,
          135,
          120,
          135,
          112,
          155,
          201,
          133,
          154,
          180,
          140,
          135,
          145,
          139,
          105,
          136,
          117,
          121,
          121,
          117,
          159,
          220,
          138,
          111,
          144,
          120,
          138,
          136,
          142,
          152,
          137,
          197,
          142,
          132,
          118,
          149,
          135,
          108,
          121,
          145,
          217,
          109,
          129,
          226,
          169,
          131,
          151,
          142,
          145,
          172,
          114,
          107,
          127,
          149,
          221,
          121,
          130,
          132,
          177,
          122,
          141,
          200,
          107,
          223,
          112,
          140,
          166,
          127,
          130,
          124,
          153,
          128,
          136,
          127,
          129,
          145,
          130,
          125,
          144,
          165,
          189,
          133,
          123,
          127,
          129,
          140,
          130,
          145,
          127,
          127,
          120,
          140,
          122,
          128,
          135,
          140,
          167,
          143,
          220,
          135,
          128,
          132,
          119,
          138,
          175,
          112,
          136,
          138,
          178,
          251,
          140,
          121,
          127,
          154,
          140,
          132,
          150,
          191,
          133,
          120,
          121,
          148,
          138,
          156,
          153,
          118,
          138,
          161,
          114,
          128,
          111,
          136,
          125,
          189,
          130,
          228,
          138,
          149,
          112,
          123,
          170,
          177,
          122,
          127,
          124,
          169,
          143,
          192,
          115,
          122,
          136,
          111,
          197,
          122,
          134,
          118,
          122,
          121,
          131,
          156,
          132,
          169,
          125,
          168,
          187,
          186,
          111,
          127,
          156,
          141,
          124,
          115,
          170,
          181,
          138,
          158,
          134,
          140,
          126,
          109,
          125,
          119,
          136,
          151,
          163,
          158,
          113,
          127,
          146,
          44,
          118,
          124,
          217,
          128,
          187,
          153,
          121,
          118,
          107,
          130,
          117,
          193,
          149,
          162,
          152,
          135,
          122,
          215,
          134,
          199,
          110,
          142,
          137,
          146,
          126,
          142,
          114,
          122,
          137,
          120,
          201,
          112,
          180,
          169,
          111,
          120,
          199,
          143,
          133,
          126,
          169,
          138,
          123,
          168,
          172,
          206,
          126,
          121,
          185,
          133,
          166,
          142,
          135,
          142,
          123,
          146,
          129,
          128,
          113,
          157,
          138,
          140,
          112,
          123,
          132,
          132,
          131,
          145,
          173,
          148,
          186,
          143,
          130,
          164,
          117,
          140,
          140,
          135,
          154,
          129,
          136,
          203,
          157,
          190,
          129,
          117,
          140,
          133,
          138,
          163,
          138,
          145,
          122,
          130,
          122,
          137,
          124,
          130,
          170,
          132,
          122,
          134,
          135,
          147,
          118,
          147,
          127,
          141,
          154,
          222,
          174,
          141,
          118,
          120,
          140,
          136,
          139,
          147,
          133,
          186,
          136,
          130,
          215,
          171,
          138,
          132,
          223,
          128,
          165,
          130,
          130,
          144,
          106,
          131,
          163,
          213,
          121,
          228,
          120,
          116,
          122,
          160,
          128,
          133,
          127,
          178,
          194,
          191,
          118,
          232,
          126,
          130,
          128,
          133,
          154,
          138,
          151,
          149,
          159,
          133,
          168,
          180,
          158,
          134,
          130,
          159,
          176,
          153,
          131,
          121,
          121,
          114,
          127,
          147,
          188,
          null,
          112,
          124,
          139,
          119,
          125,
          210,
          171,
          146,
          131,
          116,
          200,
          121,
          120,
          155,
          126,
          133,
          148,
          117,
          120,
          215,
          141,
          188,
          142,
          124,
          107,
          129,
          177,
          115,
          172,
          156,
          220,
          119,
          132,
          120,
          168,
          156,
          120,
          303,
          192,
          209,
          131,
          125,
          114,
          120,
          130,
          132,
          168,
          146,
          135,
          134,
          114,
          163,
          121,
          134,
          142,
          182,
          163,
          121,
          137,
          169,
          145,
          104,
          118,
          108,
          219,
          159,
          139,
          133,
          124,
          124,
          127,
          139,
          127,
          161,
          147,
          107,
          151,
          131,
          168,
          129,
          150,
          141,
          133,
          144,
          108,
          162,
          154,
          160,
          221,
          195,
          114,
          170,
          119,
          115,
          118,
          174,
          161,
          136,
          121,
          171,
          130,
          128,
          166,
          147,
          111,
          139,
          165,
          146,
          161,
          139,
          119,
          117,
          154,
          176,
          123,
          127,
          157,
          175,
          109,
          173,
          150,
          144,
          135,
          126,
          137,
          120,
          130,
          148,
          130,
          187,
          130,
          47,
          136,
          221,
          154,
          111,
          133,
          150,
          187,
          157,
          138,
          200,
          120,
          123,
          123,
          111,
          146,
          140,
          162,
          132,
          156,
          117,
          126,
          138,
          130,
          150,
          186,
          156,
          152,
          119,
          127,
          162,
          133,
          149,
          127,
          203,
          220,
          158,
          139,
          127,
          129,
          111,
          199,
          145,
          130,
          131,
          145,
          131,
          132,
          174,
          133,
          120,
          120,
          119,
          224,
          134,
          129,
          122,
          121,
          120,
          160,
          131,
          120,
          129,
          158,
          118,
          125,
          135,
          143,
          123,
          137,
          137,
          123,
          123,
          106,
          106,
          129,
          184,
          129,
          204,
          137,
          136,
          133,
          144,
          113,
          134,
          109,
          129,
          142,
          136,
          146,
          140,
          149,
          130,
          123,
          121,
          190,
          125,
          122,
          138,
          126,
          150,
          131,
          111,
          119,
          125,
          150,
          115,
          140,
          121,
          178,
          126,
          139,
          111,
          148,
          150,
          124,
          176,
          128,
          142,
          128,
          122,
          143,
          153,
          130,
          161,
          133,
          169,
          109,
          120,
          135,
          142,
          119,
          143,
          125,
          138,
          180,
          120,
          145,
          129,
          185,
          130,
          127,
          121,
          137,
          111,
          196,
          135,
          134,
          126,
          173,
          128,
          141,
          142,
          129,
          136,
          146,
          150,
          129,
          133,
          174,
          112,
          142,
          145,
          106,
          137,
          137,
          182,
          106,
          213,
          123,
          105,
          null,
          136,
          137,
          227,
          128,
          176,
          132,
          120,
          195,
          156,
          164,
          112,
          182,
          121,
          149,
          119,
          159,
          143,
          141,
          139,
          147,
          122,
          149,
          152,
          127,
          135,
          144,
          128,
          138,
          153,
          137,
          153,
          111,
          141,
          159,
          188,
          134,
          127,
          157,
          129,
          136,
          124,
          122,
          156,
          157,
          124,
          152,
          156,
          153,
          141,
          155,
          159,
          107,
          127,
          126,
          146,
          150,
          123,
          153,
          220,
          172,
          140,
          137,
          146,
          120,
          129,
          135,
          193,
          189,
          135,
          131,
          123,
          178,
          127,
          138,
          187,
          160,
          158,
          144,
          136,
          220,
          121,
          138,
          128,
          142,
          132,
          123,
          111,
          138,
          null,
          138,
          167,
          157,
          126,
          158,
          146,
          114,
          169,
          128,
          181,
          172,
          137,
          119,
          170,
          113,
          129,
          195,
          111,
          106,
          132,
          127,
          141,
          129,
          166,
          134,
          138,
          115,
          130,
          119,
          132,
          191,
          164,
          139,
          187,
          111,
          173,
          150,
          129,
          105,
          142,
          139,
          122,
          143,
          137,
          120,
          135,
          140,
          148,
          130,
          117,
          166,
          136,
          126,
          119,
          200,
          144,
          137,
          123,
          149,
          123,
          125,
          121,
          115,
          144,
          164,
          125,
          129,
          144,
          139,
          131,
          109,
          213,
          142,
          135,
          142,
          141,
          222,
          127,
          190,
          157,
          132,
          111,
          123,
          139,
          111,
          157,
          185,
          124,
          167,
          148,
          129,
          160,
          133,
          139,
          120,
          128,
          173,
          123,
          132,
          130,
          121,
          131,
          123,
          189,
          185,
          115,
          145,
          173,
          125,
          135,
          178,
          136,
          131,
          166,
          171,
          133,
          131,
          138,
          130,
          129,
          141,
          148,
          124,
          140,
          143,
          159,
          139,
          177,
          106,
          138,
          124,
          219,
          112,
          111,
          151,
          172,
          149,
          129,
          140,
          121,
          128,
          155,
          125,
          139,
          149,
          182,
          148,
          180,
          142,
          140,
          157,
          152,
          109,
          145,
          114,
          132,
          121,
          154,
          120,
          148,
          165,
          205,
          144,
          143,
          123,
          136,
          150,
          143,
          181,
          140,
          141,
          149,
          162,
          162,
          140,
          140,
          126,
          135,
          152,
          137,
          174,
          157,
          138,
          138,
          137,
          111,
          127,
          156,
          136,
          124,
          136,
          125,
          123,
          146,
          180,
          145,
          107,
          202,
          128,
          114,
          142,
          151,
          192,
          135,
          203,
          137,
          158,
          178,
          129,
          186,
          124,
          128,
          134,
          173,
          169,
          134,
          154,
          123,
          127,
          183,
          129,
          173,
          221,
          133,
          172,
          111,
          121,
          146,
          138,
          114,
          145
         ]
        },
        {
         "boxpoints": "outliers",
         "name": "PETROL",
         "type": "box",
         "x": [
          120,
          149,
          200,
          130,
          129,
          118,
          115,
          156,
          111,
          161,
          119,
          123,
          131,
          127,
          137,
          131,
          138,
          113,
          124,
          112,
          169,
          112,
          167,
          145,
          150,
          121,
          110,
          121,
          166,
          154,
          102,
          145,
          158,
          113,
          166,
          125,
          185,
          112,
          179,
          142,
          117,
          124,
          126,
          109,
          160,
          145,
          147,
          138,
          127,
          110,
          155,
          145,
          180,
          147,
          118,
          112,
          133,
          163,
          111,
          125,
          111,
          193,
          141,
          138,
          114,
          137,
          123,
          129,
          111,
          132,
          263,
          124,
          122,
          133,
          149,
          111,
          150,
          88,
          117,
          121,
          129,
          125,
          120,
          166,
          119,
          137,
          133,
          116,
          158,
          92,
          122,
          146,
          130,
          152,
          115,
          118,
          123,
          133,
          112,
          123,
          135,
          119,
          125,
          125,
          115,
          32,
          118,
          118,
          148,
          125,
          152,
          98,
          138,
          120,
          227,
          153,
          119,
          121,
          121,
          132,
          166,
          125,
          169,
          116,
          137,
          148,
          123,
          112,
          166,
          121,
          120,
          111,
          118,
          135,
          118,
          103,
          140,
          120,
          125,
          135,
          117,
          150,
          161,
          137,
          131,
          85,
          110,
          120,
          159,
          140,
          111,
          118,
          194,
          119,
          115,
          143,
          148,
          112,
          133,
          123,
          121,
          134,
          113,
          140,
          121,
          133,
          171,
          152,
          122,
          166,
          166,
          106,
          286,
          118,
          128,
          117,
          144,
          120,
          120,
          119,
          110,
          119,
          128,
          118,
          87,
          103,
          117,
          245,
          118,
          120,
          140,
          137,
          122,
          160,
          132,
          125,
          120,
          122,
          120,
          110,
          179,
          125,
          152,
          139,
          112,
          121,
          162,
          121,
          185,
          116,
          193,
          149,
          152,
          134,
          148,
          160,
          119,
          135,
          159,
          159,
          128,
          144,
          137,
          117,
          120,
          129,
          98,
          118,
          115,
          126,
          102,
          120,
          119,
          155,
          156,
          143,
          137,
          122,
          123,
          151,
          125,
          119,
          101,
          133,
          132,
          127,
          175,
          99,
          119,
          113,
          121,
          121,
          134,
          142,
          116,
          140,
          138,
          118,
          129,
          125,
          112,
          160,
          141,
          126,
          161,
          135,
          113,
          109,
          128,
          135,
          125,
          118,
          120,
          121,
          114,
          129,
          120,
          147,
          118,
          120,
          121,
          106,
          167,
          129,
          156,
          133,
          119,
          118,
          129,
          148,
          114,
          119,
          126,
          154,
          111,
          147,
          148,
          156,
          121,
          109,
          127,
          110,
          111,
          142,
          127,
          161,
          121,
          138,
          120,
          116,
          102,
          144,
          118,
          136,
          161,
          176,
          136,
          127,
          177,
          118,
          121,
          149,
          124,
          120,
          144,
          125,
          200,
          145,
          140,
          133,
          135,
          124,
          148,
          120,
          270,
          134,
          180,
          121,
          111,
          138,
          127,
          126,
          151,
          122,
          118,
          116,
          138,
          139,
          137,
          133,
          122,
          132,
          167,
          118,
          129,
          154,
          116,
          141,
          134,
          184,
          146,
          148,
          185,
          119,
          120,
          123,
          127,
          146,
          141,
          132,
          129,
          113,
          137,
          144,
          166,
          141,
          126,
          118,
          143,
          190,
          146,
          118,
          117,
          168,
          null,
          123,
          120,
          129,
          123,
          92,
          159,
          126,
          153,
          134,
          141,
          126,
          119,
          141,
          140,
          121,
          125,
          123,
          141,
          195,
          186,
          null,
          114,
          92,
          119,
          103,
          131,
          100,
          142,
          117,
          137,
          134,
          132,
          132,
          120,
          121,
          117,
          122,
          114,
          127,
          123,
          133,
          142,
          125,
          127,
          131,
          283,
          158,
          110,
          103,
          107,
          182,
          134,
          120,
          166,
          127,
          240,
          138,
          119,
          156,
          137,
          139,
          102,
          140,
          122,
          146,
          162,
          137,
          143,
          157,
          87,
          153,
          193,
          168,
          136,
          145,
          118,
          121,
          137,
          151,
          120,
          119,
          147,
          128,
          132,
          129,
          135,
          103,
          134,
          100,
          165,
          113,
          316,
          110,
          92,
          111,
          129,
          127,
          128,
          117,
          115,
          146,
          117,
          151,
          146,
          186,
          111,
          121,
          120,
          119,
          157,
          116,
          129,
          136,
          152,
          197,
          135,
          286,
          137,
          150,
          103,
          120,
          134,
          133,
          118,
          169,
          151,
          121,
          114,
          145,
          131,
          103,
          140,
          136,
          118,
          null,
          120,
          130,
          97,
          124,
          119,
          145,
          123,
          123,
          133,
          182,
          126,
          134,
          188,
          119,
          123,
          119,
          148,
          146,
          134,
          114,
          117,
          137,
          121,
          115,
          124,
          132,
          137,
          116,
          124,
          140,
          126,
          135,
          153,
          115,
          193,
          121,
          118,
          99,
          124,
          124,
          116,
          147,
          156,
          142,
          123,
          146,
          132,
          133,
          133,
          118,
          133,
          145,
          138,
          113,
          141,
          136,
          122,
          125,
          116,
          128,
          122,
          153,
          149,
          99,
          136,
          118,
          122,
          120,
          128,
          155,
          112,
          147,
          143,
          161,
          138,
          154,
          136,
          104,
          119,
          145,
          134,
          133,
          162,
          118,
          125,
          128,
          137,
          112,
          151,
          134,
          146,
          182,
          245,
          110,
          133,
          127,
          102,
          180,
          127,
          123,
          132,
          143,
          165,
          133,
          111,
          116,
          119,
          128,
          132,
          145,
          155,
          112,
          154,
          138,
          124,
          118,
          125,
          170,
          185,
          152,
          122,
          169,
          134,
          187,
          121,
          128,
          128,
          122,
          133,
          141,
          118,
          126,
          110,
          118,
          135,
          152,
          122,
          119,
          118,
          124,
          144,
          153,
          99,
          135,
          120,
          128,
          121,
          139,
          171,
          85,
          92,
          122,
          110,
          118,
          131,
          181,
          133,
          111,
          159,
          134,
          137,
          147,
          123,
          134,
          115,
          135,
          146,
          106,
          124,
          144,
          119,
          142,
          133,
          152,
          121,
          129,
          142,
          119,
          134,
          131,
          118,
          134,
          102,
          97,
          116,
          128,
          123,
          null,
          103,
          144,
          118,
          134,
          114,
          125,
          125,
          110,
          118,
          154,
          142,
          120,
          141,
          120,
          124,
          133,
          118,
          113,
          143,
          127,
          118,
          138,
          117,
          137,
          118,
          103,
          139,
          158,
          130,
          129,
          132,
          115,
          193,
          133,
          163,
          121,
          149,
          166,
          112,
          117,
          160,
          133,
          133,
          143,
          135,
          114,
          180,
          131,
          258,
          120,
          235,
          151,
          136,
          136,
          126,
          120,
          121,
          149,
          130,
          123,
          125,
          122,
          129,
          116,
          124,
          150,
          165,
          103,
          92,
          102,
          130,
          145,
          141,
          185,
          147,
          121,
          134,
          110,
          134,
          168,
          149,
          112,
          124,
          116,
          125,
          166,
          127,
          111,
          125,
          125,
          140,
          126,
          134,
          100,
          122,
          131,
          120,
          138,
          148,
          146,
          122,
          135,
          133,
          112,
          154,
          127,
          164,
          130,
          114,
          131,
          136,
          124,
          87,
          145,
          118,
          139,
          134,
          132,
          242,
          92,
          117,
          118,
          146,
          140,
          138,
          126,
          149,
          87,
          134,
          144,
          123,
          116,
          135,
          165,
          191,
          124,
          133,
          128,
          115,
          122,
          120,
          158,
          127,
          147,
          166,
          118,
          136,
          146,
          121,
          119,
          92,
          null,
          118,
          131,
          85,
          124,
          122,
          130,
          290,
          117,
          157,
          117,
          132,
          120,
          119,
          102,
          117,
          146,
          143,
          126,
          105,
          282,
          109,
          113,
          117,
          157,
          134,
          122,
          121,
          119,
          112,
          136,
          145,
          117,
          131,
          115,
          134,
          157,
          103,
          130,
          132,
          147,
          163,
          189,
          302,
          124,
          111,
          151,
          135,
          160,
          118,
          124,
          112,
          186,
          133,
          146,
          133,
          114,
          130,
          156,
          118,
          127,
          166,
          128,
          156,
          121,
          124,
          151,
          134,
          106,
          171,
          123,
          127,
          141,
          153,
          130,
          119,
          142,
          173,
          92,
          123,
          135,
          133,
          137,
          124,
          122,
          127,
          152,
          124,
          158,
          112,
          120,
          117,
          149,
          138,
          133,
          120,
          120,
          125,
          202,
          153,
          120,
          110,
          123,
          119,
          135,
          110,
          130,
          121,
          130,
          160,
          121,
          121,
          144,
          151,
          87,
          117,
          118,
          113,
          134,
          145,
          130,
          147,
          106,
          119,
          135,
          116,
          113,
          116,
          114,
          123,
          118,
          133,
          121,
          129,
          121,
          103,
          148,
          127,
          120,
          132,
          131,
          165,
          136,
          136,
          111,
          154,
          146,
          120,
          119,
          169,
          129,
          171,
          86,
          122,
          129,
          146,
          111,
          112,
          144,
          115,
          121,
          164,
          127,
          139,
          143,
          117,
          124,
          177,
          145,
          131,
          142,
          121,
          138,
          121,
          165,
          98,
          142,
          173,
          110,
          135,
          139,
          125,
          111,
          127,
          122,
          128,
          136,
          119,
          128,
          116,
          123,
          160,
          142,
          111,
          110,
          133,
          146,
          160,
          178,
          142,
          118,
          114,
          119,
          227,
          126,
          131,
          129,
          225,
          138,
          131,
          122,
          147,
          116,
          117,
          166,
          123,
          121,
          146,
          138,
          148,
          153,
          143,
          153,
          176,
          118,
          145,
          270,
          118,
          113,
          100,
          133,
          133,
          147,
          141,
          131,
          191,
          143,
          136,
          136,
          118,
          120,
          117,
          127,
          138,
          145,
          154,
          133,
          86,
          189,
          141,
          134,
          157,
          135,
          136,
          116,
          119,
          110,
          145,
          118,
          121,
          116,
          133,
          135,
          113,
          121,
          170,
          87,
          151,
          121,
          120,
          135,
          120,
          162,
          117,
          123,
          174,
          110,
          118,
          136,
          92,
          118,
          115,
          131,
          121,
          145,
          133,
          137,
          118,
          130,
          134,
          120,
          125,
          125,
          130,
          158,
          188,
          119,
          155,
          125,
          146,
          136,
          158,
          121,
          116,
          126,
          121,
          116,
          180,
          85,
          150,
          136,
          118,
          118,
          133,
          161,
          157,
          121,
          127,
          121,
          127,
          114,
          120,
          124,
          118,
          131,
          135,
          131,
          126,
          135,
          131,
          135,
          154,
          122,
          156,
          150,
          181,
          134,
          116,
          113,
          136,
          111,
          137,
          111,
          132,
          138,
          132,
          125,
          141,
          118,
          129,
          145,
          137,
          113,
          138,
          156,
          133,
          118,
          135,
          121,
          122,
          154,
          120,
          124,
          120,
          128,
          123,
          109,
          110,
          117,
          115,
          135,
          123,
          124,
          120,
          134,
          151,
          180,
          150,
          150,
          145,
          103,
          133,
          126,
          133,
          135,
          139,
          133,
          112,
          125,
          144,
          136,
          113,
          116,
          121,
          175,
          247,
          153,
          142,
          118,
          129,
          154,
          140,
          137,
          148,
          170,
          153,
          118,
          118,
          157,
          132,
          113,
          146,
          131,
          152,
          130,
          144,
          113,
          140,
          130,
          117,
          122,
          85,
          131,
          145,
          130,
          125,
          115,
          110,
          103,
          138,
          109,
          120,
          136,
          136,
          147,
          118,
          127,
          144,
          155,
          131,
          129,
          145,
          130,
          142,
          125,
          135,
          120,
          121,
          149,
          120,
          122,
          160,
          133,
          142,
          106,
          119,
          133,
          113,
          144,
          171,
          150,
          118,
          131,
          133,
          115,
          118,
          142,
          130,
          124,
          246,
          139,
          132,
          117,
          92,
          127,
          126,
          248,
          123,
          123,
          125,
          170,
          119,
          112,
          186,
          230,
          142,
          97,
          111,
          110,
          136,
          127,
          146,
          87,
          193,
          125,
          121,
          114,
          116,
          128,
          120,
          125,
          126,
          136,
          157,
          147,
          158,
          136,
          136,
          158,
          129,
          238,
          122,
          112,
          87,
          166,
          135,
          112,
          133,
          111,
          112,
          118,
          111,
          121,
          122,
          138,
          155,
          145,
          121,
          123,
          118,
          140,
          123,
          141,
          119,
          119,
          118,
          118,
          127,
          119,
          121,
          114,
          121,
          115,
          125,
          111,
          117,
          138,
          127,
          129,
          148,
          131,
          162,
          121,
          144,
          136,
          113,
          118,
          117,
          110,
          109,
          135,
          124,
          133,
          113,
          132,
          153,
          136,
          171,
          123,
          118,
          192,
          147,
          121,
          133,
          117,
          118,
          134,
          128,
          140,
          133,
          228,
          119,
          125,
          149,
          133,
          120,
          112,
          121,
          101,
          149,
          169,
          131,
          120,
          163,
          130,
          149,
          130,
          128,
          133,
          122,
          136,
          120,
          117,
          112,
          118,
          109,
          123,
          144,
          148,
          117,
          119,
          121,
          145,
          115,
          136,
          119,
          129,
          118,
          147,
          111,
          128,
          121,
          143,
          149,
          138,
          128,
          127,
          127,
          132,
          110,
          121,
          183,
          121,
          131,
          138,
          120,
          145,
          146,
          121,
          146,
          172,
          134,
          174,
          125,
          117,
          149,
          153,
          123,
          124,
          373,
          136,
          116,
          145,
          165,
          121,
          125,
          153,
          135,
          116,
          112,
          110,
          119,
          158,
          127,
          118,
          138,
          154,
          146,
          143,
          124,
          123,
          135,
          158,
          132,
          130,
          105,
          146,
          132,
          151,
          135,
          102,
          null,
          134,
          127,
          143,
          119,
          92,
          140,
          97,
          180,
          133,
          164,
          103,
          145,
          148,
          161,
          124,
          111,
          119,
          182,
          112,
          162,
          118,
          127,
          126,
          112,
          110,
          128,
          163,
          138,
          152,
          174,
          118,
          122,
          117,
          121,
          111,
          129,
          115,
          193,
          144,
          136,
          128,
          141,
          87,
          110,
          123,
          183,
          142,
          149,
          196,
          147,
          131,
          124,
          118,
          127,
          113,
          112,
          113,
          166,
          125,
          117,
          144,
          152,
          122,
          131,
          150,
          283,
          113,
          137,
          147,
          152,
          123,
          152,
          172,
          104,
          133,
          115,
          133,
          118,
          149,
          187,
          118,
          122,
          124,
          148,
          140,
          144,
          141,
          184,
          101,
          147,
          110,
          120,
          129,
          126,
          137,
          null,
          145,
          134,
          125,
          127,
          118,
          148,
          125,
          133,
          111,
          130,
          115,
          120,
          141,
          132,
          165,
          102,
          259,
          147,
          102,
          113,
          118,
          133,
          124,
          132,
          122,
          117,
          129,
          121,
          123,
          180,
          152,
          193,
          143,
          140,
          119,
          162,
          125,
          118,
          157,
          110,
          118,
          238,
          135,
          138,
          137,
          164,
          146,
          120,
          125,
          118,
          110,
          87,
          242,
          137,
          121,
          119,
          154,
          112,
          131,
          98,
          134,
          146,
          121,
          181,
          144,
          134,
          178,
          137,
          126,
          122,
          110,
          138,
          133,
          169,
          143,
          87,
          119,
          195,
          118,
          120,
          127,
          135,
          180,
          115,
          111,
          120,
          117,
          109,
          182,
          120,
          120,
          87,
          172,
          127,
          185,
          124,
          183,
          127,
          171,
          145,
          184,
          144,
          146,
          142,
          127,
          133,
          129,
          131,
          119,
          142,
          136,
          133,
          140,
          138,
          165,
          246,
          111,
          133,
          132,
          121,
          125,
          167,
          120,
          133,
          119,
          117,
          108,
          149,
          132,
          103,
          100,
          128,
          122,
          121,
          132,
          123,
          118,
          97,
          141,
          152,
          null,
          123,
          149,
          128,
          126,
          140,
          133,
          99,
          129,
          160,
          121,
          134,
          357,
          118,
          138,
          127,
          131,
          136,
          119,
          137,
          118,
          135,
          117,
          126,
          135,
          284,
          136,
          97,
          135,
          113,
          97,
          138,
          122,
          140,
          106,
          100,
          150,
          135,
          136,
          121,
          167,
          128,
          137,
          146,
          331,
          107,
          141,
          183,
          111,
          264,
          143,
          295,
          null,
          133,
          130,
          205,
          123,
          196,
          134,
          146,
          143,
          119,
          127,
          110,
          117,
          127,
          159,
          127,
          151,
          116,
          111,
          127,
          137,
          167,
          118,
          102,
          99,
          145,
          135,
          null,
          112,
          118,
          125,
          166,
          146,
          111,
          118,
          120,
          127,
          146,
          124,
          136,
          111,
          99,
          121,
          124,
          106,
          114,
          null,
          240,
          122,
          173,
          122,
          144,
          149,
          123,
          120,
          109,
          117,
          141,
          null,
          110,
          112,
          110,
          132,
          133,
          117,
          167,
          131,
          123,
          155,
          171,
          122,
          115,
          111,
          133,
          92,
          168,
          108,
          117,
          110,
          119,
          119,
          111,
          98,
          118,
          131,
          124,
          154,
          119,
          121,
          110,
          98,
          100,
          121,
          121,
          148,
          134,
          126,
          135,
          149,
          118,
          125,
          141,
          127,
          130,
          129,
          175,
          140,
          119,
          121,
          129,
          106,
          113,
          132,
          160,
          138,
          138,
          139,
          158,
          116,
          135,
          118,
          116,
          129,
          157,
          117,
          155,
          120,
          118,
          121,
          162,
          133,
          123,
          139,
          201,
          129,
          156,
          87,
          113,
          167,
          138,
          134,
          142,
          110,
          120,
          131,
          128,
          134,
          229,
          130,
          103,
          124,
          152,
          129,
          138,
          121,
          133,
          134,
          127,
          130,
          156,
          132,
          117,
          119,
          135,
          143,
          130,
          133,
          null,
          112,
          124,
          133,
          163,
          133,
          133,
          132,
          121,
          118,
          129,
          119,
          294,
          123,
          127,
          128,
          135,
          117,
          111,
          135,
          148,
          121,
          127,
          120,
          128,
          144,
          159,
          155,
          168,
          146,
          158,
          151,
          127,
          126,
          127,
          92,
          111,
          103,
          125,
          117,
          129,
          160,
          102,
          148,
          153,
          142,
          128,
          230,
          141,
          109,
          154,
          118,
          121,
          118,
          114,
          183,
          128,
          136,
          123,
          143,
          120,
          126,
          213,
          111,
          118,
          120,
          158,
          234,
          118,
          113,
          165,
          110,
          165,
          119,
          119,
          126,
          120,
          133,
          128,
          155,
          142,
          123,
          143,
          111,
          120,
          124,
          117,
          124,
          134,
          121,
          137,
          109,
          120,
          205,
          127,
          136,
          118,
          121,
          119,
          148,
          119,
          110,
          151,
          126,
          124,
          129,
          105,
          194,
          111,
          111,
          129,
          129,
          135,
          125,
          124,
          254,
          122,
          126,
          123,
          373,
          118,
          187,
          135,
          244,
          146,
          133,
          147,
          135,
          125,
          171,
          120,
          133,
          123,
          134,
          134,
          146,
          120,
          144,
          102,
          143,
          106,
          143,
          130,
          130,
          135,
          137,
          119,
          122,
          120,
          114,
          188,
          109,
          92,
          118,
          127,
          117,
          110,
          148,
          121,
          87,
          112,
          119,
          148,
          155,
          132,
          121,
          170,
          151,
          152,
          118,
          143,
          198,
          111,
          133,
          130,
          132,
          170,
          145,
          128,
          167,
          128,
          151,
          143,
          167,
          144,
          134,
          73,
          140,
          119,
          97,
          131,
          121,
          145,
          122,
          135,
          118,
          148,
          137,
          118,
          145,
          98,
          147,
          100,
          118,
          134,
          123,
          121,
          135,
          130,
          141,
          122,
          137,
          125,
          142,
          141,
          127,
          112,
          146,
          102,
          121,
          162,
          124,
          136,
          133,
          135,
          118,
          125,
          122,
          150,
          132,
          125,
          125,
          118,
          131,
          102,
          122,
          144,
          131,
          119,
          124,
          128,
          113,
          110,
          126,
          119,
          125,
          85,
          99,
          137,
          138,
          138,
          149,
          136,
          117,
          177,
          128,
          176,
          136,
          125,
          102,
          87,
          152,
          146,
          118,
          123,
          125,
          116,
          121,
          193,
          116,
          170,
          146,
          141,
          126,
          136,
          118,
          251,
          159,
          186,
          154,
          135,
          121,
          118,
          127,
          133,
          212,
          136,
          118,
          142,
          112,
          111,
          126,
          113,
          124,
          122,
          153,
          145,
          140,
          130,
          121,
          133,
          132,
          111,
          128,
          122,
          118,
          117,
          125,
          122,
          121,
          130,
          139,
          153,
          151,
          104,
          123,
          150,
          141,
          122,
          116,
          137,
          97,
          120,
          137,
          135,
          126,
          146,
          145,
          120,
          123,
          135,
          186,
          134,
          129,
          114,
          128,
          122,
          168,
          87,
          111,
          150,
          137,
          128,
          135,
          148,
          109,
          135,
          109,
          110,
          87,
          149,
          122,
          119,
          147,
          113,
          126,
          147,
          185,
          127,
          127,
          131,
          117,
          118,
          141,
          138,
          118,
          136,
          127,
          132,
          109,
          162,
          115,
          123,
          137,
          123,
          121,
          146,
          118,
          121,
          131,
          132,
          86,
          131,
          121,
          115,
          119,
          121,
          154,
          126,
          129,
          123,
          118,
          128,
          123,
          146,
          110,
          120,
          135,
          166,
          129,
          115,
          145,
          130,
          110,
          148,
          118,
          118,
          144,
          160,
          132,
          135,
          110,
          115,
          228,
          120,
          118,
          143,
          122,
          115,
          145,
          124,
          128,
          123,
          245,
          105,
          120,
          124,
          120,
          134,
          146,
          112,
          162,
          144,
          158,
          167,
          97,
          106,
          103,
          124,
          118,
          146,
          136,
          169,
          122,
          111,
          110,
          124,
          120,
          121,
          164,
          136,
          154,
          110,
          146,
          235,
          144,
          120,
          127,
          118,
          153,
          136,
          180,
          129,
          112,
          133,
          113,
          133,
          116,
          119,
          114,
          118,
          106,
          106,
          87,
          126,
          157,
          144,
          111,
          133,
          144,
          119,
          107,
          152,
          146,
          133,
          136,
          124,
          120,
          146,
          123,
          152,
          129,
          131,
          127,
          140,
          143,
          116,
          132,
          146,
          125,
          135,
          135,
          138,
          242,
          154,
          149,
          121,
          168,
          120,
          157,
          126,
          124,
          135,
          119,
          119,
          121,
          117,
          128,
          128,
          121,
          205,
          124,
          131,
          111,
          118,
          127,
          135,
          118,
          121,
          124,
          113,
          185,
          136,
          119,
          150,
          118,
          87,
          169,
          116,
          138,
          129,
          126,
          118,
          131,
          133,
          192,
          119,
          135,
          116,
          147,
          126,
          151,
          127,
          128,
          123,
          117,
          118,
          116,
          135,
          118,
          119,
          149,
          127,
          155,
          106,
          149,
          130,
          151,
          142,
          133,
          151,
          147,
          123,
          119,
          140,
          118,
          109,
          134,
          164,
          139,
          143,
          134,
          169,
          131,
          158,
          131,
          116,
          126,
          142,
          120,
          126,
          87,
          131,
          133,
          147,
          99,
          145,
          119,
          135,
          158,
          118,
          126,
          120,
          112,
          127,
          120,
          155,
          154,
          113,
          null,
          120,
          135,
          143,
          124,
          118,
          172,
          128,
          124,
          111,
          118,
          129,
          null,
          120,
          114,
          124,
          122,
          133,
          102,
          113,
          120,
          122,
          116,
          135,
          132,
          174,
          125,
          136,
          144,
          144,
          129,
          124,
          118,
          121,
          159,
          125,
          156,
          130,
          135,
          129,
          128,
          133,
          124,
          120,
          88,
          110,
          135,
          145,
          118,
          140,
          136,
          119,
          131,
          115,
          146,
          119,
          120,
          120,
          141,
          120,
          120,
          113,
          110,
          145,
          117,
          146,
          138,
          134,
          110,
          148,
          137,
          130,
          257,
          119,
          135,
          123,
          146,
          99,
          255,
          121,
          145,
          120,
          131,
          122,
          131,
          122,
          122,
          103,
          117,
          109,
          177,
          125,
          112,
          133,
          112,
          129,
          110,
          124,
          110,
          127,
          147,
          224,
          129,
          115,
          120,
          133,
          102,
          97,
          119,
          155,
          152,
          146,
          51,
          178,
          140,
          126,
          113,
          121,
          141,
          122,
          135,
          133,
          151,
          113,
          145,
          117,
          142,
          138,
          129,
          122,
          153,
          151,
          116,
          112,
          137,
          121,
          127,
          138,
          152,
          158,
          168,
          143,
          125,
          111,
          258,
          120,
          111,
          120,
          130,
          87,
          137,
          125,
          124,
          112,
          148,
          140,
          128,
          131,
          282,
          162,
          140,
          115,
          134,
          109,
          141,
          125,
          141,
          122,
          146,
          126,
          202
         ]
        },
        {
         "boxpoints": "outliers",
         "name": "ELECTRIC",
         "type": "box",
         "x": [
          0,
          0,
          0,
          0,
          0,
          0,
          0,
          0,
          0,
          0,
          0,
          0,
          0,
          0,
          0,
          0,
          0,
          0,
          0,
          0,
          0,
          0,
          0,
          0,
          0,
          0,
          0,
          0,
          0,
          0,
          0,
          0,
          0,
          0,
          0,
          0,
          0,
          0,
          0,
          0,
          0,
          0,
          0,
          0,
          0,
          0,
          0,
          0,
          0,
          0,
          0,
          0,
          0,
          0,
          0,
          0,
          0,
          0,
          0,
          0,
          0,
          0,
          0,
          0,
          0,
          0,
          0,
          0,
          0,
          0,
          0,
          0,
          0,
          0,
          0,
          0,
          0,
          0,
          0,
          0,
          0,
          0,
          0,
          0,
          0,
          0,
          0,
          0,
          0,
          0,
          0,
          0,
          0,
          0,
          0,
          0,
          0,
          0,
          0,
          0,
          0,
          0,
          0,
          0,
          0,
          0,
          0,
          0,
          0,
          0,
          0,
          0,
          0,
          0,
          0,
          0,
          0,
          0,
          0,
          0,
          0,
          0,
          0,
          0,
          0,
          0,
          0,
          0,
          0,
          0,
          0,
          0,
          0,
          0,
          0,
          0,
          0,
          0,
          0,
          0,
          0,
          0,
          0,
          0,
          0,
          0,
          0,
          0,
          0,
          0,
          0,
          0,
          0,
          0,
          0,
          0,
          0,
          0,
          0,
          0,
          0,
          0,
          0,
          0,
          0,
          0,
          0,
          0,
          0,
          0,
          0,
          0,
          0,
          0,
          0,
          0,
          0,
          0,
          0,
          0,
          0,
          0,
          0,
          0,
          0,
          0,
          0,
          0,
          0,
          0,
          0,
          0,
          0,
          0,
          0,
          0,
          0,
          0,
          0,
          0,
          0,
          0,
          0,
          0,
          0,
          0,
          0,
          0,
          0,
          0,
          0,
          0,
          0,
          0,
          0,
          0,
          0,
          0,
          0,
          0,
          0,
          0,
          0,
          0,
          0,
          0,
          0,
          0,
          0,
          0,
          0,
          0,
          0,
          0,
          0,
          0,
          0,
          0,
          0,
          0,
          0,
          0,
          0,
          0,
          0,
          0,
          0,
          0,
          0,
          0,
          0,
          0,
          0,
          0,
          0,
          0,
          0,
          0,
          0,
          0,
          0,
          0,
          0,
          0,
          0,
          0,
          0,
          0,
          0,
          0,
          0,
          0,
          0,
          0,
          0,
          0,
          0,
          0,
          0,
          0,
          0,
          0,
          0,
          0,
          0,
          0,
          0,
          0,
          0,
          0,
          0,
          0,
          0,
          0,
          0,
          0,
          0,
          0,
          0,
          0,
          0,
          0,
          0,
          0,
          0,
          0,
          0,
          0,
          0,
          0,
          0,
          0,
          0,
          0,
          0,
          0,
          0,
          0,
          0,
          0,
          0,
          0,
          0,
          0,
          0,
          0,
          0,
          0,
          0,
          0,
          0,
          0,
          0,
          0,
          0,
          0,
          0,
          0,
          0,
          0,
          0,
          0,
          0,
          0,
          0,
          0,
          0,
          0,
          0,
          0,
          0,
          0,
          0,
          0,
          0,
          0,
          0,
          0,
          0,
          0,
          0,
          0,
          0,
          0,
          0,
          0,
          0,
          0,
          0,
          0,
          0,
          0,
          0,
          0,
          0,
          0,
          0,
          0,
          0,
          0,
          0,
          0,
          0,
          0,
          0,
          0,
          0,
          0,
          0,
          0,
          0,
          0,
          0,
          0,
          0,
          0,
          0,
          0,
          0,
          0,
          0,
          0,
          0,
          0,
          0,
          0,
          0,
          0,
          0,
          0,
          0,
          0,
          0,
          0,
          0,
          0,
          0,
          0,
          0,
          0,
          0,
          0,
          0,
          0,
          0,
          0,
          0,
          0,
          0,
          0,
          0,
          0,
          0,
          0,
          0,
          0,
          0,
          0,
          0,
          0,
          0,
          0,
          0,
          0,
          0,
          0,
          0,
          0,
          0,
          0,
          0,
          0,
          0,
          0,
          0,
          0,
          0,
          0,
          0,
          0,
          0,
          0,
          0,
          0,
          0,
          0,
          0,
          0,
          0,
          0,
          0,
          0,
          0,
          0,
          0,
          0,
          0,
          0,
          0,
          0,
          0,
          0,
          0,
          0,
          0,
          0,
          0,
          0,
          0,
          0,
          0,
          0,
          0,
          0,
          0,
          0,
          0,
          0,
          0,
          0,
          0,
          0,
          0,
          0,
          0,
          0,
          0,
          0
         ]
        },
        {
         "boxpoints": "outliers",
         "name": "PETROL/ELECTRIC",
         "type": "box",
         "x": [
          42,
          31,
          null,
          29,
          29,
          26,
          null,
          43,
          22,
          45,
          46,
          26,
          31,
          32,
          31,
          31,
          33,
          47,
          33,
          31,
          23,
          65,
          32,
          43,
          44,
          42,
          33,
          30,
          23,
          32,
          29,
          31,
          37,
          22,
          48,
          71,
          28,
          56,
          32,
          31,
          31,
          25,
          36,
          25,
          23,
          85,
          27,
          40,
          24,
          35,
          49,
          62,
          39,
          48,
          33,
          43,
          32,
          22,
          42,
          40,
          31,
          null,
          31,
          42,
          37,
          38,
          46,
          44,
          27,
          29,
          61,
          null,
          29,
          24,
          24,
          32,
          199,
          32,
          26,
          48,
          32,
          24,
          35,
          29,
          22,
          null,
          50,
          32,
          27,
          22,
          37,
          35,
          44,
          27,
          32,
          43,
          37,
          55,
          22,
          null,
          31,
          null,
          43,
          55,
          22,
          46,
          43,
          44,
          46,
          30,
          22,
          42,
          22,
          46,
          44,
          null,
          30,
          29,
          22,
          30,
          32,
          38,
          27,
          31,
          37,
          24,
          51,
          50,
          31,
          31,
          31,
          34,
          166,
          47,
          32,
          167,
          64,
          24,
          34,
          46,
          34,
          42,
          27,
          41,
          170,
          22,
          46,
          29,
          31,
          29,
          39,
          172,
          30,
          66,
          30,
          25,
          38,
          47,
          42,
          41,
          23,
          51,
          47,
          38,
          44,
          44,
          26,
          25,
          24,
          31,
          32,
          169,
          25,
          31,
          34,
          46,
          49,
          43,
          31,
          48,
          30,
          30,
          38,
          48,
          26,
          42,
          61,
          30,
          46,
          38,
          32,
          22,
          24,
          64,
          47,
          48,
          46,
          41,
          null,
          null,
          166,
          22,
          31,
          44,
          35,
          42,
          31,
          null,
          56,
          41,
          118,
          null,
          32,
          49,
          28,
          37,
          42,
          31,
          32,
          54,
          null,
          26,
          169,
          25,
          175,
          44,
          29,
          34,
          45,
          32,
          64,
          63,
          29,
          48,
          74,
          22,
          31,
          66,
          34,
          56,
          24,
          null,
          21,
          43,
          70,
          31,
          48,
          56,
          55,
          35,
          24,
          35,
          31,
          32,
          55,
          27,
          57,
          42,
          32,
          31,
          48,
          null,
          56,
          29,
          null,
          56,
          27,
          27,
          26,
          78,
          157,
          48,
          27,
          50,
          41,
          43,
          23,
          44,
          57,
          27,
          32,
          31,
          29,
          50,
          null,
          49,
          47,
          null,
          55,
          71,
          199,
          23,
          44,
          38,
          31,
          null,
          120,
          47,
          null,
          41,
          29,
          148,
          63,
          46,
          22,
          45,
          23,
          56,
          50,
          22,
          null,
          null,
          29,
          31,
          34,
          44,
          83,
          30,
          34,
          27,
          120,
          29,
          82,
          64,
          44,
          25,
          55,
          66,
          26,
          44,
          29,
          25,
          40,
          29,
          29,
          199,
          22,
          74,
          29,
          27,
          27,
          29,
          40,
          31,
          34,
          158,
          null,
          33,
          26,
          46,
          26,
          33,
          31,
          37,
          48,
          47,
          239,
          null,
          40,
          31,
          27,
          159,
          58,
          null,
          56,
          62,
          65,
          43,
          24,
          44,
          32,
          40,
          30,
          42,
          41,
          32,
          32,
          38,
          169,
          29,
          23,
          48,
          58,
          null,
          38,
          28,
          27,
          31,
          48,
          45,
          22,
          30,
          26,
          54,
          49
         ]
        },
        {
         "boxpoints": "outliers",
         "name": "LPG",
         "type": "box",
         "x": [
          106,
          113,
          109,
          126,
          146,
          115,
          115,
          108,
          122,
          119,
          119,
          115,
          119,
          124,
          122,
          130,
          115,
          138,
          115,
          115,
          108,
          117,
          130,
          127,
          106,
          145,
          108,
          110,
          108,
          108,
          114,
          106,
          115,
          108,
          139,
          107,
          114,
          131,
          160,
          124,
          146,
          129,
          115,
          115,
          130,
          115,
          119,
          145,
          109,
          115,
          146,
          139,
          124,
          109,
          109,
          127,
          110,
          115,
          119,
          128,
          108,
          137,
          127,
          115,
          123,
          108,
          122,
          128,
          161,
          128,
          128,
          128,
          109,
          115,
          130,
          114,
          114,
          null,
          109,
          126,
          120,
          106,
          142,
          null,
          106,
          106,
          114,
          130,
          115,
          115,
          114,
          116,
          109,
          130,
          127,
          119,
          119,
          115,
          130,
          145,
          119,
          109,
          130,
          129,
          115,
          119,
          121,
          109,
          120,
          114,
          119,
          null,
          null,
          109,
          null,
          114
         ]
        },
        {
         "boxpoints": "outliers",
         "name": "NATURALGAS",
         "type": "box",
         "x": [
          119,
          110,
          111,
          110,
          110
         ]
        },
        {
         "boxpoints": "outliers",
         "name": "DIESEL/ELECTRIC",
         "type": "box",
         "x": [
          28,
          38,
          34,
          51,
          47,
          55,
          49,
          49,
          51,
          50,
          null,
          52,
          46,
          50,
          23,
          34,
          null,
          48,
          50,
          23,
          48,
          55,
          50,
          23,
          28
         ]
        },
        {
         "boxpoints": "outliers",
         "name": "NG",
         "type": "box",
         "x": [
          102,
          101,
          105,
          101,
          101,
          107,
          103,
          109,
          102,
          103,
          134,
          106,
          111,
          102,
          101,
          113,
          101,
          138,
          111
         ]
        },
        {
         "boxpoints": "outliers",
         "name": "ETHANOL",
         "type": "box",
         "x": [
          211
         ]
        }
       ],
       "layout": {
        "annotations": [
         {
          "font": {
           "size": 12
          },
          "showarrow": false,
          "text": "Data Source: European Environment Agency, 2021",
          "x": 0,
          "xref": "paper",
          "y": 0,
          "yref": "paper"
         }
        ],
        "autosize": false,
        "height": 800,
        "hovermode": "x",
        "template": {
         "data": {
          "bar": [
           {
            "error_x": {
             "color": "#2a3f5f"
            },
            "error_y": {
             "color": "#2a3f5f"
            },
            "marker": {
             "line": {
              "color": "#E5ECF6",
              "width": 0.5
             },
             "pattern": {
              "fillmode": "overlay",
              "size": 10,
              "solidity": 0.2
             }
            },
            "type": "bar"
           }
          ],
          "barpolar": [
           {
            "marker": {
             "line": {
              "color": "#E5ECF6",
              "width": 0.5
             },
             "pattern": {
              "fillmode": "overlay",
              "size": 10,
              "solidity": 0.2
             }
            },
            "type": "barpolar"
           }
          ],
          "carpet": [
           {
            "aaxis": {
             "endlinecolor": "#2a3f5f",
             "gridcolor": "white",
             "linecolor": "white",
             "minorgridcolor": "white",
             "startlinecolor": "#2a3f5f"
            },
            "baxis": {
             "endlinecolor": "#2a3f5f",
             "gridcolor": "white",
             "linecolor": "white",
             "minorgridcolor": "white",
             "startlinecolor": "#2a3f5f"
            },
            "type": "carpet"
           }
          ],
          "choropleth": [
           {
            "colorbar": {
             "outlinewidth": 0,
             "ticks": ""
            },
            "type": "choropleth"
           }
          ],
          "contour": [
           {
            "colorbar": {
             "outlinewidth": 0,
             "ticks": ""
            },
            "colorscale": [
             [
              0,
              "#0d0887"
             ],
             [
              0.1111111111111111,
              "#46039f"
             ],
             [
              0.2222222222222222,
              "#7201a8"
             ],
             [
              0.3333333333333333,
              "#9c179e"
             ],
             [
              0.4444444444444444,
              "#bd3786"
             ],
             [
              0.5555555555555556,
              "#d8576b"
             ],
             [
              0.6666666666666666,
              "#ed7953"
             ],
             [
              0.7777777777777778,
              "#fb9f3a"
             ],
             [
              0.8888888888888888,
              "#fdca26"
             ],
             [
              1,
              "#f0f921"
             ]
            ],
            "type": "contour"
           }
          ],
          "contourcarpet": [
           {
            "colorbar": {
             "outlinewidth": 0,
             "ticks": ""
            },
            "type": "contourcarpet"
           }
          ],
          "heatmap": [
           {
            "colorbar": {
             "outlinewidth": 0,
             "ticks": ""
            },
            "colorscale": [
             [
              0,
              "#0d0887"
             ],
             [
              0.1111111111111111,
              "#46039f"
             ],
             [
              0.2222222222222222,
              "#7201a8"
             ],
             [
              0.3333333333333333,
              "#9c179e"
             ],
             [
              0.4444444444444444,
              "#bd3786"
             ],
             [
              0.5555555555555556,
              "#d8576b"
             ],
             [
              0.6666666666666666,
              "#ed7953"
             ],
             [
              0.7777777777777778,
              "#fb9f3a"
             ],
             [
              0.8888888888888888,
              "#fdca26"
             ],
             [
              1,
              "#f0f921"
             ]
            ],
            "type": "heatmap"
           }
          ],
          "heatmapgl": [
           {
            "colorbar": {
             "outlinewidth": 0,
             "ticks": ""
            },
            "colorscale": [
             [
              0,
              "#0d0887"
             ],
             [
              0.1111111111111111,
              "#46039f"
             ],
             [
              0.2222222222222222,
              "#7201a8"
             ],
             [
              0.3333333333333333,
              "#9c179e"
             ],
             [
              0.4444444444444444,
              "#bd3786"
             ],
             [
              0.5555555555555556,
              "#d8576b"
             ],
             [
              0.6666666666666666,
              "#ed7953"
             ],
             [
              0.7777777777777778,
              "#fb9f3a"
             ],
             [
              0.8888888888888888,
              "#fdca26"
             ],
             [
              1,
              "#f0f921"
             ]
            ],
            "type": "heatmapgl"
           }
          ],
          "histogram": [
           {
            "marker": {
             "pattern": {
              "fillmode": "overlay",
              "size": 10,
              "solidity": 0.2
             }
            },
            "type": "histogram"
           }
          ],
          "histogram2d": [
           {
            "colorbar": {
             "outlinewidth": 0,
             "ticks": ""
            },
            "colorscale": [
             [
              0,
              "#0d0887"
             ],
             [
              0.1111111111111111,
              "#46039f"
             ],
             [
              0.2222222222222222,
              "#7201a8"
             ],
             [
              0.3333333333333333,
              "#9c179e"
             ],
             [
              0.4444444444444444,
              "#bd3786"
             ],
             [
              0.5555555555555556,
              "#d8576b"
             ],
             [
              0.6666666666666666,
              "#ed7953"
             ],
             [
              0.7777777777777778,
              "#fb9f3a"
             ],
             [
              0.8888888888888888,
              "#fdca26"
             ],
             [
              1,
              "#f0f921"
             ]
            ],
            "type": "histogram2d"
           }
          ],
          "histogram2dcontour": [
           {
            "colorbar": {
             "outlinewidth": 0,
             "ticks": ""
            },
            "colorscale": [
             [
              0,
              "#0d0887"
             ],
             [
              0.1111111111111111,
              "#46039f"
             ],
             [
              0.2222222222222222,
              "#7201a8"
             ],
             [
              0.3333333333333333,
              "#9c179e"
             ],
             [
              0.4444444444444444,
              "#bd3786"
             ],
             [
              0.5555555555555556,
              "#d8576b"
             ],
             [
              0.6666666666666666,
              "#ed7953"
             ],
             [
              0.7777777777777778,
              "#fb9f3a"
             ],
             [
              0.8888888888888888,
              "#fdca26"
             ],
             [
              1,
              "#f0f921"
             ]
            ],
            "type": "histogram2dcontour"
           }
          ],
          "mesh3d": [
           {
            "colorbar": {
             "outlinewidth": 0,
             "ticks": ""
            },
            "type": "mesh3d"
           }
          ],
          "parcoords": [
           {
            "line": {
             "colorbar": {
              "outlinewidth": 0,
              "ticks": ""
             }
            },
            "type": "parcoords"
           }
          ],
          "pie": [
           {
            "automargin": true,
            "type": "pie"
           }
          ],
          "scatter": [
           {
            "fillpattern": {
             "fillmode": "overlay",
             "size": 10,
             "solidity": 0.2
            },
            "type": "scatter"
           }
          ],
          "scatter3d": [
           {
            "line": {
             "colorbar": {
              "outlinewidth": 0,
              "ticks": ""
             }
            },
            "marker": {
             "colorbar": {
              "outlinewidth": 0,
              "ticks": ""
             }
            },
            "type": "scatter3d"
           }
          ],
          "scattercarpet": [
           {
            "marker": {
             "colorbar": {
              "outlinewidth": 0,
              "ticks": ""
             }
            },
            "type": "scattercarpet"
           }
          ],
          "scattergeo": [
           {
            "marker": {
             "colorbar": {
              "outlinewidth": 0,
              "ticks": ""
             }
            },
            "type": "scattergeo"
           }
          ],
          "scattergl": [
           {
            "marker": {
             "colorbar": {
              "outlinewidth": 0,
              "ticks": ""
             }
            },
            "type": "scattergl"
           }
          ],
          "scattermapbox": [
           {
            "marker": {
             "colorbar": {
              "outlinewidth": 0,
              "ticks": ""
             }
            },
            "type": "scattermapbox"
           }
          ],
          "scatterpolar": [
           {
            "marker": {
             "colorbar": {
              "outlinewidth": 0,
              "ticks": ""
             }
            },
            "type": "scatterpolar"
           }
          ],
          "scatterpolargl": [
           {
            "marker": {
             "colorbar": {
              "outlinewidth": 0,
              "ticks": ""
             }
            },
            "type": "scatterpolargl"
           }
          ],
          "scatterternary": [
           {
            "marker": {
             "colorbar": {
              "outlinewidth": 0,
              "ticks": ""
             }
            },
            "type": "scatterternary"
           }
          ],
          "surface": [
           {
            "colorbar": {
             "outlinewidth": 0,
             "ticks": ""
            },
            "colorscale": [
             [
              0,
              "#0d0887"
             ],
             [
              0.1111111111111111,
              "#46039f"
             ],
             [
              0.2222222222222222,
              "#7201a8"
             ],
             [
              0.3333333333333333,
              "#9c179e"
             ],
             [
              0.4444444444444444,
              "#bd3786"
             ],
             [
              0.5555555555555556,
              "#d8576b"
             ],
             [
              0.6666666666666666,
              "#ed7953"
             ],
             [
              0.7777777777777778,
              "#fb9f3a"
             ],
             [
              0.8888888888888888,
              "#fdca26"
             ],
             [
              1,
              "#f0f921"
             ]
            ],
            "type": "surface"
           }
          ],
          "table": [
           {
            "cells": {
             "fill": {
              "color": "#EBF0F8"
             },
             "line": {
              "color": "white"
             }
            },
            "header": {
             "fill": {
              "color": "#C8D4E3"
             },
             "line": {
              "color": "white"
             }
            },
            "type": "table"
           }
          ]
         },
         "layout": {
          "annotationdefaults": {
           "arrowcolor": "#2a3f5f",
           "arrowhead": 0,
           "arrowwidth": 1
          },
          "autotypenumbers": "strict",
          "coloraxis": {
           "colorbar": {
            "outlinewidth": 0,
            "ticks": ""
           }
          },
          "colorscale": {
           "diverging": [
            [
             0,
             "#8e0152"
            ],
            [
             0.1,
             "#c51b7d"
            ],
            [
             0.2,
             "#de77ae"
            ],
            [
             0.3,
             "#f1b6da"
            ],
            [
             0.4,
             "#fde0ef"
            ],
            [
             0.5,
             "#f7f7f7"
            ],
            [
             0.6,
             "#e6f5d0"
            ],
            [
             0.7,
             "#b8e186"
            ],
            [
             0.8,
             "#7fbc41"
            ],
            [
             0.9,
             "#4d9221"
            ],
            [
             1,
             "#276419"
            ]
           ],
           "sequential": [
            [
             0,
             "#0d0887"
            ],
            [
             0.1111111111111111,
             "#46039f"
            ],
            [
             0.2222222222222222,
             "#7201a8"
            ],
            [
             0.3333333333333333,
             "#9c179e"
            ],
            [
             0.4444444444444444,
             "#bd3786"
            ],
            [
             0.5555555555555556,
             "#d8576b"
            ],
            [
             0.6666666666666666,
             "#ed7953"
            ],
            [
             0.7777777777777778,
             "#fb9f3a"
            ],
            [
             0.8888888888888888,
             "#fdca26"
            ],
            [
             1,
             "#f0f921"
            ]
           ],
           "sequentialminus": [
            [
             0,
             "#0d0887"
            ],
            [
             0.1111111111111111,
             "#46039f"
            ],
            [
             0.2222222222222222,
             "#7201a8"
            ],
            [
             0.3333333333333333,
             "#9c179e"
            ],
            [
             0.4444444444444444,
             "#bd3786"
            ],
            [
             0.5555555555555556,
             "#d8576b"
            ],
            [
             0.6666666666666666,
             "#ed7953"
            ],
            [
             0.7777777777777778,
             "#fb9f3a"
            ],
            [
             0.8888888888888888,
             "#fdca26"
            ],
            [
             1,
             "#f0f921"
            ]
           ]
          },
          "colorway": [
           "#636efa",
           "#EF553B",
           "#00cc96",
           "#ab63fa",
           "#FFA15A",
           "#19d3f3",
           "#FF6692",
           "#B6E880",
           "#FF97FF",
           "#FECB52"
          ],
          "font": {
           "color": "#2a3f5f"
          },
          "geo": {
           "bgcolor": "white",
           "lakecolor": "white",
           "landcolor": "#E5ECF6",
           "showlakes": true,
           "showland": true,
           "subunitcolor": "white"
          },
          "hoverlabel": {
           "align": "left"
          },
          "hovermode": "closest",
          "mapbox": {
           "style": "light"
          },
          "paper_bgcolor": "white",
          "plot_bgcolor": "#E5ECF6",
          "polar": {
           "angularaxis": {
            "gridcolor": "white",
            "linecolor": "white",
            "ticks": ""
           },
           "bgcolor": "#E5ECF6",
           "radialaxis": {
            "gridcolor": "white",
            "linecolor": "white",
            "ticks": ""
           }
          },
          "scene": {
           "xaxis": {
            "backgroundcolor": "#E5ECF6",
            "gridcolor": "white",
            "gridwidth": 2,
            "linecolor": "white",
            "showbackground": true,
            "ticks": "",
            "zerolinecolor": "white"
           },
           "yaxis": {
            "backgroundcolor": "#E5ECF6",
            "gridcolor": "white",
            "gridwidth": 2,
            "linecolor": "white",
            "showbackground": true,
            "ticks": "",
            "zerolinecolor": "white"
           },
           "zaxis": {
            "backgroundcolor": "#E5ECF6",
            "gridcolor": "white",
            "gridwidth": 2,
            "linecolor": "white",
            "showbackground": true,
            "ticks": "",
            "zerolinecolor": "white"
           }
          },
          "shapedefaults": {
           "line": {
            "color": "#2a3f5f"
           }
          },
          "ternary": {
           "aaxis": {
            "gridcolor": "white",
            "linecolor": "white",
            "ticks": ""
           },
           "baxis": {
            "gridcolor": "white",
            "linecolor": "white",
            "ticks": ""
           },
           "bgcolor": "#E5ECF6",
           "caxis": {
            "gridcolor": "white",
            "linecolor": "white",
            "ticks": ""
           }
          },
          "title": {
           "x": 0.05
          },
          "xaxis": {
           "automargin": true,
           "gridcolor": "white",
           "linecolor": "white",
           "ticks": "",
           "title": {
            "standoff": 15
           },
           "zerolinecolor": "white",
           "zerolinewidth": 2
          },
          "yaxis": {
           "automargin": true,
           "gridcolor": "white",
           "linecolor": "white",
           "ticks": "",
           "title": {
            "standoff": 15
           },
           "zerolinecolor": "white",
           "zerolinewidth": 2
          }
         }
        },
        "width": 1400,
        "xaxis": {
         "title": {
          "text": "Co2EmissionsWltp"
         }
        },
        "yaxis": {
         "tickangle": 45,
         "title": {
          "text": "FuelType"
         }
        }
       }
      }
     },
     "metadata": {},
     "output_type": "display_data"
    }
   ],
   "source": [
    "co2.viz.plot_fueltype_distribution(df)"
   ]
  },
  {
   "cell_type": "code",
   "execution_count": 15,
   "metadata": {},
   "outputs": [
    {
     "name": "stdout",
     "output_type": "stream",
     "text": [
      "<class 'pandas.core.frame.DataFrame'>\n",
      "RangeIndex: 5000 entries, 0 to 4999\n",
      "Data columns (total 23 columns):\n",
      " #   Column                            Non-Null Count  Dtype         \n",
      "---  ------                            --------------  -----         \n",
      " 0   ID                                5000 non-null   int64         \n",
      " 1   Country                           5000 non-null   object        \n",
      " 2   Pool                              4838 non-null   object        \n",
      " 3   ManufacturerName                  5000 non-null   object        \n",
      " 4   ManufNameOem                      5000 non-null   object        \n",
      " 5   Make                              5000 non-null   object        \n",
      " 6   CategoryOf                        5000 non-null   object        \n",
      " 7   MassRunningOrder                  5000 non-null   float64       \n",
      " 8   WltpTestMass                      4034 non-null   float64       \n",
      " 9   Co2EmissionsWltp                  4949 non-null   float64       \n",
      " 10  BaseWheel                         4990 non-null   float64       \n",
      " 11  AxleWidthSteering                 4214 non-null   float64       \n",
      " 12  FuelType                          5000 non-null   object        \n",
      " 13  FuelMode                          5000 non-null   object        \n",
      " 14  EngineCapacity                    4492 non-null   float64       \n",
      " 15  EnginePower                       4945 non-null   float64       \n",
      " 16  ElectricConsumption               788 non-null    float64       \n",
      " 17  InnovativeTechnology              2337 non-null   object        \n",
      " 18  InnovativeEmissionsReductionWltp  2195 non-null   float64       \n",
      " 19  RegistrationDate                  4485 non-null   datetime64[ns]\n",
      " 20  FuelConsumption                   2966 non-null   float64       \n",
      " 21  ElectricRange                     727 non-null    float64       \n",
      " 22  Month                             4485 non-null   float64       \n",
      "dtypes: datetime64[ns](1), float64(12), int64(1), object(9)\n",
      "memory usage: 898.6+ KB\n"
     ]
    }
   ],
   "source": [
    "df.info()"
   ]
  },
  {
   "cell_type": "code",
   "execution_count": 16,
   "metadata": {},
   "outputs": [],
   "source": [
    "import plotly.graph_objects as go\n",
    "import colorlover as cl\n",
    "\n",
    "\n",
    "def plot_popular_fueltype(manufacturers:Manufacturers, save=True, format='png'):\n",
    "    # Group by Pool and Make and sum the Counts for each group\n",
    "    grouped_df = manufacturers.data.groupby(['Pool', 'Make'])['Count'].sum().reset_index(name='Counts')\n",
    "\n",
    "    # Create a list of traces\n",
    "    traces = []\n",
    "    colors = cl.scales['12']['qual']['Paired']  # Get a list of 12 distinct colors\n",
    "    make_colors = {make: colors[i % len(colors)] for i, make in enumerate(grouped_df['Make'].unique())}  # Create a color map\n",
    "    \n",
    "    for make in grouped_df['Make'].unique():\n",
    "        df = grouped_df[grouped_df['Make'] == make]\n",
    "        traces.append(go.Bar(x=df['Pool'], y=df['Counts'], name=make, marker_color=make_colors[make]))\n",
    "\n",
    "    layout = go.Layout(barmode='stack', title=\"Répartition des types de carburants par marque/groupe automobile\")\n",
    "    fig = go.Figure(data=traces, layout=layout)\n",
    "    fig.show()\n",
    "\n",
    "    if save:\n",
    "        save_plotly_fig(fig, format)"
   ]
  },
  {
   "cell_type": "code",
   "execution_count": 17,
   "metadata": {},
   "outputs": [
    {
     "data": {
      "application/vnd.plotly.v1+json": {
       "config": {
        "plotlyServerURL": "https://plot.ly"
       },
       "data": [
        {
         "marker": {
          "color": "rgb(166,206,227)"
         },
         "name": "BMW",
         "type": "bar",
         "x": [
          "BMW"
         ],
         "y": [
          302
         ]
        },
        {
         "marker": {
          "color": "rgb(31,120,180)"
         },
         "name": "MINI",
         "type": "bar",
         "x": [
          "BMW"
         ],
         "y": [
          61
         ]
        },
        {
         "marker": {
          "color": "rgb(178,223,138)"
         },
         "name": "FORD",
         "type": "bar",
         "x": [
          "FORD"
         ],
         "y": [
          213
         ]
        },
        {
         "marker": {
          "color": "rgb(51,160,44)"
         },
         "name": "HONDA",
         "type": "bar",
         "x": [
          "HONDA-GROUP"
         ],
         "y": [
          21
         ]
        },
        {
         "marker": {
          "color": "rgb(251,154,153)"
         },
         "name": "HYUNDAI",
         "type": "bar",
         "x": [
          "HYUNDAI"
         ],
         "y": [
          213
         ]
        },
        {
         "marker": {
          "color": "rgb(227,26,28)"
         },
         "name": "KIA",
         "type": "bar",
         "x": [
          "KIA"
         ],
         "y": [
          216
         ]
        },
        {
         "marker": {
          "color": "rgb(253,191,111)"
         },
         "name": "LEXUS",
         "type": "bar",
         "x": [
          "MAZDA-SUBARU-SUZUKI-TOYOTA"
         ],
         "y": [
          13
         ]
        },
        {
         "marker": {
          "color": "rgb(255,127,0)"
         },
         "name": "MAZDA",
         "type": "bar",
         "x": [
          "MAZDA-SUBARU-SUZUKI-TOYOTA"
         ],
         "y": [
          52
         ]
        },
        {
         "marker": {
          "color": "rgb(202,178,214)"
         },
         "name": "SUZUKI",
         "type": "bar",
         "x": [
          "MAZDA-SUBARU-SUZUKI-TOYOTA"
         ],
         "y": [
          69
         ]
        },
        {
         "marker": {
          "color": "rgb(106,61,154)"
         },
         "name": "TOYOTA",
         "type": "bar",
         "x": [
          "MAZDA-SUBARU-SUZUKI-TOYOTA"
         ],
         "y": [
          298
         ]
        },
        {
         "marker": {
          "color": "rgb(255,255,153)"
         },
         "name": "MERCEDES-BENZ",
         "type": "bar",
         "x": [
          "MERCEDES-BENZ"
         ],
         "y": [
          248
         ]
        },
        {
         "marker": {
          "color": "rgb(177,89,40)"
         },
         "name": "SMART",
         "type": "bar",
         "x": [
          "MERCEDES-BENZ"
         ],
         "y": [
          18
         ]
        },
        {
         "marker": {
          "color": "rgb(166,206,227)"
         },
         "name": "DACIA",
         "type": "bar",
         "x": [
          "RENAULT-NISSAN-MITSUBISHI"
         ],
         "y": [
          216
         ]
        },
        {
         "marker": {
          "color": "rgb(31,120,180)"
         },
         "name": "MITSUBISHI",
         "type": "bar",
         "x": [
          "RENAULT-NISSAN-MITSUBISHI"
         ],
         "y": [
          31
         ]
        },
        {
         "marker": {
          "color": "rgb(178,223,138)"
         },
         "name": "NISSAN",
         "type": "bar",
         "x": [
          "RENAULT-NISSAN-MITSUBISHI"
         ],
         "y": [
          88
         ]
        },
        {
         "marker": {
          "color": "rgb(51,160,44)"
         },
         "name": "RENAULT",
         "type": "bar",
         "x": [
          "RENAULT-NISSAN-MITSUBISHI"
         ],
         "y": [
          337
         ]
        },
        {
         "marker": {
          "color": "rgb(251,154,153)"
         },
         "name": "ALFA ROMEO",
         "type": "bar",
         "x": [
          "STELLANTIS"
         ],
         "y": [
          10
         ]
        },
        {
         "marker": {
          "color": "rgb(227,26,28)"
         },
         "name": "CITROEN",
         "type": "bar",
         "x": [
          "STELLANTIS"
         ],
         "y": [
          224
         ]
        },
        {
         "marker": {
          "color": "rgb(253,191,111)"
         },
         "name": "DS",
         "type": "bar",
         "x": [
          "STELLANTIS"
         ],
         "y": [
          19
         ]
        },
        {
         "marker": {
          "color": "rgb(255,127,0)"
         },
         "name": "FIAT",
         "type": "bar",
         "x": [
          "STELLANTIS"
         ],
         "y": [
          215
         ]
        },
        {
         "marker": {
          "color": "rgb(202,178,214)"
         },
         "name": "JEEP",
         "type": "bar",
         "x": [
          "STELLANTIS"
         ],
         "y": [
          45
         ]
        },
        {
         "marker": {
          "color": "rgb(106,61,154)"
         },
         "name": "LANCIA",
         "type": "bar",
         "x": [
          "STELLANTIS"
         ],
         "y": [
          17
         ]
        },
        {
         "marker": {
          "color": "rgb(255,255,153)"
         },
         "name": "OPEL",
         "type": "bar",
         "x": [
          "STELLANTIS"
         ],
         "y": [
          189
         ]
        },
        {
         "marker": {
          "color": "rgb(177,89,40)"
         },
         "name": "PEUGEOT",
         "type": "bar",
         "x": [
          "STELLANTIS"
         ],
         "y": [
          335
         ]
        },
        {
         "marker": {
          "color": "rgb(166,206,227)"
         },
         "name": "JAGUAR",
         "type": "bar",
         "x": [
          "TATA-MOTORS"
         ],
         "y": [
          13
         ]
        },
        {
         "marker": {
          "color": "rgb(31,120,180)"
         },
         "name": "LAND ROVER",
         "type": "bar",
         "x": [
          "TATA-MOTORS"
         ],
         "y": [
          25
         ]
        },
        {
         "marker": {
          "color": "rgb(178,223,138)"
         },
         "name": "TESLA",
         "type": "bar",
         "x": [
          "TESLA"
         ],
         "y": [
          72
         ]
        },
        {
         "marker": {
          "color": "rgb(51,160,44)"
         },
         "name": "AUDI",
         "type": "bar",
         "x": [
          "VW-SAIC"
         ],
         "y": [
          212
         ]
        },
        {
         "marker": {
          "color": "rgb(251,154,153)"
         },
         "name": "CUPRA",
         "type": "bar",
         "x": [
          "VW-SAIC"
         ],
         "y": [
          31
         ]
        },
        {
         "marker": {
          "color": "rgb(227,26,28)"
         },
         "name": "MG",
         "type": "bar",
         "x": [
          "VW-SAIC"
         ],
         "y": [
          13
         ]
        },
        {
         "marker": {
          "color": "rgb(253,191,111)"
         },
         "name": "PORSCHE",
         "type": "bar",
         "x": [
          "VW-SAIC"
         ],
         "y": [
          24
         ]
        },
        {
         "marker": {
          "color": "rgb(255,127,0)"
         },
         "name": "SEAT",
         "type": "bar",
         "x": [
          "VW-SAIC"
         ],
         "y": [
          157
         ]
        },
        {
         "marker": {
          "color": "rgb(202,178,214)"
         },
         "name": "SKODA",
         "type": "bar",
         "x": [
          "VW-SAIC"
         ],
         "y": [
          238
         ]
        },
        {
         "marker": {
          "color": "rgb(106,61,154)"
         },
         "name": "VOLKSWAGEN",
         "type": "bar",
         "x": [
          "VW-SAIC"
         ],
         "y": [
          544
         ]
        },
        {
         "marker": {
          "color": "rgb(255,255,153)"
         },
         "name": "VOLKSWAGEN  VW",
         "type": "bar",
         "x": [
          "VW-SAIC"
         ],
         "y": [
          13
         ]
        },
        {
         "marker": {
          "color": "rgb(177,89,40)"
         },
         "name": "ŠKODA",
         "type": "bar",
         "x": [
          "VW-SAIC"
         ],
         "y": [
          16
         ]
        }
       ],
       "layout": {
        "barmode": "stack",
        "template": {
         "data": {
          "bar": [
           {
            "error_x": {
             "color": "#2a3f5f"
            },
            "error_y": {
             "color": "#2a3f5f"
            },
            "marker": {
             "line": {
              "color": "#E5ECF6",
              "width": 0.5
             },
             "pattern": {
              "fillmode": "overlay",
              "size": 10,
              "solidity": 0.2
             }
            },
            "type": "bar"
           }
          ],
          "barpolar": [
           {
            "marker": {
             "line": {
              "color": "#E5ECF6",
              "width": 0.5
             },
             "pattern": {
              "fillmode": "overlay",
              "size": 10,
              "solidity": 0.2
             }
            },
            "type": "barpolar"
           }
          ],
          "carpet": [
           {
            "aaxis": {
             "endlinecolor": "#2a3f5f",
             "gridcolor": "white",
             "linecolor": "white",
             "minorgridcolor": "white",
             "startlinecolor": "#2a3f5f"
            },
            "baxis": {
             "endlinecolor": "#2a3f5f",
             "gridcolor": "white",
             "linecolor": "white",
             "minorgridcolor": "white",
             "startlinecolor": "#2a3f5f"
            },
            "type": "carpet"
           }
          ],
          "choropleth": [
           {
            "colorbar": {
             "outlinewidth": 0,
             "ticks": ""
            },
            "type": "choropleth"
           }
          ],
          "contour": [
           {
            "colorbar": {
             "outlinewidth": 0,
             "ticks": ""
            },
            "colorscale": [
             [
              0,
              "#0d0887"
             ],
             [
              0.1111111111111111,
              "#46039f"
             ],
             [
              0.2222222222222222,
              "#7201a8"
             ],
             [
              0.3333333333333333,
              "#9c179e"
             ],
             [
              0.4444444444444444,
              "#bd3786"
             ],
             [
              0.5555555555555556,
              "#d8576b"
             ],
             [
              0.6666666666666666,
              "#ed7953"
             ],
             [
              0.7777777777777778,
              "#fb9f3a"
             ],
             [
              0.8888888888888888,
              "#fdca26"
             ],
             [
              1,
              "#f0f921"
             ]
            ],
            "type": "contour"
           }
          ],
          "contourcarpet": [
           {
            "colorbar": {
             "outlinewidth": 0,
             "ticks": ""
            },
            "type": "contourcarpet"
           }
          ],
          "heatmap": [
           {
            "colorbar": {
             "outlinewidth": 0,
             "ticks": ""
            },
            "colorscale": [
             [
              0,
              "#0d0887"
             ],
             [
              0.1111111111111111,
              "#46039f"
             ],
             [
              0.2222222222222222,
              "#7201a8"
             ],
             [
              0.3333333333333333,
              "#9c179e"
             ],
             [
              0.4444444444444444,
              "#bd3786"
             ],
             [
              0.5555555555555556,
              "#d8576b"
             ],
             [
              0.6666666666666666,
              "#ed7953"
             ],
             [
              0.7777777777777778,
              "#fb9f3a"
             ],
             [
              0.8888888888888888,
              "#fdca26"
             ],
             [
              1,
              "#f0f921"
             ]
            ],
            "type": "heatmap"
           }
          ],
          "heatmapgl": [
           {
            "colorbar": {
             "outlinewidth": 0,
             "ticks": ""
            },
            "colorscale": [
             [
              0,
              "#0d0887"
             ],
             [
              0.1111111111111111,
              "#46039f"
             ],
             [
              0.2222222222222222,
              "#7201a8"
             ],
             [
              0.3333333333333333,
              "#9c179e"
             ],
             [
              0.4444444444444444,
              "#bd3786"
             ],
             [
              0.5555555555555556,
              "#d8576b"
             ],
             [
              0.6666666666666666,
              "#ed7953"
             ],
             [
              0.7777777777777778,
              "#fb9f3a"
             ],
             [
              0.8888888888888888,
              "#fdca26"
             ],
             [
              1,
              "#f0f921"
             ]
            ],
            "type": "heatmapgl"
           }
          ],
          "histogram": [
           {
            "marker": {
             "pattern": {
              "fillmode": "overlay",
              "size": 10,
              "solidity": 0.2
             }
            },
            "type": "histogram"
           }
          ],
          "histogram2d": [
           {
            "colorbar": {
             "outlinewidth": 0,
             "ticks": ""
            },
            "colorscale": [
             [
              0,
              "#0d0887"
             ],
             [
              0.1111111111111111,
              "#46039f"
             ],
             [
              0.2222222222222222,
              "#7201a8"
             ],
             [
              0.3333333333333333,
              "#9c179e"
             ],
             [
              0.4444444444444444,
              "#bd3786"
             ],
             [
              0.5555555555555556,
              "#d8576b"
             ],
             [
              0.6666666666666666,
              "#ed7953"
             ],
             [
              0.7777777777777778,
              "#fb9f3a"
             ],
             [
              0.8888888888888888,
              "#fdca26"
             ],
             [
              1,
              "#f0f921"
             ]
            ],
            "type": "histogram2d"
           }
          ],
          "histogram2dcontour": [
           {
            "colorbar": {
             "outlinewidth": 0,
             "ticks": ""
            },
            "colorscale": [
             [
              0,
              "#0d0887"
             ],
             [
              0.1111111111111111,
              "#46039f"
             ],
             [
              0.2222222222222222,
              "#7201a8"
             ],
             [
              0.3333333333333333,
              "#9c179e"
             ],
             [
              0.4444444444444444,
              "#bd3786"
             ],
             [
              0.5555555555555556,
              "#d8576b"
             ],
             [
              0.6666666666666666,
              "#ed7953"
             ],
             [
              0.7777777777777778,
              "#fb9f3a"
             ],
             [
              0.8888888888888888,
              "#fdca26"
             ],
             [
              1,
              "#f0f921"
             ]
            ],
            "type": "histogram2dcontour"
           }
          ],
          "mesh3d": [
           {
            "colorbar": {
             "outlinewidth": 0,
             "ticks": ""
            },
            "type": "mesh3d"
           }
          ],
          "parcoords": [
           {
            "line": {
             "colorbar": {
              "outlinewidth": 0,
              "ticks": ""
             }
            },
            "type": "parcoords"
           }
          ],
          "pie": [
           {
            "automargin": true,
            "type": "pie"
           }
          ],
          "scatter": [
           {
            "fillpattern": {
             "fillmode": "overlay",
             "size": 10,
             "solidity": 0.2
            },
            "type": "scatter"
           }
          ],
          "scatter3d": [
           {
            "line": {
             "colorbar": {
              "outlinewidth": 0,
              "ticks": ""
             }
            },
            "marker": {
             "colorbar": {
              "outlinewidth": 0,
              "ticks": ""
             }
            },
            "type": "scatter3d"
           }
          ],
          "scattercarpet": [
           {
            "marker": {
             "colorbar": {
              "outlinewidth": 0,
              "ticks": ""
             }
            },
            "type": "scattercarpet"
           }
          ],
          "scattergeo": [
           {
            "marker": {
             "colorbar": {
              "outlinewidth": 0,
              "ticks": ""
             }
            },
            "type": "scattergeo"
           }
          ],
          "scattergl": [
           {
            "marker": {
             "colorbar": {
              "outlinewidth": 0,
              "ticks": ""
             }
            },
            "type": "scattergl"
           }
          ],
          "scattermapbox": [
           {
            "marker": {
             "colorbar": {
              "outlinewidth": 0,
              "ticks": ""
             }
            },
            "type": "scattermapbox"
           }
          ],
          "scatterpolar": [
           {
            "marker": {
             "colorbar": {
              "outlinewidth": 0,
              "ticks": ""
             }
            },
            "type": "scatterpolar"
           }
          ],
          "scatterpolargl": [
           {
            "marker": {
             "colorbar": {
              "outlinewidth": 0,
              "ticks": ""
             }
            },
            "type": "scatterpolargl"
           }
          ],
          "scatterternary": [
           {
            "marker": {
             "colorbar": {
              "outlinewidth": 0,
              "ticks": ""
             }
            },
            "type": "scatterternary"
           }
          ],
          "surface": [
           {
            "colorbar": {
             "outlinewidth": 0,
             "ticks": ""
            },
            "colorscale": [
             [
              0,
              "#0d0887"
             ],
             [
              0.1111111111111111,
              "#46039f"
             ],
             [
              0.2222222222222222,
              "#7201a8"
             ],
             [
              0.3333333333333333,
              "#9c179e"
             ],
             [
              0.4444444444444444,
              "#bd3786"
             ],
             [
              0.5555555555555556,
              "#d8576b"
             ],
             [
              0.6666666666666666,
              "#ed7953"
             ],
             [
              0.7777777777777778,
              "#fb9f3a"
             ],
             [
              0.8888888888888888,
              "#fdca26"
             ],
             [
              1,
              "#f0f921"
             ]
            ],
            "type": "surface"
           }
          ],
          "table": [
           {
            "cells": {
             "fill": {
              "color": "#EBF0F8"
             },
             "line": {
              "color": "white"
             }
            },
            "header": {
             "fill": {
              "color": "#C8D4E3"
             },
             "line": {
              "color": "white"
             }
            },
            "type": "table"
           }
          ]
         },
         "layout": {
          "annotationdefaults": {
           "arrowcolor": "#2a3f5f",
           "arrowhead": 0,
           "arrowwidth": 1
          },
          "autotypenumbers": "strict",
          "coloraxis": {
           "colorbar": {
            "outlinewidth": 0,
            "ticks": ""
           }
          },
          "colorscale": {
           "diverging": [
            [
             0,
             "#8e0152"
            ],
            [
             0.1,
             "#c51b7d"
            ],
            [
             0.2,
             "#de77ae"
            ],
            [
             0.3,
             "#f1b6da"
            ],
            [
             0.4,
             "#fde0ef"
            ],
            [
             0.5,
             "#f7f7f7"
            ],
            [
             0.6,
             "#e6f5d0"
            ],
            [
             0.7,
             "#b8e186"
            ],
            [
             0.8,
             "#7fbc41"
            ],
            [
             0.9,
             "#4d9221"
            ],
            [
             1,
             "#276419"
            ]
           ],
           "sequential": [
            [
             0,
             "#0d0887"
            ],
            [
             0.1111111111111111,
             "#46039f"
            ],
            [
             0.2222222222222222,
             "#7201a8"
            ],
            [
             0.3333333333333333,
             "#9c179e"
            ],
            [
             0.4444444444444444,
             "#bd3786"
            ],
            [
             0.5555555555555556,
             "#d8576b"
            ],
            [
             0.6666666666666666,
             "#ed7953"
            ],
            [
             0.7777777777777778,
             "#fb9f3a"
            ],
            [
             0.8888888888888888,
             "#fdca26"
            ],
            [
             1,
             "#f0f921"
            ]
           ],
           "sequentialminus": [
            [
             0,
             "#0d0887"
            ],
            [
             0.1111111111111111,
             "#46039f"
            ],
            [
             0.2222222222222222,
             "#7201a8"
            ],
            [
             0.3333333333333333,
             "#9c179e"
            ],
            [
             0.4444444444444444,
             "#bd3786"
            ],
            [
             0.5555555555555556,
             "#d8576b"
            ],
            [
             0.6666666666666666,
             "#ed7953"
            ],
            [
             0.7777777777777778,
             "#fb9f3a"
            ],
            [
             0.8888888888888888,
             "#fdca26"
            ],
            [
             1,
             "#f0f921"
            ]
           ]
          },
          "colorway": [
           "#636efa",
           "#EF553B",
           "#00cc96",
           "#ab63fa",
           "#FFA15A",
           "#19d3f3",
           "#FF6692",
           "#B6E880",
           "#FF97FF",
           "#FECB52"
          ],
          "font": {
           "color": "#2a3f5f"
          },
          "geo": {
           "bgcolor": "white",
           "lakecolor": "white",
           "landcolor": "#E5ECF6",
           "showlakes": true,
           "showland": true,
           "subunitcolor": "white"
          },
          "hoverlabel": {
           "align": "left"
          },
          "hovermode": "closest",
          "mapbox": {
           "style": "light"
          },
          "paper_bgcolor": "white",
          "plot_bgcolor": "#E5ECF6",
          "polar": {
           "angularaxis": {
            "gridcolor": "white",
            "linecolor": "white",
            "ticks": ""
           },
           "bgcolor": "#E5ECF6",
           "radialaxis": {
            "gridcolor": "white",
            "linecolor": "white",
            "ticks": ""
           }
          },
          "scene": {
           "xaxis": {
            "backgroundcolor": "#E5ECF6",
            "gridcolor": "white",
            "gridwidth": 2,
            "linecolor": "white",
            "showbackground": true,
            "ticks": "",
            "zerolinecolor": "white"
           },
           "yaxis": {
            "backgroundcolor": "#E5ECF6",
            "gridcolor": "white",
            "gridwidth": 2,
            "linecolor": "white",
            "showbackground": true,
            "ticks": "",
            "zerolinecolor": "white"
           },
           "zaxis": {
            "backgroundcolor": "#E5ECF6",
            "gridcolor": "white",
            "gridwidth": 2,
            "linecolor": "white",
            "showbackground": true,
            "ticks": "",
            "zerolinecolor": "white"
           }
          },
          "shapedefaults": {
           "line": {
            "color": "#2a3f5f"
           }
          },
          "ternary": {
           "aaxis": {
            "gridcolor": "white",
            "linecolor": "white",
            "ticks": ""
           },
           "baxis": {
            "gridcolor": "white",
            "linecolor": "white",
            "ticks": ""
           },
           "bgcolor": "#E5ECF6",
           "caxis": {
            "gridcolor": "white",
            "linecolor": "white",
            "ticks": ""
           }
          },
          "title": {
           "x": 0.05
          },
          "xaxis": {
           "automargin": true,
           "gridcolor": "white",
           "linecolor": "white",
           "ticks": "",
           "title": {
            "standoff": 15
           },
           "zerolinecolor": "white",
           "zerolinewidth": 2
          },
          "yaxis": {
           "automargin": true,
           "gridcolor": "white",
           "linecolor": "white",
           "ticks": "",
           "title": {
            "standoff": 15
           },
           "zerolinecolor": "white",
           "zerolinewidth": 2
          }
         }
        },
        "title": {
         "text": "Number of Vehicles for Each Make in Each Pool"
        }
       }
      }
     },
     "metadata": {},
     "output_type": "display_data"
    }
   ],
   "source": [
    "import plotly.graph_objects as go\n",
    "plot_popular_fueltype(makers,save=False)\n"
   ]
  }
 ],
 "metadata": {
  "kernelspec": {
   "display_name": "co2",
   "language": "python",
   "name": "python3"
  },
  "language_info": {
   "codemirror_mode": {
    "name": "ipython",
    "version": 3
   },
   "file_extension": ".py",
   "mimetype": "text/x-python",
   "name": "python",
   "nbconvert_exporter": "python",
   "pygments_lexer": "ipython3",
   "version": "3.9.18"
  }
 },
 "nbformat": 4,
 "nbformat_minor": 2
}

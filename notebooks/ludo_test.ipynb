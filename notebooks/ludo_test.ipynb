{
 "cells": [
  {
   "cell_type": "markdown",
   "metadata": {},
   "source": [
    "# Test de auto_co2\n"
   ]
  },
  {
   "cell_type": "code",
   "execution_count": 1,
   "metadata": {},
   "outputs": [],
   "source": [
    "import os\n",
    "import numpy as np\n",
    "import pandas as pd\n",
    "import zipfile\n",
    "import datetime\n",
    "import datetime\n",
    "from xgboost import XGBClassifier, XGBRegressor\n",
    "import kaggle\n",
    "import pickle\n",
    "from tensorflow.keras.models import Model\n"
   ]
  },
  {
   "cell_type": "code",
   "execution_count": 3,
   "metadata": {},
   "outputs": [
    {
     "data": {
      "text/plain": [
       "'automobile-co2-emissions-eu-2021'"
      ]
     },
     "execution_count": 3,
     "metadata": {},
     "output_type": "execute_result"
    }
   ],
   "source": [
    "dataset_id = 'matthieulenozach/automobile-co2-emissions-eu-2021'\n",
    "dataset_name = dataset_id.split('/')[-1]\n",
    "dataset_name"
   ]
  },
  {
   "cell_type": "code",
   "execution_count": 5,
   "metadata": {},
   "outputs": [
    {
     "data": {
      "text/plain": [
       "['matthieulenozach', 'automobile-co2-emissions-eu-2021']"
      ]
     },
     "execution_count": 5,
     "metadata": {},
     "output_type": "execute_result"
    }
   ],
   "source": [
    "dataset_id.split('/')"
   ]
  },
  {
   "cell_type": "code",
   "execution_count": 7,
   "metadata": {},
   "outputs": [
    {
     "name": "stdout",
     "output_type": "stream",
     "text": [
      "None\n"
     ]
    }
   ],
   "source": [
    "print(os.environ.get('KAGGLE_CONFIG_DIR'))"
   ]
  },
  {
   "cell_type": "markdown",
   "metadata": {},
   "source": []
  },
  {
   "cell_type": "code",
   "execution_count": 70,
   "metadata": {},
   "outputs": [
    {
     "data": {
      "text/plain": [
       "'C:/Users/ludov/.kaggle'"
      ]
     },
     "execution_count": 70,
     "metadata": {},
     "output_type": "execute_result"
    }
   ],
   "source": [
    "os.path.dirname(auth_file_path)"
   ]
  },
  {
   "cell_type": "code",
   "execution_count": 71,
   "metadata": {},
   "outputs": [],
   "source": [
    "os.environ['KAGGLE_CONFIG_DIR'] = os.path.dirname(auth_file_path)"
   ]
  },
  {
   "cell_type": "code",
   "execution_count": 72,
   "metadata": {},
   "outputs": [
    {
     "data": {
      "text/plain": [
       "'C:/Users/ludov/.kaggle'"
      ]
     },
     "execution_count": 72,
     "metadata": {},
     "output_type": "execute_result"
    }
   ],
   "source": [
    "os.environ.get('KAGGLE_CONFIG_DIR')\n"
   ]
  },
  {
   "cell_type": "code",
   "execution_count": 3,
   "metadata": {},
   "outputs": [],
   "source": [
    "# Cellule qui a permit le connect kaggle ?\n",
    "from kaggle.api.kaggle_api_extended import KaggleApi\n",
    "api = KaggleApi()\n",
    "api.authenticate()"
   ]
  },
  {
   "cell_type": "code",
   "execution_count": 5,
   "metadata": {},
   "outputs": [
    {
     "data": {
      "text/plain": [
       "0"
      ]
     },
     "execution_count": 5,
     "metadata": {},
     "output_type": "execute_result"
    }
   ],
   "source": [
    "filepath='../data/raw'\n",
    "auth_file_path = \"C:/Users/ludov/.kaggle/\"\n",
    "dataset_id = 'matthieulenozach/automobile-co2-emissions-eu-2021'\n",
    "\n",
    "# Save the original KAGGLE_CONFIG_DIR\n",
    "original_kaggle_config_dir = os.environ.get('KAGGLE_CONFIG_DIR')\n",
    "# Point KAGGLE_CONFIG_DIR to the directory containing kaggle.json\n",
    "os.environ['KAGGLE_CONFIG_DIR'] = os.path.dirname(auth_file_path)\n",
    "# download the dataset specified by its {dataset_id} to the the path {filepath}\n",
    "os.system(f'kaggle datasets download -d {dataset_id} -p {filepath}')"
   ]
  },
  {
   "cell_type": "code",
   "execution_count": 6,
   "metadata": {},
   "outputs": [],
   "source": [
    "dataset_name=\"automobile-co2-emissions-eu-2021\"\n",
    "filepath='../data/raw'\n",
    "with zipfile.ZipFile(f'{filepath}/{dataset_name}.zip', 'r') as zip_ref:\n",
    "    zip_ref.extractall(filepath)\n",
    "\n",
    "# filename = zip_ref.namelist()[0] \n",
    "# data = pd.read_csv(f'{filepath}/{filename}', low_memory=False)"
   ]
  },
  {
   "cell_type": "code",
   "execution_count": 9,
   "metadata": {},
   "outputs": [
    {
     "data": {
      "text/plain": [
       "['auto_co2_eur_21_raw.csv']"
      ]
     },
     "execution_count": 9,
     "metadata": {},
     "output_type": "execute_result"
    }
   ],
   "source": [
    "zip_ref.namelist()      # ['auto_co2_eur_21_raw.csv']\n",
    "zip_ref.namelist()[0]   # 'auto_co2_eur_21_raw.csv'\n",
    "\n",
    "\n"
   ]
  },
  {
   "cell_type": "code",
   "execution_count": 11,
   "metadata": {},
   "outputs": [],
   "source": [
    "import numpy as np\n",
    "import pandas as pd\n",
    "import os\n",
    "import datetime\n",
    "#from datetime import datetime\n",
    "import io\n",
    "import re\n",
    "import plotly.graph_objects as go\n",
    "from sklearn.metrics import (classification_report, mean_squared_error,\n",
    "                             mean_absolute_error, r2_score)"
   ]
  },
  {
   "cell_type": "code",
   "execution_count": 13,
   "metadata": {},
   "outputs": [],
   "source": [
    "header_color='steelblue'\n",
    "odd_row_color='aliceblue'\n",
    "even_row_color='white'\n",
    "styles = [\n",
    "        {'selector': 'th', 'props': [('background-color', header_color), ('color', 'white')]},  # HEADER\n",
    "        {'selector': 'tr:nth-of-type(odd)', 'props': [('background-color', odd_row_color)]},  # ODD ROWS\n",
    "        {'selector': 'tr:nth-of-type(even)', 'props': [('background-color', even_row_color)]}  # EVEN ROWS\n",
    "    ]"
   ]
  },
  {
   "cell_type": "code",
   "execution_count": 14,
   "metadata": {},
   "outputs": [
    {
     "data": {
      "text/plain": [
       "[{'selector': 'th',\n",
       "  'props': [('background-color', 'steelblue'), ('color', 'white')]},\n",
       " {'selector': 'tr:nth-of-type(odd)',\n",
       "  'props': [('background-color', 'aliceblue')]},\n",
       " {'selector': 'tr:nth-of-type(even)',\n",
       "  'props': [('background-color', 'white')]}]"
      ]
     },
     "execution_count": 14,
     "metadata": {},
     "output_type": "execute_result"
    }
   ],
   "source": [
    "styles"
   ]
  },
  {
   "cell_type": "code",
   "execution_count": null,
   "metadata": {},
   "outputs": [],
   "source": [
    "def load_plotly_json(filename):\n",
    "    \"\"\"\n",
    "    Charghe la figure Plotly depuis un JSON\n",
    "    Retourne un plotly.graph_objs._figure.Figure\n",
    "    \"\"\"\n",
    "\n",
    "    output_dir = \"../output/figures/\"\n",
    "\n",
    "    with open(f\"{output_dir}{filename}\", \"r\") as f:\n",
    "        fig_dict = json.load(f)     \n",
    "\n",
    "    return go.Figure(fig_dict)      # transforms a dictionary into a Plotly figure\n"
   ]
  }
 ],
 "metadata": {
  "kernelspec": {
   "display_name": "env_ML",
   "language": "python",
   "name": "python3"
  },
  "language_info": {
   "codemirror_mode": {
    "name": "ipython",
    "version": 3
   },
   "file_extension": ".py",
   "mimetype": "text/x-python",
   "name": "python",
   "nbconvert_exporter": "python",
   "pygments_lexer": "ipython3",
   "version": "3.9.18"
  }
 },
 "nbformat": 4,
 "nbformat_minor": 2
}

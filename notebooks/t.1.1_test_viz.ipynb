{
 "cells": [
  {
   "cell_type": "code",
   "execution_count": 1,
   "metadata": {},
   "outputs": [
    {
     "name": "stdout",
     "output_type": "stream",
     "text": [
      "Warning: Your Kaggle API key is readable by other users on this system! To fix this, you can run 'chmod 600 /home/mln/.kaggle/kaggle.json'\n"
     ]
    },
    {
     "name": "stderr",
     "output_type": "stream",
     "text": [
      "2024-01-16 17:07:51.465908: I tensorflow/core/util/port.cc:113] oneDNN custom operations are on. You may see slightly different numerical results due to floating-point round-off errors from different computation orders. To turn them off, set the environment variable `TF_ENABLE_ONEDNN_OPTS=0`.\n",
      "2024-01-16 17:07:51.483204: I tensorflow/core/platform/cpu_feature_guard.cc:182] This TensorFlow binary is optimized to use available CPU instructions in performance-critical operations.\n",
      "To enable the following instructions: SSE4.1 SSE4.2 AVX AVX2 AVX512F AVX512_VNNI AVX512_BF16 FMA, in other operations, rebuild TensorFlow with the appropriate compiler flags.\n"
     ]
    },
    {
     "data": {
      "text/plain": [
       "<module 'auto_co2' from '/home/mln/GIT/car-co2-prediction_pre-release/src/auto_co2/__init__.py'>"
      ]
     },
     "execution_count": 1,
     "metadata": {},
     "output_type": "execute_result"
    }
   ],
   "source": [
    "import sys\n",
    "sys.path.append('../src/')\n",
    "import pandas as pd\n",
    "import kaggle\n",
    "import auto_co2 as co2\n",
    "from auto_co2.agg import CountryDataAggregator, ManufacturerDataAggregator, CarDataAggregator\n",
    "import importlib\n",
    "importlib.reload(co2)\n"
   ]
  },
  {
   "cell_type": "code",
   "execution_count": 2,
   "metadata": {},
   "outputs": [
    {
     "name": "stdout",
     "output_type": "stream",
     "text": [
      "Incomplete rows dropped:256\n"
     ]
    }
   ],
   "source": [
    "df = pd.read_csv('../data/sample/co2_raw_sample.csv')\n",
    "df = co2.data.dataviz_preprocess(df)"
   ]
  },
  {
   "cell_type": "code",
   "execution_count": 3,
   "metadata": {},
   "outputs": [
    {
     "data": {
      "text/html": [
       "<style type=\"text/css\">\n",
       "#T_c853b th {\n",
       "  background-color: steelblue;\n",
       "  color: white;\n",
       "}\n",
       "#T_c853b tr:nth-of-type(odd) {\n",
       "  background-color: aliceblue;\n",
       "}\n",
       "#T_c853b tr:nth-of-type(even) {\n",
       "  background-color: white;\n",
       "}\n",
       "</style>\n",
       "<table id=\"T_c853b\">\n",
       "  <thead>\n",
       "    <tr>\n",
       "      <th class=\"blank level0\" >&nbsp;</th>\n",
       "      <th id=\"T_c853b_level0_col0\" class=\"col_heading level0 col0\" >Colonne</th>\n",
       "      <th id=\"T_c853b_level0_col1\" class=\"col_heading level0 col1\" >count</th>\n",
       "      <th id=\"T_c853b_level0_col2\" class=\"col_heading level0 col2\" >mean</th>\n",
       "      <th id=\"T_c853b_level0_col3\" class=\"col_heading level0 col3\" >std</th>\n",
       "      <th id=\"T_c853b_level0_col4\" class=\"col_heading level0 col4\" >min</th>\n",
       "      <th id=\"T_c853b_level0_col5\" class=\"col_heading level0 col5\" >25%</th>\n",
       "      <th id=\"T_c853b_level0_col6\" class=\"col_heading level0 col6\" >50%</th>\n",
       "      <th id=\"T_c853b_level0_col7\" class=\"col_heading level0 col7\" >75%</th>\n",
       "      <th id=\"T_c853b_level0_col8\" class=\"col_heading level0 col8\" >max</th>\n",
       "    </tr>\n",
       "  </thead>\n",
       "  <tbody>\n",
       "    <tr>\n",
       "      <th id=\"T_c853b_level0_row0\" class=\"row_heading level0 row0\" >0</th>\n",
       "      <td id=\"T_c853b_row0_col0\" class=\"data row0 col0\" >ID</td>\n",
       "      <td id=\"T_c853b_row0_col1\" class=\"data row0 col1\" >4744.000</td>\n",
       "      <td id=\"T_c853b_row0_col2\" class=\"data row0 col2\" >47121348.062</td>\n",
       "      <td id=\"T_c853b_row0_col3\" class=\"data row0 col3\" >15409019.889</td>\n",
       "      <td id=\"T_c853b_row0_col4\" class=\"data row0 col4\" >458.000</td>\n",
       "      <td id=\"T_c853b_row0_col5\" class=\"data row0 col5\" >46648102.000</td>\n",
       "      <td id=\"T_c853b_row0_col6\" class=\"data row0 col6\" >51727626.000</td>\n",
       "      <td id=\"T_c853b_row0_col7\" class=\"data row0 col7\" >54835141.000</td>\n",
       "      <td id=\"T_c853b_row0_col8\" class=\"data row0 col8\" >61299368.000</td>\n",
       "    </tr>\n",
       "    <tr>\n",
       "      <th id=\"T_c853b_level0_row1\" class=\"row_heading level0 row1\" >1</th>\n",
       "      <td id=\"T_c853b_row1_col0\" class=\"data row1 col0\" >MassRunningOrder</td>\n",
       "      <td id=\"T_c853b_row1_col1\" class=\"data row1 col1\" >4744.000</td>\n",
       "      <td id=\"T_c853b_row1_col2\" class=\"data row1 col2\" >1467.809</td>\n",
       "      <td id=\"T_c853b_row1_col3\" class=\"data row1 col3\" >327.638</td>\n",
       "      <td id=\"T_c853b_row1_col4\" class=\"data row1 col4\" >915.000</td>\n",
       "      <td id=\"T_c853b_row1_col5\" class=\"data row1 col5\" >1235.000</td>\n",
       "      <td id=\"T_c853b_row1_col6\" class=\"data row1 col6\" >1409.000</td>\n",
       "      <td id=\"T_c853b_row1_col7\" class=\"data row1 col7\" >1624.000</td>\n",
       "      <td id=\"T_c853b_row1_col8\" class=\"data row1 col8\" >3298.000</td>\n",
       "    </tr>\n",
       "    <tr>\n",
       "      <th id=\"T_c853b_level0_row2\" class=\"row_heading level0 row2\" >2</th>\n",
       "      <td id=\"T_c853b_row2_col0\" class=\"data row2 col0\" >WltpTestMass</td>\n",
       "      <td id=\"T_c853b_row2_col1\" class=\"data row2 col1\" >3864.000</td>\n",
       "      <td id=\"T_c853b_row2_col2\" class=\"data row2 col2\" >1601.792</td>\n",
       "      <td id=\"T_c853b_row2_col3\" class=\"data row2 col3\" >352.610</td>\n",
       "      <td id=\"T_c853b_row2_col4\" class=\"data row2 col4\" >978.000</td>\n",
       "      <td id=\"T_c853b_row2_col5\" class=\"data row2 col5\" >1352.000</td>\n",
       "      <td id=\"T_c853b_row2_col6\" class=\"data row2 col6\" >1538.000</td>\n",
       "      <td id=\"T_c853b_row2_col7\" class=\"data row2 col7\" >1772.250</td>\n",
       "      <td id=\"T_c853b_row2_col8\" class=\"data row2 col8\" >3344.000</td>\n",
       "    </tr>\n",
       "    <tr>\n",
       "      <th id=\"T_c853b_level0_row3\" class=\"row_heading level0 row3\" >3</th>\n",
       "      <td id=\"T_c853b_row3_col0\" class=\"data row3 col0\" >Co2EmissionsWltp</td>\n",
       "      <td id=\"T_c853b_row3_col1\" class=\"data row3 col1\" >4744.000</td>\n",
       "      <td id=\"T_c853b_row3_col2\" class=\"data row3 col2\" >116.085</td>\n",
       "      <td id=\"T_c853b_row3_col3\" class=\"data row3 col3\" >51.586</td>\n",
       "      <td id=\"T_c853b_row3_col4\" class=\"data row3 col4\" >0.000</td>\n",
       "      <td id=\"T_c853b_row3_col5\" class=\"data row3 col5\" >112.000</td>\n",
       "      <td id=\"T_c853b_row3_col6\" class=\"data row3 col6\" >126.000</td>\n",
       "      <td id=\"T_c853b_row3_col7\" class=\"data row3 col7\" >141.000</td>\n",
       "      <td id=\"T_c853b_row3_col8\" class=\"data row3 col8\" >373.000</td>\n",
       "    </tr>\n",
       "    <tr>\n",
       "      <th id=\"T_c853b_level0_row4\" class=\"row_heading level0 row4\" >4</th>\n",
       "      <td id=\"T_c853b_row4_col0\" class=\"data row4 col0\" >BaseWheel</td>\n",
       "      <td id=\"T_c853b_row4_col1\" class=\"data row4 col1\" >4744.000</td>\n",
       "      <td id=\"T_c853b_row4_col2\" class=\"data row4 col2\" >2651.203</td>\n",
       "      <td id=\"T_c853b_row4_col3\" class=\"data row4 col3\" >169.916</td>\n",
       "      <td id=\"T_c853b_row4_col4\" class=\"data row4 col4\" >1873.000</td>\n",
       "      <td id=\"T_c853b_row4_col5\" class=\"data row4 col5\" >2560.000</td>\n",
       "      <td id=\"T_c853b_row4_col6\" class=\"data row4 col6\" >2640.000</td>\n",
       "      <td id=\"T_c853b_row4_col7\" class=\"data row4 col7\" >2712.000</td>\n",
       "      <td id=\"T_c853b_row4_col8\" class=\"data row4 col8\" >4490.000</td>\n",
       "    </tr>\n",
       "    <tr>\n",
       "      <th id=\"T_c853b_level0_row5\" class=\"row_heading level0 row5\" >5</th>\n",
       "      <td id=\"T_c853b_row5_col0\" class=\"data row5 col0\" >AxleWidthSteering</td>\n",
       "      <td id=\"T_c853b_row5_col1\" class=\"data row5 col1\" >4006.000</td>\n",
       "      <td id=\"T_c853b_row5_col2\" class=\"data row5 col2\" >1548.930</td>\n",
       "      <td id=\"T_c853b_row5_col3\" class=\"data row5 col3\" >60.334</td>\n",
       "      <td id=\"T_c853b_row5_col4\" class=\"data row5 col4\" >1385.000</td>\n",
       "      <td id=\"T_c853b_row5_col5\" class=\"data row5 col5\" >1513.000</td>\n",
       "      <td id=\"T_c853b_row5_col6\" class=\"data row5 col6\" >1554.000</td>\n",
       "      <td id=\"T_c853b_row5_col7\" class=\"data row5 col7\" >1580.000</td>\n",
       "      <td id=\"T_c853b_row5_col8\" class=\"data row5 col8\" >2539.000</td>\n",
       "    </tr>\n",
       "    <tr>\n",
       "      <th id=\"T_c853b_level0_row6\" class=\"row_heading level0 row6\" >6</th>\n",
       "      <td id=\"T_c853b_row6_col0\" class=\"data row6 col0\" >EngineCapacity</td>\n",
       "      <td id=\"T_c853b_row6_col1\" class=\"data row6 col1\" >4295.000</td>\n",
       "      <td id=\"T_c853b_row6_col2\" class=\"data row6 col2\" >1510.459</td>\n",
       "      <td id=\"T_c853b_row6_col3\" class=\"data row6 col3\" >505.044</td>\n",
       "      <td id=\"T_c853b_row6_col4\" class=\"data row6 col4\" >875.000</td>\n",
       "      <td id=\"T_c853b_row6_col5\" class=\"data row6 col5\" >999.000</td>\n",
       "      <td id=\"T_c853b_row6_col6\" class=\"data row6 col6\" >1496.000</td>\n",
       "      <td id=\"T_c853b_row6_col7\" class=\"data row6 col7\" >1950.000</td>\n",
       "      <td id=\"T_c853b_row6_col8\" class=\"data row6 col8\" >6749.000</td>\n",
       "    </tr>\n",
       "    <tr>\n",
       "      <th id=\"T_c853b_level0_row7\" class=\"row_heading level0 row7\" >7</th>\n",
       "      <td id=\"T_c853b_row7_col0\" class=\"data row7 col0\" >EnginePower</td>\n",
       "      <td id=\"T_c853b_row7_col1\" class=\"data row7 col1\" >4744.000</td>\n",
       "      <td id=\"T_c853b_row7_col2\" class=\"data row7 col2\" >100.142</td>\n",
       "      <td id=\"T_c853b_row7_col3\" class=\"data row7 col3\" >49.105</td>\n",
       "      <td id=\"T_c853b_row7_col4\" class=\"data row7 col4\" >10.000</td>\n",
       "      <td id=\"T_c853b_row7_col5\" class=\"data row7 col5\" >70.000</td>\n",
       "      <td id=\"T_c853b_row7_col6\" class=\"data row7 col6\" >92.000</td>\n",
       "      <td id=\"T_c853b_row7_col7\" class=\"data row7 col7\" >110.000</td>\n",
       "      <td id=\"T_c853b_row7_col8\" class=\"data row7 col8\" >460.000</td>\n",
       "    </tr>\n",
       "    <tr>\n",
       "      <th id=\"T_c853b_level0_row8\" class=\"row_heading level0 row8\" >8</th>\n",
       "      <td id=\"T_c853b_row8_col0\" class=\"data row8 col0\" >ElectricConsumption</td>\n",
       "      <td id=\"T_c853b_row8_col1\" class=\"data row8 col1\" >675.000</td>\n",
       "      <td id=\"T_c853b_row8_col2\" class=\"data row8 col2\" >172.570</td>\n",
       "      <td id=\"T_c853b_row8_col3\" class=\"data row8 col3\" >37.894</td>\n",
       "      <td id=\"T_c853b_row8_col4\" class=\"data row8 col4\" >45.000</td>\n",
       "      <td id=\"T_c853b_row8_col5\" class=\"data row8 col5\" >150.000</td>\n",
       "      <td id=\"T_c853b_row8_col6\" class=\"data row8 col6\" >165.000</td>\n",
       "      <td id=\"T_c853b_row8_col7\" class=\"data row8 col7\" >180.000</td>\n",
       "      <td id=\"T_c853b_row8_col8\" class=\"data row8 col8\" >373.000</td>\n",
       "    </tr>\n",
       "    <tr>\n",
       "      <th id=\"T_c853b_level0_row9\" class=\"row_heading level0 row9\" >9</th>\n",
       "      <td id=\"T_c853b_row9_col0\" class=\"data row9 col0\" >InnovativeEmissionsReductionWltp</td>\n",
       "      <td id=\"T_c853b_row9_col1\" class=\"data row9 col1\" >2166.000</td>\n",
       "      <td id=\"T_c853b_row9_col2\" class=\"data row9 col2\" >1.520</td>\n",
       "      <td id=\"T_c853b_row9_col3\" class=\"data row9 col3\" >0.511</td>\n",
       "      <td id=\"T_c853b_row9_col4\" class=\"data row9 col4\" >0.500</td>\n",
       "      <td id=\"T_c853b_row9_col5\" class=\"data row9 col5\" >1.000</td>\n",
       "      <td id=\"T_c853b_row9_col6\" class=\"data row9 col6\" >1.600</td>\n",
       "      <td id=\"T_c853b_row9_col7\" class=\"data row9 col7\" >1.900</td>\n",
       "      <td id=\"T_c853b_row9_col8\" class=\"data row9 col8\" >4.300</td>\n",
       "    </tr>\n",
       "    <tr>\n",
       "      <th id=\"T_c853b_level0_row10\" class=\"row_heading level0 row10\" >10</th>\n",
       "      <td id=\"T_c853b_row10_col0\" class=\"data row10 col0\" >FuelConsumption</td>\n",
       "      <td id=\"T_c853b_row10_col1\" class=\"data row10 col1\" >2889.000</td>\n",
       "      <td id=\"T_c853b_row10_col2\" class=\"data row10 col2\" >5.458</td>\n",
       "      <td id=\"T_c853b_row10_col3\" class=\"data row10 col3\" >1.637</td>\n",
       "      <td id=\"T_c853b_row10_col4\" class=\"data row10 col4\" >0.900</td>\n",
       "      <td id=\"T_c853b_row10_col5\" class=\"data row10 col5\" >4.800</td>\n",
       "      <td id=\"T_c853b_row10_col6\" class=\"data row10 col6\" >5.300</td>\n",
       "      <td id=\"T_c853b_row10_col7\" class=\"data row10 col7\" >6.000</td>\n",
       "      <td id=\"T_c853b_row10_col8\" class=\"data row10 col8\" >47.000</td>\n",
       "    </tr>\n",
       "    <tr>\n",
       "      <th id=\"T_c853b_level0_row11\" class=\"row_heading level0 row11\" >11</th>\n",
       "      <td id=\"T_c853b_row11_col0\" class=\"data row11 col0\" >ElectricRange</td>\n",
       "      <td id=\"T_c853b_row11_col1\" class=\"data row11 col1\" >4744.000</td>\n",
       "      <td id=\"T_c853b_row11_col2\" class=\"data row11 col2\" >29.411</td>\n",
       "      <td id=\"T_c853b_row11_col3\" class=\"data row11 col3\" >100.328</td>\n",
       "      <td id=\"T_c853b_row11_col4\" class=\"data row11 col4\" >0.000</td>\n",
       "      <td id=\"T_c853b_row11_col5\" class=\"data row11 col5\" >0.000</td>\n",
       "      <td id=\"T_c853b_row11_col6\" class=\"data row11 col6\" >0.000</td>\n",
       "      <td id=\"T_c853b_row11_col7\" class=\"data row11 col7\" >0.000</td>\n",
       "      <td id=\"T_c853b_row11_col8\" class=\"data row11 col8\" >640.000</td>\n",
       "    </tr>\n",
       "  </tbody>\n",
       "</table>\n"
      ],
      "text/plain": [
       "<pandas.io.formats.style.Styler at 0x7f994c0f4940>"
      ]
     },
     "metadata": {},
     "output_type": "display_data"
    }
   ],
   "source": [
    "co2.styles.display_describe(df) "
   ]
  },
  {
   "cell_type": "code",
   "execution_count": 4,
   "metadata": {},
   "outputs": [
    {
     "name": "stdout",
     "output_type": "stream",
     "text": [
      "Columns: ['Country', 'GdpPerCapita', 'Count']\n",
      "DataFrame columns: Index(['Country', 'Population', 'GdpPerCapita', 'Count', 'Make', 'FuelType',\n",
      "       'FuelConsumption', 'EnginePower', 'Co2EmissionsWltp',\n",
      "       'MassRunningOrder', 'BaseWheel', 'AxleWidthSteering', 'ElectricRange'],\n",
      "      dtype='object')\n"
     ]
    },
    {
     "data": {
      "text/html": [
       "<style type=\"text/css\">\n",
       "#T_2822f th {\n",
       "  background-color: steelblue;\n",
       "  color: white;\n",
       "}\n",
       "#T_2822f tr:nth-of-type(odd) {\n",
       "  background-color: aliceblue;\n",
       "}\n",
       "#T_2822f tr:nth-of-type(even) {\n",
       "  background-color: white;\n",
       "}\n",
       "</style>\n",
       "<table id=\"T_2822f\">\n",
       "  <caption><h2>Top 5 des pays par capacité de propulsion électrique (moyenne kms)</h2></caption>\n",
       "  <thead>\n",
       "    <tr>\n",
       "      <th class=\"blank level0\" >&nbsp;</th>\n",
       "      <th id=\"T_2822f_level0_col0\" class=\"col_heading level0 col0\" >Country</th>\n",
       "      <th id=\"T_2822f_level0_col1\" class=\"col_heading level0 col1\" >GdpPerCapita</th>\n",
       "      <th id=\"T_2822f_level0_col2\" class=\"col_heading level0 col2\" >Count</th>\n",
       "    </tr>\n",
       "  </thead>\n",
       "  <tbody>\n",
       "    <tr>\n",
       "      <th id=\"T_2822f_level0_row0\" class=\"row_heading level0 row0\" >24</th>\n",
       "      <td id=\"T_2822f_row0_col0\" class=\"data row0 col0\" >SE</td>\n",
       "      <td id=\"T_2822f_row0_col1\" class=\"data row0 col1\" >60375.043</td>\n",
       "      <td id=\"T_2822f_row0_col2\" class=\"data row0 col2\" >105</td>\n",
       "    </tr>\n",
       "    <tr>\n",
       "      <th id=\"T_2822f_level0_row1\" class=\"row_heading level0 row1\" >17</th>\n",
       "      <td id=\"T_2822f_row1_col0\" class=\"data row1 col0\" >LU</td>\n",
       "      <td id=\"T_2822f_row1_col1\" class=\"data row1 col1\" >129396.306</td>\n",
       "      <td id=\"T_2822f_row1_col2\" class=\"data row1 col2\" >19</td>\n",
       "    </tr>\n",
       "    <tr>\n",
       "      <th id=\"T_2822f_level0_row2\" class=\"row_heading level0 row2\" >20</th>\n",
       "      <td id=\"T_2822f_row2_col0\" class=\"data row2 col0\" >NL</td>\n",
       "      <td id=\"T_2822f_row2_col1\" class=\"data row2 col1\" >48569.467</td>\n",
       "      <td id=\"T_2822f_row2_col2\" class=\"data row2 col2\" >144</td>\n",
       "    </tr>\n",
       "    <tr>\n",
       "      <th id=\"T_2822f_level0_row3\" class=\"row_heading level0 row3\" >6</th>\n",
       "      <td id=\"T_2822f_row3_col0\" class=\"data row3 col0\" >DK</td>\n",
       "      <td id=\"T_2822f_row3_col1\" class=\"data row3 col1\" >68349.344</td>\n",
       "      <td id=\"T_2822f_row3_col2\" class=\"data row3 col2\" >91</td>\n",
       "    </tr>\n",
       "    <tr>\n",
       "      <th id=\"T_2822f_level0_row4\" class=\"row_heading level0 row4\" >0</th>\n",
       "      <td id=\"T_2822f_row4_col0\" class=\"data row4 col0\" >AT</td>\n",
       "      <td id=\"T_2822f_row4_col1\" class=\"data row4 col1\" >53493.772</td>\n",
       "      <td id=\"T_2822f_row4_col2\" class=\"data row4 col2\" >116</td>\n",
       "    </tr>\n",
       "  </tbody>\n",
       "</table>\n"
      ],
      "text/plain": [
       "<pandas.io.formats.style.Styler at 0x7f994c0efbe0>"
      ]
     },
     "metadata": {},
     "output_type": "display_data"
    },
    {
     "data": {
      "application/vnd.plotly.v1+json": {
       "config": {
        "plotlyServerURL": "https://plot.ly"
       },
       "data": [
        {
         "alignmentgroup": "True",
         "hovertemplate": "Country=%{x}<br>Co2EmissionsWltp=%{marker.color}<extra></extra>",
         "legendgroup": "",
         "marker": {
          "color": [
           150.53846153846155,
           148.48648648648648,
           144.4,
           141.04,
           139.9203539823009,
           135.27319587628867,
           134,
           133.5,
           132.43478260869566,
           130.47058823529412,
           129.75,
           127,
           121.17553956834533,
           121.10344827586206,
           119.75,
           117.57894736842105,
           117.3546218487395,
           115.19298245614036,
           115.06666666666666,
           115,
           113.21264367816092,
           109.275,
           108.66703296703297,
           93.71527777777777,
           92.89010989010988,
           86,
           80.13333333333334
          ],
          "coloraxis": "coloraxis",
          "pattern": {
           "shape": ""
          }
         },
         "name": "",
         "offsetgroup": "",
         "orientation": "v",
         "showlegend": false,
         "textposition": "auto",
         "type": "bar",
         "x": [
          "LT",
          "SK",
          "HU",
          "SI",
          "CZ",
          "PL",
          "CY",
          "LV",
          "HR",
          "RO",
          "EE",
          "ES",
          "IT",
          "AT",
          "BG",
          "LU",
          "DE",
          "FI",
          "IE",
          "GR",
          "BE",
          "PT",
          "FR",
          "NL",
          "DK",
          "MT",
          "SE"
         ],
         "xaxis": "x",
         "y": [
          150.53846153846155,
          148.48648648648648,
          144.4,
          141.04,
          139.9203539823009,
          135.27319587628867,
          134,
          133.5,
          132.43478260869566,
          130.47058823529412,
          129.75,
          127,
          121.17553956834533,
          121.10344827586206,
          119.75,
          117.57894736842105,
          117.3546218487395,
          115.19298245614036,
          115.06666666666666,
          115,
          113.21264367816092,
          109.275,
          108.66703296703297,
          93.71527777777777,
          92.89010989010988,
          86,
          80.13333333333334
         ],
         "yaxis": "y"
        }
       ],
       "layout": {
        "annotations": [
         {
          "showarrow": false,
          "text": "Data Source: European Environment Agency, 2021",
          "x": 1,
          "xanchor": "right",
          "xref": "paper",
          "y": -0.15,
          "yanchor": "auto",
          "yref": "paper"
         }
        ],
        "barmode": "relative",
        "coloraxis": {
         "colorbar": {
          "title": {
           "text": "Co2EmissionsWltp"
          }
         },
         "colorscale": [
          [
           0,
           "rgb(247,251,255)"
          ],
          [
           0.125,
           "rgb(222,235,247)"
          ],
          [
           0.25,
           "rgb(198,219,239)"
          ],
          [
           0.375,
           "rgb(158,202,225)"
          ],
          [
           0.5,
           "rgb(107,174,214)"
          ],
          [
           0.625,
           "rgb(66,146,198)"
          ],
          [
           0.75,
           "rgb(33,113,181)"
          ],
          [
           0.875,
           "rgb(8,81,156)"
          ],
          [
           1,
           "rgb(8,48,107)"
          ]
         ]
        },
        "legend": {
         "tracegroupgap": 0
        },
        "margin": {
         "t": 60
        },
        "template": {
         "data": {
          "bar": [
           {
            "error_x": {
             "color": "#2a3f5f"
            },
            "error_y": {
             "color": "#2a3f5f"
            },
            "marker": {
             "line": {
              "color": "#E5ECF6",
              "width": 0.5
             },
             "pattern": {
              "fillmode": "overlay",
              "size": 10,
              "solidity": 0.2
             }
            },
            "type": "bar"
           }
          ],
          "barpolar": [
           {
            "marker": {
             "line": {
              "color": "#E5ECF6",
              "width": 0.5
             },
             "pattern": {
              "fillmode": "overlay",
              "size": 10,
              "solidity": 0.2
             }
            },
            "type": "barpolar"
           }
          ],
          "carpet": [
           {
            "aaxis": {
             "endlinecolor": "#2a3f5f",
             "gridcolor": "white",
             "linecolor": "white",
             "minorgridcolor": "white",
             "startlinecolor": "#2a3f5f"
            },
            "baxis": {
             "endlinecolor": "#2a3f5f",
             "gridcolor": "white",
             "linecolor": "white",
             "minorgridcolor": "white",
             "startlinecolor": "#2a3f5f"
            },
            "type": "carpet"
           }
          ],
          "choropleth": [
           {
            "colorbar": {
             "outlinewidth": 0,
             "ticks": ""
            },
            "type": "choropleth"
           }
          ],
          "contour": [
           {
            "colorbar": {
             "outlinewidth": 0,
             "ticks": ""
            },
            "colorscale": [
             [
              0,
              "#0d0887"
             ],
             [
              0.1111111111111111,
              "#46039f"
             ],
             [
              0.2222222222222222,
              "#7201a8"
             ],
             [
              0.3333333333333333,
              "#9c179e"
             ],
             [
              0.4444444444444444,
              "#bd3786"
             ],
             [
              0.5555555555555556,
              "#d8576b"
             ],
             [
              0.6666666666666666,
              "#ed7953"
             ],
             [
              0.7777777777777778,
              "#fb9f3a"
             ],
             [
              0.8888888888888888,
              "#fdca26"
             ],
             [
              1,
              "#f0f921"
             ]
            ],
            "type": "contour"
           }
          ],
          "contourcarpet": [
           {
            "colorbar": {
             "outlinewidth": 0,
             "ticks": ""
            },
            "type": "contourcarpet"
           }
          ],
          "heatmap": [
           {
            "colorbar": {
             "outlinewidth": 0,
             "ticks": ""
            },
            "colorscale": [
             [
              0,
              "#0d0887"
             ],
             [
              0.1111111111111111,
              "#46039f"
             ],
             [
              0.2222222222222222,
              "#7201a8"
             ],
             [
              0.3333333333333333,
              "#9c179e"
             ],
             [
              0.4444444444444444,
              "#bd3786"
             ],
             [
              0.5555555555555556,
              "#d8576b"
             ],
             [
              0.6666666666666666,
              "#ed7953"
             ],
             [
              0.7777777777777778,
              "#fb9f3a"
             ],
             [
              0.8888888888888888,
              "#fdca26"
             ],
             [
              1,
              "#f0f921"
             ]
            ],
            "type": "heatmap"
           }
          ],
          "heatmapgl": [
           {
            "colorbar": {
             "outlinewidth": 0,
             "ticks": ""
            },
            "colorscale": [
             [
              0,
              "#0d0887"
             ],
             [
              0.1111111111111111,
              "#46039f"
             ],
             [
              0.2222222222222222,
              "#7201a8"
             ],
             [
              0.3333333333333333,
              "#9c179e"
             ],
             [
              0.4444444444444444,
              "#bd3786"
             ],
             [
              0.5555555555555556,
              "#d8576b"
             ],
             [
              0.6666666666666666,
              "#ed7953"
             ],
             [
              0.7777777777777778,
              "#fb9f3a"
             ],
             [
              0.8888888888888888,
              "#fdca26"
             ],
             [
              1,
              "#f0f921"
             ]
            ],
            "type": "heatmapgl"
           }
          ],
          "histogram": [
           {
            "marker": {
             "pattern": {
              "fillmode": "overlay",
              "size": 10,
              "solidity": 0.2
             }
            },
            "type": "histogram"
           }
          ],
          "histogram2d": [
           {
            "colorbar": {
             "outlinewidth": 0,
             "ticks": ""
            },
            "colorscale": [
             [
              0,
              "#0d0887"
             ],
             [
              0.1111111111111111,
              "#46039f"
             ],
             [
              0.2222222222222222,
              "#7201a8"
             ],
             [
              0.3333333333333333,
              "#9c179e"
             ],
             [
              0.4444444444444444,
              "#bd3786"
             ],
             [
              0.5555555555555556,
              "#d8576b"
             ],
             [
              0.6666666666666666,
              "#ed7953"
             ],
             [
              0.7777777777777778,
              "#fb9f3a"
             ],
             [
              0.8888888888888888,
              "#fdca26"
             ],
             [
              1,
              "#f0f921"
             ]
            ],
            "type": "histogram2d"
           }
          ],
          "histogram2dcontour": [
           {
            "colorbar": {
             "outlinewidth": 0,
             "ticks": ""
            },
            "colorscale": [
             [
              0,
              "#0d0887"
             ],
             [
              0.1111111111111111,
              "#46039f"
             ],
             [
              0.2222222222222222,
              "#7201a8"
             ],
             [
              0.3333333333333333,
              "#9c179e"
             ],
             [
              0.4444444444444444,
              "#bd3786"
             ],
             [
              0.5555555555555556,
              "#d8576b"
             ],
             [
              0.6666666666666666,
              "#ed7953"
             ],
             [
              0.7777777777777778,
              "#fb9f3a"
             ],
             [
              0.8888888888888888,
              "#fdca26"
             ],
             [
              1,
              "#f0f921"
             ]
            ],
            "type": "histogram2dcontour"
           }
          ],
          "mesh3d": [
           {
            "colorbar": {
             "outlinewidth": 0,
             "ticks": ""
            },
            "type": "mesh3d"
           }
          ],
          "parcoords": [
           {
            "line": {
             "colorbar": {
              "outlinewidth": 0,
              "ticks": ""
             }
            },
            "type": "parcoords"
           }
          ],
          "pie": [
           {
            "automargin": true,
            "type": "pie"
           }
          ],
          "scatter": [
           {
            "fillpattern": {
             "fillmode": "overlay",
             "size": 10,
             "solidity": 0.2
            },
            "type": "scatter"
           }
          ],
          "scatter3d": [
           {
            "line": {
             "colorbar": {
              "outlinewidth": 0,
              "ticks": ""
             }
            },
            "marker": {
             "colorbar": {
              "outlinewidth": 0,
              "ticks": ""
             }
            },
            "type": "scatter3d"
           }
          ],
          "scattercarpet": [
           {
            "marker": {
             "colorbar": {
              "outlinewidth": 0,
              "ticks": ""
             }
            },
            "type": "scattercarpet"
           }
          ],
          "scattergeo": [
           {
            "marker": {
             "colorbar": {
              "outlinewidth": 0,
              "ticks": ""
             }
            },
            "type": "scattergeo"
           }
          ],
          "scattergl": [
           {
            "marker": {
             "colorbar": {
              "outlinewidth": 0,
              "ticks": ""
             }
            },
            "type": "scattergl"
           }
          ],
          "scattermapbox": [
           {
            "marker": {
             "colorbar": {
              "outlinewidth": 0,
              "ticks": ""
             }
            },
            "type": "scattermapbox"
           }
          ],
          "scatterpolar": [
           {
            "marker": {
             "colorbar": {
              "outlinewidth": 0,
              "ticks": ""
             }
            },
            "type": "scatterpolar"
           }
          ],
          "scatterpolargl": [
           {
            "marker": {
             "colorbar": {
              "outlinewidth": 0,
              "ticks": ""
             }
            },
            "type": "scatterpolargl"
           }
          ],
          "scatterternary": [
           {
            "marker": {
             "colorbar": {
              "outlinewidth": 0,
              "ticks": ""
             }
            },
            "type": "scatterternary"
           }
          ],
          "surface": [
           {
            "colorbar": {
             "outlinewidth": 0,
             "ticks": ""
            },
            "colorscale": [
             [
              0,
              "#0d0887"
             ],
             [
              0.1111111111111111,
              "#46039f"
             ],
             [
              0.2222222222222222,
              "#7201a8"
             ],
             [
              0.3333333333333333,
              "#9c179e"
             ],
             [
              0.4444444444444444,
              "#bd3786"
             ],
             [
              0.5555555555555556,
              "#d8576b"
             ],
             [
              0.6666666666666666,
              "#ed7953"
             ],
             [
              0.7777777777777778,
              "#fb9f3a"
             ],
             [
              0.8888888888888888,
              "#fdca26"
             ],
             [
              1,
              "#f0f921"
             ]
            ],
            "type": "surface"
           }
          ],
          "table": [
           {
            "cells": {
             "fill": {
              "color": "#EBF0F8"
             },
             "line": {
              "color": "white"
             }
            },
            "header": {
             "fill": {
              "color": "#C8D4E3"
             },
             "line": {
              "color": "white"
             }
            },
            "type": "table"
           }
          ]
         },
         "layout": {
          "annotationdefaults": {
           "arrowcolor": "#2a3f5f",
           "arrowhead": 0,
           "arrowwidth": 1
          },
          "autotypenumbers": "strict",
          "coloraxis": {
           "colorbar": {
            "outlinewidth": 0,
            "ticks": ""
           }
          },
          "colorscale": {
           "diverging": [
            [
             0,
             "#8e0152"
            ],
            [
             0.1,
             "#c51b7d"
            ],
            [
             0.2,
             "#de77ae"
            ],
            [
             0.3,
             "#f1b6da"
            ],
            [
             0.4,
             "#fde0ef"
            ],
            [
             0.5,
             "#f7f7f7"
            ],
            [
             0.6,
             "#e6f5d0"
            ],
            [
             0.7,
             "#b8e186"
            ],
            [
             0.8,
             "#7fbc41"
            ],
            [
             0.9,
             "#4d9221"
            ],
            [
             1,
             "#276419"
            ]
           ],
           "sequential": [
            [
             0,
             "#0d0887"
            ],
            [
             0.1111111111111111,
             "#46039f"
            ],
            [
             0.2222222222222222,
             "#7201a8"
            ],
            [
             0.3333333333333333,
             "#9c179e"
            ],
            [
             0.4444444444444444,
             "#bd3786"
            ],
            [
             0.5555555555555556,
             "#d8576b"
            ],
            [
             0.6666666666666666,
             "#ed7953"
            ],
            [
             0.7777777777777778,
             "#fb9f3a"
            ],
            [
             0.8888888888888888,
             "#fdca26"
            ],
            [
             1,
             "#f0f921"
            ]
           ],
           "sequentialminus": [
            [
             0,
             "#0d0887"
            ],
            [
             0.1111111111111111,
             "#46039f"
            ],
            [
             0.2222222222222222,
             "#7201a8"
            ],
            [
             0.3333333333333333,
             "#9c179e"
            ],
            [
             0.4444444444444444,
             "#bd3786"
            ],
            [
             0.5555555555555556,
             "#d8576b"
            ],
            [
             0.6666666666666666,
             "#ed7953"
            ],
            [
             0.7777777777777778,
             "#fb9f3a"
            ],
            [
             0.8888888888888888,
             "#fdca26"
            ],
            [
             1,
             "#f0f921"
            ]
           ]
          },
          "colorway": [
           "#636efa",
           "#EF553B",
           "#00cc96",
           "#ab63fa",
           "#FFA15A",
           "#19d3f3",
           "#FF6692",
           "#B6E880",
           "#FF97FF",
           "#FECB52"
          ],
          "font": {
           "color": "#2a3f5f"
          },
          "geo": {
           "bgcolor": "white",
           "lakecolor": "white",
           "landcolor": "#E5ECF6",
           "showlakes": true,
           "showland": true,
           "subunitcolor": "white"
          },
          "hoverlabel": {
           "align": "left"
          },
          "hovermode": "closest",
          "mapbox": {
           "style": "light"
          },
          "paper_bgcolor": "white",
          "plot_bgcolor": "#E5ECF6",
          "polar": {
           "angularaxis": {
            "gridcolor": "white",
            "linecolor": "white",
            "ticks": ""
           },
           "bgcolor": "#E5ECF6",
           "radialaxis": {
            "gridcolor": "white",
            "linecolor": "white",
            "ticks": ""
           }
          },
          "scene": {
           "xaxis": {
            "backgroundcolor": "#E5ECF6",
            "gridcolor": "white",
            "gridwidth": 2,
            "linecolor": "white",
            "showbackground": true,
            "ticks": "",
            "zerolinecolor": "white"
           },
           "yaxis": {
            "backgroundcolor": "#E5ECF6",
            "gridcolor": "white",
            "gridwidth": 2,
            "linecolor": "white",
            "showbackground": true,
            "ticks": "",
            "zerolinecolor": "white"
           },
           "zaxis": {
            "backgroundcolor": "#E5ECF6",
            "gridcolor": "white",
            "gridwidth": 2,
            "linecolor": "white",
            "showbackground": true,
            "ticks": "",
            "zerolinecolor": "white"
           }
          },
          "shapedefaults": {
           "line": {
            "color": "#2a3f5f"
           }
          },
          "ternary": {
           "aaxis": {
            "gridcolor": "white",
            "linecolor": "white",
            "ticks": ""
           },
           "baxis": {
            "gridcolor": "white",
            "linecolor": "white",
            "ticks": ""
           },
           "bgcolor": "#E5ECF6",
           "caxis": {
            "gridcolor": "white",
            "linecolor": "white",
            "ticks": ""
           }
          },
          "title": {
           "x": 0.05
          },
          "xaxis": {
           "automargin": true,
           "gridcolor": "white",
           "linecolor": "white",
           "ticks": "",
           "title": {
            "standoff": 15
           },
           "zerolinecolor": "white",
           "zerolinewidth": 2
          },
          "yaxis": {
           "automargin": true,
           "gridcolor": "white",
           "linecolor": "white",
           "ticks": "",
           "title": {
            "standoff": 15
           },
           "zerolinecolor": "white",
           "zerolinewidth": 2
          }
         }
        },
        "title": {
         "text": "Quel pays achète les véhicules les plus polluants? (CO2)",
         "x": 0.3
        },
        "xaxis": {
         "anchor": "y",
         "domain": [
          0,
          1
         ],
         "title": {
          "text": "Country"
         }
        },
        "yaxis": {
         "anchor": "x",
         "domain": [
          0,
          1
         ],
         "title": {
          "text": "Co2EmissionsWltp"
         }
        }
       }
      }
     },
     "metadata": {},
     "output_type": "display_data"
    },
    {
     "data": {
      "application/vnd.plotly.v1+json": {
       "config": {
        "plotlyServerURL": "https://plot.ly"
       },
       "data": [
        {
         "alignmentgroup": "True",
         "hovertemplate": "Country=%{x}<br>EnginePower=%{marker.color}<extra></extra>",
         "legendgroup": "",
         "marker": {
          "color": [
           138.78947368421052,
           132.8,
           130.46666666666667,
           122.0909090909091,
           115.00588235294117,
           109.71681415929204,
           108.98850574712644,
           106.05154639175258,
           105,
           103.87068965517241,
           102.1875,
           101.86813186813187,
           100.68055555555556,
           99.55555555555556,
           99.1875,
           98.6923076923077,
           98.43859649122807,
           96.75,
           93.95652173913044,
           91.42068965517241,
           91.28,
           88.63414634146342,
           87.80882352941177,
           85.76703296703296,
           83.875,
           81.68201438848921,
           68
          ],
          "coloraxis": "coloraxis",
          "pattern": {
           "shape": ""
          }
         },
         "name": "",
         "offsetgroup": "",
         "orientation": "v",
         "showlegend": false,
         "textposition": "auto",
         "type": "bar",
         "x": [
          "LU",
          "LV",
          "SE",
          "HU",
          "DE",
          "CZ",
          "BE",
          "PL",
          "SK",
          "AT",
          "BG",
          "DK",
          "NL",
          "IE",
          "PT",
          "LT",
          "FI",
          "EE",
          "HR",
          "ES",
          "SI",
          "GR",
          "RO",
          "FR",
          "CY",
          "IT",
          "MT"
         ],
         "xaxis": "x",
         "y": [
          138.78947368421052,
          132.8,
          130.46666666666667,
          122.0909090909091,
          115.00588235294117,
          109.71681415929204,
          108.98850574712644,
          106.05154639175258,
          105,
          103.87068965517241,
          102.1875,
          101.86813186813187,
          100.68055555555556,
          99.55555555555556,
          99.1875,
          98.6923076923077,
          98.43859649122807,
          96.75,
          93.95652173913044,
          91.42068965517241,
          91.28,
          88.63414634146342,
          87.80882352941177,
          85.76703296703296,
          83.875,
          81.68201438848921,
          68
         ],
         "yaxis": "y"
        }
       ],
       "layout": {
        "annotations": [
         {
          "showarrow": false,
          "text": "Data Source: European Environment Agency, 2021",
          "x": 1,
          "xanchor": "right",
          "xref": "paper",
          "y": -0.15,
          "yanchor": "auto",
          "yref": "paper"
         }
        ],
        "barmode": "relative",
        "coloraxis": {
         "colorbar": {
          "title": {
           "text": "EnginePower"
          }
         },
         "colorscale": [
          [
           0,
           "rgb(247,252,245)"
          ],
          [
           0.125,
           "rgb(229,245,224)"
          ],
          [
           0.25,
           "rgb(199,233,192)"
          ],
          [
           0.375,
           "rgb(161,217,155)"
          ],
          [
           0.5,
           "rgb(116,196,118)"
          ],
          [
           0.625,
           "rgb(65,171,93)"
          ],
          [
           0.75,
           "rgb(35,139,69)"
          ],
          [
           0.875,
           "rgb(0,109,44)"
          ],
          [
           1,
           "rgb(0,68,27)"
          ]
         ]
        },
        "legend": {
         "tracegroupgap": 0
        },
        "margin": {
         "t": 60
        },
        "template": {
         "data": {
          "bar": [
           {
            "error_x": {
             "color": "#2a3f5f"
            },
            "error_y": {
             "color": "#2a3f5f"
            },
            "marker": {
             "line": {
              "color": "#E5ECF6",
              "width": 0.5
             },
             "pattern": {
              "fillmode": "overlay",
              "size": 10,
              "solidity": 0.2
             }
            },
            "type": "bar"
           }
          ],
          "barpolar": [
           {
            "marker": {
             "line": {
              "color": "#E5ECF6",
              "width": 0.5
             },
             "pattern": {
              "fillmode": "overlay",
              "size": 10,
              "solidity": 0.2
             }
            },
            "type": "barpolar"
           }
          ],
          "carpet": [
           {
            "aaxis": {
             "endlinecolor": "#2a3f5f",
             "gridcolor": "white",
             "linecolor": "white",
             "minorgridcolor": "white",
             "startlinecolor": "#2a3f5f"
            },
            "baxis": {
             "endlinecolor": "#2a3f5f",
             "gridcolor": "white",
             "linecolor": "white",
             "minorgridcolor": "white",
             "startlinecolor": "#2a3f5f"
            },
            "type": "carpet"
           }
          ],
          "choropleth": [
           {
            "colorbar": {
             "outlinewidth": 0,
             "ticks": ""
            },
            "type": "choropleth"
           }
          ],
          "contour": [
           {
            "colorbar": {
             "outlinewidth": 0,
             "ticks": ""
            },
            "colorscale": [
             [
              0,
              "#0d0887"
             ],
             [
              0.1111111111111111,
              "#46039f"
             ],
             [
              0.2222222222222222,
              "#7201a8"
             ],
             [
              0.3333333333333333,
              "#9c179e"
             ],
             [
              0.4444444444444444,
              "#bd3786"
             ],
             [
              0.5555555555555556,
              "#d8576b"
             ],
             [
              0.6666666666666666,
              "#ed7953"
             ],
             [
              0.7777777777777778,
              "#fb9f3a"
             ],
             [
              0.8888888888888888,
              "#fdca26"
             ],
             [
              1,
              "#f0f921"
             ]
            ],
            "type": "contour"
           }
          ],
          "contourcarpet": [
           {
            "colorbar": {
             "outlinewidth": 0,
             "ticks": ""
            },
            "type": "contourcarpet"
           }
          ],
          "heatmap": [
           {
            "colorbar": {
             "outlinewidth": 0,
             "ticks": ""
            },
            "colorscale": [
             [
              0,
              "#0d0887"
             ],
             [
              0.1111111111111111,
              "#46039f"
             ],
             [
              0.2222222222222222,
              "#7201a8"
             ],
             [
              0.3333333333333333,
              "#9c179e"
             ],
             [
              0.4444444444444444,
              "#bd3786"
             ],
             [
              0.5555555555555556,
              "#d8576b"
             ],
             [
              0.6666666666666666,
              "#ed7953"
             ],
             [
              0.7777777777777778,
              "#fb9f3a"
             ],
             [
              0.8888888888888888,
              "#fdca26"
             ],
             [
              1,
              "#f0f921"
             ]
            ],
            "type": "heatmap"
           }
          ],
          "heatmapgl": [
           {
            "colorbar": {
             "outlinewidth": 0,
             "ticks": ""
            },
            "colorscale": [
             [
              0,
              "#0d0887"
             ],
             [
              0.1111111111111111,
              "#46039f"
             ],
             [
              0.2222222222222222,
              "#7201a8"
             ],
             [
              0.3333333333333333,
              "#9c179e"
             ],
             [
              0.4444444444444444,
              "#bd3786"
             ],
             [
              0.5555555555555556,
              "#d8576b"
             ],
             [
              0.6666666666666666,
              "#ed7953"
             ],
             [
              0.7777777777777778,
              "#fb9f3a"
             ],
             [
              0.8888888888888888,
              "#fdca26"
             ],
             [
              1,
              "#f0f921"
             ]
            ],
            "type": "heatmapgl"
           }
          ],
          "histogram": [
           {
            "marker": {
             "pattern": {
              "fillmode": "overlay",
              "size": 10,
              "solidity": 0.2
             }
            },
            "type": "histogram"
           }
          ],
          "histogram2d": [
           {
            "colorbar": {
             "outlinewidth": 0,
             "ticks": ""
            },
            "colorscale": [
             [
              0,
              "#0d0887"
             ],
             [
              0.1111111111111111,
              "#46039f"
             ],
             [
              0.2222222222222222,
              "#7201a8"
             ],
             [
              0.3333333333333333,
              "#9c179e"
             ],
             [
              0.4444444444444444,
              "#bd3786"
             ],
             [
              0.5555555555555556,
              "#d8576b"
             ],
             [
              0.6666666666666666,
              "#ed7953"
             ],
             [
              0.7777777777777778,
              "#fb9f3a"
             ],
             [
              0.8888888888888888,
              "#fdca26"
             ],
             [
              1,
              "#f0f921"
             ]
            ],
            "type": "histogram2d"
           }
          ],
          "histogram2dcontour": [
           {
            "colorbar": {
             "outlinewidth": 0,
             "ticks": ""
            },
            "colorscale": [
             [
              0,
              "#0d0887"
             ],
             [
              0.1111111111111111,
              "#46039f"
             ],
             [
              0.2222222222222222,
              "#7201a8"
             ],
             [
              0.3333333333333333,
              "#9c179e"
             ],
             [
              0.4444444444444444,
              "#bd3786"
             ],
             [
              0.5555555555555556,
              "#d8576b"
             ],
             [
              0.6666666666666666,
              "#ed7953"
             ],
             [
              0.7777777777777778,
              "#fb9f3a"
             ],
             [
              0.8888888888888888,
              "#fdca26"
             ],
             [
              1,
              "#f0f921"
             ]
            ],
            "type": "histogram2dcontour"
           }
          ],
          "mesh3d": [
           {
            "colorbar": {
             "outlinewidth": 0,
             "ticks": ""
            },
            "type": "mesh3d"
           }
          ],
          "parcoords": [
           {
            "line": {
             "colorbar": {
              "outlinewidth": 0,
              "ticks": ""
             }
            },
            "type": "parcoords"
           }
          ],
          "pie": [
           {
            "automargin": true,
            "type": "pie"
           }
          ],
          "scatter": [
           {
            "fillpattern": {
             "fillmode": "overlay",
             "size": 10,
             "solidity": 0.2
            },
            "type": "scatter"
           }
          ],
          "scatter3d": [
           {
            "line": {
             "colorbar": {
              "outlinewidth": 0,
              "ticks": ""
             }
            },
            "marker": {
             "colorbar": {
              "outlinewidth": 0,
              "ticks": ""
             }
            },
            "type": "scatter3d"
           }
          ],
          "scattercarpet": [
           {
            "marker": {
             "colorbar": {
              "outlinewidth": 0,
              "ticks": ""
             }
            },
            "type": "scattercarpet"
           }
          ],
          "scattergeo": [
           {
            "marker": {
             "colorbar": {
              "outlinewidth": 0,
              "ticks": ""
             }
            },
            "type": "scattergeo"
           }
          ],
          "scattergl": [
           {
            "marker": {
             "colorbar": {
              "outlinewidth": 0,
              "ticks": ""
             }
            },
            "type": "scattergl"
           }
          ],
          "scattermapbox": [
           {
            "marker": {
             "colorbar": {
              "outlinewidth": 0,
              "ticks": ""
             }
            },
            "type": "scattermapbox"
           }
          ],
          "scatterpolar": [
           {
            "marker": {
             "colorbar": {
              "outlinewidth": 0,
              "ticks": ""
             }
            },
            "type": "scatterpolar"
           }
          ],
          "scatterpolargl": [
           {
            "marker": {
             "colorbar": {
              "outlinewidth": 0,
              "ticks": ""
             }
            },
            "type": "scatterpolargl"
           }
          ],
          "scatterternary": [
           {
            "marker": {
             "colorbar": {
              "outlinewidth": 0,
              "ticks": ""
             }
            },
            "type": "scatterternary"
           }
          ],
          "surface": [
           {
            "colorbar": {
             "outlinewidth": 0,
             "ticks": ""
            },
            "colorscale": [
             [
              0,
              "#0d0887"
             ],
             [
              0.1111111111111111,
              "#46039f"
             ],
             [
              0.2222222222222222,
              "#7201a8"
             ],
             [
              0.3333333333333333,
              "#9c179e"
             ],
             [
              0.4444444444444444,
              "#bd3786"
             ],
             [
              0.5555555555555556,
              "#d8576b"
             ],
             [
              0.6666666666666666,
              "#ed7953"
             ],
             [
              0.7777777777777778,
              "#fb9f3a"
             ],
             [
              0.8888888888888888,
              "#fdca26"
             ],
             [
              1,
              "#f0f921"
             ]
            ],
            "type": "surface"
           }
          ],
          "table": [
           {
            "cells": {
             "fill": {
              "color": "#EBF0F8"
             },
             "line": {
              "color": "white"
             }
            },
            "header": {
             "fill": {
              "color": "#C8D4E3"
             },
             "line": {
              "color": "white"
             }
            },
            "type": "table"
           }
          ]
         },
         "layout": {
          "annotationdefaults": {
           "arrowcolor": "#2a3f5f",
           "arrowhead": 0,
           "arrowwidth": 1
          },
          "autotypenumbers": "strict",
          "coloraxis": {
           "colorbar": {
            "outlinewidth": 0,
            "ticks": ""
           }
          },
          "colorscale": {
           "diverging": [
            [
             0,
             "#8e0152"
            ],
            [
             0.1,
             "#c51b7d"
            ],
            [
             0.2,
             "#de77ae"
            ],
            [
             0.3,
             "#f1b6da"
            ],
            [
             0.4,
             "#fde0ef"
            ],
            [
             0.5,
             "#f7f7f7"
            ],
            [
             0.6,
             "#e6f5d0"
            ],
            [
             0.7,
             "#b8e186"
            ],
            [
             0.8,
             "#7fbc41"
            ],
            [
             0.9,
             "#4d9221"
            ],
            [
             1,
             "#276419"
            ]
           ],
           "sequential": [
            [
             0,
             "#0d0887"
            ],
            [
             0.1111111111111111,
             "#46039f"
            ],
            [
             0.2222222222222222,
             "#7201a8"
            ],
            [
             0.3333333333333333,
             "#9c179e"
            ],
            [
             0.4444444444444444,
             "#bd3786"
            ],
            [
             0.5555555555555556,
             "#d8576b"
            ],
            [
             0.6666666666666666,
             "#ed7953"
            ],
            [
             0.7777777777777778,
             "#fb9f3a"
            ],
            [
             0.8888888888888888,
             "#fdca26"
            ],
            [
             1,
             "#f0f921"
            ]
           ],
           "sequentialminus": [
            [
             0,
             "#0d0887"
            ],
            [
             0.1111111111111111,
             "#46039f"
            ],
            [
             0.2222222222222222,
             "#7201a8"
            ],
            [
             0.3333333333333333,
             "#9c179e"
            ],
            [
             0.4444444444444444,
             "#bd3786"
            ],
            [
             0.5555555555555556,
             "#d8576b"
            ],
            [
             0.6666666666666666,
             "#ed7953"
            ],
            [
             0.7777777777777778,
             "#fb9f3a"
            ],
            [
             0.8888888888888888,
             "#fdca26"
            ],
            [
             1,
             "#f0f921"
            ]
           ]
          },
          "colorway": [
           "#636efa",
           "#EF553B",
           "#00cc96",
           "#ab63fa",
           "#FFA15A",
           "#19d3f3",
           "#FF6692",
           "#B6E880",
           "#FF97FF",
           "#FECB52"
          ],
          "font": {
           "color": "#2a3f5f"
          },
          "geo": {
           "bgcolor": "white",
           "lakecolor": "white",
           "landcolor": "#E5ECF6",
           "showlakes": true,
           "showland": true,
           "subunitcolor": "white"
          },
          "hoverlabel": {
           "align": "left"
          },
          "hovermode": "closest",
          "mapbox": {
           "style": "light"
          },
          "paper_bgcolor": "white",
          "plot_bgcolor": "#E5ECF6",
          "polar": {
           "angularaxis": {
            "gridcolor": "white",
            "linecolor": "white",
            "ticks": ""
           },
           "bgcolor": "#E5ECF6",
           "radialaxis": {
            "gridcolor": "white",
            "linecolor": "white",
            "ticks": ""
           }
          },
          "scene": {
           "xaxis": {
            "backgroundcolor": "#E5ECF6",
            "gridcolor": "white",
            "gridwidth": 2,
            "linecolor": "white",
            "showbackground": true,
            "ticks": "",
            "zerolinecolor": "white"
           },
           "yaxis": {
            "backgroundcolor": "#E5ECF6",
            "gridcolor": "white",
            "gridwidth": 2,
            "linecolor": "white",
            "showbackground": true,
            "ticks": "",
            "zerolinecolor": "white"
           },
           "zaxis": {
            "backgroundcolor": "#E5ECF6",
            "gridcolor": "white",
            "gridwidth": 2,
            "linecolor": "white",
            "showbackground": true,
            "ticks": "",
            "zerolinecolor": "white"
           }
          },
          "shapedefaults": {
           "line": {
            "color": "#2a3f5f"
           }
          },
          "ternary": {
           "aaxis": {
            "gridcolor": "white",
            "linecolor": "white",
            "ticks": ""
           },
           "baxis": {
            "gridcolor": "white",
            "linecolor": "white",
            "ticks": ""
           },
           "bgcolor": "#E5ECF6",
           "caxis": {
            "gridcolor": "white",
            "linecolor": "white",
            "ticks": ""
           }
          },
          "title": {
           "x": 0.05
          },
          "xaxis": {
           "automargin": true,
           "gridcolor": "white",
           "linecolor": "white",
           "ticks": "",
           "title": {
            "standoff": 15
           },
           "zerolinecolor": "white",
           "zerolinewidth": 2
          },
          "yaxis": {
           "automargin": true,
           "gridcolor": "white",
           "linecolor": "white",
           "ticks": "",
           "title": {
            "standoff": 15
           },
           "zerolinecolor": "white",
           "zerolinewidth": 2
          }
         }
        },
        "title": {
         "text": "Quel pays achète les véhicules les plus puissants? (KWh)",
         "x": 0.3
        },
        "xaxis": {
         "anchor": "y",
         "domain": [
          0,
          1
         ],
         "title": {
          "text": "Country"
         }
        },
        "yaxis": {
         "anchor": "x",
         "domain": [
          0,
          1
         ],
         "title": {
          "text": "EnginePower"
         }
        }
       }
      }
     },
     "metadata": {},
     "output_type": "display_data"
    },
    {
     "data": {
      "application/vnd.plotly.v1+json": {
       "config": {
        "plotlyServerURL": "https://plot.ly"
       },
       "data": [
        {
         "alignmentgroup": "True",
         "hovertemplate": "Country=%{x}<br>MassRunningOrder=%{marker.color}<extra></extra>",
         "legendgroup": "",
         "marker": {
          "color": [
           1710.8,
           1658.2105263157894,
           1619.4761904761904,
           1615,
           1559.189075630252,
           1555.0689655172414,
           1543.3272727272727,
           1536.603448275862,
           1515.837837837838,
           1507.9375,
           1504.6888888888889,
           1485.8556701030927,
           1480.8241758241759,
           1475,
           1463.8875,
           1453.7847222222222,
           1452.1592920353983,
           1440.72,
           1438.0350877192982,
           1418.2608695652175,
           1399.6827586206896,
           1394.2725274725274,
           1388.625,
           1381.875,
           1373.2058823529412,
           1347.882014388489,
           1333.4878048780488
          ],
          "coloraxis": "coloraxis",
          "pattern": {
           "shape": ""
          }
         },
         "name": "",
         "offsetgroup": "",
         "orientation": "v",
         "showlegend": false,
         "textposition": "auto",
         "type": "bar",
         "x": [
          "LV",
          "LU",
          "SE",
          "MT",
          "DE",
          "BE",
          "HU",
          "AT",
          "SK",
          "BG",
          "IE",
          "PL",
          "DK",
          "LT",
          "PT",
          "NL",
          "CZ",
          "SI",
          "FI",
          "HR",
          "ES",
          "FR",
          "CY",
          "EE",
          "RO",
          "IT",
          "GR"
         ],
         "xaxis": "x",
         "y": [
          1710.8,
          1658.2105263157894,
          1619.4761904761904,
          1615,
          1559.189075630252,
          1555.0689655172414,
          1543.3272727272727,
          1536.603448275862,
          1515.837837837838,
          1507.9375,
          1504.6888888888889,
          1485.8556701030927,
          1480.8241758241759,
          1475,
          1463.8875,
          1453.7847222222222,
          1452.1592920353983,
          1440.72,
          1438.0350877192982,
          1418.2608695652175,
          1399.6827586206896,
          1394.2725274725274,
          1388.625,
          1381.875,
          1373.2058823529412,
          1347.882014388489,
          1333.4878048780488
         ],
         "yaxis": "y"
        }
       ],
       "layout": {
        "annotations": [
         {
          "showarrow": false,
          "text": "Data Source: European Environment Agency, 2021",
          "x": 1,
          "xanchor": "right",
          "xref": "paper",
          "y": -0.15,
          "yanchor": "auto",
          "yref": "paper"
         }
        ],
        "barmode": "relative",
        "coloraxis": {
         "colorbar": {
          "title": {
           "text": "MassRunningOrder"
          }
         },
         "colorscale": [
          [
           0,
           "rgb(255,245,240)"
          ],
          [
           0.125,
           "rgb(254,224,210)"
          ],
          [
           0.25,
           "rgb(252,187,161)"
          ],
          [
           0.375,
           "rgb(252,146,114)"
          ],
          [
           0.5,
           "rgb(251,106,74)"
          ],
          [
           0.625,
           "rgb(239,59,44)"
          ],
          [
           0.75,
           "rgb(203,24,29)"
          ],
          [
           0.875,
           "rgb(165,15,21)"
          ],
          [
           1,
           "rgb(103,0,13)"
          ]
         ]
        },
        "legend": {
         "tracegroupgap": 0
        },
        "margin": {
         "t": 60
        },
        "template": {
         "data": {
          "bar": [
           {
            "error_x": {
             "color": "#2a3f5f"
            },
            "error_y": {
             "color": "#2a3f5f"
            },
            "marker": {
             "line": {
              "color": "#E5ECF6",
              "width": 0.5
             },
             "pattern": {
              "fillmode": "overlay",
              "size": 10,
              "solidity": 0.2
             }
            },
            "type": "bar"
           }
          ],
          "barpolar": [
           {
            "marker": {
             "line": {
              "color": "#E5ECF6",
              "width": 0.5
             },
             "pattern": {
              "fillmode": "overlay",
              "size": 10,
              "solidity": 0.2
             }
            },
            "type": "barpolar"
           }
          ],
          "carpet": [
           {
            "aaxis": {
             "endlinecolor": "#2a3f5f",
             "gridcolor": "white",
             "linecolor": "white",
             "minorgridcolor": "white",
             "startlinecolor": "#2a3f5f"
            },
            "baxis": {
             "endlinecolor": "#2a3f5f",
             "gridcolor": "white",
             "linecolor": "white",
             "minorgridcolor": "white",
             "startlinecolor": "#2a3f5f"
            },
            "type": "carpet"
           }
          ],
          "choropleth": [
           {
            "colorbar": {
             "outlinewidth": 0,
             "ticks": ""
            },
            "type": "choropleth"
           }
          ],
          "contour": [
           {
            "colorbar": {
             "outlinewidth": 0,
             "ticks": ""
            },
            "colorscale": [
             [
              0,
              "#0d0887"
             ],
             [
              0.1111111111111111,
              "#46039f"
             ],
             [
              0.2222222222222222,
              "#7201a8"
             ],
             [
              0.3333333333333333,
              "#9c179e"
             ],
             [
              0.4444444444444444,
              "#bd3786"
             ],
             [
              0.5555555555555556,
              "#d8576b"
             ],
             [
              0.6666666666666666,
              "#ed7953"
             ],
             [
              0.7777777777777778,
              "#fb9f3a"
             ],
             [
              0.8888888888888888,
              "#fdca26"
             ],
             [
              1,
              "#f0f921"
             ]
            ],
            "type": "contour"
           }
          ],
          "contourcarpet": [
           {
            "colorbar": {
             "outlinewidth": 0,
             "ticks": ""
            },
            "type": "contourcarpet"
           }
          ],
          "heatmap": [
           {
            "colorbar": {
             "outlinewidth": 0,
             "ticks": ""
            },
            "colorscale": [
             [
              0,
              "#0d0887"
             ],
             [
              0.1111111111111111,
              "#46039f"
             ],
             [
              0.2222222222222222,
              "#7201a8"
             ],
             [
              0.3333333333333333,
              "#9c179e"
             ],
             [
              0.4444444444444444,
              "#bd3786"
             ],
             [
              0.5555555555555556,
              "#d8576b"
             ],
             [
              0.6666666666666666,
              "#ed7953"
             ],
             [
              0.7777777777777778,
              "#fb9f3a"
             ],
             [
              0.8888888888888888,
              "#fdca26"
             ],
             [
              1,
              "#f0f921"
             ]
            ],
            "type": "heatmap"
           }
          ],
          "heatmapgl": [
           {
            "colorbar": {
             "outlinewidth": 0,
             "ticks": ""
            },
            "colorscale": [
             [
              0,
              "#0d0887"
             ],
             [
              0.1111111111111111,
              "#46039f"
             ],
             [
              0.2222222222222222,
              "#7201a8"
             ],
             [
              0.3333333333333333,
              "#9c179e"
             ],
             [
              0.4444444444444444,
              "#bd3786"
             ],
             [
              0.5555555555555556,
              "#d8576b"
             ],
             [
              0.6666666666666666,
              "#ed7953"
             ],
             [
              0.7777777777777778,
              "#fb9f3a"
             ],
             [
              0.8888888888888888,
              "#fdca26"
             ],
             [
              1,
              "#f0f921"
             ]
            ],
            "type": "heatmapgl"
           }
          ],
          "histogram": [
           {
            "marker": {
             "pattern": {
              "fillmode": "overlay",
              "size": 10,
              "solidity": 0.2
             }
            },
            "type": "histogram"
           }
          ],
          "histogram2d": [
           {
            "colorbar": {
             "outlinewidth": 0,
             "ticks": ""
            },
            "colorscale": [
             [
              0,
              "#0d0887"
             ],
             [
              0.1111111111111111,
              "#46039f"
             ],
             [
              0.2222222222222222,
              "#7201a8"
             ],
             [
              0.3333333333333333,
              "#9c179e"
             ],
             [
              0.4444444444444444,
              "#bd3786"
             ],
             [
              0.5555555555555556,
              "#d8576b"
             ],
             [
              0.6666666666666666,
              "#ed7953"
             ],
             [
              0.7777777777777778,
              "#fb9f3a"
             ],
             [
              0.8888888888888888,
              "#fdca26"
             ],
             [
              1,
              "#f0f921"
             ]
            ],
            "type": "histogram2d"
           }
          ],
          "histogram2dcontour": [
           {
            "colorbar": {
             "outlinewidth": 0,
             "ticks": ""
            },
            "colorscale": [
             [
              0,
              "#0d0887"
             ],
             [
              0.1111111111111111,
              "#46039f"
             ],
             [
              0.2222222222222222,
              "#7201a8"
             ],
             [
              0.3333333333333333,
              "#9c179e"
             ],
             [
              0.4444444444444444,
              "#bd3786"
             ],
             [
              0.5555555555555556,
              "#d8576b"
             ],
             [
              0.6666666666666666,
              "#ed7953"
             ],
             [
              0.7777777777777778,
              "#fb9f3a"
             ],
             [
              0.8888888888888888,
              "#fdca26"
             ],
             [
              1,
              "#f0f921"
             ]
            ],
            "type": "histogram2dcontour"
           }
          ],
          "mesh3d": [
           {
            "colorbar": {
             "outlinewidth": 0,
             "ticks": ""
            },
            "type": "mesh3d"
           }
          ],
          "parcoords": [
           {
            "line": {
             "colorbar": {
              "outlinewidth": 0,
              "ticks": ""
             }
            },
            "type": "parcoords"
           }
          ],
          "pie": [
           {
            "automargin": true,
            "type": "pie"
           }
          ],
          "scatter": [
           {
            "fillpattern": {
             "fillmode": "overlay",
             "size": 10,
             "solidity": 0.2
            },
            "type": "scatter"
           }
          ],
          "scatter3d": [
           {
            "line": {
             "colorbar": {
              "outlinewidth": 0,
              "ticks": ""
             }
            },
            "marker": {
             "colorbar": {
              "outlinewidth": 0,
              "ticks": ""
             }
            },
            "type": "scatter3d"
           }
          ],
          "scattercarpet": [
           {
            "marker": {
             "colorbar": {
              "outlinewidth": 0,
              "ticks": ""
             }
            },
            "type": "scattercarpet"
           }
          ],
          "scattergeo": [
           {
            "marker": {
             "colorbar": {
              "outlinewidth": 0,
              "ticks": ""
             }
            },
            "type": "scattergeo"
           }
          ],
          "scattergl": [
           {
            "marker": {
             "colorbar": {
              "outlinewidth": 0,
              "ticks": ""
             }
            },
            "type": "scattergl"
           }
          ],
          "scattermapbox": [
           {
            "marker": {
             "colorbar": {
              "outlinewidth": 0,
              "ticks": ""
             }
            },
            "type": "scattermapbox"
           }
          ],
          "scatterpolar": [
           {
            "marker": {
             "colorbar": {
              "outlinewidth": 0,
              "ticks": ""
             }
            },
            "type": "scatterpolar"
           }
          ],
          "scatterpolargl": [
           {
            "marker": {
             "colorbar": {
              "outlinewidth": 0,
              "ticks": ""
             }
            },
            "type": "scatterpolargl"
           }
          ],
          "scatterternary": [
           {
            "marker": {
             "colorbar": {
              "outlinewidth": 0,
              "ticks": ""
             }
            },
            "type": "scatterternary"
           }
          ],
          "surface": [
           {
            "colorbar": {
             "outlinewidth": 0,
             "ticks": ""
            },
            "colorscale": [
             [
              0,
              "#0d0887"
             ],
             [
              0.1111111111111111,
              "#46039f"
             ],
             [
              0.2222222222222222,
              "#7201a8"
             ],
             [
              0.3333333333333333,
              "#9c179e"
             ],
             [
              0.4444444444444444,
              "#bd3786"
             ],
             [
              0.5555555555555556,
              "#d8576b"
             ],
             [
              0.6666666666666666,
              "#ed7953"
             ],
             [
              0.7777777777777778,
              "#fb9f3a"
             ],
             [
              0.8888888888888888,
              "#fdca26"
             ],
             [
              1,
              "#f0f921"
             ]
            ],
            "type": "surface"
           }
          ],
          "table": [
           {
            "cells": {
             "fill": {
              "color": "#EBF0F8"
             },
             "line": {
              "color": "white"
             }
            },
            "header": {
             "fill": {
              "color": "#C8D4E3"
             },
             "line": {
              "color": "white"
             }
            },
            "type": "table"
           }
          ]
         },
         "layout": {
          "annotationdefaults": {
           "arrowcolor": "#2a3f5f",
           "arrowhead": 0,
           "arrowwidth": 1
          },
          "autotypenumbers": "strict",
          "coloraxis": {
           "colorbar": {
            "outlinewidth": 0,
            "ticks": ""
           }
          },
          "colorscale": {
           "diverging": [
            [
             0,
             "#8e0152"
            ],
            [
             0.1,
             "#c51b7d"
            ],
            [
             0.2,
             "#de77ae"
            ],
            [
             0.3,
             "#f1b6da"
            ],
            [
             0.4,
             "#fde0ef"
            ],
            [
             0.5,
             "#f7f7f7"
            ],
            [
             0.6,
             "#e6f5d0"
            ],
            [
             0.7,
             "#b8e186"
            ],
            [
             0.8,
             "#7fbc41"
            ],
            [
             0.9,
             "#4d9221"
            ],
            [
             1,
             "#276419"
            ]
           ],
           "sequential": [
            [
             0,
             "#0d0887"
            ],
            [
             0.1111111111111111,
             "#46039f"
            ],
            [
             0.2222222222222222,
             "#7201a8"
            ],
            [
             0.3333333333333333,
             "#9c179e"
            ],
            [
             0.4444444444444444,
             "#bd3786"
            ],
            [
             0.5555555555555556,
             "#d8576b"
            ],
            [
             0.6666666666666666,
             "#ed7953"
            ],
            [
             0.7777777777777778,
             "#fb9f3a"
            ],
            [
             0.8888888888888888,
             "#fdca26"
            ],
            [
             1,
             "#f0f921"
            ]
           ],
           "sequentialminus": [
            [
             0,
             "#0d0887"
            ],
            [
             0.1111111111111111,
             "#46039f"
            ],
            [
             0.2222222222222222,
             "#7201a8"
            ],
            [
             0.3333333333333333,
             "#9c179e"
            ],
            [
             0.4444444444444444,
             "#bd3786"
            ],
            [
             0.5555555555555556,
             "#d8576b"
            ],
            [
             0.6666666666666666,
             "#ed7953"
            ],
            [
             0.7777777777777778,
             "#fb9f3a"
            ],
            [
             0.8888888888888888,
             "#fdca26"
            ],
            [
             1,
             "#f0f921"
            ]
           ]
          },
          "colorway": [
           "#636efa",
           "#EF553B",
           "#00cc96",
           "#ab63fa",
           "#FFA15A",
           "#19d3f3",
           "#FF6692",
           "#B6E880",
           "#FF97FF",
           "#FECB52"
          ],
          "font": {
           "color": "#2a3f5f"
          },
          "geo": {
           "bgcolor": "white",
           "lakecolor": "white",
           "landcolor": "#E5ECF6",
           "showlakes": true,
           "showland": true,
           "subunitcolor": "white"
          },
          "hoverlabel": {
           "align": "left"
          },
          "hovermode": "closest",
          "mapbox": {
           "style": "light"
          },
          "paper_bgcolor": "white",
          "plot_bgcolor": "#E5ECF6",
          "polar": {
           "angularaxis": {
            "gridcolor": "white",
            "linecolor": "white",
            "ticks": ""
           },
           "bgcolor": "#E5ECF6",
           "radialaxis": {
            "gridcolor": "white",
            "linecolor": "white",
            "ticks": ""
           }
          },
          "scene": {
           "xaxis": {
            "backgroundcolor": "#E5ECF6",
            "gridcolor": "white",
            "gridwidth": 2,
            "linecolor": "white",
            "showbackground": true,
            "ticks": "",
            "zerolinecolor": "white"
           },
           "yaxis": {
            "backgroundcolor": "#E5ECF6",
            "gridcolor": "white",
            "gridwidth": 2,
            "linecolor": "white",
            "showbackground": true,
            "ticks": "",
            "zerolinecolor": "white"
           },
           "zaxis": {
            "backgroundcolor": "#E5ECF6",
            "gridcolor": "white",
            "gridwidth": 2,
            "linecolor": "white",
            "showbackground": true,
            "ticks": "",
            "zerolinecolor": "white"
           }
          },
          "shapedefaults": {
           "line": {
            "color": "#2a3f5f"
           }
          },
          "ternary": {
           "aaxis": {
            "gridcolor": "white",
            "linecolor": "white",
            "ticks": ""
           },
           "baxis": {
            "gridcolor": "white",
            "linecolor": "white",
            "ticks": ""
           },
           "bgcolor": "#E5ECF6",
           "caxis": {
            "gridcolor": "white",
            "linecolor": "white",
            "ticks": ""
           }
          },
          "title": {
           "x": 0.05
          },
          "xaxis": {
           "automargin": true,
           "gridcolor": "white",
           "linecolor": "white",
           "ticks": "",
           "title": {
            "standoff": 15
           },
           "zerolinecolor": "white",
           "zerolinewidth": 2
          },
          "yaxis": {
           "automargin": true,
           "gridcolor": "white",
           "linecolor": "white",
           "ticks": "",
           "title": {
            "standoff": 15
           },
           "zerolinecolor": "white",
           "zerolinewidth": 2
          }
         }
        },
        "title": {
         "text": "Quel pays achète les véhicules les plus lourds? (Kg)",
         "x": 0.3
        },
        "xaxis": {
         "anchor": "y",
         "domain": [
          0,
          1
         ],
         "title": {
          "text": "Country"
         }
        },
        "yaxis": {
         "anchor": "x",
         "domain": [
          0,
          1
         ],
         "title": {
          "text": "MassRunningOrder"
         }
        }
       }
      }
     },
     "metadata": {},
     "output_type": "display_data"
    }
   ],
   "source": [
    "countries = CountryDataAggregator(df)\n",
    "countries.display_sorted(n=5, by='ElectricRange', columns=['Country', 'GdpPerCapita', 'Count'], \n",
    "                         title=\"Top 5 des pays par capacité de propulsion électrique (moyenne kms)\")\n",
    "countries.countrywise_viz()"
   ]
  },
  {
   "cell_type": "code",
   "execution_count": 3,
   "metadata": {},
   "outputs": [
    {
     "data": {
      "text/html": [
       "<style type=\"text/css\">\n",
       "#T_c54b9 th {\n",
       "  background-color: steelblue;\n",
       "  color: white;\n",
       "}\n",
       "#T_c54b9 tr:nth-of-type(odd) {\n",
       "  background-color: aliceblue;\n",
       "}\n",
       "#T_c54b9 tr:nth-of-type(even) {\n",
       "  background-color: white;\n",
       "}\n",
       "</style>\n",
       "<table id=\"T_c54b9\">\n",
       "  <caption><h2>Top 8 marques en Europe (2021)</h2></caption>\n",
       "  <thead>\n",
       "    <tr>\n",
       "      <th class=\"blank\" >&nbsp;</th>\n",
       "      <th class=\"blank level0\" >&nbsp;</th>\n",
       "      <th id=\"T_c54b9_level0_col0\" class=\"col_heading level0 col0\" >Count</th>\n",
       "      <th id=\"T_c54b9_level0_col1\" class=\"col_heading level0 col1\" >MarketShare(%)</th>\n",
       "      <th id=\"T_c54b9_level0_col2\" class=\"col_heading level0 col2\" >FuelType</th>\n",
       "      <th id=\"T_c54b9_level0_col3\" class=\"col_heading level0 col3\" >FuelConsumption</th>\n",
       "      <th id=\"T_c54b9_level0_col4\" class=\"col_heading level0 col4\" >EnginePower</th>\n",
       "      <th id=\"T_c54b9_level0_col5\" class=\"col_heading level0 col5\" >Co2EmissionsWltp</th>\n",
       "      <th id=\"T_c54b9_level0_col6\" class=\"col_heading level0 col6\" >MassRunningOrder</th>\n",
       "      <th id=\"T_c54b9_level0_col7\" class=\"col_heading level0 col7\" >BaseWheel</th>\n",
       "      <th id=\"T_c54b9_level0_col8\" class=\"col_heading level0 col8\" >AxleWidthSteering</th>\n",
       "      <th id=\"T_c54b9_level0_col9\" class=\"col_heading level0 col9\" >ElectricRange</th>\n",
       "    </tr>\n",
       "    <tr>\n",
       "      <th class=\"index_name level0\" >Pool</th>\n",
       "      <th class=\"index_name level1\" >Make</th>\n",
       "      <th class=\"blank col0\" >&nbsp;</th>\n",
       "      <th class=\"blank col1\" >&nbsp;</th>\n",
       "      <th class=\"blank col2\" >&nbsp;</th>\n",
       "      <th class=\"blank col3\" >&nbsp;</th>\n",
       "      <th class=\"blank col4\" >&nbsp;</th>\n",
       "      <th class=\"blank col5\" >&nbsp;</th>\n",
       "      <th class=\"blank col6\" >&nbsp;</th>\n",
       "      <th class=\"blank col7\" >&nbsp;</th>\n",
       "      <th class=\"blank col8\" >&nbsp;</th>\n",
       "      <th class=\"blank col9\" >&nbsp;</th>\n",
       "    </tr>\n",
       "  </thead>\n",
       "  <tbody>\n",
       "    <tr>\n",
       "      <th id=\"T_c54b9_level0_row0\" class=\"row_heading level0 row0\" >VW-SAIC</th>\n",
       "      <th id=\"T_c54b9_level1_row0\" class=\"row_heading level1 row0\" >VOLKSWAGEN</th>\n",
       "      <td id=\"T_c54b9_row0_col0\" class=\"data row0 col0\" >538</td>\n",
       "      <td id=\"T_c54b9_row0_col1\" class=\"data row0 col1\" >11.340</td>\n",
       "      <td id=\"T_c54b9_row0_col2\" class=\"data row0 col2\" >PETROL</td>\n",
       "      <td id=\"T_c54b9_row0_col3\" class=\"data row0 col3\" >5.790</td>\n",
       "      <td id=\"T_c54b9_row0_col4\" class=\"data row0 col4\" >98.684</td>\n",
       "      <td id=\"T_c54b9_row0_col5\" class=\"data row0 col5\" >121.204</td>\n",
       "      <td id=\"T_c54b9_row0_col6\" class=\"data row0 col6\" >1499.015</td>\n",
       "      <td id=\"T_c54b9_row0_col7\" class=\"data row0 col7\" >2663.695</td>\n",
       "      <td id=\"T_c54b9_row0_col8\" class=\"data row0 col8\" >1536.193</td>\n",
       "      <td id=\"T_c54b9_row0_col9\" class=\"data row0 col9\" >27.390</td>\n",
       "    </tr>\n",
       "    <tr>\n",
       "      <th id=\"T_c54b9_level0_row1\" class=\"row_heading level0 row1\" >RENAULT-NISSAN-MITSUBISHI</th>\n",
       "      <th id=\"T_c54b9_level1_row1\" class=\"row_heading level1 row1\" >RENAULT</th>\n",
       "      <td id=\"T_c54b9_row1_col0\" class=\"data row1 col0\" >336</td>\n",
       "      <td id=\"T_c54b9_row1_col1\" class=\"data row1 col1\" >7.080</td>\n",
       "      <td id=\"T_c54b9_row1_col2\" class=\"data row1 col2\" >PETROL</td>\n",
       "      <td id=\"T_c54b9_row1_col3\" class=\"data row1 col3\" >5.214</td>\n",
       "      <td id=\"T_c54b9_row1_col4\" class=\"data row1 col4\" >72.655</td>\n",
       "      <td id=\"T_c54b9_row1_col5\" class=\"data row1 col5\" >101.967</td>\n",
       "      <td id=\"T_c54b9_row1_col6\" class=\"data row1 col6\" >1353.315</td>\n",
       "      <td id=\"T_c54b9_row1_col7\" class=\"data row1 col7\" >2626.345</td>\n",
       "      <td id=\"T_c54b9_row1_col8\" class=\"data row1 col8\" >1530.314</td>\n",
       "      <td id=\"T_c54b9_row1_col9\" class=\"data row1 col9\" >37.232</td>\n",
       "    </tr>\n",
       "    <tr>\n",
       "      <th id=\"T_c54b9_level0_row2\" class=\"row_heading level0 row2\" >STELLANTIS</th>\n",
       "      <th id=\"T_c54b9_level1_row2\" class=\"row_heading level1 row2\" >PEUGEOT</th>\n",
       "      <td id=\"T_c54b9_row2_col0\" class=\"data row2 col0\" >333</td>\n",
       "      <td id=\"T_c54b9_row2_col1\" class=\"data row2 col1\" >7.020</td>\n",
       "      <td id=\"T_c54b9_row2_col2\" class=\"data row2 col2\" >PETROL</td>\n",
       "      <td id=\"T_c54b9_row2_col3\" class=\"data row2 col3\" >4.907</td>\n",
       "      <td id=\"T_c54b9_row2_col4\" class=\"data row2 col4\" >84.943</td>\n",
       "      <td id=\"T_c54b9_row2_col5\" class=\"data row2 col5\" >111.859</td>\n",
       "      <td id=\"T_c54b9_row2_col6\" class=\"data row2 col6\" >1343.655</td>\n",
       "      <td id=\"T_c54b9_row2_col7\" class=\"data row2 col7\" >2619.850</td>\n",
       "      <td id=\"T_c54b9_row2_col8\" class=\"data row2 col8\" >1545.186</td>\n",
       "      <td id=\"T_c54b9_row2_col9\" class=\"data row2 col9\" >24.622</td>\n",
       "    </tr>\n",
       "    <tr>\n",
       "      <th id=\"T_c54b9_level0_row3\" class=\"row_heading level0 row3\" >BMW</th>\n",
       "      <th id=\"T_c54b9_level1_row3\" class=\"row_heading level1 row3\" >BMW</th>\n",
       "      <td id=\"T_c54b9_row3_col0\" class=\"data row3 col0\" >299</td>\n",
       "      <td id=\"T_c54b9_row3_col1\" class=\"data row3 col1\" >6.300</td>\n",
       "      <td id=\"T_c54b9_row3_col2\" class=\"data row3 col2\" >DIESEL</td>\n",
       "      <td id=\"T_c54b9_row3_col3\" class=\"data row3 col3\" >5.945</td>\n",
       "      <td id=\"T_c54b9_row3_col4\" class=\"data row3 col4\" >148.043</td>\n",
       "      <td id=\"T_c54b9_row3_col5\" class=\"data row3 col5\" >120.067</td>\n",
       "      <td id=\"T_c54b9_row3_col6\" class=\"data row3 col6\" >1777.030</td>\n",
       "      <td id=\"T_c54b9_row3_col7\" class=\"data row3 col7\" >2791.886</td>\n",
       "      <td id=\"T_c54b9_row3_col8\" class=\"data row3 col8\" >1592.374</td>\n",
       "      <td id=\"T_c54b9_row3_col9\" class=\"data row3 col9\" >34.692</td>\n",
       "    </tr>\n",
       "    <tr>\n",
       "      <th id=\"T_c54b9_level0_row4\" class=\"row_heading level0 row4\" >MAZDA-SUBARU-SUZUKI-TOYOTA</th>\n",
       "      <th id=\"T_c54b9_level1_row4\" class=\"row_heading level1 row4\" >TOYOTA</th>\n",
       "      <td id=\"T_c54b9_row4_col0\" class=\"data row4 col0\" >298</td>\n",
       "      <td id=\"T_c54b9_row4_col1\" class=\"data row4 col1\" >6.280</td>\n",
       "      <td id=\"T_c54b9_row4_col2\" class=\"data row4 col2\" >PETROL</td>\n",
       "      <td id=\"T_c54b9_row4_col3\" class=\"data row4 col3\" >4.441</td>\n",
       "      <td id=\"T_c54b9_row4_col4\" class=\"data row4 col4\" >85.218</td>\n",
       "      <td id=\"T_c54b9_row4_col5\" class=\"data row4 col5\" >109.218</td>\n",
       "      <td id=\"T_c54b9_row4_col6\" class=\"data row4 col6\" >1391.054</td>\n",
       "      <td id=\"T_c54b9_row4_col7\" class=\"data row4 col7\" >2622.886</td>\n",
       "      <td id=\"T_c54b9_row4_col8\" class=\"data row4 col8\" >1536.506</td>\n",
       "      <td id=\"T_c54b9_row4_col9\" class=\"data row4 col9\" >3.554</td>\n",
       "    </tr>\n",
       "    <tr>\n",
       "      <th id=\"T_c54b9_level0_row5\" class=\"row_heading level0 row5\" >MERCEDES-BENZ</th>\n",
       "      <th id=\"T_c54b9_level1_row5\" class=\"row_heading level1 row5\" >MERCEDES-BENZ</th>\n",
       "      <td id=\"T_c54b9_row5_col0\" class=\"data row5 col0\" >243</td>\n",
       "      <td id=\"T_c54b9_row5_col1\" class=\"data row5 col1\" >5.120</td>\n",
       "      <td id=\"T_c54b9_row5_col2\" class=\"data row5 col2\" >DIESEL</td>\n",
       "      <td id=\"T_c54b9_row5_col3\" class=\"data row5 col3\" >6.255</td>\n",
       "      <td id=\"T_c54b9_row5_col4\" class=\"data row5 col4\" >148.881</td>\n",
       "      <td id=\"T_c54b9_row5_col5\" class=\"data row5 col5\" >125.539</td>\n",
       "      <td id=\"T_c54b9_row5_col6\" class=\"data row5 col6\" >1852.568</td>\n",
       "      <td id=\"T_c54b9_row5_col7\" class=\"data row5 col7\" >2859.428</td>\n",
       "      <td id=\"T_c54b9_row5_col8\" class=\"data row5 col8\" >1612.948</td>\n",
       "      <td id=\"T_c54b9_row5_col9\" class=\"data row5 col9\" >34.926</td>\n",
       "    </tr>\n",
       "    <tr>\n",
       "      <th id=\"T_c54b9_level0_row6\" class=\"row_heading level0 row6\" >VW-SAIC</th>\n",
       "      <th id=\"T_c54b9_level1_row6\" class=\"row_heading level1 row6\" >SKODA</th>\n",
       "      <td id=\"T_c54b9_row6_col0\" class=\"data row6 col0\" >235</td>\n",
       "      <td id=\"T_c54b9_row6_col1\" class=\"data row6 col1\" >4.950</td>\n",
       "      <td id=\"T_c54b9_row6_col2\" class=\"data row6 col2\" >PETROL</td>\n",
       "      <td id=\"T_c54b9_row6_col3\" class=\"data row6 col3\" >5.484</td>\n",
       "      <td id=\"T_c54b9_row6_col4\" class=\"data row6 col4\" >100.409</td>\n",
       "      <td id=\"T_c54b9_row6_col5\" class=\"data row6 col5\" >124.098</td>\n",
       "      <td id=\"T_c54b9_row6_col6\" class=\"data row6 col6\" >1426.315</td>\n",
       "      <td id=\"T_c54b9_row6_col7\" class=\"data row6 col7\" >2649.715</td>\n",
       "      <td id=\"T_c54b9_row6_col8\" class=\"data row6 col8\" >1528.044</td>\n",
       "      <td id=\"T_c54b9_row6_col9\" class=\"data row6 col9\" >19.881</td>\n",
       "    </tr>\n",
       "    <tr>\n",
       "      <th id=\"T_c54b9_level0_row7\" class=\"row_heading level0 row7\" >STELLANTIS</th>\n",
       "      <th id=\"T_c54b9_level1_row7\" class=\"row_heading level1 row7\" >CITROEN</th>\n",
       "      <td id=\"T_c54b9_row7_col0\" class=\"data row7 col0\" >223</td>\n",
       "      <td id=\"T_c54b9_row7_col1\" class=\"data row7 col1\" >4.700</td>\n",
       "      <td id=\"T_c54b9_row7_col2\" class=\"data row7 col2\" >PETROL</td>\n",
       "      <td id=\"T_c54b9_row7_col3\" class=\"data row7 col3\" >5.009</td>\n",
       "      <td id=\"T_c54b9_row7_col4\" class=\"data row7 col4\" >79.758</td>\n",
       "      <td id=\"T_c54b9_row7_col5\" class=\"data row7 col5\" >118.525</td>\n",
       "      <td id=\"T_c54b9_row7_col6\" class=\"data row7 col6\" >1281.646</td>\n",
       "      <td id=\"T_c54b9_row7_col7\" class=\"data row7 col7\" >2619.332</td>\n",
       "      <td id=\"T_c54b9_row7_col8\" class=\"data row7 col8\" >1529.185</td>\n",
       "      <td id=\"T_c54b9_row7_col9\" class=\"data row7 col9\" >15.233</td>\n",
       "    </tr>\n",
       "  </tbody>\n",
       "</table>\n"
      ],
      "text/plain": [
       "<pandas.io.formats.style.Styler at 0x7f7af03a3fa0>"
      ]
     },
     "metadata": {},
     "output_type": "display_data"
    },
    {
     "name": "stdout",
     "output_type": "stream",
     "text": [
      "<class 'pandas.io.formats.style.Styler'>\n"
     ]
    }
   ],
   "source": [
    "makers = ManufacturerDataAggregator(df)\n",
    "makers.display_sorted(by='MarketShare(%)', n=8, title=\"Top 8 marques en Europe (2021)\")"
   ]
  },
  {
   "cell_type": "code",
   "execution_count": 4,
   "metadata": {},
   "outputs": [
    {
     "data": {
      "application/vnd.plotly.v1+json": {
       "config": {
        "plotlyServerURL": "https://plot.ly"
       },
       "data": [
        {
         "marker": {
          "color": "rgb(166,206,227)"
         },
         "name": "BMW",
         "type": "bar",
         "x": [
          "BMW"
         ],
         "y": [
          299
         ]
        },
        {
         "marker": {
          "color": "rgb(31,120,180)"
         },
         "name": "MINI",
         "type": "bar",
         "x": [
          "BMW"
         ],
         "y": [
          60
         ]
        },
        {
         "marker": {
          "color": "rgb(178,223,138)"
         },
         "name": "FORD",
         "type": "bar",
         "x": [
          "FORD"
         ],
         "y": [
          202
         ]
        },
        {
         "marker": {
          "color": "rgb(51,160,44)"
         },
         "name": "HONDA",
         "type": "bar",
         "x": [
          "HONDA-GROUP"
         ],
         "y": [
          21
         ]
        },
        {
         "marker": {
          "color": "rgb(251,154,153)"
         },
         "name": "HYUNDAI",
         "type": "bar",
         "x": [
          "HYUNDAI"
         ],
         "y": [
          189
         ]
        },
        {
         "marker": {
          "color": "rgb(227,26,28)"
         },
         "name": "KIA",
         "type": "bar",
         "x": [
          "KIA"
         ],
         "y": [
          203
         ]
        },
        {
         "marker": {
          "color": "rgb(253,191,111)"
         },
         "name": "LEXUS",
         "type": "bar",
         "x": [
          "MAZDA-SUBARU-SUZUKI-TOYOTA"
         ],
         "y": [
          13
         ]
        },
        {
         "marker": {
          "color": "rgb(255,127,0)"
         },
         "name": "MAZDA",
         "type": "bar",
         "x": [
          "MAZDA-SUBARU-SUZUKI-TOYOTA"
         ],
         "y": [
          52
         ]
        },
        {
         "marker": {
          "color": "rgb(202,178,214)"
         },
         "name": "SUZUKI",
         "type": "bar",
         "x": [
          "MAZDA-SUBARU-SUZUKI-TOYOTA"
         ],
         "y": [
          69
         ]
        },
        {
         "marker": {
          "color": "rgb(106,61,154)"
         },
         "name": "TOYOTA",
         "type": "bar",
         "x": [
          "MAZDA-SUBARU-SUZUKI-TOYOTA"
         ],
         "y": [
          298
         ]
        },
        {
         "marker": {
          "color": "rgb(255,255,153)"
         },
         "name": "MERCEDES-BENZ",
         "type": "bar",
         "x": [
          "MERCEDES-BENZ"
         ],
         "y": [
          243
         ]
        },
        {
         "marker": {
          "color": "rgb(177,89,40)"
         },
         "name": "SMART",
         "type": "bar",
         "x": [
          "MERCEDES-BENZ"
         ],
         "y": [
          18
         ]
        },
        {
         "marker": {
          "color": "rgb(166,206,227)"
         },
         "name": "DACIA",
         "type": "bar",
         "x": [
          "RENAULT-NISSAN-MITSUBISHI"
         ],
         "y": [
          208
         ]
        },
        {
         "marker": {
          "color": "rgb(31,120,180)"
         },
         "name": "MITSUBISHI",
         "type": "bar",
         "x": [
          "RENAULT-NISSAN-MITSUBISHI"
         ],
         "y": [
          31
         ]
        },
        {
         "marker": {
          "color": "rgb(178,223,138)"
         },
         "name": "NISSAN",
         "type": "bar",
         "x": [
          "RENAULT-NISSAN-MITSUBISHI"
         ],
         "y": [
          88
         ]
        },
        {
         "marker": {
          "color": "rgb(51,160,44)"
         },
         "name": "RENAULT",
         "type": "bar",
         "x": [
          "RENAULT-NISSAN-MITSUBISHI"
         ],
         "y": [
          336
         ]
        },
        {
         "marker": {
          "color": "rgb(251,154,153)"
         },
         "name": "ALFA ROMEO",
         "type": "bar",
         "x": [
          "STELLANTIS"
         ],
         "y": [
          10
         ]
        },
        {
         "marker": {
          "color": "rgb(227,26,28)"
         },
         "name": "CITROEN",
         "type": "bar",
         "x": [
          "STELLANTIS"
         ],
         "y": [
          223
         ]
        },
        {
         "marker": {
          "color": "rgb(253,191,111)"
         },
         "name": "DS",
         "type": "bar",
         "x": [
          "STELLANTIS"
         ],
         "y": [
          18
         ]
        },
        {
         "marker": {
          "color": "rgb(255,127,0)"
         },
         "name": "FIAT",
         "type": "bar",
         "x": [
          "STELLANTIS"
         ],
         "y": [
          213
         ]
        },
        {
         "marker": {
          "color": "rgb(202,178,214)"
         },
         "name": "JEEP",
         "type": "bar",
         "x": [
          "STELLANTIS"
         ],
         "y": [
          45
         ]
        },
        {
         "marker": {
          "color": "rgb(106,61,154)"
         },
         "name": "LANCIA",
         "type": "bar",
         "x": [
          "STELLANTIS"
         ],
         "y": [
          17
         ]
        },
        {
         "marker": {
          "color": "rgb(255,255,153)"
         },
         "name": "OPEL",
         "type": "bar",
         "x": [
          "STELLANTIS"
         ],
         "y": [
          189
         ]
        },
        {
         "marker": {
          "color": "rgb(177,89,40)"
         },
         "name": "PEUGEOT",
         "type": "bar",
         "x": [
          "STELLANTIS"
         ],
         "y": [
          333
         ]
        },
        {
         "marker": {
          "color": "rgb(166,206,227)"
         },
         "name": "JAGUAR",
         "type": "bar",
         "x": [
          "TATA-MOTORS"
         ],
         "y": [
          13
         ]
        },
        {
         "marker": {
          "color": "rgb(31,120,180)"
         },
         "name": "LAND ROVER",
         "type": "bar",
         "x": [
          "TATA-MOTORS"
         ],
         "y": [
          25
         ]
        },
        {
         "marker": {
          "color": "rgb(178,223,138)"
         },
         "name": "TESLA",
         "type": "bar",
         "x": [
          "TESLA"
         ],
         "y": [
          72
         ]
        },
        {
         "marker": {
          "color": "rgb(51,160,44)"
         },
         "name": "AUDI",
         "type": "bar",
         "x": [
          "VW-SAIC"
         ],
         "y": [
          208
         ]
        },
        {
         "marker": {
          "color": "rgb(251,154,153)"
         },
         "name": "CUPRA",
         "type": "bar",
         "x": [
          "VW-SAIC"
         ],
         "y": [
          28
         ]
        },
        {
         "marker": {
          "color": "rgb(227,26,28)"
         },
         "name": "MG",
         "type": "bar",
         "x": [
          "VW-SAIC"
         ],
         "y": [
          11
         ]
        },
        {
         "marker": {
          "color": "rgb(253,191,111)"
         },
         "name": "PORSCHE",
         "type": "bar",
         "x": [
          "VW-SAIC"
         ],
         "y": [
          23
         ]
        },
        {
         "marker": {
          "color": "rgb(255,127,0)"
         },
         "name": "SEAT",
         "type": "bar",
         "x": [
          "VW-SAIC"
         ],
         "y": [
          155
         ]
        },
        {
         "marker": {
          "color": "rgb(202,178,214)"
         },
         "name": "SKODA",
         "type": "bar",
         "x": [
          "VW-SAIC"
         ],
         "y": [
          235
         ]
        },
        {
         "marker": {
          "color": "rgb(106,61,154)"
         },
         "name": "VOLKSWAGEN",
         "type": "bar",
         "x": [
          "VW-SAIC"
         ],
         "y": [
          538
         ]
        },
        {
         "marker": {
          "color": "rgb(255,255,153)"
         },
         "name": "VOLKSWAGEN  VW",
         "type": "bar",
         "x": [
          "VW-SAIC"
         ],
         "y": [
          13
         ]
        },
        {
         "marker": {
          "color": "rgb(177,89,40)"
         },
         "name": "ŠKODA",
         "type": "bar",
         "x": [
          "VW-SAIC"
         ],
         "y": [
          16
         ]
        }
       ],
       "layout": {
        "barmode": "stack",
        "template": {
         "data": {
          "bar": [
           {
            "error_x": {
             "color": "#2a3f5f"
            },
            "error_y": {
             "color": "#2a3f5f"
            },
            "marker": {
             "line": {
              "color": "#E5ECF6",
              "width": 0.5
             },
             "pattern": {
              "fillmode": "overlay",
              "size": 10,
              "solidity": 0.2
             }
            },
            "type": "bar"
           }
          ],
          "barpolar": [
           {
            "marker": {
             "line": {
              "color": "#E5ECF6",
              "width": 0.5
             },
             "pattern": {
              "fillmode": "overlay",
              "size": 10,
              "solidity": 0.2
             }
            },
            "type": "barpolar"
           }
          ],
          "carpet": [
           {
            "aaxis": {
             "endlinecolor": "#2a3f5f",
             "gridcolor": "white",
             "linecolor": "white",
             "minorgridcolor": "white",
             "startlinecolor": "#2a3f5f"
            },
            "baxis": {
             "endlinecolor": "#2a3f5f",
             "gridcolor": "white",
             "linecolor": "white",
             "minorgridcolor": "white",
             "startlinecolor": "#2a3f5f"
            },
            "type": "carpet"
           }
          ],
          "choropleth": [
           {
            "colorbar": {
             "outlinewidth": 0,
             "ticks": ""
            },
            "type": "choropleth"
           }
          ],
          "contour": [
           {
            "colorbar": {
             "outlinewidth": 0,
             "ticks": ""
            },
            "colorscale": [
             [
              0,
              "#0d0887"
             ],
             [
              0.1111111111111111,
              "#46039f"
             ],
             [
              0.2222222222222222,
              "#7201a8"
             ],
             [
              0.3333333333333333,
              "#9c179e"
             ],
             [
              0.4444444444444444,
              "#bd3786"
             ],
             [
              0.5555555555555556,
              "#d8576b"
             ],
             [
              0.6666666666666666,
              "#ed7953"
             ],
             [
              0.7777777777777778,
              "#fb9f3a"
             ],
             [
              0.8888888888888888,
              "#fdca26"
             ],
             [
              1,
              "#f0f921"
             ]
            ],
            "type": "contour"
           }
          ],
          "contourcarpet": [
           {
            "colorbar": {
             "outlinewidth": 0,
             "ticks": ""
            },
            "type": "contourcarpet"
           }
          ],
          "heatmap": [
           {
            "colorbar": {
             "outlinewidth": 0,
             "ticks": ""
            },
            "colorscale": [
             [
              0,
              "#0d0887"
             ],
             [
              0.1111111111111111,
              "#46039f"
             ],
             [
              0.2222222222222222,
              "#7201a8"
             ],
             [
              0.3333333333333333,
              "#9c179e"
             ],
             [
              0.4444444444444444,
              "#bd3786"
             ],
             [
              0.5555555555555556,
              "#d8576b"
             ],
             [
              0.6666666666666666,
              "#ed7953"
             ],
             [
              0.7777777777777778,
              "#fb9f3a"
             ],
             [
              0.8888888888888888,
              "#fdca26"
             ],
             [
              1,
              "#f0f921"
             ]
            ],
            "type": "heatmap"
           }
          ],
          "heatmapgl": [
           {
            "colorbar": {
             "outlinewidth": 0,
             "ticks": ""
            },
            "colorscale": [
             [
              0,
              "#0d0887"
             ],
             [
              0.1111111111111111,
              "#46039f"
             ],
             [
              0.2222222222222222,
              "#7201a8"
             ],
             [
              0.3333333333333333,
              "#9c179e"
             ],
             [
              0.4444444444444444,
              "#bd3786"
             ],
             [
              0.5555555555555556,
              "#d8576b"
             ],
             [
              0.6666666666666666,
              "#ed7953"
             ],
             [
              0.7777777777777778,
              "#fb9f3a"
             ],
             [
              0.8888888888888888,
              "#fdca26"
             ],
             [
              1,
              "#f0f921"
             ]
            ],
            "type": "heatmapgl"
           }
          ],
          "histogram": [
           {
            "marker": {
             "pattern": {
              "fillmode": "overlay",
              "size": 10,
              "solidity": 0.2
             }
            },
            "type": "histogram"
           }
          ],
          "histogram2d": [
           {
            "colorbar": {
             "outlinewidth": 0,
             "ticks": ""
            },
            "colorscale": [
             [
              0,
              "#0d0887"
             ],
             [
              0.1111111111111111,
              "#46039f"
             ],
             [
              0.2222222222222222,
              "#7201a8"
             ],
             [
              0.3333333333333333,
              "#9c179e"
             ],
             [
              0.4444444444444444,
              "#bd3786"
             ],
             [
              0.5555555555555556,
              "#d8576b"
             ],
             [
              0.6666666666666666,
              "#ed7953"
             ],
             [
              0.7777777777777778,
              "#fb9f3a"
             ],
             [
              0.8888888888888888,
              "#fdca26"
             ],
             [
              1,
              "#f0f921"
             ]
            ],
            "type": "histogram2d"
           }
          ],
          "histogram2dcontour": [
           {
            "colorbar": {
             "outlinewidth": 0,
             "ticks": ""
            },
            "colorscale": [
             [
              0,
              "#0d0887"
             ],
             [
              0.1111111111111111,
              "#46039f"
             ],
             [
              0.2222222222222222,
              "#7201a8"
             ],
             [
              0.3333333333333333,
              "#9c179e"
             ],
             [
              0.4444444444444444,
              "#bd3786"
             ],
             [
              0.5555555555555556,
              "#d8576b"
             ],
             [
              0.6666666666666666,
              "#ed7953"
             ],
             [
              0.7777777777777778,
              "#fb9f3a"
             ],
             [
              0.8888888888888888,
              "#fdca26"
             ],
             [
              1,
              "#f0f921"
             ]
            ],
            "type": "histogram2dcontour"
           }
          ],
          "mesh3d": [
           {
            "colorbar": {
             "outlinewidth": 0,
             "ticks": ""
            },
            "type": "mesh3d"
           }
          ],
          "parcoords": [
           {
            "line": {
             "colorbar": {
              "outlinewidth": 0,
              "ticks": ""
             }
            },
            "type": "parcoords"
           }
          ],
          "pie": [
           {
            "automargin": true,
            "type": "pie"
           }
          ],
          "scatter": [
           {
            "fillpattern": {
             "fillmode": "overlay",
             "size": 10,
             "solidity": 0.2
            },
            "type": "scatter"
           }
          ],
          "scatter3d": [
           {
            "line": {
             "colorbar": {
              "outlinewidth": 0,
              "ticks": ""
             }
            },
            "marker": {
             "colorbar": {
              "outlinewidth": 0,
              "ticks": ""
             }
            },
            "type": "scatter3d"
           }
          ],
          "scattercarpet": [
           {
            "marker": {
             "colorbar": {
              "outlinewidth": 0,
              "ticks": ""
             }
            },
            "type": "scattercarpet"
           }
          ],
          "scattergeo": [
           {
            "marker": {
             "colorbar": {
              "outlinewidth": 0,
              "ticks": ""
             }
            },
            "type": "scattergeo"
           }
          ],
          "scattergl": [
           {
            "marker": {
             "colorbar": {
              "outlinewidth": 0,
              "ticks": ""
             }
            },
            "type": "scattergl"
           }
          ],
          "scattermapbox": [
           {
            "marker": {
             "colorbar": {
              "outlinewidth": 0,
              "ticks": ""
             }
            },
            "type": "scattermapbox"
           }
          ],
          "scatterpolar": [
           {
            "marker": {
             "colorbar": {
              "outlinewidth": 0,
              "ticks": ""
             }
            },
            "type": "scatterpolar"
           }
          ],
          "scatterpolargl": [
           {
            "marker": {
             "colorbar": {
              "outlinewidth": 0,
              "ticks": ""
             }
            },
            "type": "scatterpolargl"
           }
          ],
          "scatterternary": [
           {
            "marker": {
             "colorbar": {
              "outlinewidth": 0,
              "ticks": ""
             }
            },
            "type": "scatterternary"
           }
          ],
          "surface": [
           {
            "colorbar": {
             "outlinewidth": 0,
             "ticks": ""
            },
            "colorscale": [
             [
              0,
              "#0d0887"
             ],
             [
              0.1111111111111111,
              "#46039f"
             ],
             [
              0.2222222222222222,
              "#7201a8"
             ],
             [
              0.3333333333333333,
              "#9c179e"
             ],
             [
              0.4444444444444444,
              "#bd3786"
             ],
             [
              0.5555555555555556,
              "#d8576b"
             ],
             [
              0.6666666666666666,
              "#ed7953"
             ],
             [
              0.7777777777777778,
              "#fb9f3a"
             ],
             [
              0.8888888888888888,
              "#fdca26"
             ],
             [
              1,
              "#f0f921"
             ]
            ],
            "type": "surface"
           }
          ],
          "table": [
           {
            "cells": {
             "fill": {
              "color": "#EBF0F8"
             },
             "line": {
              "color": "white"
             }
            },
            "header": {
             "fill": {
              "color": "#C8D4E3"
             },
             "line": {
              "color": "white"
             }
            },
            "type": "table"
           }
          ]
         },
         "layout": {
          "annotationdefaults": {
           "arrowcolor": "#2a3f5f",
           "arrowhead": 0,
           "arrowwidth": 1
          },
          "autotypenumbers": "strict",
          "coloraxis": {
           "colorbar": {
            "outlinewidth": 0,
            "ticks": ""
           }
          },
          "colorscale": {
           "diverging": [
            [
             0,
             "#8e0152"
            ],
            [
             0.1,
             "#c51b7d"
            ],
            [
             0.2,
             "#de77ae"
            ],
            [
             0.3,
             "#f1b6da"
            ],
            [
             0.4,
             "#fde0ef"
            ],
            [
             0.5,
             "#f7f7f7"
            ],
            [
             0.6,
             "#e6f5d0"
            ],
            [
             0.7,
             "#b8e186"
            ],
            [
             0.8,
             "#7fbc41"
            ],
            [
             0.9,
             "#4d9221"
            ],
            [
             1,
             "#276419"
            ]
           ],
           "sequential": [
            [
             0,
             "#0d0887"
            ],
            [
             0.1111111111111111,
             "#46039f"
            ],
            [
             0.2222222222222222,
             "#7201a8"
            ],
            [
             0.3333333333333333,
             "#9c179e"
            ],
            [
             0.4444444444444444,
             "#bd3786"
            ],
            [
             0.5555555555555556,
             "#d8576b"
            ],
            [
             0.6666666666666666,
             "#ed7953"
            ],
            [
             0.7777777777777778,
             "#fb9f3a"
            ],
            [
             0.8888888888888888,
             "#fdca26"
            ],
            [
             1,
             "#f0f921"
            ]
           ],
           "sequentialminus": [
            [
             0,
             "#0d0887"
            ],
            [
             0.1111111111111111,
             "#46039f"
            ],
            [
             0.2222222222222222,
             "#7201a8"
            ],
            [
             0.3333333333333333,
             "#9c179e"
            ],
            [
             0.4444444444444444,
             "#bd3786"
            ],
            [
             0.5555555555555556,
             "#d8576b"
            ],
            [
             0.6666666666666666,
             "#ed7953"
            ],
            [
             0.7777777777777778,
             "#fb9f3a"
            ],
            [
             0.8888888888888888,
             "#fdca26"
            ],
            [
             1,
             "#f0f921"
            ]
           ]
          },
          "colorway": [
           "#636efa",
           "#EF553B",
           "#00cc96",
           "#ab63fa",
           "#FFA15A",
           "#19d3f3",
           "#FF6692",
           "#B6E880",
           "#FF97FF",
           "#FECB52"
          ],
          "font": {
           "color": "#2a3f5f"
          },
          "geo": {
           "bgcolor": "white",
           "lakecolor": "white",
           "landcolor": "#E5ECF6",
           "showlakes": true,
           "showland": true,
           "subunitcolor": "white"
          },
          "hoverlabel": {
           "align": "left"
          },
          "hovermode": "closest",
          "mapbox": {
           "style": "light"
          },
          "paper_bgcolor": "white",
          "plot_bgcolor": "#E5ECF6",
          "polar": {
           "angularaxis": {
            "gridcolor": "white",
            "linecolor": "white",
            "ticks": ""
           },
           "bgcolor": "#E5ECF6",
           "radialaxis": {
            "gridcolor": "white",
            "linecolor": "white",
            "ticks": ""
           }
          },
          "scene": {
           "xaxis": {
            "backgroundcolor": "#E5ECF6",
            "gridcolor": "white",
            "gridwidth": 2,
            "linecolor": "white",
            "showbackground": true,
            "ticks": "",
            "zerolinecolor": "white"
           },
           "yaxis": {
            "backgroundcolor": "#E5ECF6",
            "gridcolor": "white",
            "gridwidth": 2,
            "linecolor": "white",
            "showbackground": true,
            "ticks": "",
            "zerolinecolor": "white"
           },
           "zaxis": {
            "backgroundcolor": "#E5ECF6",
            "gridcolor": "white",
            "gridwidth": 2,
            "linecolor": "white",
            "showbackground": true,
            "ticks": "",
            "zerolinecolor": "white"
           }
          },
          "shapedefaults": {
           "line": {
            "color": "#2a3f5f"
           }
          },
          "ternary": {
           "aaxis": {
            "gridcolor": "white",
            "linecolor": "white",
            "ticks": ""
           },
           "baxis": {
            "gridcolor": "white",
            "linecolor": "white",
            "ticks": ""
           },
           "bgcolor": "#E5ECF6",
           "caxis": {
            "gridcolor": "white",
            "linecolor": "white",
            "ticks": ""
           }
          },
          "title": {
           "x": 0.05
          },
          "xaxis": {
           "automargin": true,
           "gridcolor": "white",
           "linecolor": "white",
           "ticks": "",
           "title": {
            "standoff": 15
           },
           "zerolinecolor": "white",
           "zerolinewidth": 2
          },
          "yaxis": {
           "automargin": true,
           "gridcolor": "white",
           "linecolor": "white",
           "ticks": "",
           "title": {
            "standoff": 15
           },
           "zerolinecolor": "white",
           "zerolinewidth": 2
          }
         }
        },
        "title": {
         "text": "Répartition des types de carburants par marque/groupe automobile"
        }
       }
      }
     },
     "metadata": {},
     "output_type": "display_data"
    }
   ],
   "source": [
    "makers.plot_popular_fueltype()"
   ]
  },
  {
   "cell_type": "code",
   "execution_count": 5,
   "metadata": {},
   "outputs": [
    {
     "data": {
      "application/vnd.plotly.v1+json": {
       "config": {
        "plotlyServerURL": "https://plot.ly"
       },
       "data": [
        {
         "hovertemplate": "<b>%{hovertext}</b><br><br>Pool=VW-SAIC<br>Masse du véhicule=%{x}<br>Puissance du moteur=%{y}<extra></extra>",
         "hovertext": [
          538,
          235,
          208,
          155,
          28,
          23,
          16,
          11
         ],
         "legendgroup": "VW-SAIC",
         "marker": {
          "color": "#636efa",
          "symbol": "circle"
         },
         "mode": "markers",
         "name": "VW-SAIC",
         "orientation": "v",
         "showlegend": true,
         "type": "scatter",
         "x": [
          1499.014869888476,
          1426.3148936170212,
          1726.4807692307693,
          1344.3419354838709,
          1595.25,
          2033.4347826086957,
          1340.375,
          1665.8181818181818
         ],
         "xaxis": "x",
         "y": [
          98.68401486988847,
          100.40851063829787,
          135.83653846153845,
          92.56774193548387,
          135.03571428571428,
          272.3478260869565,
          88.0625,
          102.0909090909091
         ],
         "yaxis": "y"
        },
        {
         "hovertemplate": "<b>%{hovertext}</b><br><br>Pool=RENAULT-NISSAN-MITSUBISHI<br>Masse du véhicule=%{x}<br>Puissance du moteur=%{y}<extra></extra>",
         "hovertext": [
          336,
          88,
          31
         ],
         "legendgroup": "RENAULT-NISSAN-MITSUBISHI",
         "marker": {
          "color": "#EF553B",
          "symbol": "circle"
         },
         "mode": "markers",
         "name": "RENAULT-NISSAN-MITSUBISHI",
         "orientation": "v",
         "showlegend": true,
         "type": "scatter",
         "x": [
          1353.3154761904761,
          1387.4772727272727,
          1280.1612903225807
         ],
         "xaxis": "x",
         "y": [
          72.6547619047619,
          97.92045454545455,
          70.6774193548387
         ],
         "yaxis": "y"
        },
        {
         "hovertemplate": "<b>%{hovertext}</b><br><br>Pool=STELLANTIS<br>Masse du véhicule=%{x}<br>Puissance du moteur=%{y}<extra></extra>",
         "hovertext": [
          333,
          223,
          213,
          189,
          45,
          18,
          17,
          10
         ],
         "legendgroup": "STELLANTIS",
         "marker": {
          "color": "#00cc96",
          "symbol": "circle"
         },
         "mode": "markers",
         "name": "STELLANTIS",
         "orientation": "v",
         "showlegend": true,
         "type": "scatter",
         "x": [
          1343.6546546546547,
          1281.645739910314,
          1196.8356807511736,
          1321.079365079365,
          1658.1777777777777,
          1584.0555555555557,
          1069.1176470588234,
          1697.5
         ],
         "xaxis": "x",
         "y": [
          84.94294294294295,
          79.75784753363229,
          62.99530516431925,
          83.31746031746032,
          105.02222222222223,
          108,
          52.529411764705884,
          191.2
         ],
         "yaxis": "y"
        },
        {
         "hovertemplate": "<b>%{hovertext}</b><br><br>Pool=BMW<br>Masse du véhicule=%{x}<br>Puissance du moteur=%{y}<extra></extra>",
         "hovertext": [
          299,
          60
         ],
         "legendgroup": "BMW",
         "marker": {
          "color": "#ab63fa",
          "symbol": "circle"
         },
         "mode": "markers",
         "name": "BMW",
         "orientation": "v",
         "showlegend": true,
         "type": "scatter",
         "x": [
          1777.0301003344482,
          1405
         ],
         "xaxis": "x",
         "y": [
          148.04347826086956,
          99.08333333333333
         ],
         "yaxis": "y"
        },
        {
         "hovertemplate": "<b>%{hovertext}</b><br><br>Pool=MAZDA-SUBARU-SUZUKI-TOYOTA<br>Masse du véhicule=%{x}<br>Puissance du moteur=%{y}<extra></extra>",
         "hovertext": [
          298,
          69,
          52,
          13
         ],
         "legendgroup": "MAZDA-SUBARU-SUZUKI-TOYOTA",
         "marker": {
          "color": "#FFA15A",
          "symbol": "circle"
         },
         "mode": "markers",
         "name": "MAZDA-SUBARU-SUZUKI-TOYOTA",
         "orientation": "v",
         "showlegend": true,
         "type": "scatter",
         "x": [
          1391.0536912751677,
          1162.695652173913,
          1412.076923076923,
          1795.5384615384614
         ],
         "xaxis": "x",
         "y": [
          85.21812080536913,
          78.3768115942029,
          103.6923076923077,
          134.69230769230768
         ],
         "yaxis": "y"
        },
        {
         "hovertemplate": "<b>%{hovertext}</b><br><br>Pool=MERCEDES-BENZ<br>Masse du véhicule=%{x}<br>Puissance du moteur=%{y}<extra></extra>",
         "hovertext": [
          243
         ],
         "legendgroup": "MERCEDES-BENZ",
         "marker": {
          "color": "#19d3f3",
          "symbol": "circle"
         },
         "mode": "markers",
         "name": "MERCEDES-BENZ",
         "orientation": "v",
         "showlegend": true,
         "type": "scatter",
         "x": [
          1852.567901234568
         ],
         "xaxis": "x",
         "y": [
          148.880658436214
         ],
         "yaxis": "y"
        },
        {
         "hovertemplate": "<b>%{hovertext}</b><br><br>Pool=KIA<br>Masse du véhicule=%{x}<br>Puissance du moteur=%{y}<extra></extra>",
         "hovertext": [
          203
         ],
         "legendgroup": "KIA",
         "marker": {
          "color": "#FF6692",
          "symbol": "circle"
         },
         "mode": "markers",
         "name": "KIA",
         "orientation": "v",
         "showlegend": true,
         "type": "scatter",
         "x": [
          1401.0738916256157
         ],
         "xaxis": "x",
         "y": [
          90.38916256157636
         ],
         "yaxis": "y"
        },
        {
         "hovertemplate": "<b>%{hovertext}</b><br><br>Pool=FORD<br>Masse du véhicule=%{x}<br>Puissance du moteur=%{y}<extra></extra>",
         "hovertext": [
          202
         ],
         "legendgroup": "FORD",
         "marker": {
          "color": "#B6E880",
          "symbol": "circle"
         },
         "mode": "markers",
         "name": "FORD",
         "orientation": "v",
         "showlegend": true,
         "type": "scatter",
         "x": [
          1574.7425742574258
         ],
         "xaxis": "x",
         "y": [
          107.72772277227723
         ],
         "yaxis": "y"
        },
        {
         "hovertemplate": "<b>%{hovertext}</b><br><br>Pool=TESLA<br>Masse du véhicule=%{x}<br>Puissance du moteur=%{y}<extra></extra>",
         "hovertext": [
          72
         ],
         "legendgroup": "TESLA",
         "marker": {
          "color": "#FF97FF",
          "symbol": "circle"
         },
         "mode": "markers",
         "name": "TESLA",
         "orientation": "v",
         "showlegend": true,
         "type": "scatter",
         "x": [
          1899.5
         ],
         "xaxis": "x",
         "y": [
          169.72222222222223
         ],
         "yaxis": "y"
        },
        {
         "hovertemplate": "<b>%{hovertext}</b><br><br>Pool=TATA-MOTORS<br>Masse du véhicule=%{x}<br>Puissance du moteur=%{y}<extra></extra>",
         "hovertext": [
          25
         ],
         "legendgroup": "TATA-MOTORS",
         "marker": {
          "color": "#FECB52",
          "symbol": "circle"
         },
         "mode": "markers",
         "name": "TATA-MOTORS",
         "orientation": "v",
         "showlegend": true,
         "type": "scatter",
         "x": [
          2234.72
         ],
         "xaxis": "x",
         "y": [
          179.72
         ],
         "yaxis": "y"
        },
        {
         "hovertemplate": "<b>%{hovertext}</b><br><br>Pool=HONDA-GROUP<br>Masse du véhicule=%{x}<br>Puissance du moteur=%{y}<extra></extra>",
         "hovertext": [
          21
         ],
         "legendgroup": "HONDA-GROUP",
         "marker": {
          "color": "#636efa",
          "symbol": "circle"
         },
         "mode": "markers",
         "name": "HONDA-GROUP",
         "orientation": "v",
         "showlegend": true,
         "type": "scatter",
         "x": [
          1458.7619047619048
         ],
         "xaxis": "x",
         "y": [
          88.38095238095238
         ],
         "yaxis": "y"
        }
       ],
       "layout": {
        "annotations": [
         {
          "showarrow": false,
          "text": "Data Source: European Environment Agency, 2021",
          "x": 1,
          "xanchor": "right",
          "xref": "paper",
          "y": -0.15,
          "yanchor": "auto",
          "yref": "paper"
         }
        ],
        "legend": {
         "title": {
          "text": "Pool"
         },
         "tracegroupgap": 0
        },
        "template": {
         "data": {
          "bar": [
           {
            "error_x": {
             "color": "#2a3f5f"
            },
            "error_y": {
             "color": "#2a3f5f"
            },
            "marker": {
             "line": {
              "color": "#E5ECF6",
              "width": 0.5
             },
             "pattern": {
              "fillmode": "overlay",
              "size": 10,
              "solidity": 0.2
             }
            },
            "type": "bar"
           }
          ],
          "barpolar": [
           {
            "marker": {
             "line": {
              "color": "#E5ECF6",
              "width": 0.5
             },
             "pattern": {
              "fillmode": "overlay",
              "size": 10,
              "solidity": 0.2
             }
            },
            "type": "barpolar"
           }
          ],
          "carpet": [
           {
            "aaxis": {
             "endlinecolor": "#2a3f5f",
             "gridcolor": "white",
             "linecolor": "white",
             "minorgridcolor": "white",
             "startlinecolor": "#2a3f5f"
            },
            "baxis": {
             "endlinecolor": "#2a3f5f",
             "gridcolor": "white",
             "linecolor": "white",
             "minorgridcolor": "white",
             "startlinecolor": "#2a3f5f"
            },
            "type": "carpet"
           }
          ],
          "choropleth": [
           {
            "colorbar": {
             "outlinewidth": 0,
             "ticks": ""
            },
            "type": "choropleth"
           }
          ],
          "contour": [
           {
            "colorbar": {
             "outlinewidth": 0,
             "ticks": ""
            },
            "colorscale": [
             [
              0,
              "#0d0887"
             ],
             [
              0.1111111111111111,
              "#46039f"
             ],
             [
              0.2222222222222222,
              "#7201a8"
             ],
             [
              0.3333333333333333,
              "#9c179e"
             ],
             [
              0.4444444444444444,
              "#bd3786"
             ],
             [
              0.5555555555555556,
              "#d8576b"
             ],
             [
              0.6666666666666666,
              "#ed7953"
             ],
             [
              0.7777777777777778,
              "#fb9f3a"
             ],
             [
              0.8888888888888888,
              "#fdca26"
             ],
             [
              1,
              "#f0f921"
             ]
            ],
            "type": "contour"
           }
          ],
          "contourcarpet": [
           {
            "colorbar": {
             "outlinewidth": 0,
             "ticks": ""
            },
            "type": "contourcarpet"
           }
          ],
          "heatmap": [
           {
            "colorbar": {
             "outlinewidth": 0,
             "ticks": ""
            },
            "colorscale": [
             [
              0,
              "#0d0887"
             ],
             [
              0.1111111111111111,
              "#46039f"
             ],
             [
              0.2222222222222222,
              "#7201a8"
             ],
             [
              0.3333333333333333,
              "#9c179e"
             ],
             [
              0.4444444444444444,
              "#bd3786"
             ],
             [
              0.5555555555555556,
              "#d8576b"
             ],
             [
              0.6666666666666666,
              "#ed7953"
             ],
             [
              0.7777777777777778,
              "#fb9f3a"
             ],
             [
              0.8888888888888888,
              "#fdca26"
             ],
             [
              1,
              "#f0f921"
             ]
            ],
            "type": "heatmap"
           }
          ],
          "heatmapgl": [
           {
            "colorbar": {
             "outlinewidth": 0,
             "ticks": ""
            },
            "colorscale": [
             [
              0,
              "#0d0887"
             ],
             [
              0.1111111111111111,
              "#46039f"
             ],
             [
              0.2222222222222222,
              "#7201a8"
             ],
             [
              0.3333333333333333,
              "#9c179e"
             ],
             [
              0.4444444444444444,
              "#bd3786"
             ],
             [
              0.5555555555555556,
              "#d8576b"
             ],
             [
              0.6666666666666666,
              "#ed7953"
             ],
             [
              0.7777777777777778,
              "#fb9f3a"
             ],
             [
              0.8888888888888888,
              "#fdca26"
             ],
             [
              1,
              "#f0f921"
             ]
            ],
            "type": "heatmapgl"
           }
          ],
          "histogram": [
           {
            "marker": {
             "pattern": {
              "fillmode": "overlay",
              "size": 10,
              "solidity": 0.2
             }
            },
            "type": "histogram"
           }
          ],
          "histogram2d": [
           {
            "colorbar": {
             "outlinewidth": 0,
             "ticks": ""
            },
            "colorscale": [
             [
              0,
              "#0d0887"
             ],
             [
              0.1111111111111111,
              "#46039f"
             ],
             [
              0.2222222222222222,
              "#7201a8"
             ],
             [
              0.3333333333333333,
              "#9c179e"
             ],
             [
              0.4444444444444444,
              "#bd3786"
             ],
             [
              0.5555555555555556,
              "#d8576b"
             ],
             [
              0.6666666666666666,
              "#ed7953"
             ],
             [
              0.7777777777777778,
              "#fb9f3a"
             ],
             [
              0.8888888888888888,
              "#fdca26"
             ],
             [
              1,
              "#f0f921"
             ]
            ],
            "type": "histogram2d"
           }
          ],
          "histogram2dcontour": [
           {
            "colorbar": {
             "outlinewidth": 0,
             "ticks": ""
            },
            "colorscale": [
             [
              0,
              "#0d0887"
             ],
             [
              0.1111111111111111,
              "#46039f"
             ],
             [
              0.2222222222222222,
              "#7201a8"
             ],
             [
              0.3333333333333333,
              "#9c179e"
             ],
             [
              0.4444444444444444,
              "#bd3786"
             ],
             [
              0.5555555555555556,
              "#d8576b"
             ],
             [
              0.6666666666666666,
              "#ed7953"
             ],
             [
              0.7777777777777778,
              "#fb9f3a"
             ],
             [
              0.8888888888888888,
              "#fdca26"
             ],
             [
              1,
              "#f0f921"
             ]
            ],
            "type": "histogram2dcontour"
           }
          ],
          "mesh3d": [
           {
            "colorbar": {
             "outlinewidth": 0,
             "ticks": ""
            },
            "type": "mesh3d"
           }
          ],
          "parcoords": [
           {
            "line": {
             "colorbar": {
              "outlinewidth": 0,
              "ticks": ""
             }
            },
            "type": "parcoords"
           }
          ],
          "pie": [
           {
            "automargin": true,
            "type": "pie"
           }
          ],
          "scatter": [
           {
            "fillpattern": {
             "fillmode": "overlay",
             "size": 10,
             "solidity": 0.2
            },
            "type": "scatter"
           }
          ],
          "scatter3d": [
           {
            "line": {
             "colorbar": {
              "outlinewidth": 0,
              "ticks": ""
             }
            },
            "marker": {
             "colorbar": {
              "outlinewidth": 0,
              "ticks": ""
             }
            },
            "type": "scatter3d"
           }
          ],
          "scattercarpet": [
           {
            "marker": {
             "colorbar": {
              "outlinewidth": 0,
              "ticks": ""
             }
            },
            "type": "scattercarpet"
           }
          ],
          "scattergeo": [
           {
            "marker": {
             "colorbar": {
              "outlinewidth": 0,
              "ticks": ""
             }
            },
            "type": "scattergeo"
           }
          ],
          "scattergl": [
           {
            "marker": {
             "colorbar": {
              "outlinewidth": 0,
              "ticks": ""
             }
            },
            "type": "scattergl"
           }
          ],
          "scattermapbox": [
           {
            "marker": {
             "colorbar": {
              "outlinewidth": 0,
              "ticks": ""
             }
            },
            "type": "scattermapbox"
           }
          ],
          "scatterpolar": [
           {
            "marker": {
             "colorbar": {
              "outlinewidth": 0,
              "ticks": ""
             }
            },
            "type": "scatterpolar"
           }
          ],
          "scatterpolargl": [
           {
            "marker": {
             "colorbar": {
              "outlinewidth": 0,
              "ticks": ""
             }
            },
            "type": "scatterpolargl"
           }
          ],
          "scatterternary": [
           {
            "marker": {
             "colorbar": {
              "outlinewidth": 0,
              "ticks": ""
             }
            },
            "type": "scatterternary"
           }
          ],
          "surface": [
           {
            "colorbar": {
             "outlinewidth": 0,
             "ticks": ""
            },
            "colorscale": [
             [
              0,
              "#0d0887"
             ],
             [
              0.1111111111111111,
              "#46039f"
             ],
             [
              0.2222222222222222,
              "#7201a8"
             ],
             [
              0.3333333333333333,
              "#9c179e"
             ],
             [
              0.4444444444444444,
              "#bd3786"
             ],
             [
              0.5555555555555556,
              "#d8576b"
             ],
             [
              0.6666666666666666,
              "#ed7953"
             ],
             [
              0.7777777777777778,
              "#fb9f3a"
             ],
             [
              0.8888888888888888,
              "#fdca26"
             ],
             [
              1,
              "#f0f921"
             ]
            ],
            "type": "surface"
           }
          ],
          "table": [
           {
            "cells": {
             "fill": {
              "color": "#EBF0F8"
             },
             "line": {
              "color": "white"
             }
            },
            "header": {
             "fill": {
              "color": "#C8D4E3"
             },
             "line": {
              "color": "white"
             }
            },
            "type": "table"
           }
          ]
         },
         "layout": {
          "annotationdefaults": {
           "arrowcolor": "#2a3f5f",
           "arrowhead": 0,
           "arrowwidth": 1
          },
          "autotypenumbers": "strict",
          "coloraxis": {
           "colorbar": {
            "outlinewidth": 0,
            "ticks": ""
           }
          },
          "colorscale": {
           "diverging": [
            [
             0,
             "#8e0152"
            ],
            [
             0.1,
             "#c51b7d"
            ],
            [
             0.2,
             "#de77ae"
            ],
            [
             0.3,
             "#f1b6da"
            ],
            [
             0.4,
             "#fde0ef"
            ],
            [
             0.5,
             "#f7f7f7"
            ],
            [
             0.6,
             "#e6f5d0"
            ],
            [
             0.7,
             "#b8e186"
            ],
            [
             0.8,
             "#7fbc41"
            ],
            [
             0.9,
             "#4d9221"
            ],
            [
             1,
             "#276419"
            ]
           ],
           "sequential": [
            [
             0,
             "#0d0887"
            ],
            [
             0.1111111111111111,
             "#46039f"
            ],
            [
             0.2222222222222222,
             "#7201a8"
            ],
            [
             0.3333333333333333,
             "#9c179e"
            ],
            [
             0.4444444444444444,
             "#bd3786"
            ],
            [
             0.5555555555555556,
             "#d8576b"
            ],
            [
             0.6666666666666666,
             "#ed7953"
            ],
            [
             0.7777777777777778,
             "#fb9f3a"
            ],
            [
             0.8888888888888888,
             "#fdca26"
            ],
            [
             1,
             "#f0f921"
            ]
           ],
           "sequentialminus": [
            [
             0,
             "#0d0887"
            ],
            [
             0.1111111111111111,
             "#46039f"
            ],
            [
             0.2222222222222222,
             "#7201a8"
            ],
            [
             0.3333333333333333,
             "#9c179e"
            ],
            [
             0.4444444444444444,
             "#bd3786"
            ],
            [
             0.5555555555555556,
             "#d8576b"
            ],
            [
             0.6666666666666666,
             "#ed7953"
            ],
            [
             0.7777777777777778,
             "#fb9f3a"
            ],
            [
             0.8888888888888888,
             "#fdca26"
            ],
            [
             1,
             "#f0f921"
            ]
           ]
          },
          "colorway": [
           "#636efa",
           "#EF553B",
           "#00cc96",
           "#ab63fa",
           "#FFA15A",
           "#19d3f3",
           "#FF6692",
           "#B6E880",
           "#FF97FF",
           "#FECB52"
          ],
          "font": {
           "color": "#2a3f5f"
          },
          "geo": {
           "bgcolor": "white",
           "lakecolor": "white",
           "landcolor": "#E5ECF6",
           "showlakes": true,
           "showland": true,
           "subunitcolor": "white"
          },
          "hoverlabel": {
           "align": "left"
          },
          "hovermode": "closest",
          "mapbox": {
           "style": "light"
          },
          "paper_bgcolor": "white",
          "plot_bgcolor": "#E5ECF6",
          "polar": {
           "angularaxis": {
            "gridcolor": "white",
            "linecolor": "white",
            "ticks": ""
           },
           "bgcolor": "#E5ECF6",
           "radialaxis": {
            "gridcolor": "white",
            "linecolor": "white",
            "ticks": ""
           }
          },
          "scene": {
           "xaxis": {
            "backgroundcolor": "#E5ECF6",
            "gridcolor": "white",
            "gridwidth": 2,
            "linecolor": "white",
            "showbackground": true,
            "ticks": "",
            "zerolinecolor": "white"
           },
           "yaxis": {
            "backgroundcolor": "#E5ECF6",
            "gridcolor": "white",
            "gridwidth": 2,
            "linecolor": "white",
            "showbackground": true,
            "ticks": "",
            "zerolinecolor": "white"
           },
           "zaxis": {
            "backgroundcolor": "#E5ECF6",
            "gridcolor": "white",
            "gridwidth": 2,
            "linecolor": "white",
            "showbackground": true,
            "ticks": "",
            "zerolinecolor": "white"
           }
          },
          "shapedefaults": {
           "line": {
            "color": "#2a3f5f"
           }
          },
          "ternary": {
           "aaxis": {
            "gridcolor": "white",
            "linecolor": "white",
            "ticks": ""
           },
           "baxis": {
            "gridcolor": "white",
            "linecolor": "white",
            "ticks": ""
           },
           "bgcolor": "#E5ECF6",
           "caxis": {
            "gridcolor": "white",
            "linecolor": "white",
            "ticks": ""
           }
          },
          "title": {
           "x": 0.05
          },
          "xaxis": {
           "automargin": true,
           "gridcolor": "white",
           "linecolor": "white",
           "ticks": "",
           "title": {
            "standoff": 15
           },
           "zerolinecolor": "white",
           "zerolinewidth": 2
          },
          "yaxis": {
           "automargin": true,
           "gridcolor": "white",
           "linecolor": "white",
           "ticks": "",
           "title": {
            "standoff": 15
           },
           "zerolinecolor": "white",
           "zerolinewidth": 2
          }
         }
        },
        "title": {
         "text": "Comparaison de la masse et de la puissance des véhicules (KW)"
        },
        "xaxis": {
         "anchor": "y",
         "domain": [
          0,
          1
         ],
         "title": {
          "text": "Masse du véhicule"
         }
        },
        "yaxis": {
         "anchor": "x",
         "domain": [
          0,
          1
         ],
         "title": {
          "text": "Puissance du moteur"
         }
        }
       }
      }
     },
     "metadata": {},
     "output_type": "display_data"
    }
   ],
   "source": [
    "makers.plot_mass_engine_scatter()"
   ]
  },
  {
   "cell_type": "code",
   "execution_count": 4,
   "metadata": {},
   "outputs": [
    {
     "data": {
      "application/vnd.plotly.v1+json": {
       "config": {
        "plotlyServerURL": "https://plot.ly"
       },
       "data": [
        {
         "customdata": [
          [
           "VOLKSWAGEN"
          ]
         ],
         "hovertemplate": "Make=%{customdata[0]}<br>Pool=VW-SAIC<br>EnginePower=%{x}<br>Co2EmissionsWltp=%{y}<br>FuelConsumption=%{marker.size}<extra></extra>",
         "legendgroup": "VOLKSWAGEN",
         "marker": {
          "color": "#636efa",
          "size": [
           5.790434784129046
          ],
          "sizemode": "area",
          "sizeref": 0.02478846141925225,
          "symbol": "circle"
         },
         "mode": "markers",
         "name": "VOLKSWAGEN",
         "orientation": "v",
         "showlegend": true,
         "type": "scatter",
         "x": [
          98.68401486988847
         ],
         "xaxis": "x",
         "y": [
          121.20446096654275
         ],
         "yaxis": "y"
        },
        {
         "customdata": [
          [
           "RENAULT"
          ]
         ],
         "hovertemplate": "Make=%{customdata[0]}<br>Pool=RENAULT-NISSAN-MITSUBISHI<br>EnginePower=%{x}<br>Co2EmissionsWltp=%{y}<br>FuelConsumption=%{marker.size}<extra></extra>",
         "legendgroup": "RENAULT",
         "marker": {
          "color": "#EF553B",
          "size": [
           5.2138755715064455
          ],
          "sizemode": "area",
          "sizeref": 0.02478846141925225,
          "symbol": "circle"
         },
         "mode": "markers",
         "name": "RENAULT",
         "orientation": "v",
         "showlegend": true,
         "type": "scatter",
         "x": [
          72.6547619047619
         ],
         "xaxis": "x2",
         "y": [
          101.9672619047619
         ],
         "yaxis": "y2"
        },
        {
         "customdata": [
          [
           "PEUGEOT"
          ]
         ],
         "hovertemplate": "Make=%{customdata[0]}<br>Pool=STELLANTIS<br>EnginePower=%{x}<br>Co2EmissionsWltp=%{y}<br>FuelConsumption=%{marker.size}<extra></extra>",
         "legendgroup": "PEUGEOT",
         "marker": {
          "color": "#00cc96",
          "size": [
           4.907211564481258
          ],
          "sizemode": "area",
          "sizeref": 0.02478846141925225,
          "symbol": "circle"
         },
         "mode": "markers",
         "name": "PEUGEOT",
         "orientation": "v",
         "showlegend": true,
         "type": "scatter",
         "x": [
          84.94294294294295
         ],
         "xaxis": "x3",
         "y": [
          111.85885885885885
         ],
         "yaxis": "y3"
        },
        {
         "customdata": [
          [
           "BMW"
          ]
         ],
         "hovertemplate": "Make=%{customdata[0]}<br>Pool=BMW<br>EnginePower=%{x}<br>Co2EmissionsWltp=%{y}<br>FuelConsumption=%{marker.size}<extra></extra>",
         "legendgroup": "BMW",
         "marker": {
          "color": "#ab63fa",
          "size": [
           5.9445055179543544
          ],
          "sizemode": "area",
          "sizeref": 0.02478846141925225,
          "symbol": "circle"
         },
         "mode": "markers",
         "name": "BMW",
         "orientation": "v",
         "showlegend": true,
         "type": "scatter",
         "x": [
          148.04347826086956
         ],
         "xaxis": "x4",
         "y": [
          120.06688963210702
         ],
         "yaxis": "y4"
        },
        {
         "customdata": [
          [
           "TOYOTA"
          ]
         ],
         "hovertemplate": "Make=%{customdata[0]}<br>Pool=MAZDA-SUBARU-SUZUKI-TOYOTA<br>EnginePower=%{x}<br>Co2EmissionsWltp=%{y}<br>FuelConsumption=%{marker.size}<extra></extra>",
         "legendgroup": "TOYOTA",
         "marker": {
          "color": "#FFA15A",
          "size": [
           4.440952397528148
          ],
          "sizemode": "area",
          "sizeref": 0.02478846141925225,
          "symbol": "circle"
         },
         "mode": "markers",
         "name": "TOYOTA",
         "orientation": "v",
         "showlegend": true,
         "type": "scatter",
         "x": [
          85.21812080536913
         ],
         "xaxis": "x5",
         "y": [
          109.21812080536913
         ],
         "yaxis": "y5"
        },
        {
         "customdata": [
          [
           "MERCEDES-BENZ"
          ]
         ],
         "hovertemplate": "Make=%{customdata[0]}<br>Pool=MERCEDES-BENZ<br>EnginePower=%{x}<br>Co2EmissionsWltp=%{y}<br>FuelConsumption=%{marker.size}<extra></extra>",
         "legendgroup": "MERCEDES-BENZ",
         "marker": {
          "color": "#19d3f3",
          "size": [
           6.254887211591678
          ],
          "sizemode": "area",
          "sizeref": 0.02478846141925225,
          "symbol": "circle"
         },
         "mode": "markers",
         "name": "MERCEDES-BENZ",
         "orientation": "v",
         "showlegend": true,
         "type": "scatter",
         "x": [
          148.880658436214
         ],
         "xaxis": "x6",
         "y": [
          125.53909465020575
         ],
         "yaxis": "y6"
        },
        {
         "customdata": [
          [
           "SKODA"
          ]
         ],
         "hovertemplate": "Make=%{customdata[0]}<br>Pool=VW-SAIC<br>EnginePower=%{x}<br>Co2EmissionsWltp=%{y}<br>FuelConsumption=%{marker.size}<extra></extra>",
         "legendgroup": "SKODA",
         "marker": {
          "color": "#FF6692",
          "size": [
           5.484337360025888
          ],
          "sizemode": "area",
          "sizeref": 0.02478846141925225,
          "symbol": "circle"
         },
         "mode": "markers",
         "name": "SKODA",
         "orientation": "v",
         "showlegend": true,
         "type": "scatter",
         "x": [
          100.40851063829787
         ],
         "xaxis": "x",
         "y": [
          124.09787234042552
         ],
         "yaxis": "y"
        },
        {
         "customdata": [
          [
           "CITROEN"
          ]
         ],
         "hovertemplate": "Make=%{customdata[0]}<br>Pool=STELLANTIS<br>EnginePower=%{x}<br>Co2EmissionsWltp=%{y}<br>FuelConsumption=%{marker.size}<extra></extra>",
         "legendgroup": "CITROEN",
         "marker": {
          "color": "#B6E880",
          "size": [
           5.009027803109752
          ],
          "sizemode": "area",
          "sizeref": 0.02478846141925225,
          "symbol": "circle"
         },
         "mode": "markers",
         "name": "CITROEN",
         "orientation": "v",
         "showlegend": true,
         "type": "scatter",
         "x": [
          79.75784753363229
         ],
         "xaxis": "x3",
         "y": [
          118.52466367713005
         ],
         "yaxis": "y3"
        },
        {
         "customdata": [
          [
           "FIAT"
          ]
         ],
         "hovertemplate": "Make=%{customdata[0]}<br>Pool=STELLANTIS<br>EnginePower=%{x}<br>Co2EmissionsWltp=%{y}<br>FuelConsumption=%{marker.size}<extra></extra>",
         "legendgroup": "FIAT",
         "marker": {
          "color": "#FF97FF",
          "size": [
           5.056896583787326
          ],
          "sizemode": "area",
          "sizeref": 0.02478846141925225,
          "symbol": "circle"
         },
         "mode": "markers",
         "name": "FIAT",
         "orientation": "v",
         "showlegend": true,
         "type": "scatter",
         "x": [
          62.99530516431925
         ],
         "xaxis": "x3",
         "y": [
          116.53521126760563
         ],
         "yaxis": "y3"
        },
        {
         "customdata": [
          [
           "AUDI"
          ]
         ],
         "hovertemplate": "Make=%{customdata[0]}<br>Pool=VW-SAIC<br>EnginePower=%{x}<br>Co2EmissionsWltp=%{y}<br>FuelConsumption=%{marker.size}<extra></extra>",
         "legendgroup": "AUDI",
         "marker": {
          "color": "#FECB52",
          "size": [
           5.97049179135776
          ],
          "sizemode": "area",
          "sizeref": 0.02478846141925225,
          "symbol": "circle"
         },
         "mode": "markers",
         "name": "AUDI",
         "orientation": "v",
         "showlegend": true,
         "type": "scatter",
         "x": [
          135.83653846153845
         ],
         "xaxis": "x",
         "y": [
          117.6298076923077
         ],
         "yaxis": "y"
        },
        {
         "customdata": [
          [
           "DACIA"
          ]
         ],
         "hovertemplate": "Make=%{customdata[0]}<br>Pool=RENAULT-NISSAN-MITSUBISHI<br>EnginePower=%{x}<br>Co2EmissionsWltp=%{y}<br>FuelConsumption=%{marker.size}<extra></extra>",
         "legendgroup": "DACIA",
         "marker": {
          "color": "#636efa",
          "size": [
           5.750735300428727
          ],
          "sizemode": "area",
          "sizeref": 0.02478846141925225,
          "symbol": "circle"
         },
         "mode": "markers",
         "name": "DACIA",
         "orientation": "v",
         "showlegend": true,
         "type": "scatter",
         "x": [
          70.95673076923077
         ],
         "xaxis": "x2",
         "y": [
          121.46153846153847
         ],
         "yaxis": "y2"
        },
        {
         "customdata": [
          [
           "KIA"
          ]
         ],
         "hovertemplate": "Make=%{customdata[0]}<br>Pool=KIA<br>EnginePower=%{x}<br>Co2EmissionsWltp=%{y}<br>FuelConsumption=%{marker.size}<extra></extra>",
         "legendgroup": "KIA",
         "marker": {
          "color": "#EF553B",
          "size": [
           5.334188038467342
          ],
          "sizemode": "area",
          "sizeref": 0.02478846141925225,
          "symbol": "circle"
         },
         "mode": "markers",
         "name": "KIA",
         "orientation": "v",
         "showlegend": true,
         "type": "scatter",
         "x": [
          90.38916256157636
         ],
         "xaxis": "x7",
         "y": [
          111.01970443349754
         ],
         "yaxis": "y7"
        },
        {
         "customdata": [
          [
           "FORD"
          ]
         ],
         "hovertemplate": "Make=%{customdata[0]}<br>Pool=FORD<br>EnginePower=%{x}<br>Co2EmissionsWltp=%{y}<br>FuelConsumption=%{marker.size}<extra></extra>",
         "legendgroup": "FORD",
         "marker": {
          "color": "#00cc96",
          "size": [
           5.374107132000582
          ],
          "sizemode": "area",
          "sizeref": 0.02478846141925225,
          "symbol": "circle"
         },
         "mode": "markers",
         "name": "FORD",
         "orientation": "v",
         "showlegend": true,
         "type": "scatter",
         "x": [
          107.72772277227723
         ],
         "xaxis": "x8",
         "y": [
          122.57425742574257
         ],
         "yaxis": "y8"
        },
        {
         "customdata": [
          [
           "OPEL"
          ]
         ],
         "hovertemplate": "Make=%{customdata[0]}<br>Pool=STELLANTIS<br>EnginePower=%{x}<br>Co2EmissionsWltp=%{y}<br>FuelConsumption=%{marker.size}<extra></extra>",
         "legendgroup": "OPEL",
         "marker": {
          "color": "#ab63fa",
          "size": [
           5.136363636363637
          ],
          "sizemode": "area",
          "sizeref": 0.02478846141925225,
          "symbol": "circle"
         },
         "mode": "markers",
         "name": "OPEL",
         "orientation": "v",
         "showlegend": true,
         "type": "scatter",
         "x": [
          83.31746031746032
         ],
         "xaxis": "x3",
         "y": [
          112.72486772486772
         ],
         "yaxis": "y3"
        },
        {
         "customdata": [
          [
           "HYUNDAI"
          ]
         ],
         "hovertemplate": "Make=%{customdata[0]}<br>Pool=HYUNDAI<br>EnginePower=%{x}<br>Co2EmissionsWltp=%{y}<br>FuelConsumption=%{marker.size}<extra></extra>",
         "legendgroup": "HYUNDAI",
         "marker": {
          "color": "#FFA15A",
          "size": [
           5.503252024573039
          ],
          "sizemode": "area",
          "sizeref": 0.02478846141925225,
          "symbol": "circle"
         },
         "mode": "markers",
         "name": "HYUNDAI",
         "orientation": "v",
         "showlegend": true,
         "type": "scatter",
         "x": [
          92.41269841269842
         ],
         "xaxis": "x9",
         "y": [
          114.05820105820106
         ],
         "yaxis": "y9"
        },
        {
         "customdata": [
          [
           "SEAT"
          ]
         ],
         "hovertemplate": "Make=%{customdata[0]}<br>Pool=VW-SAIC<br>EnginePower=%{x}<br>Co2EmissionsWltp=%{y}<br>FuelConsumption=%{marker.size}<extra></extra>",
         "legendgroup": "SEAT",
         "marker": {
          "color": "#19d3f3",
          "size": [
           5.621818198940971
          ],
          "sizemode": "area",
          "sizeref": 0.02478846141925225,
          "symbol": "circle"
         },
         "mode": "markers",
         "name": "SEAT",
         "orientation": "v",
         "showlegend": true,
         "type": "scatter",
         "x": [
          92.56774193548387
         ],
         "xaxis": "x",
         "y": [
          128.01290322580644
         ],
         "yaxis": "y"
        },
        {
         "customdata": [
          [
           "NISSAN"
          ]
         ],
         "hovertemplate": "Make=%{customdata[0]}<br>Pool=RENAULT-NISSAN-MITSUBISHI<br>EnginePower=%{x}<br>Co2EmissionsWltp=%{y}<br>FuelConsumption=%{marker.size}<extra></extra>",
         "legendgroup": "NISSAN",
         "marker": {
          "color": "#FF6692",
          "size": [
           6.012820512820513
          ],
          "sizemode": "area",
          "sizeref": 0.02478846141925225,
          "symbol": "circle"
         },
         "mode": "markers",
         "name": "NISSAN",
         "orientation": "v",
         "showlegend": true,
         "type": "scatter",
         "x": [
          97.92045454545455
         ],
         "xaxis": "x2",
         "y": [
          124.3409090909091
         ],
         "yaxis": "y2"
        },
        {
         "customdata": [
          [
           "SUZUKI"
          ]
         ],
         "hovertemplate": "Make=%{customdata[0]}<br>Pool=MAZDA-SUBARU-SUZUKI-TOYOTA<br>EnginePower=%{x}<br>Co2EmissionsWltp=%{y}<br>FuelConsumption=%{marker.size}<extra></extra>",
         "legendgroup": "SUZUKI",
         "marker": {
          "color": "#B6E880",
          "size": [
           5.085294092402739
          ],
          "sizemode": "area",
          "sizeref": 0.02478846141925225,
          "symbol": "circle"
         },
         "mode": "markers",
         "name": "SUZUKI",
         "orientation": "v",
         "showlegend": true,
         "type": "scatter",
         "x": [
          78.3768115942029
         ],
         "xaxis": "x5",
         "y": [
          118.78260869565217
         ],
         "yaxis": "y5"
        },
        {
         "customdata": [
          [
           "MINI"
          ]
         ],
         "hovertemplate": "Make=%{customdata[0]}<br>Pool=BMW<br>EnginePower=%{x}<br>Co2EmissionsWltp=%{y}<br>FuelConsumption=%{marker.size}<extra></extra>",
         "legendgroup": "MINI",
         "marker": {
          "color": "#FF97FF",
          "size": [
           5.437142862592425
          ],
          "sizemode": "area",
          "sizeref": 0.02478846141925225,
          "symbol": "circle"
         },
         "mode": "markers",
         "name": "MINI",
         "orientation": "v",
         "showlegend": true,
         "type": "scatter",
         "x": [
          99.08333333333333
         ],
         "xaxis": "x4",
         "y": [
          115.93333333333334
         ],
         "yaxis": "y4"
        },
        {
         "customdata": [
          [
           "MAZDA"
          ]
         ],
         "hovertemplate": "Make=%{customdata[0]}<br>Pool=MAZDA-SUBARU-SUZUKI-TOYOTA<br>EnginePower=%{x}<br>Co2EmissionsWltp=%{y}<br>FuelConsumption=%{marker.size}<extra></extra>",
         "legendgroup": "MAZDA",
         "marker": {
          "color": "#FECB52",
          "size": [
           5.691891876426903
          ],
          "sizemode": "area",
          "sizeref": 0.02478846141925225,
          "symbol": "circle"
         },
         "mode": "markers",
         "name": "MAZDA",
         "orientation": "v",
         "showlegend": true,
         "type": "scatter",
         "x": [
          103.6923076923077
         ],
         "xaxis": "x5",
         "y": [
          137.51923076923077
         ],
         "yaxis": "y5"
        },
        {
         "customdata": [
          [
           "JEEP"
          ]
         ],
         "hovertemplate": "Make=%{customdata[0]}<br>Pool=STELLANTIS<br>EnginePower=%{x}<br>Co2EmissionsWltp=%{y}<br>FuelConsumption=%{marker.size}<extra></extra>",
         "legendgroup": "JEEP",
         "marker": {
          "color": "#636efa",
          "size": [
           5.383783749631934
          ],
          "sizemode": "area",
          "sizeref": 0.02478846141925225,
          "symbol": "circle"
         },
         "mode": "markers",
         "name": "JEEP",
         "orientation": "v",
         "showlegend": true,
         "type": "scatter",
         "x": [
          105.02222222222223
         ],
         "xaxis": "x3",
         "y": [
          139.4
         ],
         "yaxis": "y3"
        },
        {
         "customdata": [
          [
           "MITSUBISHI"
          ]
         ],
         "hovertemplate": "Make=%{customdata[0]}<br>Pool=RENAULT-NISSAN-MITSUBISHI<br>EnginePower=%{x}<br>Co2EmissionsWltp=%{y}<br>FuelConsumption=%{marker.size}<extra></extra>",
         "legendgroup": "MITSUBISHI",
         "marker": {
          "color": "#EF553B",
          "size": [
           4.806249991059303
          ],
          "sizemode": "area",
          "sizeref": 0.02478846141925225,
          "symbol": "circle"
         },
         "mode": "markers",
         "name": "MITSUBISHI",
         "orientation": "v",
         "showlegend": true,
         "type": "scatter",
         "x": [
          70.6774193548387
         ],
         "xaxis": "x2",
         "y": [
          112.61290322580645
         ],
         "yaxis": "y2"
        },
        {
         "customdata": [
          [
           "CUPRA"
          ]
         ],
         "hovertemplate": "Make=%{customdata[0]}<br>Pool=VW-SAIC<br>EnginePower=%{x}<br>Co2EmissionsWltp=%{y}<br>FuelConsumption=%{marker.size}<extra></extra>",
         "legendgroup": "CUPRA",
         "marker": {
          "color": "#00cc96",
          "size": [
           5.25555553038915
          ],
          "sizemode": "area",
          "sizeref": 0.02478846141925225,
          "symbol": "circle"
         },
         "mode": "markers",
         "name": "CUPRA",
         "orientation": "v",
         "showlegend": true,
         "type": "scatter",
         "x": [
          135.03571428571428
         ],
         "xaxis": "x",
         "y": [
          112.60714285714286
         ],
         "yaxis": "y"
        },
        {
         "customdata": [
          [
           "LAND ROVER"
          ]
         ],
         "hovertemplate": "Make=%{customdata[0]}<br>Pool=TATA-MOTORS<br>EnginePower=%{x}<br>Co2EmissionsWltp=%{y}<br>FuelConsumption=%{marker.size}<extra></extra>",
         "legendgroup": "LAND ROVER",
         "marker": {
          "color": "#ab63fa",
          "size": [
           8.157142894608635
          ],
          "sizemode": "area",
          "sizeref": 0.02478846141925225,
          "symbol": "circle"
         },
         "mode": "markers",
         "name": "LAND ROVER",
         "orientation": "v",
         "showlegend": true,
         "type": "scatter",
         "x": [
          179.72
         ],
         "xaxis": "x10",
         "y": [
          169.4
         ],
         "yaxis": "y10"
        },
        {
         "customdata": [
          [
           "PORSCHE"
          ]
         ],
         "hovertemplate": "Make=%{customdata[0]}<br>Pool=VW-SAIC<br>EnginePower=%{x}<br>Co2EmissionsWltp=%{y}<br>FuelConsumption=%{marker.size}<extra></extra>",
         "legendgroup": "PORSCHE",
         "marker": {
          "color": "#FFA15A",
          "size": [
           9.9153845677009
          ],
          "sizemode": "area",
          "sizeref": 0.02478846141925225,
          "symbol": "circle"
         },
         "mode": "markers",
         "name": "PORSCHE",
         "orientation": "v",
         "showlegend": true,
         "type": "scatter",
         "x": [
          272.3478260869565
         ],
         "xaxis": "x",
         "y": [
          164.56521739130434
         ],
         "yaxis": "y"
        },
        {
         "customdata": [
          [
           "HONDA"
          ]
         ],
         "hovertemplate": "Make=%{customdata[0]}<br>Pool=HONDA-GROUP<br>EnginePower=%{x}<br>Co2EmissionsWltp=%{y}<br>FuelConsumption=%{marker.size}<extra></extra>",
         "legendgroup": "HONDA",
         "marker": {
          "color": "#19d3f3",
          "size": [
           5.599999979138374
          ],
          "sizemode": "area",
          "sizeref": 0.02478846141925225,
          "symbol": "circle"
         },
         "mode": "markers",
         "name": "HONDA",
         "orientation": "v",
         "showlegend": true,
         "type": "scatter",
         "x": [
          88.38095238095238
         ],
         "xaxis": "x11",
         "y": [
          125.0952380952381
         ],
         "yaxis": "y11"
        },
        {
         "customdata": [
          [
           "DS"
          ]
         ],
         "hovertemplate": "Make=%{customdata[0]}<br>Pool=STELLANTIS<br>EnginePower=%{x}<br>Co2EmissionsWltp=%{y}<br>FuelConsumption=%{marker.size}<extra></extra>",
         "legendgroup": "DS",
         "marker": {
          "color": "#FF6692",
          "size": [
           4.050000001986821
          ],
          "sizemode": "area",
          "sizeref": 0.02478846141925225,
          "symbol": "circle"
         },
         "mode": "markers",
         "name": "DS",
         "orientation": "v",
         "showlegend": true,
         "type": "scatter",
         "x": [
          108
         ],
         "xaxis": "x3",
         "y": [
          101.44444444444444
         ],
         "yaxis": "y3"
        },
        {
         "customdata": [
          [
           "LANCIA"
          ]
         ],
         "hovertemplate": "Make=%{customdata[0]}<br>Pool=STELLANTIS<br>EnginePower=%{x}<br>Co2EmissionsWltp=%{y}<br>FuelConsumption=%{marker.size}<extra></extra>",
         "legendgroup": "LANCIA",
         "marker": {
          "color": "#B6E880",
          "size": [
           4.162500023841858
          ],
          "sizemode": "area",
          "sizeref": 0.02478846141925225,
          "symbol": "circle"
         },
         "mode": "markers",
         "name": "LANCIA",
         "orientation": "v",
         "showlegend": true,
         "type": "scatter",
         "x": [
          52.529411764705884
         ],
         "xaxis": "x3",
         "y": [
          118.82352941176471
         ],
         "yaxis": "y3"
        },
        {
         "customdata": [
          [
           "ŠKODA"
          ]
         ],
         "hovertemplate": "Make=%{customdata[0]}<br>Pool=VW-SAIC<br>EnginePower=%{x}<br>Co2EmissionsWltp=%{y}<br>FuelConsumption=%{marker.size}<extra></extra>",
         "legendgroup": "ŠKODA",
         "marker": {
          "color": "#FF97FF",
          "size": [
           4.899999936421712
          ],
          "sizemode": "area",
          "sizeref": 0.02478846141925225,
          "symbol": "circle"
         },
         "mode": "markers",
         "name": "ŠKODA",
         "orientation": "v",
         "showlegend": true,
         "type": "scatter",
         "x": [
          88.0625
         ],
         "xaxis": "x",
         "y": [
          124.5625
         ],
         "yaxis": "y"
        },
        {
         "customdata": [
          [
           "LEXUS"
          ]
         ],
         "hovertemplate": "Make=%{customdata[0]}<br>Pool=MAZDA-SUBARU-SUZUKI-TOYOTA<br>EnginePower=%{x}<br>Co2EmissionsWltp=%{y}<br>FuelConsumption=%{marker.size}<extra></extra>",
         "legendgroup": "LEXUS",
         "marker": {
          "color": "#FECB52",
          "size": [
           6.644444518619114
          ],
          "sizemode": "area",
          "sizeref": 0.02478846141925225,
          "symbol": "circle"
         },
         "mode": "markers",
         "name": "LEXUS",
         "orientation": "v",
         "showlegend": true,
         "type": "scatter",
         "x": [
          134.69230769230768
         ],
         "xaxis": "x5",
         "y": [
          146.46153846153845
         ],
         "yaxis": "y5"
        },
        {
         "customdata": [
          [
           "VOLKSWAGEN  VW"
          ]
         ],
         "hovertemplate": "Make=%{customdata[0]}<br>Pool=VW-SAIC<br>EnginePower=%{x}<br>Co2EmissionsWltp=%{y}<br>FuelConsumption=%{marker.size}<extra></extra>",
         "legendgroup": "VOLKSWAGEN  VW",
         "marker": {
          "color": "#636efa",
          "size": [
           5.215384648396419
          ],
          "sizemode": "area",
          "sizeref": 0.02478846141925225,
          "symbol": "circle"
         },
         "mode": "markers",
         "name": "VOLKSWAGEN  VW",
         "orientation": "v",
         "showlegend": true,
         "type": "scatter",
         "x": [
          109.6923076923077
         ],
         "xaxis": "x",
         "y": [
          143.46153846153845
         ],
         "yaxis": "y"
        },
        {
         "customdata": [
          [
           "JAGUAR"
          ]
         ],
         "hovertemplate": "Make=%{customdata[0]}<br>Pool=TATA-MOTORS<br>EnginePower=%{x}<br>Co2EmissionsWltp=%{y}<br>FuelConsumption=%{marker.size}<extra></extra>",
         "legendgroup": "JAGUAR",
         "marker": {
          "color": "#EF553B",
          "size": [
           6.3799999237060545
          ],
          "sizemode": "area",
          "sizeref": 0.02478846141925225,
          "symbol": "circle"
         },
         "mode": "markers",
         "name": "JAGUAR",
         "orientation": "v",
         "showlegend": true,
         "type": "scatter",
         "x": [
          165.76923076923077
         ],
         "xaxis": "x10",
         "y": [
          175.53846153846155
         ],
         "yaxis": "y10"
        },
        {
         "customdata": [
          [
           "MG"
          ]
         ],
         "hovertemplate": "Make=%{customdata[0]}<br>Pool=VW-SAIC<br>EnginePower=%{x}<br>Co2EmissionsWltp=%{y}<br>FuelConsumption=%{marker.size}<extra></extra>",
         "legendgroup": "MG",
         "marker": {
          "color": "#00cc96",
          "size": [
           1.7999999523162842
          ],
          "sizemode": "area",
          "sizeref": 0.02478846141925225,
          "symbol": "circle"
         },
         "mode": "markers",
         "name": "MG",
         "orientation": "v",
         "showlegend": true,
         "type": "scatter",
         "x": [
          102.0909090909091
         ],
         "xaxis": "x",
         "y": [
          11.727272727272727
         ],
         "yaxis": "y"
        },
        {
         "customdata": [
          [
           "ALFA ROMEO"
          ]
         ],
         "hovertemplate": "Make=%{customdata[0]}<br>Pool=STELLANTIS<br>EnginePower=%{x}<br>Co2EmissionsWltp=%{y}<br>FuelConsumption=%{marker.size}<extra></extra>",
         "legendgroup": "ALFA ROMEO",
         "marker": {
          "color": "#ab63fa",
          "size": [
           6.530000019073486
          ],
          "sizemode": "area",
          "sizeref": 0.02478846141925225,
          "symbol": "circle"
         },
         "mode": "markers",
         "name": "ALFA ROMEO",
         "orientation": "v",
         "showlegend": true,
         "type": "scatter",
         "x": [
          191.2
         ],
         "xaxis": "x3",
         "y": [
          169.2
         ],
         "yaxis": "y3"
        }
       ],
       "layout": {
        "annotations": [
         {
          "font": {},
          "showarrow": false,
          "text": "VW-SAIC",
          "x": 0.03636363636363637,
          "xanchor": "center",
          "xref": "paper",
          "y": 1,
          "yanchor": "bottom",
          "yref": "paper"
         },
         {
          "font": {},
          "showarrow": false,
          "text": "RENAULT-NISSAN-MITSUBISHI",
          "x": 0.1290909090909091,
          "xanchor": "center",
          "xref": "paper",
          "y": 1,
          "yanchor": "bottom",
          "yref": "paper"
         },
         {
          "font": {},
          "showarrow": false,
          "text": "STELLANTIS",
          "x": 0.22181818181818186,
          "xanchor": "center",
          "xref": "paper",
          "y": 1,
          "yanchor": "bottom",
          "yref": "paper"
         },
         {
          "font": {},
          "showarrow": false,
          "text": "BMW",
          "x": 0.3145454545454546,
          "xanchor": "center",
          "xref": "paper",
          "y": 1,
          "yanchor": "bottom",
          "yref": "paper"
         },
         {
          "font": {},
          "showarrow": false,
          "text": "MAZDA-SUBARU-SUZUKI-TOYOTA",
          "x": 0.40727272727272734,
          "xanchor": "center",
          "xref": "paper",
          "y": 1,
          "yanchor": "bottom",
          "yref": "paper"
         },
         {
          "font": {},
          "showarrow": false,
          "text": "MERCEDES-BENZ",
          "x": 0.5000000000000001,
          "xanchor": "center",
          "xref": "paper",
          "y": 1,
          "yanchor": "bottom",
          "yref": "paper"
         },
         {
          "font": {},
          "showarrow": false,
          "text": "KIA",
          "x": 0.5927272727272728,
          "xanchor": "center",
          "xref": "paper",
          "y": 1,
          "yanchor": "bottom",
          "yref": "paper"
         },
         {
          "font": {},
          "showarrow": false,
          "text": "FORD",
          "x": 0.6854545454545455,
          "xanchor": "center",
          "xref": "paper",
          "y": 1,
          "yanchor": "bottom",
          "yref": "paper"
         },
         {
          "font": {},
          "showarrow": false,
          "text": "HYUNDAI",
          "x": 0.7781818181818183,
          "xanchor": "center",
          "xref": "paper",
          "y": 1,
          "yanchor": "bottom",
          "yref": "paper"
         },
         {
          "font": {},
          "showarrow": false,
          "text": "TATA-MOTORS",
          "x": 0.8709090909090911,
          "xanchor": "center",
          "xref": "paper",
          "y": 1,
          "yanchor": "bottom",
          "yref": "paper"
         },
         {
          "font": {},
          "showarrow": false,
          "text": "HONDA-GROUP",
          "x": 0.9636363636363638,
          "xanchor": "center",
          "xref": "paper",
          "y": 1,
          "yanchor": "bottom",
          "yref": "paper"
         }
        ],
        "legend": {
         "itemsizing": "constant",
         "title": {
          "text": "Make"
         },
         "tracegroupgap": 0
        },
        "margin": {
         "t": 60
        },
        "template": {
         "data": {
          "bar": [
           {
            "error_x": {
             "color": "#2a3f5f"
            },
            "error_y": {
             "color": "#2a3f5f"
            },
            "marker": {
             "line": {
              "color": "#E5ECF6",
              "width": 0.5
             },
             "pattern": {
              "fillmode": "overlay",
              "size": 10,
              "solidity": 0.2
             }
            },
            "type": "bar"
           }
          ],
          "barpolar": [
           {
            "marker": {
             "line": {
              "color": "#E5ECF6",
              "width": 0.5
             },
             "pattern": {
              "fillmode": "overlay",
              "size": 10,
              "solidity": 0.2
             }
            },
            "type": "barpolar"
           }
          ],
          "carpet": [
           {
            "aaxis": {
             "endlinecolor": "#2a3f5f",
             "gridcolor": "white",
             "linecolor": "white",
             "minorgridcolor": "white",
             "startlinecolor": "#2a3f5f"
            },
            "baxis": {
             "endlinecolor": "#2a3f5f",
             "gridcolor": "white",
             "linecolor": "white",
             "minorgridcolor": "white",
             "startlinecolor": "#2a3f5f"
            },
            "type": "carpet"
           }
          ],
          "choropleth": [
           {
            "colorbar": {
             "outlinewidth": 0,
             "ticks": ""
            },
            "type": "choropleth"
           }
          ],
          "contour": [
           {
            "colorbar": {
             "outlinewidth": 0,
             "ticks": ""
            },
            "colorscale": [
             [
              0,
              "#0d0887"
             ],
             [
              0.1111111111111111,
              "#46039f"
             ],
             [
              0.2222222222222222,
              "#7201a8"
             ],
             [
              0.3333333333333333,
              "#9c179e"
             ],
             [
              0.4444444444444444,
              "#bd3786"
             ],
             [
              0.5555555555555556,
              "#d8576b"
             ],
             [
              0.6666666666666666,
              "#ed7953"
             ],
             [
              0.7777777777777778,
              "#fb9f3a"
             ],
             [
              0.8888888888888888,
              "#fdca26"
             ],
             [
              1,
              "#f0f921"
             ]
            ],
            "type": "contour"
           }
          ],
          "contourcarpet": [
           {
            "colorbar": {
             "outlinewidth": 0,
             "ticks": ""
            },
            "type": "contourcarpet"
           }
          ],
          "heatmap": [
           {
            "colorbar": {
             "outlinewidth": 0,
             "ticks": ""
            },
            "colorscale": [
             [
              0,
              "#0d0887"
             ],
             [
              0.1111111111111111,
              "#46039f"
             ],
             [
              0.2222222222222222,
              "#7201a8"
             ],
             [
              0.3333333333333333,
              "#9c179e"
             ],
             [
              0.4444444444444444,
              "#bd3786"
             ],
             [
              0.5555555555555556,
              "#d8576b"
             ],
             [
              0.6666666666666666,
              "#ed7953"
             ],
             [
              0.7777777777777778,
              "#fb9f3a"
             ],
             [
              0.8888888888888888,
              "#fdca26"
             ],
             [
              1,
              "#f0f921"
             ]
            ],
            "type": "heatmap"
           }
          ],
          "heatmapgl": [
           {
            "colorbar": {
             "outlinewidth": 0,
             "ticks": ""
            },
            "colorscale": [
             [
              0,
              "#0d0887"
             ],
             [
              0.1111111111111111,
              "#46039f"
             ],
             [
              0.2222222222222222,
              "#7201a8"
             ],
             [
              0.3333333333333333,
              "#9c179e"
             ],
             [
              0.4444444444444444,
              "#bd3786"
             ],
             [
              0.5555555555555556,
              "#d8576b"
             ],
             [
              0.6666666666666666,
              "#ed7953"
             ],
             [
              0.7777777777777778,
              "#fb9f3a"
             ],
             [
              0.8888888888888888,
              "#fdca26"
             ],
             [
              1,
              "#f0f921"
             ]
            ],
            "type": "heatmapgl"
           }
          ],
          "histogram": [
           {
            "marker": {
             "pattern": {
              "fillmode": "overlay",
              "size": 10,
              "solidity": 0.2
             }
            },
            "type": "histogram"
           }
          ],
          "histogram2d": [
           {
            "colorbar": {
             "outlinewidth": 0,
             "ticks": ""
            },
            "colorscale": [
             [
              0,
              "#0d0887"
             ],
             [
              0.1111111111111111,
              "#46039f"
             ],
             [
              0.2222222222222222,
              "#7201a8"
             ],
             [
              0.3333333333333333,
              "#9c179e"
             ],
             [
              0.4444444444444444,
              "#bd3786"
             ],
             [
              0.5555555555555556,
              "#d8576b"
             ],
             [
              0.6666666666666666,
              "#ed7953"
             ],
             [
              0.7777777777777778,
              "#fb9f3a"
             ],
             [
              0.8888888888888888,
              "#fdca26"
             ],
             [
              1,
              "#f0f921"
             ]
            ],
            "type": "histogram2d"
           }
          ],
          "histogram2dcontour": [
           {
            "colorbar": {
             "outlinewidth": 0,
             "ticks": ""
            },
            "colorscale": [
             [
              0,
              "#0d0887"
             ],
             [
              0.1111111111111111,
              "#46039f"
             ],
             [
              0.2222222222222222,
              "#7201a8"
             ],
             [
              0.3333333333333333,
              "#9c179e"
             ],
             [
              0.4444444444444444,
              "#bd3786"
             ],
             [
              0.5555555555555556,
              "#d8576b"
             ],
             [
              0.6666666666666666,
              "#ed7953"
             ],
             [
              0.7777777777777778,
              "#fb9f3a"
             ],
             [
              0.8888888888888888,
              "#fdca26"
             ],
             [
              1,
              "#f0f921"
             ]
            ],
            "type": "histogram2dcontour"
           }
          ],
          "mesh3d": [
           {
            "colorbar": {
             "outlinewidth": 0,
             "ticks": ""
            },
            "type": "mesh3d"
           }
          ],
          "parcoords": [
           {
            "line": {
             "colorbar": {
              "outlinewidth": 0,
              "ticks": ""
             }
            },
            "type": "parcoords"
           }
          ],
          "pie": [
           {
            "automargin": true,
            "type": "pie"
           }
          ],
          "scatter": [
           {
            "fillpattern": {
             "fillmode": "overlay",
             "size": 10,
             "solidity": 0.2
            },
            "type": "scatter"
           }
          ],
          "scatter3d": [
           {
            "line": {
             "colorbar": {
              "outlinewidth": 0,
              "ticks": ""
             }
            },
            "marker": {
             "colorbar": {
              "outlinewidth": 0,
              "ticks": ""
             }
            },
            "type": "scatter3d"
           }
          ],
          "scattercarpet": [
           {
            "marker": {
             "colorbar": {
              "outlinewidth": 0,
              "ticks": ""
             }
            },
            "type": "scattercarpet"
           }
          ],
          "scattergeo": [
           {
            "marker": {
             "colorbar": {
              "outlinewidth": 0,
              "ticks": ""
             }
            },
            "type": "scattergeo"
           }
          ],
          "scattergl": [
           {
            "marker": {
             "colorbar": {
              "outlinewidth": 0,
              "ticks": ""
             }
            },
            "type": "scattergl"
           }
          ],
          "scattermapbox": [
           {
            "marker": {
             "colorbar": {
              "outlinewidth": 0,
              "ticks": ""
             }
            },
            "type": "scattermapbox"
           }
          ],
          "scatterpolar": [
           {
            "marker": {
             "colorbar": {
              "outlinewidth": 0,
              "ticks": ""
             }
            },
            "type": "scatterpolar"
           }
          ],
          "scatterpolargl": [
           {
            "marker": {
             "colorbar": {
              "outlinewidth": 0,
              "ticks": ""
             }
            },
            "type": "scatterpolargl"
           }
          ],
          "scatterternary": [
           {
            "marker": {
             "colorbar": {
              "outlinewidth": 0,
              "ticks": ""
             }
            },
            "type": "scatterternary"
           }
          ],
          "surface": [
           {
            "colorbar": {
             "outlinewidth": 0,
             "ticks": ""
            },
            "colorscale": [
             [
              0,
              "#0d0887"
             ],
             [
              0.1111111111111111,
              "#46039f"
             ],
             [
              0.2222222222222222,
              "#7201a8"
             ],
             [
              0.3333333333333333,
              "#9c179e"
             ],
             [
              0.4444444444444444,
              "#bd3786"
             ],
             [
              0.5555555555555556,
              "#d8576b"
             ],
             [
              0.6666666666666666,
              "#ed7953"
             ],
             [
              0.7777777777777778,
              "#fb9f3a"
             ],
             [
              0.8888888888888888,
              "#fdca26"
             ],
             [
              1,
              "#f0f921"
             ]
            ],
            "type": "surface"
           }
          ],
          "table": [
           {
            "cells": {
             "fill": {
              "color": "#EBF0F8"
             },
             "line": {
              "color": "white"
             }
            },
            "header": {
             "fill": {
              "color": "#C8D4E3"
             },
             "line": {
              "color": "white"
             }
            },
            "type": "table"
           }
          ]
         },
         "layout": {
          "annotationdefaults": {
           "arrowcolor": "#2a3f5f",
           "arrowhead": 0,
           "arrowwidth": 1
          },
          "autotypenumbers": "strict",
          "coloraxis": {
           "colorbar": {
            "outlinewidth": 0,
            "ticks": ""
           }
          },
          "colorscale": {
           "diverging": [
            [
             0,
             "#8e0152"
            ],
            [
             0.1,
             "#c51b7d"
            ],
            [
             0.2,
             "#de77ae"
            ],
            [
             0.3,
             "#f1b6da"
            ],
            [
             0.4,
             "#fde0ef"
            ],
            [
             0.5,
             "#f7f7f7"
            ],
            [
             0.6,
             "#e6f5d0"
            ],
            [
             0.7,
             "#b8e186"
            ],
            [
             0.8,
             "#7fbc41"
            ],
            [
             0.9,
             "#4d9221"
            ],
            [
             1,
             "#276419"
            ]
           ],
           "sequential": [
            [
             0,
             "#0d0887"
            ],
            [
             0.1111111111111111,
             "#46039f"
            ],
            [
             0.2222222222222222,
             "#7201a8"
            ],
            [
             0.3333333333333333,
             "#9c179e"
            ],
            [
             0.4444444444444444,
             "#bd3786"
            ],
            [
             0.5555555555555556,
             "#d8576b"
            ],
            [
             0.6666666666666666,
             "#ed7953"
            ],
            [
             0.7777777777777778,
             "#fb9f3a"
            ],
            [
             0.8888888888888888,
             "#fdca26"
            ],
            [
             1,
             "#f0f921"
            ]
           ],
           "sequentialminus": [
            [
             0,
             "#0d0887"
            ],
            [
             0.1111111111111111,
             "#46039f"
            ],
            [
             0.2222222222222222,
             "#7201a8"
            ],
            [
             0.3333333333333333,
             "#9c179e"
            ],
            [
             0.4444444444444444,
             "#bd3786"
            ],
            [
             0.5555555555555556,
             "#d8576b"
            ],
            [
             0.6666666666666666,
             "#ed7953"
            ],
            [
             0.7777777777777778,
             "#fb9f3a"
            ],
            [
             0.8888888888888888,
             "#fdca26"
            ],
            [
             1,
             "#f0f921"
            ]
           ]
          },
          "colorway": [
           "#636efa",
           "#EF553B",
           "#00cc96",
           "#ab63fa",
           "#FFA15A",
           "#19d3f3",
           "#FF6692",
           "#B6E880",
           "#FF97FF",
           "#FECB52"
          ],
          "font": {
           "color": "#2a3f5f"
          },
          "geo": {
           "bgcolor": "white",
           "lakecolor": "white",
           "landcolor": "#E5ECF6",
           "showlakes": true,
           "showland": true,
           "subunitcolor": "white"
          },
          "hoverlabel": {
           "align": "left"
          },
          "hovermode": "closest",
          "mapbox": {
           "style": "light"
          },
          "paper_bgcolor": "white",
          "plot_bgcolor": "#E5ECF6",
          "polar": {
           "angularaxis": {
            "gridcolor": "white",
            "linecolor": "white",
            "ticks": ""
           },
           "bgcolor": "#E5ECF6",
           "radialaxis": {
            "gridcolor": "white",
            "linecolor": "white",
            "ticks": ""
           }
          },
          "scene": {
           "xaxis": {
            "backgroundcolor": "#E5ECF6",
            "gridcolor": "white",
            "gridwidth": 2,
            "linecolor": "white",
            "showbackground": true,
            "ticks": "",
            "zerolinecolor": "white"
           },
           "yaxis": {
            "backgroundcolor": "#E5ECF6",
            "gridcolor": "white",
            "gridwidth": 2,
            "linecolor": "white",
            "showbackground": true,
            "ticks": "",
            "zerolinecolor": "white"
           },
           "zaxis": {
            "backgroundcolor": "#E5ECF6",
            "gridcolor": "white",
            "gridwidth": 2,
            "linecolor": "white",
            "showbackground": true,
            "ticks": "",
            "zerolinecolor": "white"
           }
          },
          "shapedefaults": {
           "line": {
            "color": "#2a3f5f"
           }
          },
          "ternary": {
           "aaxis": {
            "gridcolor": "white",
            "linecolor": "white",
            "ticks": ""
           },
           "baxis": {
            "gridcolor": "white",
            "linecolor": "white",
            "ticks": ""
           },
           "bgcolor": "#E5ECF6",
           "caxis": {
            "gridcolor": "white",
            "linecolor": "white",
            "ticks": ""
           }
          },
          "title": {
           "x": 0.05
          },
          "xaxis": {
           "automargin": true,
           "gridcolor": "white",
           "linecolor": "white",
           "ticks": "",
           "title": {
            "standoff": 15
           },
           "zerolinecolor": "white",
           "zerolinewidth": 2
          },
          "yaxis": {
           "automargin": true,
           "gridcolor": "white",
           "linecolor": "white",
           "ticks": "",
           "title": {
            "standoff": 15
           },
           "zerolinecolor": "white",
           "zerolinewidth": 2
          }
         }
        },
        "xaxis": {
         "anchor": "y",
         "domain": [
          0,
          0.07272727272727274
         ],
         "title": {
          "text": "EnginePower"
         }
        },
        "xaxis10": {
         "anchor": "y10",
         "domain": [
          0.8345454545454547,
          0.9072727272727275
         ],
         "matches": "x",
         "title": {
          "text": "EnginePower"
         }
        },
        "xaxis11": {
         "anchor": "y11",
         "domain": [
          0.9272727272727275,
          1
         ],
         "matches": "x",
         "title": {
          "text": "EnginePower"
         }
        },
        "xaxis2": {
         "anchor": "y2",
         "domain": [
          0.09272727272727274,
          0.16545454545454547
         ],
         "matches": "x",
         "title": {
          "text": "EnginePower"
         }
        },
        "xaxis3": {
         "anchor": "y3",
         "domain": [
          0.18545454545454548,
          0.25818181818181823
         ],
         "matches": "x",
         "title": {
          "text": "EnginePower"
         }
        },
        "xaxis4": {
         "anchor": "y4",
         "domain": [
          0.2781818181818182,
          0.35090909090909095
         ],
         "matches": "x",
         "title": {
          "text": "EnginePower"
         }
        },
        "xaxis5": {
         "anchor": "y5",
         "domain": [
          0.37090909090909097,
          0.4436363636363637
         ],
         "matches": "x",
         "title": {
          "text": "EnginePower"
         }
        },
        "xaxis6": {
         "anchor": "y6",
         "domain": [
          0.46363636363636374,
          0.5363636363636365
         ],
         "matches": "x",
         "title": {
          "text": "EnginePower"
         }
        },
        "xaxis7": {
         "anchor": "y7",
         "domain": [
          0.5563636363636364,
          0.6290909090909091
         ],
         "matches": "x",
         "title": {
          "text": "EnginePower"
         }
        },
        "xaxis8": {
         "anchor": "y8",
         "domain": [
          0.6490909090909092,
          0.7218181818181819
         ],
         "matches": "x",
         "title": {
          "text": "EnginePower"
         }
        },
        "xaxis9": {
         "anchor": "y9",
         "domain": [
          0.7418181818181819,
          0.8145454545454547
         ],
         "matches": "x",
         "title": {
          "text": "EnginePower"
         }
        },
        "yaxis": {
         "anchor": "x",
         "domain": [
          0,
          1
         ],
         "title": {
          "text": "Co2EmissionsWltp"
         }
        },
        "yaxis10": {
         "anchor": "x10",
         "domain": [
          0,
          1
         ],
         "matches": "y",
         "showticklabels": false
        },
        "yaxis11": {
         "anchor": "x11",
         "domain": [
          0,
          1
         ],
         "matches": "y",
         "showticklabels": false
        },
        "yaxis2": {
         "anchor": "x2",
         "domain": [
          0,
          1
         ],
         "matches": "y",
         "showticklabels": false
        },
        "yaxis3": {
         "anchor": "x3",
         "domain": [
          0,
          1
         ],
         "matches": "y",
         "showticklabels": false
        },
        "yaxis4": {
         "anchor": "x4",
         "domain": [
          0,
          1
         ],
         "matches": "y",
         "showticklabels": false
        },
        "yaxis5": {
         "anchor": "x5",
         "domain": [
          0,
          1
         ],
         "matches": "y",
         "showticklabels": false
        },
        "yaxis6": {
         "anchor": "x6",
         "domain": [
          0,
          1
         ],
         "matches": "y",
         "showticklabels": false
        },
        "yaxis7": {
         "anchor": "x7",
         "domain": [
          0,
          1
         ],
         "matches": "y",
         "showticklabels": false
        },
        "yaxis8": {
         "anchor": "x8",
         "domain": [
          0,
          1
         ],
         "matches": "y",
         "showticklabels": false
        },
        "yaxis9": {
         "anchor": "x9",
         "domain": [
          0,
          1
         ],
         "matches": "y",
         "showticklabels": false
        }
       }
      }
     },
     "metadata": {},
     "output_type": "display_data"
    }
   ],
   "source": [
    "makers.facetplot()"
   ]
  },
  {
   "cell_type": "code",
   "execution_count": null,
   "metadata": {},
   "outputs": [],
   "source": [
    "m"
   ]
  },
  {
   "cell_type": "code",
   "execution_count": 8,
   "metadata": {},
   "outputs": [
    {
     "data": {
      "application/vnd.plotly.v1+json": {
       "config": {
        "plotlyServerURL": "https://plot.ly"
       },
       "data": [
        {
         "hovertemplate": "<b>%{hovertext}</b><br><br>Pool=STELLANTIS<br>WltpTestMass=%{x}<br>Puissance du moteur=%{y}<extra></extra>",
         "hovertext": [
          "INSIGNIA SPORTS TOURER",
          "FIAT 500L",
          "PANDA",
          "CORSA",
          "N 3008",
          "RIFTER",
          "3008",
          "500",
          "108",
          "YPSILON",
          "208",
          "ASTRA+",
          "COMBO LIFE",
          "GRANDLAND X",
          "COMPASS",
          "CROSSLAND",
          "C3",
          "C4 SPACETOURER",
          "MOKKA",
          "C4",
          "308",
          "NUEVO",
          "EXPERT TRAVELLER",
          "2008",
          "FIAT 500",
          "SUV",
          "508",
          "C3 AIRCROSS",
          "FIAT TIPO",
          "N208",
          "C1",
          "PANDA / 1.0 / HYBRID EASY",
          "N 2008",
          "Rifter",
          "ASTRA SPORTS TOURER",
          "STELVIO",
          "ABARTH 500",
          "INSIGNIA GRAND SPORT",
          "RENEGADE",
          "C5 AIRCROSS",
          "JUMPY SPACETOURER",
          "ASTRA SPORTS TOURER+",
          "500X",
          "VIVARO",
          "ASTRA",
          "COMBO",
          "7 CROSSBACK",
          "5008",
          "FIAT 500X",
          "BERLINGO",
          "CROSSLAND X",
          "C4 spacetourer",
          "TIPO",
          "FIAT PANDA",
          "3008-5008",
          "DS 7 CROSSBACK",
          "TRAVELLER",
          "GRAND",
          "VIVARO / VIVARO LIFE / ZAFIRA LIFE",
          "VIVARO ZAFIRA LIFE",
          "DS 3 CROSSBACK",
          "DS9",
          "GIULIA",
          "EXPERT",
          "JUMPY",
          "E-C4",
          "2008 / 1.2 /",
          "DS 9",
          "500L",
          "N5008",
          "DS7 / CROSSBACK 2.0 / HDI AUT.",
          "GIULIA QUADRIFOGLIO",
          "E-BERLINGO",
          "ALFA GIULIETTA",
          "JUMPY SPACE TOURER",
          "FIAT 500 / 500 ABARTH",
          "CORSA / 1.2 /",
          "3 CROSSBACK",
          "DUCATO",
          "WRANGLER UNLIMITED",
          "500 C ABARTH",
          "C5",
          "SPACETOURER"
         ],
         "legendgroup": "STELLANTIS",
         "marker": {
          "color": "#636efa",
          "symbol": "circle"
         },
         "mode": "markers",
         "name": "STELLANTIS",
         "orientation": "v",
         "showlegend": true,
         "type": "scatter",
         "x": [
          1747,
          1572,
          1279,
          1257,
          null,
          1683,
          1953,
          null,
          1022,
          null,
          1276,
          1479,
          1682,
          2049,
          1703,
          1457,
          null,
          1673,
          1367,
          1439,
          1472,
          null,
          2361,
          1440,
          null,
          null,
          null,
          1376,
          1466,
          null,
          1022,
          1130,
          null,
          1779,
          1447,
          1960,
          1230,
          1714,
          1612,
          null,
          2035,
          1492,
          1501,
          null,
          null,
          null,
          null,
          1715,
          1532,
          null,
          1449,
          1699,
          1465,
          1279,
          null,
          1958,
          null,
          null,
          2417,
          2131,
          1415,
          2057,
          1671,
          null,
          null,
          null,
          1346,
          2017,
          null,
          null,
          1796,
          1850,
          null,
          1609,
          2142,
          null,
          1284,
          null,
          2359,
          null,
          1235,
          null,
          null
         ],
         "xaxis": "x",
         "y": [
          128,
          70,
          63,
          74,
          96,
          96,
          133,
          51,
          53,
          52,
          75,
          77,
          75,
          147,
          96,
          81,
          81,
          96,
          96,
          81,
          96,
          96,
          57,
          96,
          52,
          133,
          96,
          81,
          70,
          74,
          53,
          52,
          96,
          96,
          81,
          154,
          132,
          128,
          96,
          96,
          88,
          107,
          88,
          88,
          81,
          75,
          96,
          96,
          70,
          96,
          81,
          96,
          73,
          63,
          96,
          133,
          88,
          96,
          106,
          106,
          96,
          133,
          140,
          106,
          88,
          57,
          74,
          133,
          70,
          96,
          130,
          375,
          57,
          88,
          106,
          51,
          74,
          96,
          103,
          200,
          121,
          96,
          106
         ],
         "yaxis": "y"
        },
        {
         "hovertemplate": "<b>%{hovertext}</b><br><br>Pool=VW-SAIC<br>WltpTestMass=%{x}<br>Puissance du moteur=%{y}<extra></extra>",
         "hovertext": [
          "OCTAVIA",
          "KAROQ",
          "UP!",
          "IBIZA",
          "CALIFORNIA BEACH",
          "TIGUAN",
          "MULTIVAN",
          "GOLF",
          "FABIA",
          "A3 SPORTBACK",
          "POLO",
          "ARONA",
          "GOLF GTE",
          "ARTEON",
          "A4 ALLROAD QUATTRO",
          "T-CROSS",
          "ID.3 PRO 107 KW",
          "SEAT ATECA",
          "A1 SPORTBACK",
          "T-ROC",
          "SUPERB",
          "Q2",
          "FORMENTOR",
          "KAMIQ",
          "MII",
          "A6 Avant",
          "OCTAVIA RS",
          "A4 Avant",
          "ID.3 PRO 150KW",
          "LEON SPORTSTOURER",
          "Q5",
          "ID.4 PRO 150 KW",
          "PASSAT",
          "RS Q3 SPORTBACK",
          "Q5 SPORTBACK",
          "E-TRON 50",
          "A6 AVANT",
          "SCALA",
          "Q3 e-tron",
          "LEON",
          "Q3 SPORTBACK",
          "CUPRA LEON",
          "KODIAQ",
          "Q3",
          "CADDY",
          "MG ZS EV",
          "KOMBI",
          "TOUAREG",
          "TARRACO",
          "TOURAN",
          "ID.3 PURE 110KW",
          "TAIGO",
          "Q3 Sportback",
          "POLO / 1.0 / TSI",
          "ID.4 GTX 220 KW",
          "ID.4",
          "A6 AVANT 55 TFSI E",
          "S3 SPORTBACK",
          "Q3 E-TRON",
          "911 Targa 4",
          "CUPRA LEON SP E-HYBRID180",
          "Q7 55 TFSI E",
          "SEAT LEON SP",
          "ID.4 PRO 150KW",
          "E-TRON SPORTBACK 50",
          "PANAMERA GTS",
          "TT ROADSTER",
          "TAYCAN 4S",
          "T-ROC / 2.0 / TDI",
          "A4 AVANT",
          "ENYAQ 80",
          "E-TRON S SPORTBACK",
          "A3 LIMOUSINE",
          "A6 LIMOUSINE",
          "911 TARGA 4S",
          "S3 LIMOUSINE",
          "ENYAQ 60",
          "A3 40 TFSIE",
          "ATECA",
          "ID.3 PRO S 150KW",
          "MACAN",
          "MG RX6 Plug-in Hybrid",
          "ALHAMBRA",
          "A3 45 TFSIe",
          "A3",
          "718 Cayman GT4",
          "E-TRON SPORTBACK 55",
          "SEAT LEON",
          "ID.3 PRO 150 KW",
          "CUPRA LEON E-HYBRID180",
          "A4 Limousine",
          "E-TRON GT",
          "KAROQ / 1.5 / TSI",
          "FORMENTOR E-HYBRID",
          "Taycan 4",
          "S5 SPORTBACK",
          "A4",
          "e-tron 50",
          "A6 Limousine",
          "A4 LIMOUSINE",
          "RS Q3",
          "A1 CITYCARVER",
          "Q7",
          "Q3 SPORTBACK E-TRON",
          "Q3 Sportback e-tron",
          "MG EHS Plug-in Hybrid",
          "S6 AVANT",
          "e-tron 55",
          "TRANSPORTER / 2.0 / TDI 4M AUT.",
          "TOUAREG EHYBRID",
          "CRAFTER",
          "UP",
          "FORMENTOR VZ E-HYBRID",
          "T-ROC / 2.0 / TDI 4M AUT.",
          "Q4 40 e-tron",
          "ID.4 PURE 109 KW",
          "Taycan 4S",
          "Q4 35 E-TRON",
          "TOUAREG R",
          "E-TRON 55",
          "CAYENNE E-HYBRID",
          "SQ5",
          "Q8 60 TFSI E",
          "T-CROSS / 1.0 / TSI",
          "MG EHS PLUG-IN HYBRID",
          "TAYCAN 4",
          "A1",
          "Q5 50 TFSI e",
          "RS 6 AVANT",
          "911 CARRERA 4",
          "LEON SP E-HYBRID150",
          "E TRON 55",
          "SEAT LEON SP E-HYBRID150",
          "Q4 50 E TRON",
          "ID.3 PRO S 150 KW",
          "A4 AVANT G-TRON",
          "LEON SP / 1.5 / TSI",
          "MACAN S",
          "S3",
          "LEON E-HYBRID180",
          "Q5 SPORTBACK 50 TFSI E",
          "CUPRA ATECA",
          "A7 55 TFSI E",
          "PANAMERA TURBO S E-HYBRID",
          "Lynk & Co 01",
          "Q4 40 E-TRON",
          "911 CARRERA",
          "718 BOXSTER SPYDER",
          "A5 SPORTBACK",
          "LYNK & CO 01",
          "A6",
          "Q4 SPORTBACK 40 E-TRON",
          "ENYAQ",
          "MACAN GTS",
          "CAYENNE",
          "Panamera 4 E-Hybrid"
         ],
         "legendgroup": "VW-SAIC",
         "marker": {
          "color": "#EF553B",
          "symbol": "circle"
         },
         "mode": "markers",
         "name": "VW-SAIC",
         "orientation": "v",
         "showlegend": true,
         "type": "scatter",
         "x": [
          1424,
          null,
          1330,
          1272,
          2685,
          null,
          2706,
          1720,
          1215,
          null,
          1351,
          null,
          1712,
          1916,
          null,
          1417,
          1900,
          null,
          1351,
          1646,
          1790,
          null,
          1776,
          1441,
          1326,
          1956,
          1754,
          1810,
          1940,
          null,
          2113,
          null,
          1734,
          1909,
          null,
          2559,
          1951,
          1329,
          1936,
          1475,
          1779,
          1767,
          1946,
          1751,
          1747,
          1684,
          2346,
          2371,
          1756,
          1732,
          1870,
          1383,
          1923,
          1316,
          2388,
          null,
          2273,
          1735,
          1949,
          1823,
          1793,
          2623,
          null,
          2225,
          2638,
          2319,
          1537,
          2503,
          1511,
          1829,
          2252,
          2849,
          1643,
          1922,
          1841,
          1721,
          2116,
          1740,
          1431,
          2032,
          2055,
          1923,
          2095,
          1794,
          null,
          1702,
          2747,
          null,
          1927,
          1748,
          1665,
          2434,
          1495,
          null,
          null,
          2014,
          null,
          2634,
          1857,
          1678,
          1913,
          1355,
          2417,
          1963,
          1949,
          1923,
          2307,
          2710,
          2548,
          2664,
          3344,
          1323,
          1783,
          1694,
          2273,
          null,
          2447,
          2121,
          2650,
          2779,
          2595,
          2295,
          null,
          1388,
          1923,
          2487,
          null,
          2219,
          2366,
          1797,
          1781,
          null,
          1807,
          null,
          2031,
          1828,
          1495,
          2152,
          null,
          1774,
          2282,
          null,
          2317,
          2588,
          1913,
          2267,
          1709,
          1572,
          1775,
          2052,
          null,
          2268,
          null,
          2176,
          2214,
          2451
         ],
         "xaxis": "x",
         "y": [
          81,
          110,
          61,
          85,
          146,
          110,
          110,
          100,
          70,
          81,
          81,
          81,
          110,
          147,
          150,
          81,
          70,
          110,
          110,
          110,
          110,
          110,
          228,
          110,
          61,
          120,
          147,
          120,
          70,
          96,
          150,
          150,
          110,
          294,
          150,
          158,
          150,
          70,
          110,
          110,
          110,
          110,
          147,
          110,
          75,
          105,
          110,
          170,
          110,
          110,
          70,
          81,
          147,
          81,
          77,
          150,
          195,
          228,
          110,
          283,
          110,
          250,
          85,
          70,
          158,
          353,
          180,
          140,
          85,
          120,
          70,
          226,
          140,
          150,
          331,
          228,
          132,
          110,
          81,
          70,
          180,
          119,
          110,
          110,
          110,
          309,
          300,
          110,
          70,
          110,
          100,
          140,
          110,
          110,
          320,
          251,
          100,
          230,
          120,
          100,
          294,
          81,
          210,
          110,
          110,
          119,
          257,
          300,
          110,
          250,
          130,
          61,
          110,
          110,
          150,
          109,
          360,
          125,
          250,
          158,
          250,
          251,
          250,
          70,
          119,
          140,
          81,
          195,
          441,
          283,
          110,
          172,
          110,
          150,
          70,
          125,
          96,
          280,
          228,
          110,
          195,
          221,
          195,
          420,
          105,
          70,
          283,
          309,
          120,
          132,
          150,
          150,
          150,
          324,
          250,
          243
         ],
         "yaxis": "y"
        },
        {
         "hovertemplate": "<b>%{hovertext}</b><br><br>Pool=BMW<br>WltpTestMass=%{x}<br>Puissance du moteur=%{y}<extra></extra>",
         "hovertext": [
          "840I XDRIVE",
          "545e xDrive",
          "SERIE 1",
          "418I",
          "530E XDRIVE",
          "SERIE X",
          "ONE",
          "COOPER",
          "X6 M50I",
          "X2 XDRIVE 25D",
          "218D",
          "520d",
          "X1 SDRIVE18D",
          "530i",
          "318I",
          "SERIE 2",
          "X4 xDrive30d",
          "X5 XDRIVE25D",
          "X7 M50I",
          "X4M COMPETITION",
          "118D",
          "116D",
          "X5 XDRIVE 45E",
          "X1 SDRIVE20I",
          "330e",
          "X1 XDRIVE 20I",
          "X6 XDRIVE30D G06 B57",
          "COOPER S",
          "IX3",
          "COOPER SE",
          "320I",
          "320D",
          "X5 xDrive45e",
          "I3",
          "X3",
          "520D XDRIVE",
          "320D XDRIVE",
          "X1 sDrive18i",
          "X3 XDRIVE 30D",
          "225I XDRIVE ACTIVE TOURER",
          "M3 40I XDRIVE",
          "COUNTRYMAN COOPER S",
          "X2 XDRIVE 25E",
          "218i",
          "CLUBMAN ONE",
          "118I",
          "M440I XDRIVE",
          "530E",
          "X3 sDrive18d",
          "X1 XDRIVE 25E",
          "X1 sDrive18d",
          "530D",
          "330I XDRIVE",
          "320E XDRIVE",
          "Countryman One D",
          "MINI",
          "218I GRAN TOURER",
          "118D 5-TÜRER F40 B47",
          "X3 xDrive30e",
          "X5 xDrive30d",
          "318i",
          "318D",
          "COUNTRYMAN COOPER ALL4",
          "X3 XDRIVE30D",
          "X2 xDrive20i",
          "X1 SDRIVE18I",
          "218I",
          "SERIE 3",
          "X1 SDRIVE 18D",
          "X3 XDRIVE 20D",
          "530e",
          "520D",
          "X4 M COMPETITION",
          "Countryman Cooper SE ALL4",
          "I3S",
          "CLUBMAN ONE D",
          "M1 35I XDRIVE",
          "X3 XDRIVE20D",
          "530D XDRIVE",
          "218I ACTIVE TOURER",
          "320e",
          "M340D XDRIVE",
          "X1 sDrive16d",
          "X1 SDRIVE 20D",
          "X6 M COMPETITION",
          "One",
          "X4 XDRIVE30D G02 B57",
          "COUNTRYMAN ONE D",
          "X3 xDrive30d",
          "X1 XDRIVE18D",
          "X5 XDRIVE 30D",
          "X5 XDRIVE 40D",
          "X1",
          "COUNTRYMAN COOPER SE ALL4",
          "630D",
          "COUNTRYMAN COOPER",
          "M340I",
          "320E",
          "316D",
          "X3 XDRIVE30E",
          "330E XDRIVE",
          "JOHN",
          "X2 SDRIVE 18I",
          "iX xDrive40",
          "X1 XDRIVE 20D",
          "X4 M 40 D",
          "SERIE I",
          "X2",
          "MINI COOPER SE ALL4 COUNTRYMAN",
          "320d",
          "Z4 SDRIVE 20I",
          "X1 SDRIVE 20I",
          "218D GRAN TOURER",
          "120I",
          "X1 xDrive25e",
          "X3 XDRIVE30I",
          "540D XDRIVE",
          "SERIE 4",
          "iX3",
          "330D",
          "330E",
          "116I",
          "X1 xDrive20i",
          "Cooper SE",
          "X6 XDRIVE 30D",
          "i3",
          "GHOST",
          "X3 M COMPETITION",
          "420D XDRIVE",
          "120D XDRIVE",
          "Clubman JCW ALL4",
          "IX3 G08 HA0",
          "COUNTRYMAN",
          "420d",
          "128TI",
          "M4 COMPETITION M XDRIVE",
          "318D TOURING G21 B47",
          "318d",
          "540I XDRIVE",
          "X3 XDRIVE 30E",
          "X5 XDRIVE 25D",
          "X2 sDrive16d",
          "CLUBMAN COOPER D",
          "Cooper S",
          "COUNTRYMAN COOPER D",
          "X5 XDRIVE45E",
          "320i",
          "118i",
          "M340I XDRIVE",
          "Cooper",
          "COUNTRYMAN COOPER S ALL4",
          "218D XDRIVE GRAN TOURER F46 B4",
          "Z4 SDRIVE20I",
          "X5",
          "John Cooper Works",
          "X3 XDRIVE30E G01 XB1",
          "X6 XDRIVE 40D",
          "X3 xDrive20d",
          "X1 SDRIVE 18I",
          "116d",
          "X5 XDRIVE30D",
          "X5 xDrive40d",
          "M3 COMPETITION"
         ],
         "legendgroup": "BMW",
         "marker": {
          "color": "#00cc96",
          "symbol": "circle"
         },
         "mode": "markers",
         "name": "BMW",
         "orientation": "v",
         "showlegend": true,
         "type": "scatter",
         "x": [
          2089,
          2138,
          1555,
          1720,
          2199,
          1598,
          1314,
          null,
          2540,
          1822,
          null,
          1987,
          1736,
          1839,
          1738,
          1601,
          2164,
          2345,
          2765,
          2196,
          1630,
          null,
          2729,
          1697,
          1964,
          1786,
          2475,
          1493,
          2396,
          1518,
          1806,
          1837,
          2652,
          1465,
          null,
          2083,
          1942,
          1589,
          2209,
          1735,
          1911,
          1704,
          1935,
          1588,
          1505,
          1447,
          2073,
          2162,
          1969,
          1977,
          1740,
          1990,
          1811,
          2060,
          1652,
          1361,
          1767,
          1650,
          null,
          2442,
          1759,
          1846,
          1652,
          2089,
          1779,
          1613,
          1612,
          2098,
          1740,
          2119,
          2147,
          1976,
          2150,
          1911,
          1466,
          null,
          1698,
          null,
          2186,
          1581,
          1928,
          2078,
          1661,
          1741,
          2512,
          1283,
          2236,
          1638,
          2155,
          1808,
          2495,
          2485,
          null,
          1929,
          null,
          1630,
          null,
          1917,
          null,
          2279,
          2121,
          null,
          1581,
          null,
          1830,
          2189,
          1441,
          null,
          1902,
          1837,
          1597,
          1654,
          1840,
          null,
          1959,
          1925,
          2238,
          1897,
          2376,
          1985,
          1946,
          1534,
          1766,
          1556,
          2457,
          1444,
          2728,
          2216,
          1850,
          1742,
          1747,
          2393,
          1791,
          1769,
          null,
          1932,
          1823,
          1795,
          2067,
          2246,
          2358,
          1678,
          1648,
          1423,
          1708,
          2739,
          1654,
          1507,
          1875,
          1457,
          1782,
          1890,
          1572,
          null,
          1544,
          2233,
          2563,
          null,
          1646,
          1546,
          2356,
          2556,
          1892
         ],
         "xaxis": "x",
         "y": [
          245,
          210,
          100,
          100,
          135,
          100,
          75,
          100,
          390,
          170,
          110,
          140,
          110,
          185,
          115,
          100,
          210,
          170,
          390,
          375,
          110,
          85,
          210,
          131,
          135,
          131,
          210,
          131,
          210,
          75,
          135,
          140,
          210,
          75,
          140,
          140,
          140,
          100,
          210,
          170,
          275,
          131,
          92,
          100,
          75,
          100,
          275,
          135,
          110,
          92,
          110,
          210,
          190,
          120,
          85,
          75,
          100,
          110,
          135,
          210,
          115,
          110,
          100,
          210,
          131,
          100,
          100,
          135,
          110,
          140,
          135,
          140,
          375,
          92,
          75,
          85,
          225,
          140,
          210,
          100,
          120,
          250,
          85,
          140,
          460,
          75,
          210,
          85,
          210,
          110,
          210,
          250,
          110,
          92,
          210,
          100,
          275,
          120,
          90,
          135,
          135,
          170,
          100,
          200,
          140,
          250,
          75,
          85,
          92,
          140,
          145,
          131,
          110,
          131,
          92,
          185,
          250,
          140,
          210,
          210,
          135,
          80,
          131,
          135,
          210,
          125,
          420,
          375,
          140,
          140,
          225,
          80,
          131,
          120,
          195,
          375,
          110,
          110,
          245,
          135,
          170,
          85,
          110,
          131,
          110,
          210,
          135,
          100,
          275,
          100,
          131,
          110,
          145,
          170,
          170,
          135,
          250,
          140,
          100,
          85,
          210,
          250,
          375
         ],
         "yaxis": "y"
        },
        {
         "hovertemplate": "<b>%{hovertext}</b><br><br>Pool=TESLA<br>WltpTestMass=%{x}<br>Puissance du moteur=%{y}<extra></extra>",
         "hovertext": [
          "MODEL 3",
          "MODEL Y",
          "Model 3",
          "Model Y",
          "CIVIC 4DR",
          "Model S",
          "Discovery Sport",
          "MODEL"
         ],
         "legendgroup": "TESLA",
         "marker": {
          "color": "#ab63fa",
          "symbol": "circle"
         },
         "mode": "markers",
         "name": "TESLA",
         "orientation": "v",
         "showlegend": true,
         "type": "scatter",
         "x": [
          1905,
          2211,
          null,
          2211,
          1448,
          null,
          2431,
          null
         ],
         "xaxis": "x",
         "y": [
          100,
          153,
          239,
          158,
          93,
          219,
          147,
          366
         ],
         "yaxis": "y"
        },
        {
         "hovertemplate": "<b>%{hovertext}</b><br><br>Pool=MAZDA-SUBARU-SUZUKI-TOYOTA<br>WltpTestMass=%{x}<br>Puissance du moteur=%{y}<extra></extra>",
         "hovertext": [
          "C-HR",
          "SWIFT",
          "YARIS",
          "PROACE CITY VERSO",
          "COROLLA",
          "TOYOTA RAV4",
          "FORESTER",
          "C-HR 1,8 HYBRID 2WD",
          "TOYOTA C-HR",
          "TOYOTA YARIS",
          "VITARA",
          "MAZDA2",
          "IGNIS",
          "UX250H",
          "AYGO",
          "TOYOTA COROLLA",
          "C-HR / 2,0 / CVT HIBRID",
          "MAZDA CX-30",
          "RAV4",
          "MX-5",
          "TOYOTA YARIS CROSS",
          "Suzuki VITARA",
          "3",
          "Mazda CX-3",
          "MAZDA MX-30",
          "TOYOTA AYGO",
          "LEXUS LC500H",
          "GR YARIS",
          "SWACE",
          "OUTBACK",
          "SX4",
          "Suzuki SX4",
          "Across",
          "MAZDA CX-5",
          "TOYOTA LAND CRUISER 150",
          "CX-30",
          "MAZDA3",
          "MAZDA CX-3",
          "TOYOTA RAV 4",
          "Mazda CX-5",
          "LEXUS UX250H",
          "Proace",
          "RX450H",
          "PROACE",
          "XV",
          "CAMRY",
          "ES300H",
          "SUZUKI SWACE",
          "IMPREZA",
          "COROLLA 1,8 HYBRID",
          "NX300H",
          "YARIS CROSS 1,5 2WD",
          "TOYOTA HIGHLANDER",
          "CX-30/SKYACTIV-G122/COMFORT+",
          "CX-5",
          "TOYOTA CAMRY",
          "MAZDA 3",
          "YARIS CROSS HSD 4WD",
          "FORESTER 2,0i-MHEV Premium",
          "Suzuki SWIFT",
          "LEXUS NX300H"
         ],
         "legendgroup": "MAZDA-SUBARU-SUZUKI-TOYOTA",
         "marker": {
          "color": "#FFA15A",
          "symbol": "circle"
         },
         "mode": "markers",
         "name": "MAZDA-SUBARU-SUZUKI-TOYOTA",
         "orientation": "v",
         "showlegend": true,
         "type": "scatter",
         "x": [
          null,
          null,
          null,
          1822,
          1637,
          2162,
          1851,
          1573,
          1570,
          1285,
          null,
          1222,
          null,
          1723,
          1014,
          1542,
          1642,
          null,
          null,
          1210,
          1334,
          1393,
          null,
          1389,
          1827,
          null,
          2165,
          1454,
          1553,
          null,
          1390,
          1371,
          null,
          1803,
          2545,
          1620,
          1465,
          1389,
          2162,
          1724,
          1703,
          null,
          2297,
          null,
          null,
          1759,
          1853,
          null,
          1699,
          1500,
          null,
          1267,
          null,
          1637,
          1643,
          1769,
          1592,
          1472,
          1851,
          1068,
          2030
         ],
         "xaxis": "x",
         "y": [
          72,
          95,
          68,
          96,
          112,
          136,
          110,
          72,
          72,
          68,
          95,
          66,
          61,
          112,
          53,
          72,
          112,
          90,
          136,
          135,
          68,
          95,
          90,
          89,
          81,
          53,
          220,
          192,
          72,
          129,
          95,
          95,
          136,
          143,
          150,
          110,
          90,
          89,
          136,
          120,
          112,
          100,
          193,
          75,
          110,
          131,
          131,
          72,
          110,
          72,
          114,
          92,
          140,
          90,
          121,
          131,
          137,
          68,
          110,
          61,
          114
         ],
         "yaxis": "y"
        },
        {
         "hovertemplate": "<b>%{hovertext}</b><br><br>Pool=HONDA-GROUP<br>WltpTestMass=%{x}<br>Puissance du moteur=%{y}<extra></extra>",
         "hovertext": [
          "CR-V",
          "CIVIC 5DR",
          "JAZZ",
          "HONDA CR-V",
          "CIVIC",
          "HONDA E"
         ],
         "legendgroup": "HONDA-GROUP",
         "marker": {
          "color": "#19d3f3",
          "symbol": "circle"
         },
         "mode": "markers",
         "name": "HONDA-GROUP",
         "orientation": "v",
         "showlegend": true,
         "type": "scatter",
         "x": [
          1800,
          1439,
          1396,
          1880,
          null,
          1675
         ],
         "xaxis": "x",
         "y": [
          107,
          93,
          72,
          107,
          134,
          60
         ],
         "yaxis": "y"
        },
        {
         "hovertemplate": "<b>%{hovertext}</b><br><br>Pool=MERCEDES-BENZ<br>WltpTestMass=%{x}<br>Puissance du moteur=%{y}<extra></extra>",
         "hovertext": [
          "A 200 D",
          "CLASSE GLA",
          "VITO",
          "E 400 D 4 MATIC",
          "GLA 250 E",
          "E 220 D",
          "B 160",
          "GLC 300 D 4MATIC",
          "GLE 350 E 4MATIC",
          "C 180",
          "B 200",
          "E 220 D 4MATIC",
          "GLC 200 4MATIC",
          "MARCO POLO",
          "EQ FORTWO COUPE",
          "E 220 d",
          "E 200",
          "A 180",
          "C 220",
          "GLC 300 d 4MATIC",
          "CLASSE GLC",
          "GLC 220d 4MATIC",
          "CLA 180 D",
          "E 300 E",
          "CLASSE A",
          "EQV",
          "S 500 4MATIC",
          "GLE 400 D 4MATIC",
          "GLE 350 de 4MATIC Coupe",
          "GLB 250 4MATIC",
          "GLB 200",
          "E 300 DE 4MATIC",
          "EQC 400 4MATIC",
          "E 200 4MATIC",
          "C 300 DE",
          "CLASSE C",
          "EQ FORTWO CABRIO",
          "GLC 300 DE 4MATIC",
          "EQ FORFOUR",
          "AMG GLE 63 S 4MATIC+Coupe",
          "A 200 D 4MATIC",
          "GLA 200",
          "EQA 250",
          "GLA 180 d",
          "CLASSE B",
          "A 200",
          "CLASSE GLB",
          "V-KLASSE",
          "GLC 300 de 4MATIC",
          "A 250 E",
          "GLC 200 d",
          "B 180",
          "GLC",
          "CLA 250 E",
          "C 220 D 4MATIC",
          "GLE 350 D 4MATIC",
          "C 200 D",
          "GLB 200 D 4MATIC",
          "C 200",
          "GLB",
          "A 250 e",
          "A 180 d",
          "GLE 300 d 4MATIC",
          "AMG GLS 63 4MATIC+",
          "VITO TOURER",
          "GLS 580 4MATIC",
          "E 220",
          "GLC 300 E 4MATIC",
          "GLC 300 e 4MATIC",
          "C 200 4MATIC",
          "CLA 180",
          "GLA 220 D",
          "GLC 200 D 4MATIC",
          "A 250 4MATIC",
          "GLB 180 d",
          "E 450 4MATIC",
          "V",
          "C 220 d",
          "S 400 d 4MATIC",
          "CLASSE CLA",
          "AMG GLE 53 4MATIC+",
          "AMG GLE 53 4MATIC+ COUPE",
          "GLB 220 D",
          "GLA 200 D",
          "A 250",
          "EQA 350 4MATIC",
          "C 300 d",
          "S 400 D 4MATIC",
          "GLE 400 D 4MATIC COUPE",
          "AMG G 63",
          "GLC 220 D 4MATIC",
          "GLA",
          "Vito Tourer",
          "GLB 200 d",
          "A 220 D",
          "AMG CLA 35",
          "AMG C 43",
          "GLE 350 d 4MATIC Coupe",
          "CLASSE GLE",
          "CLA 200",
          "CLA 220 D",
          "C 300 D",
          "AMG GLS 63",
          "GLB 200 D",
          "AMG GT 43 4MATIC+",
          "GLA 220 D 4MATIC",
          "CLA 200 D",
          "CLA",
          "C 220 D",
          "GLA 200 D 4MATIC",
          "GLA 200 d",
          "AMG GLC 43 4MATIC",
          "V-Klasse",
          "AMG CLA 45 S",
          "A 200 d",
          "GLE 350 DE 4MATIC COUPE",
          "E 220 d 4MATIC",
          "CITAN",
          "A 180 D",
          "B 250 E",
          "EQ fortwo coupe",
          "GLE 350 de 4MATIC",
          "CLA 250 e"
         ],
         "legendgroup": "MERCEDES-BENZ",
         "marker": {
          "color": "#FF6692",
          "symbol": "circle"
         },
         "mode": "markers",
         "name": "MERCEDES-BENZ",
         "orientation": "v",
         "showlegend": true,
         "type": "scatter",
         "x": [
          1661,
          1731,
          null,
          2213,
          1978,
          1889,
          1488,
          2012,
          2803,
          1626,
          1534,
          1954,
          1984,
          2698,
          null,
          null,
          1873,
          1526,
          null,
          2008,
          2022,
          1992,
          null,
          2133,
          1834,
          3043,
          2299,
          2546,
          3019,
          1843,
          1703,
          2395,
          2624,
          1921,
          2095,
          1883,
          1222,
          2303,
          1345,
          2703,
          1730,
          1680,
          null,
          1826,
          1882,
          null,
          1943,
          2629,
          null,
          1832,
          1962,
          1602,
          null,
          1880,
          1824,
          2523,
          1768,
          1936,
          1813,
          null,
          1787,
          1575,
          2413,
          2774,
          2418,
          2760,
          null,
          2218,
          null,
          1864,
          1509,
          1751,
          1971,
          1681,
          1830,
          2070,
          2730,
          1932,
          2326,
          1655,
          null,
          2598,
          1822,
          1696,
          null,
          null,
          1966,
          2287,
          2559,
          2794,
          2011,
          null,
          2331,
          1873,
          1647,
          1763,
          2018,
          2472,
          2883,
          1593,
          1657,
          1968,
          2865,
          1809,
          2178,
          1850,
          1701,
          null,
          null,
          1797,
          1744,
          2018,
          2649,
          1856,
          1681,
          2908,
          null,
          1799,
          1593,
          1889,
          1184,
          2934,
          1863
         ],
         "xaxis": "x",
         "y": [
          110,
          110,
          100,
          243,
          118,
          143,
          80,
          180,
          155,
          115,
          120,
          143,
          145,
          174,
          41,
          143,
          145,
          100,
          147,
          180,
          143,
          143,
          85,
          155,
          118,
          70,
          320,
          243,
          143,
          165,
          120,
          143,
          145,
          145,
          143,
          143,
          41,
          143,
          41,
          450,
          110,
          120,
          140,
          85,
          118,
          110,
          110,
          174,
          143,
          118,
          120,
          100,
          143,
          118,
          143,
          200,
          118,
          110,
          150,
          110,
          118,
          85,
          180,
          450,
          100,
          360,
          143,
          155,
          155,
          150,
          100,
          140,
          120,
          165,
          85,
          270,
          174,
          147,
          243,
          85,
          320,
          320,
          140,
          110,
          118,
          215,
          195,
          243,
          243,
          430,
          143,
          120,
          100,
          110,
          140,
          225,
          287,
          200,
          143,
          120,
          140,
          195,
          450,
          110,
          270,
          140,
          110,
          100,
          147,
          110,
          110,
          287,
          174,
          310,
          110,
          143,
          143,
          70,
          85,
          118,
          60,
          143,
          118
         ],
         "yaxis": "y"
        },
        {
         "hovertemplate": "<b>%{hovertext}</b><br><br>Pool=KIA<br>WltpTestMass=%{x}<br>Puissance du moteur=%{y}<extra></extra>",
         "hovertext": [
          "STONIC",
          "EV6",
          "ProCeed",
          "CEED",
          "SPORTAGE",
          "PICANTO",
          "Picanto",
          "PROCEED",
          "NIRO",
          "XCeed",
          "XCEED",
          "RIO",
          "SOUL",
          "Ceed",
          "SORENTO",
          "STONIC/TITAN/1.25 MPI/MT5/84",
          "XCEED / 1.5 / T",
          "SPORTAGE / 1.6 / TD",
          "RIO,STONIC",
          "SORENTO/5S/PLATIN/UVO/2.2 CRDI",
          "SPORTAGE / 1.6 / TD / AUT.",
          "CEEDSW/SILBER/UVO/1.0 TGDI GPF",
          "PICANTO/TITAN/1.0 DPI/MT5/67",
          "E-NIRO/GOLD/UVO/E-MOTOR/LR/64,",
          "OPTIMA",
          "E-NIRO/PLATIN/UVO/E-MOTOR/LR/6"
         ],
         "legendgroup": "KIA",
         "marker": {
          "color": "#B6E880",
          "symbol": "circle"
         },
         "mode": "markers",
         "name": "KIA",
         "orientation": "v",
         "showlegend": true,
         "type": "scatter",
         "x": [
          1348,
          2149,
          1530,
          1745,
          1618,
          null,
          null,
          1588,
          null,
          1573,
          1601,
          1344,
          null,
          null,
          2271,
          1271,
          1507,
          1707,
          null,
          2080,
          1819,
          1462,
          1074,
          1942,
          1960,
          1942
         ],
         "xaxis": "x",
         "y": [
          88,
          56,
          118,
          77,
          97,
          49,
          49,
          150,
          77,
          100,
          150,
          88,
          150,
          88,
          132,
          61,
          118,
          100,
          61,
          148,
          100,
          73,
          49,
          29,
          113,
          29
         ],
         "yaxis": "y"
        },
        {
         "hovertemplate": "<b>%{hovertext}</b><br><br>Pool=RENAULT-NISSAN-MITSUBISHI<br>WltpTestMass=%{x}<br>Puissance du moteur=%{y}<extra></extra>",
         "hovertext": [
          "DUSTER",
          "ESPACE",
          "MITSUBISHI OUTLANDER",
          "ARKANA E-TECH",
          "JUKE",
          "ARKANA",
          "ZOE",
          "LOGAN",
          "CLIO",
          "NISSAN QASHQAI",
          "LEAF 40KWH",
          "MITSUBISHI SPACE STAR",
          "SANDERO",
          "QASHQAI",
          "CAPTUR",
          "TWINGO",
          "CLIO E-TECH HYBRID",
          "MEGANE",
          "NISSAN JUKE",
          "Nissan Qashqai",
          "ARKANA E-TECH / MEGANE CONQUEST E-TECH",
          "SCENIC",
          "LODGY",
          "CAPTUR E-TECH PLUG-IN HYBRID",
          "KADJAR",
          "MICRA",
          "SPRING",
          "NISSAN GT-R",
          "MEGANE E-TECH PLUG-IN HYBRID",
          "X-TRAIL",
          "MITSUBISHI ECLIPSE CROSS",
          "NISSAN LEAF 40kWh",
          "CLIO / 1.0 /",
          "NISSAN LEAF 62KWH",
          "E-NV200",
          "ECLIPSE CROSS",
          "CAPTUR / 1.3 / 16V",
          "Nissan Juke",
          "Mitsubishi Outlander",
          "ARKANA / MEGANE CONQUEST",
          "DUSTER / 1.5 / DCI",
          "SPACE STAR 1,2 AS&G",
          "Nissan e-NV200",
          "DUSTER / 1.5 / DCI 4X4",
          "SPACE STAR 1,2 CVT AS&G",
          "CLIO / 0.9 / TCE",
          "CAPTUR E-TECH HYBRID",
          "KOLEOS",
          "KANGOO",
          "CAPTUR / 1.0 /",
          "NISSAN MICRA",
          "OUTLANDER",
          "CAPTUR E-TECH PLUG-IN HY",
          "TALISMAN",
          "GRAND SCENIC",
          "ECLIPSE",
          "NISSAN LEAF 40 KWH",
          "TRAFIC",
          "TRAFFIC",
          "Mitsubishi Eclipse Cross",
          "NISSAN X-TRAIL",
          "NISSAN LEAF 62 KWH",
          "QASHQAI / 1.3 / AUT.",
          "NISSAN LEAF 40KWH"
         ],
         "legendgroup": "RENAULT-NISSAN-MITSUBISHI",
         "marker": {
          "color": "#FF97FF",
          "symbol": "circle"
         },
         "mode": "markers",
         "name": "RENAULT-NISSAN-MITSUBISHI",
         "orientation": "v",
         "showlegend": true,
         "type": "scatter",
         "x": [
          1428,
          2082,
          2117,
          1612,
          null,
          1514,
          1673,
          1271,
          1331,
          1511,
          1693,
          1091,
          1293,
          1467,
          1554,
          1077,
          1473,
          1432,
          1392,
          1774,
          1600,
          1793,
          null,
          1775,
          1524,
          1234,
          null,
          1906,
          1768,
          1652,
          1762,
          1705,
          1275,
          1890,
          null,
          2159,
          1429,
          1351,
          2117,
          1503,
          1512,
          1062,
          null,
          1618,
          1091,
          1294,
          null,
          1766,
          1781,
          1388,
          1251,
          null,
          1729,
          1843,
          null,
          null,
          1705,
          2306,
          2204,
          null,
          1688,
          1890,
          1717,
          1705
         ],
         "xaxis": "x",
         "y": [
          96,
          139,
          99,
          69,
          84,
          103,
          51,
          67,
          103,
          116,
          90,
          52,
          74,
          103,
          69,
          48,
          67,
          103,
          84,
          110,
          69,
          88,
          85,
          68,
          103,
          74,
          18,
          419,
          67,
          116,
          120,
          110,
          67,
          160,
          80,
          72,
          103,
          84,
          99,
          103,
          85,
          52,
          80,
          84,
          52,
          66,
          69,
          116,
          70,
          67,
          68,
          110,
          68,
          118,
          103,
          72,
          90,
          110,
          110,
          72,
          116,
          90,
          116,
          110
         ],
         "yaxis": "y"
        },
        {
         "hovertemplate": "<b>%{hovertext}</b><br><br>Pool=HYUNDAI<br>WltpTestMass=%{x}<br>Puissance du moteur=%{y}<extra></extra>",
         "hovertext": [
          "IONIQ",
          "Hyundai TUCSON ix35",
          "I20",
          "i 30",
          "KONA",
          "SANTA FE",
          "I10",
          "TUCSON",
          "I 30",
          "GV80, GENESIS GV80",
          "Kona, Kauai",
          "TUCSON IX35",
          "I30",
          "IONIQ5",
          "I 30 N",
          "BAYON",
          "I10 BI-FUEL",
          "KAUAI",
          "i10",
          "KONA KAUAI",
          "i 10",
          "KONA, KAUAI",
          "Kona Kauai",
          "I 10",
          "Santa Fe",
          "i 20",
          "i20 i20 Active",
          "I20 N",
          "TUCSONix35",
          "I 20",
          "ELANTRA",
          "i20",
          "kona Kauai",
          "Bayon",
          "I20 / 1.2 /"
         ],
         "legendgroup": "HYUNDAI",
         "marker": {
          "color": "#FECB52",
          "symbol": "circle"
         },
         "mode": "markers",
         "name": "HYUNDAI",
         "orientation": "v",
         "showlegend": true,
         "type": "scatter",
         "x": [
          null,
          1588,
          null,
          null,
          1570,
          2078,
          1106,
          null,
          1518,
          2485,
          1507,
          1768,
          1420,
          null,
          1550,
          null,
          null,
          1547,
          1102,
          1441,
          null,
          1563,
          1557,
          1115,
          2152,
          null,
          1166,
          1370,
          1762,
          1304,
          1366,
          1260,
          1893,
          1317,
          1214
         ],
         "xaxis": "x",
         "y": [
          77,
          97,
          73,
          117,
          77,
          148,
          49,
          132,
          118,
          204,
          88,
          100,
          88,
          154,
          206,
          73,
          48,
          88,
          49,
          88,
          49,
          88,
          77,
          49,
          148,
          61,
          55,
          150,
          132,
          73,
          90,
          74,
          150,
          74,
          62
         ],
         "yaxis": "y"
        },
        {
         "hovertemplate": "<b>%{hovertext}</b><br><br>Pool=FORD<br>WltpTestMass=%{x}<br>Puissance du moteur=%{y}<extra></extra>",
         "hovertext": [
          "FIESTA",
          "FOCUS",
          "PUMA",
          "Mustang Mach-E",
          "TRANSIT",
          "KUGA",
          "Kuga",
          "EXPLORER",
          "MUSTANG MACH-E",
          "MUSTANG",
          "TRANSIT CUSTOM",
          "ECOSPORT",
          "Puma",
          "TOURNEO CONNECT",
          "Mondeo",
          "KUGA COOL & CONNECT",
          "TOURNEO",
          "TOURNEO CUSTOM",
          "Fiesta",
          "Mustang",
          "TOURNEO CUSTOM / 2.0 / 17\"\" 136 H1L2 320 A6",
          "Focus",
          "Tourneo Custom",
          "KUGA TITANIUM",
          "MONDEO",
          "S-MAX",
          "PUMA TITANIUM",
          "TRANSIT CONNECT",
          "GALAXY",
          "TOURNEO COURIER",
          "Mondeo Hybrid"
         ],
         "legendgroup": "FORD",
         "marker": {
          "color": "#636efa",
          "symbol": "circle"
         },
         "mode": "markers",
         "name": "FORD",
         "orientation": "v",
         "showlegend": true,
         "type": "scatter",
         "x": [
          null,
          1531,
          null,
          null,
          2584,
          1686,
          1997,
          2694,
          2378,
          1971,
          2444,
          1442,
          1407,
          1756,
          1850,
          1660,
          null,
          2598,
          1268,
          1971,
          2687,
          1505,
          2642,
          1686,
          1879,
          2077,
          1393,
          1920,
          2125,
          1554,
          1821
         ],
         "xaxis": "x",
         "y": [
          92,
          88,
          92,
          273,
          96,
          88,
          112,
          267,
          273,
          338,
          96,
          92,
          114,
          88,
          110,
          88,
          95,
          96,
          70,
          338,
          136,
          114,
          136,
          88,
          110,
          110,
          91,
          88,
          110,
          74,
          103
         ],
         "yaxis": "y"
        },
        {
         "hovertemplate": "<b>%{hovertext}</b><br><br>Pool=TATA-MOTORS<br>WltpTestMass=%{x}<br>Puissance du moteur=%{y}<extra></extra>",
         "hovertext": [
          "Jaguar F-PACE",
          "RANGE ROVER SPORT",
          "JAGUAR E-PACE",
          "DEFENDER",
          "RANGE ROVER SPORT D300 HSE AWD",
          "RANGE ROVER EVOQUE",
          "JAGUAR XE",
          "DISCOVERY SPORT",
          "F-PACE D300 SE AWD AUT.",
          "Range Rover Evoque",
          "Range Rover Sport",
          "RANGE ROVER VELAR",
          "JAGUAR F-TYPE",
          "Jaguar E-PACE",
          "RANGE ROVER",
          "JAGUAR XF",
          "JAGUAR F-PACE",
          "F-PACE"
         ],
         "legendgroup": "TATA-MOTORS",
         "marker": {
          "color": "#EF553B",
          "symbol": "circle"
         },
         "mode": "markers",
         "name": "TATA-MOTORS",
         "orientation": "v",
         "showlegend": true,
         "type": "scatter",
         "x": [
          2089,
          2681,
          null,
          2839,
          2484,
          2431,
          1759,
          null,
          2222,
          1917,
          2611,
          null,
          1843,
          null,
          2790,
          2118,
          null,
          1997
         ],
         "xaxis": "x",
         "y": [
          120,
          258,
          120,
          221,
          221,
          147,
          184,
          147,
          221,
          118,
          183,
          150,
          331,
          147,
          221,
          150,
          150,
          132
         ],
         "yaxis": "y"
        }
       ],
       "layout": {
        "legend": {
         "title": {
          "text": "Pool"
         },
         "tracegroupgap": 0
        },
        "template": {
         "data": {
          "bar": [
           {
            "error_x": {
             "color": "#2a3f5f"
            },
            "error_y": {
             "color": "#2a3f5f"
            },
            "marker": {
             "line": {
              "color": "#E5ECF6",
              "width": 0.5
             },
             "pattern": {
              "fillmode": "overlay",
              "size": 10,
              "solidity": 0.2
             }
            },
            "type": "bar"
           }
          ],
          "barpolar": [
           {
            "marker": {
             "line": {
              "color": "#E5ECF6",
              "width": 0.5
             },
             "pattern": {
              "fillmode": "overlay",
              "size": 10,
              "solidity": 0.2
             }
            },
            "type": "barpolar"
           }
          ],
          "carpet": [
           {
            "aaxis": {
             "endlinecolor": "#2a3f5f",
             "gridcolor": "white",
             "linecolor": "white",
             "minorgridcolor": "white",
             "startlinecolor": "#2a3f5f"
            },
            "baxis": {
             "endlinecolor": "#2a3f5f",
             "gridcolor": "white",
             "linecolor": "white",
             "minorgridcolor": "white",
             "startlinecolor": "#2a3f5f"
            },
            "type": "carpet"
           }
          ],
          "choropleth": [
           {
            "colorbar": {
             "outlinewidth": 0,
             "ticks": ""
            },
            "type": "choropleth"
           }
          ],
          "contour": [
           {
            "colorbar": {
             "outlinewidth": 0,
             "ticks": ""
            },
            "colorscale": [
             [
              0,
              "#0d0887"
             ],
             [
              0.1111111111111111,
              "#46039f"
             ],
             [
              0.2222222222222222,
              "#7201a8"
             ],
             [
              0.3333333333333333,
              "#9c179e"
             ],
             [
              0.4444444444444444,
              "#bd3786"
             ],
             [
              0.5555555555555556,
              "#d8576b"
             ],
             [
              0.6666666666666666,
              "#ed7953"
             ],
             [
              0.7777777777777778,
              "#fb9f3a"
             ],
             [
              0.8888888888888888,
              "#fdca26"
             ],
             [
              1,
              "#f0f921"
             ]
            ],
            "type": "contour"
           }
          ],
          "contourcarpet": [
           {
            "colorbar": {
             "outlinewidth": 0,
             "ticks": ""
            },
            "type": "contourcarpet"
           }
          ],
          "heatmap": [
           {
            "colorbar": {
             "outlinewidth": 0,
             "ticks": ""
            },
            "colorscale": [
             [
              0,
              "#0d0887"
             ],
             [
              0.1111111111111111,
              "#46039f"
             ],
             [
              0.2222222222222222,
              "#7201a8"
             ],
             [
              0.3333333333333333,
              "#9c179e"
             ],
             [
              0.4444444444444444,
              "#bd3786"
             ],
             [
              0.5555555555555556,
              "#d8576b"
             ],
             [
              0.6666666666666666,
              "#ed7953"
             ],
             [
              0.7777777777777778,
              "#fb9f3a"
             ],
             [
              0.8888888888888888,
              "#fdca26"
             ],
             [
              1,
              "#f0f921"
             ]
            ],
            "type": "heatmap"
           }
          ],
          "heatmapgl": [
           {
            "colorbar": {
             "outlinewidth": 0,
             "ticks": ""
            },
            "colorscale": [
             [
              0,
              "#0d0887"
             ],
             [
              0.1111111111111111,
              "#46039f"
             ],
             [
              0.2222222222222222,
              "#7201a8"
             ],
             [
              0.3333333333333333,
              "#9c179e"
             ],
             [
              0.4444444444444444,
              "#bd3786"
             ],
             [
              0.5555555555555556,
              "#d8576b"
             ],
             [
              0.6666666666666666,
              "#ed7953"
             ],
             [
              0.7777777777777778,
              "#fb9f3a"
             ],
             [
              0.8888888888888888,
              "#fdca26"
             ],
             [
              1,
              "#f0f921"
             ]
            ],
            "type": "heatmapgl"
           }
          ],
          "histogram": [
           {
            "marker": {
             "pattern": {
              "fillmode": "overlay",
              "size": 10,
              "solidity": 0.2
             }
            },
            "type": "histogram"
           }
          ],
          "histogram2d": [
           {
            "colorbar": {
             "outlinewidth": 0,
             "ticks": ""
            },
            "colorscale": [
             [
              0,
              "#0d0887"
             ],
             [
              0.1111111111111111,
              "#46039f"
             ],
             [
              0.2222222222222222,
              "#7201a8"
             ],
             [
              0.3333333333333333,
              "#9c179e"
             ],
             [
              0.4444444444444444,
              "#bd3786"
             ],
             [
              0.5555555555555556,
              "#d8576b"
             ],
             [
              0.6666666666666666,
              "#ed7953"
             ],
             [
              0.7777777777777778,
              "#fb9f3a"
             ],
             [
              0.8888888888888888,
              "#fdca26"
             ],
             [
              1,
              "#f0f921"
             ]
            ],
            "type": "histogram2d"
           }
          ],
          "histogram2dcontour": [
           {
            "colorbar": {
             "outlinewidth": 0,
             "ticks": ""
            },
            "colorscale": [
             [
              0,
              "#0d0887"
             ],
             [
              0.1111111111111111,
              "#46039f"
             ],
             [
              0.2222222222222222,
              "#7201a8"
             ],
             [
              0.3333333333333333,
              "#9c179e"
             ],
             [
              0.4444444444444444,
              "#bd3786"
             ],
             [
              0.5555555555555556,
              "#d8576b"
             ],
             [
              0.6666666666666666,
              "#ed7953"
             ],
             [
              0.7777777777777778,
              "#fb9f3a"
             ],
             [
              0.8888888888888888,
              "#fdca26"
             ],
             [
              1,
              "#f0f921"
             ]
            ],
            "type": "histogram2dcontour"
           }
          ],
          "mesh3d": [
           {
            "colorbar": {
             "outlinewidth": 0,
             "ticks": ""
            },
            "type": "mesh3d"
           }
          ],
          "parcoords": [
           {
            "line": {
             "colorbar": {
              "outlinewidth": 0,
              "ticks": ""
             }
            },
            "type": "parcoords"
           }
          ],
          "pie": [
           {
            "automargin": true,
            "type": "pie"
           }
          ],
          "scatter": [
           {
            "fillpattern": {
             "fillmode": "overlay",
             "size": 10,
             "solidity": 0.2
            },
            "type": "scatter"
           }
          ],
          "scatter3d": [
           {
            "line": {
             "colorbar": {
              "outlinewidth": 0,
              "ticks": ""
             }
            },
            "marker": {
             "colorbar": {
              "outlinewidth": 0,
              "ticks": ""
             }
            },
            "type": "scatter3d"
           }
          ],
          "scattercarpet": [
           {
            "marker": {
             "colorbar": {
              "outlinewidth": 0,
              "ticks": ""
             }
            },
            "type": "scattercarpet"
           }
          ],
          "scattergeo": [
           {
            "marker": {
             "colorbar": {
              "outlinewidth": 0,
              "ticks": ""
             }
            },
            "type": "scattergeo"
           }
          ],
          "scattergl": [
           {
            "marker": {
             "colorbar": {
              "outlinewidth": 0,
              "ticks": ""
             }
            },
            "type": "scattergl"
           }
          ],
          "scattermapbox": [
           {
            "marker": {
             "colorbar": {
              "outlinewidth": 0,
              "ticks": ""
             }
            },
            "type": "scattermapbox"
           }
          ],
          "scatterpolar": [
           {
            "marker": {
             "colorbar": {
              "outlinewidth": 0,
              "ticks": ""
             }
            },
            "type": "scatterpolar"
           }
          ],
          "scatterpolargl": [
           {
            "marker": {
             "colorbar": {
              "outlinewidth": 0,
              "ticks": ""
             }
            },
            "type": "scatterpolargl"
           }
          ],
          "scatterternary": [
           {
            "marker": {
             "colorbar": {
              "outlinewidth": 0,
              "ticks": ""
             }
            },
            "type": "scatterternary"
           }
          ],
          "surface": [
           {
            "colorbar": {
             "outlinewidth": 0,
             "ticks": ""
            },
            "colorscale": [
             [
              0,
              "#0d0887"
             ],
             [
              0.1111111111111111,
              "#46039f"
             ],
             [
              0.2222222222222222,
              "#7201a8"
             ],
             [
              0.3333333333333333,
              "#9c179e"
             ],
             [
              0.4444444444444444,
              "#bd3786"
             ],
             [
              0.5555555555555556,
              "#d8576b"
             ],
             [
              0.6666666666666666,
              "#ed7953"
             ],
             [
              0.7777777777777778,
              "#fb9f3a"
             ],
             [
              0.8888888888888888,
              "#fdca26"
             ],
             [
              1,
              "#f0f921"
             ]
            ],
            "type": "surface"
           }
          ],
          "table": [
           {
            "cells": {
             "fill": {
              "color": "#EBF0F8"
             },
             "line": {
              "color": "white"
             }
            },
            "header": {
             "fill": {
              "color": "#C8D4E3"
             },
             "line": {
              "color": "white"
             }
            },
            "type": "table"
           }
          ]
         },
         "layout": {
          "annotationdefaults": {
           "arrowcolor": "#2a3f5f",
           "arrowhead": 0,
           "arrowwidth": 1
          },
          "autotypenumbers": "strict",
          "coloraxis": {
           "colorbar": {
            "outlinewidth": 0,
            "ticks": ""
           }
          },
          "colorscale": {
           "diverging": [
            [
             0,
             "#8e0152"
            ],
            [
             0.1,
             "#c51b7d"
            ],
            [
             0.2,
             "#de77ae"
            ],
            [
             0.3,
             "#f1b6da"
            ],
            [
             0.4,
             "#fde0ef"
            ],
            [
             0.5,
             "#f7f7f7"
            ],
            [
             0.6,
             "#e6f5d0"
            ],
            [
             0.7,
             "#b8e186"
            ],
            [
             0.8,
             "#7fbc41"
            ],
            [
             0.9,
             "#4d9221"
            ],
            [
             1,
             "#276419"
            ]
           ],
           "sequential": [
            [
             0,
             "#0d0887"
            ],
            [
             0.1111111111111111,
             "#46039f"
            ],
            [
             0.2222222222222222,
             "#7201a8"
            ],
            [
             0.3333333333333333,
             "#9c179e"
            ],
            [
             0.4444444444444444,
             "#bd3786"
            ],
            [
             0.5555555555555556,
             "#d8576b"
            ],
            [
             0.6666666666666666,
             "#ed7953"
            ],
            [
             0.7777777777777778,
             "#fb9f3a"
            ],
            [
             0.8888888888888888,
             "#fdca26"
            ],
            [
             1,
             "#f0f921"
            ]
           ],
           "sequentialminus": [
            [
             0,
             "#0d0887"
            ],
            [
             0.1111111111111111,
             "#46039f"
            ],
            [
             0.2222222222222222,
             "#7201a8"
            ],
            [
             0.3333333333333333,
             "#9c179e"
            ],
            [
             0.4444444444444444,
             "#bd3786"
            ],
            [
             0.5555555555555556,
             "#d8576b"
            ],
            [
             0.6666666666666666,
             "#ed7953"
            ],
            [
             0.7777777777777778,
             "#fb9f3a"
            ],
            [
             0.8888888888888888,
             "#fdca26"
            ],
            [
             1,
             "#f0f921"
            ]
           ]
          },
          "colorway": [
           "#636efa",
           "#EF553B",
           "#00cc96",
           "#ab63fa",
           "#FFA15A",
           "#19d3f3",
           "#FF6692",
           "#B6E880",
           "#FF97FF",
           "#FECB52"
          ],
          "font": {
           "color": "#2a3f5f"
          },
          "geo": {
           "bgcolor": "white",
           "lakecolor": "white",
           "landcolor": "#E5ECF6",
           "showlakes": true,
           "showland": true,
           "subunitcolor": "white"
          },
          "hoverlabel": {
           "align": "left"
          },
          "hovermode": "closest",
          "mapbox": {
           "style": "light"
          },
          "paper_bgcolor": "white",
          "plot_bgcolor": "#E5ECF6",
          "polar": {
           "angularaxis": {
            "gridcolor": "white",
            "linecolor": "white",
            "ticks": ""
           },
           "bgcolor": "#E5ECF6",
           "radialaxis": {
            "gridcolor": "white",
            "linecolor": "white",
            "ticks": ""
           }
          },
          "scene": {
           "xaxis": {
            "backgroundcolor": "#E5ECF6",
            "gridcolor": "white",
            "gridwidth": 2,
            "linecolor": "white",
            "showbackground": true,
            "ticks": "",
            "zerolinecolor": "white"
           },
           "yaxis": {
            "backgroundcolor": "#E5ECF6",
            "gridcolor": "white",
            "gridwidth": 2,
            "linecolor": "white",
            "showbackground": true,
            "ticks": "",
            "zerolinecolor": "white"
           },
           "zaxis": {
            "backgroundcolor": "#E5ECF6",
            "gridcolor": "white",
            "gridwidth": 2,
            "linecolor": "white",
            "showbackground": true,
            "ticks": "",
            "zerolinecolor": "white"
           }
          },
          "shapedefaults": {
           "line": {
            "color": "#2a3f5f"
           }
          },
          "ternary": {
           "aaxis": {
            "gridcolor": "white",
            "linecolor": "white",
            "ticks": ""
           },
           "baxis": {
            "gridcolor": "white",
            "linecolor": "white",
            "ticks": ""
           },
           "bgcolor": "#E5ECF6",
           "caxis": {
            "gridcolor": "white",
            "linecolor": "white",
            "ticks": ""
           }
          },
          "title": {
           "x": 0.05
          },
          "xaxis": {
           "automargin": true,
           "gridcolor": "white",
           "linecolor": "white",
           "ticks": "",
           "title": {
            "standoff": 15
           },
           "zerolinecolor": "white",
           "zerolinewidth": 2
          },
          "yaxis": {
           "automargin": true,
           "gridcolor": "white",
           "linecolor": "white",
           "ticks": "",
           "title": {
            "standoff": 15
           },
           "zerolinecolor": "white",
           "zerolinewidth": 2
          }
         }
        },
        "title": {
         "text": "Comparaison de la masse et de la puissance des véhicules (KW)"
        },
        "xaxis": {
         "anchor": "y",
         "domain": [
          0,
          1
         ],
         "title": {
          "text": "WltpTestMass"
         }
        },
        "yaxis": {
         "anchor": "x",
         "domain": [
          0,
          1
         ],
         "title": {
          "text": "Puissance du moteur"
         }
        }
       }
      }
     },
     "metadata": {},
     "output_type": "display_data"
    }
   ],
   "source": [
    "import plotly.express as px\n",
    "\n",
    "# Get unique values\n",
    "unique_df = df.drop_duplicates(subset=['CommercialName'])\n",
    "\n",
    "# Create a scatter plot\n",
    "fig = px.scatter(\n",
    "    unique_df,\n",
    "    x=\"WltpTestMass\",\n",
    "    y=\"EnginePower\",\n",
    "    color=\"Pool\",\n",
    "    hover_name=\"CommercialName\", \n",
    "    labels={\n",
    "        \"MassRunningOrder\": \"Masse du véhicule\",\n",
    "        \"EnginePower\": \"Puissance du moteur\",\n",
    "    },\n",
    "    title=\"Comparaison de la masse et de la puissance des véhicules (KW)\",\n",
    ")\n",
    "fig.show()"
   ]
  },
  {
   "cell_type": "code",
   "execution_count": 3,
   "metadata": {},
   "outputs": [
    {
     "data": {
      "text/html": [
       "<style type=\"text/css\">\n",
       "#T_00a43 th {\n",
       "  background-color: steelblue;\n",
       "  color: white;\n",
       "}\n",
       "#T_00a43 tr:nth-of-type(odd) {\n",
       "  background-color: aliceblue;\n",
       "}\n",
       "#T_00a43 tr:nth-of-type(even) {\n",
       "  background-color: white;\n",
       "}\n",
       "</style>\n",
       "<table id=\"T_00a43\">\n",
       "  <thead>\n",
       "    <tr>\n",
       "      <th class=\"blank\" >&nbsp;</th>\n",
       "      <th class=\"blank level0\" >&nbsp;</th>\n",
       "      <th id=\"T_00a43_level0_col0\" class=\"col_heading level0 col0\" >Pool</th>\n",
       "      <th id=\"T_00a43_level0_col1\" class=\"col_heading level0 col1\" >FuelConsumption</th>\n",
       "      <th id=\"T_00a43_level0_col2\" class=\"col_heading level0 col2\" >EnginePower</th>\n",
       "      <th id=\"T_00a43_level0_col3\" class=\"col_heading level0 col3\" >Co2EmissionsWltp</th>\n",
       "      <th id=\"T_00a43_level0_col4\" class=\"col_heading level0 col4\" >MassRunningOrder</th>\n",
       "      <th id=\"T_00a43_level0_col5\" class=\"col_heading level0 col5\" >BaseWheel</th>\n",
       "      <th id=\"T_00a43_level0_col6\" class=\"col_heading level0 col6\" >AxleWidthSteering</th>\n",
       "      <th id=\"T_00a43_level0_col7\" class=\"col_heading level0 col7\" >ElectricRange</th>\n",
       "      <th id=\"T_00a43_level0_col8\" class=\"col_heading level0 col8\" >CarCount</th>\n",
       "    </tr>\n",
       "    <tr>\n",
       "      <th class=\"index_name level0\" >Make</th>\n",
       "      <th class=\"index_name level1\" >CommercialName</th>\n",
       "      <th class=\"blank col0\" >&nbsp;</th>\n",
       "      <th class=\"blank col1\" >&nbsp;</th>\n",
       "      <th class=\"blank col2\" >&nbsp;</th>\n",
       "      <th class=\"blank col3\" >&nbsp;</th>\n",
       "      <th class=\"blank col4\" >&nbsp;</th>\n",
       "      <th class=\"blank col5\" >&nbsp;</th>\n",
       "      <th class=\"blank col6\" >&nbsp;</th>\n",
       "      <th class=\"blank col7\" >&nbsp;</th>\n",
       "      <th class=\"blank col8\" >&nbsp;</th>\n",
       "    </tr>\n",
       "  </thead>\n",
       "  <tbody>\n",
       "    <tr>\n",
       "      <th id=\"T_00a43_level0_row0\" class=\"row_heading level0 row0\" rowspan=\"3\">SMART</th>\n",
       "      <th id=\"T_00a43_level1_row0\" class=\"row_heading level1 row0\" >EQ FORTWO CABRIO</th>\n",
       "      <td id=\"T_00a43_row0_col0\" class=\"data row0 col0\" >MERCEDES-BENZ</td>\n",
       "      <td id=\"T_00a43_row0_col1\" class=\"data row0 col1\" >5.458</td>\n",
       "      <td id=\"T_00a43_row0_col2\" class=\"data row0 col2\" >41.000</td>\n",
       "      <td id=\"T_00a43_row0_col3\" class=\"data row0 col3\" >0.000</td>\n",
       "      <td id=\"T_00a43_row0_col4\" class=\"data row0 col4\" >1125.000</td>\n",
       "      <td id=\"T_00a43_row0_col5\" class=\"data row0 col5\" >1873.000</td>\n",
       "      <td id=\"T_00a43_row0_col6\" class=\"data row0 col6\" >1431.000</td>\n",
       "      <td id=\"T_00a43_row0_col7\" class=\"data row0 col7\" >153.500</td>\n",
       "      <td id=\"T_00a43_row0_col8\" class=\"data row0 col8\" >4</td>\n",
       "    </tr>\n",
       "    <tr>\n",
       "      <th id=\"T_00a43_level1_row1\" class=\"row_heading level1 row1\" >EQ FORTWO COUPE</th>\n",
       "      <td id=\"T_00a43_row1_col0\" class=\"data row1 col0\" >MERCEDES-BENZ</td>\n",
       "      <td id=\"T_00a43_row1_col1\" class=\"data row1 col1\" >5.458</td>\n",
       "      <td id=\"T_00a43_row1_col2\" class=\"data row1 col2\" >41.000</td>\n",
       "      <td id=\"T_00a43_row1_col3\" class=\"data row1 col3\" >0.000</td>\n",
       "      <td id=\"T_00a43_row1_col4\" class=\"data row1 col4\" >1095.000</td>\n",
       "      <td id=\"T_00a43_row1_col5\" class=\"data row1 col5\" >1873.000</td>\n",
       "      <td id=\"T_00a43_row1_col6\" class=\"data row1 col6\" >1453.169</td>\n",
       "      <td id=\"T_00a43_row1_col7\" class=\"data row1 col7\" >148.455</td>\n",
       "      <td id=\"T_00a43_row1_col8\" class=\"data row1 col8\" >11</td>\n",
       "    </tr>\n",
       "    <tr>\n",
       "      <th id=\"T_00a43_level1_row2\" class=\"row_heading level1 row2\" >EQ fortwo coupe</th>\n",
       "      <td id=\"T_00a43_row2_col0\" class=\"data row2 col0\" >MERCEDES-BENZ</td>\n",
       "      <td id=\"T_00a43_row2_col1\" class=\"data row2 col1\" >5.458</td>\n",
       "      <td id=\"T_00a43_row2_col2\" class=\"data row2 col2\" >60.000</td>\n",
       "      <td id=\"T_00a43_row2_col3\" class=\"data row2 col3\" >0.000</td>\n",
       "      <td id=\"T_00a43_row2_col4\" class=\"data row2 col4\" >1095.000</td>\n",
       "      <td id=\"T_00a43_row2_col5\" class=\"data row2 col5\" >1873.000</td>\n",
       "      <td id=\"T_00a43_row2_col6\" class=\"data row2 col6\" >1471.000</td>\n",
       "      <td id=\"T_00a43_row2_col7\" class=\"data row2 col7\" >132.000</td>\n",
       "      <td id=\"T_00a43_row2_col8\" class=\"data row2 col8\" >1</td>\n",
       "    </tr>\n",
       "    <tr>\n",
       "      <th id=\"T_00a43_level0_row3\" class=\"row_heading level0 row3\" rowspan=\"7\">FIAT</th>\n",
       "      <th id=\"T_00a43_level1_row3\" class=\"row_heading level1 row3\" >FIAT PANDA</th>\n",
       "      <td id=\"T_00a43_row3_col0\" class=\"data row3 col0\" >STELLANTIS</td>\n",
       "      <td id=\"T_00a43_row3_col1\" class=\"data row3 col1\" >6.154</td>\n",
       "      <td id=\"T_00a43_row3_col2\" class=\"data row3 col2\" >54.250</td>\n",
       "      <td id=\"T_00a43_row3_col3\" class=\"data row3 col3\" >124.500</td>\n",
       "      <td id=\"T_00a43_row3_col4\" class=\"data row3 col4\" >1110.500</td>\n",
       "      <td id=\"T_00a43_row3_col5\" class=\"data row3 col5\" >2300.000</td>\n",
       "      <td id=\"T_00a43_row3_col6\" class=\"data row3 col6\" >1408.000</td>\n",
       "      <td id=\"T_00a43_row3_col7\" class=\"data row3 col7\" >0.000</td>\n",
       "      <td id=\"T_00a43_row3_col8\" class=\"data row3 col8\" >4</td>\n",
       "    </tr>\n",
       "    <tr>\n",
       "      <th id=\"T_00a43_level1_row4\" class=\"row_heading level1 row4\" >PANDA / 1.0 / HYBRID EASY</th>\n",
       "      <td id=\"T_00a43_row4_col0\" class=\"data row4 col0\" >STELLANTIS</td>\n",
       "      <td id=\"T_00a43_row4_col1\" class=\"data row4 col1\" >5.100</td>\n",
       "      <td id=\"T_00a43_row4_col2\" class=\"data row4 col2\" >52.000</td>\n",
       "      <td id=\"T_00a43_row4_col3\" class=\"data row4 col3\" >115.000</td>\n",
       "      <td id=\"T_00a43_row4_col4\" class=\"data row4 col4\" >1045.000</td>\n",
       "      <td id=\"T_00a43_row4_col5\" class=\"data row4 col5\" >2300.000</td>\n",
       "      <td id=\"T_00a43_row4_col6\" class=\"data row4 col6\" >1409.000</td>\n",
       "      <td id=\"T_00a43_row4_col7\" class=\"data row4 col7\" >0.000</td>\n",
       "      <td id=\"T_00a43_row4_col8\" class=\"data row4 col8\" >1</td>\n",
       "    </tr>\n",
       "    <tr>\n",
       "      <th id=\"T_00a43_level1_row5\" class=\"row_heading level1 row5\" >PANDA</th>\n",
       "      <td id=\"T_00a43_row5_col0\" class=\"data row5 col0\" >STELLANTIS</td>\n",
       "      <td id=\"T_00a43_row5_col1\" class=\"data row5 col1\" >5.130</td>\n",
       "      <td id=\"T_00a43_row5_col2\" class=\"data row5 col2\" >52.403</td>\n",
       "      <td id=\"T_00a43_row5_col3\" class=\"data row5 col3\" >119.448</td>\n",
       "      <td id=\"T_00a43_row5_col4\" class=\"data row5 col4\" >1068.358</td>\n",
       "      <td id=\"T_00a43_row5_col5\" class=\"data row5 col5\" >2300.000</td>\n",
       "      <td id=\"T_00a43_row5_col6\" class=\"data row5 col6\" >1549.757</td>\n",
       "      <td id=\"T_00a43_row5_col7\" class=\"data row5 col7\" >0.000</td>\n",
       "      <td id=\"T_00a43_row5_col8\" class=\"data row5 col8\" >67</td>\n",
       "    </tr>\n",
       "    <tr>\n",
       "      <th id=\"T_00a43_level1_row6\" class=\"row_heading level1 row6\" >ABARTH 500</th>\n",
       "      <td id=\"T_00a43_row6_col0\" class=\"data row6 col0\" >STELLANTIS</td>\n",
       "      <td id=\"T_00a43_row6_col1\" class=\"data row6 col1\" >6.055</td>\n",
       "      <td id=\"T_00a43_row6_col2\" class=\"data row6 col2\" >127.600</td>\n",
       "      <td id=\"T_00a43_row6_col3\" class=\"data row6 col3\" >158.600</td>\n",
       "      <td id=\"T_00a43_row6_col4\" class=\"data row6 col4\" >1133.000</td>\n",
       "      <td id=\"T_00a43_row6_col5\" class=\"data row6 col5\" >2300.000</td>\n",
       "      <td id=\"T_00a43_row6_col6\" class=\"data row6 col6\" >1437.986</td>\n",
       "      <td id=\"T_00a43_row6_col7\" class=\"data row6 col7\" >0.000</td>\n",
       "      <td id=\"T_00a43_row6_col8\" class=\"data row6 col8\" >5</td>\n",
       "    </tr>\n",
       "    <tr>\n",
       "      <th id=\"T_00a43_level1_row7\" class=\"row_heading level1 row7\" >FIAT 500 / 500 ABARTH</th>\n",
       "      <td id=\"T_00a43_row7_col0\" class=\"data row7 col0\" >STELLANTIS</td>\n",
       "      <td id=\"T_00a43_row7_col1\" class=\"data row7 col1\" >5.458</td>\n",
       "      <td id=\"T_00a43_row7_col2\" class=\"data row7 col2\" >51.000</td>\n",
       "      <td id=\"T_00a43_row7_col3\" class=\"data row7 col3\" >115.000</td>\n",
       "      <td id=\"T_00a43_row7_col4\" class=\"data row7 col4\" >1068.000</td>\n",
       "      <td id=\"T_00a43_row7_col5\" class=\"data row7 col5\" >2300.000</td>\n",
       "      <td id=\"T_00a43_row7_col6\" class=\"data row7 col6\" >1413.000</td>\n",
       "      <td id=\"T_00a43_row7_col7\" class=\"data row7 col7\" >0.000</td>\n",
       "      <td id=\"T_00a43_row7_col8\" class=\"data row7 col8\" >1</td>\n",
       "    </tr>\n",
       "    <tr>\n",
       "      <th id=\"T_00a43_level1_row8\" class=\"row_heading level1 row8\" >500 C ABARTH</th>\n",
       "      <td id=\"T_00a43_row8_col0\" class=\"data row8 col0\" >STELLANTIS</td>\n",
       "      <td id=\"T_00a43_row8_col1\" class=\"data row8 col1\" >5.458</td>\n",
       "      <td id=\"T_00a43_row8_col2\" class=\"data row8 col2\" >121.000</td>\n",
       "      <td id=\"T_00a43_row8_col3\" class=\"data row8 col3\" >172.000</td>\n",
       "      <td id=\"T_00a43_row8_col4\" class=\"data row8 col4\" >1165.000</td>\n",
       "      <td id=\"T_00a43_row8_col5\" class=\"data row8 col5\" >2300.000</td>\n",
       "      <td id=\"T_00a43_row8_col6\" class=\"data row8 col6\" >1415.000</td>\n",
       "      <td id=\"T_00a43_row8_col7\" class=\"data row8 col7\" >0.000</td>\n",
       "      <td id=\"T_00a43_row8_col8\" class=\"data row8 col8\" >1</td>\n",
       "    </tr>\n",
       "    <tr>\n",
       "      <th id=\"T_00a43_level1_row9\" class=\"row_heading level1 row9\" >FIAT 500</th>\n",
       "      <td id=\"T_00a43_row9_col0\" class=\"data row9 col0\" >STELLANTIS</td>\n",
       "      <td id=\"T_00a43_row9_col1\" class=\"data row9 col1\" >4.959</td>\n",
       "      <td id=\"T_00a43_row9_col2\" class=\"data row9 col2\" >51.562</td>\n",
       "      <td id=\"T_00a43_row9_col3\" class=\"data row9 col3\" >113.438</td>\n",
       "      <td id=\"T_00a43_row9_col4\" class=\"data row9 col4\" >1068.031</td>\n",
       "      <td id=\"T_00a43_row9_col5\" class=\"data row9 col5\" >2300.688</td>\n",
       "      <td id=\"T_00a43_row9_col6\" class=\"data row9 col6\" >1485.650</td>\n",
       "      <td id=\"T_00a43_row9_col7\" class=\"data row9 col7\" >9.344</td>\n",
       "      <td id=\"T_00a43_row9_col8\" class=\"data row9 col8\" >32</td>\n",
       "    </tr>\n",
       "  </tbody>\n",
       "</table>\n"
      ],
      "text/plain": [
       "<pandas.io.formats.style.Styler at 0x7f2c801e6790>"
      ]
     },
     "metadata": {},
     "output_type": "display_data"
    },
    {
     "name": "stdout",
     "output_type": "stream",
     "text": [
      "<class 'pandas.io.formats.style.Styler'>\n"
     ]
    },
    {
     "data": {
      "text/html": [
       "<style type=\"text/css\">\n",
       "#T_610dc th {\n",
       "  background-color: steelblue;\n",
       "  color: white;\n",
       "}\n",
       "#T_610dc tr:nth-of-type(odd) {\n",
       "  background-color: aliceblue;\n",
       "}\n",
       "#T_610dc tr:nth-of-type(even) {\n",
       "  background-color: white;\n",
       "}\n",
       "</style>\n",
       "<table id=\"T_610dc\">\n",
       "  <thead>\n",
       "    <tr>\n",
       "      <th class=\"index_name level0\" >Make</th>\n",
       "      <th id=\"T_610dc_level0_col0\" class=\"col_heading level0 col0\" >TWINGO</th>\n",
       "    </tr>\n",
       "  </thead>\n",
       "  <tbody>\n",
       "    <tr>\n",
       "      <th id=\"T_610dc_level0_row0\" class=\"row_heading level0 row0\" >Pool</th>\n",
       "      <td id=\"T_610dc_row0_col0\" class=\"data row0 col0\" >RENAULT-NISSAN-MITSUBISHI</td>\n",
       "    </tr>\n",
       "    <tr>\n",
       "      <th id=\"T_610dc_level0_row1\" class=\"row_heading level0 row1\" >FuelConsumption</th>\n",
       "      <td id=\"T_610dc_row1_col0\" class=\"data row1 col0\" >5.292101</td>\n",
       "    </tr>\n",
       "    <tr>\n",
       "      <th id=\"T_610dc_level0_row2\" class=\"row_heading level0 row2\" >EnginePower</th>\n",
       "      <td id=\"T_610dc_row2_col0\" class=\"data row2 col0\" >40.366667</td>\n",
       "    </tr>\n",
       "    <tr>\n",
       "      <th id=\"T_610dc_level0_row3\" class=\"row_heading level0 row3\" >Co2EmissionsWltp</th>\n",
       "      <td id=\"T_610dc_row3_col0\" class=\"data row3 col0\" >58.766667</td>\n",
       "    </tr>\n",
       "    <tr>\n",
       "      <th id=\"T_610dc_level0_row4\" class=\"row_heading level0 row4\" >MassRunningOrder</th>\n",
       "      <td id=\"T_610dc_row4_col0\" class=\"data row4 col0\" >1102.466667</td>\n",
       "    </tr>\n",
       "    <tr>\n",
       "      <th id=\"T_610dc_level0_row5\" class=\"row_heading level0 row5\" >BaseWheel</th>\n",
       "      <td id=\"T_610dc_row5_col0\" class=\"data row5 col0\" >2492.000000</td>\n",
       "    </tr>\n",
       "    <tr>\n",
       "      <th id=\"T_610dc_level0_row6\" class=\"row_heading level0 row6\" >AxleWidthSteering</th>\n",
       "      <td id=\"T_610dc_row6_col0\" class=\"data row6 col0\" >1467.978957</td>\n",
       "    </tr>\n",
       "    <tr>\n",
       "      <th id=\"T_610dc_level0_row7\" class=\"row_heading level0 row7\" >ElectricRange</th>\n",
       "      <td id=\"T_610dc_row7_col0\" class=\"data row7 col0\" >81.333333</td>\n",
       "    </tr>\n",
       "    <tr>\n",
       "      <th id=\"T_610dc_level0_row8\" class=\"row_heading level0 row8\" >CarCount</th>\n",
       "      <td id=\"T_610dc_row8_col0\" class=\"data row8 col0\" >30</td>\n",
       "    </tr>\n",
       "  </tbody>\n",
       "</table>\n"
      ],
      "text/plain": [
       "<pandas.io.formats.style.Styler at 0x7f2b381317c0>"
      ]
     },
     "metadata": {},
     "output_type": "display_data"
    },
    {
     "name": "stdout",
     "output_type": "stream",
     "text": [
      "<class 'pandas.io.formats.style.Styler'>\n"
     ]
    }
   ],
   "source": [
    "cars = CarDataAggregator(df)\n",
    "cars.display_sorted(by='BaseWheel', ascending=True, n=10)\n",
    "cars.specs(['TWINGO'])\n",
    "#cars.specs('TWINGO')"
   ]
  },
  {
   "cell_type": "code",
   "execution_count": 4,
   "metadata": {},
   "outputs": [
    {
     "data": {
      "application/vnd.plotly.v1+json": {
       "config": {
        "plotlyServerURL": "https://plot.ly"
       },
       "data": [
        {
         "customdata": [
          [
           "ALFA ROMEO",
           "ALFA GIULIETTA"
          ],
          [
           "ALFA ROMEO",
           "GIULIA"
          ],
          [
           "ALFA ROMEO",
           "GIULIA QUADRIFOGLIO"
          ],
          [
           "ALFA ROMEO",
           "STELVIO"
          ]
         ],
         "hovertemplate": "Make=%{customdata[0]}<br>Pool=STELLANTIS<br>EnginePower=%{x}<br>Co2EmissionsWltp=%{y}<br>CarCount=%{marker.size}<br>CommercialName=%{customdata[1]}<extra></extra>",
         "legendgroup": "ALFA ROMEO",
         "marker": {
          "color": "#636efa",
          "size": [
           1,
           3,
           2,
           4
          ],
          "sizemode": "area",
          "sizeref": 0.235,
          "symbol": "circle"
         },
         "mode": "markers",
         "name": "ALFA ROMEO",
         "orientation": "v",
         "showlegend": true,
         "type": "scatter",
         "x": [
          88,
          162,
          375,
          147
         ],
         "xaxis": "x9",
         "y": [
          147,
          147.33333333333334,
          228,
          161.75
         ],
         "yaxis": "y9"
        },
        {
         "customdata": [
          [
           "AUDI",
           "A1"
          ],
          [
           "AUDI",
           "A1 CITYCARVER"
          ],
          [
           "AUDI",
           "A1 SPORTBACK"
          ],
          [
           "AUDI",
           "A3"
          ],
          [
           "AUDI",
           "A3 40 TFSIE"
          ],
          [
           "AUDI",
           "A3 45 TFSIe"
          ],
          [
           "AUDI",
           "A3 LIMOUSINE"
          ],
          [
           "AUDI",
           "A3 SPORTBACK"
          ],
          [
           "AUDI",
           "A4"
          ],
          [
           "AUDI",
           "A4 ALLROAD QUATTRO"
          ],
          [
           "AUDI",
           "A4 AVANT"
          ],
          [
           "AUDI",
           "A4 AVANT G-TRON"
          ],
          [
           "AUDI",
           "A4 Avant"
          ],
          [
           "AUDI",
           "A4 LIMOUSINE"
          ],
          [
           "AUDI",
           "A4 Limousine"
          ],
          [
           "AUDI",
           "A5 SPORTBACK"
          ],
          [
           "AUDI",
           "A6"
          ],
          [
           "AUDI",
           "A6 AVANT"
          ],
          [
           "AUDI",
           "A6 AVANT 55 TFSI E"
          ],
          [
           "AUDI",
           "A6 Avant"
          ],
          [
           "AUDI",
           "A6 LIMOUSINE"
          ],
          [
           "AUDI",
           "A6 Limousine"
          ],
          [
           "AUDI",
           "A7 55 TFSI E"
          ],
          [
           "AUDI",
           "E TRON 55"
          ],
          [
           "AUDI",
           "E-TRON 50"
          ],
          [
           "AUDI",
           "E-TRON 55"
          ],
          [
           "AUDI",
           "E-TRON GT"
          ],
          [
           "AUDI",
           "E-TRON S SPORTBACK"
          ],
          [
           "AUDI",
           "E-TRON SPORTBACK 50"
          ],
          [
           "AUDI",
           "E-TRON SPORTBACK 55"
          ],
          [
           "AUDI",
           "Q2"
          ],
          [
           "AUDI",
           "Q3"
          ],
          [
           "AUDI",
           "Q3 E-TRON"
          ],
          [
           "AUDI",
           "Q3 SPORTBACK"
          ],
          [
           "AUDI",
           "Q3 SPORTBACK E-TRON"
          ],
          [
           "AUDI",
           "Q3 Sportback"
          ],
          [
           "AUDI",
           "Q3 Sportback e-tron"
          ],
          [
           "AUDI",
           "Q3 e-tron"
          ],
          [
           "AUDI",
           "Q4 35 E-TRON"
          ],
          [
           "AUDI",
           "Q4 40 E-TRON"
          ],
          [
           "AUDI",
           "Q4 40 e-tron"
          ],
          [
           "AUDI",
           "Q4 50 E TRON"
          ],
          [
           "AUDI",
           "Q4 SPORTBACK 40 E-TRON"
          ],
          [
           "AUDI",
           "Q5"
          ],
          [
           "AUDI",
           "Q5 50 TFSI e"
          ],
          [
           "AUDI",
           "Q5 SPORTBACK"
          ],
          [
           "AUDI",
           "Q5 SPORTBACK 50 TFSI E"
          ],
          [
           "AUDI",
           "Q7"
          ],
          [
           "AUDI",
           "Q7 55 TFSI E"
          ],
          [
           "AUDI",
           "Q8 60 TFSI E"
          ],
          [
           "AUDI",
           "RS 6 AVANT"
          ],
          [
           "AUDI",
           "RS Q3"
          ],
          [
           "AUDI",
           "RS Q3 SPORTBACK"
          ],
          [
           "AUDI",
           "S3"
          ],
          [
           "AUDI",
           "S3 LIMOUSINE"
          ],
          [
           "AUDI",
           "S3 SPORTBACK"
          ],
          [
           "AUDI",
           "S5 SPORTBACK"
          ],
          [
           "AUDI",
           "S6 AVANT"
          ],
          [
           "AUDI",
           "SQ5"
          ],
          [
           "AUDI",
           "TT ROADSTER"
          ],
          [
           "AUDI",
           "e-tron 50"
          ],
          [
           "AUDI",
           "e-tron 55"
          ]
         ],
         "hovertemplate": "Make=%{customdata[0]}<br>Pool=VW-SAIC<br>EnginePower=%{x}<br>Co2EmissionsWltp=%{y}<br>CarCount=%{marker.size}<br>CommercialName=%{customdata[1]}<extra></extra>",
         "legendgroup": "AUDI",
         "marker": {
          "color": "#EF553B",
          "size": [
           1,
           1,
           14,
           3,
           7,
           4,
           4,
           9,
           1,
           2,
           12,
           1,
           3,
           2,
           1,
           1,
           1,
           10,
           3,
           1,
           2,
           2,
           1,
           1,
           2,
           2,
           2,
           1,
           1,
           4,
           25,
           19,
           3,
           11,
           4,
           4,
           1,
           2,
           2,
           1,
           1,
           2,
           1,
           8,
           1,
           3,
           1,
           1,
           2,
           2,
           1,
           1,
           2,
           1,
           2,
           1,
           1,
           1,
           1,
           1,
           2,
           1
          ],
          "sizemode": "area",
          "sizeref": 0.235,
          "symbol": "circle"
         },
         "mode": "markers",
         "name": "AUDI",
         "orientation": "v",
         "showlegend": true,
         "type": "scatter",
         "x": [
          81,
          81,
          78.85714285714286,
          100.33333333333333,
          110,
          110,
          103,
          97.55555555555556,
          100,
          150,
          131.66666666666666,
          125,
          120,
          110,
          100,
          120,
          150,
          162,
          195,
          120,
          150,
          150,
          195,
          172,
          158,
          158,
          140,
          226,
          158,
          193.5,
          107.84,
          119.52631578947368,
          110,
          110,
          110,
          119.25,
          110,
          110,
          125,
          70,
          150,
          150,
          150,
          150,
          195,
          140,
          195,
          210,
          250,
          250,
          441,
          294,
          294,
          228,
          228,
          228,
          251,
          257,
          251,
          180,
          201,
          300
         ],
         "xaxis": "x10",
         "y": [
          135,
          141,
          133.71428571428572,
          130,
          28.428571428571427,
          29.25,
          132,
          127.55555555555556,
          129,
          153,
          140.58333333333334,
          134,
          140.66666666666666,
          123.5,
          122,
          131,
          149,
          160.5,
          34,
          144,
          145.5,
          152,
          34,
          0,
          0,
          0,
          0,
          0,
          0,
          0,
          140.68,
          155.26315789473685,
          39,
          154.27272727272728,
          44.25,
          159,
          44,
          42,
          0,
          0,
          0,
          0,
          0,
          173.375,
          35,
          164.33333333333334,
          41,
          213,
          61.5,
          65.5,
          295,
          227,
          220,
          187,
          180.5,
          186,
          190,
          210,
          220,
          169,
          0,
          0
         ],
         "yaxis": "y10"
        },
        {
         "customdata": [
          [
           "BMW",
           "116D"
          ],
          [
           "BMW",
           "116I"
          ],
          [
           "BMW",
           "116d"
          ],
          [
           "BMW",
           "118D"
          ],
          [
           "BMW",
           "118D 5-TÜRER F40 B47"
          ],
          [
           "BMW",
           "118I"
          ],
          [
           "BMW",
           "118i"
          ],
          [
           "BMW",
           "120D XDRIVE"
          ],
          [
           "BMW",
           "120I"
          ],
          [
           "BMW",
           "128TI"
          ],
          [
           "BMW",
           "218D"
          ],
          [
           "BMW",
           "218D GRAN TOURER"
          ],
          [
           "BMW",
           "218D XDRIVE GRAN TOURER F46 B4"
          ],
          [
           "BMW",
           "218I"
          ],
          [
           "BMW",
           "218I ACTIVE TOURER"
          ],
          [
           "BMW",
           "218I GRAN TOURER"
          ],
          [
           "BMW",
           "218i"
          ],
          [
           "BMW",
           "225I XDRIVE ACTIVE TOURER"
          ],
          [
           "BMW",
           "316D"
          ],
          [
           "BMW",
           "318D"
          ],
          [
           "BMW",
           "318D TOURING G21 B47"
          ],
          [
           "BMW",
           "318I"
          ],
          [
           "BMW",
           "318d"
          ],
          [
           "BMW",
           "318i"
          ],
          [
           "BMW",
           "320D"
          ],
          [
           "BMW",
           "320D XDRIVE"
          ],
          [
           "BMW",
           "320E"
          ],
          [
           "BMW",
           "320E XDRIVE"
          ],
          [
           "BMW",
           "320I"
          ],
          [
           "BMW",
           "320d"
          ],
          [
           "BMW",
           "320e"
          ],
          [
           "BMW",
           "320i"
          ],
          [
           "BMW",
           "330D"
          ],
          [
           "BMW",
           "330E"
          ],
          [
           "BMW",
           "330E XDRIVE"
          ],
          [
           "BMW",
           "330I XDRIVE"
          ],
          [
           "BMW",
           "330e"
          ],
          [
           "BMW",
           "418I"
          ],
          [
           "BMW",
           "420D XDRIVE"
          ],
          [
           "BMW",
           "420d"
          ],
          [
           "BMW",
           "520D"
          ],
          [
           "BMW",
           "520D XDRIVE"
          ],
          [
           "BMW",
           "520d"
          ],
          [
           "BMW",
           "530D"
          ],
          [
           "BMW",
           "530D XDRIVE"
          ],
          [
           "BMW",
           "530E"
          ],
          [
           "BMW",
           "530E XDRIVE"
          ],
          [
           "BMW",
           "530e"
          ],
          [
           "BMW",
           "530i"
          ],
          [
           "BMW",
           "540D XDRIVE"
          ],
          [
           "BMW",
           "540I XDRIVE"
          ],
          [
           "BMW",
           "545e xDrive"
          ],
          [
           "BMW",
           "630D"
          ],
          [
           "BMW",
           "840I XDRIVE"
          ],
          [
           "BMW",
           "I3"
          ],
          [
           "BMW",
           "I3S"
          ],
          [
           "BMW",
           "IX3"
          ],
          [
           "BMW",
           "IX3 G08 HA0"
          ],
          [
           "BMW",
           "M1 35I XDRIVE"
          ],
          [
           "BMW",
           "M3 40I XDRIVE"
          ],
          [
           "BMW",
           "M3 COMPETITION"
          ],
          [
           "BMW",
           "M340D XDRIVE"
          ],
          [
           "BMW",
           "M340I"
          ],
          [
           "BMW",
           "M340I XDRIVE"
          ],
          [
           "BMW",
           "M4 COMPETITION M XDRIVE"
          ],
          [
           "BMW",
           "M440I XDRIVE"
          ],
          [
           "BMW",
           "SERIE 1"
          ],
          [
           "BMW",
           "SERIE 2"
          ],
          [
           "BMW",
           "SERIE 3"
          ],
          [
           "BMW",
           "SERIE 4"
          ],
          [
           "BMW",
           "SERIE I"
          ],
          [
           "BMW",
           "SERIE X"
          ],
          [
           "BMW",
           "X1"
          ],
          [
           "BMW",
           "X1 SDRIVE 18D"
          ],
          [
           "BMW",
           "X1 SDRIVE 18I"
          ],
          [
           "BMW",
           "X1 SDRIVE 20D"
          ],
          [
           "BMW",
           "X1 SDRIVE 20I"
          ],
          [
           "BMW",
           "X1 SDRIVE18D"
          ],
          [
           "BMW",
           "X1 SDRIVE18I"
          ],
          [
           "BMW",
           "X1 SDRIVE20I"
          ],
          [
           "BMW",
           "X1 XDRIVE 20D"
          ],
          [
           "BMW",
           "X1 XDRIVE 20I"
          ],
          [
           "BMW",
           "X1 XDRIVE 25E"
          ],
          [
           "BMW",
           "X1 XDRIVE18D"
          ],
          [
           "BMW",
           "X1 sDrive16d"
          ],
          [
           "BMW",
           "X1 sDrive18d"
          ],
          [
           "BMW",
           "X1 sDrive18i"
          ],
          [
           "BMW",
           "X1 xDrive20i"
          ],
          [
           "BMW",
           "X1 xDrive25e"
          ],
          [
           "BMW",
           "X2"
          ],
          [
           "BMW",
           "X2 SDRIVE 18I"
          ],
          [
           "BMW",
           "X2 XDRIVE 25D"
          ],
          [
           "BMW",
           "X2 XDRIVE 25E"
          ],
          [
           "BMW",
           "X2 sDrive16d"
          ],
          [
           "BMW",
           "X2 xDrive20i"
          ],
          [
           "BMW",
           "X3"
          ],
          [
           "BMW",
           "X3 M COMPETITION"
          ],
          [
           "BMW",
           "X3 XDRIVE 20D"
          ],
          [
           "BMW",
           "X3 XDRIVE 30D"
          ],
          [
           "BMW",
           "X3 XDRIVE 30E"
          ],
          [
           "BMW",
           "X3 XDRIVE20D"
          ],
          [
           "BMW",
           "X3 XDRIVE30D"
          ],
          [
           "BMW",
           "X3 XDRIVE30E"
          ],
          [
           "BMW",
           "X3 XDRIVE30E G01 XB1"
          ],
          [
           "BMW",
           "X3 XDRIVE30I"
          ],
          [
           "BMW",
           "X3 sDrive18d"
          ],
          [
           "BMW",
           "X3 xDrive20d"
          ],
          [
           "BMW",
           "X3 xDrive30d"
          ],
          [
           "BMW",
           "X3 xDrive30e"
          ],
          [
           "BMW",
           "X4 M 40 D"
          ],
          [
           "BMW",
           "X4 M COMPETITION"
          ],
          [
           "BMW",
           "X4 XDRIVE30D G02 B57"
          ],
          [
           "BMW",
           "X4 xDrive30d"
          ],
          [
           "BMW",
           "X4M COMPETITION"
          ],
          [
           "BMW",
           "X5"
          ],
          [
           "BMW",
           "X5 XDRIVE 25D"
          ],
          [
           "BMW",
           "X5 XDRIVE 30D"
          ],
          [
           "BMW",
           "X5 XDRIVE 40D"
          ],
          [
           "BMW",
           "X5 XDRIVE 45E"
          ],
          [
           "BMW",
           "X5 XDRIVE25D"
          ],
          [
           "BMW",
           "X5 XDRIVE30D"
          ],
          [
           "BMW",
           "X5 XDRIVE45E"
          ],
          [
           "BMW",
           "X5 xDrive30d"
          ],
          [
           "BMW",
           "X5 xDrive40d"
          ],
          [
           "BMW",
           "X5 xDrive45e"
          ],
          [
           "BMW",
           "X6 M COMPETITION"
          ],
          [
           "BMW",
           "X6 M50I"
          ],
          [
           "BMW",
           "X6 XDRIVE 30D"
          ],
          [
           "BMW",
           "X6 XDRIVE 40D"
          ],
          [
           "BMW",
           "X6 XDRIVE30D G06 B57"
          ],
          [
           "BMW",
           "X7 M50I"
          ],
          [
           "BMW",
           "Z4 SDRIVE 20I"
          ],
          [
           "BMW",
           "Z4 SDRIVE20I"
          ],
          [
           "BMW",
           "i3"
          ],
          [
           "BMW",
           "iX xDrive40"
          ],
          [
           "BMW",
           "iX3"
          ]
         ],
         "hovertemplate": "Make=%{customdata[0]}<br>Pool=BMW<br>EnginePower=%{x}<br>Co2EmissionsWltp=%{y}<br>CarCount=%{marker.size}<br>CommercialName=%{customdata[1]}<extra></extra>",
         "legendgroup": "BMW",
         "marker": {
          "color": "#00cc96",
          "size": [
           5,
           2,
           1,
           7,
           1,
           9,
           2,
           1,
           3,
           2,
           3,
           1,
           1,
           2,
           2,
           2,
           2,
           1,
           1,
           6,
           1,
           3,
           1,
           1,
           6,
           3,
           2,
           1,
           4,
           2,
           2,
           1,
           3,
           1,
           2,
           2,
           5,
           1,
           1,
           1,
           4,
           4,
           2,
           2,
           2,
           2,
           4,
           2,
           1,
           1,
           1,
           1,
           1,
           1,
           5,
           6,
           6,
           1,
           2,
           1,
           1,
           1,
           1,
           1,
           1,
           3,
           7,
           2,
           2,
           3,
           1,
           19,
           4,
           4,
           1,
           1,
           2,
           4,
           2,
           1,
           2,
           3,
           3,
           1,
           3,
           2,
           1,
           1,
           3,
           1,
           3,
           1,
           1,
           1,
           1,
           2,
           1,
           2,
           3,
           1,
           5,
           2,
           2,
           1,
           1,
           1,
           1,
           1,
           3,
           2,
           2,
           1,
           1,
           1,
           1,
           1,
           1,
           1,
           3,
           1,
           1,
           1,
           1,
           1,
           4,
           1,
           1,
           1,
           1,
           1,
           2,
           2,
           1,
           3,
           2,
           1
          ],
          "sizemode": "area",
          "sizeref": 0.235,
          "symbol": "circle"
         },
         "mode": "markers",
         "name": "BMW",
         "orientation": "v",
         "showlegend": true,
         "type": "scatter",
         "x": [
          85,
          80,
          85,
          110,
          110,
          100,
          101.5,
          140,
          131,
          195,
          110,
          110,
          110,
          100,
          100,
          100,
          100,
          170,
          90,
          110,
          110,
          115,
          110,
          115,
          140,
          140,
          120,
          120,
          135,
          140,
          120,
          135,
          210,
          135,
          135,
          190,
          135,
          100,
          140,
          120,
          140,
          140,
          140,
          210,
          196.5,
          135,
          135,
          135,
          185,
          250,
          245,
          210,
          210,
          245,
          85,
          75,
          145,
          80,
          225,
          275,
          375,
          250,
          275,
          275,
          375,
          275,
          120.71428571428571,
          100,
          135,
          221.66666666666666,
          75,
          127.15789473684211,
          101.25,
          110,
          100,
          140,
          131,
          110,
          100,
          131,
          140,
          131,
          92,
          110,
          85,
          105,
          100,
          131,
          92,
          85,
          100,
          170,
          92,
          85,
          131,
          175,
          375,
          140,
          210,
          135,
          140,
          196.5,
          135,
          135,
          185,
          110,
          140,
          210,
          130,
          250,
          375,
          210,
          210,
          375,
          170,
          170,
          210,
          250,
          210,
          170,
          210,
          210,
          210,
          250,
          210,
          460,
          390,
          210,
          250,
          210,
          390,
          145,
          145,
          125,
          220,
          210
         ],
         "xaxis": "x11",
         "y": [
          121.8,
          137,
          121,
          130.14285714285714,
          128,
          132.55555555555554,
          135.5,
          142,
          140.33333333333334,
          168,
          127.33333333333333,
          145,
          144,
          134.5,
          139.5,
          146,
          132.5,
          161,
          120,
          128.5,
          127,
          152.66666666666666,
          137,
          154,
          130.5,
          137,
          32,
          37,
          151.5,
          127,
          33.5,
          146,
          142,
          31,
          41.5,
          164,
          31,
          169,
          133,
          120,
          135.25,
          143.25,
          132.5,
          138.5,
          160.5,
          35.5,
          43.75,
          37,
          148,
          170,
          183,
          42,
          170,
          200,
          0,
          0,
          0,
          0,
          170,
          177,
          224,
          162,
          176,
          170,
          229,
          188.66666666666666,
          136.28571428571428,
          143,
          92,
          158,
          0,
          104.6842105263158,
          139.25,
          138.75,
          149,
          142,
          150.5,
          139,
          146.5,
          152,
          146.5,
          162,
          41.666666666666664,
          146,
          135.33333333333334,
          147,
          142,
          162,
          41.333333333333336,
          133,
          143.33333333333334,
          151,
          40,
          135,
          159,
          161.5,
          264,
          161.5,
          167.33333333333334,
          47,
          157.4,
          162,
          47,
          48,
          174,
          145,
          159,
          166,
          47,
          180.5,
          258.5,
          172,
          164,
          245,
          185,
          195,
          186,
          203,
          29.333333333333332,
          195,
          180,
          31,
          189,
          203,
          29.5,
          302,
          263,
          186,
          189,
          180,
          284.5,
          162.5,
          162,
          0,
          0,
          0
         ],
         "yaxis": "y11"
        },
        {
         "customdata": [
          [
           "CITROEN",
           "BERLINGO"
          ],
          [
           "CITROEN",
           "C1"
          ],
          [
           "CITROEN",
           "C3"
          ],
          [
           "CITROEN",
           "C3 AIRCROSS"
          ],
          [
           "CITROEN",
           "C4"
          ],
          [
           "CITROEN",
           "C4 SPACETOURER"
          ],
          [
           "CITROEN",
           "C4 spacetourer"
          ],
          [
           "CITROEN",
           "C5"
          ],
          [
           "CITROEN",
           "C5 AIRCROSS"
          ],
          [
           "CITROEN",
           "E-BERLINGO"
          ],
          [
           "CITROEN",
           "E-C4"
          ],
          [
           "CITROEN",
           "GRAND"
          ],
          [
           "CITROEN",
           "JUMPY"
          ],
          [
           "CITROEN",
           "JUMPY SPACE TOURER"
          ],
          [
           "CITROEN",
           "JUMPY SPACETOURER"
          ],
          [
           "CITROEN",
           "NUEVO"
          ],
          [
           "CITROEN",
           "SPACETOURER"
          ],
          [
           "CITROEN",
           "SUV"
          ]
         ],
         "hovertemplate": "Make=%{customdata[0]}<br>Pool=STELLANTIS<br>EnginePower=%{x}<br>Co2EmissionsWltp=%{y}<br>CarCount=%{marker.size}<br>CommercialName=%{customdata[1]}<extra></extra>",
         "legendgroup": "CITROEN",
         "marker": {
          "color": "#ab63fa",
          "size": [
           12,
           16,
           87,
           28,
           23,
           2,
           1,
           1,
           26,
           1,
           7,
           2,
           1,
           2,
           1,
           11,
           1,
           3
          ],
          "sizemode": "area",
          "sizeref": 0.235,
          "symbol": "circle"
         },
         "mode": "markers",
         "name": "CITROEN",
         "orientation": "v",
         "showlegend": true,
         "type": "scatter",
         "x": [
          87,
          53,
          69.28235294117647,
          83.92857142857143,
          93.56521739130434,
          96,
          96,
          96,
          105.96153846153847,
          57,
          69.28571428571429,
          96,
          88,
          81.5,
          88,
          80.9090909090909,
          106,
          98.33333333333333
         ],
         "xaxis": "x9",
         "y": [
          144,
          109.6875,
          120.88235294117646,
          134.21428571428572,
          122.08695652173913,
          128.5,
          135,
          138,
          115.88461538461539,
          0,
          0,
          133.5,
          165,
          92,
          167,
          120,
          183,
          92.66666666666667
         ],
         "yaxis": "y9"
        },
        {
         "customdata": [
          [
           "CITROEN / DS",
           "C3"
          ]
         ],
         "hovertemplate": "Make=%{customdata[0]}<br>Pool=STELLANTIS<br>EnginePower=%{x}<br>Co2EmissionsWltp=%{y}<br>CarCount=%{marker.size}<br>CommercialName=%{customdata[1]}<extra></extra>",
         "legendgroup": "CITROEN / DS",
         "marker": {
          "color": "#FFA15A",
          "size": [
           87
          ],
          "sizemode": "area",
          "sizeref": 0.235,
          "symbol": "circle"
         },
         "mode": "markers",
         "name": "CITROEN / DS",
         "orientation": "v",
         "showlegend": true,
         "type": "scatter",
         "x": [
          75
         ],
         "xaxis": "x9",
         "y": [
          110
         ],
         "yaxis": "y9"
        },
        {
         "customdata": [
          [
           "CUPRA",
           "ATECA"
          ],
          [
           "CUPRA",
           "CUPRA LEON E-HYBRID180"
          ],
          [
           "CUPRA",
           "CUPRA LEON SP E-HYBRID180"
          ],
          [
           "CUPRA",
           "FORMENTOR"
          ],
          [
           "CUPRA",
           "FORMENTOR E-HYBRID"
          ],
          [
           "CUPRA",
           "FORMENTOR VZ E-HYBRID"
          ],
          [
           "CUPRA",
           "LEON E-HYBRID180"
          ],
          [
           "CUPRA",
           "LEON SPORTSTOURER"
          ]
         ],
         "hovertemplate": "Make=%{customdata[0]}<br>Pool=VW-SAIC<br>EnginePower=%{x}<br>Co2EmissionsWltp=%{y}<br>CarCount=%{marker.size}<br>CommercialName=%{customdata[1]}<extra></extra>",
         "legendgroup": "CUPRA",
         "marker": {
          "color": "#19d3f3",
          "size": [
           10,
           1,
           2,
           17,
           4,
           1,
           1,
           6
          ],
          "sizemode": "area",
          "sizeref": 0.235,
          "symbol": "circle"
         },
         "mode": "markers",
         "name": "CUPRA",
         "orientation": "v",
         "showlegend": true,
         "type": "scatter",
         "x": [
          221,
          110,
          110,
          144.7058823529412,
          110,
          110,
          110,
          110
         ],
         "xaxis": "x10",
         "y": [
          202,
          30,
          31,
          156.23529411764707,
          27,
          32,
          31,
          32
         ],
         "yaxis": "y10"
        },
        {
         "customdata": [
          [
           "DACIA",
           "DUSTER"
          ],
          [
           "DACIA",
           "DUSTER / 1.5 / DCI"
          ],
          [
           "DACIA",
           "DUSTER / 1.5 / DCI 4X4"
          ],
          [
           "DACIA",
           "LODGY"
          ],
          [
           "DACIA",
           "LOGAN"
          ],
          [
           "DACIA",
           "SANDERO"
          ],
          [
           "DACIA",
           "SPRING"
          ]
         ],
         "hovertemplate": "Make=%{customdata[0]}<br>Pool=RENAULT-NISSAN-MITSUBISHI<br>EnginePower=%{x}<br>Co2EmissionsWltp=%{y}<br>CarCount=%{marker.size}<br>CommercialName=%{customdata[1]}<extra></extra>",
         "legendgroup": "DACIA",
         "marker": {
          "color": "#FF6692",
          "size": [
           79,
           1,
           1,
           13,
           17,
           87,
           10
          ],
          "sizemode": "area",
          "sizeref": 0.235,
          "symbol": "circle"
         },
         "mode": "markers",
         "name": "DACIA",
         "orientation": "v",
         "showlegend": true,
         "type": "scatter",
         "x": [
          80.68354430379746,
          85,
          84,
          87.23076923076923,
          66.47058823529412,
          65.97701149425288,
          21.2
         ],
         "xaxis": "x12",
         "y": [
          135.59493670886076,
          128,
          145,
          134.3846153846154,
          117.29411764705883,
          121.1264367816092,
          0
         ],
         "yaxis": "y12"
        },
        {
         "customdata": [
          [
           "DS",
           "3 CROSSBACK"
          ],
          [
           "DS",
           "7 CROSSBACK"
          ],
          [
           "DS",
           "DS 3 CROSSBACK"
          ],
          [
           "DS",
           "DS 7 CROSSBACK"
          ],
          [
           "DS",
           "DS 9"
          ],
          [
           "DS",
           "DS7 / CROSSBACK 2.0 / HDI AUT."
          ]
         ],
         "hovertemplate": "Make=%{customdata[0]}<br>Pool=STELLANTIS<br>EnginePower=%{x}<br>Co2EmissionsWltp=%{y}<br>CarCount=%{marker.size}<br>CommercialName=%{customdata[1]}<extra></extra>",
         "legendgroup": "DS",
         "marker": {
          "color": "#B6E880",
          "size": [
           1,
           2,
           5,
           8,
           1,
           1
          ],
          "sizemode": "area",
          "sizeref": 0.235,
          "symbol": "circle"
         },
         "mode": "markers",
         "name": "DS",
         "orientation": "v",
         "showlegend": true,
         "type": "scatter",
         "x": [
          96,
          96,
          79.6,
          124.375,
          133,
          130
         ],
         "xaxis": "x9",
         "y": [
          141,
          136,
          102.4,
          88,
          34,
          163
         ],
         "yaxis": "y9"
        },
        {
         "customdata": [
          [
           "DS AUTOMOBILES",
           "DS9"
          ]
         ],
         "hovertemplate": "Make=%{customdata[0]}<br>Pool=STELLANTIS<br>EnginePower=%{x}<br>Co2EmissionsWltp=%{y}<br>CarCount=%{marker.size}<br>CommercialName=%{customdata[1]}<extra></extra>",
         "legendgroup": "DS AUTOMOBILES",
         "marker": {
          "color": "#FF97FF",
          "size": [
           2
          ],
          "sizemode": "area",
          "sizeref": 0.235,
          "symbol": "circle"
         },
         "mode": "markers",
         "name": "DS AUTOMOBILES",
         "orientation": "v",
         "showlegend": true,
         "type": "scatter",
         "x": [
          133
         ],
         "xaxis": "x9",
         "y": [
          34
         ],
         "yaxis": "y9"
        },
        {
         "customdata": [
          [
           "FIAT",
           "500"
          ],
          [
           "FIAT",
           "500 C ABARTH"
          ],
          [
           "FIAT",
           "500L"
          ],
          [
           "FIAT",
           "500X"
          ],
          [
           "FIAT",
           "ABARTH 500"
          ],
          [
           "FIAT",
           "DUCATO"
          ],
          [
           "FIAT",
           "FIAT 500"
          ],
          [
           "FIAT",
           "FIAT 500 / 500 ABARTH"
          ],
          [
           "FIAT",
           "FIAT 500L"
          ],
          [
           "FIAT",
           "FIAT 500X"
          ],
          [
           "FIAT",
           "FIAT PANDA"
          ],
          [
           "FIAT",
           "FIAT TIPO"
          ],
          [
           "FIAT",
           "PANDA"
          ],
          [
           "FIAT",
           "PANDA / 1.0 / HYBRID EASY"
          ],
          [
           "FIAT",
           "TIPO"
          ]
         ],
         "hovertemplate": "Make=%{customdata[0]}<br>Pool=STELLANTIS<br>EnginePower=%{x}<br>Co2EmissionsWltp=%{y}<br>CarCount=%{marker.size}<br>CommercialName=%{customdata[1]}<extra></extra>",
         "legendgroup": "FIAT",
         "marker": {
          "color": "#FECB52",
          "size": [
           37,
           1,
           3,
           12,
           5,
           1,
           32,
           1,
           8,
           17,
           4,
           12,
           67,
           1,
           12
          ],
          "sizemode": "area",
          "sizeref": 0.235,
          "symbol": "circle"
         },
         "mode": "markers",
         "name": "FIAT",
         "orientation": "v",
         "showlegend": true,
         "type": "scatter",
         "x": [
          50.189189189189186,
          121,
          76,
          91.83333333333333,
          127.6,
          103,
          51.5625,
          51,
          70,
          84.58823529411765,
          54.25,
          83.33333333333333,
          52.40298507462686,
          52,
          74.16666666666667
         ],
         "xaxis": "x9",
         "y": [
          68.4054054054054,
          172,
          159,
          141.91666666666666,
          158.6,
          213,
          113.4375,
          115,
          156.5,
          135.23529411764707,
          124.5,
          124.08333333333333,
          119.44776119402985,
          115,
          127.66666666666667
         ],
         "yaxis": "y9"
        },
        {
         "customdata": [
          [
           "FORD",
           "ECOSPORT"
          ],
          [
           "FORD",
           "EXPLORER"
          ],
          [
           "FORD",
           "FIESTA"
          ],
          [
           "FORD",
           "FOCUS"
          ],
          [
           "FORD",
           "Fiesta"
          ],
          [
           "FORD",
           "Focus"
          ],
          [
           "FORD",
           "GALAXY"
          ],
          [
           "FORD",
           "KUGA"
          ],
          [
           "FORD",
           "KUGA COOL & CONNECT"
          ],
          [
           "FORD",
           "KUGA TITANIUM"
          ],
          [
           "FORD",
           "Kuga"
          ],
          [
           "FORD",
           "MONDEO"
          ],
          [
           "FORD",
           "MUSTANG"
          ],
          [
           "FORD",
           "MUSTANG MACH-E"
          ],
          [
           "FORD",
           "Mondeo"
          ],
          [
           "FORD",
           "Mondeo Hybrid"
          ],
          [
           "FORD",
           "Mustang"
          ],
          [
           "FORD",
           "Mustang Mach-E"
          ],
          [
           "FORD",
           "PUMA"
          ],
          [
           "FORD",
           "PUMA TITANIUM"
          ],
          [
           "FORD",
           "Puma"
          ],
          [
           "FORD",
           "S-MAX"
          ],
          [
           "FORD",
           "TOURNEO"
          ],
          [
           "FORD",
           "TOURNEO CONNECT"
          ],
          [
           "FORD",
           "TOURNEO COURIER"
          ],
          [
           "FORD",
           "TOURNEO CUSTOM"
          ],
          [
           "FORD",
           "TOURNEO CUSTOM / 2.0 / 17\"\" 136 H1L2 320 A6"
          ],
          [
           "FORD",
           "TRANSIT"
          ],
          [
           "FORD",
           "TRANSIT CONNECT"
          ],
          [
           "FORD",
           "TRANSIT CUSTOM"
          ],
          [
           "FORD",
           "Tourneo Custom"
          ]
         ],
         "hovertemplate": "Make=%{customdata[0]}<br>Pool=FORD<br>EnginePower=%{x}<br>Co2EmissionsWltp=%{y}<br>CarCount=%{marker.size}<br>CommercialName=%{customdata[1]}<extra></extra>",
         "legendgroup": "FORD",
         "marker": {
          "color": "#636efa",
          "size": [
           11,
           2,
           21,
           31,
           2,
           4,
           1,
           30,
           1,
           1,
           5,
           2,
           1,
           9,
           1,
           1,
           1,
           2,
           46,
           1,
           4,
           2,
           2,
           2,
           1,
           6,
           1,
           2,
           1,
           6,
           2
          ],
          "sizemode": "area",
          "sizeref": 0.235,
          "symbol": "circle"
         },
         "mode": "markers",
         "name": "FORD",
         "orientation": "v",
         "showlegend": true,
         "type": "scatter",
         "x": [
          88.36363636363636,
          267,
          73.85714285714286,
          98.03225806451613,
          70,
          95.5,
          110,
          109.03333333333333,
          88,
          88,
          106.8,
          110,
          338,
          189.11111111111111,
          110,
          103,
          338,
          357.5,
          95.45652173913044,
          91,
          96.75,
          110,
          115.5,
          80.5,
          74,
          122.66666666666667,
          136,
          86.5,
          88,
          94.33333333333333,
          136
         ],
         "xaxis": "x5",
         "y": [
          135.8181818181818,
          71,
          118.33333333333333,
          127.96774193548387,
          116.5,
          124.25,
          162,
          90.86666666666666,
          123,
          137,
          94.8,
          138,
          270,
          0,
          141,
          130,
          270,
          0,
          126.91304347826087,
          122,
          128.25,
          152.5,
          207.5,
          153.5,
          135,
          201,
          222,
          221.5,
          150,
          196.33333333333334,
          199.5
         ],
         "yaxis": "y5"
        },
        {
         "customdata": [
          [
           "HONDA",
           "CIVIC"
          ],
          [
           "HONDA",
           "CIVIC 5DR"
          ],
          [
           "HONDA",
           "CR-V"
          ],
          [
           "HONDA",
           "HONDA CR-V"
          ],
          [
           "HONDA",
           "HONDA E"
          ],
          [
           "HONDA",
           "JAZZ"
          ]
         ],
         "hovertemplate": "Make=%{customdata[0]}<br>Pool=HONDA-GROUP<br>EnginePower=%{x}<br>Co2EmissionsWltp=%{y}<br>CarCount=%{marker.size}<br>CommercialName=%{customdata[1]}<extra></extra>",
         "legendgroup": "HONDA",
         "marker": {
          "color": "#EF553B",
          "size": [
           3,
           2,
           5,
           2,
           1,
           10
          ],
          "sizemode": "area",
          "sizeref": 0.235,
          "symbol": "circle"
         },
         "mode": "markers",
         "name": "HONDA",
         "orientation": "v",
         "showlegend": true,
         "type": "scatter",
         "x": [
          106.66666666666667,
          93,
          107,
          107,
          60,
          72
         ],
         "xaxis": "x6",
         "y": [
          137.66666666666666,
          137.5,
          160.8,
          159.5,
          0,
          107.1
         ],
         "yaxis": "y6"
        },
        {
         "customdata": [
          [
           "HONDA",
           "CIVIC 4DR"
          ]
         ],
         "hovertemplate": "Make=%{customdata[0]}<br>Pool=TESLA<br>EnginePower=%{x}<br>Co2EmissionsWltp=%{y}<br>CarCount=%{marker.size}<br>CommercialName=%{customdata[1]}<extra></extra>",
         "legendgroup": "HONDA",
         "marker": {
          "color": "#EF553B",
          "size": [
           2
          ],
          "sizemode": "area",
          "sizeref": 0.235,
          "symbol": "circle"
         },
         "mode": "markers",
         "name": "HONDA",
         "orientation": "v",
         "showlegend": false,
         "type": "scatter",
         "x": [
          113.5
         ],
         "xaxis": "x7",
         "y": [
          135
         ],
         "yaxis": "y7"
        },
        {
         "customdata": [
          [
           "HYUNDAI",
           "BAYON"
          ],
          [
           "HYUNDAI",
           "Bayon"
          ],
          [
           "HYUNDAI",
           "ELANTRA"
          ],
          [
           "HYUNDAI",
           "Hyundai TUCSON ix35"
          ],
          [
           "HYUNDAI",
           "I 10"
          ],
          [
           "HYUNDAI",
           "I 20"
          ],
          [
           "HYUNDAI",
           "I 30"
          ],
          [
           "HYUNDAI",
           "I 30 N"
          ],
          [
           "HYUNDAI",
           "I10"
          ],
          [
           "HYUNDAI",
           "I10 BI-FUEL"
          ],
          [
           "HYUNDAI",
           "I20"
          ],
          [
           "HYUNDAI",
           "I20 / 1.2 /"
          ],
          [
           "HYUNDAI",
           "I20 N"
          ],
          [
           "HYUNDAI",
           "I30"
          ],
          [
           "HYUNDAI",
           "IONIQ"
          ],
          [
           "HYUNDAI",
           "IONIQ5"
          ],
          [
           "HYUNDAI",
           "KAUAI"
          ],
          [
           "HYUNDAI",
           "KONA"
          ],
          [
           "HYUNDAI",
           "KONA KAUAI"
          ],
          [
           "HYUNDAI",
           "KONA, KAUAI"
          ],
          [
           "HYUNDAI",
           "Kona Kauai"
          ],
          [
           "HYUNDAI",
           "Kona, Kauai"
          ],
          [
           "HYUNDAI",
           "SANTA FE"
          ],
          [
           "HYUNDAI",
           "Santa Fe"
          ],
          [
           "HYUNDAI",
           "TUCSON"
          ],
          [
           "HYUNDAI",
           "TUCSON IX35"
          ],
          [
           "HYUNDAI",
           "TUCSONix35"
          ],
          [
           "HYUNDAI",
           "i 10"
          ],
          [
           "HYUNDAI",
           "i 20"
          ],
          [
           "HYUNDAI",
           "i 30"
          ],
          [
           "HYUNDAI",
           "i10"
          ],
          [
           "HYUNDAI",
           "i20"
          ],
          [
           "HYUNDAI",
           "i20 i20 Active"
          ],
          [
           "HYUNDAI",
           "kona Kauai"
          ]
         ],
         "hovertemplate": "Make=%{customdata[0]}<br>Pool=HYUNDAI<br>EnginePower=%{x}<br>Co2EmissionsWltp=%{y}<br>CarCount=%{marker.size}<br>CommercialName=%{customdata[1]}<extra></extra>",
         "legendgroup": "HYUNDAI",
         "marker": {
          "color": "#00cc96",
          "size": [
           5,
           2,
           1,
           3,
           4,
           1,
           10,
           1,
           22,
           2,
           12,
           1,
           1,
           4,
           6,
           12,
           2,
           17,
           1,
           8,
           1,
           1,
           4,
           1,
           30,
           21,
           1,
           1,
           1,
           7,
           3,
           1,
           1,
           1
          ],
          "sizemode": "area",
          "sizeref": 0.235,
          "symbol": "circle"
         },
         "mode": "markers",
         "name": "HYUNDAI",
         "orientation": "v",
         "showlegend": true,
         "type": "scatter",
         "x": [
          73.8,
          68,
          90,
          104,
          55,
          73,
          106.4,
          206,
          50.09090909090909,
          48,
          67.33333333333333,
          62,
          150,
          115.5,
          80.83333333333333,
          100.41666666666667,
          94,
          70.76470588235294,
          88,
          100.5,
          77,
          88,
          140,
          148,
          115.23333333333333,
          120.47619047619048,
          132,
          49,
          61,
          112.85714285714286,
          57.333333333333336,
          74,
          55,
          150
         ],
         "xaxis": "x8",
         "y": [
          120.8,
          124.5,
          140,
          164.66666666666666,
          118,
          117,
          125.7,
          182,
          118.72727272727273,
          110,
          119.75,
          120,
          158,
          144.5,
          60.166666666666664,
          0,
          68,
          80.82352941176471,
          146,
          142,
          114,
          132,
          169.75,
          180,
          136.3,
          125.42857142857143,
          130,
          120,
          121,
          135.42857142857142,
          119.33333333333333,
          123,
          136,
          0
         ],
         "yaxis": "y8"
        },
        {
         "customdata": [
          [
           "HYUNDAI, GENESIS",
           "GV80, GENESIS GV80"
          ]
         ],
         "hovertemplate": "Make=%{customdata[0]}<br>Pool=HYUNDAI<br>EnginePower=%{x}<br>Co2EmissionsWltp=%{y}<br>CarCount=%{marker.size}<br>CommercialName=%{customdata[1]}<extra></extra>",
         "legendgroup": "HYUNDAI, GENESIS",
         "marker": {
          "color": "#ab63fa",
          "size": [
           1
          ],
          "sizemode": "area",
          "sizeref": 0.235,
          "symbol": "circle"
         },
         "mode": "markers",
         "name": "HYUNDAI, GENESIS",
         "orientation": "v",
         "showlegend": true,
         "type": "scatter",
         "x": [
          204
         ],
         "xaxis": "x8",
         "y": [
          233
         ],
         "yaxis": "y8"
        },
        {
         "customdata": [
          [
           "JAGUAR",
           "F-PACE"
          ],
          [
           "JAGUAR",
           "F-PACE D300 SE AWD AUT."
          ],
          [
           "JAGUAR",
           "JAGUAR E-PACE"
          ],
          [
           "JAGUAR",
           "JAGUAR F-PACE"
          ],
          [
           "JAGUAR",
           "JAGUAR F-TYPE"
          ],
          [
           "JAGUAR",
           "JAGUAR XE"
          ],
          [
           "JAGUAR",
           "JAGUAR XF"
          ],
          [
           "JAGUAR",
           "Jaguar E-PACE"
          ],
          [
           "JAGUAR",
           "Jaguar F-PACE"
          ]
         ],
         "hovertemplate": "Make=%{customdata[0]}<br>Pool=TATA-MOTORS<br>EnginePower=%{x}<br>Co2EmissionsWltp=%{y}<br>CarCount=%{marker.size}<br>CommercialName=%{customdata[1]}<extra></extra>",
         "legendgroup": "JAGUAR",
         "marker": {
          "color": "#FFA15A",
          "size": [
           1,
           1,
           4,
           1,
           1,
           1,
           2,
           1,
           2
          ],
          "sizemode": "area",
          "sizeref": 0.235,
          "symbol": "circle"
         },
         "mode": "markers",
         "name": "JAGUAR",
         "orientation": "v",
         "showlegend": true,
         "type": "scatter",
         "x": [
          132,
          221,
          142.5,
          150,
          331,
          184,
          150,
          147,
          120
         ],
         "xaxis": "x",
         "y": [
          182,
          197,
          194.75,
          166,
          242,
          188,
          156,
          44,
          170
         ],
         "yaxis": "y"
        },
        {
         "customdata": [
          [
           "JEEP",
           "COMPASS"
          ],
          [
           "JEEP",
           "RENEGADE"
          ],
          [
           "JEEP",
           "WRANGLER UNLIMITED"
          ]
         ],
         "hovertemplate": "Make=%{customdata[0]}<br>Pool=STELLANTIS<br>EnginePower=%{x}<br>Co2EmissionsWltp=%{y}<br>CarCount=%{marker.size}<br>CommercialName=%{customdata[1]}<extra></extra>",
         "legendgroup": "JEEP",
         "marker": {
          "color": "#19d3f3",
          "size": [
           23,
           21,
           1
          ],
          "sizemode": "area",
          "sizeref": 0.235,
          "symbol": "circle"
         },
         "mode": "markers",
         "name": "JEEP",
         "orientation": "v",
         "showlegend": true,
         "type": "scatter",
         "x": [
          108.17391304347827,
          97.04761904761905,
          200
         ],
         "xaxis": "x9",
         "y": [
          138.6086956521739,
          135.52380952380952,
          239
         ],
         "yaxis": "y9"
        },
        {
         "customdata": [
          [
           "KIA",
           "CEED"
          ],
          [
           "KIA",
           "CEEDSW/SILBER/UVO/1.0 TGDI GPF"
          ],
          [
           "KIA",
           "Ceed"
          ],
          [
           "KIA",
           "E-NIRO/GOLD/UVO/E-MOTOR/LR/64,"
          ],
          [
           "KIA",
           "E-NIRO/PLATIN/UVO/E-MOTOR/LR/6"
          ],
          [
           "KIA",
           "EV6"
          ],
          [
           "KIA",
           "NIRO"
          ],
          [
           "KIA",
           "OPTIMA"
          ],
          [
           "KIA",
           "PICANTO"
          ],
          [
           "KIA",
           "PICANTO/TITAN/1.0 DPI/MT5/67"
          ],
          [
           "KIA",
           "PROCEED"
          ],
          [
           "KIA",
           "Picanto"
          ],
          [
           "KIA",
           "ProCeed"
          ],
          [
           "KIA",
           "RIO"
          ],
          [
           "KIA",
           "RIO,STONIC"
          ],
          [
           "KIA",
           "SORENTO"
          ],
          [
           "KIA",
           "SORENTO/5S/PLATIN/UVO/2.2 CRDI"
          ],
          [
           "KIA",
           "SOUL"
          ],
          [
           "KIA",
           "SPORTAGE"
          ],
          [
           "KIA",
           "SPORTAGE / 1.6 / TD"
          ],
          [
           "KIA",
           "SPORTAGE / 1.6 / TD / AUT."
          ],
          [
           "KIA",
           "STONIC"
          ],
          [
           "KIA",
           "STONIC/TITAN/1.25 MPI/MT5/84"
          ],
          [
           "KIA",
           "XCEED"
          ],
          [
           "KIA",
           "XCEED / 1.5 / T"
          ],
          [
           "KIA",
           "XCeed"
          ]
         ],
         "hovertemplate": "Make=%{customdata[0]}<br>Pool=KIA<br>EnginePower=%{x}<br>Co2EmissionsWltp=%{y}<br>CarCount=%{marker.size}<br>CommercialName=%{customdata[1]}<extra></extra>",
         "legendgroup": "KIA",
         "marker": {
          "color": "#FF6692",
          "size": [
           28,
           1,
           9,
           1,
           1,
           3,
           20,
           1,
           24,
           1,
           10,
           7,
           1,
           16,
           2,
           6,
           1,
           2,
           28,
           1,
           1,
           18,
           1,
           13,
           1,
           6
          ],
          "sizemode": "area",
          "sizeref": 0.235,
          "symbol": "circle"
         },
         "mode": "markers",
         "name": "KIA",
         "orientation": "v",
         "showlegend": true,
         "type": "scatter",
         "x": [
          97.28571428571429,
          73,
          105.88888888888889,
          29,
          29,
          154.33333333333334,
          89.3,
          113,
          53.666666666666664,
          49,
          132.1,
          50.714285714285715,
          118,
          71.4375,
          61,
          132,
          148,
          150,
          103.42857142857143,
          100,
          100,
          74.16666666666667,
          61,
          103.46153846153847,
          118,
          98
         ],
         "xaxis": "x2",
         "y": [
          98.03571428571429,
          130,
          130.77777777777777,
          0,
          0,
          0,
          44.3,
          34,
          115.83333333333333,
          110,
          142.7,
          114.28571428571429,
          131,
          125.3125,
          135,
          60.333333333333336,
          176,
          0,
          158.53571428571428,
          151,
          161,
          125.5,
          136,
          115.38461538461539,
          142,
          119.33333333333333
         ],
         "yaxis": "y2"
        },
        {
         "customdata": [
          [
           "LANCIA",
           "YPSILON"
          ]
         ],
         "hovertemplate": "Make=%{customdata[0]}<br>Pool=STELLANTIS<br>EnginePower=%{x}<br>Co2EmissionsWltp=%{y}<br>CarCount=%{marker.size}<br>CommercialName=%{customdata[1]}<extra></extra>",
         "legendgroup": "LANCIA",
         "marker": {
          "color": "#B6E880",
          "size": [
           17
          ],
          "sizemode": "area",
          "sizeref": 0.235,
          "symbol": "circle"
         },
         "mode": "markers",
         "name": "LANCIA",
         "orientation": "v",
         "showlegend": true,
         "type": "scatter",
         "x": [
          52.529411764705884
         ],
         "xaxis": "x9",
         "y": [
          118.82352941176471
         ],
         "yaxis": "y9"
        },
        {
         "customdata": [
          [
           "LAND ROVER",
           "DEFENDER"
          ],
          [
           "LAND ROVER",
           "DISCOVERY SPORT"
          ],
          [
           "LAND ROVER",
           "Discovery Sport"
          ],
          [
           "LAND ROVER",
           "RANGE ROVER"
          ],
          [
           "LAND ROVER",
           "RANGE ROVER EVOQUE"
          ],
          [
           "LAND ROVER",
           "RANGE ROVER SPORT"
          ],
          [
           "LAND ROVER",
           "RANGE ROVER SPORT D300 HSE AWD"
          ],
          [
           "LAND ROVER",
           "RANGE ROVER VELAR"
          ],
          [
           "LAND ROVER",
           "Range Rover Evoque"
          ],
          [
           "LAND ROVER",
           "Range Rover Sport"
          ]
         ],
         "hovertemplate": "Make=%{customdata[0]}<br>Pool=TATA-MOTORS<br>EnginePower=%{x}<br>Co2EmissionsWltp=%{y}<br>CarCount=%{marker.size}<br>CommercialName=%{customdata[1]}<extra></extra>",
         "legendgroup": "LAND ROVER",
         "marker": {
          "color": "#FF97FF",
          "size": [
           1,
           2,
           2,
           2,
           9,
           5,
           1,
           1,
           2,
           1
          ],
          "sizemode": "area",
          "sizeref": 0.235,
          "symbol": "circle"
         },
         "mode": "markers",
         "name": "LAND ROVER",
         "orientation": "v",
         "showlegend": true,
         "type": "scatter",
         "x": [
          221,
          147,
          165,
          257.5,
          135.77777777777777,
          253.6,
          221,
          150,
          118,
          183
         ],
         "xaxis": "x",
         "y": [
          85,
          121.5,
          128,
          166.5,
          141.11111111111111,
          222.4,
          220,
          168,
          180,
          232
         ],
         "yaxis": "y"
        },
        {
         "customdata": [
          [
           "LEXUS",
           "ES300H"
          ],
          [
           "LEXUS",
           "LEXUS LC500H"
          ],
          [
           "LEXUS",
           "LEXUS NX300H"
          ],
          [
           "LEXUS",
           "LEXUS UX250H"
          ],
          [
           "LEXUS",
           "NX300H"
          ],
          [
           "LEXUS",
           "RX450H"
          ],
          [
           "LEXUS",
           "UX250H"
          ]
         ],
         "hovertemplate": "Make=%{customdata[0]}<br>Pool=MAZDA-SUBARU-SUZUKI-TOYOTA<br>EnginePower=%{x}<br>Co2EmissionsWltp=%{y}<br>CarCount=%{marker.size}<br>CommercialName=%{customdata[1]}<extra></extra>",
         "legendgroup": "LEXUS",
         "marker": {
          "color": "#FECB52",
          "size": [
           1,
           1,
           1,
           4,
           2,
           2,
           2
          ],
          "sizemode": "area",
          "sizeref": 0.235,
          "symbol": "circle"
         },
         "mode": "markers",
         "name": "LEXUS",
         "orientation": "v",
         "showlegend": true,
         "type": "scatter",
         "x": [
          131,
          220,
          114,
          112,
          114,
          193,
          112
         ],
         "xaxis": "x3",
         "y": [
          125,
          184,
          174,
          121,
          169,
          179,
          120.5
         ],
         "yaxis": "y3"
        },
        {
         "customdata": [
          [
           "LYNK&CO",
           "LYNK & CO 01"
          ],
          [
           "LYNK&CO",
           "Lynk & Co 01"
          ]
         ],
         "hovertemplate": "Make=%{customdata[0]}<br>Pool=VW-SAIC<br>EnginePower=%{x}<br>Co2EmissionsWltp=%{y}<br>CarCount=%{marker.size}<br>CommercialName=%{customdata[1]}<extra></extra>",
         "legendgroup": "LYNK&CO",
         "marker": {
          "color": "#636efa",
          "size": [
           1,
           1
          ],
          "sizemode": "area",
          "sizeref": 0.235,
          "symbol": "circle"
         },
         "mode": "markers",
         "name": "LYNK&CO",
         "orientation": "v",
         "showlegend": true,
         "type": "scatter",
         "x": [
          132,
          105
         ],
         "xaxis": "x10",
         "y": [
          27,
          150
         ],
         "yaxis": "y10"
        },
        {
         "customdata": [
          [
           "MAZDA",
           "3"
          ],
          [
           "MAZDA",
           "CX-30"
          ],
          [
           "MAZDA",
           "CX-30/SKYACTIV-G122/COMFORT+"
          ],
          [
           "MAZDA",
           "CX-5"
          ],
          [
           "MAZDA",
           "MAZDA 3"
          ],
          [
           "MAZDA",
           "MAZDA CX-3"
          ],
          [
           "MAZDA",
           "MAZDA CX-30"
          ],
          [
           "MAZDA",
           "MAZDA CX-5"
          ],
          [
           "MAZDA",
           "MAZDA MX-30"
          ],
          [
           "MAZDA",
           "MAZDA2"
          ],
          [
           "MAZDA",
           "MAZDA3"
          ],
          [
           "MAZDA",
           "MX-5"
          ],
          [
           "MAZDA",
           "Mazda CX-3"
          ],
          [
           "MAZDA",
           "Mazda CX-5"
          ]
         ],
         "hovertemplate": "Make=%{customdata[0]}<br>Pool=MAZDA-SUBARU-SUZUKI-TOYOTA<br>EnginePower=%{x}<br>Co2EmissionsWltp=%{y}<br>CarCount=%{marker.size}<br>CommercialName=%{customdata[1]}<extra></extra>",
         "legendgroup": "MAZDA",
         "marker": {
          "color": "#EF553B",
          "size": [
           3,
           4,
           1,
           1,
           1,
           3,
           13,
           5,
           1,
           8,
           7,
           1,
           1,
           3
          ],
          "sizemode": "area",
          "sizeref": 0.235,
          "symbol": "circle"
         },
         "mode": "markers",
         "name": "MAZDA",
         "orientation": "v",
         "showlegend": true,
         "type": "scatter",
         "x": [
          112.33333333333333,
          116.75,
          90,
          121,
          137,
          89,
          108,
          123.2,
          81,
          63.25,
          106.28571428571429,
          135,
          89,
          132.66666666666666
         ],
         "xaxis": "x3",
         "y": [
          133,
          139.25,
          141,
          154,
          137,
          146.66666666666666,
          141.3846153846154,
          164.4,
          0,
          120,
          127.57142857142857,
          155,
          140,
          171.66666666666666
         ],
         "yaxis": "y3"
        },
        {
         "customdata": [
          [
           "MERCEDES-AMG",
           "AMG GT 43 4MATIC+"
          ]
         ],
         "hovertemplate": "Make=%{customdata[0]}<br>Pool=MERCEDES-BENZ<br>EnginePower=%{x}<br>Co2EmissionsWltp=%{y}<br>CarCount=%{marker.size}<br>CommercialName=%{customdata[1]}<extra></extra>",
         "legendgroup": "MERCEDES-AMG",
         "marker": {
          "color": "#00cc96",
          "size": [
           1
          ],
          "sizemode": "area",
          "sizeref": 0.235,
          "symbol": "circle"
         },
         "mode": "markers",
         "name": "MERCEDES-AMG",
         "orientation": "v",
         "showlegend": true,
         "type": "scatter",
         "x": [
          270
         ],
         "xaxis": "x4",
         "y": [
          230
         ],
         "yaxis": "y4"
        },
        {
         "customdata": [
          [
           "MERCEDES-BENZ",
           "A 180"
          ],
          [
           "MERCEDES-BENZ",
           "A 180 D"
          ],
          [
           "MERCEDES-BENZ",
           "A 180 d"
          ],
          [
           "MERCEDES-BENZ",
           "A 200"
          ],
          [
           "MERCEDES-BENZ",
           "A 200 D"
          ],
          [
           "MERCEDES-BENZ",
           "A 200 D 4MATIC"
          ],
          [
           "MERCEDES-BENZ",
           "A 200 d"
          ],
          [
           "MERCEDES-BENZ",
           "A 220 D"
          ],
          [
           "MERCEDES-BENZ",
           "A 250"
          ],
          [
           "MERCEDES-BENZ",
           "A 250 4MATIC"
          ],
          [
           "MERCEDES-BENZ",
           "A 250 E"
          ],
          [
           "MERCEDES-BENZ",
           "A 250 e"
          ],
          [
           "MERCEDES-BENZ",
           "AMG C 43"
          ],
          [
           "MERCEDES-BENZ",
           "AMG CLA 35"
          ],
          [
           "MERCEDES-BENZ",
           "AMG CLA 45 S"
          ],
          [
           "MERCEDES-BENZ",
           "AMG G 63"
          ],
          [
           "MERCEDES-BENZ",
           "AMG GLC 43 4MATIC"
          ],
          [
           "MERCEDES-BENZ",
           "AMG GLE 53 4MATIC+"
          ],
          [
           "MERCEDES-BENZ",
           "AMG GLE 53 4MATIC+ COUPE"
          ],
          [
           "MERCEDES-BENZ",
           "AMG GLE 63 S 4MATIC+Coupe"
          ],
          [
           "MERCEDES-BENZ",
           "AMG GLS 63"
          ],
          [
           "MERCEDES-BENZ",
           "AMG GLS 63 4MATIC+"
          ],
          [
           "MERCEDES-BENZ",
           "B 160"
          ],
          [
           "MERCEDES-BENZ",
           "B 180"
          ],
          [
           "MERCEDES-BENZ",
           "B 200"
          ],
          [
           "MERCEDES-BENZ",
           "B 250 E"
          ],
          [
           "MERCEDES-BENZ",
           "C 180"
          ],
          [
           "MERCEDES-BENZ",
           "C 200"
          ],
          [
           "MERCEDES-BENZ",
           "C 200 4MATIC"
          ],
          [
           "MERCEDES-BENZ",
           "C 200 D"
          ],
          [
           "MERCEDES-BENZ",
           "C 220"
          ],
          [
           "MERCEDES-BENZ",
           "C 220 D"
          ],
          [
           "MERCEDES-BENZ",
           "C 220 D 4MATIC"
          ],
          [
           "MERCEDES-BENZ",
           "C 220 d"
          ],
          [
           "MERCEDES-BENZ",
           "C 300 D"
          ],
          [
           "MERCEDES-BENZ",
           "C 300 DE"
          ],
          [
           "MERCEDES-BENZ",
           "C 300 d"
          ],
          [
           "MERCEDES-BENZ",
           "CITAN"
          ],
          [
           "MERCEDES-BENZ",
           "CLA"
          ],
          [
           "MERCEDES-BENZ",
           "CLA 180"
          ],
          [
           "MERCEDES-BENZ",
           "CLA 180 D"
          ],
          [
           "MERCEDES-BENZ",
           "CLA 200"
          ],
          [
           "MERCEDES-BENZ",
           "CLA 200 D"
          ],
          [
           "MERCEDES-BENZ",
           "CLA 220 D"
          ],
          [
           "MERCEDES-BENZ",
           "CLA 250 E"
          ],
          [
           "MERCEDES-BENZ",
           "CLA 250 e"
          ],
          [
           "MERCEDES-BENZ",
           "CLASSE A"
          ],
          [
           "MERCEDES-BENZ",
           "CLASSE B"
          ],
          [
           "MERCEDES-BENZ",
           "CLASSE C"
          ],
          [
           "MERCEDES-BENZ",
           "CLASSE CLA"
          ],
          [
           "MERCEDES-BENZ",
           "CLASSE GLA"
          ],
          [
           "MERCEDES-BENZ",
           "CLASSE GLB"
          ],
          [
           "MERCEDES-BENZ",
           "CLASSE GLC"
          ],
          [
           "MERCEDES-BENZ",
           "CLASSE GLE"
          ],
          [
           "MERCEDES-BENZ",
           "E 200"
          ],
          [
           "MERCEDES-BENZ",
           "E 200 4MATIC"
          ],
          [
           "MERCEDES-BENZ",
           "E 220"
          ],
          [
           "MERCEDES-BENZ",
           "E 220 D"
          ],
          [
           "MERCEDES-BENZ",
           "E 220 D 4MATIC"
          ],
          [
           "MERCEDES-BENZ",
           "E 220 d"
          ],
          [
           "MERCEDES-BENZ",
           "E 220 d 4MATIC"
          ],
          [
           "MERCEDES-BENZ",
           "E 300 DE 4MATIC"
          ],
          [
           "MERCEDES-BENZ",
           "E 300 E"
          ],
          [
           "MERCEDES-BENZ",
           "E 400 D 4 MATIC"
          ],
          [
           "MERCEDES-BENZ",
           "E 450 4MATIC"
          ],
          [
           "MERCEDES-BENZ",
           "EQA 250"
          ],
          [
           "MERCEDES-BENZ",
           "EQA 350 4MATIC"
          ],
          [
           "MERCEDES-BENZ",
           "EQC 400 4MATIC"
          ],
          [
           "MERCEDES-BENZ",
           "EQV"
          ],
          [
           "MERCEDES-BENZ",
           "GLA"
          ],
          [
           "MERCEDES-BENZ",
           "GLA 180 d"
          ],
          [
           "MERCEDES-BENZ",
           "GLA 200"
          ],
          [
           "MERCEDES-BENZ",
           "GLA 200 D"
          ],
          [
           "MERCEDES-BENZ",
           "GLA 200 D 4MATIC"
          ],
          [
           "MERCEDES-BENZ",
           "GLA 200 d"
          ],
          [
           "MERCEDES-BENZ",
           "GLA 220 D"
          ],
          [
           "MERCEDES-BENZ",
           "GLA 220 D 4MATIC"
          ],
          [
           "MERCEDES-BENZ",
           "GLA 250 E"
          ],
          [
           "MERCEDES-BENZ",
           "GLB"
          ],
          [
           "MERCEDES-BENZ",
           "GLB 180 d"
          ],
          [
           "MERCEDES-BENZ",
           "GLB 200"
          ],
          [
           "MERCEDES-BENZ",
           "GLB 200 D"
          ],
          [
           "MERCEDES-BENZ",
           "GLB 200 D 4MATIC"
          ],
          [
           "MERCEDES-BENZ",
           "GLB 200 d"
          ],
          [
           "MERCEDES-BENZ",
           "GLB 220 D"
          ],
          [
           "MERCEDES-BENZ",
           "GLB 250 4MATIC"
          ],
          [
           "MERCEDES-BENZ",
           "GLC"
          ],
          [
           "MERCEDES-BENZ",
           "GLC 200 4MATIC"
          ],
          [
           "MERCEDES-BENZ",
           "GLC 200 D 4MATIC"
          ],
          [
           "MERCEDES-BENZ",
           "GLC 200 d"
          ],
          [
           "MERCEDES-BENZ",
           "GLC 220 D 4MATIC"
          ],
          [
           "MERCEDES-BENZ",
           "GLC 220d 4MATIC"
          ],
          [
           "MERCEDES-BENZ",
           "GLC 300 D 4MATIC"
          ],
          [
           "MERCEDES-BENZ",
           "GLC 300 DE 4MATIC"
          ],
          [
           "MERCEDES-BENZ",
           "GLC 300 E 4MATIC"
          ],
          [
           "MERCEDES-BENZ",
           "GLC 300 d 4MATIC"
          ],
          [
           "MERCEDES-BENZ",
           "GLC 300 de 4MATIC"
          ],
          [
           "MERCEDES-BENZ",
           "GLC 300 e 4MATIC"
          ],
          [
           "MERCEDES-BENZ",
           "GLE 300 d 4MATIC"
          ],
          [
           "MERCEDES-BENZ",
           "GLE 350 D 4MATIC"
          ],
          [
           "MERCEDES-BENZ",
           "GLE 350 DE 4MATIC COUPE"
          ],
          [
           "MERCEDES-BENZ",
           "GLE 350 E 4MATIC"
          ],
          [
           "MERCEDES-BENZ",
           "GLE 350 d 4MATIC Coupe"
          ],
          [
           "MERCEDES-BENZ",
           "GLE 350 de 4MATIC"
          ],
          [
           "MERCEDES-BENZ",
           "GLE 350 de 4MATIC Coupe"
          ],
          [
           "MERCEDES-BENZ",
           "GLE 400 D 4MATIC"
          ],
          [
           "MERCEDES-BENZ",
           "GLE 400 D 4MATIC COUPE"
          ],
          [
           "MERCEDES-BENZ",
           "GLS 580 4MATIC"
          ],
          [
           "MERCEDES-BENZ",
           "MARCO POLO"
          ],
          [
           "MERCEDES-BENZ",
           "S 400 D 4MATIC"
          ],
          [
           "MERCEDES-BENZ",
           "S 400 d 4MATIC"
          ],
          [
           "MERCEDES-BENZ",
           "S 500 4MATIC"
          ],
          [
           "MERCEDES-BENZ",
           "V"
          ],
          [
           "MERCEDES-BENZ",
           "V-KLASSE"
          ],
          [
           "MERCEDES-BENZ",
           "V-Klasse"
          ],
          [
           "MERCEDES-BENZ",
           "VITO"
          ],
          [
           "MERCEDES-BENZ",
           "VITO TOURER"
          ],
          [
           "MERCEDES-BENZ",
           "Vito Tourer"
          ]
         ],
         "hovertemplate": "Make=%{customdata[0]}<br>Pool=MERCEDES-BENZ<br>EnginePower=%{x}<br>Co2EmissionsWltp=%{y}<br>CarCount=%{marker.size}<br>CommercialName=%{customdata[1]}<extra></extra>",
         "legendgroup": "MERCEDES-BENZ",
         "marker": {
          "color": "#ab63fa",
          "size": [
           7,
           1,
           2,
           3,
           5,
           1,
           1,
           1,
           1,
           1,
           7,
           4,
           1,
           1,
           1,
           2,
           1,
           3,
           1,
           1,
           1,
           1,
           1,
           4,
           2,
           1,
           1,
           3,
           2,
           2,
           1,
           4,
           2,
           1,
           2,
           2,
           1,
           1,
           1,
           2,
           3,
           1,
           1,
           1,
           6,
           1,
           9,
           3,
           2,
           1,
           3,
           1,
           5,
           2,
           2,
           1,
           1,
           2,
           2,
           1,
           1,
           1,
           2,
           2,
           1,
           7,
           1,
           1,
           2,
           2,
           2,
           2,
           2,
           2,
           1,
           1,
           1,
           3,
           1,
           2,
           2,
           1,
           2,
           1,
           1,
           1,
           3,
           3,
           1,
           1,
           1,
           1,
           1,
           10,
           9,
           1,
           3,
           1,
           1,
           3,
           2,
           1,
           1,
           1,
           1,
           2,
           1,
           2,
           1,
           1,
           1,
           2,
           2,
           4,
           1,
           1,
           5,
           2
          ],
          "sizemode": "area",
          "sizeref": 0.235,
          "symbol": "circle"
         },
         "mode": "markers",
         "name": "MERCEDES-BENZ",
         "orientation": "v",
         "showlegend": true,
         "type": "scatter",
         "x": [
          97.85714285714286,
          85,
          85,
          116.66666666666667,
          110,
          110,
          110,
          140,
          118,
          165,
          118,
          118,
          287,
          225,
          310,
          430,
          287,
          320,
          320,
          450,
          450,
          450,
          80,
          100,
          115,
          118,
          115,
          145,
          142.5,
          118,
          147,
          145,
          143,
          147,
          195,
          143,
          195,
          70,
          100,
          100,
          85,
          120,
          110,
          140,
          118,
          118,
          102.33333333333333,
          107,
          130.5,
          85,
          110,
          110,
          145.4,
          296.5,
          145,
          145,
          143,
          143,
          143,
          143,
          143,
          143,
          155,
          243,
          270,
          114.28571428571429,
          215,
          145,
          70,
          120,
          85,
          120,
          110,
          110,
          110,
          140,
          140,
          118,
          110,
          85,
          120,
          110,
          110,
          110,
          140,
          165,
          147.66666666666666,
          145,
          120,
          120,
          143,
          143,
          180,
          143,
          155,
          180,
          143,
          155,
          180,
          200,
          143,
          155,
          200,
          143,
          143,
          243,
          243,
          360,
          174,
          243,
          243,
          320,
          175,
          165.5,
          174,
          100,
          108,
          100
         ],
         "xaxis": "x4",
         "y": [
          139.28571428571428,
          132,
          122,
          137,
          134.2,
          138,
          138,
          133,
          24,
          173,
          23.571428571428573,
          23,
          238,
          184,
          205,
          373,
          245,
          246.33333333333334,
          246,
          283,
          294,
          290,
          137,
          142.5,
          136.5,
          27,
          159,
          154.33333333333334,
          162,
          138,
          132,
          136.5,
          141.5,
          133,
          139.5,
          34,
          134,
          140,
          137,
          138.5,
          138.33333333333334,
          140,
          139,
          137,
          25.5,
          26,
          109,
          64.66666666666667,
          144,
          134,
          141,
          149,
          122,
          152.5,
          173,
          185,
          138,
          145,
          154,
          139,
          148,
          38,
          36.5,
          180,
          188,
          0,
          0,
          0,
          0,
          154.5,
          144,
          154.5,
          144.5,
          147,
          142,
          143,
          156,
          32.333333333333336,
          149,
          148.5,
          168.5,
          146,
          153,
          47,
          148,
          180,
          97,
          194.66666666666666,
          157,
          166,
          160,
          166,
          177,
          49.7,
          66.55555555555556,
          177,
          51.666666666666664,
          50,
          44,
          218.33333333333334,
          25.5,
          23,
          203,
          23,
          28,
          218,
          219,
          270,
          227,
          182,
          194,
          202.5,
          224,
          212.5,
          222,
          179,
          191.2,
          187
         ],
         "yaxis": "y4"
        },
        {
         "customdata": [
          [
           "MG",
           "MG EHS PLUG-IN HYBRID"
          ],
          [
           "MG",
           "MG EHS Plug-in Hybrid"
          ],
          [
           "MG",
           "MG RX6 Plug-in Hybrid"
          ],
          [
           "MG",
           "MG ZS EV"
          ]
         ],
         "hovertemplate": "Make=%{customdata[0]}<br>Pool=VW-SAIC<br>EnginePower=%{x}<br>Co2EmissionsWltp=%{y}<br>CarCount=%{marker.size}<br>CommercialName=%{customdata[1]}<extra></extra>",
         "legendgroup": "MG",
         "marker": {
          "color": "#FFA15A",
          "size": [
           1,
           1,
           1,
           8
          ],
          "sizemode": "area",
          "sizeref": 0.235,
          "symbol": "circle"
         },
         "mode": "markers",
         "name": "MG",
         "orientation": "v",
         "showlegend": true,
         "type": "scatter",
         "x": [
          119,
          119,
          119,
          95.75
         ],
         "xaxis": "x10",
         "y": [
          43,
          43,
          43,
          0
         ],
         "yaxis": "y10"
        },
        {
         "customdata": [
          [
           "MINI",
           "CLUBMAN COOPER D"
          ],
          [
           "MINI",
           "CLUBMAN ONE"
          ],
          [
           "MINI",
           "CLUBMAN ONE D"
          ],
          [
           "MINI",
           "COOPER"
          ],
          [
           "MINI",
           "COOPER S"
          ],
          [
           "MINI",
           "COOPER SE"
          ],
          [
           "MINI",
           "COUNTRYMAN"
          ],
          [
           "MINI",
           "COUNTRYMAN COOPER"
          ],
          [
           "MINI",
           "COUNTRYMAN COOPER ALL4"
          ],
          [
           "MINI",
           "COUNTRYMAN COOPER D"
          ],
          [
           "MINI",
           "COUNTRYMAN COOPER S"
          ],
          [
           "MINI",
           "COUNTRYMAN COOPER S ALL4"
          ],
          [
           "MINI",
           "COUNTRYMAN COOPER SE ALL4"
          ],
          [
           "MINI",
           "COUNTRYMAN ONE D"
          ],
          [
           "MINI",
           "Clubman JCW ALL4"
          ],
          [
           "MINI",
           "Cooper"
          ],
          [
           "MINI",
           "Cooper S"
          ],
          [
           "MINI",
           "Cooper SE"
          ],
          [
           "MINI",
           "Countryman Cooper SE ALL4"
          ],
          [
           "MINI",
           "Countryman One D"
          ],
          [
           "MINI",
           "JOHN"
          ],
          [
           "MINI",
           "John Cooper Works"
          ],
          [
           "MINI",
           "MINI"
          ],
          [
           "MINI",
           "MINI COOPER SE ALL4 COUNTRYMAN"
          ],
          [
           "MINI",
           "ONE"
          ],
          [
           "MINI",
           "One"
          ]
         ],
         "hovertemplate": "Make=%{customdata[0]}<br>Pool=BMW<br>EnginePower=%{x}<br>Co2EmissionsWltp=%{y}<br>CarCount=%{marker.size}<br>CommercialName=%{customdata[1]}<extra></extra>",
         "legendgroup": "MINI",
         "marker": {
          "color": "#19d3f3",
          "size": [
           1,
           1,
           1,
           10,
           3,
           5,
           2,
           1,
           1,
           1,
           1,
           1,
           2,
           3,
           1,
           1,
           1,
           1,
           1,
           1,
           1,
           1,
           7,
           1,
           10,
           1
          ],
          "sizemode": "area",
          "sizeref": 0.235,
          "symbol": "circle"
         },
         "mode": "markers",
         "name": "MINI",
         "orientation": "v",
         "showlegend": true,
         "type": "scatter",
         "x": [
          110,
          75,
          85,
          100,
          131,
          75,
          135.5,
          100,
          100,
          110,
          131,
          131,
          92,
          85,
          225,
          100,
          131,
          135,
          92,
          85,
          170,
          170,
          88.57142857142857,
          92,
          73,
          75
         ],
         "xaxis": "x11",
         "y": [
          137,
          139,
          127,
          131.1,
          144.66666666666666,
          0,
          155.5,
          148,
          155,
          134,
          149,
          162,
          42,
          132,
          173,
          136,
          143,
          0,
          43,
          132,
          161,
          157,
          129.71428571428572,
          41,
          125.1,
          124
         ],
         "yaxis": "y11"
        },
        {
         "customdata": [
          [
           "MITSUBISHI",
           "ECLIPSE"
          ],
          [
           "MITSUBISHI",
           "ECLIPSE CROSS"
          ],
          [
           "MITSUBISHI",
           "MITSUBISHI ECLIPSE CROSS"
          ],
          [
           "MITSUBISHI",
           "MITSUBISHI OUTLANDER"
          ],
          [
           "MITSUBISHI",
           "MITSUBISHI SPACE STAR"
          ],
          [
           "MITSUBISHI",
           "Mitsubishi Eclipse Cross"
          ],
          [
           "MITSUBISHI",
           "Mitsubishi Outlander"
          ],
          [
           "MITSUBISHI",
           "OUTLANDER"
          ],
          [
           "MITSUBISHI",
           "SPACE STAR 1,2 AS&G"
          ],
          [
           "MITSUBISHI",
           "SPACE STAR 1,2 CVT AS&G"
          ]
         ],
         "hovertemplate": "Make=%{customdata[0]}<br>Pool=RENAULT-NISSAN-MITSUBISHI<br>EnginePower=%{x}<br>Co2EmissionsWltp=%{y}<br>CarCount=%{marker.size}<br>CommercialName=%{customdata[1]}<extra></extra>",
         "legendgroup": "MITSUBISHI",
         "marker": {
          "color": "#FF6692",
          "size": [
           1,
           2,
           4,
           2,
           17,
           1,
           1,
           1,
           1,
           1
          ],
          "sizemode": "area",
          "sizeref": 0.235,
          "symbol": "circle"
         },
         "mode": "markers",
         "name": "MITSUBISHI",
         "orientation": "v",
         "showlegend": true,
         "type": "scatter",
         "x": [
          72,
          96,
          108,
          99,
          53.64705882352941,
          72,
          99,
          110,
          52,
          52
         ],
         "xaxis": "x12",
         "y": [
          46,
          110.5,
          153,
          46,
          117.82352941176471,
          46,
          46,
          184,
          116,
          125
         ],
         "yaxis": "y12"
        },
        {
         "customdata": [
          [
           "NISSAN",
           "E-NV200"
          ],
          [
           "NISSAN",
           "JUKE"
          ],
          [
           "NISSAN",
           "LEAF 40KWH"
          ],
          [
           "NISSAN",
           "MICRA"
          ],
          [
           "NISSAN",
           "NISSAN GT-R"
          ],
          [
           "NISSAN",
           "NISSAN JUKE"
          ],
          [
           "NISSAN",
           "NISSAN LEAF 40 KWH"
          ],
          [
           "NISSAN",
           "NISSAN LEAF 40KWH"
          ],
          [
           "NISSAN",
           "NISSAN LEAF 40kWh"
          ],
          [
           "NISSAN",
           "NISSAN LEAF 62 KWH"
          ],
          [
           "NISSAN",
           "NISSAN LEAF 62KWH"
          ],
          [
           "NISSAN",
           "NISSAN MICRA"
          ],
          [
           "NISSAN",
           "NISSAN QASHQAI"
          ],
          [
           "NISSAN",
           "NISSAN X-TRAIL"
          ],
          [
           "NISSAN",
           "Nissan Juke"
          ],
          [
           "NISSAN",
           "Nissan Qashqai"
          ],
          [
           "NISSAN",
           "Nissan e-NV200"
          ],
          [
           "NISSAN",
           "QASHQAI"
          ],
          [
           "NISSAN",
           "QASHQAI / 1.3 / AUT."
          ],
          [
           "NISSAN",
           "X-TRAIL"
          ]
         ],
         "hovertemplate": "Make=%{customdata[0]}<br>Pool=RENAULT-NISSAN-MITSUBISHI<br>EnginePower=%{x}<br>Co2EmissionsWltp=%{y}<br>CarCount=%{marker.size}<br>CommercialName=%{customdata[1]}<extra></extra>",
         "legendgroup": "NISSAN",
         "marker": {
          "color": "#B6E880",
          "size": [
           1,
           10,
           3,
           8,
           1,
           8,
           1,
           1,
           2,
           1,
           1,
           6,
           19,
           2,
           2,
           2,
           2,
           16,
           1,
           1
          ],
          "sizemode": "area",
          "sizeref": 0.235,
          "symbol": "circle"
         },
         "mode": "markers",
         "name": "NISSAN",
         "orientation": "v",
         "showlegend": true,
         "type": "scatter",
         "x": [
          80,
          84,
          86.66666666666667,
          68.75,
          419,
          84,
          90,
          110,
          110,
          90,
          160,
          67.66666666666667,
          107.94736842105263,
          116,
          84,
          106.5,
          80,
          104,
          116,
          116
         ],
         "xaxis": "x12",
         "y": [
          0,
          135.9,
          0,
          131,
          316,
          139.375,
          0,
          0,
          0,
          0,
          0,
          130.5,
          145.57894736842104,
          155,
          134,
          159,
          0,
          146.125,
          159,
          162
         ],
         "yaxis": "y12"
        },
        {
         "customdata": [
          [
           "OPEL",
           "ASTRA"
          ],
          [
           "OPEL",
           "ASTRA SPORTS TOURER"
          ],
          [
           "OPEL",
           "ASTRA SPORTS TOURER+"
          ],
          [
           "OPEL",
           "ASTRA+"
          ],
          [
           "OPEL",
           "COMBO"
          ],
          [
           "OPEL",
           "COMBO LIFE"
          ],
          [
           "OPEL",
           "CORSA"
          ],
          [
           "OPEL",
           "CORSA / 1.2 /"
          ],
          [
           "OPEL",
           "CROSSLAND"
          ],
          [
           "OPEL",
           "CROSSLAND X"
          ],
          [
           "OPEL",
           "GRANDLAND X"
          ],
          [
           "OPEL",
           "INSIGNIA GRAND SPORT"
          ],
          [
           "OPEL",
           "INSIGNIA SPORTS TOURER"
          ],
          [
           "OPEL",
           "MOKKA"
          ],
          [
           "OPEL",
           "VIVARO"
          ],
          [
           "OPEL",
           "VIVARO / VIVARO LIFE / ZAFIRA LIFE"
          ],
          [
           "OPEL",
           "VIVARO ZAFIRA LIFE"
          ]
         ],
         "hovertemplate": "Make=%{customdata[0]}<br>Pool=STELLANTIS<br>EnginePower=%{x}<br>Co2EmissionsWltp=%{y}<br>CarCount=%{marker.size}<br>CommercialName=%{customdata[1]}<extra></extra>",
         "legendgroup": "OPEL",
         "marker": {
          "color": "#FF97FF",
          "size": [
           5,
           2,
           12,
           3,
           1,
           7,
           72,
           2,
           23,
           6,
           17,
           2,
           6,
           28,
           1,
           1,
           1
          ],
          "sizemode": "area",
          "sizeref": 0.235,
          "symbol": "circle"
         },
         "mode": "markers",
         "name": "OPEL",
         "orientation": "v",
         "showlegend": true,
         "type": "scatter",
         "x": [
          83.2,
          79,
          95.66666666666667,
          97,
          75,
          82.71428571428571,
          68.77777777777777,
          74,
          85,
          87.16666666666667,
          106.3529411764706,
          128,
          128,
          84.64285714285714,
          88,
          106,
          106
         ],
         "xaxis": "x9",
         "y": [
          118.6,
          117.5,
          124.83333333333333,
          118,
          142,
          143.28571428571428,
          97.52777777777777,
          119,
          131.17391304347825,
          131.33333333333334,
          122.41176470588235,
          125.5,
          130.33333333333334,
          98.57142857142857,
          168,
          186,
          187
         ],
         "yaxis": "y9"
        },
        {
         "customdata": [
          [
           "PEUGEOT",
           "108"
          ],
          [
           "PEUGEOT",
           "2008"
          ],
          [
           "PEUGEOT",
           "2008 / 1.2 /"
          ],
          [
           "PEUGEOT",
           "208"
          ],
          [
           "PEUGEOT",
           "3008"
          ],
          [
           "PEUGEOT",
           "3008-5008"
          ],
          [
           "PEUGEOT",
           "308"
          ],
          [
           "PEUGEOT",
           "5008"
          ],
          [
           "PEUGEOT",
           "508"
          ],
          [
           "PEUGEOT",
           "EXPERT"
          ],
          [
           "PEUGEOT",
           "EXPERT TRAVELLER"
          ],
          [
           "PEUGEOT",
           "N 2008"
          ],
          [
           "PEUGEOT",
           "N 3008"
          ],
          [
           "PEUGEOT",
           "N208"
          ],
          [
           "PEUGEOT",
           "N5008"
          ],
          [
           "PEUGEOT",
           "RIFTER"
          ],
          [
           "PEUGEOT",
           "Rifter"
          ],
          [
           "PEUGEOT",
           "TRAVELLER"
          ]
         ],
         "hovertemplate": "Make=%{customdata[0]}<br>Pool=STELLANTIS<br>EnginePower=%{x}<br>Co2EmissionsWltp=%{y}<br>CarCount=%{marker.size}<br>CommercialName=%{customdata[1]}<extra></extra>",
         "legendgroup": "PEUGEOT",
         "marker": {
          "color": "#FECB52",
          "size": [
           23,
           85,
           1,
           91,
           50,
           1,
           24,
           18,
           11,
           1,
           3,
           1,
           7,
           5,
           1,
           8,
           2,
           1
          ],
          "sizemode": "area",
          "sizeref": 0.235,
          "symbol": "circle"
         },
         "mode": "markers",
         "name": "PEUGEOT",
         "orientation": "v",
         "showlegend": true,
         "type": "scatter",
         "x": [
          53,
          87.56470588235294,
          74,
          68.41758241758242,
          105.72,
          96,
          94.125,
          105.77777777777777,
          107.36363636363636,
          106,
          105.66666666666667,
          96,
          96,
          74.2,
          96,
          82.5,
          96,
          88
         ],
         "xaxis": "x9",
         "y": [
          110.3913043478261,
          109.4,
          123,
          91.17582417582418,
          120.14,
          136,
          126.5,
          146.5,
          108.9090909090909,
          186,
          123.33333333333333,
          124,
          137.57142857142858,
          115.6,
          145,
          145.375,
          141.5,
          165
         ],
         "yaxis": "y9"
        },
        {
         "customdata": [
          [
           "PORSCHE",
           "718 BOXSTER SPYDER"
          ],
          [
           "PORSCHE",
           "718 Cayman GT4"
          ],
          [
           "PORSCHE",
           "911 CARRERA"
          ],
          [
           "PORSCHE",
           "911 CARRERA 4"
          ],
          [
           "PORSCHE",
           "911 TARGA 4S"
          ],
          [
           "PORSCHE",
           "911 Targa 4"
          ],
          [
           "PORSCHE",
           "CAYENNE"
          ],
          [
           "PORSCHE",
           "CAYENNE E-HYBRID"
          ],
          [
           "PORSCHE",
           "MACAN"
          ],
          [
           "PORSCHE",
           "MACAN GTS"
          ],
          [
           "PORSCHE",
           "MACAN S"
          ],
          [
           "PORSCHE",
           "PANAMERA GTS"
          ],
          [
           "PORSCHE",
           "PANAMERA TURBO S E-HYBRID"
          ],
          [
           "PORSCHE",
           "Panamera 4 E-Hybrid"
          ],
          [
           "PORSCHE",
           "TAYCAN 4"
          ],
          [
           "PORSCHE",
           "TAYCAN 4S"
          ],
          [
           "PORSCHE",
           "Taycan 4"
          ],
          [
           "PORSCHE",
           "Taycan 4S"
          ]
         ],
         "hovertemplate": "Make=%{customdata[0]}<br>Pool=VW-SAIC<br>EnginePower=%{x}<br>Co2EmissionsWltp=%{y}<br>CarCount=%{marker.size}<br>CommercialName=%{customdata[1]}<extra></extra>",
         "legendgroup": "PORSCHE",
         "marker": {
          "color": "#636efa",
          "size": [
           1,
           1,
           1,
           1,
           2,
           1,
           1,
           3,
           3,
           1,
           1,
           1,
           1,
           1,
           1,
           1,
           1,
           1
          ],
          "sizemode": "area",
          "sizeref": 0.235,
          "symbol": "circle"
         },
         "mode": "markers",
         "name": "PORSCHE",
         "orientation": "v",
         "showlegend": true,
         "type": "scatter",
         "x": [
          309,
          309,
          283,
          283,
          331,
          283,
          250,
          250,
          185,
          324,
          280,
          353,
          420,
          243,
          140,
          140,
          320,
          360
         ],
         "xaxis": "x10",
         "y": [
          242,
          242,
          235,
          240,
          245.5,
          240,
          255,
          75.33333333333333,
          234.33333333333334,
          257,
          254,
          286,
          66,
          48,
          0,
          0,
          0,
          0
         ],
         "yaxis": "y10"
        },
        {
         "customdata": [
          [
           "RENAULT",
           "ARKANA"
          ],
          [
           "RENAULT",
           "ARKANA / MEGANE CONQUEST"
          ],
          [
           "RENAULT",
           "ARKANA E-TECH"
          ],
          [
           "RENAULT",
           "ARKANA E-TECH / MEGANE CONQUEST E-TECH"
          ],
          [
           "RENAULT",
           "CAPTUR"
          ],
          [
           "RENAULT",
           "CAPTUR / 1.0 /"
          ],
          [
           "RENAULT",
           "CAPTUR / 1.3 / 16V"
          ],
          [
           "RENAULT",
           "CAPTUR E-TECH HYBRID"
          ],
          [
           "RENAULT",
           "CAPTUR E-TECH PLUG-IN HY"
          ],
          [
           "RENAULT",
           "CAPTUR E-TECH PLUG-IN HYBRID"
          ],
          [
           "RENAULT",
           "CLIO"
          ],
          [
           "RENAULT",
           "CLIO / 0.9 / TCE"
          ],
          [
           "RENAULT",
           "CLIO / 1.0 /"
          ],
          [
           "RENAULT",
           "CLIO E-TECH HYBRID"
          ],
          [
           "RENAULT",
           "ESPACE"
          ],
          [
           "RENAULT",
           "GRAND SCENIC"
          ],
          [
           "RENAULT",
           "KADJAR"
          ],
          [
           "RENAULT",
           "KANGOO"
          ],
          [
           "RENAULT",
           "KOLEOS"
          ],
          [
           "RENAULT",
           "MEGANE"
          ],
          [
           "RENAULT",
           "MEGANE E-TECH PLUG-IN HYBRID"
          ],
          [
           "RENAULT",
           "SCENIC"
          ],
          [
           "RENAULT",
           "TALISMAN"
          ],
          [
           "RENAULT",
           "TRAFFIC"
          ],
          [
           "RENAULT",
           "TRAFIC"
          ],
          [
           "RENAULT",
           "TWINGO"
          ],
          [
           "RENAULT",
           "ZOE"
          ]
         ],
         "hovertemplate": "Make=%{customdata[0]}<br>Pool=RENAULT-NISSAN-MITSUBISHI<br>EnginePower=%{x}<br>Co2EmissionsWltp=%{y}<br>CarCount=%{marker.size}<br>CommercialName=%{customdata[1]}<extra></extra>",
         "legendgroup": "RENAULT",
         "marker": {
          "color": "#EF553B",
          "size": [
           11,
           1,
           11,
           5,
           54,
           1,
           1,
           3,
           1,
           3,
           94,
           1,
           1,
           11,
           2,
           1,
           13,
           2,
           2,
           34,
           1,
           9,
           3,
           1,
           1,
           30,
           39
          ],
          "sizemode": "area",
          "sizeref": 0.235,
          "symbol": "circle"
         },
         "mode": "markers",
         "name": "RENAULT",
         "orientation": "v",
         "showlegend": true,
         "type": "scatter",
         "x": [
          93.72727272727273,
          103,
          69,
          69,
          82.18518518518519,
          67,
          103,
          69,
          68,
          68,
          65.77659574468085,
          66,
          67,
          67,
          139,
          103,
          92.6923076923077,
          70,
          113,
          94.61764705882354,
          67,
          97.77777777777777,
          127.33333333333333,
          110,
          110,
          40.36666666666667,
          53.97435897435897
         ],
         "xaxis": "x12",
         "y": [
          126.27272727272727,
          135,
          111.36363636363636,
          112.4,
          129.12962962962962,
          133,
          131,
          111.33333333333333,
          32,
          33.666666666666664,
          114.67021276595744,
          136,
          119,
          99.27272727272727,
          170,
          148,
          135.30769230769232,
          142.5,
          157.5,
          126.32352941176471,
          29,
          149.33333333333334,
          154.66666666666666,
          187,
          191,
          58.766666666666666,
          0
         ],
         "yaxis": "y12"
        },
        {
         "customdata": [
          [
           "ROLLS-ROYCE",
           "GHOST"
          ]
         ],
         "hovertemplate": "Make=%{customdata[0]}<br>Pool=BMW<br>EnginePower=%{x}<br>Co2EmissionsWltp=%{y}<br>CarCount=%{marker.size}<br>CommercialName=%{customdata[1]}<extra></extra>",
         "legendgroup": "ROLLS-ROYCE",
         "marker": {
          "color": "#00cc96",
          "size": [
           1
          ],
          "sizemode": "area",
          "sizeref": 0.235,
          "symbol": "circle"
         },
         "mode": "markers",
         "name": "ROLLS-ROYCE",
         "orientation": "v",
         "showlegend": true,
         "type": "scatter",
         "x": [
          420
         ],
         "xaxis": "x11",
         "y": [
          357
         ],
         "yaxis": "y11"
        },
        {
         "customdata": [
          [
           "SEAT",
           "ALHAMBRA"
          ],
          [
           "SEAT",
           "ARONA"
          ],
          [
           "SEAT",
           "ATECA"
          ],
          [
           "SEAT",
           "CUPRA ATECA"
          ],
          [
           "SEAT",
           "CUPRA LEON"
          ],
          [
           "SEAT",
           "IBIZA"
          ],
          [
           "SEAT",
           "LEON"
          ],
          [
           "SEAT",
           "LEON SP / 1.5 / TSI"
          ],
          [
           "SEAT",
           "LEON SP E-HYBRID150"
          ],
          [
           "SEAT",
           "LEON SPORTSTOURER"
          ],
          [
           "SEAT",
           "MII"
          ],
          [
           "SEAT",
           "SEAT ATECA"
          ],
          [
           "SEAT",
           "SEAT LEON"
          ],
          [
           "SEAT",
           "SEAT LEON SP"
          ],
          [
           "SEAT",
           "SEAT LEON SP E-HYBRID150"
          ],
          [
           "SEAT",
           "TARRACO"
          ]
         ],
         "hovertemplate": "Make=%{customdata[0]}<br>Pool=VW-SAIC<br>EnginePower=%{x}<br>Co2EmissionsWltp=%{y}<br>CarCount=%{marker.size}<br>CommercialName=%{customdata[1]}<extra></extra>",
         "legendgroup": "SEAT",
         "marker": {
          "color": "#ab63fa",
          "size": [
           3,
           41,
           10,
           1,
           1,
           40,
           4,
           1,
           1,
           6,
           2,
           14,
           6,
           11,
           2,
           14
          ],
          "sizemode": "area",
          "sizeref": 0.235,
          "symbol": "circle"
         },
         "mode": "markers",
         "name": "SEAT",
         "orientation": "v",
         "showlegend": true,
         "type": "scatter",
         "x": [
          110,
          78.73170731707317,
          106.77777777777777,
          221,
          110,
          76.325,
          106.5,
          96,
          110,
          98.4,
          61,
          112.14285714285714,
          98.83333333333333,
          99.81818181818181,
          110,
          122.71428571428571
         ],
         "xaxis": "x10",
         "y": [
          185,
          126.53658536585365,
          152.55555555555554,
          198,
          30,
          121.35,
          123.25,
          128,
          27,
          128.6,
          0,
          150.35714285714286,
          123.16666666666667,
          128,
          26.5,
          146.28571428571428
         ],
         "yaxis": "y10"
        },
        {
         "customdata": [
          [
           "SKODA",
           "ENYAQ"
          ],
          [
           "SKODA",
           "ENYAQ 60"
          ],
          [
           "SKODA",
           "ENYAQ 80"
          ],
          [
           "SKODA",
           "FABIA"
          ],
          [
           "SKODA",
           "KAMIQ"
          ],
          [
           "SKODA",
           "KAROQ"
          ],
          [
           "SKODA",
           "KAROQ / 1.5 / TSI"
          ],
          [
           "SKODA",
           "KODIAQ"
          ],
          [
           "SKODA",
           "OCTAVIA"
          ],
          [
           "SKODA",
           "OCTAVIA RS"
          ],
          [
           "SKODA",
           "SCALA"
          ],
          [
           "SKODA",
           "SUPERB"
          ]
         ],
         "hovertemplate": "Make=%{customdata[0]}<br>Pool=VW-SAIC<br>EnginePower=%{x}<br>Co2EmissionsWltp=%{y}<br>CarCount=%{marker.size}<br>CommercialName=%{customdata[1]}<extra></extra>",
         "legendgroup": "SKODA",
         "marker": {
          "color": "#FFA15A",
          "size": [
           1,
           3,
           8,
           42,
           42,
           30,
           1,
           25,
           55,
           7,
           22,
           15
          ],
          "sizemode": "area",
          "sizeref": 0.235,
          "symbol": "circle"
         },
         "mode": "markers",
         "name": "SKODA",
         "orientation": "v",
         "showlegend": true,
         "type": "scatter",
         "x": [
          150,
          132,
          90,
          67.575,
          89.95,
          107.48275862068965,
          110,
          123.96,
          104.24,
          151.71428571428572,
          89,
          133.66666666666666
         ],
         "xaxis": "x10",
         "y": [
          0,
          0,
          0,
          123.175,
          130.15,
          147.27586206896552,
          142,
          160.96,
          108.04,
          141.85714285714286,
          125.25,
          146.26666666666668
         ],
         "yaxis": "y10"
        },
        {
         "customdata": [
          [
           "SMART",
           "EQ FORFOUR"
          ],
          [
           "SMART",
           "EQ FORTWO CABRIO"
          ],
          [
           "SMART",
           "EQ FORTWO COUPE"
          ],
          [
           "SMART",
           "EQ fortwo coupe"
          ]
         ],
         "hovertemplate": "Make=%{customdata[0]}<br>Pool=MERCEDES-BENZ<br>EnginePower=%{x}<br>Co2EmissionsWltp=%{y}<br>CarCount=%{marker.size}<br>CommercialName=%{customdata[1]}<extra></extra>",
         "legendgroup": "SMART",
         "marker": {
          "color": "#19d3f3",
          "size": [
           2,
           4,
           11,
           1
          ],
          "sizemode": "area",
          "sizeref": 0.235,
          "symbol": "circle"
         },
         "mode": "markers",
         "name": "SMART",
         "orientation": "v",
         "showlegend": true,
         "type": "scatter",
         "x": [
          50.5,
          41,
          41,
          60
         ],
         "xaxis": "x4",
         "y": [
          0,
          0,
          0,
          0
         ],
         "yaxis": "y4"
        },
        {
         "customdata": [
          [
           "SUBARU",
           "FORESTER"
          ],
          [
           "SUBARU",
           "FORESTER 2,0i-MHEV Premium"
          ],
          [
           "SUBARU",
           "IMPREZA"
          ],
          [
           "SUBARU",
           "OUTBACK"
          ],
          [
           "SUBARU",
           "XV"
          ]
         ],
         "hovertemplate": "Make=%{customdata[0]}<br>Pool=MAZDA-SUBARU-SUZUKI-TOYOTA<br>EnginePower=%{x}<br>Co2EmissionsWltp=%{y}<br>CarCount=%{marker.size}<br>CommercialName=%{customdata[1]}<extra></extra>",
         "legendgroup": "SUBARU",
         "marker": {
          "color": "#FF6692",
          "size": [
           1,
           1,
           1,
           3,
           3
          ],
          "sizemode": "area",
          "sizeref": 0.235,
          "symbol": "circle"
         },
         "mode": "markers",
         "name": "SUBARU",
         "orientation": "v",
         "showlegend": true,
         "type": "scatter",
         "x": [
          110,
          110,
          110,
          125.66666666666667,
          101.33333333333333
         ],
         "xaxis": "x3",
         "y": [
          185,
          185,
          174,
          193,
          180
         ],
         "yaxis": "y3"
        },
        {
         "customdata": [
          [
           "SUZUKI",
           "Across"
          ],
          [
           "SUZUKI",
           "IGNIS"
          ],
          [
           "SUZUKI",
           "SUZUKI SWACE"
          ],
          [
           "SUZUKI",
           "SWACE"
          ],
          [
           "SUZUKI",
           "SWIFT"
          ],
          [
           "SUZUKI",
           "SX4"
          ],
          [
           "SUZUKI",
           "Suzuki SWIFT"
          ],
          [
           "SUZUKI",
           "Suzuki SX4"
          ],
          [
           "SUZUKI",
           "Suzuki VITARA"
          ],
          [
           "SUZUKI",
           "VITARA"
          ]
         ],
         "hovertemplate": "Make=%{customdata[0]}<br>Pool=MAZDA-SUBARU-SUZUKI-TOYOTA<br>EnginePower=%{x}<br>Co2EmissionsWltp=%{y}<br>CarCount=%{marker.size}<br>CommercialName=%{customdata[1]}<extra></extra>",
         "legendgroup": "SUZUKI",
         "marker": {
          "color": "#B6E880",
          "size": [
           1,
           10,
           1,
           2,
           22,
           2,
           1,
           1,
           4,
           25
          ],
          "sizemode": "area",
          "sizeref": 0.235,
          "symbol": "circle"
         },
         "mode": "markers",
         "name": "SUZUKI",
         "orientation": "v",
         "showlegend": true,
         "type": "scatter",
         "x": [
          136,
          61,
          72,
          62.5,
          65.86363636363636,
          95,
          61,
          95,
          95,
          91.6
         ],
         "xaxis": "x3",
         "y": [
          22,
          116.7,
          103,
          103,
          113.27272727272727,
          126.5,
          106,
          128,
          130.25,
          127.92
         ],
         "yaxis": "y3"
        },
        {
         "customdata": [
          [
           "TESLA",
           "MODEL"
          ],
          [
           "TESLA",
           "MODEL 3"
          ],
          [
           "TESLA",
           "MODEL Y"
          ],
          [
           "TESLA",
           "Model 3"
          ],
          [
           "TESLA",
           "Model S"
          ],
          [
           "TESLA",
           "Model Y"
          ]
         ],
         "hovertemplate": "Make=%{customdata[0]}<br>Pool=TESLA<br>EnginePower=%{x}<br>Co2EmissionsWltp=%{y}<br>CarCount=%{marker.size}<br>CommercialName=%{customdata[1]}<extra></extra>",
         "legendgroup": "TESLA",
         "marker": {
          "color": "#FF97FF",
          "size": [
           1,
           52,
           8,
           5,
           1,
           5
          ],
          "sizemode": "area",
          "sizeref": 0.235,
          "symbol": "circle"
         },
         "mode": "markers",
         "name": "TESLA",
         "orientation": "v",
         "showlegend": true,
         "type": "scatter",
         "x": [
          366,
          144.01923076923077,
          209.875,
          222.6,
          219,
          270.8
         ],
         "xaxis": "x7",
         "y": [
          0,
          0,
          0,
          0,
          0,
          0
         ],
         "yaxis": "y7"
        },
        {
         "customdata": [
          [
           "TOYOTA",
           "AYGO"
          ],
          [
           "TOYOTA",
           "C-HR"
          ],
          [
           "TOYOTA",
           "C-HR / 2,0 / CVT HIBRID"
          ],
          [
           "TOYOTA",
           "C-HR 1,8 HYBRID 2WD"
          ],
          [
           "TOYOTA",
           "CAMRY"
          ],
          [
           "TOYOTA",
           "COROLLA"
          ],
          [
           "TOYOTA",
           "COROLLA 1,8 HYBRID"
          ],
          [
           "TOYOTA",
           "GR YARIS"
          ],
          [
           "TOYOTA",
           "PROACE"
          ],
          [
           "TOYOTA",
           "PROACE CITY VERSO"
          ],
          [
           "TOYOTA",
           "Proace"
          ],
          [
           "TOYOTA",
           "RAV4"
          ],
          [
           "TOYOTA",
           "TOYOTA AYGO"
          ],
          [
           "TOYOTA",
           "TOYOTA C-HR"
          ],
          [
           "TOYOTA",
           "TOYOTA CAMRY"
          ],
          [
           "TOYOTA",
           "TOYOTA COROLLA"
          ],
          [
           "TOYOTA",
           "TOYOTA HIGHLANDER"
          ],
          [
           "TOYOTA",
           "TOYOTA LAND CRUISER 150"
          ],
          [
           "TOYOTA",
           "TOYOTA RAV 4"
          ],
          [
           "TOYOTA",
           "TOYOTA RAV4"
          ],
          [
           "TOYOTA",
           "TOYOTA YARIS"
          ],
          [
           "TOYOTA",
           "TOYOTA YARIS CROSS"
          ],
          [
           "TOYOTA",
           "YARIS"
          ],
          [
           "TOYOTA",
           "YARIS CROSS 1,5 2WD"
          ],
          [
           "TOYOTA",
           "YARIS CROSS HSD 4WD"
          ]
         ],
         "hovertemplate": "Make=%{customdata[0]}<br>Pool=MAZDA-SUBARU-SUZUKI-TOYOTA<br>EnginePower=%{x}<br>Co2EmissionsWltp=%{y}<br>CarCount=%{marker.size}<br>CommercialName=%{customdata[1]}<extra></extra>",
         "legendgroup": "TOYOTA",
         "marker": {
          "color": "#FECB52",
          "size": [
           16,
           22,
           1,
           2,
           4,
           36,
           1,
           2,
           9,
           3,
           1,
           17,
           19,
           24,
           1,
           27,
           2,
           1,
           1,
           21,
           37,
           9,
           40,
           1,
           1
          ],
          "sizemode": "area",
          "sizeref": 0.235,
          "symbol": "circle"
         },
         "mode": "markers",
         "name": "TOYOTA",
         "orientation": "v",
         "showlegend": true,
         "type": "scatter",
         "x": [
          53,
          79.27272727272727,
          112,
          72,
          131,
          83.61111111111111,
          72,
          192,
          105.11111111111111,
          96,
          100,
          131.64705882352942,
          53,
          83.66666666666667,
          131,
          80.37037037037037,
          140,
          150,
          136,
          138.38095238095238,
          69.13513513513513,
          70.66666666666667,
          71.075,
          92,
          68
         ],
         "xaxis": "x3",
         "y": [
          113.8125,
          112.31818181818181,
          120,
          110,
          122.75,
          109,
          101,
          186,
          171.11111111111111,
          143.66666666666666,
          0,
          114.29411764705883,
          114,
          113.20833333333333,
          125,
          111.51851851851852,
          153.5,
          251,
          22,
          86.47619047619048,
          95.89189189189189,
          109.11111111111111,
          98,
          133,
          115
         ],
         "yaxis": "y3"
        },
        {
         "customdata": [
          [
           "VOLKSWAGEN",
           "ARTEON"
          ],
          [
           "VOLKSWAGEN",
           "CADDY"
          ],
          [
           "VOLKSWAGEN",
           "CALIFORNIA BEACH"
          ],
          [
           "VOLKSWAGEN",
           "CRAFTER"
          ],
          [
           "VOLKSWAGEN",
           "GOLF"
          ],
          [
           "VOLKSWAGEN",
           "GOLF GTE"
          ],
          [
           "VOLKSWAGEN",
           "ID.3 PRO 107 KW"
          ],
          [
           "VOLKSWAGEN",
           "ID.3 PRO 150 KW"
          ],
          [
           "VOLKSWAGEN",
           "ID.3 PRO 150KW"
          ],
          [
           "VOLKSWAGEN",
           "ID.3 PRO S 150 KW"
          ],
          [
           "VOLKSWAGEN",
           "ID.3 PRO S 150KW"
          ],
          [
           "VOLKSWAGEN",
           "ID.3 PURE 110KW"
          ],
          [
           "VOLKSWAGEN",
           "ID.4"
          ],
          [
           "VOLKSWAGEN",
           "ID.4 GTX 220 KW"
          ],
          [
           "VOLKSWAGEN",
           "ID.4 PRO 150 KW"
          ],
          [
           "VOLKSWAGEN",
           "ID.4 PRO 150KW"
          ],
          [
           "VOLKSWAGEN",
           "ID.4 PURE 109 KW"
          ],
          [
           "VOLKSWAGEN",
           "KOMBI"
          ],
          [
           "VOLKSWAGEN",
           "MULTIVAN"
          ],
          [
           "VOLKSWAGEN",
           "PASSAT"
          ],
          [
           "VOLKSWAGEN",
           "POLO"
          ],
          [
           "VOLKSWAGEN",
           "POLO / 1.0 / TSI"
          ],
          [
           "VOLKSWAGEN",
           "T-CROSS"
          ],
          [
           "VOLKSWAGEN",
           "T-CROSS / 1.0 / TSI"
          ],
          [
           "VOLKSWAGEN",
           "T-ROC"
          ],
          [
           "VOLKSWAGEN",
           "T-ROC / 2.0 / TDI"
          ],
          [
           "VOLKSWAGEN",
           "T-ROC / 2.0 / TDI 4M AUT."
          ],
          [
           "VOLKSWAGEN",
           "TAIGO"
          ],
          [
           "VOLKSWAGEN",
           "TIGUAN"
          ],
          [
           "VOLKSWAGEN",
           "TOUAREG"
          ],
          [
           "VOLKSWAGEN",
           "TOUAREG EHYBRID"
          ],
          [
           "VOLKSWAGEN",
           "TOUAREG R"
          ],
          [
           "VOLKSWAGEN",
           "TOURAN"
          ],
          [
           "VOLKSWAGEN",
           "TRANSPORTER / 2.0 / TDI 4M AUT."
          ],
          [
           "VOLKSWAGEN",
           "UP"
          ],
          [
           "VOLKSWAGEN",
           "UP!"
          ]
         ],
         "hovertemplate": "Make=%{customdata[0]}<br>Pool=VW-SAIC<br>EnginePower=%{x}<br>Co2EmissionsWltp=%{y}<br>CarCount=%{marker.size}<br>CommercialName=%{customdata[1]}<extra></extra>",
         "legendgroup": "VOLKSWAGEN",
         "marker": {
          "color": "#636efa",
          "size": [
           4,
           11,
           1,
           1,
           92,
           7,
           4,
           5,
           6,
           1,
           2,
           1,
           1,
           1,
           14,
           8,
           1,
           14,
           9,
           41,
           58,
           1,
           59,
           1,
           81,
           1,
           1,
           2,
           72,
           3,
           2,
           1,
           13,
           1,
           1,
           35
          ],
          "sizemode": "area",
          "sizeref": 0.235,
          "symbol": "circle"
         },
         "mode": "markers",
         "name": "VOLKSWAGEN",
         "orientation": "v",
         "showlegend": true,
         "type": "scatter",
         "x": [
          147,
          76.9,
          146,
          130,
          112.31818181818181,
          110,
          79.25,
          102,
          70,
          70,
          70,
          70,
          150,
          77,
          121.42857142857143,
          70,
          109,
          95.5,
          117.33333333333333,
          113.66666666666667,
          69.91379310344827,
          81,
          80.96551724137932,
          70,
          103.13333333333334,
          85,
          110,
          95.5,
          117.6376811594203,
          196.66666666666666,
          250,
          250,
          108.33333333333333,
          110,
          61,
          54.42857142857143
         ],
         "xaxis": "x10",
         "y": [
          154,
          132.6,
          244,
          303,
          126.42045454545455,
          26,
          0,
          0,
          0,
          0,
          0,
          0,
          0,
          0,
          0,
          0,
          0,
          194.71428571428572,
          199.77777777777777,
          112.94871794871794,
          123.72413793103448,
          127,
          140.1551724137931,
          132,
          144.24,
          122,
          154,
          137,
          154.15942028985506,
          221.66666666666666,
          63.5,
          64,
          146.75,
          215,
          0,
          59.48571428571429
         ],
         "yaxis": "y10"
        },
        {
         "customdata": [
          [
           "VOLKSWAGEN  VW",
           "CADDY"
          ],
          [
           "VOLKSWAGEN  VW",
           "GOLF"
          ],
          [
           "VOLKSWAGEN  VW",
           "PASSAT"
          ],
          [
           "VOLKSWAGEN  VW",
           "T-ROC"
          ],
          [
           "VOLKSWAGEN  VW",
           "TIGUAN"
          ],
          [
           "VOLKSWAGEN  VW",
           "TOURAN"
          ]
         ],
         "hovertemplate": "Make=%{customdata[0]}<br>Pool=VW-SAIC<br>EnginePower=%{x}<br>Co2EmissionsWltp=%{y}<br>CarCount=%{marker.size}<br>CommercialName=%{customdata[1]}<extra></extra>",
         "legendgroup": "VOLKSWAGEN  VW",
         "marker": {
          "color": "#EF553B",
          "size": [
           11,
           92,
           41,
           81,
           72,
           13
          ],
          "sizemode": "area",
          "sizeref": 0.235,
          "symbol": "circle"
         },
         "mode": "markers",
         "name": "VOLKSWAGEN  VW",
         "orientation": "v",
         "showlegend": true,
         "type": "scatter",
         "x": [
          90,
          105.33333333333333,
          110,
          117.5,
          110,
          110
         ],
         "xaxis": "x10",
         "y": [
          130,
          127.66666666666667,
          139.5,
          153.5,
          154.5,
          150
         ],
         "yaxis": "y10"
        },
        {
         "customdata": [
          [
           "VOLKSWAGEN,VW",
           "GOLF"
          ],
          [
           "VOLKSWAGEN,VW",
           "T-ROC"
          ],
          [
           "VOLKSWAGEN,VW",
           "TIGUAN"
          ]
         ],
         "hovertemplate": "Make=%{customdata[0]}<br>Pool=VW-SAIC<br>EnginePower=%{x}<br>Co2EmissionsWltp=%{y}<br>CarCount=%{marker.size}<br>CommercialName=%{customdata[1]}<extra></extra>",
         "legendgroup": "VOLKSWAGEN,VW",
         "marker": {
          "color": "#00cc96",
          "size": [
           92,
           81,
           72
          ],
          "sizemode": "area",
          "sizeref": 0.235,
          "symbol": "circle"
         },
         "mode": "markers",
         "name": "VOLKSWAGEN,VW",
         "orientation": "v",
         "showlegend": true,
         "type": "scatter",
         "x": [
          96,
          81,
          110
         ],
         "xaxis": "x10",
         "y": [
          111,
          138,
          150
         ],
         "yaxis": "y10"
        },
        {
         "customdata": [
          [
           "VOLKSWAGEN. VW",
           "T-CROSS"
          ]
         ],
         "hovertemplate": "Make=%{customdata[0]}<br>Pool=VW-SAIC<br>EnginePower=%{x}<br>Co2EmissionsWltp=%{y}<br>CarCount=%{marker.size}<br>CommercialName=%{customdata[1]}<extra></extra>",
         "legendgroup": "VOLKSWAGEN. VW",
         "marker": {
          "color": "#ab63fa",
          "size": [
           59
          ],
          "sizemode": "area",
          "sizeref": 0.235,
          "symbol": "circle"
         },
         "mode": "markers",
         "name": "VOLKSWAGEN. VW",
         "orientation": "v",
         "showlegend": true,
         "type": "scatter",
         "x": [
          81
         ],
         "xaxis": "x10",
         "y": [
          146
         ],
         "yaxis": "y10"
        },
        {
         "customdata": [
          [
           "ŠKODA",
           "FABIA"
          ],
          [
           "ŠKODA",
           "KAMIQ"
          ],
          [
           "ŠKODA",
           "KAROQ"
          ],
          [
           "ŠKODA",
           "OCTAVIA"
          ],
          [
           "ŠKODA",
           "SCALA"
          ]
         ],
         "hovertemplate": "Make=%{customdata[0]}<br>Pool=VW-SAIC<br>EnginePower=%{x}<br>Co2EmissionsWltp=%{y}<br>CarCount=%{marker.size}<br>CommercialName=%{customdata[1]}<extra></extra>",
         "legendgroup": "ŠKODA",
         "marker": {
          "color": "#FFA15A",
          "size": [
           42,
           42,
           30,
           55,
           22
          ],
          "sizemode": "area",
          "sizeref": 0.235,
          "symbol": "circle"
         },
         "mode": "markers",
         "name": "ŠKODA",
         "orientation": "v",
         "showlegend": true,
         "type": "scatter",
         "x": [
          70,
          90,
          110,
          89.2,
          88.83333333333333
         ],
         "xaxis": "x10",
         "y": [
          133,
          135.5,
          144,
          114.2,
          123.5
         ],
         "yaxis": "y10"
        }
       ],
       "layout": {
        "annotations": [
         {
          "font": {},
          "showarrow": false,
          "text": "TATA-MOTORS",
          "x": 0.1175,
          "xanchor": "center",
          "xref": "paper",
          "y": 0.2866666666666666,
          "yanchor": "bottom",
          "yref": "paper"
         },
         {
          "font": {},
          "showarrow": false,
          "text": "KIA",
          "x": 0.3725,
          "xanchor": "center",
          "xref": "paper",
          "y": 0.2866666666666666,
          "yanchor": "bottom",
          "yref": "paper"
         },
         {
          "font": {},
          "showarrow": false,
          "text": "MAZDA-SUBARU-SUZUKI-TOYOTA",
          "x": 0.6275,
          "xanchor": "center",
          "xref": "paper",
          "y": 0.2866666666666666,
          "yanchor": "bottom",
          "yref": "paper"
         },
         {
          "font": {},
          "showarrow": false,
          "text": "MERCEDES-BENZ",
          "x": 0.8824999999999998,
          "xanchor": "center",
          "xref": "paper",
          "y": 0.2866666666666666,
          "yanchor": "bottom",
          "yref": "paper"
         },
         {
          "font": {},
          "showarrow": false,
          "text": "FORD",
          "x": 0.1175,
          "xanchor": "center",
          "xref": "paper",
          "y": 0.6433333333333333,
          "yanchor": "bottom",
          "yref": "paper"
         },
         {
          "font": {},
          "showarrow": false,
          "text": "HONDA-GROUP",
          "x": 0.3725,
          "xanchor": "center",
          "xref": "paper",
          "y": 0.6433333333333333,
          "yanchor": "bottom",
          "yref": "paper"
         },
         {
          "font": {},
          "showarrow": false,
          "text": "TESLA",
          "x": 0.6275,
          "xanchor": "center",
          "xref": "paper",
          "y": 0.6433333333333333,
          "yanchor": "bottom",
          "yref": "paper"
         },
         {
          "font": {},
          "showarrow": false,
          "text": "HYUNDAI",
          "x": 0.8824999999999998,
          "xanchor": "center",
          "xref": "paper",
          "y": 0.6433333333333333,
          "yanchor": "bottom",
          "yref": "paper"
         },
         {
          "font": {},
          "showarrow": false,
          "text": "STELLANTIS",
          "x": 0.1175,
          "xanchor": "center",
          "xref": "paper",
          "y": 0.9999999999999999,
          "yanchor": "bottom",
          "yref": "paper"
         },
         {
          "font": {},
          "showarrow": false,
          "text": "VW-SAIC",
          "x": 0.3725,
          "xanchor": "center",
          "xref": "paper",
          "y": 0.9999999999999999,
          "yanchor": "bottom",
          "yref": "paper"
         },
         {
          "font": {},
          "showarrow": false,
          "text": "BMW",
          "x": 0.6275,
          "xanchor": "center",
          "xref": "paper",
          "y": 0.9999999999999999,
          "yanchor": "bottom",
          "yref": "paper"
         },
         {
          "font": {},
          "showarrow": false,
          "text": "RENAULT-NISSAN-MITSUBISHI",
          "x": 0.8824999999999998,
          "xanchor": "center",
          "xref": "paper",
          "y": 0.9999999999999999,
          "yanchor": "bottom",
          "yref": "paper"
         }
        ],
        "legend": {
         "itemsizing": "constant",
         "title": {
          "text": "Make"
         },
         "tracegroupgap": 0
        },
        "margin": {
         "t": 60
        },
        "template": {
         "data": {
          "bar": [
           {
            "error_x": {
             "color": "#2a3f5f"
            },
            "error_y": {
             "color": "#2a3f5f"
            },
            "marker": {
             "line": {
              "color": "#E5ECF6",
              "width": 0.5
             },
             "pattern": {
              "fillmode": "overlay",
              "size": 10,
              "solidity": 0.2
             }
            },
            "type": "bar"
           }
          ],
          "barpolar": [
           {
            "marker": {
             "line": {
              "color": "#E5ECF6",
              "width": 0.5
             },
             "pattern": {
              "fillmode": "overlay",
              "size": 10,
              "solidity": 0.2
             }
            },
            "type": "barpolar"
           }
          ],
          "carpet": [
           {
            "aaxis": {
             "endlinecolor": "#2a3f5f",
             "gridcolor": "white",
             "linecolor": "white",
             "minorgridcolor": "white",
             "startlinecolor": "#2a3f5f"
            },
            "baxis": {
             "endlinecolor": "#2a3f5f",
             "gridcolor": "white",
             "linecolor": "white",
             "minorgridcolor": "white",
             "startlinecolor": "#2a3f5f"
            },
            "type": "carpet"
           }
          ],
          "choropleth": [
           {
            "colorbar": {
             "outlinewidth": 0,
             "ticks": ""
            },
            "type": "choropleth"
           }
          ],
          "contour": [
           {
            "colorbar": {
             "outlinewidth": 0,
             "ticks": ""
            },
            "colorscale": [
             [
              0,
              "#0d0887"
             ],
             [
              0.1111111111111111,
              "#46039f"
             ],
             [
              0.2222222222222222,
              "#7201a8"
             ],
             [
              0.3333333333333333,
              "#9c179e"
             ],
             [
              0.4444444444444444,
              "#bd3786"
             ],
             [
              0.5555555555555556,
              "#d8576b"
             ],
             [
              0.6666666666666666,
              "#ed7953"
             ],
             [
              0.7777777777777778,
              "#fb9f3a"
             ],
             [
              0.8888888888888888,
              "#fdca26"
             ],
             [
              1,
              "#f0f921"
             ]
            ],
            "type": "contour"
           }
          ],
          "contourcarpet": [
           {
            "colorbar": {
             "outlinewidth": 0,
             "ticks": ""
            },
            "type": "contourcarpet"
           }
          ],
          "heatmap": [
           {
            "colorbar": {
             "outlinewidth": 0,
             "ticks": ""
            },
            "colorscale": [
             [
              0,
              "#0d0887"
             ],
             [
              0.1111111111111111,
              "#46039f"
             ],
             [
              0.2222222222222222,
              "#7201a8"
             ],
             [
              0.3333333333333333,
              "#9c179e"
             ],
             [
              0.4444444444444444,
              "#bd3786"
             ],
             [
              0.5555555555555556,
              "#d8576b"
             ],
             [
              0.6666666666666666,
              "#ed7953"
             ],
             [
              0.7777777777777778,
              "#fb9f3a"
             ],
             [
              0.8888888888888888,
              "#fdca26"
             ],
             [
              1,
              "#f0f921"
             ]
            ],
            "type": "heatmap"
           }
          ],
          "heatmapgl": [
           {
            "colorbar": {
             "outlinewidth": 0,
             "ticks": ""
            },
            "colorscale": [
             [
              0,
              "#0d0887"
             ],
             [
              0.1111111111111111,
              "#46039f"
             ],
             [
              0.2222222222222222,
              "#7201a8"
             ],
             [
              0.3333333333333333,
              "#9c179e"
             ],
             [
              0.4444444444444444,
              "#bd3786"
             ],
             [
              0.5555555555555556,
              "#d8576b"
             ],
             [
              0.6666666666666666,
              "#ed7953"
             ],
             [
              0.7777777777777778,
              "#fb9f3a"
             ],
             [
              0.8888888888888888,
              "#fdca26"
             ],
             [
              1,
              "#f0f921"
             ]
            ],
            "type": "heatmapgl"
           }
          ],
          "histogram": [
           {
            "marker": {
             "pattern": {
              "fillmode": "overlay",
              "size": 10,
              "solidity": 0.2
             }
            },
            "type": "histogram"
           }
          ],
          "histogram2d": [
           {
            "colorbar": {
             "outlinewidth": 0,
             "ticks": ""
            },
            "colorscale": [
             [
              0,
              "#0d0887"
             ],
             [
              0.1111111111111111,
              "#46039f"
             ],
             [
              0.2222222222222222,
              "#7201a8"
             ],
             [
              0.3333333333333333,
              "#9c179e"
             ],
             [
              0.4444444444444444,
              "#bd3786"
             ],
             [
              0.5555555555555556,
              "#d8576b"
             ],
             [
              0.6666666666666666,
              "#ed7953"
             ],
             [
              0.7777777777777778,
              "#fb9f3a"
             ],
             [
              0.8888888888888888,
              "#fdca26"
             ],
             [
              1,
              "#f0f921"
             ]
            ],
            "type": "histogram2d"
           }
          ],
          "histogram2dcontour": [
           {
            "colorbar": {
             "outlinewidth": 0,
             "ticks": ""
            },
            "colorscale": [
             [
              0,
              "#0d0887"
             ],
             [
              0.1111111111111111,
              "#46039f"
             ],
             [
              0.2222222222222222,
              "#7201a8"
             ],
             [
              0.3333333333333333,
              "#9c179e"
             ],
             [
              0.4444444444444444,
              "#bd3786"
             ],
             [
              0.5555555555555556,
              "#d8576b"
             ],
             [
              0.6666666666666666,
              "#ed7953"
             ],
             [
              0.7777777777777778,
              "#fb9f3a"
             ],
             [
              0.8888888888888888,
              "#fdca26"
             ],
             [
              1,
              "#f0f921"
             ]
            ],
            "type": "histogram2dcontour"
           }
          ],
          "mesh3d": [
           {
            "colorbar": {
             "outlinewidth": 0,
             "ticks": ""
            },
            "type": "mesh3d"
           }
          ],
          "parcoords": [
           {
            "line": {
             "colorbar": {
              "outlinewidth": 0,
              "ticks": ""
             }
            },
            "type": "parcoords"
           }
          ],
          "pie": [
           {
            "automargin": true,
            "type": "pie"
           }
          ],
          "scatter": [
           {
            "fillpattern": {
             "fillmode": "overlay",
             "size": 10,
             "solidity": 0.2
            },
            "type": "scatter"
           }
          ],
          "scatter3d": [
           {
            "line": {
             "colorbar": {
              "outlinewidth": 0,
              "ticks": ""
             }
            },
            "marker": {
             "colorbar": {
              "outlinewidth": 0,
              "ticks": ""
             }
            },
            "type": "scatter3d"
           }
          ],
          "scattercarpet": [
           {
            "marker": {
             "colorbar": {
              "outlinewidth": 0,
              "ticks": ""
             }
            },
            "type": "scattercarpet"
           }
          ],
          "scattergeo": [
           {
            "marker": {
             "colorbar": {
              "outlinewidth": 0,
              "ticks": ""
             }
            },
            "type": "scattergeo"
           }
          ],
          "scattergl": [
           {
            "marker": {
             "colorbar": {
              "outlinewidth": 0,
              "ticks": ""
             }
            },
            "type": "scattergl"
           }
          ],
          "scattermapbox": [
           {
            "marker": {
             "colorbar": {
              "outlinewidth": 0,
              "ticks": ""
             }
            },
            "type": "scattermapbox"
           }
          ],
          "scatterpolar": [
           {
            "marker": {
             "colorbar": {
              "outlinewidth": 0,
              "ticks": ""
             }
            },
            "type": "scatterpolar"
           }
          ],
          "scatterpolargl": [
           {
            "marker": {
             "colorbar": {
              "outlinewidth": 0,
              "ticks": ""
             }
            },
            "type": "scatterpolargl"
           }
          ],
          "scatterternary": [
           {
            "marker": {
             "colorbar": {
              "outlinewidth": 0,
              "ticks": ""
             }
            },
            "type": "scatterternary"
           }
          ],
          "surface": [
           {
            "colorbar": {
             "outlinewidth": 0,
             "ticks": ""
            },
            "colorscale": [
             [
              0,
              "#0d0887"
             ],
             [
              0.1111111111111111,
              "#46039f"
             ],
             [
              0.2222222222222222,
              "#7201a8"
             ],
             [
              0.3333333333333333,
              "#9c179e"
             ],
             [
              0.4444444444444444,
              "#bd3786"
             ],
             [
              0.5555555555555556,
              "#d8576b"
             ],
             [
              0.6666666666666666,
              "#ed7953"
             ],
             [
              0.7777777777777778,
              "#fb9f3a"
             ],
             [
              0.8888888888888888,
              "#fdca26"
             ],
             [
              1,
              "#f0f921"
             ]
            ],
            "type": "surface"
           }
          ],
          "table": [
           {
            "cells": {
             "fill": {
              "color": "#EBF0F8"
             },
             "line": {
              "color": "white"
             }
            },
            "header": {
             "fill": {
              "color": "#C8D4E3"
             },
             "line": {
              "color": "white"
             }
            },
            "type": "table"
           }
          ]
         },
         "layout": {
          "annotationdefaults": {
           "arrowcolor": "#2a3f5f",
           "arrowhead": 0,
           "arrowwidth": 1
          },
          "autotypenumbers": "strict",
          "coloraxis": {
           "colorbar": {
            "outlinewidth": 0,
            "ticks": ""
           }
          },
          "colorscale": {
           "diverging": [
            [
             0,
             "#8e0152"
            ],
            [
             0.1,
             "#c51b7d"
            ],
            [
             0.2,
             "#de77ae"
            ],
            [
             0.3,
             "#f1b6da"
            ],
            [
             0.4,
             "#fde0ef"
            ],
            [
             0.5,
             "#f7f7f7"
            ],
            [
             0.6,
             "#e6f5d0"
            ],
            [
             0.7,
             "#b8e186"
            ],
            [
             0.8,
             "#7fbc41"
            ],
            [
             0.9,
             "#4d9221"
            ],
            [
             1,
             "#276419"
            ]
           ],
           "sequential": [
            [
             0,
             "#0d0887"
            ],
            [
             0.1111111111111111,
             "#46039f"
            ],
            [
             0.2222222222222222,
             "#7201a8"
            ],
            [
             0.3333333333333333,
             "#9c179e"
            ],
            [
             0.4444444444444444,
             "#bd3786"
            ],
            [
             0.5555555555555556,
             "#d8576b"
            ],
            [
             0.6666666666666666,
             "#ed7953"
            ],
            [
             0.7777777777777778,
             "#fb9f3a"
            ],
            [
             0.8888888888888888,
             "#fdca26"
            ],
            [
             1,
             "#f0f921"
            ]
           ],
           "sequentialminus": [
            [
             0,
             "#0d0887"
            ],
            [
             0.1111111111111111,
             "#46039f"
            ],
            [
             0.2222222222222222,
             "#7201a8"
            ],
            [
             0.3333333333333333,
             "#9c179e"
            ],
            [
             0.4444444444444444,
             "#bd3786"
            ],
            [
             0.5555555555555556,
             "#d8576b"
            ],
            [
             0.6666666666666666,
             "#ed7953"
            ],
            [
             0.7777777777777778,
             "#fb9f3a"
            ],
            [
             0.8888888888888888,
             "#fdca26"
            ],
            [
             1,
             "#f0f921"
            ]
           ]
          },
          "colorway": [
           "#636efa",
           "#EF553B",
           "#00cc96",
           "#ab63fa",
           "#FFA15A",
           "#19d3f3",
           "#FF6692",
           "#B6E880",
           "#FF97FF",
           "#FECB52"
          ],
          "font": {
           "color": "#2a3f5f"
          },
          "geo": {
           "bgcolor": "white",
           "lakecolor": "white",
           "landcolor": "#E5ECF6",
           "showlakes": true,
           "showland": true,
           "subunitcolor": "white"
          },
          "hoverlabel": {
           "align": "left"
          },
          "hovermode": "closest",
          "mapbox": {
           "style": "light"
          },
          "paper_bgcolor": "white",
          "plot_bgcolor": "#E5ECF6",
          "polar": {
           "angularaxis": {
            "gridcolor": "white",
            "linecolor": "white",
            "ticks": ""
           },
           "bgcolor": "#E5ECF6",
           "radialaxis": {
            "gridcolor": "white",
            "linecolor": "white",
            "ticks": ""
           }
          },
          "scene": {
           "xaxis": {
            "backgroundcolor": "#E5ECF6",
            "gridcolor": "white",
            "gridwidth": 2,
            "linecolor": "white",
            "showbackground": true,
            "ticks": "",
            "zerolinecolor": "white"
           },
           "yaxis": {
            "backgroundcolor": "#E5ECF6",
            "gridcolor": "white",
            "gridwidth": 2,
            "linecolor": "white",
            "showbackground": true,
            "ticks": "",
            "zerolinecolor": "white"
           },
           "zaxis": {
            "backgroundcolor": "#E5ECF6",
            "gridcolor": "white",
            "gridwidth": 2,
            "linecolor": "white",
            "showbackground": true,
            "ticks": "",
            "zerolinecolor": "white"
           }
          },
          "shapedefaults": {
           "line": {
            "color": "#2a3f5f"
           }
          },
          "ternary": {
           "aaxis": {
            "gridcolor": "white",
            "linecolor": "white",
            "ticks": ""
           },
           "baxis": {
            "gridcolor": "white",
            "linecolor": "white",
            "ticks": ""
           },
           "bgcolor": "#E5ECF6",
           "caxis": {
            "gridcolor": "white",
            "linecolor": "white",
            "ticks": ""
           }
          },
          "title": {
           "x": 0.05
          },
          "xaxis": {
           "automargin": true,
           "gridcolor": "white",
           "linecolor": "white",
           "ticks": "",
           "title": {
            "standoff": 15
           },
           "zerolinecolor": "white",
           "zerolinewidth": 2
          },
          "yaxis": {
           "automargin": true,
           "gridcolor": "white",
           "linecolor": "white",
           "ticks": "",
           "title": {
            "standoff": 15
           },
           "zerolinecolor": "white",
           "zerolinewidth": 2
          }
         }
        },
        "xaxis": {
         "anchor": "y",
         "domain": [
          0,
          0.235
         ],
         "title": {
          "text": "EnginePower"
         }
        },
        "xaxis10": {
         "anchor": "y10",
         "domain": [
          0.255,
          0.49
         ],
         "matches": "x",
         "showticklabels": false
        },
        "xaxis11": {
         "anchor": "y11",
         "domain": [
          0.51,
          0.745
         ],
         "matches": "x",
         "showticklabels": false
        },
        "xaxis12": {
         "anchor": "y12",
         "domain": [
          0.7649999999999999,
          0.9999999999999999
         ],
         "matches": "x",
         "showticklabels": false
        },
        "xaxis2": {
         "anchor": "y2",
         "domain": [
          0.255,
          0.49
         ],
         "matches": "x",
         "title": {
          "text": "EnginePower"
         }
        },
        "xaxis3": {
         "anchor": "y3",
         "domain": [
          0.51,
          0.745
         ],
         "matches": "x",
         "title": {
          "text": "EnginePower"
         }
        },
        "xaxis4": {
         "anchor": "y4",
         "domain": [
          0.7649999999999999,
          0.9999999999999999
         ],
         "matches": "x",
         "title": {
          "text": "EnginePower"
         }
        },
        "xaxis5": {
         "anchor": "y5",
         "domain": [
          0,
          0.235
         ],
         "matches": "x",
         "showticklabels": false
        },
        "xaxis6": {
         "anchor": "y6",
         "domain": [
          0.255,
          0.49
         ],
         "matches": "x",
         "showticklabels": false
        },
        "xaxis7": {
         "anchor": "y7",
         "domain": [
          0.51,
          0.745
         ],
         "matches": "x",
         "showticklabels": false
        },
        "xaxis8": {
         "anchor": "y8",
         "domain": [
          0.7649999999999999,
          0.9999999999999999
         ],
         "matches": "x",
         "showticklabels": false
        },
        "xaxis9": {
         "anchor": "y9",
         "domain": [
          0,
          0.235
         ],
         "matches": "x",
         "showticklabels": false
        },
        "yaxis": {
         "anchor": "x",
         "domain": [
          0,
          0.2866666666666666
         ],
         "title": {
          "text": "Co2EmissionsWltp"
         }
        },
        "yaxis10": {
         "anchor": "x10",
         "domain": [
          0.7133333333333333,
          0.9999999999999999
         ],
         "matches": "y",
         "showticklabels": false
        },
        "yaxis11": {
         "anchor": "x11",
         "domain": [
          0.7133333333333333,
          0.9999999999999999
         ],
         "matches": "y",
         "showticklabels": false
        },
        "yaxis12": {
         "anchor": "x12",
         "domain": [
          0.7133333333333333,
          0.9999999999999999
         ],
         "matches": "y",
         "showticklabels": false
        },
        "yaxis2": {
         "anchor": "x2",
         "domain": [
          0,
          0.2866666666666666
         ],
         "matches": "y",
         "showticklabels": false
        },
        "yaxis3": {
         "anchor": "x3",
         "domain": [
          0,
          0.2866666666666666
         ],
         "matches": "y",
         "showticklabels": false
        },
        "yaxis4": {
         "anchor": "x4",
         "domain": [
          0,
          0.2866666666666666
         ],
         "matches": "y",
         "showticklabels": false
        },
        "yaxis5": {
         "anchor": "x5",
         "domain": [
          0.35666666666666663,
          0.6433333333333333
         ],
         "matches": "y",
         "title": {
          "text": "Co2EmissionsWltp"
         }
        },
        "yaxis6": {
         "anchor": "x6",
         "domain": [
          0.35666666666666663,
          0.6433333333333333
         ],
         "matches": "y",
         "showticklabels": false
        },
        "yaxis7": {
         "anchor": "x7",
         "domain": [
          0.35666666666666663,
          0.6433333333333333
         ],
         "matches": "y",
         "showticklabels": false
        },
        "yaxis8": {
         "anchor": "x8",
         "domain": [
          0.35666666666666663,
          0.6433333333333333
         ],
         "matches": "y",
         "showticklabels": false
        },
        "yaxis9": {
         "anchor": "x9",
         "domain": [
          0.7133333333333333,
          0.9999999999999999
         ],
         "matches": "y",
         "title": {
          "text": "Co2EmissionsWltp"
         }
        }
       }
      }
     },
     "metadata": {},
     "output_type": "display_data"
    }
   ],
   "source": [
    "cars.facetplot()"
   ]
  },
  {
   "cell_type": "code",
   "execution_count": null,
   "metadata": {},
   "outputs": [],
   "source": []
  },
  {
   "cell_type": "code",
   "execution_count": 10,
   "metadata": {},
   "outputs": [
    {
     "data": {
      "text/html": [
       "<style type=\"text/css\">\n",
       "#T_c3dca th {\n",
       "  background-color: steelblue;\n",
       "  color: white;\n",
       "}\n",
       "#T_c3dca tr:nth-of-type(odd) {\n",
       "  background-color: aliceblue;\n",
       "}\n",
       "#T_c3dca tr:nth-of-type(even) {\n",
       "  background-color: white;\n",
       "}\n",
       "</style>\n",
       "<table id=\"T_c3dca\">\n",
       "  <thead>\n",
       "    <tr>\n",
       "      <th class=\"index_name level0\" >Make</th>\n",
       "      <th id=\"T_c3dca_level0_col0\" class=\"col_heading level0 col0\" >TWINGO</th>\n",
       "      <th id=\"T_c3dca_level0_col1\" class=\"col_heading level0 col1\" >208</th>\n",
       "      <th id=\"T_c3dca_level0_col2\" class=\"col_heading level0 col2\" >PASSAT</th>\n",
       "      <th id=\"T_c3dca_level0_col3\" class=\"col_heading level0 col3\" >PASSAT</th>\n",
       "      <th id=\"T_c3dca_level0_col4\" class=\"col_heading level0 col4\" >C5</th>\n",
       "      <th id=\"T_c3dca_level0_col5\" class=\"col_heading level0 col5\" >YARIS</th>\n",
       "    </tr>\n",
       "  </thead>\n",
       "  <tbody>\n",
       "    <tr>\n",
       "      <th id=\"T_c3dca_level0_row0\" class=\"row_heading level0 row0\" >Pool</th>\n",
       "      <td id=\"T_c3dca_row0_col0\" class=\"data row0 col0\" >RENAULT-NISSAN-MITSUBISHI</td>\n",
       "      <td id=\"T_c3dca_row0_col1\" class=\"data row0 col1\" >STELLANTIS</td>\n",
       "      <td id=\"T_c3dca_row0_col2\" class=\"data row0 col2\" >VW-SAIC</td>\n",
       "      <td id=\"T_c3dca_row0_col3\" class=\"data row0 col3\" >VW-SAIC</td>\n",
       "      <td id=\"T_c3dca_row0_col4\" class=\"data row0 col4\" >STELLANTIS</td>\n",
       "      <td id=\"T_c3dca_row0_col5\" class=\"data row0 col5\" >MAZDA-SUBARU-SUZUKI-TOYOTA</td>\n",
       "    </tr>\n",
       "    <tr>\n",
       "      <th id=\"T_c3dca_level0_row1\" class=\"row_heading level0 row1\" >FuelConsumption</th>\n",
       "      <td id=\"T_c3dca_row1_col0\" class=\"data row1 col0\" >5.292101</td>\n",
       "      <td id=\"T_c3dca_row1_col1\" class=\"data row1 col1\" >5.034991</td>\n",
       "      <td id=\"T_c3dca_row1_col2\" class=\"data row1 col2\" >5.487723</td>\n",
       "      <td id=\"T_c3dca_row1_col3\" class=\"data row1 col3\" >5.000000</td>\n",
       "      <td id=\"T_c3dca_row1_col4\" class=\"data row1 col4\" >5.458152</td>\n",
       "      <td id=\"T_c3dca_row1_col5\" class=\"data row1 col5\" >4.242269</td>\n",
       "    </tr>\n",
       "    <tr>\n",
       "      <th id=\"T_c3dca_level0_row2\" class=\"row_heading level0 row2\" >EnginePower</th>\n",
       "      <td id=\"T_c3dca_row2_col0\" class=\"data row2 col0\" >40.366667</td>\n",
       "      <td id=\"T_c3dca_row2_col1\" class=\"data row2 col1\" >68.417582</td>\n",
       "      <td id=\"T_c3dca_row2_col2\" class=\"data row2 col2\" >113.666667</td>\n",
       "      <td id=\"T_c3dca_row2_col3\" class=\"data row2 col3\" >110.000000</td>\n",
       "      <td id=\"T_c3dca_row2_col4\" class=\"data row2 col4\" >96.000000</td>\n",
       "      <td id=\"T_c3dca_row2_col5\" class=\"data row2 col5\" >71.075000</td>\n",
       "    </tr>\n",
       "    <tr>\n",
       "      <th id=\"T_c3dca_level0_row3\" class=\"row_heading level0 row3\" >Co2EmissionsWltp</th>\n",
       "      <td id=\"T_c3dca_row3_col0\" class=\"data row3 col0\" >58.766667</td>\n",
       "      <td id=\"T_c3dca_row3_col1\" class=\"data row3 col1\" >91.175824</td>\n",
       "      <td id=\"T_c3dca_row3_col2\" class=\"data row3 col2\" >112.948718</td>\n",
       "      <td id=\"T_c3dca_row3_col3\" class=\"data row3 col3\" >139.500000</td>\n",
       "      <td id=\"T_c3dca_row3_col4\" class=\"data row3 col4\" >138.000000</td>\n",
       "      <td id=\"T_c3dca_row3_col5\" class=\"data row3 col5\" >98.000000</td>\n",
       "    </tr>\n",
       "    <tr>\n",
       "      <th id=\"T_c3dca_level0_row4\" class=\"row_heading level0 row4\" >MassRunningOrder</th>\n",
       "      <td id=\"T_c3dca_row4_col0\" class=\"data row4 col0\" >1102.466667</td>\n",
       "      <td id=\"T_c3dca_row4_col1\" class=\"data row4 col1\" >1223.527473</td>\n",
       "      <td id=\"T_c3dca_row4_col2\" class=\"data row4 col2\" >1609.512821</td>\n",
       "      <td id=\"T_c3dca_row4_col3\" class=\"data row4 col3\" >1437.000000</td>\n",
       "      <td id=\"T_c3dca_row4_col4\" class=\"data row4 col4\" >1574.000000</td>\n",
       "      <td id=\"T_c3dca_row4_col5\" class=\"data row4 col5\" >1188.225000</td>\n",
       "    </tr>\n",
       "    <tr>\n",
       "      <th id=\"T_c3dca_level0_row5\" class=\"row_heading level0 row5\" >BaseWheel</th>\n",
       "      <td id=\"T_c3dca_row5_col0\" class=\"data row5 col0\" >2492.000000</td>\n",
       "      <td id=\"T_c3dca_row5_col1\" class=\"data row5 col1\" >2540.000000</td>\n",
       "      <td id=\"T_c3dca_row5_col2\" class=\"data row5 col2\" >2786.384615</td>\n",
       "      <td id=\"T_c3dca_row5_col3\" class=\"data row5 col3\" >2786.000000</td>\n",
       "      <td id=\"T_c3dca_row5_col4\" class=\"data row5 col4\" >2730.000000</td>\n",
       "      <td id=\"T_c3dca_row5_col5\" class=\"data row5 col5\" >2558.750000</td>\n",
       "    </tr>\n",
       "    <tr>\n",
       "      <th id=\"T_c3dca_level0_row6\" class=\"row_heading level0 row6\" >AxleWidthSteering</th>\n",
       "      <td id=\"T_c3dca_row6_col0\" class=\"data row6 col0\" >1467.978957</td>\n",
       "      <td id=\"T_c3dca_row6_col1\" class=\"data row6 col1\" >1509.140742</td>\n",
       "      <td id=\"T_c3dca_row6_col2\" class=\"data row6 col2\" >1568.199732</td>\n",
       "      <td id=\"T_c3dca_row6_col3\" class=\"data row6 col3\" >1578.000000</td>\n",
       "      <td id=\"T_c3dca_row6_col4\" class=\"data row6 col4\" >1601.000000</td>\n",
       "      <td id=\"T_c3dca_row6_col5\" class=\"data row6 col5\" >1523.750000</td>\n",
       "    </tr>\n",
       "    <tr>\n",
       "      <th id=\"T_c3dca_level0_row7\" class=\"row_heading level0 row7\" >ElectricRange</th>\n",
       "      <td id=\"T_c3dca_row7_col0\" class=\"data row7 col0\" >81.333333</td>\n",
       "      <td id=\"T_c3dca_row7_col1\" class=\"data row7 col1\" >52.175824</td>\n",
       "      <td id=\"T_c3dca_row7_col2\" class=\"data row7 col2\" >14.743590</td>\n",
       "      <td id=\"T_c3dca_row7_col3\" class=\"data row7 col3\" >0.000000</td>\n",
       "      <td id=\"T_c3dca_row7_col4\" class=\"data row7 col4\" >0.000000</td>\n",
       "      <td id=\"T_c3dca_row7_col5\" class=\"data row7 col5\" >0.000000</td>\n",
       "    </tr>\n",
       "    <tr>\n",
       "      <th id=\"T_c3dca_level0_row8\" class=\"row_heading level0 row8\" >CarCount</th>\n",
       "      <td id=\"T_c3dca_row8_col0\" class=\"data row8 col0\" >30</td>\n",
       "      <td id=\"T_c3dca_row8_col1\" class=\"data row8 col1\" >91</td>\n",
       "      <td id=\"T_c3dca_row8_col2\" class=\"data row8 col2\" >41</td>\n",
       "      <td id=\"T_c3dca_row8_col3\" class=\"data row8 col3\" >41</td>\n",
       "      <td id=\"T_c3dca_row8_col4\" class=\"data row8 col4\" >1</td>\n",
       "      <td id=\"T_c3dca_row8_col5\" class=\"data row8 col5\" >40</td>\n",
       "    </tr>\n",
       "  </tbody>\n",
       "</table>\n"
      ],
      "text/plain": [
       "<pandas.io.formats.style.Styler at 0x7f97fd9a5ac0>"
      ]
     },
     "metadata": {},
     "output_type": "display_data"
    }
   ],
   "source": [
    "cars.specs(['TWINGO', '208', 'PASSAT', 'C5', 'YARIS'])"
   ]
  },
  {
   "cell_type": "code",
   "execution_count": 11,
   "metadata": {},
   "outputs": [
    {
     "data": {
      "text/html": [
       "<style type=\"text/css\">\n",
       "#T_2498f th {\n",
       "  background-color: steelblue;\n",
       "  color: white;\n",
       "}\n",
       "#T_2498f tr:nth-of-type(odd) {\n",
       "  background-color: aliceblue;\n",
       "}\n",
       "#T_2498f tr:nth-of-type(even) {\n",
       "  background-color: white;\n",
       "}\n",
       "</style>\n",
       "<table id=\"T_2498f\">\n",
       "  <caption><h2>Top 10 des voitures les plus polluantes</h2></caption>\n",
       "  <thead>\n",
       "    <tr>\n",
       "      <th class=\"blank\" >&nbsp;</th>\n",
       "      <th class=\"blank level0\" >&nbsp;</th>\n",
       "      <th id=\"T_2498f_level0_col0\" class=\"col_heading level0 col0\" >Pool</th>\n",
       "      <th id=\"T_2498f_level0_col1\" class=\"col_heading level0 col1\" >FuelConsumption</th>\n",
       "      <th id=\"T_2498f_level0_col2\" class=\"col_heading level0 col2\" >EnginePower</th>\n",
       "      <th id=\"T_2498f_level0_col3\" class=\"col_heading level0 col3\" >Co2EmissionsWltp</th>\n",
       "      <th id=\"T_2498f_level0_col4\" class=\"col_heading level0 col4\" >MassRunningOrder</th>\n",
       "      <th id=\"T_2498f_level0_col5\" class=\"col_heading level0 col5\" >BaseWheel</th>\n",
       "      <th id=\"T_2498f_level0_col6\" class=\"col_heading level0 col6\" >AxleWidthSteering</th>\n",
       "      <th id=\"T_2498f_level0_col7\" class=\"col_heading level0 col7\" >ElectricRange</th>\n",
       "      <th id=\"T_2498f_level0_col8\" class=\"col_heading level0 col8\" >CarCount</th>\n",
       "    </tr>\n",
       "    <tr>\n",
       "      <th class=\"index_name level0\" >Make</th>\n",
       "      <th class=\"index_name level1\" >CommercialName</th>\n",
       "      <th class=\"blank col0\" >&nbsp;</th>\n",
       "      <th class=\"blank col1\" >&nbsp;</th>\n",
       "      <th class=\"blank col2\" >&nbsp;</th>\n",
       "      <th class=\"blank col3\" >&nbsp;</th>\n",
       "      <th class=\"blank col4\" >&nbsp;</th>\n",
       "      <th class=\"blank col5\" >&nbsp;</th>\n",
       "      <th class=\"blank col6\" >&nbsp;</th>\n",
       "      <th class=\"blank col7\" >&nbsp;</th>\n",
       "      <th class=\"blank col8\" >&nbsp;</th>\n",
       "    </tr>\n",
       "  </thead>\n",
       "  <tbody>\n",
       "    <tr>\n",
       "      <th id=\"T_2498f_level0_row0\" class=\"row_heading level0 row0\" >MERCEDES-BENZ</th>\n",
       "      <th id=\"T_2498f_level1_row0\" class=\"row_heading level1 row0\" >AMG G 63</th>\n",
       "      <td id=\"T_2498f_row0_col0\" class=\"data row0 col0\" >MERCEDES-BENZ</td>\n",
       "      <td id=\"T_2498f_row0_col1\" class=\"data row0 col1\" >16.400</td>\n",
       "      <td id=\"T_2498f_row0_col2\" class=\"data row0 col2\" >430.000</td>\n",
       "      <td id=\"T_2498f_row0_col3\" class=\"data row0 col3\" >373.000</td>\n",
       "      <td id=\"T_2498f_row0_col4\" class=\"data row0 col4\" >2560.000</td>\n",
       "      <td id=\"T_2498f_row0_col5\" class=\"data row0 col5\" >2890.000</td>\n",
       "      <td id=\"T_2498f_row0_col6\" class=\"data row0 col6\" >1657.000</td>\n",
       "      <td id=\"T_2498f_row0_col7\" class=\"data row0 col7\" >0.000</td>\n",
       "      <td id=\"T_2498f_row0_col8\" class=\"data row0 col8\" >2</td>\n",
       "    </tr>\n",
       "    <tr>\n",
       "      <th id=\"T_2498f_level0_row1\" class=\"row_heading level0 row1\" >ROLLS-ROYCE</th>\n",
       "      <th id=\"T_2498f_level1_row1\" class=\"row_heading level1 row1\" >GHOST</th>\n",
       "      <td id=\"T_2498f_row1_col0\" class=\"data row1 col0\" >BMW</td>\n",
       "      <td id=\"T_2498f_row1_col1\" class=\"data row1 col1\" >15.700</td>\n",
       "      <td id=\"T_2498f_row1_col2\" class=\"data row1 col2\" >420.000</td>\n",
       "      <td id=\"T_2498f_row1_col3\" class=\"data row1 col3\" >357.000</td>\n",
       "      <td id=\"T_2498f_row1_col4\" class=\"data row1 col4\" >2565.000</td>\n",
       "      <td id=\"T_2498f_row1_col5\" class=\"data row1 col5\" >3295.000</td>\n",
       "      <td id=\"T_2498f_row1_col6\" class=\"data row1 col6\" >1674.000</td>\n",
       "      <td id=\"T_2498f_row1_col7\" class=\"data row1 col7\" >0.000</td>\n",
       "      <td id=\"T_2498f_row1_col8\" class=\"data row1 col8\" >1</td>\n",
       "    </tr>\n",
       "    <tr>\n",
       "      <th id=\"T_2498f_level0_row2\" class=\"row_heading level0 row2\" >NISSAN</th>\n",
       "      <th id=\"T_2498f_level1_row2\" class=\"row_heading level1 row2\" >NISSAN GT-R</th>\n",
       "      <td id=\"T_2498f_row2_col0\" class=\"data row2 col0\" >RENAULT-NISSAN-MITSUBISHI</td>\n",
       "      <td id=\"T_2498f_row2_col1\" class=\"data row2 col1\" >13.900</td>\n",
       "      <td id=\"T_2498f_row2_col2\" class=\"data row2 col2\" >419.000</td>\n",
       "      <td id=\"T_2498f_row2_col3\" class=\"data row2 col3\" >316.000</td>\n",
       "      <td id=\"T_2498f_row2_col4\" class=\"data row2 col4\" >1821.000</td>\n",
       "      <td id=\"T_2498f_row2_col5\" class=\"data row2 col5\" >2780.000</td>\n",
       "      <td id=\"T_2498f_row2_col6\" class=\"data row2 col6\" >1590.000</td>\n",
       "      <td id=\"T_2498f_row2_col7\" class=\"data row2 col7\" >0.000</td>\n",
       "      <td id=\"T_2498f_row2_col8\" class=\"data row2 col8\" >1</td>\n",
       "    </tr>\n",
       "    <tr>\n",
       "      <th id=\"T_2498f_level0_row3\" class=\"row_heading level0 row3\" >VOLKSWAGEN</th>\n",
       "      <th id=\"T_2498f_level1_row3\" class=\"row_heading level1 row3\" >CRAFTER</th>\n",
       "      <td id=\"T_2498f_row3_col0\" class=\"data row3 col0\" >VW-SAIC</td>\n",
       "      <td id=\"T_2498f_row3_col1\" class=\"data row3 col1\" >5.458</td>\n",
       "      <td id=\"T_2498f_row3_col2\" class=\"data row3 col2\" >130.000</td>\n",
       "      <td id=\"T_2498f_row3_col3\" class=\"data row3 col3\" >303.000</td>\n",
       "      <td id=\"T_2498f_row3_col4\" class=\"data row3 col4\" >3298.000</td>\n",
       "      <td id=\"T_2498f_row3_col5\" class=\"data row3 col5\" >4490.000</td>\n",
       "      <td id=\"T_2498f_row3_col6\" class=\"data row3 col6\" >1773.000</td>\n",
       "      <td id=\"T_2498f_row3_col7\" class=\"data row3 col7\" >0.000</td>\n",
       "      <td id=\"T_2498f_row3_col8\" class=\"data row3 col8\" >1</td>\n",
       "    </tr>\n",
       "    <tr>\n",
       "      <th id=\"T_2498f_level0_row4\" class=\"row_heading level0 row4\" >BMW</th>\n",
       "      <th id=\"T_2498f_level1_row4\" class=\"row_heading level1 row4\" >X6 M COMPETITION</th>\n",
       "      <td id=\"T_2498f_row4_col0\" class=\"data row4 col0\" >BMW</td>\n",
       "      <td id=\"T_2498f_row4_col1\" class=\"data row4 col1\" >13.300</td>\n",
       "      <td id=\"T_2498f_row4_col2\" class=\"data row4 col2\" >460.000</td>\n",
       "      <td id=\"T_2498f_row4_col3\" class=\"data row4 col3\" >302.000</td>\n",
       "      <td id=\"T_2498f_row4_col4\" class=\"data row4 col4\" >2395.000</td>\n",
       "      <td id=\"T_2498f_row4_col5\" class=\"data row4 col5\" >2972.000</td>\n",
       "      <td id=\"T_2498f_row4_col6\" class=\"data row4 col6\" >1688.000</td>\n",
       "      <td id=\"T_2498f_row4_col7\" class=\"data row4 col7\" >0.000</td>\n",
       "      <td id=\"T_2498f_row4_col8\" class=\"data row4 col8\" >1</td>\n",
       "    </tr>\n",
       "    <tr>\n",
       "      <th id=\"T_2498f_level0_row5\" class=\"row_heading level0 row5\" >AUDI</th>\n",
       "      <th id=\"T_2498f_level1_row5\" class=\"row_heading level1 row5\" >RS 6 AVANT</th>\n",
       "      <td id=\"T_2498f_row5_col0\" class=\"data row5 col0\" >VW-SAIC</td>\n",
       "      <td id=\"T_2498f_row5_col1\" class=\"data row5 col1\" >5.458</td>\n",
       "      <td id=\"T_2498f_row5_col2\" class=\"data row5 col2\" >441.000</td>\n",
       "      <td id=\"T_2498f_row5_col3\" class=\"data row5 col3\" >295.000</td>\n",
       "      <td id=\"T_2498f_row5_col4\" class=\"data row5 col4\" >2175.000</td>\n",
       "      <td id=\"T_2498f_row5_col5\" class=\"data row5 col5\" >2930.000</td>\n",
       "      <td id=\"T_2498f_row5_col6\" class=\"data row5 col6\" >1664.000</td>\n",
       "      <td id=\"T_2498f_row5_col7\" class=\"data row5 col7\" >0.000</td>\n",
       "      <td id=\"T_2498f_row5_col8\" class=\"data row5 col8\" >1</td>\n",
       "    </tr>\n",
       "    <tr>\n",
       "      <th id=\"T_2498f_level0_row6\" class=\"row_heading level0 row6\" rowspan=\"2\">MERCEDES-BENZ</th>\n",
       "      <th id=\"T_2498f_level1_row6\" class=\"row_heading level1 row6\" >AMG GLS 63</th>\n",
       "      <td id=\"T_2498f_row6_col0\" class=\"data row6 col0\" >MERCEDES-BENZ</td>\n",
       "      <td id=\"T_2498f_row6_col1\" class=\"data row6 col1\" >5.458</td>\n",
       "      <td id=\"T_2498f_row6_col2\" class=\"data row6 col2\" >450.000</td>\n",
       "      <td id=\"T_2498f_row6_col3\" class=\"data row6 col3\" >294.000</td>\n",
       "      <td id=\"T_2498f_row6_col4\" class=\"data row6 col4\" >2630.000</td>\n",
       "      <td id=\"T_2498f_row6_col5\" class=\"data row6 col5\" >3135.000</td>\n",
       "      <td id=\"T_2498f_row6_col6\" class=\"data row6 col6\" >1703.000</td>\n",
       "      <td id=\"T_2498f_row6_col7\" class=\"data row6 col7\" >0.000</td>\n",
       "      <td id=\"T_2498f_row6_col8\" class=\"data row6 col8\" >1</td>\n",
       "    </tr>\n",
       "    <tr>\n",
       "      <th id=\"T_2498f_level1_row7\" class=\"row_heading level1 row7\" >AMG GLS 63 4MATIC+</th>\n",
       "      <td id=\"T_2498f_row7_col0\" class=\"data row7 col0\" >MERCEDES-BENZ</td>\n",
       "      <td id=\"T_2498f_row7_col1\" class=\"data row7 col1\" >12.800</td>\n",
       "      <td id=\"T_2498f_row7_col2\" class=\"data row7 col2\" >450.000</td>\n",
       "      <td id=\"T_2498f_row7_col3\" class=\"data row7 col3\" >290.000</td>\n",
       "      <td id=\"T_2498f_row7_col4\" class=\"data row7 col4\" >2630.000</td>\n",
       "      <td id=\"T_2498f_row7_col5\" class=\"data row7 col5\" >3135.000</td>\n",
       "      <td id=\"T_2498f_row7_col6\" class=\"data row7 col6\" >1703.000</td>\n",
       "      <td id=\"T_2498f_row7_col7\" class=\"data row7 col7\" >0.000</td>\n",
       "      <td id=\"T_2498f_row7_col8\" class=\"data row7 col8\" >1</td>\n",
       "    </tr>\n",
       "    <tr>\n",
       "      <th id=\"T_2498f_level0_row8\" class=\"row_heading level0 row8\" >PORSCHE</th>\n",
       "      <th id=\"T_2498f_level1_row8\" class=\"row_heading level1 row8\" >PANAMERA GTS</th>\n",
       "      <td id=\"T_2498f_row8_col0\" class=\"data row8 col0\" >VW-SAIC</td>\n",
       "      <td id=\"T_2498f_row8_col1\" class=\"data row8 col1\" >12.600</td>\n",
       "      <td id=\"T_2498f_row8_col2\" class=\"data row8 col2\" >353.000</td>\n",
       "      <td id=\"T_2498f_row8_col3\" class=\"data row8 col3\" >286.000</td>\n",
       "      <td id=\"T_2498f_row8_col4\" class=\"data row8 col4\" >2095.000</td>\n",
       "      <td id=\"T_2498f_row8_col5\" class=\"data row8 col5\" >2950.000</td>\n",
       "      <td id=\"T_2498f_row8_col6\" class=\"data row8 col6\" >1639.000</td>\n",
       "      <td id=\"T_2498f_row8_col7\" class=\"data row8 col7\" >0.000</td>\n",
       "      <td id=\"T_2498f_row8_col8\" class=\"data row8 col8\" >1</td>\n",
       "    </tr>\n",
       "    <tr>\n",
       "      <th id=\"T_2498f_level0_row9\" class=\"row_heading level0 row9\" >BMW</th>\n",
       "      <th id=\"T_2498f_level1_row9\" class=\"row_heading level1 row9\" >X7 M50I</th>\n",
       "      <td id=\"T_2498f_row9_col0\" class=\"data row9 col0\" >BMW</td>\n",
       "      <td id=\"T_2498f_row9_col1\" class=\"data row9 col1\" >12.450</td>\n",
       "      <td id=\"T_2498f_row9_col2\" class=\"data row9 col2\" >390.000</td>\n",
       "      <td id=\"T_2498f_row9_col3\" class=\"data row9 col3\" >284.500</td>\n",
       "      <td id=\"T_2498f_row9_col4\" class=\"data row9 col4\" >2565.000</td>\n",
       "      <td id=\"T_2498f_row9_col5\" class=\"data row9 col5\" >3105.000</td>\n",
       "      <td id=\"T_2498f_row9_col6\" class=\"data row9 col6\" >1682.000</td>\n",
       "      <td id=\"T_2498f_row9_col7\" class=\"data row9 col7\" >0.000</td>\n",
       "      <td id=\"T_2498f_row9_col8\" class=\"data row9 col8\" >2</td>\n",
       "    </tr>\n",
       "  </tbody>\n",
       "</table>\n"
      ],
      "text/plain": [
       "<pandas.io.formats.style.Styler at 0x7f97fd9e91c0>"
      ]
     },
     "metadata": {},
     "output_type": "display_data"
    }
   ],
   "source": [
    "cars.display_sorted(by=('Co2EmissionsWltp'), n=10, ascending=False, title='Top 10 des voitures les plus polluantes')"
   ]
  },
  {
   "cell_type": "code",
   "execution_count": 12,
   "metadata": {},
   "outputs": [
    {
     "data": {
      "text/html": [
       "<style type=\"text/css\">\n",
       "#T_ed142 th {\n",
       "  background-color: steelblue;\n",
       "  color: white;\n",
       "}\n",
       "#T_ed142 tr:nth-of-type(odd) {\n",
       "  background-color: aliceblue;\n",
       "}\n",
       "#T_ed142 tr:nth-of-type(even) {\n",
       "  background-color: white;\n",
       "}\n",
       "</style>\n",
       "<table id=\"T_ed142\">\n",
       "  <caption><h2>Top 5 des voitures les moins polluantes</h2></caption>\n",
       "  <thead>\n",
       "    <tr>\n",
       "      <th class=\"blank\" >&nbsp;</th>\n",
       "      <th class=\"blank level0\" >&nbsp;</th>\n",
       "      <th id=\"T_ed142_level0_col0\" class=\"col_heading level0 col0\" >Pool</th>\n",
       "      <th id=\"T_ed142_level0_col1\" class=\"col_heading level0 col1\" >FuelConsumption</th>\n",
       "      <th id=\"T_ed142_level0_col2\" class=\"col_heading level0 col2\" >EnginePower</th>\n",
       "      <th id=\"T_ed142_level0_col3\" class=\"col_heading level0 col3\" >Co2EmissionsWltp</th>\n",
       "      <th id=\"T_ed142_level0_col4\" class=\"col_heading level0 col4\" >MassRunningOrder</th>\n",
       "      <th id=\"T_ed142_level0_col5\" class=\"col_heading level0 col5\" >BaseWheel</th>\n",
       "      <th id=\"T_ed142_level0_col6\" class=\"col_heading level0 col6\" >AxleWidthSteering</th>\n",
       "      <th id=\"T_ed142_level0_col7\" class=\"col_heading level0 col7\" >ElectricRange</th>\n",
       "      <th id=\"T_ed142_level0_col8\" class=\"col_heading level0 col8\" >CarCount</th>\n",
       "    </tr>\n",
       "    <tr>\n",
       "      <th class=\"index_name level0\" >Make</th>\n",
       "      <th class=\"index_name level1\" >CommercialName</th>\n",
       "      <th class=\"blank col0\" >&nbsp;</th>\n",
       "      <th class=\"blank col1\" >&nbsp;</th>\n",
       "      <th class=\"blank col2\" >&nbsp;</th>\n",
       "      <th class=\"blank col3\" >&nbsp;</th>\n",
       "      <th class=\"blank col4\" >&nbsp;</th>\n",
       "      <th class=\"blank col5\" >&nbsp;</th>\n",
       "      <th class=\"blank col6\" >&nbsp;</th>\n",
       "      <th class=\"blank col7\" >&nbsp;</th>\n",
       "      <th class=\"blank col8\" >&nbsp;</th>\n",
       "    </tr>\n",
       "  </thead>\n",
       "  <tbody>\n",
       "    <tr>\n",
       "      <th id=\"T_ed142_level0_row0\" class=\"row_heading level0 row0\" >VOLKSWAGEN</th>\n",
       "      <th id=\"T_ed142_level1_row0\" class=\"row_heading level1 row0\" >ID.3 PRO 107 KW</th>\n",
       "      <td id=\"T_ed142_row0_col0\" class=\"data row0 col0\" >VW-SAIC</td>\n",
       "      <td id=\"T_ed142_row0_col1\" class=\"data row0 col1\" >5.458</td>\n",
       "      <td id=\"T_ed142_row0_col2\" class=\"data row0 col2\" >79.250</td>\n",
       "      <td id=\"T_ed142_row0_col3\" class=\"data row0 col3\" >0.000</td>\n",
       "      <td id=\"T_ed142_row0_col4\" class=\"data row0 col4\" >1806.750</td>\n",
       "      <td id=\"T_ed142_row0_col5\" class=\"data row0 col5\" >2770.000</td>\n",
       "      <td id=\"T_ed142_row0_col6\" class=\"data row0 col6\" >1539.232</td>\n",
       "      <td id=\"T_ed142_row0_col7\" class=\"data row0 col7\" >316.500</td>\n",
       "      <td id=\"T_ed142_row0_col8\" class=\"data row0 col8\" >4</td>\n",
       "    </tr>\n",
       "    <tr>\n",
       "      <th id=\"T_ed142_level0_row1\" class=\"row_heading level0 row1\" >HONDA</th>\n",
       "      <th id=\"T_ed142_level1_row1\" class=\"row_heading level1 row1\" >HONDA E</th>\n",
       "      <td id=\"T_ed142_row1_col0\" class=\"data row1 col0\" >HONDA-GROUP</td>\n",
       "      <td id=\"T_ed142_row1_col1\" class=\"data row1 col1\" >5.458</td>\n",
       "      <td id=\"T_ed142_row1_col2\" class=\"data row1 col2\" >60.000</td>\n",
       "      <td id=\"T_ed142_row1_col3\" class=\"data row1 col3\" >0.000</td>\n",
       "      <td id=\"T_ed142_row1_col4\" class=\"data row1 col4\" >1595.000</td>\n",
       "      <td id=\"T_ed142_row1_col5\" class=\"data row1 col5\" >2538.000</td>\n",
       "      <td id=\"T_ed142_row1_col6\" class=\"data row1 col6\" >1513.000</td>\n",
       "      <td id=\"T_ed142_row1_col7\" class=\"data row1 col7\" >0.000</td>\n",
       "      <td id=\"T_ed142_row1_col8\" class=\"data row1 col8\" >1</td>\n",
       "    </tr>\n",
       "    <tr>\n",
       "      <th id=\"T_ed142_level0_row2\" class=\"row_heading level0 row2\" rowspan=\"2\">FORD</th>\n",
       "      <th id=\"T_ed142_level1_row2\" class=\"row_heading level1 row2\" >Mustang Mach-E</th>\n",
       "      <td id=\"T_ed142_row2_col0\" class=\"data row2 col0\" >FORD</td>\n",
       "      <td id=\"T_ed142_row2_col1\" class=\"data row2 col1\" >5.458</td>\n",
       "      <td id=\"T_ed142_row2_col2\" class=\"data row2 col2\" >357.500</td>\n",
       "      <td id=\"T_ed142_row2_col3\" class=\"data row2 col3\" >0.000</td>\n",
       "      <td id=\"T_ed142_row2_col4\" class=\"data row2 col4\" >2313.000</td>\n",
       "      <td id=\"T_ed142_row2_col5\" class=\"data row2 col5\" >2984.000</td>\n",
       "      <td id=\"T_ed142_row2_col6\" class=\"data row2 col6\" >1622.000</td>\n",
       "      <td id=\"T_ed142_row2_col7\" class=\"data row2 col7\" >520.000</td>\n",
       "      <td id=\"T_ed142_row2_col8\" class=\"data row2 col8\" >2</td>\n",
       "    </tr>\n",
       "    <tr>\n",
       "      <th id=\"T_ed142_level1_row3\" class=\"row_heading level1 row3\" >MUSTANG MACH-E</th>\n",
       "      <td id=\"T_ed142_row3_col0\" class=\"data row3 col0\" >FORD</td>\n",
       "      <td id=\"T_ed142_row3_col1\" class=\"data row3 col1\" >5.458</td>\n",
       "      <td id=\"T_ed142_row3_col2\" class=\"data row3 col2\" >189.111</td>\n",
       "      <td id=\"T_ed142_row3_col3\" class=\"data row3 col3\" >0.000</td>\n",
       "      <td id=\"T_ed142_row3_col4\" class=\"data row3 col4\" >2117.111</td>\n",
       "      <td id=\"T_ed142_row3_col5\" class=\"data row3 col5\" >2982.222</td>\n",
       "      <td id=\"T_ed142_row3_col6\" class=\"data row3 col6\" >1604.207</td>\n",
       "      <td id=\"T_ed142_row3_col7\" class=\"data row3 col7\" >451.111</td>\n",
       "      <td id=\"T_ed142_row3_col8\" class=\"data row3 col8\" >9</td>\n",
       "    </tr>\n",
       "    <tr>\n",
       "      <th id=\"T_ed142_level0_row4\" class=\"row_heading level0 row4\" >MAZDA</th>\n",
       "      <th id=\"T_ed142_level1_row4\" class=\"row_heading level1 row4\" >MAZDA MX-30</th>\n",
       "      <td id=\"T_ed142_row4_col0\" class=\"data row4 col0\" >MAZDA-SUBARU-SUZUKI-TOYOTA</td>\n",
       "      <td id=\"T_ed142_row4_col1\" class=\"data row4 col1\" >5.458</td>\n",
       "      <td id=\"T_ed142_row4_col2\" class=\"data row4 col2\" >81.000</td>\n",
       "      <td id=\"T_ed142_row4_col3\" class=\"data row4 col3\" >0.000</td>\n",
       "      <td id=\"T_ed142_row4_col4\" class=\"data row4 col4\" >1720.000</td>\n",
       "      <td id=\"T_ed142_row4_col5\" class=\"data row4 col5\" >2655.000</td>\n",
       "      <td id=\"T_ed142_row4_col6\" class=\"data row4 col6\" >1565.000</td>\n",
       "      <td id=\"T_ed142_row4_col7\" class=\"data row4 col7\" >237.000</td>\n",
       "      <td id=\"T_ed142_row4_col8\" class=\"data row4 col8\" >1</td>\n",
       "    </tr>\n",
       "    <tr>\n",
       "      <th id=\"T_ed142_level0_row5\" class=\"row_heading level0 row5\" rowspan=\"2\">SKODA</th>\n",
       "      <th id=\"T_ed142_level1_row5\" class=\"row_heading level1 row5\" >ENYAQ 60</th>\n",
       "      <td id=\"T_ed142_row5_col0\" class=\"data row5 col0\" >VW-SAIC</td>\n",
       "      <td id=\"T_ed142_row5_col1\" class=\"data row5 col1\" >5.458</td>\n",
       "      <td id=\"T_ed142_row5_col2\" class=\"data row5 col2\" >132.000</td>\n",
       "      <td id=\"T_ed142_row5_col3\" class=\"data row5 col3\" >0.000</td>\n",
       "      <td id=\"T_ed142_row5_col4\" class=\"data row5 col4\" >2030.000</td>\n",
       "      <td id=\"T_ed142_row5_col5\" class=\"data row5 col5\" >2770.000</td>\n",
       "      <td id=\"T_ed142_row5_col6\" class=\"data row5 col6\" >1589.000</td>\n",
       "      <td id=\"T_ed142_row5_col7\" class=\"data row5 col7\" >407.000</td>\n",
       "      <td id=\"T_ed142_row5_col8\" class=\"data row5 col8\" >3</td>\n",
       "    </tr>\n",
       "    <tr>\n",
       "      <th id=\"T_ed142_level1_row6\" class=\"row_heading level1 row6\" >ENYAQ</th>\n",
       "      <td id=\"T_ed142_row6_col0\" class=\"data row6 col0\" >VW-SAIC</td>\n",
       "      <td id=\"T_ed142_row6_col1\" class=\"data row6 col1\" >5.458</td>\n",
       "      <td id=\"T_ed142_row6_col2\" class=\"data row6 col2\" >150.000</td>\n",
       "      <td id=\"T_ed142_row6_col3\" class=\"data row6 col3\" >0.000</td>\n",
       "      <td id=\"T_ed142_row6_col4\" class=\"data row6 col4\" >2090.000</td>\n",
       "      <td id=\"T_ed142_row6_col5\" class=\"data row6 col5\" >2770.000</td>\n",
       "      <td id=\"T_ed142_row6_col6\" class=\"data row6 col6\" >1597.000</td>\n",
       "      <td id=\"T_ed142_row6_col7\" class=\"data row6 col7\" >522.000</td>\n",
       "      <td id=\"T_ed142_row6_col8\" class=\"data row6 col8\" >1</td>\n",
       "    </tr>\n",
       "    <tr>\n",
       "      <th id=\"T_ed142_level0_row7\" class=\"row_heading level0 row7\" rowspan=\"3\">VOLKSWAGEN</th>\n",
       "      <th id=\"T_ed142_level1_row7\" class=\"row_heading level1 row7\" >ID.3 PRO S 150KW</th>\n",
       "      <td id=\"T_ed142_row7_col0\" class=\"data row7 col0\" >VW-SAIC</td>\n",
       "      <td id=\"T_ed142_row7_col1\" class=\"data row7 col1\" >5.458</td>\n",
       "      <td id=\"T_ed142_row7_col2\" class=\"data row7 col2\" >70.000</td>\n",
       "      <td id=\"T_ed142_row7_col3\" class=\"data row7 col3\" >0.000</td>\n",
       "      <td id=\"T_ed142_row7_col4\" class=\"data row7 col4\" >1934.500</td>\n",
       "      <td id=\"T_ed142_row7_col5\" class=\"data row7 col5\" >2770.000</td>\n",
       "      <td id=\"T_ed142_row7_col6\" class=\"data row7 col6\" >1513.000</td>\n",
       "      <td id=\"T_ed142_row7_col7\" class=\"data row7 col7\" >0.000</td>\n",
       "      <td id=\"T_ed142_row7_col8\" class=\"data row7 col8\" >2</td>\n",
       "    </tr>\n",
       "    <tr>\n",
       "      <th id=\"T_ed142_level1_row8\" class=\"row_heading level1 row8\" >ID.3 PRO S 150 KW</th>\n",
       "      <td id=\"T_ed142_row8_col0\" class=\"data row8 col0\" >VW-SAIC</td>\n",
       "      <td id=\"T_ed142_row8_col1\" class=\"data row8 col1\" >5.458</td>\n",
       "      <td id=\"T_ed142_row8_col2\" class=\"data row8 col2\" >70.000</td>\n",
       "      <td id=\"T_ed142_row8_col3\" class=\"data row8 col3\" >0.000</td>\n",
       "      <td id=\"T_ed142_row8_col4\" class=\"data row8 col4\" >1934.000</td>\n",
       "      <td id=\"T_ed142_row8_col5\" class=\"data row8 col5\" >2770.000</td>\n",
       "      <td id=\"T_ed142_row8_col6\" class=\"data row8 col6\" >1536.000</td>\n",
       "      <td id=\"T_ed142_row8_col7\" class=\"data row8 col7\" >541.000</td>\n",
       "      <td id=\"T_ed142_row8_col8\" class=\"data row8 col8\" >1</td>\n",
       "    </tr>\n",
       "    <tr>\n",
       "      <th id=\"T_ed142_level1_row9\" class=\"row_heading level1 row9\" >ID.3 PRO 150KW</th>\n",
       "      <td id=\"T_ed142_row9_col0\" class=\"data row9 col0\" >VW-SAIC</td>\n",
       "      <td id=\"T_ed142_row9_col1\" class=\"data row9 col1\" >5.458</td>\n",
       "      <td id=\"T_ed142_row9_col2\" class=\"data row9 col2\" >70.000</td>\n",
       "      <td id=\"T_ed142_row9_col3\" class=\"data row9 col3\" >0.000</td>\n",
       "      <td id=\"T_ed142_row9_col4\" class=\"data row9 col4\" >1805.000</td>\n",
       "      <td id=\"T_ed142_row9_col5\" class=\"data row9 col5\" >2770.000</td>\n",
       "      <td id=\"T_ed142_row9_col6\" class=\"data row9 col6\" >1513.000</td>\n",
       "      <td id=\"T_ed142_row9_col7\" class=\"data row9 col7\" >0.000</td>\n",
       "      <td id=\"T_ed142_row9_col8\" class=\"data row9 col8\" >6</td>\n",
       "    </tr>\n",
       "  </tbody>\n",
       "</table>\n"
      ],
      "text/plain": [
       "<pandas.io.formats.style.Styler at 0x7f97fd9678b0>"
      ]
     },
     "metadata": {},
     "output_type": "display_data"
    }
   ],
   "source": [
    "cars.display_sorted(by='Co2EmissionsWltp', ascending=True, n=10, title='Top 5 des voitures les moins polluantes')"
   ]
  },
  {
   "cell_type": "code",
   "execution_count": 13,
   "metadata": {},
   "outputs": [
    {
     "data": {
      "text/html": [
       "<style type=\"text/css\">\n",
       "#T_96555 th {\n",
       "  background-color: steelblue;\n",
       "  color: white;\n",
       "}\n",
       "#T_96555 tr:nth-of-type(odd) {\n",
       "  background-color: aliceblue;\n",
       "}\n",
       "#T_96555 tr:nth-of-type(even) {\n",
       "  background-color: white;\n",
       "}\n",
       "</style>\n",
       "<table id=\"T_96555\">\n",
       "  <caption><h2>Top 10 des voitures les plus gourmandes</h2></caption>\n",
       "  <thead>\n",
       "    <tr>\n",
       "      <th class=\"blank\" >&nbsp;</th>\n",
       "      <th class=\"blank level0\" >&nbsp;</th>\n",
       "      <th id=\"T_96555_level0_col0\" class=\"col_heading level0 col0\" >Pool</th>\n",
       "      <th id=\"T_96555_level0_col1\" class=\"col_heading level0 col1\" >FuelConsumption</th>\n",
       "      <th id=\"T_96555_level0_col2\" class=\"col_heading level0 col2\" >EnginePower</th>\n",
       "      <th id=\"T_96555_level0_col3\" class=\"col_heading level0 col3\" >Co2EmissionsWltp</th>\n",
       "      <th id=\"T_96555_level0_col4\" class=\"col_heading level0 col4\" >MassRunningOrder</th>\n",
       "      <th id=\"T_96555_level0_col5\" class=\"col_heading level0 col5\" >BaseWheel</th>\n",
       "      <th id=\"T_96555_level0_col6\" class=\"col_heading level0 col6\" >AxleWidthSteering</th>\n",
       "      <th id=\"T_96555_level0_col7\" class=\"col_heading level0 col7\" >ElectricRange</th>\n",
       "      <th id=\"T_96555_level0_col8\" class=\"col_heading level0 col8\" >CarCount</th>\n",
       "    </tr>\n",
       "    <tr>\n",
       "      <th class=\"index_name level0\" >Make</th>\n",
       "      <th class=\"index_name level1\" >CommercialName</th>\n",
       "      <th class=\"blank col0\" >&nbsp;</th>\n",
       "      <th class=\"blank col1\" >&nbsp;</th>\n",
       "      <th class=\"blank col2\" >&nbsp;</th>\n",
       "      <th class=\"blank col3\" >&nbsp;</th>\n",
       "      <th class=\"blank col4\" >&nbsp;</th>\n",
       "      <th class=\"blank col5\" >&nbsp;</th>\n",
       "      <th class=\"blank col6\" >&nbsp;</th>\n",
       "      <th class=\"blank col7\" >&nbsp;</th>\n",
       "      <th class=\"blank col8\" >&nbsp;</th>\n",
       "    </tr>\n",
       "  </thead>\n",
       "  <tbody>\n",
       "    <tr>\n",
       "      <th id=\"T_96555_level0_row0\" class=\"row_heading level0 row0\" >AUDI</th>\n",
       "      <th id=\"T_96555_level1_row0\" class=\"row_heading level1 row0\" >Q8 60 TFSI E</th>\n",
       "      <td id=\"T_96555_row0_col0\" class=\"data row0 col0\" >VW-SAIC</td>\n",
       "      <td id=\"T_96555_row0_col1\" class=\"data row0 col1\" >24.950</td>\n",
       "      <td id=\"T_96555_row0_col2\" class=\"data row0 col2\" >250.000</td>\n",
       "      <td id=\"T_96555_row0_col3\" class=\"data row0 col3\" >65.500</td>\n",
       "      <td id=\"T_96555_row0_col4\" class=\"data row0 col4\" >2566.000</td>\n",
       "      <td id=\"T_96555_row0_col5\" class=\"data row0 col5\" >2996.000</td>\n",
       "      <td id=\"T_96555_row0_col6\" class=\"data row0 col6\" >1681.500</td>\n",
       "      <td id=\"T_96555_row0_col7\" class=\"data row0 col7\" >45.000</td>\n",
       "      <td id=\"T_96555_row0_col8\" class=\"data row0 col8\" >2</td>\n",
       "    </tr>\n",
       "    <tr>\n",
       "      <th id=\"T_96555_level0_row1\" class=\"row_heading level0 row1\" >MERCEDES-BENZ</th>\n",
       "      <th id=\"T_96555_level1_row1\" class=\"row_heading level1 row1\" >AMG G 63</th>\n",
       "      <td id=\"T_96555_row1_col0\" class=\"data row1 col0\" >MERCEDES-BENZ</td>\n",
       "      <td id=\"T_96555_row1_col1\" class=\"data row1 col1\" >16.400</td>\n",
       "      <td id=\"T_96555_row1_col2\" class=\"data row1 col2\" >430.000</td>\n",
       "      <td id=\"T_96555_row1_col3\" class=\"data row1 col3\" >373.000</td>\n",
       "      <td id=\"T_96555_row1_col4\" class=\"data row1 col4\" >2560.000</td>\n",
       "      <td id=\"T_96555_row1_col5\" class=\"data row1 col5\" >2890.000</td>\n",
       "      <td id=\"T_96555_row1_col6\" class=\"data row1 col6\" >1657.000</td>\n",
       "      <td id=\"T_96555_row1_col7\" class=\"data row1 col7\" >0.000</td>\n",
       "      <td id=\"T_96555_row1_col8\" class=\"data row1 col8\" >2</td>\n",
       "    </tr>\n",
       "    <tr>\n",
       "      <th id=\"T_96555_level0_row2\" class=\"row_heading level0 row2\" >ROLLS-ROYCE</th>\n",
       "      <th id=\"T_96555_level1_row2\" class=\"row_heading level1 row2\" >GHOST</th>\n",
       "      <td id=\"T_96555_row2_col0\" class=\"data row2 col0\" >BMW</td>\n",
       "      <td id=\"T_96555_row2_col1\" class=\"data row2 col1\" >15.700</td>\n",
       "      <td id=\"T_96555_row2_col2\" class=\"data row2 col2\" >420.000</td>\n",
       "      <td id=\"T_96555_row2_col3\" class=\"data row2 col3\" >357.000</td>\n",
       "      <td id=\"T_96555_row2_col4\" class=\"data row2 col4\" >2565.000</td>\n",
       "      <td id=\"T_96555_row2_col5\" class=\"data row2 col5\" >3295.000</td>\n",
       "      <td id=\"T_96555_row2_col6\" class=\"data row2 col6\" >1674.000</td>\n",
       "      <td id=\"T_96555_row2_col7\" class=\"data row2 col7\" >0.000</td>\n",
       "      <td id=\"T_96555_row2_col8\" class=\"data row2 col8\" >1</td>\n",
       "    </tr>\n",
       "    <tr>\n",
       "      <th id=\"T_96555_level0_row3\" class=\"row_heading level0 row3\" >NISSAN</th>\n",
       "      <th id=\"T_96555_level1_row3\" class=\"row_heading level1 row3\" >NISSAN GT-R</th>\n",
       "      <td id=\"T_96555_row3_col0\" class=\"data row3 col0\" >RENAULT-NISSAN-MITSUBISHI</td>\n",
       "      <td id=\"T_96555_row3_col1\" class=\"data row3 col1\" >13.900</td>\n",
       "      <td id=\"T_96555_row3_col2\" class=\"data row3 col2\" >419.000</td>\n",
       "      <td id=\"T_96555_row3_col3\" class=\"data row3 col3\" >316.000</td>\n",
       "      <td id=\"T_96555_row3_col4\" class=\"data row3 col4\" >1821.000</td>\n",
       "      <td id=\"T_96555_row3_col5\" class=\"data row3 col5\" >2780.000</td>\n",
       "      <td id=\"T_96555_row3_col6\" class=\"data row3 col6\" >1590.000</td>\n",
       "      <td id=\"T_96555_row3_col7\" class=\"data row3 col7\" >0.000</td>\n",
       "      <td id=\"T_96555_row3_col8\" class=\"data row3 col8\" >1</td>\n",
       "    </tr>\n",
       "    <tr>\n",
       "      <th id=\"T_96555_level0_row4\" class=\"row_heading level0 row4\" >BMW</th>\n",
       "      <th id=\"T_96555_level1_row4\" class=\"row_heading level1 row4\" >X6 M COMPETITION</th>\n",
       "      <td id=\"T_96555_row4_col0\" class=\"data row4 col0\" >BMW</td>\n",
       "      <td id=\"T_96555_row4_col1\" class=\"data row4 col1\" >13.300</td>\n",
       "      <td id=\"T_96555_row4_col2\" class=\"data row4 col2\" >460.000</td>\n",
       "      <td id=\"T_96555_row4_col3\" class=\"data row4 col3\" >302.000</td>\n",
       "      <td id=\"T_96555_row4_col4\" class=\"data row4 col4\" >2395.000</td>\n",
       "      <td id=\"T_96555_row4_col5\" class=\"data row4 col5\" >2972.000</td>\n",
       "      <td id=\"T_96555_row4_col6\" class=\"data row4 col6\" >1688.000</td>\n",
       "      <td id=\"T_96555_row4_col7\" class=\"data row4 col7\" >0.000</td>\n",
       "      <td id=\"T_96555_row4_col8\" class=\"data row4 col8\" >1</td>\n",
       "    </tr>\n",
       "    <tr>\n",
       "      <th id=\"T_96555_level0_row5\" class=\"row_heading level0 row5\" >MERCEDES-BENZ</th>\n",
       "      <th id=\"T_96555_level1_row5\" class=\"row_heading level1 row5\" >AMG GLS 63 4MATIC+</th>\n",
       "      <td id=\"T_96555_row5_col0\" class=\"data row5 col0\" >MERCEDES-BENZ</td>\n",
       "      <td id=\"T_96555_row5_col1\" class=\"data row5 col1\" >12.800</td>\n",
       "      <td id=\"T_96555_row5_col2\" class=\"data row5 col2\" >450.000</td>\n",
       "      <td id=\"T_96555_row5_col3\" class=\"data row5 col3\" >290.000</td>\n",
       "      <td id=\"T_96555_row5_col4\" class=\"data row5 col4\" >2630.000</td>\n",
       "      <td id=\"T_96555_row5_col5\" class=\"data row5 col5\" >3135.000</td>\n",
       "      <td id=\"T_96555_row5_col6\" class=\"data row5 col6\" >1703.000</td>\n",
       "      <td id=\"T_96555_row5_col7\" class=\"data row5 col7\" >0.000</td>\n",
       "      <td id=\"T_96555_row5_col8\" class=\"data row5 col8\" >1</td>\n",
       "    </tr>\n",
       "    <tr>\n",
       "      <th id=\"T_96555_level0_row6\" class=\"row_heading level0 row6\" >PORSCHE</th>\n",
       "      <th id=\"T_96555_level1_row6\" class=\"row_heading level1 row6\" >PANAMERA GTS</th>\n",
       "      <td id=\"T_96555_row6_col0\" class=\"data row6 col0\" >VW-SAIC</td>\n",
       "      <td id=\"T_96555_row6_col1\" class=\"data row6 col1\" >12.600</td>\n",
       "      <td id=\"T_96555_row6_col2\" class=\"data row6 col2\" >353.000</td>\n",
       "      <td id=\"T_96555_row6_col3\" class=\"data row6 col3\" >286.000</td>\n",
       "      <td id=\"T_96555_row6_col4\" class=\"data row6 col4\" >2095.000</td>\n",
       "      <td id=\"T_96555_row6_col5\" class=\"data row6 col5\" >2950.000</td>\n",
       "      <td id=\"T_96555_row6_col6\" class=\"data row6 col6\" >1639.000</td>\n",
       "      <td id=\"T_96555_row6_col7\" class=\"data row6 col7\" >0.000</td>\n",
       "      <td id=\"T_96555_row6_col8\" class=\"data row6 col8\" >1</td>\n",
       "    </tr>\n",
       "    <tr>\n",
       "      <th id=\"T_96555_level0_row7\" class=\"row_heading level0 row7\" >BMW</th>\n",
       "      <th id=\"T_96555_level1_row7\" class=\"row_heading level1 row7\" >X7 M50I</th>\n",
       "      <td id=\"T_96555_row7_col0\" class=\"data row7 col0\" >BMW</td>\n",
       "      <td id=\"T_96555_row7_col1\" class=\"data row7 col1\" >12.450</td>\n",
       "      <td id=\"T_96555_row7_col2\" class=\"data row7 col2\" >390.000</td>\n",
       "      <td id=\"T_96555_row7_col3\" class=\"data row7 col3\" >284.500</td>\n",
       "      <td id=\"T_96555_row7_col4\" class=\"data row7 col4\" >2565.000</td>\n",
       "      <td id=\"T_96555_row7_col5\" class=\"data row7 col5\" >3105.000</td>\n",
       "      <td id=\"T_96555_row7_col6\" class=\"data row7 col6\" >1682.000</td>\n",
       "      <td id=\"T_96555_row7_col7\" class=\"data row7 col7\" >0.000</td>\n",
       "      <td id=\"T_96555_row7_col8\" class=\"data row7 col8\" >2</td>\n",
       "    </tr>\n",
       "    <tr>\n",
       "      <th id=\"T_96555_level0_row8\" class=\"row_heading level0 row8\" >LAND ROVER</th>\n",
       "      <th id=\"T_96555_level1_row8\" class=\"row_heading level1 row8\" >DEFENDER</th>\n",
       "      <td id=\"T_96555_row8_col0\" class=\"data row8 col0\" >TATA-MOTORS</td>\n",
       "      <td id=\"T_96555_row8_col1\" class=\"data row8 col1\" >12.200</td>\n",
       "      <td id=\"T_96555_row8_col2\" class=\"data row8 col2\" >221.000</td>\n",
       "      <td id=\"T_96555_row8_col3\" class=\"data row8 col3\" >85.000</td>\n",
       "      <td id=\"T_96555_row8_col4\" class=\"data row8 col4\" >2669.000</td>\n",
       "      <td id=\"T_96555_row8_col5\" class=\"data row8 col5\" >3022.000</td>\n",
       "      <td id=\"T_96555_row8_col6\" class=\"data row8 col6\" >1683.000</td>\n",
       "      <td id=\"T_96555_row8_col7\" class=\"data row8 col7\" >52.000</td>\n",
       "      <td id=\"T_96555_row8_col8\" class=\"data row8 col8\" >1</td>\n",
       "    </tr>\n",
       "    <tr>\n",
       "      <th id=\"T_96555_level0_row9\" class=\"row_heading level0 row9\" >FORD</th>\n",
       "      <th id=\"T_96555_level1_row9\" class=\"row_heading level1 row9\" >MUSTANG</th>\n",
       "      <td id=\"T_96555_row9_col0\" class=\"data row9 col0\" >FORD</td>\n",
       "      <td id=\"T_96555_row9_col1\" class=\"data row9 col1\" >11.700</td>\n",
       "      <td id=\"T_96555_row9_col2\" class=\"data row9 col2\" >338.000</td>\n",
       "      <td id=\"T_96555_row9_col3\" class=\"data row9 col3\" >270.000</td>\n",
       "      <td id=\"T_96555_row9_col4\" class=\"data row9 col4\" >1849.000</td>\n",
       "      <td id=\"T_96555_row9_col5\" class=\"data row9 col5\" >2720.000</td>\n",
       "      <td id=\"T_96555_row9_col6\" class=\"data row9 col6\" >1594.000</td>\n",
       "      <td id=\"T_96555_row9_col7\" class=\"data row9 col7\" >0.000</td>\n",
       "      <td id=\"T_96555_row9_col8\" class=\"data row9 col8\" >1</td>\n",
       "    </tr>\n",
       "  </tbody>\n",
       "</table>\n"
      ],
      "text/plain": [
       "<pandas.io.formats.style.Styler at 0x7f981c780f70>"
      ]
     },
     "metadata": {},
     "output_type": "display_data"
    }
   ],
   "source": [
    "cars.display_sorted(by=('FuelConsumption'), n=10, ascending=False, title='Top 10 des voitures les plus gourmandes')"
   ]
  },
  {
   "cell_type": "code",
   "execution_count": 14,
   "metadata": {},
   "outputs": [
    {
     "data": {
      "text/html": [
       "<style type=\"text/css\">\n",
       "#T_9ddf8 th {\n",
       "  background-color: steelblue;\n",
       "  color: white;\n",
       "}\n",
       "#T_9ddf8 tr:nth-of-type(odd) {\n",
       "  background-color: aliceblue;\n",
       "}\n",
       "#T_9ddf8 tr:nth-of-type(even) {\n",
       "  background-color: white;\n",
       "}\n",
       "</style>\n",
       "<table id=\"T_9ddf8\">\n",
       "  <caption><h2>Top 5 des voitures les moins polluantes</h2></caption>\n",
       "  <thead>\n",
       "    <tr>\n",
       "      <th class=\"blank\" >&nbsp;</th>\n",
       "      <th class=\"blank level0\" >&nbsp;</th>\n",
       "      <th id=\"T_9ddf8_level0_col0\" class=\"col_heading level0 col0\" >Pool</th>\n",
       "      <th id=\"T_9ddf8_level0_col1\" class=\"col_heading level0 col1\" >FuelConsumption</th>\n",
       "      <th id=\"T_9ddf8_level0_col2\" class=\"col_heading level0 col2\" >EnginePower</th>\n",
       "      <th id=\"T_9ddf8_level0_col3\" class=\"col_heading level0 col3\" >Co2EmissionsWltp</th>\n",
       "      <th id=\"T_9ddf8_level0_col4\" class=\"col_heading level0 col4\" >MassRunningOrder</th>\n",
       "      <th id=\"T_9ddf8_level0_col5\" class=\"col_heading level0 col5\" >BaseWheel</th>\n",
       "      <th id=\"T_9ddf8_level0_col6\" class=\"col_heading level0 col6\" >AxleWidthSteering</th>\n",
       "      <th id=\"T_9ddf8_level0_col7\" class=\"col_heading level0 col7\" >ElectricRange</th>\n",
       "      <th id=\"T_9ddf8_level0_col8\" class=\"col_heading level0 col8\" >CarCount</th>\n",
       "    </tr>\n",
       "    <tr>\n",
       "      <th class=\"index_name level0\" >Make</th>\n",
       "      <th class=\"index_name level1\" >CommercialName</th>\n",
       "      <th class=\"blank col0\" >&nbsp;</th>\n",
       "      <th class=\"blank col1\" >&nbsp;</th>\n",
       "      <th class=\"blank col2\" >&nbsp;</th>\n",
       "      <th class=\"blank col3\" >&nbsp;</th>\n",
       "      <th class=\"blank col4\" >&nbsp;</th>\n",
       "      <th class=\"blank col5\" >&nbsp;</th>\n",
       "      <th class=\"blank col6\" >&nbsp;</th>\n",
       "      <th class=\"blank col7\" >&nbsp;</th>\n",
       "      <th class=\"blank col8\" >&nbsp;</th>\n",
       "    </tr>\n",
       "  </thead>\n",
       "  <tbody>\n",
       "    <tr>\n",
       "      <th id=\"T_9ddf8_level0_row0\" class=\"row_heading level0 row0\" >VOLKSWAGEN</th>\n",
       "      <th id=\"T_9ddf8_level1_row0\" class=\"row_heading level1 row0\" >ID.3 PRO 107 KW</th>\n",
       "      <td id=\"T_9ddf8_row0_col0\" class=\"data row0 col0\" >VW-SAIC</td>\n",
       "      <td id=\"T_9ddf8_row0_col1\" class=\"data row0 col1\" >5.458</td>\n",
       "      <td id=\"T_9ddf8_row0_col2\" class=\"data row0 col2\" >79.250</td>\n",
       "      <td id=\"T_9ddf8_row0_col3\" class=\"data row0 col3\" >0.000</td>\n",
       "      <td id=\"T_9ddf8_row0_col4\" class=\"data row0 col4\" >1806.750</td>\n",
       "      <td id=\"T_9ddf8_row0_col5\" class=\"data row0 col5\" >2770.000</td>\n",
       "      <td id=\"T_9ddf8_row0_col6\" class=\"data row0 col6\" >1539.232</td>\n",
       "      <td id=\"T_9ddf8_row0_col7\" class=\"data row0 col7\" >316.500</td>\n",
       "      <td id=\"T_9ddf8_row0_col8\" class=\"data row0 col8\" >4</td>\n",
       "    </tr>\n",
       "    <tr>\n",
       "      <th id=\"T_9ddf8_level0_row1\" class=\"row_heading level0 row1\" >HONDA</th>\n",
       "      <th id=\"T_9ddf8_level1_row1\" class=\"row_heading level1 row1\" >HONDA E</th>\n",
       "      <td id=\"T_9ddf8_row1_col0\" class=\"data row1 col0\" >HONDA-GROUP</td>\n",
       "      <td id=\"T_9ddf8_row1_col1\" class=\"data row1 col1\" >5.458</td>\n",
       "      <td id=\"T_9ddf8_row1_col2\" class=\"data row1 col2\" >60.000</td>\n",
       "      <td id=\"T_9ddf8_row1_col3\" class=\"data row1 col3\" >0.000</td>\n",
       "      <td id=\"T_9ddf8_row1_col4\" class=\"data row1 col4\" >1595.000</td>\n",
       "      <td id=\"T_9ddf8_row1_col5\" class=\"data row1 col5\" >2538.000</td>\n",
       "      <td id=\"T_9ddf8_row1_col6\" class=\"data row1 col6\" >1513.000</td>\n",
       "      <td id=\"T_9ddf8_row1_col7\" class=\"data row1 col7\" >0.000</td>\n",
       "      <td id=\"T_9ddf8_row1_col8\" class=\"data row1 col8\" >1</td>\n",
       "    </tr>\n",
       "    <tr>\n",
       "      <th id=\"T_9ddf8_level0_row2\" class=\"row_heading level0 row2\" rowspan=\"2\">FORD</th>\n",
       "      <th id=\"T_9ddf8_level1_row2\" class=\"row_heading level1 row2\" >Mustang Mach-E</th>\n",
       "      <td id=\"T_9ddf8_row2_col0\" class=\"data row2 col0\" >FORD</td>\n",
       "      <td id=\"T_9ddf8_row2_col1\" class=\"data row2 col1\" >5.458</td>\n",
       "      <td id=\"T_9ddf8_row2_col2\" class=\"data row2 col2\" >357.500</td>\n",
       "      <td id=\"T_9ddf8_row2_col3\" class=\"data row2 col3\" >0.000</td>\n",
       "      <td id=\"T_9ddf8_row2_col4\" class=\"data row2 col4\" >2313.000</td>\n",
       "      <td id=\"T_9ddf8_row2_col5\" class=\"data row2 col5\" >2984.000</td>\n",
       "      <td id=\"T_9ddf8_row2_col6\" class=\"data row2 col6\" >1622.000</td>\n",
       "      <td id=\"T_9ddf8_row2_col7\" class=\"data row2 col7\" >520.000</td>\n",
       "      <td id=\"T_9ddf8_row2_col8\" class=\"data row2 col8\" >2</td>\n",
       "    </tr>\n",
       "    <tr>\n",
       "      <th id=\"T_9ddf8_level1_row3\" class=\"row_heading level1 row3\" >MUSTANG MACH-E</th>\n",
       "      <td id=\"T_9ddf8_row3_col0\" class=\"data row3 col0\" >FORD</td>\n",
       "      <td id=\"T_9ddf8_row3_col1\" class=\"data row3 col1\" >5.458</td>\n",
       "      <td id=\"T_9ddf8_row3_col2\" class=\"data row3 col2\" >189.111</td>\n",
       "      <td id=\"T_9ddf8_row3_col3\" class=\"data row3 col3\" >0.000</td>\n",
       "      <td id=\"T_9ddf8_row3_col4\" class=\"data row3 col4\" >2117.111</td>\n",
       "      <td id=\"T_9ddf8_row3_col5\" class=\"data row3 col5\" >2982.222</td>\n",
       "      <td id=\"T_9ddf8_row3_col6\" class=\"data row3 col6\" >1604.207</td>\n",
       "      <td id=\"T_9ddf8_row3_col7\" class=\"data row3 col7\" >451.111</td>\n",
       "      <td id=\"T_9ddf8_row3_col8\" class=\"data row3 col8\" >9</td>\n",
       "    </tr>\n",
       "    <tr>\n",
       "      <th id=\"T_9ddf8_level0_row4\" class=\"row_heading level0 row4\" >MAZDA</th>\n",
       "      <th id=\"T_9ddf8_level1_row4\" class=\"row_heading level1 row4\" >MAZDA MX-30</th>\n",
       "      <td id=\"T_9ddf8_row4_col0\" class=\"data row4 col0\" >MAZDA-SUBARU-SUZUKI-TOYOTA</td>\n",
       "      <td id=\"T_9ddf8_row4_col1\" class=\"data row4 col1\" >5.458</td>\n",
       "      <td id=\"T_9ddf8_row4_col2\" class=\"data row4 col2\" >81.000</td>\n",
       "      <td id=\"T_9ddf8_row4_col3\" class=\"data row4 col3\" >0.000</td>\n",
       "      <td id=\"T_9ddf8_row4_col4\" class=\"data row4 col4\" >1720.000</td>\n",
       "      <td id=\"T_9ddf8_row4_col5\" class=\"data row4 col5\" >2655.000</td>\n",
       "      <td id=\"T_9ddf8_row4_col6\" class=\"data row4 col6\" >1565.000</td>\n",
       "      <td id=\"T_9ddf8_row4_col7\" class=\"data row4 col7\" >237.000</td>\n",
       "      <td id=\"T_9ddf8_row4_col8\" class=\"data row4 col8\" >1</td>\n",
       "    </tr>\n",
       "    <tr>\n",
       "      <th id=\"T_9ddf8_level0_row5\" class=\"row_heading level0 row5\" rowspan=\"2\">SKODA</th>\n",
       "      <th id=\"T_9ddf8_level1_row5\" class=\"row_heading level1 row5\" >ENYAQ 60</th>\n",
       "      <td id=\"T_9ddf8_row5_col0\" class=\"data row5 col0\" >VW-SAIC</td>\n",
       "      <td id=\"T_9ddf8_row5_col1\" class=\"data row5 col1\" >5.458</td>\n",
       "      <td id=\"T_9ddf8_row5_col2\" class=\"data row5 col2\" >132.000</td>\n",
       "      <td id=\"T_9ddf8_row5_col3\" class=\"data row5 col3\" >0.000</td>\n",
       "      <td id=\"T_9ddf8_row5_col4\" class=\"data row5 col4\" >2030.000</td>\n",
       "      <td id=\"T_9ddf8_row5_col5\" class=\"data row5 col5\" >2770.000</td>\n",
       "      <td id=\"T_9ddf8_row5_col6\" class=\"data row5 col6\" >1589.000</td>\n",
       "      <td id=\"T_9ddf8_row5_col7\" class=\"data row5 col7\" >407.000</td>\n",
       "      <td id=\"T_9ddf8_row5_col8\" class=\"data row5 col8\" >3</td>\n",
       "    </tr>\n",
       "    <tr>\n",
       "      <th id=\"T_9ddf8_level1_row6\" class=\"row_heading level1 row6\" >ENYAQ</th>\n",
       "      <td id=\"T_9ddf8_row6_col0\" class=\"data row6 col0\" >VW-SAIC</td>\n",
       "      <td id=\"T_9ddf8_row6_col1\" class=\"data row6 col1\" >5.458</td>\n",
       "      <td id=\"T_9ddf8_row6_col2\" class=\"data row6 col2\" >150.000</td>\n",
       "      <td id=\"T_9ddf8_row6_col3\" class=\"data row6 col3\" >0.000</td>\n",
       "      <td id=\"T_9ddf8_row6_col4\" class=\"data row6 col4\" >2090.000</td>\n",
       "      <td id=\"T_9ddf8_row6_col5\" class=\"data row6 col5\" >2770.000</td>\n",
       "      <td id=\"T_9ddf8_row6_col6\" class=\"data row6 col6\" >1597.000</td>\n",
       "      <td id=\"T_9ddf8_row6_col7\" class=\"data row6 col7\" >522.000</td>\n",
       "      <td id=\"T_9ddf8_row6_col8\" class=\"data row6 col8\" >1</td>\n",
       "    </tr>\n",
       "    <tr>\n",
       "      <th id=\"T_9ddf8_level0_row7\" class=\"row_heading level0 row7\" rowspan=\"3\">VOLKSWAGEN</th>\n",
       "      <th id=\"T_9ddf8_level1_row7\" class=\"row_heading level1 row7\" >ID.3 PRO S 150KW</th>\n",
       "      <td id=\"T_9ddf8_row7_col0\" class=\"data row7 col0\" >VW-SAIC</td>\n",
       "      <td id=\"T_9ddf8_row7_col1\" class=\"data row7 col1\" >5.458</td>\n",
       "      <td id=\"T_9ddf8_row7_col2\" class=\"data row7 col2\" >70.000</td>\n",
       "      <td id=\"T_9ddf8_row7_col3\" class=\"data row7 col3\" >0.000</td>\n",
       "      <td id=\"T_9ddf8_row7_col4\" class=\"data row7 col4\" >1934.500</td>\n",
       "      <td id=\"T_9ddf8_row7_col5\" class=\"data row7 col5\" >2770.000</td>\n",
       "      <td id=\"T_9ddf8_row7_col6\" class=\"data row7 col6\" >1513.000</td>\n",
       "      <td id=\"T_9ddf8_row7_col7\" class=\"data row7 col7\" >0.000</td>\n",
       "      <td id=\"T_9ddf8_row7_col8\" class=\"data row7 col8\" >2</td>\n",
       "    </tr>\n",
       "    <tr>\n",
       "      <th id=\"T_9ddf8_level1_row8\" class=\"row_heading level1 row8\" >ID.3 PRO S 150 KW</th>\n",
       "      <td id=\"T_9ddf8_row8_col0\" class=\"data row8 col0\" >VW-SAIC</td>\n",
       "      <td id=\"T_9ddf8_row8_col1\" class=\"data row8 col1\" >5.458</td>\n",
       "      <td id=\"T_9ddf8_row8_col2\" class=\"data row8 col2\" >70.000</td>\n",
       "      <td id=\"T_9ddf8_row8_col3\" class=\"data row8 col3\" >0.000</td>\n",
       "      <td id=\"T_9ddf8_row8_col4\" class=\"data row8 col4\" >1934.000</td>\n",
       "      <td id=\"T_9ddf8_row8_col5\" class=\"data row8 col5\" >2770.000</td>\n",
       "      <td id=\"T_9ddf8_row8_col6\" class=\"data row8 col6\" >1536.000</td>\n",
       "      <td id=\"T_9ddf8_row8_col7\" class=\"data row8 col7\" >541.000</td>\n",
       "      <td id=\"T_9ddf8_row8_col8\" class=\"data row8 col8\" >1</td>\n",
       "    </tr>\n",
       "    <tr>\n",
       "      <th id=\"T_9ddf8_level1_row9\" class=\"row_heading level1 row9\" >ID.3 PRO 150KW</th>\n",
       "      <td id=\"T_9ddf8_row9_col0\" class=\"data row9 col0\" >VW-SAIC</td>\n",
       "      <td id=\"T_9ddf8_row9_col1\" class=\"data row9 col1\" >5.458</td>\n",
       "      <td id=\"T_9ddf8_row9_col2\" class=\"data row9 col2\" >70.000</td>\n",
       "      <td id=\"T_9ddf8_row9_col3\" class=\"data row9 col3\" >0.000</td>\n",
       "      <td id=\"T_9ddf8_row9_col4\" class=\"data row9 col4\" >1805.000</td>\n",
       "      <td id=\"T_9ddf8_row9_col5\" class=\"data row9 col5\" >2770.000</td>\n",
       "      <td id=\"T_9ddf8_row9_col6\" class=\"data row9 col6\" >1513.000</td>\n",
       "      <td id=\"T_9ddf8_row9_col7\" class=\"data row9 col7\" >0.000</td>\n",
       "      <td id=\"T_9ddf8_row9_col8\" class=\"data row9 col8\" >6</td>\n",
       "    </tr>\n",
       "  </tbody>\n",
       "</table>\n"
      ],
      "text/plain": [
       "<pandas.io.formats.style.Styler at 0x7f97fd967d60>"
      ]
     },
     "metadata": {},
     "output_type": "display_data"
    }
   ],
   "source": [
    "cars.display_sorted(by='Co2EmissionsWltp', ascending=True, n=10, title='Top 5 des voitures les moins polluantes')"
   ]
  },
  {
   "cell_type": "code",
   "execution_count": 15,
   "metadata": {},
   "outputs": [
    {
     "data": {
      "text/html": [
       "<style type=\"text/css\">\n",
       "#T_5d7d7 th {\n",
       "  background-color: steelblue;\n",
       "  color: white;\n",
       "}\n",
       "#T_5d7d7 tr:nth-of-type(odd) {\n",
       "  background-color: aliceblue;\n",
       "}\n",
       "#T_5d7d7 tr:nth-of-type(even) {\n",
       "  background-color: white;\n",
       "}\n",
       "</style>\n",
       "<table id=\"T_5d7d7\">\n",
       "  <thead>\n",
       "    <tr>\n",
       "      <th class=\"index_name level0\" >Make</th>\n",
       "      <th id=\"T_5d7d7_level0_col0\" class=\"col_heading level0 col0\" >C3</th>\n",
       "      <th id=\"T_5d7d7_level0_col1\" class=\"col_heading level0 col1\" >C3</th>\n",
       "    </tr>\n",
       "  </thead>\n",
       "  <tbody>\n",
       "    <tr>\n",
       "      <th id=\"T_5d7d7_level0_row0\" class=\"row_heading level0 row0\" >Pool</th>\n",
       "      <td id=\"T_5d7d7_row0_col0\" class=\"data row0 col0\" >STELLANTIS</td>\n",
       "      <td id=\"T_5d7d7_row0_col1\" class=\"data row0 col1\" >STELLANTIS</td>\n",
       "    </tr>\n",
       "    <tr>\n",
       "      <th id=\"T_5d7d7_level0_row1\" class=\"row_heading level0 row1\" >FuelConsumption</th>\n",
       "      <td id=\"T_5d7d7_row1_col0\" class=\"data row1 col0\" >4.982602</td>\n",
       "      <td id=\"T_5d7d7_row1_col1\" class=\"data row1 col1\" >5.458152</td>\n",
       "    </tr>\n",
       "    <tr>\n",
       "      <th id=\"T_5d7d7_level0_row2\" class=\"row_heading level0 row2\" >EnginePower</th>\n",
       "      <td id=\"T_5d7d7_row2_col0\" class=\"data row2 col0\" >69.282353</td>\n",
       "      <td id=\"T_5d7d7_row2_col1\" class=\"data row2 col1\" >75.000000</td>\n",
       "    </tr>\n",
       "    <tr>\n",
       "      <th id=\"T_5d7d7_level0_row3\" class=\"row_heading level0 row3\" >Co2EmissionsWltp</th>\n",
       "      <td id=\"T_5d7d7_row3_col0\" class=\"data row3 col0\" >120.882353</td>\n",
       "      <td id=\"T_5d7d7_row3_col1\" class=\"data row3 col1\" >110.000000</td>\n",
       "    </tr>\n",
       "    <tr>\n",
       "      <th id=\"T_5d7d7_level0_row4\" class=\"row_heading level0 row4\" >MassRunningOrder</th>\n",
       "      <td id=\"T_5d7d7_row4_col0\" class=\"data row4 col0\" >1123.823529</td>\n",
       "      <td id=\"T_5d7d7_row4_col1\" class=\"data row4 col1\" >1161.000000</td>\n",
       "    </tr>\n",
       "    <tr>\n",
       "      <th id=\"T_5d7d7_level0_row5\" class=\"row_heading level0 row5\" >BaseWheel</th>\n",
       "      <td id=\"T_5d7d7_row5_col0\" class=\"data row5 col0\" >2540.541176</td>\n",
       "      <td id=\"T_5d7d7_row5_col1\" class=\"data row5 col1\" >2539.000000</td>\n",
       "    </tr>\n",
       "    <tr>\n",
       "      <th id=\"T_5d7d7_level0_row6\" class=\"row_heading level0 row6\" >AxleWidthSteering</th>\n",
       "      <td id=\"T_5d7d7_row6_col0\" class=\"data row6 col0\" >1511.536437</td>\n",
       "      <td id=\"T_5d7d7_row6_col1\" class=\"data row6 col1\" >1483.000000</td>\n",
       "    </tr>\n",
       "    <tr>\n",
       "      <th id=\"T_5d7d7_level0_row7\" class=\"row_heading level0 row7\" >ElectricRange</th>\n",
       "      <td id=\"T_5d7d7_row7_col0\" class=\"data row7 col0\" >0.000000</td>\n",
       "      <td id=\"T_5d7d7_row7_col1\" class=\"data row7 col1\" >0.000000</td>\n",
       "    </tr>\n",
       "    <tr>\n",
       "      <th id=\"T_5d7d7_level0_row8\" class=\"row_heading level0 row8\" >CarCount</th>\n",
       "      <td id=\"T_5d7d7_row8_col0\" class=\"data row8 col0\" >87</td>\n",
       "      <td id=\"T_5d7d7_row8_col1\" class=\"data row8 col1\" >87</td>\n",
       "    </tr>\n",
       "  </tbody>\n",
       "</table>\n"
      ],
      "text/plain": [
       "<pandas.io.formats.style.Styler at 0x7f97fd967550>"
      ]
     },
     "metadata": {},
     "output_type": "display_data"
    }
   ],
   "source": [
    "cars.specs(['C3'])"
   ]
  },
  {
   "cell_type": "code",
   "execution_count": 16,
   "metadata": {},
   "outputs": [
    {
     "data": {
      "application/vnd.plotly.v1+json": {
       "config": {
        "plotlyServerURL": "https://plot.ly"
       },
       "data": [
        {
         "fill": "toself",
         "name": "RENAULT CLIO",
         "r": [
          11.223553783453074,
          10.158750169708487,
          27.131521394482878,
          30.742684387656148,
          0
         ],
         "subplot": "polar",
         "theta": [
          "MassRunningOrder",
          "EnginePower",
          "BaseWheel",
          "Co2EmissionsWltp",
          "ElectricRange"
         ],
         "type": "scatterpolar"
        },
        {
         "fill": "toself",
         "name": "VOLKSWAGEN GOLF",
         "r": [
          20.355964871636257,
          20.7653103505428,
          29.015267308159938,
          33.892883256154036,
          0.33872377622377625
         ],
         "subplot": "polar2",
         "theta": [
          "MassRunningOrder",
          "EnginePower",
          "BaseWheel",
          "Co2EmissionsWltp",
          "ElectricRange"
         ],
         "type": "scatterpolar"
        },
        {
         "fill": "toself",
         "name": "VOLKSWAGEN  VW GOLF",
         "r": [
          19.24966502903082,
          19.173503494378604,
          28.50592281238059,
          34.226988382484365,
          0
         ],
         "subplot": "polar3",
         "theta": [
          "MassRunningOrder",
          "EnginePower",
          "BaseWheel",
          "Co2EmissionsWltp",
          "ElectricRange"
         ],
         "type": "scatterpolar"
        }
       ],
       "layout": {
        "annotations": [
         {
          "font": {
           "size": 16
          },
          "showarrow": false,
          "text": "Data Source: European Environment Agency, 2021",
          "x": 1,
          "xanchor": "right",
          "xref": "paper",
          "y": -0.15,
          "yanchor": "auto",
          "yref": "paper"
         },
         {
          "font": {
           "size": 16
          },
          "showarrow": false,
          "text": "Data Source: European Environment Agency, 2021",
          "x": 1,
          "xanchor": "right",
          "xref": "paper",
          "y": -0.15,
          "yanchor": "auto",
          "yref": "paper"
         },
         {
          "font": {
           "size": 16
          },
          "showarrow": false,
          "text": "Data Source: European Environment Agency, 2021",
          "x": 1,
          "xanchor": "right",
          "xref": "paper",
          "y": -0.15,
          "yanchor": "auto",
          "yref": "paper"
         }
        ],
        "height": 400,
        "polar": {
         "domain": {
          "x": [
           0,
           0.2888888888888889
          ],
          "y": [
           0,
           1
          ]
         }
        },
        "polar2": {
         "domain": {
          "x": [
           0.35555555555555557,
           0.6444444444444445
          ],
          "y": [
           0,
           1
          ]
         }
        },
        "polar3": {
         "domain": {
          "x": [
           0.7111111111111111,
           1
          ],
          "y": [
           0,
           1
          ]
         }
        },
        "template": {
         "data": {
          "bar": [
           {
            "error_x": {
             "color": "#2a3f5f"
            },
            "error_y": {
             "color": "#2a3f5f"
            },
            "marker": {
             "line": {
              "color": "#E5ECF6",
              "width": 0.5
             },
             "pattern": {
              "fillmode": "overlay",
              "size": 10,
              "solidity": 0.2
             }
            },
            "type": "bar"
           }
          ],
          "barpolar": [
           {
            "marker": {
             "line": {
              "color": "#E5ECF6",
              "width": 0.5
             },
             "pattern": {
              "fillmode": "overlay",
              "size": 10,
              "solidity": 0.2
             }
            },
            "type": "barpolar"
           }
          ],
          "carpet": [
           {
            "aaxis": {
             "endlinecolor": "#2a3f5f",
             "gridcolor": "white",
             "linecolor": "white",
             "minorgridcolor": "white",
             "startlinecolor": "#2a3f5f"
            },
            "baxis": {
             "endlinecolor": "#2a3f5f",
             "gridcolor": "white",
             "linecolor": "white",
             "minorgridcolor": "white",
             "startlinecolor": "#2a3f5f"
            },
            "type": "carpet"
           }
          ],
          "choropleth": [
           {
            "colorbar": {
             "outlinewidth": 0,
             "ticks": ""
            },
            "type": "choropleth"
           }
          ],
          "contour": [
           {
            "colorbar": {
             "outlinewidth": 0,
             "ticks": ""
            },
            "colorscale": [
             [
              0,
              "#0d0887"
             ],
             [
              0.1111111111111111,
              "#46039f"
             ],
             [
              0.2222222222222222,
              "#7201a8"
             ],
             [
              0.3333333333333333,
              "#9c179e"
             ],
             [
              0.4444444444444444,
              "#bd3786"
             ],
             [
              0.5555555555555556,
              "#d8576b"
             ],
             [
              0.6666666666666666,
              "#ed7953"
             ],
             [
              0.7777777777777778,
              "#fb9f3a"
             ],
             [
              0.8888888888888888,
              "#fdca26"
             ],
             [
              1,
              "#f0f921"
             ]
            ],
            "type": "contour"
           }
          ],
          "contourcarpet": [
           {
            "colorbar": {
             "outlinewidth": 0,
             "ticks": ""
            },
            "type": "contourcarpet"
           }
          ],
          "heatmap": [
           {
            "colorbar": {
             "outlinewidth": 0,
             "ticks": ""
            },
            "colorscale": [
             [
              0,
              "#0d0887"
             ],
             [
              0.1111111111111111,
              "#46039f"
             ],
             [
              0.2222222222222222,
              "#7201a8"
             ],
             [
              0.3333333333333333,
              "#9c179e"
             ],
             [
              0.4444444444444444,
              "#bd3786"
             ],
             [
              0.5555555555555556,
              "#d8576b"
             ],
             [
              0.6666666666666666,
              "#ed7953"
             ],
             [
              0.7777777777777778,
              "#fb9f3a"
             ],
             [
              0.8888888888888888,
              "#fdca26"
             ],
             [
              1,
              "#f0f921"
             ]
            ],
            "type": "heatmap"
           }
          ],
          "heatmapgl": [
           {
            "colorbar": {
             "outlinewidth": 0,
             "ticks": ""
            },
            "colorscale": [
             [
              0,
              "#0d0887"
             ],
             [
              0.1111111111111111,
              "#46039f"
             ],
             [
              0.2222222222222222,
              "#7201a8"
             ],
             [
              0.3333333333333333,
              "#9c179e"
             ],
             [
              0.4444444444444444,
              "#bd3786"
             ],
             [
              0.5555555555555556,
              "#d8576b"
             ],
             [
              0.6666666666666666,
              "#ed7953"
             ],
             [
              0.7777777777777778,
              "#fb9f3a"
             ],
             [
              0.8888888888888888,
              "#fdca26"
             ],
             [
              1,
              "#f0f921"
             ]
            ],
            "type": "heatmapgl"
           }
          ],
          "histogram": [
           {
            "marker": {
             "pattern": {
              "fillmode": "overlay",
              "size": 10,
              "solidity": 0.2
             }
            },
            "type": "histogram"
           }
          ],
          "histogram2d": [
           {
            "colorbar": {
             "outlinewidth": 0,
             "ticks": ""
            },
            "colorscale": [
             [
              0,
              "#0d0887"
             ],
             [
              0.1111111111111111,
              "#46039f"
             ],
             [
              0.2222222222222222,
              "#7201a8"
             ],
             [
              0.3333333333333333,
              "#9c179e"
             ],
             [
              0.4444444444444444,
              "#bd3786"
             ],
             [
              0.5555555555555556,
              "#d8576b"
             ],
             [
              0.6666666666666666,
              "#ed7953"
             ],
             [
              0.7777777777777778,
              "#fb9f3a"
             ],
             [
              0.8888888888888888,
              "#fdca26"
             ],
             [
              1,
              "#f0f921"
             ]
            ],
            "type": "histogram2d"
           }
          ],
          "histogram2dcontour": [
           {
            "colorbar": {
             "outlinewidth": 0,
             "ticks": ""
            },
            "colorscale": [
             [
              0,
              "#0d0887"
             ],
             [
              0.1111111111111111,
              "#46039f"
             ],
             [
              0.2222222222222222,
              "#7201a8"
             ],
             [
              0.3333333333333333,
              "#9c179e"
             ],
             [
              0.4444444444444444,
              "#bd3786"
             ],
             [
              0.5555555555555556,
              "#d8576b"
             ],
             [
              0.6666666666666666,
              "#ed7953"
             ],
             [
              0.7777777777777778,
              "#fb9f3a"
             ],
             [
              0.8888888888888888,
              "#fdca26"
             ],
             [
              1,
              "#f0f921"
             ]
            ],
            "type": "histogram2dcontour"
           }
          ],
          "mesh3d": [
           {
            "colorbar": {
             "outlinewidth": 0,
             "ticks": ""
            },
            "type": "mesh3d"
           }
          ],
          "parcoords": [
           {
            "line": {
             "colorbar": {
              "outlinewidth": 0,
              "ticks": ""
             }
            },
            "type": "parcoords"
           }
          ],
          "pie": [
           {
            "automargin": true,
            "type": "pie"
           }
          ],
          "scatter": [
           {
            "fillpattern": {
             "fillmode": "overlay",
             "size": 10,
             "solidity": 0.2
            },
            "type": "scatter"
           }
          ],
          "scatter3d": [
           {
            "line": {
             "colorbar": {
              "outlinewidth": 0,
              "ticks": ""
             }
            },
            "marker": {
             "colorbar": {
              "outlinewidth": 0,
              "ticks": ""
             }
            },
            "type": "scatter3d"
           }
          ],
          "scattercarpet": [
           {
            "marker": {
             "colorbar": {
              "outlinewidth": 0,
              "ticks": ""
             }
            },
            "type": "scattercarpet"
           }
          ],
          "scattergeo": [
           {
            "marker": {
             "colorbar": {
              "outlinewidth": 0,
              "ticks": ""
             }
            },
            "type": "scattergeo"
           }
          ],
          "scattergl": [
           {
            "marker": {
             "colorbar": {
              "outlinewidth": 0,
              "ticks": ""
             }
            },
            "type": "scattergl"
           }
          ],
          "scattermapbox": [
           {
            "marker": {
             "colorbar": {
              "outlinewidth": 0,
              "ticks": ""
             }
            },
            "type": "scattermapbox"
           }
          ],
          "scatterpolar": [
           {
            "marker": {
             "colorbar": {
              "outlinewidth": 0,
              "ticks": ""
             }
            },
            "type": "scatterpolar"
           }
          ],
          "scatterpolargl": [
           {
            "marker": {
             "colorbar": {
              "outlinewidth": 0,
              "ticks": ""
             }
            },
            "type": "scatterpolargl"
           }
          ],
          "scatterternary": [
           {
            "marker": {
             "colorbar": {
              "outlinewidth": 0,
              "ticks": ""
             }
            },
            "type": "scatterternary"
           }
          ],
          "surface": [
           {
            "colorbar": {
             "outlinewidth": 0,
             "ticks": ""
            },
            "colorscale": [
             [
              0,
              "#0d0887"
             ],
             [
              0.1111111111111111,
              "#46039f"
             ],
             [
              0.2222222222222222,
              "#7201a8"
             ],
             [
              0.3333333333333333,
              "#9c179e"
             ],
             [
              0.4444444444444444,
              "#bd3786"
             ],
             [
              0.5555555555555556,
              "#d8576b"
             ],
             [
              0.6666666666666666,
              "#ed7953"
             ],
             [
              0.7777777777777778,
              "#fb9f3a"
             ],
             [
              0.8888888888888888,
              "#fdca26"
             ],
             [
              1,
              "#f0f921"
             ]
            ],
            "type": "surface"
           }
          ],
          "table": [
           {
            "cells": {
             "fill": {
              "color": "#EBF0F8"
             },
             "line": {
              "color": "white"
             }
            },
            "header": {
             "fill": {
              "color": "#C8D4E3"
             },
             "line": {
              "color": "white"
             }
            },
            "type": "table"
           }
          ]
         },
         "layout": {
          "annotationdefaults": {
           "arrowcolor": "#2a3f5f",
           "arrowhead": 0,
           "arrowwidth": 1
          },
          "autotypenumbers": "strict",
          "coloraxis": {
           "colorbar": {
            "outlinewidth": 0,
            "ticks": ""
           }
          },
          "colorscale": {
           "diverging": [
            [
             0,
             "#8e0152"
            ],
            [
             0.1,
             "#c51b7d"
            ],
            [
             0.2,
             "#de77ae"
            ],
            [
             0.3,
             "#f1b6da"
            ],
            [
             0.4,
             "#fde0ef"
            ],
            [
             0.5,
             "#f7f7f7"
            ],
            [
             0.6,
             "#e6f5d0"
            ],
            [
             0.7,
             "#b8e186"
            ],
            [
             0.8,
             "#7fbc41"
            ],
            [
             0.9,
             "#4d9221"
            ],
            [
             1,
             "#276419"
            ]
           ],
           "sequential": [
            [
             0,
             "#0d0887"
            ],
            [
             0.1111111111111111,
             "#46039f"
            ],
            [
             0.2222222222222222,
             "#7201a8"
            ],
            [
             0.3333333333333333,
             "#9c179e"
            ],
            [
             0.4444444444444444,
             "#bd3786"
            ],
            [
             0.5555555555555556,
             "#d8576b"
            ],
            [
             0.6666666666666666,
             "#ed7953"
            ],
            [
             0.7777777777777778,
             "#fb9f3a"
            ],
            [
             0.8888888888888888,
             "#fdca26"
            ],
            [
             1,
             "#f0f921"
            ]
           ],
           "sequentialminus": [
            [
             0,
             "#0d0887"
            ],
            [
             0.1111111111111111,
             "#46039f"
            ],
            [
             0.2222222222222222,
             "#7201a8"
            ],
            [
             0.3333333333333333,
             "#9c179e"
            ],
            [
             0.4444444444444444,
             "#bd3786"
            ],
            [
             0.5555555555555556,
             "#d8576b"
            ],
            [
             0.6666666666666666,
             "#ed7953"
            ],
            [
             0.7777777777777778,
             "#fb9f3a"
            ],
            [
             0.8888888888888888,
             "#fdca26"
            ],
            [
             1,
             "#f0f921"
            ]
           ]
          },
          "colorway": [
           "#636efa",
           "#EF553B",
           "#00cc96",
           "#ab63fa",
           "#FFA15A",
           "#19d3f3",
           "#FF6692",
           "#B6E880",
           "#FF97FF",
           "#FECB52"
          ],
          "font": {
           "color": "#2a3f5f"
          },
          "geo": {
           "bgcolor": "white",
           "lakecolor": "white",
           "landcolor": "#E5ECF6",
           "showlakes": true,
           "showland": true,
           "subunitcolor": "white"
          },
          "hoverlabel": {
           "align": "left"
          },
          "hovermode": "closest",
          "mapbox": {
           "style": "light"
          },
          "paper_bgcolor": "white",
          "plot_bgcolor": "#E5ECF6",
          "polar": {
           "angularaxis": {
            "gridcolor": "white",
            "linecolor": "white",
            "ticks": ""
           },
           "bgcolor": "#E5ECF6",
           "radialaxis": {
            "gridcolor": "white",
            "linecolor": "white",
            "ticks": ""
           }
          },
          "scene": {
           "xaxis": {
            "backgroundcolor": "#E5ECF6",
            "gridcolor": "white",
            "gridwidth": 2,
            "linecolor": "white",
            "showbackground": true,
            "ticks": "",
            "zerolinecolor": "white"
           },
           "yaxis": {
            "backgroundcolor": "#E5ECF6",
            "gridcolor": "white",
            "gridwidth": 2,
            "linecolor": "white",
            "showbackground": true,
            "ticks": "",
            "zerolinecolor": "white"
           },
           "zaxis": {
            "backgroundcolor": "#E5ECF6",
            "gridcolor": "white",
            "gridwidth": 2,
            "linecolor": "white",
            "showbackground": true,
            "ticks": "",
            "zerolinecolor": "white"
           }
          },
          "shapedefaults": {
           "line": {
            "color": "#2a3f5f"
           }
          },
          "ternary": {
           "aaxis": {
            "gridcolor": "white",
            "linecolor": "white",
            "ticks": ""
           },
           "baxis": {
            "gridcolor": "white",
            "linecolor": "white",
            "ticks": ""
           },
           "bgcolor": "#E5ECF6",
           "caxis": {
            "gridcolor": "white",
            "linecolor": "white",
            "ticks": ""
           }
          },
          "title": {
           "x": 0.05
          },
          "xaxis": {
           "automargin": true,
           "gridcolor": "white",
           "linecolor": "white",
           "ticks": "",
           "title": {
            "standoff": 15
           },
           "zerolinecolor": "white",
           "zerolinewidth": 2
          },
          "yaxis": {
           "automargin": true,
           "gridcolor": "white",
           "linecolor": "white",
           "ticks": "",
           "title": {
            "standoff": 15
           },
           "zerolinecolor": "white",
           "zerolinewidth": 2
          }
         }
        },
        "title": {
         "font": {
          "size": 30
         },
         "text": "Meilleures ventes 2021"
        },
        "width": 1200
       }
      }
     },
     "metadata": {},
     "output_type": "display_data"
    },
    {
     "data": {
      "application/vnd.plotly.v1+json": {
       "config": {
        "plotlyServerURL": "https://plot.ly"
       },
       "data": [
        {
         "fill": "toself",
         "name": "MERCEDES-BENZ AMG G 63",
         "r": [
          68.97774741875313,
          93.16317228805833,
          38.86129155521589,
          100,
          0
         ],
         "subplot": "polar",
         "theta": [
          "MassRunningOrder",
          "EnginePower",
          "BaseWheel",
          "Co2EmissionsWltp",
          "ElectricRange"
         ],
         "type": "scatterpolar"
        },
        {
         "fill": "toself",
         "name": "ROLLS-ROYCE GHOST",
         "r": [
          69.18792528176971,
          90.88422971741113,
          54.33702713030188,
          95.71045576407506,
          0
         ],
         "subplot": "polar2",
         "theta": [
          "MassRunningOrder",
          "EnginePower",
          "BaseWheel",
          "Co2EmissionsWltp",
          "ElectricRange"
         ],
         "type": "scatterpolar"
        },
        {
         "fill": "toself",
         "name": "NISSAN NISSAN GT-R",
         "r": [
          37.913459264902926,
          90.6563354603464,
          34.65800534963699,
          84.71849865951742,
          0
         ],
         "subplot": "polar3",
         "theta": [
          "MassRunningOrder",
          "EnginePower",
          "BaseWheel",
          "Co2EmissionsWltp",
          "ElectricRange"
         ],
         "type": "scatterpolar"
        }
       ],
       "layout": {
        "annotations": [
         {
          "font": {
           "size": 16
          },
          "showarrow": false,
          "text": "Data Source: European Environment Agency, 2021",
          "x": 1,
          "xanchor": "right",
          "xref": "paper",
          "y": -0.15,
          "yanchor": "auto",
          "yref": "paper"
         },
         {
          "font": {
           "size": 16
          },
          "showarrow": false,
          "text": "Data Source: European Environment Agency, 2021",
          "x": 1,
          "xanchor": "right",
          "xref": "paper",
          "y": -0.15,
          "yanchor": "auto",
          "yref": "paper"
         },
         {
          "font": {
           "size": 16
          },
          "showarrow": false,
          "text": "Data Source: European Environment Agency, 2021",
          "x": 1,
          "xanchor": "right",
          "xref": "paper",
          "y": -0.15,
          "yanchor": "auto",
          "yref": "paper"
         }
        ],
        "height": 400,
        "polar": {
         "domain": {
          "x": [
           0,
           0.2888888888888889
          ],
          "y": [
           0,
           1
          ]
         }
        },
        "polar2": {
         "domain": {
          "x": [
           0.35555555555555557,
           0.6444444444444445
          ],
          "y": [
           0,
           1
          ]
         }
        },
        "polar3": {
         "domain": {
          "x": [
           0.7111111111111111,
           1
          ],
          "y": [
           0,
           1
          ]
         }
        },
        "template": {
         "data": {
          "bar": [
           {
            "error_x": {
             "color": "#2a3f5f"
            },
            "error_y": {
             "color": "#2a3f5f"
            },
            "marker": {
             "line": {
              "color": "#E5ECF6",
              "width": 0.5
             },
             "pattern": {
              "fillmode": "overlay",
              "size": 10,
              "solidity": 0.2
             }
            },
            "type": "bar"
           }
          ],
          "barpolar": [
           {
            "marker": {
             "line": {
              "color": "#E5ECF6",
              "width": 0.5
             },
             "pattern": {
              "fillmode": "overlay",
              "size": 10,
              "solidity": 0.2
             }
            },
            "type": "barpolar"
           }
          ],
          "carpet": [
           {
            "aaxis": {
             "endlinecolor": "#2a3f5f",
             "gridcolor": "white",
             "linecolor": "white",
             "minorgridcolor": "white",
             "startlinecolor": "#2a3f5f"
            },
            "baxis": {
             "endlinecolor": "#2a3f5f",
             "gridcolor": "white",
             "linecolor": "white",
             "minorgridcolor": "white",
             "startlinecolor": "#2a3f5f"
            },
            "type": "carpet"
           }
          ],
          "choropleth": [
           {
            "colorbar": {
             "outlinewidth": 0,
             "ticks": ""
            },
            "type": "choropleth"
           }
          ],
          "contour": [
           {
            "colorbar": {
             "outlinewidth": 0,
             "ticks": ""
            },
            "colorscale": [
             [
              0,
              "#0d0887"
             ],
             [
              0.1111111111111111,
              "#46039f"
             ],
             [
              0.2222222222222222,
              "#7201a8"
             ],
             [
              0.3333333333333333,
              "#9c179e"
             ],
             [
              0.4444444444444444,
              "#bd3786"
             ],
             [
              0.5555555555555556,
              "#d8576b"
             ],
             [
              0.6666666666666666,
              "#ed7953"
             ],
             [
              0.7777777777777778,
              "#fb9f3a"
             ],
             [
              0.8888888888888888,
              "#fdca26"
             ],
             [
              1,
              "#f0f921"
             ]
            ],
            "type": "contour"
           }
          ],
          "contourcarpet": [
           {
            "colorbar": {
             "outlinewidth": 0,
             "ticks": ""
            },
            "type": "contourcarpet"
           }
          ],
          "heatmap": [
           {
            "colorbar": {
             "outlinewidth": 0,
             "ticks": ""
            },
            "colorscale": [
             [
              0,
              "#0d0887"
             ],
             [
              0.1111111111111111,
              "#46039f"
             ],
             [
              0.2222222222222222,
              "#7201a8"
             ],
             [
              0.3333333333333333,
              "#9c179e"
             ],
             [
              0.4444444444444444,
              "#bd3786"
             ],
             [
              0.5555555555555556,
              "#d8576b"
             ],
             [
              0.6666666666666666,
              "#ed7953"
             ],
             [
              0.7777777777777778,
              "#fb9f3a"
             ],
             [
              0.8888888888888888,
              "#fdca26"
             ],
             [
              1,
              "#f0f921"
             ]
            ],
            "type": "heatmap"
           }
          ],
          "heatmapgl": [
           {
            "colorbar": {
             "outlinewidth": 0,
             "ticks": ""
            },
            "colorscale": [
             [
              0,
              "#0d0887"
             ],
             [
              0.1111111111111111,
              "#46039f"
             ],
             [
              0.2222222222222222,
              "#7201a8"
             ],
             [
              0.3333333333333333,
              "#9c179e"
             ],
             [
              0.4444444444444444,
              "#bd3786"
             ],
             [
              0.5555555555555556,
              "#d8576b"
             ],
             [
              0.6666666666666666,
              "#ed7953"
             ],
             [
              0.7777777777777778,
              "#fb9f3a"
             ],
             [
              0.8888888888888888,
              "#fdca26"
             ],
             [
              1,
              "#f0f921"
             ]
            ],
            "type": "heatmapgl"
           }
          ],
          "histogram": [
           {
            "marker": {
             "pattern": {
              "fillmode": "overlay",
              "size": 10,
              "solidity": 0.2
             }
            },
            "type": "histogram"
           }
          ],
          "histogram2d": [
           {
            "colorbar": {
             "outlinewidth": 0,
             "ticks": ""
            },
            "colorscale": [
             [
              0,
              "#0d0887"
             ],
             [
              0.1111111111111111,
              "#46039f"
             ],
             [
              0.2222222222222222,
              "#7201a8"
             ],
             [
              0.3333333333333333,
              "#9c179e"
             ],
             [
              0.4444444444444444,
              "#bd3786"
             ],
             [
              0.5555555555555556,
              "#d8576b"
             ],
             [
              0.6666666666666666,
              "#ed7953"
             ],
             [
              0.7777777777777778,
              "#fb9f3a"
             ],
             [
              0.8888888888888888,
              "#fdca26"
             ],
             [
              1,
              "#f0f921"
             ]
            ],
            "type": "histogram2d"
           }
          ],
          "histogram2dcontour": [
           {
            "colorbar": {
             "outlinewidth": 0,
             "ticks": ""
            },
            "colorscale": [
             [
              0,
              "#0d0887"
             ],
             [
              0.1111111111111111,
              "#46039f"
             ],
             [
              0.2222222222222222,
              "#7201a8"
             ],
             [
              0.3333333333333333,
              "#9c179e"
             ],
             [
              0.4444444444444444,
              "#bd3786"
             ],
             [
              0.5555555555555556,
              "#d8576b"
             ],
             [
              0.6666666666666666,
              "#ed7953"
             ],
             [
              0.7777777777777778,
              "#fb9f3a"
             ],
             [
              0.8888888888888888,
              "#fdca26"
             ],
             [
              1,
              "#f0f921"
             ]
            ],
            "type": "histogram2dcontour"
           }
          ],
          "mesh3d": [
           {
            "colorbar": {
             "outlinewidth": 0,
             "ticks": ""
            },
            "type": "mesh3d"
           }
          ],
          "parcoords": [
           {
            "line": {
             "colorbar": {
              "outlinewidth": 0,
              "ticks": ""
             }
            },
            "type": "parcoords"
           }
          ],
          "pie": [
           {
            "automargin": true,
            "type": "pie"
           }
          ],
          "scatter": [
           {
            "fillpattern": {
             "fillmode": "overlay",
             "size": 10,
             "solidity": 0.2
            },
            "type": "scatter"
           }
          ],
          "scatter3d": [
           {
            "line": {
             "colorbar": {
              "outlinewidth": 0,
              "ticks": ""
             }
            },
            "marker": {
             "colorbar": {
              "outlinewidth": 0,
              "ticks": ""
             }
            },
            "type": "scatter3d"
           }
          ],
          "scattercarpet": [
           {
            "marker": {
             "colorbar": {
              "outlinewidth": 0,
              "ticks": ""
             }
            },
            "type": "scattercarpet"
           }
          ],
          "scattergeo": [
           {
            "marker": {
             "colorbar": {
              "outlinewidth": 0,
              "ticks": ""
             }
            },
            "type": "scattergeo"
           }
          ],
          "scattergl": [
           {
            "marker": {
             "colorbar": {
              "outlinewidth": 0,
              "ticks": ""
             }
            },
            "type": "scattergl"
           }
          ],
          "scattermapbox": [
           {
            "marker": {
             "colorbar": {
              "outlinewidth": 0,
              "ticks": ""
             }
            },
            "type": "scattermapbox"
           }
          ],
          "scatterpolar": [
           {
            "marker": {
             "colorbar": {
              "outlinewidth": 0,
              "ticks": ""
             }
            },
            "type": "scatterpolar"
           }
          ],
          "scatterpolargl": [
           {
            "marker": {
             "colorbar": {
              "outlinewidth": 0,
              "ticks": ""
             }
            },
            "type": "scatterpolargl"
           }
          ],
          "scatterternary": [
           {
            "marker": {
             "colorbar": {
              "outlinewidth": 0,
              "ticks": ""
             }
            },
            "type": "scatterternary"
           }
          ],
          "surface": [
           {
            "colorbar": {
             "outlinewidth": 0,
             "ticks": ""
            },
            "colorscale": [
             [
              0,
              "#0d0887"
             ],
             [
              0.1111111111111111,
              "#46039f"
             ],
             [
              0.2222222222222222,
              "#7201a8"
             ],
             [
              0.3333333333333333,
              "#9c179e"
             ],
             [
              0.4444444444444444,
              "#bd3786"
             ],
             [
              0.5555555555555556,
              "#d8576b"
             ],
             [
              0.6666666666666666,
              "#ed7953"
             ],
             [
              0.7777777777777778,
              "#fb9f3a"
             ],
             [
              0.8888888888888888,
              "#fdca26"
             ],
             [
              1,
              "#f0f921"
             ]
            ],
            "type": "surface"
           }
          ],
          "table": [
           {
            "cells": {
             "fill": {
              "color": "#EBF0F8"
             },
             "line": {
              "color": "white"
             }
            },
            "header": {
             "fill": {
              "color": "#C8D4E3"
             },
             "line": {
              "color": "white"
             }
            },
            "type": "table"
           }
          ]
         },
         "layout": {
          "annotationdefaults": {
           "arrowcolor": "#2a3f5f",
           "arrowhead": 0,
           "arrowwidth": 1
          },
          "autotypenumbers": "strict",
          "coloraxis": {
           "colorbar": {
            "outlinewidth": 0,
            "ticks": ""
           }
          },
          "colorscale": {
           "diverging": [
            [
             0,
             "#8e0152"
            ],
            [
             0.1,
             "#c51b7d"
            ],
            [
             0.2,
             "#de77ae"
            ],
            [
             0.3,
             "#f1b6da"
            ],
            [
             0.4,
             "#fde0ef"
            ],
            [
             0.5,
             "#f7f7f7"
            ],
            [
             0.6,
             "#e6f5d0"
            ],
            [
             0.7,
             "#b8e186"
            ],
            [
             0.8,
             "#7fbc41"
            ],
            [
             0.9,
             "#4d9221"
            ],
            [
             1,
             "#276419"
            ]
           ],
           "sequential": [
            [
             0,
             "#0d0887"
            ],
            [
             0.1111111111111111,
             "#46039f"
            ],
            [
             0.2222222222222222,
             "#7201a8"
            ],
            [
             0.3333333333333333,
             "#9c179e"
            ],
            [
             0.4444444444444444,
             "#bd3786"
            ],
            [
             0.5555555555555556,
             "#d8576b"
            ],
            [
             0.6666666666666666,
             "#ed7953"
            ],
            [
             0.7777777777777778,
             "#fb9f3a"
            ],
            [
             0.8888888888888888,
             "#fdca26"
            ],
            [
             1,
             "#f0f921"
            ]
           ],
           "sequentialminus": [
            [
             0,
             "#0d0887"
            ],
            [
             0.1111111111111111,
             "#46039f"
            ],
            [
             0.2222222222222222,
             "#7201a8"
            ],
            [
             0.3333333333333333,
             "#9c179e"
            ],
            [
             0.4444444444444444,
             "#bd3786"
            ],
            [
             0.5555555555555556,
             "#d8576b"
            ],
            [
             0.6666666666666666,
             "#ed7953"
            ],
            [
             0.7777777777777778,
             "#fb9f3a"
            ],
            [
             0.8888888888888888,
             "#fdca26"
            ],
            [
             1,
             "#f0f921"
            ]
           ]
          },
          "colorway": [
           "#636efa",
           "#EF553B",
           "#00cc96",
           "#ab63fa",
           "#FFA15A",
           "#19d3f3",
           "#FF6692",
           "#B6E880",
           "#FF97FF",
           "#FECB52"
          ],
          "font": {
           "color": "#2a3f5f"
          },
          "geo": {
           "bgcolor": "white",
           "lakecolor": "white",
           "landcolor": "#E5ECF6",
           "showlakes": true,
           "showland": true,
           "subunitcolor": "white"
          },
          "hoverlabel": {
           "align": "left"
          },
          "hovermode": "closest",
          "mapbox": {
           "style": "light"
          },
          "paper_bgcolor": "white",
          "plot_bgcolor": "#E5ECF6",
          "polar": {
           "angularaxis": {
            "gridcolor": "white",
            "linecolor": "white",
            "ticks": ""
           },
           "bgcolor": "#E5ECF6",
           "radialaxis": {
            "gridcolor": "white",
            "linecolor": "white",
            "ticks": ""
           }
          },
          "scene": {
           "xaxis": {
            "backgroundcolor": "#E5ECF6",
            "gridcolor": "white",
            "gridwidth": 2,
            "linecolor": "white",
            "showbackground": true,
            "ticks": "",
            "zerolinecolor": "white"
           },
           "yaxis": {
            "backgroundcolor": "#E5ECF6",
            "gridcolor": "white",
            "gridwidth": 2,
            "linecolor": "white",
            "showbackground": true,
            "ticks": "",
            "zerolinecolor": "white"
           },
           "zaxis": {
            "backgroundcolor": "#E5ECF6",
            "gridcolor": "white",
            "gridwidth": 2,
            "linecolor": "white",
            "showbackground": true,
            "ticks": "",
            "zerolinecolor": "white"
           }
          },
          "shapedefaults": {
           "line": {
            "color": "#2a3f5f"
           }
          },
          "ternary": {
           "aaxis": {
            "gridcolor": "white",
            "linecolor": "white",
            "ticks": ""
           },
           "baxis": {
            "gridcolor": "white",
            "linecolor": "white",
            "ticks": ""
           },
           "bgcolor": "#E5ECF6",
           "caxis": {
            "gridcolor": "white",
            "linecolor": "white",
            "ticks": ""
           }
          },
          "title": {
           "x": 0.05
          },
          "xaxis": {
           "automargin": true,
           "gridcolor": "white",
           "linecolor": "white",
           "ticks": "",
           "title": {
            "standoff": 15
           },
           "zerolinecolor": "white",
           "zerolinewidth": 2
          },
          "yaxis": {
           "automargin": true,
           "gridcolor": "white",
           "linecolor": "white",
           "ticks": "",
           "title": {
            "standoff": 15
           },
           "zerolinecolor": "white",
           "zerolinewidth": 2
          }
         }
        },
        "title": {
         "font": {
          "size": 30
         },
         "text": "Voitures les plus polluantes"
        },
        "width": 1200
       }
      }
     },
     "metadata": {},
     "output_type": "display_data"
    },
    {
     "data": {
      "application/vnd.plotly.v1+json": {
       "config": {
        "plotlyServerURL": "https://plot.ly"
       },
       "data": [
        {
         "fill": "toself",
         "name": "AUDI E TRON 55",
         "r": [
          73.13926910648136,
          34.36645396536007,
          40.31333588077952,
          0,
          63.30128205128205
         ],
         "subplot": "polar",
         "theta": [
          "MassRunningOrder",
          "EnginePower",
          "BaseWheel",
          "Co2EmissionsWltp",
          "ElectricRange"
         ],
         "type": "scatterpolar"
        },
        {
         "fill": "toself",
         "name": "AUDI E-TRON 50",
         "r": [
          64.14365656937183,
          31.175934366453966,
          40.31333588077952,
          0,
          25
         ],
         "subplot": "polar2",
         "theta": [
          "MassRunningOrder",
          "EnginePower",
          "BaseWheel",
          "Co2EmissionsWltp",
          "ElectricRange"
         ],
         "type": "scatterpolar"
        },
        {
         "fill": "toself",
         "name": "AUDI E-TRON 55",
         "r": [
          70.44899245986916,
          31.175934366453966,
          40.31333588077952,
          0,
          31.25
         ],
         "subplot": "polar3",
         "theta": [
          "MassRunningOrder",
          "EnginePower",
          "BaseWheel",
          "Co2EmissionsWltp",
          "ElectricRange"
         ],
         "type": "scatterpolar"
        }
       ],
       "layout": {
        "annotations": [
         {
          "font": {
           "size": 16
          },
          "showarrow": false,
          "text": "Data Source: European Environment Agency, 2021",
          "x": 1,
          "xanchor": "right",
          "xref": "paper",
          "y": -0.15,
          "yanchor": "auto",
          "yref": "paper"
         },
         {
          "font": {
           "size": 16
          },
          "showarrow": false,
          "text": "Data Source: European Environment Agency, 2021",
          "x": 1,
          "xanchor": "right",
          "xref": "paper",
          "y": -0.15,
          "yanchor": "auto",
          "yref": "paper"
         },
         {
          "font": {
           "size": 16
          },
          "showarrow": false,
          "text": "Data Source: European Environment Agency, 2021",
          "x": 1,
          "xanchor": "right",
          "xref": "paper",
          "y": -0.15,
          "yanchor": "auto",
          "yref": "paper"
         }
        ],
        "height": 400,
        "polar": {
         "domain": {
          "x": [
           0,
           0.2888888888888889
          ],
          "y": [
           0,
           1
          ]
         }
        },
        "polar2": {
         "domain": {
          "x": [
           0.35555555555555557,
           0.6444444444444445
          ],
          "y": [
           0,
           1
          ]
         }
        },
        "polar3": {
         "domain": {
          "x": [
           0.7111111111111111,
           1
          ],
          "y": [
           0,
           1
          ]
         }
        },
        "template": {
         "data": {
          "bar": [
           {
            "error_x": {
             "color": "#2a3f5f"
            },
            "error_y": {
             "color": "#2a3f5f"
            },
            "marker": {
             "line": {
              "color": "#E5ECF6",
              "width": 0.5
             },
             "pattern": {
              "fillmode": "overlay",
              "size": 10,
              "solidity": 0.2
             }
            },
            "type": "bar"
           }
          ],
          "barpolar": [
           {
            "marker": {
             "line": {
              "color": "#E5ECF6",
              "width": 0.5
             },
             "pattern": {
              "fillmode": "overlay",
              "size": 10,
              "solidity": 0.2
             }
            },
            "type": "barpolar"
           }
          ],
          "carpet": [
           {
            "aaxis": {
             "endlinecolor": "#2a3f5f",
             "gridcolor": "white",
             "linecolor": "white",
             "minorgridcolor": "white",
             "startlinecolor": "#2a3f5f"
            },
            "baxis": {
             "endlinecolor": "#2a3f5f",
             "gridcolor": "white",
             "linecolor": "white",
             "minorgridcolor": "white",
             "startlinecolor": "#2a3f5f"
            },
            "type": "carpet"
           }
          ],
          "choropleth": [
           {
            "colorbar": {
             "outlinewidth": 0,
             "ticks": ""
            },
            "type": "choropleth"
           }
          ],
          "contour": [
           {
            "colorbar": {
             "outlinewidth": 0,
             "ticks": ""
            },
            "colorscale": [
             [
              0,
              "#0d0887"
             ],
             [
              0.1111111111111111,
              "#46039f"
             ],
             [
              0.2222222222222222,
              "#7201a8"
             ],
             [
              0.3333333333333333,
              "#9c179e"
             ],
             [
              0.4444444444444444,
              "#bd3786"
             ],
             [
              0.5555555555555556,
              "#d8576b"
             ],
             [
              0.6666666666666666,
              "#ed7953"
             ],
             [
              0.7777777777777778,
              "#fb9f3a"
             ],
             [
              0.8888888888888888,
              "#fdca26"
             ],
             [
              1,
              "#f0f921"
             ]
            ],
            "type": "contour"
           }
          ],
          "contourcarpet": [
           {
            "colorbar": {
             "outlinewidth": 0,
             "ticks": ""
            },
            "type": "contourcarpet"
           }
          ],
          "heatmap": [
           {
            "colorbar": {
             "outlinewidth": 0,
             "ticks": ""
            },
            "colorscale": [
             [
              0,
              "#0d0887"
             ],
             [
              0.1111111111111111,
              "#46039f"
             ],
             [
              0.2222222222222222,
              "#7201a8"
             ],
             [
              0.3333333333333333,
              "#9c179e"
             ],
             [
              0.4444444444444444,
              "#bd3786"
             ],
             [
              0.5555555555555556,
              "#d8576b"
             ],
             [
              0.6666666666666666,
              "#ed7953"
             ],
             [
              0.7777777777777778,
              "#fb9f3a"
             ],
             [
              0.8888888888888888,
              "#fdca26"
             ],
             [
              1,
              "#f0f921"
             ]
            ],
            "type": "heatmap"
           }
          ],
          "heatmapgl": [
           {
            "colorbar": {
             "outlinewidth": 0,
             "ticks": ""
            },
            "colorscale": [
             [
              0,
              "#0d0887"
             ],
             [
              0.1111111111111111,
              "#46039f"
             ],
             [
              0.2222222222222222,
              "#7201a8"
             ],
             [
              0.3333333333333333,
              "#9c179e"
             ],
             [
              0.4444444444444444,
              "#bd3786"
             ],
             [
              0.5555555555555556,
              "#d8576b"
             ],
             [
              0.6666666666666666,
              "#ed7953"
             ],
             [
              0.7777777777777778,
              "#fb9f3a"
             ],
             [
              0.8888888888888888,
              "#fdca26"
             ],
             [
              1,
              "#f0f921"
             ]
            ],
            "type": "heatmapgl"
           }
          ],
          "histogram": [
           {
            "marker": {
             "pattern": {
              "fillmode": "overlay",
              "size": 10,
              "solidity": 0.2
             }
            },
            "type": "histogram"
           }
          ],
          "histogram2d": [
           {
            "colorbar": {
             "outlinewidth": 0,
             "ticks": ""
            },
            "colorscale": [
             [
              0,
              "#0d0887"
             ],
             [
              0.1111111111111111,
              "#46039f"
             ],
             [
              0.2222222222222222,
              "#7201a8"
             ],
             [
              0.3333333333333333,
              "#9c179e"
             ],
             [
              0.4444444444444444,
              "#bd3786"
             ],
             [
              0.5555555555555556,
              "#d8576b"
             ],
             [
              0.6666666666666666,
              "#ed7953"
             ],
             [
              0.7777777777777778,
              "#fb9f3a"
             ],
             [
              0.8888888888888888,
              "#fdca26"
             ],
             [
              1,
              "#f0f921"
             ]
            ],
            "type": "histogram2d"
           }
          ],
          "histogram2dcontour": [
           {
            "colorbar": {
             "outlinewidth": 0,
             "ticks": ""
            },
            "colorscale": [
             [
              0,
              "#0d0887"
             ],
             [
              0.1111111111111111,
              "#46039f"
             ],
             [
              0.2222222222222222,
              "#7201a8"
             ],
             [
              0.3333333333333333,
              "#9c179e"
             ],
             [
              0.4444444444444444,
              "#bd3786"
             ],
             [
              0.5555555555555556,
              "#d8576b"
             ],
             [
              0.6666666666666666,
              "#ed7953"
             ],
             [
              0.7777777777777778,
              "#fb9f3a"
             ],
             [
              0.8888888888888888,
              "#fdca26"
             ],
             [
              1,
              "#f0f921"
             ]
            ],
            "type": "histogram2dcontour"
           }
          ],
          "mesh3d": [
           {
            "colorbar": {
             "outlinewidth": 0,
             "ticks": ""
            },
            "type": "mesh3d"
           }
          ],
          "parcoords": [
           {
            "line": {
             "colorbar": {
              "outlinewidth": 0,
              "ticks": ""
             }
            },
            "type": "parcoords"
           }
          ],
          "pie": [
           {
            "automargin": true,
            "type": "pie"
           }
          ],
          "scatter": [
           {
            "fillpattern": {
             "fillmode": "overlay",
             "size": 10,
             "solidity": 0.2
            },
            "type": "scatter"
           }
          ],
          "scatter3d": [
           {
            "line": {
             "colorbar": {
              "outlinewidth": 0,
              "ticks": ""
             }
            },
            "marker": {
             "colorbar": {
              "outlinewidth": 0,
              "ticks": ""
             }
            },
            "type": "scatter3d"
           }
          ],
          "scattercarpet": [
           {
            "marker": {
             "colorbar": {
              "outlinewidth": 0,
              "ticks": ""
             }
            },
            "type": "scattercarpet"
           }
          ],
          "scattergeo": [
           {
            "marker": {
             "colorbar": {
              "outlinewidth": 0,
              "ticks": ""
             }
            },
            "type": "scattergeo"
           }
          ],
          "scattergl": [
           {
            "marker": {
             "colorbar": {
              "outlinewidth": 0,
              "ticks": ""
             }
            },
            "type": "scattergl"
           }
          ],
          "scattermapbox": [
           {
            "marker": {
             "colorbar": {
              "outlinewidth": 0,
              "ticks": ""
             }
            },
            "type": "scattermapbox"
           }
          ],
          "scatterpolar": [
           {
            "marker": {
             "colorbar": {
              "outlinewidth": 0,
              "ticks": ""
             }
            },
            "type": "scatterpolar"
           }
          ],
          "scatterpolargl": [
           {
            "marker": {
             "colorbar": {
              "outlinewidth": 0,
              "ticks": ""
             }
            },
            "type": "scatterpolargl"
           }
          ],
          "scatterternary": [
           {
            "marker": {
             "colorbar": {
              "outlinewidth": 0,
              "ticks": ""
             }
            },
            "type": "scatterternary"
           }
          ],
          "surface": [
           {
            "colorbar": {
             "outlinewidth": 0,
             "ticks": ""
            },
            "colorscale": [
             [
              0,
              "#0d0887"
             ],
             [
              0.1111111111111111,
              "#46039f"
             ],
             [
              0.2222222222222222,
              "#7201a8"
             ],
             [
              0.3333333333333333,
              "#9c179e"
             ],
             [
              0.4444444444444444,
              "#bd3786"
             ],
             [
              0.5555555555555556,
              "#d8576b"
             ],
             [
              0.6666666666666666,
              "#ed7953"
             ],
             [
              0.7777777777777778,
              "#fb9f3a"
             ],
             [
              0.8888888888888888,
              "#fdca26"
             ],
             [
              1,
              "#f0f921"
             ]
            ],
            "type": "surface"
           }
          ],
          "table": [
           {
            "cells": {
             "fill": {
              "color": "#EBF0F8"
             },
             "line": {
              "color": "white"
             }
            },
            "header": {
             "fill": {
              "color": "#C8D4E3"
             },
             "line": {
              "color": "white"
             }
            },
            "type": "table"
           }
          ]
         },
         "layout": {
          "annotationdefaults": {
           "arrowcolor": "#2a3f5f",
           "arrowhead": 0,
           "arrowwidth": 1
          },
          "autotypenumbers": "strict",
          "coloraxis": {
           "colorbar": {
            "outlinewidth": 0,
            "ticks": ""
           }
          },
          "colorscale": {
           "diverging": [
            [
             0,
             "#8e0152"
            ],
            [
             0.1,
             "#c51b7d"
            ],
            [
             0.2,
             "#de77ae"
            ],
            [
             0.3,
             "#f1b6da"
            ],
            [
             0.4,
             "#fde0ef"
            ],
            [
             0.5,
             "#f7f7f7"
            ],
            [
             0.6,
             "#e6f5d0"
            ],
            [
             0.7,
             "#b8e186"
            ],
            [
             0.8,
             "#7fbc41"
            ],
            [
             0.9,
             "#4d9221"
            ],
            [
             1,
             "#276419"
            ]
           ],
           "sequential": [
            [
             0,
             "#0d0887"
            ],
            [
             0.1111111111111111,
             "#46039f"
            ],
            [
             0.2222222222222222,
             "#7201a8"
            ],
            [
             0.3333333333333333,
             "#9c179e"
            ],
            [
             0.4444444444444444,
             "#bd3786"
            ],
            [
             0.5555555555555556,
             "#d8576b"
            ],
            [
             0.6666666666666666,
             "#ed7953"
            ],
            [
             0.7777777777777778,
             "#fb9f3a"
            ],
            [
             0.8888888888888888,
             "#fdca26"
            ],
            [
             1,
             "#f0f921"
            ]
           ],
           "sequentialminus": [
            [
             0,
             "#0d0887"
            ],
            [
             0.1111111111111111,
             "#46039f"
            ],
            [
             0.2222222222222222,
             "#7201a8"
            ],
            [
             0.3333333333333333,
             "#9c179e"
            ],
            [
             0.4444444444444444,
             "#bd3786"
            ],
            [
             0.5555555555555556,
             "#d8576b"
            ],
            [
             0.6666666666666666,
             "#ed7953"
            ],
            [
             0.7777777777777778,
             "#fb9f3a"
            ],
            [
             0.8888888888888888,
             "#fdca26"
            ],
            [
             1,
             "#f0f921"
            ]
           ]
          },
          "colorway": [
           "#636efa",
           "#EF553B",
           "#00cc96",
           "#ab63fa",
           "#FFA15A",
           "#19d3f3",
           "#FF6692",
           "#B6E880",
           "#FF97FF",
           "#FECB52"
          ],
          "font": {
           "color": "#2a3f5f"
          },
          "geo": {
           "bgcolor": "white",
           "lakecolor": "white",
           "landcolor": "#E5ECF6",
           "showlakes": true,
           "showland": true,
           "subunitcolor": "white"
          },
          "hoverlabel": {
           "align": "left"
          },
          "hovermode": "closest",
          "mapbox": {
           "style": "light"
          },
          "paper_bgcolor": "white",
          "plot_bgcolor": "#E5ECF6",
          "polar": {
           "angularaxis": {
            "gridcolor": "white",
            "linecolor": "white",
            "ticks": ""
           },
           "bgcolor": "#E5ECF6",
           "radialaxis": {
            "gridcolor": "white",
            "linecolor": "white",
            "ticks": ""
           }
          },
          "scene": {
           "xaxis": {
            "backgroundcolor": "#E5ECF6",
            "gridcolor": "white",
            "gridwidth": 2,
            "linecolor": "white",
            "showbackground": true,
            "ticks": "",
            "zerolinecolor": "white"
           },
           "yaxis": {
            "backgroundcolor": "#E5ECF6",
            "gridcolor": "white",
            "gridwidth": 2,
            "linecolor": "white",
            "showbackground": true,
            "ticks": "",
            "zerolinecolor": "white"
           },
           "zaxis": {
            "backgroundcolor": "#E5ECF6",
            "gridcolor": "white",
            "gridwidth": 2,
            "linecolor": "white",
            "showbackground": true,
            "ticks": "",
            "zerolinecolor": "white"
           }
          },
          "shapedefaults": {
           "line": {
            "color": "#2a3f5f"
           }
          },
          "ternary": {
           "aaxis": {
            "gridcolor": "white",
            "linecolor": "white",
            "ticks": ""
           },
           "baxis": {
            "gridcolor": "white",
            "linecolor": "white",
            "ticks": ""
           },
           "bgcolor": "#E5ECF6",
           "caxis": {
            "gridcolor": "white",
            "linecolor": "white",
            "ticks": ""
           }
          },
          "title": {
           "x": 0.05
          },
          "xaxis": {
           "automargin": true,
           "gridcolor": "white",
           "linecolor": "white",
           "ticks": "",
           "title": {
            "standoff": 15
           },
           "zerolinecolor": "white",
           "zerolinewidth": 2
          },
          "yaxis": {
           "automargin": true,
           "gridcolor": "white",
           "linecolor": "white",
           "ticks": "",
           "title": {
            "standoff": 15
           },
           "zerolinecolor": "white",
           "zerolinewidth": 2
          }
         }
        },
        "title": {
         "font": {
          "size": 30
         },
         "text": "Voitures les moins polluantes"
        },
        "width": 1200
       }
      }
     },
     "metadata": {},
     "output_type": "display_data"
    }
   ],
   "source": [
    "cars.plot_top_vehicles()"
   ]
  },
  {
   "cell_type": "code",
   "execution_count": 17,
   "metadata": {},
   "outputs": [
    {
     "data": {
      "text/html": [
       "<style type=\"text/css\">\n",
       "#T_81169 th {\n",
       "  background-color: steelblue;\n",
       "  color: white;\n",
       "}\n",
       "#T_81169 tr:nth-of-type(odd) {\n",
       "  background-color: aliceblue;\n",
       "}\n",
       "#T_81169 tr:nth-of-type(even) {\n",
       "  background-color: white;\n",
       "}\n",
       "</style>\n",
       "<table id=\"T_81169\">\n",
       "  <thead>\n",
       "    <tr>\n",
       "      <th class=\"blank\" >&nbsp;</th>\n",
       "      <th class=\"blank level0\" >&nbsp;</th>\n",
       "      <th id=\"T_81169_level0_col0\" class=\"col_heading level0 col0\" >Pool</th>\n",
       "      <th id=\"T_81169_level0_col1\" class=\"col_heading level0 col1\" >FuelConsumption</th>\n",
       "      <th id=\"T_81169_level0_col2\" class=\"col_heading level0 col2\" >EnginePower</th>\n",
       "      <th id=\"T_81169_level0_col3\" class=\"col_heading level0 col3\" >Co2EmissionsWltp</th>\n",
       "      <th id=\"T_81169_level0_col4\" class=\"col_heading level0 col4\" >MassRunningOrder</th>\n",
       "      <th id=\"T_81169_level0_col5\" class=\"col_heading level0 col5\" >BaseWheel</th>\n",
       "      <th id=\"T_81169_level0_col6\" class=\"col_heading level0 col6\" >AxleWidthSteering</th>\n",
       "      <th id=\"T_81169_level0_col7\" class=\"col_heading level0 col7\" >ElectricRange</th>\n",
       "    </tr>\n",
       "    <tr>\n",
       "      <th class=\"index_name level0\" >Make</th>\n",
       "      <th class=\"index_name level1\" >CommercialName</th>\n",
       "      <th class=\"blank col0\" >&nbsp;</th>\n",
       "      <th class=\"blank col1\" >&nbsp;</th>\n",
       "      <th class=\"blank col2\" >&nbsp;</th>\n",
       "      <th class=\"blank col3\" >&nbsp;</th>\n",
       "      <th class=\"blank col4\" >&nbsp;</th>\n",
       "      <th class=\"blank col5\" >&nbsp;</th>\n",
       "      <th class=\"blank col6\" >&nbsp;</th>\n",
       "      <th class=\"blank col7\" >&nbsp;</th>\n",
       "    </tr>\n",
       "  </thead>\n",
       "  <tbody>\n",
       "    <tr>\n",
       "      <th id=\"T_81169_level0_row0\" class=\"row_heading level0 row0\" rowspan=\"4\">ALFA ROMEO</th>\n",
       "      <th id=\"T_81169_level1_row0\" class=\"row_heading level1 row0\" >ALFA GIULIETTA</th>\n",
       "      <td id=\"T_81169_row0_col0\" class=\"data row0 col0\" >STELLANTIS</td>\n",
       "      <td id=\"T_81169_row0_col1\" class=\"data row0 col1\" >4.500</td>\n",
       "      <td id=\"T_81169_row0_col2\" class=\"data row0 col2\" >88.000</td>\n",
       "      <td id=\"T_81169_row0_col3\" class=\"data row0 col3\" >147.000</td>\n",
       "      <td id=\"T_81169_row0_col4\" class=\"data row0 col4\" >1465.000</td>\n",
       "      <td id=\"T_81169_row0_col5\" class=\"data row0 col5\" >2634.000</td>\n",
       "      <td id=\"T_81169_row0_col6\" class=\"data row0 col6\" >1548.930</td>\n",
       "      <td id=\"T_81169_row0_col7\" class=\"data row0 col7\" >0.000</td>\n",
       "    </tr>\n",
       "    <tr>\n",
       "      <th id=\"T_81169_level1_row1\" class=\"row_heading level1 row1\" >GIULIA</th>\n",
       "      <td id=\"T_81169_row1_col0\" class=\"data row1 col0\" >STELLANTIS</td>\n",
       "      <td id=\"T_81169_row1_col1\" class=\"data row1 col1\" >5.933</td>\n",
       "      <td id=\"T_81169_row1_col2\" class=\"data row1 col2\" >162.000</td>\n",
       "      <td id=\"T_81169_row1_col3\" class=\"data row1 col3\" >147.333</td>\n",
       "      <td id=\"T_81169_row1_col4\" class=\"data row1 col4\" >1586.667</td>\n",
       "      <td id=\"T_81169_row1_col5\" class=\"data row1 col5\" >2820.000</td>\n",
       "      <td id=\"T_81169_row1_col6\" class=\"data row1 col6\" >1551.287</td>\n",
       "      <td id=\"T_81169_row1_col7\" class=\"data row1 col7\" >0.000</td>\n",
       "    </tr>\n",
       "    <tr>\n",
       "      <th id=\"T_81169_level1_row2\" class=\"row_heading level1 row2\" >GIULIA QUADRIFOGLIO</th>\n",
       "      <td id=\"T_81169_row2_col0\" class=\"data row2 col0\" >STELLANTIS</td>\n",
       "      <td id=\"T_81169_row2_col1\" class=\"data row2 col1\" >10.100</td>\n",
       "      <td id=\"T_81169_row2_col2\" class=\"data row2 col2\" >375.000</td>\n",
       "      <td id=\"T_81169_row2_col3\" class=\"data row2 col3\" >228.000</td>\n",
       "      <td id=\"T_81169_row2_col4\" class=\"data row2 col4\" >1735.000</td>\n",
       "      <td id=\"T_81169_row2_col5\" class=\"data row2 col5\" >2820.000</td>\n",
       "      <td id=\"T_81169_row2_col6\" class=\"data row2 col6\" >1553.000</td>\n",
       "      <td id=\"T_81169_row2_col7\" class=\"data row2 col7\" >0.000</td>\n",
       "    </tr>\n",
       "    <tr>\n",
       "      <th id=\"T_81169_level1_row3\" class=\"row_heading level1 row3\" >STELVIO</th>\n",
       "      <td id=\"T_81169_row3_col0\" class=\"data row3 col0\" >STELLANTIS</td>\n",
       "      <td id=\"T_81169_row3_col1\" class=\"data row3 col1\" >5.700</td>\n",
       "      <td id=\"T_81169_row3_col2\" class=\"data row3 col2\" >147.000</td>\n",
       "      <td id=\"T_81169_row3_col3\" class=\"data row3 col3\" >161.750</td>\n",
       "      <td id=\"T_81169_row3_col4\" class=\"data row3 col4\" >1820.000</td>\n",
       "      <td id=\"T_81169_row3_col5\" class=\"data row3 col5\" >2818.000</td>\n",
       "      <td id=\"T_81169_row3_col6\" class=\"data row3 col6\" >1568.447</td>\n",
       "      <td id=\"T_81169_row3_col7\" class=\"data row3 col7\" >0.000</td>\n",
       "    </tr>\n",
       "    <tr>\n",
       "      <th id=\"T_81169_level0_row4\" class=\"row_heading level0 row4\" >AUDI</th>\n",
       "      <th id=\"T_81169_level1_row4\" class=\"row_heading level1 row4\" >A1</th>\n",
       "      <td id=\"T_81169_row4_col0\" class=\"data row4 col0\" >VW-SAIC</td>\n",
       "      <td id=\"T_81169_row4_col1\" class=\"data row4 col1\" >5.900</td>\n",
       "      <td id=\"T_81169_row4_col2\" class=\"data row4 col2\" >81.000</td>\n",
       "      <td id=\"T_81169_row4_col3\" class=\"data row4 col3\" >135.000</td>\n",
       "      <td id=\"T_81169_row4_col4\" class=\"data row4 col4\" >1205.000</td>\n",
       "      <td id=\"T_81169_row4_col5\" class=\"data row4 col5\" >2550.000</td>\n",
       "      <td id=\"T_81169_row4_col6\" class=\"data row4 col6\" >1529.000</td>\n",
       "      <td id=\"T_81169_row4_col7\" class=\"data row4 col7\" >0.000</td>\n",
       "    </tr>\n",
       "  </tbody>\n",
       "</table>\n"
      ],
      "text/plain": [
       "<pandas.io.formats.style.Styler at 0x7f990bc16a60>"
      ]
     },
     "metadata": {},
     "output_type": "display_data"
    }
   ],
   "source": [
    "cars.display(n=5)"
   ]
  },
  {
   "cell_type": "code",
   "execution_count": null,
   "metadata": {},
   "outputs": [],
   "source": []
  },
  {
   "cell_type": "code",
   "execution_count": 18,
   "metadata": {},
   "outputs": [
    {
     "name": "stdout",
     "output_type": "stream",
     "text": [
      "FuelConsumption      0\n",
      "EnginePower          0\n",
      "Co2EmissionsWltp     0\n",
      "MassRunningOrder     0\n",
      "BaseWheel            0\n",
      "AxleWidthSteering    0\n",
      "ElectricRange        0\n",
      "dtype: int64\n"
     ]
    }
   ],
   "source": [
    "print(df[['FuelConsumption', 'EnginePower', 'Co2EmissionsWltp', 'MassRunningOrder', 'BaseWheel', 'AxleWidthSteering', 'ElectricRange']].isna().sum())"
   ]
  },
  {
   "cell_type": "code",
   "execution_count": 19,
   "metadata": {},
   "outputs": [
    {
     "name": "stdout",
     "output_type": "stream",
     "text": [
      "Columns: ['Country', 'GdpPerCapita', 'Count']\n",
      "DataFrame columns: Index(['Country', 'Population', 'GdpPerCapita', 'Count', 'Make', 'FuelType',\n",
      "       'FuelConsumption', 'EnginePower', 'Co2EmissionsWltp',\n",
      "       'MassRunningOrder', 'BaseWheel', 'AxleWidthSteering', 'ElectricRange'],\n",
      "      dtype='object')\n"
     ]
    },
    {
     "data": {
      "text/html": [
       "<style type=\"text/css\">\n",
       "#T_92687 th {\n",
       "  background-color: steelblue;\n",
       "  color: white;\n",
       "}\n",
       "#T_92687 tr:nth-of-type(odd) {\n",
       "  background-color: aliceblue;\n",
       "}\n",
       "#T_92687 tr:nth-of-type(even) {\n",
       "  background-color: white;\n",
       "}\n",
       "</style>\n",
       "<table id=\"T_92687\">\n",
       "  <caption><h2>Top 5 des pays par capacité de propulsion électrique (moyenne kms)</h2></caption>\n",
       "  <thead>\n",
       "    <tr>\n",
       "      <th class=\"blank level0\" >&nbsp;</th>\n",
       "      <th id=\"T_92687_level0_col0\" class=\"col_heading level0 col0\" >Country</th>\n",
       "      <th id=\"T_92687_level0_col1\" class=\"col_heading level0 col1\" >GdpPerCapita</th>\n",
       "      <th id=\"T_92687_level0_col2\" class=\"col_heading level0 col2\" >Count</th>\n",
       "    </tr>\n",
       "  </thead>\n",
       "  <tbody>\n",
       "    <tr>\n",
       "      <th id=\"T_92687_level0_row0\" class=\"row_heading level0 row0\" >24</th>\n",
       "      <td id=\"T_92687_row0_col0\" class=\"data row0 col0\" >SE</td>\n",
       "      <td id=\"T_92687_row0_col1\" class=\"data row0 col1\" >60375.043</td>\n",
       "      <td id=\"T_92687_row0_col2\" class=\"data row0 col2\" >105</td>\n",
       "    </tr>\n",
       "    <tr>\n",
       "      <th id=\"T_92687_level0_row1\" class=\"row_heading level0 row1\" >17</th>\n",
       "      <td id=\"T_92687_row1_col0\" class=\"data row1 col0\" >LU</td>\n",
       "      <td id=\"T_92687_row1_col1\" class=\"data row1 col1\" >129396.306</td>\n",
       "      <td id=\"T_92687_row1_col2\" class=\"data row1 col2\" >19</td>\n",
       "    </tr>\n",
       "    <tr>\n",
       "      <th id=\"T_92687_level0_row2\" class=\"row_heading level0 row2\" >20</th>\n",
       "      <td id=\"T_92687_row2_col0\" class=\"data row2 col0\" >NL</td>\n",
       "      <td id=\"T_92687_row2_col1\" class=\"data row2 col1\" >48569.467</td>\n",
       "      <td id=\"T_92687_row2_col2\" class=\"data row2 col2\" >144</td>\n",
       "    </tr>\n",
       "    <tr>\n",
       "      <th id=\"T_92687_level0_row3\" class=\"row_heading level0 row3\" >6</th>\n",
       "      <td id=\"T_92687_row3_col0\" class=\"data row3 col0\" >DK</td>\n",
       "      <td id=\"T_92687_row3_col1\" class=\"data row3 col1\" >68349.344</td>\n",
       "      <td id=\"T_92687_row3_col2\" class=\"data row3 col2\" >91</td>\n",
       "    </tr>\n",
       "    <tr>\n",
       "      <th id=\"T_92687_level0_row4\" class=\"row_heading level0 row4\" >0</th>\n",
       "      <td id=\"T_92687_row4_col0\" class=\"data row4 col0\" >AT</td>\n",
       "      <td id=\"T_92687_row4_col1\" class=\"data row4 col1\" >53493.772</td>\n",
       "      <td id=\"T_92687_row4_col2\" class=\"data row4 col2\" >116</td>\n",
       "    </tr>\n",
       "  </tbody>\n",
       "</table>\n"
      ],
      "text/plain": [
       "<pandas.io.formats.style.Styler at 0x7f981c7c3a90>"
      ]
     },
     "metadata": {},
     "output_type": "display_data"
    }
   ],
   "source": [
    "countries = CountryDataAggregator(df)\n",
    "countries.display_sorted(n=5, by='ElectricRange', columns=['Country', 'GdpPerCapita', 'Count'], title=\"Top 5 des pays par capacité de propulsion électrique (moyenne kms)\")"
   ]
  },
  {
   "cell_type": "code",
   "execution_count": 20,
   "metadata": {},
   "outputs": [
    {
     "name": "stdout",
     "output_type": "stream",
     "text": [
      "Columns: ['Country', 'GdpPerCapita', 'Count', 'Co2EmissionsWltp']\n",
      "DataFrame columns: Index(['Country', 'Population', 'GdpPerCapita', 'Count', 'Make', 'FuelType',\n",
      "       'FuelConsumption', 'EnginePower', 'Co2EmissionsWltp',\n",
      "       'MassRunningOrder', 'BaseWheel', 'AxleWidthSteering', 'ElectricRange'],\n",
      "      dtype='object')\n"
     ]
    },
    {
     "data": {
      "text/html": [
       "<style type=\"text/css\">\n",
       "#T_6a6d1 th {\n",
       "  background-color: steelblue;\n",
       "  color: white;\n",
       "}\n",
       "#T_6a6d1 tr:nth-of-type(odd) {\n",
       "  background-color: aliceblue;\n",
       "}\n",
       "#T_6a6d1 tr:nth-of-type(even) {\n",
       "  background-color: white;\n",
       "}\n",
       "</style>\n",
       "<table id=\"T_6a6d1\">\n",
       "  <caption><h2>Top 5 des pays ayant les véhicules neufs les plus polluants en 2021</h2></caption>\n",
       "  <thead>\n",
       "    <tr>\n",
       "      <th class=\"blank level0\" >&nbsp;</th>\n",
       "      <th id=\"T_6a6d1_level0_col0\" class=\"col_heading level0 col0\" >Country</th>\n",
       "      <th id=\"T_6a6d1_level0_col1\" class=\"col_heading level0 col1\" >GdpPerCapita</th>\n",
       "      <th id=\"T_6a6d1_level0_col2\" class=\"col_heading level0 col2\" >Count</th>\n",
       "      <th id=\"T_6a6d1_level0_col3\" class=\"col_heading level0 col3\" >Co2EmissionsWltp</th>\n",
       "    </tr>\n",
       "  </thead>\n",
       "  <tbody>\n",
       "    <tr>\n",
       "      <th id=\"T_6a6d1_level0_row0\" class=\"row_heading level0 row0\" >16</th>\n",
       "      <td id=\"T_6a6d1_row0_col0\" class=\"data row0 col0\" >LT</td>\n",
       "      <td id=\"T_6a6d1_row0_col1\" class=\"data row0 col1\" >24592.395</td>\n",
       "      <td id=\"T_6a6d1_row0_col2\" class=\"data row0 col2\" >13</td>\n",
       "      <td id=\"T_6a6d1_row0_col3\" class=\"data row0 col3\" >150.538</td>\n",
       "    </tr>\n",
       "    <tr>\n",
       "      <th id=\"T_6a6d1_level0_row1\" class=\"row_heading level0 row1\" >26</th>\n",
       "      <td id=\"T_6a6d1_row1_col0\" class=\"data row1 col0\" >SK</td>\n",
       "      <td id=\"T_6a6d1_row1_col1\" class=\"data row1 col1\" >21774.768</td>\n",
       "      <td id=\"T_6a6d1_row1_col2\" class=\"data row1 col2\" >37</td>\n",
       "      <td id=\"T_6a6d1_row1_col3\" class=\"data row1 col3\" >148.486</td>\n",
       "    </tr>\n",
       "    <tr>\n",
       "      <th id=\"T_6a6d1_level0_row2\" class=\"row_heading level0 row2\" >13</th>\n",
       "      <td id=\"T_6a6d1_row2_col0\" class=\"data row2 col0\" >HU</td>\n",
       "      <td id=\"T_6a6d1_row2_col1\" class=\"data row2 col1\" >18935.335</td>\n",
       "      <td id=\"T_6a6d1_row2_col2\" class=\"data row2 col2\" >55</td>\n",
       "      <td id=\"T_6a6d1_row2_col3\" class=\"data row2 col3\" >144.400</td>\n",
       "    </tr>\n",
       "    <tr>\n",
       "      <th id=\"T_6a6d1_level0_row3\" class=\"row_heading level0 row3\" >25</th>\n",
       "      <td id=\"T_6a6d1_row3_col0\" class=\"data row3 col0\" >SI</td>\n",
       "      <td id=\"T_6a6d1_row3_col1\" class=\"data row3 col1\" >30053.882</td>\n",
       "      <td id=\"T_6a6d1_row3_col2\" class=\"data row3 col2\" >25</td>\n",
       "      <td id=\"T_6a6d1_row3_col3\" class=\"data row3 col3\" >141.040</td>\n",
       "    </tr>\n",
       "    <tr>\n",
       "      <th id=\"T_6a6d1_level0_row4\" class=\"row_heading level0 row4\" >4</th>\n",
       "      <td id=\"T_6a6d1_row4_col0\" class=\"data row4 col0\" >CZ</td>\n",
       "      <td id=\"T_6a6d1_row4_col1\" class=\"data row4 col1\" >23152.189</td>\n",
       "      <td id=\"T_6a6d1_row4_col2\" class=\"data row4 col2\" >113</td>\n",
       "      <td id=\"T_6a6d1_row4_col3\" class=\"data row4 col3\" >139.920</td>\n",
       "    </tr>\n",
       "  </tbody>\n",
       "</table>\n"
      ],
      "text/plain": [
       "<pandas.io.formats.style.Styler at 0x7f983c6fd9d0>"
      ]
     },
     "metadata": {},
     "output_type": "display_data"
    }
   ],
   "source": [
    "countries.display_sorted(n=5, by='Co2EmissionsWltp', columns=['Country', 'GdpPerCapita', 'Count', 'Co2EmissionsWltp'], title=\"Top 5 des pays ayant les véhicules neufs les plus polluants en 2021\")"
   ]
  },
  {
   "cell_type": "code",
   "execution_count": 21,
   "metadata": {},
   "outputs": [
    {
     "data": {
      "application/vnd.plotly.v1+json": {
       "config": {
        "plotlyServerURL": "https://plot.ly"
       },
       "data": [
        {
         "alignmentgroup": "True",
         "hovertemplate": "Month=%{x}<br>counts=%{marker.color}<extra></extra>",
         "legendgroup": "",
         "marker": {
          "color": [
           361,
           336,
           412,
           411,
           388,
           459,
           360,
           273,
           332,
           280,
           328,
           331
          ],
          "coloraxis": "coloraxis",
          "pattern": {
           "shape": ""
          }
         },
         "name": "",
         "offsetgroup": "",
         "orientation": "v",
         "showlegend": false,
         "textposition": "auto",
         "type": "bar",
         "x": [
          1,
          2,
          3,
          4,
          5,
          6,
          7,
          8,
          9,
          10,
          11,
          12
         ],
         "xaxis": "x",
         "y": [
          361,
          336,
          412,
          411,
          388,
          459,
          360,
          273,
          332,
          280,
          328,
          331
         ],
         "yaxis": "y"
        }
       ],
       "layout": {
        "barmode": "relative",
        "coloraxis": {
         "colorbar": {
          "title": {
           "text": "counts"
          }
         },
         "colorscale": [
          [
           0,
           "rgb(252,251,253)"
          ],
          [
           0.125,
           "rgb(239,237,245)"
          ],
          [
           0.25,
           "rgb(218,218,235)"
          ],
          [
           0.375,
           "rgb(188,189,220)"
          ],
          [
           0.5,
           "rgb(158,154,200)"
          ],
          [
           0.625,
           "rgb(128,125,186)"
          ],
          [
           0.75,
           "rgb(106,81,163)"
          ],
          [
           0.875,
           "rgb(84,39,143)"
          ],
          [
           1,
           "rgb(63,0,125)"
          ]
         ]
        },
        "legend": {
         "tracegroupgap": 0
        },
        "margin": {
         "t": 60
        },
        "showlegend": false,
        "template": {
         "data": {
          "bar": [
           {
            "error_x": {
             "color": "#2a3f5f"
            },
            "error_y": {
             "color": "#2a3f5f"
            },
            "marker": {
             "line": {
              "color": "#E5ECF6",
              "width": 0.5
             },
             "pattern": {
              "fillmode": "overlay",
              "size": 10,
              "solidity": 0.2
             }
            },
            "type": "bar"
           }
          ],
          "barpolar": [
           {
            "marker": {
             "line": {
              "color": "#E5ECF6",
              "width": 0.5
             },
             "pattern": {
              "fillmode": "overlay",
              "size": 10,
              "solidity": 0.2
             }
            },
            "type": "barpolar"
           }
          ],
          "carpet": [
           {
            "aaxis": {
             "endlinecolor": "#2a3f5f",
             "gridcolor": "white",
             "linecolor": "white",
             "minorgridcolor": "white",
             "startlinecolor": "#2a3f5f"
            },
            "baxis": {
             "endlinecolor": "#2a3f5f",
             "gridcolor": "white",
             "linecolor": "white",
             "minorgridcolor": "white",
             "startlinecolor": "#2a3f5f"
            },
            "type": "carpet"
           }
          ],
          "choropleth": [
           {
            "colorbar": {
             "outlinewidth": 0,
             "ticks": ""
            },
            "type": "choropleth"
           }
          ],
          "contour": [
           {
            "colorbar": {
             "outlinewidth": 0,
             "ticks": ""
            },
            "colorscale": [
             [
              0,
              "#0d0887"
             ],
             [
              0.1111111111111111,
              "#46039f"
             ],
             [
              0.2222222222222222,
              "#7201a8"
             ],
             [
              0.3333333333333333,
              "#9c179e"
             ],
             [
              0.4444444444444444,
              "#bd3786"
             ],
             [
              0.5555555555555556,
              "#d8576b"
             ],
             [
              0.6666666666666666,
              "#ed7953"
             ],
             [
              0.7777777777777778,
              "#fb9f3a"
             ],
             [
              0.8888888888888888,
              "#fdca26"
             ],
             [
              1,
              "#f0f921"
             ]
            ],
            "type": "contour"
           }
          ],
          "contourcarpet": [
           {
            "colorbar": {
             "outlinewidth": 0,
             "ticks": ""
            },
            "type": "contourcarpet"
           }
          ],
          "heatmap": [
           {
            "colorbar": {
             "outlinewidth": 0,
             "ticks": ""
            },
            "colorscale": [
             [
              0,
              "#0d0887"
             ],
             [
              0.1111111111111111,
              "#46039f"
             ],
             [
              0.2222222222222222,
              "#7201a8"
             ],
             [
              0.3333333333333333,
              "#9c179e"
             ],
             [
              0.4444444444444444,
              "#bd3786"
             ],
             [
              0.5555555555555556,
              "#d8576b"
             ],
             [
              0.6666666666666666,
              "#ed7953"
             ],
             [
              0.7777777777777778,
              "#fb9f3a"
             ],
             [
              0.8888888888888888,
              "#fdca26"
             ],
             [
              1,
              "#f0f921"
             ]
            ],
            "type": "heatmap"
           }
          ],
          "heatmapgl": [
           {
            "colorbar": {
             "outlinewidth": 0,
             "ticks": ""
            },
            "colorscale": [
             [
              0,
              "#0d0887"
             ],
             [
              0.1111111111111111,
              "#46039f"
             ],
             [
              0.2222222222222222,
              "#7201a8"
             ],
             [
              0.3333333333333333,
              "#9c179e"
             ],
             [
              0.4444444444444444,
              "#bd3786"
             ],
             [
              0.5555555555555556,
              "#d8576b"
             ],
             [
              0.6666666666666666,
              "#ed7953"
             ],
             [
              0.7777777777777778,
              "#fb9f3a"
             ],
             [
              0.8888888888888888,
              "#fdca26"
             ],
             [
              1,
              "#f0f921"
             ]
            ],
            "type": "heatmapgl"
           }
          ],
          "histogram": [
           {
            "marker": {
             "pattern": {
              "fillmode": "overlay",
              "size": 10,
              "solidity": 0.2
             }
            },
            "type": "histogram"
           }
          ],
          "histogram2d": [
           {
            "colorbar": {
             "outlinewidth": 0,
             "ticks": ""
            },
            "colorscale": [
             [
              0,
              "#0d0887"
             ],
             [
              0.1111111111111111,
              "#46039f"
             ],
             [
              0.2222222222222222,
              "#7201a8"
             ],
             [
              0.3333333333333333,
              "#9c179e"
             ],
             [
              0.4444444444444444,
              "#bd3786"
             ],
             [
              0.5555555555555556,
              "#d8576b"
             ],
             [
              0.6666666666666666,
              "#ed7953"
             ],
             [
              0.7777777777777778,
              "#fb9f3a"
             ],
             [
              0.8888888888888888,
              "#fdca26"
             ],
             [
              1,
              "#f0f921"
             ]
            ],
            "type": "histogram2d"
           }
          ],
          "histogram2dcontour": [
           {
            "colorbar": {
             "outlinewidth": 0,
             "ticks": ""
            },
            "colorscale": [
             [
              0,
              "#0d0887"
             ],
             [
              0.1111111111111111,
              "#46039f"
             ],
             [
              0.2222222222222222,
              "#7201a8"
             ],
             [
              0.3333333333333333,
              "#9c179e"
             ],
             [
              0.4444444444444444,
              "#bd3786"
             ],
             [
              0.5555555555555556,
              "#d8576b"
             ],
             [
              0.6666666666666666,
              "#ed7953"
             ],
             [
              0.7777777777777778,
              "#fb9f3a"
             ],
             [
              0.8888888888888888,
              "#fdca26"
             ],
             [
              1,
              "#f0f921"
             ]
            ],
            "type": "histogram2dcontour"
           }
          ],
          "mesh3d": [
           {
            "colorbar": {
             "outlinewidth": 0,
             "ticks": ""
            },
            "type": "mesh3d"
           }
          ],
          "parcoords": [
           {
            "line": {
             "colorbar": {
              "outlinewidth": 0,
              "ticks": ""
             }
            },
            "type": "parcoords"
           }
          ],
          "pie": [
           {
            "automargin": true,
            "type": "pie"
           }
          ],
          "scatter": [
           {
            "fillpattern": {
             "fillmode": "overlay",
             "size": 10,
             "solidity": 0.2
            },
            "type": "scatter"
           }
          ],
          "scatter3d": [
           {
            "line": {
             "colorbar": {
              "outlinewidth": 0,
              "ticks": ""
             }
            },
            "marker": {
             "colorbar": {
              "outlinewidth": 0,
              "ticks": ""
             }
            },
            "type": "scatter3d"
           }
          ],
          "scattercarpet": [
           {
            "marker": {
             "colorbar": {
              "outlinewidth": 0,
              "ticks": ""
             }
            },
            "type": "scattercarpet"
           }
          ],
          "scattergeo": [
           {
            "marker": {
             "colorbar": {
              "outlinewidth": 0,
              "ticks": ""
             }
            },
            "type": "scattergeo"
           }
          ],
          "scattergl": [
           {
            "marker": {
             "colorbar": {
              "outlinewidth": 0,
              "ticks": ""
             }
            },
            "type": "scattergl"
           }
          ],
          "scattermapbox": [
           {
            "marker": {
             "colorbar": {
              "outlinewidth": 0,
              "ticks": ""
             }
            },
            "type": "scattermapbox"
           }
          ],
          "scatterpolar": [
           {
            "marker": {
             "colorbar": {
              "outlinewidth": 0,
              "ticks": ""
             }
            },
            "type": "scatterpolar"
           }
          ],
          "scatterpolargl": [
           {
            "marker": {
             "colorbar": {
              "outlinewidth": 0,
              "ticks": ""
             }
            },
            "type": "scatterpolargl"
           }
          ],
          "scatterternary": [
           {
            "marker": {
             "colorbar": {
              "outlinewidth": 0,
              "ticks": ""
             }
            },
            "type": "scatterternary"
           }
          ],
          "surface": [
           {
            "colorbar": {
             "outlinewidth": 0,
             "ticks": ""
            },
            "colorscale": [
             [
              0,
              "#0d0887"
             ],
             [
              0.1111111111111111,
              "#46039f"
             ],
             [
              0.2222222222222222,
              "#7201a8"
             ],
             [
              0.3333333333333333,
              "#9c179e"
             ],
             [
              0.4444444444444444,
              "#bd3786"
             ],
             [
              0.5555555555555556,
              "#d8576b"
             ],
             [
              0.6666666666666666,
              "#ed7953"
             ],
             [
              0.7777777777777778,
              "#fb9f3a"
             ],
             [
              0.8888888888888888,
              "#fdca26"
             ],
             [
              1,
              "#f0f921"
             ]
            ],
            "type": "surface"
           }
          ],
          "table": [
           {
            "cells": {
             "fill": {
              "color": "#EBF0F8"
             },
             "line": {
              "color": "white"
             }
            },
            "header": {
             "fill": {
              "color": "#C8D4E3"
             },
             "line": {
              "color": "white"
             }
            },
            "type": "table"
           }
          ]
         },
         "layout": {
          "annotationdefaults": {
           "arrowcolor": "#2a3f5f",
           "arrowhead": 0,
           "arrowwidth": 1
          },
          "autotypenumbers": "strict",
          "coloraxis": {
           "colorbar": {
            "outlinewidth": 0,
            "ticks": ""
           }
          },
          "colorscale": {
           "diverging": [
            [
             0,
             "#8e0152"
            ],
            [
             0.1,
             "#c51b7d"
            ],
            [
             0.2,
             "#de77ae"
            ],
            [
             0.3,
             "#f1b6da"
            ],
            [
             0.4,
             "#fde0ef"
            ],
            [
             0.5,
             "#f7f7f7"
            ],
            [
             0.6,
             "#e6f5d0"
            ],
            [
             0.7,
             "#b8e186"
            ],
            [
             0.8,
             "#7fbc41"
            ],
            [
             0.9,
             "#4d9221"
            ],
            [
             1,
             "#276419"
            ]
           ],
           "sequential": [
            [
             0,
             "#0d0887"
            ],
            [
             0.1111111111111111,
             "#46039f"
            ],
            [
             0.2222222222222222,
             "#7201a8"
            ],
            [
             0.3333333333333333,
             "#9c179e"
            ],
            [
             0.4444444444444444,
             "#bd3786"
            ],
            [
             0.5555555555555556,
             "#d8576b"
            ],
            [
             0.6666666666666666,
             "#ed7953"
            ],
            [
             0.7777777777777778,
             "#fb9f3a"
            ],
            [
             0.8888888888888888,
             "#fdca26"
            ],
            [
             1,
             "#f0f921"
            ]
           ],
           "sequentialminus": [
            [
             0,
             "#0d0887"
            ],
            [
             0.1111111111111111,
             "#46039f"
            ],
            [
             0.2222222222222222,
             "#7201a8"
            ],
            [
             0.3333333333333333,
             "#9c179e"
            ],
            [
             0.4444444444444444,
             "#bd3786"
            ],
            [
             0.5555555555555556,
             "#d8576b"
            ],
            [
             0.6666666666666666,
             "#ed7953"
            ],
            [
             0.7777777777777778,
             "#fb9f3a"
            ],
            [
             0.8888888888888888,
             "#fdca26"
            ],
            [
             1,
             "#f0f921"
            ]
           ]
          },
          "colorway": [
           "#636efa",
           "#EF553B",
           "#00cc96",
           "#ab63fa",
           "#FFA15A",
           "#19d3f3",
           "#FF6692",
           "#B6E880",
           "#FF97FF",
           "#FECB52"
          ],
          "font": {
           "color": "#2a3f5f"
          },
          "geo": {
           "bgcolor": "white",
           "lakecolor": "white",
           "landcolor": "#E5ECF6",
           "showlakes": true,
           "showland": true,
           "subunitcolor": "white"
          },
          "hoverlabel": {
           "align": "left"
          },
          "hovermode": "closest",
          "mapbox": {
           "style": "light"
          },
          "paper_bgcolor": "white",
          "plot_bgcolor": "#E5ECF6",
          "polar": {
           "angularaxis": {
            "gridcolor": "white",
            "linecolor": "white",
            "ticks": ""
           },
           "bgcolor": "#E5ECF6",
           "radialaxis": {
            "gridcolor": "white",
            "linecolor": "white",
            "ticks": ""
           }
          },
          "scene": {
           "xaxis": {
            "backgroundcolor": "#E5ECF6",
            "gridcolor": "white",
            "gridwidth": 2,
            "linecolor": "white",
            "showbackground": true,
            "ticks": "",
            "zerolinecolor": "white"
           },
           "yaxis": {
            "backgroundcolor": "#E5ECF6",
            "gridcolor": "white",
            "gridwidth": 2,
            "linecolor": "white",
            "showbackground": true,
            "ticks": "",
            "zerolinecolor": "white"
           },
           "zaxis": {
            "backgroundcolor": "#E5ECF6",
            "gridcolor": "white",
            "gridwidth": 2,
            "linecolor": "white",
            "showbackground": true,
            "ticks": "",
            "zerolinecolor": "white"
           }
          },
          "shapedefaults": {
           "line": {
            "color": "#2a3f5f"
           }
          },
          "ternary": {
           "aaxis": {
            "gridcolor": "white",
            "linecolor": "white",
            "ticks": ""
           },
           "baxis": {
            "gridcolor": "white",
            "linecolor": "white",
            "ticks": ""
           },
           "bgcolor": "#E5ECF6",
           "caxis": {
            "gridcolor": "white",
            "linecolor": "white",
            "ticks": ""
           }
          },
          "title": {
           "x": 0.05
          },
          "xaxis": {
           "automargin": true,
           "gridcolor": "white",
           "linecolor": "white",
           "ticks": "",
           "title": {
            "standoff": 15
           },
           "zerolinecolor": "white",
           "zerolinewidth": 2
          },
          "yaxis": {
           "automargin": true,
           "gridcolor": "white",
           "linecolor": "white",
           "ticks": "",
           "title": {
            "standoff": 15
           },
           "zerolinecolor": "white",
           "zerolinewidth": 2
          }
         }
        },
        "title": {
         "text": "Nombre d'immatriculations par mois",
         "x": 0.5,
         "xanchor": "center",
         "y": 0.9,
         "yanchor": "top"
        },
        "xaxis": {
         "anchor": "y",
         "domain": [
          0,
          1
         ],
         "ticktext": [
          "Janvier",
          "Février",
          "Mars",
          "Avril",
          "Mai",
          "Juin",
          "Juil.",
          "Août",
          "Sept.",
          "Oct.",
          "Nov.",
          "Déc."
         ],
         "tickvals": [
          1,
          2,
          3,
          4,
          5,
          6,
          7,
          8,
          9,
          10,
          11,
          12
         ],
         "title": {
          "text": "Mois"
         }
        },
        "yaxis": {
         "anchor": "x",
         "domain": [
          0,
          1
         ],
         "title": {
          "text": "Nombre d'immatriculations"
         }
        }
       }
      }
     },
     "metadata": {},
     "output_type": "display_data"
    }
   ],
   "source": [
    "co2.viz.plot_registrations_per_month(df)"
   ]
  },
  {
   "cell_type": "code",
   "execution_count": 22,
   "metadata": {},
   "outputs": [
    {
     "data": {
      "text/html": [
       "<style type=\"text/css\">\n",
       "#T_f98ef th {\n",
       "  background-color: steelblue;\n",
       "  color: white;\n",
       "}\n",
       "#T_f98ef tr:nth-of-type(odd) {\n",
       "  background-color: aliceblue;\n",
       "}\n",
       "#T_f98ef tr:nth-of-type(even) {\n",
       "  background-color: white;\n",
       "}\n",
       "</style>\n",
       "<table id=\"T_f98ef\">\n",
       "  <thead>\n",
       "    <tr>\n",
       "      <th class=\"blank level0\" >&nbsp;</th>\n",
       "      <th id=\"T_f98ef_level0_col0\" class=\"col_heading level0 col0\" >Column</th>\n",
       "      <th id=\"T_f98ef_level0_col1\" class=\"col_heading level0 col1\" >Non-Null Count</th>\n",
       "      <th id=\"T_f98ef_level0_col2\" class=\"col_heading level0 col2\" >Dtype</th>\n",
       "    </tr>\n",
       "  </thead>\n",
       "  <tbody>\n",
       "    <tr>\n",
       "      <th id=\"T_f98ef_level0_row0\" class=\"row_heading level0 row0\" >0</th>\n",
       "      <td id=\"T_f98ef_row0_col0\" class=\"data row0 col0\" >ID</td>\n",
       "      <td id=\"T_f98ef_row0_col1\" class=\"data row0 col1\" >4744 non-null</td>\n",
       "      <td id=\"T_f98ef_row0_col2\" class=\"data row0 col2\" >int64</td>\n",
       "    </tr>\n",
       "    <tr>\n",
       "      <th id=\"T_f98ef_level0_row1\" class=\"row_heading level0 row1\" >1</th>\n",
       "      <td id=\"T_f98ef_row1_col0\" class=\"data row1 col0\" >Country</td>\n",
       "      <td id=\"T_f98ef_row1_col1\" class=\"data row1 col1\" >4744 non-null</td>\n",
       "      <td id=\"T_f98ef_row1_col2\" class=\"data row1 col2\" >object</td>\n",
       "    </tr>\n",
       "    <tr>\n",
       "      <th id=\"T_f98ef_level0_row2\" class=\"row_heading level0 row2\" >2</th>\n",
       "      <td id=\"T_f98ef_row2_col0\" class=\"data row2 col0\" >Pool</td>\n",
       "      <td id=\"T_f98ef_row2_col1\" class=\"data row2 col1\" >4744 non-null</td>\n",
       "      <td id=\"T_f98ef_row2_col2\" class=\"data row2 col2\" >object</td>\n",
       "    </tr>\n",
       "    <tr>\n",
       "      <th id=\"T_f98ef_level0_row3\" class=\"row_heading level0 row3\" >3</th>\n",
       "      <td id=\"T_f98ef_row3_col0\" class=\"data row3 col0\" >ManufacturerName</td>\n",
       "      <td id=\"T_f98ef_row3_col1\" class=\"data row3 col1\" >4744 non-null</td>\n",
       "      <td id=\"T_f98ef_row3_col2\" class=\"data row3 col2\" >object</td>\n",
       "    </tr>\n",
       "    <tr>\n",
       "      <th id=\"T_f98ef_level0_row4\" class=\"row_heading level0 row4\" >4</th>\n",
       "      <td id=\"T_f98ef_row4_col0\" class=\"data row4 col0\" >ManufNameOem</td>\n",
       "      <td id=\"T_f98ef_row4_col1\" class=\"data row4 col1\" >4744 non-null</td>\n",
       "      <td id=\"T_f98ef_row4_col2\" class=\"data row4 col2\" >object</td>\n",
       "    </tr>\n",
       "    <tr>\n",
       "      <th id=\"T_f98ef_level0_row5\" class=\"row_heading level0 row5\" >5</th>\n",
       "      <td id=\"T_f98ef_row5_col0\" class=\"data row5 col0\" >Make</td>\n",
       "      <td id=\"T_f98ef_row5_col1\" class=\"data row5 col1\" >4744 non-null</td>\n",
       "      <td id=\"T_f98ef_row5_col2\" class=\"data row5 col2\" >object</td>\n",
       "    </tr>\n",
       "    <tr>\n",
       "      <th id=\"T_f98ef_level0_row6\" class=\"row_heading level0 row6\" >6</th>\n",
       "      <td id=\"T_f98ef_row6_col0\" class=\"data row6 col0\" >CommercialName</td>\n",
       "      <td id=\"T_f98ef_row6_col1\" class=\"data row6 col1\" >4744 non-null</td>\n",
       "      <td id=\"T_f98ef_row6_col2\" class=\"data row6 col2\" >object</td>\n",
       "    </tr>\n",
       "    <tr>\n",
       "      <th id=\"T_f98ef_level0_row7\" class=\"row_heading level0 row7\" >7</th>\n",
       "      <td id=\"T_f98ef_row7_col0\" class=\"data row7 col0\" >CategoryOf</td>\n",
       "      <td id=\"T_f98ef_row7_col1\" class=\"data row7 col1\" >4744 non-null</td>\n",
       "      <td id=\"T_f98ef_row7_col2\" class=\"data row7 col2\" >object</td>\n",
       "    </tr>\n",
       "    <tr>\n",
       "      <th id=\"T_f98ef_level0_row8\" class=\"row_heading level0 row8\" >8</th>\n",
       "      <td id=\"T_f98ef_row8_col0\" class=\"data row8 col0\" >MassRunningOrder</td>\n",
       "      <td id=\"T_f98ef_row8_col1\" class=\"data row8 col1\" >4744 non-null</td>\n",
       "      <td id=\"T_f98ef_row8_col2\" class=\"data row8 col2\" >float64</td>\n",
       "    </tr>\n",
       "    <tr>\n",
       "      <th id=\"T_f98ef_level0_row9\" class=\"row_heading level0 row9\" >9</th>\n",
       "      <td id=\"T_f98ef_row9_col0\" class=\"data row9 col0\" >WltpTestMass</td>\n",
       "      <td id=\"T_f98ef_row9_col1\" class=\"data row9 col1\" >3864 non-null</td>\n",
       "      <td id=\"T_f98ef_row9_col2\" class=\"data row9 col2\" >float64</td>\n",
       "    </tr>\n",
       "    <tr>\n",
       "      <th id=\"T_f98ef_level0_row10\" class=\"row_heading level0 row10\" >10</th>\n",
       "      <td id=\"T_f98ef_row10_col0\" class=\"data row10 col0\" >Co2EmissionsWltp</td>\n",
       "      <td id=\"T_f98ef_row10_col1\" class=\"data row10 col1\" >4744 non-null</td>\n",
       "      <td id=\"T_f98ef_row10_col2\" class=\"data row10 col2\" >float64</td>\n",
       "    </tr>\n",
       "    <tr>\n",
       "      <th id=\"T_f98ef_level0_row11\" class=\"row_heading level0 row11\" >11</th>\n",
       "      <td id=\"T_f98ef_row11_col0\" class=\"data row11 col0\" >BaseWheel</td>\n",
       "      <td id=\"T_f98ef_row11_col1\" class=\"data row11 col1\" >4744 non-null</td>\n",
       "      <td id=\"T_f98ef_row11_col2\" class=\"data row11 col2\" >float64</td>\n",
       "    </tr>\n",
       "    <tr>\n",
       "      <th id=\"T_f98ef_level0_row12\" class=\"row_heading level0 row12\" >12</th>\n",
       "      <td id=\"T_f98ef_row12_col0\" class=\"data row12 col0\" >AxleWidthSteering</td>\n",
       "      <td id=\"T_f98ef_row12_col1\" class=\"data row12 col1\" >4744 non-null</td>\n",
       "      <td id=\"T_f98ef_row12_col2\" class=\"data row12 col2\" >float64</td>\n",
       "    </tr>\n",
       "    <tr>\n",
       "      <th id=\"T_f98ef_level0_row13\" class=\"row_heading level0 row13\" >13</th>\n",
       "      <td id=\"T_f98ef_row13_col0\" class=\"data row13 col0\" >FuelType</td>\n",
       "      <td id=\"T_f98ef_row13_col1\" class=\"data row13 col1\" >4744 non-null</td>\n",
       "      <td id=\"T_f98ef_row13_col2\" class=\"data row13 col2\" >object</td>\n",
       "    </tr>\n",
       "    <tr>\n",
       "      <th id=\"T_f98ef_level0_row14\" class=\"row_heading level0 row14\" >14</th>\n",
       "      <td id=\"T_f98ef_row14_col0\" class=\"data row14 col0\" >FuelMode</td>\n",
       "      <td id=\"T_f98ef_row14_col1\" class=\"data row14 col1\" >4744 non-null</td>\n",
       "      <td id=\"T_f98ef_row14_col2\" class=\"data row14 col2\" >object</td>\n",
       "    </tr>\n",
       "    <tr>\n",
       "      <th id=\"T_f98ef_level0_row15\" class=\"row_heading level0 row15\" >15</th>\n",
       "      <td id=\"T_f98ef_row15_col0\" class=\"data row15 col0\" >EngineCapacity</td>\n",
       "      <td id=\"T_f98ef_row15_col1\" class=\"data row15 col1\" >4295 non-null</td>\n",
       "      <td id=\"T_f98ef_row15_col2\" class=\"data row15 col2\" >float64</td>\n",
       "    </tr>\n",
       "    <tr>\n",
       "      <th id=\"T_f98ef_level0_row16\" class=\"row_heading level0 row16\" >16</th>\n",
       "      <td id=\"T_f98ef_row16_col0\" class=\"data row16 col0\" >EnginePower</td>\n",
       "      <td id=\"T_f98ef_row16_col1\" class=\"data row16 col1\" >4744 non-null</td>\n",
       "      <td id=\"T_f98ef_row16_col2\" class=\"data row16 col2\" >float64</td>\n",
       "    </tr>\n",
       "    <tr>\n",
       "      <th id=\"T_f98ef_level0_row17\" class=\"row_heading level0 row17\" >17</th>\n",
       "      <td id=\"T_f98ef_row17_col0\" class=\"data row17 col0\" >ElectricConsumption</td>\n",
       "      <td id=\"T_f98ef_row17_col1\" class=\"data row17 col1\" >675 non-null</td>\n",
       "      <td id=\"T_f98ef_row17_col2\" class=\"data row17 col2\" >float64</td>\n",
       "    </tr>\n",
       "    <tr>\n",
       "      <th id=\"T_f98ef_level0_row18\" class=\"row_heading level0 row18\" >18</th>\n",
       "      <td id=\"T_f98ef_row18_col0\" class=\"data row18 col0\" >InnovativeTechnology</td>\n",
       "      <td id=\"T_f98ef_row18_col1\" class=\"data row18 col1\" >2308 non-null</td>\n",
       "      <td id=\"T_f98ef_row18_col2\" class=\"data row18 col2\" >object</td>\n",
       "    </tr>\n",
       "    <tr>\n",
       "      <th id=\"T_f98ef_level0_row19\" class=\"row_heading level0 row19\" >19</th>\n",
       "      <td id=\"T_f98ef_row19_col0\" class=\"data row19 col0\" >InnovativeEmissionsReductionWltp</td>\n",
       "      <td id=\"T_f98ef_row19_col1\" class=\"data row19 col1\" >2166 non-null</td>\n",
       "      <td id=\"T_f98ef_row19_col2\" class=\"data row19 col2\" >float64</td>\n",
       "    </tr>\n",
       "    <tr>\n",
       "      <th id=\"T_f98ef_level0_row20\" class=\"row_heading level0 row20\" >20</th>\n",
       "      <td id=\"T_f98ef_row20_col0\" class=\"data row20 col0\" >RegistrationDate</td>\n",
       "      <td id=\"T_f98ef_row20_col1\" class=\"data row20 col1\" >4271 non-null</td>\n",
       "      <td id=\"T_f98ef_row20_col2\" class=\"data row20 col2\" >datetime64[ns]</td>\n",
       "    </tr>\n",
       "    <tr>\n",
       "      <th id=\"T_f98ef_level0_row21\" class=\"row_heading level0 row21\" >21</th>\n",
       "      <td id=\"T_f98ef_row21_col0\" class=\"data row21 col0\" >FuelConsumption</td>\n",
       "      <td id=\"T_f98ef_row21_col1\" class=\"data row21 col1\" >4744 non-null</td>\n",
       "      <td id=\"T_f98ef_row21_col2\" class=\"data row21 col2\" >float64</td>\n",
       "    </tr>\n",
       "    <tr>\n",
       "      <th id=\"T_f98ef_level0_row22\" class=\"row_heading level0 row22\" >22</th>\n",
       "      <td id=\"T_f98ef_row22_col0\" class=\"data row22 col0\" >ElectricRange</td>\n",
       "      <td id=\"T_f98ef_row22_col1\" class=\"data row22 col1\" >4744 non-null</td>\n",
       "      <td id=\"T_f98ef_row22_col2\" class=\"data row22 col2\" >float64</td>\n",
       "    </tr>\n",
       "    <tr>\n",
       "      <th id=\"T_f98ef_level0_row23\" class=\"row_heading level0 row23\" >23</th>\n",
       "      <td id=\"T_f98ef_row23_col0\" class=\"data row23 col0\" >Co2Grade</td>\n",
       "      <td id=\"T_f98ef_row23_col1\" class=\"data row23 col1\" >4744 non-null</td>\n",
       "      <td id=\"T_f98ef_row23_col2\" class=\"data row23 col2\" >category</td>\n",
       "    </tr>\n",
       "    <tr>\n",
       "      <th id=\"T_f98ef_level0_row24\" class=\"row_heading level0 row24\" >24</th>\n",
       "      <td id=\"T_f98ef_row24_col0\" class=\"data row24 col0\" >Month</td>\n",
       "      <td id=\"T_f98ef_row24_col1\" class=\"data row24 col1\" >4271 non-null</td>\n",
       "      <td id=\"T_f98ef_row24_col2\" class=\"data row24 col2\" >float64</td>\n",
       "    </tr>\n",
       "  </tbody>\n",
       "</table>\n"
      ],
      "text/plain": [
       "<pandas.io.formats.style.Styler at 0x7f97fd9185e0>"
      ]
     },
     "metadata": {},
     "output_type": "display_data"
    },
    {
     "data": {
      "text/html": [
       "<style type=\"text/css\">\n",
       "#T_44818 th {\n",
       "  background-color: steelblue;\n",
       "  color: white;\n",
       "}\n",
       "#T_44818 tr:nth-of-type(odd) {\n",
       "  background-color: aliceblue;\n",
       "}\n",
       "#T_44818 tr:nth-of-type(even) {\n",
       "  background-color: white;\n",
       "}\n",
       "</style>\n",
       "<table id=\"T_44818\">\n",
       "  <thead>\n",
       "    <tr>\n",
       "      <th class=\"blank level0\" >&nbsp;</th>\n",
       "      <th id=\"T_44818_level0_col0\" class=\"col_heading level0 col0\" >Info</th>\n",
       "    </tr>\n",
       "  </thead>\n",
       "  <tbody>\n",
       "    <tr>\n",
       "      <th id=\"T_44818_level0_row0\" class=\"row_heading level0 row0\" >0</th>\n",
       "      <td id=\"T_44818_row0_col0\" class=\"data row0 col0\" >Index: 4744 entries, 0 to 4999</td>\n",
       "    </tr>\n",
       "    <tr>\n",
       "      <th id=\"T_44818_level0_row1\" class=\"row_heading level0 row1\" >1</th>\n",
       "      <td id=\"T_44818_row1_col0\" class=\"data row1 col0\" >Data columns (total 25 columns):</td>\n",
       "    </tr>\n",
       "    <tr>\n",
       "      <th id=\"T_44818_level0_row2\" class=\"row_heading level0 row2\" >2</th>\n",
       "      <td id=\"T_44818_row2_col0\" class=\"data row2 col0\" > 24  Month                             4271 non-null   float64       </td>\n",
       "    </tr>\n",
       "    <tr>\n",
       "      <th id=\"T_44818_level0_row3\" class=\"row_heading level0 row3\" >3</th>\n",
       "      <td id=\"T_44818_row3_col0\" class=\"data row3 col0\" >dtypes: category(1), datetime64[ns](1), float64(12), int64(1), object(10)</td>\n",
       "    </tr>\n",
       "    <tr>\n",
       "      <th id=\"T_44818_level0_row4\" class=\"row_heading level0 row4\" >4</th>\n",
       "      <td id=\"T_44818_row4_col0\" class=\"data row4 col0\" >memory usage: 931.5+ KB</td>\n",
       "    </tr>\n",
       "  </tbody>\n",
       "</table>\n"
      ],
      "text/plain": [
       "<pandas.io.formats.style.Styler at 0x7f97fd918ee0>"
      ]
     },
     "metadata": {},
     "output_type": "display_data"
    }
   ],
   "source": [
    "co2.styles.display_info(df)"
   ]
  },
  {
   "cell_type": "code",
   "execution_count": 23,
   "metadata": {},
   "outputs": [
    {
     "data": {
      "text/html": [
       "<style type=\"text/css\">\n",
       "#T_937d0 th {\n",
       "  background-color: steelblue;\n",
       "  color: white;\n",
       "}\n",
       "#T_937d0 tr:nth-of-type(odd) {\n",
       "  background-color: aliceblue;\n",
       "}\n",
       "#T_937d0 tr:nth-of-type(even) {\n",
       "  background-color: white;\n",
       "}\n",
       "#T_937d0_row0_col1 {\n",
       "  width: 10em;\n",
       "  background: linear-gradient(90deg, lightcoral 100.0%, transparent 100.0%);\n",
       "}\n",
       "#T_937d0_row1_col1 {\n",
       "  width: 10em;\n",
       "  background: linear-gradient(90deg, lightcoral 63.4%, transparent 63.4%);\n",
       "}\n",
       "#T_937d0_row2_col1 {\n",
       "  width: 10em;\n",
       "  background: linear-gradient(90deg, lightcoral 59.9%, transparent 59.9%);\n",
       "}\n",
       "#T_937d0_row3_col1 {\n",
       "  width: 10em;\n",
       "  background: linear-gradient(90deg, lightcoral 21.6%, transparent 21.6%);\n",
       "}\n",
       "#T_937d0_row4_col1, #T_937d0_row5_col1 {\n",
       "  width: 10em;\n",
       "  background: linear-gradient(90deg, lightcoral 11.6%, transparent 11.6%);\n",
       "}\n",
       "#T_937d0_row6_col1 {\n",
       "  width: 10em;\n",
       "  background: linear-gradient(90deg, lightcoral 11.0%, transparent 11.0%);\n",
       "}\n",
       "#T_937d0_row7_col1, #T_937d0_row8_col1, #T_937d0_row9_col1, #T_937d0_row10_col1, #T_937d0_row11_col1, #T_937d0_row12_col1, #T_937d0_row13_col1, #T_937d0_row14_col1, #T_937d0_row15_col1, #T_937d0_row16_col1, #T_937d0_row17_col1, #T_937d0_row18_col1, #T_937d0_row19_col1, #T_937d0_row20_col1, #T_937d0_row21_col1, #T_937d0_row22_col1, #T_937d0_row23_col1, #T_937d0_row24_col1 {\n",
       "  width: 10em;\n",
       "}\n",
       "</style>\n",
       "<table id=\"T_937d0\">\n",
       "  <thead>\n",
       "    <tr>\n",
       "      <th class=\"blank level0\" >&nbsp;</th>\n",
       "      <th id=\"T_937d0_level0_col0\" class=\"col_heading level0 col0\" >Colonne</th>\n",
       "      <th id=\"T_937d0_level0_col1\" class=\"col_heading level0 col1\" >Valeurs manquantes (%)</th>\n",
       "    </tr>\n",
       "  </thead>\n",
       "  <tbody>\n",
       "    <tr>\n",
       "      <th id=\"T_937d0_level0_row0\" class=\"row_heading level0 row0\" >0</th>\n",
       "      <td id=\"T_937d0_row0_col0\" class=\"data row0 col0\" >ElectricConsumption</td>\n",
       "      <td id=\"T_937d0_row0_col1\" class=\"data row0 col1\" >85.77%</td>\n",
       "    </tr>\n",
       "    <tr>\n",
       "      <th id=\"T_937d0_level0_row1\" class=\"row_heading level0 row1\" >1</th>\n",
       "      <td id=\"T_937d0_row1_col0\" class=\"data row1 col0\" >InnovativeEmissionsReductionWltp</td>\n",
       "      <td id=\"T_937d0_row1_col1\" class=\"data row1 col1\" >54.34%</td>\n",
       "    </tr>\n",
       "    <tr>\n",
       "      <th id=\"T_937d0_level0_row2\" class=\"row_heading level0 row2\" >2</th>\n",
       "      <td id=\"T_937d0_row2_col0\" class=\"data row2 col0\" >InnovativeTechnology</td>\n",
       "      <td id=\"T_937d0_row2_col1\" class=\"data row2 col1\" >51.35%</td>\n",
       "    </tr>\n",
       "    <tr>\n",
       "      <th id=\"T_937d0_level0_row3\" class=\"row_heading level0 row3\" >3</th>\n",
       "      <td id=\"T_937d0_row3_col0\" class=\"data row3 col0\" >WltpTestMass</td>\n",
       "      <td id=\"T_937d0_row3_col1\" class=\"data row3 col1\" >18.55%</td>\n",
       "    </tr>\n",
       "    <tr>\n",
       "      <th id=\"T_937d0_level0_row4\" class=\"row_heading level0 row4\" >4</th>\n",
       "      <td id=\"T_937d0_row4_col0\" class=\"data row4 col0\" >RegistrationDate</td>\n",
       "      <td id=\"T_937d0_row4_col1\" class=\"data row4 col1\" >9.97%</td>\n",
       "    </tr>\n",
       "    <tr>\n",
       "      <th id=\"T_937d0_level0_row5\" class=\"row_heading level0 row5\" >5</th>\n",
       "      <td id=\"T_937d0_row5_col0\" class=\"data row5 col0\" >Month</td>\n",
       "      <td id=\"T_937d0_row5_col1\" class=\"data row5 col1\" >9.97%</td>\n",
       "    </tr>\n",
       "    <tr>\n",
       "      <th id=\"T_937d0_level0_row6\" class=\"row_heading level0 row6\" >6</th>\n",
       "      <td id=\"T_937d0_row6_col0\" class=\"data row6 col0\" >EngineCapacity</td>\n",
       "      <td id=\"T_937d0_row6_col1\" class=\"data row6 col1\" >9.46%</td>\n",
       "    </tr>\n",
       "    <tr>\n",
       "      <th id=\"T_937d0_level0_row7\" class=\"row_heading level0 row7\" >7</th>\n",
       "      <td id=\"T_937d0_row7_col0\" class=\"data row7 col0\" >Country</td>\n",
       "      <td id=\"T_937d0_row7_col1\" class=\"data row7 col1\" >0.00%</td>\n",
       "    </tr>\n",
       "    <tr>\n",
       "      <th id=\"T_937d0_level0_row8\" class=\"row_heading level0 row8\" >8</th>\n",
       "      <td id=\"T_937d0_row8_col0\" class=\"data row8 col0\" >ID</td>\n",
       "      <td id=\"T_937d0_row8_col1\" class=\"data row8 col1\" >0.00%</td>\n",
       "    </tr>\n",
       "    <tr>\n",
       "      <th id=\"T_937d0_level0_row9\" class=\"row_heading level0 row9\" >9</th>\n",
       "      <td id=\"T_937d0_row9_col0\" class=\"data row9 col0\" >MassRunningOrder</td>\n",
       "      <td id=\"T_937d0_row9_col1\" class=\"data row9 col1\" >0.00%</td>\n",
       "    </tr>\n",
       "    <tr>\n",
       "      <th id=\"T_937d0_level0_row10\" class=\"row_heading level0 row10\" >10</th>\n",
       "      <td id=\"T_937d0_row10_col0\" class=\"data row10 col0\" >CategoryOf</td>\n",
       "      <td id=\"T_937d0_row10_col1\" class=\"data row10 col1\" >0.00%</td>\n",
       "    </tr>\n",
       "    <tr>\n",
       "      <th id=\"T_937d0_level0_row11\" class=\"row_heading level0 row11\" >11</th>\n",
       "      <td id=\"T_937d0_row11_col0\" class=\"data row11 col0\" >CommercialName</td>\n",
       "      <td id=\"T_937d0_row11_col1\" class=\"data row11 col1\" >0.00%</td>\n",
       "    </tr>\n",
       "    <tr>\n",
       "      <th id=\"T_937d0_level0_row12\" class=\"row_heading level0 row12\" >12</th>\n",
       "      <td id=\"T_937d0_row12_col0\" class=\"data row12 col0\" >Make</td>\n",
       "      <td id=\"T_937d0_row12_col1\" class=\"data row12 col1\" >0.00%</td>\n",
       "    </tr>\n",
       "    <tr>\n",
       "      <th id=\"T_937d0_level0_row13\" class=\"row_heading level0 row13\" >13</th>\n",
       "      <td id=\"T_937d0_row13_col0\" class=\"data row13 col0\" >ManufNameOem</td>\n",
       "      <td id=\"T_937d0_row13_col1\" class=\"data row13 col1\" >0.00%</td>\n",
       "    </tr>\n",
       "    <tr>\n",
       "      <th id=\"T_937d0_level0_row14\" class=\"row_heading level0 row14\" >14</th>\n",
       "      <td id=\"T_937d0_row14_col0\" class=\"data row14 col0\" >ManufacturerName</td>\n",
       "      <td id=\"T_937d0_row14_col1\" class=\"data row14 col1\" >0.00%</td>\n",
       "    </tr>\n",
       "    <tr>\n",
       "      <th id=\"T_937d0_level0_row15\" class=\"row_heading level0 row15\" >15</th>\n",
       "      <td id=\"T_937d0_row15_col0\" class=\"data row15 col0\" >Pool</td>\n",
       "      <td id=\"T_937d0_row15_col1\" class=\"data row15 col1\" >0.00%</td>\n",
       "    </tr>\n",
       "    <tr>\n",
       "      <th id=\"T_937d0_level0_row16\" class=\"row_heading level0 row16\" >16</th>\n",
       "      <td id=\"T_937d0_row16_col0\" class=\"data row16 col0\" >BaseWheel</td>\n",
       "      <td id=\"T_937d0_row16_col1\" class=\"data row16 col1\" >0.00%</td>\n",
       "    </tr>\n",
       "    <tr>\n",
       "      <th id=\"T_937d0_level0_row17\" class=\"row_heading level0 row17\" >17</th>\n",
       "      <td id=\"T_937d0_row17_col0\" class=\"data row17 col0\" >EnginePower</td>\n",
       "      <td id=\"T_937d0_row17_col1\" class=\"data row17 col1\" >0.00%</td>\n",
       "    </tr>\n",
       "    <tr>\n",
       "      <th id=\"T_937d0_level0_row18\" class=\"row_heading level0 row18\" >18</th>\n",
       "      <td id=\"T_937d0_row18_col0\" class=\"data row18 col0\" >FuelMode</td>\n",
       "      <td id=\"T_937d0_row18_col1\" class=\"data row18 col1\" >0.00%</td>\n",
       "    </tr>\n",
       "    <tr>\n",
       "      <th id=\"T_937d0_level0_row19\" class=\"row_heading level0 row19\" >19</th>\n",
       "      <td id=\"T_937d0_row19_col0\" class=\"data row19 col0\" >FuelType</td>\n",
       "      <td id=\"T_937d0_row19_col1\" class=\"data row19 col1\" >0.00%</td>\n",
       "    </tr>\n",
       "    <tr>\n",
       "      <th id=\"T_937d0_level0_row20\" class=\"row_heading level0 row20\" >20</th>\n",
       "      <td id=\"T_937d0_row20_col0\" class=\"data row20 col0\" >AxleWidthSteering</td>\n",
       "      <td id=\"T_937d0_row20_col1\" class=\"data row20 col1\" >0.00%</td>\n",
       "    </tr>\n",
       "    <tr>\n",
       "      <th id=\"T_937d0_level0_row21\" class=\"row_heading level0 row21\" >21</th>\n",
       "      <td id=\"T_937d0_row21_col0\" class=\"data row21 col0\" >Co2EmissionsWltp</td>\n",
       "      <td id=\"T_937d0_row21_col1\" class=\"data row21 col1\" >0.00%</td>\n",
       "    </tr>\n",
       "    <tr>\n",
       "      <th id=\"T_937d0_level0_row22\" class=\"row_heading level0 row22\" >22</th>\n",
       "      <td id=\"T_937d0_row22_col0\" class=\"data row22 col0\" >FuelConsumption</td>\n",
       "      <td id=\"T_937d0_row22_col1\" class=\"data row22 col1\" >0.00%</td>\n",
       "    </tr>\n",
       "    <tr>\n",
       "      <th id=\"T_937d0_level0_row23\" class=\"row_heading level0 row23\" >23</th>\n",
       "      <td id=\"T_937d0_row23_col0\" class=\"data row23 col0\" >ElectricRange</td>\n",
       "      <td id=\"T_937d0_row23_col1\" class=\"data row23 col1\" >0.00%</td>\n",
       "    </tr>\n",
       "    <tr>\n",
       "      <th id=\"T_937d0_level0_row24\" class=\"row_heading level0 row24\" >24</th>\n",
       "      <td id=\"T_937d0_row24_col0\" class=\"data row24 col0\" >Co2Grade</td>\n",
       "      <td id=\"T_937d0_row24_col1\" class=\"data row24 col1\" >0.00%</td>\n",
       "    </tr>\n",
       "  </tbody>\n",
       "</table>\n"
      ],
      "text/plain": [
       "<pandas.io.formats.style.Styler at 0x7f981c774520>"
      ]
     },
     "execution_count": 23,
     "metadata": {},
     "output_type": "execute_result"
    }
   ],
   "source": [
    "co2.styles.display_na(df)"
   ]
  },
  {
   "cell_type": "code",
   "execution_count": 24,
   "metadata": {},
   "outputs": [
    {
     "data": {
      "text/html": [
       "<style type=\"text/css\">\n",
       "#T_4e2e5 th {\n",
       "  background-color: steelblue;\n",
       "  color: white;\n",
       "}\n",
       "#T_4e2e5 tr:nth-of-type(odd) {\n",
       "  background-color: aliceblue;\n",
       "}\n",
       "#T_4e2e5 tr:nth-of-type(even) {\n",
       "  background-color: white;\n",
       "}\n",
       "</style>\n",
       "<table id=\"T_4e2e5\">\n",
       "  <thead>\n",
       "    <tr>\n",
       "      <th class=\"blank level0\" >&nbsp;</th>\n",
       "      <th id=\"T_4e2e5_level0_col0\" class=\"col_heading level0 col0\" >Colonne</th>\n",
       "      <th id=\"T_4e2e5_level0_col1\" class=\"col_heading level0 col1\" >count</th>\n",
       "      <th id=\"T_4e2e5_level0_col2\" class=\"col_heading level0 col2\" >mean</th>\n",
       "      <th id=\"T_4e2e5_level0_col3\" class=\"col_heading level0 col3\" >std</th>\n",
       "      <th id=\"T_4e2e5_level0_col4\" class=\"col_heading level0 col4\" >min</th>\n",
       "      <th id=\"T_4e2e5_level0_col5\" class=\"col_heading level0 col5\" >25%</th>\n",
       "      <th id=\"T_4e2e5_level0_col6\" class=\"col_heading level0 col6\" >50%</th>\n",
       "      <th id=\"T_4e2e5_level0_col7\" class=\"col_heading level0 col7\" >75%</th>\n",
       "      <th id=\"T_4e2e5_level0_col8\" class=\"col_heading level0 col8\" >max</th>\n",
       "    </tr>\n",
       "  </thead>\n",
       "  <tbody>\n",
       "    <tr>\n",
       "      <th id=\"T_4e2e5_level0_row0\" class=\"row_heading level0 row0\" >0</th>\n",
       "      <td id=\"T_4e2e5_row0_col0\" class=\"data row0 col0\" >ID</td>\n",
       "      <td id=\"T_4e2e5_row0_col1\" class=\"data row0 col1\" >4744.000000</td>\n",
       "      <td id=\"T_4e2e5_row0_col2\" class=\"data row0 col2\" >47121348.061973</td>\n",
       "      <td id=\"T_4e2e5_row0_col3\" class=\"data row0 col3\" >458.000000</td>\n",
       "      <td id=\"T_4e2e5_row0_col4\" class=\"data row0 col4\" >46648102.000000</td>\n",
       "      <td id=\"T_4e2e5_row0_col5\" class=\"data row0 col5\" >51727626.000000</td>\n",
       "      <td id=\"T_4e2e5_row0_col6\" class=\"data row0 col6\" >54835141.000000</td>\n",
       "      <td id=\"T_4e2e5_row0_col7\" class=\"data row0 col7\" >61299368.000000</td>\n",
       "      <td id=\"T_4e2e5_row0_col8\" class=\"data row0 col8\" >15409019.888541</td>\n",
       "    </tr>\n",
       "    <tr>\n",
       "      <th id=\"T_4e2e5_level0_row1\" class=\"row_heading level0 row1\" >1</th>\n",
       "      <td id=\"T_4e2e5_row1_col0\" class=\"data row1 col0\" >MassRunningOrder</td>\n",
       "      <td id=\"T_4e2e5_row1_col1\" class=\"data row1 col1\" >4744.000000</td>\n",
       "      <td id=\"T_4e2e5_row1_col2\" class=\"data row1 col2\" >1467.809444</td>\n",
       "      <td id=\"T_4e2e5_row1_col3\" class=\"data row1 col3\" >915.000000</td>\n",
       "      <td id=\"T_4e2e5_row1_col4\" class=\"data row1 col4\" >1235.000000</td>\n",
       "      <td id=\"T_4e2e5_row1_col5\" class=\"data row1 col5\" >1409.000000</td>\n",
       "      <td id=\"T_4e2e5_row1_col6\" class=\"data row1 col6\" >1624.000000</td>\n",
       "      <td id=\"T_4e2e5_row1_col7\" class=\"data row1 col7\" >3298.000000</td>\n",
       "      <td id=\"T_4e2e5_row1_col8\" class=\"data row1 col8\" >327.637628</td>\n",
       "    </tr>\n",
       "    <tr>\n",
       "      <th id=\"T_4e2e5_level0_row2\" class=\"row_heading level0 row2\" >2</th>\n",
       "      <td id=\"T_4e2e5_row2_col0\" class=\"data row2 col0\" >WltpTestMass</td>\n",
       "      <td id=\"T_4e2e5_row2_col1\" class=\"data row2 col1\" >3864.000000</td>\n",
       "      <td id=\"T_4e2e5_row2_col2\" class=\"data row2 col2\" >1601.792443</td>\n",
       "      <td id=\"T_4e2e5_row2_col3\" class=\"data row2 col3\" >978.000000</td>\n",
       "      <td id=\"T_4e2e5_row2_col4\" class=\"data row2 col4\" >1352.000000</td>\n",
       "      <td id=\"T_4e2e5_row2_col5\" class=\"data row2 col5\" >1538.000000</td>\n",
       "      <td id=\"T_4e2e5_row2_col6\" class=\"data row2 col6\" >1772.250000</td>\n",
       "      <td id=\"T_4e2e5_row2_col7\" class=\"data row2 col7\" >3344.000000</td>\n",
       "      <td id=\"T_4e2e5_row2_col8\" class=\"data row2 col8\" >352.610054</td>\n",
       "    </tr>\n",
       "    <tr>\n",
       "      <th id=\"T_4e2e5_level0_row3\" class=\"row_heading level0 row3\" >3</th>\n",
       "      <td id=\"T_4e2e5_row3_col0\" class=\"data row3 col0\" >Co2EmissionsWltp</td>\n",
       "      <td id=\"T_4e2e5_row3_col1\" class=\"data row3 col1\" >4744.000000</td>\n",
       "      <td id=\"T_4e2e5_row3_col2\" class=\"data row3 col2\" >116.084949</td>\n",
       "      <td id=\"T_4e2e5_row3_col3\" class=\"data row3 col3\" >0.000000</td>\n",
       "      <td id=\"T_4e2e5_row3_col4\" class=\"data row3 col4\" >112.000000</td>\n",
       "      <td id=\"T_4e2e5_row3_col5\" class=\"data row3 col5\" >126.000000</td>\n",
       "      <td id=\"T_4e2e5_row3_col6\" class=\"data row3 col6\" >141.000000</td>\n",
       "      <td id=\"T_4e2e5_row3_col7\" class=\"data row3 col7\" >373.000000</td>\n",
       "      <td id=\"T_4e2e5_row3_col8\" class=\"data row3 col8\" >51.586148</td>\n",
       "    </tr>\n",
       "    <tr>\n",
       "      <th id=\"T_4e2e5_level0_row4\" class=\"row_heading level0 row4\" >4</th>\n",
       "      <td id=\"T_4e2e5_row4_col0\" class=\"data row4 col0\" >BaseWheel</td>\n",
       "      <td id=\"T_4e2e5_row4_col1\" class=\"data row4 col1\" >4744.000000</td>\n",
       "      <td id=\"T_4e2e5_row4_col2\" class=\"data row4 col2\" >2651.202993</td>\n",
       "      <td id=\"T_4e2e5_row4_col3\" class=\"data row4 col3\" >1873.000000</td>\n",
       "      <td id=\"T_4e2e5_row4_col4\" class=\"data row4 col4\" >2560.000000</td>\n",
       "      <td id=\"T_4e2e5_row4_col5\" class=\"data row4 col5\" >2640.000000</td>\n",
       "      <td id=\"T_4e2e5_row4_col6\" class=\"data row4 col6\" >2712.000000</td>\n",
       "      <td id=\"T_4e2e5_row4_col7\" class=\"data row4 col7\" >4490.000000</td>\n",
       "      <td id=\"T_4e2e5_row4_col8\" class=\"data row4 col8\" >169.916225</td>\n",
       "    </tr>\n",
       "    <tr>\n",
       "      <th id=\"T_4e2e5_level0_row5\" class=\"row_heading level0 row5\" >5</th>\n",
       "      <td id=\"T_4e2e5_row5_col0\" class=\"data row5 col0\" >AxleWidthSteering</td>\n",
       "      <td id=\"T_4e2e5_row5_col1\" class=\"data row5 col1\" >4744.000000</td>\n",
       "      <td id=\"T_4e2e5_row5_col2\" class=\"data row5 col2\" >1548.929855</td>\n",
       "      <td id=\"T_4e2e5_row5_col3\" class=\"data row5 col3\" >1385.000000</td>\n",
       "      <td id=\"T_4e2e5_row5_col4\" class=\"data row5 col4\" >1521.000000</td>\n",
       "      <td id=\"T_4e2e5_row5_col5\" class=\"data row5 col5\" >1548.929855</td>\n",
       "      <td id=\"T_4e2e5_row5_col6\" class=\"data row5 col6\" >1574.000000</td>\n",
       "      <td id=\"T_4e2e5_row5_col7\" class=\"data row5 col7\" >2539.000000</td>\n",
       "      <td id=\"T_4e2e5_row5_col8\" class=\"data row5 col8\" >55.442124</td>\n",
       "    </tr>\n",
       "    <tr>\n",
       "      <th id=\"T_4e2e5_level0_row6\" class=\"row_heading level0 row6\" >6</th>\n",
       "      <td id=\"T_4e2e5_row6_col0\" class=\"data row6 col0\" >EngineCapacity</td>\n",
       "      <td id=\"T_4e2e5_row6_col1\" class=\"data row6 col1\" >4295.000000</td>\n",
       "      <td id=\"T_4e2e5_row6_col2\" class=\"data row6 col2\" >1510.459371</td>\n",
       "      <td id=\"T_4e2e5_row6_col3\" class=\"data row6 col3\" >875.000000</td>\n",
       "      <td id=\"T_4e2e5_row6_col4\" class=\"data row6 col4\" >999.000000</td>\n",
       "      <td id=\"T_4e2e5_row6_col5\" class=\"data row6 col5\" >1496.000000</td>\n",
       "      <td id=\"T_4e2e5_row6_col6\" class=\"data row6 col6\" >1950.000000</td>\n",
       "      <td id=\"T_4e2e5_row6_col7\" class=\"data row6 col7\" >6749.000000</td>\n",
       "      <td id=\"T_4e2e5_row6_col8\" class=\"data row6 col8\" >505.043694</td>\n",
       "    </tr>\n",
       "    <tr>\n",
       "      <th id=\"T_4e2e5_level0_row7\" class=\"row_heading level0 row7\" >7</th>\n",
       "      <td id=\"T_4e2e5_row7_col0\" class=\"data row7 col0\" >EnginePower</td>\n",
       "      <td id=\"T_4e2e5_row7_col1\" class=\"data row7 col1\" >4744.000000</td>\n",
       "      <td id=\"T_4e2e5_row7_col2\" class=\"data row7 col2\" >100.142074</td>\n",
       "      <td id=\"T_4e2e5_row7_col3\" class=\"data row7 col3\" >10.000000</td>\n",
       "      <td id=\"T_4e2e5_row7_col4\" class=\"data row7 col4\" >70.000000</td>\n",
       "      <td id=\"T_4e2e5_row7_col5\" class=\"data row7 col5\" >92.000000</td>\n",
       "      <td id=\"T_4e2e5_row7_col6\" class=\"data row7 col6\" >110.000000</td>\n",
       "      <td id=\"T_4e2e5_row7_col7\" class=\"data row7 col7\" >460.000000</td>\n",
       "      <td id=\"T_4e2e5_row7_col8\" class=\"data row7 col8\" >49.104801</td>\n",
       "    </tr>\n",
       "    <tr>\n",
       "      <th id=\"T_4e2e5_level0_row8\" class=\"row_heading level0 row8\" >8</th>\n",
       "      <td id=\"T_4e2e5_row8_col0\" class=\"data row8 col0\" >ElectricConsumption</td>\n",
       "      <td id=\"T_4e2e5_row8_col1\" class=\"data row8 col1\" >675.000000</td>\n",
       "      <td id=\"T_4e2e5_row8_col2\" class=\"data row8 col2\" >172.570370</td>\n",
       "      <td id=\"T_4e2e5_row8_col3\" class=\"data row8 col3\" >45.000000</td>\n",
       "      <td id=\"T_4e2e5_row8_col4\" class=\"data row8 col4\" >150.000000</td>\n",
       "      <td id=\"T_4e2e5_row8_col5\" class=\"data row8 col5\" >165.000000</td>\n",
       "      <td id=\"T_4e2e5_row8_col6\" class=\"data row8 col6\" >180.000000</td>\n",
       "      <td id=\"T_4e2e5_row8_col7\" class=\"data row8 col7\" >373.000000</td>\n",
       "      <td id=\"T_4e2e5_row8_col8\" class=\"data row8 col8\" >37.894383</td>\n",
       "    </tr>\n",
       "    <tr>\n",
       "      <th id=\"T_4e2e5_level0_row9\" class=\"row_heading level0 row9\" >9</th>\n",
       "      <td id=\"T_4e2e5_row9_col0\" class=\"data row9 col0\" >InnovativeEmissionsReductionWltp</td>\n",
       "      <td id=\"T_4e2e5_row9_col1\" class=\"data row9 col1\" >2166.000000</td>\n",
       "      <td id=\"T_4e2e5_row9_col2\" class=\"data row9 col2\" >1.519714</td>\n",
       "      <td id=\"T_4e2e5_row9_col3\" class=\"data row9 col3\" >0.500000</td>\n",
       "      <td id=\"T_4e2e5_row9_col4\" class=\"data row9 col4\" >1.000000</td>\n",
       "      <td id=\"T_4e2e5_row9_col5\" class=\"data row9 col5\" >1.600000</td>\n",
       "      <td id=\"T_4e2e5_row9_col6\" class=\"data row9 col6\" >1.900000</td>\n",
       "      <td id=\"T_4e2e5_row9_col7\" class=\"data row9 col7\" >4.300000</td>\n",
       "      <td id=\"T_4e2e5_row9_col8\" class=\"data row9 col8\" >0.511091</td>\n",
       "    </tr>\n",
       "    <tr>\n",
       "      <th id=\"T_4e2e5_level0_row10\" class=\"row_heading level0 row10\" >10</th>\n",
       "      <td id=\"T_4e2e5_row10_col0\" class=\"data row10 col0\" >RegistrationDate</td>\n",
       "      <td id=\"T_4e2e5_row10_col1\" class=\"data row10 col1\" >4271</td>\n",
       "      <td id=\"T_4e2e5_row10_col2\" class=\"data row10 col2\" >2021-06-25 14:30:12.221961984</td>\n",
       "      <td id=\"T_4e2e5_row10_col3\" class=\"data row10 col3\" >2021-01-04 00:00:00</td>\n",
       "      <td id=\"T_4e2e5_row10_col4\" class=\"data row10 col4\" >2021-03-30 00:00:00</td>\n",
       "      <td id=\"T_4e2e5_row10_col5\" class=\"data row10 col5\" >2021-06-17 00:00:00</td>\n",
       "      <td id=\"T_4e2e5_row10_col6\" class=\"data row10 col6\" >2021-09-23 00:00:00</td>\n",
       "      <td id=\"T_4e2e5_row10_col7\" class=\"data row10 col7\" >2021-12-31 00:00:00</td>\n",
       "      <td id=\"T_4e2e5_row10_col8\" class=\"data row10 col8\" >nan</td>\n",
       "    </tr>\n",
       "    <tr>\n",
       "      <th id=\"T_4e2e5_level0_row11\" class=\"row_heading level0 row11\" >11</th>\n",
       "      <td id=\"T_4e2e5_row11_col0\" class=\"data row11 col0\" >FuelConsumption</td>\n",
       "      <td id=\"T_4e2e5_row11_col1\" class=\"data row11 col1\" >4744.000000</td>\n",
       "      <td id=\"T_4e2e5_row11_col2\" class=\"data row11 col2\" >5.458152</td>\n",
       "      <td id=\"T_4e2e5_row11_col3\" class=\"data row11 col3\" >0.900000</td>\n",
       "      <td id=\"T_4e2e5_row11_col4\" class=\"data row11 col4\" >5.200000</td>\n",
       "      <td id=\"T_4e2e5_row11_col5\" class=\"data row11 col5\" >5.458152</td>\n",
       "      <td id=\"T_4e2e5_row11_col6\" class=\"data row11 col6\" >5.500000</td>\n",
       "      <td id=\"T_4e2e5_row11_col7\" class=\"data row11 col7\" >47.000000</td>\n",
       "      <td id=\"T_4e2e5_row11_col8\" class=\"data row11 col8\" >1.277073</td>\n",
       "    </tr>\n",
       "    <tr>\n",
       "      <th id=\"T_4e2e5_level0_row12\" class=\"row_heading level0 row12\" >12</th>\n",
       "      <td id=\"T_4e2e5_row12_col0\" class=\"data row12 col0\" >ElectricRange</td>\n",
       "      <td id=\"T_4e2e5_row12_col1\" class=\"data row12 col1\" >4744.000000</td>\n",
       "      <td id=\"T_4e2e5_row12_col2\" class=\"data row12 col2\" >29.410624</td>\n",
       "      <td id=\"T_4e2e5_row12_col3\" class=\"data row12 col3\" >0.000000</td>\n",
       "      <td id=\"T_4e2e5_row12_col4\" class=\"data row12 col4\" >0.000000</td>\n",
       "      <td id=\"T_4e2e5_row12_col5\" class=\"data row12 col5\" >0.000000</td>\n",
       "      <td id=\"T_4e2e5_row12_col6\" class=\"data row12 col6\" >0.000000</td>\n",
       "      <td id=\"T_4e2e5_row12_col7\" class=\"data row12 col7\" >640.000000</td>\n",
       "      <td id=\"T_4e2e5_row12_col8\" class=\"data row12 col8\" >100.327680</td>\n",
       "    </tr>\n",
       "    <tr>\n",
       "      <th id=\"T_4e2e5_level0_row13\" class=\"row_heading level0 row13\" >13</th>\n",
       "      <td id=\"T_4e2e5_row13_col0\" class=\"data row13 col0\" >Month</td>\n",
       "      <td id=\"T_4e2e5_row13_col1\" class=\"data row13 col1\" >4271.000000</td>\n",
       "      <td id=\"T_4e2e5_row13_col2\" class=\"data row13 col2\" >6.246546</td>\n",
       "      <td id=\"T_4e2e5_row13_col3\" class=\"data row13 col3\" >1.000000</td>\n",
       "      <td id=\"T_4e2e5_row13_col4\" class=\"data row13 col4\" >3.000000</td>\n",
       "      <td id=\"T_4e2e5_row13_col5\" class=\"data row13 col5\" >6.000000</td>\n",
       "      <td id=\"T_4e2e5_row13_col6\" class=\"data row13 col6\" >9.000000</td>\n",
       "      <td id=\"T_4e2e5_row13_col7\" class=\"data row13 col7\" >12.000000</td>\n",
       "      <td id=\"T_4e2e5_row13_col8\" class=\"data row13 col8\" >3.384681</td>\n",
       "    </tr>\n",
       "  </tbody>\n",
       "</table>\n"
      ],
      "text/plain": [
       "<pandas.io.formats.style.Styler at 0x7f97fda58880>"
      ]
     },
     "metadata": {},
     "output_type": "display_data"
    }
   ],
   "source": [
    "co2.styles.display_describe(df)"
   ]
  },
  {
   "cell_type": "code",
   "execution_count": 25,
   "metadata": {},
   "outputs": [
    {
     "data": {
      "application/vnd.plotly.v1+json": {
       "config": {
        "plotlyServerURL": "https://plot.ly"
       },
       "data": [
        {
         "boxpoints": "outliers",
         "name": "DIESEL",
         "type": "box",
         "x": [
          134,
          126,
          148,
          123,
          244,
          136,
          152,
          218,
          138,
          140,
          179,
          142,
          182,
          152,
          162,
          152,
          178,
          176,
          115,
          106,
          114,
          137,
          144,
          149,
          138,
          137,
          124,
          123,
          144,
          148,
          129,
          148,
          108,
          111,
          151,
          148,
          132,
          113,
          137,
          123,
          176,
          141,
          125,
          109,
          118,
          138,
          126,
          111,
          215,
          123,
          121,
          152,
          120,
          173,
          110,
          177,
          149,
          114,
          129,
          136,
          122,
          225,
          179,
          134,
          137,
          164,
          233,
          135,
          147,
          122,
          195,
          227,
          128,
          174,
          109,
          149,
          124,
          121,
          133,
          154,
          175,
          140,
          128,
          120,
          139,
          115,
          143,
          172,
          142,
          130,
          121,
          180,
          111,
          119,
          132,
          141,
          141,
          177,
          168,
          125,
          127,
          162,
          129,
          201,
          218,
          175,
          166,
          196,
          135,
          132,
          129,
          168,
          164,
          130,
          134,
          173,
          138,
          155,
          106,
          128,
          251,
          167,
          157,
          122,
          145,
          136,
          186,
          139,
          168,
          141,
          144,
          130,
          119,
          167,
          127,
          168,
          178,
          144,
          137,
          128,
          141,
          142,
          111,
          114,
          138,
          146,
          163,
          142,
          170,
          134,
          150,
          144,
          219,
          130,
          141,
          196,
          179,
          136,
          122,
          155,
          142,
          131,
          124,
          124,
          135,
          120,
          135,
          112,
          155,
          201,
          133,
          154,
          180,
          140,
          135,
          145,
          139,
          105,
          136,
          117,
          121,
          121,
          117,
          159,
          220,
          138,
          111,
          144,
          120,
          138,
          136,
          142,
          152,
          137,
          197,
          142,
          132,
          118,
          149,
          135,
          108,
          121,
          145,
          217,
          109,
          129,
          226,
          169,
          131,
          151,
          142,
          145,
          172,
          114,
          107,
          127,
          149,
          221,
          121,
          130,
          132,
          177,
          122,
          141,
          200,
          107,
          223,
          112,
          140,
          166,
          127,
          130,
          124,
          153,
          128,
          136,
          127,
          129,
          145,
          130,
          125,
          144,
          165,
          189,
          133,
          123,
          127,
          129,
          140,
          130,
          145,
          127,
          127,
          120,
          140,
          122,
          128,
          135,
          140,
          143,
          220,
          135,
          128,
          132,
          119,
          138,
          175,
          112,
          136,
          138,
          178,
          251,
          140,
          121,
          127,
          154,
          140,
          132,
          150,
          191,
          133,
          120,
          121,
          148,
          138,
          156,
          153,
          118,
          138,
          114,
          128,
          111,
          136,
          125,
          189,
          130,
          228,
          138,
          149,
          112,
          123,
          177,
          122,
          127,
          124,
          169,
          143,
          192,
          115,
          122,
          136,
          111,
          197,
          122,
          134,
          118,
          122,
          121,
          131,
          156,
          132,
          125,
          168,
          187,
          186,
          111,
          127,
          156,
          141,
          124,
          115,
          181,
          138,
          158,
          134,
          140,
          126,
          109,
          125,
          119,
          136,
          151,
          163,
          158,
          113,
          127,
          146,
          44,
          118,
          124,
          217,
          128,
          187,
          153,
          121,
          118,
          107,
          130,
          117,
          193,
          149,
          162,
          152,
          135,
          122,
          215,
          134,
          199,
          110,
          142,
          137,
          146,
          126,
          142,
          114,
          122,
          137,
          120,
          201,
          112,
          180,
          169,
          111,
          120,
          199,
          143,
          133,
          126,
          138,
          123,
          168,
          172,
          206,
          126,
          121,
          185,
          133,
          166,
          142,
          135,
          142,
          123,
          146,
          129,
          128,
          113,
          157,
          138,
          140,
          112,
          123,
          132,
          132,
          131,
          173,
          148,
          186,
          143,
          130,
          117,
          140,
          140,
          135,
          154,
          129,
          136,
          203,
          157,
          190,
          129,
          117,
          140,
          133,
          138,
          138,
          145,
          122,
          130,
          122,
          137,
          124,
          130,
          170,
          132,
          122,
          134,
          135,
          147,
          118,
          147,
          127,
          141,
          154,
          222,
          141,
          118,
          120,
          140,
          136,
          139,
          147,
          133,
          186,
          136,
          130,
          215,
          171,
          138,
          132,
          223,
          128,
          165,
          130,
          130,
          144,
          106,
          131,
          163,
          213,
          121,
          228,
          120,
          116,
          122,
          160,
          128,
          133,
          127,
          178,
          194,
          191,
          118,
          232,
          126,
          130,
          128,
          133,
          154,
          138,
          151,
          149,
          159,
          133,
          180,
          158,
          134,
          130,
          176,
          153,
          131,
          121,
          121,
          114,
          127,
          147,
          188,
          112,
          124,
          139,
          119,
          125,
          210,
          146,
          131,
          116,
          200,
          121,
          120,
          155,
          126,
          133,
          148,
          117,
          120,
          215,
          141,
          188,
          142,
          124,
          107,
          129,
          177,
          115,
          172,
          119,
          132,
          120,
          168,
          156,
          120,
          303,
          192,
          209,
          131,
          125,
          114,
          120,
          130,
          132,
          168,
          135,
          134,
          114,
          163,
          121,
          134,
          142,
          182,
          163,
          121,
          137,
          169,
          145,
          104,
          118,
          108,
          219,
          159,
          139,
          133,
          124,
          124,
          127,
          139,
          127,
          161,
          147,
          107,
          151,
          131,
          168,
          129,
          150,
          141,
          133,
          144,
          108,
          162,
          154,
          160,
          221,
          195,
          114,
          170,
          119,
          115,
          118,
          174,
          161,
          136,
          121,
          171,
          130,
          128,
          147,
          111,
          139,
          146,
          161,
          139,
          119,
          117,
          154,
          176,
          123,
          127,
          175,
          109,
          173,
          150,
          144,
          135,
          126,
          137,
          120,
          130,
          148,
          130,
          187,
          130,
          47,
          136,
          221,
          154,
          111,
          133,
          150,
          187,
          157,
          138,
          200,
          120,
          123,
          123,
          111,
          146,
          140,
          162,
          132,
          156,
          117,
          126,
          138,
          130,
          150,
          186,
          156,
          152,
          119,
          127,
          162,
          133,
          149,
          127,
          203,
          220,
          158,
          139,
          127,
          129,
          111,
          199,
          145,
          130,
          131,
          145,
          131,
          132,
          174,
          133,
          120,
          120,
          119,
          224,
          134,
          129,
          122,
          121,
          120,
          160,
          131,
          120,
          129,
          158,
          118,
          125,
          135,
          143,
          123,
          137,
          137,
          123,
          123,
          106,
          106,
          129,
          184,
          129,
          204,
          137,
          136,
          133,
          144,
          113,
          134,
          109,
          129,
          142,
          136,
          146,
          140,
          149,
          130,
          123,
          121,
          190,
          125,
          122,
          138,
          126,
          150,
          131,
          111,
          119,
          125,
          150,
          115,
          140,
          121,
          126,
          139,
          111,
          148,
          150,
          124,
          176,
          128,
          142,
          128,
          122,
          143,
          153,
          130,
          161,
          133,
          169,
          109,
          120,
          135,
          142,
          119,
          143,
          125,
          138,
          180,
          120,
          145,
          129,
          185,
          130,
          127,
          121,
          137,
          111,
          196,
          135,
          134,
          126,
          173,
          128,
          141,
          142,
          129,
          136,
          146,
          150,
          129,
          133,
          174,
          112,
          142,
          145,
          106,
          137,
          137,
          182,
          106,
          213,
          123,
          105,
          136,
          137,
          227,
          128,
          176,
          132,
          120,
          195,
          156,
          164,
          112,
          182,
          121,
          149,
          119,
          143,
          141,
          139,
          147,
          122,
          149,
          152,
          127,
          135,
          144,
          128,
          138,
          153,
          137,
          153,
          111,
          141,
          134,
          127,
          157,
          129,
          136,
          124,
          122,
          156,
          157,
          124,
          152,
          156,
          153,
          141,
          155,
          159,
          107,
          127,
          126,
          146,
          150,
          123,
          153,
          220,
          172,
          140,
          137,
          146,
          120,
          129,
          135,
          193,
          189,
          135,
          131,
          123,
          178,
          127,
          138,
          187,
          160,
          158,
          144,
          136,
          220,
          121,
          138,
          128,
          142,
          132,
          123,
          111,
          138,
          138,
          167,
          126,
          158,
          146,
          114,
          169,
          128,
          181,
          172,
          137,
          119,
          170,
          113,
          129,
          195,
          111,
          106,
          132,
          127,
          141,
          129,
          166,
          134,
          138,
          115,
          130,
          119,
          132,
          191,
          164,
          139,
          187,
          111,
          173,
          150,
          129,
          105,
          142,
          139,
          122,
          143,
          137,
          120,
          135,
          140,
          148,
          130,
          117,
          166,
          136,
          126,
          119,
          200,
          144,
          137,
          123,
          149,
          123,
          125,
          121,
          115,
          144,
          164,
          125,
          129,
          144,
          139,
          131,
          109,
          213,
          142,
          135,
          142,
          141,
          222,
          127,
          190,
          157,
          132,
          111,
          123,
          139,
          111,
          157,
          185,
          124,
          167,
          148,
          129,
          160,
          133,
          139,
          120,
          128,
          123,
          132,
          130,
          121,
          131,
          123,
          189,
          185,
          115,
          145,
          173,
          125,
          135,
          178,
          136,
          131,
          166,
          171,
          133,
          131,
          138,
          130,
          129,
          141,
          148,
          124,
          140,
          143,
          159,
          139,
          177,
          106,
          138,
          124,
          219,
          112,
          111,
          151,
          172,
          149,
          129,
          140,
          121,
          128,
          155,
          125,
          139,
          149,
          182,
          148,
          180,
          142,
          140,
          157,
          152,
          109,
          145,
          114,
          132,
          121,
          154,
          120,
          148,
          165,
          205,
          144,
          143,
          123,
          136,
          150,
          143,
          181,
          140,
          141,
          149,
          162,
          162,
          140,
          140,
          126,
          135,
          152,
          137,
          174,
          138,
          138,
          137,
          111,
          127,
          156,
          136,
          124,
          136,
          125,
          123,
          146,
          180,
          145,
          107,
          202,
          128,
          114,
          151,
          192,
          135,
          203,
          137,
          158,
          178,
          129,
          186,
          124,
          128,
          134,
          173,
          134,
          154,
          123,
          127,
          183,
          129,
          173,
          221,
          133,
          172,
          111,
          121,
          146,
          138,
          114,
          145
         ]
        },
        {
         "boxpoints": "outliers",
         "name": "PETROL",
         "type": "box",
         "x": [
          120,
          149,
          200,
          130,
          129,
          118,
          115,
          156,
          111,
          161,
          119,
          123,
          131,
          127,
          137,
          131,
          138,
          113,
          124,
          112,
          169,
          112,
          167,
          145,
          150,
          121,
          110,
          121,
          166,
          154,
          102,
          145,
          113,
          125,
          185,
          112,
          179,
          142,
          117,
          124,
          126,
          109,
          160,
          145,
          147,
          138,
          155,
          145,
          180,
          147,
          118,
          112,
          133,
          163,
          111,
          125,
          111,
          193,
          141,
          138,
          114,
          137,
          123,
          129,
          111,
          132,
          263,
          124,
          122,
          133,
          149,
          111,
          150,
          88,
          117,
          121,
          129,
          125,
          120,
          166,
          119,
          137,
          133,
          116,
          158,
          92,
          122,
          146,
          130,
          152,
          115,
          118,
          123,
          133,
          112,
          123,
          135,
          119,
          125,
          125,
          115,
          32,
          118,
          118,
          148,
          125,
          152,
          98,
          138,
          120,
          227,
          153,
          119,
          121,
          121,
          132,
          125,
          169,
          116,
          137,
          148,
          123,
          112,
          166,
          121,
          120,
          111,
          118,
          135,
          118,
          103,
          140,
          120,
          125,
          135,
          117,
          150,
          161,
          137,
          131,
          85,
          110,
          120,
          159,
          140,
          111,
          118,
          194,
          119,
          115,
          143,
          148,
          112,
          133,
          123,
          121,
          134,
          113,
          140,
          121,
          133,
          171,
          152,
          122,
          106,
          286,
          118,
          128,
          117,
          144,
          120,
          120,
          119,
          110,
          119,
          128,
          118,
          87,
          103,
          117,
          245,
          118,
          120,
          140,
          137,
          122,
          160,
          132,
          125,
          120,
          122,
          120,
          110,
          179,
          125,
          152,
          139,
          112,
          121,
          162,
          121,
          116,
          193,
          149,
          152,
          134,
          148,
          160,
          119,
          135,
          159,
          159,
          128,
          144,
          137,
          117,
          120,
          129,
          98,
          118,
          115,
          126,
          102,
          120,
          119,
          155,
          156,
          143,
          137,
          122,
          123,
          151,
          125,
          119,
          101,
          133,
          132,
          127,
          99,
          119,
          113,
          121,
          121,
          134,
          142,
          116,
          140,
          138,
          118,
          129,
          125,
          112,
          160,
          141,
          126,
          161,
          135,
          113,
          109,
          128,
          135,
          125,
          118,
          120,
          121,
          114,
          129,
          120,
          147,
          118,
          120,
          121,
          106,
          167,
          129,
          156,
          133,
          119,
          118,
          129,
          148,
          114,
          119,
          126,
          154,
          111,
          147,
          148,
          156,
          121,
          109,
          127,
          110,
          111,
          142,
          127,
          161,
          121,
          138,
          120,
          116,
          102,
          144,
          118,
          136,
          161,
          176,
          136,
          127,
          177,
          118,
          121,
          149,
          124,
          120,
          144,
          125,
          200,
          145,
          140,
          135,
          124,
          148,
          120,
          270,
          134,
          180,
          121,
          111,
          138,
          127,
          126,
          151,
          122,
          118,
          116,
          138,
          139,
          137,
          133,
          122,
          132,
          167,
          118,
          129,
          154,
          116,
          141,
          134,
          184,
          146,
          148,
          185,
          119,
          120,
          123,
          146,
          141,
          132,
          129,
          113,
          137,
          144,
          166,
          141,
          126,
          118,
          143,
          190,
          146,
          118,
          117,
          168,
          123,
          120,
          129,
          123,
          92,
          159,
          126,
          134,
          141,
          126,
          119,
          141,
          140,
          121,
          125,
          123,
          141,
          195,
          186,
          114,
          92,
          119,
          103,
          131,
          100,
          142,
          117,
          137,
          134,
          132,
          132,
          120,
          121,
          117,
          122,
          127,
          123,
          133,
          142,
          125,
          127,
          131,
          283,
          158,
          110,
          103,
          107,
          182,
          134,
          120,
          166,
          127,
          240,
          138,
          119,
          156,
          137,
          139,
          102,
          140,
          122,
          146,
          162,
          137,
          143,
          157,
          87,
          153,
          193,
          168,
          136,
          145,
          118,
          121,
          137,
          151,
          120,
          119,
          147,
          128,
          132,
          129,
          135,
          103,
          134,
          100,
          113,
          316,
          110,
          92,
          111,
          129,
          127,
          128,
          117,
          115,
          146,
          117,
          151,
          146,
          186,
          111,
          121,
          120,
          119,
          157,
          116,
          129,
          136,
          152,
          197,
          135,
          286,
          137,
          150,
          103,
          120,
          134,
          133,
          118,
          169,
          151,
          121,
          114,
          145,
          131,
          103,
          140,
          136,
          118,
          120,
          130,
          97,
          124,
          119,
          145,
          123,
          123,
          133,
          182,
          126,
          134,
          188,
          119,
          123,
          119,
          148,
          146,
          134,
          114,
          117,
          137,
          121,
          115,
          124,
          132,
          137,
          116,
          124,
          140,
          126,
          135,
          115,
          193,
          121,
          118,
          99,
          124,
          124,
          147,
          156,
          142,
          123,
          146,
          132,
          133,
          133,
          118,
          133,
          145,
          138,
          113,
          141,
          136,
          122,
          125,
          116,
          128,
          122,
          153,
          149,
          99,
          136,
          118,
          122,
          120,
          128,
          155,
          112,
          147,
          143,
          161,
          138,
          154,
          136,
          104,
          119,
          145,
          134,
          133,
          162,
          118,
          125,
          128,
          137,
          112,
          151,
          134,
          146,
          182,
          245,
          110,
          133,
          127,
          102,
          180,
          127,
          123,
          132,
          143,
          133,
          111,
          116,
          119,
          128,
          132,
          145,
          155,
          112,
          154,
          138,
          124,
          118,
          125,
          170,
          185,
          122,
          169,
          134,
          187,
          121,
          128,
          128,
          122,
          133,
          141,
          118,
          126,
          110,
          118,
          135,
          152,
          122,
          119,
          118,
          124,
          144,
          99,
          135,
          120,
          128,
          121,
          139,
          171,
          85,
          92,
          122,
          110,
          118,
          131,
          181,
          133,
          111,
          159,
          134,
          137,
          147,
          123,
          134,
          115,
          135,
          146,
          106,
          124,
          144,
          119,
          142,
          133,
          152,
          121,
          129,
          142,
          119,
          134,
          131,
          118,
          134,
          102,
          97,
          116,
          128,
          123,
          103,
          144,
          118,
          134,
          114,
          125,
          125,
          110,
          118,
          154,
          142,
          120,
          141,
          120,
          124,
          133,
          118,
          113,
          143,
          127,
          118,
          138,
          117,
          137,
          118,
          103,
          139,
          158,
          130,
          129,
          132,
          115,
          193,
          133,
          163,
          121,
          149,
          166,
          112,
          117,
          160,
          133,
          133,
          143,
          135,
          114,
          180,
          131,
          258,
          120,
          235,
          151,
          136,
          136,
          126,
          120,
          121,
          149,
          130,
          123,
          125,
          122,
          129,
          116,
          124,
          150,
          165,
          103,
          92,
          102,
          130,
          145,
          141,
          185,
          147,
          121,
          134,
          110,
          134,
          168,
          149,
          112,
          124,
          116,
          125,
          166,
          127,
          111,
          125,
          125,
          140,
          126,
          134,
          100,
          122,
          131,
          120,
          138,
          148,
          146,
          122,
          135,
          133,
          112,
          154,
          127,
          164,
          130,
          114,
          131,
          136,
          124,
          87,
          145,
          118,
          139,
          134,
          132,
          242,
          92,
          117,
          118,
          146,
          140,
          138,
          126,
          149,
          87,
          134,
          144,
          123,
          116,
          135,
          165,
          191,
          124,
          133,
          128,
          115,
          122,
          120,
          158,
          127,
          147,
          118,
          136,
          146,
          121,
          119,
          92,
          118,
          131,
          85,
          124,
          130,
          290,
          117,
          157,
          117,
          132,
          120,
          119,
          102,
          117,
          146,
          143,
          126,
          105,
          282,
          109,
          113,
          117,
          157,
          134,
          122,
          121,
          119,
          112,
          136,
          117,
          131,
          115,
          134,
          157,
          103,
          130,
          132,
          147,
          163,
          189,
          302,
          124,
          111,
          151,
          135,
          160,
          118,
          124,
          112,
          186,
          133,
          146,
          133,
          114,
          130,
          156,
          118,
          127,
          128,
          156,
          121,
          124,
          151,
          134,
          106,
          171,
          123,
          127,
          141,
          153,
          130,
          119,
          142,
          173,
          92,
          123,
          135,
          133,
          137,
          124,
          122,
          127,
          152,
          124,
          158,
          112,
          120,
          117,
          149,
          138,
          133,
          120,
          120,
          125,
          202,
          153,
          120,
          110,
          123,
          119,
          135,
          110,
          130,
          121,
          130,
          160,
          121,
          121,
          144,
          151,
          87,
          117,
          118,
          113,
          134,
          145,
          130,
          147,
          106,
          119,
          135,
          116,
          113,
          116,
          114,
          123,
          118,
          133,
          121,
          129,
          121,
          103,
          148,
          127,
          120,
          132,
          131,
          165,
          136,
          136,
          111,
          154,
          146,
          120,
          119,
          169,
          129,
          171,
          86,
          122,
          129,
          146,
          111,
          112,
          144,
          115,
          121,
          164,
          127,
          139,
          143,
          117,
          124,
          177,
          145,
          131,
          142,
          121,
          138,
          121,
          165,
          98,
          142,
          173,
          110,
          135,
          139,
          125,
          111,
          127,
          122,
          128,
          136,
          119,
          128,
          116,
          123,
          160,
          142,
          111,
          110,
          133,
          146,
          160,
          178,
          142,
          118,
          114,
          119,
          227,
          126,
          131,
          129,
          225,
          138,
          122,
          147,
          116,
          117,
          166,
          123,
          121,
          146,
          138,
          148,
          153,
          143,
          153,
          176,
          118,
          145,
          270,
          118,
          113,
          100,
          133,
          133,
          147,
          141,
          131,
          191,
          143,
          136,
          136,
          118,
          120,
          117,
          127,
          138,
          145,
          154,
          133,
          86,
          189,
          141,
          134,
          157,
          135,
          136,
          116,
          119,
          110,
          145,
          118,
          116,
          133,
          135,
          113,
          121,
          170,
          87,
          151,
          121,
          120,
          135,
          120,
          162,
          117,
          123,
          110,
          118,
          136,
          92,
          118,
          115,
          131,
          121,
          145,
          133,
          137,
          118,
          130,
          134,
          120,
          125,
          125,
          130,
          158,
          188,
          119,
          155,
          125,
          146,
          136,
          158,
          121,
          116,
          126,
          121,
          116,
          180,
          85,
          150,
          136,
          118,
          118,
          133,
          161,
          157,
          121,
          127,
          121,
          127,
          114,
          120,
          124,
          118,
          131,
          135,
          131,
          126,
          135,
          131,
          135,
          154,
          122,
          156,
          150,
          181,
          134,
          116,
          113,
          136,
          111,
          137,
          111,
          132,
          138,
          132,
          125,
          141,
          118,
          129,
          145,
          137,
          113,
          138,
          156,
          133,
          118,
          135,
          121,
          122,
          120,
          124,
          120,
          128,
          123,
          109,
          110,
          117,
          115,
          135,
          123,
          124,
          120,
          134,
          151,
          180,
          150,
          150,
          145,
          103,
          133,
          126,
          133,
          135,
          139,
          133,
          112,
          125,
          144,
          136,
          113,
          116,
          121,
          175,
          247,
          153,
          142,
          118,
          129,
          154,
          140,
          137,
          148,
          170,
          153,
          118,
          118,
          157,
          132,
          113,
          146,
          131,
          152,
          130,
          144,
          113,
          140,
          130,
          117,
          122,
          85,
          131,
          145,
          130,
          125,
          115,
          110,
          103,
          138,
          109,
          120,
          136,
          136,
          147,
          118,
          127,
          144,
          155,
          131,
          129,
          145,
          130,
          142,
          125,
          135,
          120,
          121,
          149,
          120,
          122,
          133,
          142,
          106,
          119,
          133,
          113,
          144,
          150,
          118,
          131,
          133,
          115,
          118,
          142,
          130,
          124,
          246,
          139,
          132,
          117,
          92,
          127,
          126,
          248,
          123,
          123,
          125,
          119,
          112,
          186,
          230,
          142,
          97,
          111,
          110,
          136,
          127,
          146,
          87,
          193,
          125,
          121,
          114,
          116,
          128,
          120,
          125,
          126,
          136,
          157,
          147,
          158,
          136,
          158,
          129,
          238,
          122,
          112,
          87,
          166,
          135,
          112,
          133,
          111,
          112,
          118,
          111,
          121,
          122,
          138,
          155,
          145,
          121,
          123,
          118,
          140,
          123,
          141,
          119,
          119,
          118,
          118,
          127,
          119,
          121,
          114,
          121,
          115,
          125,
          111,
          117,
          138,
          127,
          129,
          148,
          131,
          162,
          121,
          144,
          136,
          113,
          118,
          117,
          110,
          109,
          135,
          124,
          133,
          113,
          132,
          153,
          136,
          171,
          123,
          118,
          192,
          147,
          121,
          133,
          117,
          118,
          134,
          128,
          140,
          133,
          228,
          119,
          125,
          149,
          120,
          112,
          121,
          101,
          169,
          131,
          120,
          163,
          130,
          149,
          130,
          128,
          133,
          122,
          136,
          120,
          117,
          112,
          118,
          109,
          123,
          144,
          148,
          117,
          119,
          121,
          145,
          115,
          136,
          119,
          129,
          118,
          147,
          111,
          128,
          121,
          143,
          149,
          138,
          128,
          127,
          127,
          132,
          110,
          121,
          183,
          121,
          138,
          120,
          145,
          146,
          121,
          146,
          172,
          134,
          174,
          125,
          117,
          149,
          153,
          123,
          124,
          373,
          136,
          116,
          145,
          165,
          121,
          125,
          153,
          135,
          116,
          112,
          110,
          119,
          158,
          127,
          118,
          138,
          154,
          146,
          143,
          124,
          123,
          135,
          158,
          132,
          130,
          105,
          146,
          132,
          151,
          135,
          102,
          134,
          127,
          143,
          119,
          92,
          140,
          97,
          180,
          133,
          164,
          103,
          145,
          148,
          161,
          124,
          111,
          119,
          182,
          112,
          118,
          127,
          126,
          112,
          110,
          128,
          138,
          152,
          174,
          118,
          122,
          117,
          121,
          111,
          129,
          115,
          193,
          144,
          136,
          128,
          141,
          87,
          110,
          123,
          183,
          142,
          149,
          196,
          147,
          131,
          124,
          118,
          127,
          113,
          112,
          113,
          166,
          125,
          117,
          144,
          152,
          122,
          131,
          150,
          283,
          113,
          137,
          147,
          152,
          123,
          152,
          104,
          133,
          115,
          133,
          118,
          149,
          187,
          118,
          122,
          124,
          148,
          140,
          144,
          141,
          184,
          101,
          147,
          110,
          120,
          129,
          126,
          137,
          145,
          134,
          125,
          127,
          118,
          148,
          125,
          133,
          111,
          130,
          115,
          120,
          141,
          132,
          165,
          102,
          259,
          147,
          102,
          113,
          118,
          133,
          124,
          132,
          122,
          117,
          129,
          121,
          123,
          180,
          152,
          193,
          143,
          140,
          119,
          162,
          125,
          118,
          157,
          110,
          118,
          238,
          135,
          138,
          137,
          164,
          146,
          120,
          125,
          118,
          110,
          87,
          242,
          137,
          119,
          154,
          112,
          131,
          98,
          134,
          146,
          121,
          181,
          144,
          134,
          137,
          126,
          122,
          110,
          138,
          133,
          169,
          143,
          87,
          119,
          195,
          118,
          120,
          127,
          135,
          180,
          115,
          111,
          120,
          117,
          109,
          182,
          120,
          120,
          87,
          172,
          127,
          185,
          124,
          183,
          127,
          171,
          145,
          184,
          144,
          146,
          142,
          127,
          133,
          129,
          131,
          119,
          142,
          136,
          133,
          140,
          138,
          165,
          246,
          111,
          133,
          132,
          121,
          125,
          167,
          120,
          133,
          119,
          117,
          108,
          149,
          132,
          103,
          100,
          128,
          122,
          121,
          132,
          123,
          118,
          97,
          141,
          152,
          123,
          149,
          128,
          126,
          140,
          133,
          99,
          129,
          160,
          121,
          134,
          357,
          118,
          138,
          127,
          131,
          136,
          119,
          137,
          118,
          135,
          117,
          126,
          135,
          136,
          97,
          135,
          113,
          97,
          138,
          122,
          140,
          106,
          100,
          150,
          135,
          136,
          128,
          137,
          146,
          331,
          107,
          141,
          183,
          111,
          264,
          143,
          295,
          133,
          130,
          205,
          123,
          196,
          134,
          146,
          143,
          119,
          127,
          110,
          117,
          127,
          127,
          151,
          116,
          111,
          127,
          137,
          167,
          118,
          102,
          99,
          145,
          135,
          112,
          118,
          125,
          166,
          146,
          111,
          118,
          120,
          127,
          146,
          124,
          136,
          111,
          99,
          121,
          124,
          106,
          114,
          240,
          122,
          173,
          144,
          149,
          123,
          120,
          109,
          117,
          141,
          110,
          112,
          110,
          132,
          133,
          117,
          167,
          131,
          123,
          155,
          171,
          122,
          115,
          111,
          133,
          92,
          108,
          117,
          110,
          119,
          119,
          111,
          98,
          118,
          131,
          124,
          154,
          119,
          121,
          110,
          98,
          100,
          121,
          121,
          148,
          134,
          126,
          135,
          149,
          118,
          125,
          141,
          127,
          130,
          129,
          140,
          119,
          121,
          129,
          106,
          113,
          132,
          160,
          138,
          138,
          139,
          158,
          116,
          135,
          118,
          116,
          129,
          117,
          155,
          120,
          118,
          121,
          162,
          133,
          123,
          139,
          201,
          129,
          156,
          87,
          113,
          167,
          138,
          134,
          142,
          110,
          120,
          131,
          128,
          134,
          229,
          130,
          103,
          124,
          152,
          129,
          138,
          121,
          133,
          134,
          127,
          130,
          156,
          132,
          117,
          119,
          135,
          143,
          130,
          133,
          112,
          124,
          133,
          163,
          133,
          133,
          132,
          121,
          118,
          129,
          119,
          294,
          123,
          127,
          128,
          135,
          117,
          111,
          135,
          148,
          121,
          127,
          120,
          128,
          144,
          159,
          155,
          168,
          146,
          158,
          151,
          127,
          126,
          127,
          92,
          111,
          103,
          125,
          117,
          129,
          160,
          102,
          148,
          153,
          142,
          128,
          230,
          141,
          109,
          154,
          118,
          121,
          118,
          114,
          183,
          128,
          136,
          123,
          143,
          120,
          126,
          213,
          111,
          118,
          120,
          158,
          118,
          113,
          165,
          110,
          165,
          119,
          119,
          126,
          120,
          133,
          128,
          155,
          142,
          123,
          143,
          111,
          120,
          124,
          117,
          124,
          134,
          121,
          137,
          109,
          120,
          205,
          127,
          118,
          121,
          119,
          148,
          119,
          110,
          151,
          126,
          124,
          129,
          105,
          111,
          111,
          129,
          129,
          135,
          125,
          124,
          254,
          122,
          126,
          123,
          373,
          118,
          187,
          244,
          146,
          133,
          147,
          135,
          125,
          171,
          120,
          133,
          123,
          134,
          134,
          146,
          120,
          144,
          102,
          143,
          106,
          143,
          130,
          130,
          135,
          137,
          119,
          122,
          120,
          114,
          188,
          109,
          92,
          118,
          127,
          117,
          110,
          148,
          121,
          87,
          112,
          119,
          148,
          155,
          132,
          121,
          170,
          151,
          152,
          118,
          143,
          198,
          111,
          133,
          130,
          132,
          170,
          145,
          128,
          128,
          151,
          143,
          167,
          144,
          134,
          73,
          140,
          119,
          97,
          131,
          121,
          145,
          122,
          135,
          118,
          148,
          137,
          118,
          145,
          98,
          147,
          100,
          118,
          134,
          123,
          121,
          135,
          130,
          141,
          122,
          137,
          125,
          142,
          141,
          127,
          112,
          146,
          102,
          121,
          162,
          124,
          136,
          133,
          135,
          118,
          125,
          122,
          150,
          132,
          125,
          125,
          118,
          131,
          102,
          122,
          144,
          131,
          119,
          124,
          128,
          113,
          110,
          126,
          119,
          125,
          85,
          99,
          137,
          138,
          138,
          149,
          136,
          117,
          177,
          128,
          136,
          125,
          102,
          87,
          152,
          146,
          118,
          123,
          125,
          116,
          121,
          193,
          116,
          170,
          146,
          141,
          126,
          136,
          118,
          251,
          159,
          186,
          154,
          135,
          121,
          118,
          127,
          133,
          212,
          136,
          118,
          142,
          112,
          111,
          126,
          113,
          124,
          122,
          153,
          145,
          140,
          130,
          121,
          133,
          132,
          111,
          128,
          122,
          118,
          117,
          125,
          122,
          121,
          130,
          139,
          153,
          151,
          104,
          123,
          150,
          141,
          122,
          116,
          137,
          97,
          120,
          137,
          135,
          126,
          146,
          145,
          120,
          123,
          135,
          186,
          134,
          129,
          114,
          128,
          122,
          168,
          87,
          111,
          150,
          137,
          128,
          135,
          148,
          109,
          135,
          109,
          110,
          87,
          149,
          122,
          119,
          147,
          113,
          126,
          147,
          185,
          127,
          127,
          131,
          117,
          118,
          141,
          138,
          118,
          136,
          132,
          109,
          162,
          115,
          123,
          137,
          123,
          121,
          146,
          118,
          121,
          131,
          132,
          86,
          131,
          121,
          115,
          119,
          121,
          126,
          129,
          123,
          118,
          128,
          123,
          146,
          110,
          120,
          135,
          166,
          129,
          115,
          145,
          130,
          110,
          148,
          118,
          118,
          144,
          132,
          135,
          110,
          115,
          228,
          120,
          118,
          143,
          122,
          115,
          145,
          124,
          128,
          123,
          245,
          105,
          120,
          124,
          120,
          134,
          146,
          112,
          162,
          144,
          167,
          97,
          106,
          103,
          118,
          146,
          136,
          169,
          122,
          111,
          110,
          124,
          120,
          121,
          164,
          136,
          154,
          110,
          146,
          235,
          144,
          120,
          127,
          118,
          153,
          136,
          180,
          129,
          112,
          133,
          113,
          133,
          116,
          119,
          114,
          118,
          106,
          106,
          87,
          126,
          157,
          144,
          111,
          133,
          144,
          119,
          107,
          152,
          133,
          136,
          124,
          120,
          146,
          152,
          129,
          131,
          127,
          140,
          143,
          116,
          132,
          146,
          125,
          135,
          135,
          138,
          242,
          154,
          149,
          121,
          168,
          120,
          157,
          126,
          124,
          135,
          119,
          119,
          121,
          117,
          128,
          128,
          121,
          205,
          124,
          131,
          111,
          118,
          127,
          135,
          118,
          121,
          124,
          113,
          185,
          136,
          119,
          150,
          118,
          87,
          169,
          116,
          138,
          129,
          126,
          118,
          131,
          133,
          192,
          119,
          135,
          116,
          147,
          126,
          127,
          128,
          123,
          117,
          118,
          116,
          135,
          118,
          119,
          149,
          127,
          155,
          106,
          149,
          130,
          151,
          142,
          133,
          151,
          147,
          123,
          119,
          140,
          118,
          109,
          134,
          164,
          139,
          143,
          134,
          169,
          131,
          131,
          116,
          126,
          142,
          120,
          126,
          87,
          131,
          133,
          147,
          99,
          145,
          119,
          135,
          158,
          118,
          126,
          120,
          112,
          127,
          120,
          155,
          154,
          113,
          120,
          135,
          143,
          124,
          118,
          172,
          128,
          124,
          111,
          118,
          129,
          120,
          114,
          124,
          122,
          133,
          102,
          113,
          120,
          122,
          116,
          135,
          132,
          174,
          125,
          136,
          144,
          144,
          129,
          124,
          118,
          121,
          159,
          125,
          156,
          130,
          135,
          129,
          128,
          133,
          124,
          120,
          88,
          110,
          135,
          145,
          118,
          140,
          136,
          119,
          131,
          115,
          146,
          119,
          120,
          120,
          141,
          120,
          120,
          113,
          110,
          145,
          117,
          146,
          138,
          134,
          110,
          148,
          137,
          130,
          257,
          119,
          135,
          123,
          146,
          99,
          255,
          121,
          145,
          120,
          131,
          122,
          131,
          122,
          122,
          103,
          117,
          109,
          177,
          125,
          112,
          133,
          112,
          129,
          110,
          124,
          110,
          127,
          147,
          224,
          129,
          115,
          120,
          102,
          97,
          119,
          152,
          146,
          51,
          140,
          126,
          113,
          121,
          141,
          122,
          135,
          133,
          151,
          113,
          145,
          117,
          142,
          138,
          129,
          122,
          153,
          151,
          116,
          112,
          137,
          121,
          127,
          138,
          152,
          158,
          168,
          143,
          125,
          111,
          258,
          120,
          111,
          120,
          130,
          87,
          137,
          125,
          124,
          112,
          148,
          140,
          128,
          131,
          282,
          162,
          140,
          115,
          134,
          109,
          141,
          125,
          141,
          122,
          146,
          126,
          202
         ]
        },
        {
         "boxpoints": "outliers",
         "name": "ELECTRIC",
         "type": "box",
         "x": [
          0,
          0,
          0,
          0,
          0,
          0,
          0,
          0,
          0,
          0,
          0,
          0,
          0,
          0,
          0,
          0,
          0,
          0,
          0,
          0,
          0,
          0,
          0,
          0,
          0,
          0,
          0,
          0,
          0,
          0,
          0,
          0,
          0,
          0,
          0,
          0,
          0,
          0,
          0,
          0,
          0,
          0,
          0,
          0,
          0,
          0,
          0,
          0,
          0,
          0,
          0,
          0,
          0,
          0,
          0,
          0,
          0,
          0,
          0,
          0,
          0,
          0,
          0,
          0,
          0,
          0,
          0,
          0,
          0,
          0,
          0,
          0,
          0,
          0,
          0,
          0,
          0,
          0,
          0,
          0,
          0,
          0,
          0,
          0,
          0,
          0,
          0,
          0,
          0,
          0,
          0,
          0,
          0,
          0,
          0,
          0,
          0,
          0,
          0,
          0,
          0,
          0,
          0,
          0,
          0,
          0,
          0,
          0,
          0,
          0,
          0,
          0,
          0,
          0,
          0,
          0,
          0,
          0,
          0,
          0,
          0,
          0,
          0,
          0,
          0,
          0,
          0,
          0,
          0,
          0,
          0,
          0,
          0,
          0,
          0,
          0,
          0,
          0,
          0,
          0,
          0,
          0,
          0,
          0,
          0,
          0,
          0,
          0,
          0,
          0,
          0,
          0,
          0,
          0,
          0,
          0,
          0,
          0,
          0,
          0,
          0,
          0,
          0,
          0,
          0,
          0,
          0,
          0,
          0,
          0,
          0,
          0,
          0,
          0,
          0,
          0,
          0,
          0,
          0,
          0,
          0,
          0,
          0,
          0,
          0,
          0,
          0,
          0,
          0,
          0,
          0,
          0,
          0,
          0,
          0,
          0,
          0,
          0,
          0,
          0,
          0,
          0,
          0,
          0,
          0,
          0,
          0,
          0,
          0,
          0,
          0,
          0,
          0,
          0,
          0,
          0,
          0,
          0,
          0,
          0,
          0,
          0,
          0,
          0,
          0,
          0,
          0,
          0,
          0,
          0,
          0,
          0,
          0,
          0,
          0,
          0,
          0,
          0,
          0,
          0,
          0,
          0,
          0,
          0,
          0,
          0,
          0,
          0,
          0,
          0,
          0,
          0,
          0,
          0,
          0,
          0,
          0,
          0,
          0,
          0,
          0,
          0,
          0,
          0,
          0,
          0,
          0,
          0,
          0,
          0,
          0,
          0,
          0,
          0,
          0,
          0,
          0,
          0,
          0,
          0,
          0,
          0,
          0,
          0,
          0,
          0,
          0,
          0,
          0,
          0,
          0,
          0,
          0,
          0,
          0,
          0,
          0,
          0,
          0,
          0,
          0,
          0,
          0,
          0,
          0,
          0,
          0,
          0,
          0,
          0,
          0,
          0,
          0,
          0,
          0,
          0,
          0,
          0,
          0,
          0,
          0,
          0,
          0,
          0,
          0,
          0,
          0,
          0,
          0,
          0,
          0,
          0,
          0,
          0,
          0,
          0,
          0,
          0,
          0,
          0,
          0,
          0,
          0,
          0,
          0,
          0,
          0,
          0,
          0,
          0,
          0,
          0,
          0,
          0,
          0,
          0,
          0,
          0,
          0,
          0,
          0,
          0,
          0,
          0,
          0,
          0,
          0,
          0,
          0,
          0,
          0,
          0,
          0,
          0,
          0,
          0,
          0,
          0,
          0,
          0,
          0,
          0,
          0,
          0,
          0,
          0,
          0,
          0,
          0,
          0,
          0,
          0,
          0,
          0,
          0,
          0,
          0,
          0,
          0,
          0,
          0,
          0,
          0,
          0,
          0,
          0,
          0,
          0,
          0,
          0,
          0,
          0,
          0,
          0,
          0,
          0,
          0,
          0,
          0,
          0,
          0,
          0,
          0,
          0,
          0,
          0,
          0,
          0,
          0,
          0,
          0,
          0,
          0,
          0,
          0,
          0,
          0,
          0,
          0,
          0,
          0,
          0,
          0,
          0,
          0,
          0,
          0,
          0,
          0
         ]
        },
        {
         "boxpoints": "outliers",
         "name": "PETROL/ELECTRIC",
         "type": "box",
         "x": [
          42,
          31,
          29,
          29,
          26,
          43,
          22,
          45,
          46,
          26,
          31,
          32,
          31,
          31,
          33,
          33,
          31,
          23,
          32,
          43,
          44,
          42,
          33,
          30,
          23,
          32,
          29,
          31,
          37,
          22,
          71,
          28,
          32,
          31,
          31,
          25,
          36,
          25,
          23,
          85,
          27,
          40,
          24,
          35,
          39,
          33,
          43,
          32,
          22,
          42,
          40,
          31,
          31,
          42,
          37,
          38,
          46,
          44,
          27,
          29,
          61,
          29,
          24,
          24,
          32,
          199,
          32,
          26,
          48,
          32,
          24,
          35,
          29,
          22,
          50,
          32,
          27,
          22,
          37,
          35,
          44,
          27,
          32,
          43,
          37,
          22,
          31,
          43,
          22,
          43,
          44,
          46,
          30,
          22,
          22,
          46,
          44,
          30,
          29,
          22,
          30,
          32,
          38,
          27,
          31,
          37,
          24,
          51,
          50,
          31,
          31,
          31,
          34,
          166,
          32,
          167,
          24,
          34,
          46,
          34,
          42,
          27,
          41,
          170,
          22,
          46,
          29,
          31,
          29,
          39,
          172,
          30,
          30,
          25,
          38,
          47,
          41,
          23,
          51,
          47,
          38,
          44,
          44,
          26,
          25,
          24,
          31,
          32,
          169,
          25,
          31,
          34,
          46,
          43,
          31,
          30,
          30,
          38,
          26,
          42,
          30,
          46,
          38,
          32,
          22,
          24,
          64,
          46,
          41,
          166,
          22,
          31,
          44,
          35,
          42,
          31,
          41,
          32,
          28,
          37,
          31,
          32,
          54,
          26,
          169,
          25,
          175,
          44,
          29,
          34,
          45,
          32,
          64,
          29,
          74,
          22,
          31,
          66,
          34,
          24,
          21,
          43,
          31,
          35,
          24,
          35,
          31,
          32,
          55,
          27,
          32,
          31,
          29,
          56,
          27,
          27,
          26,
          78,
          157,
          48,
          27,
          41,
          23,
          44,
          57,
          27,
          32,
          31,
          29,
          47,
          71,
          199,
          23,
          44,
          38,
          31,
          47,
          41,
          29,
          148,
          63,
          46,
          22,
          45,
          23,
          50,
          22,
          29,
          31,
          34,
          44,
          83,
          30,
          34,
          27,
          29,
          82,
          44,
          25,
          55,
          66,
          26,
          44,
          29,
          25,
          40,
          29,
          29,
          199,
          22,
          74,
          29,
          27,
          27,
          29,
          40,
          31,
          34,
          158,
          33,
          26,
          46,
          26,
          33,
          31,
          37,
          48,
          47,
          239,
          40,
          31,
          27,
          159,
          56,
          62,
          65,
          43,
          24,
          44,
          32,
          40,
          30,
          42,
          32,
          32,
          38,
          169,
          29,
          23,
          38,
          28,
          27,
          31,
          48,
          45,
          22,
          30,
          26,
          54
         ]
        },
        {
         "boxpoints": "outliers",
         "name": "LPG",
         "type": "box",
         "x": [
          106,
          113,
          109,
          126,
          146,
          115,
          115,
          108,
          122,
          119,
          119,
          115,
          119,
          124,
          122,
          130,
          115,
          138,
          115,
          115,
          108,
          117,
          130,
          127,
          106,
          145,
          108,
          110,
          108,
          108,
          114,
          106,
          115,
          108,
          139,
          107,
          114,
          131,
          160,
          124,
          146,
          129,
          115,
          115,
          130,
          115,
          119,
          145,
          109,
          115,
          146,
          139,
          124,
          109,
          109,
          127,
          110,
          115,
          119,
          128,
          108,
          137,
          127,
          115,
          123,
          108,
          122,
          128,
          161,
          128,
          128,
          128,
          109,
          115,
          130,
          114,
          114,
          109,
          126,
          120,
          106,
          142,
          106,
          106,
          114,
          130,
          115,
          115,
          114,
          116,
          109,
          130,
          127,
          119,
          119,
          115,
          130,
          145,
          119,
          109,
          130,
          129,
          115,
          119,
          121,
          109,
          120,
          114,
          119,
          109,
          114
         ]
        },
        {
         "boxpoints": "outliers",
         "name": "NATURALGAS",
         "type": "box",
         "x": [
          119,
          110,
          111,
          110,
          110
         ]
        },
        {
         "boxpoints": "outliers",
         "name": "DIESEL/ELECTRIC",
         "type": "box",
         "x": [
          28,
          38,
          34,
          51,
          47,
          55,
          49,
          49,
          51,
          50,
          52,
          46,
          50,
          23,
          34,
          48,
          50,
          23,
          48,
          55,
          50,
          23,
          28
         ]
        },
        {
         "boxpoints": "outliers",
         "name": "NG",
         "type": "box",
         "x": [
          102,
          101,
          105,
          101,
          101,
          107,
          103,
          109,
          102,
          103,
          134,
          106,
          111,
          102,
          101,
          113,
          101,
          138,
          111
         ]
        },
        {
         "boxpoints": "outliers",
         "name": "ETHANOL",
         "type": "box",
         "x": [
          211
         ]
        }
       ],
       "layout": {
        "annotations": [
         {
          "font": {
           "size": 12
          },
          "showarrow": false,
          "text": "Data Source: European Environment Agency, 2021",
          "x": 0,
          "xref": "paper",
          "y": 0,
          "yref": "paper"
         }
        ],
        "autosize": false,
        "height": 800,
        "hovermode": "x",
        "template": {
         "data": {
          "bar": [
           {
            "error_x": {
             "color": "#2a3f5f"
            },
            "error_y": {
             "color": "#2a3f5f"
            },
            "marker": {
             "line": {
              "color": "#E5ECF6",
              "width": 0.5
             },
             "pattern": {
              "fillmode": "overlay",
              "size": 10,
              "solidity": 0.2
             }
            },
            "type": "bar"
           }
          ],
          "barpolar": [
           {
            "marker": {
             "line": {
              "color": "#E5ECF6",
              "width": 0.5
             },
             "pattern": {
              "fillmode": "overlay",
              "size": 10,
              "solidity": 0.2
             }
            },
            "type": "barpolar"
           }
          ],
          "carpet": [
           {
            "aaxis": {
             "endlinecolor": "#2a3f5f",
             "gridcolor": "white",
             "linecolor": "white",
             "minorgridcolor": "white",
             "startlinecolor": "#2a3f5f"
            },
            "baxis": {
             "endlinecolor": "#2a3f5f",
             "gridcolor": "white",
             "linecolor": "white",
             "minorgridcolor": "white",
             "startlinecolor": "#2a3f5f"
            },
            "type": "carpet"
           }
          ],
          "choropleth": [
           {
            "colorbar": {
             "outlinewidth": 0,
             "ticks": ""
            },
            "type": "choropleth"
           }
          ],
          "contour": [
           {
            "colorbar": {
             "outlinewidth": 0,
             "ticks": ""
            },
            "colorscale": [
             [
              0,
              "#0d0887"
             ],
             [
              0.1111111111111111,
              "#46039f"
             ],
             [
              0.2222222222222222,
              "#7201a8"
             ],
             [
              0.3333333333333333,
              "#9c179e"
             ],
             [
              0.4444444444444444,
              "#bd3786"
             ],
             [
              0.5555555555555556,
              "#d8576b"
             ],
             [
              0.6666666666666666,
              "#ed7953"
             ],
             [
              0.7777777777777778,
              "#fb9f3a"
             ],
             [
              0.8888888888888888,
              "#fdca26"
             ],
             [
              1,
              "#f0f921"
             ]
            ],
            "type": "contour"
           }
          ],
          "contourcarpet": [
           {
            "colorbar": {
             "outlinewidth": 0,
             "ticks": ""
            },
            "type": "contourcarpet"
           }
          ],
          "heatmap": [
           {
            "colorbar": {
             "outlinewidth": 0,
             "ticks": ""
            },
            "colorscale": [
             [
              0,
              "#0d0887"
             ],
             [
              0.1111111111111111,
              "#46039f"
             ],
             [
              0.2222222222222222,
              "#7201a8"
             ],
             [
              0.3333333333333333,
              "#9c179e"
             ],
             [
              0.4444444444444444,
              "#bd3786"
             ],
             [
              0.5555555555555556,
              "#d8576b"
             ],
             [
              0.6666666666666666,
              "#ed7953"
             ],
             [
              0.7777777777777778,
              "#fb9f3a"
             ],
             [
              0.8888888888888888,
              "#fdca26"
             ],
             [
              1,
              "#f0f921"
             ]
            ],
            "type": "heatmap"
           }
          ],
          "heatmapgl": [
           {
            "colorbar": {
             "outlinewidth": 0,
             "ticks": ""
            },
            "colorscale": [
             [
              0,
              "#0d0887"
             ],
             [
              0.1111111111111111,
              "#46039f"
             ],
             [
              0.2222222222222222,
              "#7201a8"
             ],
             [
              0.3333333333333333,
              "#9c179e"
             ],
             [
              0.4444444444444444,
              "#bd3786"
             ],
             [
              0.5555555555555556,
              "#d8576b"
             ],
             [
              0.6666666666666666,
              "#ed7953"
             ],
             [
              0.7777777777777778,
              "#fb9f3a"
             ],
             [
              0.8888888888888888,
              "#fdca26"
             ],
             [
              1,
              "#f0f921"
             ]
            ],
            "type": "heatmapgl"
           }
          ],
          "histogram": [
           {
            "marker": {
             "pattern": {
              "fillmode": "overlay",
              "size": 10,
              "solidity": 0.2
             }
            },
            "type": "histogram"
           }
          ],
          "histogram2d": [
           {
            "colorbar": {
             "outlinewidth": 0,
             "ticks": ""
            },
            "colorscale": [
             [
              0,
              "#0d0887"
             ],
             [
              0.1111111111111111,
              "#46039f"
             ],
             [
              0.2222222222222222,
              "#7201a8"
             ],
             [
              0.3333333333333333,
              "#9c179e"
             ],
             [
              0.4444444444444444,
              "#bd3786"
             ],
             [
              0.5555555555555556,
              "#d8576b"
             ],
             [
              0.6666666666666666,
              "#ed7953"
             ],
             [
              0.7777777777777778,
              "#fb9f3a"
             ],
             [
              0.8888888888888888,
              "#fdca26"
             ],
             [
              1,
              "#f0f921"
             ]
            ],
            "type": "histogram2d"
           }
          ],
          "histogram2dcontour": [
           {
            "colorbar": {
             "outlinewidth": 0,
             "ticks": ""
            },
            "colorscale": [
             [
              0,
              "#0d0887"
             ],
             [
              0.1111111111111111,
              "#46039f"
             ],
             [
              0.2222222222222222,
              "#7201a8"
             ],
             [
              0.3333333333333333,
              "#9c179e"
             ],
             [
              0.4444444444444444,
              "#bd3786"
             ],
             [
              0.5555555555555556,
              "#d8576b"
             ],
             [
              0.6666666666666666,
              "#ed7953"
             ],
             [
              0.7777777777777778,
              "#fb9f3a"
             ],
             [
              0.8888888888888888,
              "#fdca26"
             ],
             [
              1,
              "#f0f921"
             ]
            ],
            "type": "histogram2dcontour"
           }
          ],
          "mesh3d": [
           {
            "colorbar": {
             "outlinewidth": 0,
             "ticks": ""
            },
            "type": "mesh3d"
           }
          ],
          "parcoords": [
           {
            "line": {
             "colorbar": {
              "outlinewidth": 0,
              "ticks": ""
             }
            },
            "type": "parcoords"
           }
          ],
          "pie": [
           {
            "automargin": true,
            "type": "pie"
           }
          ],
          "scatter": [
           {
            "fillpattern": {
             "fillmode": "overlay",
             "size": 10,
             "solidity": 0.2
            },
            "type": "scatter"
           }
          ],
          "scatter3d": [
           {
            "line": {
             "colorbar": {
              "outlinewidth": 0,
              "ticks": ""
             }
            },
            "marker": {
             "colorbar": {
              "outlinewidth": 0,
              "ticks": ""
             }
            },
            "type": "scatter3d"
           }
          ],
          "scattercarpet": [
           {
            "marker": {
             "colorbar": {
              "outlinewidth": 0,
              "ticks": ""
             }
            },
            "type": "scattercarpet"
           }
          ],
          "scattergeo": [
           {
            "marker": {
             "colorbar": {
              "outlinewidth": 0,
              "ticks": ""
             }
            },
            "type": "scattergeo"
           }
          ],
          "scattergl": [
           {
            "marker": {
             "colorbar": {
              "outlinewidth": 0,
              "ticks": ""
             }
            },
            "type": "scattergl"
           }
          ],
          "scattermapbox": [
           {
            "marker": {
             "colorbar": {
              "outlinewidth": 0,
              "ticks": ""
             }
            },
            "type": "scattermapbox"
           }
          ],
          "scatterpolar": [
           {
            "marker": {
             "colorbar": {
              "outlinewidth": 0,
              "ticks": ""
             }
            },
            "type": "scatterpolar"
           }
          ],
          "scatterpolargl": [
           {
            "marker": {
             "colorbar": {
              "outlinewidth": 0,
              "ticks": ""
             }
            },
            "type": "scatterpolargl"
           }
          ],
          "scatterternary": [
           {
            "marker": {
             "colorbar": {
              "outlinewidth": 0,
              "ticks": ""
             }
            },
            "type": "scatterternary"
           }
          ],
          "surface": [
           {
            "colorbar": {
             "outlinewidth": 0,
             "ticks": ""
            },
            "colorscale": [
             [
              0,
              "#0d0887"
             ],
             [
              0.1111111111111111,
              "#46039f"
             ],
             [
              0.2222222222222222,
              "#7201a8"
             ],
             [
              0.3333333333333333,
              "#9c179e"
             ],
             [
              0.4444444444444444,
              "#bd3786"
             ],
             [
              0.5555555555555556,
              "#d8576b"
             ],
             [
              0.6666666666666666,
              "#ed7953"
             ],
             [
              0.7777777777777778,
              "#fb9f3a"
             ],
             [
              0.8888888888888888,
              "#fdca26"
             ],
             [
              1,
              "#f0f921"
             ]
            ],
            "type": "surface"
           }
          ],
          "table": [
           {
            "cells": {
             "fill": {
              "color": "#EBF0F8"
             },
             "line": {
              "color": "white"
             }
            },
            "header": {
             "fill": {
              "color": "#C8D4E3"
             },
             "line": {
              "color": "white"
             }
            },
            "type": "table"
           }
          ]
         },
         "layout": {
          "annotationdefaults": {
           "arrowcolor": "#2a3f5f",
           "arrowhead": 0,
           "arrowwidth": 1
          },
          "autotypenumbers": "strict",
          "coloraxis": {
           "colorbar": {
            "outlinewidth": 0,
            "ticks": ""
           }
          },
          "colorscale": {
           "diverging": [
            [
             0,
             "#8e0152"
            ],
            [
             0.1,
             "#c51b7d"
            ],
            [
             0.2,
             "#de77ae"
            ],
            [
             0.3,
             "#f1b6da"
            ],
            [
             0.4,
             "#fde0ef"
            ],
            [
             0.5,
             "#f7f7f7"
            ],
            [
             0.6,
             "#e6f5d0"
            ],
            [
             0.7,
             "#b8e186"
            ],
            [
             0.8,
             "#7fbc41"
            ],
            [
             0.9,
             "#4d9221"
            ],
            [
             1,
             "#276419"
            ]
           ],
           "sequential": [
            [
             0,
             "#0d0887"
            ],
            [
             0.1111111111111111,
             "#46039f"
            ],
            [
             0.2222222222222222,
             "#7201a8"
            ],
            [
             0.3333333333333333,
             "#9c179e"
            ],
            [
             0.4444444444444444,
             "#bd3786"
            ],
            [
             0.5555555555555556,
             "#d8576b"
            ],
            [
             0.6666666666666666,
             "#ed7953"
            ],
            [
             0.7777777777777778,
             "#fb9f3a"
            ],
            [
             0.8888888888888888,
             "#fdca26"
            ],
            [
             1,
             "#f0f921"
            ]
           ],
           "sequentialminus": [
            [
             0,
             "#0d0887"
            ],
            [
             0.1111111111111111,
             "#46039f"
            ],
            [
             0.2222222222222222,
             "#7201a8"
            ],
            [
             0.3333333333333333,
             "#9c179e"
            ],
            [
             0.4444444444444444,
             "#bd3786"
            ],
            [
             0.5555555555555556,
             "#d8576b"
            ],
            [
             0.6666666666666666,
             "#ed7953"
            ],
            [
             0.7777777777777778,
             "#fb9f3a"
            ],
            [
             0.8888888888888888,
             "#fdca26"
            ],
            [
             1,
             "#f0f921"
            ]
           ]
          },
          "colorway": [
           "#636efa",
           "#EF553B",
           "#00cc96",
           "#ab63fa",
           "#FFA15A",
           "#19d3f3",
           "#FF6692",
           "#B6E880",
           "#FF97FF",
           "#FECB52"
          ],
          "font": {
           "color": "#2a3f5f"
          },
          "geo": {
           "bgcolor": "white",
           "lakecolor": "white",
           "landcolor": "#E5ECF6",
           "showlakes": true,
           "showland": true,
           "subunitcolor": "white"
          },
          "hoverlabel": {
           "align": "left"
          },
          "hovermode": "closest",
          "mapbox": {
           "style": "light"
          },
          "paper_bgcolor": "white",
          "plot_bgcolor": "#E5ECF6",
          "polar": {
           "angularaxis": {
            "gridcolor": "white",
            "linecolor": "white",
            "ticks": ""
           },
           "bgcolor": "#E5ECF6",
           "radialaxis": {
            "gridcolor": "white",
            "linecolor": "white",
            "ticks": ""
           }
          },
          "scene": {
           "xaxis": {
            "backgroundcolor": "#E5ECF6",
            "gridcolor": "white",
            "gridwidth": 2,
            "linecolor": "white",
            "showbackground": true,
            "ticks": "",
            "zerolinecolor": "white"
           },
           "yaxis": {
            "backgroundcolor": "#E5ECF6",
            "gridcolor": "white",
            "gridwidth": 2,
            "linecolor": "white",
            "showbackground": true,
            "ticks": "",
            "zerolinecolor": "white"
           },
           "zaxis": {
            "backgroundcolor": "#E5ECF6",
            "gridcolor": "white",
            "gridwidth": 2,
            "linecolor": "white",
            "showbackground": true,
            "ticks": "",
            "zerolinecolor": "white"
           }
          },
          "shapedefaults": {
           "line": {
            "color": "#2a3f5f"
           }
          },
          "ternary": {
           "aaxis": {
            "gridcolor": "white",
            "linecolor": "white",
            "ticks": ""
           },
           "baxis": {
            "gridcolor": "white",
            "linecolor": "white",
            "ticks": ""
           },
           "bgcolor": "#E5ECF6",
           "caxis": {
            "gridcolor": "white",
            "linecolor": "white",
            "ticks": ""
           }
          },
          "title": {
           "x": 0.05
          },
          "xaxis": {
           "automargin": true,
           "gridcolor": "white",
           "linecolor": "white",
           "ticks": "",
           "title": {
            "standoff": 15
           },
           "zerolinecolor": "white",
           "zerolinewidth": 2
          },
          "yaxis": {
           "automargin": true,
           "gridcolor": "white",
           "linecolor": "white",
           "ticks": "",
           "title": {
            "standoff": 15
           },
           "zerolinecolor": "white",
           "zerolinewidth": 2
          }
         }
        },
        "width": 1400,
        "xaxis": {
         "title": {
          "text": "Co2EmissionsWltp"
         }
        },
        "yaxis": {
         "tickangle": 45,
         "title": {
          "text": "FuelType"
         }
        }
       }
      }
     },
     "metadata": {},
     "output_type": "display_data"
    }
   ],
   "source": [
    "co2.viz.plot_fueltype_distribution(df)"
   ]
  },
  {
   "cell_type": "code",
   "execution_count": 26,
   "metadata": {},
   "outputs": [
    {
     "name": "stdout",
     "output_type": "stream",
     "text": [
      "<class 'pandas.core.frame.DataFrame'>\n",
      "Index: 4744 entries, 0 to 4999\n",
      "Data columns (total 25 columns):\n",
      " #   Column                            Non-Null Count  Dtype         \n",
      "---  ------                            --------------  -----         \n",
      " 0   ID                                4744 non-null   int64         \n",
      " 1   Country                           4744 non-null   object        \n",
      " 2   Pool                              4744 non-null   object        \n",
      " 3   ManufacturerName                  4744 non-null   object        \n",
      " 4   ManufNameOem                      4744 non-null   object        \n",
      " 5   Make                              4744 non-null   object        \n",
      " 6   CommercialName                    4744 non-null   object        \n",
      " 7   CategoryOf                        4744 non-null   object        \n",
      " 8   MassRunningOrder                  4744 non-null   float64       \n",
      " 9   WltpTestMass                      3864 non-null   float64       \n",
      " 10  Co2EmissionsWltp                  4744 non-null   float64       \n",
      " 11  BaseWheel                         4744 non-null   float64       \n",
      " 12  AxleWidthSteering                 4744 non-null   float64       \n",
      " 13  FuelType                          4744 non-null   object        \n",
      " 14  FuelMode                          4744 non-null   object        \n",
      " 15  EngineCapacity                    4295 non-null   float64       \n",
      " 16  EnginePower                       4744 non-null   float64       \n",
      " 17  ElectricConsumption               675 non-null    float64       \n",
      " 18  InnovativeTechnology              2308 non-null   object        \n",
      " 19  InnovativeEmissionsReductionWltp  2166 non-null   float64       \n",
      " 20  RegistrationDate                  4271 non-null   datetime64[ns]\n",
      " 21  FuelConsumption                   4744 non-null   float64       \n",
      " 22  ElectricRange                     4744 non-null   float64       \n",
      " 23  Co2Grade                          4744 non-null   category      \n",
      " 24  Month                             4271 non-null   float64       \n",
      "dtypes: category(1), datetime64[ns](1), float64(12), int64(1), object(10)\n",
      "memory usage: 931.5+ KB\n"
     ]
    }
   ],
   "source": [
    "df.info()"
   ]
  },
  {
   "cell_type": "code",
   "execution_count": 27,
   "metadata": {},
   "outputs": [
    {
     "ename": "NameError",
     "evalue": "name 'makers' is not defined",
     "output_type": "error",
     "traceback": [
      "\u001b[0;31m---------------------------------------------------------------------------\u001b[0m",
      "\u001b[0;31mNameError\u001b[0m                                 Traceback (most recent call last)",
      "Cell \u001b[0;32mIn[27], line 2\u001b[0m\n\u001b[1;32m      1\u001b[0m \u001b[38;5;28;01mimport\u001b[39;00m \u001b[38;5;21;01mplotly\u001b[39;00m\u001b[38;5;21;01m.\u001b[39;00m\u001b[38;5;21;01mgraph_objects\u001b[39;00m \u001b[38;5;28;01mas\u001b[39;00m \u001b[38;5;21;01mgo\u001b[39;00m\n\u001b[0;32m----> 2\u001b[0m co2\u001b[38;5;241m.\u001b[39mviz\u001b[38;5;241m.\u001b[39mplot_popular_fueltype(\u001b[43mmakers\u001b[49m,save\u001b[38;5;241m=\u001b[39m\u001b[38;5;28;01mFalse\u001b[39;00m)\n",
      "\u001b[0;31mNameError\u001b[0m: name 'makers' is not defined"
     ]
    }
   ],
   "source": [
    "import plotly.graph_objects as go\n",
    "co2.viz.plot_popular_fueltype(makers,save=False)\n"
   ]
  },
  {
   "cell_type": "code",
   "execution_count": 5,
   "metadata": {},
   "outputs": [
    {
     "ename": "AttributeError",
     "evalue": "'ManufacturerDataAggregator' object has no attribute 'info'",
     "output_type": "error",
     "traceback": [
      "\u001b[0;31m---------------------------------------------------------------------------\u001b[0m",
      "\u001b[0;31mAttributeError\u001b[0m                            Traceback (most recent call last)",
      "Cell \u001b[0;32mIn[5], line 1\u001b[0m\n\u001b[0;32m----> 1\u001b[0m \u001b[43mmakers\u001b[49m\u001b[38;5;241;43m.\u001b[39;49m\u001b[43minfo\u001b[49m()\n",
      "\u001b[0;31mAttributeError\u001b[0m: 'ManufacturerDataAggregator' object has no attribute 'info'"
     ]
    }
   ],
   "source": [
    "makers.info()"
   ]
  },
  {
   "cell_type": "code",
   "execution_count": null,
   "metadata": {},
   "outputs": [],
   "source": [
    "df_dropna = df.dropna(subset=['Co2EmissionsWltp', 'EnginePower', 'FuelConsumption', 'Pool'])\n",
    "\n",
    "import plotly.express as px\n",
    "\n",
    "# Calculate the average values for each ManufacturerName\n",
    "average_df = df_dropna.groupby('ManufacturerName').agg({'Co2EmissionsWltp': 'mean', 'EnginePower': 'mean', 'FuelConsumption': 'mean'}).reset_index()\n",
    "\n",
    "plt.figure(figsize=(400,400))\n",
    "fig = px.scatter(average_df, x=\"EnginePower\", y=\"Co2EmissionsWltp\", size=\"FuelConsumption\", facet_col='Pool', hover_data=['ManufacturerName'])\n",
    "fig.show()"
   ]
  }
 ],
 "metadata": {
  "kernelspec": {
   "display_name": "co2",
   "language": "python",
   "name": "python3"
  },
  "language_info": {
   "codemirror_mode": {
    "name": "ipython",
    "version": 3
   },
   "file_extension": ".py",
   "mimetype": "text/x-python",
   "name": "python",
   "nbconvert_exporter": "python",
   "pygments_lexer": "ipython3",
   "version": "3.9.18"
  }
 },
 "nbformat": 4,
 "nbformat_minor": 2
}

{
 "cells": [
  {
   "cell_type": "code",
   "execution_count": 1,
   "metadata": {},
   "outputs": [
    {
     "name": "stderr",
     "output_type": "stream",
     "text": [
      "2024-01-24 21:58:40.818167: I tensorflow/core/util/port.cc:113] oneDNN custom operations are on. You may see slightly different numerical results due to floating-point round-off errors from different computation orders. To turn them off, set the environment variable `TF_ENABLE_ONEDNN_OPTS=0`.\n",
      "2024-01-24 21:58:40.835033: I tensorflow/core/platform/cpu_feature_guard.cc:182] This TensorFlow binary is optimized to use available CPU instructions in performance-critical operations.\n",
      "To enable the following instructions: SSE4.1 SSE4.2 AVX AVX2 AVX512F AVX512_VNNI AVX512_BF16 FMA, in other operations, rebuild TensorFlow with the appropriate compiler flags.\n"
     ]
    }
   ],
   "source": [
    "# Import des libraries\n",
    "import sys\n",
    "sys.path.insert(0, '../src/')\n",
    "\n",
    "import time\n",
    "import numpy as np\n",
    "import pandas as pd\n",
    "import matplotlib.pyplot as plt\n",
    "%matplotlib inline\n",
    "import graphviz\n",
    "import shap\n",
    "import skater\n",
    "from skater.core.explanations import Interpretation\n",
    "from skater.model import InMemoryModel\n",
    "\n",
    "\n",
    "import xgboost as xgb \n",
    "\n",
    "# Importing libraries - sklearn\n",
    "from sklearn.model_selection import train_test_split\n",
    "from sklearn import model_selection, preprocessing\n",
    "from sklearn.linear_model import LinearRegression, LassoCV, RidgeCV, ElasticNetCV\n",
    "from sklearn.metrics import mean_squared_error, mean_absolute_error\n",
    "import pickle       # for saving/loading train-test sets\n",
    "\n",
    "import warnings\n",
    "warnings.simplefilter(action='ignore', category=FutureWarning)\n",
    "\n",
    "import auto_co2 as co2\n",
    "\n",
    "pd.set_option('display.max_columns', None)\n",
    "pd.set_option('display.max_rows', 100)"
   ]
  },
  {
   "cell_type": "markdown",
   "metadata": {},
   "source": [
    "# **0. Introduction**\n"
   ]
  },
  {
   "cell_type": "code",
   "execution_count": 3,
   "metadata": {},
   "outputs": [
    {
     "name": "stdout",
     "output_type": "stream",
     "text": [
      "CPU times: user 9.49 ms, sys: 3.65 ms, total: 13.1 ms\n",
      "Wall time: 12.3 ms\n"
     ]
    }
   ],
   "source": [
    "%%time\n",
    "# Import des données: le dataset entier a pour chemin d'accès: data/processed/co2_classification_xx...\n",
    "file_path = \"../data/sample/co2_regression_sample.csv\"\n",
    "df = pd.read_csv(file_path)\n",
    "\n",
    "target = df['Co2EmissionsWltp']\n",
    "data = df.drop(columns='Co2EmissionsWltp')\n",
    "X_train, X_test, y_train, y_test = train_test_split(data, target, test_size=.3, random_state=100)\n",
    "\n",
    "scaler = preprocessing.StandardScaler()\n",
    "X_train[X_train.columns] = pd.DataFrame(scaler.fit_transform(X_train), index=X_train.index)\n",
    "X_test[X_test.columns] = pd.DataFrame(scaler.transform(X_test), index=X_test.index)"
   ]
  },
  {
   "cell_type": "code",
   "execution_count": 4,
   "metadata": {},
   "outputs": [
    {
     "data": {
      "text/html": [
       "<div>\n",
       "<style scoped>\n",
       "    .dataframe tbody tr th:only-of-type {\n",
       "        vertical-align: middle;\n",
       "    }\n",
       "\n",
       "    .dataframe tbody tr th {\n",
       "        vertical-align: top;\n",
       "    }\n",
       "\n",
       "    .dataframe thead th {\n",
       "        text-align: right;\n",
       "    }\n",
       "</style>\n",
       "<table border=\"1\" class=\"dataframe\">\n",
       "  <thead>\n",
       "    <tr style=\"text-align: right;\">\n",
       "      <th></th>\n",
       "      <th>MassRunningOrder</th>\n",
       "      <th>BaseWheel</th>\n",
       "      <th>EnginePower</th>\n",
       "      <th>InnovativeTechnology</th>\n",
       "      <th>ElectricRange</th>\n",
       "      <th>Pool_BMW</th>\n",
       "      <th>Pool_FORD</th>\n",
       "      <th>Pool_HYUNDAI</th>\n",
       "      <th>Pool_KIA</th>\n",
       "      <th>Pool_MAZDA-SUBARU-SUZUKI-TOYOTA</th>\n",
       "      <th>Pool_MERCEDES-BENZ</th>\n",
       "      <th>Pool_RENAULT-NISSAN-MITSUBISHI</th>\n",
       "      <th>Pool_STELLANTIS</th>\n",
       "      <th>Pool_TESLA</th>\n",
       "      <th>Pool_VW-SAIC</th>\n",
       "      <th>FuelType_DIESEL</th>\n",
       "      <th>FuelType_DIESEL/ELECTRIC</th>\n",
       "      <th>FuelType_E85</th>\n",
       "      <th>FuelType_ELECTRIC</th>\n",
       "      <th>FuelType_LPG</th>\n",
       "      <th>FuelType_NG</th>\n",
       "      <th>FuelType_NG-BIOMETHANE</th>\n",
       "      <th>FuelType_PETROL</th>\n",
       "      <th>FuelType_PETROL/ELECTRIC</th>\n",
       "    </tr>\n",
       "  </thead>\n",
       "  <tbody>\n",
       "    <tr>\n",
       "      <th>1193</th>\n",
       "      <td>0.105890</td>\n",
       "      <td>0.134965</td>\n",
       "      <td>0.191545</td>\n",
       "      <td>1.020671</td>\n",
       "      <td>-0.294125</td>\n",
       "      <td>-0.287025</td>\n",
       "      <td>-0.218149</td>\n",
       "      <td>-0.206543</td>\n",
       "      <td>-0.214338</td>\n",
       "      <td>-0.318421</td>\n",
       "      <td>-0.241375</td>\n",
       "      <td>-0.404803</td>\n",
       "      <td>-0.53142</td>\n",
       "      <td>-0.167771</td>\n",
       "      <td>1.695325</td>\n",
       "      <td>-0.569013</td>\n",
       "      <td>-0.071698</td>\n",
       "      <td>-0.017347</td>\n",
       "      <td>-0.319565</td>\n",
       "      <td>-0.151934</td>\n",
       "      <td>-0.067328</td>\n",
       "      <td>-0.034711</td>\n",
       "      <td>0.882321</td>\n",
       "      <td>-0.26752</td>\n",
       "    </tr>\n",
       "    <tr>\n",
       "      <th>1056</th>\n",
       "      <td>-1.504176</td>\n",
       "      <td>-1.480779</td>\n",
       "      <td>-1.055475</td>\n",
       "      <td>-0.979748</td>\n",
       "      <td>-0.294125</td>\n",
       "      <td>-0.287025</td>\n",
       "      <td>-0.218149</td>\n",
       "      <td>-0.206543</td>\n",
       "      <td>4.665525</td>\n",
       "      <td>-0.318421</td>\n",
       "      <td>-0.241375</td>\n",
       "      <td>-0.404803</td>\n",
       "      <td>-0.53142</td>\n",
       "      <td>-0.167771</td>\n",
       "      <td>-0.589858</td>\n",
       "      <td>-0.569013</td>\n",
       "      <td>-0.071698</td>\n",
       "      <td>-0.017347</td>\n",
       "      <td>-0.319565</td>\n",
       "      <td>-0.151934</td>\n",
       "      <td>-0.067328</td>\n",
       "      <td>-0.034711</td>\n",
       "      <td>0.882321</td>\n",
       "      <td>-0.26752</td>\n",
       "    </tr>\n",
       "    <tr>\n",
       "      <th>2578</th>\n",
       "      <td>-0.566973</td>\n",
       "      <td>-0.109140</td>\n",
       "      <td>-0.339972</td>\n",
       "      <td>1.020671</td>\n",
       "      <td>-0.294125</td>\n",
       "      <td>-0.287025</td>\n",
       "      <td>-0.218149</td>\n",
       "      <td>-0.206543</td>\n",
       "      <td>-0.214338</td>\n",
       "      <td>-0.318421</td>\n",
       "      <td>-0.241375</td>\n",
       "      <td>2.470337</td>\n",
       "      <td>-0.53142</td>\n",
       "      <td>-0.167771</td>\n",
       "      <td>-0.589858</td>\n",
       "      <td>-0.569013</td>\n",
       "      <td>-0.071698</td>\n",
       "      <td>-0.017347</td>\n",
       "      <td>-0.319565</td>\n",
       "      <td>-0.151934</td>\n",
       "      <td>-0.067328</td>\n",
       "      <td>-0.034711</td>\n",
       "      <td>0.882321</td>\n",
       "      <td>-0.26752</td>\n",
       "    </tr>\n",
       "    <tr>\n",
       "      <th>4270</th>\n",
       "      <td>0.087867</td>\n",
       "      <td>0.117529</td>\n",
       "      <td>0.661733</td>\n",
       "      <td>-0.979748</td>\n",
       "      <td>-0.294125</td>\n",
       "      <td>-0.287025</td>\n",
       "      <td>-0.218149</td>\n",
       "      <td>-0.206543</td>\n",
       "      <td>-0.214338</td>\n",
       "      <td>-0.318421</td>\n",
       "      <td>-0.241375</td>\n",
       "      <td>-0.404803</td>\n",
       "      <td>1.88175</td>\n",
       "      <td>-0.167771</td>\n",
       "      <td>-0.589858</td>\n",
       "      <td>-0.569013</td>\n",
       "      <td>-0.071698</td>\n",
       "      <td>-0.017347</td>\n",
       "      <td>-0.319565</td>\n",
       "      <td>-0.151934</td>\n",
       "      <td>-0.067328</td>\n",
       "      <td>-0.034711</td>\n",
       "      <td>0.882321</td>\n",
       "      <td>-0.26752</td>\n",
       "    </tr>\n",
       "    <tr>\n",
       "      <th>2477</th>\n",
       "      <td>-0.506896</td>\n",
       "      <td>-0.207944</td>\n",
       "      <td>-0.094656</td>\n",
       "      <td>1.020671</td>\n",
       "      <td>-0.294125</td>\n",
       "      <td>-0.287025</td>\n",
       "      <td>-0.218149</td>\n",
       "      <td>-0.206543</td>\n",
       "      <td>-0.214338</td>\n",
       "      <td>-0.318421</td>\n",
       "      <td>-0.241375</td>\n",
       "      <td>-0.404803</td>\n",
       "      <td>-0.53142</td>\n",
       "      <td>-0.167771</td>\n",
       "      <td>1.695325</td>\n",
       "      <td>-0.569013</td>\n",
       "      <td>-0.071698</td>\n",
       "      <td>-0.017347</td>\n",
       "      <td>-0.319565</td>\n",
       "      <td>-0.151934</td>\n",
       "      <td>-0.067328</td>\n",
       "      <td>-0.034711</td>\n",
       "      <td>0.882321</td>\n",
       "      <td>-0.26752</td>\n",
       "    </tr>\n",
       "  </tbody>\n",
       "</table>\n",
       "</div>"
      ],
      "text/plain": [
       "      MassRunningOrder  BaseWheel  EnginePower  InnovativeTechnology  \\\n",
       "1193          0.105890   0.134965     0.191545              1.020671   \n",
       "1056         -1.504176  -1.480779    -1.055475             -0.979748   \n",
       "2578         -0.566973  -0.109140    -0.339972              1.020671   \n",
       "4270          0.087867   0.117529     0.661733             -0.979748   \n",
       "2477         -0.506896  -0.207944    -0.094656              1.020671   \n",
       "\n",
       "      ElectricRange  Pool_BMW  Pool_FORD  Pool_HYUNDAI  Pool_KIA  \\\n",
       "1193      -0.294125 -0.287025  -0.218149     -0.206543 -0.214338   \n",
       "1056      -0.294125 -0.287025  -0.218149     -0.206543  4.665525   \n",
       "2578      -0.294125 -0.287025  -0.218149     -0.206543 -0.214338   \n",
       "4270      -0.294125 -0.287025  -0.218149     -0.206543 -0.214338   \n",
       "2477      -0.294125 -0.287025  -0.218149     -0.206543 -0.214338   \n",
       "\n",
       "      Pool_MAZDA-SUBARU-SUZUKI-TOYOTA  Pool_MERCEDES-BENZ  \\\n",
       "1193                        -0.318421           -0.241375   \n",
       "1056                        -0.318421           -0.241375   \n",
       "2578                        -0.318421           -0.241375   \n",
       "4270                        -0.318421           -0.241375   \n",
       "2477                        -0.318421           -0.241375   \n",
       "\n",
       "      Pool_RENAULT-NISSAN-MITSUBISHI  Pool_STELLANTIS  Pool_TESLA  \\\n",
       "1193                       -0.404803         -0.53142   -0.167771   \n",
       "1056                       -0.404803         -0.53142   -0.167771   \n",
       "2578                        2.470337         -0.53142   -0.167771   \n",
       "4270                       -0.404803          1.88175   -0.167771   \n",
       "2477                       -0.404803         -0.53142   -0.167771   \n",
       "\n",
       "      Pool_VW-SAIC  FuelType_DIESEL  FuelType_DIESEL/ELECTRIC  FuelType_E85  \\\n",
       "1193      1.695325        -0.569013                 -0.071698     -0.017347   \n",
       "1056     -0.589858        -0.569013                 -0.071698     -0.017347   \n",
       "2578     -0.589858        -0.569013                 -0.071698     -0.017347   \n",
       "4270     -0.589858        -0.569013                 -0.071698     -0.017347   \n",
       "2477      1.695325        -0.569013                 -0.071698     -0.017347   \n",
       "\n",
       "      FuelType_ELECTRIC  FuelType_LPG  FuelType_NG  FuelType_NG-BIOMETHANE  \\\n",
       "1193          -0.319565     -0.151934    -0.067328               -0.034711   \n",
       "1056          -0.319565     -0.151934    -0.067328               -0.034711   \n",
       "2578          -0.319565     -0.151934    -0.067328               -0.034711   \n",
       "4270          -0.319565     -0.151934    -0.067328               -0.034711   \n",
       "2477          -0.319565     -0.151934    -0.067328               -0.034711   \n",
       "\n",
       "      FuelType_PETROL  FuelType_PETROL/ELECTRIC  \n",
       "1193         0.882321                  -0.26752  \n",
       "1056         0.882321                  -0.26752  \n",
       "2578         0.882321                  -0.26752  \n",
       "4270         0.882321                  -0.26752  \n",
       "2477         0.882321                  -0.26752  "
      ]
     },
     "execution_count": 4,
     "metadata": {},
     "output_type": "execute_result"
    }
   ],
   "source": [
    "X_train.head()"
   ]
  },
  {
   "cell_type": "code",
   "execution_count": 3,
   "metadata": {},
   "outputs": [
    {
     "data": {
      "text/plain": [
       "'\\nco2.styles.display_info(df)\\nco2.styles.displayer(data)\\nco2.styles.displayer(pd.DataFrame(target))\\n\\nco2.viz.plot_continuous_distribution(target)\\n'"
      ]
     },
     "execution_count": 3,
     "metadata": {},
     "output_type": "execute_result"
    }
   ],
   "source": [
    "\"\"\"\n",
    "co2.styles.display_info(df)\n",
    "co2.styles.displayer(data)\n",
    "co2.styles.displayer(pd.DataFrame(target))\n",
    "\n",
    "co2.viz.plot_continuous_distribution(target)\n",
    "\"\"\""
   ]
  },
  {
   "cell_type": "markdown",
   "metadata": {},
   "source": [
    "# **1. Régression Linéaire**"
   ]
  },
  {
   "cell_type": "code",
   "execution_count": 7,
   "metadata": {},
   "outputs": [
    {
     "name": "stdout",
     "output_type": "stream",
     "text": [
      "Save: True\n",
      "Saved PERFORMANCES DU MODELE DE REGRESSION LINEAIRE styled DataFrame to output/tables\n"
     ]
    },
    {
     "name": "stderr",
     "output_type": "stream",
     "text": [
      "With alpha=0, this algorithm does not converge well. You are advised to use the LinearRegression estimator\n",
      "Coordinate descent with no regularization may lead to unexpected results and is discouraged.\n",
      "Objective did not converge. You might want to increase the number of iterations, check the scale of the features or consider increasing regularisation. Duality gap: 5.016e+05, tolerance: 8.884e+02 Linear regression models with null weight for the l1 regularization term are more efficiently fitted using one of the solvers implemented in sklearn.linear_model.Ridge/RidgeCV instead.\n"
     ]
    },
    {
     "data": {
      "text/html": [
       "<style type=\"text/css\">\n",
       "#T_79f5a th {\n",
       "  background-color: steelblue;\n",
       "  color: white;\n",
       "}\n",
       "#T_79f5a tr:nth-of-type(odd) {\n",
       "  background-color: aliceblue;\n",
       "}\n",
       "#T_79f5a tr:nth-of-type(even) {\n",
       "  background-color: white;\n",
       "}\n",
       "</style>\n",
       "<table id=\"T_79f5a\">\n",
       "  <caption><h2>PERFORMANCES DU MODELE DE REGRESSION LINEAIRE</h2></caption>\n",
       "  <thead>\n",
       "    <tr>\n",
       "      <th class=\"blank level0\" >&nbsp;</th>\n",
       "      <th id=\"T_79f5a_level0_col0\" class=\"col_heading level0 col0\" >Train Set</th>\n",
       "      <th id=\"T_79f5a_level0_col1\" class=\"col_heading level0 col1\" >Test Set</th>\n",
       "    </tr>\n",
       "  </thead>\n",
       "  <tbody>\n",
       "    <tr>\n",
       "      <th id=\"T_79f5a_level0_row0\" class=\"row_heading level0 row0\" >Mean Squared Error</th>\n",
       "      <td id=\"T_79f5a_row0_col0\" class=\"data row0 col0\" >301.775</td>\n",
       "      <td id=\"T_79f5a_row0_col1\" class=\"data row0 col1\" >318.218</td>\n",
       "    </tr>\n",
       "    <tr>\n",
       "      <th id=\"T_79f5a_level0_row1\" class=\"row_heading level0 row1\" >Root Mean Squared Error</th>\n",
       "      <td id=\"T_79f5a_row1_col0\" class=\"data row1 col0\" >17.372</td>\n",
       "      <td id=\"T_79f5a_row1_col1\" class=\"data row1 col1\" >17.839</td>\n",
       "    </tr>\n",
       "    <tr>\n",
       "      <th id=\"T_79f5a_level0_row2\" class=\"row_heading level0 row2\" >Mean Absolute Error</th>\n",
       "      <td id=\"T_79f5a_row2_col0\" class=\"data row2 col0\" >11.398</td>\n",
       "      <td id=\"T_79f5a_row2_col1\" class=\"data row2 col1\" >11.310</td>\n",
       "    </tr>\n",
       "    <tr>\n",
       "      <th id=\"T_79f5a_level0_row3\" class=\"row_heading level0 row3\" >R2 Score</th>\n",
       "      <td id=\"T_79f5a_row3_col0\" class=\"data row3 col0\" >0.887</td>\n",
       "      <td id=\"T_79f5a_row3_col1\" class=\"data row3 col1\" >0.879</td>\n",
       "    </tr>\n",
       "  </tbody>\n",
       "</table>\n"
      ],
      "text/plain": [
       "<pandas.io.formats.style.Styler at 0x7f476de4eca0>"
      ]
     },
     "metadata": {},
     "output_type": "display_data"
    },
    {
     "name": "stdout",
     "output_type": "stream",
     "text": [
      "<class 'pandas.io.formats.style.Styler'>\n"
     ]
    },
    {
     "ename": "NameError",
     "evalue": "name 'pred_test' is not defined",
     "output_type": "error",
     "traceback": [
      "\u001b[0;31m---------------------------------------------------------------------------\u001b[0m",
      "\u001b[0;31mNameError\u001b[0m                                 Traceback (most recent call last)",
      "Cell \u001b[0;32mIn[7], line 12\u001b[0m\n\u001b[1;32m      8\u001b[0m pred_test_lr \u001b[38;5;241m=\u001b[39m lr\u001b[38;5;241m.\u001b[39mpredict(X_test)\n\u001b[1;32m     11\u001b[0m co2\u001b[38;5;241m.\u001b[39mstyles\u001b[38;5;241m.\u001b[39mdisplay_combined_report(y_train, pred_train_lr, y_test, pred_test_lr, title\u001b[38;5;241m=\u001b[39m\u001b[38;5;124m'\u001b[39m\u001b[38;5;124mPERFORMANCES DU MODELE DE REGRESSION LINEAIRE\u001b[39m\u001b[38;5;124m'\u001b[39m)\n\u001b[0;32m---> 12\u001b[0m co2\u001b[38;5;241m.\u001b[39mstyles\u001b[38;5;241m.\u001b[39mdisplayer(pd\u001b[38;5;241m.\u001b[39mDataFrame({\u001b[38;5;124m'\u001b[39m\u001b[38;5;124mCo2 Observé\u001b[39m\u001b[38;5;124m'\u001b[39m: y_test, \u001b[38;5;124m'\u001b[39m\u001b[38;5;124mCo2 prédit\u001b[39m\u001b[38;5;124m'\u001b[39m: \u001b[43mpred_test\u001b[49m},\n\u001b[1;32m     13\u001b[0m              index\u001b[38;5;241m=\u001b[39mX_test\u001b[38;5;241m.\u001b[39mindex), n\u001b[38;5;241m=\u001b[39m\u001b[38;5;241m10\u001b[39m, title\u001b[38;5;241m=\u001b[39m\u001b[38;5;124m'\u001b[39m\u001b[38;5;124mREGRESSION LINEAIRE: COMPARAISON DE QUELQUES VALEURS\u001b[39m\u001b[38;5;124m'\u001b[39m)\n\u001b[1;32m     17\u001b[0m co2\u001b[38;5;241m.\u001b[39mviz\u001b[38;5;241m.\u001b[39mplot_regression_diagnostics(y_test, pred_test_lr, y_train, \u001b[38;5;124m\"\u001b[39m\u001b[38;5;124mRégression linéaire simple\u001b[39m\u001b[38;5;124m\"\u001b[39m, interactive\u001b[38;5;241m=\u001b[39m\u001b[38;5;28;01mTrue\u001b[39;00m, save\u001b[38;5;241m=\u001b[39m\u001b[38;5;28;01mTrue\u001b[39;00m, \u001b[38;5;28mformat\u001b[39m\u001b[38;5;241m=\u001b[39m\u001b[38;5;124m'\u001b[39m\u001b[38;5;124mpng\u001b[39m\u001b[38;5;124m'\u001b[39m, sample\u001b[38;5;241m=\u001b[39m\u001b[38;5;241m0.05\u001b[39m)\n",
      "\u001b[0;31mNameError\u001b[0m: name 'pred_test' is not defined"
     ]
    }
   ],
   "source": [
    "# model configuration ant training\n",
    "from sklearn.linear_model import ElasticNet\n",
    "\n",
    "lr = ElasticNet(alpha=0, l1_ratio=0)\n",
    "\n",
    "lr.fit(X_train, y_train)\n",
    "pred_train_lr = lr.predict(X_train)\n",
    "pred_test_lr = lr.predict(X_test)\n",
    "\n",
    "\n",
    "co2.styles.display_combined_report(y_train, pred_train_lr, y_test, pred_test_lr, title='PERFORMANCES DU MODELE DE REGRESSION LINEAIRE')\n",
    "co2.styles.displayer(pd.DataFrame({'Co2 Observé': y_test, 'Co2 prédit': pred_test},\n",
    "             index=X_test.index), n=10, title='REGRESSION LINEAIRE: COMPARAISON DE QUELQUES VALEURS')\n",
    "\n",
    "\n",
    "\n",
    "co2.viz.plot_regression_diagnostics(y_test, pred_test_lr, y_train, \"Régression linéaire simple\", interactive=True, save=True, format='png', sample=0.05)"
   ]
  },
  {
   "cell_type": "markdown",
   "metadata": {},
   "source": [
    "# **2. Modèle ElasticNet**"
   ]
  },
  {
   "cell_type": "code",
   "execution_count": 3,
   "metadata": {},
   "outputs": [
    {
     "name": "stdout",
     "output_type": "stream",
     "text": [
      "CPU times: user 235 ms, sys: 905 ms, total: 1.14 s\n",
      "Wall time: 607 ms\n"
     ]
    }
   ],
   "source": [
    "%%time\n",
    "l1_ratios = [0.05, 0.1, 0.2, 0.5, 0.6, 1]\n",
    "lr_en = ElasticNetCV(cv=5, l1_ratio=l1_ratios, alphas=[0.1, 0.5, 0.9, 0.95, 1.0], n_jobs=-1)\n",
    "lr_en.fit(X_train, y_train)\n",
    "\n",
    "\n",
    "#co2.styles.display_combined_report(y_train, lr_en.predict(X_train), y_test, lr_en.predict(X_test), title='PERFORMANCES DU MODELE ELASTIC NET') \n",
    "\n",
    "#co2.viz.plot_regression_diagnostics(y_test, pred_test, y_train, \"ElasticNet\", interactive=True, save=True, format='png')\n",
    "co2.viz.plot_lr_elasticnet(lr_en, interactive=False, save=True, format='png')\n",
    "co2.viz.plot_mse_folds(lr_en, l1_ratios, interactive=False, save=True, format='png')\n",
    "\n",
    "\n",
    "#co2.data.save_model(lr_en)"
   ]
  },
  {
   "cell_type": "markdown",
   "metadata": {},
   "source": [
    "# **3. Modèle d'ensemble XGBoost Regressor**"
   ]
  },
  {
   "cell_type": "code",
   "execution_count": 4,
   "metadata": {},
   "outputs": [
    {
     "name": "stdout",
     "output_type": "stream",
     "text": [
      "[0]\ttrain-rmse:46.83396\tvalid-rmse:46.85859\n",
      "[1]\ttrain-rmse:42.62546\tvalid-rmse:42.81717\n",
      "[2]\ttrain-rmse:38.86901\tvalid-rmse:39.22780\n",
      "[3]\ttrain-rmse:35.49805\tvalid-rmse:36.02615\n",
      "[4]\ttrain-rmse:32.49821\tvalid-rmse:33.19720\n",
      "[5]\ttrain-rmse:29.78082\tvalid-rmse:30.60003\n",
      "[6]\ttrain-rmse:27.36731\tvalid-rmse:28.32697\n",
      "[7]\ttrain-rmse:25.22715\tvalid-rmse:26.40052\n",
      "[8]\ttrain-rmse:23.34361\tvalid-rmse:24.72306\n",
      "[9]\ttrain-rmse:21.65419\tvalid-rmse:23.17249\n",
      "[10]\ttrain-rmse:20.17459\tvalid-rmse:21.82890\n",
      "[11]\ttrain-rmse:18.88199\tvalid-rmse:20.73643\n",
      "[12]\ttrain-rmse:17.77025\tvalid-rmse:19.80536\n",
      "[13]\ttrain-rmse:16.77267\tvalid-rmse:18.88078\n",
      "[14]\ttrain-rmse:15.87999\tvalid-rmse:18.09849\n",
      "[15]\ttrain-rmse:15.16041\tvalid-rmse:17.47749\n",
      "[16]\ttrain-rmse:14.47811\tvalid-rmse:16.87996\n",
      "[17]\ttrain-rmse:13.89796\tvalid-rmse:16.37443\n",
      "[18]\ttrain-rmse:13.38364\tvalid-rmse:15.94421\n"
     ]
    },
    {
     "name": "stderr",
     "output_type": "stream",
     "text": [
      "[21:58:57] WARNING: /home/conda/feedstock_root/build_artifacts/xgboost-split_1703076482591/work/src/objective/regression_obj.cu:209: reg:linear is now deprecated in favor of reg:squarederror.\n"
     ]
    },
    {
     "name": "stdout",
     "output_type": "stream",
     "text": [
      "[19]\ttrain-rmse:12.92228\tvalid-rmse:15.52592\n",
      "[20]\ttrain-rmse:12.58009\tvalid-rmse:15.26867\n",
      "[21]\ttrain-rmse:12.20911\tvalid-rmse:15.00959\n",
      "[22]\ttrain-rmse:11.94024\tvalid-rmse:14.81699\n",
      "[23]\ttrain-rmse:11.66793\tvalid-rmse:14.60502\n",
      "[24]\ttrain-rmse:11.42348\tvalid-rmse:14.44662\n",
      "[25]\ttrain-rmse:11.23843\tvalid-rmse:14.34150\n",
      "[26]\ttrain-rmse:11.09516\tvalid-rmse:14.25308\n",
      "[27]\ttrain-rmse:10.91718\tvalid-rmse:14.12942\n",
      "[28]\ttrain-rmse:10.79452\tvalid-rmse:14.05589\n",
      "[29]\ttrain-rmse:10.64820\tvalid-rmse:13.98241\n",
      "[30]\ttrain-rmse:10.52354\tvalid-rmse:13.90175\n",
      "[31]\ttrain-rmse:10.37059\tvalid-rmse:13.84508\n",
      "[32]\ttrain-rmse:10.21752\tvalid-rmse:13.80019\n",
      "[33]\ttrain-rmse:9.94393\tvalid-rmse:13.61884\n",
      "[34]\ttrain-rmse:9.80989\tvalid-rmse:13.58475\n",
      "[35]\ttrain-rmse:9.60839\tvalid-rmse:13.47757\n",
      "[36]\ttrain-rmse:9.45611\tvalid-rmse:13.41984\n",
      "[37]\ttrain-rmse:9.29366\tvalid-rmse:13.34581\n",
      "[38]\ttrain-rmse:9.17412\tvalid-rmse:13.29982\n",
      "[39]\ttrain-rmse:9.03393\tvalid-rmse:13.19563\n",
      "[40]\ttrain-rmse:8.95880\tvalid-rmse:13.13856\n",
      "[41]\ttrain-rmse:8.83457\tvalid-rmse:13.04216\n",
      "[42]\ttrain-rmse:8.67118\tvalid-rmse:12.94231\n",
      "[43]\ttrain-rmse:8.58504\tvalid-rmse:12.87254\n",
      "[44]\ttrain-rmse:8.48273\tvalid-rmse:12.80468\n",
      "[45]\ttrain-rmse:8.43178\tvalid-rmse:12.76569\n",
      "[46]\ttrain-rmse:8.34165\tvalid-rmse:12.71354\n",
      "[47]\ttrain-rmse:8.26937\tvalid-rmse:12.67503\n",
      "[48]\ttrain-rmse:8.14764\tvalid-rmse:12.61591\n",
      "[49]\ttrain-rmse:8.10615\tvalid-rmse:12.58959\n",
      "[50]\ttrain-rmse:8.04055\tvalid-rmse:12.55395\n",
      "[51]\ttrain-rmse:7.96079\tvalid-rmse:12.54323\n",
      "[52]\ttrain-rmse:7.90647\tvalid-rmse:12.51704\n",
      "[53]\ttrain-rmse:7.85492\tvalid-rmse:12.48409\n",
      "[54]\ttrain-rmse:7.79684\tvalid-rmse:12.45125\n",
      "[55]\ttrain-rmse:7.70924\tvalid-rmse:12.43931\n",
      "[56]\ttrain-rmse:7.62285\tvalid-rmse:12.38281\n",
      "[57]\ttrain-rmse:7.56802\tvalid-rmse:12.34521\n",
      "[58]\ttrain-rmse:7.51319\tvalid-rmse:12.31456\n",
      "[59]\ttrain-rmse:7.48722\tvalid-rmse:12.30018\n",
      "[60]\ttrain-rmse:7.43129\tvalid-rmse:12.27313\n",
      "[61]\ttrain-rmse:7.38902\tvalid-rmse:12.24730\n",
      "[62]\ttrain-rmse:7.34613\tvalid-rmse:12.21998\n",
      "[63]\ttrain-rmse:7.31418\tvalid-rmse:12.20100\n",
      "[64]\ttrain-rmse:7.29541\tvalid-rmse:12.19009\n",
      "[65]\ttrain-rmse:7.28507\tvalid-rmse:12.19191\n",
      "[66]\ttrain-rmse:7.27769\tvalid-rmse:12.18593\n",
      "[67]\ttrain-rmse:7.22285\tvalid-rmse:12.15737\n",
      "[68]\ttrain-rmse:7.18606\tvalid-rmse:12.13999\n",
      "[69]\ttrain-rmse:7.13414\tvalid-rmse:12.11223\n",
      "[70]\ttrain-rmse:7.10606\tvalid-rmse:12.10309\n",
      "[71]\ttrain-rmse:7.01764\tvalid-rmse:12.06078\n",
      "[72]\ttrain-rmse:6.98782\tvalid-rmse:12.04589\n",
      "[73]\ttrain-rmse:6.93859\tvalid-rmse:12.02815\n",
      "[74]\ttrain-rmse:6.92883\tvalid-rmse:12.02455\n",
      "[75]\ttrain-rmse:6.87314\tvalid-rmse:11.99862\n",
      "[76]\ttrain-rmse:6.86178\tvalid-rmse:11.98908\n",
      "[77]\ttrain-rmse:6.85177\tvalid-rmse:11.98093\n",
      "[78]\ttrain-rmse:6.81494\tvalid-rmse:11.96857\n",
      "[79]\ttrain-rmse:6.80980\tvalid-rmse:11.96508\n",
      "[80]\ttrain-rmse:6.75329\tvalid-rmse:11.94353\n",
      "[81]\ttrain-rmse:6.71315\tvalid-rmse:11.94736\n",
      "[82]\ttrain-rmse:6.66119\tvalid-rmse:11.92734\n",
      "[83]\ttrain-rmse:6.65163\tvalid-rmse:11.92162\n",
      "[84]\ttrain-rmse:6.62415\tvalid-rmse:11.91472\n",
      "[85]\ttrain-rmse:6.56731\tvalid-rmse:11.88407\n",
      "[86]\ttrain-rmse:6.55257\tvalid-rmse:11.87783\n",
      "[87]\ttrain-rmse:6.51440\tvalid-rmse:11.86272\n",
      "[88]\ttrain-rmse:6.47351\tvalid-rmse:11.83719\n",
      "[89]\ttrain-rmse:6.43059\tvalid-rmse:11.82232\n",
      "[90]\ttrain-rmse:6.41534\tvalid-rmse:11.82181\n",
      "[91]\ttrain-rmse:6.39701\tvalid-rmse:11.81907\n",
      "[92]\ttrain-rmse:6.36756\tvalid-rmse:11.80807\n",
      "[93]\ttrain-rmse:6.32603\tvalid-rmse:11.78547\n",
      "[94]\ttrain-rmse:6.31878\tvalid-rmse:11.78294\n",
      "[95]\ttrain-rmse:6.29813\tvalid-rmse:11.77731\n",
      "[96]\ttrain-rmse:6.26909\tvalid-rmse:11.76272\n",
      "[97]\ttrain-rmse:6.24971\tvalid-rmse:11.75409\n",
      "[98]\ttrain-rmse:6.21782\tvalid-rmse:11.74193\n",
      "[99]\ttrain-rmse:6.19306\tvalid-rmse:11.72448\n",
      "[100]\ttrain-rmse:6.18383\tvalid-rmse:11.72259\n",
      "[101]\ttrain-rmse:6.17032\tvalid-rmse:11.71679\n",
      "[102]\ttrain-rmse:6.14094\tvalid-rmse:11.71951\n",
      "[103]\ttrain-rmse:6.12384\tvalid-rmse:11.71881\n",
      "[104]\ttrain-rmse:6.09469\tvalid-rmse:11.75665\n",
      "[105]\ttrain-rmse:6.05601\tvalid-rmse:11.73343\n",
      "[106]\ttrain-rmse:6.04476\tvalid-rmse:11.72672\n",
      "[107]\ttrain-rmse:6.02657\tvalid-rmse:11.71630\n",
      "[108]\ttrain-rmse:6.01318\tvalid-rmse:11.71654\n",
      "[109]\ttrain-rmse:5.99083\tvalid-rmse:11.71898\n",
      "[110]\ttrain-rmse:5.96915\tvalid-rmse:11.71670\n",
      "[111]\ttrain-rmse:5.94646\tvalid-rmse:11.72387\n",
      "[112]\ttrain-rmse:5.92794\tvalid-rmse:11.71573\n",
      "[113]\ttrain-rmse:5.91378\tvalid-rmse:11.70043\n",
      "[114]\ttrain-rmse:5.88492\tvalid-rmse:11.69414\n",
      "[115]\ttrain-rmse:5.86741\tvalid-rmse:11.70144\n",
      "[116]\ttrain-rmse:5.85902\tvalid-rmse:11.69558\n",
      "[117]\ttrain-rmse:5.83833\tvalid-rmse:11.71830\n",
      "[118]\ttrain-rmse:5.82232\tvalid-rmse:11.70867\n",
      "[119]\ttrain-rmse:5.79521\tvalid-rmse:11.70628\n",
      "[120]\ttrain-rmse:5.78972\tvalid-rmse:11.71197\n",
      "[121]\ttrain-rmse:5.77417\tvalid-rmse:11.70919\n",
      "[122]\ttrain-rmse:5.77034\tvalid-rmse:11.70729\n",
      "[123]\ttrain-rmse:5.75786\tvalid-rmse:11.69829\n",
      "[124]\ttrain-rmse:5.74326\tvalid-rmse:11.69420\n",
      "[125]\ttrain-rmse:5.72964\tvalid-rmse:11.68892\n",
      "[126]\ttrain-rmse:5.71584\tvalid-rmse:11.69302\n",
      "[127]\ttrain-rmse:5.71361\tvalid-rmse:11.69395\n",
      "[128]\ttrain-rmse:5.71045\tvalid-rmse:11.69396\n",
      "[129]\ttrain-rmse:5.68771\tvalid-rmse:11.70418\n",
      "[130]\ttrain-rmse:5.67231\tvalid-rmse:11.70013\n",
      "[131]\ttrain-rmse:5.64738\tvalid-rmse:11.69461\n",
      "[132]\ttrain-rmse:5.63169\tvalid-rmse:11.68822\n",
      "[133]\ttrain-rmse:5.62107\tvalid-rmse:11.68271\n",
      "[134]\ttrain-rmse:5.61408\tvalid-rmse:11.68092\n",
      "[135]\ttrain-rmse:5.60454\tvalid-rmse:11.68630\n",
      "[136]\ttrain-rmse:5.59102\tvalid-rmse:11.68189\n",
      "[137]\ttrain-rmse:5.57882\tvalid-rmse:11.67748\n",
      "[138]\ttrain-rmse:5.56154\tvalid-rmse:11.67643\n",
      "[139]\ttrain-rmse:5.55584\tvalid-rmse:11.67800\n",
      "[140]\ttrain-rmse:5.53474\tvalid-rmse:11.67414\n",
      "[141]\ttrain-rmse:5.51426\tvalid-rmse:11.66709\n",
      "[142]\ttrain-rmse:5.49665\tvalid-rmse:11.66856\n",
      "[143]\ttrain-rmse:5.48854\tvalid-rmse:11.67034\n",
      "[144]\ttrain-rmse:5.47250\tvalid-rmse:11.66546\n",
      "[145]\ttrain-rmse:5.46413\tvalid-rmse:11.66218\n",
      "[146]\ttrain-rmse:5.45208\tvalid-rmse:11.65612\n",
      "[147]\ttrain-rmse:5.43362\tvalid-rmse:11.64867\n",
      "[148]\ttrain-rmse:5.42151\tvalid-rmse:11.64704\n",
      "[149]\ttrain-rmse:5.40835\tvalid-rmse:11.64787\n",
      "[150]\ttrain-rmse:5.39804\tvalid-rmse:11.64117\n",
      "[151]\ttrain-rmse:5.38585\tvalid-rmse:11.64382\n",
      "[152]\ttrain-rmse:5.36979\tvalid-rmse:11.63746\n",
      "[153]\ttrain-rmse:5.35402\tvalid-rmse:11.63736\n",
      "[154]\ttrain-rmse:5.34570\tvalid-rmse:11.63497\n",
      "[155]\ttrain-rmse:5.33072\tvalid-rmse:11.64665\n",
      "[156]\ttrain-rmse:5.32377\tvalid-rmse:11.64687\n",
      "[157]\ttrain-rmse:5.31589\tvalid-rmse:11.64520\n",
      "[158]\ttrain-rmse:5.30667\tvalid-rmse:11.64287\n",
      "[159]\ttrain-rmse:5.29807\tvalid-rmse:11.64068\n",
      "[160]\ttrain-rmse:5.29186\tvalid-rmse:11.63987\n",
      "[161]\ttrain-rmse:5.29069\tvalid-rmse:11.64008\n",
      "[162]\ttrain-rmse:5.28564\tvalid-rmse:11.63621\n",
      "[163]\ttrain-rmse:5.27487\tvalid-rmse:11.63520\n",
      "[164]\ttrain-rmse:5.26037\tvalid-rmse:11.64832\n",
      "[165]\ttrain-rmse:5.25450\tvalid-rmse:11.65056\n",
      "[166]\ttrain-rmse:5.24337\tvalid-rmse:11.64678\n",
      "[167]\ttrain-rmse:5.23488\tvalid-rmse:11.65143\n",
      "[168]\ttrain-rmse:5.22627\tvalid-rmse:11.66763\n",
      "[169]\ttrain-rmse:5.21707\tvalid-rmse:11.66737\n",
      "Save: True\n",
      "Saved PERFORMANCES DU MODELE XGBOOST styled DataFrame to output/tables\n"
     ]
    },
    {
     "data": {
      "text/html": [
       "<style type=\"text/css\">\n",
       "#T_6ffae th {\n",
       "  background-color: steelblue;\n",
       "  color: white;\n",
       "}\n",
       "#T_6ffae tr:nth-of-type(odd) {\n",
       "  background-color: aliceblue;\n",
       "}\n",
       "#T_6ffae tr:nth-of-type(even) {\n",
       "  background-color: white;\n",
       "}\n",
       "</style>\n",
       "<table id=\"T_6ffae\">\n",
       "  <caption><h2>PERFORMANCES DU MODELE XGBOOST</h2></caption>\n",
       "  <thead>\n",
       "    <tr>\n",
       "      <th class=\"blank level0\" >&nbsp;</th>\n",
       "      <th id=\"T_6ffae_level0_col0\" class=\"col_heading level0 col0\" >Train Set</th>\n",
       "      <th id=\"T_6ffae_level0_col1\" class=\"col_heading level0 col1\" >Test Set</th>\n",
       "    </tr>\n",
       "  </thead>\n",
       "  <tbody>\n",
       "    <tr>\n",
       "      <th id=\"T_6ffae_level0_row0\" class=\"row_heading level0 row0\" >Mean Squared Error</th>\n",
       "      <td id=\"T_6ffae_row0_col0\" class=\"data row0 col0\" >27.218</td>\n",
       "      <td id=\"T_6ffae_row0_col1\" class=\"data row0 col1\" >136.127</td>\n",
       "    </tr>\n",
       "    <tr>\n",
       "      <th id=\"T_6ffae_level0_row1\" class=\"row_heading level0 row1\" >Root Mean Squared Error</th>\n",
       "      <td id=\"T_6ffae_row1_col0\" class=\"data row1 col0\" >5.217</td>\n",
       "      <td id=\"T_6ffae_row1_col1\" class=\"data row1 col1\" >11.667</td>\n",
       "    </tr>\n",
       "    <tr>\n",
       "      <th id=\"T_6ffae_level0_row2\" class=\"row_heading level0 row2\" >Mean Absolute Error</th>\n",
       "      <td id=\"T_6ffae_row2_col0\" class=\"data row2 col0\" >2.851</td>\n",
       "      <td id=\"T_6ffae_row2_col1\" class=\"data row2 col1\" >4.694</td>\n",
       "    </tr>\n",
       "    <tr>\n",
       "      <th id=\"T_6ffae_level0_row3\" class=\"row_heading level0 row3\" >R2 Score</th>\n",
       "      <td id=\"T_6ffae_row3_col0\" class=\"data row3 col0\" >0.990</td>\n",
       "      <td id=\"T_6ffae_row3_col1\" class=\"data row3 col1\" >0.948</td>\n",
       "    </tr>\n",
       "  </tbody>\n",
       "</table>\n"
      ],
      "text/plain": [
       "<pandas.io.formats.style.Styler at 0x7f9711a51be0>"
      ]
     },
     "metadata": {},
     "output_type": "display_data"
    },
    {
     "name": "stdout",
     "output_type": "stream",
     "text": [
      "<class 'pandas.io.formats.style.Styler'>\n",
      "CPU times: user 36.1 s, sys: 111 ms, total: 36.2 s\n",
      "Wall time: 2.7 s\n"
     ]
    }
   ],
   "source": [
    "%%time\n",
    "\n",
    "X_temp, X_test, y_temp, y_test = train_test_split(data, target, test_size = 0.2, random_state = 2)\n",
    "X_train, X_valid, y_train, y_valid = train_test_split(X_temp, y_temp, test_size = 0.2, random_state = 3)\n",
    "\n",
    "train = xgb.DMatrix(data = X_train, label = y_train)\n",
    "test = xgb.DMatrix(data = X_test, label = y_test)\n",
    "valid = xgb.DMatrix(data = X_valid, label = y_valid)\n",
    "\n",
    "params = {'booster' : 'gbtree', 'learning_rate' : 0.1, 'objective' : 'reg:linear'}\n",
    "model = xgb.train(params=params, dtrain = train, num_boost_round = 700, early_stopping_rounds = 15, evals= [(train, 'train'), (test, 'valid')] )\n",
    "# préferer  'learning_rate' << 1 → 0,01  et num_boost_round grand = 700,\n",
    "\n",
    "pred_train_xgb = model.predict(train)\n",
    "pred_test_xgb = model.predict(test)\n",
    "residuals_test_xgb = y_test - pred_test_xgb\n",
    "\n",
    "\n",
    "co2.styles.display_combined_report(y_train, pred_train_xgb, y_test, pred_test_xgb, title='PERFORMANCES DU MODELE XGBOOST') \n",
    "\n",
    "#co2.data.save_model(model, 'xgb') "
   ]
  },
  {
   "cell_type": "code",
   "execution_count": 6,
   "metadata": {},
   "outputs": [],
   "source": [
    "co2.viz.plot_regression_diagnostics(y_test, pred_test_xgb, residuals_test_xgb, \"PERFORMANCES DU MODELE XGBOOST REGRESSOR\", \n",
    "                                    interactive=False, save=True, format='png', sample=0.05)"
   ]
  },
  {
   "cell_type": "markdown",
   "metadata": {},
   "source": [
    "# **4. Interprétabilité du modèle XGB Linear Regressor**"
   ]
  },
  {
   "cell_type": "code",
   "execution_count": 4,
   "metadata": {},
   "outputs": [
    {
     "name": "stdout",
     "output_type": "stream",
     "text": [
      "[1/24] features -------------------- Time elapsed: 0 seconds"
     ]
    },
    {
     "name": "stdout",
     "output_type": "stream",
     "text": [
      "[24/24] features ████████████████████ Time elapsed: 0 seconds"
     ]
    },
    {
     "data": {
      "image/png": "[encoded data removed]",
      "text/plain": [
       "<Figure size 1400x700 with 1 Axes>"
      ]
     },
     "metadata": {},
     "output_type": "display_data"
    }
   ],
   "source": [
    "from skater.core.local_interpretation.lime.lime_tabular import LimeTabularExplainer\n",
    "from skater.model import InMemoryModel\n",
    "\n",
    "# Define a prediction function for the model\n",
    "def predict_xg(x):\n",
    "    return pd.DataFrame(model.predict(xgb.DMatrix(x)))\n",
    "\n",
    "# Create an in-memory model\n",
    "model_1 = InMemoryModel(predict_xg, examples = X_train)\n",
    "\n",
    "# Create an interpreter\n",
    "interpreter = Interpretation(X_train, feature_names=X_train.columns)\n",
    "\n",
    "# Set the figure size for the plot\n",
    "plt.rcParams['figure.figsize'] = (14,7)\n",
    "\n",
    "# Generate a feature importance plot\n",
    "plots = interpreter.feature_importance.plot_feature_importance(model_1, ascending=True)"
   ]
  },
  {
   "cell_type": "code",
   "execution_count": 7,
   "metadata": {},
   "outputs": [
    {
     "name": "stderr",
     "output_type": "stream",
     "text": [
      "/home/mln/miniconda3/envs/co2/lib/python3.9/site-packages/xgboost/core.py:160: UserWarning:\n",
      "\n",
      "[11:17:13] WARNING: /home/conda/feedstock_root/build_artifacts/xgboost-split_1703076482591/work/src/c_api/c_api.cc:1240: Saving into deprecated binary model format, please consider using `json` or `ubj`. Model format will default to JSON in XGBoost 2.2 if not specified.\n",
      "\n"
     ]
    },
    {
     "data": {
      "image/png": "[encoded data removed]",
      "text/plain": [
       "<Figure size 800x950 with 1 Axes>"
      ]
     },
     "metadata": {},
     "output_type": "display_data"
    },
    {
     "data": {
      "application/vnd.plotly.v1+json": {
       "config": {
        "plotlyServerURL": "https://plot.ly"
       },
       "data": [
        {
         "marker": {
          "color": "rgb(0, 0, 128)",
          "opacity": 0.4,
          "size": 3
         },
         "mode": "markers",
         "name": "points",
         "type": "scatter",
         "x": [
          0,
          0,
          0,
          0,
          0,
          0,
          0,
          0,
          0,
          48,
          0,
          0,
          0,
          0,
          0,
          0,
          0,
          0,
          0,
          0,
          0,
          0,
          0,
          0,
          0,
          504,
          0,
          0,
          0,
          0,
          0,
          510,
          0,
          517,
          0,
          0,
          0,
          0,
          0,
          0,
          0,
          0,
          0,
          0,
          0,
          0,
          0
         ],
         "y": [
          2.846447229385376,
          2.659287214279175,
          2.0309619903564453,
          1.1328026056289673,
          3.0505855083465576,
          2.2235546112060547,
          3.754456043243408,
          3.852085828781128,
          2.531162738800049,
          -25.077678680419922,
          2.4348700046539307,
          2.8240597248077393,
          4.109691143035889,
          2.692911148071289,
          2.7886698246002197,
          1.932987928390503,
          2.5828540325164795,
          2.7632369995117188,
          2.6826670169830322,
          2.9189140796661377,
          2.8460934162139893,
          2.651928424835205,
          3.8630824089050293,
          2.949343681335449,
          2.813917636871338,
          -24.84374237060547,
          2.791445255279541,
          2.68979549407959,
          2.8974709510803223,
          3.2177467346191406,
          2.615927219390869,
          -27.068870544433594,
          1.654466986656189,
          -25.327468872070312,
          1.017688512802124,
          2.3943426609039307,
          2.348787546157837,
          2.8200325965881348,
          2.7690579891204834,
          1.9553536176681519,
          2.612478256225586,
          2.959699869155884,
          1.2655994892120361,
          3.0135200023651123,
          2.813917636871338,
          2.471989631652832,
          2.565722703933716
         ]
        },
        {
         "colorscale": [
          [
           0,
           "rgb(68, 1, 84)"
          ],
          [
           1,
           "rgb(253, 231, 37)"
          ]
         ],
         "name": "density",
         "ncontours": 20,
         "reversescale": true,
         "showscale": false,
         "type": "histogram2dcontour",
         "x": [
          0,
          0,
          0,
          0,
          0,
          0,
          0,
          0,
          0,
          48,
          0,
          0,
          0,
          0,
          0,
          0,
          0,
          0,
          0,
          0,
          0,
          0,
          0,
          0,
          0,
          504,
          0,
          0,
          0,
          0,
          0,
          510,
          0,
          517,
          0,
          0,
          0,
          0,
          0,
          0,
          0,
          0,
          0,
          0,
          0,
          0,
          0
         ],
         "y": [
          2.846447229385376,
          2.659287214279175,
          2.0309619903564453,
          1.1328026056289673,
          3.0505855083465576,
          2.2235546112060547,
          3.754456043243408,
          3.852085828781128,
          2.531162738800049,
          -25.077678680419922,
          2.4348700046539307,
          2.8240597248077393,
          4.109691143035889,
          2.692911148071289,
          2.7886698246002197,
          1.932987928390503,
          2.5828540325164795,
          2.7632369995117188,
          2.6826670169830322,
          2.9189140796661377,
          2.8460934162139893,
          2.651928424835205,
          3.8630824089050293,
          2.949343681335449,
          2.813917636871338,
          -24.84374237060547,
          2.791445255279541,
          2.68979549407959,
          2.8974709510803223,
          3.2177467346191406,
          2.615927219390869,
          -27.068870544433594,
          1.654466986656189,
          -25.327468872070312,
          1.017688512802124,
          2.3943426609039307,
          2.348787546157837,
          2.8200325965881348,
          2.7690579891204834,
          1.9553536176681519,
          2.612478256225586,
          2.959699869155884,
          1.2655994892120361,
          3.0135200023651123,
          2.813917636871338,
          2.471989631652832,
          2.565722703933716
         ]
        },
        {
         "marker": {
          "color": "rgb(0, 0, 0)"
         },
         "name": "x density",
         "type": "histogram",
         "x": [
          0,
          0,
          0,
          0,
          0,
          0,
          0,
          0,
          0,
          48,
          0,
          0,
          0,
          0,
          0,
          0,
          0,
          0,
          0,
          0,
          0,
          0,
          0,
          0,
          0,
          504,
          0,
          0,
          0,
          0,
          0,
          510,
          0,
          517,
          0,
          0,
          0,
          0,
          0,
          0,
          0,
          0,
          0,
          0,
          0,
          0,
          0
         ],
         "yaxis": "y2"
        },
        {
         "marker": {
          "color": "rgb(0, 0, 0)"
         },
         "name": "y density",
         "type": "histogram",
         "xaxis": "x2",
         "y": [
          2.846447229385376,
          2.659287214279175,
          2.0309619903564453,
          1.1328026056289673,
          3.0505855083465576,
          2.2235546112060547,
          3.754456043243408,
          3.852085828781128,
          2.531162738800049,
          -25.077678680419922,
          2.4348700046539307,
          2.8240597248077393,
          4.109691143035889,
          2.692911148071289,
          2.7886698246002197,
          1.932987928390503,
          2.5828540325164795,
          2.7632369995117188,
          2.6826670169830322,
          2.9189140796661377,
          2.8460934162139893,
          2.651928424835205,
          3.8630824089050293,
          2.949343681335449,
          2.813917636871338,
          -24.84374237060547,
          2.791445255279541,
          2.68979549407959,
          2.8974709510803223,
          3.2177467346191406,
          2.615927219390869,
          -27.068870544433594,
          1.654466986656189,
          -25.327468872070312,
          1.017688512802124,
          2.3943426609039307,
          2.348787546157837,
          2.8200325965881348,
          2.7690579891204834,
          1.9553536176681519,
          2.612478256225586,
          2.959699869155884,
          1.2655994892120361,
          3.0135200023651123,
          2.813917636871338,
          2.471989631652832,
          2.565722703933716
         ]
        },
        {
         "marker": {
          "color": [
           1352,
           1280,
           930,
           1805,
           1510,
           915,
           2523,
           2195,
           1460,
           2065,
           1277,
           1325,
           2445,
           1445,
           1461,
           1160,
           1445,
           1353,
           1383,
           1377,
           1422,
           1315,
           1743,
           1435,
           1504,
           2124,
           1505,
           1475,
           1404,
           1615,
           1429,
           2260,
           2005,
           2120,
           2124,
           1157,
           1244,
           1322,
           1395,
           1160,
           1264,
           1570,
           2595,
           1810,
           1504,
           1111,
           1411
          ],
          "colorscale": [
           [
            0,
            "#440154"
           ],
           [
            0.1111111111111111,
            "#482878"
           ],
           [
            0.2222222222222222,
            "#3e4989"
           ],
           [
            0.3333333333333333,
            "#31688e"
           ],
           [
            0.4444444444444444,
            "#26828e"
           ],
           [
            0.5555555555555556,
            "#1f9e89"
           ],
           [
            0.6666666666666666,
            "#35b779"
           ],
           [
            0.7777777777777778,
            "#6ece58"
           ],
           [
            0.8888888888888888,
            "#b5de2b"
           ],
           [
            1,
            "#fde725"
           ]
          ],
          "showscale": true,
          "size": 4
         },
         "mode": "markers",
         "name": "MassRunningOrder",
         "text": [
          1352,
          1280,
          930,
          1805,
          1510,
          915,
          2523,
          2195,
          1460,
          2065,
          1277,
          1325,
          2445,
          1445,
          1461,
          1160,
          1445,
          1353,
          1383,
          1377,
          1422,
          1315,
          1743,
          1435,
          1504,
          2124,
          1505,
          1475,
          1404,
          1615,
          1429,
          2260,
          2005,
          2120,
          2124,
          1157,
          1244,
          1322,
          1395,
          1160,
          1264,
          1570,
          2595,
          1810,
          1504,
          1111,
          1411
         ],
         "type": "scatter",
         "x": [
          1352,
          1280,
          930,
          1805,
          1510,
          915,
          2523,
          2195,
          1460,
          2065,
          1277,
          1325,
          2445,
          1445,
          1461,
          1160,
          1445,
          1353,
          1383,
          1377,
          1422,
          1315,
          1743,
          1435,
          1504,
          2124,
          1505,
          1475,
          1404,
          1615,
          1429,
          2260,
          2005,
          2120,
          2124,
          1157,
          1244,
          1322,
          1395,
          1160,
          1264,
          1570,
          2595,
          1810,
          1504,
          1111,
          1411
         ],
         "y": [
          2.846447229385376,
          2.659287214279175,
          2.0309619903564453,
          1.1328026056289673,
          3.0505855083465576,
          2.2235546112060547,
          3.754456043243408,
          3.852085828781128,
          2.531162738800049,
          -25.077678680419922,
          2.4348700046539307,
          2.8240597248077393,
          4.109691143035889,
          2.692911148071289,
          2.7886698246002197,
          1.932987928390503,
          2.5828540325164795,
          2.7632369995117188,
          2.6826670169830322,
          2.9189140796661377,
          2.8460934162139893,
          2.651928424835205,
          3.8630824089050293,
          2.949343681335449,
          2.813917636871338,
          -24.84374237060547,
          2.791445255279541,
          2.68979549407959,
          2.8974709510803223,
          3.2177467346191406,
          2.615927219390869,
          -27.068870544433594,
          1.654466986656189,
          -25.327468872070312,
          1.017688512802124,
          2.3943426609039307,
          2.348787546157837,
          2.8200325965881348,
          2.7690579891204834,
          1.9553536176681519,
          2.612478256225586,
          2.959699869155884,
          1.2655994892120361,
          3.0135200023651123,
          2.813917636871338,
          2.471989631652832,
          2.565722703933716
         ]
        }
       ],
       "layout": {
        "autosize": false,
        "bargap": 0,
        "height": 600,
        "hovermode": "closest",
        "margin": {
         "t": 50
        },
        "showlegend": true,
        "template": {
         "data": {
          "bar": [
           {
            "error_x": {
             "color": "#2a3f5f"
            },
            "error_y": {
             "color": "#2a3f5f"
            },
            "marker": {
             "line": {
              "color": "#E5ECF6",
              "width": 0.5
             },
             "pattern": {
              "fillmode": "overlay",
              "size": 10,
              "solidity": 0.2
             }
            },
            "type": "bar"
           }
          ],
          "barpolar": [
           {
            "marker": {
             "line": {
              "color": "#E5ECF6",
              "width": 0.5
             },
             "pattern": {
              "fillmode": "overlay",
              "size": 10,
              "solidity": 0.2
             }
            },
            "type": "barpolar"
           }
          ],
          "carpet": [
           {
            "aaxis": {
             "endlinecolor": "#2a3f5f",
             "gridcolor": "white",
             "linecolor": "white",
             "minorgridcolor": "white",
             "startlinecolor": "#2a3f5f"
            },
            "baxis": {
             "endlinecolor": "#2a3f5f",
             "gridcolor": "white",
             "linecolor": "white",
             "minorgridcolor": "white",
             "startlinecolor": "#2a3f5f"
            },
            "type": "carpet"
           }
          ],
          "choropleth": [
           {
            "colorbar": {
             "outlinewidth": 0,
             "ticks": ""
            },
            "type": "choropleth"
           }
          ],
          "contour": [
           {
            "colorbar": {
             "outlinewidth": 0,
             "ticks": ""
            },
            "colorscale": [
             [
              0,
              "#0d0887"
             ],
             [
              0.1111111111111111,
              "#46039f"
             ],
             [
              0.2222222222222222,
              "#7201a8"
             ],
             [
              0.3333333333333333,
              "#9c179e"
             ],
             [
              0.4444444444444444,
              "#bd3786"
             ],
             [
              0.5555555555555556,
              "#d8576b"
             ],
             [
              0.6666666666666666,
              "#ed7953"
             ],
             [
              0.7777777777777778,
              "#fb9f3a"
             ],
             [
              0.8888888888888888,
              "#fdca26"
             ],
             [
              1,
              "#f0f921"
             ]
            ],
            "type": "contour"
           }
          ],
          "contourcarpet": [
           {
            "colorbar": {
             "outlinewidth": 0,
             "ticks": ""
            },
            "type": "contourcarpet"
           }
          ],
          "heatmap": [
           {
            "colorbar": {
             "outlinewidth": 0,
             "ticks": ""
            },
            "colorscale": [
             [
              0,
              "#0d0887"
             ],
             [
              0.1111111111111111,
              "#46039f"
             ],
             [
              0.2222222222222222,
              "#7201a8"
             ],
             [
              0.3333333333333333,
              "#9c179e"
             ],
             [
              0.4444444444444444,
              "#bd3786"
             ],
             [
              0.5555555555555556,
              "#d8576b"
             ],
             [
              0.6666666666666666,
              "#ed7953"
             ],
             [
              0.7777777777777778,
              "#fb9f3a"
             ],
             [
              0.8888888888888888,
              "#fdca26"
             ],
             [
              1,
              "#f0f921"
             ]
            ],
            "type": "heatmap"
           }
          ],
          "heatmapgl": [
           {
            "colorbar": {
             "outlinewidth": 0,
             "ticks": ""
            },
            "colorscale": [
             [
              0,
              "#0d0887"
             ],
             [
              0.1111111111111111,
              "#46039f"
             ],
             [
              0.2222222222222222,
              "#7201a8"
             ],
             [
              0.3333333333333333,
              "#9c179e"
             ],
             [
              0.4444444444444444,
              "#bd3786"
             ],
             [
              0.5555555555555556,
              "#d8576b"
             ],
             [
              0.6666666666666666,
              "#ed7953"
             ],
             [
              0.7777777777777778,
              "#fb9f3a"
             ],
             [
              0.8888888888888888,
              "#fdca26"
             ],
             [
              1,
              "#f0f921"
             ]
            ],
            "type": "heatmapgl"
           }
          ],
          "histogram": [
           {
            "marker": {
             "pattern": {
              "fillmode": "overlay",
              "size": 10,
              "solidity": 0.2
             }
            },
            "type": "histogram"
           }
          ],
          "histogram2d": [
           {
            "colorbar": {
             "outlinewidth": 0,
             "ticks": ""
            },
            "colorscale": [
             [
              0,
              "#0d0887"
             ],
             [
              0.1111111111111111,
              "#46039f"
             ],
             [
              0.2222222222222222,
              "#7201a8"
             ],
             [
              0.3333333333333333,
              "#9c179e"
             ],
             [
              0.4444444444444444,
              "#bd3786"
             ],
             [
              0.5555555555555556,
              "#d8576b"
             ],
             [
              0.6666666666666666,
              "#ed7953"
             ],
             [
              0.7777777777777778,
              "#fb9f3a"
             ],
             [
              0.8888888888888888,
              "#fdca26"
             ],
             [
              1,
              "#f0f921"
             ]
            ],
            "type": "histogram2d"
           }
          ],
          "histogram2dcontour": [
           {
            "colorbar": {
             "outlinewidth": 0,
             "ticks": ""
            },
            "colorscale": [
             [
              0,
              "#0d0887"
             ],
             [
              0.1111111111111111,
              "#46039f"
             ],
             [
              0.2222222222222222,
              "#7201a8"
             ],
             [
              0.3333333333333333,
              "#9c179e"
             ],
             [
              0.4444444444444444,
              "#bd3786"
             ],
             [
              0.5555555555555556,
              "#d8576b"
             ],
             [
              0.6666666666666666,
              "#ed7953"
             ],
             [
              0.7777777777777778,
              "#fb9f3a"
             ],
             [
              0.8888888888888888,
              "#fdca26"
             ],
             [
              1,
              "#f0f921"
             ]
            ],
            "type": "histogram2dcontour"
           }
          ],
          "mesh3d": [
           {
            "colorbar": {
             "outlinewidth": 0,
             "ticks": ""
            },
            "type": "mesh3d"
           }
          ],
          "parcoords": [
           {
            "line": {
             "colorbar": {
              "outlinewidth": 0,
              "ticks": ""
             }
            },
            "type": "parcoords"
           }
          ],
          "pie": [
           {
            "automargin": true,
            "type": "pie"
           }
          ],
          "scatter": [
           {
            "fillpattern": {
             "fillmode": "overlay",
             "size": 10,
             "solidity": 0.2
            },
            "type": "scatter"
           }
          ],
          "scatter3d": [
           {
            "line": {
             "colorbar": {
              "outlinewidth": 0,
              "ticks": ""
             }
            },
            "marker": {
             "colorbar": {
              "outlinewidth": 0,
              "ticks": ""
             }
            },
            "type": "scatter3d"
           }
          ],
          "scattercarpet": [
           {
            "marker": {
             "colorbar": {
              "outlinewidth": 0,
              "ticks": ""
             }
            },
            "type": "scattercarpet"
           }
          ],
          "scattergeo": [
           {
            "marker": {
             "colorbar": {
              "outlinewidth": 0,
              "ticks": ""
             }
            },
            "type": "scattergeo"
           }
          ],
          "scattergl": [
           {
            "marker": {
             "colorbar": {
              "outlinewidth": 0,
              "ticks": ""
             }
            },
            "type": "scattergl"
           }
          ],
          "scattermapbox": [
           {
            "marker": {
             "colorbar": {
              "outlinewidth": 0,
              "ticks": ""
             }
            },
            "type": "scattermapbox"
           }
          ],
          "scatterpolar": [
           {
            "marker": {
             "colorbar": {
              "outlinewidth": 0,
              "ticks": ""
             }
            },
            "type": "scatterpolar"
           }
          ],
          "scatterpolargl": [
           {
            "marker": {
             "colorbar": {
              "outlinewidth": 0,
              "ticks": ""
             }
            },
            "type": "scatterpolargl"
           }
          ],
          "scatterternary": [
           {
            "marker": {
             "colorbar": {
              "outlinewidth": 0,
              "ticks": ""
             }
            },
            "type": "scatterternary"
           }
          ],
          "surface": [
           {
            "colorbar": {
             "outlinewidth": 0,
             "ticks": ""
            },
            "colorscale": [
             [
              0,
              "#0d0887"
             ],
             [
              0.1111111111111111,
              "#46039f"
             ],
             [
              0.2222222222222222,
              "#7201a8"
             ],
             [
              0.3333333333333333,
              "#9c179e"
             ],
             [
              0.4444444444444444,
              "#bd3786"
             ],
             [
              0.5555555555555556,
              "#d8576b"
             ],
             [
              0.6666666666666666,
              "#ed7953"
             ],
             [
              0.7777777777777778,
              "#fb9f3a"
             ],
             [
              0.8888888888888888,
              "#fdca26"
             ],
             [
              1,
              "#f0f921"
             ]
            ],
            "type": "surface"
           }
          ],
          "table": [
           {
            "cells": {
             "fill": {
              "color": "#EBF0F8"
             },
             "line": {
              "color": "white"
             }
            },
            "header": {
             "fill": {
              "color": "#C8D4E3"
             },
             "line": {
              "color": "white"
             }
            },
            "type": "table"
           }
          ]
         },
         "layout": {
          "annotationdefaults": {
           "arrowcolor": "#2a3f5f",
           "arrowhead": 0,
           "arrowwidth": 1
          },
          "autotypenumbers": "strict",
          "coloraxis": {
           "colorbar": {
            "outlinewidth": 0,
            "ticks": ""
           }
          },
          "colorscale": {
           "diverging": [
            [
             0,
             "#8e0152"
            ],
            [
             0.1,
             "#c51b7d"
            ],
            [
             0.2,
             "#de77ae"
            ],
            [
             0.3,
             "#f1b6da"
            ],
            [
             0.4,
             "#fde0ef"
            ],
            [
             0.5,
             "#f7f7f7"
            ],
            [
             0.6,
             "#e6f5d0"
            ],
            [
             0.7,
             "#b8e186"
            ],
            [
             0.8,
             "#7fbc41"
            ],
            [
             0.9,
             "#4d9221"
            ],
            [
             1,
             "#276419"
            ]
           ],
           "sequential": [
            [
             0,
             "#0d0887"
            ],
            [
             0.1111111111111111,
             "#46039f"
            ],
            [
             0.2222222222222222,
             "#7201a8"
            ],
            [
             0.3333333333333333,
             "#9c179e"
            ],
            [
             0.4444444444444444,
             "#bd3786"
            ],
            [
             0.5555555555555556,
             "#d8576b"
            ],
            [
             0.6666666666666666,
             "#ed7953"
            ],
            [
             0.7777777777777778,
             "#fb9f3a"
            ],
            [
             0.8888888888888888,
             "#fdca26"
            ],
            [
             1,
             "#f0f921"
            ]
           ],
           "sequentialminus": [
            [
             0,
             "#0d0887"
            ],
            [
             0.1111111111111111,
             "#46039f"
            ],
            [
             0.2222222222222222,
             "#7201a8"
            ],
            [
             0.3333333333333333,
             "#9c179e"
            ],
            [
             0.4444444444444444,
             "#bd3786"
            ],
            [
             0.5555555555555556,
             "#d8576b"
            ],
            [
             0.6666666666666666,
             "#ed7953"
            ],
            [
             0.7777777777777778,
             "#fb9f3a"
            ],
            [
             0.8888888888888888,
             "#fdca26"
            ],
            [
             1,
             "#f0f921"
            ]
           ]
          },
          "colorway": [
           "#636efa",
           "#EF553B",
           "#00cc96",
           "#ab63fa",
           "#FFA15A",
           "#19d3f3",
           "#FF6692",
           "#B6E880",
           "#FF97FF",
           "#FECB52"
          ],
          "font": {
           "color": "#2a3f5f"
          },
          "geo": {
           "bgcolor": "white",
           "lakecolor": "white",
           "landcolor": "#E5ECF6",
           "showlakes": true,
           "showland": true,
           "subunitcolor": "white"
          },
          "hoverlabel": {
           "align": "left"
          },
          "hovermode": "closest",
          "mapbox": {
           "style": "light"
          },
          "paper_bgcolor": "white",
          "plot_bgcolor": "#E5ECF6",
          "polar": {
           "angularaxis": {
            "gridcolor": "white",
            "linecolor": "white",
            "ticks": ""
           },
           "bgcolor": "#E5ECF6",
           "radialaxis": {
            "gridcolor": "white",
            "linecolor": "white",
            "ticks": ""
           }
          },
          "scene": {
           "xaxis": {
            "backgroundcolor": "#E5ECF6",
            "gridcolor": "white",
            "gridwidth": 2,
            "linecolor": "white",
            "showbackground": true,
            "ticks": "",
            "zerolinecolor": "white"
           },
           "yaxis": {
            "backgroundcolor": "#E5ECF6",
            "gridcolor": "white",
            "gridwidth": 2,
            "linecolor": "white",
            "showbackground": true,
            "ticks": "",
            "zerolinecolor": "white"
           },
           "zaxis": {
            "backgroundcolor": "#E5ECF6",
            "gridcolor": "white",
            "gridwidth": 2,
            "linecolor": "white",
            "showbackground": true,
            "ticks": "",
            "zerolinecolor": "white"
           }
          },
          "shapedefaults": {
           "line": {
            "color": "#2a3f5f"
           }
          },
          "ternary": {
           "aaxis": {
            "gridcolor": "white",
            "linecolor": "white",
            "ticks": ""
           },
           "baxis": {
            "gridcolor": "white",
            "linecolor": "white",
            "ticks": ""
           },
           "bgcolor": "#E5ECF6",
           "caxis": {
            "gridcolor": "white",
            "linecolor": "white",
            "ticks": ""
           }
          },
          "title": {
           "x": 0.05
          },
          "xaxis": {
           "automargin": true,
           "gridcolor": "white",
           "linecolor": "white",
           "ticks": "",
           "title": {
            "standoff": 15
           },
           "zerolinecolor": "white",
           "zerolinewidth": 2
          },
          "yaxis": {
           "automargin": true,
           "gridcolor": "white",
           "linecolor": "white",
           "ticks": "",
           "title": {
            "standoff": 15
           },
           "zerolinecolor": "white",
           "zerolinewidth": 2
          }
         }
        },
        "title": {
         "text": "SHAP Dependence Plot: ElectricRange vs SHAP values"
        },
        "width": 600,
        "xaxis": {
         "domain": [
          0,
          0.85
         ],
         "showgrid": false,
         "title": {
          "text": "ElectricRange"
         },
         "zeroline": false
        },
        "xaxis2": {
         "domain": [
          0.85,
          1
         ],
         "showgrid": false,
         "zeroline": false
        },
        "yaxis": {
         "domain": [
          0,
          0.85
         ],
         "showgrid": false,
         "title": {
          "text": "SHAP values"
         },
         "zeroline": false
        },
        "yaxis2": {
         "domain": [
          0.85,
          1
         ],
         "showgrid": false,
         "zeroline": false
        }
       }
      }
     },
     "metadata": {},
     "output_type": "display_data"
    },
    {
     "data": {
      "application/vnd.plotly.v1+json": {
       "config": {
        "plotlyServerURL": "https://plot.ly"
       },
       "data": [
        {
         "marker": {
          "color": "rgb(0, 0, 128)",
          "opacity": 0.4,
          "size": 3
         },
         "mode": "markers",
         "name": "points",
         "type": "scatter",
         "x": [
          0,
          0,
          0,
          0,
          0,
          0,
          0,
          0,
          0,
          48,
          0,
          0,
          0,
          0,
          0,
          0,
          0,
          0,
          0,
          0,
          0,
          0,
          0,
          0,
          0,
          504,
          0,
          0,
          0,
          0,
          0,
          510,
          0,
          517,
          0,
          0,
          0,
          0,
          0,
          0,
          0,
          0,
          0,
          0,
          0,
          0,
          0
         ],
         "y": [
          2.846447229385376,
          2.659287214279175,
          2.0309619903564453,
          1.1328026056289673,
          3.0505855083465576,
          2.2235546112060547,
          3.754456043243408,
          3.852085828781128,
          2.531162738800049,
          -25.077678680419922,
          2.4348700046539307,
          2.8240597248077393,
          4.109691143035889,
          2.692911148071289,
          2.7886698246002197,
          1.932987928390503,
          2.5828540325164795,
          2.7632369995117188,
          2.6826670169830322,
          2.9189140796661377,
          2.8460934162139893,
          2.651928424835205,
          3.8630824089050293,
          2.949343681335449,
          2.813917636871338,
          -24.84374237060547,
          2.791445255279541,
          2.68979549407959,
          2.8974709510803223,
          3.2177467346191406,
          2.615927219390869,
          -27.068870544433594,
          1.654466986656189,
          -25.327468872070312,
          1.017688512802124,
          2.3943426609039307,
          2.348787546157837,
          2.8200325965881348,
          2.7690579891204834,
          1.9553536176681519,
          2.612478256225586,
          2.959699869155884,
          1.2655994892120361,
          3.0135200023651123,
          2.813917636871338,
          2.471989631652832,
          2.565722703933716
         ]
        },
        {
         "colorscale": [
          [
           0,
           "rgb(68, 1, 84)"
          ],
          [
           1,
           "rgb(253, 231, 37)"
          ]
         ],
         "name": "density",
         "ncontours": 20,
         "reversescale": true,
         "showscale": false,
         "type": "histogram2dcontour",
         "x": [
          0,
          0,
          0,
          0,
          0,
          0,
          0,
          0,
          0,
          48,
          0,
          0,
          0,
          0,
          0,
          0,
          0,
          0,
          0,
          0,
          0,
          0,
          0,
          0,
          0,
          504,
          0,
          0,
          0,
          0,
          0,
          510,
          0,
          517,
          0,
          0,
          0,
          0,
          0,
          0,
          0,
          0,
          0,
          0,
          0,
          0,
          0
         ],
         "y": [
          2.846447229385376,
          2.659287214279175,
          2.0309619903564453,
          1.1328026056289673,
          3.0505855083465576,
          2.2235546112060547,
          3.754456043243408,
          3.852085828781128,
          2.531162738800049,
          -25.077678680419922,
          2.4348700046539307,
          2.8240597248077393,
          4.109691143035889,
          2.692911148071289,
          2.7886698246002197,
          1.932987928390503,
          2.5828540325164795,
          2.7632369995117188,
          2.6826670169830322,
          2.9189140796661377,
          2.8460934162139893,
          2.651928424835205,
          3.8630824089050293,
          2.949343681335449,
          2.813917636871338,
          -24.84374237060547,
          2.791445255279541,
          2.68979549407959,
          2.8974709510803223,
          3.2177467346191406,
          2.615927219390869,
          -27.068870544433594,
          1.654466986656189,
          -25.327468872070312,
          1.017688512802124,
          2.3943426609039307,
          2.348787546157837,
          2.8200325965881348,
          2.7690579891204834,
          1.9553536176681519,
          2.612478256225586,
          2.959699869155884,
          1.2655994892120361,
          3.0135200023651123,
          2.813917636871338,
          2.471989631652832,
          2.565722703933716
         ]
        },
        {
         "marker": {
          "color": "rgb(0, 0, 0)"
         },
         "name": "x density",
         "type": "histogram",
         "x": [
          0,
          0,
          0,
          0,
          0,
          0,
          0,
          0,
          0,
          48,
          0,
          0,
          0,
          0,
          0,
          0,
          0,
          0,
          0,
          0,
          0,
          0,
          0,
          0,
          0,
          504,
          0,
          0,
          0,
          0,
          0,
          510,
          0,
          517,
          0,
          0,
          0,
          0,
          0,
          0,
          0,
          0,
          0,
          0,
          0,
          0,
          0
         ],
         "yaxis": "y2"
        },
        {
         "marker": {
          "color": "rgb(0, 0, 0)"
         },
         "name": "y density",
         "type": "histogram",
         "xaxis": "x2",
         "y": [
          2.846447229385376,
          2.659287214279175,
          2.0309619903564453,
          1.1328026056289673,
          3.0505855083465576,
          2.2235546112060547,
          3.754456043243408,
          3.852085828781128,
          2.531162738800049,
          -25.077678680419922,
          2.4348700046539307,
          2.8240597248077393,
          4.109691143035889,
          2.692911148071289,
          2.7886698246002197,
          1.932987928390503,
          2.5828540325164795,
          2.7632369995117188,
          2.6826670169830322,
          2.9189140796661377,
          2.8460934162139893,
          2.651928424835205,
          3.8630824089050293,
          2.949343681335449,
          2.813917636871338,
          -24.84374237060547,
          2.791445255279541,
          2.68979549407959,
          2.8974709510803223,
          3.2177467346191406,
          2.615927219390869,
          -27.068870544433594,
          1.654466986656189,
          -25.327468872070312,
          1.017688512802124,
          2.3943426609039307,
          2.348787546157837,
          2.8200325965881348,
          2.7690579891204834,
          1.9553536176681519,
          2.612478256225586,
          2.959699869155884,
          1.2655994892120361,
          3.0135200023651123,
          2.813917636871338,
          2.471989631652832,
          2.565722703933716
         ]
        },
        {
         "marker": {
          "color": [
           0,
           0,
           0,
           1,
           0,
           0,
           0,
           0,
           0,
           0,
           0,
           0,
           0,
           0,
           0,
           0,
           0,
           0,
           0,
           0,
           0,
           0,
           0,
           0,
           0,
           1,
           0,
           0,
           0,
           0,
           0,
           1,
           0,
           1,
           1,
           0,
           0,
           0,
           0,
           0,
           0,
           0,
           1,
           0,
           0,
           0,
           0
          ],
          "colorscale": [
           [
            0,
            "#440154"
           ],
           [
            0.1111111111111111,
            "#482878"
           ],
           [
            0.2222222222222222,
            "#3e4989"
           ],
           [
            0.3333333333333333,
            "#31688e"
           ],
           [
            0.4444444444444444,
            "#26828e"
           ],
           [
            0.5555555555555556,
            "#1f9e89"
           ],
           [
            0.6666666666666666,
            "#35b779"
           ],
           [
            0.7777777777777778,
            "#6ece58"
           ],
           [
            0.8888888888888888,
            "#b5de2b"
           ],
           [
            1,
            "#fde725"
           ]
          ],
          "showscale": true,
          "size": 4
         },
         "mode": "markers",
         "name": "FuelType_ELECTRIC",
         "text": [
          0,
          0,
          0,
          1,
          0,
          0,
          0,
          0,
          0,
          0,
          0,
          0,
          0,
          0,
          0,
          0,
          0,
          0,
          0,
          0,
          0,
          0,
          0,
          0,
          0,
          1,
          0,
          0,
          0,
          0,
          0,
          1,
          0,
          1,
          1,
          0,
          0,
          0,
          0,
          0,
          0,
          0,
          1,
          0,
          0,
          0,
          0
         ],
         "type": "scatter",
         "x": [
          0,
          0,
          0,
          1,
          0,
          0,
          0,
          0,
          0,
          0,
          0,
          0,
          0,
          0,
          0,
          0,
          0,
          0,
          0,
          0,
          0,
          0,
          0,
          0,
          0,
          1,
          0,
          0,
          0,
          0,
          0,
          1,
          0,
          1,
          1,
          0,
          0,
          0,
          0,
          0,
          0,
          0,
          1,
          0,
          0,
          0,
          0
         ],
         "y": [
          2.846447229385376,
          2.659287214279175,
          2.0309619903564453,
          1.1328026056289673,
          3.0505855083465576,
          2.2235546112060547,
          3.754456043243408,
          3.852085828781128,
          2.531162738800049,
          -25.077678680419922,
          2.4348700046539307,
          2.8240597248077393,
          4.109691143035889,
          2.692911148071289,
          2.7886698246002197,
          1.932987928390503,
          2.5828540325164795,
          2.7632369995117188,
          2.6826670169830322,
          2.9189140796661377,
          2.8460934162139893,
          2.651928424835205,
          3.8630824089050293,
          2.949343681335449,
          2.813917636871338,
          -24.84374237060547,
          2.791445255279541,
          2.68979549407959,
          2.8974709510803223,
          3.2177467346191406,
          2.615927219390869,
          -27.068870544433594,
          1.654466986656189,
          -25.327468872070312,
          1.017688512802124,
          2.3943426609039307,
          2.348787546157837,
          2.8200325965881348,
          2.7690579891204834,
          1.9553536176681519,
          2.612478256225586,
          2.959699869155884,
          1.2655994892120361,
          3.0135200023651123,
          2.813917636871338,
          2.471989631652832,
          2.565722703933716
         ]
        }
       ],
       "layout": {
        "autosize": false,
        "bargap": 0,
        "height": 600,
        "hovermode": "closest",
        "margin": {
         "t": 50
        },
        "showlegend": true,
        "template": {
         "data": {
          "bar": [
           {
            "error_x": {
             "color": "#2a3f5f"
            },
            "error_y": {
             "color": "#2a3f5f"
            },
            "marker": {
             "line": {
              "color": "#E5ECF6",
              "width": 0.5
             },
             "pattern": {
              "fillmode": "overlay",
              "size": 10,
              "solidity": 0.2
             }
            },
            "type": "bar"
           }
          ],
          "barpolar": [
           {
            "marker": {
             "line": {
              "color": "#E5ECF6",
              "width": 0.5
             },
             "pattern": {
              "fillmode": "overlay",
              "size": 10,
              "solidity": 0.2
             }
            },
            "type": "barpolar"
           }
          ],
          "carpet": [
           {
            "aaxis": {
             "endlinecolor": "#2a3f5f",
             "gridcolor": "white",
             "linecolor": "white",
             "minorgridcolor": "white",
             "startlinecolor": "#2a3f5f"
            },
            "baxis": {
             "endlinecolor": "#2a3f5f",
             "gridcolor": "white",
             "linecolor": "white",
             "minorgridcolor": "white",
             "startlinecolor": "#2a3f5f"
            },
            "type": "carpet"
           }
          ],
          "choropleth": [
           {
            "colorbar": {
             "outlinewidth": 0,
             "ticks": ""
            },
            "type": "choropleth"
           }
          ],
          "contour": [
           {
            "colorbar": {
             "outlinewidth": 0,
             "ticks": ""
            },
            "colorscale": [
             [
              0,
              "#0d0887"
             ],
             [
              0.1111111111111111,
              "#46039f"
             ],
             [
              0.2222222222222222,
              "#7201a8"
             ],
             [
              0.3333333333333333,
              "#9c179e"
             ],
             [
              0.4444444444444444,
              "#bd3786"
             ],
             [
              0.5555555555555556,
              "#d8576b"
             ],
             [
              0.6666666666666666,
              "#ed7953"
             ],
             [
              0.7777777777777778,
              "#fb9f3a"
             ],
             [
              0.8888888888888888,
              "#fdca26"
             ],
             [
              1,
              "#f0f921"
             ]
            ],
            "type": "contour"
           }
          ],
          "contourcarpet": [
           {
            "colorbar": {
             "outlinewidth": 0,
             "ticks": ""
            },
            "type": "contourcarpet"
           }
          ],
          "heatmap": [
           {
            "colorbar": {
             "outlinewidth": 0,
             "ticks": ""
            },
            "colorscale": [
             [
              0,
              "#0d0887"
             ],
             [
              0.1111111111111111,
              "#46039f"
             ],
             [
              0.2222222222222222,
              "#7201a8"
             ],
             [
              0.3333333333333333,
              "#9c179e"
             ],
             [
              0.4444444444444444,
              "#bd3786"
             ],
             [
              0.5555555555555556,
              "#d8576b"
             ],
             [
              0.6666666666666666,
              "#ed7953"
             ],
             [
              0.7777777777777778,
              "#fb9f3a"
             ],
             [
              0.8888888888888888,
              "#fdca26"
             ],
             [
              1,
              "#f0f921"
             ]
            ],
            "type": "heatmap"
           }
          ],
          "heatmapgl": [
           {
            "colorbar": {
             "outlinewidth": 0,
             "ticks": ""
            },
            "colorscale": [
             [
              0,
              "#0d0887"
             ],
             [
              0.1111111111111111,
              "#46039f"
             ],
             [
              0.2222222222222222,
              "#7201a8"
             ],
             [
              0.3333333333333333,
              "#9c179e"
             ],
             [
              0.4444444444444444,
              "#bd3786"
             ],
             [
              0.5555555555555556,
              "#d8576b"
             ],
             [
              0.6666666666666666,
              "#ed7953"
             ],
             [
              0.7777777777777778,
              "#fb9f3a"
             ],
             [
              0.8888888888888888,
              "#fdca26"
             ],
             [
              1,
              "#f0f921"
             ]
            ],
            "type": "heatmapgl"
           }
          ],
          "histogram": [
           {
            "marker": {
             "pattern": {
              "fillmode": "overlay",
              "size": 10,
              "solidity": 0.2
             }
            },
            "type": "histogram"
           }
          ],
          "histogram2d": [
           {
            "colorbar": {
             "outlinewidth": 0,
             "ticks": ""
            },
            "colorscale": [
             [
              0,
              "#0d0887"
             ],
             [
              0.1111111111111111,
              "#46039f"
             ],
             [
              0.2222222222222222,
              "#7201a8"
             ],
             [
              0.3333333333333333,
              "#9c179e"
             ],
             [
              0.4444444444444444,
              "#bd3786"
             ],
             [
              0.5555555555555556,
              "#d8576b"
             ],
             [
              0.6666666666666666,
              "#ed7953"
             ],
             [
              0.7777777777777778,
              "#fb9f3a"
             ],
             [
              0.8888888888888888,
              "#fdca26"
             ],
             [
              1,
              "#f0f921"
             ]
            ],
            "type": "histogram2d"
           }
          ],
          "histogram2dcontour": [
           {
            "colorbar": {
             "outlinewidth": 0,
             "ticks": ""
            },
            "colorscale": [
             [
              0,
              "#0d0887"
             ],
             [
              0.1111111111111111,
              "#46039f"
             ],
             [
              0.2222222222222222,
              "#7201a8"
             ],
             [
              0.3333333333333333,
              "#9c179e"
             ],
             [
              0.4444444444444444,
              "#bd3786"
             ],
             [
              0.5555555555555556,
              "#d8576b"
             ],
             [
              0.6666666666666666,
              "#ed7953"
             ],
             [
              0.7777777777777778,
              "#fb9f3a"
             ],
             [
              0.8888888888888888,
              "#fdca26"
             ],
             [
              1,
              "#f0f921"
             ]
            ],
            "type": "histogram2dcontour"
           }
          ],
          "mesh3d": [
           {
            "colorbar": {
             "outlinewidth": 0,
             "ticks": ""
            },
            "type": "mesh3d"
           }
          ],
          "parcoords": [
           {
            "line": {
             "colorbar": {
              "outlinewidth": 0,
              "ticks": ""
             }
            },
            "type": "parcoords"
           }
          ],
          "pie": [
           {
            "automargin": true,
            "type": "pie"
           }
          ],
          "scatter": [
           {
            "fillpattern": {
             "fillmode": "overlay",
             "size": 10,
             "solidity": 0.2
            },
            "type": "scatter"
           }
          ],
          "scatter3d": [
           {
            "line": {
             "colorbar": {
              "outlinewidth": 0,
              "ticks": ""
             }
            },
            "marker": {
             "colorbar": {
              "outlinewidth": 0,
              "ticks": ""
             }
            },
            "type": "scatter3d"
           }
          ],
          "scattercarpet": [
           {
            "marker": {
             "colorbar": {
              "outlinewidth": 0,
              "ticks": ""
             }
            },
            "type": "scattercarpet"
           }
          ],
          "scattergeo": [
           {
            "marker": {
             "colorbar": {
              "outlinewidth": 0,
              "ticks": ""
             }
            },
            "type": "scattergeo"
           }
          ],
          "scattergl": [
           {
            "marker": {
             "colorbar": {
              "outlinewidth": 0,
              "ticks": ""
             }
            },
            "type": "scattergl"
           }
          ],
          "scattermapbox": [
           {
            "marker": {
             "colorbar": {
              "outlinewidth": 0,
              "ticks": ""
             }
            },
            "type": "scattermapbox"
           }
          ],
          "scatterpolar": [
           {
            "marker": {
             "colorbar": {
              "outlinewidth": 0,
              "ticks": ""
             }
            },
            "type": "scatterpolar"
           }
          ],
          "scatterpolargl": [
           {
            "marker": {
             "colorbar": {
              "outlinewidth": 0,
              "ticks": ""
             }
            },
            "type": "scatterpolargl"
           }
          ],
          "scatterternary": [
           {
            "marker": {
             "colorbar": {
              "outlinewidth": 0,
              "ticks": ""
             }
            },
            "type": "scatterternary"
           }
          ],
          "surface": [
           {
            "colorbar": {
             "outlinewidth": 0,
             "ticks": ""
            },
            "colorscale": [
             [
              0,
              "#0d0887"
             ],
             [
              0.1111111111111111,
              "#46039f"
             ],
             [
              0.2222222222222222,
              "#7201a8"
             ],
             [
              0.3333333333333333,
              "#9c179e"
             ],
             [
              0.4444444444444444,
              "#bd3786"
             ],
             [
              0.5555555555555556,
              "#d8576b"
             ],
             [
              0.6666666666666666,
              "#ed7953"
             ],
             [
              0.7777777777777778,
              "#fb9f3a"
             ],
             [
              0.8888888888888888,
              "#fdca26"
             ],
             [
              1,
              "#f0f921"
             ]
            ],
            "type": "surface"
           }
          ],
          "table": [
           {
            "cells": {
             "fill": {
              "color": "#EBF0F8"
             },
             "line": {
              "color": "white"
             }
            },
            "header": {
             "fill": {
              "color": "#C8D4E3"
             },
             "line": {
              "color": "white"
             }
            },
            "type": "table"
           }
          ]
         },
         "layout": {
          "annotationdefaults": {
           "arrowcolor": "#2a3f5f",
           "arrowhead": 0,
           "arrowwidth": 1
          },
          "autotypenumbers": "strict",
          "coloraxis": {
           "colorbar": {
            "outlinewidth": 0,
            "ticks": ""
           }
          },
          "colorscale": {
           "diverging": [
            [
             0,
             "#8e0152"
            ],
            [
             0.1,
             "#c51b7d"
            ],
            [
             0.2,
             "#de77ae"
            ],
            [
             0.3,
             "#f1b6da"
            ],
            [
             0.4,
             "#fde0ef"
            ],
            [
             0.5,
             "#f7f7f7"
            ],
            [
             0.6,
             "#e6f5d0"
            ],
            [
             0.7,
             "#b8e186"
            ],
            [
             0.8,
             "#7fbc41"
            ],
            [
             0.9,
             "#4d9221"
            ],
            [
             1,
             "#276419"
            ]
           ],
           "sequential": [
            [
             0,
             "#0d0887"
            ],
            [
             0.1111111111111111,
             "#46039f"
            ],
            [
             0.2222222222222222,
             "#7201a8"
            ],
            [
             0.3333333333333333,
             "#9c179e"
            ],
            [
             0.4444444444444444,
             "#bd3786"
            ],
            [
             0.5555555555555556,
             "#d8576b"
            ],
            [
             0.6666666666666666,
             "#ed7953"
            ],
            [
             0.7777777777777778,
             "#fb9f3a"
            ],
            [
             0.8888888888888888,
             "#fdca26"
            ],
            [
             1,
             "#f0f921"
            ]
           ],
           "sequentialminus": [
            [
             0,
             "#0d0887"
            ],
            [
             0.1111111111111111,
             "#46039f"
            ],
            [
             0.2222222222222222,
             "#7201a8"
            ],
            [
             0.3333333333333333,
             "#9c179e"
            ],
            [
             0.4444444444444444,
             "#bd3786"
            ],
            [
             0.5555555555555556,
             "#d8576b"
            ],
            [
             0.6666666666666666,
             "#ed7953"
            ],
            [
             0.7777777777777778,
             "#fb9f3a"
            ],
            [
             0.8888888888888888,
             "#fdca26"
            ],
            [
             1,
             "#f0f921"
            ]
           ]
          },
          "colorway": [
           "#636efa",
           "#EF553B",
           "#00cc96",
           "#ab63fa",
           "#FFA15A",
           "#19d3f3",
           "#FF6692",
           "#B6E880",
           "#FF97FF",
           "#FECB52"
          ],
          "font": {
           "color": "#2a3f5f"
          },
          "geo": {
           "bgcolor": "white",
           "lakecolor": "white",
           "landcolor": "#E5ECF6",
           "showlakes": true,
           "showland": true,
           "subunitcolor": "white"
          },
          "hoverlabel": {
           "align": "left"
          },
          "hovermode": "closest",
          "mapbox": {
           "style": "light"
          },
          "paper_bgcolor": "white",
          "plot_bgcolor": "#E5ECF6",
          "polar": {
           "angularaxis": {
            "gridcolor": "white",
            "linecolor": "white",
            "ticks": ""
           },
           "bgcolor": "#E5ECF6",
           "radialaxis": {
            "gridcolor": "white",
            "linecolor": "white",
            "ticks": ""
           }
          },
          "scene": {
           "xaxis": {
            "backgroundcolor": "#E5ECF6",
            "gridcolor": "white",
            "gridwidth": 2,
            "linecolor": "white",
            "showbackground": true,
            "ticks": "",
            "zerolinecolor": "white"
           },
           "yaxis": {
            "backgroundcolor": "#E5ECF6",
            "gridcolor": "white",
            "gridwidth": 2,
            "linecolor": "white",
            "showbackground": true,
            "ticks": "",
            "zerolinecolor": "white"
           },
           "zaxis": {
            "backgroundcolor": "#E5ECF6",
            "gridcolor": "white",
            "gridwidth": 2,
            "linecolor": "white",
            "showbackground": true,
            "ticks": "",
            "zerolinecolor": "white"
           }
          },
          "shapedefaults": {
           "line": {
            "color": "#2a3f5f"
           }
          },
          "ternary": {
           "aaxis": {
            "gridcolor": "white",
            "linecolor": "white",
            "ticks": ""
           },
           "baxis": {
            "gridcolor": "white",
            "linecolor": "white",
            "ticks": ""
           },
           "bgcolor": "#E5ECF6",
           "caxis": {
            "gridcolor": "white",
            "linecolor": "white",
            "ticks": ""
           }
          },
          "title": {
           "x": 0.05
          },
          "xaxis": {
           "automargin": true,
           "gridcolor": "white",
           "linecolor": "white",
           "ticks": "",
           "title": {
            "standoff": 15
           },
           "zerolinecolor": "white",
           "zerolinewidth": 2
          },
          "yaxis": {
           "automargin": true,
           "gridcolor": "white",
           "linecolor": "white",
           "ticks": "",
           "title": {
            "standoff": 15
           },
           "zerolinecolor": "white",
           "zerolinewidth": 2
          }
         }
        },
        "title": {
         "text": "SHAP Dependence Plot: ElectricRange vs SHAP values"
        },
        "width": 600,
        "xaxis": {
         "domain": [
          0,
          0.85
         ],
         "showgrid": false,
         "title": {
          "text": "ElectricRange"
         },
         "zeroline": false
        },
        "xaxis2": {
         "domain": [
          0.85,
          1
         ],
         "showgrid": false,
         "zeroline": false
        },
        "yaxis": {
         "domain": [
          0,
          0.85
         ],
         "showgrid": false,
         "title": {
          "text": "SHAP values"
         },
         "zeroline": false
        },
        "yaxis2": {
         "domain": [
          0.85,
          1
         ],
         "showgrid": false,
         "zeroline": false
        }
       }
      }
     },
     "metadata": {},
     "output_type": "display_data"
    },
    {
     "data": {
      "application/vnd.plotly.v1+json": {
       "config": {
        "plotlyServerURL": "https://plot.ly"
       },
       "data": [
        {
         "marker": {
          "color": "rgb(0, 0, 128)",
          "opacity": 0.4,
          "size": 3
         },
         "mode": "markers",
         "name": "points",
         "type": "scatter",
         "x": [
          2698,
          2605,
          2340,
          2770,
          2670,
          2340,
          3122,
          2999,
          2670,
          2864,
          2551,
          2495,
          2935,
          2650,
          2675,
          2560,
          2700,
          2670,
          2700,
          2650,
          2655,
          2588,
          2662,
          2730,
          2675,
          2771,
          2730,
          2646,
          2665,
          2826,
          2673,
          2864,
          2690,
          2771,
          2771,
          2583,
          2552,
          2639,
          2675,
          2560,
          2619,
          2670,
          2928,
          2851,
          2675,
          2604,
          2725
         ],
         "y": [
          1.7938232421875,
          1.8853410482406616,
          0.2793348431587219,
          0.6878381967544556,
          0.7957260012626648,
          -0.8226202726364136,
          -5.726263999938965,
          -4.40156888961792,
          0.05650205537676811,
          -3.955583333969116,
          4.861386775970459,
          2.345304012298584,
          0.2641699016094208,
          -0.9896544218063354,
          2.9057981967926025,
          -0.058775290846824646,
          -2.5451104640960693,
          -3.457141399383545,
          -0.6896134614944458,
          -3.023306131362915,
          -1.6913864612579346,
          2.0950865745544434,
          -0.20414090156555176,
          -0.23900440335273743,
          2.4291977882385254,
          -0.047144897282123566,
          0.7937853932380676,
          3.387399673461914,
          1.4291009902954102,
          -5.155492305755615,
          3.9148449897766113,
          -2.209219455718994,
          -6.064495086669922,
          -0.5199074149131775,
          -0.4718930721282959,
          -2.9269795417785645,
          2.8253467082977295,
          0.0315246656537056,
          3.6601691246032715,
          -0.10032403469085693,
          -0.9779244065284729,
          1.0729763507843018,
          -2.0534937381744385,
          -1.0977232456207275,
          2.4291977882385254,
          2.769744634628296,
          -0.6465217471122742
         ]
        },
        {
         "colorscale": [
          [
           0,
           "rgb(68, 1, 84)"
          ],
          [
           1,
           "rgb(253, 231, 37)"
          ]
         ],
         "name": "density",
         "ncontours": 20,
         "reversescale": true,
         "showscale": false,
         "type": "histogram2dcontour",
         "x": [
          2698,
          2605,
          2340,
          2770,
          2670,
          2340,
          3122,
          2999,
          2670,
          2864,
          2551,
          2495,
          2935,
          2650,
          2675,
          2560,
          2700,
          2670,
          2700,
          2650,
          2655,
          2588,
          2662,
          2730,
          2675,
          2771,
          2730,
          2646,
          2665,
          2826,
          2673,
          2864,
          2690,
          2771,
          2771,
          2583,
          2552,
          2639,
          2675,
          2560,
          2619,
          2670,
          2928,
          2851,
          2675,
          2604,
          2725
         ],
         "y": [
          1.7938232421875,
          1.8853410482406616,
          0.2793348431587219,
          0.6878381967544556,
          0.7957260012626648,
          -0.8226202726364136,
          -5.726263999938965,
          -4.40156888961792,
          0.05650205537676811,
          -3.955583333969116,
          4.861386775970459,
          2.345304012298584,
          0.2641699016094208,
          -0.9896544218063354,
          2.9057981967926025,
          -0.058775290846824646,
          -2.5451104640960693,
          -3.457141399383545,
          -0.6896134614944458,
          -3.023306131362915,
          -1.6913864612579346,
          2.0950865745544434,
          -0.20414090156555176,
          -0.23900440335273743,
          2.4291977882385254,
          -0.047144897282123566,
          0.7937853932380676,
          3.387399673461914,
          1.4291009902954102,
          -5.155492305755615,
          3.9148449897766113,
          -2.209219455718994,
          -6.064495086669922,
          -0.5199074149131775,
          -0.4718930721282959,
          -2.9269795417785645,
          2.8253467082977295,
          0.0315246656537056,
          3.6601691246032715,
          -0.10032403469085693,
          -0.9779244065284729,
          1.0729763507843018,
          -2.0534937381744385,
          -1.0977232456207275,
          2.4291977882385254,
          2.769744634628296,
          -0.6465217471122742
         ]
        },
        {
         "marker": {
          "color": "rgb(0, 0, 0)"
         },
         "name": "x density",
         "type": "histogram",
         "x": [
          2698,
          2605,
          2340,
          2770,
          2670,
          2340,
          3122,
          2999,
          2670,
          2864,
          2551,
          2495,
          2935,
          2650,
          2675,
          2560,
          2700,
          2670,
          2700,
          2650,
          2655,
          2588,
          2662,
          2730,
          2675,
          2771,
          2730,
          2646,
          2665,
          2826,
          2673,
          2864,
          2690,
          2771,
          2771,
          2583,
          2552,
          2639,
          2675,
          2560,
          2619,
          2670,
          2928,
          2851,
          2675,
          2604,
          2725
         ],
         "yaxis": "y2"
        },
        {
         "marker": {
          "color": "rgb(0, 0, 0)"
         },
         "name": "y density",
         "type": "histogram",
         "xaxis": "x2",
         "y": [
          1.7938232421875,
          1.8853410482406616,
          0.2793348431587219,
          0.6878381967544556,
          0.7957260012626648,
          -0.8226202726364136,
          -5.726263999938965,
          -4.40156888961792,
          0.05650205537676811,
          -3.955583333969116,
          4.861386775970459,
          2.345304012298584,
          0.2641699016094208,
          -0.9896544218063354,
          2.9057981967926025,
          -0.058775290846824646,
          -2.5451104640960693,
          -3.457141399383545,
          -0.6896134614944458,
          -3.023306131362915,
          -1.6913864612579346,
          2.0950865745544434,
          -0.20414090156555176,
          -0.23900440335273743,
          2.4291977882385254,
          -0.047144897282123566,
          0.7937853932380676,
          3.387399673461914,
          1.4291009902954102,
          -5.155492305755615,
          3.9148449897766113,
          -2.209219455718994,
          -6.064495086669922,
          -0.5199074149131775,
          -0.4718930721282959,
          -2.9269795417785645,
          2.8253467082977295,
          0.0315246656537056,
          3.6601691246032715,
          -0.10032403469085693,
          -0.9779244065284729,
          1.0729763507843018,
          -2.0534937381744385,
          -1.0977232456207275,
          2.4291977882385254,
          2.769744634628296,
          -0.6465217471122742
         ]
        },
        {
         "marker": {
          "color": [
           134,
           81,
           53,
           70,
           100,
           53,
           294,
           210,
           85,
           135,
           81,
           100,
           450,
           100,
           96,
           68,
           112,
           96,
           92,
           118,
           110,
           91,
           107,
           120,
           96,
           150,
           96,
           85,
           103,
           120,
           85,
           210,
           136,
           70,
           70,
           67,
           81,
           103,
           96,
           68,
           81,
           85,
           158,
           275,
           96,
           49,
           90
          ],
          "colorscale": [
           [
            0,
            "#440154"
           ],
           [
            0.1111111111111111,
            "#482878"
           ],
           [
            0.2222222222222222,
            "#3e4989"
           ],
           [
            0.3333333333333333,
            "#31688e"
           ],
           [
            0.4444444444444444,
            "#26828e"
           ],
           [
            0.5555555555555556,
            "#1f9e89"
           ],
           [
            0.6666666666666666,
            "#35b779"
           ],
           [
            0.7777777777777778,
            "#6ece58"
           ],
           [
            0.8888888888888888,
            "#b5de2b"
           ],
           [
            1,
            "#fde725"
           ]
          ],
          "showscale": true,
          "size": 4
         },
         "mode": "markers",
         "name": "EnginePower",
         "text": [
          134,
          81,
          53,
          70,
          100,
          53,
          294,
          210,
          85,
          135,
          81,
          100,
          450,
          100,
          96,
          68,
          112,
          96,
          92,
          118,
          110,
          91,
          107,
          120,
          96,
          150,
          96,
          85,
          103,
          120,
          85,
          210,
          136,
          70,
          70,
          67,
          81,
          103,
          96,
          68,
          81,
          85,
          158,
          275,
          96,
          49,
          90
         ],
         "type": "scatter",
         "x": [
          134,
          81,
          53,
          70,
          100,
          53,
          294,
          210,
          85,
          135,
          81,
          100,
          450,
          100,
          96,
          68,
          112,
          96,
          92,
          118,
          110,
          91,
          107,
          120,
          96,
          150,
          96,
          85,
          103,
          120,
          85,
          210,
          136,
          70,
          70,
          67,
          81,
          103,
          96,
          68,
          81,
          85,
          158,
          275,
          96,
          49,
          90
         ],
         "y": [
          1.7938232421875,
          1.8853410482406616,
          0.2793348431587219,
          0.6878381967544556,
          0.7957260012626648,
          -0.8226202726364136,
          -5.726263999938965,
          -4.40156888961792,
          0.05650205537676811,
          -3.955583333969116,
          4.861386775970459,
          2.345304012298584,
          0.2641699016094208,
          -0.9896544218063354,
          2.9057981967926025,
          -0.058775290846824646,
          -2.5451104640960693,
          -3.457141399383545,
          -0.6896134614944458,
          -3.023306131362915,
          -1.6913864612579346,
          2.0950865745544434,
          -0.20414090156555176,
          -0.23900440335273743,
          2.4291977882385254,
          -0.047144897282123566,
          0.7937853932380676,
          3.387399673461914,
          1.4291009902954102,
          -5.155492305755615,
          3.9148449897766113,
          -2.209219455718994,
          -6.064495086669922,
          -0.5199074149131775,
          -0.4718930721282959,
          -2.9269795417785645,
          2.8253467082977295,
          0.0315246656537056,
          3.6601691246032715,
          -0.10032403469085693,
          -0.9779244065284729,
          1.0729763507843018,
          -2.0534937381744385,
          -1.0977232456207275,
          2.4291977882385254,
          2.769744634628296,
          -0.6465217471122742
         ]
        }
       ],
       "layout": {
        "autosize": false,
        "bargap": 0,
        "height": 600,
        "hovermode": "closest",
        "margin": {
         "t": 50
        },
        "showlegend": true,
        "template": {
         "data": {
          "bar": [
           {
            "error_x": {
             "color": "#2a3f5f"
            },
            "error_y": {
             "color": "#2a3f5f"
            },
            "marker": {
             "line": {
              "color": "#E5ECF6",
              "width": 0.5
             },
             "pattern": {
              "fillmode": "overlay",
              "size": 10,
              "solidity": 0.2
             }
            },
            "type": "bar"
           }
          ],
          "barpolar": [
           {
            "marker": {
             "line": {
              "color": "#E5ECF6",
              "width": 0.5
             },
             "pattern": {
              "fillmode": "overlay",
              "size": 10,
              "solidity": 0.2
             }
            },
            "type": "barpolar"
           }
          ],
          "carpet": [
           {
            "aaxis": {
             "endlinecolor": "#2a3f5f",
             "gridcolor": "white",
             "linecolor": "white",
             "minorgridcolor": "white",
             "startlinecolor": "#2a3f5f"
            },
            "baxis": {
             "endlinecolor": "#2a3f5f",
             "gridcolor": "white",
             "linecolor": "white",
             "minorgridcolor": "white",
             "startlinecolor": "#2a3f5f"
            },
            "type": "carpet"
           }
          ],
          "choropleth": [
           {
            "colorbar": {
             "outlinewidth": 0,
             "ticks": ""
            },
            "type": "choropleth"
           }
          ],
          "contour": [
           {
            "colorbar": {
             "outlinewidth": 0,
             "ticks": ""
            },
            "colorscale": [
             [
              0,
              "#0d0887"
             ],
             [
              0.1111111111111111,
              "#46039f"
             ],
             [
              0.2222222222222222,
              "#7201a8"
             ],
             [
              0.3333333333333333,
              "#9c179e"
             ],
             [
              0.4444444444444444,
              "#bd3786"
             ],
             [
              0.5555555555555556,
              "#d8576b"
             ],
             [
              0.6666666666666666,
              "#ed7953"
             ],
             [
              0.7777777777777778,
              "#fb9f3a"
             ],
             [
              0.8888888888888888,
              "#fdca26"
             ],
             [
              1,
              "#f0f921"
             ]
            ],
            "type": "contour"
           }
          ],
          "contourcarpet": [
           {
            "colorbar": {
             "outlinewidth": 0,
             "ticks": ""
            },
            "type": "contourcarpet"
           }
          ],
          "heatmap": [
           {
            "colorbar": {
             "outlinewidth": 0,
             "ticks": ""
            },
            "colorscale": [
             [
              0,
              "#0d0887"
             ],
             [
              0.1111111111111111,
              "#46039f"
             ],
             [
              0.2222222222222222,
              "#7201a8"
             ],
             [
              0.3333333333333333,
              "#9c179e"
             ],
             [
              0.4444444444444444,
              "#bd3786"
             ],
             [
              0.5555555555555556,
              "#d8576b"
             ],
             [
              0.6666666666666666,
              "#ed7953"
             ],
             [
              0.7777777777777778,
              "#fb9f3a"
             ],
             [
              0.8888888888888888,
              "#fdca26"
             ],
             [
              1,
              "#f0f921"
             ]
            ],
            "type": "heatmap"
           }
          ],
          "heatmapgl": [
           {
            "colorbar": {
             "outlinewidth": 0,
             "ticks": ""
            },
            "colorscale": [
             [
              0,
              "#0d0887"
             ],
             [
              0.1111111111111111,
              "#46039f"
             ],
             [
              0.2222222222222222,
              "#7201a8"
             ],
             [
              0.3333333333333333,
              "#9c179e"
             ],
             [
              0.4444444444444444,
              "#bd3786"
             ],
             [
              0.5555555555555556,
              "#d8576b"
             ],
             [
              0.6666666666666666,
              "#ed7953"
             ],
             [
              0.7777777777777778,
              "#fb9f3a"
             ],
             [
              0.8888888888888888,
              "#fdca26"
             ],
             [
              1,
              "#f0f921"
             ]
            ],
            "type": "heatmapgl"
           }
          ],
          "histogram": [
           {
            "marker": {
             "pattern": {
              "fillmode": "overlay",
              "size": 10,
              "solidity": 0.2
             }
            },
            "type": "histogram"
           }
          ],
          "histogram2d": [
           {
            "colorbar": {
             "outlinewidth": 0,
             "ticks": ""
            },
            "colorscale": [
             [
              0,
              "#0d0887"
             ],
             [
              0.1111111111111111,
              "#46039f"
             ],
             [
              0.2222222222222222,
              "#7201a8"
             ],
             [
              0.3333333333333333,
              "#9c179e"
             ],
             [
              0.4444444444444444,
              "#bd3786"
             ],
             [
              0.5555555555555556,
              "#d8576b"
             ],
             [
              0.6666666666666666,
              "#ed7953"
             ],
             [
              0.7777777777777778,
              "#fb9f3a"
             ],
             [
              0.8888888888888888,
              "#fdca26"
             ],
             [
              1,
              "#f0f921"
             ]
            ],
            "type": "histogram2d"
           }
          ],
          "histogram2dcontour": [
           {
            "colorbar": {
             "outlinewidth": 0,
             "ticks": ""
            },
            "colorscale": [
             [
              0,
              "#0d0887"
             ],
             [
              0.1111111111111111,
              "#46039f"
             ],
             [
              0.2222222222222222,
              "#7201a8"
             ],
             [
              0.3333333333333333,
              "#9c179e"
             ],
             [
              0.4444444444444444,
              "#bd3786"
             ],
             [
              0.5555555555555556,
              "#d8576b"
             ],
             [
              0.6666666666666666,
              "#ed7953"
             ],
             [
              0.7777777777777778,
              "#fb9f3a"
             ],
             [
              0.8888888888888888,
              "#fdca26"
             ],
             [
              1,
              "#f0f921"
             ]
            ],
            "type": "histogram2dcontour"
           }
          ],
          "mesh3d": [
           {
            "colorbar": {
             "outlinewidth": 0,
             "ticks": ""
            },
            "type": "mesh3d"
           }
          ],
          "parcoords": [
           {
            "line": {
             "colorbar": {
              "outlinewidth": 0,
              "ticks": ""
             }
            },
            "type": "parcoords"
           }
          ],
          "pie": [
           {
            "automargin": true,
            "type": "pie"
           }
          ],
          "scatter": [
           {
            "fillpattern": {
             "fillmode": "overlay",
             "size": 10,
             "solidity": 0.2
            },
            "type": "scatter"
           }
          ],
          "scatter3d": [
           {
            "line": {
             "colorbar": {
              "outlinewidth": 0,
              "ticks": ""
             }
            },
            "marker": {
             "colorbar": {
              "outlinewidth": 0,
              "ticks": ""
             }
            },
            "type": "scatter3d"
           }
          ],
          "scattercarpet": [
           {
            "marker": {
             "colorbar": {
              "outlinewidth": 0,
              "ticks": ""
             }
            },
            "type": "scattercarpet"
           }
          ],
          "scattergeo": [
           {
            "marker": {
             "colorbar": {
              "outlinewidth": 0,
              "ticks": ""
             }
            },
            "type": "scattergeo"
           }
          ],
          "scattergl": [
           {
            "marker": {
             "colorbar": {
              "outlinewidth": 0,
              "ticks": ""
             }
            },
            "type": "scattergl"
           }
          ],
          "scattermapbox": [
           {
            "marker": {
             "colorbar": {
              "outlinewidth": 0,
              "ticks": ""
             }
            },
            "type": "scattermapbox"
           }
          ],
          "scatterpolar": [
           {
            "marker": {
             "colorbar": {
              "outlinewidth": 0,
              "ticks": ""
             }
            },
            "type": "scatterpolar"
           }
          ],
          "scatterpolargl": [
           {
            "marker": {
             "colorbar": {
              "outlinewidth": 0,
              "ticks": ""
             }
            },
            "type": "scatterpolargl"
           }
          ],
          "scatterternary": [
           {
            "marker": {
             "colorbar": {
              "outlinewidth": 0,
              "ticks": ""
             }
            },
            "type": "scatterternary"
           }
          ],
          "surface": [
           {
            "colorbar": {
             "outlinewidth": 0,
             "ticks": ""
            },
            "colorscale": [
             [
              0,
              "#0d0887"
             ],
             [
              0.1111111111111111,
              "#46039f"
             ],
             [
              0.2222222222222222,
              "#7201a8"
             ],
             [
              0.3333333333333333,
              "#9c179e"
             ],
             [
              0.4444444444444444,
              "#bd3786"
             ],
             [
              0.5555555555555556,
              "#d8576b"
             ],
             [
              0.6666666666666666,
              "#ed7953"
             ],
             [
              0.7777777777777778,
              "#fb9f3a"
             ],
             [
              0.8888888888888888,
              "#fdca26"
             ],
             [
              1,
              "#f0f921"
             ]
            ],
            "type": "surface"
           }
          ],
          "table": [
           {
            "cells": {
             "fill": {
              "color": "#EBF0F8"
             },
             "line": {
              "color": "white"
             }
            },
            "header": {
             "fill": {
              "color": "#C8D4E3"
             },
             "line": {
              "color": "white"
             }
            },
            "type": "table"
           }
          ]
         },
         "layout": {
          "annotationdefaults": {
           "arrowcolor": "#2a3f5f",
           "arrowhead": 0,
           "arrowwidth": 1
          },
          "autotypenumbers": "strict",
          "coloraxis": {
           "colorbar": {
            "outlinewidth": 0,
            "ticks": ""
           }
          },
          "colorscale": {
           "diverging": [
            [
             0,
             "#8e0152"
            ],
            [
             0.1,
             "#c51b7d"
            ],
            [
             0.2,
             "#de77ae"
            ],
            [
             0.3,
             "#f1b6da"
            ],
            [
             0.4,
             "#fde0ef"
            ],
            [
             0.5,
             "#f7f7f7"
            ],
            [
             0.6,
             "#e6f5d0"
            ],
            [
             0.7,
             "#b8e186"
            ],
            [
             0.8,
             "#7fbc41"
            ],
            [
             0.9,
             "#4d9221"
            ],
            [
             1,
             "#276419"
            ]
           ],
           "sequential": [
            [
             0,
             "#0d0887"
            ],
            [
             0.1111111111111111,
             "#46039f"
            ],
            [
             0.2222222222222222,
             "#7201a8"
            ],
            [
             0.3333333333333333,
             "#9c179e"
            ],
            [
             0.4444444444444444,
             "#bd3786"
            ],
            [
             0.5555555555555556,
             "#d8576b"
            ],
            [
             0.6666666666666666,
             "#ed7953"
            ],
            [
             0.7777777777777778,
             "#fb9f3a"
            ],
            [
             0.8888888888888888,
             "#fdca26"
            ],
            [
             1,
             "#f0f921"
            ]
           ],
           "sequentialminus": [
            [
             0,
             "#0d0887"
            ],
            [
             0.1111111111111111,
             "#46039f"
            ],
            [
             0.2222222222222222,
             "#7201a8"
            ],
            [
             0.3333333333333333,
             "#9c179e"
            ],
            [
             0.4444444444444444,
             "#bd3786"
            ],
            [
             0.5555555555555556,
             "#d8576b"
            ],
            [
             0.6666666666666666,
             "#ed7953"
            ],
            [
             0.7777777777777778,
             "#fb9f3a"
            ],
            [
             0.8888888888888888,
             "#fdca26"
            ],
            [
             1,
             "#f0f921"
            ]
           ]
          },
          "colorway": [
           "#636efa",
           "#EF553B",
           "#00cc96",
           "#ab63fa",
           "#FFA15A",
           "#19d3f3",
           "#FF6692",
           "#B6E880",
           "#FF97FF",
           "#FECB52"
          ],
          "font": {
           "color": "#2a3f5f"
          },
          "geo": {
           "bgcolor": "white",
           "lakecolor": "white",
           "landcolor": "#E5ECF6",
           "showlakes": true,
           "showland": true,
           "subunitcolor": "white"
          },
          "hoverlabel": {
           "align": "left"
          },
          "hovermode": "closest",
          "mapbox": {
           "style": "light"
          },
          "paper_bgcolor": "white",
          "plot_bgcolor": "#E5ECF6",
          "polar": {
           "angularaxis": {
            "gridcolor": "white",
            "linecolor": "white",
            "ticks": ""
           },
           "bgcolor": "#E5ECF6",
           "radialaxis": {
            "gridcolor": "white",
            "linecolor": "white",
            "ticks": ""
           }
          },
          "scene": {
           "xaxis": {
            "backgroundcolor": "#E5ECF6",
            "gridcolor": "white",
            "gridwidth": 2,
            "linecolor": "white",
            "showbackground": true,
            "ticks": "",
            "zerolinecolor": "white"
           },
           "yaxis": {
            "backgroundcolor": "#E5ECF6",
            "gridcolor": "white",
            "gridwidth": 2,
            "linecolor": "white",
            "showbackground": true,
            "ticks": "",
            "zerolinecolor": "white"
           },
           "zaxis": {
            "backgroundcolor": "#E5ECF6",
            "gridcolor": "white",
            "gridwidth": 2,
            "linecolor": "white",
            "showbackground": true,
            "ticks": "",
            "zerolinecolor": "white"
           }
          },
          "shapedefaults": {
           "line": {
            "color": "#2a3f5f"
           }
          },
          "ternary": {
           "aaxis": {
            "gridcolor": "white",
            "linecolor": "white",
            "ticks": ""
           },
           "baxis": {
            "gridcolor": "white",
            "linecolor": "white",
            "ticks": ""
           },
           "bgcolor": "#E5ECF6",
           "caxis": {
            "gridcolor": "white",
            "linecolor": "white",
            "ticks": ""
           }
          },
          "title": {
           "x": 0.05
          },
          "xaxis": {
           "automargin": true,
           "gridcolor": "white",
           "linecolor": "white",
           "ticks": "",
           "title": {
            "standoff": 15
           },
           "zerolinecolor": "white",
           "zerolinewidth": 2
          },
          "yaxis": {
           "automargin": true,
           "gridcolor": "white",
           "linecolor": "white",
           "ticks": "",
           "title": {
            "standoff": 15
           },
           "zerolinecolor": "white",
           "zerolinewidth": 2
          }
         }
        },
        "title": {
         "text": "SHAP Dependence Plot: BaseWheel vs SHAP values"
        },
        "width": 600,
        "xaxis": {
         "domain": [
          0,
          0.85
         ],
         "showgrid": false,
         "title": {
          "text": "BaseWheel"
         },
         "zeroline": false
        },
        "xaxis2": {
         "domain": [
          0.85,
          1
         ],
         "showgrid": false,
         "zeroline": false
        },
        "yaxis": {
         "domain": [
          0,
          0.85
         ],
         "showgrid": false,
         "title": {
          "text": "SHAP values"
         },
         "zeroline": false
        },
        "yaxis2": {
         "domain": [
          0.85,
          1
         ],
         "showgrid": false,
         "zeroline": false
        }
       }
      }
     },
     "metadata": {},
     "output_type": "display_data"
    },
    {
     "data": {
      "application/vnd.plotly.v1+json": {
       "config": {
        "plotlyServerURL": "https://plot.ly"
       },
       "data": [
        {
         "marker": {
          "color": "rgb(0, 0, 128)",
          "opacity": 0.4,
          "size": 3
         },
         "mode": "markers",
         "name": "points",
         "type": "scatter",
         "x": [
          1352,
          1280,
          930,
          1805,
          1510,
          915,
          2523,
          2195,
          1460,
          2065,
          1277,
          1325,
          2445,
          1445,
          1461,
          1160,
          1445,
          1353,
          1383,
          1377,
          1422,
          1315,
          1743,
          1435,
          1504,
          2124,
          1505,
          1475,
          1404,
          1615,
          1429,
          2260,
          2005,
          2120,
          2124,
          1157,
          1244,
          1322,
          1395,
          1160,
          1264,
          1570,
          2595,
          1810,
          1504,
          1111,
          1411
         ],
         "y": [
          -6.020405292510986,
          -10.122105598449707,
          -6.5848612785339355,
          11.927525520324707,
          3.215568780899048,
          -10.750454902648926,
          41.53536605834961,
          23.462875366210938,
          -3.106497049331665,
          17.877458572387695,
          -7.2850661277771,
          -8.243011474609375,
          49.368064880371094,
          -8.166595458984375,
          -0.20409950613975525,
          -10.637502670288086,
          -4.741962432861328,
          -7.271811485290527,
          -3.972970724105835,
          -7.471776008605957,
          -4.359755039215088,
          -10.912309646606445,
          20.78554916381836,
          -4.572809219360352,
          0.29235053062438965,
          15.849724769592285,
          0.5622923970222473,
          -0.577792763710022,
          -4.492869853973389,
          5.530162811279297,
          -6.035951614379883,
          17.417522430419922,
          20.664823532104492,
          16.617673873901367,
          23.168872833251953,
          -4.92568826675415,
          -8.835997581481934,
          -8.48252010345459,
          -1.876006841659546,
          -10.529481887817383,
          -7.496405124664307,
          5.7453413009643555,
          27.568405151367188,
          16.205053329467773,
          0.29235053062438965,
          -6.222685813903809,
          -3.9805190563201904
         ]
        },
        {
         "colorscale": [
          [
           0,
           "rgb(68, 1, 84)"
          ],
          [
           1,
           "rgb(253, 231, 37)"
          ]
         ],
         "name": "density",
         "ncontours": 20,
         "reversescale": true,
         "showscale": false,
         "type": "histogram2dcontour",
         "x": [
          1352,
          1280,
          930,
          1805,
          1510,
          915,
          2523,
          2195,
          1460,
          2065,
          1277,
          1325,
          2445,
          1445,
          1461,
          1160,
          1445,
          1353,
          1383,
          1377,
          1422,
          1315,
          1743,
          1435,
          1504,
          2124,
          1505,
          1475,
          1404,
          1615,
          1429,
          2260,
          2005,
          2120,
          2124,
          1157,
          1244,
          1322,
          1395,
          1160,
          1264,
          1570,
          2595,
          1810,
          1504,
          1111,
          1411
         ],
         "y": [
          -6.020405292510986,
          -10.122105598449707,
          -6.5848612785339355,
          11.927525520324707,
          3.215568780899048,
          -10.750454902648926,
          41.53536605834961,
          23.462875366210938,
          -3.106497049331665,
          17.877458572387695,
          -7.2850661277771,
          -8.243011474609375,
          49.368064880371094,
          -8.166595458984375,
          -0.20409950613975525,
          -10.637502670288086,
          -4.741962432861328,
          -7.271811485290527,
          -3.972970724105835,
          -7.471776008605957,
          -4.359755039215088,
          -10.912309646606445,
          20.78554916381836,
          -4.572809219360352,
          0.29235053062438965,
          15.849724769592285,
          0.5622923970222473,
          -0.577792763710022,
          -4.492869853973389,
          5.530162811279297,
          -6.035951614379883,
          17.417522430419922,
          20.664823532104492,
          16.617673873901367,
          23.168872833251953,
          -4.92568826675415,
          -8.835997581481934,
          -8.48252010345459,
          -1.876006841659546,
          -10.529481887817383,
          -7.496405124664307,
          5.7453413009643555,
          27.568405151367188,
          16.205053329467773,
          0.29235053062438965,
          -6.222685813903809,
          -3.9805190563201904
         ]
        },
        {
         "marker": {
          "color": "rgb(0, 0, 0)"
         },
         "name": "x density",
         "type": "histogram",
         "x": [
          1352,
          1280,
          930,
          1805,
          1510,
          915,
          2523,
          2195,
          1460,
          2065,
          1277,
          1325,
          2445,
          1445,
          1461,
          1160,
          1445,
          1353,
          1383,
          1377,
          1422,
          1315,
          1743,
          1435,
          1504,
          2124,
          1505,
          1475,
          1404,
          1615,
          1429,
          2260,
          2005,
          2120,
          2124,
          1157,
          1244,
          1322,
          1395,
          1160,
          1264,
          1570,
          2595,
          1810,
          1504,
          1111,
          1411
         ],
         "yaxis": "y2"
        },
        {
         "marker": {
          "color": "rgb(0, 0, 0)"
         },
         "name": "y density",
         "type": "histogram",
         "xaxis": "x2",
         "y": [
          -6.020405292510986,
          -10.122105598449707,
          -6.5848612785339355,
          11.927525520324707,
          3.215568780899048,
          -10.750454902648926,
          41.53536605834961,
          23.462875366210938,
          -3.106497049331665,
          17.877458572387695,
          -7.2850661277771,
          -8.243011474609375,
          49.368064880371094,
          -8.166595458984375,
          -0.20409950613975525,
          -10.637502670288086,
          -4.741962432861328,
          -7.271811485290527,
          -3.972970724105835,
          -7.471776008605957,
          -4.359755039215088,
          -10.912309646606445,
          20.78554916381836,
          -4.572809219360352,
          0.29235053062438965,
          15.849724769592285,
          0.5622923970222473,
          -0.577792763710022,
          -4.492869853973389,
          5.530162811279297,
          -6.035951614379883,
          17.417522430419922,
          20.664823532104492,
          16.617673873901367,
          23.168872833251953,
          -4.92568826675415,
          -8.835997581481934,
          -8.48252010345459,
          -1.876006841659546,
          -10.529481887817383,
          -7.496405124664307,
          5.7453413009643555,
          27.568405151367188,
          16.205053329467773,
          0.29235053062438965,
          -6.222685813903809,
          -3.9805190563201904
         ]
        },
        {
         "marker": {
          "color": [
           134,
           81,
           53,
           70,
           100,
           53,
           294,
           210,
           85,
           135,
           81,
           100,
           450,
           100,
           96,
           68,
           112,
           96,
           92,
           118,
           110,
           91,
           107,
           120,
           96,
           150,
           96,
           85,
           103,
           120,
           85,
           210,
           136,
           70,
           70,
           67,
           81,
           103,
           96,
           68,
           81,
           85,
           158,
           275,
           96,
           49,
           90
          ],
          "colorscale": [
           [
            0,
            "#440154"
           ],
           [
            0.1111111111111111,
            "#482878"
           ],
           [
            0.2222222222222222,
            "#3e4989"
           ],
           [
            0.3333333333333333,
            "#31688e"
           ],
           [
            0.4444444444444444,
            "#26828e"
           ],
           [
            0.5555555555555556,
            "#1f9e89"
           ],
           [
            0.6666666666666666,
            "#35b779"
           ],
           [
            0.7777777777777778,
            "#6ece58"
           ],
           [
            0.8888888888888888,
            "#b5de2b"
           ],
           [
            1,
            "#fde725"
           ]
          ],
          "showscale": true,
          "size": 4
         },
         "mode": "markers",
         "name": "EnginePower",
         "text": [
          134,
          81,
          53,
          70,
          100,
          53,
          294,
          210,
          85,
          135,
          81,
          100,
          450,
          100,
          96,
          68,
          112,
          96,
          92,
          118,
          110,
          91,
          107,
          120,
          96,
          150,
          96,
          85,
          103,
          120,
          85,
          210,
          136,
          70,
          70,
          67,
          81,
          103,
          96,
          68,
          81,
          85,
          158,
          275,
          96,
          49,
          90
         ],
         "type": "scatter",
         "x": [
          134,
          81,
          53,
          70,
          100,
          53,
          294,
          210,
          85,
          135,
          81,
          100,
          450,
          100,
          96,
          68,
          112,
          96,
          92,
          118,
          110,
          91,
          107,
          120,
          96,
          150,
          96,
          85,
          103,
          120,
          85,
          210,
          136,
          70,
          70,
          67,
          81,
          103,
          96,
          68,
          81,
          85,
          158,
          275,
          96,
          49,
          90
         ],
         "y": [
          -6.020405292510986,
          -10.122105598449707,
          -6.5848612785339355,
          11.927525520324707,
          3.215568780899048,
          -10.750454902648926,
          41.53536605834961,
          23.462875366210938,
          -3.106497049331665,
          17.877458572387695,
          -7.2850661277771,
          -8.243011474609375,
          49.368064880371094,
          -8.166595458984375,
          -0.20409950613975525,
          -10.637502670288086,
          -4.741962432861328,
          -7.271811485290527,
          -3.972970724105835,
          -7.471776008605957,
          -4.359755039215088,
          -10.912309646606445,
          20.78554916381836,
          -4.572809219360352,
          0.29235053062438965,
          15.849724769592285,
          0.5622923970222473,
          -0.577792763710022,
          -4.492869853973389,
          5.530162811279297,
          -6.035951614379883,
          17.417522430419922,
          20.664823532104492,
          16.617673873901367,
          23.168872833251953,
          -4.92568826675415,
          -8.835997581481934,
          -8.48252010345459,
          -1.876006841659546,
          -10.529481887817383,
          -7.496405124664307,
          5.7453413009643555,
          27.568405151367188,
          16.205053329467773,
          0.29235053062438965,
          -6.222685813903809,
          -3.9805190563201904
         ]
        }
       ],
       "layout": {
        "autosize": false,
        "bargap": 0,
        "height": 600,
        "hovermode": "closest",
        "margin": {
         "t": 50
        },
        "showlegend": true,
        "template": {
         "data": {
          "bar": [
           {
            "error_x": {
             "color": "#2a3f5f"
            },
            "error_y": {
             "color": "#2a3f5f"
            },
            "marker": {
             "line": {
              "color": "#E5ECF6",
              "width": 0.5
             },
             "pattern": {
              "fillmode": "overlay",
              "size": 10,
              "solidity": 0.2
             }
            },
            "type": "bar"
           }
          ],
          "barpolar": [
           {
            "marker": {
             "line": {
              "color": "#E5ECF6",
              "width": 0.5
             },
             "pattern": {
              "fillmode": "overlay",
              "size": 10,
              "solidity": 0.2
             }
            },
            "type": "barpolar"
           }
          ],
          "carpet": [
           {
            "aaxis": {
             "endlinecolor": "#2a3f5f",
             "gridcolor": "white",
             "linecolor": "white",
             "minorgridcolor": "white",
             "startlinecolor": "#2a3f5f"
            },
            "baxis": {
             "endlinecolor": "#2a3f5f",
             "gridcolor": "white",
             "linecolor": "white",
             "minorgridcolor": "white",
             "startlinecolor": "#2a3f5f"
            },
            "type": "carpet"
           }
          ],
          "choropleth": [
           {
            "colorbar": {
             "outlinewidth": 0,
             "ticks": ""
            },
            "type": "choropleth"
           }
          ],
          "contour": [
           {
            "colorbar": {
             "outlinewidth": 0,
             "ticks": ""
            },
            "colorscale": [
             [
              0,
              "#0d0887"
             ],
             [
              0.1111111111111111,
              "#46039f"
             ],
             [
              0.2222222222222222,
              "#7201a8"
             ],
             [
              0.3333333333333333,
              "#9c179e"
             ],
             [
              0.4444444444444444,
              "#bd3786"
             ],
             [
              0.5555555555555556,
              "#d8576b"
             ],
             [
              0.6666666666666666,
              "#ed7953"
             ],
             [
              0.7777777777777778,
              "#fb9f3a"
             ],
             [
              0.8888888888888888,
              "#fdca26"
             ],
             [
              1,
              "#f0f921"
             ]
            ],
            "type": "contour"
           }
          ],
          "contourcarpet": [
           {
            "colorbar": {
             "outlinewidth": 0,
             "ticks": ""
            },
            "type": "contourcarpet"
           }
          ],
          "heatmap": [
           {
            "colorbar": {
             "outlinewidth": 0,
             "ticks": ""
            },
            "colorscale": [
             [
              0,
              "#0d0887"
             ],
             [
              0.1111111111111111,
              "#46039f"
             ],
             [
              0.2222222222222222,
              "#7201a8"
             ],
             [
              0.3333333333333333,
              "#9c179e"
             ],
             [
              0.4444444444444444,
              "#bd3786"
             ],
             [
              0.5555555555555556,
              "#d8576b"
             ],
             [
              0.6666666666666666,
              "#ed7953"
             ],
             [
              0.7777777777777778,
              "#fb9f3a"
             ],
             [
              0.8888888888888888,
              "#fdca26"
             ],
             [
              1,
              "#f0f921"
             ]
            ],
            "type": "heatmap"
           }
          ],
          "heatmapgl": [
           {
            "colorbar": {
             "outlinewidth": 0,
             "ticks": ""
            },
            "colorscale": [
             [
              0,
              "#0d0887"
             ],
             [
              0.1111111111111111,
              "#46039f"
             ],
             [
              0.2222222222222222,
              "#7201a8"
             ],
             [
              0.3333333333333333,
              "#9c179e"
             ],
             [
              0.4444444444444444,
              "#bd3786"
             ],
             [
              0.5555555555555556,
              "#d8576b"
             ],
             [
              0.6666666666666666,
              "#ed7953"
             ],
             [
              0.7777777777777778,
              "#fb9f3a"
             ],
             [
              0.8888888888888888,
              "#fdca26"
             ],
             [
              1,
              "#f0f921"
             ]
            ],
            "type": "heatmapgl"
           }
          ],
          "histogram": [
           {
            "marker": {
             "pattern": {
              "fillmode": "overlay",
              "size": 10,
              "solidity": 0.2
             }
            },
            "type": "histogram"
           }
          ],
          "histogram2d": [
           {
            "colorbar": {
             "outlinewidth": 0,
             "ticks": ""
            },
            "colorscale": [
             [
              0,
              "#0d0887"
             ],
             [
              0.1111111111111111,
              "#46039f"
             ],
             [
              0.2222222222222222,
              "#7201a8"
             ],
             [
              0.3333333333333333,
              "#9c179e"
             ],
             [
              0.4444444444444444,
              "#bd3786"
             ],
             [
              0.5555555555555556,
              "#d8576b"
             ],
             [
              0.6666666666666666,
              "#ed7953"
             ],
             [
              0.7777777777777778,
              "#fb9f3a"
             ],
             [
              0.8888888888888888,
              "#fdca26"
             ],
             [
              1,
              "#f0f921"
             ]
            ],
            "type": "histogram2d"
           }
          ],
          "histogram2dcontour": [
           {
            "colorbar": {
             "outlinewidth": 0,
             "ticks": ""
            },
            "colorscale": [
             [
              0,
              "#0d0887"
             ],
             [
              0.1111111111111111,
              "#46039f"
             ],
             [
              0.2222222222222222,
              "#7201a8"
             ],
             [
              0.3333333333333333,
              "#9c179e"
             ],
             [
              0.4444444444444444,
              "#bd3786"
             ],
             [
              0.5555555555555556,
              "#d8576b"
             ],
             [
              0.6666666666666666,
              "#ed7953"
             ],
             [
              0.7777777777777778,
              "#fb9f3a"
             ],
             [
              0.8888888888888888,
              "#fdca26"
             ],
             [
              1,
              "#f0f921"
             ]
            ],
            "type": "histogram2dcontour"
           }
          ],
          "mesh3d": [
           {
            "colorbar": {
             "outlinewidth": 0,
             "ticks": ""
            },
            "type": "mesh3d"
           }
          ],
          "parcoords": [
           {
            "line": {
             "colorbar": {
              "outlinewidth": 0,
              "ticks": ""
             }
            },
            "type": "parcoords"
           }
          ],
          "pie": [
           {
            "automargin": true,
            "type": "pie"
           }
          ],
          "scatter": [
           {
            "fillpattern": {
             "fillmode": "overlay",
             "size": 10,
             "solidity": 0.2
            },
            "type": "scatter"
           }
          ],
          "scatter3d": [
           {
            "line": {
             "colorbar": {
              "outlinewidth": 0,
              "ticks": ""
             }
            },
            "marker": {
             "colorbar": {
              "outlinewidth": 0,
              "ticks": ""
             }
            },
            "type": "scatter3d"
           }
          ],
          "scattercarpet": [
           {
            "marker": {
             "colorbar": {
              "outlinewidth": 0,
              "ticks": ""
             }
            },
            "type": "scattercarpet"
           }
          ],
          "scattergeo": [
           {
            "marker": {
             "colorbar": {
              "outlinewidth": 0,
              "ticks": ""
             }
            },
            "type": "scattergeo"
           }
          ],
          "scattergl": [
           {
            "marker": {
             "colorbar": {
              "outlinewidth": 0,
              "ticks": ""
             }
            },
            "type": "scattergl"
           }
          ],
          "scattermapbox": [
           {
            "marker": {
             "colorbar": {
              "outlinewidth": 0,
              "ticks": ""
             }
            },
            "type": "scattermapbox"
           }
          ],
          "scatterpolar": [
           {
            "marker": {
             "colorbar": {
              "outlinewidth": 0,
              "ticks": ""
             }
            },
            "type": "scatterpolar"
           }
          ],
          "scatterpolargl": [
           {
            "marker": {
             "colorbar": {
              "outlinewidth": 0,
              "ticks": ""
             }
            },
            "type": "scatterpolargl"
           }
          ],
          "scatterternary": [
           {
            "marker": {
             "colorbar": {
              "outlinewidth": 0,
              "ticks": ""
             }
            },
            "type": "scatterternary"
           }
          ],
          "surface": [
           {
            "colorbar": {
             "outlinewidth": 0,
             "ticks": ""
            },
            "colorscale": [
             [
              0,
              "#0d0887"
             ],
             [
              0.1111111111111111,
              "#46039f"
             ],
             [
              0.2222222222222222,
              "#7201a8"
             ],
             [
              0.3333333333333333,
              "#9c179e"
             ],
             [
              0.4444444444444444,
              "#bd3786"
             ],
             [
              0.5555555555555556,
              "#d8576b"
             ],
             [
              0.6666666666666666,
              "#ed7953"
             ],
             [
              0.7777777777777778,
              "#fb9f3a"
             ],
             [
              0.8888888888888888,
              "#fdca26"
             ],
             [
              1,
              "#f0f921"
             ]
            ],
            "type": "surface"
           }
          ],
          "table": [
           {
            "cells": {
             "fill": {
              "color": "#EBF0F8"
             },
             "line": {
              "color": "white"
             }
            },
            "header": {
             "fill": {
              "color": "#C8D4E3"
             },
             "line": {
              "color": "white"
             }
            },
            "type": "table"
           }
          ]
         },
         "layout": {
          "annotationdefaults": {
           "arrowcolor": "#2a3f5f",
           "arrowhead": 0,
           "arrowwidth": 1
          },
          "autotypenumbers": "strict",
          "coloraxis": {
           "colorbar": {
            "outlinewidth": 0,
            "ticks": ""
           }
          },
          "colorscale": {
           "diverging": [
            [
             0,
             "#8e0152"
            ],
            [
             0.1,
             "#c51b7d"
            ],
            [
             0.2,
             "#de77ae"
            ],
            [
             0.3,
             "#f1b6da"
            ],
            [
             0.4,
             "#fde0ef"
            ],
            [
             0.5,
             "#f7f7f7"
            ],
            [
             0.6,
             "#e6f5d0"
            ],
            [
             0.7,
             "#b8e186"
            ],
            [
             0.8,
             "#7fbc41"
            ],
            [
             0.9,
             "#4d9221"
            ],
            [
             1,
             "#276419"
            ]
           ],
           "sequential": [
            [
             0,
             "#0d0887"
            ],
            [
             0.1111111111111111,
             "#46039f"
            ],
            [
             0.2222222222222222,
             "#7201a8"
            ],
            [
             0.3333333333333333,
             "#9c179e"
            ],
            [
             0.4444444444444444,
             "#bd3786"
            ],
            [
             0.5555555555555556,
             "#d8576b"
            ],
            [
             0.6666666666666666,
             "#ed7953"
            ],
            [
             0.7777777777777778,
             "#fb9f3a"
            ],
            [
             0.8888888888888888,
             "#fdca26"
            ],
            [
             1,
             "#f0f921"
            ]
           ],
           "sequentialminus": [
            [
             0,
             "#0d0887"
            ],
            [
             0.1111111111111111,
             "#46039f"
            ],
            [
             0.2222222222222222,
             "#7201a8"
            ],
            [
             0.3333333333333333,
             "#9c179e"
            ],
            [
             0.4444444444444444,
             "#bd3786"
            ],
            [
             0.5555555555555556,
             "#d8576b"
            ],
            [
             0.6666666666666666,
             "#ed7953"
            ],
            [
             0.7777777777777778,
             "#fb9f3a"
            ],
            [
             0.8888888888888888,
             "#fdca26"
            ],
            [
             1,
             "#f0f921"
            ]
           ]
          },
          "colorway": [
           "#636efa",
           "#EF553B",
           "#00cc96",
           "#ab63fa",
           "#FFA15A",
           "#19d3f3",
           "#FF6692",
           "#B6E880",
           "#FF97FF",
           "#FECB52"
          ],
          "font": {
           "color": "#2a3f5f"
          },
          "geo": {
           "bgcolor": "white",
           "lakecolor": "white",
           "landcolor": "#E5ECF6",
           "showlakes": true,
           "showland": true,
           "subunitcolor": "white"
          },
          "hoverlabel": {
           "align": "left"
          },
          "hovermode": "closest",
          "mapbox": {
           "style": "light"
          },
          "paper_bgcolor": "white",
          "plot_bgcolor": "#E5ECF6",
          "polar": {
           "angularaxis": {
            "gridcolor": "white",
            "linecolor": "white",
            "ticks": ""
           },
           "bgcolor": "#E5ECF6",
           "radialaxis": {
            "gridcolor": "white",
            "linecolor": "white",
            "ticks": ""
           }
          },
          "scene": {
           "xaxis": {
            "backgroundcolor": "#E5ECF6",
            "gridcolor": "white",
            "gridwidth": 2,
            "linecolor": "white",
            "showbackground": true,
            "ticks": "",
            "zerolinecolor": "white"
           },
           "yaxis": {
            "backgroundcolor": "#E5ECF6",
            "gridcolor": "white",
            "gridwidth": 2,
            "linecolor": "white",
            "showbackground": true,
            "ticks": "",
            "zerolinecolor": "white"
           },
           "zaxis": {
            "backgroundcolor": "#E5ECF6",
            "gridcolor": "white",
            "gridwidth": 2,
            "linecolor": "white",
            "showbackground": true,
            "ticks": "",
            "zerolinecolor": "white"
           }
          },
          "shapedefaults": {
           "line": {
            "color": "#2a3f5f"
           }
          },
          "ternary": {
           "aaxis": {
            "gridcolor": "white",
            "linecolor": "white",
            "ticks": ""
           },
           "baxis": {
            "gridcolor": "white",
            "linecolor": "white",
            "ticks": ""
           },
           "bgcolor": "#E5ECF6",
           "caxis": {
            "gridcolor": "white",
            "linecolor": "white",
            "ticks": ""
           }
          },
          "title": {
           "x": 0.05
          },
          "xaxis": {
           "automargin": true,
           "gridcolor": "white",
           "linecolor": "white",
           "ticks": "",
           "title": {
            "standoff": 15
           },
           "zerolinecolor": "white",
           "zerolinewidth": 2
          },
          "yaxis": {
           "automargin": true,
           "gridcolor": "white",
           "linecolor": "white",
           "ticks": "",
           "title": {
            "standoff": 15
           },
           "zerolinecolor": "white",
           "zerolinewidth": 2
          }
         }
        },
        "title": {
         "text": "SHAP Dependence Plot: MassRunningOrder vs SHAP values"
        },
        "width": 600,
        "xaxis": {
         "domain": [
          0,
          0.85
         ],
         "showgrid": false,
         "title": {
          "text": "MassRunningOrder"
         },
         "zeroline": false
        },
        "xaxis2": {
         "domain": [
          0.85,
          1
         ],
         "showgrid": false,
         "zeroline": false
        },
        "yaxis": {
         "domain": [
          0,
          0.85
         ],
         "showgrid": false,
         "title": {
          "text": "SHAP values"
         },
         "zeroline": false
        },
        "yaxis2": {
         "domain": [
          0.85,
          1
         ],
         "showgrid": false,
         "zeroline": false
        }
       }
      }
     },
     "metadata": {},
     "output_type": "display_data"
    },
    {
     "name": "stdout",
     "output_type": "stream",
     "text": [
      "SHAP values saved at ../output/interpretability/ndarray_shap_values_20240116_111713.csv\n",
      "Explainer information saved at ../output/interpretability/ndarray_explainer_20240116_111713.csv\n"
     ]
    }
   ],
   "source": [
    "\n",
    "# Create a SHAP explainer and calculate SHAP values\n",
    "explainer = shap.TreeExplainer(model)\n",
    "shap_values = explainer.shap_values(X_test)\n",
    "\n",
    "# Create a SHAP explanation object\n",
    "shap_explanation = shap.Explanation(values=shap_values, data=X_train, feature_names=X_train.columns)\n",
    "\n",
    "# Generate SHAP summary plot\n",
    "shap.summary_plot(shap_values, X_test, plot_type=\"bar\")\n",
    "\n",
    "# Generate SHAP dependence plots\n",
    "co2.viz.plot_shap_dependence(\"ElectricRange\", \"MassRunningOrder\", shap_values, X_test, sample=0.05, save=True, format='png')\n",
    "co2.viz.plot_shap_dependence(\"ElectricRange\", \"FuelType_ELECTRIC\", shap_values, X_test, sample=0.05, save=True, format='png')\n",
    "co2.viz.plot_shap_dependence(\"BaseWheel\", \"EnginePower\", shap_values, X_test, sample=0.05, save=True, format='png')\n",
    "\n",
    "co2.viz.plot_shap_dependence(\"MassRunningOrder\", \"EnginePower\", shap_values, X_test, sample=0.05, save=True, format='png')\n",
    "\n",
    "# Visualize the first tree from the model\n",
    "xgb.to_graphviz(model, num_trees=0)\n",
    "\n",
    "co2.data.save_shap_values(shap_values, X_test)"
   ]
  },
  {
   "cell_type": "code",
   "execution_count": null,
   "metadata": {},
   "outputs": [
    {
     "data": {
      "text/plain": [
       "0.8769934526561693"
      ]
     },
     "execution_count": 9,
     "metadata": {},
     "output_type": "execute_result"
    }
   ],
   "source": [
    "# Récupération des prédictions\n",
    "\n",
    "# pred_test = model.predict(test)\n",
    "# pred_train = model.predict(train)\n",
    "\n",
    "#Entraînement du modèle\n",
    "sg_clf = LinearRegression()\n",
    "sg_clf.fit(X_train, pred_train)\n",
    "\n",
    "# Scores du modèle\n",
    "sg_clf.score(X_test, y_test)\n",
    "# print(classification_report(y_test, sg_clf.predict(X_test)))\n",
    "\n",
    "# #Comparaison des prédictions\n",
    "# print(sum(preds!=sg_clf.predict(X_train)))\n",
    "\n",
    "# # Comparaison des prédictions sur le jeu de test\n",
    "# probs = bst.predict(dtest)\n",
    "# preds = [0 if x<0.5 else 1 for x in probs]"
   ]
  }
 ],
 "metadata": {
  "kernelspec": {
   "display_name": "co2",
   "language": "python",
   "name": "python3"
  },
  "language_info": {
   "codemirror_mode": {
    "name": "ipython",
    "version": 3
   },
   "file_extension": ".py",
   "mimetype": "text/x-python",
   "name": "python",
   "nbconvert_exporter": "python",
   "pygments_lexer": "ipython3",
   "version": "3.9.18"
  }
 },
 "nbformat": 4,
 "nbformat_minor": 2
}

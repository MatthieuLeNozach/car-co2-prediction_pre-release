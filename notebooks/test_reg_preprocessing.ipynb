{
 "cells": [
  {
   "cell_type": "code",
   "execution_count": null,
   "metadata": {},
   "outputs": [],
   "source": [
    "import pandas as pd\n",
    "import kaggle\n",
    "import auto_co2 as co2\n",
    "import importlib\n",
    "importlib.reload(co2)"
   ]
  },
  {
   "cell_type": "code",
   "execution_count": null,
   "metadata": {},
   "outputs": [],
   "source": [
    "df = co2.data.load_co2_data()\n"
   ]
  },
  {
   "cell_type": "code",
   "execution_count": null,
   "metadata": {},
   "outputs": [],
   "source": [
    "df = co2.data.rename_columns(df)\n",
    "\n",
    "\n",
    "df = co2.data.ml_preprocessing(df,\n",
    "                               countries=['FR', 'DE'],\n",
    "                               rem_axlewidth=True,\n",
    "                               rem_fuel_consumption=True,\n",
    "                               rem_engine_capacity=True)\n",
    "print(df.info())\n",
    "co2.viz.plot_correlation_heatmap(df)\n",
    "df = co2.data.dummify_all_features(df)\n",
    "print(df.info())\n"
   ]
  }
 ],
 "metadata": {
  "language_info": {
   "name": "python"
  }
 },
 "nbformat": 4,
 "nbformat_minor": 2
}
